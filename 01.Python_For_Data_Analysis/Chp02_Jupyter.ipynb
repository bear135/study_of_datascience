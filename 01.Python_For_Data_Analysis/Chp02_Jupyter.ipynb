{
 "cells": [
  {
   "cell_type": "markdown",
   "metadata": {},
   "source": [
    "## 2장. 파이썬 언어의 기본, IPython, 주피터 노트북"
   ]
  },
  {
   "cell_type": "code",
   "execution_count": 2,
   "metadata": {},
   "outputs": [
    {
     "data": {
      "text/plain": [
       "{0: -0.979234548595539,\n",
       " 1: 0.24432656687388077,\n",
       " 2: -0.4941143164847488,\n",
       " 3: 0.4585001839533244,\n",
       " 4: -1.2495985288986602,\n",
       " 5: 0.5037656439755134,\n",
       " 6: -0.8887937967030929}"
      ]
     },
     "execution_count": 2,
     "metadata": {},
     "output_type": "execute_result"
    }
   ],
   "source": [
    "from numpy.random import randn \n",
    "data = {i:randn() for i in range(7)}\n",
    "data\n",
    "# print(data) 보다 data 명령이 보다 보기좋게 출력된다. "
   ]
  },
  {
   "cell_type": "code",
   "execution_count": 5,
   "metadata": {},
   "outputs": [],
   "source": [
    "b = [1,2,3]"
   ]
  },
  {
   "cell_type": "code",
   "execution_count": 6,
   "metadata": {},
   "outputs": [
    {
     "data": {
      "text/plain": [
       "\u001b[1;31mType:\u001b[0m        list\n",
       "\u001b[1;31mString form:\u001b[0m [1, 2, 3]\n",
       "\u001b[1;31mLength:\u001b[0m      3\n",
       "\u001b[1;31mDocstring:\u001b[0m  \n",
       "Built-in mutable sequence.\n",
       "\n",
       "If no argument is given, the constructor creates a new empty list.\n",
       "The argument must be an iterable if specified.\n"
      ]
     },
     "metadata": {},
     "output_type": "display_data"
    }
   ],
   "source": [
    "b?  #?는 해당 객체의 정보를 알려준다. "
   ]
  },
  {
   "cell_type": "code",
   "execution_count": 8,
   "metadata": {},
   "outputs": [
    {
     "data": {
      "text/plain": [
       "np.__loader__\n",
       "np.load\n",
       "np.loads\n",
       "np.loadtxt"
      ]
     },
     "metadata": {},
     "output_type": "display_data"
    }
   ],
   "source": [
    "import numpy as np\n",
    "np.*load*?  # 와일드 카드와 물음표 조합, \"load\"를 포함하는 넘파이 함수들을 알려준다. "
   ]
  },
  {
   "cell_type": "code",
   "execution_count": 24,
   "metadata": {},
   "outputs": [],
   "source": [
    "%run ipython_script_test.py   ## %run으로 기존의 py 스크립트를 실행시킬 수 있다. \n",
    "%load ipython_script_test.py  ## %load로 기존의 py 스크립트를 가져올 수 있다. "
   ]
  },
  {
   "cell_type": "code",
   "execution_count": 18,
   "metadata": {},
   "outputs": [],
   "source": [
    "# %load ipython_script_test.py  \n",
    "def f(x, y, z): \n",
    "    return (x + y) / z \n",
    "    a = 5 \n",
    "    b = 6 \n",
    "    c = 7.5 \n",
    "\n",
    "    result = f(a, b, c) "
   ]
  },
  {
   "cell_type": "code",
   "execution_count": 31,
   "metadata": {},
   "outputs": [
    {
     "data": {
      "text/plain": [
       "'C:\\\\Users\\\\youngboo.choi\\\\OneDrive - Doosan\\\\study_2020\\\\01.Python'"
      ]
     },
     "execution_count": 31,
     "metadata": {},
     "output_type": "execute_result"
    }
   ],
   "source": [
    "%pwd  #현재 작업 디렉토리 출력 "
   ]
  },
  {
   "cell_type": "code",
   "execution_count": 32,
   "metadata": {},
   "outputs": [
    {
     "data": {
      "text/plain": [
       "True"
      ]
     },
     "execution_count": 32,
     "metadata": {},
     "output_type": "execute_result"
    }
   ],
   "source": [
    "a = 5\n",
    "isinstance(a, int) #isinstance로 a가 정수인지 확인 "
   ]
  },
  {
   "cell_type": "code",
   "execution_count": 36,
   "metadata": {},
   "outputs": [
    {
     "data": {
      "text/plain": [
       "True"
      ]
     },
     "execution_count": 36,
     "metadata": {},
     "output_type": "execute_result"
    }
   ],
   "source": [
    "a = 5\n",
    "b = 4.5 \n",
    "isinstance(b, (int,float)) #b가 정수 또는 실수에 해당하는지 확인 "
   ]
  },
  {
   "cell_type": "code",
   "execution_count": 49,
   "metadata": {},
   "outputs": [
    {
     "name": "stdout",
     "output_type": "stream",
     "text": [
      "7 8.14159 3.14159\n"
     ]
    }
   ],
   "source": [
    "import some_module as sm    # 기존의 모듈(some_module)을 불러와 사용한다. \n",
    "result1 = sm.f(5)\n",
    "pi = sm.pi\n",
    "result2 = sm.g(5, pi)\n",
    "print(result1, result2, pi)\n",
    "\n",
    " #  pi = 3.14159\n",
    " #    def f(x): \n",
    " #       return x + 2 \n",
    " #    def g(a, b): \n",
    " #       return a + b "
   ]
  },
  {
   "cell_type": "code",
   "execution_count": 50,
   "metadata": {},
   "outputs": [
    {
     "data": {
      "text/plain": [
       "['foo', 2, (3, 4)]"
      ]
     },
     "execution_count": 50,
     "metadata": {},
     "output_type": "execute_result"
    }
   ],
   "source": [
    "a_list = ['foo', 2, [4,5]]\n",
    "a_list[2] = (3,4)  #리스트의 2번째 객체를 (3,4)로 변경 \n",
    "a_list"
   ]
  },
  {
   "cell_type": "code",
   "execution_count": 53,
   "metadata": {},
   "outputs": [
    {
     "data": {
      "text/plain": [
       "['P', 'y', 't', 'h', 'o', 'n']"
      ]
     },
     "execution_count": 53,
     "metadata": {},
     "output_type": "execute_result"
    }
   ],
   "source": [
    "s = \"Python\" \n",
    "list(s)"
   ]
  },
  {
   "cell_type": "code",
   "execution_count": 54,
   "metadata": {},
   "outputs": [
    {
     "data": {
      "text/plain": [
       "'Pyt'"
      ]
     },
     "execution_count": 54,
     "metadata": {},
     "output_type": "execute_result"
    }
   ],
   "source": [
    "s[0:3]  #0~3번째 객체만 출력하라 "
   ]
  },
  {
   "cell_type": "code",
   "execution_count": 61,
   "metadata": {},
   "outputs": [
    {
     "data": {
      "text/plain": [
       "'YB.Choi'"
      ]
     },
     "execution_count": 61,
     "metadata": {},
     "output_type": "execute_result"
    }
   ],
   "source": [
    "x = 'YB'\n",
    "y = '.'\n",
    "z = 'Choi'\n",
    "x + y + z   #문자열 더하기 "
   ]
  },
  {
   "cell_type": "code",
   "execution_count": 66,
   "metadata": {},
   "outputs": [
    {
     "name": "stdout",
     "output_type": "stream",
     "text": [
      "x is negative\n"
     ]
    }
   ],
   "source": [
    "x = -21      # if - elif - else문의 구조 \n",
    "if x < 0 : \n",
    "    print(\"x is negative\")\n",
    "elif x == 0 :\n",
    "    print(\"x is zero\")\n",
    "else :\n",
    "    print ('x is positive')"
   ]
  },
  {
   "cell_type": "code",
   "execution_count": 70,
   "metadata": {},
   "outputs": [
    {
     "data": {
      "text/plain": [
       "13"
      ]
     },
     "execution_count": 70,
     "metadata": {},
     "output_type": "execute_result"
    }
   ],
   "source": [
    "seq = [1,2,0,4,6,5,2,1]  # for문의 구조, 5가 나올때까지 계속 더하라 (-> 1+2+0+4+6 = 13) \n",
    "total_until_5 = 0 \n",
    "for value in seq : \n",
    "    if value == 5 : \n",
    "        break \n",
    "    total_until_5 += value\n",
    "\n",
    "total_until_5"
   ]
  },
  {
   "cell_type": "code",
   "execution_count": 77,
   "metadata": {},
   "outputs": [
    {
     "data": {
      "text/plain": [
       "([0, 2, 4, 6, 8, 10, 12, 14, 16, 18], [5, 4, 3, 2, 1])"
      ]
     },
     "execution_count": 77,
     "metadata": {},
     "output_type": "execute_result"
    }
   ],
   "source": [
    "a = list(range(0, 20, 2))  ## range함수, 0에서 20전까지 +2씩 \n",
    "b = list(range(5, 0, -1))  ## range함수, 5에서 1전까지 -1씩 \n",
    "print (a, b) "
   ]
  },
  {
   "cell_type": "code",
   "execution_count": 79,
   "metadata": {},
   "outputs": [
    {
     "name": "stdout",
     "output_type": "stream",
     "text": [
      "2333316668\n"
     ]
    }
   ],
   "source": [
    "sum = 0 \n",
    "for i in range(100000): \n",
    "    if i % 3 == 0 or i % 5 == 0 : \n",
    "        sum += i \n",
    "\n",
    "print(sum)   ## 1~10만까지에서, 3 또는 5의 배수를 모두 더하였다. "
   ]
  }
 ],
 "metadata": {
  "kernelspec": {
   "display_name": "Python 3",
   "language": "python",
   "name": "python3"
  },
  "language_info": {
   "codemirror_mode": {
    "name": "ipython",
    "version": 3
   },
   "file_extension": ".py",
   "mimetype": "text/x-python",
   "name": "python",
   "nbconvert_exporter": "python",
   "pygments_lexer": "ipython3",
   "version": "3.7.3"
  }
 },
 "nbformat": 4,
 "nbformat_minor": 4
}
