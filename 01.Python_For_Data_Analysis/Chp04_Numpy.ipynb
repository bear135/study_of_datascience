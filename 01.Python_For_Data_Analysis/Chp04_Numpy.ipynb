{
 "cells": [
  {
   "cell_type": "markdown",
   "metadata": {},
   "source": [
    "## 4장. Numpy 기본 : 배열과 벡터연산 "
   ]
  },
  {
   "cell_type": "code",
   "execution_count": 3,
   "metadata": {},
   "outputs": [],
   "source": [
    "# Numpy = Numerical Python, 일반 파이썬 배열계산에 비해 훨씬 빠르다. \n",
    "import numpy as np \n",
    "my_array = np.arange(1000000)\n",
    "my_list = list(range(1000000)) "
   ]
  },
  {
   "cell_type": "code",
   "execution_count": 6,
   "metadata": {},
   "outputs": [
    {
     "name": "stdout",
     "output_type": "stream",
     "text": [
      "Wall time: 26.9 ms\n"
     ]
    }
   ],
   "source": [
    "%time for _ in range(10) : my_array2 = my_array*2 "
   ]
  },
  {
   "cell_type": "code",
   "execution_count": 7,
   "metadata": {},
   "outputs": [
    {
     "name": "stdout",
     "output_type": "stream",
     "text": [
      "Wall time: 1.16 s\n"
     ]
    }
   ],
   "source": [
    "%time for _ in range(10) : my_list = [ x*2 for x in my_list]"
   ]
  },
  {
   "cell_type": "code",
   "execution_count": 8,
   "metadata": {},
   "outputs": [
    {
     "data": {
      "text/plain": [
       "array([[ 1.92186045,  0.0210223 , -0.46354935],\n",
       "       [ 0.26580822, -0.28907786,  0.25689328]])"
      ]
     },
     "execution_count": 8,
     "metadata": {},
     "output_type": "execute_result"
    }
   ],
   "source": [
    "# Numpy는 n차원 matrix(ndarray)를 기반으로 연산을 수행한다. \n",
    "data = np.random.randn(2, 3)  ## 2 x 3 matrix의 랜덤값 생성 \n",
    "data "
   ]
  },
  {
   "cell_type": "code",
   "execution_count": 9,
   "metadata": {},
   "outputs": [
    {
     "data": {
      "text/plain": [
       "array([[19.21860452,  0.21022299, -4.63549351],\n",
       "       [ 2.65808225, -2.8907786 ,  2.56893281]])"
      ]
     },
     "execution_count": 9,
     "metadata": {},
     "output_type": "execute_result"
    }
   ],
   "source": [
    "data * 10"
   ]
  },
  {
   "cell_type": "code",
   "execution_count": 10,
   "metadata": {},
   "outputs": [
    {
     "data": {
      "text/plain": [
       "array([[ 3.8437209 ,  0.0420446 , -0.9270987 ],\n",
       "       [ 0.53161645, -0.57815572,  0.51378656]])"
      ]
     },
     "execution_count": 10,
     "metadata": {},
     "output_type": "execute_result"
    }
   ],
   "source": [
    "data + data "
   ]
  },
  {
   "cell_type": "code",
   "execution_count": 13,
   "metadata": {},
   "outputs": [
    {
     "data": {
      "text/plain": [
       "array([[1, 2, 3, 4],\n",
       "       [5, 6, 7, 8]])"
      ]
     },
     "execution_count": 13,
     "metadata": {},
     "output_type": "execute_result"
    }
   ],
   "source": [
    "# np.array : list --> matrix로 변환 \n",
    "data2 = [[1,2,3,4],[5,6,7,8]]\n",
    "array_2 = np.array(data2)\n",
    "array_2"
   ]
  },
  {
   "cell_type": "code",
   "execution_count": 17,
   "metadata": {},
   "outputs": [
    {
     "data": {
      "text/plain": [
       "array([[0., 0., 0., 0.],\n",
       "       [0., 0., 0., 0.],\n",
       "       [0., 0., 0., 0.]])"
      ]
     },
     "execution_count": 17,
     "metadata": {},
     "output_type": "execute_result"
    }
   ],
   "source": [
    "np.zeros((3,4))     ## zeros : 0으로 구성된 n x n matrix 생성 "
   ]
  },
  {
   "cell_type": "code",
   "execution_count": 20,
   "metadata": {},
   "outputs": [
    {
     "data": {
      "text/plain": [
       "array([[1., 1., 1.],\n",
       "       [1., 1., 1.]])"
      ]
     },
     "execution_count": 20,
     "metadata": {},
     "output_type": "execute_result"
    }
   ],
   "source": [
    "np.ones((2,3))      ## ones : 1로 구성된 n x n matrix 생성 "
   ]
  },
  {
   "cell_type": "code",
   "execution_count": 23,
   "metadata": {},
   "outputs": [
    {
     "data": {
      "text/plain": [
       "array([0, 1, 2, 3, 4, 5, 6, 7, 8, 9])"
      ]
     },
     "execution_count": 23,
     "metadata": {},
     "output_type": "execute_result"
    }
   ],
   "source": [
    "arr = np.arange(10)  ## 0~10의 배열을 만들어라 \n",
    "arr"
   ]
  },
  {
   "cell_type": "code",
   "execution_count": 27,
   "metadata": {},
   "outputs": [
    {
     "data": {
      "text/plain": [
       "3"
      ]
     },
     "execution_count": 27,
     "metadata": {},
     "output_type": "execute_result"
    }
   ],
   "source": [
    "arr2 = np.array([[1,2,3], [4,5,6], [7,8,9]])\n",
    "# arr2[2]   ## --> 2번째 obj인 [7,8,9]를 돌려준다. \n",
    "arr2[0, 2]  ## --> 0번째 obj의 2번째 값인 3을 돌려준다. "
   ]
  },
  {
   "cell_type": "code",
   "execution_count": 28,
   "metadata": {},
   "outputs": [
    {
     "data": {
      "text/plain": [
       "array([0.        , 1.        , 1.41421356, 1.73205081, 2.        ,\n",
       "       2.23606798, 2.44948974, 2.64575131, 2.82842712, 3.        ])"
      ]
     },
     "execution_count": 28,
     "metadata": {},
     "output_type": "execute_result"
    }
   ],
   "source": [
    "np.sqrt(arr)  ## 제곱근 구하기 "
   ]
  },
  {
   "cell_type": "code",
   "execution_count": 29,
   "metadata": {},
   "outputs": [
    {
     "data": {
      "text/plain": [
       "array([1.00000000e+00, 2.71828183e+00, 7.38905610e+00, 2.00855369e+01,\n",
       "       5.45981500e+01, 1.48413159e+02, 4.03428793e+02, 1.09663316e+03,\n",
       "       2.98095799e+03, 8.10308393e+03])"
      ]
     },
     "execution_count": 29,
     "metadata": {},
     "output_type": "execute_result"
    }
   ],
   "source": [
    "np.exp(arr)   ## 지수 구하기  <ex> ln(x) = 4 --> x = exp(4) = 54.6 "
   ]
  },
  {
   "cell_type": "code",
   "execution_count": 32,
   "metadata": {},
   "outputs": [
    {
     "data": {
      "text/plain": [
       "array([-0.26295704,  0.10707413,  0.07944812,  1.86745761,  0.42964223,\n",
       "        1.21930368, -0.4240123 , -0.06250475,  0.53506673,  0.51547553])"
      ]
     },
     "execution_count": 32,
     "metadata": {},
     "output_type": "execute_result"
    }
   ],
   "source": [
    "x = np.random.randn(10)\n",
    "y = np.random.randn(10)\n",
    "np.maximum(x, y)     ## x, y matrix의 각 원소별 max값 구하기 \n",
    "# np.minimum(x, y)   ## x, y matrix의 각 원소별 min값 구하기"
   ]
  },
  {
   "cell_type": "code",
   "execution_count": 36,
   "metadata": {},
   "outputs": [
    {
     "data": {
      "text/plain": [
       "-1.5288395516461817"
      ]
     },
     "execution_count": 36,
     "metadata": {},
     "output_type": "execute_result"
    }
   ],
   "source": [
    "#np.sum(x)     ## x 각 원소들의 합계 \n",
    "#np.cumsum(x)  ## x 각 원소들의 누적 합계 \n",
    "#np.mean(x)    ## x 각 원소들의 mean\n",
    "#np.max(x)     ## x 각 원소들의 최대값\n",
    "#np.min(x)     ## x 각 원소들의 최소값\n",
    "#np.std(x)     ## x 각 원소들의 std\n",
    "#np.var(x)     ## x 각 원소들의 분산\n",
    "#np.log(x)     ## x 각 원소들의 log\n",
    "#np.log10(x)   ## x 각 원소들의 상용로그 \n",
    "#np.log2(x)    ## x 각 원소들의 log2x "
   ]
  },
  {
   "cell_type": "code",
   "execution_count": 39,
   "metadata": {},
   "outputs": [
    {
     "data": {
      "text/plain": [
       "array([-1.28603173, -0.78238111, -0.55279499,  0.06157974,  0.59598504,\n",
       "        0.59922705,  0.95854237,  2.77131665])"
      ]
     },
     "execution_count": 39,
     "metadata": {},
     "output_type": "execute_result"
    }
   ],
   "source": [
    "arr = np.random.randn(8)\n",
    "arr.sort()      # matrix 원소들을 정렬한다. \n",
    "arr"
   ]
  },
  {
   "cell_type": "code",
   "execution_count": 56,
   "metadata": {},
   "outputs": [
    {
     "data": {
      "text/plain": [
       "array([[-1.06280469,  0.60965566,  1.23363349],\n",
       "       [-0.63938328,  1.00523758, -0.10240919],\n",
       "       [-0.406943  ,  0.42405467,  0.77984667]])"
      ]
     },
     "execution_count": 56,
     "metadata": {},
     "output_type": "execute_result"
    }
   ],
   "source": [
    "arr = np.random.randn(3, 3)\n",
    "arr"
   ]
  },
  {
   "cell_type": "code",
   "execution_count": 57,
   "metadata": {},
   "outputs": [
    {
     "data": {
      "text/plain": [
       "array([[-1.06280469,  0.60965566,  1.23363349],\n",
       "       [-0.63938328, -0.10240919,  1.00523758],\n",
       "       [-0.406943  ,  0.42405467,  0.77984667]])"
      ]
     },
     "execution_count": 57,
     "metadata": {},
     "output_type": "execute_result"
    }
   ],
   "source": [
    "arr.sort()    # matrix 원소들을 정렬한다. (row 단위로)\n",
    "arr"
   ]
  },
  {
   "cell_type": "code",
   "execution_count": 59,
   "metadata": {},
   "outputs": [
    {
     "data": {
      "text/plain": [
       "array(['Bob', 'Joe', 'Will'], dtype='<U4')"
      ]
     },
     "execution_count": 59,
     "metadata": {},
     "output_type": "execute_result"
    }
   ],
   "source": [
    "names = np.array(['Bob', 'Joe', 'Will', 'Bob', 'Will', 'Joe', 'Joe'])\n",
    "np.unique(names)    ## unique : 중복제거 "
   ]
  },
  {
   "cell_type": "code",
   "execution_count": 61,
   "metadata": {},
   "outputs": [
    {
     "data": {
      "text/plain": [
       "array([1, 2, 3, 4])"
      ]
     },
     "execution_count": 61,
     "metadata": {},
     "output_type": "execute_result"
    }
   ],
   "source": [
    "ints = np.array([3,3,3,2,2,1,1,4,4])\n",
    "np.unique(ints)"
   ]
  },
  {
   "cell_type": "code",
   "execution_count": 10,
   "metadata": {},
   "outputs": [],
   "source": [
    "#dot : 행렬의 곱셉\n",
    "import numpy as np \n",
    "x = np.array([[1, 2, 3],[4, 5, 6]])\n",
    "y = np.array([[6, 23], [-1, 7], [8, 9]])"
   ]
  },
  {
   "cell_type": "code",
   "execution_count": 9,
   "metadata": {},
   "outputs": [
    {
     "data": {
      "text/plain": [
       "array([[ 28,  64],\n",
       "       [ 67, 181]])"
      ]
     },
     "execution_count": 9,
     "metadata": {},
     "output_type": "execute_result"
    }
   ],
   "source": [
    "x.dot(y)"
   ]
  },
  {
   "cell_type": "code",
   "execution_count": 11,
   "metadata": {},
   "outputs": [
    {
     "data": {
      "text/plain": [
       "array([[ 28,  64],\n",
       "       [ 67, 181]])"
      ]
     },
     "execution_count": 11,
     "metadata": {},
     "output_type": "execute_result"
    }
   ],
   "source": [
    "np.dot(x, y)"
   ]
  },
  {
   "cell_type": "code",
   "execution_count": 13,
   "metadata": {},
   "outputs": [
    {
     "data": {
      "text/plain": [
       "array([[ 0.26235057,  0.56384109,  0.08135265,  3.94720563],\n",
       "       [ 2.08289547, -0.63336121,  1.02510268,  1.60321131],\n",
       "       [-0.82804162,  0.51519883, -1.20270868,  1.15034402],\n",
       "       [ 0.33517078,  0.52496323, -0.70548093, -1.5769944 ]])"
      ]
     },
     "execution_count": 13,
     "metadata": {},
     "output_type": "execute_result"
    }
   ],
   "source": [
    "#내장 random모듈이 한번에 하나의 랜덤을 얻는데 비해, \n",
    "#np.random은 분포를 지정하고 그로부터 여러개의 랜덤을 빠르게 얻을 수 있다. \n",
    "sample = np.random.normal(size=(4,4))\n",
    "sample"
   ]
  },
  {
   "cell_type": "code",
   "execution_count": 14,
   "metadata": {},
   "outputs": [],
   "source": [
    "#난수 생성방법 \n",
    "# 1) randn : mean = 0, sd = 1인 정규분포 \n",
    "# 2) binomial : 이항분포 \n",
    "# 3) normal :정규분포 \n",
    "# 4) uniform : 균등분포 "
   ]
  },
  {
   "cell_type": "code",
   "execution_count": 31,
   "metadata": {},
   "outputs": [
    {
     "data": {
      "text/plain": [
       "array([[68.08965019, 49.78355012, 56.54119691, 66.68525405],\n",
       "       [63.15774519, 59.43329654, 58.61016777, 53.99698485],\n",
       "       [64.20767447, 52.89021286, 56.96765928, 65.77832763],\n",
       "       [65.22595362, 68.23373923, 57.80061478, 59.46854456]])"
      ]
     },
     "execution_count": 31,
     "metadata": {},
     "output_type": "execute_result"
    }
   ],
   "source": [
    "sample2 = np.random.normal(60, 5.4, size=(4,4))\n",
    "sample2"
   ]
  },
  {
   "cell_type": "code",
   "execution_count": 26,
   "metadata": {},
   "outputs": [
    {
     "data": {
      "text/plain": [
       "array([[1.41972344, 7.43983644, 9.34432814, 2.53974641],\n",
       "       [9.91160479, 2.04505491, 3.42327406, 4.5076238 ],\n",
       "       [2.25942325, 6.24949362, 5.66740866, 7.22760707],\n",
       "       [1.1629148 , 4.61783037, 7.74489821, 2.40901976]])"
      ]
     },
     "execution_count": 26,
     "metadata": {},
     "output_type": "execute_result"
    }
   ],
   "source": [
    "sample3 = np.random.uniform(1, 10, size=(4,4))\n",
    "sample3"
   ]
  }
 ],
 "metadata": {
  "kernelspec": {
   "display_name": "Python 3",
   "language": "python",
   "name": "python3"
  },
  "language_info": {
   "codemirror_mode": {
    "name": "ipython",
    "version": 3
   },
   "file_extension": ".py",
   "mimetype": "text/x-python",
   "name": "python",
   "nbconvert_exporter": "python",
   "pygments_lexer": "ipython3",
   "version": "3.7.3"
  }
 },
 "nbformat": 4,
 "nbformat_minor": 4
}
