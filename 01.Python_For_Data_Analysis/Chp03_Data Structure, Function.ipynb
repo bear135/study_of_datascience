{
 "cells": [
  {
   "cell_type": "markdown",
   "metadata": {},
   "source": [
    "## 3장. 내장 자료구조, 함수, 파일 "
   ]
  },
  {
   "cell_type": "code",
   "execution_count": 4,
   "metadata": {},
   "outputs": [
    {
     "name": "stdout",
     "output_type": "stream",
     "text": [
      "(4, 5, 6) ((4, 6, 7), (7, 9))\n"
     ]
    }
   ],
   "source": [
    "tup_1 = 4, 5, 6 \n",
    "tup_2 = (4,6,7), (7, 9) \n",
    "print(tup_1, tup_2)       ## 일반 튜플과 중첩된 튜플 "
   ]
  },
  {
   "cell_type": "code",
   "execution_count": 6,
   "metadata": {},
   "outputs": [
    {
     "data": {
      "text/plain": [
       "('foo', [1, 2, 3], True)"
      ]
     },
     "execution_count": 6,
     "metadata": {},
     "output_type": "execute_result"
    }
   ],
   "source": [
    "tup_3 = ('foo', [1, 2], True)\n",
    "tup_3[1].append(3)         ## 1번째 객체에 3을 추가하라. \n",
    "tup_3                      ## 튜플은 원래 수정이 불가하나, [1, 2]는 튜플내 오브젝트인 특수한 경우라 수정 가능했다. "
   ]
  },
  {
   "cell_type": "code",
   "execution_count": 10,
   "metadata": {},
   "outputs": [
    {
     "data": {
      "text/plain": [
       "(4, None, 'foo', 6, 0, 'Bar', 'Shop')"
      ]
     },
     "execution_count": 10,
     "metadata": {},
     "output_type": "execute_result"
    }
   ],
   "source": [
    "(4, None, 'foo') + (6, 0) + ('Bar', 'Shop')   ## 튜플도 연산 가능하다. "
   ]
  },
  {
   "cell_type": "code",
   "execution_count": 13,
   "metadata": {},
   "outputs": [
    {
     "name": "stdout",
     "output_type": "stream",
     "text": [
      "2 1\n"
     ]
    }
   ],
   "source": [
    "a, b = 1, 2 \n",
    "# print(a, b) = 1, 2\n",
    "b, a = a, b             ## a, b를 서로 바꿈 \n",
    "print(a,b)"
   ]
  },
  {
   "cell_type": "code",
   "execution_count": 18,
   "metadata": {},
   "outputs": [
    {
     "name": "stdout",
     "output_type": "stream",
     "text": [
      "a=1, b=2, c=3\n",
      "a=4, b=5, c=6\n",
      "a=7, b=8, c=9\n"
     ]
    }
   ],
   "source": [
    "seq = [(1,2,3), (4,5,6), (7,8,9)]\n",
    "for a, b, c in seq : \n",
    "    print('a={0}, b={1}, c={2}'.format(a, b, c))   ## 각 0, 1, 2번째 값을 a, b, c에 할당하라.  "
   ]
  },
  {
   "cell_type": "code",
   "execution_count": 20,
   "metadata": {},
   "outputs": [
    {
     "data": {
      "text/plain": [
       "5"
      ]
     },
     "execution_count": 20,
     "metadata": {},
     "output_type": "execute_result"
    }
   ],
   "source": [
    "a = (1, 2, 2, 2, 3, 2, 4, 2)\n",
    "a.count(2)    # a에서 2가 몇개 있는지 알려준다. "
   ]
  },
  {
   "cell_type": "code",
   "execution_count": 22,
   "metadata": {},
   "outputs": [
    {
     "data": {
      "text/plain": [
       "['foo', 'peekaboo', 'baz', 'dwarf', 'red']"
      ]
     },
     "execution_count": 22,
     "metadata": {},
     "output_type": "execute_result"
    }
   ],
   "source": [
    "b_list = ['foo', 'peekaboo', 'baz', 'dwarf']\n",
    "b_list.append('red')    ## append로 덧붙이기 \n",
    "b_list"
   ]
  },
  {
   "cell_type": "code",
   "execution_count": 24,
   "metadata": {},
   "outputs": [
    {
     "data": {
      "text/plain": [
       "['foo', 'black', 'black', 'peekaboo', 'baz', 'dwarf', 'red']"
      ]
     },
     "execution_count": 24,
     "metadata": {},
     "output_type": "execute_result"
    }
   ],
   "source": [
    "b_list.insert(1, 'black')   ## insert로 특정위치에 삽입 \n",
    "b_list                   "
   ]
  },
  {
   "cell_type": "code",
   "execution_count": 25,
   "metadata": {},
   "outputs": [
    {
     "data": {
      "text/plain": [
       "['foo', 'black', 'peekaboo', 'baz', 'dwarf', 'red']"
      ]
     },
     "execution_count": 25,
     "metadata": {},
     "output_type": "execute_result"
    }
   ],
   "source": [
    "b_list.pop(2)    # pop로 두번째 값을 제거 \n",
    "b_list"
   ]
  },
  {
   "cell_type": "code",
   "execution_count": 26,
   "metadata": {},
   "outputs": [
    {
     "data": {
      "text/plain": [
       "['black', 'peekaboo', 'baz', 'dwarf', 'red']"
      ]
     },
     "execution_count": 26,
     "metadata": {},
     "output_type": "execute_result"
    }
   ],
   "source": [
    "b_list.remove('foo')  # 값을 제거함, 1개 이상일 경우 앞의 것을 지운다. \n",
    "b_list "
   ]
  },
  {
   "cell_type": "code",
   "execution_count": 1,
   "metadata": {},
   "outputs": [
    {
     "data": {
      "text/plain": [
       "[4, None, 'foo', 7, 8, (2, 3)]"
      ]
     },
     "execution_count": 1,
     "metadata": {},
     "output_type": "execute_result"
    }
   ],
   "source": [
    "x = [4, None, 'foo']\n",
    "y = [7, 8, (2, 3)] \n",
    "# x + y와 x.extend(y)는 결과가 같다. 연산속도는 extend가 좀더 빠르다. \n",
    "x.extend(y)\n",
    "x"
   ]
  },
  {
   "cell_type": "code",
   "execution_count": 39,
   "metadata": {},
   "outputs": [
    {
     "name": "stdout",
     "output_type": "stream",
     "text": [
      "[1, 2, 3, 5, 7] ['He', 'saw', 'Fox', 'six', 'small'] [8, 5, 4, 2, 2]\n"
     ]
    }
   ],
   "source": [
    "a = [7, 2, 5, 1, 3]\n",
    "b = ['saw', 'small', 'He', 'Fox', 'six']\n",
    "c = [4, 2, 5, 8, 2]\n",
    "a.sort()\n",
    "b.sort(key=len)  # 길이순으로 정렬하라. \n",
    "c.sort(reverse=True)\n",
    "print(a, b, c)"
   ]
  },
  {
   "cell_type": "code",
   "execution_count": 5,
   "metadata": {},
   "outputs": [
    {
     "data": {
      "text/plain": [
       "['a', 'Andrew', 'from', 'is', 'string', 'test', 'This']"
      ]
     },
     "execution_count": 5,
     "metadata": {},
     "output_type": "execute_result"
    }
   ],
   "source": [
    "## sort는 리스트 함수에만 사용할 수 있지만, sorted는 어디나 적용된다. \n",
    "## 문장을 공백 기준으로 분리하여, 알파벳 순서대로 정렬하기 예제 \n",
    "sorted(\"This is a test string from Andrew\".split(), key=str.lower)"
   ]
  },
  {
   "cell_type": "code",
   "execution_count": 12,
   "metadata": {},
   "outputs": [],
   "source": [
    "## Slicing (1) \n",
    "seq = [7, 2, 3, 7, 5, 6, 0, 1]"
   ]
  },
  {
   "cell_type": "code",
   "execution_count": 7,
   "metadata": {},
   "outputs": [
    {
     "data": {
      "text/plain": [
       "[2, 3, 7, 5]"
      ]
     },
     "execution_count": 7,
     "metadata": {},
     "output_type": "execute_result"
    }
   ],
   "source": [
    "seq[1:5]  # 1번째 부터 5번째 전까지만 추출 (마지막은 불포함한다)"
   ]
  },
  {
   "cell_type": "code",
   "execution_count": 13,
   "metadata": {},
   "outputs": [
    {
     "data": {
      "text/plain": [
       "[7, 2, 3, 6, 3, 5, 6, 0, 1]"
      ]
     },
     "execution_count": 13,
     "metadata": {},
     "output_type": "execute_result"
    }
   ],
   "source": [
    "seq[3:4] = [6, 3]  #3~4번에 해당하는 7을 6,3으로 대체\n",
    "seq"
   ]
  },
  {
   "cell_type": "code",
   "execution_count": 19,
   "metadata": {},
   "outputs": [],
   "source": [
    "## Slicing (2) \n",
    "seq = [7, 2, 3, 4, 5, 6, 0, 1]"
   ]
  },
  {
   "cell_type": "code",
   "execution_count": 20,
   "metadata": {},
   "outputs": [
    {
     "data": {
      "text/plain": [
       "[7, 2, 3, 4, 5]"
      ]
     },
     "execution_count": 20,
     "metadata": {},
     "output_type": "execute_result"
    }
   ],
   "source": [
    "seq[:5] #인덱스의 start/end를 생략하면 처음 또는 마지막으로 간주 )"
   ]
  },
  {
   "cell_type": "code",
   "execution_count": 21,
   "metadata": {},
   "outputs": [
    {
     "data": {
      "text/plain": [
       "[4, 5, 6, 0, 1]"
      ]
     },
     "execution_count": 21,
     "metadata": {},
     "output_type": "execute_result"
    }
   ],
   "source": [
    "seq[3:]"
   ]
  },
  {
   "cell_type": "code",
   "execution_count": 22,
   "metadata": {},
   "outputs": [
    {
     "data": {
      "text/plain": [
       "[5, 6, 0, 1]"
      ]
     },
     "execution_count": 22,
     "metadata": {},
     "output_type": "execute_result"
    }
   ],
   "source": [
    "seq[-4:]  #음수도 사용 가능, 이때는 맨 우측이 -1"
   ]
  },
  {
   "cell_type": "code",
   "execution_count": 23,
   "metadata": {},
   "outputs": [
    {
     "data": {
      "text/plain": [
       "[7, 3, 5, 0]"
      ]
     },
     "execution_count": 23,
     "metadata": {},
     "output_type": "execute_result"
    }
   ],
   "source": [
    "seq[::2]  #2개씩 건너뛰기"
   ]
  },
  {
   "cell_type": "code",
   "execution_count": 24,
   "metadata": {},
   "outputs": [
    {
     "data": {
      "text/plain": [
       "[1, 0, 6, 5, 4, 3, 2, 7]"
      ]
     },
     "execution_count": 24,
     "metadata": {},
     "output_type": "execute_result"
    }
   ],
   "source": [
    "seq[::-1] #뒤집기"
   ]
  },
  {
   "cell_type": "code",
   "execution_count": 29,
   "metadata": {},
   "outputs": [
    {
     "name": "stdout",
     "output_type": "stream",
     "text": [
      "{'USA': 0, 'UK': 1, 'Germany': 2, 'Japan': 3, 'China': 4, 'Thai': 5}\n"
     ]
    }
   ],
   "source": [
    "# enumerate 함수는 튜플/리스트의 인덱스를 쉽게 가져다 준다. \n",
    "some_list = [\"USA\", \"UK\", \"Germany\", \"Japan\", \"China\", \"Thai\"]\n",
    "mapping = {}\n",
    "\n",
    "for i, v in enumerate(some_list) : \n",
    "    mapping[v] = i \n",
    "\n",
    "print(mapping)"
   ]
  },
  {
   "cell_type": "code",
   "execution_count": 30,
   "metadata": {},
   "outputs": [
    {
     "name": "stdout",
     "output_type": "stream",
     "text": [
      "[0, 0, 1, 2, 3, 6, 7] [' ', 'C', 'T', 'a', 'e', 'e', 'h', 'i', 'm', 'r', 'r', 's', 's', 't']\n"
     ]
    }
   ],
   "source": [
    "# sorted 함수: 값을 정렬한다. \n",
    "a = sorted([7, 1, 2, 6, 0, 3, 0])\n",
    "b = sorted('Christmas Tree')     # 공백 > 대문자 알파벳순 > 소문자 알파벳순으로 정렬 \n",
    "print(a, b)"
   ]
  },
  {
   "cell_type": "code",
   "execution_count": 35,
   "metadata": {},
   "outputs": [
    {
     "data": {
      "text/plain": [
       "[('America', 'USA', 'Washington'),\n",
       " ('Europe', 'UK', 'London'),\n",
       " ('Europe', 'Germany', 'Berlin'),\n",
       " ('Asia', 'Japan', 'Tokyo'),\n",
       " ('Asia', 'China', 'Beijing'),\n",
       " ('Asia', 'Thai', 'Bangkok')]"
      ]
     },
     "execution_count": 35,
     "metadata": {},
     "output_type": "execute_result"
    }
   ],
   "source": [
    "#Zip 함수: 여러개의 튜플/리스트를 짝지운다. \n",
    "continent = [\"America\", \"Europe\", \"Europe\", \"Asia\", \"Asia\", \"Asia\"] \n",
    "nation = [\"USA\", \"UK\", \"Germany\", \"Japan\", \"China\", \"Thai\"]\n",
    "city = [\"Washington\", \"London\", \"Berlin\", \"Tokyo\", \"Beijing\", \"Bangkok\"]\n",
    "list(zip(continent, nation, city))"
   ]
  },
  {
   "cell_type": "code",
   "execution_count": 39,
   "metadata": {},
   "outputs": [
    {
     "data": {
      "text/plain": [
       "[9, 8, 7, 6, 5, 4, 3, 2, 1, 0]"
      ]
     },
     "execution_count": 39,
     "metadata": {},
     "output_type": "execute_result"
    }
   ],
   "source": [
    "#reversed 함수: 역순으로 바꾼다. \n",
    "list(range(10))  # [0, 1, 2, 3, 4, 5, 6, 7, 8, 9] \n",
    "list(reversed(range(10)))"
   ]
  },
  {
   "cell_type": "code",
   "execution_count": 49,
   "metadata": {},
   "outputs": [],
   "source": [
    "#dict(사전): key-value를 묶어서 저장한다. \n",
    "dict_1 = {'a':'some value', 'b':'[1,2,3,4]'}   # ex. a라는 키값에 some value라는 값을 지정한다. "
   ]
  },
  {
   "cell_type": "code",
   "execution_count": 51,
   "metadata": {},
   "outputs": [
    {
     "data": {
      "text/plain": [
       "{'a': 'some value', 'b': '[1,2,3,4]', 'c': 'new value'}"
      ]
     },
     "execution_count": 51,
     "metadata": {},
     "output_type": "execute_result"
    }
   ],
   "source": [
    "dict_1['c'] = 'new value'   # ex. 새로운 키값 c를 생성하고 new value라는 값을 지정한다.\n",
    "dict_1"
   ]
  },
  {
   "cell_type": "code",
   "execution_count": 52,
   "metadata": {},
   "outputs": [
    {
     "data": {
      "text/plain": [
       "'[1,2,3,4]'"
      ]
     },
     "execution_count": 52,
     "metadata": {},
     "output_type": "execute_result"
    }
   ],
   "source": [
    "dict_1['b']   # 사전에서 b를 찾아서 어떤 값인지 알려준다. "
   ]
  },
  {
   "cell_type": "code",
   "execution_count": 53,
   "metadata": {},
   "outputs": [
    {
     "data": {
      "text/plain": [
       "{0: 4, 1: 3, 2: 2, 3: 1, 4: 0}"
      ]
     },
     "execution_count": 53,
     "metadata": {},
     "output_type": "execute_result"
    }
   ],
   "source": [
    "mapping = dict(zip(range(5), reversed(range(5))))\n",
    "mapping"
   ]
  },
  {
   "cell_type": "code",
   "execution_count": 1,
   "metadata": {},
   "outputs": [
    {
     "data": {
      "text/plain": [
       "{1, 2, 3}"
      ]
     },
     "execution_count": 1,
     "metadata": {},
     "output_type": "execute_result"
    }
   ],
   "source": [
    "# 집합(set)은 {}로 표현하며, {}안의 중복된 값은 자동으로 제거한다. \n",
    "{2,2,2,1,3,3}"
   ]
  },
  {
   "cell_type": "code",
   "execution_count": 6,
   "metadata": {},
   "outputs": [
    {
     "data": {
      "text/plain": [
       "{6, 7, 8}"
      ]
     },
     "execution_count": 6,
     "metadata": {},
     "output_type": "execute_result"
    }
   ],
   "source": [
    "# 집합의 연산 ~ (1) a | b : 합집합, (2) a & b : 교집합, (3) a-c : 차집합\n",
    "a = {1,2,3,4,5}\n",
    "b = {3,4,5,6,7,8}\n",
    "\n",
    "#a | b   ## --> {1, 2, 3, 4, 5, 6, 7, 8}\n",
    "#a & b   ## --> {3, 4, 5}\n",
    "(a | b) - a     ## --> {6, 7, 8}"
   ]
  },
  {
   "cell_type": "code",
   "execution_count": 8,
   "metadata": {},
   "outputs": [
    {
     "data": {
      "text/plain": [
       "0.07272727272727274"
      ]
     },
     "execution_count": 8,
     "metadata": {},
     "output_type": "execute_result"
    }
   ],
   "source": [
    "# 함수는 def로 정의하고, return으로 값을 반환한다. \n",
    "def my_function(x, y, z) : \n",
    "    if z > 1 : \n",
    "        return z*(x+y) \n",
    "    else : \n",
    "        return z/(x+y) \n",
    "\n",
    "my_function(5, 6, 0.8)"
   ]
  },
  {
   "cell_type": "code",
   "execution_count": 1,
   "metadata": {},
   "outputs": [
    {
     "data": {
      "text/plain": [
       "(11, 25, 35)"
      ]
     },
     "execution_count": 1,
     "metadata": {},
     "output_type": "execute_result"
    }
   ],
   "source": [
    "# 하나의 함수가 여러개의 값을 반환할 수 있다. \n",
    "def f1() : \n",
    "    a = 11 \n",
    "    b = 25\n",
    "    c = 35\n",
    "    return a, b, c \n",
    "\n",
    "a, b, c = f1()\n",
    "f1()"
   ]
  },
  {
   "cell_type": "code",
   "execution_count": 5,
   "metadata": {},
   "outputs": [],
   "source": [
    "# 문자열 데이터 전처리 \n",
    "states = ['Alabama', 'Georgia!', 'Geogia', 'geogia', 'FlOrIda','southcarolina##', 'West virginia?' ]\n",
    "\n",
    "import re    # re: regular expression \n",
    "\n",
    "def clean_strings(strings): \n",
    "    result = []\n",
    "    for value in strings : \n",
    "        value = value.strip()     ##공백제거 \n",
    "        value = value.title()     ##첫 글자만 대문자로 \n",
    "        value = re.sub('[!#?]', '', value)   ##특수문자 제거 \n",
    "        result.append(value)\n",
    "    return result "
   ]
  },
  {
   "cell_type": "code",
   "execution_count": 6,
   "metadata": {},
   "outputs": [
    {
     "data": {
      "text/plain": [
       "['Alabama',\n",
       " 'Georgia',\n",
       " 'Geogia',\n",
       " 'Geogia',\n",
       " 'Florida',\n",
       " 'Southcarolina',\n",
       " 'West Virginia']"
      ]
     },
     "execution_count": 6,
     "metadata": {},
     "output_type": "execute_result"
    }
   ],
   "source": [
    "clean_strings(states)"
   ]
  },
  {
   "cell_type": "code",
   "execution_count": 11,
   "metadata": {},
   "outputs": [
    {
     "data": {
      "text/plain": [
       "1.2354"
      ]
     },
     "execution_count": 11,
     "metadata": {},
     "output_type": "execute_result"
    }
   ],
   "source": [
    "# error 입력 시 함수변환 제외하고 원래의 값 출력 \n",
    "def attempt_float(x) : \n",
    "    try: \n",
    "        return float(x) \n",
    "    except: \n",
    "        return x      \n",
    "\n",
    "attempt_float ('1.2354')   ## --> 1.2354 "
   ]
  },
  {
   "cell_type": "code",
   "execution_count": 10,
   "metadata": {},
   "outputs": [
    {
     "data": {
      "text/plain": [
       "'some'"
      ]
     },
     "execution_count": 10,
     "metadata": {},
     "output_type": "execute_result"
    }
   ],
   "source": [
    "#float('some')\n",
    "attempt_float ('some')      ## --> some \n",
    "########### 'some'을 실수(float)으로 변환할 수 없으므로 에러가 출력되어야 하나, 함수의 try/except 조건에 의해 원래의 값을 출력하였음"
   ]
  },
  {
   "cell_type": "code",
   "execution_count": null,
   "metadata": {},
   "outputs": [],
   "source": []
  }
 ],
 "metadata": {
  "kernelspec": {
   "display_name": "Python 3",
   "language": "python",
   "name": "python3"
  },
  "language_info": {
   "codemirror_mode": {
    "name": "ipython",
    "version": 3
   },
   "file_extension": ".py",
   "mimetype": "text/x-python",
   "name": "python",
   "nbconvert_exporter": "python",
   "pygments_lexer": "ipython3",
   "version": "3.7.3"
  }
 },
 "nbformat": 4,
 "nbformat_minor": 4
}
