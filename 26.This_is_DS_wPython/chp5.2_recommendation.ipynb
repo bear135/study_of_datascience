{
 "cells": [
  {
   "cell_type": "markdown",
   "id": "fca09700-84f6-4955-b879-5056f5c10a2c",
   "metadata": {},
   "source": [
    "### Chapter 5.2_recommendation"
   ]
  },
  {
   "cell_type": "markdown",
   "id": "44938910-d4e9-430a-bbe8-cb4ad4f4289d",
   "metadata": {},
   "source": [
    "#### < UK Retail dataset >\n",
    "\n",
    "- InvoiceNo : 거래 고유 번호 \n",
    "- StockCode : 상품 고유 번호\n",
    "- Description : 상품명\n",
    "- Quantity : 거래 수량\n",
    "- InvoiceDate : 거래 일시\n",
    "- UnitPrice : 상품 단가\n",
    "- CustomerID : 구매자 고유 번호\n",
    "- Country : 구매 국가"
   ]
  },
  {
   "cell_type": "code",
   "execution_count": 1,
   "id": "059d342c-8b02-448a-9fcf-075a5c281a3f",
   "metadata": {},
   "outputs": [],
   "source": [
    "import numpy as np \n",
    "import pandas as pd \n",
    "import matplotlib.pyplot as plt \n",
    "import seaborn as sns\n",
    "\n",
    "import warnings \n",
    "warnings.filterwarnings(\"ignore\")"
   ]
  },
  {
   "cell_type": "code",
   "execution_count": 2,
   "id": "f4bda5e5-5522-4361-a16d-6682c26fa9a4",
   "metadata": {},
   "outputs": [
    {
     "name": "stdout",
     "output_type": "stream",
     "text": [
      "<class 'pandas.core.frame.DataFrame'>\n",
      "RangeIndex: 541909 entries, 0 to 541908\n",
      "Data columns (total 8 columns):\n",
      " #   Column       Non-Null Count   Dtype         \n",
      "---  ------       --------------   -----         \n",
      " 0   InvoiceNo    541909 non-null  object        \n",
      " 1   StockCode    541909 non-null  object        \n",
      " 2   Description  540455 non-null  object        \n",
      " 3   Quantity     541909 non-null  int64         \n",
      " 4   InvoiceDate  541909 non-null  datetime64[ns]\n",
      " 5   UnitPrice    541909 non-null  float64       \n",
      " 6   CustomerID   406829 non-null  object        \n",
      " 7   Country      541909 non-null  object        \n",
      "dtypes: datetime64[ns](1), float64(1), int64(1), object(5)\n",
      "memory usage: 33.1+ MB\n",
      "None\n"
     ]
    },
    {
     "data": {
      "text/html": [
       "<div>\n",
       "<style scoped>\n",
       "    .dataframe tbody tr th:only-of-type {\n",
       "        vertical-align: middle;\n",
       "    }\n",
       "\n",
       "    .dataframe tbody tr th {\n",
       "        vertical-align: top;\n",
       "    }\n",
       "\n",
       "    .dataframe thead th {\n",
       "        text-align: right;\n",
       "    }\n",
       "</style>\n",
       "<table border=\"1\" class=\"dataframe\">\n",
       "  <thead>\n",
       "    <tr style=\"text-align: right;\">\n",
       "      <th></th>\n",
       "      <th>InvoiceNo</th>\n",
       "      <th>StockCode</th>\n",
       "      <th>Description</th>\n",
       "      <th>Quantity</th>\n",
       "      <th>InvoiceDate</th>\n",
       "      <th>UnitPrice</th>\n",
       "      <th>CustomerID</th>\n",
       "      <th>Country</th>\n",
       "    </tr>\n",
       "  </thead>\n",
       "  <tbody>\n",
       "    <tr>\n",
       "      <th>0</th>\n",
       "      <td>536365</td>\n",
       "      <td>85123A</td>\n",
       "      <td>WHITE HANGING HEART T-LIGHT HOLDER</td>\n",
       "      <td>6</td>\n",
       "      <td>2010-12-01 08:26:00</td>\n",
       "      <td>2.55</td>\n",
       "      <td>17850</td>\n",
       "      <td>United Kingdom</td>\n",
       "    </tr>\n",
       "    <tr>\n",
       "      <th>1</th>\n",
       "      <td>536365</td>\n",
       "      <td>71053</td>\n",
       "      <td>WHITE METAL LANTERN</td>\n",
       "      <td>6</td>\n",
       "      <td>2010-12-01 08:26:00</td>\n",
       "      <td>3.39</td>\n",
       "      <td>17850</td>\n",
       "      <td>United Kingdom</td>\n",
       "    </tr>\n",
       "    <tr>\n",
       "      <th>2</th>\n",
       "      <td>536365</td>\n",
       "      <td>84406B</td>\n",
       "      <td>CREAM CUPID HEARTS COAT HANGER</td>\n",
       "      <td>8</td>\n",
       "      <td>2010-12-01 08:26:00</td>\n",
       "      <td>2.75</td>\n",
       "      <td>17850</td>\n",
       "      <td>United Kingdom</td>\n",
       "    </tr>\n",
       "    <tr>\n",
       "      <th>3</th>\n",
       "      <td>536365</td>\n",
       "      <td>84029G</td>\n",
       "      <td>KNITTED UNION FLAG HOT WATER BOTTLE</td>\n",
       "      <td>6</td>\n",
       "      <td>2010-12-01 08:26:00</td>\n",
       "      <td>3.39</td>\n",
       "      <td>17850</td>\n",
       "      <td>United Kingdom</td>\n",
       "    </tr>\n",
       "    <tr>\n",
       "      <th>4</th>\n",
       "      <td>536365</td>\n",
       "      <td>84029E</td>\n",
       "      <td>RED WOOLLY HOTTIE WHITE HEART.</td>\n",
       "      <td>6</td>\n",
       "      <td>2010-12-01 08:26:00</td>\n",
       "      <td>3.39</td>\n",
       "      <td>17850</td>\n",
       "      <td>United Kingdom</td>\n",
       "    </tr>\n",
       "  </tbody>\n",
       "</table>\n",
       "</div>"
      ],
      "text/plain": [
       "  InvoiceNo StockCode                          Description  Quantity  \\\n",
       "0    536365    85123A   WHITE HANGING HEART T-LIGHT HOLDER         6   \n",
       "1    536365     71053                  WHITE METAL LANTERN         6   \n",
       "2    536365    84406B       CREAM CUPID HEARTS COAT HANGER         8   \n",
       "3    536365    84029G  KNITTED UNION FLAG HOT WATER BOTTLE         6   \n",
       "4    536365    84029E       RED WOOLLY HOTTIE WHITE HEART.         6   \n",
       "\n",
       "          InvoiceDate  UnitPrice CustomerID         Country  \n",
       "0 2010-12-01 08:26:00       2.55      17850  United Kingdom  \n",
       "1 2010-12-01 08:26:00       3.39      17850  United Kingdom  \n",
       "2 2010-12-01 08:26:00       2.75      17850  United Kingdom  \n",
       "3 2010-12-01 08:26:00       3.39      17850  United Kingdom  \n",
       "4 2010-12-01 08:26:00       3.39      17850  United Kingdom  "
      ]
     },
     "execution_count": 2,
     "metadata": {},
     "output_type": "execute_result"
    }
   ],
   "source": [
    "df = pd.read_csv('data/online_retail.csv', \n",
    "                 dtype = {'CustomerID': str, 'InvoiceNo': str}, \n",
    "                 encoding = 'ISO-8859-1')\n",
    "\n",
    "df['InvoiceDate'] = pd.to_datetime(df['InvoiceDate'], format=\"%m/%d/%Y %H:%M\")\n",
    "\n",
    "print(df.info())\n",
    "df.head()"
   ]
  },
  {
   "cell_type": "code",
   "execution_count": 3,
   "id": "64baa678-9f5c-49c1-9e5d-c279950b9033",
   "metadata": {},
   "outputs": [
    {
     "name": "stdout",
     "output_type": "stream",
     "text": [
      "InvoiceNo           0\n",
      "StockCode           0\n",
      "Description      1454\n",
      "Quantity            0\n",
      "InvoiceDate         0\n",
      "UnitPrice           0\n",
      "CustomerID     135080\n",
      "Country             0\n",
      "dtype: int64\n",
      "----------------------------\n",
      "(541909, 8)\n",
      "----------------------------\n",
      "InvoiceNo      0\n",
      "StockCode      0\n",
      "Description    0\n",
      "Quantity       0\n",
      "InvoiceDate    0\n",
      "UnitPrice      0\n",
      "CustomerID     0\n",
      "Country        0\n",
      "dtype: int64\n",
      "----------------------------\n",
      "(406829, 8)\n"
     ]
    }
   ],
   "source": [
    "### 결측치 제거 \n",
    "print(df.isnull().sum())\n",
    "print('----------------------------')\n",
    "print(df.shape)\n",
    "print('----------------------------')\n",
    "\n",
    "df = df.dropna()\n",
    "print(df.isnull().sum())\n",
    "print('----------------------------')\n",
    "print(df.shape)"
   ]
  },
  {
   "cell_type": "code",
   "execution_count": 4,
   "id": "c07402e6-b501-48d6-9976-d0a0aa3187a5",
   "metadata": {},
   "outputs": [],
   "source": [
    "### 이상값 제거 \n",
    "df = df[df['Quantity']>0]    ## 판매량이 0 이하 제거 \n",
    "df = df[df['UnitPrice']>0]   ## 가격이 0 이하 제거 "
   ]
  },
  {
   "cell_type": "code",
   "execution_count": 5,
   "id": "e69bd86f-e9c6-4060-b0f4-310db2e34649",
   "metadata": {},
   "outputs": [
    {
     "data": {
      "text/html": [
       "<div>\n",
       "<style scoped>\n",
       "    .dataframe tbody tr th:only-of-type {\n",
       "        vertical-align: middle;\n",
       "    }\n",
       "\n",
       "    .dataframe tbody tr th {\n",
       "        vertical-align: top;\n",
       "    }\n",
       "\n",
       "    .dataframe thead th {\n",
       "        text-align: right;\n",
       "    }\n",
       "</style>\n",
       "<table border=\"1\" class=\"dataframe\">\n",
       "  <thead>\n",
       "    <tr style=\"text-align: right;\">\n",
       "      <th></th>\n",
       "      <th>InvoiceNo</th>\n",
       "      <th>StockCode</th>\n",
       "      <th>Description</th>\n",
       "      <th>Quantity</th>\n",
       "      <th>InvoiceDate</th>\n",
       "      <th>UnitPrice</th>\n",
       "      <th>CustomerID</th>\n",
       "      <th>Country</th>\n",
       "      <th>ContainDigit</th>\n",
       "    </tr>\n",
       "  </thead>\n",
       "  <tbody>\n",
       "    <tr>\n",
       "      <th>45</th>\n",
       "      <td>536370</td>\n",
       "      <td>POST</td>\n",
       "      <td>POSTAGE</td>\n",
       "      <td>3</td>\n",
       "      <td>2010-12-01 08:45:00</td>\n",
       "      <td>18.00</td>\n",
       "      <td>12583</td>\n",
       "      <td>France</td>\n",
       "      <td>False</td>\n",
       "    </tr>\n",
       "    <tr>\n",
       "      <th>386</th>\n",
       "      <td>536403</td>\n",
       "      <td>POST</td>\n",
       "      <td>POSTAGE</td>\n",
       "      <td>1</td>\n",
       "      <td>2010-12-01 11:27:00</td>\n",
       "      <td>15.00</td>\n",
       "      <td>12791</td>\n",
       "      <td>Netherlands</td>\n",
       "      <td>False</td>\n",
       "    </tr>\n",
       "    <tr>\n",
       "      <th>1123</th>\n",
       "      <td>536527</td>\n",
       "      <td>POST</td>\n",
       "      <td>POSTAGE</td>\n",
       "      <td>1</td>\n",
       "      <td>2010-12-01 13:04:00</td>\n",
       "      <td>18.00</td>\n",
       "      <td>12662</td>\n",
       "      <td>Germany</td>\n",
       "      <td>False</td>\n",
       "    </tr>\n",
       "    <tr>\n",
       "      <th>2239</th>\n",
       "      <td>536569</td>\n",
       "      <td>M</td>\n",
       "      <td>Manual</td>\n",
       "      <td>1</td>\n",
       "      <td>2010-12-01 15:35:00</td>\n",
       "      <td>1.25</td>\n",
       "      <td>16274</td>\n",
       "      <td>United Kingdom</td>\n",
       "      <td>False</td>\n",
       "    </tr>\n",
       "    <tr>\n",
       "      <th>2250</th>\n",
       "      <td>536569</td>\n",
       "      <td>M</td>\n",
       "      <td>Manual</td>\n",
       "      <td>1</td>\n",
       "      <td>2010-12-01 15:35:00</td>\n",
       "      <td>18.95</td>\n",
       "      <td>16274</td>\n",
       "      <td>United Kingdom</td>\n",
       "      <td>False</td>\n",
       "    </tr>\n",
       "    <tr>\n",
       "      <th>...</th>\n",
       "      <td>...</td>\n",
       "      <td>...</td>\n",
       "      <td>...</td>\n",
       "      <td>...</td>\n",
       "      <td>...</td>\n",
       "      <td>...</td>\n",
       "      <td>...</td>\n",
       "      <td>...</td>\n",
       "      <td>...</td>\n",
       "    </tr>\n",
       "    <tr>\n",
       "      <th>541198</th>\n",
       "      <td>581493</td>\n",
       "      <td>POST</td>\n",
       "      <td>POSTAGE</td>\n",
       "      <td>1</td>\n",
       "      <td>2011-12-09 10:10:00</td>\n",
       "      <td>15.00</td>\n",
       "      <td>12423</td>\n",
       "      <td>Belgium</td>\n",
       "      <td>False</td>\n",
       "    </tr>\n",
       "    <tr>\n",
       "      <th>541216</th>\n",
       "      <td>581494</td>\n",
       "      <td>POST</td>\n",
       "      <td>POSTAGE</td>\n",
       "      <td>2</td>\n",
       "      <td>2011-12-09 10:13:00</td>\n",
       "      <td>18.00</td>\n",
       "      <td>12518</td>\n",
       "      <td>Germany</td>\n",
       "      <td>False</td>\n",
       "    </tr>\n",
       "    <tr>\n",
       "      <th>541730</th>\n",
       "      <td>581570</td>\n",
       "      <td>POST</td>\n",
       "      <td>POSTAGE</td>\n",
       "      <td>1</td>\n",
       "      <td>2011-12-09 11:59:00</td>\n",
       "      <td>18.00</td>\n",
       "      <td>12662</td>\n",
       "      <td>Germany</td>\n",
       "      <td>False</td>\n",
       "    </tr>\n",
       "    <tr>\n",
       "      <th>541767</th>\n",
       "      <td>581574</td>\n",
       "      <td>POST</td>\n",
       "      <td>POSTAGE</td>\n",
       "      <td>2</td>\n",
       "      <td>2011-12-09 12:09:00</td>\n",
       "      <td>18.00</td>\n",
       "      <td>12526</td>\n",
       "      <td>Germany</td>\n",
       "      <td>False</td>\n",
       "    </tr>\n",
       "    <tr>\n",
       "      <th>541768</th>\n",
       "      <td>581578</td>\n",
       "      <td>POST</td>\n",
       "      <td>POSTAGE</td>\n",
       "      <td>3</td>\n",
       "      <td>2011-12-09 12:16:00</td>\n",
       "      <td>18.00</td>\n",
       "      <td>12713</td>\n",
       "      <td>Germany</td>\n",
       "      <td>False</td>\n",
       "    </tr>\n",
       "  </tbody>\n",
       "</table>\n",
       "<p>1414 rows × 9 columns</p>\n",
       "</div>"
      ],
      "text/plain": [
       "       InvoiceNo StockCode Description  Quantity         InvoiceDate  \\\n",
       "45        536370      POST     POSTAGE         3 2010-12-01 08:45:00   \n",
       "386       536403      POST     POSTAGE         1 2010-12-01 11:27:00   \n",
       "1123      536527      POST     POSTAGE         1 2010-12-01 13:04:00   \n",
       "2239      536569         M      Manual         1 2010-12-01 15:35:00   \n",
       "2250      536569         M      Manual         1 2010-12-01 15:35:00   \n",
       "...          ...       ...         ...       ...                 ...   \n",
       "541198    581493      POST     POSTAGE         1 2011-12-09 10:10:00   \n",
       "541216    581494      POST     POSTAGE         2 2011-12-09 10:13:00   \n",
       "541730    581570      POST     POSTAGE         1 2011-12-09 11:59:00   \n",
       "541767    581574      POST     POSTAGE         2 2011-12-09 12:09:00   \n",
       "541768    581578      POST     POSTAGE         3 2011-12-09 12:16:00   \n",
       "\n",
       "        UnitPrice CustomerID         Country  ContainDigit  \n",
       "45          18.00      12583          France         False  \n",
       "386         15.00      12791     Netherlands         False  \n",
       "1123        18.00      12662         Germany         False  \n",
       "2239         1.25      16274  United Kingdom         False  \n",
       "2250        18.95      16274  United Kingdom         False  \n",
       "...           ...        ...             ...           ...  \n",
       "541198      15.00      12423         Belgium         False  \n",
       "541216      18.00      12518         Germany         False  \n",
       "541730      18.00      12662         Germany         False  \n",
       "541767      18.00      12526         Germany         False  \n",
       "541768      18.00      12713         Germany         False  \n",
       "\n",
       "[1414 rows x 9 columns]"
      ]
     },
     "execution_count": 5,
     "metadata": {},
     "output_type": "execute_result"
    }
   ],
   "source": [
    "df['ContainDigit'] = df['StockCode'].apply(lambda x: any(c.isdigit() for c in x))\n",
    "\n",
    "## 상품코드에 숫자가 포함되지 않은 것들도 존재하나? \n",
    "yyy = df[df['ContainDigit'] == False]\n",
    "yyy"
   ]
  },
  {
   "cell_type": "code",
   "execution_count": 6,
   "id": "16bece86-ca84-4bae-b0f6-bd0fba86d96e",
   "metadata": {},
   "outputs": [
    {
     "name": "stdout",
     "output_type": "stream",
     "text": [
      "(396470, 9)\n"
     ]
    },
    {
     "data": {
      "text/html": [
       "<div>\n",
       "<style scoped>\n",
       "    .dataframe tbody tr th:only-of-type {\n",
       "        vertical-align: middle;\n",
       "    }\n",
       "\n",
       "    .dataframe tbody tr th {\n",
       "        vertical-align: top;\n",
       "    }\n",
       "\n",
       "    .dataframe thead th {\n",
       "        text-align: right;\n",
       "    }\n",
       "</style>\n",
       "<table border=\"1\" class=\"dataframe\">\n",
       "  <thead>\n",
       "    <tr style=\"text-align: right;\">\n",
       "      <th></th>\n",
       "      <th>InvoiceNo</th>\n",
       "      <th>StockCode</th>\n",
       "      <th>Description</th>\n",
       "      <th>Quantity</th>\n",
       "      <th>InvoiceDate</th>\n",
       "      <th>UnitPrice</th>\n",
       "      <th>CustomerID</th>\n",
       "      <th>Country</th>\n",
       "      <th>ContainDigit</th>\n",
       "    </tr>\n",
       "  </thead>\n",
       "  <tbody>\n",
       "    <tr>\n",
       "      <th>0</th>\n",
       "      <td>536365</td>\n",
       "      <td>85123A</td>\n",
       "      <td>WHITE HANGING HEART T-LIGHT HOLDER</td>\n",
       "      <td>6</td>\n",
       "      <td>2010-12-01 08:26:00</td>\n",
       "      <td>2.55</td>\n",
       "      <td>17850</td>\n",
       "      <td>United Kingdom</td>\n",
       "      <td>True</td>\n",
       "    </tr>\n",
       "    <tr>\n",
       "      <th>1</th>\n",
       "      <td>536365</td>\n",
       "      <td>71053</td>\n",
       "      <td>WHITE METAL LANTERN</td>\n",
       "      <td>6</td>\n",
       "      <td>2010-12-01 08:26:00</td>\n",
       "      <td>3.39</td>\n",
       "      <td>17850</td>\n",
       "      <td>United Kingdom</td>\n",
       "      <td>True</td>\n",
       "    </tr>\n",
       "    <tr>\n",
       "      <th>2</th>\n",
       "      <td>536365</td>\n",
       "      <td>84406B</td>\n",
       "      <td>CREAM CUPID HEARTS COAT HANGER</td>\n",
       "      <td>8</td>\n",
       "      <td>2010-12-01 08:26:00</td>\n",
       "      <td>2.75</td>\n",
       "      <td>17850</td>\n",
       "      <td>United Kingdom</td>\n",
       "      <td>True</td>\n",
       "    </tr>\n",
       "    <tr>\n",
       "      <th>3</th>\n",
       "      <td>536365</td>\n",
       "      <td>84029G</td>\n",
       "      <td>KNITTED UNION FLAG HOT WATER BOTTLE</td>\n",
       "      <td>6</td>\n",
       "      <td>2010-12-01 08:26:00</td>\n",
       "      <td>3.39</td>\n",
       "      <td>17850</td>\n",
       "      <td>United Kingdom</td>\n",
       "      <td>True</td>\n",
       "    </tr>\n",
       "    <tr>\n",
       "      <th>4</th>\n",
       "      <td>536365</td>\n",
       "      <td>84029E</td>\n",
       "      <td>RED WOOLLY HOTTIE WHITE HEART.</td>\n",
       "      <td>6</td>\n",
       "      <td>2010-12-01 08:26:00</td>\n",
       "      <td>3.39</td>\n",
       "      <td>17850</td>\n",
       "      <td>United Kingdom</td>\n",
       "      <td>True</td>\n",
       "    </tr>\n",
       "  </tbody>\n",
       "</table>\n",
       "</div>"
      ],
      "text/plain": [
       "  InvoiceNo StockCode                          Description  Quantity  \\\n",
       "0    536365    85123A   WHITE HANGING HEART T-LIGHT HOLDER         6   \n",
       "1    536365     71053                  WHITE METAL LANTERN         6   \n",
       "2    536365    84406B       CREAM CUPID HEARTS COAT HANGER         8   \n",
       "3    536365    84029G  KNITTED UNION FLAG HOT WATER BOTTLE         6   \n",
       "4    536365    84029E       RED WOOLLY HOTTIE WHITE HEART.         6   \n",
       "\n",
       "          InvoiceDate  UnitPrice CustomerID         Country  ContainDigit  \n",
       "0 2010-12-01 08:26:00       2.55      17850  United Kingdom          True  \n",
       "1 2010-12-01 08:26:00       3.39      17850  United Kingdom          True  \n",
       "2 2010-12-01 08:26:00       2.75      17850  United Kingdom          True  \n",
       "3 2010-12-01 08:26:00       3.39      17850  United Kingdom          True  \n",
       "4 2010-12-01 08:26:00       3.39      17850  United Kingdom          True  "
      ]
     },
     "execution_count": 6,
     "metadata": {},
     "output_type": "execute_result"
    }
   ],
   "source": [
    "## 상품코드는 숫자를 포함하고 있어야 한다.  \n",
    "df = df[df['ContainDigit'] == True]\n",
    "\n",
    "print(df.shape)\n",
    "df.head()"
   ]
  },
  {
   "cell_type": "markdown",
   "id": "4256948d-05be-4878-92f7-02dba89f2839",
   "metadata": {},
   "source": [
    "#### Step 1. EDA "
   ]
  },
  {
   "cell_type": "code",
   "execution_count": 10,
   "id": "05d59f09-e8c3-4bd5-b1ec-ab30ba3ef36b",
   "metadata": {},
   "outputs": [
    {
     "name": "stdout",
     "output_type": "stream",
     "text": [
      "Start Day:  2010-12-01\n",
      "End Day:  2011-12-09\n"
     ]
    }
   ],
   "source": [
    "## 데이터의 기간은 언제부터 언제까지 인가? \n",
    "df['date'] = df['InvoiceDate'].dt.date\n",
    "\n",
    "print('Start Day: ', df['date'].min())\n",
    "print('End Day: ', df['date'].max())"
   ]
  },
  {
   "cell_type": "code",
   "execution_count": 13,
   "id": "a3c85eff-3de4-437f-871c-673d0c484be9",
   "metadata": {},
   "outputs": [
    {
     "name": "stdout",
     "output_type": "stream",
     "text": [
      "date\n",
      "2010-12-01    24208\n",
      "2010-12-02    31140\n",
      "2010-12-03    11822\n",
      "2010-12-05    16370\n",
      "2010-12-06    16269\n",
      "              ...  \n",
      "2011-12-05    37610\n",
      "2011-12-06    27798\n",
      "2011-12-07    41080\n",
      "2011-12-08    27536\n",
      "2011-12-09    90573\n",
      "Name: Quantity, Length: 305, dtype: int64\n"
     ]
    },
    {
     "data": {
      "text/plain": [
       "<AxesSubplot:xlabel='date'>"
      ]
     },
     "execution_count": 13,
     "metadata": {},
     "output_type": "execute_result"
    },
    {
     "data": {
      "image/png": "[encoded data removed]",
      "text/plain": [
       "<Figure size 432x288 with 1 Axes>"
      ]
     },
     "metadata": {
      "needs_background": "light"
     },
     "output_type": "display_data"
    }
   ],
   "source": [
    "## 일자별 거래량 추이를 살펴보자 \n",
    "date_quantity_series = df.groupby('date')['Quantity'].sum()\n",
    "print(date_quantity_series)\n",
    "date_quantity_series.plot()"
   ]
  },
  {
   "cell_type": "code",
   "execution_count": 16,
   "id": "d635f4a9-648a-4443-b914-e2f3621ca860",
   "metadata": {},
   "outputs": [
    {
     "name": "stdout",
     "output_type": "stream",
     "text": [
      "date\n",
      "2010-12-01    121\n",
      "2010-12-02    136\n",
      "2010-12-03     57\n",
      "2010-12-05     87\n",
      "2010-12-06     94\n",
      "             ... \n",
      "2011-12-05    115\n",
      "2011-12-06    110\n",
      "2011-12-07    103\n",
      "2011-12-08    113\n",
      "2011-12-09     41\n",
      "Name: InvoiceNo, Length: 305, dtype: int64\n"
     ]
    },
    {
     "data": {
      "text/plain": [
       "<AxesSubplot:xlabel='date'>"
      ]
     },
     "execution_count": 16,
     "metadata": {},
     "output_type": "execute_result"
    },
    {
     "data": {
      "image/png": "[encoded data removed]",
      "text/plain": [
       "<Figure size 432x288 with 1 Axes>"
      ]
     },
     "metadata": {
      "needs_background": "light"
     },
     "output_type": "display_data"
    }
   ],
   "source": [
    "## 일자별 거래 건수 추이를 살펴보자 \n",
    "date_transaction_series = df.groupby('date')['InvoiceNo'].nunique()\n",
    "print(date_transaction_series)\n",
    "date_transaction_series.plot()"
   ]
  },
  {
   "cell_type": "code",
   "execution_count": 17,
   "id": "653594b0-8049-4d17-ab5b-e186e07927b4",
   "metadata": {},
   "outputs": [
    {
     "name": "stdout",
     "output_type": "stream",
     "text": [
      "date\n",
      "2010-12-01     939\n",
      "2010-12-02     905\n",
      "2010-12-03     671\n",
      "2010-12-05    1140\n",
      "2010-12-06     914\n",
      "              ... \n",
      "2011-12-05    1405\n",
      "2011-12-06    1141\n",
      "2011-12-07    1044\n",
      "2011-12-08    1143\n",
      "2011-12-09     456\n",
      "Name: StockCode, Length: 305, dtype: int64\n"
     ]
    },
    {
     "data": {
      "text/plain": [
       "<AxesSubplot:xlabel='date'>"
      ]
     },
     "execution_count": 17,
     "metadata": {},
     "output_type": "execute_result"
    },
    {
     "data": {
      "image/png": "[encoded data removed]",
      "text/plain": [
       "<Figure size 432x288 with 1 Axes>"
      ]
     },
     "metadata": {
      "needs_background": "light"
     },
     "output_type": "display_data"
    }
   ],
   "source": [
    "## 일자별 거래된 상품수량  추이를 살펴보자 \n",
    "date_items_series = df.groupby('date')['StockCode'].nunique()\n",
    "print(date_items_series)\n",
    "date_items_series.plot()"
   ]
  },
  {
   "cell_type": "code",
   "execution_count": 19,
   "id": "7491fe10-5e84-487e-a05b-0d7dd33e1ebc",
   "metadata": {},
   "outputs": [
    {
     "data": {
      "text/plain": [
       "4334"
      ]
     },
     "execution_count": 19,
     "metadata": {},
     "output_type": "execute_result"
    }
   ],
   "source": [
    "## 고객은 총 몇명인가? \n",
    "len(df['CustomerID'].unique())"
   ]
  },
  {
   "cell_type": "code",
   "execution_count": 31,
   "id": "c58d84c5-b807-40ed-bea6-25739db42240",
   "metadata": {},
   "outputs": [
    {
     "name": "stdout",
     "output_type": "stream",
     "text": [
      "CustomerID\n",
      "12346     1\n",
      "12347     7\n",
      "12348     4\n",
      "12349     1\n",
      "12350     1\n",
      "         ..\n",
      "18280     1\n",
      "18281     1\n",
      "18282     2\n",
      "18283    16\n",
      "18287     3\n",
      "Name: InvoiceNo, Length: 4334, dtype: int64\n"
     ]
    },
    {
     "data": {
      "text/plain": [
       "<AxesSubplot:xlabel='InvoiceNo', ylabel='Density'>"
      ]
     },
     "execution_count": 31,
     "metadata": {},
     "output_type": "execute_result"
    },
    {
     "data": {
      "image/png": "[encoded data removed]",
      "text/plain": [
       "<Figure size 432x288 with 1 Axes>"
      ]
     },
     "metadata": {
      "needs_background": "light"
     },
     "output_type": "display_data"
    }
   ],
   "source": [
    "## 고객 1인당 거래횟수 분포는? \n",
    "customer_unique_transaction_series = df.groupby('CustomerID')['InvoiceNo'].nunique()\n",
    "print(customer_unique_transaction_series)\n",
    "sns.distplot(customer_unique_transaction_series)"
   ]
  },
  {
   "cell_type": "code",
   "execution_count": 35,
   "id": "ff5289b8-c806-4528-bdf2-eae09b4e8e29",
   "metadata": {},
   "outputs": [
    {
     "name": "stdout",
     "output_type": "stream",
     "text": [
      "CustomerID\n",
      "12346      1\n",
      "12347    103\n",
      "12348     21\n",
      "12349     72\n",
      "12350     16\n",
      "        ... \n",
      "18280     10\n",
      "18281      7\n",
      "18282     12\n",
      "18283    262\n",
      "18287     59\n",
      "Name: StockCode, Length: 4334, dtype: int64\n"
     ]
    },
    {
     "data": {
      "text/plain": [
       "<AxesSubplot:xlabel='StockCode', ylabel='Density'>"
      ]
     },
     "execution_count": 35,
     "metadata": {},
     "output_type": "execute_result"
    },
    {
     "data": {
      "image/png": "[encoded data removed]",
      "text/plain": [
       "<Figure size 432x288 with 1 Axes>"
      ]
     },
     "metadata": {
      "needs_background": "light"
     },
     "output_type": "display_data"
    }
   ],
   "source": [
    "## 고객 1인당 거래 상품 수 분포는? \n",
    "customer_unique_items_series = df.groupby('CustomerID')['StockCode'].nunique()\n",
    "print(customer_unique_items_series)\n",
    "sns.distplot(customer_unique_items_series)"
   ]
  },
  {
   "cell_type": "code",
   "execution_count": 45,
   "id": "ec46f77e-7b4b-4bb2-a15d-708c4e2b5b88",
   "metadata": {},
   "outputs": [
    {
     "name": "stdout",
     "output_type": "stream",
     "text": [
      "1. 총 상품갯수 :  3660\n",
      "--------------------------------------------------------------------\n",
      "2. 거래량 top 10 :  StockCode\n",
      "85123A    1978\n",
      "22423     1703\n",
      "85099B    1600\n",
      "47566     1379\n",
      "84879     1375\n",
      "20725     1289\n",
      "22720     1146\n",
      "23203     1080\n",
      "20727     1052\n",
      "22383     1043\n",
      "Name: InvoiceNo, dtype: int64\n"
     ]
    }
   ],
   "source": [
    "### mini test : Q&A \n",
    "print('1. 총 상품갯수 : ', df['StockCode'].nunique())\n",
    "print('--------------------------------------------------------------------')\n",
    "print('2. 거래량 top 10 : ', df.groupby('StockCode')['InvoiceNo'].nunique().sort_values(ascending=False)[:10])"
   ]
  },
  {
   "cell_type": "code",
   "execution_count": 68,
   "id": "9f800c47-ce0a-4bc1-83e8-8b10620fbf98",
   "metadata": {},
   "outputs": [
    {
     "name": "stdout",
     "output_type": "stream",
     "text": [
      "3. 상품별 판매수량 분포 :\n"
     ]
    },
    {
     "data": {
      "text/plain": [
       "<AxesSubplot:xlabel='Quantity', ylabel='Density'>"
      ]
     },
     "execution_count": 68,
     "metadata": {},
     "output_type": "execute_result"
    },
    {
     "data": {
      "image/png": "[encoded data removed]",
      "text/plain": [
       "<Figure size 432x288 with 2 Axes>"
      ]
     },
     "metadata": {
      "needs_background": "light"
     },
     "output_type": "display_data"
    }
   ],
   "source": [
    "print('3. 상품별 판매수량 분포 :')\n",
    "\n",
    "a = df.groupby('StockCode')['Quantity'].sum()\n",
    "\n",
    "fig, ax = plt.subplots(ncols=2)\n",
    "a.plot(ax=ax[0])\n",
    "sns.distplot(a, ax=ax[1])"
   ]
  },
  {
   "cell_type": "code",
   "execution_count": 75,
   "id": "0647aa6a-6fc0-42de-bad5-db20b7d7b404",
   "metadata": {},
   "outputs": [
    {
     "name": "stdout",
     "output_type": "stream",
     "text": [
      "4. 거래별 판매금액 분포 :\n"
     ]
    },
    {
     "data": {
      "text/plain": [
       "<AxesSubplot:xlabel='amount', ylabel='Density'>"
      ]
     },
     "execution_count": 75,
     "metadata": {},
     "output_type": "execute_result"
    },
    {
     "data": {
      "image/png": "[encoded data removed]",
      "text/plain": [
       "<Figure size 432x288 with 2 Axes>"
      ]
     },
     "metadata": {
      "needs_background": "light"
     },
     "output_type": "display_data"
    }
   ],
   "source": [
    "print('4. 거래별 판매금액 분포 :')\n",
    "df['amount'] = df['Quantity'] * df['UnitPrice']\n",
    "b = df.groupby('InvoiceNo')['amount'].sum()\n",
    "\n",
    "fig, ax = plt.subplots(ncols=2)\n",
    "b.plot(ax=ax[0])\n",
    "sns.distplot(b, ax=ax[1])"
   ]
  },
  {
   "cell_type": "markdown",
   "id": "e601d12a-6afe-417b-a5e1-e68ddc3bcf29",
   "metadata": {},
   "source": [
    "#### Step 2. Split the data\n",
    "- 1~11월 동안의 구매패턴에 의거하여, 연말(12월)의 구매를 예측한다. \n",
    "- 11/1일을 기준으로 데이터를 분리한다. "
   ]
  },
  {
   "cell_type": "code",
   "execution_count": 80,
   "id": "4c659b05-cf3a-4f0b-8b15-73e8c9f6c851",
   "metadata": {},
   "outputs": [
    {
     "name": "stdout",
     "output_type": "stream",
     "text": [
      "(314902, 11)\n",
      "(81568, 11)\n"
     ]
    }
   ],
   "source": [
    "import datetime\n",
    "\n",
    "df_year_round = df[df['date'] < datetime.date(2011, 11, 1)]\n",
    "df_year_end = df[df['date'] >= datetime.date(2011, 11, 1)]\n",
    "\n",
    "print(df_year_round.shape)\n",
    "print(df_year_end.shape)"
   ]
  },
  {
   "cell_type": "code",
   "execution_count": 83,
   "id": "4c897a4a-3e58-4650-b17f-4fbf10be7c8c",
   "metadata": {},
   "outputs": [
    {
     "data": {
      "text/plain": [
       "CustomerID\n",
       "12346                                              {23166}\n",
       "12347    {51014C, 23316, 22550, 84991, 23170, 21578, 84...\n",
       "12348    {23077, 84991, 21980, 21725, 21726, 21983, 849...\n",
       "12350    {21908, 22412, 22551, 22620, 21864, 20652, 223...\n",
       "12352    {22722, 37495, 22779, 22979, 22550, 22120, 227...\n",
       "                               ...                        \n",
       "18280    {22467, 82484, 22495, 22725, 22499, 22084, 223...\n",
       "18281    {22467, 23008, 22028, 22716, 23007, 22037, 23209}\n",
       "18282    {21270, 21108, 23295, 22424, 21109, 23187, 22089}\n",
       "18283    {20979, 22577, 21717, 23352, 22550, 23318, 849...\n",
       "18287    {22144, 21014, 22866, 84584, 23269, 23077, 850...\n",
       "Name: StockCode, Length: 3970, dtype: object"
      ]
     },
     "execution_count": 83,
     "metadata": {},
     "output_type": "execute_result"
    }
   ],
   "source": [
    "## 평시(1~10월) 데이터에서 유저별 구매상품 리스트 추출\n",
    "customer_items_round_set = df_year_round.groupby('CustomerID')['StockCode'].apply(set)\n",
    "customer_items_round_set"
   ]
  },
  {
   "cell_type": "code",
   "execution_count": 96,
   "id": "29a9851d-dc13-455f-a2a0-c0580a44a55f",
   "metadata": {},
   "outputs": [
    {
     "data": {
      "text/plain": [
       "CustomerID\n",
       "12347    {21731, 21064, 20719, 21265, 84625A, 23271, 23...\n",
       "12349    {23514, 48185, 22722, 21411, 22601, 23295, 234...\n",
       "12352    {23088, 23089, 23096, 22978, 22635, 22178, 226...\n",
       "12356                                       {22423, 21843}\n",
       "12357    {22027, 21411, 15056BL, 21116, 23316, 22712, 2...\n",
       "                               ...                        \n",
       "18272    {22722, 22074, 22965, 22960, 22969, 22076, 229...\n",
       "18273                                             {79302M}\n",
       "18274    {84509A, 22423, 21974, 21108, 23243, 22851, 23...\n",
       "18282                  {22423, 22699, 22818, 23175, 23174}\n",
       "18283    {22738, 23381, 23318, 23581, 84991, 23379, 849...\n",
       "Name: StockCode, Length: 1904, dtype: object"
      ]
     },
     "execution_count": 96,
     "metadata": {},
     "output_type": "execute_result"
    }
   ],
   "source": [
    "## 연말(11~12월) 데이터에서 유저별 구매상품 리스트 추출\n",
    "customer_items_end_set = df_year_end.groupby('CustomerID')['StockCode'].apply(set)\n",
    "customer_items_end_set"
   ]
  },
  {
   "cell_type": "markdown",
   "id": "e8079c56-7807-4d5f-8484-dd99f53e1a6f",
   "metadata": {},
   "source": [
    "- <font color = 'yellow'> < customer & stock dict 생성 > </font>\n",
    "- old : 1~10월에만 구매 \n",
    "- new : 11~12월에만 구매 \n",
    "- both : old, new 모두 구매 "
   ]
  },
  {
   "cell_type": "code",
   "execution_count": 95,
   "id": "c046c6c0-2ac1-4d44-9db3-e9acc4f9d20b",
   "metadata": {},
   "outputs": [
    {
     "name": "stdout",
     "output_type": "stream",
     "text": [
      "{'12346': {'23166': 'old'}, '12347': {'51014C': 'old', '23316': 'old', '22550': 'old', '84991': 'old...\n"
     ]
    }
   ],
   "source": [
    "## customer & Stock dict : 평시 구매상품에 old 표시 \n",
    "customer_items_dict = {}\n",
    "\n",
    "for customer_id, stocks in customer_items_round_set.items() : \n",
    "    customer_items_dict[customer_id] = {}\n",
    "    for stock_code in stocks : \n",
    "        customer_items_dict[customer_id][stock_code] = 'old'\n",
    "        \n",
    "print(str(customer_items_dict)[:100] + '...')"
   ]
  },
  {
   "cell_type": "code",
   "execution_count": 98,
   "id": "57f55d6d-4a3d-48a1-aa84-08b61237af31",
   "metadata": {},
   "outputs": [
    {
     "name": "stdout",
     "output_type": "stream",
     "text": [
      "{'12346': {'23166': 'old'}, '12347': {'51014C': 'old', '23316': 'old', '22550': 'old', '84991': 'old...\n"
     ]
    }
   ],
   "source": [
    "for customer_id, stocks in customer_items_end_set.items():    \n",
    "    \n",
    "    if customer_id in customer_items_dict:  # 11월 이전 구매기록이 있는 유저 체크\n",
    "        for stock_code in stocks:\n",
    "            # 구매한 적 있는 상품인지를 체크한 뒤, 상태 표기 \n",
    "            if stock_code in customer_items_dict[customer_id]:\n",
    "                customer_items_dict[customer_id][stock_code] = 'both'\n",
    "            else:\n",
    "                customer_items_dict[customer_id][stock_code] = 'new'\n",
    "        \n",
    "    else:   # 11월 이전 구매기록 없음 --> 'new'\n",
    "        customer_items_dict[customer_id] = {}\n",
    "        for stock_code in stocks:\n",
    "            customer_items_dict[customer_id][stock_code] = 'new'\n",
    "\n",
    "print(str(customer_items_dict)[:100] + \"...\")"
   ]
  },
  {
   "cell_type": "code",
   "execution_count": 100,
   "id": "53284ea7-f70d-4e47-90bf-8a2edaa2f635",
   "metadata": {},
   "outputs": [
    {
     "data": {
      "text/html": [
       "<div>\n",
       "<style scoped>\n",
       "    .dataframe tbody tr th:only-of-type {\n",
       "        vertical-align: middle;\n",
       "    }\n",
       "\n",
       "    .dataframe tbody tr th {\n",
       "        vertical-align: top;\n",
       "    }\n",
       "\n",
       "    .dataframe thead th {\n",
       "        text-align: right;\n",
       "    }\n",
       "</style>\n",
       "<table border=\"1\" class=\"dataframe\">\n",
       "  <thead>\n",
       "    <tr style=\"text-align: right;\">\n",
       "      <th></th>\n",
       "      <th>CustomerID</th>\n",
       "      <th>old</th>\n",
       "      <th>new</th>\n",
       "      <th>both</th>\n",
       "    </tr>\n",
       "  </thead>\n",
       "  <tbody>\n",
       "    <tr>\n",
       "      <th>0</th>\n",
       "      <td>12346</td>\n",
       "      <td>1</td>\n",
       "      <td>0</td>\n",
       "      <td>0</td>\n",
       "    </tr>\n",
       "    <tr>\n",
       "      <th>1</th>\n",
       "      <td>12347</td>\n",
       "      <td>92</td>\n",
       "      <td>3</td>\n",
       "      <td>8</td>\n",
       "    </tr>\n",
       "    <tr>\n",
       "      <th>2</th>\n",
       "      <td>12348</td>\n",
       "      <td>21</td>\n",
       "      <td>0</td>\n",
       "      <td>0</td>\n",
       "    </tr>\n",
       "    <tr>\n",
       "      <th>3</th>\n",
       "      <td>12350</td>\n",
       "      <td>16</td>\n",
       "      <td>0</td>\n",
       "      <td>0</td>\n",
       "    </tr>\n",
       "    <tr>\n",
       "      <th>4</th>\n",
       "      <td>12352</td>\n",
       "      <td>43</td>\n",
       "      <td>12</td>\n",
       "      <td>2</td>\n",
       "    </tr>\n",
       "  </tbody>\n",
       "</table>\n",
       "</div>"
      ],
      "text/plain": [
       "  CustomerID old new both\n",
       "0      12346   1   0    0\n",
       "1      12347  92   3    8\n",
       "2      12348  21   0    0\n",
       "3      12350  16   0    0\n",
       "4      12352  43  12    2"
      ]
     },
     "execution_count": 100,
     "metadata": {},
     "output_type": "execute_result"
    }
   ],
   "source": [
    "# 'old', 'new', 'both'를 유저별로 탐색하여 데이터 프레임 생성\n",
    "columns = ['CustomerID', 'old', 'new', 'both']\n",
    "df_order_info = pd.DataFrame(columns=columns)\n",
    "\n",
    "\n",
    "for customer_id in customer_items_dict:\n",
    "    old = 0\n",
    "    new = 0\n",
    "    both = 0\n",
    "    \n",
    "    # 딕셔너리의 상품 상태(old, new, both)를 체크하여 데이터 프레임에 append 할 수 있는 형태로 처리\n",
    "    for stock_code in customer_items_dict[customer_id]:\n",
    "        status = customer_items_dict[customer_id][stock_code]\n",
    "        if status == 'old':\n",
    "            old += 1\n",
    "        elif status == 'new':\n",
    "            new += 1\n",
    "        else:\n",
    "            both += 1\n",
    "    \n",
    "    # df_order_info에 데이터를 append\n",
    "    row = [customer_id, old, new, both]\n",
    "    series = pd.Series(row, index=columns)\n",
    "    df_order_info = df_order_info.append(series, ignore_index=True)\n",
    "\n",
    "df_order_info.head()"
   ]
  },
  {
   "cell_type": "code",
   "execution_count": 103,
   "id": "62eb07f7-d219-4d7e-8b27-8ef49f285922",
   "metadata": {},
   "outputs": [
    {
     "name": "stdout",
     "output_type": "stream",
     "text": [
      "1. 전체 customer 수 :  4334\n"
     ]
    }
   ],
   "source": [
    "tot_customer = df_order_info.shape[0]\n",
    "print('1. 전체 customer 수 : ', tot_customer)"
   ]
  },
  {
   "cell_type": "code",
   "execution_count": 109,
   "id": "5aa81d3b-00b4-4cc9-bcdb-24bdf67fa853",
   "metadata": {},
   "outputs": [
    {
     "name": "stdout",
     "output_type": "stream",
     "text": [
      "2. 연말 신규상품 구매자 수 :  1446\n"
     ]
    }
   ],
   "source": [
    "new_buy = df_order_info[(df_order_info['old'] > 0) \n",
    "                        & (df_order_info['new'] > 0) ]\n",
    "\n",
    "\n",
    "new_buy_n = new_buy.shape[0]\n",
    "print('2. 연말 신규상품 구매자 수 : ', new_buy_n)"
   ]
  },
  {
   "cell_type": "code",
   "execution_count": 112,
   "id": "54f4d90e-e386-4924-a5fa-1dfc1c3fcc71",
   "metadata": {},
   "outputs": [
    {
     "name": "stdout",
     "output_type": "stream",
     "text": [
      "3. 연말 기존상품 재구매자 수 :  1426\n"
     ]
    }
   ],
   "source": [
    "re_buy = df_order_info[df_order_info['both'] > 0 ]\n",
    "re_buy_n = re_buy.shape[0]\n",
    "print('3. 연말 기존상품 재구매자 수 : ', re_buy_n)"
   ]
  },
  {
   "cell_type": "code",
   "execution_count": 116,
   "id": "9f9e3ce7-e8c4-49fa-8731-0e89e70c6797",
   "metadata": {},
   "outputs": [
    {
     "name": "stdout",
     "output_type": "stream",
     "text": [
      "0    2521\n",
      "1      81\n",
      "3      73\n",
      "2      72\n",
      "8      65\n",
      "Name: new, dtype: int64\n"
     ]
    }
   ],
   "source": [
    "## 연말 신규상품 구매자들은 얼마나 많은 종류의 신규상품을 구매하는가? \n",
    "how_many_new = df_order_info['new'].value_counts()\n",
    "print(how_many_new.head())"
   ]
  },
  {
   "cell_type": "code",
   "execution_count": 118,
   "id": "007470ae-7c87-45f8-894c-80071538f721",
   "metadata": {},
   "outputs": [
    {
     "data": {
      "text/plain": [
       "count    132.000000\n",
       "mean      13.734848\n",
       "std       19.130672\n",
       "min        1.000000\n",
       "25%        1.000000\n",
       "50%        5.000000\n",
       "75%       16.000000\n",
       "max       81.000000\n",
       "Name: new, dtype: float64"
      ]
     },
     "execution_count": 118,
     "metadata": {},
     "output_type": "execute_result"
    }
   ],
   "source": [
    "## index 부분은 제외하고, value 부분에 대해서만 통계량 계산 \n",
    "how_many_new[1:].describe()"
   ]
  },
  {
   "cell_type": "markdown",
   "id": "d6178249-ac13-4a16-8c67-792385b30120",
   "metadata": {},
   "source": [
    "#### Step 3. 상품구매 예측 with SVD\n",
    "- 추천을 위해서는 user의 개별 상품에 대한 선호도 데이터가 필요하다. (영화추천에서의 별점과 같은) \n",
    "- 여기서는 구매횟수를 기준으로 선호도 변수를 생성한다. "
   ]
  },
  {
   "cell_type": "code",
   "execution_count": 120,
   "id": "982a5066-fe35-41be-89d1-6f2cd2d79af1",
   "metadata": {},
   "outputs": [
    {
     "name": "stdout",
     "output_type": "stream",
     "text": [
      "추천대상 User 인원수 :  3970\n",
      "추천대상 상품 갯수 3608\n"
     ]
    }
   ],
   "source": [
    "print('추천대상 User 인원수 : ', len(df_year_round['CustomerID'].unique()))\n",
    "print('추천대상 상품 갯수', len(df_year_round['StockCode'].unique()))"
   ]
  },
  {
   "cell_type": "code",
   "execution_count": 127,
   "id": "a9ddc96a-c0d4-44c8-8311-7114f9a20757",
   "metadata": {},
   "outputs": [
    {
     "name": "stdout",
     "output_type": "stream",
     "text": [
      "  CustomerID StockCode  InvoiceNo\n",
      "0      12346     23166          1\n",
      "1      12347     16008          1\n",
      "2      12347     17021          1\n",
      "3      12347     20665          1\n",
      "4      12347     20719          3\n"
     ]
    },
    {
     "data": {
      "text/plain": [
       "<AxesSubplot:xlabel='InvoiceNo', ylabel='Density'>"
      ]
     },
     "execution_count": 127,
     "metadata": {},
     "output_type": "execute_result"
    },
    {
     "data": {
      "image/png": "[encoded data removed]",
      "text/plain": [
       "<Figure size 432x288 with 1 Axes>"
      ]
     },
     "metadata": {
      "needs_background": "light"
     },
     "output_type": "display_data"
    }
   ],
   "source": [
    "## user별 구매횟수를 선호도로써 사용 가능한가? \n",
    "uir_df = df_year_round.groupby(['CustomerID', 'StockCode'])['InvoiceNo'].nunique().reset_index()\n",
    "print(uir_df.head())\n",
    "sns.distplot(uir_df['InvoiceNo'])"
   ]
  },
  {
   "cell_type": "code",
   "execution_count": 131,
   "id": "8dfdbff8-767f-42b3-9726-1cd1d86b0d00",
   "metadata": {},
   "outputs": [
    {
     "name": "stdout",
     "output_type": "stream",
     "text": [
      "0         1.000000\n",
      "1         1.000000\n",
      "2         1.000000\n",
      "3         1.000000\n",
      "4         1.477121\n",
      "            ...   \n",
      "220902    1.000000\n",
      "220903    1.301030\n",
      "220904    1.301030\n",
      "220905    1.000000\n",
      "220906    1.000000\n",
      "Name: InvoiceNo, Length: 220907, dtype: float64\n"
     ]
    },
    {
     "data": {
      "text/plain": [
       "<AxesSubplot:xlabel='InvoiceNo', ylabel='Density'>"
      ]
     },
     "execution_count": 131,
     "metadata": {},
     "output_type": "execute_result"
    },
    {
     "data": {
      "image/png": "[encoded data removed]",
      "text/plain": [
       "<Figure size 432x288 with 1 Axes>"
      ]
     },
     "metadata": {
      "needs_background": "light"
     },
     "output_type": "display_data"
    }
   ],
   "source": [
    "## 데이터가 편향되어 있다 --> Log nomalization \n",
    "aa = uir_df['InvoiceNo'].apply(lambda x: np.log10(x)+1)\n",
    "print(aa)\n",
    "sns.distplot(aa[1:])"
   ]
  },
  {
   "cell_type": "code",
   "execution_count": 134,
   "id": "5000c935-b02d-4e5c-8e88-6075ec956256",
   "metadata": {},
   "outputs": [
    {
     "data": {
      "image/png": "[encoded data removed]",
      "text/plain": [
       "<IPython.core.display.Image object>"
      ]
     },
     "execution_count": 134,
     "metadata": {},
     "output_type": "execute_result"
    }
   ],
   "source": [
    "from IPython.display import Image\n",
    "Image('img/scaling.PNG')"
   ]
  },
  {
   "cell_type": "code",
   "execution_count": 132,
   "id": "5db6b9e4-a73c-4e09-8fae-90cda714ca7c",
   "metadata": {},
   "outputs": [
    {
     "data": {
      "text/plain": [
       "<AxesSubplot:xlabel='Rating', ylabel='Density'>"
      ]
     },
     "execution_count": 132,
     "metadata": {},
     "output_type": "execute_result"
    },
    {
     "data": {
      "image/png": "[encoded data removed]",
      "text/plain": [
       "<Figure size 432x288 with 1 Axes>"
      ]
     },
     "metadata": {
      "needs_background": "light"
     },
     "output_type": "display_data"
    }
   ],
   "source": [
    "## log normalization된 값을, 1~5점으로 변환 \n",
    "uir_df['Rating'] = uir_df['InvoiceNo'].apply(lambda x: np.log10(x)+1)\n",
    "\n",
    "uir_df['Rating'] = ((uir_df['Rating'] - uir_df['Rating'].min()) / \n",
    "                    (uir_df['Rating'].max() - uir_df['Rating'].min()) * 4) + 1\n",
    "\n",
    "sns.distplot(uir_df['Rating'])"
   ]
  },
  {
   "cell_type": "code",
   "execution_count": 136,
   "id": "56331b91-d394-4ea6-b923-c2a02901e7a0",
   "metadata": {},
   "outputs": [
    {
     "name": "stdout",
     "output_type": "stream",
     "text": [
      "(220907, 3)\n"
     ]
    },
    {
     "data": {
      "text/html": [
       "<div>\n",
       "<style scoped>\n",
       "    .dataframe tbody tr th:only-of-type {\n",
       "        vertical-align: middle;\n",
       "    }\n",
       "\n",
       "    .dataframe tbody tr th {\n",
       "        vertical-align: top;\n",
       "    }\n",
       "\n",
       "    .dataframe thead th {\n",
       "        text-align: right;\n",
       "    }\n",
       "</style>\n",
       "<table border=\"1\" class=\"dataframe\">\n",
       "  <thead>\n",
       "    <tr style=\"text-align: right;\">\n",
       "      <th></th>\n",
       "      <th>CustomerID</th>\n",
       "      <th>StockCode</th>\n",
       "      <th>Rating</th>\n",
       "    </tr>\n",
       "  </thead>\n",
       "  <tbody>\n",
       "    <tr>\n",
       "      <th>0</th>\n",
       "      <td>12346</td>\n",
       "      <td>23166</td>\n",
       "      <td>1.000000</td>\n",
       "    </tr>\n",
       "    <tr>\n",
       "      <th>1</th>\n",
       "      <td>12347</td>\n",
       "      <td>16008</td>\n",
       "      <td>1.000000</td>\n",
       "    </tr>\n",
       "    <tr>\n",
       "      <th>2</th>\n",
       "      <td>12347</td>\n",
       "      <td>17021</td>\n",
       "      <td>1.000000</td>\n",
       "    </tr>\n",
       "    <tr>\n",
       "      <th>3</th>\n",
       "      <td>12347</td>\n",
       "      <td>20665</td>\n",
       "      <td>1.000000</td>\n",
       "    </tr>\n",
       "    <tr>\n",
       "      <th>4</th>\n",
       "      <td>12347</td>\n",
       "      <td>20719</td>\n",
       "      <td>2.048881</td>\n",
       "    </tr>\n",
       "  </tbody>\n",
       "</table>\n",
       "</div>"
      ],
      "text/plain": [
       "  CustomerID StockCode    Rating\n",
       "0      12346     23166  1.000000\n",
       "1      12347     16008  1.000000\n",
       "2      12347     17021  1.000000\n",
       "3      12347     20665  1.000000\n",
       "4      12347     20719  2.048881"
      ]
     },
     "execution_count": 136,
     "metadata": {},
     "output_type": "execute_result"
    }
   ],
   "source": [
    "## making dataset for SVD \n",
    "uir_df = uir_df[['CustomerID', 'StockCode', 'Rating']]\n",
    "print(uir_df.shape)\n",
    "uir_df.head()"
   ]
  },
  {
   "cell_type": "code",
   "execution_count": 137,
   "id": "ba2090b1-c378-4fe8-b045-1989cdedcd01",
   "metadata": {},
   "outputs": [
    {
     "name": "stdout",
     "output_type": "stream",
     "text": [
      "training time of model: 27.22 seconds\n",
      "RMSE of test dataset in SVD model:\n",
      "RMSE: 0.3360\n"
     ]
    },
    {
     "data": {
      "text/plain": [
       "0.3360304076217338"
      ]
     },
     "execution_count": 137,
     "metadata": {},
     "output_type": "execute_result"
    }
   ],
   "source": [
    "import time\n",
    "from surprise import SVD, Dataset, Reader, accuracy\n",
    "from surprise.model_selection import train_test_split\n",
    "\n",
    "# SVD 라이브러리를 사용하기 위한 학습 데이터를 생성합니다. 대략적인 성능을 알아보기 위해 학습 데이터와 테스트 데이터를 8:2로 분할합니다.\n",
    "reader = Reader(rating_scale=(1, 5))\n",
    "data = Dataset.load_from_df(uir_df[['CustomerID', 'StockCode', 'Rating']], reader)\n",
    "train_data, test_data = train_test_split(data, test_size=0.2)\n",
    "\n",
    "# SVD 모델을 학습합니다.\n",
    "train_start = time.time()\n",
    "model = SVD(n_factors=8,\n",
    "            lr_all=0.005,\n",
    "            reg_all=0.02,\n",
    "            n_epochs=200)\n",
    "model.fit(train_data)\n",
    "train_end = time.time()\n",
    "print(\"training time of model: %.2f seconds\" % (train_end - train_start))\n",
    "\n",
    "predictions = model.test(test_data)\n",
    "\n",
    "# 테스트 데이터의 RMSE를 출력하여 모델의 성능을 평가합니다.\n",
    "print(\"RMSE of test dataset in SVD model:\")\n",
    "accuracy.rmse(predictions)"
   ]
  },
  {
   "cell_type": "markdown",
   "id": "489a8739-851a-4ec8-b494-ca4fa0eb0181",
   "metadata": {},
   "source": [
    "#### Step 4. 상품추천 simulation"
   ]
  },
  {
   "cell_type": "code",
   "execution_count": 138,
   "id": "19546014-ed4f-4c05-9881-cd5b18af2975",
   "metadata": {},
   "outputs": [
    {
     "name": "stdout",
     "output_type": "stream",
     "text": [
      "training time of model: 28.46 seconds\n"
     ]
    }
   ],
   "source": [
    "# SVD 라이브러리를 사용하기 위한 학습 데이터를 생성합니다. 11월 이전 전체를 full trainset으로 활용합니다.\n",
    "reader = Reader(rating_scale=(1, 5))\n",
    "data = Dataset.load_from_df(uir_df[['CustomerID', 'StockCode', 'Rating']], reader)\n",
    "train_data = data.build_full_trainset()\n",
    "\n",
    "# SVD 모델을 학습합니다.\n",
    "train_start = time.time()\n",
    "model = SVD(n_factors=8,\n",
    "            lr_all=0.005,\n",
    "            reg_all=0.02,\n",
    "            n_epochs=200)\n",
    "model.fit(train_data)\n",
    "train_end = time.time()\n",
    "print(\"training time of model: %.2f seconds\" % (train_end - train_start))"
   ]
  },
  {
   "cell_type": "markdown",
   "id": "1c5ed14c-bc83-4b3e-96a9-d387e5a4056d",
   "metadata": {},
   "source": [
    "- 11월 이전 구매이력이 있는 모든 유저 대상 상품 추천 \n",
    "- 1) 구매이력 없는 상품 : 신규 구매 타겟 \n",
    "- 2) 구매이력 있는 상품 : 재구매 타겟 \n",
    "- 3) 모든상품 : 상품 선호도 점수를 고려 "
   ]
  },
  {
   "cell_type": "code",
   "execution_count": 139,
   "id": "85fed0dc-47ef-4499-9238-0d50717a07e4",
   "metadata": {},
   "outputs": [
    {
     "name": "stdout",
     "output_type": "stream",
     "text": [
      "{'12346': {'16008': 1.041388163508499, '17021': 1.2313813678818186, '20665': 1.0464911479916053, '20719': 1.2743119133076, '20780': 1, '20782': 1.1418524202569449, '20966': 1.0879502437016404, '21035': 1.0875929772209387, '21041': 1, '21064': 1.1674948837522467, '21154': 1.0652441302057678, '21171':...\n"
     ]
    }
   ],
   "source": [
    "\"\"\"\n",
    "11월 이전 데이터에서 유저-상품에 대한 Rating을 기반으로 추천 상품을 선정합니다.\n",
    "\n",
    "1. 이전에 구매하지 않았던 상품 추천 : anti_build_testset()을 사용합니다.\n",
    "2. 이전에 구매했던 상품 다시 추천 : build_testset()을 사용합니다.\n",
    "3. 모든 상품을 대상으로 하여 상품 추천\n",
    "\"\"\"\n",
    "\n",
    "# 이전에 구매하지 않았던 상품을 예측의 대상으로 선정합니다.\n",
    "test_data = train_data.build_anti_testset()\n",
    "target_user_predictions = model.test(test_data)\n",
    "\n",
    "# 구매 예측 결과를 딕셔너리 형태로 변환합니다.\n",
    "new_order_prediction_dict = {}\n",
    "for customer_id, stock_code, _, predicted_rating, _ in target_user_predictions:\n",
    "    if customer_id in new_order_prediction_dict:\n",
    "        if stock_code in new_order_prediction_dict[customer_id]:\n",
    "            pass\n",
    "        else:\n",
    "            new_order_prediction_dict[customer_id][stock_code] = predicted_rating\n",
    "    else:\n",
    "        new_order_prediction_dict[customer_id] = {}\n",
    "        new_order_prediction_dict[customer_id][stock_code] = predicted_rating\n",
    "\n",
    "print(str(new_order_prediction_dict)[:300] + \"...\")"
   ]
  },
  {
   "cell_type": "code",
   "execution_count": 140,
   "id": "5f5f6513-62d6-46ae-a8f3-c0e912b4499f",
   "metadata": {},
   "outputs": [
    {
     "name": "stdout",
     "output_type": "stream",
     "text": [
      "{'12346': {'23166': 1.038275556061413}, '12347': {'16008': 1, '17021': 1.4044835439704249, '20665': 1.0703644693970769, '20719': 2.1327326186751665, '20780': 1.2950932414083156, '20782': 1.3045076714596489, '20966': 1.4460162355431023, '21035': 1.458502728260047, '21041': 1.200484449852132, '21064':...\n"
     ]
    }
   ],
   "source": [
    "# 이전에 구매했었던 상품을 예측의 대상으로 선정합니다.\n",
    "test_data = train_data.build_testset()\n",
    "target_user_predictions = model.test(test_data)\n",
    "\n",
    "# 구매 예측 결과를 딕셔너리 형태로 변환합니다.\n",
    "reorder_prediction_dict = {}\n",
    "for customer_id, stock_code, _, predicted_rating, _ in target_user_predictions:\n",
    "    if customer_id in reorder_prediction_dict:\n",
    "        if stock_code in reorder_prediction_dict[customer_id]:\n",
    "            pass\n",
    "        else:\n",
    "            reorder_prediction_dict[customer_id][stock_code] = predicted_rating\n",
    "    else:\n",
    "        reorder_prediction_dict[customer_id] = {}\n",
    "        reorder_prediction_dict[customer_id][stock_code] = predicted_rating\n",
    "        \n",
    "print(str(reorder_prediction_dict)[:300] + \"...\")"
   ]
  },
  {
   "cell_type": "code",
   "execution_count": 141,
   "id": "70309f66-9057-471a-8006-8d836c217d13",
   "metadata": {},
   "outputs": [
    {
     "name": "stdout",
     "output_type": "stream",
     "text": [
      "{'12346': {'16008': 1.041388163508499, '17021': 1.2313813678818186, '20665': 1.0464911479916053, '20719': 1.2743119133076, '20780': 1, '20782': 1.1418524202569449, '20966': 1.0879502437016404, '21035': 1.0875929772209387, '21041': 1, '21064': 1.1674948837522467, '21154': 1.0652441302057678, '21171':...\n"
     ]
    }
   ],
   "source": [
    "# 두 딕셔너리를 하나로 통합합니다.\n",
    "total_prediction_dict = {}\n",
    "\n",
    "# new_order_prediction_dict 정보를 새로운 딕셔너리에 저장합니다.\n",
    "for customer_id in new_order_prediction_dict:\n",
    "    if customer_id not in total_prediction_dict:\n",
    "        total_prediction_dict[customer_id] = {}\n",
    "    for stock_code, predicted_rating in new_order_prediction_dict[customer_id].items():\n",
    "        if stock_code not in total_prediction_dict[customer_id]:\n",
    "            total_prediction_dict[customer_id][stock_code] = predicted_rating\n",
    "            \n",
    "# reorder_prediction_dict 정보를 새로운 딕셔너리에 저장합니다.\n",
    "for customer_id in reorder_prediction_dict:\n",
    "    if customer_id not in total_prediction_dict:\n",
    "        total_prediction_dict[customer_id] = {}\n",
    "    for stock_code, predicted_rating in reorder_prediction_dict[customer_id].items():\n",
    "        if stock_code not in total_prediction_dict[customer_id]:\n",
    "            total_prediction_dict[customer_id][stock_code] = predicted_rating\n",
    "            \n",
    "print(str(total_prediction_dict)[:300] + \"...\")"
   ]
  },
  {
   "cell_type": "code",
   "execution_count": 142,
   "id": "f87695de-9e84-49b6-a9f0-7111561ce92d",
   "metadata": {},
   "outputs": [
    {
     "data": {
      "text/html": [
       "<div>\n",
       "<style scoped>\n",
       "    .dataframe tbody tr th:only-of-type {\n",
       "        vertical-align: middle;\n",
       "    }\n",
       "\n",
       "    .dataframe tbody tr th {\n",
       "        vertical-align: top;\n",
       "    }\n",
       "\n",
       "    .dataframe thead th {\n",
       "        text-align: right;\n",
       "    }\n",
       "</style>\n",
       "<table border=\"1\" class=\"dataframe\">\n",
       "  <thead>\n",
       "    <tr style=\"text-align: right;\">\n",
       "      <th></th>\n",
       "      <th>CustomerID</th>\n",
       "      <th>RealOrdered</th>\n",
       "    </tr>\n",
       "  </thead>\n",
       "  <tbody>\n",
       "    <tr>\n",
       "      <th>0</th>\n",
       "      <td>12347</td>\n",
       "      <td>{21731, 21064, 20719, 21265, 84625A, 23271, 23...</td>\n",
       "    </tr>\n",
       "    <tr>\n",
       "      <th>1</th>\n",
       "      <td>12349</td>\n",
       "      <td>{23514, 48185, 22722, 21411, 22601, 23295, 234...</td>\n",
       "    </tr>\n",
       "    <tr>\n",
       "      <th>2</th>\n",
       "      <td>12352</td>\n",
       "      <td>{23088, 23089, 23096, 22978, 22635, 22178, 226...</td>\n",
       "    </tr>\n",
       "    <tr>\n",
       "      <th>3</th>\n",
       "      <td>12356</td>\n",
       "      <td>{22423, 21843}</td>\n",
       "    </tr>\n",
       "    <tr>\n",
       "      <th>4</th>\n",
       "      <td>12357</td>\n",
       "      <td>{22027, 21411, 15056BL, 21116, 23316, 22712, 2...</td>\n",
       "    </tr>\n",
       "  </tbody>\n",
       "</table>\n",
       "</div>"
      ],
      "text/plain": [
       "  CustomerID                                        RealOrdered\n",
       "0      12347  {21731, 21064, 20719, 21265, 84625A, 23271, 23...\n",
       "1      12349  {23514, 48185, 22722, 21411, 22601, 23295, 234...\n",
       "2      12352  {23088, 23089, 23096, 22978, 22635, 22178, 226...\n",
       "3      12356                                     {22423, 21843}\n",
       "4      12357  {22027, 21411, 15056BL, 21116, 23316, 22712, 2..."
      ]
     },
     "execution_count": 142,
     "metadata": {},
     "output_type": "execute_result"
    }
   ],
   "source": [
    "# 11월 이후의 데이터를 테스트 데이터셋으로 사용하기 위한 데이터프레임을 생성합니다.\n",
    "simulation_test_df = df_year_end.groupby('CustomerID')['StockCode'].apply(set).reset_index()\n",
    "simulation_test_df.columns = ['CustomerID', 'RealOrdered']\n",
    "simulation_test_df.head()"
   ]
  },
  {
   "cell_type": "code",
   "execution_count": 143,
   "id": "37836f9b-5f86-499a-8664-5bdee1cf70ad",
   "metadata": {},
   "outputs": [
    {
     "data": {
      "text/html": [
       "<div>\n",
       "<style scoped>\n",
       "    .dataframe tbody tr th:only-of-type {\n",
       "        vertical-align: middle;\n",
       "    }\n",
       "\n",
       "    .dataframe tbody tr th {\n",
       "        vertical-align: top;\n",
       "    }\n",
       "\n",
       "    .dataframe thead th {\n",
       "        text-align: right;\n",
       "    }\n",
       "</style>\n",
       "<table border=\"1\" class=\"dataframe\">\n",
       "  <thead>\n",
       "    <tr style=\"text-align: right;\">\n",
       "      <th></th>\n",
       "      <th>CustomerID</th>\n",
       "      <th>RealOrdered</th>\n",
       "      <th>PredictedOrder(New)</th>\n",
       "      <th>PredictedOrder(Reorder)</th>\n",
       "      <th>PredictedOrder(Total)</th>\n",
       "    </tr>\n",
       "  </thead>\n",
       "  <tbody>\n",
       "    <tr>\n",
       "      <th>0</th>\n",
       "      <td>12347</td>\n",
       "      <td>{21731, 21064, 20719, 21265, 84625A, 23271, 23...</td>\n",
       "      <td>[22197, 82484, 37448, 22059, 22328, 85152, 220...</td>\n",
       "      <td>[21731, 20719, 22726, 22729, 22728, 22727, 224...</td>\n",
       "      <td>[22197, 82484, 37448, 22059, 22328, 85152, 220...</td>\n",
       "    </tr>\n",
       "    <tr>\n",
       "      <th>1</th>\n",
       "      <td>12349</td>\n",
       "      <td>{23514, 48185, 22722, 21411, 22601, 23295, 234...</td>\n",
       "      <td>None</td>\n",
       "      <td>None</td>\n",
       "      <td>None</td>\n",
       "    </tr>\n",
       "    <tr>\n",
       "      <th>2</th>\n",
       "      <td>12352</td>\n",
       "      <td>{23088, 23089, 23096, 22978, 22635, 22178, 226...</td>\n",
       "      <td>[84086B, 90119, 90042A, 90035A, 85131D, 22970,...</td>\n",
       "      <td>[22423, 22779, 22780, 22654, 22138, 84050, 225...</td>\n",
       "      <td>[84086B, 90119, 90042A, 90035A, 85131D, 22970,...</td>\n",
       "    </tr>\n",
       "    <tr>\n",
       "      <th>3</th>\n",
       "      <td>12356</td>\n",
       "      <td>{22423, 21843}</td>\n",
       "      <td>[84086B, 90119, 90035A, 85099B, 90042A, 85131B...</td>\n",
       "      <td>[22423, 21843, 22699, 21080, 22698, 37450, 210...</td>\n",
       "      <td>[84086B, 90119, 90035A, 85099B, 90042A, 85131B...</td>\n",
       "    </tr>\n",
       "    <tr>\n",
       "      <th>4</th>\n",
       "      <td>12357</td>\n",
       "      <td>{22027, 21411, 15056BL, 21116, 23316, 22712, 2...</td>\n",
       "      <td>None</td>\n",
       "      <td>None</td>\n",
       "      <td>None</td>\n",
       "    </tr>\n",
       "  </tbody>\n",
       "</table>\n",
       "</div>"
      ],
      "text/plain": [
       "  CustomerID                                        RealOrdered  \\\n",
       "0      12347  {21731, 21064, 20719, 21265, 84625A, 23271, 23...   \n",
       "1      12349  {23514, 48185, 22722, 21411, 22601, 23295, 234...   \n",
       "2      12352  {23088, 23089, 23096, 22978, 22635, 22178, 226...   \n",
       "3      12356                                     {22423, 21843}   \n",
       "4      12357  {22027, 21411, 15056BL, 21116, 23316, 22712, 2...   \n",
       "\n",
       "                                 PredictedOrder(New)  \\\n",
       "0  [22197, 82484, 37448, 22059, 22328, 85152, 220...   \n",
       "1                                               None   \n",
       "2  [84086B, 90119, 90042A, 90035A, 85131D, 22970,...   \n",
       "3  [84086B, 90119, 90035A, 85099B, 90042A, 85131B...   \n",
       "4                                               None   \n",
       "\n",
       "                             PredictedOrder(Reorder)  \\\n",
       "0  [21731, 20719, 22726, 22729, 22728, 22727, 224...   \n",
       "1                                               None   \n",
       "2  [22423, 22779, 22780, 22654, 22138, 84050, 225...   \n",
       "3  [22423, 21843, 22699, 21080, 22698, 37450, 210...   \n",
       "4                                               None   \n",
       "\n",
       "                               PredictedOrder(Total)  \n",
       "0  [22197, 82484, 37448, 22059, 22328, 85152, 220...  \n",
       "1                                               None  \n",
       "2  [84086B, 90119, 90042A, 90035A, 85131D, 22970,...  \n",
       "3  [84086B, 90119, 90035A, 85099B, 90042A, 85131B...  \n",
       "4                                               None  "
      ]
     },
     "execution_count": 143,
     "metadata": {},
     "output_type": "execute_result"
    }
   ],
   "source": [
    "# 이 데이터프레임에 상품 추천 시뮬레이션 결과를 추가하기 위한 함수를 정의합니다.\n",
    "def add_predicted_stock_set(customer_id, prediction_dict):\n",
    "    if customer_id in prediction_dict:\n",
    "        predicted_stock_dict = prediction_dict[customer_id]\n",
    "        # 예측된 상품의 Rating이 높은 순으로 정렬합니다.\n",
    "        sorted_stocks = sorted(predicted_stock_dict, key=lambda x : predicted_stock_dict[x], reverse=True)\n",
    "        return sorted_stocks\n",
    "    else:\n",
    "        return None\n",
    "\n",
    "# 상품 추천 시뮬레이션 결과를 추가합니다.\n",
    "simulation_test_df['PredictedOrder(New)'] = simulation_test_df['CustomerID']. \\\n",
    "                                            apply(lambda x: add_predicted_stock_set(x, new_order_prediction_dict))\n",
    "simulation_test_df['PredictedOrder(Reorder)'] = simulation_test_df['CustomerID']. \\\n",
    "                                            apply(lambda x: add_predicted_stock_set(x, reorder_prediction_dict))\n",
    "simulation_test_df['PredictedOrder(Total)'] = simulation_test_df['CustomerID']. \\\n",
    "                                            apply(lambda x: add_predicted_stock_set(x, total_prediction_dict))\n",
    "simulation_test_df.head()"
   ]
  },
  {
   "cell_type": "markdown",
   "id": "07a05f5c-cc5a-4add-8383-b8a9400237a5",
   "metadata": {},
   "source": [
    "#### Step 5. Validation\n",
    "- 추천 시뮬레이션 결과와 실제 구매와 비교 "
   ]
  },
  {
   "cell_type": "code",
   "execution_count": 144,
   "id": "29323924-40af-45b0-a1d5-797de4caba6f",
   "metadata": {},
   "outputs": [],
   "source": [
    "# 구매 예측의 상위 k개의 recall(재현율)을 평가 기준으로 정의합니다.\n",
    "def calculate_recall(real_order, predicted_order, k):\n",
    "    # 만약 추천 대상 상품이 없다면, 11월 이후에 상품을 처음 구매하는 유저입니다.\n",
    "    if predicted_order is None:\n",
    "        return None\n",
    "    \n",
    "    # SVD 모델에서 현재 유저의 Rating이 높은 상위 k개의 상품을 \"구매 할 것으로 예측\"합니다.\n",
    "    predicted = predicted_order[:k]\n",
    "    true_positive = 0\n",
    "    for stock_code in predicted:\n",
    "        if stock_code in real_order:\n",
    "            true_positive += 1\n",
    "    \n",
    "    # 예측한 상품 중, 실제로 유저가 구매한 상품의 비율(recall)을 계산합니다.\n",
    "    recall = true_positive / len(predicted)\n",
    "    return recall\n",
    "\n",
    "# 시뮬레이션 대상 유저에게 상품을 추천해준 결과를 평가합니다.\n",
    "simulation_test_df['top_k_recall(Reorder)'] = simulation_test_df. \\\n",
    "                                                apply(lambda x: calculate_recall(x['RealOrdered'], \n",
    "                                                                                 x['PredictedOrder(Reorder)'], \n",
    "                                                                                 5), axis=1)\n",
    "simulation_test_df['top_k_recall(New)'] = simulation_test_df. \\\n",
    "                                                apply(lambda x: calculate_recall(x['RealOrdered'], \n",
    "                                                                                 x['PredictedOrder(New)'], \n",
    "                                                                                 5), axis=1)\n",
    "simulation_test_df['top_k_recall(Total)'] = simulation_test_df. \\\n",
    "                                                apply(lambda x: calculate_recall(x['RealOrdered'], \n",
    "                                                                                 x['PredictedOrder(Total)'], \n",
    "                                                                                 5), axis=1)"
   ]
  },
  {
   "cell_type": "code",
   "execution_count": 145,
   "id": "f24aed96-b6cb-4a4d-8f34-5de7feb5ca4a",
   "metadata": {},
   "outputs": [
    {
     "name": "stdout",
     "output_type": "stream",
     "text": [
      "0.31581168831168827\n",
      "0.006753246753246752\n",
      "0.06870129870129871\n"
     ]
    }
   ],
   "source": [
    "# 평가 결과를 유저 평균으로 살펴봅니다.\n",
    "print(simulation_test_df['top_k_recall(Reorder)'].mean())\n",
    "print(simulation_test_df['top_k_recall(New)'].mean())\n",
    "print(simulation_test_df['top_k_recall(Total)'].mean())"
   ]
  },
  {
   "cell_type": "markdown",
   "id": "54b57e05-ae5a-49fd-a711-e4b1c92e0ca5",
   "metadata": {},
   "source": [
    "##### <font color = 'yellow'> --> 평균재현도 비교 : 재구매 31.6% > 신규구매 6.8% </font>"
   ]
  },
  {
   "cell_type": "code",
   "execution_count": 147,
   "id": "35f2c860-e4fa-4154-a5d3-fe65c24509db",
   "metadata": {},
   "outputs": [
    {
     "data": {
      "text/plain": [
       "0.000000    466\n",
       "0.200000    388\n",
       "0.400000    274\n",
       "0.600000    198\n",
       "0.800000    117\n",
       "1.000000     78\n",
       "0.500000      7\n",
       "0.250000      6\n",
       "0.666667      4\n",
       "0.750000      1\n",
       "0.333333      1\n",
       "Name: top_k_recall(Reorder), dtype: int64"
      ]
     },
     "execution_count": 147,
     "metadata": {},
     "output_type": "execute_result"
    }
   ],
   "source": [
    "# 평가 결과를 점수 기준으로 살펴봅니다.\n",
    "simulation_test_df['top_k_recall(Reorder)'].value_counts()"
   ]
  },
  {
   "cell_type": "markdown",
   "id": "fa7ccf17-a99a-45ed-944e-e23ea0439bef",
   "metadata": {},
   "source": [
    "##### <font color = 'yellow'> --> 466명 : 추천시 재구매 확률 0%  </font>\n",
    "##### <font color = 'yellow'> --> 388명 : 추천시 재구매 확률 20% </font>\n",
    "##### <font color = 'yellow'> --> 274명 : 추천시 재구매 확률 40% ...</font>"
   ]
  },
  {
   "cell_type": "code",
   "execution_count": 149,
   "id": "76258c61-5b28-4c75-8456-f750af8f65ad",
   "metadata": {},
   "outputs": [
    {
     "data": {
      "text/plain": [
       "0.0    1492\n",
       "0.2      44\n",
       "0.4       4\n",
       "Name: top_k_recall(New), dtype: int64"
      ]
     },
     "execution_count": 149,
     "metadata": {},
     "output_type": "execute_result"
    }
   ],
   "source": [
    "### 신규상품 추천시 결과 \n",
    "simulation_test_df['top_k_recall(New)'].value_counts()"
   ]
  },
  {
   "cell_type": "code",
   "execution_count": 150,
   "id": "94b28528-59c7-4f9d-8aef-f9412cf64c02",
   "metadata": {},
   "outputs": [
    {
     "data": {
      "text/plain": [
       "0.0    1222\n",
       "0.2     191\n",
       "0.4      73\n",
       "0.6      32\n",
       "0.8      14\n",
       "1.0       8\n",
       "Name: top_k_recall(Total), dtype: int64"
      ]
     },
     "execution_count": 150,
     "metadata": {},
     "output_type": "execute_result"
    }
   ],
   "source": [
    "### 전체상품 추천시 결과 \n",
    "simulation_test_df['top_k_recall(Total)'].value_counts()"
   ]
  },
  {
   "cell_type": "code",
   "execution_count": 151,
   "id": "2e8c6e3c-d395-43c7-91f8-908d1b96ec39",
   "metadata": {},
   "outputs": [
    {
     "data": {
      "text/html": [
       "<div>\n",
       "<style scoped>\n",
       "    .dataframe tbody tr th:only-of-type {\n",
       "        vertical-align: middle;\n",
       "    }\n",
       "\n",
       "    .dataframe tbody tr th {\n",
       "        vertical-align: top;\n",
       "    }\n",
       "\n",
       "    .dataframe thead tr th {\n",
       "        text-align: left;\n",
       "    }\n",
       "</style>\n",
       "<table border=\"1\" class=\"dataframe\">\n",
       "  <thead>\n",
       "    <tr>\n",
       "      <th></th>\n",
       "      <th>구매자ID</th>\n",
       "      <th>실제주문</th>\n",
       "      <th>5개추천결과</th>\n",
       "      <th>Top5추천_주문재현도</th>\n",
       "    </tr>\n",
       "  </thead>\n",
       "  <tbody>\n",
       "    <tr>\n",
       "      <th>790</th>\n",
       "      <td>14765</td>\n",
       "      <td>{22144, 22722, 22959, 20983, 21592, 22734, 217...</td>\n",
       "      <td>[21034, 82482, 21280, 22428, 22456]</td>\n",
       "      <td>0.2</td>\n",
       "    </tr>\n",
       "    <tr>\n",
       "      <th>398</th>\n",
       "      <td>13546</td>\n",
       "      <td>{22233, 37449, 23096, 22063, 22086, 21080, 234...</td>\n",
       "      <td>[22424, 21080, 22667, 21156, 21212]</td>\n",
       "      <td>0.4</td>\n",
       "    </tr>\n",
       "    <tr>\n",
       "      <th>1196</th>\n",
       "      <td>16085</td>\n",
       "      <td>{22144, 21892, 22086, 82483, 22142, 84949, 840...</td>\n",
       "      <td>[85123A, 21914, 22960, 22469, 22961]</td>\n",
       "      <td>0.4</td>\n",
       "    </tr>\n",
       "    <tr>\n",
       "      <th>413</th>\n",
       "      <td>13592</td>\n",
       "      <td>{22745, 20969, 22139}</td>\n",
       "      <td>[15036, 21843, 22423, 22725, 22149]</td>\n",
       "      <td>0.0</td>\n",
       "    </tr>\n",
       "    <tr>\n",
       "      <th>485</th>\n",
       "      <td>13838</td>\n",
       "      <td>{22992, 85034C, 22722, 23295, 20986, 23350, 22...</td>\n",
       "      <td>[82600, 22118, 48194, 85099B, 22665]</td>\n",
       "      <td>0.0</td>\n",
       "    </tr>\n",
       "  </tbody>\n",
       "</table>\n",
       "</div>"
      ],
      "text/plain": [
       "      구매자ID                                               실제주문  \\\n",
       "790   14765  {22144, 22722, 22959, 20983, 21592, 22734, 217...   \n",
       "398   13546  {22233, 37449, 23096, 22063, 22086, 21080, 234...   \n",
       "1196  16085  {22144, 21892, 22086, 82483, 22142, 84949, 840...   \n",
       "413   13592                              {22745, 20969, 22139}   \n",
       "485   13838  {22992, 85034C, 22722, 23295, 20986, 23350, 22...   \n",
       "\n",
       "                                    5개추천결과 Top5추천_주문재현도  \n",
       "790    [21034, 82482, 21280, 22428, 22456]          0.2  \n",
       "398    [22424, 21080, 22667, 21156, 21212]          0.4  \n",
       "1196  [85123A, 21914, 22960, 22469, 22961]          0.4  \n",
       "413    [15036, 21843, 22423, 22725, 22149]          0.0  \n",
       "485   [82600, 22118, 48194, 85099B, 22665]          0.0  "
      ]
     },
     "execution_count": 151,
     "metadata": {},
     "output_type": "execute_result"
    }
   ],
   "source": [
    "### final : 연말 선물로 구매할것 같은 상품 추천하기 \n",
    "k = 5\n",
    "result_df = simulation_test_df[simulation_test_df['PredictedOrder(Reorder)'].notnull()]\n",
    "result_df['PredictedOrder(Reorder)'] = result_df['PredictedOrder(Reorder)'].\\\n",
    "                                                        apply(lambda x: x[:k])\n",
    "result_df = result_df[['CustomerID', 'RealOrdered', \n",
    "                       'PredictedOrder(Reorder)', 'top_k_recall(Reorder)']]\n",
    "result_df.columns = [['구매자ID', '실제주문', '5개추천결과', 'Top5추천_주문재현도']]\n",
    "result_df.sample(5).head()"
   ]
  },
  {
   "cell_type": "code",
   "execution_count": 152,
   "id": "7a980e2c-f7fa-421c-8bde-e85cfc95c653",
   "metadata": {},
   "outputs": [
    {
     "name": "stdout",
     "output_type": "stream",
     "text": [
      "(364, 8)\n"
     ]
    },
    {
     "data": {
      "text/html": [
       "<div>\n",
       "<style scoped>\n",
       "    .dataframe tbody tr th:only-of-type {\n",
       "        vertical-align: middle;\n",
       "    }\n",
       "\n",
       "    .dataframe tbody tr th {\n",
       "        vertical-align: top;\n",
       "    }\n",
       "\n",
       "    .dataframe thead th {\n",
       "        text-align: right;\n",
       "    }\n",
       "</style>\n",
       "<table border=\"1\" class=\"dataframe\">\n",
       "  <thead>\n",
       "    <tr style=\"text-align: right;\">\n",
       "      <th></th>\n",
       "      <th>CustomerID</th>\n",
       "      <th>RealOrdered</th>\n",
       "      <th>PredictedOrder(New)</th>\n",
       "      <th>PredictedOrder(Reorder)</th>\n",
       "      <th>PredictedOrder(Total)</th>\n",
       "      <th>top_k_recall(Reorder)</th>\n",
       "      <th>top_k_recall(New)</th>\n",
       "      <th>top_k_recall(Total)</th>\n",
       "    </tr>\n",
       "  </thead>\n",
       "  <tbody>\n",
       "    <tr>\n",
       "      <th>1</th>\n",
       "      <td>12349</td>\n",
       "      <td>{23514, 48185, 22722, 21411, 22601, 23295, 234...</td>\n",
       "      <td>None</td>\n",
       "      <td>None</td>\n",
       "      <td>None</td>\n",
       "      <td>NaN</td>\n",
       "      <td>NaN</td>\n",
       "      <td>NaN</td>\n",
       "    </tr>\n",
       "    <tr>\n",
       "      <th>4</th>\n",
       "      <td>12357</td>\n",
       "      <td>{22027, 21411, 15056BL, 21116, 23316, 22712, 2...</td>\n",
       "      <td>None</td>\n",
       "      <td>None</td>\n",
       "      <td>None</td>\n",
       "      <td>NaN</td>\n",
       "      <td>NaN</td>\n",
       "      <td>NaN</td>\n",
       "    </tr>\n",
       "    <tr>\n",
       "      <th>8</th>\n",
       "      <td>12367</td>\n",
       "      <td>{21770, 85227, 21579, 22631, 22708, 16237, 226...</td>\n",
       "      <td>None</td>\n",
       "      <td>None</td>\n",
       "      <td>None</td>\n",
       "      <td>NaN</td>\n",
       "      <td>NaN</td>\n",
       "      <td>NaN</td>\n",
       "    </tr>\n",
       "    <tr>\n",
       "      <th>9</th>\n",
       "      <td>12374</td>\n",
       "      <td>{22144, 22732, 46775D, 22112, 21788, 22955, 84...</td>\n",
       "      <td>None</td>\n",
       "      <td>None</td>\n",
       "      <td>None</td>\n",
       "      <td>NaN</td>\n",
       "      <td>NaN</td>\n",
       "      <td>NaN</td>\n",
       "    </tr>\n",
       "    <tr>\n",
       "      <th>15</th>\n",
       "      <td>12391</td>\n",
       "      <td>{22562, 22209, 22144, 22210, 22809, 22563, 232...</td>\n",
       "      <td>None</td>\n",
       "      <td>None</td>\n",
       "      <td>None</td>\n",
       "      <td>NaN</td>\n",
       "      <td>NaN</td>\n",
       "      <td>NaN</td>\n",
       "    </tr>\n",
       "  </tbody>\n",
       "</table>\n",
       "</div>"
      ],
      "text/plain": [
       "   CustomerID                                        RealOrdered  \\\n",
       "1       12349  {23514, 48185, 22722, 21411, 22601, 23295, 234...   \n",
       "4       12357  {22027, 21411, 15056BL, 21116, 23316, 22712, 2...   \n",
       "8       12367  {21770, 85227, 21579, 22631, 22708, 16237, 226...   \n",
       "9       12374  {22144, 22732, 46775D, 22112, 21788, 22955, 84...   \n",
       "15      12391  {22562, 22209, 22144, 22210, 22809, 22563, 232...   \n",
       "\n",
       "   PredictedOrder(New) PredictedOrder(Reorder) PredictedOrder(Total)  \\\n",
       "1                 None                    None                  None   \n",
       "4                 None                    None                  None   \n",
       "8                 None                    None                  None   \n",
       "9                 None                    None                  None   \n",
       "15                None                    None                  None   \n",
       "\n",
       "    top_k_recall(Reorder)  top_k_recall(New)  top_k_recall(Total)  \n",
       "1                     NaN                NaN                  NaN  \n",
       "4                     NaN                NaN                  NaN  \n",
       "8                     NaN                NaN                  NaN  \n",
       "9                     NaN                NaN                  NaN  \n",
       "15                    NaN                NaN                  NaN  "
      ]
     },
     "execution_count": 152,
     "metadata": {},
     "output_type": "execute_result"
    }
   ],
   "source": [
    "### cf. 추천해봤자 소용없는 고객 명단 \n",
    "not_recommended_df = simulation_test_df[simulation_test_df['PredictedOrder(Reorder)'].isnull()]\n",
    "print(not_recommended_df.shape)\n",
    "not_recommended_df.head()"
   ]
  },
  {
   "cell_type": "code",
   "execution_count": null,
   "id": "4f5f6b3a-0bdd-40a5-af4b-13ba9f5bc5d8",
   "metadata": {},
   "outputs": [],
   "source": []
  }
 ],
 "metadata": {
  "kernelspec": {
   "display_name": "Python 3",
   "language": "python",
   "name": "python3"
  },
  "language_info": {
   "codemirror_mode": {
    "name": "ipython",
    "version": 3
   },
   "file_extension": ".py",
   "mimetype": "text/x-python",
   "name": "python",
   "nbconvert_exporter": "python",
   "pygments_lexer": "ipython3",
   "version": "3.9.1"
  }
 },
 "nbformat": 4,
 "nbformat_minor": 5
}
