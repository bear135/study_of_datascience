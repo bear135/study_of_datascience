{
 "cells": [
  {
   "cell_type": "markdown",
   "id": "b6de4f08-412b-4395-a12b-626bd124a05f",
   "metadata": {},
   "source": [
    "### Chapter 3.3 영화 평점 예측하기 "
   ]
  },
  {
   "cell_type": "code",
   "execution_count": 1,
   "id": "8ab2b16b-0ce0-4f92-8e9c-b27ff8a03420",
   "metadata": {},
   "outputs": [],
   "source": [
    "import numpy as np \n",
    "import pandas as pd \n",
    "import matplotlib.pyplot as plt \n",
    "import seaborn as sns \n",
    "sns.set_style('whitegrid')\n",
    "\n",
    "import time \n",
    "import operator \n",
    "\n",
    "import warnings \n",
    "warnings.filterwarnings(action='ignore')"
   ]
  },
  {
   "cell_type": "code",
   "execution_count": 2,
   "id": "f89eb4b2-d8ef-46d5-a40a-dbec0302778b",
   "metadata": {},
   "outputs": [
    {
     "data": {
      "text/plain": [
       "\"\\nmovie_data = pd.read_csv('data/ml-1m/movies.dat', names = ['movie_id', 'title', 'genre' ], sep = '::')\\nrating_data = pd.read_csv('data/ml-1m/ratings.dat', names = ['user_id', 'movie_id', 'rating', 'time' ], sep = '::')\\nuser_data = pd.read_csv('data/ml-1m/users.dat', names = ['user_id', 'gender', 'age', 'occupation', 'zipcode' ], sep = '::')\\n\""
      ]
     },
     "execution_count": 2,
     "metadata": {},
     "output_type": "execute_result"
    }
   ],
   "source": [
    "movie_data = pd.io.parsers.read_csv('data/ml-1m/movies.dat', names = ['movie_id', 'title', 'genre' ], delimiter = '::')\n",
    "rating_data = pd.io.parsers.read_csv('data/ml-1m/ratings.dat', names = ['user_id', 'movie_id', 'rating', 'time' ], delimiter = '::')\n",
    "user_data = pd.io.parsers.read_csv('data/ml-1m/users.dat', names = ['user_id', 'gender', 'age', 'occupation', 'zipcode' ], delimiter = '::')\n",
    "\n",
    "'''\n",
    "movie_data = pd.read_csv('data/ml-1m/movies.dat', names = ['movie_id', 'title', 'genre' ], sep = '::')\n",
    "rating_data = pd.read_csv('data/ml-1m/ratings.dat', names = ['user_id', 'movie_id', 'rating', 'time' ], sep = '::')\n",
    "user_data = pd.read_csv('data/ml-1m/users.dat', names = ['user_id', 'gender', 'age', 'occupation', 'zipcode' ], sep = '::')\n",
    "'''"
   ]
  },
  {
   "cell_type": "code",
   "execution_count": 3,
   "id": "f9b5cabd-3a68-4bc5-a60f-e0d332653ef8",
   "metadata": {},
   "outputs": [
    {
     "name": "stdout",
     "output_type": "stream",
     "text": [
      "(3883, 3)\n"
     ]
    },
    {
     "data": {
      "text/html": [
       "<div>\n",
       "<style scoped>\n",
       "    .dataframe tbody tr th:only-of-type {\n",
       "        vertical-align: middle;\n",
       "    }\n",
       "\n",
       "    .dataframe tbody tr th {\n",
       "        vertical-align: top;\n",
       "    }\n",
       "\n",
       "    .dataframe thead th {\n",
       "        text-align: right;\n",
       "    }\n",
       "</style>\n",
       "<table border=\"1\" class=\"dataframe\">\n",
       "  <thead>\n",
       "    <tr style=\"text-align: right;\">\n",
       "      <th></th>\n",
       "      <th>movie_id</th>\n",
       "      <th>title</th>\n",
       "      <th>genre</th>\n",
       "    </tr>\n",
       "  </thead>\n",
       "  <tbody>\n",
       "    <tr>\n",
       "      <th>0</th>\n",
       "      <td>1</td>\n",
       "      <td>Toy Story (1995)</td>\n",
       "      <td>Animation|Children's|Comedy</td>\n",
       "    </tr>\n",
       "    <tr>\n",
       "      <th>1</th>\n",
       "      <td>2</td>\n",
       "      <td>Jumanji (1995)</td>\n",
       "      <td>Adventure|Children's|Fantasy</td>\n",
       "    </tr>\n",
       "    <tr>\n",
       "      <th>2</th>\n",
       "      <td>3</td>\n",
       "      <td>Grumpier Old Men (1995)</td>\n",
       "      <td>Comedy|Romance</td>\n",
       "    </tr>\n",
       "    <tr>\n",
       "      <th>3</th>\n",
       "      <td>4</td>\n",
       "      <td>Waiting to Exhale (1995)</td>\n",
       "      <td>Comedy|Drama</td>\n",
       "    </tr>\n",
       "    <tr>\n",
       "      <th>4</th>\n",
       "      <td>5</td>\n",
       "      <td>Father of the Bride Part II (1995)</td>\n",
       "      <td>Comedy</td>\n",
       "    </tr>\n",
       "  </tbody>\n",
       "</table>\n",
       "</div>"
      ],
      "text/plain": [
       "   movie_id                               title                         genre\n",
       "0         1                    Toy Story (1995)   Animation|Children's|Comedy\n",
       "1         2                      Jumanji (1995)  Adventure|Children's|Fantasy\n",
       "2         3             Grumpier Old Men (1995)                Comedy|Romance\n",
       "3         4            Waiting to Exhale (1995)                  Comedy|Drama\n",
       "4         5  Father of the Bride Part II (1995)                        Comedy"
      ]
     },
     "execution_count": 3,
     "metadata": {},
     "output_type": "execute_result"
    }
   ],
   "source": [
    "print(movie_data.shape)\n",
    "movie_data.head()"
   ]
  },
  {
   "cell_type": "code",
   "execution_count": 4,
   "id": "24d0d48d-4457-4f42-92c9-a7857254e21c",
   "metadata": {},
   "outputs": [
    {
     "name": "stdout",
     "output_type": "stream",
     "text": [
      "(1000209, 4)\n"
     ]
    },
    {
     "data": {
      "text/html": [
       "<div>\n",
       "<style scoped>\n",
       "    .dataframe tbody tr th:only-of-type {\n",
       "        vertical-align: middle;\n",
       "    }\n",
       "\n",
       "    .dataframe tbody tr th {\n",
       "        vertical-align: top;\n",
       "    }\n",
       "\n",
       "    .dataframe thead th {\n",
       "        text-align: right;\n",
       "    }\n",
       "</style>\n",
       "<table border=\"1\" class=\"dataframe\">\n",
       "  <thead>\n",
       "    <tr style=\"text-align: right;\">\n",
       "      <th></th>\n",
       "      <th>user_id</th>\n",
       "      <th>movie_id</th>\n",
       "      <th>rating</th>\n",
       "      <th>time</th>\n",
       "    </tr>\n",
       "  </thead>\n",
       "  <tbody>\n",
       "    <tr>\n",
       "      <th>0</th>\n",
       "      <td>1</td>\n",
       "      <td>1193</td>\n",
       "      <td>5</td>\n",
       "      <td>978300760</td>\n",
       "    </tr>\n",
       "    <tr>\n",
       "      <th>1</th>\n",
       "      <td>1</td>\n",
       "      <td>661</td>\n",
       "      <td>3</td>\n",
       "      <td>978302109</td>\n",
       "    </tr>\n",
       "    <tr>\n",
       "      <th>2</th>\n",
       "      <td>1</td>\n",
       "      <td>914</td>\n",
       "      <td>3</td>\n",
       "      <td>978301968</td>\n",
       "    </tr>\n",
       "    <tr>\n",
       "      <th>3</th>\n",
       "      <td>1</td>\n",
       "      <td>3408</td>\n",
       "      <td>4</td>\n",
       "      <td>978300275</td>\n",
       "    </tr>\n",
       "    <tr>\n",
       "      <th>4</th>\n",
       "      <td>1</td>\n",
       "      <td>2355</td>\n",
       "      <td>5</td>\n",
       "      <td>978824291</td>\n",
       "    </tr>\n",
       "  </tbody>\n",
       "</table>\n",
       "</div>"
      ],
      "text/plain": [
       "   user_id  movie_id  rating       time\n",
       "0        1      1193       5  978300760\n",
       "1        1       661       3  978302109\n",
       "2        1       914       3  978301968\n",
       "3        1      3408       4  978300275\n",
       "4        1      2355       5  978824291"
      ]
     },
     "execution_count": 4,
     "metadata": {},
     "output_type": "execute_result"
    }
   ],
   "source": [
    "print(rating_data.shape)\n",
    "rating_data.head()"
   ]
  },
  {
   "cell_type": "code",
   "execution_count": 5,
   "id": "e306d4b4-cc5a-49ef-9ffb-cb98710e74a5",
   "metadata": {},
   "outputs": [
    {
     "name": "stdout",
     "output_type": "stream",
     "text": [
      "(6040, 5)\n"
     ]
    },
    {
     "data": {
      "text/html": [
       "<div>\n",
       "<style scoped>\n",
       "    .dataframe tbody tr th:only-of-type {\n",
       "        vertical-align: middle;\n",
       "    }\n",
       "\n",
       "    .dataframe tbody tr th {\n",
       "        vertical-align: top;\n",
       "    }\n",
       "\n",
       "    .dataframe thead th {\n",
       "        text-align: right;\n",
       "    }\n",
       "</style>\n",
       "<table border=\"1\" class=\"dataframe\">\n",
       "  <thead>\n",
       "    <tr style=\"text-align: right;\">\n",
       "      <th></th>\n",
       "      <th>user_id</th>\n",
       "      <th>gender</th>\n",
       "      <th>age</th>\n",
       "      <th>occupation</th>\n",
       "      <th>zipcode</th>\n",
       "    </tr>\n",
       "  </thead>\n",
       "  <tbody>\n",
       "    <tr>\n",
       "      <th>0</th>\n",
       "      <td>1</td>\n",
       "      <td>F</td>\n",
       "      <td>1</td>\n",
       "      <td>10</td>\n",
       "      <td>48067</td>\n",
       "    </tr>\n",
       "    <tr>\n",
       "      <th>1</th>\n",
       "      <td>2</td>\n",
       "      <td>M</td>\n",
       "      <td>56</td>\n",
       "      <td>16</td>\n",
       "      <td>70072</td>\n",
       "    </tr>\n",
       "    <tr>\n",
       "      <th>2</th>\n",
       "      <td>3</td>\n",
       "      <td>M</td>\n",
       "      <td>25</td>\n",
       "      <td>15</td>\n",
       "      <td>55117</td>\n",
       "    </tr>\n",
       "    <tr>\n",
       "      <th>3</th>\n",
       "      <td>4</td>\n",
       "      <td>M</td>\n",
       "      <td>45</td>\n",
       "      <td>7</td>\n",
       "      <td>02460</td>\n",
       "    </tr>\n",
       "    <tr>\n",
       "      <th>4</th>\n",
       "      <td>5</td>\n",
       "      <td>M</td>\n",
       "      <td>25</td>\n",
       "      <td>20</td>\n",
       "      <td>55455</td>\n",
       "    </tr>\n",
       "  </tbody>\n",
       "</table>\n",
       "</div>"
      ],
      "text/plain": [
       "   user_id gender  age  occupation zipcode\n",
       "0        1      F    1          10   48067\n",
       "1        2      M   56          16   70072\n",
       "2        3      M   25          15   55117\n",
       "3        4      M   45           7   02460\n",
       "4        5      M   25          20   55455"
      ]
     },
     "execution_count": 5,
     "metadata": {},
     "output_type": "execute_result"
    }
   ],
   "source": [
    "print(user_data.shape)\n",
    "user_data.head()"
   ]
  },
  {
   "cell_type": "code",
   "execution_count": 6,
   "id": "49deebb2-bd68-4e72-ada0-e5de42dfbd90",
   "metadata": {},
   "outputs": [
    {
     "name": "stdout",
     "output_type": "stream",
     "text": [
      "Total Movies count :  3883\n"
     ]
    }
   ],
   "source": [
    "## Q1. 전체 영화의 갯수는 몇개나 되는가? \n",
    "a = len(movie_data['movie_id'].unique())\n",
    "print('Total Movies count : ', a)"
   ]
  },
  {
   "cell_type": "code",
   "execution_count": 7,
   "id": "ed313748-68ce-415f-a99d-6b92d72c3cda",
   "metadata": {},
   "outputs": [
    {
     "name": "stdout",
     "output_type": "stream",
     "text": [
      "1996    345\n",
      "1995    342\n",
      "1998    337\n",
      "1997    315\n",
      "1999    283\n",
      "       ... \n",
      "1929      3\n",
      "1923      3\n",
      "1922      2\n",
      "1920      2\n",
      "1921      1\n",
      "Name: year, Length: 81, dtype: int64\n"
     ]
    },
    {
     "data": {
      "text/plain": [
       "<AxesSubplot:>"
      ]
     },
     "execution_count": 7,
     "metadata": {},
     "output_type": "execute_result"
    },
    {
     "data": {
      "image/png": "[encoded data removed]",
      "text/plain": [
       "<Figure size 432x288 with 1 Axes>"
      ]
     },
     "metadata": {},
     "output_type": "display_data"
    }
   ],
   "source": [
    "## Q2. 연도별 영화제작 건수는 어떠한가? \n",
    "movie_data['year'] = movie_data['title'].apply(lambda x: x[-5:-1])\n",
    "m = movie_data['year'].value_counts()\n",
    "\n",
    "print(m)\n",
    "m.plot()"
   ]
  },
  {
   "cell_type": "code",
   "execution_count": 8,
   "id": "c9c6a204-d95d-49f3-9ea5-bc496633c8d3",
   "metadata": {},
   "outputs": [
    {
     "name": "stdout",
     "output_type": "stream",
     "text": [
      "1910       3\n",
      "1920      34\n",
      "1930      77\n",
      "1940     126\n",
      "1950     168\n",
      "1960     191\n",
      "1970     247\n",
      "1980     598\n",
      "1990    2283\n",
      "2000     156\n",
      "Name: year_term, dtype: int64\n"
     ]
    },
    {
     "data": {
      "text/plain": [
       "<AxesSubplot:>"
      ]
     },
     "execution_count": 8,
     "metadata": {},
     "output_type": "execute_result"
    },
    {
     "data": {
      "image/png": "[encoded data removed]",
      "text/plain": [
       "<Figure size 432x288 with 1 Axes>"
      ]
     },
     "metadata": {},
     "output_type": "display_data"
    }
   ],
   "source": [
    "### 연대별 분포로 변환 \n",
    "movie_data['year_term'] = movie_data['title'].apply(lambda x: x[-5:-2]+\"0\")\n",
    "moview_year_term = movie_data['year_term'].value_counts().sort_index()\n",
    "print(moview_year_term)\n",
    "\n",
    "sns.barplot(x=moview_year_term.index, y=moview_year_term.values)"
   ]
  },
  {
   "cell_type": "code",
   "execution_count": 9,
   "id": "07021343-a1cb-4a23-94be-bb004663eef5",
   "metadata": {},
   "outputs": [
    {
     "data": {
      "text/plain": [
       "{'Animation': 105,\n",
       " \"Children's\": 251,\n",
       " 'Comedy': 1200,\n",
       " 'Adventure': 283,\n",
       " 'Fantasy': 68,\n",
       " 'Romance': 471,\n",
       " 'Drama': 1603,\n",
       " 'Action': 503,\n",
       " 'Crime': 211,\n",
       " 'Thriller': 492,\n",
       " 'Horror': 343,\n",
       " 'Sci-Fi': 276,\n",
       " 'Documentary': 127,\n",
       " 'War': 143,\n",
       " 'Musical': 114,\n",
       " 'Mystery': 106,\n",
       " 'Film-Noir': 44,\n",
       " 'Western': 68}"
      ]
     },
     "execution_count": 9,
     "metadata": {},
     "output_type": "execute_result"
    }
   ],
   "source": [
    "## Q3. 장르별 분포는 어떠한가? \n",
    "#### --> genre 컬럼을 구분자로 분리한 후, 각 장르의 갯수를 계산하여 unique_genre_dict에 저장한다. \n",
    "unique_genre_dict = {}\n",
    "\n",
    "for index, row in movie_data.iterrows() : \n",
    "    genre_combination = row['genre']\n",
    "    parsed_genre = genre_combination.split('|')\n",
    "    \n",
    "    for genre in parsed_genre : \n",
    "        if genre in unique_genre_dict : \n",
    "            unique_genre_dict[genre] += 1\n",
    "        else : \n",
    "            unique_genre_dict[genre] = 1    \n",
    "            \n",
    "\n",
    "unique_genre_dict"
   ]
  },
  {
   "cell_type": "code",
   "execution_count": 10,
   "id": "995d5f49-9d18-48c0-9e2a-0e954fed6f66",
   "metadata": {},
   "outputs": [
    {
     "data": {
      "text/plain": [
       "<AxesSubplot:>"
      ]
     },
     "execution_count": 10,
     "metadata": {},
     "output_type": "execute_result"
    },
    {
     "data": {
      "image/png": "[encoded data removed]",
      "text/plain": [
       "<Figure size 1080x360 with 1 Axes>"
      ]
     },
     "metadata": {},
     "output_type": "display_data"
    }
   ],
   "source": [
    "## unique_genre_dict의 key와 value를 x,y로 하여 차트를 그린다. \n",
    "plt.figure(figsize = (15, 5))\n",
    "sns.barplot(list(unique_genre_dict.keys()), \n",
    "            list(unique_genre_dict.values())\n",
    "           )"
   ]
  },
  {
   "cell_type": "code",
   "execution_count": 11,
   "id": "b5109b58-a520-4c10-a800-b070ffc012dd",
   "metadata": {},
   "outputs": [
    {
     "name": "stdout",
     "output_type": "stream",
     "text": [
      "분석대상 User 인원 :  6040\n",
      "------------------------------------------\n",
      "성별 user수 : \n",
      "M    4331\n",
      "F    1709\n",
      "Name: gender, dtype: int64\n",
      "------------------------------------------\n",
      "연령별 user수 : \n",
      "25    2096\n",
      "35    1193\n",
      "18    1103\n",
      "45     550\n",
      "50     496\n",
      "56     380\n",
      "1      222\n",
      "Name: age, dtype: int64\n"
     ]
    }
   ],
   "source": [
    "## Q4. 분석 대상 user의 수와, 성/연령 분포를 살펴보자 \n",
    "s = len(user_data['user_id'].unique())\n",
    "print('분석대상 User 인원 : ', s)\n",
    "\n",
    "print('------------------------------------------')\n",
    "\n",
    "user_gender = user_data['gender'].value_counts()\n",
    "print('성별 user수 : ', user_gender, sep = '\\n')\n",
    "\n",
    "print('------------------------------------------')\n",
    "\n",
    "user_age = user_data['age'].value_counts()\n",
    "print('연령별 user수 : ', user_age, sep = '\\n')"
   ]
  },
  {
   "cell_type": "code",
   "execution_count": 12,
   "id": "ce3d16cf-8e31-4168-b8e1-98ecee808eb1",
   "metadata": {},
   "outputs": [
    {
     "data": {
      "text/plain": [
       "<AxesSubplot:>"
      ]
     },
     "execution_count": 12,
     "metadata": {},
     "output_type": "execute_result"
    },
    {
     "data": {
      "image/png": "[encoded data removed]",
      "text/plain": [
       "<Figure size 432x288 with 1 Axes>"
      ]
     },
     "metadata": {},
     "output_type": "display_data"
    }
   ],
   "source": [
    "sns.barplot(x = user_gender.index, y = user_gender.values)"
   ]
  },
  {
   "cell_type": "code",
   "execution_count": 13,
   "id": "928f2f21-1207-4d79-8746-0abb58511be7",
   "metadata": {},
   "outputs": [
    {
     "data": {
      "text/plain": [
       "<AxesSubplot:>"
      ]
     },
     "execution_count": 13,
     "metadata": {},
     "output_type": "execute_result"
    },
    {
     "data": {
      "image/png": "[encoded data removed]",
      "text/plain": [
       "<Figure size 432x288 with 1 Axes>"
      ]
     },
     "metadata": {},
     "output_type": "display_data"
    }
   ],
   "source": [
    "sns.barplot(x = user_age.index, y = user_age.values)"
   ]
  },
  {
   "cell_type": "code",
   "execution_count": 14,
   "id": "9ced8abc-d237-4635-9143-290c460609af",
   "metadata": {},
   "outputs": [
    {
     "name": "stdout",
     "output_type": "stream",
     "text": [
      "Total numbers of Movies: 3883\n",
      "Total numbers of Rated Movies : 3706\n",
      "The numbers of Movies rated under #100 : 1687\n"
     ]
    }
   ],
   "source": [
    "## Q5. 영화별 평가 갯수는? \n",
    "a = len(movie_data['movie_id'].unique())\n",
    "print('Total numbers of Movies:', a)\n",
    "\n",
    "movie_rate_count = rating_data.groupby('movie_id')['rating'].count().values\n",
    "b = len(movie_rate_count)\n",
    "print('Total numbers of Rated Movies :', b)\n",
    "\n",
    "c = len(movie_rate_count[movie_rate_count < 100])\n",
    "print('The numbers of Movies rated under #100 :', c)"
   ]
  },
  {
   "cell_type": "code",
   "execution_count": 15,
   "id": "b1b50c0c-757d-4a8c-8a38-590c7b55ff03",
   "metadata": {},
   "outputs": [
    {
     "data": {
      "text/plain": [
       "<AxesSubplot:ylabel='Count'>"
      ]
     },
     "execution_count": 15,
     "metadata": {},
     "output_type": "execute_result"
    },
    {
     "data": {
      "image/png": "[encoded data removed]",
      "text/plain": [
       "<Figure size 432x288 with 1 Axes>"
      ]
     },
     "metadata": {},
     "output_type": "display_data"
    }
   ],
   "source": [
    "sns.histplot(x = movie_rate_count)"
   ]
  },
  {
   "cell_type": "code",
   "execution_count": 16,
   "id": "80ab5071-7968-4607-b9eb-778740e9655e",
   "metadata": {},
   "outputs": [
    {
     "name": "stdout",
     "output_type": "stream",
     "text": [
      "          rated_count  rating_mean\n",
      "movie_id                          \n",
      "1                2077     4.146846\n",
      "2                 701     3.201141\n",
      "3                 478     3.016736\n",
      "4                 170     2.729412\n",
      "5                 296     3.006757\n",
      "...               ...          ...\n",
      "3948              862     3.635731\n",
      "3949              304     4.115132\n",
      "3950               54     3.666667\n",
      "3951               40     3.900000\n",
      "3952              388     3.780928\n",
      "\n",
      "[3706 rows x 2 columns]\n"
     ]
    },
    {
     "data": {
      "text/plain": [
       "<AxesSubplot:xlabel='rating_mean', ylabel='Count'>"
      ]
     },
     "execution_count": 16,
     "metadata": {},
     "output_type": "execute_result"
    },
    {
     "data": {
      "image/png": "[encoded data removed]",
      "text/plain": [
       "<Figure size 432x288 with 1 Axes>"
      ]
     },
     "metadata": {},
     "output_type": "display_data"
    }
   ],
   "source": [
    "## Q6. 영화별 평균 평점은? \n",
    "movie_grouped_rating_info = rating_data.groupby(\"movie_id\")['rating'].agg(['count','mean'])\n",
    "movie_grouped_rating_info.columns = ['rated_count', 'rating_mean']\n",
    "\n",
    "print(movie_grouped_rating_info)\n",
    "sns.histplot(x = movie_grouped_rating_info['rating_mean'])"
   ]
  },
  {
   "cell_type": "code",
   "execution_count": 17,
   "id": "b567a21f-c503-40cc-a800-8313e1c088ca",
   "metadata": {},
   "outputs": [
    {
     "data": {
      "text/html": [
       "<div>\n",
       "<style scoped>\n",
       "    .dataframe tbody tr th:only-of-type {\n",
       "        vertical-align: middle;\n",
       "    }\n",
       "\n",
       "    .dataframe tbody tr th {\n",
       "        vertical-align: top;\n",
       "    }\n",
       "\n",
       "    .dataframe thead th {\n",
       "        text-align: right;\n",
       "    }\n",
       "</style>\n",
       "<table border=\"1\" class=\"dataframe\">\n",
       "  <thead>\n",
       "    <tr style=\"text-align: right;\">\n",
       "      <th></th>\n",
       "      <th>rating_mean</th>\n",
       "      <th>title</th>\n",
       "    </tr>\n",
       "  </thead>\n",
       "  <tbody>\n",
       "    <tr>\n",
       "      <th>1839</th>\n",
       "      <td>4.560510</td>\n",
       "      <td>Seven Samurai (The Magnificent Seven) (Shichin...</td>\n",
       "    </tr>\n",
       "    <tr>\n",
       "      <th>309</th>\n",
       "      <td>4.554558</td>\n",
       "      <td>Shawshank Redemption, The (1994)</td>\n",
       "    </tr>\n",
       "    <tr>\n",
       "      <th>802</th>\n",
       "      <td>4.524966</td>\n",
       "      <td>Godfather, The (1972)</td>\n",
       "    </tr>\n",
       "    <tr>\n",
       "      <th>708</th>\n",
       "      <td>4.520548</td>\n",
       "      <td>Close Shave, A (1995)</td>\n",
       "    </tr>\n",
       "    <tr>\n",
       "      <th>49</th>\n",
       "      <td>4.517106</td>\n",
       "      <td>Usual Suspects, The (1995)</td>\n",
       "    </tr>\n",
       "    <tr>\n",
       "      <th>513</th>\n",
       "      <td>4.510417</td>\n",
       "      <td>Schindler's List (1993)</td>\n",
       "    </tr>\n",
       "    <tr>\n",
       "      <th>1066</th>\n",
       "      <td>4.507937</td>\n",
       "      <td>Wrong Trousers, The (1993)</td>\n",
       "    </tr>\n",
       "    <tr>\n",
       "      <th>861</th>\n",
       "      <td>4.491489</td>\n",
       "      <td>Sunset Blvd. (a.k.a. Sunset Boulevard) (1950)</td>\n",
       "    </tr>\n",
       "    <tr>\n",
       "      <th>1108</th>\n",
       "      <td>4.477725</td>\n",
       "      <td>Raiders of the Lost Ark (1981)</td>\n",
       "    </tr>\n",
       "    <tr>\n",
       "      <th>843</th>\n",
       "      <td>4.476190</td>\n",
       "      <td>Rear Window (1954)</td>\n",
       "    </tr>\n",
       "  </tbody>\n",
       "</table>\n",
       "</div>"
      ],
      "text/plain": [
       "      rating_mean                                              title\n",
       "1839     4.560510  Seven Samurai (The Magnificent Seven) (Shichin...\n",
       "309      4.554558                   Shawshank Redemption, The (1994)\n",
       "802      4.524966                              Godfather, The (1972)\n",
       "708      4.520548                              Close Shave, A (1995)\n",
       "49       4.517106                         Usual Suspects, The (1995)\n",
       "513      4.510417                            Schindler's List (1993)\n",
       "1066     4.507937                         Wrong Trousers, The (1993)\n",
       "861      4.491489      Sunset Blvd. (a.k.a. Sunset Boulevard) (1950)\n",
       "1108     4.477725                     Raiders of the Lost Ark (1981)\n",
       "843      4.476190                                 Rear Window (1954)"
      ]
     },
     "execution_count": 17,
     "metadata": {},
     "output_type": "execute_result"
    }
   ],
   "source": [
    "#### 100번 이상의 평가를 받은 영화 중, 평점이 높은 10개의 영화를 출력합니다.\n",
    "merged_data = movie_grouped_rating_info.merge(movie_data, on=['movie_id'], how='left')\n",
    "merged_data[merged_data['rated_count'] > 100][['rating_mean', 'title']].nlargest(10, 'rating_mean')"
   ]
  },
  {
   "cell_type": "code",
   "execution_count": 18,
   "id": "1e99ebc9-78b5-4f67-8877-754ab4729a2e",
   "metadata": {},
   "outputs": [
    {
     "data": {
      "text/html": [
       "<div>\n",
       "<style scoped>\n",
       "    .dataframe tbody tr th:only-of-type {\n",
       "        vertical-align: middle;\n",
       "    }\n",
       "\n",
       "    .dataframe tbody tr th {\n",
       "        vertical-align: top;\n",
       "    }\n",
       "\n",
       "    .dataframe thead th {\n",
       "        text-align: right;\n",
       "    }\n",
       "</style>\n",
       "<table border=\"1\" class=\"dataframe\">\n",
       "  <thead>\n",
       "    <tr style=\"text-align: right;\">\n",
       "      <th></th>\n",
       "      <th>rated_count</th>\n",
       "      <th>rating_mean</th>\n",
       "      <th>rating_std</th>\n",
       "    </tr>\n",
       "    <tr>\n",
       "      <th>user_id</th>\n",
       "      <th></th>\n",
       "      <th></th>\n",
       "      <th></th>\n",
       "    </tr>\n",
       "  </thead>\n",
       "  <tbody>\n",
       "    <tr>\n",
       "      <th>1</th>\n",
       "      <td>53</td>\n",
       "      <td>4.188679</td>\n",
       "      <td>0.680967</td>\n",
       "    </tr>\n",
       "    <tr>\n",
       "      <th>2</th>\n",
       "      <td>129</td>\n",
       "      <td>3.713178</td>\n",
       "      <td>1.001513</td>\n",
       "    </tr>\n",
       "    <tr>\n",
       "      <th>3</th>\n",
       "      <td>51</td>\n",
       "      <td>3.901961</td>\n",
       "      <td>0.984985</td>\n",
       "    </tr>\n",
       "    <tr>\n",
       "      <th>4</th>\n",
       "      <td>21</td>\n",
       "      <td>4.190476</td>\n",
       "      <td>1.077917</td>\n",
       "    </tr>\n",
       "    <tr>\n",
       "      <th>5</th>\n",
       "      <td>198</td>\n",
       "      <td>3.146465</td>\n",
       "      <td>1.132699</td>\n",
       "    </tr>\n",
       "    <tr>\n",
       "      <th>...</th>\n",
       "      <td>...</td>\n",
       "      <td>...</td>\n",
       "      <td>...</td>\n",
       "    </tr>\n",
       "    <tr>\n",
       "      <th>6036</th>\n",
       "      <td>888</td>\n",
       "      <td>3.302928</td>\n",
       "      <td>1.023684</td>\n",
       "    </tr>\n",
       "    <tr>\n",
       "      <th>6037</th>\n",
       "      <td>202</td>\n",
       "      <td>3.717822</td>\n",
       "      <td>0.877910</td>\n",
       "    </tr>\n",
       "    <tr>\n",
       "      <th>6038</th>\n",
       "      <td>20</td>\n",
       "      <td>3.800000</td>\n",
       "      <td>1.105013</td>\n",
       "    </tr>\n",
       "    <tr>\n",
       "      <th>6039</th>\n",
       "      <td>123</td>\n",
       "      <td>3.878049</td>\n",
       "      <td>0.730881</td>\n",
       "    </tr>\n",
       "    <tr>\n",
       "      <th>6040</th>\n",
       "      <td>341</td>\n",
       "      <td>3.577713</td>\n",
       "      <td>1.179719</td>\n",
       "    </tr>\n",
       "  </tbody>\n",
       "</table>\n",
       "<p>6040 rows × 3 columns</p>\n",
       "</div>"
      ],
      "text/plain": [
       "         rated_count  rating_mean  rating_std\n",
       "user_id                                      \n",
       "1                 53     4.188679    0.680967\n",
       "2                129     3.713178    1.001513\n",
       "3                 51     3.901961    0.984985\n",
       "4                 21     4.190476    1.077917\n",
       "5                198     3.146465    1.132699\n",
       "...              ...          ...         ...\n",
       "6036             888     3.302928    1.023684\n",
       "6037             202     3.717822    0.877910\n",
       "6038              20     3.800000    1.105013\n",
       "6039             123     3.878049    0.730881\n",
       "6040             341     3.577713    1.179719\n",
       "\n",
       "[6040 rows x 3 columns]"
      ]
     },
     "execution_count": 18,
     "metadata": {},
     "output_type": "execute_result"
    }
   ],
   "source": [
    "#### user별 평가한 영화 갯수와 평가점수의 평균은? \n",
    "user_grouped_rating_info = rating_data.groupby('user_id')['rating'].agg(['count','mean', 'std'])\n",
    "user_grouped_rating_info.columns = ['rated_count', 'rating_mean', 'rating_std']\n",
    "\n",
    "user_grouped_rating_info"
   ]
  },
  {
   "cell_type": "code",
   "execution_count": 19,
   "id": "33b6361c-e7d7-4336-8b89-5d5861b4e275",
   "metadata": {},
   "outputs": [
    {
     "name": "stdout",
     "output_type": "stream",
     "text": [
      "<사용자별 평가 건수에 대한 통계량>\n",
      "count    6040.000000\n",
      "mean      165.597517\n",
      "std       192.747029\n",
      "min        20.000000\n",
      "25%        44.000000\n",
      "50%        96.000000\n",
      "75%       208.000000\n",
      "max      2314.000000\n",
      "Name: rated_count, dtype: float64\n",
      "---------------------------------------------------\n",
      "<사용자별 평점 평균에 대한 통계량>\n",
      "count    6040.000000\n",
      "mean        3.702705\n",
      "std         0.429622\n",
      "min         1.015385\n",
      "25%         3.444444\n",
      "50%         3.735294\n",
      "75%         4.000000\n",
      "max         4.962963\n",
      "Name: rating_mean, dtype: float64\n"
     ]
    }
   ],
   "source": [
    "print(\"<사용자별 평가 건수에 대한 통계량>\")\n",
    "print(user_grouped_rating_info['rated_count'].describe())\n",
    "print('---------------------------------------------------')\n",
    "print(\"<사용자별 평점 평균에 대한 통계량>\")\n",
    "print(user_grouped_rating_info['rating_mean'].describe())"
   ]
  },
  {
   "cell_type": "code",
   "execution_count": 20,
   "id": "0103f4cc-ab3a-4454-9bdd-968b388f8ca8",
   "metadata": {},
   "outputs": [
    {
     "data": {
      "text/plain": [
       "[Text(0.5, 1.0, 'Rating std by users')]"
      ]
     },
     "execution_count": 20,
     "metadata": {},
     "output_type": "execute_result"
    },
    {
     "data": {
      "image/png": "[encoded data removed]",
      "text/plain": [
       "<Figure size 1080x288 with 3 Axes>"
      ]
     },
     "metadata": {},
     "output_type": "display_data"
    }
   ],
   "source": [
    "figure, ((ax1,ax2,ax3)) = plt.subplots(ncols=3)\n",
    "figure.set_size_inches(15,4)\n",
    "\n",
    "sns.histplot(x= user_grouped_rating_info['rated_count'], ax=ax1)\n",
    "sns.histplot(x= user_grouped_rating_info['rating_mean'], ax=ax2)\n",
    "sns.histplot(x= user_grouped_rating_info['rating_std'], ax=ax3)\n",
    "\n",
    "ax1.set(title='Reted count by users')\n",
    "ax2.set(title='Rating mean by users')\n",
    "ax3.set(title='Rating std by users')"
   ]
  },
  {
   "cell_type": "markdown",
   "id": "a2dc4ae8-ac6b-4bf1-8599-0858e62535ef",
   "metadata": {},
   "source": [
    "## 영화평점 예측하기 \n",
    "- 평점이 매겨지지 않은 영화가 매우 많다. 따라서 특수한 통계적 데이터 보정이 필요하다. \n",
    "- 여기서는 SVD (Singular Value Decomposition) 모형을 사용한다. \n",
    "  https://angeloyeo.github.io/2019/08/01/SVD.html"
   ]
  },
  {
   "cell_type": "code",
   "execution_count": 21,
   "id": "682dbb86-78c6-4f54-9ab6-9433274c6cc0",
   "metadata": {},
   "outputs": [],
   "source": [
    "#! pip install surprise \n",
    "# Anaconda prompt --> conda install -c conda-forge scikit-surprise "
   ]
  },
  {
   "cell_type": "code",
   "execution_count": 22,
   "id": "4151b053-64bf-48cd-ae1d-fea390623634",
   "metadata": {},
   "outputs": [],
   "source": [
    "from surprise import SVD, Dataset, Reader, accuracy\n",
    "from surprise.model_selection import train_test_split"
   ]
  },
  {
   "cell_type": "code",
   "execution_count": 23,
   "id": "a8dfa2b4-1e94-4507-867a-2a463b8ca062",
   "metadata": {},
   "outputs": [
    {
     "name": "stdout",
     "output_type": "stream",
     "text": [
      "Training Time =  74.89 sec\n"
     ]
    }
   ],
   "source": [
    "## training data \n",
    "\n",
    "#### 1) 볌위 1~5의 object 생성 \n",
    "reader = Reader(rating_scale = (1,5))\n",
    "\n",
    "#### 2) rating_data => surprise lib dataset \n",
    "data = Dataset.load_from_df(rating_data[['user_id', 'movie_id', 'rating']], reader)\n",
    "train_data = data.build_full_trainset()\n",
    "\n",
    "train_start = time.time()\n",
    "\n",
    "#### 3) SVD model traing & fit \n",
    "model = SVD(n_factors = 8, \n",
    "            lr_all = 0.05, \n",
    "            reg_all = 0.02, \n",
    "            n_epochs = 100\n",
    "            )\n",
    "\n",
    "model.fit(train_data)\n",
    "\n",
    "train_end = time.time()\n",
    "print('Training Time = ', round(train_end - train_start, 2), 'sec')"
   ]
  },
  {
   "cell_type": "markdown",
   "id": "ca67e6ac-6f8b-40a3-8344-745b1413cb88",
   "metadata": {},
   "source": [
    "##### <font color = 'yellow'> # 특정 유저(user_id = k)에 대해 그가 아직 보지 않은 영화에 대한 평가점수를 예측하라 </font>"
   ]
  },
  {
   "cell_type": "code",
   "execution_count": 24,
   "id": "5441a404-b1b9-4fe9-b88c-e6f95b1db3e9",
   "metadata": {},
   "outputs": [
    {
     "data": {
      "text/html": [
       "<div>\n",
       "<style scoped>\n",
       "    .dataframe tbody tr th:only-of-type {\n",
       "        vertical-align: middle;\n",
       "    }\n",
       "\n",
       "    .dataframe tbody tr th {\n",
       "        vertical-align: top;\n",
       "    }\n",
       "\n",
       "    .dataframe thead th {\n",
       "        text-align: right;\n",
       "    }\n",
       "</style>\n",
       "<table border=\"1\" class=\"dataframe\">\n",
       "  <thead>\n",
       "    <tr style=\"text-align: right;\">\n",
       "      <th></th>\n",
       "      <th>user_id</th>\n",
       "      <th>movie_id</th>\n",
       "      <th>rating</th>\n",
       "      <th>time</th>\n",
       "    </tr>\n",
       "  </thead>\n",
       "  <tbody>\n",
       "    <tr>\n",
       "      <th>233</th>\n",
       "      <td>4</td>\n",
       "      <td>3468</td>\n",
       "      <td>5</td>\n",
       "      <td>978294008</td>\n",
       "    </tr>\n",
       "    <tr>\n",
       "      <th>234</th>\n",
       "      <td>4</td>\n",
       "      <td>1210</td>\n",
       "      <td>3</td>\n",
       "      <td>978293924</td>\n",
       "    </tr>\n",
       "    <tr>\n",
       "      <th>235</th>\n",
       "      <td>4</td>\n",
       "      <td>2951</td>\n",
       "      <td>4</td>\n",
       "      <td>978294282</td>\n",
       "    </tr>\n",
       "    <tr>\n",
       "      <th>236</th>\n",
       "      <td>4</td>\n",
       "      <td>1214</td>\n",
       "      <td>4</td>\n",
       "      <td>978294260</td>\n",
       "    </tr>\n",
       "    <tr>\n",
       "      <th>237</th>\n",
       "      <td>4</td>\n",
       "      <td>1036</td>\n",
       "      <td>4</td>\n",
       "      <td>978294282</td>\n",
       "    </tr>\n",
       "  </tbody>\n",
       "</table>\n",
       "</div>"
      ],
      "text/plain": [
       "     user_id  movie_id  rating       time\n",
       "233        4      3468       5  978294008\n",
       "234        4      1210       3  978293924\n",
       "235        4      2951       4  978294282\n",
       "236        4      1214       4  978294260\n",
       "237        4      1036       4  978294282"
      ]
     },
     "execution_count": 24,
     "metadata": {},
     "output_type": "execute_result"
    }
   ],
   "source": [
    "k = 4\n",
    "target_user_data = rating_data[rating_data['user_id'] == k]\n",
    "target_user_data.head()"
   ]
  },
  {
   "cell_type": "code",
   "execution_count": 25,
   "id": "9f6cdb5b-1122-47f5-b7a6-cc991234395f",
   "metadata": {},
   "outputs": [
    {
     "data": {
      "text/plain": [
       "{3468: 5,\n",
       " 1210: 3,\n",
       " 2951: 4,\n",
       " 1214: 4,\n",
       " 1036: 4,\n",
       " 260: 5,\n",
       " 2028: 5,\n",
       " 480: 4,\n",
       " 1196: 2,\n",
       " 1198: 5,\n",
       " 1954: 5,\n",
       " 1097: 4,\n",
       " 3418: 4,\n",
       " 3702: 4,\n",
       " 2366: 4,\n",
       " 1387: 5,\n",
       " 3527: 1,\n",
       " 1201: 5,\n",
       " 2692: 5,\n",
       " 2947: 5,\n",
       " 1240: 5}"
      ]
     },
     "execution_count": 25,
     "metadata": {},
     "output_type": "execute_result"
    }
   ],
   "source": [
    "#### k가 기존에 평가했던 정보 추출 \n",
    "target_user_movie_rating_dict = {}\n",
    "\n",
    "for index, row in target_user_data.iterrows() : \n",
    "    movie_id = row['movie_id']\n",
    "    target_user_movie_rating_dict[movie_id] = row['rating']\n",
    "    \n",
    "target_user_movie_rating_dict"
   ]
  },
  {
   "cell_type": "code",
   "execution_count": 33,
   "id": "08b2f66b-1366-42cf-b674-15312e68bbb9",
   "metadata": {},
   "outputs": [
    {
     "name": "stdout",
     "output_type": "stream",
     "text": [
      "3862\n"
     ]
    },
    {
     "data": {
      "text/plain": [
       "[(4, 1, 0), (4, 2, 0), (4, 3, 0), (4, 4, 0), (4, 5, 0)]"
      ]
     },
     "execution_count": 33,
     "metadata": {},
     "output_type": "execute_result"
    }
   ],
   "source": [
    "## k가 아직 보지 않은 영화 정보 추출 \n",
    "test_data = []\n",
    "\n",
    "for index, row in movie_data.iterrows(): \n",
    "    movie_id = row['movie_id']\n",
    "    rating = 0 \n",
    "    if movie_id in target_user_movie_rating_dict : \n",
    "        continue \n",
    "    test_data.append((k, movie_id, rating))\n",
    "\n",
    "    \n",
    "print(len(test_data))\n",
    "test_data[:5]"
   ]
  },
  {
   "cell_type": "code",
   "execution_count": 36,
   "id": "3a5b8a8c-2af6-4fd7-8e8b-d237bc6077c1",
   "metadata": {},
   "outputs": [
    {
     "name": "stdout",
     "output_type": "stream",
     "text": [
      "3862\n"
     ]
    },
    {
     "data": {
      "text/plain": [
       "[Prediction(uid=4, iid=1, r_ui=0, est=4.781515915156936, details={'was_impossible': False}),\n",
       " Prediction(uid=4, iid=2, r_ui=0, est=3.373382840249221, details={'was_impossible': False}),\n",
       " Prediction(uid=4, iid=3, r_ui=0, est=2.3464776895401087, details={'was_impossible': False}),\n",
       " Prediction(uid=4, iid=4, r_ui=0, est=1.9975367997227238, details={'was_impossible': False}),\n",
       " Prediction(uid=4, iid=5, r_ui=0, est=1.9491636237000711, details={'was_impossible': False})]"
      ]
     },
     "execution_count": 36,
     "metadata": {},
     "output_type": "execute_result"
    }
   ],
   "source": [
    "## k의 평점 예측 \n",
    "target_user_predictions = model.test(test_data)\n",
    "\n",
    "print(len(target_user_predictions))\n",
    "target_user_predictions[:5]"
   ]
  },
  {
   "cell_type": "code",
   "execution_count": 38,
   "id": "b1950256-9f67-4b8c-b675-6320049485f2",
   "metadata": {},
   "outputs": [],
   "source": [
    "## 예측결과 저장 \n",
    "def get_user_predicted_ratings(predictions, user_id, user_history) : \n",
    "    target_user_movie_predict_dict = {}\n",
    "    \n",
    "    for uid, mid, rating, predicted_rating, _ in predictions : \n",
    "        if user_id == uid : \n",
    "            if mid not in user_history : \n",
    "                target_user_movie_predict_dict[mid] = predicted_rating \n",
    "    return target_user_movie_predict_dict"
   ]
  },
  {
   "cell_type": "code",
   "execution_count": 51,
   "id": "560cbc25-c867-46a7-8d6a-bb14c394f526",
   "metadata": {},
   "outputs": [
    {
     "data": {
      "text/plain": [
       "[(21, 5),\n",
       " (28, 5),\n",
       " (50, 5),\n",
       " (58, 5),\n",
       " (106, 5),\n",
       " (111, 5),\n",
       " (123, 5),\n",
       " (150, 5),\n",
       " (183, 5),\n",
       " (206, 5)]"
      ]
     },
     "execution_count": 51,
     "metadata": {},
     "output_type": "execute_result"
    }
   ],
   "source": [
    "target_user_movie_predict_dict = get_user_predicted_ratings(predictions = target_user_predictions,\n",
    "                                                            user_id = k, \n",
    "                                                            user_history = target_user_movie_rating_dict)\n",
    "\n",
    "## 저장된 dict로 부터 평점 Top 10 추출\n",
    "target_user_top10_predicted = sorted(target_user_movie_predict_dict.items(), \n",
    "                                     key= operator.itemgetter(1), \n",
    "                                     reverse = True)[:10]\n",
    "target_user_top10_predicted"
   ]
  },
  {
   "cell_type": "code",
   "execution_count": 52,
   "id": "67b97761-b0ea-4766-8853-f16dca0fff8a",
   "metadata": {},
   "outputs": [
    {
     "name": "stdout",
     "output_type": "stream",
     "text": [
      "Get Shorty (1995) : 5\n",
      "Persuasion (1995) : 5\n",
      "Usual Suspects, The (1995) : 5\n",
      "Postino, Il (The Postman) (1994) : 5\n",
      "Nobody Loves Me (Keiner liebt mich) (1994) : 5\n",
      "Taxi Driver (1976) : 5\n",
      "Chungking Express (1994) : 5\n",
      "Apollo 13 (1995) : 5\n",
      "Mute Witness (1994) : 5\n",
      "Unzipped (1995) : 5\n"
     ]
    }
   ],
   "source": [
    "## top10과 title 매칭 \n",
    "movie_dict = {}\n",
    "\n",
    "for index, row in movie_data.iterrows() : \n",
    "    movie_id = row['movie_id']\n",
    "    movie_title = row['title']\n",
    "    movie_dict[movie_id] = movie_title \n",
    "    \n",
    "for predicted in target_user_top10_predicted : \n",
    "    movie_id = predicted[0]\n",
    "    predicted_rating = predicted[1]\n",
    "    print(movie_dict[movie_id], ':', predicted_rating)"
   ]
  },
  {
   "cell_type": "markdown",
   "id": "d3f65616-6295-4e69-b38c-00a67beffc66",
   "metadata": {},
   "source": [
    "##### <font color = 'yellow'> # Model Validation </font>"
   ]
  },
  {
   "cell_type": "code",
   "execution_count": 53,
   "id": "ab2a15b7-98c0-4e19-bcb9-396842e99ea9",
   "metadata": {},
   "outputs": [
    {
     "name": "stdout",
     "output_type": "stream",
     "text": [
      "training time of model: 66.87 seconds\n",
      "RMSE of test dataset in SVD model:\n",
      "RMSE: 0.8603\n"
     ]
    },
    {
     "data": {
      "text/plain": [
       "0.8602569003556679"
      ]
     },
     "execution_count": 53,
     "metadata": {},
     "output_type": "execute_result"
    }
   ],
   "source": [
    "## RMSE(Root Mean Squre Error) 계산 \n",
    "## SVD 라이브러리를 사용하기 위한 학습 데이터를 생성합니다. 학습 데이터와 테스트 데이터를 8:2로 분할합니다.\n",
    "reader = Reader(rating_scale=(1, 5))\n",
    "data = Dataset.load_from_df(rating_data[['user_id', 'movie_id', 'rating']], reader)\n",
    "train_data, test_data = train_test_split(data, test_size=0.2)\n",
    "\n",
    "# SVD 모델을 학습합니다.\n",
    "train_start = time.time()\n",
    "model = SVD(n_factors=8,\n",
    "            lr_all=0.005,\n",
    "            reg_all=0.02,\n",
    "            n_epochs=100)\n",
    "model.fit(train_data)\n",
    "train_end = time.time()\n",
    "print(\"training time of model: %.2f seconds\" % (train_end - train_start))\n",
    "\n",
    "predictions = model.test(test_data)\n",
    "\n",
    "# 테스트 데이터의 RMSE를 출력합니다.\n",
    "print(\"RMSE of test dataset in SVD model:\")\n",
    "accuracy.rmse(predictions)"
   ]
  },
  {
   "cell_type": "code",
   "execution_count": 54,
   "id": "b50d1f9a-2391-41c4-9699-51e2cba7c881",
   "metadata": {},
   "outputs": [
    {
     "name": "stdout",
     "output_type": "stream",
     "text": [
      "training time of model: 52.76 seconds\n",
      "RMSE of test dataset in SVD model, n_factors=1\n",
      "RMSE: 0.8824\n",
      "------------------------------------\n",
      "training time of model: 56.14 seconds\n",
      "RMSE of test dataset in SVD model, n_factors=2\n",
      "RMSE: 0.8715\n",
      "------------------------------------\n",
      "training time of model: 56.69 seconds\n",
      "RMSE of test dataset in SVD model, n_factors=3\n",
      "RMSE: 0.8664\n",
      "------------------------------------\n",
      "training time of model: 58.34 seconds\n",
      "RMSE of test dataset in SVD model, n_factors=4\n",
      "RMSE: 0.8629\n",
      "------------------------------------\n",
      "training time of model: 60.63 seconds\n",
      "RMSE of test dataset in SVD model, n_factors=5\n",
      "RMSE: 0.8603\n",
      "------------------------------------\n",
      "training time of model: 61.40 seconds\n",
      "RMSE of test dataset in SVD model, n_factors=6\n",
      "RMSE: 0.8590\n",
      "------------------------------------\n",
      "training time of model: 64.65 seconds\n",
      "RMSE of test dataset in SVD model, n_factors=7\n",
      "RMSE: 0.8603\n",
      "------------------------------------\n",
      "training time of model: 66.08 seconds\n",
      "RMSE of test dataset in SVD model, n_factors=8\n",
      "RMSE: 0.8596\n",
      "------------------------------------\n",
      "training time of model: 67.70 seconds\n",
      "RMSE of test dataset in SVD model, n_factors=9\n",
      "RMSE: 0.8635\n",
      "------------------------------------\n",
      "training time of model: 69.03 seconds\n",
      "RMSE of test dataset in SVD model, n_factors=10\n",
      "RMSE: 0.8618\n",
      "------------------------------------\n",
      "training time of model: 71.65 seconds\n",
      "RMSE of test dataset in SVD model, n_factors=11\n",
      "RMSE: 0.8643\n",
      "------------------------------------\n",
      "training time of model: 73.10 seconds\n",
      "RMSE of test dataset in SVD model, n_factors=12\n",
      "RMSE: 0.8641\n",
      "------------------------------------\n",
      "training time of model: 74.18 seconds\n",
      "RMSE of test dataset in SVD model, n_factors=13\n",
      "RMSE: 0.8688\n",
      "------------------------------------\n",
      "training time of model: 75.48 seconds\n",
      "RMSE of test dataset in SVD model, n_factors=14\n",
      "RMSE: 0.8687\n",
      "------------------------------------\n",
      "searching n_factors is finish.\n"
     ]
    }
   ],
   "source": [
    "## Hyper parameter tunning : n_factors를 변경하며 RMSE 변화를 관찰한다 \n",
    "rmse_list_by_factors = []\n",
    "ttime_list_by_factors = []\n",
    "\n",
    "for n in range(1, 15):    \n",
    "    train_start = time.time()\n",
    "    model = SVD(n_factors=n,\n",
    "                lr_all=0.005,\n",
    "                reg_all=0.02,\n",
    "                n_epochs=100)\n",
    "    model.fit(train_data)\n",
    "    train_end = time.time()\n",
    "    print(\"training time of model: %.2f seconds\" % (train_end - train_start))\n",
    "    print(\"RMSE of test dataset in SVD model, n_factors=\" + str(n))\n",
    "    predictions = model.test(test_data)\n",
    "    rmse_result = accuracy.rmse(predictions)\n",
    "    rmse_list_by_factors.append(rmse_result)\n",
    "    ttime_list_by_factors.append((train_end - train_start))\n",
    "    print(\"------------------------------------\")\n",
    "print(\"searching n_factors is finish.\")"
   ]
  },
  {
   "cell_type": "code",
   "execution_count": 55,
   "id": "4db581ef-bdaf-4948-8c5c-f929289d7c56",
   "metadata": {},
   "outputs": [
    {
     "data": {
      "image/png": "[encoded data removed]",
      "text/plain": [
       "<Figure size 432x288 with 1 Axes>"
      ]
     },
     "metadata": {},
     "output_type": "display_data"
    }
   ],
   "source": [
    "plt.plot(range(1, 15), rmse_list_by_factors, alpha=0.8)\n",
    "plt.title('RMSE by n_factors of SVD')\n",
    "plt.ylabel('RMSE', fontsize=12)\n",
    "plt.xlabel('n_factors', fontsize=12)\n",
    "plt.show()"
   ]
  },
  {
   "cell_type": "markdown",
   "id": "14267091-e4e3-4c01-af59-9793e8c23464",
   "metadata": {},
   "source": [
    " ### Additional : 20대가 선호하는 영화는? "
   ]
  },
  {
   "cell_type": "code",
   "execution_count": 61,
   "id": "2a283393-2fb7-45fd-b8d8-2886b421a77c",
   "metadata": {},
   "outputs": [
    {
     "name": "stdout",
     "output_type": "stream",
     "text": [
      "preprocess time: 689.25 seconds\n",
      "20대가 좋아할지도 모르는 영화 Top 10\n",
      "---------------------------------\n",
      "title: Sanjuro (1962) | rating: 4.643406741976898\n",
      "title: Shawshank Redemption, The (1994) | rating: 4.51253493085758\n",
      "title: Apple, The (Sib) (1998) | rating: 4.497230465688192\n",
      "title: Usual Suspects, The (1995) | rating: 4.4893304997073225\n",
      "title: Aparajito (1956) | rating: 4.447994479818288\n",
      "title: Harmonists, The (1997) | rating: 4.417740114041917\n",
      "title: Seven Samurai (The Magnificent Seven) (Shichinin no samurai) (1954) | rating: 4.390433497110788\n",
      "title: Mamma Roma (1962) | rating: 4.380555160277418\n",
      "title: Schindler's List (1993) | rating: 4.376227916024946\n",
      "title: Wrong Trousers, The (1993) | rating: 4.367924599145673\n"
     ]
    }
   ],
   "source": [
    "## 20대 추출\n",
    "user_data_under_30 = user_data[user_data['age'] < 30]\n",
    "user_data_20 = user_data_under_30[user_data_under_30['age'] >= 20]\n",
    "\n",
    "user_age_20_list = user_data_20['user_id'].tolist()\n",
    "\n",
    "# 평가하지 않은 user-movie rating들에 대한 예측값을 계산합니다.\n",
    "preprocess_start = time.time()\n",
    "test_data = train_data.build_anti_testset()\n",
    "predictions = model.test(test_data)\n",
    "\n",
    "# 평가하지 않은 user-movie rating 중에서, 20대의 예측값을 선별합니다.\n",
    "hidden_user_age_20_movie_predict_dict = {}\n",
    "for uid, mid, _, predicted_rating, _ in predictions:\n",
    "    if uid in user_age_20_list:\n",
    "        if mid in hidden_user_age_20_movie_predict_dict:\n",
    "            hidden_user_age_20_movie_predict_dict[mid]['sum'] += predicted_rating\n",
    "            hidden_user_age_20_movie_predict_dict[mid]['count'] += 1\n",
    "        else:\n",
    "            hidden_user_age_20_movie_predict_dict[mid] = {}\n",
    "            hidden_user_age_20_movie_predict_dict[mid]['sum'] = predicted_rating\n",
    "            hidden_user_age_20_movie_predict_dict[mid]['count'] = 1\n",
    "\n",
    "# 영화마다 20대 유저의 rating 평균값을 계산합니다.\n",
    "for movie_id, score_dict in hidden_user_age_20_movie_predict_dict.items():\n",
    "    score_dict['mean'] = score_dict['sum'] / score_dict['count']\n",
    "    \n",
    "# Top 10 movie_id를 추출합니다.\n",
    "hidden_user_age_20_movie_list = sorted(hidden_user_age_20_movie_predict_dict, \n",
    "                                       key=lambda x: (hidden_user_age_20_movie_predict_dict[x]['mean']), \n",
    "                                       reverse=True)[:10]\n",
    "\n",
    "preprocess_end = time.time()\n",
    "print(\"preprocess time: %.2f seconds\" % (preprocess_end - preprocess_start))\n",
    "\n",
    "# 선정된 리스트를 출력합니다.\n",
    "print(\"20대가 좋아할지도 모르는 영화 Top 10\")\n",
    "print(\"---------------------------------\")\n",
    "for movie_id in hidden_user_age_20_movie_list:\n",
    "    movie_title = movie_dict[movie_id]\n",
    "    age_20_rating = hidden_user_age_20_movie_predict_dict[movie_id]['mean']\n",
    "    print(\"title:\", movie_title, \"| rating:\", age_20_rating)"
   ]
  },
  {
   "cell_type": "code",
   "execution_count": null,
   "id": "08b16252-c62c-4ad9-a603-22cbc8335b61",
   "metadata": {},
   "outputs": [],
   "source": []
  },
  {
   "cell_type": "code",
   "execution_count": null,
   "id": "b6c2fb09-e425-4b83-8779-30537837be0d",
   "metadata": {},
   "outputs": [],
   "source": []
  }
 ],
 "metadata": {
  "kernelspec": {
   "display_name": "Python 3",
   "language": "python",
   "name": "python3"
  },
  "language_info": {
   "codemirror_mode": {
    "name": "ipython",
    "version": 3
   },
   "file_extension": ".py",
   "mimetype": "text/x-python",
   "name": "python",
   "nbconvert_exporter": "python",
   "pygments_lexer": "ipython3",
   "version": "3.9.1"
  }
 },
 "nbformat": 4,
 "nbformat_minor": 5
}
