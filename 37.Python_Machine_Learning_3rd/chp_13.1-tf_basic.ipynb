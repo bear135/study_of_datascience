{
 "cells": [
  {
   "cell_type": "markdown",
   "id": "ebbe0170-9298-449a-8973-a36e9a220b87",
   "metadata": {},
   "source": [
    "### 13장 텐서플로를 사용하여 신경망 훈련\n",
    "- 1) 텐서플로 기초 조작\n",
    "--- "
   ]
  },
  {
   "cell_type": "code",
   "execution_count": 2,
   "id": "e197b682-6787-446e-884a-d98ec479ecc5",
   "metadata": {},
   "outputs": [],
   "source": [
    "import numpy as np \n",
    "import pandas as pd\n",
    "import matplotlib.pyplot as plt \n",
    "import seaborn as sns\n",
    "import warnings\n",
    "warnings.filterwarnings(action='ignore')"
   ]
  },
  {
   "cell_type": "code",
   "execution_count": 3,
   "id": "38462a0b-2fe7-493b-8f98-a31c236bc26d",
   "metadata": {
    "tags": []
   },
   "outputs": [],
   "source": [
    "#!pip install tensorflow\n",
    "import tensorflow as tf"
   ]
  },
  {
   "cell_type": "markdown",
   "id": "d041c366-81e1-4930-bb5f-a0a484d67fa6",
   "metadata": {},
   "source": [
    "---\n",
    "#### 1. tensor 조작 기초 \n",
    "- tf.conver_to_tensor : 리스트, 넘파이 배열로 부터 텐서 만들기 \n",
    "- tf.ones(), tf.zeros(), tf.one_hot(), tf.fill(), tf.cast(), tf.reshape(), tf.squeeze(), tf.expand_dims()\n",
    "---"
   ]
  },
  {
   "cell_type": "code",
   "execution_count": 11,
   "id": "d3126f25-f8e3-44cb-b3e6-19a5ec7e718f",
   "metadata": {},
   "outputs": [
    {
     "name": "stdout",
     "output_type": "stream",
     "text": [
      "[1, 2, 3] [4, 5, 6]\n",
      "tf.Tensor([1 2 3], shape=(3,), dtype=int32) tf.Tensor([4 5 6], shape=(3,), dtype=int32)\n"
     ]
    }
   ],
   "source": [
    "## 넘파이 array -> tensor \n",
    "a = [1,2,3]\n",
    "b = [4,5,6]\n",
    "print(a, b)\n",
    "\n",
    "t_a = tf.convert_to_tensor(a)\n",
    "t_b = tf.convert_to_tensor(b)\n",
    "print(t_a, t_b)"
   ]
  },
  {
   "cell_type": "code",
   "execution_count": 23,
   "id": "258ecbee-a975-4247-a47d-3a90da9ac8c4",
   "metadata": {},
   "outputs": [
    {
     "name": "stdout",
     "output_type": "stream",
     "text": [
      "tf.Tensor(\n",
      "[[1. 1. 1.]\n",
      " [1. 1. 1.]], shape=(2, 3), dtype=float32) \n",
      " tf.Tensor(\n",
      "[[0. 0. 0. 0. 0.]\n",
      " [0. 0. 0. 0. 0.]\n",
      " [0. 0. 0. 0. 0.]\n",
      " [0. 0. 0. 0. 0.]], shape=(4, 5), dtype=float32)\n"
     ]
    }
   ],
   "source": [
    "## tf.ones(), tf.zeros() : 0 또는 1로 구성된 텐서 만들기 \n",
    "## tensor의 참조값을 얻으려면 .numpy() 사용\n",
    "c = tf.ones([2,3])\n",
    "d = tf.zeros([4,5])\n",
    "print(c, '\\n' ,d)"
   ]
  },
  {
   "cell_type": "code",
   "execution_count": 24,
   "id": "4b72fe63-5352-4636-8631-bdb72f8a4b79",
   "metadata": {},
   "outputs": [
    {
     "data": {
      "text/plain": [
       "<tf.Tensor: shape=(3, 4), dtype=float32, numpy=\n",
       "array([[1., 0., 0., 0.],\n",
       "       [0., 1., 0., 0.],\n",
       "       [0., 0., 1., 0.]], dtype=float32)>"
      ]
     },
     "execution_count": 24,
     "metadata": {},
     "output_type": "execute_result"
    }
   ],
   "source": [
    "## tf.one_hot(i, j) : 원-핫 인코딩에 유용, i는 원핫코딩 위치 인덱스 - j는 원핫코딩 인코딩 벡터 길이  \n",
    "tf.one_hot([0,1,2],4)"
   ]
  },
  {
   "cell_type": "code",
   "execution_count": 27,
   "id": "2944ea93-901d-4530-85c7-04de56d0fa52",
   "metadata": {},
   "outputs": [
    {
     "data": {
      "text/plain": [
       "<tf.Tensor: shape=(2, 3), dtype=int32, numpy=\n",
       "array([[9, 9, 9],\n",
       "       [9, 9, 9]])>"
      ]
     },
     "execution_count": 27,
     "metadata": {},
     "output_type": "execute_result"
    }
   ],
   "source": [
    "## tf.fill(i, j) : 원하는 스칼라 값으로 채워진 텐서 만들기. i는 텐서의 크기를, j는 채우려는 스칼라 값 \n",
    "tf.fill((2,3), 9)"
   ]
  },
  {
   "cell_type": "code",
   "execution_count": 85,
   "id": "d55a7795-fcf7-4ebc-8714-16a5833d04b5",
   "metadata": {},
   "outputs": [
    {
     "data": {
      "text/plain": [
       "<tf.Tensor: shape=(2, 2, 3), dtype=int32, numpy=\n",
       "array([[[ 1,  2,  3],\n",
       "        [ 4,  5,  6]],\n",
       "\n",
       "       [[ 7,  8,  9],\n",
       "        [10, 11, 12]]])>"
      ]
     },
     "execution_count": 85,
     "metadata": {},
     "output_type": "execute_result"
    }
   ],
   "source": [
    "## tf.constant() : 특정값으로 텐서 만들기 \n",
    "tf.constant(np.arange(1, 13, dtype=np.int32), shape=[2, 2, 3])"
   ]
  },
  {
   "cell_type": "code",
   "execution_count": 37,
   "id": "5b284d54-b567-4465-b2b6-3dec456669c4",
   "metadata": {},
   "outputs": [
    {
     "name": "stdout",
     "output_type": "stream",
     "text": [
      "<dtype: 'int32'>\n",
      "<dtype: 'int64'>\n",
      "<dtype: 'float32'>\n"
     ]
    }
   ],
   "source": [
    "## tf.cast() : 텐서의 타입 변경 \n",
    "print(t_a.dtype)\n",
    "t_a_new1 = tf.cast(t_a, tf.int64)\n",
    "t_a_new2 = tf.cast(t_a, tf.float32)\n",
    "print(t_a_new1.dtype)\n",
    "print(t_a_new2.dtype)"
   ]
  },
  {
   "cell_type": "code",
   "execution_count": 40,
   "id": "5420b2b4-619b-445c-b93c-677a439e2091",
   "metadata": {},
   "outputs": [
    {
     "name": "stdout",
     "output_type": "stream",
     "text": [
      "tf.Tensor(\n",
      "[[0.39882398 0.9811106  0.9230019  0.77371573 0.2190746 ]\n",
      " [0.5428877  0.9329668  0.11001396 0.7496586  0.7730926 ]\n",
      " [0.86151195 0.0478369  0.40760553 0.96553266 0.84834695]], shape=(3, 5), dtype=float32)\n",
      "tf.Tensor(\n",
      "[[0.39882398 0.5428877  0.86151195]\n",
      " [0.9811106  0.9329668  0.0478369 ]\n",
      " [0.9230019  0.11001396 0.40760553]\n",
      " [0.77371573 0.7496586  0.96553266]\n",
      " [0.2190746  0.7730926  0.84834695]], shape=(5, 3), dtype=float32)\n"
     ]
    }
   ],
   "source": [
    "## tf.transfose : 텐서의 전치 (ex. 3x5 --> 5x3)\n",
    "t = tf.random.uniform(shape = (3,5))\n",
    "print(t)\n",
    "\n",
    "t_tr = tf.transpose(t)\n",
    "print(t_tr)"
   ]
  },
  {
   "cell_type": "code",
   "execution_count": 43,
   "id": "16a004eb-9325-429d-9504-a50fccb70d43",
   "metadata": {},
   "outputs": [
    {
     "name": "stdout",
     "output_type": "stream",
     "text": [
      "tf.Tensor(\n",
      "[0. 0. 0. 0. 0. 0. 0. 0. 0. 0. 0. 0. 0. 0. 0. 0. 0. 0. 0. 0. 0. 0. 0. 0.\n",
      " 0. 0. 0. 0. 0. 0.], shape=(30,), dtype=float32)\n",
      "tf.Tensor(\n",
      "[[0. 0. 0. 0. 0. 0.]\n",
      " [0. 0. 0. 0. 0. 0.]\n",
      " [0. 0. 0. 0. 0. 0.]\n",
      " [0. 0. 0. 0. 0. 0.]\n",
      " [0. 0. 0. 0. 0. 0.]], shape=(5, 6), dtype=float32)\n"
     ]
    }
   ],
   "source": [
    "## tf.reshape : ex. 1D 벡터 --> 2D array\n",
    "t = tf.zeros((30,))\n",
    "print(t)\n",
    "\n",
    "t_reshape = tf.reshape(t, shape=(5,6))\n",
    "print(t_reshape)"
   ]
  },
  {
   "cell_type": "code",
   "execution_count": 50,
   "id": "ef3a7ef2-dee8-471f-a924-3bcef41f8e9a",
   "metadata": {},
   "outputs": [
    {
     "name": "stdout",
     "output_type": "stream",
     "text": [
      "(2, 3) (1, 2, 3, 1)\n"
     ]
    }
   ],
   "source": [
    "## tf.squeeze() : 크기가 1인 차원은 없앤다. \n",
    "t = tf.zeros([1,2,1,3,1,1])\n",
    "t_sq1 = tf.squeeze(t)\n",
    "t_sq2 = tf.squeeze(t, [2,4])  ## 2~4 위치에 있는 1차원을 없앤다. \n",
    "\n",
    "print(t_sq1.shape, t_sq2.shape)"
   ]
  },
  {
   "cell_type": "code",
   "execution_count": 54,
   "id": "2ea71432-5e46-489f-96ef-ffa279468c1d",
   "metadata": {},
   "outputs": [
    {
     "name": "stdout",
     "output_type": "stream",
     "text": [
      "(1, 10, 10, 3) (10, 1, 10, 3) (10, 10, 1, 3)\n"
     ]
    }
   ],
   "source": [
    "## tf.expand_dims : tf.squeeze와 반대, 차원을 추가확장한다. \n",
    "image = tf.zeros([10,10,3])                 # 이미지의 가로x세로x채널 크기 \n",
    "image_tf1 = tf.expand_dims(image, axis=0)   # axis에서 지정한 위치에 더미채널 1을 추가  \n",
    "image_tf2 = tf.expand_dims(image, axis=1) \n",
    "image_tf3 = tf.expand_dims(image, axis=2) \n",
    "\n",
    "print(image_tf1.shape, image_tf2.shape, image_tf3.shape)"
   ]
  },
  {
   "cell_type": "markdown",
   "id": "62d0d9df-73eb-4106-bc54-724e90e68bf1",
   "metadata": {},
   "source": [
    "---\n",
    "#### 2. tensor에 수학연산 적용 \n",
    "- tf.multiply(), tf.math.reduce_sum(), tf.math.reduce_mean(), tf.math.reduce_std()\n",
    "- tf.linalg.matmul(), tf.norm() \n",
    "---"
   ]
  },
  {
   "cell_type": "code",
   "execution_count": 65,
   "id": "e5d7e5a7-967a-4793-a5d2-d6741d0ad5a8",
   "metadata": {},
   "outputs": [
    {
     "name": "stdout",
     "output_type": "stream",
     "text": [
      "tf.Tensor(\n",
      "[[ 0.3291242  -0.11798644]\n",
      " [-0.294235   -0.07103491]\n",
      " [-0.9326792   0.3693447 ]\n",
      " [ 0.48023486  0.744889  ]\n",
      " [-0.5473473  -0.5536063 ]], shape=(5, 2), dtype=float32) \n",
      " tf.Tensor(\n",
      "[[ 8.4224582e-02 -8.6090374e-01]\n",
      " [ 3.7812304e-01 -5.1962738e-03]\n",
      " [-4.9453196e-01  6.1781919e-01]\n",
      " [-3.3082047e-01 -1.3840806e-03]\n",
      " [-4.2373410e-01 -1.3872087e+00]], shape=(5, 2), dtype=float32)\n"
     ]
    }
   ],
   "source": [
    "## 두개의 랜덤한 텐서 제작 \n",
    "tf.random.set_seed(42)\n",
    "t_1 = tf.random.uniform(minval = -1.0, maxval = 1.0, shape=(5,2))\n",
    "t_2 = tf.random.normal(mean = 0, stddev = 1, shape=(5,2))\n",
    "\n",
    "print(t_1, '\\n', t_2)"
   ]
  },
  {
   "cell_type": "code",
   "execution_count": 74,
   "id": "5ea05e3f-53bd-47cb-80ae-4745d1d23c66",
   "metadata": {},
   "outputs": [
    {
     "name": "stdout",
     "output_type": "stream",
     "text": [
      "-평균 = tf.Tensor([-0.19298048  0.07432123], shape=(2,), dtype=float32)\n",
      "-표준편차 = tf.Tensor([0.5308097  0.44477043], shape=(2,), dtype=float32)\n",
      "-합계 = tf.Tensor([-0.9649024  0.3716061], shape=(2,), dtype=float32)\n",
      "-평균 = tf.Tensor([-0.38833958  0.18646339  0.06164362 -0.16610228 -0.9054714 ], shape=(5,), dtype=float32)\n",
      "-표준편차 = tf.Tensor([0.47256416 0.19165966 0.5561756  0.1647182  0.48173732], shape=(5,), dtype=float32)\n",
      "-합계 = tf.Tensor([-0.77667916  0.37292677  0.12328723 -0.33220455 -1.8109428 ], shape=(5,), dtype=float32)\n"
     ]
    }
   ],
   "source": [
    "## t_1의 각 행에 대한 사칙연산 \n",
    "print('-평균 =', tf.math.reduce_mean(t_1, axis = 0)) \n",
    "print('-표준편차 =', tf.math.reduce_std(t_1, axis = 0))\n",
    "print('-합계 =', tf.math.reduce_sum(t_1, axis = 0)) \n",
    "\n",
    "## t_2의 각 열에 대한 사칙연산 \n",
    "print('-평균 =', tf.math.reduce_mean(t_2, axis = 1)) \n",
    "print('-표준편차 =', tf.math.reduce_std(t_2, axis = 1))\n",
    "print('-합계 =', tf.math.reduce_sum(t_2, axis = 1)) "
   ]
  },
  {
   "cell_type": "code",
   "execution_count": 79,
   "id": "a5ec9f5f-ecb1-4b88-ab41-755c5ebb7fd5",
   "metadata": {},
   "outputs": [
    {
     "data": {
      "text/plain": [
       "<tf.Tensor: shape=(5, 2), dtype=float32, numpy=\n",
       "array([[ 2.77203489e-02,  1.01574965e-01],\n",
       "       [-1.11257032e-01,  3.69116839e-04],\n",
       "       [ 4.61239666e-01,  2.28188246e-01],\n",
       "       [-1.58871517e-01, -1.03098643e-03],\n",
       "       [ 2.31929719e-01,  7.67967463e-01]], dtype=float32)>"
      ]
     },
     "execution_count": 79,
     "metadata": {},
     "output_type": "execute_result"
    }
   ],
   "source": [
    "## tf.multuply() : 텐서의 곱. 대상 텐서들의 크기가 같아야 함 \n",
    "tf.multiply(t_1, t_2)"
   ]
  },
  {
   "cell_type": "code",
   "execution_count": 81,
   "id": "ec6c751a-f7f9-4a1f-b554-3671f05b6f09",
   "metadata": {},
   "outputs": [
    {
     "name": "stdout",
     "output_type": "stream",
     "text": [
      "tf.Tensor(\n",
      "[[ 0.4507612  -0.0994221 ]\n",
      " [-0.23129272  1.0970688 ]], shape=(2, 2), dtype=float32)\n",
      "tf.Tensor(\n",
      "[[ 0.12929532  0.12506254 -0.23565674 -0.10871772  0.02421068]\n",
      " [ 0.0363724  -0.11088791  0.10162187  0.09743728  0.22321764]\n",
      " [-0.39652476 -0.3545867   0.6894279   0.30803818 -0.11715022]\n",
      " [-0.60083014  0.17771722  0.22271523 -0.1599025  -1.2368084 ]\n",
      " [ 0.4305016  -0.20408794 -0.07134786  0.18183993  0.9998972 ]], shape=(5, 5), dtype=float32)\n"
     ]
    }
   ],
   "source": [
    "## tf.linalg.matmul() : 행렬의 곱셈, matmul은 a의 기준에서 맨 마지막 axis에 대해서 b에 곱해줌. 이는 transpose_b=True와 동일함. \n",
    "## transpose_a, transpose_b : 해당되는 행렬을 전치해서 곱하라. \n",
    "print(tf.linalg.matmul(t_1, t_2, transpose_a = True))\n",
    "print(tf.linalg.matmul(t_1, t_2, transpose_b = True))"
   ]
  },
  {
   "cell_type": "code",
   "execution_count": 88,
   "id": "2662c0d8-1781-4cf6-ab6b-77126e9d1cd8",
   "metadata": {},
   "outputs": [
    {
     "name": "stdout",
     "output_type": "stream",
     "text": [
      "(1, 6, 10, 10)\n",
      "(1, 6, 10, 10)\n"
     ]
    }
   ],
   "source": [
    "a = tf.constant(tf.random.uniform(shape=(1, 6, 10, 300)))\n",
    "b = tf.constant(tf.random.uniform(shape=(1, 6, 10, 300)))\n",
    "b_t = tf.transpose(b, perm=[0, 1, 3, 2])  # (1, 6, 300, 10)\n",
    "\n",
    "print(tf.linalg.matmul(a, b_t).shape)\n",
    "print(tf.linalg.matmul(a, b, transpose_b=True).shape)"
   ]
  },
  {
   "cell_type": "markdown",
   "id": "d8150e44-aabf-410c-923b-8695cd2becc4",
   "metadata": {},
   "source": [
    "- 선형대수에 대한 더 많은 공부 필요 .... "
   ]
  },
  {
   "cell_type": "markdown",
   "id": "e1d4416c-9153-4484-80cd-f764e531b8c1",
   "metadata": {},
   "source": [
    "--- \n",
    "#### 3. 텐서를 나누기, 쌓기, 연결하기 \n",
    "- tf.split(), tf.stack(), tf.concat() \n",
    "--- "
   ]
  },
  {
   "cell_type": "code",
   "execution_count": 94,
   "id": "99da3b0a-132f-410d-a7ea-17986e4d5921",
   "metadata": {},
   "outputs": [
    {
     "name": "stdout",
     "output_type": "stream",
     "text": [
      "tf.Tensor([0.16513085 0.9014813  0.6309742  0.4345461  0.29193902 0.64250207], shape=(6,), dtype=float32)\n"
     ]
    },
    {
     "data": {
      "text/plain": [
       "[<tf.Tensor: shape=(2,), dtype=float32, numpy=array([0.16513085, 0.9014813 ], dtype=float32)>,\n",
       " <tf.Tensor: shape=(2,), dtype=float32, numpy=array([0.6309742, 0.4345461], dtype=float32)>,\n",
       " <tf.Tensor: shape=(2,), dtype=float32, numpy=array([0.29193902, 0.64250207], dtype=float32)>]"
      ]
     },
     "execution_count": 94,
     "metadata": {},
     "output_type": "execute_result"
    }
   ],
   "source": [
    "## tf.split() : 동일한 크기의 텐서 리스트로 나누기 \n",
    "tf.random.set_seed(1)\n",
    "t = tf.random.uniform((6,))\n",
    "print(t) \n",
    "\n",
    "tf.split(t, num_or_size_splits = 3)  ## 3개로 나누기 "
   ]
  },
  {
   "cell_type": "code",
   "execution_count": 113,
   "id": "b1b8cd8f-ab16-4a25-b2ba-78142c7ebb02",
   "metadata": {},
   "outputs": [
    {
     "name": "stdout",
     "output_type": "stream",
     "text": [
      "tf.Tensor(\n",
      "[0.06265402 0.29493952 0.8037009  0.87552917 0.5866864  0.26796377\n",
      " 0.67643046], shape=(7,), dtype=float32)\n",
      "------------------------------------------------------------\n",
      "[<tf.Tensor: shape=(4,), dtype=float32, numpy=array([0.06265402, 0.29493952, 0.8037009 , 0.87552917], dtype=float32)>, <tf.Tensor: shape=(3,), dtype=float32, numpy=array([0.5866864 , 0.26796377, 0.67643046], dtype=float32)>]\n",
      "------------------------------------------------------------\n",
      "[<tf.Tensor: shape=(2,), dtype=float32, numpy=array([0.06265402, 0.29493952], dtype=float32)>, <tf.Tensor: shape=(4,), dtype=float32, numpy=array([0.8037009 , 0.87552917, 0.5866864 , 0.26796377], dtype=float32)>, <tf.Tensor: shape=(1,), dtype=float32, numpy=array([0.67643046], dtype=float32)>]\n"
     ]
    }
   ],
   "source": [
    "t = tf.random.uniform((7,))\n",
    "print(t) \n",
    "print('------------------------------------------------------------')\n",
    "print(tf.split(t, num_or_size_splits = [4,3]))  ## 4,3개로 나누기 \n",
    "print('------------------------------------------------------------')\n",
    "print(tf.split(t, num_or_size_splits = [2,4,1]))  ## 2,4,1개로 나누기 "
   ]
  },
  {
   "cell_type": "code",
   "execution_count": 117,
   "id": "2b86f3f3-20ea-429d-9e01-9c43f0dbbfa7",
   "metadata": {},
   "outputs": [
    {
     "name": "stdout",
     "output_type": "stream",
     "text": [
      "tf.Tensor([1. 1. 1.], shape=(3,), dtype=float32) \n",
      " tf.Tensor([0. 0.], shape=(2,), dtype=float32)\n"
     ]
    },
    {
     "data": {
      "text/plain": [
       "<tf.Tensor: shape=(5,), dtype=float32, numpy=array([1., 1., 1., 0., 0.], dtype=float32)>"
      ]
     },
     "execution_count": 117,
     "metadata": {},
     "output_type": "execute_result"
    }
   ],
   "source": [
    "## row 방향으로 합칠때 : tf.concat()\n",
    "A = tf.ones((3,))\n",
    "B = tf.zeros((2,))\n",
    "print(A,'\\n', B)\n",
    "\n",
    "tf.concat([A,B], axis = 0)"
   ]
  },
  {
   "cell_type": "code",
   "execution_count": 120,
   "id": "5449fab6-7edf-421b-86f4-14b8a7c27ca3",
   "metadata": {},
   "outputs": [
    {
     "name": "stdout",
     "output_type": "stream",
     "text": [
      "tf.Tensor([1. 1. 1.], shape=(3,), dtype=float32) \n",
      " tf.Tensor([0. 0. 0.], shape=(3,), dtype=float32)\n"
     ]
    },
    {
     "data": {
      "text/plain": [
       "<tf.Tensor: shape=(3, 2), dtype=float32, numpy=\n",
       "array([[1., 0.],\n",
       "       [1., 0.],\n",
       "       [1., 0.]], dtype=float32)>"
      ]
     },
     "execution_count": 120,
     "metadata": {},
     "output_type": "execute_result"
    }
   ],
   "source": [
    "## col 방향으로 합칠때 : tf.stack()\n",
    "A = tf.ones((3,))\n",
    "B = tf.zeros((3,))\n",
    "print(A,'\\n', B)\n",
    "\n",
    "tf.stack([A,B], axis = 1)"
   ]
  },
  {
   "cell_type": "code",
   "execution_count": null,
   "id": "ebce83b4-8eb7-4886-8db4-0d2be8bffcc0",
   "metadata": {},
   "outputs": [],
   "source": []
  }
 ],
 "metadata": {
  "kernelspec": {
   "display_name": "Python 3",
   "language": "python",
   "name": "python3"
  },
  "language_info": {
   "codemirror_mode": {
    "name": "ipython",
    "version": 3
   },
   "file_extension": ".py",
   "mimetype": "text/x-python",
   "name": "python",
   "nbconvert_exporter": "python",
   "pygments_lexer": "ipython3",
   "version": "3.8.8"
  }
 },
 "nbformat": 4,
 "nbformat_minor": 5
}
