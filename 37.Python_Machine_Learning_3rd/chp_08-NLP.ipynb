{
 "cells": [
  {
   "cell_type": "markdown",
   "id": "444179e2-9192-4d1e-9174-1f3775f00cd3",
   "metadata": {},
   "source": [
    "### 8장 감성 분석에 머신 러닝 적용\n",
    "- 8.1 텍스트 처리용 IMDb 영화 리뷰 데이터 준비\n",
    "- 8.2 BoW 모델 소개\n",
    "- 8.3 문서 분류를 위한 로지스틱 회귀 모델 훈련\n",
    "- 8.4 대용량 데이터 처리: 온라인 알고리즘과 외부 메모리 학습\n",
    "- 8.5 잠재 디리클레 할당을 사용한 토픽 모델링\n",
    "--- "
   ]
  },
  {
   "cell_type": "code",
   "execution_count": 1,
   "id": "7d18e16c-bbf7-4937-b515-a0d7c9f06b18",
   "metadata": {},
   "outputs": [],
   "source": [
    "import numpy as np \n",
    "import pandas as pd\n",
    "import matplotlib.pyplot as plt \n",
    "import seaborn as sns\n",
    "import warnings\n",
    "warnings.filterwarnings(action='ignore')"
   ]
  },
  {
   "cell_type": "markdown",
   "id": "e0d49544-9546-4a99-ab21-e33aafadde99",
   "metadata": {},
   "source": [
    "- 영문(IMdb)에 대한 분석과정 생략, 네이버 영화리뷰 감성분류 실습 진행 \n",
    "  - ratings_train.txt / ratings_test.txt : train/test dataset, 각 15만/5만 raws, max길이 140자 \n",
    "  - review_score : 부정 1~4점, 긍정 6~10점 (부정:긍정 비율 5:5) "
   ]
  },
  {
   "cell_type": "code",
   "execution_count": 2,
   "id": "0f8c9056-e1d5-48a8-8ae4-8f8ebec49c4d",
   "metadata": {},
   "outputs": [],
   "source": [
    "##pc에 JDK가 설치되어 있어야 함 \n",
    "##!pip install konlpy "
   ]
  },
  {
   "cell_type": "code",
   "execution_count": 3,
   "id": "709da96a-8b57-4277-b64d-15737d940e85",
   "metadata": {},
   "outputs": [
    {
     "name": "stdout",
     "output_type": "stream",
     "text": [
      "(150000, 3)\n"
     ]
    },
    {
     "data": {
      "text/html": [
       "<div>\n",
       "<style scoped>\n",
       "    .dataframe tbody tr th:only-of-type {\n",
       "        vertical-align: middle;\n",
       "    }\n",
       "\n",
       "    .dataframe tbody tr th {\n",
       "        vertical-align: top;\n",
       "    }\n",
       "\n",
       "    .dataframe thead th {\n",
       "        text-align: right;\n",
       "    }\n",
       "</style>\n",
       "<table border=\"1\" class=\"dataframe\">\n",
       "  <thead>\n",
       "    <tr style=\"text-align: right;\">\n",
       "      <th></th>\n",
       "      <th>id</th>\n",
       "      <th>document</th>\n",
       "      <th>label</th>\n",
       "    </tr>\n",
       "  </thead>\n",
       "  <tbody>\n",
       "    <tr>\n",
       "      <th>0</th>\n",
       "      <td>9976970</td>\n",
       "      <td>아 더빙.. 진짜 짜증나네요 목소리</td>\n",
       "      <td>0</td>\n",
       "    </tr>\n",
       "    <tr>\n",
       "      <th>1</th>\n",
       "      <td>3819312</td>\n",
       "      <td>흠...포스터보고 초딩영화줄....오버연기조차 가볍지 않구나</td>\n",
       "      <td>1</td>\n",
       "    </tr>\n",
       "    <tr>\n",
       "      <th>2</th>\n",
       "      <td>10265843</td>\n",
       "      <td>너무재밓었다그래서보는것을추천한다</td>\n",
       "      <td>0</td>\n",
       "    </tr>\n",
       "    <tr>\n",
       "      <th>3</th>\n",
       "      <td>9045019</td>\n",
       "      <td>교도소 이야기구먼 ..솔직히 재미는 없다..평점 조정</td>\n",
       "      <td>0</td>\n",
       "    </tr>\n",
       "    <tr>\n",
       "      <th>4</th>\n",
       "      <td>6483659</td>\n",
       "      <td>사이몬페그의 익살스런 연기가 돋보였던 영화!스파이더맨에서 늙어보이기만 했던 커스틴 ...</td>\n",
       "      <td>1</td>\n",
       "    </tr>\n",
       "  </tbody>\n",
       "</table>\n",
       "</div>"
      ],
      "text/plain": [
       "         id                                           document  label\n",
       "0   9976970                                아 더빙.. 진짜 짜증나네요 목소리      0\n",
       "1   3819312                  흠...포스터보고 초딩영화줄....오버연기조차 가볍지 않구나      1\n",
       "2  10265843                                  너무재밓었다그래서보는것을추천한다      0\n",
       "3   9045019                      교도소 이야기구먼 ..솔직히 재미는 없다..평점 조정      0\n",
       "4   6483659  사이몬페그의 익살스런 연기가 돋보였던 영화!스파이더맨에서 늙어보이기만 했던 커스틴 ...      1"
      ]
     },
     "execution_count": 3,
     "metadata": {},
     "output_type": "execute_result"
    }
   ],
   "source": [
    "df_train = pd.read_csv('data/ratings_train.txt', delimiter = '\\t', keep_default_na = False)\n",
    "print(df_train.shape)\n",
    "df_train.head()"
   ]
  },
  {
   "cell_type": "code",
   "execution_count": 4,
   "id": "4794d0ca-c144-4389-9f99-6dd59edcce9a",
   "metadata": {},
   "outputs": [
    {
     "name": "stdout",
     "output_type": "stream",
     "text": [
      "(50000, 3)\n"
     ]
    },
    {
     "data": {
      "text/html": [
       "<div>\n",
       "<style scoped>\n",
       "    .dataframe tbody tr th:only-of-type {\n",
       "        vertical-align: middle;\n",
       "    }\n",
       "\n",
       "    .dataframe tbody tr th {\n",
       "        vertical-align: top;\n",
       "    }\n",
       "\n",
       "    .dataframe thead th {\n",
       "        text-align: right;\n",
       "    }\n",
       "</style>\n",
       "<table border=\"1\" class=\"dataframe\">\n",
       "  <thead>\n",
       "    <tr style=\"text-align: right;\">\n",
       "      <th></th>\n",
       "      <th>id</th>\n",
       "      <th>document</th>\n",
       "      <th>label</th>\n",
       "    </tr>\n",
       "  </thead>\n",
       "  <tbody>\n",
       "    <tr>\n",
       "      <th>0</th>\n",
       "      <td>6270596</td>\n",
       "      <td>굳 ㅋ</td>\n",
       "      <td>1</td>\n",
       "    </tr>\n",
       "    <tr>\n",
       "      <th>1</th>\n",
       "      <td>9274899</td>\n",
       "      <td>GDNTOPCLASSINTHECLUB</td>\n",
       "      <td>0</td>\n",
       "    </tr>\n",
       "    <tr>\n",
       "      <th>2</th>\n",
       "      <td>8544678</td>\n",
       "      <td>뭐야 이 평점들은.... 나쁘진 않지만 10점 짜리는 더더욱 아니잖아</td>\n",
       "      <td>0</td>\n",
       "    </tr>\n",
       "    <tr>\n",
       "      <th>3</th>\n",
       "      <td>6825595</td>\n",
       "      <td>지루하지는 않은데 완전 막장임... 돈주고 보기에는....</td>\n",
       "      <td>0</td>\n",
       "    </tr>\n",
       "    <tr>\n",
       "      <th>4</th>\n",
       "      <td>6723715</td>\n",
       "      <td>3D만 아니었어도 별 다섯 개 줬을텐데.. 왜 3D로 나와서 제 심기를 불편하게 하죠??</td>\n",
       "      <td>0</td>\n",
       "    </tr>\n",
       "  </tbody>\n",
       "</table>\n",
       "</div>"
      ],
      "text/plain": [
       "        id                                           document  label\n",
       "0  6270596                                                굳 ㅋ      1\n",
       "1  9274899                               GDNTOPCLASSINTHECLUB      0\n",
       "2  8544678             뭐야 이 평점들은.... 나쁘진 않지만 10점 짜리는 더더욱 아니잖아      0\n",
       "3  6825595                   지루하지는 않은데 완전 막장임... 돈주고 보기에는....      0\n",
       "4  6723715  3D만 아니었어도 별 다섯 개 줬을텐데.. 왜 3D로 나와서 제 심기를 불편하게 하죠??      0"
      ]
     },
     "execution_count": 4,
     "metadata": {},
     "output_type": "execute_result"
    }
   ],
   "source": [
    "df_test = pd.read_csv('data/ratings_test.txt', delimiter = '\\t', keep_default_na = False)\n",
    "print(df_test.shape)\n",
    "df_test.head()"
   ]
  },
  {
   "cell_type": "code",
   "execution_count": 5,
   "id": "2bce97e0-b4cd-40c7-9c2f-6e008a2ac53f",
   "metadata": {},
   "outputs": [],
   "source": [
    "X_train = df_train['document'].values\n",
    "y_train = df_train['label'].values\n",
    "X_test = df_test['document'].values\n",
    "y_test = df_test['label'].values"
   ]
  },
  {
   "cell_type": "markdown",
   "id": "960ba56d-3983-4979-8033-e140705605ac",
   "metadata": {},
   "source": [
    "----\n",
    "#### 1. konlpy의 (대표적인)형태소 분류기 \n",
    "- Okt : 예전 트위터 기반 분류기, 비교적 가장 좋은 성능을 내는 것으로 알려짐 \n",
    "- kkma : 띄어쓰기 오류에 덜 민감한 한글 형태소 분석기, 분석시간이 Knlpy 중에서 가장 오래 걸린다.\n",
    "- Komoran : 타 형태소 분석기와 달리 공백이 포함된 형태소 단위로 분석 가능, 단 띄어쓰기 없는 문장 분석에 취약\n",
    "----"
   ]
  },
  {
   "cell_type": "code",
   "execution_count": 7,
   "id": "0c3dbfca-970e-4be5-8fa9-4804b3fd2e17",
   "metadata": {},
   "outputs": [
    {
     "name": "stdout",
     "output_type": "stream",
     "text": [
      "사이몬페그의 익살스런 연기가 돋보였던 영화!스파이더맨에서 늙어보이기만 했던 커스틴 던스트가 너무나도 이뻐보였다\n",
      "-----------------------------------------------------------------------\n",
      "['사이', '몬페', '그', '의', '익살스런', '연기', '가', '돋보였던', '영화', '!', '스파이더맨', '에서', '늙어', '보이기만', '했던', '커스틴', '던스트', '가', '너무나도', '이뻐', '보였다']\n"
     ]
    }
   ],
   "source": [
    "from konlpy.tag import Okt\n",
    "okt = Okt()\n",
    "\n",
    "print(X_train[4])\n",
    "print('-----------------------------------------------------------------------')\n",
    "print(okt.morphs(X_train[4]))"
   ]
  },
  {
   "cell_type": "markdown",
   "id": "4cab725d-9154-412a-a526-a549925a0349",
   "metadata": {},
   "source": [
    "---- \n",
    "#### 형태소 분석을 위한 전처리 \n",
    "- ngram : NLP에서 연속된 아이템(단어,문자,기호)의 시퀀스. n=1일때 유니그램, n=2일때 바이그램 이라고도 함 \n",
    "  - ex. 1-gram : 'the', 'sun', 'is', 'shining'  / 2-gram : 'the sun', 'sun is', 'is shining' \n",
    "- min_df = k : k번 미만 등장하는 토큰은 무시 \n",
    "- max_df = j : j는 비중, j=0.9라면 자주 등장하는 상위 10%의 토큰은 무시 \n",
    "- cf. morph \n",
    "  - nouns : 명사 추출 / morphs : 형태소 추출 / pos : 품사 부착\n",
    "----"
   ]
  },
  {
   "cell_type": "code",
   "execution_count": 8,
   "id": "00141e39-b2d1-4287-8730-ce0c0e8c06c1",
   "metadata": {},
   "outputs": [],
   "source": [
    "from sklearn.feature_extraction.text import TfidfVectorizer \n",
    "tfidf = TfidfVectorizer(ngram_range = (1,2),\n",
    "                        min_df = 3, max_df = 0.9, \n",
    "                        tokenizer = okt.morphs, token_pattern = None\n",
    "                       )\n",
    "\n",
    "tfidf.fit(X_train)\n",
    "X_train_okt = tfidf.transform(X_train)\n",
    "X_test_okt = tfidf.transform(X_test)"
   ]
  },
  {
   "cell_type": "markdown",
   "id": "600a81b2-75f0-47dd-8208-872260d784cf",
   "metadata": {},
   "source": [
    "--- \n",
    "#### 감성분류기 훈련 및 파라미터 튜닝 : SGDClassifier \n",
    "--- "
   ]
  },
  {
   "cell_type": "code",
   "execution_count": 14,
   "id": "8609671f-7fd4-454f-8168-557fcab83212",
   "metadata": {
    "tags": []
   },
   "outputs": [
    {
     "name": "stdout",
     "output_type": "stream",
     "text": [
      "Fitting 5 folds for each of 50 candidates, totalling 250 fits\n"
     ]
    },
    {
     "data": {
      "text/plain": [
       "RandomizedSearchCV(estimator=SGDClassifier(loss='log', random_state=42),\n",
       "                   n_iter=50,\n",
       "                   param_distributions={'alpha': <scipy.stats._distn_infrastructure.rv_frozen object at 0x000001B8E6835C40>},\n",
       "                   random_state=42, verbose=1)"
      ]
     },
     "execution_count": 14,
     "metadata": {},
     "output_type": "execute_result"
    }
   ],
   "source": [
    "from sklearn.linear_model import SGDClassifier \n",
    "from sklearn.model_selection import RandomizedSearchCV\n",
    "from sklearn.utils.fixes import loguniform  ## RandomizedSearchCV 사용을 위한 탐색범위 설정을 위함 \n",
    "\n",
    "sgd = SGDClassifier(loss = 'log', random_state = 42)\n",
    "param_dist = {'alpha':loguniform(0.0001, 100.0)}  ## SGDClassifier의 매개변수 : 규제를 위한 alpha값 \n",
    "\n",
    "rsv_okt = RandomizedSearchCV(estimator = sgd, \n",
    "                             param_distributions = param_dist, \n",
    "                             n_iter = 50, verbose = 1, random_state = 42\n",
    "                             )\n",
    "\n",
    "rsv_okt.fit(X_train_okt, y_train)"
   ]
  },
  {
   "cell_type": "code",
   "execution_count": 16,
   "id": "e69190a4-fefa-461e-8379-1f9f17ec4911",
   "metadata": {},
   "outputs": [
    {
     "name": "stdout",
     "output_type": "stream",
     "text": [
      "- Train score =  0.83114\n",
      "- Test score =  0.81426\n"
     ]
    }
   ],
   "source": [
    "print('- Train score = ', rsv_okt.score(X_train_okt, y_train))\n",
    "print('- Test score = ', rsv_okt.score(X_test_okt, y_test))"
   ]
  },
  {
   "cell_type": "markdown",
   "id": "16f59836-9185-41c5-9b70-ce2de50d185c",
   "metadata": {},
   "source": [
    "- 약 81% 정확도의 분류기가 만들어졌음. "
   ]
  },
  {
   "cell_type": "markdown",
   "id": "9ec31ee0-065e-434d-806e-047ac73393dd",
   "metadata": {},
   "source": [
    "--- \n",
    "   - more study needed. next book is '박조은&송영숙 저, 모두의 한국어 텍스트 분석 with Python'\n",
    "--- "
   ]
  },
  {
   "cell_type": "code",
   "execution_count": null,
   "id": "6fba8314-c47f-441d-8508-c7e4b1fe403d",
   "metadata": {},
   "outputs": [],
   "source": []
  },
  {
   "cell_type": "code",
   "execution_count": null,
   "id": "c347e0cf-8104-465f-a867-2dd8bb2a73b6",
   "metadata": {},
   "outputs": [],
   "source": []
  }
 ],
 "metadata": {
  "kernelspec": {
   "display_name": "Python 3",
   "language": "python",
   "name": "python3"
  },
  "language_info": {
   "codemirror_mode": {
    "name": "ipython",
    "version": 3
   },
   "file_extension": ".py",
   "mimetype": "text/x-python",
   "name": "python",
   "nbconvert_exporter": "python",
   "pygments_lexer": "ipython3",
   "version": "3.8.8"
  }
 },
 "nbformat": 4,
 "nbformat_minor": 5
}
