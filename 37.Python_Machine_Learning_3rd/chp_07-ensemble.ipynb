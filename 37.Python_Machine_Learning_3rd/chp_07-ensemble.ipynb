{
 "cells": [
  {
   "cell_type": "markdown",
   "id": "4d2ee807-8074-4aad-9caf-dfa056921c4c",
   "metadata": {},
   "source": [
    "### 7장 다양한 모델을 결합한 앙상블 학습\n",
    "- 7.1 앙상블 학습\n",
    "- 7.2 다수결 투표를 사용한 분류 앙상블\n",
    "- 7.3 배깅: 부트스트랩 샘플링을 통한 분류 앙상블\n",
    "- 7.4 약한 학습기를 이용한 에이다부스\n",
    "--- "
   ]
  },
  {
   "cell_type": "code",
   "execution_count": 1,
   "id": "9c80d38f-978f-4ba3-a65b-0a52d7d37c8b",
   "metadata": {},
   "outputs": [],
   "source": [
    "import numpy as np \n",
    "import pandas as pd\n",
    "import matplotlib.pyplot as plt \n",
    "import seaborn as sns\n",
    "import warnings\n",
    "warnings.filterwarnings(action='ignore')"
   ]
  },
  {
   "cell_type": "code",
   "execution_count": 2,
   "id": "1875bd28-3ca4-49c3-89b6-792a1fc0931c",
   "metadata": {},
   "outputs": [
    {
     "name": "stdout",
     "output_type": "stream",
     "text": [
      "[[7.  3.2 4.7 1.4]\n",
      " [6.4 3.2 4.5 1.5]\n",
      " [6.9 3.1 4.9 1.5]\n",
      " [5.5 2.3 4.  1.3]\n",
      " [6.5 2.8 4.6 1.5]]\n",
      "[1 1 1 1 1]\n",
      "##########################################\n",
      "[[3.2 4.7]\n",
      " [3.2 4.5]\n",
      " [3.1 4.9]\n",
      " [2.3 4. ]\n",
      " [2.8 4.6]]\n",
      "[0 0 0 0 0]\n",
      "##########################################\n",
      "(50, 2)\n",
      "(50, 2)\n",
      "(50,)\n",
      "(50,)\n"
     ]
    }
   ],
   "source": [
    "## Iris dataset loading, labelEncoding, train/test spile\n",
    "from sklearn import datasets \n",
    "from sklearn.model_selection import train_test_split \n",
    "from sklearn.preprocessing import StandardScaler, LabelEncoder \n",
    "\n",
    "iris  = datasets.load_iris()\n",
    "print(iris.data[50:55])\n",
    "print(iris.target[50:55])\n",
    "print('##########################################')\n",
    "\n",
    "## setosa, versicolor, virginica가 각 50개씩 순서대로 있음 --> ROC AUG 계산을 위해 versicolor, virginica만 가져옴 \n",
    "## versicolor, virginica의 라벨은 1, 2 --> LabelEncoder로 0, 1로 변경 \n",
    "X, y = iris.data[50:, [1,2]], iris.target[50:]\n",
    "le = LabelEncoder()\n",
    "y = le.fit_transform(y)\n",
    "\n",
    "print(X[:5])\n",
    "print(y[:5])\n",
    "print('##########################################')\n",
    "\n",
    "## train/test spile\n",
    "X_train, X_test, y_train, y_test = train_test_split(X, y, test_size = 0.5, random_state = 42, stratify = y)\n",
    "print(X_train.shape)\n",
    "print(X_test.shape)\n",
    "print(y_train.shape)\n",
    "print(y_test.shape)"
   ]
  },
  {
   "cell_type": "markdown",
   "id": "9904e0cf-6c8c-4cc9-afcd-6271f10f7684",
   "metadata": {},
   "source": [
    "----\n",
    "#### 1. 성능비교 : 10-fold vs. ensemble \n",
    "----"
   ]
  },
  {
   "cell_type": "code",
   "execution_count": 3,
   "id": "c2913457-c5d8-4d6d-8351-e9855e8657e5",
   "metadata": {},
   "outputs": [
    {
     "name": "stdout",
     "output_type": "stream",
     "text": [
      "ROC AUC : LogisticRegression =  0.9500000000000002\n",
      "ROC AUC : DecisionTreeClassifier =  0.975\n",
      "ROC AUC : KNeighborsClassifier =  0.8833333333333334\n"
     ]
    }
   ],
   "source": [
    "## 개별 모델들의 성능 \n",
    "from sklearn.model_selection import cross_val_score\n",
    "from sklearn.linear_model import LogisticRegression \n",
    "from sklearn.tree import DecisionTreeClassifier \n",
    "from sklearn.neighbors import KNeighborsClassifier \n",
    "from sklearn.pipeline import Pipeline \n",
    "\n",
    "clf1 = LogisticRegression(penalty = 'l2', C=0.001, random_state = 42)\n",
    "clf2 = DecisionTreeClassifier(max_depth = 1, criterion = 'entropy', random_state = 42)\n",
    "clf3 = KNeighborsClassifier(n_neighbors = 1, p=2, metric = 'minkowski')\n",
    "\n",
    "## clf1, clf3는 변수 표준화가 필요 \n",
    "pipe1 = Pipeline([['sc', StandardScaler()], ['clf', clf1]])\n",
    "pipe3 = Pipeline([['sc', StandardScaler()], ['clf', clf3]])\n",
    "\n",
    "scores1 = cross_val_score(estimator = pipe1, X=X_train, y=y_train, cv=10, scoring = 'roc_auc')\n",
    "scores2 = cross_val_score(estimator = clf2, X=X_train, y=y_train, cv=10, scoring = 'roc_auc')\n",
    "scores3 = cross_val_score(estimator = pipe3, X=X_train, y=y_train, cv=10, scoring = 'roc_auc')\n",
    "\n",
    "print('ROC AUC : LogisticRegression = ', np.mean(scores1))\n",
    "print('ROC AUC : DecisionTreeClassifier = ', np.mean(scores2))\n",
    "print('ROC AUC : KNeighborsClassifier = ', np.mean(scores3))"
   ]
  },
  {
   "cell_type": "code",
   "execution_count": 4,
   "id": "a5e420db-b90f-4c23-8852-9fb0646044b7",
   "metadata": {},
   "outputs": [
    {
     "data": {
      "text/plain": [
       "{'fit_time': array([0.00500083, 0.0040009 , 0.0040009 , 0.00300074, 0.00400066,\n",
       "        0.00399947, 0.00400186, 0.0040009 , 0.00499964, 0.0040009 ]),\n",
       " 'score_time': array([0.00100017, 0.0010004 , 0.0010016 , 0.00100064, 0.00100327,\n",
       "        0.00100017, 0.0010004 , 0.00200224, 0.00100017, 0.00100017]),\n",
       " 'test_score': array([1., 1., 1., 1., 1., 1., 1., 1., 1., 1.])}"
      ]
     },
     "execution_count": 4,
     "metadata": {},
     "output_type": "execute_result"
    }
   ],
   "source": [
    "## ensemble 모델의 성능 \n",
    "from sklearn.model_selection import cross_validate\n",
    "from sklearn.ensemble import VotingClassifier \n",
    "\n",
    "vc = VotingClassifier(estimators =[('LogisticRegression', pipe1),\n",
    "                                   ('DecisionTreeClassifier', clf2),\n",
    "                                   ('KNeighborsClassifier', pipe3)], \n",
    "                                   voting = 'soft')  ## voting = 'hard'이면 예측확률을 제공하지 않음. (ROC AUC 계산을 위해 예측확률 필요)\n",
    "\n",
    "scores = cross_validate(estimator = vc, X=X_train, y=y_train, cv=10, scoring = 'roc_auc')\n",
    "scores"
   ]
  },
  {
   "cell_type": "code",
   "execution_count": 5,
   "id": "e33f5948-fcf4-4c0e-8939-4dc0b63ef9cd",
   "metadata": {},
   "outputs": [
    {
     "data": {
      "text/plain": [
       "1.0"
      ]
     },
     "execution_count": 5,
     "metadata": {},
     "output_type": "execute_result"
    }
   ],
   "source": [
    "np.mean(scores['test_score'])"
   ]
  },
  {
   "cell_type": "markdown",
   "id": "204bb55b-f537-4bc4-8e99-1f5695d0309d",
   "metadata": {},
   "source": [
    "- 3개의 개별모델에 비해 앙상블 모델의 ROC AUC가 증가했음을 확인  "
   ]
  },
  {
   "cell_type": "markdown",
   "id": "3db0fdde-4cb6-4f23-983f-4ac423fab912",
   "metadata": {},
   "source": [
    "---- \n",
    "#### 2. GridSearchCV로 hyper-parameter 튜닝 \n",
    "---- "
   ]
  },
  {
   "cell_type": "code",
   "execution_count": 6,
   "id": "5542667b-4026-4eac-8352-ad3fc9d91071",
   "metadata": {},
   "outputs": [
    {
     "name": "stdout",
     "output_type": "stream",
     "text": [
      "- Best Parametors = {'dt__max_depth': 1, 'lr__clf__C': 0.001}\n",
      "- Best Scores = 1.0\n"
     ]
    }
   ],
   "source": [
    "## logisticRegression : 매개변수 C, DecisionTreeClassifier : max_depth \n",
    "from sklearn.ensemble import StackingClassifier\n",
    "from sklearn.model_selection import GridSearchCV\n",
    "\n",
    "stack = StackingClassifier(estimators=[('lr', pipe1), ('dt', clf2), ('knn', pipe3)],\n",
    "                           final_estimator=LogisticRegression()) ## final_estimator : 최종 결정을 위한 분류기 지정\n",
    "\n",
    "params = {'dt__max_depth': [1, 2],\n",
    "          'lr__clf__C': [0.001, 0.1, 100.0]}\n",
    "\n",
    "grid = GridSearchCV(estimator=stack,\n",
    "                    param_grid=params,\n",
    "                    cv=10,\n",
    "                    scoring='roc_auc')\n",
    "\n",
    "grid.fit(X_train, y_train)\n",
    "\n",
    "print('- Best Parametors =', grid.best_params_)\n",
    "print('- Best Scores =', grid.best_score_)"
   ]
  },
  {
   "cell_type": "markdown",
   "id": "49a8767b-8a50-43d7-b058-11a208387e86",
   "metadata": {},
   "source": [
    "- 최적의 변수 : 로지스틱의 규제 매개변수는 가장 낮을때인 0.001, 트리의 깊이는 1개 "
   ]
  },
  {
   "cell_type": "markdown",
   "id": "7879cc48-1e81-465f-af22-6c37b8b101e5",
   "metadata": {},
   "source": [
    "----\n",
    "#### 3. Bagging \n",
    "- train dataset에서 bootstrap sample(중복을 허용한 랜덤샘플)을 사용하여 학습 \n",
    "- 랜덤 포레스트는 bagging의 특별한 경우에 해당 \n",
    "- 모델의 분산을 감소하는 데는 효과적이나, 편항을 낮추는 데는 비효과적(*단순해서 데이터에 있는 경향을 잘 잡아내지 못함) \n",
    "- Bagging(랜덤포레스트 포함)을 사용할 때는, bootstrap sampling후 남는 데이터(OOB: Out Of Bag)가 있어, 별도 검증세트를 만들지 않고 이를 를 사용하여 검증함 \n",
    "----"
   ]
  },
  {
   "cell_type": "code",
   "execution_count": 7,
   "id": "1299e072-9c6a-421e-a458-dd8d904499ab",
   "metadata": {},
   "outputs": [
    {
     "name": "stdout",
     "output_type": "stream",
     "text": [
      "(178, 14)\n"
     ]
    },
    {
     "data": {
      "text/html": [
       "<div>\n",
       "<style scoped>\n",
       "    .dataframe tbody tr th:only-of-type {\n",
       "        vertical-align: middle;\n",
       "    }\n",
       "\n",
       "    .dataframe tbody tr th {\n",
       "        vertical-align: top;\n",
       "    }\n",
       "\n",
       "    .dataframe thead th {\n",
       "        text-align: right;\n",
       "    }\n",
       "</style>\n",
       "<table border=\"1\" class=\"dataframe\">\n",
       "  <thead>\n",
       "    <tr style=\"text-align: right;\">\n",
       "      <th></th>\n",
       "      <th>Class label</th>\n",
       "      <th>Alcohol</th>\n",
       "      <th>Malic acid</th>\n",
       "      <th>Ash</th>\n",
       "      <th>Alcalinity of ash</th>\n",
       "      <th>Magnesium</th>\n",
       "      <th>Total phenols</th>\n",
       "      <th>Flavanoids</th>\n",
       "      <th>Nonflavanoid phenols</th>\n",
       "      <th>Proanthocyanins</th>\n",
       "      <th>Color intensity</th>\n",
       "      <th>Hue</th>\n",
       "      <th>OD280/OD315 of diluted wines</th>\n",
       "      <th>Proline</th>\n",
       "    </tr>\n",
       "  </thead>\n",
       "  <tbody>\n",
       "    <tr>\n",
       "      <th>0</th>\n",
       "      <td>1</td>\n",
       "      <td>14.23</td>\n",
       "      <td>1.71</td>\n",
       "      <td>2.43</td>\n",
       "      <td>15.6</td>\n",
       "      <td>127</td>\n",
       "      <td>2.80</td>\n",
       "      <td>3.06</td>\n",
       "      <td>0.28</td>\n",
       "      <td>2.29</td>\n",
       "      <td>5.64</td>\n",
       "      <td>1.04</td>\n",
       "      <td>3.92</td>\n",
       "      <td>1065</td>\n",
       "    </tr>\n",
       "    <tr>\n",
       "      <th>1</th>\n",
       "      <td>1</td>\n",
       "      <td>13.20</td>\n",
       "      <td>1.78</td>\n",
       "      <td>2.14</td>\n",
       "      <td>11.2</td>\n",
       "      <td>100</td>\n",
       "      <td>2.65</td>\n",
       "      <td>2.76</td>\n",
       "      <td>0.26</td>\n",
       "      <td>1.28</td>\n",
       "      <td>4.38</td>\n",
       "      <td>1.05</td>\n",
       "      <td>3.40</td>\n",
       "      <td>1050</td>\n",
       "    </tr>\n",
       "    <tr>\n",
       "      <th>2</th>\n",
       "      <td>1</td>\n",
       "      <td>13.16</td>\n",
       "      <td>2.36</td>\n",
       "      <td>2.67</td>\n",
       "      <td>18.6</td>\n",
       "      <td>101</td>\n",
       "      <td>2.80</td>\n",
       "      <td>3.24</td>\n",
       "      <td>0.30</td>\n",
       "      <td>2.81</td>\n",
       "      <td>5.68</td>\n",
       "      <td>1.03</td>\n",
       "      <td>3.17</td>\n",
       "      <td>1185</td>\n",
       "    </tr>\n",
       "    <tr>\n",
       "      <th>3</th>\n",
       "      <td>1</td>\n",
       "      <td>14.37</td>\n",
       "      <td>1.95</td>\n",
       "      <td>2.50</td>\n",
       "      <td>16.8</td>\n",
       "      <td>113</td>\n",
       "      <td>3.85</td>\n",
       "      <td>3.49</td>\n",
       "      <td>0.24</td>\n",
       "      <td>2.18</td>\n",
       "      <td>7.80</td>\n",
       "      <td>0.86</td>\n",
       "      <td>3.45</td>\n",
       "      <td>1480</td>\n",
       "    </tr>\n",
       "    <tr>\n",
       "      <th>4</th>\n",
       "      <td>1</td>\n",
       "      <td>13.24</td>\n",
       "      <td>2.59</td>\n",
       "      <td>2.87</td>\n",
       "      <td>21.0</td>\n",
       "      <td>118</td>\n",
       "      <td>2.80</td>\n",
       "      <td>2.69</td>\n",
       "      <td>0.39</td>\n",
       "      <td>1.82</td>\n",
       "      <td>4.32</td>\n",
       "      <td>1.04</td>\n",
       "      <td>2.93</td>\n",
       "      <td>735</td>\n",
       "    </tr>\n",
       "  </tbody>\n",
       "</table>\n",
       "</div>"
      ],
      "text/plain": [
       "   Class label  Alcohol  Malic acid   Ash  Alcalinity of ash  Magnesium  \\\n",
       "0            1    14.23        1.71  2.43               15.6        127   \n",
       "1            1    13.20        1.78  2.14               11.2        100   \n",
       "2            1    13.16        2.36  2.67               18.6        101   \n",
       "3            1    14.37        1.95  2.50               16.8        113   \n",
       "4            1    13.24        2.59  2.87               21.0        118   \n",
       "\n",
       "   Total phenols  Flavanoids  Nonflavanoid phenols  Proanthocyanins  \\\n",
       "0           2.80        3.06                  0.28             2.29   \n",
       "1           2.65        2.76                  0.26             1.28   \n",
       "2           2.80        3.24                  0.30             2.81   \n",
       "3           3.85        3.49                  0.24             2.18   \n",
       "4           2.80        2.69                  0.39             1.82   \n",
       "\n",
       "   Color intensity   Hue  OD280/OD315 of diluted wines  Proline  \n",
       "0             5.64  1.04                          3.92     1065  \n",
       "1             4.38  1.05                          3.40     1050  \n",
       "2             5.68  1.03                          3.17     1185  \n",
       "3             7.80  0.86                          3.45     1480  \n",
       "4             4.32  1.04                          2.93      735  "
      ]
     },
     "execution_count": 7,
     "metadata": {},
     "output_type": "execute_result"
    }
   ],
   "source": [
    "## wine 데이터셋 로딩, 전처리 \n",
    "df_wine = pd.read_csv('data/wine.data', header = None)\n",
    "df_wine.columns = ['Class label', 'Alcohol', 'Malic acid', 'Ash',\n",
    "                   'Alcalinity of ash', 'Magnesium', 'Total phenols',\n",
    "                   'Flavanoids', 'Nonflavanoid phenols', 'Proanthocyanins',\n",
    "                   'Color intensity', 'Hue', 'OD280/OD315 of diluted wines',\n",
    "                   'Proline']\n",
    "print(df_wine.shape)\n",
    "df_wine.head()"
   ]
  },
  {
   "cell_type": "code",
   "execution_count": 8,
   "id": "ba7c52cd-1afa-4c26-8afe-60ea97d865af",
   "metadata": {},
   "outputs": [
    {
     "name": "stdout",
     "output_type": "stream",
     "text": [
      "[[12.37  1.82]\n",
      " [12.33  1.67]\n",
      " [12.64  1.59]\n",
      " [13.67  2.46]\n",
      " [12.37  2.87]] \n",
      " [2 2 2 2 2]\n",
      "(95, 2)\n",
      "(24, 2)\n",
      "(95,)\n",
      "(24,)\n"
     ]
    }
   ],
   "source": [
    "## wine 데이터중 class 2, 3 + feature 'Alcohol', 'OD280/OD315 of diluted wines' 만 사용함 \n",
    "df_wine = df_wine[df_wine['Class label'] != 1]\n",
    "X = df_wine[['Alcohol', 'OD280/OD315 of diluted wines']].values\n",
    "y = df_wine['Class label'].values\n",
    "print(X[:5], '\\n', y[:5])\n",
    "\n",
    "from sklearn.model_selection import train_test_split\n",
    "from sklearn.preprocessing import LabelEncoder\n",
    "\n",
    "le = LabelEncoder()\n",
    "y = le.fit_transform(y)\n",
    "\n",
    "X_train, X_test, y_train, y_test = train_test_split(X, y, test_size = 0.2, random_state = 42, stratify = y)\n",
    "print(X_train.shape)\n",
    "print(X_test.shape)\n",
    "print(y_train.shape)\n",
    "print(y_test.shape)"
   ]
  },
  {
   "cell_type": "code",
   "execution_count": 9,
   "id": "d8975cf2-fce6-49ac-8856-c0dca5b4f113",
   "metadata": {},
   "outputs": [],
   "source": [
    "## tree와 BaggingClassifier를 사용한 100개 트리의 앙상블 학습결과 비교  \n",
    "from sklearn.ensemble import BaggingClassifier \n",
    "\n",
    "tree = DecisionTreeClassifier(criterion = 'entropy', random_state = 42, max_depth = None)\n",
    "bag = BaggingClassifier(base_estimator = tree, \n",
    "                        n_estimators = 100,  ## default = 10 \n",
    "                        max_samples = 1.0,   ## default\n",
    "                        max_features = 1.0,  ## default\n",
    "                        bootstrap = True, bootstrap_features = False, ## default\n",
    "                        oob_score = True,  ## OOB 샘플을 사용한 검증 실행 \n",
    "                        n_jobs = -1, random_state = 42)"
   ]
  },
  {
   "cell_type": "code",
   "execution_count": 10,
   "id": "231763c3-da50-4c38-b9b0-202ba19d9985",
   "metadata": {},
   "outputs": [
    {
     "name": "stdout",
     "output_type": "stream",
     "text": [
      "- Train accuracy of tree =  1.0\n",
      "- Test accuracy of tree =  0.875\n"
     ]
    }
   ],
   "source": [
    "tree.fit(X_train, y_train)\n",
    "print('- Train accuracy of tree = ', tree.score(X_train, y_train))\n",
    "print('- Test accuracy of tree = ', tree.score(X_test, y_test))"
   ]
  },
  {
   "cell_type": "code",
   "execution_count": 11,
   "id": "f0c907c7-90ac-4de3-a620-d5bdfc1196d8",
   "metadata": {},
   "outputs": [
    {
     "name": "stdout",
     "output_type": "stream",
     "text": [
      "- Train accuracy of bagging =  1.0\n",
      "- Test accuracy of bagging =  0.8333333333333334\n",
      "- OOB accuracy of bagging =  0.8947368421052632\n"
     ]
    }
   ],
   "source": [
    "bag.fit(X_train, y_train)\n",
    "print('- Train accuracy of bagging = ', bag.score(X_train, y_train))\n",
    "print('- Test accuracy of bagging = ', bag.score(X_test, y_test))\n",
    "print('- OOB accuracy of bagging = ', bag.oob_score_)"
   ]
  },
  {
   "cell_type": "markdown",
   "id": "a2f61ef2-c821-444b-8b6a-cda4c793bd2e",
   "metadata": {},
   "source": [
    "- 보통은 Bagging 결과가 overfitting이 좀더 줄어들어야 되는데, 여기서는 좀 이상하게 나왔음 ... "
   ]
  },
  {
   "cell_type": "code",
   "execution_count": 12,
   "id": "44955c0d-6d51-49d2-9425-a1f0a99980e2",
   "metadata": {},
   "outputs": [
    {
     "name": "stdout",
     "output_type": "stream",
     "text": [
      "-Train accuracy = 1.0\n",
      "-Test accuracy = 0.875\n",
      "-OOB accuracy = 0.8736842105263158\n"
     ]
    }
   ],
   "source": [
    "## OOB (Out Of Bag) 데이터를 이용한 모델 검증 \n",
    "from sklearn.ensemble import RandomForestClassifier \n",
    "rf = RandomForestClassifier(oob_score = True, random_state = 42) \n",
    "rf.fit(X_train, y_train)\n",
    "\n",
    "print('-Train accuracy =', rf.score(X_train, y_train))\n",
    "print('-Test accuracy =', rf.score(X_test, y_test))\n",
    "print('-OOB accuracy =', rf.oob_score_)"
   ]
  },
  {
   "cell_type": "markdown",
   "id": "436d9464-728e-4239-8693-1405866ea866",
   "metadata": {},
   "source": [
    "---- \n",
    "#### 4. Ada Boost \n",
    "- Bagging과 달리 Boosting은 중복하지 않고 train 데이터에서 랜덤샘플을 추출하여 훈련 \n",
    "- 분류하기 어려운 샘플에 focus, 즉 이전 분류기에서 잘못 분류된 샘플에 가중치를 높게 부여하여 다음 분류기에서 훈련하는 과정 반복 \n",
    "----"
   ]
  },
  {
   "cell_type": "code",
   "execution_count": 13,
   "id": "085d100c-65d1-4bb7-a707-3af72096c184",
   "metadata": {},
   "outputs": [],
   "source": [
    "from sklearn.ensemble import AdaBoostClassifier\n",
    "tree = DecisionTreeClassifier(criterion = 'entropy', random_state = 42, max_depth = 1)\n",
    "ada = AdaBoostClassifier(base_estimator = tree, \n",
    "                         n_estimators = 100,  ## default = 10 \n",
    "                         learning_rate = 0.1,\n",
    "                         random_state = 42)"
   ]
  },
  {
   "cell_type": "code",
   "execution_count": 14,
   "id": "e7abf37d-7105-4789-a94a-ab3b87e987c8",
   "metadata": {},
   "outputs": [
    {
     "name": "stdout",
     "output_type": "stream",
     "text": [
      "- Train accuracy of tree =  0.9052631578947369\n",
      "- Test accuracy of tree =  0.75\n"
     ]
    }
   ],
   "source": [
    "## depth = 1인 tree \n",
    "tree.fit(X_train, y_train)\n",
    "print('- Train accuracy of tree = ', tree.score(X_train, y_train))\n",
    "print('- Test accuracy of tree = ', tree.score(X_test, y_test))"
   ]
  },
  {
   "cell_type": "code",
   "execution_count": 15,
   "id": "4ca7ea97-030c-43ce-8993-c948c6703a66",
   "metadata": {},
   "outputs": [
    {
     "name": "stdout",
     "output_type": "stream",
     "text": [
      "- Train accuracy of Ada =  1.0\n",
      "- Test accuracy of Ada =  0.8333333333333334\n"
     ]
    }
   ],
   "source": [
    "ada.fit(X_train, y_train)\n",
    "print('- Train accuracy of Ada = ', bag.score(X_train, y_train))\n",
    "print('- Test accuracy of Ada = ', bag.score(X_test, y_test))"
   ]
  },
  {
   "cell_type": "markdown",
   "id": "6723a39d-2d62-4b48-92ea-dba07e81e3d2",
   "metadata": {},
   "source": [
    "- depth = 1인 tree 대비, Ada의 모형정확도와 ovefitting 해소가 잘 이루어짐 "
   ]
  },
  {
   "cell_type": "markdown",
   "id": "0cf84a29-0e17-43bf-a31e-ba77cf3d689c",
   "metadata": {},
   "source": [
    "----\n",
    "#### 5. 최신 boosting 기법들 \n",
    "- GradientBoosting : 이전의 학습기가 만든 잔차오차(residual error)에 대한 학습기 추가 \n",
    "- HistGradientBoosting : 특성을 256개 구간으로 나누어 학습함. (보통 샘플이 1만개 이상인 경우) 빠른 속도가 장점 \n",
    "- Xgboost : 히스토그램 기반 부스팅의 한 방법 \n",
    "- LightGBM : 히스토그램 기반 부스팅의 한 방법 \n",
    "----"
   ]
  },
  {
   "cell_type": "code",
   "execution_count": 16,
   "id": "e10c738a-624e-4fbd-9fd0-40fe81d1eb4e",
   "metadata": {},
   "outputs": [
    {
     "name": "stdout",
     "output_type": "stream",
     "text": [
      "- Train score of GB = 1.0\n",
      "- Test score of GB = 0.8333333333333334\n"
     ]
    }
   ],
   "source": [
    "## Gradient Boosting \n",
    "from sklearn.ensemble import GradientBoostingClassifier \n",
    "gbrt = GradientBoostingClassifier(n_estimators = 30, random_state = 42)\n",
    "gbrt.fit(X_train, y_train)\n",
    "\n",
    "print('- Train score of GB =', gbrt.score(X_train, y_train))\n",
    "print('- Test score of GB =', gbrt.score(X_test, y_test))"
   ]
  },
  {
   "cell_type": "markdown",
   "id": "57590663-4c05-4525-bd22-581928f9a2b9",
   "metadata": {},
   "source": [
    "- ada boost는 100개의 트리를 사용, GB는 30개만 사용하여 동일한 결과 "
   ]
  },
  {
   "cell_type": "code",
   "execution_count": 17,
   "id": "fc75a139-0fc1-4ca8-9599-90690dd45b53",
   "metadata": {},
   "outputs": [
    {
     "name": "stdout",
     "output_type": "stream",
     "text": [
      "[02:03:33] WARNING: C:\\buildkite-agent\\builds\\buildkite-windows-cpu-autoscaling-group-i-07593ffd91cd9da33-1\\xgboost\\xgboost-ci-windows\\src\\learner.cc:767: \n",
      "Parameters: { \"use_label_encoding\" } are not used.\n",
      "\n",
      "- Train score of XGB = 0.9789473684210527\n",
      "- Test score of XGB = 0.875\n"
     ]
    }
   ],
   "source": [
    "## XGboost \n",
    "from xgboost import XGBClassifier \n",
    "xgbc = XGBClassifier(tree_method = 'hist', eval_metric = 'logloss', \n",
    "                    use_label_encoding = False, random_state = 42)\n",
    "xgbc.fit(X_train, y_train)\n",
    "\n",
    "print('- Train score of XGB =', xgbc.score(X_train, y_train))\n",
    "print('- Test score of XGB =', xgbc.score(X_test, y_test))"
   ]
  },
  {
   "cell_type": "code",
   "execution_count": 25,
   "id": "2bee4cf0-b8c9-40a2-a389-ae59b647234b",
   "metadata": {},
   "outputs": [
    {
     "data": {
      "text/plain": [
       "<AxesSubplot:>"
      ]
     },
     "execution_count": 25,
     "metadata": {},
     "output_type": "execute_result"
    },
    {
     "data": {
      "image/png": "[encoded data removed]",
      "text/plain": [
       "<Figure size 432x288 with 1 Axes>"
      ]
     },
     "metadata": {
      "needs_background": "light"
     },
     "output_type": "display_data"
    }
   ],
   "source": [
    "import xgboost as xgb\n",
    "xgb.plot_tree(xgbc)"
   ]
  },
  {
   "cell_type": "code",
   "execution_count": 26,
   "id": "8a920974-20eb-4d98-970a-1fe284494dc1",
   "metadata": {},
   "outputs": [
    {
     "name": "stdout",
     "output_type": "stream",
     "text": [
      "- Train score of LightGBM = 1.0\n",
      "- Test score of LightGBM = 0.875\n"
     ]
    }
   ],
   "source": [
    "## LightGBM \n",
    "from lightgbm import LGBMClassifier\n",
    "lgbm = LGBMClassifier(random_state = 42)\n",
    "lgbm.fit(X_train, y_train)\n",
    "\n",
    "print('- Train score of LightGBM =', lgbm.score(X_train, y_train))\n",
    "print('- Test score of LightGBM =', lgbm.score(X_test, y_test))"
   ]
  },
  {
   "cell_type": "code",
   "execution_count": null,
   "id": "fcb73de4-f0f7-4b37-aa11-9f0532b0b22b",
   "metadata": {},
   "outputs": [],
   "source": []
  }
 ],
 "metadata": {
  "kernelspec": {
   "display_name": "Python 3",
   "language": "python",
   "name": "python3"
  },
  "language_info": {
   "codemirror_mode": {
    "name": "ipython",
    "version": 3
   },
   "file_extension": ".py",
   "mimetype": "text/x-python",
   "name": "python",
   "nbconvert_exporter": "python",
   "pygments_lexer": "ipython3",
   "version": "3.8.8"
  }
 },
 "nbformat": 4,
 "nbformat_minor": 5
}
