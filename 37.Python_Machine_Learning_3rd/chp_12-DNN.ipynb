{
 "cells": [
  {
   "cell_type": "markdown",
   "id": "a3010e93-ff2b-452b-a43c-e25b61e9b543",
   "metadata": {},
   "source": [
    "### 12장 다층 인공 신경망을 밑바닥부터 구현\n",
    "- 12.1 인공 신경망으로 복잡한 함수 모델링\n",
    "- 12.2 손글씨 숫자 분류\n",
    "- 12.3 인공 신경망 훈련\n",
    "- 12.4 신경망의 수렴\n",
    "- 12.5 신경망 구현에 관한 몇 가지 첨언\n",
    "--- "
   ]
  },
  {
   "cell_type": "code",
   "execution_count": 1,
   "id": "a19b2255-7e4e-49a2-968c-2f053a89f1ee",
   "metadata": {},
   "outputs": [],
   "source": [
    "import numpy as np \n",
    "import pandas as pd\n",
    "import matplotlib.pyplot as plt \n",
    "import seaborn as sns\n",
    "import warnings\n",
    "warnings.filterwarnings(action='ignore')"
   ]
  },
  {
   "cell_type": "code",
   "execution_count": 2,
   "id": "248a1223-a5c3-43ed-b143-9fca593a753d",
   "metadata": {},
   "outputs": [
    {
     "name": "stdout",
     "output_type": "stream",
     "text": [
      "(60000, 784)\n",
      "(10000, 784)\n",
      "(60000,)\n",
      "(10000,)\n"
     ]
    }
   ],
   "source": [
    "## MNIST dataset loading from sklearn \n",
    "from sklearn.datasets import fetch_openml\n",
    "from sklearn.model_selection import train_test_split\n",
    "\n",
    "## y값 : 0~9의 정수 \n",
    "## X값 : 픽셀값이 0~255로 이루어져 있다. --> 보통 이미지 훈련을 위해서, 평균이 0이고 -1 ~ +1인 값으로 변환 \n",
    "X, y = fetch_openml('mnist_784', version = 1, return_X_y = True)\n",
    "y = y.astype(int)\n",
    "X = ((X/255.) - .5) /2 \n",
    "\n",
    "X_train, X_test, y_train, y_test = train_test_split(X, y, test_size = 10000, stratify = y, random_state = 42)\n",
    "print(X_train.shape)\n",
    "print(X_test.shape)\n",
    "print(y_train.shape)\n",
    "print(y_test.shape)"
   ]
  },
  {
   "cell_type": "code",
   "execution_count": 3,
   "id": "a7e60ec9-687a-4fae-88f9-9fcdf1448888",
   "metadata": {},
   "outputs": [
    {
     "data": {
      "text/html": [
       "<div>\n",
       "<style scoped>\n",
       "    .dataframe tbody tr th:only-of-type {\n",
       "        vertical-align: middle;\n",
       "    }\n",
       "\n",
       "    .dataframe tbody tr th {\n",
       "        vertical-align: top;\n",
       "    }\n",
       "\n",
       "    .dataframe thead th {\n",
       "        text-align: right;\n",
       "    }\n",
       "</style>\n",
       "<table border=\"1\" class=\"dataframe\">\n",
       "  <thead>\n",
       "    <tr style=\"text-align: right;\">\n",
       "      <th></th>\n",
       "      <th>pixel1</th>\n",
       "      <th>pixel2</th>\n",
       "      <th>pixel3</th>\n",
       "      <th>pixel4</th>\n",
       "      <th>pixel5</th>\n",
       "      <th>pixel6</th>\n",
       "      <th>pixel7</th>\n",
       "      <th>pixel8</th>\n",
       "      <th>pixel9</th>\n",
       "      <th>pixel10</th>\n",
       "      <th>...</th>\n",
       "      <th>pixel775</th>\n",
       "      <th>pixel776</th>\n",
       "      <th>pixel777</th>\n",
       "      <th>pixel778</th>\n",
       "      <th>pixel779</th>\n",
       "      <th>pixel780</th>\n",
       "      <th>pixel781</th>\n",
       "      <th>pixel782</th>\n",
       "      <th>pixel783</th>\n",
       "      <th>pixel784</th>\n",
       "    </tr>\n",
       "  </thead>\n",
       "  <tbody>\n",
       "    <tr>\n",
       "      <th>41086</th>\n",
       "      <td>-0.25</td>\n",
       "      <td>-0.25</td>\n",
       "      <td>-0.25</td>\n",
       "      <td>-0.25</td>\n",
       "      <td>-0.25</td>\n",
       "      <td>-0.25</td>\n",
       "      <td>-0.25</td>\n",
       "      <td>-0.25</td>\n",
       "      <td>-0.25</td>\n",
       "      <td>-0.25</td>\n",
       "      <td>...</td>\n",
       "      <td>-0.25</td>\n",
       "      <td>-0.25</td>\n",
       "      <td>-0.25</td>\n",
       "      <td>-0.25</td>\n",
       "      <td>-0.25</td>\n",
       "      <td>-0.25</td>\n",
       "      <td>-0.25</td>\n",
       "      <td>-0.25</td>\n",
       "      <td>-0.25</td>\n",
       "      <td>-0.25</td>\n",
       "    </tr>\n",
       "    <tr>\n",
       "      <th>38747</th>\n",
       "      <td>-0.25</td>\n",
       "      <td>-0.25</td>\n",
       "      <td>-0.25</td>\n",
       "      <td>-0.25</td>\n",
       "      <td>-0.25</td>\n",
       "      <td>-0.25</td>\n",
       "      <td>-0.25</td>\n",
       "      <td>-0.25</td>\n",
       "      <td>-0.25</td>\n",
       "      <td>-0.25</td>\n",
       "      <td>...</td>\n",
       "      <td>-0.25</td>\n",
       "      <td>-0.25</td>\n",
       "      <td>-0.25</td>\n",
       "      <td>-0.25</td>\n",
       "      <td>-0.25</td>\n",
       "      <td>-0.25</td>\n",
       "      <td>-0.25</td>\n",
       "      <td>-0.25</td>\n",
       "      <td>-0.25</td>\n",
       "      <td>-0.25</td>\n",
       "    </tr>\n",
       "    <tr>\n",
       "      <th>66359</th>\n",
       "      <td>-0.25</td>\n",
       "      <td>-0.25</td>\n",
       "      <td>-0.25</td>\n",
       "      <td>-0.25</td>\n",
       "      <td>-0.25</td>\n",
       "      <td>-0.25</td>\n",
       "      <td>-0.25</td>\n",
       "      <td>-0.25</td>\n",
       "      <td>-0.25</td>\n",
       "      <td>-0.25</td>\n",
       "      <td>...</td>\n",
       "      <td>-0.25</td>\n",
       "      <td>-0.25</td>\n",
       "      <td>-0.25</td>\n",
       "      <td>-0.25</td>\n",
       "      <td>-0.25</td>\n",
       "      <td>-0.25</td>\n",
       "      <td>-0.25</td>\n",
       "      <td>-0.25</td>\n",
       "      <td>-0.25</td>\n",
       "      <td>-0.25</td>\n",
       "    </tr>\n",
       "    <tr>\n",
       "      <th>25244</th>\n",
       "      <td>-0.25</td>\n",
       "      <td>-0.25</td>\n",
       "      <td>-0.25</td>\n",
       "      <td>-0.25</td>\n",
       "      <td>-0.25</td>\n",
       "      <td>-0.25</td>\n",
       "      <td>-0.25</td>\n",
       "      <td>-0.25</td>\n",
       "      <td>-0.25</td>\n",
       "      <td>-0.25</td>\n",
       "      <td>...</td>\n",
       "      <td>-0.25</td>\n",
       "      <td>-0.25</td>\n",
       "      <td>-0.25</td>\n",
       "      <td>-0.25</td>\n",
       "      <td>-0.25</td>\n",
       "      <td>-0.25</td>\n",
       "      <td>-0.25</td>\n",
       "      <td>-0.25</td>\n",
       "      <td>-0.25</td>\n",
       "      <td>-0.25</td>\n",
       "    </tr>\n",
       "    <tr>\n",
       "      <th>26820</th>\n",
       "      <td>-0.25</td>\n",
       "      <td>-0.25</td>\n",
       "      <td>-0.25</td>\n",
       "      <td>-0.25</td>\n",
       "      <td>-0.25</td>\n",
       "      <td>-0.25</td>\n",
       "      <td>-0.25</td>\n",
       "      <td>-0.25</td>\n",
       "      <td>-0.25</td>\n",
       "      <td>-0.25</td>\n",
       "      <td>...</td>\n",
       "      <td>-0.25</td>\n",
       "      <td>-0.25</td>\n",
       "      <td>-0.25</td>\n",
       "      <td>-0.25</td>\n",
       "      <td>-0.25</td>\n",
       "      <td>-0.25</td>\n",
       "      <td>-0.25</td>\n",
       "      <td>-0.25</td>\n",
       "      <td>-0.25</td>\n",
       "      <td>-0.25</td>\n",
       "    </tr>\n",
       "  </tbody>\n",
       "</table>\n",
       "<p>5 rows × 784 columns</p>\n",
       "</div>"
      ],
      "text/plain": [
       "       pixel1  pixel2  pixel3  pixel4  pixel5  pixel6  pixel7  pixel8  pixel9  \\\n",
       "41086   -0.25   -0.25   -0.25   -0.25   -0.25   -0.25   -0.25   -0.25   -0.25   \n",
       "38747   -0.25   -0.25   -0.25   -0.25   -0.25   -0.25   -0.25   -0.25   -0.25   \n",
       "66359   -0.25   -0.25   -0.25   -0.25   -0.25   -0.25   -0.25   -0.25   -0.25   \n",
       "25244   -0.25   -0.25   -0.25   -0.25   -0.25   -0.25   -0.25   -0.25   -0.25   \n",
       "26820   -0.25   -0.25   -0.25   -0.25   -0.25   -0.25   -0.25   -0.25   -0.25   \n",
       "\n",
       "       pixel10  ...  pixel775  pixel776  pixel777  pixel778  pixel779  \\\n",
       "41086    -0.25  ...     -0.25     -0.25     -0.25     -0.25     -0.25   \n",
       "38747    -0.25  ...     -0.25     -0.25     -0.25     -0.25     -0.25   \n",
       "66359    -0.25  ...     -0.25     -0.25     -0.25     -0.25     -0.25   \n",
       "25244    -0.25  ...     -0.25     -0.25     -0.25     -0.25     -0.25   \n",
       "26820    -0.25  ...     -0.25     -0.25     -0.25     -0.25     -0.25   \n",
       "\n",
       "       pixel780  pixel781  pixel782  pixel783  pixel784  \n",
       "41086     -0.25     -0.25     -0.25     -0.25     -0.25  \n",
       "38747     -0.25     -0.25     -0.25     -0.25     -0.25  \n",
       "66359     -0.25     -0.25     -0.25     -0.25     -0.25  \n",
       "25244     -0.25     -0.25     -0.25     -0.25     -0.25  \n",
       "26820     -0.25     -0.25     -0.25     -0.25     -0.25  \n",
       "\n",
       "[5 rows x 784 columns]"
      ]
     },
     "execution_count": 3,
     "metadata": {},
     "output_type": "execute_result"
    }
   ],
   "source": [
    "X_train.head()"
   ]
  },
  {
   "cell_type": "code",
   "execution_count": 4,
   "id": "54574876-f058-446f-9295-3583d1ba1cf0",
   "metadata": {},
   "outputs": [
    {
     "data": {
      "text/plain": [
       "41086    6\n",
       "38747    9\n",
       "66359    8\n",
       "25244    1\n",
       "26820    0\n",
       "Name: class, dtype: int32"
      ]
     },
     "execution_count": 4,
     "metadata": {},
     "output_type": "execute_result"
    }
   ],
   "source": [
    "y_train.head()"
   ]
  },
  {
   "cell_type": "code",
   "execution_count": 5,
   "id": "a260242b-afec-45c4-80a5-2a1d6d6fe7ac",
   "metadata": {},
   "outputs": [
    {
     "data": {
      "text/plain": [
       "array([[-0.25, -0.25, -0.25, ..., -0.25, -0.25, -0.25],\n",
       "       [-0.25, -0.25, -0.25, ..., -0.25, -0.25, -0.25],\n",
       "       [-0.25, -0.25, -0.25, ..., -0.25, -0.25, -0.25],\n",
       "       ...,\n",
       "       [-0.25, -0.25, -0.25, ..., -0.25, -0.25, -0.25],\n",
       "       [-0.25, -0.25, -0.25, ..., -0.25, -0.25, -0.25],\n",
       "       [-0.25, -0.25, -0.25, ..., -0.25, -0.25, -0.25]])"
      ]
     },
     "execution_count": 5,
     "metadata": {},
     "output_type": "execute_result"
    }
   ],
   "source": [
    "## df --> numpy array 변환 \n",
    "X_train = X_train.to_numpy()\n",
    "X_test = X_test.to_numpy()\n",
    "y_train = y_train.to_numpy()\n",
    "y_test = y_test.to_numpy()\n",
    "\n",
    "X_train"
   ]
  },
  {
   "cell_type": "code",
   "execution_count": 6,
   "id": "7911ce74-1a42-45f4-8b27-d95abe6f7946",
   "metadata": {},
   "outputs": [
    {
     "data": {
      "image/png": "[encoded data removed]",
      "text/plain": [
       "<Figure size 432x288 with 10 Axes>"
      ]
     },
     "metadata": {
      "needs_background": "light"
     },
     "output_type": "display_data"
    }
   ],
   "source": [
    "fig, ax = plt.subplots(nrows = 2, ncols = 5, \n",
    "                       sharex = True, sharey = True) ## x, y축을 공유 \n",
    "ax = ax.flatten() # 다차원 배열 공간을 1차원으로 평탄화\n",
    "for i in range(10): \n",
    "    img = X_train[y_train == i][0].reshape(28,28) ## 픽셀 데이터를 28x28로 변환 \n",
    "    ax[i].imshow(img, cmap = 'Greys')\n",
    "    \n",
    "plt.show()"
   ]
  },
  {
   "cell_type": "code",
   "execution_count": 7,
   "id": "a6c45415-57f6-4390-8ec7-43eea2bafd9a",
   "metadata": {},
   "outputs": [],
   "source": [
    "## 맨땅에 헤딩하기로 만든 DNN (NeuralNetMLP) 모듈 \n",
    "## 학습을 위해 해보는 것임 --> 실전에서는 텐서플로, 케라스 사용 (chp 13 ~ )\n",
    "from my_func.DNN import NeuralNetMLP"
   ]
  },
  {
   "cell_type": "code",
   "execution_count": 8,
   "id": "0bb8e3e8-da24-4ff0-b566-c9246f385901",
   "metadata": {},
   "outputs": [],
   "source": [
    "nn = NeuralNetMLP(n_hidden = 100,   ## hidden layers = 100개 \n",
    "                  l2 = 0.01,        ## overfitting 방지를 위한 규제(L2)\n",
    "                  epochs = 200,     ## 반복횟수 \n",
    "                  eta = 0.0005,     ## 학습률 0~1\n",
    "                  minibatch_size = 100, \n",
    "                  shuffle = True, seed = 1\n",
    "                 )"
   ]
  },
  {
   "cell_type": "code",
   "execution_count": 9,
   "id": "11859c51-1753-4237-9d7f-1179eb846a59",
   "metadata": {},
   "outputs": [
    {
     "name": "stderr",
     "output_type": "stream",
     "text": [
      "200/200 | 비용: 12878.63 | 훈련/검증 정확도: 97.02%/96.02%  "
     ]
    },
    {
     "data": {
      "text/plain": [
       "<my_func.DNN.NeuralNetMLP at 0x1d8280396d0>"
      ]
     },
     "execution_count": 9,
     "metadata": {},
     "output_type": "execute_result"
    }
   ],
   "source": [
    "nn.fit(X_train = X_train[:55000],\n",
    "       y_train = y_train[:55000],\n",
    "       X_valid = X_train[55000:],\n",
    "       y_valid = y_train[55000:],\n",
    "      )"
   ]
  },
  {
   "cell_type": "code",
   "execution_count": 14,
   "id": "cfafa158-76f5-4275-909d-0030c18456c3",
   "metadata": {},
   "outputs": [
    {
     "data": {
      "image/png": "[encoded data removed]",
      "text/plain": [
       "<Figure size 720x288 with 2 Axes>"
      ]
     },
     "metadata": {
      "needs_background": "light"
     },
     "output_type": "display_data"
    }
   ],
   "source": [
    "## 최적 epochs 찾기 \n",
    "plt.figure(figsize=(10, 4))\n",
    "\n",
    "plt.subplot(1, 2, 1)                \n",
    "plt.plot(range(nn.epochs), nn.eval_['cost'])\n",
    "plt.xlabel('epochs')\n",
    "plt.ylabel('cost')\n",
    "\n",
    "plt.subplot(1, 2, 2)                \n",
    "plt.plot(range(nn.epochs), nn.eval_['train_acc'], label = 'train')\n",
    "plt.plot(range(nn.epochs), nn.eval_['valid_acc'], label = 'validataion', linestyle = '--')\n",
    "plt.xlabel('epochs')\n",
    "plt.ylabel('accuracy')\n",
    "plt.legend()\n",
    "\n",
    "plt.show()"
   ]
  },
  {
   "cell_type": "markdown",
   "id": "8fceb1b7-3edb-4e75-b4d5-5c18a770d171",
   "metadata": {},
   "source": [
    "- cost와 overfitting 측면에서 판단할때, epochs = 50 정도가 충분해 보임"
   ]
  },
  {
   "cell_type": "code",
   "execution_count": 17,
   "id": "47af05e4-6b3c-4a45-a802-cfb71b25c2b9",
   "metadata": {},
   "outputs": [
    {
     "data": {
      "text/plain": [
       "0.9633"
      ]
     },
     "execution_count": 17,
     "metadata": {},
     "output_type": "execute_result"
    }
   ],
   "source": [
    "## test dataset에 적용하여, 모형의 일반화 성능 파악 \n",
    "y_test_pred = nn.predict(X_test)\n",
    "acc = (np.sum(y_test == y_test_pred).astype(float) / X_test.shape[0])\n",
    "acc"
   ]
  },
  {
   "cell_type": "code",
   "execution_count": 19,
   "id": "0ddf8360-9cfe-48db-b6b6-5f4a2eb35f08",
   "metadata": {},
   "outputs": [
    {
     "data": {
      "image/png": "[encoded data removed]",
      "text/plain": [
       "<Figure size 432x288 with 25 Axes>"
      ]
     },
     "metadata": {
      "needs_background": "light"
     },
     "output_type": "display_data"
    }
   ],
   "source": [
    "## 모형이 오분류한 이미지는 어떤 것들인지 확인? \n",
    "miscl_img = X_test[y_test != y_test_pred][:25]\n",
    "correct_lab = y_test[y_test != y_test_pred][:25]\n",
    "miscl_lab = y_test_pred[y_test != y_test_pred][:25]\n",
    "\n",
    "fig, ax = plt.subplots(nrows=5, ncols=5, sharex=True, sharey=True)\n",
    "ax = ax.flatten()\n",
    "for i in range(25):\n",
    "    img = miscl_img[i].reshape(28, 28)\n",
    "    ax[i].imshow(img, cmap='Greys', interpolation='nearest')\n",
    "    ax[i].set_title('%d) t: %d p: %d' % (i+1, correct_lab[i], miscl_lab[i]))\n",
    "\n",
    "# plt.savefig('images/12_09.png', dpi=300)\n",
    "plt.show()"
   ]
  },
  {
   "cell_type": "code",
   "execution_count": null,
   "id": "ade68239-d079-4a21-bd6f-9a40379d4c62",
   "metadata": {},
   "outputs": [],
   "source": []
  }
 ],
 "metadata": {
  "kernelspec": {
   "display_name": "Python 3",
   "language": "python",
   "name": "python3"
  },
  "language_info": {
   "codemirror_mode": {
    "name": "ipython",
    "version": 3
   },
   "file_extension": ".py",
   "mimetype": "text/x-python",
   "name": "python",
   "nbconvert_exporter": "python",
   "pygments_lexer": "ipython3",
   "version": "3.8.8"
  }
 },
 "nbformat": 4,
 "nbformat_minor": 5
}
