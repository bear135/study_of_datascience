{
 "cells": [
  {
   "cell_type": "markdown",
   "id": "8a408897-62bd-40fa-9353-e122ba799500",
   "metadata": {},
   "source": [
    "### 6장 모델 평가와 하이퍼파라미터 튜닝의 모범 사례\n",
    "- 6.1 파이프라인을 사용한 효율적인 워크플로\n",
    "- 6.2 k-겹 교차 검증을 사용한 모델 성능 평가\n",
    "- 6.3 학습 곡선과 검증 곡선을 사용한 알고리즘 디버깅\n",
    "- 6.4 그리드 서치를 사용한 머신 러닝 모델 세부 튜닝\n",
    "- 6.5 여러 가지 성능 평가 지표\n",
    "- 6.6 불균형한 클래스 다루기\n",
    "--- "
   ]
  },
  {
   "cell_type": "code",
   "execution_count": 1,
   "id": "99e780c4-d636-4c0b-b66d-52e7acb1303f",
   "metadata": {},
   "outputs": [],
   "source": [
    "import numpy as np \n",
    "import pandas as pd\n",
    "import matplotlib.pyplot as plt \n",
    "import seaborn as sns\n",
    "import warnings\n",
    "warnings.filterwarnings(action='ignore')"
   ]
  },
  {
   "cell_type": "code",
   "execution_count": 2,
   "id": "e5a56073-e1ab-437e-ac42-0e885631a6d4",
   "metadata": {},
   "outputs": [
    {
     "name": "stdout",
     "output_type": "stream",
     "text": [
      "(569, 32)\n"
     ]
    },
    {
     "data": {
      "text/html": [
       "<div>\n",
       "<style scoped>\n",
       "    .dataframe tbody tr th:only-of-type {\n",
       "        vertical-align: middle;\n",
       "    }\n",
       "\n",
       "    .dataframe tbody tr th {\n",
       "        vertical-align: top;\n",
       "    }\n",
       "\n",
       "    .dataframe thead th {\n",
       "        text-align: right;\n",
       "    }\n",
       "</style>\n",
       "<table border=\"1\" class=\"dataframe\">\n",
       "  <thead>\n",
       "    <tr style=\"text-align: right;\">\n",
       "      <th></th>\n",
       "      <th>0</th>\n",
       "      <th>1</th>\n",
       "      <th>2</th>\n",
       "      <th>3</th>\n",
       "      <th>4</th>\n",
       "      <th>5</th>\n",
       "      <th>6</th>\n",
       "      <th>7</th>\n",
       "      <th>8</th>\n",
       "      <th>9</th>\n",
       "      <th>...</th>\n",
       "      <th>22</th>\n",
       "      <th>23</th>\n",
       "      <th>24</th>\n",
       "      <th>25</th>\n",
       "      <th>26</th>\n",
       "      <th>27</th>\n",
       "      <th>28</th>\n",
       "      <th>29</th>\n",
       "      <th>30</th>\n",
       "      <th>31</th>\n",
       "    </tr>\n",
       "  </thead>\n",
       "  <tbody>\n",
       "    <tr>\n",
       "      <th>0</th>\n",
       "      <td>842302</td>\n",
       "      <td>M</td>\n",
       "      <td>17.99</td>\n",
       "      <td>10.38</td>\n",
       "      <td>122.80</td>\n",
       "      <td>1001.0</td>\n",
       "      <td>0.11840</td>\n",
       "      <td>0.27760</td>\n",
       "      <td>0.3001</td>\n",
       "      <td>0.14710</td>\n",
       "      <td>...</td>\n",
       "      <td>25.38</td>\n",
       "      <td>17.33</td>\n",
       "      <td>184.60</td>\n",
       "      <td>2019.0</td>\n",
       "      <td>0.1622</td>\n",
       "      <td>0.6656</td>\n",
       "      <td>0.7119</td>\n",
       "      <td>0.2654</td>\n",
       "      <td>0.4601</td>\n",
       "      <td>0.11890</td>\n",
       "    </tr>\n",
       "    <tr>\n",
       "      <th>1</th>\n",
       "      <td>842517</td>\n",
       "      <td>M</td>\n",
       "      <td>20.57</td>\n",
       "      <td>17.77</td>\n",
       "      <td>132.90</td>\n",
       "      <td>1326.0</td>\n",
       "      <td>0.08474</td>\n",
       "      <td>0.07864</td>\n",
       "      <td>0.0869</td>\n",
       "      <td>0.07017</td>\n",
       "      <td>...</td>\n",
       "      <td>24.99</td>\n",
       "      <td>23.41</td>\n",
       "      <td>158.80</td>\n",
       "      <td>1956.0</td>\n",
       "      <td>0.1238</td>\n",
       "      <td>0.1866</td>\n",
       "      <td>0.2416</td>\n",
       "      <td>0.1860</td>\n",
       "      <td>0.2750</td>\n",
       "      <td>0.08902</td>\n",
       "    </tr>\n",
       "    <tr>\n",
       "      <th>2</th>\n",
       "      <td>84300903</td>\n",
       "      <td>M</td>\n",
       "      <td>19.69</td>\n",
       "      <td>21.25</td>\n",
       "      <td>130.00</td>\n",
       "      <td>1203.0</td>\n",
       "      <td>0.10960</td>\n",
       "      <td>0.15990</td>\n",
       "      <td>0.1974</td>\n",
       "      <td>0.12790</td>\n",
       "      <td>...</td>\n",
       "      <td>23.57</td>\n",
       "      <td>25.53</td>\n",
       "      <td>152.50</td>\n",
       "      <td>1709.0</td>\n",
       "      <td>0.1444</td>\n",
       "      <td>0.4245</td>\n",
       "      <td>0.4504</td>\n",
       "      <td>0.2430</td>\n",
       "      <td>0.3613</td>\n",
       "      <td>0.08758</td>\n",
       "    </tr>\n",
       "    <tr>\n",
       "      <th>3</th>\n",
       "      <td>84348301</td>\n",
       "      <td>M</td>\n",
       "      <td>11.42</td>\n",
       "      <td>20.38</td>\n",
       "      <td>77.58</td>\n",
       "      <td>386.1</td>\n",
       "      <td>0.14250</td>\n",
       "      <td>0.28390</td>\n",
       "      <td>0.2414</td>\n",
       "      <td>0.10520</td>\n",
       "      <td>...</td>\n",
       "      <td>14.91</td>\n",
       "      <td>26.50</td>\n",
       "      <td>98.87</td>\n",
       "      <td>567.7</td>\n",
       "      <td>0.2098</td>\n",
       "      <td>0.8663</td>\n",
       "      <td>0.6869</td>\n",
       "      <td>0.2575</td>\n",
       "      <td>0.6638</td>\n",
       "      <td>0.17300</td>\n",
       "    </tr>\n",
       "    <tr>\n",
       "      <th>4</th>\n",
       "      <td>84358402</td>\n",
       "      <td>M</td>\n",
       "      <td>20.29</td>\n",
       "      <td>14.34</td>\n",
       "      <td>135.10</td>\n",
       "      <td>1297.0</td>\n",
       "      <td>0.10030</td>\n",
       "      <td>0.13280</td>\n",
       "      <td>0.1980</td>\n",
       "      <td>0.10430</td>\n",
       "      <td>...</td>\n",
       "      <td>22.54</td>\n",
       "      <td>16.67</td>\n",
       "      <td>152.20</td>\n",
       "      <td>1575.0</td>\n",
       "      <td>0.1374</td>\n",
       "      <td>0.2050</td>\n",
       "      <td>0.4000</td>\n",
       "      <td>0.1625</td>\n",
       "      <td>0.2364</td>\n",
       "      <td>0.07678</td>\n",
       "    </tr>\n",
       "  </tbody>\n",
       "</table>\n",
       "<p>5 rows × 32 columns</p>\n",
       "</div>"
      ],
      "text/plain": [
       "         0  1      2      3       4       5        6        7       8   \\\n",
       "0    842302  M  17.99  10.38  122.80  1001.0  0.11840  0.27760  0.3001   \n",
       "1    842517  M  20.57  17.77  132.90  1326.0  0.08474  0.07864  0.0869   \n",
       "2  84300903  M  19.69  21.25  130.00  1203.0  0.10960  0.15990  0.1974   \n",
       "3  84348301  M  11.42  20.38   77.58   386.1  0.14250  0.28390  0.2414   \n",
       "4  84358402  M  20.29  14.34  135.10  1297.0  0.10030  0.13280  0.1980   \n",
       "\n",
       "        9   ...     22     23      24      25      26      27      28      29  \\\n",
       "0  0.14710  ...  25.38  17.33  184.60  2019.0  0.1622  0.6656  0.7119  0.2654   \n",
       "1  0.07017  ...  24.99  23.41  158.80  1956.0  0.1238  0.1866  0.2416  0.1860   \n",
       "2  0.12790  ...  23.57  25.53  152.50  1709.0  0.1444  0.4245  0.4504  0.2430   \n",
       "3  0.10520  ...  14.91  26.50   98.87   567.7  0.2098  0.8663  0.6869  0.2575   \n",
       "4  0.10430  ...  22.54  16.67  152.20  1575.0  0.1374  0.2050  0.4000  0.1625   \n",
       "\n",
       "       30       31  \n",
       "0  0.4601  0.11890  \n",
       "1  0.2750  0.08902  \n",
       "2  0.3613  0.08758  \n",
       "3  0.6638  0.17300  \n",
       "4  0.2364  0.07678  \n",
       "\n",
       "[5 rows x 32 columns]"
      ]
     },
     "execution_count": 2,
     "metadata": {},
     "output_type": "execute_result"
    }
   ],
   "source": [
    "## Wisconsin Diagnostic Breast Cancer\n",
    "## column 0~1은 id와 진단결과(M: 악성, B: 양성), 2~31는 세포핵 디지털 이미지의 실수값 \n",
    "df = pd.read_csv('data/wdbc.data', header = None)\n",
    "print(df.shape)\n",
    "df.head()"
   ]
  },
  {
   "cell_type": "code",
   "execution_count": 3,
   "id": "f5027f4a-9258-4daa-9f6d-cf9792065bb2",
   "metadata": {},
   "outputs": [
    {
     "name": "stdout",
     "output_type": "stream",
     "text": [
      "-target = ['B' 'M']\n",
      "-encoded target = [0 1]\n",
      "-y sample =  [1 1 1 1 1 1 1 1 1 1 1 1 1 1 1 1 1 1 1 0]\n",
      "-X_train size = (455, 30)\n",
      "-X_test size = (114, 30)\n",
      "-y_train size = (455,)\n",
      "-y_train size = (114,)\n"
     ]
    }
   ],
   "source": [
    "## 데이터셋 준비 : label encoding, train/test split\n",
    "## 사실 사이킷런에는 M, B를 그대로 넣어도 알아서 encoding하므로, 굳이 LabelEncoder를 쓸 필요 없다. \n",
    "from sklearn.preprocessing import LabelEncoder \n",
    "from sklearn.model_selection import train_test_split\n",
    "X = df.loc[:, 2:].values \n",
    "y = df.loc[:, 1].values\n",
    "\n",
    "le = LabelEncoder()\n",
    "y = le.fit_transform(y)\n",
    "print('-target =', le.classes_)\n",
    "print('-encoded target =', le.transform(le.classes_))\n",
    "print('-y sample = ', y[:20])\n",
    "\n",
    "X_train, X_test, y_train, y_test = train_test_split(X, y, test_size = 0.2, stratify = y, random_state = 42)\n",
    "print('-X_train size =', X_train.shape)\n",
    "print('-X_test size =', X_test.shape)\n",
    "print('-y_train size =', y_train.shape)\n",
    "print('-y_train size =', y_test.shape)"
   ]
  },
  {
   "cell_type": "markdown",
   "id": "a86434a1-0aa9-4a02-a3e2-0f7d16c9dd7c",
   "metadata": {},
   "source": [
    "---\n",
    "#### 1. Pipe line : 표준화 > PCA > LogisticRegression을 한방에 \n",
    "---"
   ]
  },
  {
   "cell_type": "code",
   "execution_count": 4,
   "id": "d2a9cbee-27ec-43f4-885a-035f44942144",
   "metadata": {},
   "outputs": [
    {
     "name": "stdout",
     "output_type": "stream",
     "text": [
      "-train score =  0.9494505494505494\n",
      "-test score =  0.9473684210526315\n"
     ]
    }
   ],
   "source": [
    "from sklearn.preprocessing import StandardScaler \n",
    "from sklearn.decomposition import PCA \n",
    "from sklearn.linear_model import LogisticRegression \n",
    "from sklearn.pipeline import make_pipeline \n",
    "\n",
    "pipe_lr = make_pipeline(StandardScaler(), PCA(n_components = 2), LogisticRegression(random_state = 42)) \n",
    "pipe_lr.fit(X_train, y_train)\n",
    "\n",
    "print('-train score = ', pipe_lr.score(X_train, y_train))\n",
    "print('-test score = ', pipe_lr.score(X_test, y_test))"
   ]
  },
  {
   "cell_type": "code",
   "execution_count": 12,
   "id": "afcec71d-1e92-4deb-89af-015ced65a78c",
   "metadata": {},
   "outputs": [
    {
     "data": {
      "text/html": [
       "<style>div.sk-top-container {color: black;background-color: white;}div.sk-toggleable {background-color: white;}label.sk-toggleable__label {cursor: pointer;display: block;width: 100%;margin-bottom: 0;padding: 0.2em 0.3em;box-sizing: border-box;text-align: center;}div.sk-toggleable__content {max-height: 0;max-width: 0;overflow: hidden;text-align: left;background-color: #f0f8ff;}div.sk-toggleable__content pre {margin: 0.2em;color: black;border-radius: 0.25em;background-color: #f0f8ff;}input.sk-toggleable__control:checked~div.sk-toggleable__content {max-height: 200px;max-width: 100%;overflow: auto;}div.sk-estimator input.sk-toggleable__control:checked~label.sk-toggleable__label {background-color: #d4ebff;}div.sk-label input.sk-toggleable__control:checked~label.sk-toggleable__label {background-color: #d4ebff;}input.sk-hidden--visually {border: 0;clip: rect(1px 1px 1px 1px);clip: rect(1px, 1px, 1px, 1px);height: 1px;margin: -1px;overflow: hidden;padding: 0;position: absolute;width: 1px;}div.sk-estimator {font-family: monospace;background-color: #f0f8ff;margin: 0.25em 0.25em;border: 1px dotted black;border-radius: 0.25em;box-sizing: border-box;}div.sk-estimator:hover {background-color: #d4ebff;}div.sk-parallel-item::after {content: \"\";width: 100%;border-bottom: 1px solid gray;flex-grow: 1;}div.sk-label:hover label.sk-toggleable__label {background-color: #d4ebff;}div.sk-serial::before {content: \"\";position: absolute;border-left: 1px solid gray;box-sizing: border-box;top: 2em;bottom: 0;left: 50%;}div.sk-serial {display: flex;flex-direction: column;align-items: center;background-color: white;}div.sk-item {z-index: 1;}div.sk-parallel {display: flex;align-items: stretch;justify-content: center;background-color: white;}div.sk-parallel-item {display: flex;flex-direction: column;position: relative;background-color: white;}div.sk-parallel-item:first-child::after {align-self: flex-end;width: 50%;}div.sk-parallel-item:last-child::after {align-self: flex-start;width: 50%;}div.sk-parallel-item:only-child::after {width: 0;}div.sk-dashed-wrapped {border: 1px dashed gray;margin: 0.2em;box-sizing: border-box;padding-bottom: 0.1em;background-color: white;position: relative;}div.sk-label label {font-family: monospace;font-weight: bold;background-color: white;display: inline-block;line-height: 1.2em;}div.sk-label-container {position: relative;z-index: 2;text-align: center;}div.sk-container {display: inline-block;position: relative;}</style><div class=\"sk-top-container\"><div class=\"sk-container\"><div class=\"sk-item sk-dashed-wrapped\"><div class=\"sk-label-container\"><div class=\"sk-label sk-toggleable\"><input class=\"sk-toggleable__control sk-hidden--visually\" id=\"2b1519a3-d0b3-4a24-b6fc-d37ad79fd29b\" type=\"checkbox\" ><label class=\"sk-toggleable__label\" for=\"2b1519a3-d0b3-4a24-b6fc-d37ad79fd29b\">Pipeline</label><div class=\"sk-toggleable__content\"><pre>Pipeline(steps=[('standardscaler', StandardScaler()),\n",
       "                ('logisticregression', LogisticRegression(random_state=42))])</pre></div></div></div><div class=\"sk-serial\"><div class=\"sk-item\"><div class=\"sk-estimator sk-toggleable\"><input class=\"sk-toggleable__control sk-hidden--visually\" id=\"b66bdf3b-802c-4f13-bcc1-f504790ae078\" type=\"checkbox\" ><label class=\"sk-toggleable__label\" for=\"b66bdf3b-802c-4f13-bcc1-f504790ae078\">StandardScaler</label><div class=\"sk-toggleable__content\"><pre>StandardScaler()</pre></div></div></div><div class=\"sk-item\"><div class=\"sk-estimator sk-toggleable\"><input class=\"sk-toggleable__control sk-hidden--visually\" id=\"63fa0f8d-8179-4291-bdd3-22dc05c5a0f1\" type=\"checkbox\" ><label class=\"sk-toggleable__label\" for=\"63fa0f8d-8179-4291-bdd3-22dc05c5a0f1\">LogisticRegression</label><div class=\"sk-toggleable__content\"><pre>LogisticRegression(random_state=42)</pre></div></div></div></div></div></div></div>"
      ],
      "text/plain": [
       "Pipeline(steps=[('standardscaler', StandardScaler()),\n",
       "                ('logisticregression', LogisticRegression(random_state=42))])"
      ]
     },
     "execution_count": 12,
     "metadata": {},
     "output_type": "execute_result"
    }
   ],
   "source": [
    "## 참고. pipe_line 시각화 : set_config \n",
    "from sklearn import set_config \n",
    "set_config(display = 'diagram')\n",
    "pipe_lr"
   ]
  },
  {
   "cell_type": "markdown",
   "id": "d7b44d21-20c1-4dae-b4c6-7b6f2f34b061",
   "metadata": {},
   "source": [
    "---\n",
    "#### 2. k-fold cross validation \n",
    "- hold out cross-validation : 데이터셋을 training/validation/test set로 나눈다. \n",
    "- k-fold cross-validation : 중복을 허용하지 않고, k개의 폴드로 랜덤하게 나누어 교차검증한다. \n",
    "- stratified k-fold cross-validation : class 비율이 동등하지 않을때, 폴드간 class 비율이 일정하게 만든다. \n",
    "---"
   ]
  },
  {
   "cell_type": "code",
   "execution_count": 6,
   "id": "9e66e39e-1aa6-41f4-80f8-260aa774e9b4",
   "metadata": {},
   "outputs": [
    {
     "data": {
      "text/plain": [
       "0.944927536231884"
      ]
     },
     "execution_count": 6,
     "metadata": {},
     "output_type": "execute_result"
    }
   ],
   "source": [
    "## k-fold 방식에서는 train set이 존재하지 않으므로, accuracy = test accuracy임 \n",
    "from sklearn.model_selection import cross_validate \n",
    "scores = cross_validate(estimator = pipe_lr, X=X_train, y=y_train, \n",
    "                        scoring = ['accuracy'], cv = 10, n_jobs = -1 )  ## cv=10 : 10-fold, n__jobs=-1 : use all core \n",
    "\n",
    "np.mean(scores['test_accuracy'])"
   ]
  },
  {
   "cell_type": "markdown",
   "id": "d95399a0-c293-4fe6-a1ac-160b20d3caa7",
   "metadata": {},
   "source": [
    "----\n",
    "#### 3. learning curve 또는 validation curve \n",
    "- under fitting에 대한 대처 : prameters 갯수를 늘인다. 즉 추가적인 특성을 수집하거나, regression/SVM 모델의 경우 규제강도를 줄인다. \n",
    "- over fitting에 대한 대처  : 더 많은 훈련데이터를 모으거나, 모델 복잡도를 낮춘다. 규제강도를 높이거나, 규제가 없는 모델이라면 특성갯수를 줄인다. \n",
    "----"
   ]
  },
  {
   "cell_type": "code",
   "execution_count": 7,
   "id": "89cc3cc0-e338-4564-a680-e9fb8d73f240",
   "metadata": {},
   "outputs": [],
   "source": [
    "pipe_lr = make_pipeline(StandardScaler(), \n",
    "                        LogisticRegression(penalty = 'l2', random_state = 42)) ## L2(Ridge 규제 적용)"
   ]
  },
  {
   "cell_type": "code",
   "execution_count": 8,
   "id": "d8f14f97-aa56-4c37-ac97-d8358d5b9a11",
   "metadata": {},
   "outputs": [
    {
     "data": {
      "image/png": "[encoded data removed]",
      "text/plain": [
       "<Figure size 720x360 with 1 Axes>"
      ]
     },
     "metadata": {
      "needs_background": "light"
     },
     "output_type": "display_data"
    }
   ],
   "source": [
    "## logisticRegression의 매개변수 C(규제강도) 변화에 대한 validation curve \n",
    "from sklearn.model_selection import validation_curve \n",
    "param_range = [0.001, 0.01, 0.1, 1.0, 10.0, 100.0]\n",
    "\n",
    "train_scores, test_scores =  validation_curve(\n",
    "                             estimator = pipe_lr, X=X_train, y=y_train, \n",
    "                             param_name = 'logisticregression__C',   ##평가대상 매개변수 지정 \n",
    "                             param_range = param_range, cv=10, n_jobs = -1 ) \n",
    "\n",
    "train_mean = np.mean(train_scores, axis = 1)\n",
    "test_mean = np.mean(test_scores, axis = 1)\n",
    "\n",
    "plt.figure(figsize=(10, 5))\n",
    "plt.plot(param_range, train_mean, color = 'blue', marker = 'o', markersize = 5, label = 'train accuracy')\n",
    "plt.plot(param_range, test_mean, color = 'green', marker = 's', markersize = 5, label = 'validation accuracy')\n",
    "plt.xscale('log')\n",
    "plt.xlabel('Parameter = C')\n",
    "plt.ylabel('Accuracy')\n",
    "plt.ylim([0.8, 1.0])\n",
    "plt.legend()\n",
    "plt.grid()\n",
    "plt.show()"
   ]
  },
  {
   "cell_type": "markdown",
   "id": "58a4cfd7-70b0-470a-995b-2b27e934438d",
   "metadata": {},
   "source": [
    "- C >= 1로 규제가 약해지면, overfitting이 발생한다. "
   ]
  },
  {
   "cell_type": "markdown",
   "id": "36a8c0d6-d1bb-4be4-82a1-5a7890b3e3c4",
   "metadata": {},
   "source": [
    "----\n",
    "#### 4. GridSearchCV : hyperparameter 최적화 \n",
    "- 리스트로 지정된 hyperparameters를 모두 조사하여, 최적 hyperparameters를 찾는다. \n",
    "- RandomizedSearchCV : 샘플링 가능한 분포를 입력받아, 최적 hyperparameters를 찾는다. \n",
    "----"
   ]
  },
  {
   "cell_type": "code",
   "execution_count": 9,
   "id": "f92715b3-acd6-4e9d-8201-ccdc94dff58c",
   "metadata": {},
   "outputs": [
    {
     "name": "stdout",
     "output_type": "stream",
     "text": [
      "-Best Accuracy = 0.9757004830917875\n",
      "-Best Parameters = {'svc__C': 100.0, 'svc__gamma': 0.01, 'svc__kernel': 'rbf'}\n"
     ]
    }
   ],
   "source": [
    "## SVC의 커널로써 linear와 rbf중 더 우수한 것을 찾는다. \n",
    "from sklearn.model_selection import GridSearchCV \n",
    "from sklearn.svm import SVC\n",
    "\n",
    "pipe_svc = make_pipeline(StandardScaler(), SVC(random_state = 42))\n",
    "\n",
    "## 튜닝하려는 매개변수들을 리스트로 지정  \n",
    "## gamma : 가우시안 rbf함수의 표준편차와 관련, 클수록 작은 표준편차를 가짐. 즉, gamma가 클수록 한 데이터 포인터들이 영향력을 행사하는 거리가 짧아짐 \n",
    "param_range = [0.0001, 0.001, 0.01, 0.1, 1.0, 10.0, 100.0, 1000.0]\n",
    "param_grid = [{'svc__C': param_range, \n",
    "               'svc__kernel': ['linear']}, \n",
    "              {'svc__C': param_range, \n",
    "               'svc__kernel': ['rbf'], \n",
    "               'svc__gamma': param_range} ]             \n",
    "\n",
    "## refit = True : 최적 파라미터를 찾은 후, 입력값을 최적 파라미터로 재학습 (false인 경우는 최적변수를 찾기만 함)\n",
    "gs = GridSearchCV(estimator = pipe_svc, \n",
    "                  param_grid = param_grid, \n",
    "                  scoring = 'accuracy', \n",
    "                  cv = 10, refit = True, n_jobs = -1) \n",
    "\n",
    "gs = gs.fit(X_train, y_train)\n",
    "print('-Best Accuracy =', gs.best_score_)\n",
    "print('-Best Parameters =', gs.best_params_)"
   ]
  },
  {
   "cell_type": "code",
   "execution_count": 10,
   "id": "98e350eb-c717-4ae0-b3e6-d07eb89ed96e",
   "metadata": {},
   "outputs": [
    {
     "name": "stdout",
     "output_type": "stream",
     "text": [
      "-train accuracy = 0.9934065934065934\n",
      "-test accuracy = 0.956140350877193\n"
     ]
    }
   ],
   "source": [
    "## 앞서 훈련된 best 매개변수들로 훈련시키고, test dataset으로 검증 \n",
    "## refit = True로 지정했으므로 이미 best_params_를 사용해 훈련된 결과가 저장되어 있다. (*clf.fit(X_rain, y_trian)할 필요없다.)\n",
    "clf = gs.best_estimator_\n",
    "#clf.fit(X_train, y_train)\n",
    "print('-train accuracy =', clf.score(X_train, y_train))\n",
    "print('-test accuracy =', clf.score(X_test, y_test))"
   ]
  },
  {
   "cell_type": "code",
   "execution_count": 15,
   "id": "24598da2-a63d-4952-87a7-1cf12b677355",
   "metadata": {},
   "outputs": [
    {
     "name": "stdout",
     "output_type": "stream",
     "text": [
      "-Best Accuracy = 0.9736714975845411\n",
      "-Best Parameters = {'svc__C': 0.06295450333384249, 'svc__kernel': 'linear'}\n"
     ]
    }
   ],
   "source": [
    "## RandomizedSearchCV는 GridSearchCV에 비해 적은 자원으로 보다 효율적으로 계산을 수행한다. \n",
    "## GridSearchCV는 매개변수들을 리스트로 받는 반면, RandomizedSearchCV는 분포로 받는다. \n",
    "from sklearn.model_selection import RandomizedSearchCV \n",
    "from sklearn.utils.fixes import loguniform \n",
    "\n",
    "distribution = loguniform(0.0001, 1000.0)\n",
    "param_dist = [{'svc__C': distribution, \n",
    "               'svc__kernel': ['linear']}, \n",
    "              {'svc__C': distribution, \n",
    "               'svc__kernel': ['rbf'], \n",
    "               'svc__gamma': distribution} ]             \n",
    "\n",
    "rs = RandomizedSearchCV(estimator = pipe_svc, \n",
    "                        param_distributions = param_dist, \n",
    "                        n_iter = 30,  cv = 10, n_jobs = -1, random_state = 42) \n",
    "\n",
    "rs = rs.fit(X_train, y_train)\n",
    "print('-Best Accuracy =', rs.best_score_)\n",
    "print('-Best Parameters =', rs.best_params_)"
   ]
  },
  {
   "cell_type": "code",
   "execution_count": 16,
   "id": "01415a45-21a5-46ba-ad8c-307c0fbded28",
   "metadata": {},
   "outputs": [
    {
     "name": "stdout",
     "output_type": "stream",
     "text": [
      "-train accuracy = 0.978021978021978\n",
      "-test accuracy = 0.9824561403508771\n"
     ]
    }
   ],
   "source": [
    "rlf = rs.best_estimator_\n",
    "#rlf.fit(X_train, y_train)\n",
    "print('-train accuracy =', rlf.score(X_train, y_train))\n",
    "print('-test accuracy =', rlf.score(X_test, y_test))"
   ]
  },
  {
   "cell_type": "markdown",
   "id": "e3bcb693-8f85-42b7-a8b7-969aaae13e4d",
   "metadata": {},
   "source": [
    "----\n",
    "#### 5. nested_cross_validation (중첩교차검증)\n",
    "----"
   ]
  },
  {
   "cell_type": "code",
   "execution_count": 18,
   "id": "029ec303-0bfe-496f-a070-1229f9dc3638",
   "metadata": {},
   "outputs": [
    {
     "data": {
      "image/png": "[encoded data removed]",
      "text/plain": [
       "<IPython.core.display.Image object>"
      ]
     },
     "execution_count": 18,
     "metadata": {
      "image/png": {
       "width": 500
      }
     },
     "output_type": "execute_result"
    }
   ],
   "source": [
    "## 개념 : 바깥쪽 루프의 5-fold 교차검증 x 안쪽루프의 2-fold \n",
    "## 데이터가 적어 train/validation/test 검증결과를 신뢰하기 힘들때 사용하면 좋으나, 계산 리소스가 너무 많이 든다는 단점 \n",
    "from IPython.display import Image \n",
    "Image('img/nested_cross-validation.PNG', width=500) "
   ]
  },
  {
   "cell_type": "code",
   "execution_count": 21,
   "id": "743fc5b5-2ba1-40ce-bf13-688f5f2394cd",
   "metadata": {},
   "outputs": [
    {
     "name": "stdout",
     "output_type": "stream",
     "text": [
      "Average accuracy = 0.9736263736263737\n",
      "Std of accuracy = 0.013186813186813185\n"
     ]
    }
   ],
   "source": [
    "## svc 모델에 nested crodd-validation 사용 예시 \n",
    "from sklearn.model_selection import cross_val_score\n",
    "\n",
    "gs = GridSearchCV(estimator = pipe_svc, \n",
    "                  param_grid = param_grid, \n",
    "                  scoring = 'accuracy', \n",
    "                  cv = 2, n_jobs = -1) \n",
    "\n",
    "scores = cross_val_score(gs, X_train, y_train, scoring = 'accuracy', cv = 5, n_jobs = -1)\n",
    "\n",
    "print('Average accuracy =', np.mean(scores))\n",
    "print('Std of accuracy =', np.std(scores))"
   ]
  },
  {
   "cell_type": "code",
   "execution_count": 23,
   "id": "0b7721ab-b485-4c99-a1f8-000ac6d8966c",
   "metadata": {},
   "outputs": [
    {
     "name": "stdout",
     "output_type": "stream",
     "text": [
      "Average accuracy = 0.9274725274725274\n",
      "Std of accuracy = 0.035164835164835165\n"
     ]
    }
   ],
   "source": [
    "## tree 모델에 nested crodd-validation 사용 예시 \n",
    "## tree 모델은 변수 표준화 불필요 \n",
    "from sklearn.tree import DecisionTreeClassifier\n",
    "\n",
    "gs = GridSearchCV(estimator = DecisionTreeClassifier(random_state = 42), \n",
    "                  param_grid = [{'max_depth': [1,2,3,4,5,6,7,None]}], ##최적의 트리 깊이를 구하는 문제 \n",
    "                  scoring = 'accuracy', \n",
    "                  cv = 2, n_jobs = -1) \n",
    "\n",
    "scores = cross_val_score(gs, X_train, y_train, scoring = 'accuracy', cv = 5, n_jobs = -1)\n",
    "\n",
    "print('Average accuracy =', np.mean(scores))\n",
    "print('Std of accuracy =', np.std(scores))"
   ]
  },
  {
   "cell_type": "markdown",
   "id": "26e71e66-8001-47e7-b5e4-cc3917747d4c",
   "metadata": {},
   "source": [
    "---\n",
    "#### 6. model 성능평가 지표 \n",
    "- Precision : 정밀도, Positive로 예측한 것중 Real positive의 비율 (모형정확도 중시, Risk 감수 ex. 정상 메일을 스팸으로 분류하면 안된다.) \n",
    "- Recall : 재현율, Real Positive중 Positive로 예측한 비율 (모형정확도 보다 Risk 감소가 더 중요한 경우 ex. 암환자를 놓쳐서는안된다.) \n",
    "- F1 : Precision과 REcall의 균형 \n",
    "---"
   ]
  },
  {
   "cell_type": "code",
   "execution_count": 36,
   "id": "52fd4257-ab73-4c27-a862-73b264d6d457",
   "metadata": {},
   "outputs": [
    {
     "data": {
      "image/png": "[encoded data removed]",
      "text/plain": [
       "<Figure size 432x288 with 2 Axes>"
      ]
     },
     "metadata": {
      "needs_background": "light"
     },
     "output_type": "display_data"
    },
    {
     "data": {
      "text/plain": [
       "<Figure size 720x720 with 0 Axes>"
      ]
     },
     "metadata": {},
     "output_type": "display_data"
    }
   ],
   "source": [
    "## plot_confusion_matrix : 오차행렬 그리기, normalize 옵션을 사용하여 정규화 확률 출력 가능함 \n",
    "from sklearn.metrics import plot_confusion_matrix\n",
    "\n",
    "plot_confusion_matrix(pipe_svc, X_test, y_test)\n",
    "plt.show()"
   ]
  },
  {
   "cell_type": "code",
   "execution_count": 37,
   "id": "35fb5656-7400-4401-b46f-f6cdeebc82ab",
   "metadata": {},
   "outputs": [
    {
     "data": {
      "image/png": "[encoded data removed]",
      "text/plain": [
       "<Figure size 432x288 with 2 Axes>"
      ]
     },
     "metadata": {
      "needs_background": "light"
     },
     "output_type": "display_data"
    }
   ],
   "source": [
    "plot_confusion_matrix(pipe_svc, X_test, y_test, normalize = 'all')\n",
    "plt.show()"
   ]
  },
  {
   "cell_type": "code",
   "execution_count": 47,
   "id": "5e51ea22-e73a-4936-9dcd-8e99a138aa75",
   "metadata": {},
   "outputs": [
    {
     "name": "stdout",
     "output_type": "stream",
     "text": [
      "- precision_score = 1.0\n",
      "- recall_score = 0.9285714285714286\n",
      "- f1_score = 0.962962962962963\n"
     ]
    }
   ],
   "source": [
    "## 사이킷런으로 Precision, Recall, F1 구하기 \n",
    "## 계산을 위해 모형에 의해 예측된 y값(y_pred)가 필요하다. \n",
    "y_pred = pipe_svc.predict(X_test)\n",
    "\n",
    "from sklearn.metrics import precision_score, recall_score, f1_score\n",
    "\n",
    "print('- precision_score =', precision_score(y_test, y_pred))\n",
    "print('- recall_score =', recall_score(y_test, y_pred))\n",
    "print('- f1_score =', f1_score(y_test, y_pred))"
   ]
  },
  {
   "cell_type": "markdown",
   "id": "c5d75e69-c256-4ce3-a614-f50b236d698b",
   "metadata": {},
   "source": [
    "----\n",
    "#### 7. ROC AUC \n",
    "- ROC curve : 그래프의 대각선은 랜덤 추축으로 해석, 따라서 대각선 아래 위치한 모델은 랜덤보다 나쁜 모델 \n",
    "- ROC AUC   : ROC Area Under Curve (ROC커브 아래부분의 면적, 많을 수록 좋다. ~ max = 1) \n",
    "----"
   ]
  },
  {
   "cell_type": "code",
   "execution_count": 45,
   "id": "3d2bcf77-92a8-4ee3-a55c-9fc7cd591ebc",
   "metadata": {},
   "outputs": [
    {
     "name": "stdout",
     "output_type": "stream",
     "text": [
      "- roc_auc_score = 0.9642857142857143\n"
     ]
    }
   ],
   "source": [
    "from sklearn.metrics import roc_auc_score\n",
    "print('- roc_auc_score =', roc_auc_score(y_test, y_pred))"
   ]
  },
  {
   "cell_type": "code",
   "execution_count": 48,
   "id": "939d2a39-c063-4026-9ebf-82f751d3f409",
   "metadata": {},
   "outputs": [
    {
     "data": {
      "image/png": "[encoded data removed]",
      "text/plain": [
       "<Figure size 432x288 with 1 Axes>"
      ]
     },
     "metadata": {
      "needs_background": "light"
     },
     "output_type": "display_data"
    }
   ],
   "source": [
    "from sklearn.metrics import plot_roc_curve\n",
    "\n",
    "plot_roc_curve(pipe_svc, X_test, y_test)\n",
    "plt.show()"
   ]
  },
  {
   "cell_type": "markdown",
   "id": "b1b26094-100e-4e6d-8c3a-8035eadc47b8",
   "metadata": {},
   "source": [
    "---\n",
    "#### 8. 불균형한 클랙스 처리 : 예를들어 Positive가 90%라면, 랜덤하게 찍어도 정확도는 90%임\n",
    "- 1) 소수 클래스에서 발생한 예측 오류에 큰 벌칙 부여 (class_weight = 'balanced'로 설정)\n",
    "- 2) 소수 클래스의 샘플을 늘이거나, 다수 클래스의 샘플을 줄인다. \n",
    "---"
   ]
  },
  {
   "cell_type": "code",
   "execution_count": 59,
   "id": "7bd11851-4de0-413a-9c8b-0c6b03281b6f",
   "metadata": {},
   "outputs": [
    {
     "data": {
      "text/plain": [
       "array([0, 0, 0, 0, 0, 0, 0, 0, 0, 0, 0, 0, 0, 0, 0, 0, 0, 0, 0, 0, 0, 0,\n",
       "       0, 0, 0, 0, 0, 0, 0, 0, 0, 0, 0, 0, 0, 0, 0, 0, 0, 0, 0, 0, 0, 0,\n",
       "       0, 0, 0, 0, 0, 0, 0, 0, 0, 0, 0, 0, 0, 0, 0, 0, 0, 0, 0, 0, 0, 0,\n",
       "       0, 0, 0, 0, 0, 0, 0, 0, 0, 0, 0, 0, 0, 0, 0, 0, 0, 0, 0, 0, 0, 0,\n",
       "       0, 0, 0, 0, 0, 0, 0, 0, 0, 0, 0, 0, 0, 0, 0, 0, 0, 0, 0, 0, 0, 0,\n",
       "       0, 0, 0, 0, 0, 0, 0, 0, 0, 0, 0, 0, 0, 0, 0, 0, 0, 0, 0, 0, 0, 0,\n",
       "       0, 0, 0, 0, 0, 0, 0, 0, 0, 0, 0, 0, 0, 0, 0, 0, 0, 0, 0, 0, 0, 0,\n",
       "       0, 0, 0, 0, 0, 0, 0, 0, 0, 0, 0, 0, 0, 0, 0, 0, 0, 0, 0, 0, 0, 0,\n",
       "       0, 0, 0, 0, 0, 0, 0, 0, 0, 0, 0, 0, 0, 0, 0, 0, 0, 0, 0, 0, 0, 0,\n",
       "       0, 0, 0, 0, 0, 0, 0, 0, 0, 0, 0, 0, 0, 0, 0, 0, 0, 0, 0, 0, 0, 0,\n",
       "       0, 0, 0, 0, 0, 0, 0, 0, 0, 0, 0, 0, 0, 0, 0, 0, 0, 0, 0, 0, 0, 0,\n",
       "       0, 0, 0, 0, 0, 0, 0, 0, 0, 0, 0, 0, 0, 0, 0, 0, 0, 0, 0, 0, 0, 0,\n",
       "       0, 0, 0, 0, 0, 0, 0, 0, 0, 0, 0, 0, 0, 0, 0, 0, 0, 0, 0, 0, 0, 0,\n",
       "       0, 0, 0, 0, 0, 0, 0, 0, 0, 0, 0, 0, 0, 0, 0, 0, 0, 0, 0, 0, 0, 0,\n",
       "       0, 0, 0, 0, 0, 0, 0, 0, 0, 0, 0, 0, 0, 0, 0, 0, 0, 0, 0, 0, 0, 0,\n",
       "       0, 0, 0, 0, 0, 0, 0, 0, 0, 0, 0, 0, 0, 0, 0, 0, 0, 0, 0, 0, 0, 0,\n",
       "       0, 0, 0, 0, 0, 1, 1, 1, 1, 1, 1, 1, 1, 1, 1, 1, 1, 1, 1, 1, 1, 1,\n",
       "       1, 1, 1, 1, 1, 1, 1, 1, 1, 1, 1, 1, 1, 1, 1, 1, 1, 1, 1, 1, 1, 1,\n",
       "       1])"
      ]
     },
     "execution_count": 59,
     "metadata": {},
     "output_type": "execute_result"
    }
   ],
   "source": [
    "## wdbc 데이터는 positive = 357, negative = 212로 구성되어 있다. (63:37) \n",
    "## 불규칙한 데이터셋 생성 : positive = 357, negative = 40 (9:1) \n",
    "X_imb = np.vstack((X[y==0], X[y==1][:40]))\n",
    "y_imb = np.hstack((y[y==0], y[y==1][:40]))\n",
    "\n",
    "y_imb"
   ]
  },
  {
   "cell_type": "code",
   "execution_count": 61,
   "id": "40848dbf-cab6-4b0d-b8e1-500bb9a6603d",
   "metadata": {},
   "outputs": [
    {
     "data": {
      "text/plain": [
       "array([1, 1, 1, 1, 1, 1, 1, 1, 1, 1, 1, 1, 1, 1, 1, 1, 1, 1, 1, 1, 1, 1,\n",
       "       1, 1, 1, 1, 1, 1, 1, 1, 1, 1, 1, 1, 1, 1, 1, 1, 1, 1, 1, 1, 1, 1,\n",
       "       1, 1, 1, 1, 1, 1, 1, 1, 1, 1, 1, 1, 1, 1, 1, 1, 1, 1, 1, 1, 1, 1,\n",
       "       1, 1, 1, 1, 1, 1, 1, 1, 1, 1, 1, 1, 1, 1, 1, 1, 1, 1, 1, 1, 1, 1,\n",
       "       1, 1, 1, 1, 1, 1, 1, 1, 1, 1, 1, 1, 1, 1, 1, 1, 1, 1, 1, 1, 1, 1,\n",
       "       1, 1, 1, 1, 1, 1, 1, 1, 1, 1, 1, 1, 1, 1, 1, 1, 1, 1, 1, 1, 1, 1,\n",
       "       1, 1, 1, 1, 1, 1, 1, 1, 1, 1, 1, 1, 1, 1, 1, 1, 1, 1, 1, 1, 1, 1,\n",
       "       1, 1, 1, 1, 1, 1, 1, 1, 1, 1, 1, 1, 1, 1, 1, 1, 1, 1, 1, 1, 1, 1,\n",
       "       1, 1, 1, 1, 1, 1, 1, 1, 1, 1, 1, 1, 1, 1, 1, 1, 1, 1, 1, 1, 1, 1,\n",
       "       1, 1, 1, 1, 1, 1, 1, 1, 1, 1, 1, 1, 1, 1, 1, 1, 1, 1, 1, 1, 1, 1,\n",
       "       1, 1, 1, 1, 1, 1, 1, 1, 1, 1, 1, 1, 1, 1, 1, 1, 1, 1, 1, 1, 1, 1,\n",
       "       1, 1, 1, 1, 1, 1, 1, 1, 1, 1, 1, 1, 1, 1, 1, 1, 1, 1, 1, 1, 1, 1,\n",
       "       1, 1, 1, 1, 1, 1, 1, 1, 1, 1, 1, 1, 1, 1, 1, 1, 1, 1, 1, 1, 1, 1,\n",
       "       1, 1, 1, 1, 1, 1, 1, 1, 1, 1, 1, 1, 1, 1, 1, 1, 1, 1, 1, 1, 1, 1,\n",
       "       1, 1, 1, 1, 1, 1, 1, 1, 1, 1, 1, 1, 1, 1, 1, 1, 1, 1, 1, 1, 1, 1,\n",
       "       1, 1, 1, 1, 1, 1, 1, 1, 1, 1, 1, 1, 1, 1, 1, 1, 1, 1, 1, 1, 1, 1,\n",
       "       1, 1, 1, 1, 1])"
      ]
     },
     "execution_count": 61,
     "metadata": {},
     "output_type": "execute_result"
    }
   ],
   "source": [
    "## resample : 중복을 허용한 샘플 추출 방식, 소수 클래스 샘플을 늘이는데 사용 \n",
    "## 클래스 1에 대해 클래스 0인 샘플갯수와 동일할때 까지 반복적으로 추출한다. \n",
    "from sklearn.utils import resample \n",
    "\n",
    "X_unsampled, y_unsampled = resample(X_imb[y_imb == 1], \n",
    "                                    y_imb[y_imb == 1],\n",
    "                                    replace = True, \n",
    "                                    n_samples = X_imb[y_imb == 0].shape[0], \n",
    "                                    random_state = 42 )\n",
    "\n",
    "y_unsampled"
   ]
  },
  {
   "cell_type": "code",
   "execution_count": 68,
   "id": "2a6b29b6-7ee9-4da1-8b07-ea1ec63cab10",
   "metadata": {},
   "outputs": [
    {
     "data": {
      "text/plain": [
       "array([0, 0, 0, 0, 0, 0, 0, 0, 0, 0, 0, 0, 0, 0, 0, 0, 0, 0, 0, 0, 0, 0,\n",
       "       0, 0, 0, 0, 0, 0, 0, 0, 0, 0, 0, 0, 0, 0, 0, 0, 0, 0, 0, 0, 0, 0,\n",
       "       0, 0, 0, 0, 0, 0, 0, 0, 0, 0, 0, 0, 0, 0, 0, 0, 0, 0, 0, 0, 0, 0,\n",
       "       0, 0, 0, 0, 0, 0, 0, 0, 0, 0, 0, 0, 0, 0, 0, 0, 0, 0, 0, 0, 0, 0,\n",
       "       0, 0, 0, 0, 0, 0, 0, 0, 0, 0, 0, 0, 0, 0, 0, 0, 0, 0, 0, 0, 0, 0,\n",
       "       0, 0, 0, 0, 0, 0, 0, 0, 0, 0, 0, 0, 0, 0, 0, 0, 0, 0, 0, 0, 0, 0,\n",
       "       0, 0, 0, 0, 0, 0, 0, 0, 0, 0, 0, 0, 0, 0, 0, 0, 0, 0, 0, 0, 0, 0,\n",
       "       0, 0, 0, 0, 0, 0, 0, 0, 0, 0, 0, 0, 0, 0, 0, 0, 0, 0, 0, 0, 0, 0,\n",
       "       0, 0, 0, 0, 0, 0, 0, 0, 0, 0, 0, 0, 0, 0, 0, 0, 0, 0, 0, 0, 0, 0,\n",
       "       0, 0, 0, 0, 0, 0, 0, 0, 0, 0, 0, 0, 0, 0, 0, 0, 0, 0, 0, 0, 0, 0,\n",
       "       0, 0, 0, 0, 0, 0, 0, 0, 0, 0, 0, 0, 0, 0, 0, 0, 0, 0, 0, 0, 0, 0,\n",
       "       0, 0, 0, 0, 0, 0, 0, 0, 0, 0, 0, 0, 0, 0, 0, 0, 0, 0, 0, 0, 0, 0,\n",
       "       0, 0, 0, 0, 0, 0, 0, 0, 0, 0, 0, 0, 0, 0, 0, 0, 0, 0, 0, 0, 0, 0,\n",
       "       0, 0, 0, 0, 0, 0, 0, 0, 0, 0, 0, 0, 0, 0, 0, 0, 0, 0, 0, 0, 0, 0,\n",
       "       0, 0, 0, 0, 0, 0, 0, 0, 0, 0, 0, 0, 0, 0, 0, 0, 0, 0, 0, 0, 0, 0,\n",
       "       0, 0, 0, 0, 0, 0, 0, 0, 0, 0, 0, 0, 0, 0, 0, 0, 0, 0, 0, 0, 0, 0,\n",
       "       0, 0, 0, 0, 0, 1, 1, 1, 1, 1, 1, 1, 1, 1, 1, 1, 1, 1, 1, 1, 1, 1,\n",
       "       1, 1, 1, 1, 1, 1, 1, 1, 1, 1, 1, 1, 1, 1, 1, 1, 1, 1, 1, 1, 1, 1,\n",
       "       1, 1, 1, 1, 1, 1, 1, 1, 1, 1, 1, 1, 1, 1, 1, 1, 1, 1, 1, 1, 1, 1,\n",
       "       1, 1, 1, 1, 1, 1, 1, 1, 1, 1, 1, 1, 1, 1, 1, 1, 1, 1, 1, 1, 1, 1,\n",
       "       1, 1, 1, 1, 1, 1, 1, 1, 1, 1, 1, 1, 1, 1, 1, 1, 1, 1, 1, 1, 1, 1,\n",
       "       1, 1, 1, 1, 1, 1, 1, 1, 1, 1, 1, 1, 1, 1, 1, 1, 1, 1, 1, 1, 1, 1,\n",
       "       1, 1, 1, 1, 1, 1, 1, 1, 1, 1, 1, 1, 1, 1, 1, 1, 1, 1, 1, 1, 1, 1,\n",
       "       1, 1, 1, 1, 1, 1, 1, 1, 1, 1, 1, 1, 1, 1, 1, 1, 1, 1, 1, 1, 1, 1,\n",
       "       1, 1, 1, 1, 1, 1, 1, 1, 1, 1, 1, 1, 1, 1, 1, 1, 1, 1, 1, 1, 1, 1,\n",
       "       1, 1, 1, 1, 1, 1, 1, 1, 1, 1, 1, 1, 1, 1, 1, 1, 1, 1, 1, 1, 1, 1,\n",
       "       1, 1, 1, 1, 1, 1, 1, 1, 1, 1, 1, 1, 1, 1, 1, 1, 1, 1, 1, 1, 1, 1,\n",
       "       1, 1, 1, 1, 1, 1, 1, 1, 1, 1, 1, 1, 1, 1, 1, 1, 1, 1, 1, 1, 1, 1,\n",
       "       1, 1, 1, 1, 1, 1, 1, 1, 1, 1, 1, 1, 1, 1, 1, 1, 1, 1, 1, 1, 1, 1,\n",
       "       1, 1, 1, 1, 1, 1, 1, 1, 1, 1, 1, 1, 1, 1, 1, 1, 1, 1, 1, 1, 1, 1,\n",
       "       1, 1, 1, 1, 1, 1, 1, 1, 1, 1, 1, 1, 1, 1, 1, 1, 1, 1, 1, 1, 1, 1,\n",
       "       1, 1, 1, 1, 1, 1, 1, 1, 1, 1, 1, 1, 1, 1, 1, 1, 1, 1, 1, 1, 1, 1,\n",
       "       1, 1, 1, 1, 1, 1, 1, 1, 1, 1])"
      ]
     },
     "execution_count": 68,
     "metadata": {},
     "output_type": "execute_result"
    }
   ],
   "source": [
    "## 추출된 샘플을 클래스 0인 원래 샘플과 합친다. --> balanced sample \n",
    "X_bal = np.vstack((X[y==0], X_unsampled))\n",
    "y_bal = np.hstack((y[y==0], y_unsampled))\n",
    "y_bal"
   ]
  },
  {
   "cell_type": "code",
   "execution_count": null,
   "id": "efea7ddf-46a8-48e2-9fa9-b4dc9324b1d7",
   "metadata": {},
   "outputs": [],
   "source": []
  },
  {
   "cell_type": "code",
   "execution_count": null,
   "id": "03387942-4029-4b21-9aaf-e5ce0efe5efa",
   "metadata": {},
   "outputs": [],
   "source": []
  },
  {
   "cell_type": "code",
   "execution_count": null,
   "id": "323baddf-b5c5-4b15-a4dc-42e5915524a7",
   "metadata": {},
   "outputs": [],
   "source": []
  }
 ],
 "metadata": {
  "kernelspec": {
   "display_name": "Python 3",
   "language": "python",
   "name": "python3"
  },
  "language_info": {
   "codemirror_mode": {
    "name": "ipython",
    "version": 3
   },
   "file_extension": ".py",
   "mimetype": "text/x-python",
   "name": "python",
   "nbconvert_exporter": "python",
   "pygments_lexer": "ipython3",
   "version": "3.8.8"
  }
 },
 "nbformat": 4,
 "nbformat_minor": 5
}
