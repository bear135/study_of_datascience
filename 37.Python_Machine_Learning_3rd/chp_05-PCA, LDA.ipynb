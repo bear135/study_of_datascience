{
 "cells": [
  {
   "cell_type": "markdown",
   "id": "12f10e12-9c49-400a-acc6-537bed182b44",
   "metadata": {},
   "source": [
    "### 5장 차원 축소를 사용한 데이터 압축\n",
    "- 5.1 주성분 분석을 통한 비지도 차원 축소\n",
    "- 5.2 선형 판별 분석을 통한 지도 방식의 데이터 압축\n",
    "- 5.3 커널 PCA를 사용하여 비선형 매핑\n",
    "--- "
   ]
  },
  {
   "cell_type": "code",
   "execution_count": 1,
   "id": "84158537-0083-45e1-9e66-1d4350e40228",
   "metadata": {},
   "outputs": [],
   "source": [
    "import numpy as np \n",
    "import pandas as pd\n",
    "import matplotlib.pyplot as plt \n",
    "import seaborn as sns\n",
    "import warnings\n",
    "warnings.filterwarnings(action='ignore')"
   ]
  },
  {
   "cell_type": "code",
   "execution_count": 2,
   "id": "8774ca7c-e9fa-4c8f-a916-f81ac23ccc3a",
   "metadata": {},
   "outputs": [],
   "source": [
    "## 함수 py파일 임포트 \n",
    "import sys\n",
    "sys.path.append('D:/YB_data/Git-Study/36.Python_Machine_Learning_3rd/my_func')\n",
    "from plot_decision_regions import plot_decision_regions"
   ]
  },
  {
   "cell_type": "code",
   "execution_count": 3,
   "id": "ed8d3324-d25e-4324-af64-738145d7dbab",
   "metadata": {},
   "outputs": [
    {
     "data": {
      "text/html": [
       "<div>\n",
       "<style scoped>\n",
       "    .dataframe tbody tr th:only-of-type {\n",
       "        vertical-align: middle;\n",
       "    }\n",
       "\n",
       "    .dataframe tbody tr th {\n",
       "        vertical-align: top;\n",
       "    }\n",
       "\n",
       "    .dataframe thead th {\n",
       "        text-align: right;\n",
       "    }\n",
       "</style>\n",
       "<table border=\"1\" class=\"dataframe\">\n",
       "  <thead>\n",
       "    <tr style=\"text-align: right;\">\n",
       "      <th></th>\n",
       "      <th>Class label</th>\n",
       "      <th>Alcohol</th>\n",
       "      <th>Malic acid</th>\n",
       "      <th>Ash</th>\n",
       "      <th>Alcalinity of ash</th>\n",
       "      <th>Magnesium</th>\n",
       "      <th>Total phenols</th>\n",
       "      <th>Flavanoids</th>\n",
       "      <th>Nonflavanoid phenols</th>\n",
       "      <th>Proanthocyanins</th>\n",
       "      <th>Color intensity</th>\n",
       "      <th>Hue</th>\n",
       "      <th>OD280/OD315 of diluted wines</th>\n",
       "      <th>Proline</th>\n",
       "    </tr>\n",
       "  </thead>\n",
       "  <tbody>\n",
       "    <tr>\n",
       "      <th>0</th>\n",
       "      <td>1</td>\n",
       "      <td>14.23</td>\n",
       "      <td>1.71</td>\n",
       "      <td>2.43</td>\n",
       "      <td>15.6</td>\n",
       "      <td>127</td>\n",
       "      <td>2.80</td>\n",
       "      <td>3.06</td>\n",
       "      <td>0.28</td>\n",
       "      <td>2.29</td>\n",
       "      <td>5.64</td>\n",
       "      <td>1.04</td>\n",
       "      <td>3.92</td>\n",
       "      <td>1065</td>\n",
       "    </tr>\n",
       "    <tr>\n",
       "      <th>1</th>\n",
       "      <td>1</td>\n",
       "      <td>13.20</td>\n",
       "      <td>1.78</td>\n",
       "      <td>2.14</td>\n",
       "      <td>11.2</td>\n",
       "      <td>100</td>\n",
       "      <td>2.65</td>\n",
       "      <td>2.76</td>\n",
       "      <td>0.26</td>\n",
       "      <td>1.28</td>\n",
       "      <td>4.38</td>\n",
       "      <td>1.05</td>\n",
       "      <td>3.40</td>\n",
       "      <td>1050</td>\n",
       "    </tr>\n",
       "    <tr>\n",
       "      <th>2</th>\n",
       "      <td>1</td>\n",
       "      <td>13.16</td>\n",
       "      <td>2.36</td>\n",
       "      <td>2.67</td>\n",
       "      <td>18.6</td>\n",
       "      <td>101</td>\n",
       "      <td>2.80</td>\n",
       "      <td>3.24</td>\n",
       "      <td>0.30</td>\n",
       "      <td>2.81</td>\n",
       "      <td>5.68</td>\n",
       "      <td>1.03</td>\n",
       "      <td>3.17</td>\n",
       "      <td>1185</td>\n",
       "    </tr>\n",
       "    <tr>\n",
       "      <th>3</th>\n",
       "      <td>1</td>\n",
       "      <td>14.37</td>\n",
       "      <td>1.95</td>\n",
       "      <td>2.50</td>\n",
       "      <td>16.8</td>\n",
       "      <td>113</td>\n",
       "      <td>3.85</td>\n",
       "      <td>3.49</td>\n",
       "      <td>0.24</td>\n",
       "      <td>2.18</td>\n",
       "      <td>7.80</td>\n",
       "      <td>0.86</td>\n",
       "      <td>3.45</td>\n",
       "      <td>1480</td>\n",
       "    </tr>\n",
       "    <tr>\n",
       "      <th>4</th>\n",
       "      <td>1</td>\n",
       "      <td>13.24</td>\n",
       "      <td>2.59</td>\n",
       "      <td>2.87</td>\n",
       "      <td>21.0</td>\n",
       "      <td>118</td>\n",
       "      <td>2.80</td>\n",
       "      <td>2.69</td>\n",
       "      <td>0.39</td>\n",
       "      <td>1.82</td>\n",
       "      <td>4.32</td>\n",
       "      <td>1.04</td>\n",
       "      <td>2.93</td>\n",
       "      <td>735</td>\n",
       "    </tr>\n",
       "  </tbody>\n",
       "</table>\n",
       "</div>"
      ],
      "text/plain": [
       "   Class label  Alcohol  Malic acid   Ash  Alcalinity of ash  Magnesium  \\\n",
       "0            1    14.23        1.71  2.43               15.6        127   \n",
       "1            1    13.20        1.78  2.14               11.2        100   \n",
       "2            1    13.16        2.36  2.67               18.6        101   \n",
       "3            1    14.37        1.95  2.50               16.8        113   \n",
       "4            1    13.24        2.59  2.87               21.0        118   \n",
       "\n",
       "   Total phenols  Flavanoids  Nonflavanoid phenols  Proanthocyanins  \\\n",
       "0           2.80        3.06                  0.28             2.29   \n",
       "1           2.65        2.76                  0.26             1.28   \n",
       "2           2.80        3.24                  0.30             2.81   \n",
       "3           3.85        3.49                  0.24             2.18   \n",
       "4           2.80        2.69                  0.39             1.82   \n",
       "\n",
       "   Color intensity   Hue  OD280/OD315 of diluted wines  Proline  \n",
       "0             5.64  1.04                          3.92     1065  \n",
       "1             4.38  1.05                          3.40     1050  \n",
       "2             5.68  1.03                          3.17     1185  \n",
       "3             7.80  0.86                          3.45     1480  \n",
       "4             4.32  1.04                          2.93      735  "
      ]
     },
     "execution_count": 3,
     "metadata": {},
     "output_type": "execute_result"
    }
   ],
   "source": [
    "## wine 데이터를 가져와 train/test 분리하고, 표준화 처리 \n",
    "df_wine = pd.read_csv('data/wine.data', header=None)\n",
    "df_wine.columns = ['Class label', 'Alcohol', 'Malic acid', 'Ash',\n",
    "                   'Alcalinity of ash', 'Magnesium', 'Total phenols',\n",
    "                   'Flavanoids', 'Nonflavanoid phenols', 'Proanthocyanins',\n",
    "                   'Color intensity', 'Hue', 'OD280/OD315 of diluted wines',\n",
    "                   'Proline']\n",
    "\n",
    "df_wine.head()"
   ]
  },
  {
   "cell_type": "code",
   "execution_count": 4,
   "id": "1bcd21be-723a-47ae-ae50-234703c9210f",
   "metadata": {},
   "outputs": [
    {
     "name": "stdout",
     "output_type": "stream",
     "text": [
      "(124, 13) (54, 13) (124,) (54,)\n"
     ]
    }
   ],
   "source": [
    "from sklearn.model_selection import train_test_split\n",
    "X, y = df_wine.iloc[:,1:].values, df_wine.iloc[:,0].values \n",
    "X_train, X_test, y_train, y_test = train_test_split(X, y, test_size = 0.3, random_state = 42, stratify = y)\n",
    "\n",
    "from sklearn.preprocessing import StandardScaler\n",
    "stdsc = StandardScaler()\n",
    "X_train_std = stdsc.fit_transform(X_train)\n",
    "X_test_std = stdsc.fit_transform(X_test)\n",
    "\n",
    "print(X_train_std.shape, X_test_std.shape, y_train.shape, y_test.shape)"
   ]
  },
  {
   "cell_type": "markdown",
   "id": "c8aa8002-37fd-47d9-93f2-b0084719d010",
   "metadata": {},
   "source": [
    "----\n",
    "### 1. Sklearn's PCA \n",
    "----"
   ]
  },
  {
   "cell_type": "code",
   "execution_count": 5,
   "id": "7621db1a-4414-435d-ac0e-693e55976a5b",
   "metadata": {},
   "outputs": [
    {
     "name": "stdout",
     "output_type": "stream",
     "text": [
      "- model accuracy = 0.9758064516129032\n"
     ]
    },
    {
     "data": {
      "image/png": "[encoded data removed]",
      "text/plain": [
       "<Figure size 432x288 with 1 Axes>"
      ]
     },
     "metadata": {
      "needs_background": "light"
     },
     "output_type": "display_data"
    }
   ],
   "source": [
    "## 2차원으로 축소하여 logisticRegression 수행 \n",
    "from sklearn.linear_model import LogisticRegression\n",
    "from sklearn.decomposition import PCA\n",
    "\n",
    "pca = PCA(n_components = 2)\n",
    "lr = LogisticRegression(random_state = 42)\n",
    "\n",
    "X_train_pca = pca.fit_transform(X_train_std)\n",
    "X_test_pca = pca.fit_transform(X_test_std)\n",
    "\n",
    "lr.fit(X_train_pca, y_train)\n",
    "print('- model accuracy =', lr.score(X_train_pca, y_train))\n",
    "\n",
    "plot_decision_regions(X_train_pca, y_train, classifier = lr)\n",
    "plt.xlabel('PC-1')\n",
    "plt.ylabel('PC-2')\n",
    "plt.legend()\n",
    "plt.show()"
   ]
  },
  {
   "cell_type": "code",
   "execution_count": 11,
   "id": "5d6b7d16-fb17-4cff-b83a-74c178d7459a",
   "metadata": {},
   "outputs": [
    {
     "name": "stdout",
     "output_type": "stream",
     "text": [
      "[0.35730453 0.19209164 0.11006755 0.07250719 0.06973166 0.05341402\n",
      " 0.04555029 0.0241568  0.02040417 0.01976974 0.01685307 0.01086639\n",
      " 0.00728295]\n",
      "0.9999999999999999\n"
     ]
    }
   ],
   "source": [
    "## 참고. n_components = None 으로 지정하면, 차원축소를 하지 않고 분산의 크기순서대로 모든 주성분을 반환 \n",
    "pca = PCA(n_components = None)\n",
    "X_train_pca = pca.fit_transform(X_train_std)\n",
    "print(pca.explained_variance_ratio_)\n",
    "print(np.sum(pca.explained_variance_ratio_))"
   ]
  },
  {
   "cell_type": "code",
   "execution_count": 10,
   "id": "1c9bb110-a11b-4a08-94be-b602e7a360aa",
   "metadata": {},
   "outputs": [
    {
     "name": "stdout",
     "output_type": "stream",
     "text": [
      "-주성분 개수 = 7\n",
      "-설명된 분산 비율 = 0.9006668766038878\n"
     ]
    }
   ],
   "source": [
    "## 참고. n_components = 에 (0~1)사이 실수를 입력하면, 해당비율만큼 분산을 설명하기 위한 주성분 갯수를 자동으로 찾는다. \n",
    "pca = PCA(n_components=0.9)\n",
    "pca.fit(X_train_std)\n",
    "print('-주성분 개수 =', pca.n_components_)\n",
    "print('-설명된 분산 비율 =', np.sum(pca.explained_variance_ratio_))"
   ]
  },
  {
   "cell_type": "markdown",
   "id": "5dc43f45-3dec-4e66-882e-a064cbc04b61",
   "metadata": {},
   "source": [
    "---\n",
    "#### 2. LDA : Linear Discriminant Analysis (선형판별분석)\n",
    "- PCA는 분산이 최대인 직교축을 찾는 반면, LDA는 최적구분을 위한 특성부분 공간을 찾는다. \n",
    "- PCA는 비지도, LDA는 지도학습 알고리즘임. LDA는 클래스 레이블별로 데이터를 나누어 평균을 구하는 방식으로  평균벡터를 만든다. \n",
    "---"
   ]
  },
  {
   "cell_type": "code",
   "execution_count": 12,
   "id": "7ca6a57d-324b-4fbd-8862-5e9b1edbfab5",
   "metadata": {},
   "outputs": [
    {
     "name": "stdout",
     "output_type": "stream",
     "text": [
      "- model accuracy = 1.0\n"
     ]
    },
    {
     "data": {
      "image/png": "[encoded data removed]",
      "text/plain": [
       "<Figure size 432x288 with 1 Axes>"
      ]
     },
     "metadata": {
      "needs_background": "light"
     },
     "output_type": "display_data"
    }
   ],
   "source": [
    "from sklearn.discriminant_analysis import LinearDiscriminantAnalysis as LDA\n",
    "lda = LDA(n_components = 2)\n",
    "X_train_lda = lda.fit_transform(X_train_std, y_train)\n",
    "\n",
    "lr = LogisticRegression(random_state = 42)\n",
    "lr = lr.fit(X_train_lda, y_train)\n",
    "print('- model accuracy =', lr.score(X_train_lda, y_train))\n",
    "\n",
    "plot_decision_regions(X_train_lda, y_train, classifier = lr)\n",
    "plt.xlabel('LD-1')\n",
    "plt.ylabel('LD-2')\n",
    "plt.legend()\n",
    "plt.show()"
   ]
  },
  {
   "cell_type": "markdown",
   "id": "7ca99c83-10c7-45e8-be77-d37a916fffb1",
   "metadata": {},
   "source": [
    "- 2개의 차원만으로 완벽하게 구분 "
   ]
  },
  {
   "cell_type": "markdown",
   "id": "7ed86cbc-7ba1-4521-b2f7-658ec1c26c94",
   "metadata": {},
   "source": [
    "----\n",
    "#### 3. PCA의 커널화 버전(KPCA) \n",
    "- PCA, LDA는 비선형 문제에 적합하지 않다. --> 커널 PCA를 사용, 데이터를 선형분류에 적합한 새로운 저차원 부분공간으로 변환\n",
    "----"
   ]
  },
  {
   "cell_type": "code",
   "execution_count": 22,
   "id": "dadd9a3f-94a8-469c-8904-99c651ee41e2",
   "metadata": {},
   "outputs": [
    {
     "name": "stdout",
     "output_type": "stream",
     "text": [
      "[[ 0.8713187   0.49071755]\n",
      " [ 0.71547241 -0.45866785]\n",
      " [ 1.46253829 -0.38659931]\n",
      " [-0.22252093  0.97492791]\n",
      " [ 0.32769911 -0.240278  ]]\n",
      "[0 1 1 0 1]\n"
     ]
    }
   ],
   "source": [
    "## 실습을 위한 비선형 데이터셋 만들기 \n",
    "import matplotlib.pyplot as plt\n",
    "from sklearn.datasets import make_moons\n",
    "\n",
    "X, y = make_moons(n_samples=100, random_state=123)\n",
    "\n",
    "print(X[:5])\n",
    "print(y[:5])"
   ]
  },
  {
   "cell_type": "code",
   "execution_count": 23,
   "id": "a491a76c-b605-4b52-867d-51346552bb2a",
   "metadata": {},
   "outputs": [
    {
     "data": {
      "image/png": "[encoded data removed]",
      "text/plain": [
       "<Figure size 432x288 with 1 Axes>"
      ]
     },
     "metadata": {
      "needs_background": "light"
     },
     "output_type": "display_data"
    }
   ],
   "source": [
    "plt.scatter(X[y == 0, 0], X[y == 0, 1], color='red', marker='^', alpha=0.5)\n",
    "plt.scatter(X[y == 1, 0], X[y == 1, 1], color='blue', marker='o', alpha=0.5)\n",
    "plt.show()"
   ]
  },
  {
   "cell_type": "code",
   "execution_count": 25,
   "id": "3df7f486-6321-4661-8c73-708675fbf745",
   "metadata": {},
   "outputs": [
    {
     "name": "stdout",
     "output_type": "stream",
     "text": [
      "[[ 0.3232991   0.29841965]\n",
      " [ 0.09932993 -0.20228953]\n",
      " [ 0.35038479 -0.18363537]\n",
      " [-0.13245717  0.2402938 ]\n",
      " [-0.1525819   0.26997043]]\n",
      "[1 1 1 0 0]\n"
     ]
    }
   ],
   "source": [
    "## 비선형 데이터에 대한 차원축소 : kernel = 'rbf'\n",
    "from sklearn.decomposition import KernelPCA\n",
    "X, y = make_moons(n_samples = 100, random_state = 42) \n",
    "\n",
    "scikit_kpca = KernelPCA(n_components = 2, kernel = 'rbf', gamma = 15)\n",
    "X_sklearnpca = scikit_kpca.fit_transform(X)\n",
    "\n",
    "print(X_sklearnpca[:5])\n",
    "print(y[:5])"
   ]
  },
  {
   "cell_type": "code",
   "execution_count": 26,
   "id": "ec71605a-c7e8-476a-ba7a-0201a9d95c66",
   "metadata": {},
   "outputs": [
    {
     "data": {
      "image/png": "[encoded data removed]",
      "text/plain": [
       "<Figure size 432x288 with 1 Axes>"
      ]
     },
     "metadata": {
      "needs_background": "light"
     },
     "output_type": "display_data"
    }
   ],
   "source": [
    "plt.scatter(X_sklearnpca[y == 0, 0], X_sklearnpca[y == 0, 1], color='red', marker='^', alpha=0.5)\n",
    "plt.scatter(X_sklearnpca[y == 1, 0], X_sklearnpca[y == 1, 1], color='blue', marker='o', alpha=0.5)\n",
    "plt.xlabel('PC-1')\n",
    "plt.ylabel('PC-2')\n",
    "plt.show()"
   ]
  },
  {
   "cell_type": "code",
   "execution_count": null,
   "id": "87b6984b-0f98-40e4-b02f-fba9dff80a6c",
   "metadata": {},
   "outputs": [],
   "source": []
  }
 ],
 "metadata": {
  "kernelspec": {
   "display_name": "Python 3",
   "language": "python",
   "name": "python3"
  },
  "language_info": {
   "codemirror_mode": {
    "name": "ipython",
    "version": 3
   },
   "file_extension": ".py",
   "mimetype": "text/x-python",
   "name": "python",
   "nbconvert_exporter": "python",
   "pygments_lexer": "ipython3",
   "version": "3.8.8"
  }
 },
 "nbformat": 4,
 "nbformat_minor": 5
}
