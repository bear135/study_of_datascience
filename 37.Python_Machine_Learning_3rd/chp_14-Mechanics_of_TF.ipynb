{
 "cells": [
  {
   "cell_type": "markdown",
   "id": "1866be5c-e84d-4034-af1b-46e0e49482b5",
   "metadata": {},
   "source": [
    "---\n",
    "### 14장 텐서플로 구조 자세히 알아보기\n",
    "- 14.1 텐서플로의 주요 특징\n",
    "- 14.2 텐서플로의 계산 그래프: 텐서플로 v2로 이전\n",
    "- 14.3 모델 파라미터를 저장하고 업데이트하기 위한 텐서플로 변수 객체\n",
    "- 14.4 자동 미분과 GradientTape로 그레이디언트 계산\n",
    "- 14.5 케라스 API를 사용하여 일반적인 구조 구현하기\n",
    "- 14.6 텐서플로 추정기\n",
    "---"
   ]
  },
  {
   "cell_type": "code",
   "execution_count": null,
   "id": "cae99432-f6eb-404c-9fa6-7b442650d376",
   "metadata": {},
   "outputs": [],
   "source": []
  },
  {
   "cell_type": "code",
   "execution_count": null,
   "id": "e2287e16-a666-426f-809d-ac17f1b5afc0",
   "metadata": {},
   "outputs": [],
   "source": []
  },
  {
   "cell_type": "code",
   "execution_count": null,
   "id": "008d52ab-77d1-404c-9b68-9684a551d388",
   "metadata": {},
   "outputs": [],
   "source": []
  }
 ],
 "metadata": {
  "kernelspec": {
   "display_name": "Python 3",
   "language": "python",
   "name": "python3"
  },
  "language_info": {
   "codemirror_mode": {
    "name": "ipython",
    "version": 3
   },
   "file_extension": ".py",
   "mimetype": "text/x-python",
   "name": "python",
   "nbconvert_exporter": "python",
   "pygments_lexer": "ipython3",
   "version": "3.8.8"
  }
 },
 "nbformat": 4,
 "nbformat_minor": 5
}
