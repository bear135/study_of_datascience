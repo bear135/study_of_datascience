{
 "cells": [
  {
   "cell_type": "markdown",
   "id": "e76510a7-dccc-493c-9e95-f1c0fe516ade",
   "metadata": {},
   "source": [
    "### 1장 컴퓨터는 데이터에서 배운다\n",
    "### 2장 간단한 분류 알고리즘 훈련\n",
    "---"
   ]
  },
  {
   "cell_type": "markdown",
   "id": "a297af0c-7ca8-40e9-b3d2-0a375f66cc9d",
   "metadata": {},
   "source": [
    "#### - 머신러닝의 종류 \n",
    "1) supervised learning : 분류와 예측(회귀) \n",
    "2) Reinforcement learning : 환경과 상호작용하여 시스템(agent)의 성능을 향상. Agent의 행동결과에 대한 보상함수 필요 \n",
    "3) unsupervised learning : 군집(K-means), 차원축소(PCA)\n",
    "----"
   ]
  },
  {
   "cell_type": "markdown",
   "id": "0cb65b32-b394-486f-bb46-8fd54a575300",
   "metadata": {},
   "source": [
    "#### - loss function의 최소화 방법\n",
    "1) 배치경사 하강법 : 훈련 데이터셋 전체에 대해 누적된 오차합 기반 가중치를 업데이트 한다. \n",
    "2) 확률적 경사 하강법 : \n",
    "   - 각 훈련 샘플에 대해 조금씩 가중치 업데이트 \n",
    "   - 가중치가 자주 업데이트되므로, 배치경사 하강법에 비해 속도가 빠르다. \n",
    "   - 데이터가 추가되는대로 순차적 학습이 가능하므로, 온라인 학습이 가능해진다. (신규 데이터가 계속 추가되는 환경)\n",
    "3) 미니배치 경사 하강법 : \n",
    "   - 1)과 2)의 절충 방법, 훈련데이터의 일부(ex.32개)만을 대상으로 배치경사 하강법을 사용 \n",
    "   - 확률적 경사 하강법의 for loop 연산을 벡터방식으로 처리함으로써, 속도와 효율 향상 \n",
    "----"
   ]
  },
  {
   "cell_type": "code",
   "execution_count": null,
   "id": "461401ac-df68-415b-905e-287aa9d45f5b",
   "metadata": {},
   "outputs": [],
   "source": []
  }
 ],
 "metadata": {
  "kernelspec": {
   "display_name": "Python 3",
   "language": "python",
   "name": "python3"
  },
  "language_info": {
   "codemirror_mode": {
    "name": "ipython",
    "version": 3
   },
   "file_extension": ".py",
   "mimetype": "text/x-python",
   "name": "python",
   "nbconvert_exporter": "python",
   "pygments_lexer": "ipython3",
   "version": "3.8.8"
  }
 },
 "nbformat": 4,
 "nbformat_minor": 5
}
