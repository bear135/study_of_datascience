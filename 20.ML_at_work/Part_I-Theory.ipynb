{
 "cells": [
  {
   "cell_type": "markdown",
   "metadata": {},
   "source": [
    "## Part I. 머신러닝 실무 노하우 (Theory)"
   ]
  },
  {
   "cell_type": "markdown",
   "metadata": {},
   "source": [
    "#### Chapter 1. 머신러닝 프로젝트 처음 시작하기 \n",
    "\n",
    "1. ML을 적용하기 좋은 문제 \n",
    "- 빅데이터에 대한, 고속 & 안정적인 판단이 요구되는 경우 \n",
    "- 예측결과에 대한 일정수준 오류가 용인되는 경우 \n",
    "\n",
    "2. ML의 단점과 대처 방법 \n",
    "- 결과값이 확률 변수이다. \n",
    "- Input data의 트렌드가 변화한다.  ---> 지속적인 모델 모니터링과 유지보수 필요 \n",
    "- 복잡한 파이프라인이 요구된다. \n",
    "- 데이터간의 의존관계가 복잡하다.  \n",
    "- 실험 코드와 파라미터가 결과에 포함되기 쉽다.  ---> 버전관리, 파이프라인 자체를 백업 \n",
    "- 개발과 운영 프레임워크 및 언어가 상이한 경우  ---> MSA, Docker 등 신기술 대두 "
   ]
  },
  {
   "cell_type": "markdown",
   "metadata": {},
   "source": [
    "#### Chapter 2. 머신러닝으로 할 수 있는 일 \n",
    "\n",
    "- Perceptron은 이진분류 방법이며, XOR 등 비선형 분류에는 사용할 수 없다. \n",
    "- Perceptron은 활성함수로 Step 함수, 손실함수로 Hinge를 사용함\n",
    "- 반면 Logistics은 활성함수로 Signoid 함수, 손실함수로 cross-entropy를 사용함 \n",
    "- Logistic은 Perceptron과 달리 결과값이 classㅇ 포함될 확률을 계산할 수 있다. \n",
    "- Regulation은 training과정에 penalty를 부여하여 overfitting을 방지한다. \n",
    "- SVM은 perceptron을 차원확장하여, 비선형 문제를 풀수 있도록 개발되었다. \n",
    "- Decision tree의 특징은 1) input data의 정규화가 불필요, 2) 결측치에 관대, 3) 비선형 ok, but 선형분리에는 부적합하다. \n",
    "- Gradient Boost : Decision tree의 개량형으로, sampling된 데이터에 대해 순차적으로 얕은 tree들을 학습한다. \n",
    "- 차원축소 방법으로는, PCA(주성분분석)과 t-SNE가 있다. t-SNE는 시각화에 용이하여 최근 많이 쓰인다. "
   ]
  },
  {
   "cell_type": "markdown",
   "metadata": {},
   "source": [
    "#### Chapter 3. 학습결과 평가하기 \n",
    "\n",
    "1. 모형평가 지표들 \n",
    "- 정확도(accuracy) : 전체 데이터 중 정답과 일치한 수 \n",
    "- 정밀도(precision) : 예측한 true가 real true일 확률  **오류 위험보다 정확도를 중시할 때 \n",
    "- 재현율(recall) : real true중 예측된 true의 비중     **정확도보다 오류 방지를 중시할 때 \n",
    "- F-score : 정밀도와 재현율의 조화평균 \n",
    "\n",
    "2. Regression 모형의 평가 방법 : RMSE와 R-squre(조정계수)가 쓰인다. \n",
    "\n",
    "3. A/B test : 서로다른 알고리즘 및 파라미터 등이 사용된 모델들간의 성능/KPI를 비교한다. "
   ]
  },
  {
   "cell_type": "markdown",
   "metadata": {},
   "source": [
    "#### Chapter 4~6은 모델 배포, 데이터 수집, 효과검증 관련 일반적인 내용들 ... (생량)"
   ]
  },
  {
   "cell_type": "code",
   "execution_count": null,
   "metadata": {},
   "outputs": [],
   "source": []
  }
 ],
 "metadata": {
  "kernelspec": {
   "display_name": "Python 3",
   "language": "python",
   "name": "python3"
  },
  "language_info": {
   "codemirror_mode": {
    "name": "ipython",
    "version": 3
   },
   "file_extension": ".py",
   "mimetype": "text/x-python",
   "name": "python",
   "nbconvert_exporter": "python",
   "pygments_lexer": "ipython3",
   "version": "3.8.5"
  }
 },
 "nbformat": 4,
 "nbformat_minor": 4
}
