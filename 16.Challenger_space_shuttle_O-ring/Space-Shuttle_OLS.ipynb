{
 "cells": [
  {
   "cell_type": "markdown",
   "metadata": {},
   "source": [
    "### Challenger USA Space Shittle O-ring Erosion\n",
    "##### - source data:  https://www.kaggle.com/nachiket10/challenger-oring-erosion"
   ]
  },
  {
   "cell_type": "markdown",
   "metadata": {},
   "source": [
    "##### - Backgroud\n",
    "##### On January 28th, 1986, the spacecraft known as the challenger broke apart after 73 seconds into flight. Not only destroying millions of dollars worth of equipment but as well as taking the lives of 7 astronauts. \n",
    "##### After much investigation and speculation, it was concluded that this disaster was due to the fact that the right rocket solid booster failed to lift off because the O-ring seal was damaged. It was discovered that O-ring seals were not designed to function well in very cold temperatures (which were seen in this flight) and therefore did not perform and therefore, pressurized gas made it’s way to the external part of the ship and lead to its demise. \n",
    "##### During the investigation, data from different spacecrafts was taken in order to test O-ring design under different temperatures (F) and leak pressures (PSI). Below, you can observe the libraries that i will be using in this analysis, as well as head of the data that will be used. \n",
    "##### For this model, the dependent variable will be the Rings under distress as that is what we want to check for degradation and our predictors will be temperature and leak check pressure."
   ]
  },
  {
   "cell_type": "code",
   "execution_count": 1,
   "metadata": {},
   "outputs": [],
   "source": [
    "import numpy as np\n",
    "import pandas as pd\n",
    "import matplotlib as mpl \n",
    "import matplotlib.pyplot as plt\n",
    "import seaborn as sns \n",
    "sns.set(style='darkgrid')\n",
    "\n",
    "from scipy import stats \n",
    "import scipy.stats as stats\n",
    "import statsmodels.formula.api as sm \n",
    "from statsmodels.formula.api import ols\n",
    "import pylab"
   ]
  },
  {
   "cell_type": "markdown",
   "metadata": {},
   "source": [
    "#### 1. Data loading and naming headers "
   ]
  },
  {
   "cell_type": "code",
   "execution_count": 2,
   "metadata": {},
   "outputs": [
    {
     "name": "stdout",
     "output_type": "stream",
     "text": [
      "(23, 5)\n"
     ]
    },
    {
     "data": {
      "text/html": [
       "<div>\n",
       "<style scoped>\n",
       "    .dataframe tbody tr th:only-of-type {\n",
       "        vertical-align: middle;\n",
       "    }\n",
       "\n",
       "    .dataframe tbody tr th {\n",
       "        vertical-align: top;\n",
       "    }\n",
       "\n",
       "    .dataframe thead th {\n",
       "        text-align: right;\n",
       "    }\n",
       "</style>\n",
       "<table border=\"1\" class=\"dataframe\">\n",
       "  <thead>\n",
       "    <tr style=\"text-align: right;\">\n",
       "      <th></th>\n",
       "      <th>0</th>\n",
       "      <th>1</th>\n",
       "      <th>2</th>\n",
       "      <th>3</th>\n",
       "      <th>4</th>\n",
       "    </tr>\n",
       "  </thead>\n",
       "  <tbody>\n",
       "    <tr>\n",
       "      <td>0</td>\n",
       "      <td>6</td>\n",
       "      <td>0</td>\n",
       "      <td>66</td>\n",
       "      <td>50</td>\n",
       "      <td>1</td>\n",
       "    </tr>\n",
       "    <tr>\n",
       "      <td>1</td>\n",
       "      <td>6</td>\n",
       "      <td>1</td>\n",
       "      <td>70</td>\n",
       "      <td>50</td>\n",
       "      <td>2</td>\n",
       "    </tr>\n",
       "    <tr>\n",
       "      <td>2</td>\n",
       "      <td>6</td>\n",
       "      <td>0</td>\n",
       "      <td>69</td>\n",
       "      <td>50</td>\n",
       "      <td>3</td>\n",
       "    </tr>\n",
       "    <tr>\n",
       "      <td>3</td>\n",
       "      <td>6</td>\n",
       "      <td>0</td>\n",
       "      <td>68</td>\n",
       "      <td>50</td>\n",
       "      <td>4</td>\n",
       "    </tr>\n",
       "    <tr>\n",
       "      <td>4</td>\n",
       "      <td>6</td>\n",
       "      <td>0</td>\n",
       "      <td>67</td>\n",
       "      <td>50</td>\n",
       "      <td>5</td>\n",
       "    </tr>\n",
       "  </tbody>\n",
       "</table>\n",
       "</div>"
      ],
      "text/plain": [
       "   0  1   2   3  4\n",
       "0  6  0  66  50  1\n",
       "1  6  1  70  50  2\n",
       "2  6  0  69  50  3\n",
       "3  6  0  68  50  4\n",
       "4  6  0  67  50  5"
      ]
     },
     "execution_count": 2,
     "metadata": {},
     "output_type": "execute_result"
    }
   ],
   "source": [
    "oring_df = pd.read_csv('data/o-ring-erosion-or-blowby.csv', header = None) \n",
    "\n",
    "print(oring_df.shape)\n",
    "oring_df.head()"
   ]
  },
  {
   "cell_type": "markdown",
   "metadata": {},
   "source": [
    "###### Number of Attributes: 5 (Attribute Information: all values are positive integers) \n",
    "######     1. Number of O-rings at risk on a given flight\n",
    "######     2. Number experiencing thermal distress\n",
    "######     3. Launch temperature (degrees F)\n",
    "######     4. Leak-check pressure (psi)\n",
    "######     5. Temporal order of flight"
   ]
  },
  {
   "cell_type": "code",
   "execution_count": 3,
   "metadata": {},
   "outputs": [
    {
     "data": {
      "text/html": [
       "<div>\n",
       "<style scoped>\n",
       "    .dataframe tbody tr th:only-of-type {\n",
       "        vertical-align: middle;\n",
       "    }\n",
       "\n",
       "    .dataframe tbody tr th {\n",
       "        vertical-align: top;\n",
       "    }\n",
       "\n",
       "    .dataframe thead th {\n",
       "        text-align: right;\n",
       "    }\n",
       "</style>\n",
       "<table border=\"1\" class=\"dataframe\">\n",
       "  <thead>\n",
       "    <tr style=\"text-align: right;\">\n",
       "      <th></th>\n",
       "      <th>Rings_at_risk</th>\n",
       "      <th>Rings_under_distress</th>\n",
       "      <th>Temp</th>\n",
       "      <th>Leak_check_pressure</th>\n",
       "      <th>Flight_Order</th>\n",
       "    </tr>\n",
       "  </thead>\n",
       "  <tbody>\n",
       "    <tr>\n",
       "      <td>0</td>\n",
       "      <td>6</td>\n",
       "      <td>0</td>\n",
       "      <td>66</td>\n",
       "      <td>50</td>\n",
       "      <td>1</td>\n",
       "    </tr>\n",
       "    <tr>\n",
       "      <td>1</td>\n",
       "      <td>6</td>\n",
       "      <td>1</td>\n",
       "      <td>70</td>\n",
       "      <td>50</td>\n",
       "      <td>2</td>\n",
       "    </tr>\n",
       "    <tr>\n",
       "      <td>2</td>\n",
       "      <td>6</td>\n",
       "      <td>0</td>\n",
       "      <td>69</td>\n",
       "      <td>50</td>\n",
       "      <td>3</td>\n",
       "    </tr>\n",
       "    <tr>\n",
       "      <td>3</td>\n",
       "      <td>6</td>\n",
       "      <td>0</td>\n",
       "      <td>68</td>\n",
       "      <td>50</td>\n",
       "      <td>4</td>\n",
       "    </tr>\n",
       "    <tr>\n",
       "      <td>4</td>\n",
       "      <td>6</td>\n",
       "      <td>0</td>\n",
       "      <td>67</td>\n",
       "      <td>50</td>\n",
       "      <td>5</td>\n",
       "    </tr>\n",
       "  </tbody>\n",
       "</table>\n",
       "</div>"
      ],
      "text/plain": [
       "   Rings_at_risk  Rings_under_distress  Temp  Leak_check_pressure  \\\n",
       "0              6                     0    66                   50   \n",
       "1              6                     1    70                   50   \n",
       "2              6                     0    69                   50   \n",
       "3              6                     0    68                   50   \n",
       "4              6                     0    67                   50   \n",
       "\n",
       "   Flight_Order  \n",
       "0             1  \n",
       "1             2  \n",
       "2             3  \n",
       "3             4  \n",
       "4             5  "
      ]
     },
     "execution_count": 3,
     "metadata": {},
     "output_type": "execute_result"
    }
   ],
   "source": [
    "oring_df.rename(columns = {0: 'Rings_at_risk', \n",
    "                           1: 'Rings_under_distress', \n",
    "                           2: 'Temp', \n",
    "                           3: 'Leak_check_pressure', \n",
    "                           4: 'Flight_Order'}, inplace = True)\n",
    "oring_df.head()"
   ]
  },
  {
   "cell_type": "markdown",
   "metadata": {},
   "source": [
    "#### 2. Predictive model\n",
    "##### - Regression(OLS) model to observe the O-ring degradation at diffent temp  "
   ]
  },
  {
   "cell_type": "code",
   "execution_count": 8,
   "metadata": {},
   "outputs": [
    {
     "data": {
      "text/html": [
       "<div>\n",
       "<style scoped>\n",
       "    .dataframe tbody tr th:only-of-type {\n",
       "        vertical-align: middle;\n",
       "    }\n",
       "\n",
       "    .dataframe tbody tr th {\n",
       "        vertical-align: top;\n",
       "    }\n",
       "\n",
       "    .dataframe thead th {\n",
       "        text-align: right;\n",
       "    }\n",
       "</style>\n",
       "<table border=\"1\" class=\"dataframe\">\n",
       "  <thead>\n",
       "    <tr style=\"text-align: right;\">\n",
       "      <th></th>\n",
       "      <th>Rings_at_risk</th>\n",
       "      <th>Rings_under_distress</th>\n",
       "      <th>Temp</th>\n",
       "      <th>Leak_check_pressure</th>\n",
       "      <th>Flight_Order</th>\n",
       "    </tr>\n",
       "  </thead>\n",
       "  <tbody>\n",
       "    <tr>\n",
       "      <td>count</td>\n",
       "      <td>23.0</td>\n",
       "      <td>23.000000</td>\n",
       "      <td>23.000000</td>\n",
       "      <td>23.000000</td>\n",
       "      <td>23.00000</td>\n",
       "    </tr>\n",
       "    <tr>\n",
       "      <td>mean</td>\n",
       "      <td>6.0</td>\n",
       "      <td>0.391304</td>\n",
       "      <td>69.565217</td>\n",
       "      <td>152.173913</td>\n",
       "      <td>12.00000</td>\n",
       "    </tr>\n",
       "    <tr>\n",
       "      <td>std</td>\n",
       "      <td>0.0</td>\n",
       "      <td>0.656376</td>\n",
       "      <td>7.057080</td>\n",
       "      <td>68.221332</td>\n",
       "      <td>6.78233</td>\n",
       "    </tr>\n",
       "    <tr>\n",
       "      <td>min</td>\n",
       "      <td>6.0</td>\n",
       "      <td>0.000000</td>\n",
       "      <td>53.000000</td>\n",
       "      <td>50.000000</td>\n",
       "      <td>1.00000</td>\n",
       "    </tr>\n",
       "    <tr>\n",
       "      <td>25%</td>\n",
       "      <td>6.0</td>\n",
       "      <td>0.000000</td>\n",
       "      <td>67.000000</td>\n",
       "      <td>75.000000</td>\n",
       "      <td>6.50000</td>\n",
       "    </tr>\n",
       "    <tr>\n",
       "      <td>50%</td>\n",
       "      <td>6.0</td>\n",
       "      <td>0.000000</td>\n",
       "      <td>70.000000</td>\n",
       "      <td>200.000000</td>\n",
       "      <td>12.00000</td>\n",
       "    </tr>\n",
       "    <tr>\n",
       "      <td>75%</td>\n",
       "      <td>6.0</td>\n",
       "      <td>1.000000</td>\n",
       "      <td>75.000000</td>\n",
       "      <td>200.000000</td>\n",
       "      <td>17.50000</td>\n",
       "    </tr>\n",
       "    <tr>\n",
       "      <td>max</td>\n",
       "      <td>6.0</td>\n",
       "      <td>2.000000</td>\n",
       "      <td>81.000000</td>\n",
       "      <td>200.000000</td>\n",
       "      <td>23.00000</td>\n",
       "    </tr>\n",
       "  </tbody>\n",
       "</table>\n",
       "</div>"
      ],
      "text/plain": [
       "       Rings_at_risk  Rings_under_distress       Temp  Leak_check_pressure  \\\n",
       "count           23.0             23.000000  23.000000            23.000000   \n",
       "mean             6.0              0.391304  69.565217           152.173913   \n",
       "std              0.0              0.656376   7.057080            68.221332   \n",
       "min              6.0              0.000000  53.000000            50.000000   \n",
       "25%              6.0              0.000000  67.000000            75.000000   \n",
       "50%              6.0              0.000000  70.000000           200.000000   \n",
       "75%              6.0              1.000000  75.000000           200.000000   \n",
       "max              6.0              2.000000  81.000000           200.000000   \n",
       "\n",
       "       Flight_Order  \n",
       "count      23.00000  \n",
       "mean       12.00000  \n",
       "std         6.78233  \n",
       "min         1.00000  \n",
       "25%         6.50000  \n",
       "50%        12.00000  \n",
       "75%        17.50000  \n",
       "max        23.00000  "
      ]
     },
     "execution_count": 8,
     "metadata": {},
     "output_type": "execute_result"
    }
   ],
   "source": [
    "oring_df.describe()"
   ]
  },
  {
   "cell_type": "code",
   "execution_count": 5,
   "metadata": {},
   "outputs": [
    {
     "name": "stdout",
     "output_type": "stream",
     "text": [
      "                             OLS Regression Results                             \n",
      "================================================================================\n",
      "Dep. Variable:     Rings_under_distress   R-squared:                       0.354\n",
      "Model:                              OLS   Adj. R-squared:                  0.290\n",
      "Method:                   Least Squares   F-statistic:                     5.490\n",
      "Date:                  Mon, 27 Jul 2020   Prob (F-statistic):             0.0126\n",
      "Time:                          13:36:47   Log-Likelihood:                -17.408\n",
      "No. Observations:                    23   AIC:                             40.82\n",
      "Df Residuals:                        20   BIC:                             44.22\n",
      "Df Model:                             2                                         \n",
      "Covariance Type:              nonrobust                                         \n",
      "=======================================================================================\n",
      "                          coef    std err          t      P>|t|      [0.025      0.975]\n",
      "---------------------------------------------------------------------------------------\n",
      "Intercept               3.3298      1.188      2.803      0.011       0.851       5.808\n",
      "Temp                   -0.0487      0.017     -2.910      0.009      -0.084      -0.014\n",
      "Leak_check_pressure     0.0029      0.002      1.699      0.105      -0.001       0.007\n",
      "==============================================================================\n",
      "Omnibus:                       19.324   Durbin-Watson:                   2.390\n",
      "Prob(Omnibus):                  0.000   Jarque-Bera (JB):               23.471\n",
      "Skew:                           1.782   Prob(JB):                     8.00e-06\n",
      "Kurtosis:                       6.433   Cond. No.                     1.84e+03\n",
      "==============================================================================\n",
      "\n",
      "Warnings:\n",
      "[1] Standard Errors assume that the covariance matrix of the errors is correctly specified.\n",
      "[2] The condition number is large, 1.84e+03. This might indicate that there are\n",
      "strong multicollinearity or other numerical problems.\n"
     ]
    }
   ],
   "source": [
    "model = ols('Rings_under_distress ~  Temp + Leak_check_pressure', data = oring_df).fit()\n",
    "print(model.summary())"
   ]
  },
  {
   "cell_type": "markdown",
   "metadata": {},
   "source": [
    "##### <font color = 'yellow'> --> model : RingsErosion = 3.3298 - 0.0487(Temp) + 0.0029(Leak_check_pressure) </font>"
   ]
  },
  {
   "cell_type": "markdown",
   "metadata": {},
   "source": [
    "#### 3. Model Applying \n",
    "##### - How many rings will show erosion at Temp 31F? "
   ]
  },
  {
   "cell_type": "code",
   "execution_count": 13,
   "metadata": {},
   "outputs": [
    {
     "data": {
      "text/plain": [
       "<matplotlib.axes._subplots.AxesSubplot at 0x1dab52a87f0>"
      ]
     },
     "execution_count": 13,
     "metadata": {},
     "output_type": "execute_result"
    },
    {
     "data": {
      "image/png": "[encoded data removed]",
      "text/plain": [
       "<Figure size 432x288 with 1 Axes>"
      ]
     },
     "metadata": {
      "needs_background": "light"
     },
     "output_type": "display_data"
    }
   ],
   "source": [
    "oring_df['Temp'].plot().sort"
   ]
  },
  {
   "cell_type": "code",
   "execution_count": 14,
   "metadata": {},
   "outputs": [
    {
     "data": {
      "text/plain": [
       "<matplotlib.axes._subplots.AxesSubplot at 0x1dab5342780>"
      ]
     },
     "execution_count": 14,
     "metadata": {},
     "output_type": "execute_result"
    },
    {
     "data": {
      "image/png": "[encoded data removed]",
      "text/plain": [
       "<Figure size 432x288 with 1 Axes>"
      ]
     },
     "metadata": {
      "needs_background": "light"
     },
     "output_type": "display_data"
    }
   ],
   "source": [
    "oring_df['Leak_check_pressure'].plot()"
   ]
  },
  {
   "cell_type": "code",
   "execution_count": 15,
   "metadata": {},
   "outputs": [
    {
     "name": "stdout",
     "output_type": "stream",
     "text": [
      "1.9651\n"
     ]
    }
   ],
   "source": [
    "temp = 31\n",
    "pressure = 50\n",
    "\n",
    "RingsErosion = 3.3298 - (0.0487*temp) + (0.0029*pressure)\n",
    "print(RingsErosion)"
   ]
  },
  {
   "cell_type": "code",
   "execution_count": 16,
   "metadata": {},
   "outputs": [
    {
     "name": "stdout",
     "output_type": "stream",
     "text": [
      "2.1101\n"
     ]
    }
   ],
   "source": [
    "temp = 31\n",
    "pressure = 100\n",
    "\n",
    "RingsErosion = 3.3298 - (0.0487*temp) + (0.0029*pressure)\n",
    "print(RingsErosion)"
   ]
  },
  {
   "cell_type": "code",
   "execution_count": 17,
   "metadata": {},
   "outputs": [
    {
     "name": "stdout",
     "output_type": "stream",
     "text": [
      "2.4001\n"
     ]
    }
   ],
   "source": [
    "temp = 31\n",
    "pressure = 200\n",
    "\n",
    "RingsErosion = 3.3298 - (0.0487*temp) + (0.0029*pressure)\n",
    "print(RingsErosion)"
   ]
  },
  {
   "cell_type": "markdown",
   "metadata": {},
   "source": [
    "##### - 온도가 31F이고, 압력이 50~200 PSI인 경우에서 \n",
    "##### - 압력이 높아질수록 ring의 부식이 발생할 확률이 높아지며, 대략 2개 정도가 부식현상을 보일 것으로 예상됨 "
   ]
  },
  {
   "cell_type": "code",
   "execution_count": null,
   "metadata": {},
   "outputs": [],
   "source": []
  }
 ],
 "metadata": {
  "kernelspec": {
   "display_name": "Python 3",
   "language": "python",
   "name": "python3"
  },
  "language_info": {
   "codemirror_mode": {
    "name": "ipython",
    "version": 3
   },
   "file_extension": ".py",
   "mimetype": "text/x-python",
   "name": "python",
   "nbconvert_exporter": "python",
   "pygments_lexer": "ipython3",
   "version": "3.7.3"
  }
 },
 "nbformat": 4,
 "nbformat_minor": 4
}
