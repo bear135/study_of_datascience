{
 "cells": [
  {
   "cell_type": "markdown",
   "metadata": {},
   "source": [
    "#### <font color=\"blue\"> 2.3.3 linear model </font>"
   ]
  },
  {
   "cell_type": "code",
   "execution_count": 2,
   "metadata": {},
   "outputs": [],
   "source": [
    "import numpy as np\n",
    "import pandas as pd \n",
    "import matplotlib as mpl \n",
    "import matplotlib.pyplot as plt \n",
    "import seaborn as sns\n",
    "sns.set(style='whitegrid',  palette=\"pastel\" )"
   ]
  },
  {
   "cell_type": "code",
   "execution_count": 5,
   "metadata": {},
   "outputs": [
    {
     "name": "stdout",
     "output_type": "stream",
     "text": [
      "Requirement already satisfied: mglearn in c:\\users\\youngboo.choi\\appdata\\local\\continuum\\anaconda3\\lib\\site-packages (0.1.7)\n",
      "Requirement already satisfied: scikit-learn in c:\\users\\youngboo.choi\\appdata\\local\\continuum\\anaconda3\\lib\\site-packages (from mglearn) (0.21.2)\n",
      "Requirement already satisfied: pandas in c:\\users\\youngboo.choi\\appdata\\local\\continuum\\anaconda3\\lib\\site-packages (from mglearn) (0.25.1)\n",
      "Requirement already satisfied: imageio in c:\\users\\youngboo.choi\\appdata\\local\\continuum\\anaconda3\\lib\\site-packages (from mglearn) (2.5.0)\n",
      "Requirement already satisfied: numpy in c:\\users\\youngboo.choi\\appdata\\local\\continuum\\anaconda3\\lib\\site-packages (from mglearn) (1.18.1)\n",
      "Requirement already satisfied: pillow in c:\\users\\youngboo.choi\\appdata\\local\\continuum\\anaconda3\\lib\\site-packages (from mglearn) (6.1.0)\n",
      "Requirement already satisfied: matplotlib in c:\\users\\youngboo.choi\\appdata\\roaming\\python\\python37\\site-packages (from mglearn) (3.1.3)\n",
      "Requirement already satisfied: cycler in c:\\users\\youngboo.choi\\appdata\\local\\continuum\\anaconda3\\lib\\site-packages (from mglearn) (0.10.0)\n",
      "Requirement already satisfied: joblib>=0.11 in c:\\users\\youngboo.choi\\appdata\\local\\continuum\\anaconda3\\lib\\site-packages (from scikit-learn->mglearn) (0.13.2)\n",
      "Requirement already satisfied: scipy>=0.17.0 in c:\\users\\youngboo.choi\\appdata\\local\\continuum\\anaconda3\\lib\\site-packages (from scikit-learn->mglearn) (1.4.1)\n",
      "Requirement already satisfied: pytz>=2017.2 in c:\\users\\youngboo.choi\\appdata\\local\\continuum\\anaconda3\\lib\\site-packages (from pandas->mglearn) (2019.1)\n",
      "Requirement already satisfied: python-dateutil>=2.6.1 in c:\\users\\youngboo.choi\\appdata\\local\\continuum\\anaconda3\\lib\\site-packages (from pandas->mglearn) (2.8.0)\n",
      "Requirement already satisfied: pyparsing!=2.0.4,!=2.1.2,!=2.1.6,>=2.0.1 in c:\\users\\youngboo.choi\\appdata\\local\\continuum\\anaconda3\\lib\\site-packages (from matplotlib->mglearn) (2.4.0)\n",
      "Requirement already satisfied: kiwisolver>=1.0.1 in c:\\users\\youngboo.choi\\appdata\\local\\continuum\\anaconda3\\lib\\site-packages (from matplotlib->mglearn) (1.1.0)\n",
      "Requirement already satisfied: six in c:\\users\\youngboo.choi\\appdata\\local\\continuum\\anaconda3\\lib\\site-packages (from cycler->mglearn) (1.12.0)\n",
      "Requirement already satisfied: setuptools in c:\\users\\youngboo.choi\\appdata\\local\\continuum\\anaconda3\\lib\\site-packages (from kiwisolver>=1.0.1->matplotlib->mglearn) (41.0.1)\n"
     ]
    }
   ],
   "source": [
    "#### A.Muller가 만든 패키지 \n",
    "!pip install mglearn"
   ]
  },
  {
   "cell_type": "code",
   "execution_count": 11,
   "metadata": {},
   "outputs": [
    {
     "name": "stdout",
     "output_type": "stream",
     "text": [
      "w[0]: 0.393906  b: -0.031804\n"
     ]
    },
    {
     "data": {
      "image/png": "[encoded data removed]",
      "text/plain": [
       "<Figure size 576x576 with 1 Axes>"
      ]
     },
     "metadata": {
      "needs_background": "light"
     },
     "output_type": "display_data"
    }
   ],
   "source": [
    "import mglearn\n",
    "import warnings\n",
    "warnings.filterwarnings(\"ignore\")\n",
    "\n",
    "mglearn.plots.plot_linear_regression_wave()"
   ]
  },
  {
   "cell_type": "markdown",
   "metadata": {},
   "source": [
    "#### <font color=\"blue\"> Linear model의 종류: 1) OLS (최소제곱법) </font>"
   ]
  },
  {
   "cell_type": "code",
   "execution_count": 18,
   "metadata": {},
   "outputs": [],
   "source": [
    "from sklearn.linear_model import LinearRegression \n",
    "from sklearn.model_selection import train_test_split \n",
    "\n",
    "X, y = mglearn.datasets.make_wave(n_samples=60)\n",
    "X_train, X_test, y_train, y_test = train_test_split(X, y, random_state = 42)\n",
    "\n",
    "lr = LinearRegression().fit(X_train, y_train)"
   ]
  },
  {
   "cell_type": "code",
   "execution_count": 21,
   "metadata": {},
   "outputs": [
    {
     "name": "stdout",
     "output_type": "stream",
     "text": [
      "[0.39390555]\n",
      "-0.031804343026759746\n",
      "0.6700890315075756\n",
      "0.65933685968637\n"
     ]
    }
   ],
   "source": [
    "print(lr.coef_)\n",
    "print(lr.intercept_)\n",
    "\n",
    "#### R^2 value\n",
    "print(lr.score(X_train, y_train))\n",
    "print(lr.score(X_test, y_test))"
   ]
  },
  {
   "cell_type": "code",
   "execution_count": 22,
   "metadata": {},
   "outputs": [],
   "source": [
    "#### Boston House price에 대한 linear regression modeling "
   ]
  },
  {
   "cell_type": "code",
   "execution_count": 25,
   "metadata": {},
   "outputs": [
    {
     "name": "stdout",
     "output_type": "stream",
     "text": [
      "0.9520519609032729\n",
      "0.6074721959665934\n"
     ]
    }
   ],
   "source": [
    "X, y = mglearn.datasets.load_extended_boston()\n",
    "X_train, X_test, y_train, y_test = train_test_split(X, y, random_state = 0)\n",
    "\n",
    "lr = LinearRegression().fit(X_train, y_train)\n",
    "\n",
    "print(lr.score(X_train, y_train))\n",
    "print(lr.score(X_test, y_test))"
   ]
  },
  {
   "cell_type": "markdown",
   "metadata": {},
   "source": [
    "##### * <font color=\"blue\"> training model score = 0.95, test model score = 0.61 ---> 이는 모델이 overfitting 되었다는 것을 의미함 </font>"
   ]
  },
  {
   "cell_type": "markdown",
   "metadata": {},
   "source": [
    "#### <font color=\"blue\"> Linear model의 종류: 2) Ridge Regression </font>"
   ]
  },
  {
   "cell_type": "code",
   "execution_count": 28,
   "metadata": {},
   "outputs": [
    {
     "name": "stdout",
     "output_type": "stream",
     "text": [
      "0.8857966585170941\n",
      "0.7527683481744754\n"
     ]
    }
   ],
   "source": [
    "from sklearn.linear_model import Ridge\n",
    "\n",
    "X, y = mglearn.datasets.load_extended_boston()\n",
    "X_train, X_test, y_train, y_test = train_test_split(X, y, random_state = 0)\n",
    "\n",
    "ridge = Ridge().fit(X_train, y_train)\n",
    "\n",
    "print(ridge.score(X_train, y_train))\n",
    "print(ridge.score(X_test, y_test))"
   ]
  },
  {
   "cell_type": "code",
   "execution_count": 29,
   "metadata": {},
   "outputs": [],
   "source": [
    "#### ==> Ridge 모형이 선형회귀 모형 대비 overfitting 정도가 완화되었다. "
   ]
  },
  {
   "cell_type": "code",
   "execution_count": 34,
   "metadata": {},
   "outputs": [
    {
     "name": "stdout",
     "output_type": "stream",
     "text": [
      "0.9199279491313923\n",
      "0.7749447069768518\n"
     ]
    }
   ],
   "source": [
    "#### parameter alpha가 높아질수록 모형이 보다 일반화 된다. \n",
    "ridge02 = Ridge(alpha = 0.2).fit(X_train, y_train)\n",
    "\n",
    "print(ridge02.score(X_train, y_train))\n",
    "print(ridge02.score(X_test, y_test))"
   ]
  },
  {
   "cell_type": "code",
   "execution_count": 35,
   "metadata": {},
   "outputs": [
    {
     "name": "stdout",
     "output_type": "stream",
     "text": [
      "0.9037403798627097\n",
      "0.767563830258782\n"
     ]
    }
   ],
   "source": [
    "ridge05 = Ridge(alpha = 0.5).fit(X_train, y_train)\n",
    "\n",
    "print(ridge05.score(X_train, y_train))\n",
    "print(ridge05.score(X_test, y_test))"
   ]
  },
  {
   "cell_type": "markdown",
   "metadata": {},
   "source": [
    "#### <font color=\"blue\"> Linear model의 종류: 3) Lasso Regression </font>"
   ]
  },
  {
   "cell_type": "code",
   "execution_count": 37,
   "metadata": {},
   "outputs": [
    {
     "name": "stdout",
     "output_type": "stream",
     "text": [
      "0.29323768991114607\n",
      "0.20937503255272294\n"
     ]
    }
   ],
   "source": [
    "from sklearn.linear_model import Lasso\n",
    "\n",
    "X, y = mglearn.datasets.load_extended_boston()\n",
    "X_train, X_test, y_train, y_test = train_test_split(X, y, random_state = 0)\n",
    "\n",
    "lasso = Lasso().fit(X_train, y_train)\n",
    "\n",
    "print(lasso.score(X_train, y_train))\n",
    "print(lasso.score(X_test, y_test))"
   ]
  },
  {
   "cell_type": "code",
   "execution_count": 38,
   "metadata": {},
   "outputs": [
    {
     "name": "stdout",
     "output_type": "stream",
     "text": [
      "0.8961122320864716\n",
      "0.7677995670886713\n"
     ]
    }
   ],
   "source": [
    "#### 모형 예측력이 낮으므로, alpha값을 조정한다. alpha값이 낮을 수록 일반화 된다. \n",
    "\n",
    "lasso001 = Lasso(alpha = 0.01).fit(X_train, y_train)\n",
    "print(lasso001.score(X_train, y_train))\n",
    "print(lasso001.score(X_test, y_test))"
   ]
  },
  {
   "cell_type": "markdown",
   "metadata": {},
   "source": [
    "##### <font color=\"blue\">- Summary : Linear Regression 보다 좀더 일반화된 모형을 얻고자 할때, 계수에 어느정도 제한을 주는 Ridge Regression을 사용한다. </font> \n",
    "##### <font color=\"blue\">- Lasso Regression은 Ridge 보다 더욱 강력한 제한을 가한다. (특정 계수들을 0으로 만들어 버린다.) </font>\n",
    "##### <font color=\"blue\">- 통상 Ridge가 많이 쓰이나, 불필요한 특성이 너무 많은 경우 일부 특성을 제외해 버리는 Lasso가 유용한 경우도 있다. </font>"
   ]
  },
  {
   "cell_type": "markdown",
   "metadata": {},
   "source": [
    "#### <font color=\"blue\"> Linear model의 종류: 4) Logistic Regression </font>"
   ]
  },
  {
   "cell_type": "code",
   "execution_count": 40,
   "metadata": {},
   "outputs": [
    {
     "name": "stdout",
     "output_type": "stream",
     "text": [
      "0.9530516431924883\n",
      "0.958041958041958\n"
     ]
    }
   ],
   "source": [
    "from sklearn.datasets import load_breast_cancer \n",
    "from sklearn.linear_model import LogisticRegression \n",
    "\n",
    "cancer = load_breast_cancer()\n",
    "X_train, X_test, y_train, y_test = train_test_split(cancer.data, cancer.target, stratify = cancer.target, random_state = 42)\n",
    "\n",
    "logit = LogisticRegression().fit(X_train, y_train)\n",
    "\n",
    "print( logit.score(X_train, y_train) )\n",
    "print( logit.score(X_test, y_test) )"
   ]
  },
  {
   "cell_type": "code",
   "execution_count": 44,
   "metadata": {},
   "outputs": [],
   "source": [
    "#### train, test score가 비슷하여 underfitting이 의심된다. C값을 조정하여 모형의 제약을 좀더 풀어주자 \n",
    "#### C의 기본값은 1이며, 높아질 수록 모형이 제약을 풀어주어 보다 일반화, 즉 test 데이터에 적합하게 된다. "
   ]
  },
  {
   "cell_type": "code",
   "execution_count": 43,
   "metadata": {},
   "outputs": [
    {
     "name": "stdout",
     "output_type": "stream",
     "text": [
      "0.971830985915493\n",
      "0.965034965034965\n"
     ]
    }
   ],
   "source": [
    "logit100 = LogisticRegression(C=100).fit(X_train, y_train)\n",
    "\n",
    "print( logit100.score(X_train, y_train) )\n",
    "print( logit100.score(X_test, y_test) )"
   ]
  },
  {
   "cell_type": "markdown",
   "metadata": {},
   "source": [
    "#### <font color=\"blue\"> Linear model의 종류: 5) Linear SVC(Support Vector Classifier) </font>"
   ]
  },
  {
   "cell_type": "code",
   "execution_count": 45,
   "metadata": {},
   "outputs": [],
   "source": [
    "from sklearn.datasets import make_blobs\n",
    "from sklearn.svm import LinearSVC\n",
    "\n",
    "X, y = make_blobs(random_state = 42)\n",
    "linear_svm = LinearSVC().fit(X, y)"
   ]
  },
  {
   "cell_type": "code",
   "execution_count": 47,
   "metadata": {},
   "outputs": [
    {
     "data": {
      "image/png": "[encoded data removed]",
      "text/plain": [
       "<Figure size 432x288 with 1 Axes>"
      ]
     },
     "metadata": {
      "needs_background": "light"
     },
     "output_type": "display_data"
    }
   ],
   "source": [
    "mglearn.discrete_scatter(X[:, 0], X[:, 1], y)\n",
    "line = np.linspace(-15, 15)\n",
    "for coef, intercept, color in zip( linear_svm.coef_, linear_svm.intercept_, mglearn.cm3.colors ): \n",
    "    plt.plot(line, -(line*coef[0] + intercept) / coef[1], c = color )"
   ]
  },
  {
   "cell_type": "markdown",
   "metadata": {},
   "source": [
    "- linear model에서 중요한 parameter \n",
    "  - 1) linear regression : alpha \n",
    "  - 2) Logistic regression, LinearSVC : C \n",
    "  \n",
    "  \n",
    "- alpha값이 클수록, C값이 작을수록 모델이 단순해진다. \n",
    "- 최적의 alpha, c값을 찾을때 보통 로그스케일, 즉 0.01 > 0.1 > 10 과 같이 자릿수가 바뀌도록 10배씩 변경하면서 최적치를 정한다. "
   ]
  },
  {
   "cell_type": "code",
   "execution_count": null,
   "metadata": {},
   "outputs": [],
   "source": []
  }
 ],
 "metadata": {
  "kernelspec": {
   "display_name": "Python 3",
   "language": "python",
   "name": "python3"
  },
  "language_info": {
   "codemirror_mode": {
    "name": "ipython",
    "version": 3
   },
   "file_extension": ".py",
   "mimetype": "text/x-python",
   "name": "python",
   "nbconvert_exporter": "python",
   "pygments_lexer": "ipython3",
   "version": "3.7.3"
  }
 },
 "nbformat": 4,
 "nbformat_minor": 4
}
