{
 "cells": [
  {
   "cell_type": "markdown",
   "metadata": {},
   "source": [
    "#### <font color=\"blue\"> 2.3.4 Naive Bayes </font>"
   ]
  },
  {
   "cell_type": "markdown",
   "metadata": {},
   "source": [
    "- NB모형은 훈련속도가 빠른 편이나, 일반화 성능은 낮은 편 \n",
    "- 사이킷런의 NB 모형은 아래 3가지가 제공됨 \n",
    "\n",
    "  1) Gauussian NB : 일반적인 NB모형\n",
    "  \n",
    "  2) Bernoulli NB : 이진 데이터에 적용\n",
    "  \n",
    "  3) Multinominal NB : 카운트 데이터에 적용 \n",
    "  \n",
    "  ###### * 2), 3)은 주로 text 분류에 사용된다. \n",
    "  ###### * 선형모델로 학습시간이 너무 오래걸리는 대량의 데이터에 대해, 나이브 베이지가 유용한 경우가 있다. "
   ]
  },
  {
   "cell_type": "markdown",
   "metadata": {},
   "source": [
    "#### <font color=\"blue\"> 2.3.5 Decision Tree </font>"
   ]
  },
  {
   "cell_type": "code",
   "execution_count": 1,
   "metadata": {},
   "outputs": [],
   "source": [
    "import numpy as np\n",
    "import pandas as pd \n",
    "import matplotlib as mpl \n",
    "import matplotlib.pyplot as plt \n",
    "import seaborn as sns\n",
    "sns.set(style='whitegrid',  palette=\"pastel\" )"
   ]
  },
  {
   "cell_type": "code",
   "execution_count": 2,
   "metadata": {},
   "outputs": [
    {
     "name": "stdout",
     "output_type": "stream",
     "text": [
      "Requirement already satisfied: mglearn in c:\\users\\youngboo.choi\\appdata\\local\\continuum\\anaconda3\\lib\\site-packages (0.1.7)\n",
      "Requirement already satisfied: numpy in c:\\users\\youngboo.choi\\appdata\\local\\continuum\\anaconda3\\lib\\site-packages (from mglearn) (1.18.1)\n",
      "Requirement already satisfied: matplotlib in c:\\users\\youngboo.choi\\appdata\\roaming\\python\\python37\\site-packages (from mglearn) (3.1.3)\n",
      "Requirement already satisfied: scikit-learn in c:\\users\\youngboo.choi\\appdata\\local\\continuum\\anaconda3\\lib\\site-packages (from mglearn) (0.21.2)\n",
      "Requirement already satisfied: cycler in c:\\users\\youngboo.choi\\appdata\\local\\continuum\\anaconda3\\lib\\site-packages (from mglearn) (0.10.0)\n",
      "Requirement already satisfied: imageio in c:\\users\\youngboo.choi\\appdata\\local\\continuum\\anaconda3\\lib\\site-packages (from mglearn) (2.5.0)\n",
      "Requirement already satisfied: pandas in c:\\users\\youngboo.choi\\appdata\\local\\continuum\\anaconda3\\lib\\site-packages (from mglearn) (0.25.1)\n",
      "Requirement already satisfied: pillow in c:\\users\\youngboo.choi\\appdata\\local\\continuum\\anaconda3\\lib\\site-packages (from mglearn) (6.1.0)\n",
      "Requirement already satisfied: python-dateutil>=2.1 in c:\\users\\youngboo.choi\\appdata\\local\\continuum\\anaconda3\\lib\\site-packages (from matplotlib->mglearn) (2.8.0)\n",
      "Requirement already satisfied: kiwisolver>=1.0.1 in c:\\users\\youngboo.choi\\appdata\\local\\continuum\\anaconda3\\lib\\site-packages (from matplotlib->mglearn) (1.1.0)\n",
      "Requirement already satisfied: pyparsing!=2.0.4,!=2.1.2,!=2.1.6,>=2.0.1 in c:\\users\\youngboo.choi\\appdata\\local\\continuum\\anaconda3\\lib\\site-packages (from matplotlib->mglearn) (2.4.0)\n",
      "Requirement already satisfied: joblib>=0.11 in c:\\users\\youngboo.choi\\appdata\\local\\continuum\\anaconda3\\lib\\site-packages (from scikit-learn->mglearn) (0.13.2)\n",
      "Requirement already satisfied: scipy>=0.17.0 in c:\\users\\youngboo.choi\\appdata\\local\\continuum\\anaconda3\\lib\\site-packages (from scikit-learn->mglearn) (1.4.1)\n",
      "Requirement already satisfied: six in c:\\users\\youngboo.choi\\appdata\\local\\continuum\\anaconda3\\lib\\site-packages (from cycler->mglearn) (1.12.0)\n",
      "Requirement already satisfied: pytz>=2017.2 in c:\\users\\youngboo.choi\\appdata\\local\\continuum\\anaconda3\\lib\\site-packages (from pandas->mglearn) (2019.1)\n",
      "Requirement already satisfied: setuptools in c:\\users\\youngboo.choi\\appdata\\local\\continuum\\anaconda3\\lib\\site-packages (from kiwisolver>=1.0.1->matplotlib->mglearn) (41.0.1)\n"
     ]
    }
   ],
   "source": [
    "!pip install mglearn"
   ]
  },
  {
   "cell_type": "code",
   "execution_count": 3,
   "metadata": {},
   "outputs": [
    {
     "name": "stderr",
     "output_type": "stream",
     "text": [
      "C:\\Users\\youngboo.choi\\AppData\\Local\\Continuum\\anaconda3\\lib\\site-packages\\sklearn\\externals\\six.py:31: DeprecationWarning: The module is deprecated in version 0.21 and will be removed in version 0.23 since we've dropped support for Python 2.7. Please rely on the official version of six (https://pypi.org/project/six/).\n",
      "  \"(https://pypi.org/project/six/).\", DeprecationWarning)\n",
      "C:\\Users\\youngboo.choi\\AppData\\Local\\Continuum\\anaconda3\\lib\\site-packages\\sklearn\\externals\\joblib\\__init__.py:15: DeprecationWarning: sklearn.externals.joblib is deprecated in 0.21 and will be removed in 0.23. Please import this functionality directly from joblib, which can be installed with: pip install joblib. If this warning is raised when loading pickled models, you may need to re-serialize those models with scikit-learn 0.21+.\n",
      "  warnings.warn(msg, category=DeprecationWarning)\n"
     ]
    }
   ],
   "source": [
    "import mglearn\n",
    "import warnings\n",
    "warnings.filterwarnings(\"ignore\")"
   ]
  },
  {
   "cell_type": "code",
   "execution_count": 4,
   "metadata": {},
   "outputs": [],
   "source": [
    "#### 유방암 데이터에대한 D.tree 모형 생성 "
   ]
  },
  {
   "cell_type": "code",
   "execution_count": 5,
   "metadata": {},
   "outputs": [
    {
     "name": "stdout",
     "output_type": "stream",
     "text": [
      "1.0\n",
      "0.9370629370629371\n"
     ]
    }
   ],
   "source": [
    "from sklearn.datasets import load_breast_cancer \n",
    "from sklearn.tree import DecisionTreeClassifier \n",
    "from sklearn.model_selection import train_test_split \n",
    "\n",
    "cancer = load_breast_cancer() \n",
    "X_train, X_test, y_train, y_test = train_test_split(cancer.data, cancer.target, stratify = cancer.target, random_state = 42)\n",
    "\n",
    "tree = DecisionTreeClassifier(random_state = 0)\n",
    "tree.fit(X_train, y_train)\n",
    "\n",
    "print( tree.score(X_train, y_train) )\n",
    "print( tree.score(X_test, y_test) )"
   ]
  },
  {
   "cell_type": "code",
   "execution_count": 6,
   "metadata": {},
   "outputs": [],
   "source": [
    "#### 훈련데이터에 완전 적합되었다. ==> 사전 가지치기, 즉 node의 갯수를 제한하자.  "
   ]
  },
  {
   "cell_type": "code",
   "execution_count": 7,
   "metadata": {},
   "outputs": [
    {
     "name": "stdout",
     "output_type": "stream",
     "text": [
      "0.9882629107981221\n",
      "0.951048951048951\n"
     ]
    }
   ],
   "source": [
    "tree = DecisionTreeClassifier(random_state = 0, max_depth = 4)\n",
    "tree.fit(X_train, y_train)\n",
    "\n",
    "print( tree.score(X_train, y_train) )\n",
    "print( tree.score(X_test, y_test) )"
   ]
  },
  {
   "cell_type": "code",
   "execution_count": 8,
   "metadata": {},
   "outputs": [],
   "source": [
    "#### graphviz 모듈을 사용하여 tree 시각화 \n",
    "#### https://thebook.io/007022/ch03/06/02-02/ 참조하여 graphviz.msi 설치 필요 "
   ]
  },
  {
   "cell_type": "code",
   "execution_count": 9,
   "metadata": {},
   "outputs": [
    {
     "name": "stdout",
     "output_type": "stream",
     "text": [
      "Requirement already satisfied: graphviz in c:\\users\\youngboo.choi\\appdata\\local\\continuum\\anaconda3\\lib\\site-packages (0.14)\n"
     ]
    }
   ],
   "source": [
    "!pip install graphviz"
   ]
  },
  {
   "cell_type": "code",
   "execution_count": 13,
   "metadata": {},
   "outputs": [],
   "source": [
    "import graphviz\n",
    "from sklearn.tree import export_graphviz\n",
    "export_graphviz(tree, out_file = \"tree.dot\", class_names = ['maligant', 'benign'], \n",
    "                feature_names = cancer.feature_names, impurity = False, filled = True)"
   ]
  },
  {
   "cell_type": "code",
   "execution_count": 14,
   "metadata": {},
   "outputs": [
    {
     "data": {
      "text/plain": [
       "'tree.png.pdf'"
      ]
     },
     "execution_count": 14,
     "metadata": {},
     "output_type": "execute_result"
    }
   ],
   "source": [
    "with open('tree.dot') as file_reader:\n",
    "    dot_graph = file_reader.read()\n",
    "dot = graphviz.Source(dot_graph)    # dot_graph의 source 저장\n",
    "dot.render(filename='tree.png')    # png로 저장"
   ]
  },
  {
   "cell_type": "code",
   "execution_count": null,
   "metadata": {},
   "outputs": [],
   "source": [
    "#### ram memory price trend "
   ]
  },
  {
   "cell_type": "code",
   "execution_count": 22,
   "metadata": {},
   "outputs": [
    {
     "data": {
      "text/html": [
       "<div>\n",
       "<style scoped>\n",
       "    .dataframe tbody tr th:only-of-type {\n",
       "        vertical-align: middle;\n",
       "    }\n",
       "\n",
       "    .dataframe tbody tr th {\n",
       "        vertical-align: top;\n",
       "    }\n",
       "\n",
       "    .dataframe thead th {\n",
       "        text-align: right;\n",
       "    }\n",
       "</style>\n",
       "<table border=\"1\" class=\"dataframe\">\n",
       "  <thead>\n",
       "    <tr style=\"text-align: right;\">\n",
       "      <th></th>\n",
       "      <th>Unnamed: 0</th>\n",
       "      <th>date</th>\n",
       "      <th>price</th>\n",
       "    </tr>\n",
       "  </thead>\n",
       "  <tbody>\n",
       "    <tr>\n",
       "      <td>0</td>\n",
       "      <td>0</td>\n",
       "      <td>1957.00</td>\n",
       "      <td>4.110418e+08</td>\n",
       "    </tr>\n",
       "    <tr>\n",
       "      <td>1</td>\n",
       "      <td>1</td>\n",
       "      <td>1959.00</td>\n",
       "      <td>6.794772e+07</td>\n",
       "    </tr>\n",
       "    <tr>\n",
       "      <td>2</td>\n",
       "      <td>2</td>\n",
       "      <td>1960.00</td>\n",
       "      <td>5.242880e+06</td>\n",
       "    </tr>\n",
       "    <tr>\n",
       "      <td>3</td>\n",
       "      <td>3</td>\n",
       "      <td>1965.00</td>\n",
       "      <td>2.642412e+06</td>\n",
       "    </tr>\n",
       "    <tr>\n",
       "      <td>4</td>\n",
       "      <td>4</td>\n",
       "      <td>1970.00</td>\n",
       "      <td>7.340030e+05</td>\n",
       "    </tr>\n",
       "    <tr>\n",
       "      <td>...</td>\n",
       "      <td>...</td>\n",
       "      <td>...</td>\n",
       "      <td>...</td>\n",
       "    </tr>\n",
       "    <tr>\n",
       "      <td>328</td>\n",
       "      <td>328</td>\n",
       "      <td>2015.58</td>\n",
       "      <td>4.500000e-03</td>\n",
       "    </tr>\n",
       "    <tr>\n",
       "      <td>329</td>\n",
       "      <td>329</td>\n",
       "      <td>2015.67</td>\n",
       "      <td>4.300000e-03</td>\n",
       "    </tr>\n",
       "    <tr>\n",
       "      <td>330</td>\n",
       "      <td>330</td>\n",
       "      <td>2015.75</td>\n",
       "      <td>4.200000e-03</td>\n",
       "    </tr>\n",
       "    <tr>\n",
       "      <td>331</td>\n",
       "      <td>331</td>\n",
       "      <td>2015.83</td>\n",
       "      <td>3.800000e-03</td>\n",
       "    </tr>\n",
       "    <tr>\n",
       "      <td>332</td>\n",
       "      <td>332</td>\n",
       "      <td>2015.92</td>\n",
       "      <td>3.700000e-03</td>\n",
       "    </tr>\n",
       "  </tbody>\n",
       "</table>\n",
       "<p>333 rows × 3 columns</p>\n",
       "</div>"
      ],
      "text/plain": [
       "     Unnamed: 0     date         price\n",
       "0             0  1957.00  4.110418e+08\n",
       "1             1  1959.00  6.794772e+07\n",
       "2             2  1960.00  5.242880e+06\n",
       "3             3  1965.00  2.642412e+06\n",
       "4             4  1970.00  7.340030e+05\n",
       "..          ...      ...           ...\n",
       "328         328  2015.58  4.500000e-03\n",
       "329         329  2015.67  4.300000e-03\n",
       "330         330  2015.75  4.200000e-03\n",
       "331         331  2015.83  3.800000e-03\n",
       "332         332  2015.92  3.700000e-03\n",
       "\n",
       "[333 rows x 3 columns]"
      ]
     },
     "execution_count": 22,
     "metadata": {},
     "output_type": "execute_result"
    }
   ],
   "source": [
    "ram_prices = pd.read_csv('data/ram_price.csv')\n",
    "ram_prices"
   ]
  },
  {
   "cell_type": "code",
   "execution_count": 25,
   "metadata": {},
   "outputs": [
    {
     "data": {
      "text/plain": [
       "Text(0, 0.5, 'price(USD)/MB')"
      ]
     },
     "execution_count": 25,
     "metadata": {},
     "output_type": "execute_result"
    },
    {
     "data": {
      "image/png": "[encoded data removed]",
      "text/plain": [
       "<Figure size 432x288 with 1 Axes>"
      ]
     },
     "metadata": {
      "needs_background": "light"
     },
     "output_type": "display_data"
    }
   ],
   "source": [
    "#### semilogy : Y값에 대해 log를 적용하여 차트를 그린다. \n",
    "plt.semilogy(ram_prices.date, ram_prices.price)\n",
    "plt.xlabel('year')\n",
    "plt.ylabel('price(USD)/MB')"
   ]
  },
  {
   "cell_type": "code",
   "execution_count": 31,
   "metadata": {},
   "outputs": [],
   "source": [
    "#### 1) DecisionTreeRegressor vs. LinearRegressor "
   ]
  },
  {
   "cell_type": "code",
   "execution_count": 36,
   "metadata": {},
   "outputs": [],
   "source": [
    "from sklearn.tree import DecisionTreeRegressor \n",
    "from sklearn.linear_model import LinearRegression \n",
    "\n",
    "## 2000을 기준으로 데이터셋을 분리 \n",
    "data_train = ram_prices[ram_prices.date < 2000]\n",
    "data_test = ram_prices[ram_prices.date >= 2000]\n",
    "\n",
    "## date 컬럼만 추출하고, price에 로그를 씌움 \n",
    "X_train = data_train.date[:, np.newaxis]\n",
    "y_train = np.log(data_train.price)\n",
    "\n",
    "## 2 modles fitting \n",
    "d_tree = DecisionTreeRegressor().fit(X_train, y_train)\n",
    "linear_reg = LinearRegression().fit(X_train, y_train)\n",
    "\n",
    "X_all = ram_prices.date[:, np.newaxis]\n",
    "pred_tree = d_tree.predict(X_all)\n",
    "pred_lr = linear_reg.predict(X_all)\n",
    "\n",
    "## 예측한 결과값에 지수(exp)를 씌워, log값을 원위치로 변환 \n",
    "price_tree = np.exp(pred_tree)\n",
    "price_lr = np.exp(pred_lr)"
   ]
  },
  {
   "cell_type": "code",
   "execution_count": 39,
   "metadata": {},
   "outputs": [
    {
     "data": {
      "text/plain": [
       "<matplotlib.legend.Legend at 0x168de0d0278>"
      ]
     },
     "execution_count": 39,
     "metadata": {},
     "output_type": "execute_result"
    },
    {
     "data": {
      "image/png": "[encoded data removed]",
      "text/plain": [
       "<Figure size 432x288 with 1 Axes>"
      ]
     },
     "metadata": {
      "needs_background": "light"
     },
     "output_type": "display_data"
    }
   ],
   "source": [
    "plt.semilogy(data_train.date, data_train.price, label = \"Training\")\n",
    "plt.semilogy(data_test.date, data_test.price, label = \"Test\")\n",
    "plt.legend()"
   ]
  },
  {
   "cell_type": "code",
   "execution_count": 40,
   "metadata": {},
   "outputs": [
    {
     "data": {
      "text/plain": [
       "<matplotlib.legend.Legend at 0x168de158a90>"
      ]
     },
     "execution_count": 40,
     "metadata": {},
     "output_type": "execute_result"
    },
    {
     "data": {
      "image/png": "[encoded data removed]",
      "text/plain": [
       "<Figure size 432x288 with 1 Axes>"
      ]
     },
     "metadata": {
      "needs_background": "light"
     },
     "output_type": "display_data"
    }
   ],
   "source": [
    "plt.semilogy(ram_prices.date, price_tree, label = \"Predict_D.Tree\")\n",
    "plt.semilogy(ram_prices.date, price_lr, label = \"Predict_LinearRegression\")\n",
    "plt.legend()"
   ]
  },
  {
   "cell_type": "markdown",
   "metadata": {},
   "source": [
    "##### <font color=\"blue\"> - tree 모델은 훈련데이터만을 예측할 수 있음, 시계열 데이터에 tree모델을 잘 쓰지 않는 이유 </font>"
   ]
  },
  {
   "cell_type": "markdown",
   "metadata": {},
   "source": [
    "#### D.Tree 모형의 장/단점 \n",
    "##### 1) 모형의 시각화가 쉽다 (비전문가의 이해가 용이)\n",
    "##### 2) 정규화나 표준화 같은 데이터 전처리가 반드시 필요하지 않다. \n",
    "##### 3) But, 사전 가지치기를 한다고 해도 Overfitting 되는 경향이 있다 (모델 일반화 성능이 좋지 않다.)\n",
    "      ----> tree model의 일반화를 위해 앙상블 모델이 대안으로 제시되었다. "
   ]
  },
  {
   "cell_type": "code",
   "execution_count": null,
   "metadata": {},
   "outputs": [],
   "source": []
  }
 ],
 "metadata": {
  "kernelspec": {
   "display_name": "Python 3",
   "language": "python",
   "name": "python3"
  },
  "language_info": {
   "codemirror_mode": {
    "name": "ipython",
    "version": 3
   },
   "file_extension": ".py",
   "mimetype": "text/x-python",
   "name": "python",
   "nbconvert_exporter": "python",
   "pygments_lexer": "ipython3",
   "version": "3.7.3"
  }
 },
 "nbformat": 4,
 "nbformat_minor": 4
}
