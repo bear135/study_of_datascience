{
 "cells": [
  {
   "cell_type": "markdown",
   "id": "c920660e-0800-45c4-bd1a-ab80e09a8c73",
   "metadata": {},
   "source": [
    "---\n",
    "### 1.1 벡터 만들기\n",
    "---"
   ]
  },
  {
   "cell_type": "code",
   "execution_count": 7,
   "id": "78745c4c-850d-4e53-93a4-dca77c94af69",
   "metadata": {},
   "outputs": [],
   "source": [
    "import numpy as np"
   ]
  },
  {
   "cell_type": "code",
   "execution_count": 8,
   "id": "c2f76c13-302e-460c-bf1a-26a651bc03e0",
   "metadata": {},
   "outputs": [
    {
     "name": "stdout",
     "output_type": "stream",
     "text": [
      "[1 2 3]\n",
      "<class 'numpy.ndarray'>\n",
      "[[1]\n",
      " [2]\n",
      " [3]]\n",
      "<class 'numpy.ndarray'>\n"
     ]
    }
   ],
   "source": [
    "## 1개의 행 또는 열을 가진 벡터를 만들어라 \n",
    "\n",
    "vector_row = np.array([1,2,3])\n",
    "vector_col = np.array([[1], \n",
    "                       [2], \n",
    "                       [3]])\n",
    "\n",
    "print(vector_row)\n",
    "print(type(vector_row))\n",
    "\n",
    "print(vector_col)\n",
    "print(type(vector_row))"
   ]
  },
  {
   "cell_type": "code",
   "execution_count": 9,
   "id": "1d6348c6-436b-4b29-bcbf-1c61af543f57",
   "metadata": {},
   "outputs": [
    {
     "data": {
      "text/plain": [
       "array([1, 2, 3])"
      ]
     },
     "execution_count": 9,
     "metadata": {},
     "output_type": "execute_result"
    }
   ],
   "source": [
    "## copy the vector\n",
    "new_row = vector_row.copy()\n",
    "new_row"
   ]
  },
  {
   "cell_type": "markdown",
   "id": "3744915d-a437-412f-ad85-e81dcd4c6c54",
   "metadata": {},
   "source": [
    "---\n",
    "### 1.2 행렬 만들기\n",
    "---"
   ]
  },
  {
   "cell_type": "code",
   "execution_count": 13,
   "id": "bc06e812-6993-4e14-8ffb-847344a2d70a",
   "metadata": {},
   "outputs": [
    {
     "data": {
      "text/plain": [
       "matrix([[1, 2],\n",
       "        [1, 2],\n",
       "        [1, 2]])"
      ]
     },
     "execution_count": 13,
     "metadata": {},
     "output_type": "execute_result"
    }
   ],
   "source": [
    "## 2차원 행렬을 만들어라 \n",
    "matrix = np.mat([\n",
    "    [1,2], \n",
    "    [1,2], \n",
    "    [1,2]\n",
    "])\n",
    "\n",
    "matrix"
   ]
  },
  {
   "cell_type": "code",
   "execution_count": 11,
   "id": "c973525d-cf45-41b4-a548-bf007267f962",
   "metadata": {},
   "outputs": [
    {
     "name": "stdout",
     "output_type": "stream",
     "text": [
      "<class 'numpy.matrix'>\n"
     ]
    }
   ],
   "source": [
    "print(type(matrix))"
   ]
  },
  {
   "cell_type": "code",
   "execution_count": 16,
   "id": "3f758a02-0852-4d06-9b7f-4bd0528b405e",
   "metadata": {},
   "outputs": [
    {
     "name": "stdout",
     "output_type": "stream",
     "text": [
      "[[0. 0.]\n",
      " [0. 0.]\n",
      " [0. 0.]]\n",
      "[[1. 1. 1.]\n",
      " [1. 1. 1.]\n",
      " [1. 1. 1.]]\n",
      "[[7 7 7 7]\n",
      " [7 7 7 7]\n",
      " [7 7 7 7]]\n"
     ]
    }
   ],
   "source": [
    "## zeros : 0으로 채워진 행렬을 만든다 \n",
    "## ones : 1로 채워진 행렬을 만든다 \n",
    "## full : 특정 값으로 채워진 행렬을 만든다 \n",
    "\n",
    "zero_matrix = np.zeros((3,2))\n",
    "one_matrix = np.ones([3,3])\n",
    "seven_matrix = np.full((3,4), 7)\n",
    "\n",
    "print(zero_matrix)\n",
    "print(one_matrix)\n",
    "print(seven_matrix)"
   ]
  },
  {
   "cell_type": "markdown",
   "id": "473ff22e-e013-4dbb-ba1d-3f7c40ed167e",
   "metadata": {},
   "source": [
    "---\n",
    "### 1.3 희소행렬 만들기 \n",
    "- 데이터의 대부분이 0일때, sparse를 사용하여 0이 아닌 값들만을 가져와 행렬로 변환한다. \n",
    "- 머신러닝에 사용되는 데이터는 행렬의 대부분이 0인 경우가 많아, 이 방법을 사용하여 계산비용을 줄일 수 있다. \n",
    "---"
   ]
  },
  {
   "cell_type": "code",
   "execution_count": 17,
   "id": "e55ee95a-63de-4fc6-8b19-d668faf204f2",
   "metadata": {},
   "outputs": [],
   "source": [
    "from scipy import sparse"
   ]
  },
  {
   "cell_type": "code",
   "execution_count": 19,
   "id": "e890b6d2-01e2-4c24-b686-afd501b54fce",
   "metadata": {},
   "outputs": [
    {
     "name": "stdout",
     "output_type": "stream",
     "text": [
      "  (1, 1)\t1\n",
      "  (2, 0)\t3\n"
     ]
    }
   ],
   "source": [
    "matrix2 = np.array([\n",
    "    [0,0], \n",
    "    [0,1],\n",
    "    [3,0]\n",
    "])\n",
    "\n",
    "matrix_sparse = sparse.csr_matrix(matrix2)\n",
    "print(matrix_sparse)"
   ]
  },
  {
   "cell_type": "code",
   "execution_count": 20,
   "id": "2690b1d4-1629-4fc6-9e17-f76971a330de",
   "metadata": {},
   "outputs": [
    {
     "name": "stdout",
     "output_type": "stream",
     "text": [
      "  (1, 1)\t1\n",
      "  (2, 0)\t3\n"
     ]
    }
   ],
   "source": [
    "matrix_large = np.array([\n",
    "    [0,0,0,0,0,0,0,0,0,0], \n",
    "    [0,1,0,0,0,0,0,0,0,0], \n",
    "    [3,0,0,0,0,0,0,0,0,0]\n",
    "])\n",
    "\n",
    "matrix_large_sparse = sparse.csr_matrix(matrix_large)\n",
    "print(matrix_large_sparse)"
   ]
  },
  {
   "cell_type": "code",
   "execution_count": 23,
   "id": "d71c4740-8572-4ef0-a7fd-3003ea2d9882",
   "metadata": {},
   "outputs": [
    {
     "data": {
      "text/plain": [
       "array([[0, 0, 0, 0, 0, 0, 0, 0, 0, 0],\n",
       "       [0, 1, 0, 0, 0, 0, 0, 0, 0, 0],\n",
       "       [3, 0, 0, 0, 0, 0, 0, 0, 0, 0]], dtype=int32)"
      ]
     },
     "execution_count": 23,
     "metadata": {},
     "output_type": "execute_result"
    }
   ],
   "source": [
    "## 만약 희소행렬을 다시 matrix로 변환하려면, toarray를 사용 \n",
    "matrix_large_sparse.toarray()"
   ]
  },
  {
   "cell_type": "markdown",
   "id": "dc7a57c7-85fd-442e-924d-3c05388b7f3b",
   "metadata": {},
   "source": [
    "---\n",
    "### 1.4 원소 선택하기\n",
    "- 파이썬의 indexing 규칙을 따른다.\n",
    "---"
   ]
  },
  {
   "cell_type": "code",
   "execution_count": 25,
   "id": "5a77099c-32f9-4911-90ef-070a82ef8124",
   "metadata": {},
   "outputs": [],
   "source": [
    "vector = np.array([1,2,3,4,5,6,7])"
   ]
  },
  {
   "cell_type": "code",
   "execution_count": 32,
   "id": "7c9dd7eb-1de8-4378-b853-68b2d84db132",
   "metadata": {},
   "outputs": [
    {
     "name": "stdout",
     "output_type": "stream",
     "text": [
      "4\n",
      "8\n",
      "[1 2 3 4 5 6 7]\n",
      "[1 2 3]\n",
      "[4 5 6 7]\n",
      "[1 2 3 4 5 6]\n"
     ]
    }
   ],
   "source": [
    "print(vector[3]) \n",
    "\n",
    "print(matrix[2,1])\n",
    "\n",
    "print(vector[:])\n",
    "\n",
    "print(vector[:3])\n",
    "\n",
    "print(vector[3:])\n",
    "\n",
    "print(vector[:-1])"
   ]
  },
  {
   "cell_type": "code",
   "execution_count": 34,
   "id": "def9a0ac-a68c-495a-8ba4-1d79e8844bec",
   "metadata": {},
   "outputs": [],
   "source": [
    "matrix = np.array([\n",
    "    [1,2,3], \n",
    "    [4,5,6],\n",
    "    [7,8,9]\n",
    "])"
   ]
  },
  {
   "cell_type": "code",
   "execution_count": 39,
   "id": "dfe706cc-a56e-4968-bc3b-e29eb4d59137",
   "metadata": {},
   "outputs": [
    {
     "name": "stdout",
     "output_type": "stream",
     "text": [
      "[[1 2 3]\n",
      " [4 5 6]]\n",
      "[[2]\n",
      " [5]\n",
      " [8]]\n"
     ]
    }
   ],
   "source": [
    "print(matrix[:2, :])\n",
    "\n",
    "print(matrix[:, 1:2])"
   ]
  },
  {
   "cell_type": "code",
   "execution_count": 42,
   "id": "e7f61ed5-0f50-4e78-8d29-26fd43c5fefe",
   "metadata": {},
   "outputs": [
    {
     "data": {
      "text/plain": [
       "array([[1, 2, 3],\n",
       "       [7, 8, 9]])"
      ]
     },
     "execution_count": 42,
     "metadata": {},
     "output_type": "execute_result"
    }
   ],
   "source": [
    "matrix[[0,2]] ## 매트릭스의 row=0 & 2"
   ]
  },
  {
   "cell_type": "code",
   "execution_count": 44,
   "id": "3c26a3aa-10e5-4f29-89bb-a4629182fbb9",
   "metadata": {},
   "outputs": [
    {
     "data": {
      "text/plain": [
       "array([2, 7])"
      ]
     },
     "execution_count": 44,
     "metadata": {},
     "output_type": "execute_result"
    }
   ],
   "source": [
    "## 매트릭스에서 해당 위치의 것을 추출 \n",
    "matrix[\n",
    "    [0,2], \n",
    "    [1,0] ]"
   ]
  },
  {
   "cell_type": "code",
   "execution_count": 45,
   "id": "f3d63b57-57b8-4129-9fc6-964a61ac34ed",
   "metadata": {},
   "outputs": [
    {
     "data": {
      "text/plain": [
       "array([6, 7, 8, 9])"
      ]
     },
     "execution_count": 45,
     "metadata": {},
     "output_type": "execute_result"
    }
   ],
   "source": [
    "## 연산자를 이용한 추출 \n",
    "matrix[matrix > 5]"
   ]
  },
  {
   "cell_type": "markdown",
   "id": "bd519fe7-029d-4e35-8ca5-f8f393913a39",
   "metadata": {},
   "source": [
    "---\n",
    "### 1.5 행렬정보 확인하기\n",
    "---"
   ]
  },
  {
   "cell_type": "code",
   "execution_count": 47,
   "id": "8ee8fa5c-f589-40e5-b00c-36ded7c546dc",
   "metadata": {},
   "outputs": [
    {
     "data": {
      "text/plain": [
       "array([[1, 2, 3],\n",
       "       [4, 5, 6],\n",
       "       [7, 8, 9]])"
      ]
     },
     "execution_count": 47,
     "metadata": {},
     "output_type": "execute_result"
    }
   ],
   "source": [
    "matrix"
   ]
  },
  {
   "cell_type": "code",
   "execution_count": 48,
   "id": "3b34ec7a-b964-4d97-8f13-5ab19049b0b4",
   "metadata": {},
   "outputs": [
    {
     "data": {
      "text/plain": [
       "(3, 3)"
      ]
     },
     "execution_count": 48,
     "metadata": {},
     "output_type": "execute_result"
    }
   ],
   "source": [
    "matrix.shape"
   ]
  },
  {
   "cell_type": "code",
   "execution_count": 49,
   "id": "14a771b7-ed70-4fc6-a573-45ee9776fd51",
   "metadata": {},
   "outputs": [
    {
     "data": {
      "text/plain": [
       "9"
      ]
     },
     "execution_count": 49,
     "metadata": {},
     "output_type": "execute_result"
    }
   ],
   "source": [
    "matrix.size"
   ]
  },
  {
   "cell_type": "code",
   "execution_count": 51,
   "id": "4150d923-635a-475c-8d8e-8dd0cad1a67a",
   "metadata": {},
   "outputs": [
    {
     "data": {
      "text/plain": [
       "2"
      ]
     },
     "execution_count": 51,
     "metadata": {},
     "output_type": "execute_result"
    }
   ],
   "source": [
    "matrix.ndim"
   ]
  },
  {
   "cell_type": "code",
   "execution_count": 52,
   "id": "8f014645-24b6-49ad-94e6-1276a1579c94",
   "metadata": {},
   "outputs": [
    {
     "data": {
      "text/plain": [
       "dtype('int32')"
      ]
     },
     "execution_count": 52,
     "metadata": {},
     "output_type": "execute_result"
    }
   ],
   "source": [
    "matrix.dtype"
   ]
  },
  {
   "cell_type": "code",
   "execution_count": 53,
   "id": "876a1bef-06a1-4d16-b058-13062d09953d",
   "metadata": {},
   "outputs": [
    {
     "data": {
      "text/plain": [
       "36"
      ]
     },
     "execution_count": 53,
     "metadata": {},
     "output_type": "execute_result"
    }
   ],
   "source": [
    "matrix.nbytes   ## 매트릭스의 데이터 크기(바이트수)"
   ]
  },
  {
   "cell_type": "markdown",
   "id": "175aeead-14dc-4d88-bc3a-7394ea479a59",
   "metadata": {},
   "source": [
    "---\n",
    "### 1.6 벡터화 연산 적용하기\n",
    "- vectorize를 사용하여 매트릭스에 특정 함수를 적용한다. \n",
    "---"
   ]
  },
  {
   "cell_type": "code",
   "execution_count": 54,
   "id": "9f3b5bd5-07e4-4548-a1e4-cf1b4cf7feec",
   "metadata": {},
   "outputs": [
    {
     "data": {
      "text/plain": [
       "array([[1, 2, 3],\n",
       "       [4, 5, 6],\n",
       "       [7, 8, 9]])"
      ]
     },
     "execution_count": 54,
     "metadata": {},
     "output_type": "execute_result"
    }
   ],
   "source": [
    "matrix"
   ]
  },
  {
   "cell_type": "code",
   "execution_count": 56,
   "id": "e7fd34d7-2f28-496d-afde-829b12ac0712",
   "metadata": {},
   "outputs": [],
   "source": [
    "## 함수 생성 \n",
    "vectorized_add_100 = np.vectorize(lambda i : i + 100)"
   ]
  },
  {
   "cell_type": "code",
   "execution_count": 57,
   "id": "5e151026-08ea-421f-a32b-8002acdf6f25",
   "metadata": {},
   "outputs": [
    {
     "data": {
      "text/plain": [
       "array([[101, 102, 103],\n",
       "       [104, 105, 106],\n",
       "       [107, 108, 109]])"
      ]
     },
     "execution_count": 57,
     "metadata": {},
     "output_type": "execute_result"
    }
   ],
   "source": [
    "vectorized_add_100(matrix)"
   ]
  },
  {
   "cell_type": "code",
   "execution_count": 59,
   "id": "94f48e53-3d16-4b32-bff7-586d98c4f699",
   "metadata": {},
   "outputs": [
    {
     "data": {
      "text/plain": [
       "array([[101, 102, 103],\n",
       "       [104, 105, 106],\n",
       "       [107, 108, 109]])"
      ]
     },
     "execution_count": 59,
     "metadata": {},
     "output_type": "execute_result"
    }
   ],
   "source": [
    "## 보다 간단한 방법 : broadcasting \n",
    "matrix + 100"
   ]
  },
  {
   "cell_type": "code",
   "execution_count": 60,
   "id": "a167ae23-edda-479a-a4b2-9d0e32f8733e",
   "metadata": {},
   "outputs": [
    {
     "data": {
      "text/plain": [
       "array([[11, 22, 33],\n",
       "       [14, 25, 36],\n",
       "       [17, 28, 39]])"
      ]
     },
     "execution_count": 60,
     "metadata": {},
     "output_type": "execute_result"
    }
   ],
   "source": [
    "## 행방향으로 더하기 \n",
    "matrix + [10, 20, 30]"
   ]
  },
  {
   "cell_type": "code",
   "execution_count": 61,
   "id": "6ad534a4-303b-4066-9c7a-52ebd8b55f46",
   "metadata": {},
   "outputs": [
    {
     "data": {
      "text/plain": [
       "array([[11, 12, 13],\n",
       "       [24, 25, 26],\n",
       "       [37, 38, 39]])"
      ]
     },
     "execution_count": 61,
     "metadata": {},
     "output_type": "execute_result"
    }
   ],
   "source": [
    "## 열방향으로 더하기 \n",
    "matrix + [\n",
    "    [10], \n",
    "    [20], \n",
    "    [30]\n",
    "]"
   ]
  },
  {
   "cell_type": "markdown",
   "id": "635792b5-a92c-4824-b59d-ad7a87d85abb",
   "metadata": {},
   "source": [
    "---\n",
    "### 1.7 min, max 찾기\n",
    "---"
   ]
  },
  {
   "cell_type": "code",
   "execution_count": 62,
   "id": "d263e198-5b06-4408-98e8-4afceb9b7bcc",
   "metadata": {},
   "outputs": [
    {
     "data": {
      "text/plain": [
       "array([[1, 2, 3],\n",
       "       [4, 5, 6],\n",
       "       [7, 8, 9]])"
      ]
     },
     "execution_count": 62,
     "metadata": {},
     "output_type": "execute_result"
    }
   ],
   "source": [
    "matrix"
   ]
  },
  {
   "cell_type": "code",
   "execution_count": 66,
   "id": "23032592-6c27-420d-acbb-8dbb908cd9df",
   "metadata": {},
   "outputs": [
    {
     "name": "stdout",
     "output_type": "stream",
     "text": [
      "Minimum Value = 1\n",
      "Maximum Value = 9\n"
     ]
    }
   ],
   "source": [
    "print(\"Minimum Value =\", np.min(matrix))\n",
    "print(\"Maximum Value =\", np.max(matrix))"
   ]
  },
  {
   "cell_type": "code",
   "execution_count": 70,
   "id": "84672681-5cd4-4d2a-9d8a-04dd533fad4d",
   "metadata": {},
   "outputs": [
    {
     "name": "stdout",
     "output_type": "stream",
     "text": [
      "[1 2 3]\n",
      "[3 6 9]\n"
     ]
    }
   ],
   "source": [
    "## 각 col, row 에서의 min/max 구하기 \n",
    "print( np.min(matrix, axis = 0) )\n",
    "print( np.max(matrix, axis = 1) )"
   ]
  },
  {
   "cell_type": "markdown",
   "id": "94d62b68-59fd-4bc0-a882-41d47c8f3708",
   "metadata": {},
   "source": [
    "---\n",
    "### 1.8 mean, var, std\n",
    "---"
   ]
  },
  {
   "cell_type": "code",
   "execution_count": 71,
   "id": "9d270cfc-c42e-4ff4-a250-e0d25c010c14",
   "metadata": {},
   "outputs": [
    {
     "data": {
      "text/plain": [
       "array([[1, 2, 3],\n",
       "       [4, 5, 6],\n",
       "       [7, 8, 9]])"
      ]
     },
     "execution_count": 71,
     "metadata": {},
     "output_type": "execute_result"
    }
   ],
   "source": [
    "matrix"
   ]
  },
  {
   "cell_type": "code",
   "execution_count": 73,
   "id": "1bbe1711-aff0-4dfa-b8a2-6e994d8c3741",
   "metadata": {},
   "outputs": [
    {
     "name": "stdout",
     "output_type": "stream",
     "text": [
      "Mean = 5.0\n",
      "Var = 6.666666666666667\n",
      "Stdev = 2.581988897471611\n"
     ]
    }
   ],
   "source": [
    "print( \"Mean =\", np.mean(matrix) )\n",
    "print( \"Var =\", np.var(matrix) )\n",
    "print( \"Stdev =\", np.std(matrix) )"
   ]
  },
  {
   "cell_type": "code",
   "execution_count": 76,
   "id": "cff7ee80-060e-4302-a4e7-4f84deba7eb4",
   "metadata": {},
   "outputs": [
    {
     "name": "stdout",
     "output_type": "stream",
     "text": [
      "[4. 5. 6.]\n",
      "[2. 5. 8.]\n"
     ]
    }
   ],
   "source": [
    "## 각 col, row 에서의 통계량 구하기 \n",
    "print( np.mean(matrix, axis = 0) )\n",
    "print( np.mean(matrix, axis = 1) )"
   ]
  },
  {
   "cell_type": "markdown",
   "id": "a3ec3b45-c549-461a-ab8e-d305a9c41f7a",
   "metadata": {},
   "source": [
    "---\n",
    "### 1.9 배열 크기 바꾸기\n",
    "- reshape : 행과 열을 서로 바꾼다 \n",
    "---"
   ]
  },
  {
   "cell_type": "code",
   "execution_count": 77,
   "id": "49682c47-8f4a-4af8-b4cc-9a669696e758",
   "metadata": {},
   "outputs": [
    {
     "data": {
      "text/plain": [
       "array([[ 1,  2,  3],\n",
       "       [ 4,  5,  6],\n",
       "       [ 7,  8,  9],\n",
       "       [10, 11, 12]])"
      ]
     },
     "execution_count": 77,
     "metadata": {},
     "output_type": "execute_result"
    }
   ],
   "source": [
    "matrix_new = np.array([\n",
    "    [1,2,3], \n",
    "    [4,5,6], \n",
    "    [7,8,9],\n",
    "    [10,11,12]\n",
    "])\n",
    "\n",
    "matrix_new"
   ]
  },
  {
   "cell_type": "code",
   "execution_count": 79,
   "id": "8274b160-33ab-4287-bc6f-f700e118b6dc",
   "metadata": {},
   "outputs": [
    {
     "data": {
      "text/plain": [
       "array([[ 1,  2,  3,  4,  5,  6],\n",
       "       [ 7,  8,  9, 10, 11, 12]])"
      ]
     },
     "execution_count": 79,
     "metadata": {},
     "output_type": "execute_result"
    }
   ],
   "source": [
    "matrix_new.reshape(2,6)  ## 원소의 총 갯수는 일치해야 한다."
   ]
  },
  {
   "cell_type": "code",
   "execution_count": 80,
   "id": "f662cceb-e602-4664-97b3-798f28561818",
   "metadata": {},
   "outputs": [
    {
     "data": {
      "text/plain": [
       "array([ 1,  2,  3,  4,  5,  6,  7,  8,  9, 10, 11, 12])"
      ]
     },
     "execution_count": 80,
     "metadata": {},
     "output_type": "execute_result"
    }
   ],
   "source": [
    "matrix_new.reshape(-1)  ## -1은 1차원 배열로 변경 "
   ]
  },
  {
   "cell_type": "markdown",
   "id": "4a1967e7-5594-4d59-b464-7be8dec62097",
   "metadata": {},
   "source": [
    "---\n",
    "### 1.10 벡터 및 행렬 전치하기 \n",
    "- transpose\n",
    "---"
   ]
  },
  {
   "cell_type": "code",
   "execution_count": 81,
   "id": "aecbb5ea-c251-4282-94b3-1f6b9966cada",
   "metadata": {},
   "outputs": [
    {
     "data": {
      "text/plain": [
       "array([[ 1,  2,  3],\n",
       "       [ 4,  5,  6],\n",
       "       [ 7,  8,  9],\n",
       "       [10, 11, 12]])"
      ]
     },
     "execution_count": 81,
     "metadata": {},
     "output_type": "execute_result"
    }
   ],
   "source": [
    "matrix_new"
   ]
  },
  {
   "cell_type": "code",
   "execution_count": 83,
   "id": "c13ae114-04bb-4ccb-b1b8-e6c444273aec",
   "metadata": {},
   "outputs": [
    {
     "data": {
      "text/plain": [
       "array([[ 1,  4,  7, 10],\n",
       "       [ 2,  5,  8, 11],\n",
       "       [ 3,  6,  9, 12]])"
      ]
     },
     "execution_count": 83,
     "metadata": {},
     "output_type": "execute_result"
    }
   ],
   "source": [
    "matrix_new.T"
   ]
  },
  {
   "cell_type": "code",
   "execution_count": 84,
   "id": "bf7366d6-46c5-459f-a0ef-db6afd8b4166",
   "metadata": {},
   "outputs": [
    {
     "data": {
      "text/plain": [
       "array([[1, 2, 3, 4, 5, 6, 7]])"
      ]
     },
     "execution_count": 84,
     "metadata": {},
     "output_type": "execute_result"
    }
   ],
   "source": [
    "np.array([\n",
    "    [1,2,3,4,5,6,7]\n",
    "])"
   ]
  },
  {
   "cell_type": "code",
   "execution_count": 85,
   "id": "bb8cbc5f-c560-485d-b6de-b9c7ceb29356",
   "metadata": {},
   "outputs": [
    {
     "data": {
      "text/plain": [
       "array([[1],\n",
       "       [2],\n",
       "       [3],\n",
       "       [4],\n",
       "       [5],\n",
       "       [6],\n",
       "       [7]])"
      ]
     },
     "execution_count": 85,
     "metadata": {},
     "output_type": "execute_result"
    }
   ],
   "source": [
    "np.array([\n",
    "    [1,2,3,4,5,6,7]\n",
    "]).T"
   ]
  },
  {
   "cell_type": "markdown",
   "id": "6c69b976-549a-49e1-861b-5eaca9df97fe",
   "metadata": {},
   "source": [
    "---\n",
    "### 1.17 벡터간 곱하기  \n",
    "- matmul, @ \n",
    "---"
   ]
  },
  {
   "cell_type": "code",
   "execution_count": 92,
   "id": "2bb0a253-ed5a-4e9d-95d4-96934434ba66",
   "metadata": {},
   "outputs": [
    {
     "data": {
      "text/plain": [
       "32"
      ]
     },
     "execution_count": 92,
     "metadata": {},
     "output_type": "execute_result"
    }
   ],
   "source": [
    "vector_a = np.array([1,2,3])\n",
    "vector_b = np.array([4,5,6])\n",
    "\n",
    "np.matmul(vector_a, vector_b)"
   ]
  },
  {
   "cell_type": "code",
   "execution_count": 95,
   "id": "374c74ca-bf6f-470d-b4ca-fabfb6b826ec",
   "metadata": {},
   "outputs": [
    {
     "data": {
      "text/plain": [
       "32"
      ]
     },
     "execution_count": 95,
     "metadata": {},
     "output_type": "execute_result"
    }
   ],
   "source": [
    "## matmul을 간단하기 @로 대체 가능 \n",
    "vector_a @ vector_b"
   ]
  },
  {
   "cell_type": "markdown",
   "id": "62b251dd-e197-41d1-8278-ca209dead1a7",
   "metadata": {},
   "source": [
    "---\n",
    "### 1.18 행렬의 덧셈, 뺄셈\n",
    "### 1.19 행렬의 곱셈\n",
    "---"
   ]
  },
  {
   "cell_type": "code",
   "execution_count": 96,
   "id": "7bbd61f4-d4d9-402f-9ad8-648fef959918",
   "metadata": {},
   "outputs": [],
   "source": [
    "matrix_a = np.array([\n",
    "    [1,1,1], \n",
    "    [1,1,1],\n",
    "    [1,1,2]\n",
    "])\n",
    "\n",
    "matrix_b = np.array([\n",
    "    [1,3,1], \n",
    "    [1,3,1], \n",
    "    [1,3,8]\n",
    "])"
   ]
  },
  {
   "cell_type": "code",
   "execution_count": 97,
   "id": "851dc21d-c9f5-4e5c-a183-ce27b045f332",
   "metadata": {},
   "outputs": [
    {
     "data": {
      "text/plain": [
       "array([[ 2,  4,  2],\n",
       "       [ 2,  4,  2],\n",
       "       [ 2,  4, 10]])"
      ]
     },
     "execution_count": 97,
     "metadata": {},
     "output_type": "execute_result"
    }
   ],
   "source": [
    "np.add(matrix_a, matrix_b)"
   ]
  },
  {
   "cell_type": "code",
   "execution_count": 98,
   "id": "813f2c8c-5328-4df0-965f-aa39ed1c55fc",
   "metadata": {},
   "outputs": [
    {
     "data": {
      "text/plain": [
       "array([[ 2,  4,  2],\n",
       "       [ 2,  4,  2],\n",
       "       [ 2,  4, 10]])"
      ]
     },
     "execution_count": 98,
     "metadata": {},
     "output_type": "execute_result"
    }
   ],
   "source": [
    "matrix_a + matrix_b"
   ]
  },
  {
   "cell_type": "code",
   "execution_count": 99,
   "id": "437058d2-f867-4985-a2b4-d1834dd3c29f",
   "metadata": {},
   "outputs": [
    {
     "data": {
      "text/plain": [
       "array([[ 0, -2,  0],\n",
       "       [ 0, -2,  0],\n",
       "       [ 0, -2, -6]])"
      ]
     },
     "execution_count": 99,
     "metadata": {},
     "output_type": "execute_result"
    }
   ],
   "source": [
    "np.subtract(matrix_a, matrix_b)"
   ]
  },
  {
   "cell_type": "code",
   "execution_count": 100,
   "id": "b0891ab5-2443-4818-af3d-288a01849128",
   "metadata": {},
   "outputs": [
    {
     "data": {
      "text/plain": [
       "array([[ 0, -2,  0],\n",
       "       [ 0, -2,  0],\n",
       "       [ 0, -2, -6]])"
      ]
     },
     "execution_count": 100,
     "metadata": {},
     "output_type": "execute_result"
    }
   ],
   "source": [
    "matrix_a - matrix_b"
   ]
  },
  {
   "cell_type": "code",
   "execution_count": 101,
   "id": "9c96508f-b4b5-4218-b98d-6f3c04181a43",
   "metadata": {},
   "outputs": [
    {
     "data": {
      "text/plain": [
       "array([[ 3,  9, 10],\n",
       "       [ 3,  9, 10],\n",
       "       [ 4, 12, 18]])"
      ]
     },
     "execution_count": 101,
     "metadata": {},
     "output_type": "execute_result"
    }
   ],
   "source": [
    "np.matmul(matrix_a, matrix_b)"
   ]
  },
  {
   "cell_type": "code",
   "execution_count": 102,
   "id": "ad80d1c9-5a66-4ef6-a498-8ebdae5b9dcc",
   "metadata": {},
   "outputs": [
    {
     "data": {
      "text/plain": [
       "array([[ 3,  9, 10],\n",
       "       [ 3,  9, 10],\n",
       "       [ 4, 12, 18]])"
      ]
     },
     "execution_count": 102,
     "metadata": {},
     "output_type": "execute_result"
    }
   ],
   "source": [
    "matrix_a @ matrix_b"
   ]
  },
  {
   "cell_type": "code",
   "execution_count": 103,
   "id": "792ecb1d-d57e-46e9-b17f-9daa6c629740",
   "metadata": {},
   "outputs": [
    {
     "data": {
      "text/plain": [
       "array([[ 1,  3,  1],\n",
       "       [ 1,  3,  1],\n",
       "       [ 1,  3, 16]])"
      ]
     },
     "execution_count": 103,
     "metadata": {},
     "output_type": "execute_result"
    }
   ],
   "source": [
    "## 주의!! 원소별 곱셈을 할때는 *를 사용 \n",
    "matrix_a * matrix_b"
   ]
  },
  {
   "cell_type": "markdown",
   "id": "b6694fc2-7c4c-45a6-b0f3-51412a715e17",
   "metadata": {},
   "source": [
    "---\n",
    "### 1.21 난수 생성\n",
    "---"
   ]
  },
  {
   "cell_type": "code",
   "execution_count": 113,
   "id": "413810f2-7f6c-44d0-b8ed-61b9357ec746",
   "metadata": {},
   "outputs": [
    {
     "data": {
      "text/plain": [
       "array([0.38344152, 0.79172504, 0.52889492])"
      ]
     },
     "execution_count": 113,
     "metadata": {},
     "output_type": "execute_result"
    }
   ],
   "source": [
    "np.random.random(3) ## 3개의 난수 생성 (0~1사이)"
   ]
  },
  {
   "cell_type": "code",
   "execution_count": 114,
   "id": "b3f30e9e-d5fe-40b0-9e31-ffbffa3a8c1b",
   "metadata": {},
   "outputs": [
    {
     "data": {
      "text/plain": [
       "array([8, 1, 5, 9, 8])"
      ]
     },
     "execution_count": 114,
     "metadata": {},
     "output_type": "execute_result"
    }
   ],
   "source": [
    "## 1~10 사이의 정수 난수 5개를 만들어라 \n",
    "np.random.randint(0, 11, 5)"
   ]
  },
  {
   "cell_type": "code",
   "execution_count": 115,
   "id": "03595163-1fa3-423c-b426-8527aa08023d",
   "metadata": {},
   "outputs": [
    {
     "data": {
      "text/plain": [
       "array([ 0.48431215,  0.57914048, -0.18158257])"
      ]
     },
     "execution_count": 115,
     "metadata": {},
     "output_type": "execute_result"
    }
   ],
   "source": [
    "## mean = 0, std = 1.0인 정규분포에서 난수 만들기 \n",
    "np.random.normal(0, 1.0, 3)"
   ]
  },
  {
   "cell_type": "code",
   "execution_count": 117,
   "id": "09e55582-22e7-4456-924b-157d933a9cd6",
   "metadata": {},
   "outputs": [
    {
     "data": {
      "text/plain": [
       "array([4.77867567, 3.08739329, 2.65864776, 2.05822245])"
      ]
     },
     "execution_count": 117,
     "metadata": {},
     "output_type": "execute_result"
    }
   ],
   "source": [
    "## 1 to 5의 값을 가진 uniform 분포에서 난수 만들기 \n",
    "np.random.uniform(1, 5, 4)"
   ]
  },
  {
   "cell_type": "code",
   "execution_count": 122,
   "id": "87a8f932-20ee-40aa-9a0b-2e41ffed4912",
   "metadata": {},
   "outputs": [
    {
     "data": {
      "text/plain": [
       "array([[-0.45792242,  0.4253934 , -0.02797118],\n",
       "       [ 1.47598983,  0.6467801 , -0.36433431],\n",
       "       [-0.67877739, -0.35362786, -0.74074747],\n",
       "       [-0.67502183, -0.13278426,  0.61980106],\n",
       "       [ 1.79116846,  0.17100044, -1.72567135]])"
      ]
     },
     "execution_count": 122,
     "metadata": {},
     "output_type": "execute_result"
    }
   ],
   "source": [
    "## 표준정규분포로 부터 5x3 난수행렬 만들기 (mean=0, std=1)\n",
    "np.random.standard_normal((5,3))"
   ]
  },
  {
   "cell_type": "code",
   "execution_count": 126,
   "id": "b180f17d-0bef-4985-874a-032c4e67605d",
   "metadata": {},
   "outputs": [
    {
     "data": {
      "text/plain": [
       "array([5, 0])"
      ]
     },
     "execution_count": 126,
     "metadata": {},
     "output_type": "execute_result"
    }
   ],
   "source": [
    "## cf. choic : 배열에서 랜덤하게 지정한 갯수만큼 숫자를 뽑는다 \n",
    "np.random.choice([3, 5, 9, 1, 0 ], 2)"
   ]
  },
  {
   "cell_type": "code",
   "execution_count": 133,
   "id": "802973d1-1eb6-4c33-b12a-601eba14c2a6",
   "metadata": {},
   "outputs": [
    {
     "data": {
      "text/plain": [
       "array([2, 7, 5, 4, 3, 1, 6])"
      ]
     },
     "execution_count": 133,
     "metadata": {},
     "output_type": "execute_result"
    }
   ],
   "source": [
    "## cf. shuffle : 배열을 섞는다. \n",
    "x1 = np.array([1,2,3,4,5,6,7])\n",
    "\n",
    "np.random.shuffle(x1)\n",
    "x1"
   ]
  },
  {
   "cell_type": "code",
   "execution_count": null,
   "id": "6e0cd8ee-e10f-4bc0-b632-eb718c790b8f",
   "metadata": {},
   "outputs": [],
   "source": []
  }
 ],
 "metadata": {
  "kernelspec": {
   "display_name": "Python 3",
   "language": "python",
   "name": "python3"
  },
  "language_info": {
   "codemirror_mode": {
    "name": "ipython",
    "version": 3
   },
   "file_extension": ".py",
   "mimetype": "text/x-python",
   "name": "python",
   "nbconvert_exporter": "python",
   "pygments_lexer": "ipython3",
   "version": "3.8.8"
  }
 },
 "nbformat": 4,
 "nbformat_minor": 5
}
