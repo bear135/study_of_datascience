{
  "nbformat": 4,
  "nbformat_minor": 5,
  "metadata": {
    "kernelspec": {
      "display_name": "Python 3",
      "language": "python",
      "name": "python3"
    },
    "language_info": {
      "codemirror_mode": {
        "name": "ipython",
        "version": 3
      },
      "file_extension": ".py",
      "mimetype": "text/x-python",
      "name": "python",
      "nbconvert_exporter": "python",
      "pygments_lexer": "ipython3",
      "version": "3.8.8"
    },
    "colab": {
      "name": "chp02_Loading Data.ipynb",
      "provenance": [],
      "include_colab_link": true
    }
  },
  "cells": [
    {
      "cell_type": "markdown",
      "metadata": {
        "id": "view-in-github",
        "colab_type": "text"
      },
      "source": [
        "<a href=\"https://colab.research.google.com/github/bear135/study_of_datascience/blob/master/29.ML_learning_with_python_cookbook/chp02_Loading%20Data.ipynb\" target=\"_parent\"><img src=\"https://colab.research.google.com/assets/colab-badge.svg\" alt=\"Open In Colab\"/></a>"
      ]
    },
    {
      "cell_type": "code",
      "metadata": {
        "id": "6bbde786-7c7a-4e75-9fd4-ed78fcdc5227"
      },
      "source": [
        "import pandas as pd"
      ],
      "id": "6bbde786-7c7a-4e75-9fd4-ed78fcdc5227",
      "execution_count": 1,
      "outputs": []
    },
    {
      "cell_type": "code",
      "metadata": {
        "id": "ct0bG3IRYUfB"
      },
      "source": [
        ""
      ],
      "id": "ct0bG3IRYUfB",
      "execution_count": null,
      "outputs": []
    }
  ]
}