{
  "nbformat": 4,
  "nbformat_minor": 5,
  "metadata": {
    "kernelspec": {
      "display_name": "Python 3",
      "language": "python",
      "name": "python3"
    },
    "language_info": {
      "codemirror_mode": {
        "name": "ipython",
        "version": 3
      },
      "file_extension": ".py",
      "mimetype": "text/x-python",
      "name": "python",
      "nbconvert_exporter": "python",
      "pygments_lexer": "ipython3",
      "version": "3.8.8"
    },
    "colab": {
      "name": "chp02_Loading Data.ipynb",
      "provenance": []
    }
  },
  "cells": [
    {
      "cell_type": "code",
      "metadata": {
        "id": "6bbde786-7c7a-4e75-9fd4-ed78fcdc5227"
      },
      "source": [
        "import pandas as pd\n",
        "from sklearn import datasets"
      ],
      "id": "6bbde786-7c7a-4e75-9fd4-ed78fcdc5227",
      "execution_count": 2,
      "outputs": []
    },
    {
      "cell_type": "markdown",
      "metadata": {
        "id": "z9CeCyyno4ip"
      },
      "source": [
        "---\n",
        "### 2.1 샘플 데이터 적재하기\n",
        "---"
      ],
      "id": "z9CeCyyno4ip"
    },
    {
      "cell_type": "markdown",
      "metadata": {
        "id": "RIKlO8Q8o2Gd"
      },
      "source": [
        ""
      ],
      "id": "RIKlO8Q8o2Gd"
    },
    {
      "cell_type": "code",
      "metadata": {
        "id": "zeKEfrKho3LW"
      },
      "source": [
        ""
      ],
      "id": "zeKEfrKho3LW",
      "execution_count": null,
      "outputs": []
    }
  ]
}