{
  "nbformat": 4,
  "nbformat_minor": 5,
  "metadata": {
    "kernelspec": {
      "display_name": "Python 3",
      "language": "python",
      "name": "python3"
    },
    "language_info": {
      "codemirror_mode": {
        "name": "ipython",
        "version": 3
      },
      "file_extension": ".py",
      "mimetype": "text/x-python",
      "name": "python",
      "nbconvert_exporter": "python",
      "pygments_lexer": "ipython3",
      "version": "3.8.8"
    },
    "colab": {
      "name": "chp02_Loading Data.ipynb",
      "provenance": []
    }
  },
  "cells": [
    {
      "cell_type": "code",
      "metadata": {
        "id": "6bbde786-7c7a-4e75-9fd4-ed78fcdc5227"
      },
      "source": [
        "import numpy as np \n",
        "import pandas as pd\n",
        "from sklearn import datasets"
      ],
      "id": "6bbde786-7c7a-4e75-9fd4-ed78fcdc5227",
      "execution_count": 3,
      "outputs": []
    },
    {
      "cell_type": "markdown",
      "metadata": {
        "id": "z9CeCyyno4ip"
      },
      "source": [
        "---\n",
        "### 2.1 샘플 데이터 적재하기\n",
        "> 사이킷런의 toy datasets\n",
        "- load_boston : 보스턴 주택가격에 대한 503개의 샘플, Regression 학습용 \n",
        "- load_iris : 150개의 iris 데이터, 분류학습용 \n",
        "- load_digits : 손으로 쓴 숫자 이미지 1,979개, 이미지 분류 학습용\n",
        "\n",
        "---"
      ],
      "id": "z9CeCyyno4ip"
    },
    {
      "cell_type": "code",
      "metadata": {
        "colab": {
          "base_uri": "https://localhost:8080/"
        },
        "id": "zeKEfrKho3LW",
        "outputId": "d1c6a0a3-4277-411f-8a0d-28b567c47dcd"
      },
      "source": [
        "digits = datasets.load_digits()\n",
        "## 특성과 타겟 행렬 생성 \n",
        "features = digits.data\n",
        "target = digits.target\n",
        "## 첫번째 샘플 확인\n",
        "features[0]"
      ],
      "id": "zeKEfrKho3LW",
      "execution_count": 4,
      "outputs": [
        {
          "output_type": "execute_result",
          "data": {
            "text/plain": [
              "array([ 0.,  0.,  5., 13.,  9.,  1.,  0.,  0.,  0.,  0., 13., 15., 10.,\n",
              "       15.,  5.,  0.,  0.,  3., 15.,  2.,  0., 11.,  8.,  0.,  0.,  4.,\n",
              "       12.,  0.,  0.,  8.,  8.,  0.,  0.,  5.,  8.,  0.,  0.,  9.,  8.,\n",
              "        0.,  0.,  4., 11.,  0.,  1., 12.,  7.,  0.,  0.,  2., 14.,  5.,\n",
              "       10., 12.,  0.,  0.,  0.,  0.,  6., 13., 10.,  0.,  0.,  0.])"
            ]
          },
          "metadata": {},
          "execution_count": 4
        }
      ]
    },
    {
      "cell_type": "code",
      "metadata": {
        "colab": {
          "base_uri": "https://localhost:8080/"
        },
        "id": "9NR54xyZsR5-",
        "outputId": "1060c631-2dbc-4b5d-b2c6-0492c0e2e44c"
      },
      "source": [
        "## key값 출력\n",
        "digits.keys()"
      ],
      "id": "9NR54xyZsR5-",
      "execution_count": 8,
      "outputs": [
        {
          "output_type": "execute_result",
          "data": {
            "text/plain": [
              "dict_keys(['data', 'target', 'frame', 'feature_names', 'target_names', 'images', 'DESCR'])"
            ]
          },
          "metadata": {},
          "execution_count": 8
        }
      ]
    },
    {
      "cell_type": "code",
      "metadata": {
        "colab": {
          "base_uri": "https://localhost:8080/",
          "height": 127
        },
        "id": "KU0XLHzusbnL",
        "outputId": "04c7a920-64b3-47bb-bfdb-f46fc4464da0"
      },
      "source": [
        "## description 출력 \n",
        "digits['DESCR'][:1000]"
      ],
      "id": "KU0XLHzusbnL",
      "execution_count": 14,
      "outputs": [
        {
          "output_type": "execute_result",
          "data": {
            "application/vnd.google.colaboratory.intrinsic+json": {
              "type": "string"
            },
            "text/plain": [
              "\".. _digits_dataset:\\n\\nOptical recognition of handwritten digits dataset\\n--------------------------------------------------\\n\\n**Data Set Characteristics:**\\n\\n    :Number of Instances: 1797\\n    :Number of Attributes: 64\\n    :Attribute Information: 8x8 image of integer pixels in the range 0..16.\\n    :Missing Attribute Values: None\\n    :Creator: E. Alpaydin (alpaydin '@' boun.edu.tr)\\n    :Date: July; 1998\\n\\nThis is a copy of the test set of the UCI ML hand-written digits datasets\\nhttps://archive.ics.uci.edu/ml/datasets/Optical+Recognition+of+Handwritten+Digits\\n\\nThe data set contains images of hand-written digits: 10 classes where\\neach class refers to a digit.\\n\\nPreprocessing programs made available by NIST were used to extract\\nnormalized bitmaps of handwritten digits from a preprinted form. From a\\ntotal of 43 people, 30 contributed to the training set and different 13\\nto the test set. 32x32 bitmaps are divided into nonoverlapping blocks of\\n4x4 and the number of on pixels are counted in each blo\""
            ]
          },
          "metadata": {},
          "execution_count": 14
        }
      ]
    },
    {
      "cell_type": "markdown",
      "metadata": {
        "id": "FcQWLysJtWtE"
      },
      "source": [
        "---\n",
        "### 2.2 모의 데이터셋 만들기\n",
        "---"
      ],
      "id": "FcQWLysJtWtE"
    },
    {
      "cell_type": "code",
      "metadata": {
        "id": "Cx8es9RBtaeS"
      },
      "source": [
        "from sklearn.datasets import make_regression      ## 선형회귀용 데이터셋 \n",
        "from sklearn.datasets import make_classification  ## 분류용 데이터셋\n",
        "from sklearn.datasets import make_blobs           ## 군집용 데이터셋\n",
        "\n",
        "import matplotlib.pyplot as plt "
      ],
      "id": "Cx8es9RBtaeS",
      "execution_count": 16,
      "outputs": []
    },
    {
      "cell_type": "code",
      "metadata": {
        "colab": {
          "base_uri": "https://localhost:8080/"
        },
        "id": "_AHN8J7fuDDy",
        "outputId": "a931a359-341c-4926-94ea-96b27665b422"
      },
      "source": [
        "## 1. linear regression : 특성행렬, 타겟벡터, 정답계수 생성 \n",
        "features, target, coefficients = make_regression(n_samples = 100, \n",
        "                                                 n_features = 3, \n",
        "                                                 n_informative = 3, \n",
        "                                                 n_targets = 1, \n",
        "                                                 noise = 0.0, \n",
        "                                                 coef = True, \n",
        "                                                 random_state = 1\n",
        "                                                 )\n",
        "\n",
        "print(\"Feature_matrix\", \"\\n\", features[:5])\n",
        "print(\"Target_vector\", \"\\n\", target[:5])"
      ],
      "id": "_AHN8J7fuDDy",
      "execution_count": 17,
      "outputs": [
        {
          "output_type": "stream",
          "name": "stdout",
          "text": [
            "Feature_matrix \n",
            " [[ 1.29322588 -0.61736206 -0.11044703]\n",
            " [-2.793085    0.36633201  1.93752881]\n",
            " [ 0.80186103 -0.18656977  0.0465673 ]\n",
            " [ 0.12910158  0.50274088  1.6169496 ]\n",
            " [-0.69166075 -0.6871727  -0.39675353]]\n",
            "Target_vector \n",
            " [ -10.37865986   25.5124503    19.67705609  149.50205427 -121.65210879]\n"
          ]
        }
      ]
    },
    {
      "cell_type": "code",
      "metadata": {
        "colab": {
          "base_uri": "https://localhost:8080/"
        },
        "id": "TQZsH2qzvJa6",
        "outputId": "5d225d28-b7eb-41f0-bf28-0b6709419e44"
      },
      "source": [
        "## 2. classification : 특성행렬, 타겟벡터 생성 \n",
        "features, target = make_classification(n_samples = 100, \n",
        "                                      n_features = 3, \n",
        "                                      n_informative = 3, \n",
        "                                      n_redundant = 0, \n",
        "                                      n_classes = 2, \n",
        "                                      weights = [.25, .75], \n",
        "                                      random_state = 1\n",
        "                                      )\n",
        "\n",
        "print(\"Feature_matrix\", \"\\n\", features[:5])\n",
        "print(\"Target_vector\", \"\\n\", target[:5])"
      ],
      "id": "TQZsH2qzvJa6",
      "execution_count": 22,
      "outputs": [
        {
          "output_type": "stream",
          "name": "stdout",
          "text": [
            "Feature_matrix \n",
            " [[ 1.06354768 -1.42632219  1.02163151]\n",
            " [ 0.23156977  1.49535261  0.33251578]\n",
            " [ 0.15972951  0.83533515 -0.40869554]\n",
            " [-0.70612133 -1.03281003  1.39477986]\n",
            " [ 0.8444902  -0.61997189  1.08791124]]\n",
            "Target_vector \n",
            " [1 0 0 1 1]\n"
          ]
        }
      ]
    },
    {
      "cell_type": "code",
      "metadata": {
        "colab": {
          "base_uri": "https://localhost:8080/"
        },
        "id": "_jNg4EhVv7YT",
        "outputId": "7d2ba106-d178-4b17-d72f-6f41fb152aa7"
      },
      "source": [
        "## 3. clustering : 특성행렬, 타겟벡터 생성 \n",
        "features, target = make_blobs(n_samples = 100, \n",
        "                              n_features = 2, \n",
        "                              centers = 3, \n",
        "                              cluster_std = 0.5, \n",
        "                              shuffle = True, \n",
        "                              random_state = 1\n",
        "                              )\n",
        "\n",
        "print(\"Feature_matrix\", \"\\n\", features[:5])\n",
        "print(\"Target_vector\", \"\\n\", target[:5])"
      ],
      "id": "_jNg4EhVv7YT",
      "execution_count": 24,
      "outputs": [
        {
          "output_type": "stream",
          "name": "stdout",
          "text": [
            "Feature_matrix \n",
            " [[ -1.22685609   3.25572052]\n",
            " [ -9.57463218  -4.38310652]\n",
            " [-10.71976941  -4.20558148]\n",
            " [ -9.88266514  -3.57234296]\n",
            " [ -5.80071933  -8.27754549]]\n",
            "Target_vector \n",
            " [0 1 1 1 2]\n"
          ]
        }
      ]
    },
    {
      "cell_type": "code",
      "metadata": {
        "colab": {
          "base_uri": "https://localhost:8080/",
          "height": 266
        },
        "id": "-PqbsGEXwja0",
        "outputId": "a00b544f-82fa-4dca-a7db-3a0106eb05f8"
      },
      "source": [
        "## make_blobs의 결과로 지정한대로 3개의 군집이 생성되었다. \n",
        "plt.scatter(features[:,0], features[:,1], c = target)\n",
        "plt.show()"
      ],
      "id": "-PqbsGEXwja0",
      "execution_count": 26,
      "outputs": [
        {
          "output_type": "display_data",
          "data": {
            "image/png": "[encoded data removed]",
            "text/plain": [
              "<Figure size 432x288 with 1 Axes>"
            ]
          },
          "metadata": {
            "needs_background": "light"
          }
        }
      ]
    },
    {
      "cell_type": "markdown",
      "metadata": {
        "id": "IHudYamBxp4d"
      },
      "source": [
        "---\n",
        "### 2.3 CSV 파일 적재 \n",
        "- pandas의 read_csv를 사용 \n",
        "- skiprows : 읽어올때 건너뛸 행의 갯수를 지정\n",
        "- nrows : 읽어올 행의 갯수를 지정\n",
        "---"
      ],
      "id": "IHudYamBxp4d"
    },
    {
      "cell_type": "code",
      "metadata": {
        "colab": {
          "base_uri": "https://localhost:8080/",
          "height": 206
        },
        "id": "_6wh7UrTxJDJ",
        "outputId": "bea3ee84-5b66-4c2b-fa99-186dd528c54b"
      },
      "source": [
        "url = 'http://tinyurl.com/simulated-data'\n",
        "df = pd.read_csv(url)\n",
        "df.head()"
      ],
      "id": "_6wh7UrTxJDJ",
      "execution_count": 27,
      "outputs": [
        {
          "output_type": "execute_result",
          "data": {
            "text/html": [
              "<div>\n",
              "<style scoped>\n",
              "    .dataframe tbody tr th:only-of-type {\n",
              "        vertical-align: middle;\n",
              "    }\n",
              "\n",
              "    .dataframe tbody tr th {\n",
              "        vertical-align: top;\n",
              "    }\n",
              "\n",
              "    .dataframe thead th {\n",
              "        text-align: right;\n",
              "    }\n",
              "</style>\n",
              "<table border=\"1\" class=\"dataframe\">\n",
              "  <thead>\n",
              "    <tr style=\"text-align: right;\">\n",
              "      <th></th>\n",
              "      <th>integer</th>\n",
              "      <th>datetime</th>\n",
              "      <th>category</th>\n",
              "    </tr>\n",
              "  </thead>\n",
              "  <tbody>\n",
              "    <tr>\n",
              "      <th>0</th>\n",
              "      <td>5</td>\n",
              "      <td>2015-01-01 00:00:00</td>\n",
              "      <td>0</td>\n",
              "    </tr>\n",
              "    <tr>\n",
              "      <th>1</th>\n",
              "      <td>5</td>\n",
              "      <td>2015-01-01 00:00:01</td>\n",
              "      <td>0</td>\n",
              "    </tr>\n",
              "    <tr>\n",
              "      <th>2</th>\n",
              "      <td>9</td>\n",
              "      <td>2015-01-01 00:00:02</td>\n",
              "      <td>0</td>\n",
              "    </tr>\n",
              "    <tr>\n",
              "      <th>3</th>\n",
              "      <td>6</td>\n",
              "      <td>2015-01-01 00:00:03</td>\n",
              "      <td>0</td>\n",
              "    </tr>\n",
              "    <tr>\n",
              "      <th>4</th>\n",
              "      <td>6</td>\n",
              "      <td>2015-01-01 00:00:04</td>\n",
              "      <td>0</td>\n",
              "    </tr>\n",
              "  </tbody>\n",
              "</table>\n",
              "</div>"
            ],
            "text/plain": [
              "   integer             datetime  category\n",
              "0        5  2015-01-01 00:00:00         0\n",
              "1        5  2015-01-01 00:00:01         0\n",
              "2        9  2015-01-01 00:00:02         0\n",
              "3        6  2015-01-01 00:00:03         0\n",
              "4        6  2015-01-01 00:00:04         0"
            ]
          },
          "metadata": {},
          "execution_count": 27
        }
      ]
    },
    {
      "cell_type": "code",
      "metadata": {
        "colab": {
          "base_uri": "https://localhost:8080/",
          "height": 363
        },
        "id": "U__lGMvPxpi3",
        "outputId": "dd7e2029-79c1-4166-a259-daab4577f325"
      },
      "source": [
        "df2 = pd.read_csv(url, skiprows = 5, nrows = 10)\n",
        "df2"
      ],
      "id": "U__lGMvPxpi3",
      "execution_count": 29,
      "outputs": [
        {
          "output_type": "execute_result",
          "data": {
            "text/html": [
              "<div>\n",
              "<style scoped>\n",
              "    .dataframe tbody tr th:only-of-type {\n",
              "        vertical-align: middle;\n",
              "    }\n",
              "\n",
              "    .dataframe tbody tr th {\n",
              "        vertical-align: top;\n",
              "    }\n",
              "\n",
              "    .dataframe thead th {\n",
              "        text-align: right;\n",
              "    }\n",
              "</style>\n",
              "<table border=\"1\" class=\"dataframe\">\n",
              "  <thead>\n",
              "    <tr style=\"text-align: right;\">\n",
              "      <th></th>\n",
              "      <th>6</th>\n",
              "      <th>2015-01-01 00:00:04</th>\n",
              "      <th>0</th>\n",
              "    </tr>\n",
              "  </thead>\n",
              "  <tbody>\n",
              "    <tr>\n",
              "      <th>0</th>\n",
              "      <td>9</td>\n",
              "      <td>2015-01-01 00:00:05</td>\n",
              "      <td>0</td>\n",
              "    </tr>\n",
              "    <tr>\n",
              "      <th>1</th>\n",
              "      <td>7</td>\n",
              "      <td>2015-01-01 00:00:06</td>\n",
              "      <td>0</td>\n",
              "    </tr>\n",
              "    <tr>\n",
              "      <th>2</th>\n",
              "      <td>1</td>\n",
              "      <td>2015-01-01 00:00:07</td>\n",
              "      <td>0</td>\n",
              "    </tr>\n",
              "    <tr>\n",
              "      <th>3</th>\n",
              "      <td>6</td>\n",
              "      <td>2015-01-01 00:00:08</td>\n",
              "      <td>0</td>\n",
              "    </tr>\n",
              "    <tr>\n",
              "      <th>4</th>\n",
              "      <td>9</td>\n",
              "      <td>2015-01-01 00:00:09</td>\n",
              "      <td>0</td>\n",
              "    </tr>\n",
              "    <tr>\n",
              "      <th>5</th>\n",
              "      <td>5</td>\n",
              "      <td>2015-01-01 00:00:10</td>\n",
              "      <td>0</td>\n",
              "    </tr>\n",
              "    <tr>\n",
              "      <th>6</th>\n",
              "      <td>5</td>\n",
              "      <td>2015-01-01 00:00:11</td>\n",
              "      <td>0</td>\n",
              "    </tr>\n",
              "    <tr>\n",
              "      <th>7</th>\n",
              "      <td>8</td>\n",
              "      <td>2015-01-01 00:00:12</td>\n",
              "      <td>0</td>\n",
              "    </tr>\n",
              "    <tr>\n",
              "      <th>8</th>\n",
              "      <td>9</td>\n",
              "      <td>2015-01-01 00:00:13</td>\n",
              "      <td>0</td>\n",
              "    </tr>\n",
              "    <tr>\n",
              "      <th>9</th>\n",
              "      <td>8</td>\n",
              "      <td>2015-01-01 00:00:14</td>\n",
              "      <td>0</td>\n",
              "    </tr>\n",
              "  </tbody>\n",
              "</table>\n",
              "</div>"
            ],
            "text/plain": [
              "   6  2015-01-01 00:00:04  0\n",
              "0  9  2015-01-01 00:00:05  0\n",
              "1  7  2015-01-01 00:00:06  0\n",
              "2  1  2015-01-01 00:00:07  0\n",
              "3  6  2015-01-01 00:00:08  0\n",
              "4  9  2015-01-01 00:00:09  0\n",
              "5  5  2015-01-01 00:00:10  0\n",
              "6  5  2015-01-01 00:00:11  0\n",
              "7  8  2015-01-01 00:00:12  0\n",
              "8  9  2015-01-01 00:00:13  0\n",
              "9  8  2015-01-01 00:00:14  0"
            ]
          },
          "metadata": {},
          "execution_count": 29
        }
      ]
    },
    {
      "cell_type": "markdown",
      "metadata": {
        "id": "pi5NIFMe3snO"
      },
      "source": [
        "---\n",
        "### 2.4 엑셀파일 적재하기\n",
        "- 패키지 설치 필요: pip install xlrd \n",
        "- sheet_name 옵션 필요 \n",
        "---"
      ],
      "id": "pi5NIFMe3snO"
    },
    {
      "cell_type": "code",
      "metadata": {
        "colab": {
          "base_uri": "https://localhost:8080/"
        },
        "id": "5bZmzpp5xvWx",
        "outputId": "6749ea44-f233-43a6-8ad3-741e9f9ddb41"
      },
      "source": [
        "!pip install xlrd"
      ],
      "id": "5bZmzpp5xvWx",
      "execution_count": 30,
      "outputs": [
        {
          "output_type": "stream",
          "name": "stdout",
          "text": [
            "Requirement already satisfied: xlrd in /usr/local/lib/python3.7/dist-packages (1.1.0)\n"
          ]
        }
      ]
    },
    {
      "cell_type": "code",
      "metadata": {
        "colab": {
          "base_uri": "https://localhost:8080/",
          "height": 206
        },
        "id": "piyOk2TB3wGo",
        "outputId": "1a700ece-2364-424b-864e-b6623c689166"
      },
      "source": [
        "url = \"http://tinyurl.com/simulated-excel\"\n",
        "\n",
        "df3 = pd.read_excel(url, sheet_name = 0, header = 0) \n",
        "df3.head()"
      ],
      "id": "piyOk2TB3wGo",
      "execution_count": 40,
      "outputs": [
        {
          "output_type": "execute_result",
          "data": {
            "text/html": [
              "<div>\n",
              "<style scoped>\n",
              "    .dataframe tbody tr th:only-of-type {\n",
              "        vertical-align: middle;\n",
              "    }\n",
              "\n",
              "    .dataframe tbody tr th {\n",
              "        vertical-align: top;\n",
              "    }\n",
              "\n",
              "    .dataframe thead th {\n",
              "        text-align: right;\n",
              "    }\n",
              "</style>\n",
              "<table border=\"1\" class=\"dataframe\">\n",
              "  <thead>\n",
              "    <tr style=\"text-align: right;\">\n",
              "      <th></th>\n",
              "      <th>integer</th>\n",
              "      <th>datetime</th>\n",
              "      <th>category</th>\n",
              "    </tr>\n",
              "  </thead>\n",
              "  <tbody>\n",
              "    <tr>\n",
              "      <th>0</th>\n",
              "      <td>5</td>\n",
              "      <td>2015-01-01 00:00:00</td>\n",
              "      <td>0</td>\n",
              "    </tr>\n",
              "    <tr>\n",
              "      <th>1</th>\n",
              "      <td>5</td>\n",
              "      <td>2015-01-01 00:00:01</td>\n",
              "      <td>0</td>\n",
              "    </tr>\n",
              "    <tr>\n",
              "      <th>2</th>\n",
              "      <td>9</td>\n",
              "      <td>2015-01-01 00:00:02</td>\n",
              "      <td>0</td>\n",
              "    </tr>\n",
              "    <tr>\n",
              "      <th>3</th>\n",
              "      <td>6</td>\n",
              "      <td>2015-01-01 00:00:03</td>\n",
              "      <td>0</td>\n",
              "    </tr>\n",
              "    <tr>\n",
              "      <th>4</th>\n",
              "      <td>6</td>\n",
              "      <td>2015-01-01 00:00:04</td>\n",
              "      <td>0</td>\n",
              "    </tr>\n",
              "  </tbody>\n",
              "</table>\n",
              "</div>"
            ],
            "text/plain": [
              "   integer            datetime  category\n",
              "0        5 2015-01-01 00:00:00         0\n",
              "1        5 2015-01-01 00:00:01         0\n",
              "2        9 2015-01-01 00:00:02         0\n",
              "3        6 2015-01-01 00:00:03         0\n",
              "4        6 2015-01-01 00:00:04         0"
            ]
          },
          "metadata": {},
          "execution_count": 40
        }
      ]
    },
    {
      "cell_type": "code",
      "metadata": {
        "colab": {
          "base_uri": "https://localhost:8080/"
        },
        "id": "Qd82GQtG4zFu",
        "outputId": "62fc03c9-c9ce-4ef5-88de-e2a505deb743"
      },
      "source": [
        "df3.info"
      ],
      "id": "Qd82GQtG4zFu",
      "execution_count": 41,
      "outputs": [
        {
          "output_type": "execute_result",
          "data": {
            "text/plain": [
              "<bound method DataFrame.info of     integer            datetime  category\n",
              "0         5 2015-01-01 00:00:00         0\n",
              "1         5 2015-01-01 00:00:01         0\n",
              "2         9 2015-01-01 00:00:02         0\n",
              "3         6 2015-01-01 00:00:03         0\n",
              "4         6 2015-01-01 00:00:04         0\n",
              "..      ...                 ...       ...\n",
              "95        9 2015-01-01 00:01:35         0\n",
              "96        8 2015-01-01 00:01:36         0\n",
              "97        6 2015-01-01 00:01:37         0\n",
              "98        8 2015-01-01 00:01:38         0\n",
              "99        1 2015-01-01 00:01:39         0\n",
              "\n",
              "[100 rows x 3 columns]>"
            ]
          },
          "metadata": {},
          "execution_count": 41
        }
      ]
    },
    {
      "cell_type": "markdown",
      "metadata": {
        "id": "no07yoKC5qFr"
      },
      "source": [
        "---\n",
        "### 2.5 Json 파일 적재하기 \n",
        "- pd.read_json 사용 \n",
        "- orient : json 파일이 어떻게 구성되었는지를 지정 \n",
        " - cf. json 파일의 형태 = cloumn, split, record, index, value 등이 있다. \n",
        " - 가장 많이 쓰이는 column 형태는 {열: {인덱스: 값, ...}, ...} 형태 \n",
        "---"
      ],
      "id": "no07yoKC5qFr"
    },
    {
      "cell_type": "code",
      "metadata": {
        "colab": {
          "base_uri": "https://localhost:8080/",
          "height": 206
        },
        "id": "-KgiWwAm6TSf",
        "outputId": "c3946870-69a6-4db6-e11d-5262f58e5700"
      },
      "source": [
        "url = 'http://tinyurl.com/simulated-json'\n",
        "\n",
        "df4 = pd.read_json(url, orient = 'columns')\n",
        "df4.head()"
      ],
      "id": "-KgiWwAm6TSf",
      "execution_count": 42,
      "outputs": [
        {
          "output_type": "execute_result",
          "data": {
            "text/html": [
              "<div>\n",
              "<style scoped>\n",
              "    .dataframe tbody tr th:only-of-type {\n",
              "        vertical-align: middle;\n",
              "    }\n",
              "\n",
              "    .dataframe tbody tr th {\n",
              "        vertical-align: top;\n",
              "    }\n",
              "\n",
              "    .dataframe thead th {\n",
              "        text-align: right;\n",
              "    }\n",
              "</style>\n",
              "<table border=\"1\" class=\"dataframe\">\n",
              "  <thead>\n",
              "    <tr style=\"text-align: right;\">\n",
              "      <th></th>\n",
              "      <th>integer</th>\n",
              "      <th>datetime</th>\n",
              "      <th>category</th>\n",
              "    </tr>\n",
              "  </thead>\n",
              "  <tbody>\n",
              "    <tr>\n",
              "      <th>0</th>\n",
              "      <td>5</td>\n",
              "      <td>2015-01-01 00:00:00</td>\n",
              "      <td>0</td>\n",
              "    </tr>\n",
              "    <tr>\n",
              "      <th>1</th>\n",
              "      <td>5</td>\n",
              "      <td>2015-01-01 00:00:01</td>\n",
              "      <td>0</td>\n",
              "    </tr>\n",
              "    <tr>\n",
              "      <th>2</th>\n",
              "      <td>9</td>\n",
              "      <td>2015-01-01 00:00:02</td>\n",
              "      <td>0</td>\n",
              "    </tr>\n",
              "    <tr>\n",
              "      <th>3</th>\n",
              "      <td>6</td>\n",
              "      <td>2015-01-01 00:00:03</td>\n",
              "      <td>0</td>\n",
              "    </tr>\n",
              "    <tr>\n",
              "      <th>4</th>\n",
              "      <td>6</td>\n",
              "      <td>2015-01-01 00:00:04</td>\n",
              "      <td>0</td>\n",
              "    </tr>\n",
              "  </tbody>\n",
              "</table>\n",
              "</div>"
            ],
            "text/plain": [
              "   integer            datetime  category\n",
              "0        5 2015-01-01 00:00:00         0\n",
              "1        5 2015-01-01 00:00:01         0\n",
              "2        9 2015-01-01 00:00:02         0\n",
              "3        6 2015-01-01 00:00:03         0\n",
              "4        6 2015-01-01 00:00:04         0"
            ]
          },
          "metadata": {},
          "execution_count": 42
        }
      ]
    },
    {
      "cell_type": "code",
      "metadata": {
        "colab": {
          "base_uri": "https://localhost:8080/"
        },
        "id": "EjO3Qirc60pe",
        "outputId": "f589f30f-a7fa-4425-d9b8-0fb0894ff1e6"
      },
      "source": [
        "df4.info"
      ],
      "id": "EjO3Qirc60pe",
      "execution_count": 43,
      "outputs": [
        {
          "output_type": "execute_result",
          "data": {
            "text/plain": [
              "<bound method DataFrame.info of     integer            datetime  category\n",
              "0         5 2015-01-01 00:00:00         0\n",
              "1         5 2015-01-01 00:00:01         0\n",
              "2         9 2015-01-01 00:00:02         0\n",
              "3         6 2015-01-01 00:00:03         0\n",
              "4         6 2015-01-01 00:00:04         0\n",
              "..      ...                 ...       ...\n",
              "95        9 2015-01-01 00:01:35         0\n",
              "96        8 2015-01-01 00:01:36         0\n",
              "97        6 2015-01-01 00:01:37         0\n",
              "98        8 2015-01-01 00:01:38         0\n",
              "99        1 2015-01-01 00:01:39         0\n",
              "\n",
              "[100 rows x 3 columns]>"
            ]
          },
          "metadata": {},
          "execution_count": 43
        }
      ]
    },
    {
      "cell_type": "markdown",
      "metadata": {
        "id": "U7dUetYS8DVn"
      },
      "source": [
        "---\n",
        "### 2.6 SQL DB로 부터 적재하기 \n",
        "- pd.read_sql_query 사용 \n",
        "- sqlalchemy 설치 후, create_engine 함수 사용\n",
        "---"
      ],
      "id": "U7dUetYS8DVn"
    },
    {
      "cell_type": "code",
      "metadata": {
        "colab": {
          "base_uri": "https://localhost:8080/"
        },
        "id": "7zZgS_eO76xX",
        "outputId": "0a38922b-c44c-4035-f771-10f2e249a37d"
      },
      "source": [
        "!pip install sqlalchemy"
      ],
      "id": "7zZgS_eO76xX",
      "execution_count": 44,
      "outputs": [
        {
          "output_type": "stream",
          "name": "stdout",
          "text": [
            "Requirement already satisfied: sqlalchemy in /usr/local/lib/python3.7/dist-packages (1.4.27)\n",
            "Requirement already satisfied: greenlet!=0.4.17 in /usr/local/lib/python3.7/dist-packages (from sqlalchemy) (1.1.2)\n",
            "Requirement already satisfied: importlib-metadata in /usr/local/lib/python3.7/dist-packages (from sqlalchemy) (4.8.2)\n",
            "Requirement already satisfied: zipp>=0.5 in /usr/local/lib/python3.7/dist-packages (from importlib-metadata->sqlalchemy) (3.6.0)\n",
            "Requirement already satisfied: typing-extensions>=3.6.4 in /usr/local/lib/python3.7/dist-packages (from importlib-metadata->sqlalchemy) (3.10.0.2)\n"
          ]
        }
      ]
    },
    {
      "cell_type": "code",
      "metadata": {
        "colab": {
          "base_uri": "https://localhost:8080/"
        },
        "id": "pQwru3kx8Hmf",
        "outputId": "a74255fb-b456-47dc-8e04-44d7ef001467"
      },
      "source": [
        "from sqlalchemy import create_engine \n",
        "## colab에서 실행시에 사용 \n",
        "!wget https://github.com/rickiepark/machine-learning-with-python-cookbook/raw/master/sample.db -O sample.db  \n",
        "db_connection = create_engine('sqlite:///sample.db')"
      ],
      "id": "pQwru3kx8Hmf",
      "execution_count": 52,
      "outputs": [
        {
          "output_type": "stream",
          "name": "stdout",
          "text": [
            "--2021-12-01 08:02:06--  https://github.com/rickiepark/machine-learning-with-python-cookbook/raw/master/sample.db\n",
            "Resolving github.com (github.com)... 140.82.121.3\n",
            "Connecting to github.com (github.com)|140.82.121.3|:443... connected.\n",
            "HTTP request sent, awaiting response... 302 Found\n",
            "Location: https://raw.githubusercontent.com/rickiepark/machine-learning-with-python-cookbook/master/sample.db [following]\n",
            "--2021-12-01 08:02:06--  https://raw.githubusercontent.com/rickiepark/machine-learning-with-python-cookbook/master/sample.db\n",
            "Resolving raw.githubusercontent.com (raw.githubusercontent.com)... 185.199.111.133, 185.199.108.133, 185.199.109.133, ...\n",
            "Connecting to raw.githubusercontent.com (raw.githubusercontent.com)|185.199.111.133|:443... connected.\n",
            "HTTP request sent, awaiting response... 200 OK\n",
            "Length: 8192 (8.0K) [application/octet-stream]\n",
            "Saving to: ‘sample.db’\n",
            "\n",
            "sample.db           100%[===================>]   8.00K  --.-KB/s    in 0s      \n",
            "\n",
            "2021-12-01 08:02:07 (50.3 MB/s) - ‘sample.db’ saved [8192/8192]\n",
            "\n"
          ]
        }
      ]
    },
    {
      "cell_type": "code",
      "metadata": {
        "id": "qtcKiEdi-rs9",
        "outputId": "818d658b-3c30-4ff3-de75-9556ed834f59",
        "colab": {
          "base_uri": "https://localhost:8080/",
          "height": 206
        }
      },
      "source": [
        "## table_name = data \n",
        "df5 = pd.read_sql_query(\"select * from data\", db_connection)\n",
        "df5.head()"
      ],
      "id": "qtcKiEdi-rs9",
      "execution_count": 54,
      "outputs": [
        {
          "output_type": "execute_result",
          "data": {
            "text/html": [
              "<div>\n",
              "<style scoped>\n",
              "    .dataframe tbody tr th:only-of-type {\n",
              "        vertical-align: middle;\n",
              "    }\n",
              "\n",
              "    .dataframe tbody tr th {\n",
              "        vertical-align: top;\n",
              "    }\n",
              "\n",
              "    .dataframe thead th {\n",
              "        text-align: right;\n",
              "    }\n",
              "</style>\n",
              "<table border=\"1\" class=\"dataframe\">\n",
              "  <thead>\n",
              "    <tr style=\"text-align: right;\">\n",
              "      <th></th>\n",
              "      <th>first_name</th>\n",
              "      <th>last_name</th>\n",
              "      <th>age</th>\n",
              "      <th>preTestScore</th>\n",
              "      <th>postTestScore</th>\n",
              "    </tr>\n",
              "  </thead>\n",
              "  <tbody>\n",
              "    <tr>\n",
              "      <th>0</th>\n",
              "      <td>Jason</td>\n",
              "      <td>Miller</td>\n",
              "      <td>42</td>\n",
              "      <td>4</td>\n",
              "      <td>25</td>\n",
              "    </tr>\n",
              "    <tr>\n",
              "      <th>1</th>\n",
              "      <td>Molly</td>\n",
              "      <td>Jacobson</td>\n",
              "      <td>52</td>\n",
              "      <td>24</td>\n",
              "      <td>94</td>\n",
              "    </tr>\n",
              "    <tr>\n",
              "      <th>2</th>\n",
              "      <td>Tina</td>\n",
              "      <td>Ali</td>\n",
              "      <td>36</td>\n",
              "      <td>31</td>\n",
              "      <td>57</td>\n",
              "    </tr>\n",
              "    <tr>\n",
              "      <th>3</th>\n",
              "      <td>Jake</td>\n",
              "      <td>Milner</td>\n",
              "      <td>24</td>\n",
              "      <td>2</td>\n",
              "      <td>62</td>\n",
              "    </tr>\n",
              "    <tr>\n",
              "      <th>4</th>\n",
              "      <td>Amy</td>\n",
              "      <td>Cooze</td>\n",
              "      <td>73</td>\n",
              "      <td>3</td>\n",
              "      <td>70</td>\n",
              "    </tr>\n",
              "  </tbody>\n",
              "</table>\n",
              "</div>"
            ],
            "text/plain": [
              "  first_name last_name  age  preTestScore  postTestScore\n",
              "0      Jason    Miller   42             4             25\n",
              "1      Molly  Jacobson   52            24             94\n",
              "2       Tina       Ali   36            31             57\n",
              "3       Jake    Milner   24             2             62\n",
              "4        Amy     Cooze   73             3             70"
            ]
          },
          "metadata": {},
          "execution_count": 54
        }
      ]
    },
    {
      "cell_type": "code",
      "metadata": {
        "id": "JbrhOsLxBAn8",
        "outputId": "c017fcc1-16a9-4f04-b104-8cd9a8b8d318",
        "colab": {
          "base_uri": "https://localhost:8080/",
          "height": 206
        }
      },
      "source": [
        "## cf. sql_table : 전체 테이블을 모두 불러온다 \n",
        "df6 = pd.read_sql_table(\"data\", db_connection)\n",
        "df6"
      ],
      "id": "JbrhOsLxBAn8",
      "execution_count": 57,
      "outputs": [
        {
          "output_type": "execute_result",
          "data": {
            "text/html": [
              "<div>\n",
              "<style scoped>\n",
              "    .dataframe tbody tr th:only-of-type {\n",
              "        vertical-align: middle;\n",
              "    }\n",
              "\n",
              "    .dataframe tbody tr th {\n",
              "        vertical-align: top;\n",
              "    }\n",
              "\n",
              "    .dataframe thead th {\n",
              "        text-align: right;\n",
              "    }\n",
              "</style>\n",
              "<table border=\"1\" class=\"dataframe\">\n",
              "  <thead>\n",
              "    <tr style=\"text-align: right;\">\n",
              "      <th></th>\n",
              "      <th>first_name</th>\n",
              "      <th>last_name</th>\n",
              "      <th>age</th>\n",
              "      <th>preTestScore</th>\n",
              "      <th>postTestScore</th>\n",
              "    </tr>\n",
              "  </thead>\n",
              "  <tbody>\n",
              "    <tr>\n",
              "      <th>0</th>\n",
              "      <td>Jason</td>\n",
              "      <td>Miller</td>\n",
              "      <td>42</td>\n",
              "      <td>4</td>\n",
              "      <td>25</td>\n",
              "    </tr>\n",
              "    <tr>\n",
              "      <th>1</th>\n",
              "      <td>Molly</td>\n",
              "      <td>Jacobson</td>\n",
              "      <td>52</td>\n",
              "      <td>24</td>\n",
              "      <td>94</td>\n",
              "    </tr>\n",
              "    <tr>\n",
              "      <th>2</th>\n",
              "      <td>Tina</td>\n",
              "      <td>Ali</td>\n",
              "      <td>36</td>\n",
              "      <td>31</td>\n",
              "      <td>57</td>\n",
              "    </tr>\n",
              "    <tr>\n",
              "      <th>3</th>\n",
              "      <td>Jake</td>\n",
              "      <td>Milner</td>\n",
              "      <td>24</td>\n",
              "      <td>2</td>\n",
              "      <td>62</td>\n",
              "    </tr>\n",
              "    <tr>\n",
              "      <th>4</th>\n",
              "      <td>Amy</td>\n",
              "      <td>Cooze</td>\n",
              "      <td>73</td>\n",
              "      <td>3</td>\n",
              "      <td>70</td>\n",
              "    </tr>\n",
              "  </tbody>\n",
              "</table>\n",
              "</div>"
            ],
            "text/plain": [
              "  first_name last_name  age  preTestScore  postTestScore\n",
              "0      Jason    Miller   42             4             25\n",
              "1      Molly  Jacobson   52            24             94\n",
              "2       Tina       Ali   36            31             57\n",
              "3       Jake    Milner   24             2             62\n",
              "4        Amy     Cooze   73             3             70"
            ]
          },
          "metadata": {},
          "execution_count": 57
        }
      ]
    },
    {
      "cell_type": "code",
      "metadata": {
        "id": "3tv43CHgEvRC"
      },
      "source": [
        ""
      ],
      "id": "3tv43CHgEvRC",
      "execution_count": null,
      "outputs": []
    }
  ]
}