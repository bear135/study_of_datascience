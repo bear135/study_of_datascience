{
 "cells": [
  {
   "cell_type": "markdown",
   "id": "8a218e0d-5f50-40be-880e-067d075ceeef",
   "metadata": {},
   "source": [
    "https://school.programmers.co.kr/learn/challenges?order=recent&page=5&languages=python3&levels=0\n",
    "Lv.0 "
   ]
  },
  {
   "cell_type": "code",
   "execution_count": 9,
   "id": "4b0d1554-19cd-4ae8-9c3b-5571f2f760b5",
   "metadata": {},
   "outputs": [],
   "source": [
    "## 1. 머쓱이보다 키큰 사람 \n",
    "def solution(array, height): \n",
    "    answer = 0 \n",
    "    for i in array : \n",
    "        if i > height : \n",
    "            answer += 1           \n",
    "    return answer "
   ]
  },
  {
   "cell_type": "code",
   "execution_count": 10,
   "id": "fe2fcec1-dd9e-467e-a111-f4750b777fcb",
   "metadata": {},
   "outputs": [
    {
     "data": {
      "text/plain": [
       "3"
      ]
     },
     "execution_count": 10,
     "metadata": {},
     "output_type": "execute_result"
    }
   ],
   "source": [
    "array = [149, 180, 192, 170]\n",
    "height = 161\n",
    "\n",
    "solution(array, height)"
   ]
  },
  {
   "cell_type": "code",
   "execution_count": 11,
   "id": "c738000a-3193-4dcf-a212-eec81a940484",
   "metadata": {},
   "outputs": [],
   "source": [
    "## 2. 정수 num1과 num2가 주어질 때, num1과 num2의 합을 return하도록 soltuion 함수를 완성해주세요.\n",
    "def solution(num1, num2): \n",
    "    return num1 + num2 \n",
    "## 3. num1에서 num2를 뺀 값을 return하도록 soltuion 함수를 완성해주세요.\n",
    "def solution(num1, num2): \n",
    "    return num1 - num2 \n",
    "## 4. num1과 num2를 곱한 값을 return 하도록 solution 함수를 완성해주세요.\n",
    "def solution(num1, num2): \n",
    "    return num1 * num2 \n",
    "## 5. num1을 num2로 나눈 몫을 return 하도록 solution 함수를 완성해주세요.\n",
    "def solution(num1, num2): \n",
    "    return num1 // num2 "
   ]
  },
  {
   "cell_type": "code",
   "execution_count": 12,
   "id": "8df0a8c8-9b2a-47bc-88b9-c7f8ecd62107",
   "metadata": {},
   "outputs": [],
   "source": [
    "## 6. num1을 num2로 나눈 값에 1,000을 곱한 후 정수 부분을 return 하도록 soltuion 함수를 완성해주세요.\n",
    "import math \n",
    "def solution(num1, num2): \n",
    "    return math.trunc((num1/num2)*1000)"
   ]
  },
  {
   "cell_type": "code",
   "execution_count": 13,
   "id": "7e8bc88b-1fe6-4341-95e6-e37c10e669ca",
   "metadata": {},
   "outputs": [],
   "source": [
    "## 7. 두 수가 같으면 1 다르면 -1을 retrun하도록 solution 함수를 완성해주세요.\n",
    "def solution(num1, num2):\n",
    "    if num1 == num2: \n",
    "        answer = 1\n",
    "    else: \n",
    "        answer = -1\n",
    "    return answer "
   ]
  },
  {
   "cell_type": "code",
   "execution_count": 14,
   "id": "523ec16a-fa80-4136-b051-da789bd3d77e",
   "metadata": {},
   "outputs": [
    {
     "data": {
      "text/plain": [
       "-1"
      ]
     },
     "execution_count": 14,
     "metadata": {},
     "output_type": "execute_result"
    }
   ],
   "source": [
    "solution(100, 200)"
   ]
  },
  {
   "cell_type": "code",
   "execution_count": 17,
   "id": "3af2d6d3-dfcf-441a-8255-7157622bc972",
   "metadata": {},
   "outputs": [],
   "source": [
    "## 8. numbers의 각 원소에 두배한 원소를 가진 배열을 return하도록 solution 함수를 완성해주세요.\n",
    "def solution(numbers):\n",
    "    answer = []\n",
    "    for i in numbers:\n",
    "        answer.append(i*2)\n",
    "    return answer "
   ]
  },
  {
   "cell_type": "code",
   "execution_count": 18,
   "id": "82eaf679-465e-4ab5-9e68-8f4f971a4c45",
   "metadata": {},
   "outputs": [
    {
     "data": {
      "text/plain": [
       "[2, 4, 200, -198, 2, 4, 6]"
      ]
     },
     "execution_count": 18,
     "metadata": {},
     "output_type": "execute_result"
    }
   ],
   "source": [
    "numbers = [1, 2, 100, -99, 1, 2, 3]\n",
    "solution(numbers)"
   ]
  },
  {
   "cell_type": "code",
   "execution_count": 19,
   "id": "ad289816-015a-49b2-b46d-fa0fc0b4983c",
   "metadata": {},
   "outputs": [],
   "source": [
    "## 9. num1를 num2로 나눈 나머지를 return 하도록 solution 함수를 완성해주세요.\n",
    "def solution(num1, num2): \n",
    "    return num1 % num2"
   ]
  },
  {
   "cell_type": "code",
   "execution_count": 20,
   "id": "08dbe466-d58a-442b-b932-212d994c6f34",
   "metadata": {},
   "outputs": [],
   "source": [
    "## 10. array가 매개변수로 주어질 때, 중앙값을 return 하도록 solution 함수를 완성해보세요.\n",
    "import numpy as np\n",
    "def solution(array): \n",
    "    return np.median(array)"
   ]
  },
  {
   "cell_type": "code",
   "execution_count": 21,
   "id": "00b7fd53-5a64-443a-b5e2-5b84efc7875f",
   "metadata": {},
   "outputs": [
    {
     "data": {
      "text/plain": [
       "7.0"
      ]
     },
     "execution_count": 21,
     "metadata": {},
     "output_type": "execute_result"
    }
   ],
   "source": [
    "array = [1, 2, 7, 10, 11]\n",
    "solution(array)"
   ]
  },
  {
   "cell_type": "code",
   "execution_count": 28,
   "id": "e157bae7-4e4e-4e84-8deb-e8d0cfcbff8d",
   "metadata": {},
   "outputs": [],
   "source": [
    "## 11. 정수 n이 매개변수로 주어질 때, n 이하의 홀수가 오름차순으로 담긴 배열을 return하도록 solution 함수를 완성해주세요.\n",
    "def solution(n): \n",
    "    answer = []\n",
    "    for i in range(1, n+1, 2): \n",
    "        answer.append(i)\n",
    "    return answer "
   ]
  },
  {
   "cell_type": "code",
   "execution_count": 29,
   "id": "0b38ae5a-98e3-4336-a3bf-74bf152e12a8",
   "metadata": {},
   "outputs": [
    {
     "data": {
      "text/plain": [
       "[1, 3, 5, 7, 9, 11, 13, 15, 17, 19]"
      ]
     },
     "execution_count": 29,
     "metadata": {},
     "output_type": "execute_result"
    }
   ],
   "source": [
    "solution(20)"
   ]
  },
  {
   "cell_type": "code",
   "execution_count": 30,
   "id": "a13b165d-a489-4ceb-be14-81352069f573",
   "metadata": {},
   "outputs": [],
   "source": [
    "## 12. 머쓱이네 피자가게는 피자를 일곱 조각으로 잘라 줍니다. \n",
    "# 피자를 나눠먹을 사람의 수 n이 주어질 때, 모든 사람이 피자를 한 조각 이상 먹기 위해 필요한 \n",
    "# 피자의 수를 return 하는 solution 함수를 완성해보세요.\n",
    "import math\n",
    "def solution(n):\n",
    "    return math.ceil(n/7)"
   ]
  },
  {
   "cell_type": "code",
   "execution_count": 32,
   "id": "62515bd3-b022-46d7-ad93-54e941281ce6",
   "metadata": {},
   "outputs": [
    {
     "data": {
      "text/plain": [
       "5"
      ]
     },
     "execution_count": 32,
     "metadata": {},
     "output_type": "execute_result"
    }
   ],
   "source": [
    "solution(30)"
   ]
  },
  {
   "cell_type": "code",
   "execution_count": 33,
   "id": "ca8a2ba2-e6e1-4a4d-9bba-c42fbd99c6f9",
   "metadata": {},
   "outputs": [],
   "source": [
    "## 13. 머쓱이네 피자가게는 피자를 여섯 조각으로 잘라 줍니다. \n",
    "# 피자를 나눠먹을 사람의 수 n이 매개변수로 주어질 때, n명이 주문한 피자를 남기지 않고 \n",
    "# 모두 같은 수의 피자 조각을 먹어야 한다면 최소 몇 판을 시켜야 하는지를 return 하도록 \n",
    "# solution 함수를 완성해보세요.\n",
    "def solution(n): \n",
    "    p = 1\n",
    "    while (p*6) % n != 0 : \n",
    "        p += 1\n",
    "    return p"
   ]
  },
  {
   "cell_type": "code",
   "execution_count": 34,
   "id": "39c0028f-8bad-4f7a-a902-42d3f107a6e1",
   "metadata": {},
   "outputs": [
    {
     "data": {
      "text/plain": [
       "5"
      ]
     },
     "execution_count": 34,
     "metadata": {},
     "output_type": "execute_result"
    }
   ],
   "source": [
    "solution(10)"
   ]
  },
  {
   "cell_type": "code",
   "execution_count": 35,
   "id": "613f3022-f778-45c3-b802-b082934f6d09",
   "metadata": {},
   "outputs": [],
   "source": [
    "## 14. 머쓱이네 피자가게는 피자를 두 조각에서 열 조각까지 원하는 조각 수로 잘라줍니다. \n",
    "# 피자 조각 수 slice와 피자를 먹는 사람의 수 n이 매개변수로 주어질 때, n명의 사람이 \n",
    "# 최소 한 조각 이상 피자를 먹으려면 최소 몇 판의 피자를 시켜야 하는지를 return 하도록 \n",
    "# solution 함수를 완성해보세요.\n",
    "import math\n",
    "def solution(slice, n): \n",
    "    return math.ceil(n/slice)"
   ]
  },
  {
   "cell_type": "code",
   "execution_count": 36,
   "id": "8628bb49-7b95-4433-9b0e-366e28534c73",
   "metadata": {},
   "outputs": [
    {
     "data": {
      "text/plain": [
       "3"
      ]
     },
     "execution_count": 36,
     "metadata": {},
     "output_type": "execute_result"
    }
   ],
   "source": [
    "slice = 8\n",
    "n = 20\n",
    "\n",
    "solution(slice, n)"
   ]
  },
  {
   "cell_type": "code",
   "execution_count": 37,
   "id": "e86c5b3f-7824-405c-8a70-9b3121f098f2",
   "metadata": {},
   "outputs": [],
   "source": [
    "## 15. numbers의 원소의 평균값을 return하도록 solution 함수를 완성해주세요.\n",
    "import numpy as np \n",
    "def solution(numbers): \n",
    "    return np.mean(numbers)"
   ]
  },
  {
   "cell_type": "code",
   "execution_count": 38,
   "id": "2dcc791f-6f21-4103-b140-4fb947ef91e0",
   "metadata": {},
   "outputs": [
    {
     "data": {
      "text/plain": [
       "94.0"
      ]
     },
     "execution_count": 38,
     "metadata": {},
     "output_type": "execute_result"
    }
   ],
   "source": [
    "numbers = [89, 90, 91, 92, 93, 94, 95, 96, 97, 98, 99]\n",
    "solution(numbers)"
   ]
  },
  {
   "cell_type": "code",
   "execution_count": 39,
   "id": "c51623d2-e46b-42c1-a803-474fc79edbc9",
   "metadata": {},
   "outputs": [],
   "source": [
    "## 16. 머쓱이네 옷가게는 10만 원 이상 사면 5%, 30만 원 이상 사면 10%, 50만 원 이상 사면 20%를 할인해줍니다.\n",
    "## 구매한 옷의 가격 price가 주어질 때, 지불해야 할 금액을 return 하도록 solution 함수를 완성해보세요.\n",
    "def solution(price): \n",
    "    if price >= 500000 : \n",
    "        answer = int(price * 0.8)\n",
    "    elif price >= 300000 : \n",
    "        answer = int(price * 0.9)\n",
    "    elif price >= 100000 : \n",
    "        answer = int(price * 0.95)\n",
    "    else: \n",
    "        answer = price\n",
    "    return answer "
   ]
  },
  {
   "cell_type": "code",
   "execution_count": 42,
   "id": "468d08c8-9ea1-4ea6-b437-dd95392ef905",
   "metadata": {},
   "outputs": [
    {
     "data": {
      "text/plain": [
       "423000"
      ]
     },
     "execution_count": 42,
     "metadata": {},
     "output_type": "execute_result"
    }
   ],
   "source": [
    "solution(470000)"
   ]
  },
  {
   "cell_type": "code",
   "execution_count": 43,
   "id": "6d0134b8-dfba-4435-a4ad-395e0b9502ed",
   "metadata": {},
   "outputs": [],
   "source": [
    "## 17. 아이스 아메리카노는 한잔에 5,500원입니다. 머쓱이가 가지고 있는 돈 money가 매개변수로 주어질 때, \n",
    "# 머쓱이가 최대로 마실 수 있는 아메리카노의 잔 수와 남는 돈을 순서대로 담은 배열을 return 하도록 solution 함수를 완성해보세요.\n",
    "def solution(money): \n",
    "    answer = [money // 5500, money % 5500]\n",
    "    return answer"
   ]
  },
  {
   "cell_type": "code",
   "execution_count": 45,
   "id": "e7976962-39d7-4184-8996-6832e9a83deb",
   "metadata": {},
   "outputs": [
    {
     "data": {
      "text/plain": [
       "[3, 3500]"
      ]
     },
     "execution_count": 45,
     "metadata": {},
     "output_type": "execute_result"
    }
   ],
   "source": [
    "solution(20000)"
   ]
  },
  {
   "cell_type": "code",
   "execution_count": 1,
   "id": "8d887fd3-8f8b-4926-8e6c-2de12bb2b37d",
   "metadata": {},
   "outputs": [],
   "source": [
    "## 18. 머쓱이는 40살인 선생님이 몇 년도에 태어났는지 궁금해졌습니다. \n",
    "# 나이 age가 주어질 때, 2022년을 기준 출생 연도를 return 하는 solution 함수를 완성해주세요.\n",
    "def solution(age): \n",
    "    return (2022-age+1) "
   ]
  },
  {
   "cell_type": "code",
   "execution_count": 9,
   "id": "82e39aaa-50fe-4546-aa0c-c41f22c793f1",
   "metadata": {},
   "outputs": [],
   "source": [
    "## 19. 정수가 들어 있는 배열 num_list가 매개변수로 주어집니다. \n",
    "# num_list의 원소의 순서를 거꾸로 뒤집은 배열을 return하도록 solution 함수를 완성해주세요.\n",
    "def solution(num_list):     \n",
    "    return num_list[::-1]"
   ]
  },
  {
   "cell_type": "code",
   "execution_count": 11,
   "id": "87fb5f33-fabe-4b04-9cb0-557b45ac0cd1",
   "metadata": {},
   "outputs": [],
   "source": [
    "## 20. 문자열 my_string이 매개변수로 주어집니다. my_string을 거꾸로 뒤집은 문자열을 \n",
    "# return하도록 solution 함수를 완성해주세요.\n",
    "def solution(my_string):\n",
    "    return my_string[::-1]"
   ]
  },
  {
   "cell_type": "code",
   "execution_count": 12,
   "id": "428c16a4-d37a-4594-9336-87477c4f56d4",
   "metadata": {},
   "outputs": [],
   "source": [
    "## 21. \"*\"의 높이와 너비를 1이라고 했을 때, \"*\"을 이용해 직각 이등변 삼각형을 그리려고합니다. \n",
    "# 정수 n 이 주어지면 높이와 너비가 n 인 직각 이등변 삼각형을 출력하도록 코드를 작성해보세요.\n",
    "def solution(n):\n",
    "    for i in range(1, n+1, 1):\n",
    "        print('*' * i) "
   ]
  },
  {
   "cell_type": "code",
   "execution_count": 13,
   "id": "39d307fe-7ed8-4bdc-8a51-8dd726240c55",
   "metadata": {},
   "outputs": [
    {
     "name": "stdout",
     "output_type": "stream",
     "text": [
      "*\n",
      "**\n",
      "***\n",
      "****\n",
      "*****\n",
      "******\n",
      "*******\n",
      "********\n",
      "*********\n",
      "**********\n"
     ]
    }
   ],
   "source": [
    "n = 10 \n",
    "solution(n)"
   ]
  },
  {
   "cell_type": "code",
   "execution_count": 14,
   "id": "31fdc73a-c91b-464a-8868-b0888fe5449b",
   "metadata": {},
   "outputs": [],
   "source": [
    "## 22. 정수가 담긴 리스트 num_list가 주어질 때, num_list의 원소 중 \n",
    "# 짝수와 홀수의 개수를 담은 배열을 return 하도록 solution 함수를 완성해보세요.\n",
    "def solution(num_list): \n",
    "    answer = [0, 0]\n",
    "    for i in num_list: \n",
    "        answer[i % 2] +=1\n",
    "    return answer "
   ]
  },
  {
   "cell_type": "code",
   "execution_count": 21,
   "id": "5de6fa08-1607-455a-ac43-4ca040725523",
   "metadata": {},
   "outputs": [],
   "source": [
    "## 23. 문자열 my_string과 정수 n이 매개변수로 주어질 때, my_string에 들어있는 \n",
    "# 각 문자를 n만큼 반복한 문자열을 return 하도록 solution 함수를 완성해보세요.\n",
    "def solution(my_string, n): \n",
    "    answer = []\n",
    "    for i in my_string: \n",
    "        answer.append(i*n)\n",
    "    return \"\".join(answer)\n",
    "    ## return answer ~~ 리스트 형태로 출력된다. "
   ]
  },
  {
   "cell_type": "code",
   "execution_count": 22,
   "id": "c21e417b-b58f-4897-804e-948cccdb759e",
   "metadata": {},
   "outputs": [
    {
     "data": {
      "text/plain": [
       "'hhhheeeelllllllloooo'"
      ]
     },
     "execution_count": 22,
     "metadata": {},
     "output_type": "execute_result"
    }
   ],
   "source": [
    "my_string = \"hello\"\n",
    "n = 4\n",
    "solution(\"hello\", n)"
   ]
  },
  {
   "cell_type": "code",
   "execution_count": 24,
   "id": "a7428c9b-e126-48ac-af45-77a0f90f79d9",
   "metadata": {},
   "outputs": [],
   "source": [
    "## 24. 문자열 my_string과 문자 letter이 매개변수로 주어집니다. \n",
    "# my_string에서 letter를 제거한 문자열을 return하도록 solution 함수를 완성해주세요.\n",
    "def solution(my_string, letter): \n",
    "    return my_string.replace(letter, \"\") "
   ]
  },
  {
   "cell_type": "code",
   "execution_count": 25,
   "id": "c7486471-f5a5-4e99-8e16-e4e8138a9c31",
   "metadata": {},
   "outputs": [
    {
     "data": {
      "text/plain": [
       "'Cdbe'"
      ]
     },
     "execution_count": 25,
     "metadata": {},
     "output_type": "execute_result"
    }
   ],
   "source": [
    "my_string = \"BCBdbe\"\n",
    "letter = 'B'\n",
    "solution(my_string, letter)"
   ]
  },
  {
   "cell_type": "code",
   "execution_count": 32,
   "id": "0eeed93d-0786-4f85-b432-8bbe8e1d0929",
   "metadata": {},
   "outputs": [],
   "source": [
    "## 25. 각에서 0도 초과 90도 미만은 예각, 90도는 직각, 90도 초과 180도 미만은 둔각 180도는 \n",
    "# 평각으로 분류합니다. 각 angle이 매개변수로 주어질 때 예각일 때 1, 직각일 때 2, 둔각일 때 3, \n",
    "# 평각일 때 4를 return하도록 solution 함수를 완성해주세요.\n",
    "def solution(angle): \n",
    "    if 0 < angle < 90 : \n",
    "        answer = 1\n",
    "    elif angle == 90 : \n",
    "        answer = 2\n",
    "    elif 90 < angle < 180 : \n",
    "        answer = 3\n",
    "    elif angle == 180 : \n",
    "        answer = 4\n",
    "    else: \n",
    "        answer = 'error'\n",
    "    return answer     "
   ]
  },
  {
   "cell_type": "code",
   "execution_count": 33,
   "id": "6a2edc87-f83e-46b5-8ff3-9cbd76ba4ca1",
   "metadata": {},
   "outputs": [
    {
     "data": {
      "text/plain": [
       "3"
      ]
     },
     "execution_count": 33,
     "metadata": {},
     "output_type": "execute_result"
    }
   ],
   "source": [
    "solution(120)"
   ]
  },
  {
   "cell_type": "code",
   "execution_count": 34,
   "id": "9c770ce6-5f72-499e-9118-66e33455a410",
   "metadata": {},
   "outputs": [],
   "source": [
    "## 26. 머쓱이네 양꼬치 가게는 10인분을 먹으면 음료수 하나를 서비스로 줍니다. \n",
    "# 양꼬치는 1인분에 12,000원, 음료수는 2,000원입니다. 정수 n과 k가 매개변수로 주어졌을 때, \n",
    "# 양꼬치 n인분과 음료수 k개를 먹었다면 총얼마를 지불해야 하는지 return 하도록 solution 함수를 완성해보세요.\n",
    "def solution(n, k) : \n",
    "    price_food = 12000*n \n",
    "    if n >= 10 : \n",
    "        price_drink = 2000*(k-(n//10))\n",
    "    else: \n",
    "        price_drink = 2000*k\n",
    "    answer = price_food + price_drink\n",
    "    return answer"
   ]
  },
  {
   "cell_type": "code",
   "execution_count": 36,
   "id": "68942b6c-0af8-4fdf-90e5-9448cd067eeb",
   "metadata": {},
   "outputs": [
    {
     "data": {
      "text/plain": [
       "368000"
      ]
     },
     "execution_count": 36,
     "metadata": {},
     "output_type": "execute_result"
    }
   ],
   "source": [
    "n, k = 30, 7 \n",
    "solution(n, k)"
   ]
  },
  {
   "cell_type": "code",
   "execution_count": 37,
   "id": "db04d4bd-6483-49ff-b20a-bfc2c0aa8de7",
   "metadata": {},
   "outputs": [],
   "source": [
    "## 27. 정수 n이 주어질 때, n이하의 짝수를 모두 더한 값을 return 하도록 solution 함수를 작성해주세요.\n",
    "def solution(n): \n",
    "    answer = []\n",
    "    for i in range(2, n+1, 2): \n",
    "        answer.append(i)\n",
    "    return sum(answer) "
   ]
  },
  {
   "cell_type": "code",
   "execution_count": 42,
   "id": "0168792f-657a-4508-8149-7413d7459338",
   "metadata": {},
   "outputs": [],
   "source": [
    "## 28. 정수 배열 numbers와 정수 num1, num2가 매개변수로 주어질 때, \n",
    "# numbers의 num1번 째 인덱스부터 num2번째 인덱스까지 자른 정수 배열을 return 하도록 solution 함수를 완성해보세요.\n",
    "def solution(numbers, num1, num2): \n",
    "    answer = numbers[num1:num2+1]\n",
    "    return answer"
   ]
  },
  {
   "cell_type": "code",
   "execution_count": 45,
   "id": "82d06610-c091-4514-b767-1c0717af615a",
   "metadata": {},
   "outputs": [],
   "source": [
    "## 29. PROGRAMMERS-962 행성에서는 나이를 알파벳으로 말하고 있습니다. \n",
    "# a는 0, b는 1, c는 2, ..., j는 9입니다. 예를 들어 23살은 cd, 51살은 fb로 표현합니다. \n",
    "# 나이 age가 매개변수로 주어질 때 PROGRAMMER-962식 나이를 return하도록 solution 함수를 완성해주세요.\n",
    "def solution(age):    \n",
    "    words = ['a','b','c','d','e','f','g','h','i','j']\n",
    "    #index =  0   1   2   3   4   5   6   7   8   9\n",
    "    answer = ''\n",
    "    for i in str(age): \n",
    "        answer += words[int(i)]\n",
    "    return answer "
   ]
  },
  {
   "cell_type": "code",
   "execution_count": 48,
   "id": "ad0a7325-0823-4c62-a9a0-77edc880d871",
   "metadata": {},
   "outputs": [
    {
     "data": {
      "text/plain": [
       "'fb'"
      ]
     },
     "execution_count": 48,
     "metadata": {},
     "output_type": "execute_result"
    }
   ],
   "source": [
    "solution(51)"
   ]
  },
  {
   "cell_type": "code",
   "execution_count": 49,
   "id": "416d31dd-76e3-43c9-934e-a4871c8f313f",
   "metadata": {},
   "outputs": [],
   "source": [
    "## 30. 응급실에 온 환자의 응급도를 기준으로 진료 순서를 정하려고 합니다. \n",
    "# 정수 배열 emergency가 매개변수로 주어질 때 응급도가 높은 순서대로 진료 순서를 정한 배열을 return하도록 solution 함수를 완성해주세요.\n",
    "def solution(emergency): \n",
    "    result = []\n",
    "    k = sorted(emergency, reverse = True)\n",
    "    for i in emergency: \n",
    "        result.append(k.index(i)+1) \n",
    "    return result "
   ]
  },
  {
   "cell_type": "code",
   "execution_count": 58,
   "id": "378f2d1e-8217-49c0-8bc6-d8537ac7d4ad",
   "metadata": {},
   "outputs": [
    {
     "data": {
      "text/plain": [
       "[2, 4, 3, 5, 1]"
      ]
     },
     "execution_count": 58,
     "metadata": {},
     "output_type": "execute_result"
    }
   ],
   "source": [
    "emergency = [30, 10, 23, 6, 100]\n",
    "solution(emergency)"
   ]
  },
  {
   "cell_type": "code",
   "execution_count": 59,
   "id": "ea57956b-3bbf-461e-b4d7-5ee7d01d7f06",
   "metadata": {},
   "outputs": [],
   "source": [
    "## 31. 순서쌍이란 두 개의 숫자를 순서를 정하여 짝지어 나타낸 쌍으로 (a, b)로 표기합니다. \n",
    "# 자연수 n이 매개변수로 주어질 때 두 숫자의 곱이 n인 자연수 순서쌍의 개수를 return하도록 solution 함수를 완성해주세요.\n",
    "def solution(n): \n",
    "    answer = []\n",
    "    for i in range(1, n+1): \n",
    "        if n%i ==0 : \n",
    "            answer.append([i, n//i])\n",
    "    return len(answer)    "
   ]
  },
  {
   "cell_type": "code",
   "execution_count": 60,
   "id": "2a24ab48-5c5b-40dd-9e15-3957719e9c83",
   "metadata": {},
   "outputs": [
    {
     "name": "stdout",
     "output_type": "stream",
     "text": [
      "6\n",
      "9\n"
     ]
    }
   ],
   "source": [
    "print(solution(20))\n",
    "print(solution(100))"
   ]
  },
  {
   "cell_type": "code",
   "execution_count": 65,
   "id": "c5dea92c-a2b3-4837-9917-f621f41b4750",
   "metadata": {},
   "outputs": [],
   "source": [
    "## 31. 장군개미는 5의 공격력을, 병정개미는 3의 공격력을 일개미는 1의 공격력을 가지고 있습니다. \n",
    "# 예를 들어 체력 23의 여치를 사냥하려고 할 때, 일개미 23마리를 데리고 가도 되지만, \n",
    "# 장군개미 네 마리와 병정개미 한 마리를 데리고 간다면 더 적은 병력으로 사냥할 수 있습니다. \n",
    "# 사냥감의 체력 hp가 매개변수로 주어질 때, 사냥감의 체력에 딱 맞게 최소한의 병력을 구성하려면 \n",
    "# 몇 마리의 개미가 필요한지를 return하도록 solution 함수를 완성해주세요.\n",
    "def solution(hp): \n",
    "    general_cnt = hp // 5 \n",
    "    soldier_cnt = (hp-(general_cnt*5)) // 3 \n",
    "    worker_cnt = hp-(general_cnt*5)-(soldier_cnt*3) \n",
    "    return (general_cnt+soldier_cnt+worker_cnt)"
   ]
  },
  {
   "cell_type": "code",
   "execution_count": 67,
   "id": "c22df0d5-7b38-47f6-9762-7d1da7583484",
   "metadata": {},
   "outputs": [
    {
     "data": {
      "text/plain": [
       "201"
      ]
     },
     "execution_count": 67,
     "metadata": {},
     "output_type": "execute_result"
    }
   ],
   "source": [
    "solution(999)"
   ]
  },
  {
   "cell_type": "code",
   "execution_count": 70,
   "id": "ffb4e922-1892-4c27-8cc5-060d779050d6",
   "metadata": {},
   "outputs": [],
   "source": [
    "## 32. 모스부호를 이용한 편지를 받았습니다. 그냥은 읽을 수 없어 이를 해독하는 프로그램을 만들려고 합니다. \n",
    "# 문자열 letter가 매개변수로 주어질 때, letter를 영어 소문자로 바꾼 문자열을 return 하도록 solution 함수를 완성해보세요.\n",
    "def solution(letter): \n",
    "    morse = { \n",
    "    '.-':'a','-...':'b','-.-.':'c','-..':'d','.':'e','..-.':'f',\n",
    "    '--.':'g','....':'h','..':'i','.---':'j','-.-':'k','.-..':'l',\n",
    "    '--':'m','-.':'n','---':'o','.--.':'p','--.-':'q','.-.':'r',\n",
    "    '...':'s','-':'t','..-':'u','...-':'v','.--':'w','-..-':'x',\n",
    "    '-.--':'y','--..':'z'\n",
    "    }\n",
    "    answer = \"\"\n",
    "    letter = letter.split()\n",
    "    \n",
    "    for i in letter: \n",
    "        answer += morse.get(i)\n",
    "    return answer"
   ]
  },
  {
   "cell_type": "code",
   "execution_count": 77,
   "id": "3a99d5cf-78a7-453c-9675-5088497259ed",
   "metadata": {},
   "outputs": [
    {
     "data": {
      "text/plain": [
       "'hello python'"
      ]
     },
     "execution_count": 77,
     "metadata": {},
     "output_type": "execute_result"
    }
   ],
   "source": [
    "letter_1 = \".... . .-.. .-.. ---\"\n",
    "letter_2 = \".--. -.-- - .... --- -.\"\n",
    "solution(letter_1) + \" \" + solution(letter_2)"
   ]
  },
  {
   "cell_type": "code",
   "execution_count": 78,
   "id": "df941a4c-da21-4c79-9a61-f2bcfc1a5be3",
   "metadata": {},
   "outputs": [],
   "source": [
    "## 33. 가위는 2 바위는 0 보는 5로 표현합니다. 가위 바위 보를 내는 순서대로 나타낸 문자열 rsp가 \n",
    "# 매개변수로 주어질 때, rsp에 저장된 가위 바위 보를 모두 이기는 경우를 순서대로 나타낸 문자열을 return하도록 solution 함수를 완성해보세요.\n",
    "def solution(rsp): \n",
    "    win = {'2':'0', '0':'5', '5':'2'}\n",
    "    answer = ''\n",
    "    for i in rsp: \n",
    "        answer += win.get(i)\n",
    "    return answer "
   ]
  },
  {
   "cell_type": "code",
   "execution_count": 80,
   "id": "075e28df-783f-4e47-ae42-be51f69776d4",
   "metadata": {},
   "outputs": [],
   "source": [
    "## another solution \n",
    "def solution(rsp):\n",
    "    answer = ''\n",
    "    for i in rsp:\n",
    "        if i == '2':\n",
    "            answer += \"0\"\n",
    "        elif i == '0':\n",
    "            answer += \"5\"\n",
    "        elif i == '5':\n",
    "            answer += \"2\"\n",
    "    return answer"
   ]
  },
  {
   "cell_type": "code",
   "execution_count": 81,
   "id": "0c322188-d944-4055-838f-66da3b865b85",
   "metadata": {},
   "outputs": [
    {
     "data": {
      "text/plain": [
       "'052'"
      ]
     },
     "execution_count": 81,
     "metadata": {},
     "output_type": "execute_result"
    }
   ],
   "source": [
    "rsp = '205'\n",
    "solution(rsp)"
   ]
  },
  {
   "cell_type": "code",
   "execution_count": 82,
   "id": "e4acc8ab-9b9d-4b37-88e3-c0939509ece8",
   "metadata": {},
   "outputs": [],
   "source": [
    "## 34. 구슬을 친구들에게 나누어주려고 합니다. 구슬은 모두 다르게 생겼습니다. \n",
    "# 머쓱이가 갖고 있는 구슬의 개수 balls와 친구들에게 나누어 줄 구슬 개수 share이 매개변수로 주어질 때, \n",
    "# balls개의 구슬 중 share개의 구슬을 고르는 가능한 모든 경우의 수를 return 하는 solution 함수를 완성해주세요.\n",
    "import math \n",
    "def solution(balls, share): \n",
    "    return math.comb(balls, share)"
   ]
  },
  {
   "cell_type": "code",
   "execution_count": 84,
   "id": "0a01fd16-54b6-45d2-b9dc-7d8bc70e5635",
   "metadata": {},
   "outputs": [],
   "source": [
    "## 35. x 좌표 (x, y)를 차례대로 담은 정수 배열 dot이 매개변수로 주어집니다. \n",
    "# 좌표 dot이 사분면 중 어디에 속하는지 1, 2, 3, 4 중 하나를 return 하도록 solution 함수를 완성해주세요.\n",
    "def solution(dot): \n",
    "    if dot[0] > 0 and dot[1] > 0 : \n",
    "        return 1\n",
    "    elif dot[0] < 0 and dot[1] > 0 : \n",
    "        return 2 \n",
    "    elif dot[0] < 0 and dot[1] < 0 : \n",
    "        return 3 \n",
    "    elif dot[0] > 0 and dot[1] < 0 : \n",
    "        return 4 "
   ]
  },
  {
   "cell_type": "code",
   "execution_count": 87,
   "id": "ab16e88d-3fa0-42e4-8a33-d229fe133343",
   "metadata": {},
   "outputs": [
    {
     "name": "stdout",
     "output_type": "stream",
     "text": [
      "1\n",
      "2\n"
     ]
    }
   ],
   "source": [
    "print(solution([2, 4]))\n",
    "print(solution([-7, 9]))"
   ]
  },
  {
   "cell_type": "code",
   "execution_count": 90,
   "id": "a03e6c5f-b8db-4024-a4b0-7cbfdef9ff46",
   "metadata": {},
   "outputs": [],
   "source": [
    "## 36. 정수 배열 num_list와 정수 n이 매개변수로 주어집니다. num_list를 다음 설명과 같이 2차원 배열로 \n",
    "# 바꿔 return하도록 solution 함수를 완성해주세요. num_list가 [1, 2, 3, 4, 5, 6, 7, 8] 로 길이가 8이고 \n",
    "# n이 2이므로 num_list를 2 * 4 배열로 다음과 같이 변경합니다. 2차원으로 바꿀 때에는 num_list의 원소들을 \n",
    "# 앞에서부터 n개씩 나눠 2차원 배열로 변경합니다.\n",
    "import numpy as np\n",
    "\n",
    "def solution(num_list, n):\n",
    "    result = np.array(num_list).reshape(-1,n)\n",
    "    return result.tolist()"
   ]
  },
  {
   "cell_type": "code",
   "execution_count": null,
   "id": "3dda469f-3d3e-42b0-9da6-02f8d881f5f0",
   "metadata": {},
   "outputs": [],
   "source": []
  }
 ],
 "metadata": {
  "kernelspec": {
   "display_name": "Python 3 (ipykernel)",
   "language": "python",
   "name": "python3"
  },
  "language_info": {
   "codemirror_mode": {
    "name": "ipython",
    "version": 3
   },
   "file_extension": ".py",
   "mimetype": "text/x-python",
   "name": "python",
   "nbconvert_exporter": "python",
   "pygments_lexer": "ipython3",
   "version": "3.11.0"
  }
 },
 "nbformat": 4,
 "nbformat_minor": 5
}
