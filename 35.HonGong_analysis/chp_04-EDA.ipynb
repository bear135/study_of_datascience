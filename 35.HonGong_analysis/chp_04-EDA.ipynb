{
 "cells": [
  {
   "cell_type": "markdown",
   "id": "7158d870-3b7d-4a80-a522-8a08fa41a051",
   "metadata": {},
   "source": [
    "### Chapter 04 데이터 요약하기\n",
    "#### 04-1 통계로 요약하기\n",
    "--- "
   ]
  },
  {
   "cell_type": "code",
   "execution_count": 1,
   "id": "836cbe78-e8cf-4e19-a80d-00b8fcc22b95",
   "metadata": {},
   "outputs": [
    {
     "name": "stdout",
     "output_type": "stream",
     "text": [
      "(379323, 13)\n"
     ]
    },
    {
     "data": {
      "text/html": [
       "<div>\n",
       "<style scoped>\n",
       "    .dataframe tbody tr th:only-of-type {\n",
       "        vertical-align: middle;\n",
       "    }\n",
       "\n",
       "    .dataframe tbody tr th {\n",
       "        vertical-align: top;\n",
       "    }\n",
       "\n",
       "    .dataframe thead th {\n",
       "        text-align: right;\n",
       "    }\n",
       "</style>\n",
       "<table border=\"1\" class=\"dataframe\">\n",
       "  <thead>\n",
       "    <tr style=\"text-align: right;\">\n",
       "      <th></th>\n",
       "      <th>번호</th>\n",
       "      <th>도서명</th>\n",
       "      <th>저자</th>\n",
       "      <th>출판사</th>\n",
       "      <th>발행년도</th>\n",
       "      <th>ISBN</th>\n",
       "      <th>세트 ISBN</th>\n",
       "      <th>부가기호</th>\n",
       "      <th>권</th>\n",
       "      <th>주제분류번호</th>\n",
       "      <th>도서권수</th>\n",
       "      <th>대출건수</th>\n",
       "      <th>등록일자</th>\n",
       "    </tr>\n",
       "  </thead>\n",
       "  <tbody>\n",
       "    <tr>\n",
       "      <th>0</th>\n",
       "      <td>1</td>\n",
       "      <td>인공지능과 흙</td>\n",
       "      <td>김동훈 지음</td>\n",
       "      <td>민음사</td>\n",
       "      <td>2021</td>\n",
       "      <td>9788937444319</td>\n",
       "      <td>NaN</td>\n",
       "      <td>NaN</td>\n",
       "      <td>NaN</td>\n",
       "      <td>NaN</td>\n",
       "      <td>1</td>\n",
       "      <td>0.0</td>\n",
       "      <td>2021-03-19</td>\n",
       "    </tr>\n",
       "    <tr>\n",
       "      <th>1</th>\n",
       "      <td>2</td>\n",
       "      <td>가짜 행복 권하는 사회</td>\n",
       "      <td>김태형 지음</td>\n",
       "      <td>갈매나무</td>\n",
       "      <td>2021</td>\n",
       "      <td>9791190123969</td>\n",
       "      <td>NaN</td>\n",
       "      <td>NaN</td>\n",
       "      <td>NaN</td>\n",
       "      <td>NaN</td>\n",
       "      <td>1</td>\n",
       "      <td>0.0</td>\n",
       "      <td>2021-03-19</td>\n",
       "    </tr>\n",
       "    <tr>\n",
       "      <th>2</th>\n",
       "      <td>3</td>\n",
       "      <td>나도 한 문장 잘 쓰면 바랄 게 없겠네</td>\n",
       "      <td>김선영 지음</td>\n",
       "      <td>블랙피쉬</td>\n",
       "      <td>2021</td>\n",
       "      <td>9788968332982</td>\n",
       "      <td>NaN</td>\n",
       "      <td>NaN</td>\n",
       "      <td>NaN</td>\n",
       "      <td>NaN</td>\n",
       "      <td>1</td>\n",
       "      <td>0.0</td>\n",
       "      <td>2021-03-19</td>\n",
       "    </tr>\n",
       "    <tr>\n",
       "      <th>3</th>\n",
       "      <td>4</td>\n",
       "      <td>예루살렘 해변</td>\n",
       "      <td>이도 게펜 지음, 임재희 옮김</td>\n",
       "      <td>문학세계사</td>\n",
       "      <td>2021</td>\n",
       "      <td>9788970759906</td>\n",
       "      <td>NaN</td>\n",
       "      <td>NaN</td>\n",
       "      <td>NaN</td>\n",
       "      <td>NaN</td>\n",
       "      <td>1</td>\n",
       "      <td>0.0</td>\n",
       "      <td>2021-03-19</td>\n",
       "    </tr>\n",
       "    <tr>\n",
       "      <th>4</th>\n",
       "      <td>5</td>\n",
       "      <td>김성곤의 중국한시기행 : 장강·황하 편</td>\n",
       "      <td>김성곤 지음</td>\n",
       "      <td>김영사</td>\n",
       "      <td>2021</td>\n",
       "      <td>9788934990833</td>\n",
       "      <td>NaN</td>\n",
       "      <td>NaN</td>\n",
       "      <td>NaN</td>\n",
       "      <td>NaN</td>\n",
       "      <td>1</td>\n",
       "      <td>0.0</td>\n",
       "      <td>2021-03-19</td>\n",
       "    </tr>\n",
       "  </tbody>\n",
       "</table>\n",
       "</div>"
      ],
      "text/plain": [
       "   번호                    도서명                저자    출판사  발행년도           ISBN  \\\n",
       "0   1                인공지능과 흙            김동훈 지음    민음사  2021  9788937444319   \n",
       "1   2           가짜 행복 권하는 사회            김태형 지음   갈매나무  2021  9791190123969   \n",
       "2   3  나도 한 문장 잘 쓰면 바랄 게 없겠네            김선영 지음   블랙피쉬  2021  9788968332982   \n",
       "3   4                예루살렘 해변  이도 게펜 지음, 임재희 옮김  문학세계사  2021  9788970759906   \n",
       "4   5  김성곤의 중국한시기행 : 장강·황하 편            김성곤 지음    김영사  2021  9788934990833   \n",
       "\n",
       "  세트 ISBN 부가기호    권 주제분류번호  도서권수  대출건수        등록일자  \n",
       "0     NaN  NaN  NaN    NaN     1   0.0  2021-03-19  \n",
       "1     NaN  NaN  NaN    NaN     1   0.0  2021-03-19  \n",
       "2     NaN  NaN  NaN    NaN     1   0.0  2021-03-19  \n",
       "3     NaN  NaN  NaN    NaN     1   0.0  2021-03-19  \n",
       "4     NaN  NaN  NaN    NaN     1   0.0  2021-03-19  "
      ]
     },
     "execution_count": 1,
     "metadata": {},
     "output_type": "execute_result"
    }
   ],
   "source": [
    "import numpy as np \n",
    "import pandas as pd\n",
    "import matplotlib.pyplot as plt\n",
    "import seaborn as sns\n",
    "import warnings\n",
    "warnings.filterwarnings('ignore')\n",
    "\n",
    "ns_book6 = pd.read_csv('data/ns_book6.csv', low_memory = False)\n",
    "print(ns_book6.shape)\n",
    "ns_book6.head()"
   ]
  },
  {
   "cell_type": "code",
   "execution_count": 2,
   "id": "eec3c344-df73-4b9b-bef3-75f661a12f1f",
   "metadata": {},
   "outputs": [
    {
     "data": {
      "text/html": [
       "<div>\n",
       "<style scoped>\n",
       "    .dataframe tbody tr th:only-of-type {\n",
       "        vertical-align: middle;\n",
       "    }\n",
       "\n",
       "    .dataframe tbody tr th {\n",
       "        vertical-align: top;\n",
       "    }\n",
       "\n",
       "    .dataframe thead th {\n",
       "        text-align: right;\n",
       "    }\n",
       "</style>\n",
       "<table border=\"1\" class=\"dataframe\">\n",
       "  <thead>\n",
       "    <tr style=\"text-align: right;\">\n",
       "      <th></th>\n",
       "      <th>번호</th>\n",
       "      <th>발행년도</th>\n",
       "      <th>도서권수</th>\n",
       "      <th>대출건수</th>\n",
       "    </tr>\n",
       "  </thead>\n",
       "  <tbody>\n",
       "    <tr>\n",
       "      <th>count</th>\n",
       "      <td>376129.000000</td>\n",
       "      <td>376129.000000</td>\n",
       "      <td>376129.000000</td>\n",
       "      <td>376129.000000</td>\n",
       "    </tr>\n",
       "    <tr>\n",
       "      <th>mean</th>\n",
       "      <td>202798.072382</td>\n",
       "      <td>2008.452079</td>\n",
       "      <td>1.145727</td>\n",
       "      <td>11.609291</td>\n",
       "    </tr>\n",
       "    <tr>\n",
       "      <th>std</th>\n",
       "      <td>115202.773565</td>\n",
       "      <td>8.771326</td>\n",
       "      <td>0.474167</td>\n",
       "      <td>19.289781</td>\n",
       "    </tr>\n",
       "    <tr>\n",
       "      <th>min</th>\n",
       "      <td>1.000000</td>\n",
       "      <td>1947.000000</td>\n",
       "      <td>1.000000</td>\n",
       "      <td>0.000000</td>\n",
       "    </tr>\n",
       "    <tr>\n",
       "      <th>30%</th>\n",
       "      <td>124530.400000</td>\n",
       "      <td>2004.000000</td>\n",
       "      <td>1.000000</td>\n",
       "      <td>2.000000</td>\n",
       "    </tr>\n",
       "    <tr>\n",
       "      <th>50%</th>\n",
       "      <td>204321.000000</td>\n",
       "      <td>2009.000000</td>\n",
       "      <td>1.000000</td>\n",
       "      <td>6.000000</td>\n",
       "    </tr>\n",
       "    <tr>\n",
       "      <th>60%</th>\n",
       "      <td>243249.800000</td>\n",
       "      <td>2011.000000</td>\n",
       "      <td>1.000000</td>\n",
       "      <td>8.000000</td>\n",
       "    </tr>\n",
       "    <tr>\n",
       "      <th>90%</th>\n",
       "      <td>360949.400000</td>\n",
       "      <td>2018.000000</td>\n",
       "      <td>2.000000</td>\n",
       "      <td>28.000000</td>\n",
       "    </tr>\n",
       "    <tr>\n",
       "      <th>max</th>\n",
       "      <td>401681.000000</td>\n",
       "      <td>2650.000000</td>\n",
       "      <td>40.000000</td>\n",
       "      <td>1765.000000</td>\n",
       "    </tr>\n",
       "  </tbody>\n",
       "</table>\n",
       "</div>"
      ],
      "text/plain": [
       "                  번호           발행년도           도서권수           대출건수\n",
       "count  376129.000000  376129.000000  376129.000000  376129.000000\n",
       "mean   202798.072382    2008.452079       1.145727      11.609291\n",
       "std    115202.773565       8.771326       0.474167      19.289781\n",
       "min         1.000000    1947.000000       1.000000       0.000000\n",
       "30%    124530.400000    2004.000000       1.000000       2.000000\n",
       "50%    204321.000000    2009.000000       1.000000       6.000000\n",
       "60%    243249.800000    2011.000000       1.000000       8.000000\n",
       "90%    360949.400000    2018.000000       2.000000      28.000000\n",
       "max    401681.000000    2650.000000      40.000000    1765.000000"
      ]
     },
     "execution_count": 2,
     "metadata": {},
     "output_type": "execute_result"
    }
   ],
   "source": [
    "## describe()에서 percentile 지정하기 \n",
    "ns_book7 = ns_book6[ns_book6['도서권수'] > 0]\n",
    "ns_book7.describe(percentiles = [0.3, 0.6, 0.9])"
   ]
  },
  {
   "cell_type": "code",
   "execution_count": 3,
   "id": "6ff085c4-0557-42bc-ad6a-cc09bd4fdc93",
   "metadata": {},
   "outputs": [
    {
     "data": {
      "text/html": [
       "<div>\n",
       "<style scoped>\n",
       "    .dataframe tbody tr th:only-of-type {\n",
       "        vertical-align: middle;\n",
       "    }\n",
       "\n",
       "    .dataframe tbody tr th {\n",
       "        vertical-align: top;\n",
       "    }\n",
       "\n",
       "    .dataframe thead th {\n",
       "        text-align: right;\n",
       "    }\n",
       "</style>\n",
       "<table border=\"1\" class=\"dataframe\">\n",
       "  <thead>\n",
       "    <tr style=\"text-align: right;\">\n",
       "      <th></th>\n",
       "      <th>도서명</th>\n",
       "      <th>저자</th>\n",
       "      <th>출판사</th>\n",
       "      <th>ISBN</th>\n",
       "      <th>세트 ISBN</th>\n",
       "      <th>부가기호</th>\n",
       "      <th>권</th>\n",
       "      <th>주제분류번호</th>\n",
       "      <th>등록일자</th>\n",
       "    </tr>\n",
       "  </thead>\n",
       "  <tbody>\n",
       "    <tr>\n",
       "      <th>count</th>\n",
       "      <td>376129</td>\n",
       "      <td>376129</td>\n",
       "      <td>376129</td>\n",
       "      <td>376129</td>\n",
       "      <td>55852</td>\n",
       "      <td>308068</td>\n",
       "      <td>61770</td>\n",
       "      <td>359578</td>\n",
       "      <td>376129</td>\n",
       "    </tr>\n",
       "    <tr>\n",
       "      <th>unique</th>\n",
       "      <td>335965</td>\n",
       "      <td>248670</td>\n",
       "      <td>21862</td>\n",
       "      <td>350570</td>\n",
       "      <td>14872</td>\n",
       "      <td>17</td>\n",
       "      <td>833</td>\n",
       "      <td>12462</td>\n",
       "      <td>4562</td>\n",
       "    </tr>\n",
       "    <tr>\n",
       "      <th>top</th>\n",
       "      <td>승정원일기</td>\n",
       "      <td>세종대왕기념사업회 [편]</td>\n",
       "      <td>문학동네</td>\n",
       "      <td>9788937430299</td>\n",
       "      <td>9788937460005</td>\n",
       "      <td>0</td>\n",
       "      <td>1</td>\n",
       "      <td>813.6</td>\n",
       "      <td>1970-01-01</td>\n",
       "    </tr>\n",
       "    <tr>\n",
       "      <th>freq</th>\n",
       "      <td>250</td>\n",
       "      <td>302</td>\n",
       "      <td>4409</td>\n",
       "      <td>206</td>\n",
       "      <td>702</td>\n",
       "      <td>158168</td>\n",
       "      <td>13277</td>\n",
       "      <td>14815</td>\n",
       "      <td>28139</td>\n",
       "    </tr>\n",
       "  </tbody>\n",
       "</table>\n",
       "</div>"
      ],
      "text/plain": [
       "           도서명             저자     출판사           ISBN        세트 ISBN    부가기호  \\\n",
       "count   376129         376129  376129         376129          55852  308068   \n",
       "unique  335965         248670   21862         350570          14872      17   \n",
       "top      승정원일기  세종대왕기념사업회 [편]    문학동네  9788937430299  9788937460005       0   \n",
       "freq       250            302    4409            206            702  158168   \n",
       "\n",
       "            권  주제분류번호        등록일자  \n",
       "count   61770  359578      376129  \n",
       "unique    833   12462        4562  \n",
       "top         1   813.6  1970-01-01  \n",
       "freq    13277   14815       28139  "
      ]
     },
     "execution_count": 3,
     "metadata": {},
     "output_type": "execute_result"
    }
   ],
   "source": [
    "## describe()에서 수치형 외 변수의 타입 보기 (object = '')\n",
    "ns_book7.describe(include = 'object')"
   ]
  },
  {
   "cell_type": "code",
   "execution_count": 4,
   "id": "380b0bba-a0c5-4091-9aee-24490f56e4b1",
   "metadata": {},
   "outputs": [
    {
     "name": "stdout",
     "output_type": "stream",
     "text": [
      "-중복제거후 평균값 =  208.43596730245233\n",
      "-중복제거후 중앙값 =  183.0\n"
     ]
    }
   ],
   "source": [
    "## 중복된값 제거 후 통계량 구하기 \n",
    "print('-중복제거후 평균값 = ', ns_book7['대출건수'].drop_duplicates().mean())\n",
    "print('-중복제거후 중앙값 = ', ns_book7['대출건수'].drop_duplicates().median())"
   ]
  },
  {
   "cell_type": "code",
   "execution_count": 5,
   "id": "4aa0d711-3b1b-44d2-b195-dcf4cd03775e",
   "metadata": {},
   "outputs": [
    {
     "data": {
      "text/plain": [
       "0.25     2.0\n",
       "0.50     6.0\n",
       "0.75    14.0\n",
       "Name: 대출건수, dtype: float64"
      ]
     },
     "execution_count": 5,
     "metadata": {},
     "output_type": "execute_result"
    }
   ],
   "source": [
    "## quantile() : 특정 분위수 값 구하기 \n",
    "ns_book7['대출건수'].quantile([0.25, 0.5, 0.75])"
   ]
  },
  {
   "cell_type": "code",
   "execution_count": 6,
   "id": "e72c2221-d5de-445b-a1c7-fd6940b855ab",
   "metadata": {},
   "outputs": [
    {
     "data": {
      "text/plain": [
       "번호      202798.072382\n",
       "발행년도      2008.452079\n",
       "도서권수         1.145727\n",
       "대출건수        11.609291\n",
       "dtype: float64"
      ]
     },
     "execution_count": 6,
     "metadata": {},
     "output_type": "execute_result"
    }
   ],
   "source": [
    "## 수치형 변수들에 대해서만 연산 실행시키기 \n",
    "ns_book7.mean(numeric_only = True)"
   ]
  },
  {
   "cell_type": "code",
   "execution_count": 7,
   "id": "0384ebf6-4e98-46db-97b9-b8f3dc7dbce6",
   "metadata": {},
   "outputs": [],
   "source": [
    "ns_book7.to_csv('data/ns_book7.csv', index = False)"
   ]
  },
  {
   "cell_type": "code",
   "execution_count": 8,
   "id": "ba352da4-06b5-4feb-a062-141746537d93",
   "metadata": {},
   "outputs": [
    {
     "data": {
      "text/plain": [
       "10.558596726009206"
      ]
     },
     "execution_count": 8,
     "metadata": {},
     "output_type": "execute_result"
    }
   ],
   "source": [
    "## np.mean()과 np.average() : np.average는 가중평균 계산에 유용하다. \n",
    "np.average(ns_book7['대출건수'], weights = 1/ns_book7['도서권수'])"
   ]
  },
  {
   "cell_type": "code",
   "execution_count": 9,
   "id": "90f6b47d-be3d-4f27-b11d-120c40c61491",
   "metadata": {},
   "outputs": [
    {
     "data": {
      "text/html": [
       "<div>\n",
       "<style scoped>\n",
       "    .dataframe tbody tr th:only-of-type {\n",
       "        vertical-align: middle;\n",
       "    }\n",
       "\n",
       "    .dataframe tbody tr th {\n",
       "        vertical-align: top;\n",
       "    }\n",
       "\n",
       "    .dataframe thead th {\n",
       "        text-align: right;\n",
       "    }\n",
       "</style>\n",
       "<table border=\"1\" class=\"dataframe\">\n",
       "  <thead>\n",
       "    <tr style=\"text-align: right;\">\n",
       "      <th></th>\n",
       "      <th>대출건수</th>\n",
       "    </tr>\n",
       "    <tr>\n",
       "      <th>출판사</th>\n",
       "      <th></th>\n",
       "    </tr>\n",
       "  </thead>\n",
       "  <tbody>\n",
       "    <tr>\n",
       "      <th>동녁라이프</th>\n",
       "      <td>224.000000</td>\n",
       "    </tr>\n",
       "    <tr>\n",
       "      <th>와이비엠시사</th>\n",
       "      <td>215.000000</td>\n",
       "    </tr>\n",
       "    <tr>\n",
       "      <th>환상</th>\n",
       "      <td>210.000000</td>\n",
       "    </tr>\n",
       "    <tr>\n",
       "      <th>두앤비컨텐츠(랜덤하우스중앙)</th>\n",
       "      <td>167.000000</td>\n",
       "    </tr>\n",
       "    <tr>\n",
       "      <th>개미들출판사-에셀문화사</th>\n",
       "      <td>157.000000</td>\n",
       "    </tr>\n",
       "    <tr>\n",
       "      <th>해커스 어학 연구소</th>\n",
       "      <td>149.500000</td>\n",
       "    </tr>\n",
       "    <tr>\n",
       "      <th>Test clinic</th>\n",
       "      <td>137.000000</td>\n",
       "    </tr>\n",
       "    <tr>\n",
       "      <th>마야출판사</th>\n",
       "      <td>133.333333</td>\n",
       "    </tr>\n",
       "    <tr>\n",
       "      <th>해밀 &amp; Co.</th>\n",
       "      <td>133.000000</td>\n",
       "    </tr>\n",
       "    <tr>\n",
       "      <th>마그나(Magna)</th>\n",
       "      <td>130.000000</td>\n",
       "    </tr>\n",
       "  </tbody>\n",
       "</table>\n",
       "</div>"
      ],
      "text/plain": [
       "                       대출건수\n",
       "출판사                        \n",
       "동녁라이프            224.000000\n",
       "와이비엠시사           215.000000\n",
       "환상               210.000000\n",
       "두앤비컨텐츠(랜덤하우스중앙)  167.000000\n",
       "개미들출판사-에셀문화사     157.000000\n",
       "해커스 어학 연구소       149.500000\n",
       "Test clinic      137.000000\n",
       "마야출판사            133.333333\n",
       "해밀 & Co.         133.000000\n",
       "마그나(Magna)       130.000000"
      ]
     },
     "execution_count": 9,
     "metadata": {},
     "output_type": "execute_result"
    }
   ],
   "source": [
    "## 연습문제 : 평균 대출건수가 가장 높은 10개의 출판사는? \n",
    "ns_book7[['출판사', '대출건수']].groupby('출판사').mean().sort_values('대출건수', ascending = False).head(10)"
   ]
  },
  {
   "cell_type": "code",
   "execution_count": 10,
   "id": "7a4be34c-49f4-4131-a349-f3af0dc1f27a",
   "metadata": {},
   "outputs": [
    {
     "data": {
      "text/plain": [
       "51.57299756200665"
      ]
     },
     "execution_count": 10,
     "metadata": {},
     "output_type": "execute_result"
    }
   ],
   "source": [
    "## 연습문제 : 대출건수 25%, 75%에 해당하는 도서들이 전체 도서 중 몇퍼센트를 차지하는지 구하라. \n",
    "target_range = np.array(ns_book7['대출건수'].quantile(q = [0.25, 0.75]))\n",
    "target_bool_idx = (ns_book7['대출건수'] >= target_range[0]) & (ns_book7['대출건수'] <= target_range[1]) \n",
    "a = target_bool_idx.sum() / len(ns_book7)*100 \n",
    "a"
   ]
  },
  {
   "cell_type": "markdown",
   "id": "5b8db049-7db9-4547-8bb4-6a181c27d1be",
   "metadata": {},
   "source": [
    "---\n",
    "#### 04-2 분포 요약하기"
   ]
  },
  {
   "cell_type": "code",
   "execution_count": 16,
   "id": "2d9d98a8-b305-457d-b055-7bd87b3e01d8",
   "metadata": {},
   "outputs": [
    {
     "data": {
      "text/plain": [
       "<matplotlib.collections.PathCollection at 0x1e7b48a5be0>"
      ]
     },
     "execution_count": 16,
     "metadata": {},
     "output_type": "execute_result"
    },
    {
     "data": {
      "image/png": "[encoded data removed]",
      "text/plain": [
       "<Figure size 432x288 with 1 Axes>"
      ]
     },
     "metadata": {
      "needs_background": "light"
     },
     "output_type": "display_data"
    }
   ],
   "source": [
    "## scatter plot의 alpha : 투명도 지정 (0 ~ 1의 값), 데이터가 많이 중첩된 부분일수록 진하게 표현 \n",
    "plt.scatter(ns_book7['도서권수'], ns_book7['대출건수'], alpha = 0.1)"
   ]
  },
  {
   "cell_type": "code",
   "execution_count": 18,
   "id": "7bf78de5-4975-48cc-ab3c-c817d3848a5b",
   "metadata": {},
   "outputs": [
    {
     "data": {
      "image/png": "[encoded data removed]",
      "text/plain": [
       "<Figure size 432x288 with 1 Axes>"
      ]
     },
     "metadata": {
      "needs_background": "light"
     },
     "output_type": "display_data"
    }
   ],
   "source": [
    "## y축 범위가 하단에 집중 -->  sclae log변환 \n",
    "## bins 지정 (default bin = 10)\n",
    "plt.hist(ns_book7['대출건수'], bins = 100)\n",
    "plt.yscale('log')\n",
    "plt.show()"
   ]
  },
  {
   "cell_type": "code",
   "execution_count": 24,
   "id": "abb0d379-d890-4d3a-8164-473c5bf0d836",
   "metadata": {},
   "outputs": [
    {
     "data": {
      "image/png": "[encoded data removed]",
      "text/plain": [
       "<Figure size 432x288 with 1 Axes>"
      ]
     },
     "metadata": {
      "needs_background": "light"
     },
     "output_type": "display_data"
    }
   ],
   "source": [
    "## 책 제목의 길이에 대한 분포 그리기 \n",
    "ns_book7['도서명'].apply(len).plot.hist(bins=100)\n",
    "plt.xscale('log')\n",
    "plt.show()"
   ]
  },
  {
   "cell_type": "code",
   "execution_count": 23,
   "id": "defae49b-85ab-4113-b211-08c2cf946be1",
   "metadata": {},
   "outputs": [
    {
     "data": {
      "image/png": "[encoded data removed]",
      "text/plain": [
       "<Figure size 432x288 with 1 Axes>"
      ]
     },
     "metadata": {
      "needs_background": "light"
     },
     "output_type": "display_data"
    }
   ],
   "source": [
    "ns_book7[['대출건수', '도서권수']].boxplot()\n",
    "plt.yscale('log')\n",
    "plt.show()"
   ]
  },
  {
   "cell_type": "code",
   "execution_count": 29,
   "id": "d57348a2-27c4-4511-97d6-0c22639d5e46",
   "metadata": {},
   "outputs": [
    {
     "data": {
      "image/png": "[encoded data removed]",
      "text/plain": [
       "<Figure size 432x288 with 1 Axes>"
      ]
     },
     "metadata": {
      "needs_background": "light"
     },
     "output_type": "display_data"
    }
   ],
   "source": [
    "## 연습 : 1980~2022년 사이 발행된 도서에 대해, 발행년도 기준의 히스토그램 만들기 \n",
    "selected_rows = (ns_book7['발행년도'] >= 1980) & (ns_book7['발행년도'] <= 2022)\n",
    "plt.hist(ns_book7[selected_rows]['발행년도'])\n",
    "plt.show()"
   ]
  },
  {
   "cell_type": "code",
   "execution_count": 34,
   "id": "30023cc9-138c-4bb5-9e07-b2fe30752f85",
   "metadata": {},
   "outputs": [
    {
     "data": {
      "image/png": "[encoded data removed]",
      "text/plain": [
       "<Figure size 432x288 with 1 Axes>"
      ]
     },
     "metadata": {
      "needs_background": "light"
     },
     "output_type": "display_data"
    }
   ],
   "source": [
    "plt.boxplot(ns_book7[selected_rows]['발행년도'])\n",
    "plt.show()"
   ]
  },
  {
   "cell_type": "code",
   "execution_count": null,
   "id": "0499c779-b36d-4703-a268-4f7624ebd33b",
   "metadata": {},
   "outputs": [],
   "source": []
  }
 ],
 "metadata": {
  "kernelspec": {
   "display_name": "Python 3",
   "language": "python",
   "name": "python3"
  },
  "language_info": {
   "codemirror_mode": {
    "name": "ipython",
    "version": 3
   },
   "file_extension": ".py",
   "mimetype": "text/x-python",
   "name": "python",
   "nbconvert_exporter": "python",
   "pygments_lexer": "ipython3",
   "version": "3.8.8"
  }
 },
 "nbformat": 4,
 "nbformat_minor": 5
}
