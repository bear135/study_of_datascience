{
 "cells": [
  {
   "cell_type": "markdown",
   "id": "4ee2fbe4-af65-4719-acc8-2967ecc1494d",
   "metadata": {},
   "source": [
    "### Chapter 07 검증하고 예측하기\n",
    "#### 07-1 통계적으로 추론하기\n",
    "--- "
   ]
  },
  {
   "cell_type": "code",
   "execution_count": 1,
   "id": "4f9c4d3c-0111-4a32-a800-8b1e3c67acb7",
   "metadata": {},
   "outputs": [],
   "source": [
    "import numpy as np\n",
    "import pandas as pd \n",
    "import matplotlib.pyplot as plt \n",
    "import warnings\n",
    "warnings.filterwarnings(\"ignore\")\n",
    "plt.rcParams['font.family'] = 'Malgun Gothic'\n",
    "plt.rcParams['axes.unicode_minus'] = False"
   ]
  },
  {
   "cell_type": "code",
   "execution_count": 2,
   "id": "f23924bf-dd61-4dce-a03e-1e9fb59e0f38",
   "metadata": {},
   "outputs": [
    {
     "name": "stdout",
     "output_type": "stream",
     "text": [
      "(376129, 13)\n"
     ]
    },
    {
     "data": {
      "text/html": [
       "<div>\n",
       "<style scoped>\n",
       "    .dataframe tbody tr th:only-of-type {\n",
       "        vertical-align: middle;\n",
       "    }\n",
       "\n",
       "    .dataframe tbody tr th {\n",
       "        vertical-align: top;\n",
       "    }\n",
       "\n",
       "    .dataframe thead th {\n",
       "        text-align: right;\n",
       "    }\n",
       "</style>\n",
       "<table border=\"1\" class=\"dataframe\">\n",
       "  <thead>\n",
       "    <tr style=\"text-align: right;\">\n",
       "      <th></th>\n",
       "      <th>번호</th>\n",
       "      <th>도서명</th>\n",
       "      <th>저자</th>\n",
       "      <th>출판사</th>\n",
       "      <th>발행년도</th>\n",
       "      <th>ISBN</th>\n",
       "      <th>세트 ISBN</th>\n",
       "      <th>부가기호</th>\n",
       "      <th>권</th>\n",
       "      <th>주제분류번호</th>\n",
       "      <th>도서권수</th>\n",
       "      <th>대출건수</th>\n",
       "      <th>등록일자</th>\n",
       "    </tr>\n",
       "  </thead>\n",
       "  <tbody>\n",
       "    <tr>\n",
       "      <th>0</th>\n",
       "      <td>1</td>\n",
       "      <td>인공지능과 흙</td>\n",
       "      <td>김동훈 지음</td>\n",
       "      <td>민음사</td>\n",
       "      <td>2021</td>\n",
       "      <td>9788937444319</td>\n",
       "      <td>NaN</td>\n",
       "      <td>NaN</td>\n",
       "      <td>NaN</td>\n",
       "      <td>NaN</td>\n",
       "      <td>1</td>\n",
       "      <td>0.0</td>\n",
       "      <td>2021-03-19</td>\n",
       "    </tr>\n",
       "    <tr>\n",
       "      <th>1</th>\n",
       "      <td>2</td>\n",
       "      <td>가짜 행복 권하는 사회</td>\n",
       "      <td>김태형 지음</td>\n",
       "      <td>갈매나무</td>\n",
       "      <td>2021</td>\n",
       "      <td>9791190123969</td>\n",
       "      <td>NaN</td>\n",
       "      <td>NaN</td>\n",
       "      <td>NaN</td>\n",
       "      <td>NaN</td>\n",
       "      <td>1</td>\n",
       "      <td>0.0</td>\n",
       "      <td>2021-03-19</td>\n",
       "    </tr>\n",
       "    <tr>\n",
       "      <th>2</th>\n",
       "      <td>3</td>\n",
       "      <td>나도 한 문장 잘 쓰면 바랄 게 없겠네</td>\n",
       "      <td>김선영 지음</td>\n",
       "      <td>블랙피쉬</td>\n",
       "      <td>2021</td>\n",
       "      <td>9788968332982</td>\n",
       "      <td>NaN</td>\n",
       "      <td>NaN</td>\n",
       "      <td>NaN</td>\n",
       "      <td>NaN</td>\n",
       "      <td>1</td>\n",
       "      <td>0.0</td>\n",
       "      <td>2021-03-19</td>\n",
       "    </tr>\n",
       "    <tr>\n",
       "      <th>3</th>\n",
       "      <td>4</td>\n",
       "      <td>예루살렘 해변</td>\n",
       "      <td>이도 게펜 지음, 임재희 옮김</td>\n",
       "      <td>문학세계사</td>\n",
       "      <td>2021</td>\n",
       "      <td>9788970759906</td>\n",
       "      <td>NaN</td>\n",
       "      <td>NaN</td>\n",
       "      <td>NaN</td>\n",
       "      <td>NaN</td>\n",
       "      <td>1</td>\n",
       "      <td>0.0</td>\n",
       "      <td>2021-03-19</td>\n",
       "    </tr>\n",
       "    <tr>\n",
       "      <th>4</th>\n",
       "      <td>5</td>\n",
       "      <td>김성곤의 중국한시기행 : 장강·황하 편</td>\n",
       "      <td>김성곤 지음</td>\n",
       "      <td>김영사</td>\n",
       "      <td>2021</td>\n",
       "      <td>9788934990833</td>\n",
       "      <td>NaN</td>\n",
       "      <td>NaN</td>\n",
       "      <td>NaN</td>\n",
       "      <td>NaN</td>\n",
       "      <td>1</td>\n",
       "      <td>0.0</td>\n",
       "      <td>2021-03-19</td>\n",
       "    </tr>\n",
       "  </tbody>\n",
       "</table>\n",
       "</div>"
      ],
      "text/plain": [
       "   번호                    도서명                저자    출판사  발행년도           ISBN  \\\n",
       "0   1                인공지능과 흙            김동훈 지음    민음사  2021  9788937444319   \n",
       "1   2           가짜 행복 권하는 사회            김태형 지음   갈매나무  2021  9791190123969   \n",
       "2   3  나도 한 문장 잘 쓰면 바랄 게 없겠네            김선영 지음   블랙피쉬  2021  9788968332982   \n",
       "3   4                예루살렘 해변  이도 게펜 지음, 임재희 옮김  문학세계사  2021  9788970759906   \n",
       "4   5  김성곤의 중국한시기행 : 장강·황하 편            김성곤 지음    김영사  2021  9788934990833   \n",
       "\n",
       "  세트 ISBN 부가기호    권 주제분류번호  도서권수  대출건수        등록일자  \n",
       "0     NaN  NaN  NaN    NaN     1   0.0  2021-03-19  \n",
       "1     NaN  NaN  NaN    NaN     1   0.0  2021-03-19  \n",
       "2     NaN  NaN  NaN    NaN     1   0.0  2021-03-19  \n",
       "3     NaN  NaN  NaN    NaN     1   0.0  2021-03-19  \n",
       "4     NaN  NaN  NaN    NaN     1   0.0  2021-03-19  "
      ]
     },
     "execution_count": 2,
     "metadata": {},
     "output_type": "execute_result"
    }
   ],
   "source": [
    "ns_book7 = pd.read_csv('data/ns_book7.csv', low_memory = False)\n",
    "print(ns_book7.shape)\n",
    "ns_book7.head()"
   ]
  },
  {
   "cell_type": "markdown",
   "id": "d9687ca9-7903-4639-8ca1-db2c5e08361f",
   "metadata": {},
   "source": [
    "--- \n",
    "#### - 중심극한 정리 확인 : 모집단과 랜덤샘플링한 데이터의 분포 비교 \n",
    "--- "
   ]
  },
  {
   "cell_type": "code",
   "execution_count": 5,
   "id": "cde54342-96af-4ae4-b45a-290e72e906fe",
   "metadata": {},
   "outputs": [
    {
     "data": {
      "text/plain": [
       "[12.7, 15.333333333333334, 16.333333333333332, 9.2, 13.266666666666667]"
      ]
     },
     "execution_count": 5,
     "metadata": {},
     "output_type": "execute_result"
    }
   ],
   "source": [
    "## 랜덤하게 30개씩 샘플링한 평균을 1000개 만들기 \n",
    "np.random.seed(42)\n",
    "sample_means = []\n",
    "for _ in range(1000):\n",
    "    m = ns_book7['대출건수'].sample(30).mean()\n",
    "    sample_means.append(m)\n",
    "    \n",
    "sample_means[:5]"
   ]
  },
  {
   "cell_type": "code",
   "execution_count": 6,
   "id": "c23ebe8d-118c-42a4-9b23-bc847d0d6c83",
   "metadata": {},
   "outputs": [
    {
     "data": {
      "image/png": "[encoded data removed]",
      "text/plain": [
       "<Figure size 1080x288 with 2 Axes>"
      ]
     },
     "metadata": {
      "needs_background": "light"
     },
     "output_type": "display_data"
    }
   ],
   "source": [
    "fig, axs = plt.subplots(1,2, figsize = (15,4))\n",
    "\n",
    "axs[0].hist(ns_book7['대출건수'], bins = 100) \n",
    "axs[0].set_title('모집단 분포')\n",
    "axs[0].set_yscale('log')\n",
    "\n",
    "axs[1].hist(sample_means, bins=100)\n",
    "axs[1].set_title('랜덤샘플링 분포')\n",
    "\n",
    "fig.show()"
   ]
  },
  {
   "cell_type": "markdown",
   "id": "586fb27e-03d1-48f2-930c-d5d47da69e48",
   "metadata": {},
   "source": [
    "--- \n",
    "#### - t-test 가설검정 : ttest_ind()\n",
    "---"
   ]
  },
  {
   "cell_type": "code",
   "execution_count": 11,
   "id": "0a721947-59c8-4f4b-b3d0-532b0e5c2190",
   "metadata": {},
   "outputs": [],
   "source": [
    "## 파이썬, C++, JavaScript 도서들의 대출건수는 차이가 있는가? \n",
    "## 참고 : 컴퓨터 관련 도서들의 주제분류번호는 모두 00 으로 시작한다. \n",
    "\n",
    "python_books_index = ns_book7['주제분류번호'].str.startswith('00') & ns_book7['도서명'].str.contains('파이썬')\n",
    "python_books = ns_book7[python_books_index] \n",
    "\n",
    "cplus_books_index = ns_book7['주제분류번호'].str.startswith('00') & ns_book7['도서명'].str.contains('C++', regex = False)\n",
    "cplus_books = ns_book7[cplus_books_index] \n",
    "\n",
    "java_books_index = ns_book7['주제분류번호'].str.startswith('00') & ns_book7['도서명'].str.contains('자바스크립트')\n",
    "java_books = ns_book7[java_books_index] "
   ]
  },
  {
   "cell_type": "code",
   "execution_count": 12,
   "id": "97145688-77ed-4bae-8965-0004ff13527c",
   "metadata": {},
   "outputs": [
    {
     "name": "stdout",
     "output_type": "stream",
     "text": [
      "파이썬 = 251\n",
      "C++ = 89\n",
      "자바스크립트 = 105\n"
     ]
    }
   ],
   "source": [
    "print('파이썬 =', len(python_books))\n",
    "print('C++ =', len(cplus_books))\n",
    "print('자바스크립트 =', len(java_books))"
   ]
  },
  {
   "cell_type": "code",
   "execution_count": 16,
   "id": "28c8a38b-0014-4c29-86a6-45a5f8fd4486",
   "metadata": {},
   "outputs": [
    {
     "name": "stdout",
     "output_type": "stream",
     "text": [
      "-파이썬 vs C++ : 대출건수 평균 차이(t-score, p-value) =  2.1390005694958574 0.03315179520224784\n",
      "-파이썬 vs JavaScript : 대출건수 평균 차이(t-score, p-value) =  -0.5523987093630017 0.5810238142528562\n"
     ]
    }
   ],
   "source": [
    "## ttest_ind()는 t-score와 p-value를 반환 \n",
    "from scipy import stats\n",
    "\n",
    "t, pvalue = stats.ttest_ind(python_books['대출건수'], cplus_books['대출건수'])\n",
    "print('-파이썬 vs C++ : 대출건수 평균 차이(t-score, p-value) = ', t, pvalue)\n",
    "\n",
    "t, pvalue = stats.ttest_ind(python_books['대출건수'], java_books['대출건수'])\n",
    "print('-파이썬 vs JavaScript : 대출건수 평균 차이(t-score, p-value) = ', t, pvalue)"
   ]
  },
  {
   "cell_type": "markdown",
   "id": "6ada80f8-c03a-476f-96c9-583e92b64128",
   "metadata": {},
   "source": [
    "- t-test 결과 파이썬과 C++의 대출건수는 유의미한 차이가 존재하나, 파이썬과 자바스크립트 간에는 차이가 있다고 할수 없다. \n",
    "--- \n",
    "#### 07-2 머신러닝으로 예측하기 : 장서수가 많으면 대출건수도 많을까?\n",
    "- training, test set 분리 \n",
    "- LinearRegression 모델 훈련 및 검증 \n",
    "- LogisticRegression 모델 훈련 및 검증 "
   ]
  },
  {
   "cell_type": "code",
   "execution_count": 26,
   "id": "bd0e8f30-4db3-4a89-a3dd-3e5da80fbde8",
   "metadata": {},
   "outputs": [
    {
     "name": "stdout",
     "output_type": "stream",
     "text": [
      "(300903, 13)\n",
      "(75226, 13)\n"
     ]
    }
   ],
   "source": [
    "from sklearn.model_selection import  train_test_split\n",
    "train_set, test_set = train_test_split(ns_book7, test_size = 0.2, random_state = 42)\n",
    "print(train_set.shape)\n",
    "print(test_set.shape)"
   ]
  },
  {
   "cell_type": "code",
   "execution_count": 27,
   "id": "d2fd9c4a-3329-4cef-9374-b56e4459b4f7",
   "metadata": {},
   "outputs": [
    {
     "name": "stdout",
     "output_type": "stream",
     "text": [
      "(300903, 1)\n",
      "(300903,)\n"
     ]
    }
   ],
   "source": [
    "## input값은 2차원 배열이어야 함. 따라서 도서권수를 리스트로 감싼다. \n",
    "train_input = train_set[['도서권수']]\n",
    "train_target = train_set['대출건수']\n",
    "print(train_input.shape)\n",
    "print(train_target.shape)"
   ]
  },
  {
   "cell_type": "code",
   "execution_count": 28,
   "id": "36c2619f-3a1c-47da-ac85-d04dcdcd5199",
   "metadata": {},
   "outputs": [
    {
     "data": {
      "text/plain": [
       "0.10108060361854632"
      ]
     },
     "execution_count": 28,
     "metadata": {},
     "output_type": "execute_result"
    }
   ],
   "source": [
    "from sklearn.linear_model import LinearRegression\n",
    "lr = LinearRegression()\n",
    "lr.fit(train_input, train_target)\n",
    "lr.score(train_input, train_target)"
   ]
  },
  {
   "cell_type": "code",
   "execution_count": 29,
   "id": "a7df7875-c266-4e33-ae24-c3dcbd4e59d3",
   "metadata": {},
   "outputs": [
    {
     "data": {
      "text/plain": [
       "0.09946847025274175"
      ]
     },
     "execution_count": 29,
     "metadata": {},
     "output_type": "execute_result"
    }
   ],
   "source": [
    "test_input = test_set[['도서권수']]\n",
    "test_target = test_set['대출건수']\n",
    "lr.score(test_input, test_target)"
   ]
  },
  {
   "cell_type": "markdown",
   "id": "f4c1dae6-24d4-4284-8c83-f2a7a780c6a4",
   "metadata": {},
   "source": [
    "- 결정계수(R square)가 10% 수준으로 별로 좋지 못하다. "
   ]
  },
  {
   "cell_type": "code",
   "execution_count": 31,
   "id": "45328363-4b15-4085-ac09-7501aa92cb11",
   "metadata": {},
   "outputs": [
    {
     "name": "stdout",
     "output_type": "stream",
     "text": [
      "164654    False\n",
      "291430     True\n",
      "151777     True\n",
      "317367    False\n",
      "306802     True\n",
      "Name: 대출건수, dtype: bool\n",
      "304247    False\n",
      "91369      True\n",
      "310076     True\n",
      "166819    False\n",
      "20089     False\n",
      "Name: 대출건수, dtype: bool\n"
     ]
    }
   ],
   "source": [
    "## 장서 수가 많으면 대출건수가 평균보다 높다? \n",
    "## LogisticRegression을 위해, target을 평균대비 높다/낮다의 불리언으로 변환 (False/True를 자동으로 0/1로 인식함)\n",
    "borrow_mean = ns_book7['대출건수'].mean()\n",
    "train_target_c = train_target > borrow_mean\n",
    "test_target_c = test_target > borrow_mean\n",
    "\n",
    "print(train_target_c[:5])\n",
    "print(test_target_c[:5])"
   ]
  },
  {
   "cell_type": "code",
   "execution_count": 33,
   "id": "3034fe30-9a84-4c35-b61c-8db1532fc5be",
   "metadata": {},
   "outputs": [
    {
     "data": {
      "text/plain": [
       "0.7090989455073562"
      ]
     },
     "execution_count": 33,
     "metadata": {},
     "output_type": "execute_result"
    }
   ],
   "source": [
    "from sklearn.linear_model import LogisticRegression\n",
    "logr = LogisticRegression()\n",
    "logr.fit(train_input, train_target_c)\n",
    "logr.score(train_input, train_target_c)"
   ]
  },
  {
   "cell_type": "code",
   "execution_count": 34,
   "id": "07ad47f0-5922-4fe9-b296-a3fdcdff9607",
   "metadata": {},
   "outputs": [
    {
     "data": {
      "text/plain": [
       "0.7085316247042246"
      ]
     },
     "execution_count": 34,
     "metadata": {},
     "output_type": "execute_result"
    }
   ],
   "source": [
    "logr.score(test_input, test_target_c)"
   ]
  },
  {
   "cell_type": "markdown",
   "id": "b1aac257-364f-4ad6-bca0-4cc9c029c04b",
   "metadata": {},
   "source": [
    "--- \n",
    "### !참고 : DummyClassifier \n",
    "- 모델 훈련이 아닌 단순히 샘플에서 더 많은 값을 찍었을때의 성능을 나타냄 \n",
    "- 앞서 LinearRegression이나 LogisticRegression의 성능이, 더미분류와 비슷하다면 모델링의 의미가 없다고 판단해야 할 것임 \n",
    "---"
   ]
  },
  {
   "cell_type": "code",
   "execution_count": 36,
   "id": "c30fa49a-228d-4f17-aaa1-f39835ca35a5",
   "metadata": {},
   "outputs": [
    {
     "data": {
      "text/plain": [
       "0.6925487615610346"
      ]
     },
     "execution_count": 36,
     "metadata": {},
     "output_type": "execute_result"
    }
   ],
   "source": [
    "from sklearn.dummy import DummyClassifier\n",
    "dc = DummyClassifier()\n",
    "dc.fit(train_input, train_target)\n",
    "dc.score(train_input, train_target_c)"
   ]
  },
  {
   "cell_type": "code",
   "execution_count": 37,
   "id": "ef5239bd-b121-4d90-a9b4-02bca4151a69",
   "metadata": {},
   "outputs": [
    {
     "data": {
      "text/plain": [
       "0.6920213755882275"
      ]
     },
     "execution_count": 37,
     "metadata": {},
     "output_type": "execute_result"
    }
   ],
   "source": [
    "dc.score(test_input, test_target_c)"
   ]
  },
  {
   "cell_type": "markdown",
   "id": "eb0c6b29-e779-47fc-8e01-8570b009d3e1",
   "metadata": {},
   "source": [
    "#### - 앞서 로지스틱 분류 정확도가 70% 였는데, 더미분류를 해도 69%로 거의 비슷함 --> 로지스틱 모형의 의미가 없다. \n",
    "#### - train/test_target_c의 구성을 살펴보면 대부분이 0(False)이기 때문에 이러한 결과 발생. "
   ]
  },
  {
   "cell_type": "code",
   "execution_count": 38,
   "id": "47006a69-4f7f-4973-a5ac-fef80a21c54d",
   "metadata": {},
   "outputs": [
    {
     "data": {
      "text/plain": [
       "False    208390\n",
       "True      92513\n",
       "Name: 대출건수, dtype: int64"
      ]
     },
     "execution_count": 38,
     "metadata": {},
     "output_type": "execute_result"
    }
   ],
   "source": [
    "train_target_c.value_counts()"
   ]
  },
  {
   "cell_type": "code",
   "execution_count": 39,
   "id": "aed034a0-c383-4bfb-9f78-b302d925af9f",
   "metadata": {},
   "outputs": [
    {
     "data": {
      "text/plain": [
       "False    52058\n",
       "True     23168\n",
       "Name: 대출건수, dtype: int64"
      ]
     },
     "execution_count": 39,
     "metadata": {},
     "output_type": "execute_result"
    }
   ],
   "source": [
    "test_target_c.value_counts()"
   ]
  },
  {
   "cell_type": "code",
   "execution_count": null,
   "id": "00b4b280-4d2f-47ca-b941-2e9f91767679",
   "metadata": {},
   "outputs": [],
   "source": []
  }
 ],
 "metadata": {
  "kernelspec": {
   "display_name": "Python 3",
   "language": "python",
   "name": "python3"
  },
  "language_info": {
   "codemirror_mode": {
    "name": "ipython",
    "version": 3
   },
   "file_extension": ".py",
   "mimetype": "text/x-python",
   "name": "python",
   "nbconvert_exporter": "python",
   "pygments_lexer": "ipython3",
   "version": "3.8.8"
  }
 },
 "nbformat": 4,
 "nbformat_minor": 5
}
