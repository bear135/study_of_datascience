{
 "cells": [
  {
   "cell_type": "markdown",
   "id": "beeef842-6941-459c-b730-3135689cde77",
   "metadata": {},
   "source": [
    "### 초보자를 위한 파이썬 300제 \n",
    "##### https://wikidocs.net/7014 "
   ]
  },
  {
   "cell_type": "markdown",
   "id": "ae12648f-aea7-4f78-9ebd-b54dc1a2d775",
   "metadata": {},
   "source": [
    "#### <font color = 'yellow'> Part I. Basic Garmmer </font>"
   ]
  },
  {
   "cell_type": "code",
   "execution_count": 1,
   "id": "9cc7d7a9-79c5-4025-8d97-8a444a854dd3",
   "metadata": {},
   "outputs": [
    {
     "name": "stdout",
     "output_type": "stream",
     "text": [
      "naver;kakao;samsung\n",
      "naver/kakao/samsung\n"
     ]
    }
   ],
   "source": [
    "## Q) 007, 008 : 구분자를 이용한 출력 \n",
    "print(\"naver\", \"kakao\", \"samsung\", sep=\";\")\n",
    "print(\"naver\", \"kakao\", \"samsung\", sep=\"/\")"
   ]
  },
  {
   "cell_type": "code",
   "execution_count": 2,
   "id": "a16d1ed3-3f46-4627-883b-272624b18238",
   "metadata": {},
   "outputs": [
    {
     "name": "stdout",
     "output_type": "stream",
     "text": [
      "100 <class 'str'>\n",
      "15.79 <class 'float'>\n"
     ]
    }
   ],
   "source": [
    "## Q) 017, 018 : 변수 타입을 변경하고, 이를 타입과 함께 출력하기 \n",
    "num = 100 \n",
    "num_str = str(num)\n",
    "print(num_str, type(num_str))\n",
    "\n",
    "data = \"15.79\"\n",
    "data = float(data)\n",
    "print(data, type(data))"
   ]
  },
  {
   "cell_type": "code",
   "execution_count": 3,
   "id": "77382232-8ae0-4df1-8db5-92906239b4f9",
   "metadata": {},
   "outputs": [
    {
     "data": {
      "text/plain": [
       "'홀홀홀'"
      ]
     },
     "execution_count": 3,
     "metadata": {},
     "output_type": "execute_result"
    }
   ],
   "source": [
    "## Q-023 : n개씩 건너뛰기 \n",
    "string = \"홀짝홀짝홀짝\"   ## '홀'만 출력하라 \n",
    "string[::2]"
   ]
  },
  {
   "cell_type": "code",
   "execution_count": 4,
   "id": "a6409c23-55b6-4d80-b843-f58fe775220c",
   "metadata": {},
   "outputs": [
    {
     "data": {
      "text/plain": [
       "'NOHTYP'"
      ]
     },
     "execution_count": 4,
     "metadata": {},
     "output_type": "execute_result"
    }
   ],
   "source": [
    "## Q-024 : 문자열 뒤집기 \n",
    "string2 = \"PYTHON\"\n",
    "string2[::-1]"
   ]
  },
  {
   "cell_type": "code",
   "execution_count": 5,
   "id": "8e9d83ec-ee04-490b-ac60-3551289c9688",
   "metadata": {},
   "outputs": [
    {
     "data": {
      "text/plain": [
       "'01012345678'"
      ]
     },
     "execution_count": 5,
     "metadata": {},
     "output_type": "execute_result"
    }
   ],
   "source": [
    "## Q-025 : replace \n",
    "phone_number = \"010-1234-5678\"\n",
    "phone_number_new = phone_number.replace('-', '')\n",
    "phone_number_new"
   ]
  },
  {
   "cell_type": "code",
   "execution_count": 6,
   "id": "3775504c-ab52-48ec-9478-0427a91351e5",
   "metadata": {},
   "outputs": [
    {
     "data": {
      "text/plain": [
       "['http://sharebook', 'kr']"
      ]
     },
     "execution_count": 6,
     "metadata": {},
     "output_type": "execute_result"
    }
   ],
   "source": [
    "## Q-027 : split \n",
    "url = \"http://sharebook.kr\"\n",
    "url_split = url.split('.')\n",
    "url_split"
   ]
  },
  {
   "cell_type": "code",
   "execution_count": 7,
   "id": "b3dd1c79-a772-48d6-9c14-2c7c0125db67",
   "metadata": {},
   "outputs": [
    {
     "name": "stdout",
     "output_type": "stream",
     "text": [
      "이름: 김민수 나이: 10\n",
      "이름: 이철희 나이: 13\n",
      "-------------------------------------\n",
      "이름: 김민수 나이: 10\n",
      "이름: 이철희 나이: 13\n"
     ]
    }
   ],
   "source": [
    "## Q-035 : 문자열 출력시 % 또는 foramt()의 사용 \n",
    "name1 = \"김민수\" \n",
    "age1 = 10\n",
    "name2 = \"이철희\"\n",
    "age2 = 13\n",
    "\n",
    "print(\"이름: %s 나이: %d\" % (name1, age1))\n",
    "print(\"이름: %s 나이: %d\" % (name2, age2))\n",
    "\n",
    "print('-------------------------------------')\n",
    "\n",
    "print(\"이름: {} 나이: {}\".format(name1, age1))\n",
    "print(\"이름: {} 나이: {}\".format(name2, age2))"
   ]
  },
  {
   "cell_type": "code",
   "execution_count": 8,
   "id": "5b712187-4c91-4fb5-be32-c6bfcc8bd918",
   "metadata": {},
   "outputs": [
    {
     "data": {
      "text/plain": [
       "'Hello'"
      ]
     },
     "execution_count": 8,
     "metadata": {},
     "output_type": "execute_result"
    }
   ],
   "source": [
    "## Q-043 : capitalize \n",
    "a = \"hello\"\n",
    "a = a.capitalize()\n",
    "a"
   ]
  },
  {
   "cell_type": "code",
   "execution_count": 9,
   "id": "3a96292d-4aa7-4e60-bd9d-4bab2cd14ef7",
   "metadata": {},
   "outputs": [
    {
     "name": "stdout",
     "output_type": "stream",
     "text": [
      "False True\n"
     ]
    }
   ],
   "source": [
    "## Q-045, 046 : startswith(), endswith()\n",
    "file_name = \"2020_보고서.xlsx\"\n",
    "\n",
    "a = file_name.startswith((\"2021\"))\n",
    "b = file_name.endswith((\"xlsx\", \"xls\"))\n",
    "\n",
    "print(a, b)"
   ]
  },
  {
   "cell_type": "code",
   "execution_count": 10,
   "id": "48142a96-00aa-423d-9cb7-9914895ae23f",
   "metadata": {},
   "outputs": [
    {
     "data": {
      "text/plain": [
       "['닥터 스트레인지', '슈퍼맨', '스플릿', '럭키']"
      ]
     },
     "execution_count": 10,
     "metadata": {},
     "output_type": "execute_result"
    }
   ],
   "source": [
    "## Q-053 : insert()\n",
    "movie_rank = ['닥터 스트레인지', '스플릿', '럭키']\n",
    "movie_rank.insert(1, '슈퍼맨')\n",
    "movie_rank"
   ]
  },
  {
   "cell_type": "code",
   "execution_count": 11,
   "id": "cf967e80-cbf5-49ad-805f-2fe5cc67beaf",
   "metadata": {},
   "outputs": [
    {
     "name": "stdout",
     "output_type": "stream",
     "text": [
      "['닥터 스트레인지', '슈퍼맨', '스플릿', '럭키']\n",
      "['닥터 스트레인지', '슈퍼맨', '스플릿']\n"
     ]
    }
   ],
   "source": [
    "## Q-054 : del \n",
    "print(movie_rank)\n",
    "del movie_rank[3]\n",
    "print(movie_rank)"
   ]
  },
  {
   "cell_type": "code",
   "execution_count": 12,
   "id": "654c380b-334f-4843-858e-3ecfded995b7",
   "metadata": {},
   "outputs": [
    {
     "name": "stdout",
     "output_type": "stream",
     "text": [
      "삼성전자  LG전자  Naver  SK하이닉스  미래에셋대우\n",
      "삼성전자 / LG전자 / Naver / SK하이닉스 / 미래에셋대우\n",
      "삼성전자 \n",
      " LG전자 \n",
      " Naver \n",
      " SK하이닉스 \n",
      " 미래에셋대우\n"
     ]
    }
   ],
   "source": [
    "## Q-066 : join \n",
    "interest = ['삼성전자', 'LG전자', 'Naver', 'SK하이닉스', '미래에셋대우']\n",
    "\n",
    "a = \"  \".join(interest)\n",
    "print(a)\n",
    "\n",
    "b = \" / \".join(interest)\n",
    "print(b)\n",
    "\n",
    "c = \" \\n \".join(interest)\n",
    "print(c)"
   ]
  },
  {
   "cell_type": "code",
   "execution_count": 13,
   "id": "599a4173-5d6f-475b-9cc3-d4475fa21485",
   "metadata": {},
   "outputs": [
    {
     "name": "stdout",
     "output_type": "stream",
     "text": [
      "<class 'tuple'>\n",
      "<class 'list'>\n"
     ]
    }
   ],
   "source": [
    "## Q-077 : tuple into list \n",
    "interest = ('삼성전자', 'LG전자', 'SK Hynix')\n",
    "print(type(interest))\n",
    "\n",
    "data = list(interest)\n",
    "print(type(data))"
   ]
  },
  {
   "cell_type": "code",
   "execution_count": 14,
   "id": "21a39e0b-f1de-4b35-861d-5d9f1c21795c",
   "metadata": {},
   "outputs": [
    {
     "name": "stdout",
     "output_type": "stream",
     "text": [
      "[1, 11, 21, 31, 41, 51, 61, 71, 81, 91]\n",
      "(1, 11, 21, 31, 41, 51, 61, 71, 81, 91)\n",
      "(2, 4, 6, 8, 10, 12, 14, 16, 18, 20, 22, 24, 26, 28, 30, 32, 34, 36, 38, 40, 42, 44, 46, 48, 50, 52, 54, 56, 58, 60, 62, 64, 66, 68, 70, 72, 74, 76, 78, 80, 82, 84, 86, 88, 90, 92, 94, 96, 98)\n"
     ]
    }
   ],
   "source": [
    "## Q-080 : range \n",
    "a = list(range(1,100,10))\n",
    "print(a)\n",
    "\n",
    "b = tuple(range(1,100,10))\n",
    "print(b)\n",
    "\n",
    "c = tuple(range(2,100,2)) ## 짝수만 .. \n",
    "print(c)"
   ]
  },
  {
   "cell_type": "code",
   "execution_count": 15,
   "id": "19b13e21-0d4e-45c5-9e9b-2b19aa678627",
   "metadata": {},
   "outputs": [
    {
     "name": "stdout",
     "output_type": "stream",
     "text": [
      "dict_keys(['탱크보이', '폴라포', '빵빠레', '월드콘', '메로나'])\n",
      "dict_values([1200, 1200, 1800, 1500, 1000])\n"
     ]
    }
   ],
   "source": [
    "## Q-095 : dictionary keys(), vlaues()\n",
    "icecream = {'탱크보이': 1200, '폴라포': 1200, '빵빠레': 1800, '월드콘': 1500, '메로나': 1000}\n",
    "print(icecream.keys())\n",
    "print(icecream.values())"
   ]
  },
  {
   "cell_type": "code",
   "execution_count": 16,
   "id": "2ca53d7a-8aa1-48a3-85fe-7dca965cdec2",
   "metadata": {},
   "outputs": [
    {
     "name": "stdout",
     "output_type": "stream",
     "text": [
      "{'apple': 300, 'pear': 250, 'peach': 400}\n",
      "{'09/05': 10500, '09/06': 10300, '09/07': 10100, '09/08': 10800, '09/09': 11000}\n"
     ]
    }
   ],
   "source": [
    "## Q-099 : zip \n",
    "keys = (\"apple\", \"pear\", \"peach\")\n",
    "vals = (300, 250, 400)\n",
    "result = dict(zip(keys, vals))\n",
    "print(result)\n",
    "\n",
    "date = ['09/05', '09/06', '09/07', '09/08', '09/09']\n",
    "close_price = [10500, 10300, 10100, 10800, 11000]\n",
    "close_table = dict(zip(date, close_price))\n",
    "print(close_table)"
   ]
  },
  {
   "cell_type": "markdown",
   "id": "1bbd820d-dc30-4314-8fd1-13e4b74ec834",
   "metadata": {},
   "source": [
    "#### <font color = 'yellow'> Part II. if, for </font>"
   ]
  },
  {
   "cell_type": "code",
   "execution_count": 17,
   "id": "e84013bb-1381-47bf-a0d5-6625ab6015c6",
   "metadata": {},
   "outputs": [
    {
     "name": "stdout",
     "output_type": "stream",
     "text": [
      "홀\n",
      "180\n",
      "A\n"
     ]
    }
   ],
   "source": [
    "## Q-113, 121 : if / elif / else \n",
    "input = 31\n",
    "if int(input) % 2 == 0 :\n",
    "    print('짝')\n",
    "else : \n",
    "    print('홀')\n",
    "\n",
    "####################################    \n",
    "input = int(200)\n",
    "if input < 0 : \n",
    "    print(0)\n",
    "elif input > 255 : \n",
    "    print(255)\n",
    "else : \n",
    "    print(input - 20)  \n",
    "    \n",
    "####################################    \n",
    "input = 'a'\n",
    "if input.islower() : \n",
    "    print(input.upper())\n",
    "else: \n",
    "    print(input)"
   ]
  },
  {
   "cell_type": "code",
   "execution_count": 18,
   "id": "f37e08f1-42e4-4fc1-ad55-0920a11257f8",
   "metadata": {},
   "outputs": [
    {
     "name": "stdout",
     "output_type": "stream",
     "text": [
      "17100.0 원\n"
     ]
    }
   ],
   "source": [
    "## Q-012 : 환율계산기 \n",
    "환율 = {\"달러\": 1167, \n",
    "        \"엔\": 1.096, \n",
    "        \"유로\": 1268, \n",
    "        \"위안\": 171}\n",
    "\n",
    "#input = '100 달러'\n",
    "input = '100 위안'\n",
    "\n",
    "num, currency = input.split()\n",
    "print(float(num) * 환율[currency], \"원\")"
   ]
  },
  {
   "cell_type": "code",
   "execution_count": 19,
   "id": "e5b2f8da-0d27-4920-b268-b17cf06630a0",
   "metadata": {},
   "outputs": [
    {
     "name": "stdout",
     "output_type": "stream",
     "text": [
      "10\n",
      "20\n",
      "30\n",
      "40\n",
      "50\n",
      "60\n",
      "70\n",
      "80\n",
      "90\n"
     ]
    }
   ],
   "source": [
    "## Q-137 : Basic 'for' usage \n",
    "a = [10,20,30,40,50,60,70,80,90]\n",
    "\n",
    "for i in a : \n",
    "    print(i)    "
   ]
  },
  {
   "cell_type": "code",
   "execution_count": 20,
   "id": "7be3af22-731e-4219-8eaf-7345c33b8f0e",
   "metadata": {},
   "outputs": [
    {
     "name": "stdout",
     "output_type": "stream",
     "text": [
      "나\n",
      "다\n",
      "라\n",
      "마\n",
      "바\n",
      "사\n",
      "아\n",
      "------------------\n",
      "가\n",
      "다\n",
      "마\n",
      "사\n",
      "------------------\n",
      "아\n",
      "사\n",
      "바\n",
      "마\n",
      "라\n",
      "다\n",
      "나\n",
      "가\n"
     ]
    }
   ],
   "source": [
    "## Q-149, 150 : for문에서 slice 사용 \n",
    "lst = [\"가\", \"나\", \"다\", \"라\", \"마\", \"바\", \"사\", \"아\"]\n",
    "\n",
    "for i in lst[1:] : \n",
    "    print(i)\n",
    "\n",
    "print('------------------')    \n",
    "    \n",
    "for i in lst[::2] : \n",
    "    print(i)\n",
    "\n",
    "print('------------------')    \n",
    "\n",
    "for i in lst[::-1] : \n",
    "    print(i) "
   ]
  },
  {
   "cell_type": "code",
   "execution_count": 21,
   "id": "5abb7e0f-a2c6-4dcb-abe4-15194533c541",
   "metadata": {},
   "outputs": [
    {
     "name": "stdout",
     "output_type": "stream",
     "text": [
      "-20\n",
      "-3\n",
      "---------------------\n",
      "3\n",
      "-3\n"
     ]
    }
   ],
   "source": [
    "## Q-151, 152 : for문에서 if 사용 \n",
    "lst = [3, -20, -3, 44, 100, 23, 44]\n",
    "\n",
    "for i in lst : \n",
    "    if i < 0 : \n",
    "        print(i) \n",
    "\n",
    "print('---------------------')       \n",
    "\n",
    "for i in lst : \n",
    "    if (i % 3) == 0 : \n",
    "        print(i)"
   ]
  },
  {
   "cell_type": "code",
   "execution_count": 22,
   "id": "643bcab9-ca16-4a37-b7ef-683016fec66c",
   "metadata": {},
   "outputs": [
    {
     "name": "stdout",
     "output_type": "stream",
     "text": [
      "hello\n",
      "ex01\n",
      "intro\n"
     ]
    }
   ],
   "source": [
    "## Q-158 : 파일확장자 제거하기 \n",
    "txt = ['hello.py', 'ex01.py', 'intro.hwp']\n",
    "\n",
    "for i in txt : \n",
    "    a = i.split('.')\n",
    "    print(a[0])"
   ]
  },
  {
   "cell_type": "code",
   "execution_count": 23,
   "id": "f9b4b1be-32d9-488d-a211-88dbe4004211",
   "metadata": {},
   "outputs": [
    {
     "name": "stdout",
     "output_type": "stream",
     "text": [
      "3x 0 = 3\n",
      "3x 1 = 6\n",
      "3x 2 = 9\n",
      "3x 3 = 12\n",
      "3x 4 = 15\n",
      "3x 5 = 18\n",
      "3x 6 = 21\n",
      "3x 7 = 24\n",
      "3x 8 = 27\n",
      "3x 9 = 30\n"
     ]
    }
   ],
   "source": [
    "## Q-166 : 구구단 만들기 \n",
    "for i in range(10) : \n",
    "    a = 3 * (i + 1)\n",
    "    print(\"3x\", i, '=', a)"
   ]
  },
  {
   "cell_type": "code",
   "execution_count": 24,
   "id": "34ed6c11-4751-44a8-9c35-162ac33a7a47",
   "metadata": {},
   "outputs": [
    {
     "name": "stdout",
     "output_type": "stream",
     "text": [
      "1\n",
      "3\n",
      "6\n",
      "10\n",
      "15\n",
      "21\n",
      "28\n",
      "36\n",
      "45\n",
      "55\n",
      "------------------------------\n",
      "55\n",
      "------------------------------\n",
      "3628800\n"
     ]
    }
   ],
   "source": [
    "## Q-168, 170 : 10~10까지 모두 더하기 or 곱하기\n",
    "k = 0 \n",
    "for i in range(1, 11) : \n",
    "    k += i \n",
    "    print(k)\n",
    "\n",
    "print('------------------------------')    \n",
    "    \n",
    "j = 0 \n",
    "for i in range(1, 11) : \n",
    "    j += i \n",
    "\n",
    "print(j)\n",
    "\n",
    "print('------------------------------')    \n",
    "\n",
    "x = 1 \n",
    "\n",
    "for i in range(1, 11) : \n",
    "    x *= i \n",
    "\n",
    "print(x)"
   ]
  },
  {
   "cell_type": "code",
   "execution_count": 25,
   "id": "035f3cdf-aaef-4d39-88b7-2d2ca05cd80e",
   "metadata": {},
   "outputs": [
    {
     "name": "stdout",
     "output_type": "stream",
     "text": [
      "가 나 다\n",
      "나 다 라\n",
      "다 라 마\n"
     ]
    }
   ],
   "source": [
    "## Q-176 : 원소 3개씩 출력하기 \n",
    "my_list = [\"가\", \"나\", \"다\", \"라\", \"마\"]\n",
    "\n",
    "for i in range(len(my_list)-2) : \n",
    "    print(my_list[i], my_list[i+1], my_list[i+2])"
   ]
  },
  {
   "cell_type": "code",
   "execution_count": 26,
   "id": "744840f0-c717-4be2-9bb8-f0ff4cb622ba",
   "metadata": {},
   "outputs": [
    {
     "data": {
      "text/plain": [
       "[50, 100, 30, 80, 0]"
      ]
     },
     "execution_count": 26,
     "metadata": {},
     "output_type": "execute_result"
    }
   ],
   "source": [
    "## Q-18 : 변동폭 구하기 \n",
    "low_prices  = [100, 200, 400, 800, 1000]\n",
    "high_prices = [150, 300, 430, 880, 1000]\n",
    "\n",
    "volatility = []\n",
    "for i in range(len(low_prices)) : \n",
    "    volatility.append(high_prices[i] - low_prices[i])\n",
    "    \n",
    "volatility"
   ]
  },
  {
   "cell_type": "code",
   "execution_count": 27,
   "id": "c3d8565d-9355-4a47-94d9-c5f563e44aa9",
   "metadata": {},
   "outputs": [
    {
     "name": "stdout",
     "output_type": "stream",
     "text": [
      "101 호\n",
      "102 호\n",
      "201 호\n",
      "202 호\n",
      "301 호\n",
      "302 호\n",
      "-------------------\n",
      "301 호\n",
      "302 호\n",
      "201 호\n",
      "202 호\n",
      "101 호\n",
      "102 호\n",
      "-------------------\n",
      "301 호\n",
      "302 호\n",
      "==========\n",
      "201 호\n",
      "202 호\n",
      "==========\n",
      "101 호\n",
      "102 호\n",
      "==========\n"
     ]
    }
   ],
   "source": [
    "## Q-185, 186 : 행렬에 대해 출력하기 \n",
    "apart = [ [101, 102], \n",
    "          [201, 202], \n",
    "          [301, 302] ]\n",
    "\n",
    "for row in apart : \n",
    "    for col in row : \n",
    "        print(col, '호')\n",
    "        \n",
    "print('-------------------')\n",
    "\n",
    "for row in apart[::-1] : \n",
    "    for col in row : \n",
    "        print(col, '호')\n",
    "        \n",
    "print('-------------------')\n",
    "\n",
    "for row in apart[::-1] : \n",
    "    for col in row : \n",
    "        print(col, '호')\n",
    "    print('='*10)"
   ]
  },
  {
   "cell_type": "code",
   "execution_count": 28,
   "id": "c0e67e2a-36ed-4c47-92e4-2445c853bf73",
   "metadata": {},
   "outputs": [
    {
     "data": {
      "text/plain": [
       "[[2000.28, 3050.43, 2050.29, 1980.28],\n",
       " [7501.05, 2050.29, 2050.29, 1980.28],\n",
       " [15452.16, 15052.11, 15552.18, 14902.09]]"
      ]
     },
     "execution_count": 28,
     "metadata": {},
     "output_type": "execute_result"
    }
   ],
   "source": [
    "## Q-194 : 가격에 부가세 0.014%를 반영한 후, 원래와 같은 3x4 matrix로 저장하라 \n",
    "price = [\n",
    "    [ 2000,  3050,  2050,  1980],\n",
    "    [ 7500,  2050,  2050,  1980],\n",
    "    [15450, 15050, 15550, 14900]\n",
    "]\n",
    "\n",
    "fee = 0.00014\n",
    "\n",
    "result = []\n",
    "for row in price : \n",
    "    sub = []\n",
    "    for col in row : \n",
    "        sub.append(round(col * (1+fee),2))\n",
    "    result.append(sub)\n",
    "\n",
    "result"
   ]
  },
  {
   "cell_type": "markdown",
   "id": "4060eabf-b34e-4ffa-855e-eb013903c195",
   "metadata": {},
   "source": [
    "#### <font color = 'yellow'> Part III. Function & Module</font>"
   ]
  },
  {
   "cell_type": "code",
   "execution_count": 29,
   "id": "5bd08c78-8966-46ac-9c14-45f814c8599a",
   "metadata": {},
   "outputs": [
    {
     "name": "stdout",
     "output_type": "stream",
     "text": [
      "bit_coin\n",
      "bit_coin\n",
      "bit_coin\n",
      "bit_coin\n",
      "bit_coin\n",
      "bit_coin\n",
      "bit_coin\n",
      "bit_coin\n",
      "bit_coin\n",
      "bit_coin\n"
     ]
    }
   ],
   "source": [
    "## Q-204 : 특정 텍스트를 10번 반복 출력하는 함수 만들기\n",
    "def print_coin() : \n",
    "    for i in range(10) : \n",
    "        print('bit_coin')\n",
    "\n",
    "print_coin()"
   ]
  },
  {
   "cell_type": "code",
   "execution_count": 30,
   "id": "07384868-2ab4-4a85-b41d-f51d4fdb7d63",
   "metadata": {},
   "outputs": [
    {
     "name": "stdout",
     "output_type": "stream",
     "text": [
      "현재시각: 2021-06-11 19:16:07.313070\n"
     ]
    }
   ],
   "source": [
    "## Q-241 : 현재시각 \n",
    "import datetime as dt\n",
    "\n",
    "print('현재시각:', dt.datetime.now())"
   ]
  },
  {
   "cell_type": "code",
   "execution_count": 31,
   "id": "15882d43-52fd-4258-97fa-620fd386d2b3",
   "metadata": {},
   "outputs": [
    {
     "name": "stdout",
     "output_type": "stream",
     "text": [
      "10일전: 2021-06-01 19:16:07.330074\n",
      "30일전: 2021-05-12 19:16:07.331071\n"
     ]
    }
   ],
   "source": [
    "## Q-243 : timedelta\n",
    "ten_days_ago = dt.datetime.now() - dt.timedelta(days = 10)\n",
    "print('10일전:', ten_days_ago)\n",
    "\n",
    "thirty_days_ago = dt.datetime.now() - dt.timedelta(days = 30)\n",
    "print('30일전:', thirty_days_ago)"
   ]
  },
  {
   "cell_type": "code",
   "execution_count": 33,
   "id": "67bd3df1-39b6-43c0-a693-e0f52e710cb5",
   "metadata": {},
   "outputs": [],
   "source": [
    "## Q-249 : 로컬의 파일 이름 변경하기 \n",
    "import os \n",
    "\n",
    "os.rename('D:/old_dummy.txt', 'D:/new_dummy.txt')\n",
    "#os.rename('D:/new_dummy.txt', 'D:/old_dummy.txt')"
   ]
  },
  {
   "cell_type": "code",
   "execution_count": 34,
   "id": "57d55f84-ed3f-4ca5-905f-1252ff47321e",
   "metadata": {},
   "outputs": [
    {
     "name": "stdout",
     "output_type": "stream",
     "text": [
      "0.0\n",
      "0.5\n",
      "1.0\n",
      "1.5\n",
      "2.0\n",
      "2.5\n",
      "3.0\n",
      "3.5\n",
      "4.0\n",
      "4.5\n"
     ]
    }
   ],
   "source": [
    "## Q-250 : numpy.arange(a, b, k) ~ a부터 b까지 k만큼씩 증가시킨다 \n",
    "import numpy as np \n",
    "\n",
    "for i in np.arange(0, 5, 0.5) : \n",
    "    print(round(i,1))"
   ]
  },
  {
   "cell_type": "markdown",
   "id": "d480739d-70c5-40f1-a787-c0c2914d337a",
   "metadata": {},
   "source": [
    "#### <font color = 'yellow'> Part IV. Class </font>"
   ]
  },
  {
   "cell_type": "code",
   "execution_count": 35,
   "id": "cb527bb9-5e23-4930-9aeb-b9a7222ca81f",
   "metadata": {},
   "outputs": [
    {
     "name": "stdout",
     "output_type": "stream",
     "text": [
      "아름\n",
      "25\n",
      "여자\n"
     ]
    }
   ],
   "source": [
    "## Q-256 : class 선언과 사용 \n",
    "class Human:\n",
    "    def __init__(self, name, age, sex):\n",
    "        self.name = name\n",
    "        self.age = age\n",
    "        self.sex = sex\n",
    "\n",
    "areum = Human(\"아름\", 25, \"여자\")\n",
    "\n",
    "print(areum.name)\n",
    "print(areum.age)\n",
    "print(areum.sex)"
   ]
  },
  {
   "cell_type": "code",
   "execution_count": 36,
   "id": "ff8c02d2-59a9-4e33-b57d-fb78cedd594b",
   "metadata": {},
   "outputs": [
    {
     "name": "stdout",
     "output_type": "stream",
     "text": [
      "이름: 아름 나이: 25 성별: 여자\n"
     ]
    }
   ],
   "source": [
    "class Human:\n",
    "    def __init__(self, name, age, sex):\n",
    "        self.name = name\n",
    "        self.age = age\n",
    "        self.sex = sex\n",
    "\n",
    "    def who(self):\n",
    "        print(\"이름: {} 나이: {} 성별: {}\".format(self.name, self.age, self.sex))\n",
    "\n",
    "areum = Human(\"아름\", 25, \"여자\")\n",
    "areum.who()     "
   ]
  },
  {
   "cell_type": "code",
   "execution_count": 37,
   "id": "1e64180a-3edd-43e2-a1be-fd17a6e223af",
   "metadata": {},
   "outputs": [
    {
     "name": "stdout",
     "output_type": "stream",
     "text": [
      "SC은행 Irene 543-85-206315 1000 원\n"
     ]
    }
   ],
   "source": [
    "## Q-271 : 은행 계좌 개설 프로그램 \n",
    "#### 이름과 최초입금액을 입력받아, 랜덤 계좌번호를 부여하라 \n",
    "import random\n",
    "\n",
    "class Account:\n",
    "    def __init__(self, name, balance):\n",
    "        self.name = name\n",
    "        self.balance = balance\n",
    "        self.bank = \"SC은행\"\n",
    "        num1 = random.randint(0, 999)\n",
    "        num2 = random.randint(0, 99)\n",
    "        num3 = random.randint(0, 999999)\n",
    "\n",
    "        num1 = str(num1).zfill(3)      # 1 -> '1' -> '001'\n",
    "        num2 = str(num2).zfill(2)      # 1 -> '1' -> '01'\n",
    "        num3 = str(num3).zfill(6)      # 1 -> '1' -> '0000001'\n",
    "        self.account_number = num1 + '-' + num2 + '-' + num3  # 001-01-000001\n",
    "\n",
    "        \n",
    "customer = Account(\"Irene\", 1000)\n",
    "\n",
    "print(customer.bank, customer.name, customer.account_number, customer.balance, '원')"
   ]
  },
  {
   "cell_type": "code",
   "execution_count": 38,
   "id": "e7e6877f-e020-44ea-8b2e-f3ab4aa5cdb1",
   "metadata": {},
   "outputs": [
    {
     "name": "stdout",
     "output_type": "stream",
     "text": [
      "SC은행 Karina 1336.3 KRW\n",
      "SC은행 Karina 836.3 KRW\n"
     ]
    }
   ],
   "source": [
    "## Q-275 : 위 은행 계좌 개설 프로그램에서 입/출금액을 반영하여 잔고를 변경시켜라 \n",
    "class Account:\n",
    "    def __init__(self, name, balance):\n",
    "        self.name = name\n",
    "        self.balance = balance\n",
    "        self.bank = \"SC은행\"\n",
    "        num1 = random.randint(0, 999)\n",
    "        num2 = random.randint(0, 99)\n",
    "        num3 = random.randint(0, 999999)\n",
    "\n",
    "        num1 = str(num1).zfill(3)      # 1 -> '1' -> '001'\n",
    "        num2 = str(num2).zfill(2)      # 1 -> '1' -> '01'\n",
    "        num3 = str(num3).zfill(6)      # 1 -> '1' -> '0000001'\n",
    "        self.account_number = num1 + '-' + num2 + '-' + num3  # 001-01-000001\n",
    "        \n",
    "    def deposit(self, amount): \n",
    "        if amount > 1 :            # 입금액은 1원 이상이어야 한다 \n",
    "            self.balance += amount \n",
    "            if self.balance >= 1000 : \n",
    "                self.balance = (self.balance * 1.01)   ## 잔고 1만원 이상이면 1% 이자 지급\n",
    "        \n",
    "    def withdraw(self, amount): \n",
    "        if self.balance >= amount : # 출금액은 잔고 이상이 될수 없다\n",
    "            self.balance -= amount \n",
    "\n",
    "######################################################################\n",
    "customer = Account(\"Karina\", 1000)                \n",
    "\n",
    "customer.deposit(100)\n",
    "customer.deposit(100)\n",
    "customer.deposit(100)\n",
    "print(customer.bank, customer.name, round(customer.balance,1), 'KRW')\n",
    "\n",
    "customer.withdraw(200)\n",
    "customer.withdraw(300)\n",
    "print(customer.bank, customer.name, round(customer.balance,1), 'KRW')"
   ]
  },
  {
   "cell_type": "code",
   "execution_count": null,
   "id": "63f2fe6b-a3da-4fb4-ba00-78fa1689ca29",
   "metadata": {},
   "outputs": [],
   "source": []
  }
 ],
 "metadata": {
  "kernelspec": {
   "display_name": "Python 3",
   "language": "python",
   "name": "python3"
  },
  "language_info": {
   "codemirror_mode": {
    "name": "ipython",
    "version": 3
   },
   "file_extension": ".py",
   "mimetype": "text/x-python",
   "name": "python",
   "nbconvert_exporter": "python",
   "pygments_lexer": "ipython3",
   "version": "3.9.1"
  }
 },
 "nbformat": 4,
 "nbformat_minor": 5
}
