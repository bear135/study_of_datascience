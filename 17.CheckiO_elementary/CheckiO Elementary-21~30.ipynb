{
 "cells": [
  {
   "cell_type": "markdown",
   "metadata": {},
   "source": [
    "#### CheckiO Elementary (3/3)\n",
    "- CheckiO (https://py.checkio.org/)\n",
    "- 김왼손의 왼손코딩 (https://www.youtube.com/playlist?list=PLGPF8gvWLYyomy0D1-uoQHTWPvjXTjr_a)"
   ]
  },
  {
   "cell_type": "markdown",
   "metadata": {},
   "source": [
    "> <font color = 'yellow'>21.House password \n",
    "- 입력받은 pw가 보안 요건을 갖추었는지 체크 (알파벳과 숫자로 구성, 최소 10자 이상, 최소 1개 이상의 대문자/소문자/숫자 포함)"
   ]
  },
  {
   "cell_type": "code",
   "execution_count": 1,
   "metadata": {},
   "outputs": [],
   "source": [
    "#### any(~)는 ~에 하나라도 True값이 있으면 True값을 돌려준다. \n",
    "\n",
    "def house_pw(inputs) : \n",
    "    if len(inputs) < 10 : \n",
    "        return False \n",
    "    \n",
    "    if not any(c.isdigit() for c in inputs):  ## inputs안에 숫자가 하나도 없으면 False\n",
    "        return False\n",
    "    if not any(c.islower() for c in inputs): \n",
    "        return False\n",
    "    if not any(c.isupper() for c in inputs): \n",
    "        return False\n",
    "    \n",
    "    return True"
   ]
  },
  {
   "cell_type": "code",
   "execution_count": 2,
   "metadata": {},
   "outputs": [
    {
     "name": "stdout",
     "output_type": "stream",
     "text": [
      "False\n",
      "True\n",
      "False\n",
      "False\n",
      "False\n"
     ]
    }
   ],
   "source": [
    "print( house_pw('A123pokl') )\n",
    "print( house_pw('bAse730onE') )\n",
    "print( house_pw('asasasasasas') )\n",
    "print( house_pw('ABCDabcd') )\n",
    "print( house_pw('123456789123456789') )"
   ]
  },
  {
   "cell_type": "markdown",
   "metadata": {},
   "source": [
    "> <font color = 'yellow'>22.Non-unique elements \n",
    "- 리스트에서 유니크한, 즉 중복되지 않고 단독으로 존재하는 숫자를 제거하라. "
   ]
  },
  {
   "cell_type": "code",
   "execution_count": 7,
   "metadata": {},
   "outputs": [],
   "source": [
    "def non_unique(data) : \n",
    "    return [ x for x in data if data.count(x) > 1 ]"
   ]
  },
  {
   "cell_type": "code",
   "execution_count": 8,
   "metadata": {},
   "outputs": [
    {
     "name": "stdout",
     "output_type": "stream",
     "text": [
      "[1, 3, 1, 3]\n",
      "[]\n",
      "[5, 5, 5, 5, 5]\n",
      "[10, 9, 10, 10, 9]\n"
     ]
    }
   ],
   "source": [
    "print( non_unique([1,2,3,1,3]) )\n",
    "print( non_unique([1,2,3,4,5]) )\n",
    "print( non_unique([5,5,5,5,5]) )\n",
    "print( non_unique([10, 9, 10, 10, 9, 8]) )"
   ]
  },
  {
   "cell_type": "markdown",
   "metadata": {},
   "source": [
    "> <font color = 'yellow'>23.Monkey typing \n",
    "- 무작위로 타이핑된 문자열에서 지시된 단어들이 포함된 횟수가 몇번인지 파악하라. (대소문자 구분 x) "
   ]
  },
  {
   "cell_type": "code",
   "execution_count": 17,
   "metadata": {},
   "outputs": [],
   "source": [
    "def count_word(text, words) : \n",
    "    result = 0 \n",
    "    for key_word in words: \n",
    "        if key_word in text.lower() : \n",
    "            result += 1\n",
    "    return result "
   ]
  },
  {
   "cell_type": "code",
   "execution_count": 18,
   "metadata": {},
   "outputs": [
    {
     "name": "stdout",
     "output_type": "stream",
     "text": [
      "3\n",
      "2\n",
      "1\n"
     ]
    }
   ],
   "source": [
    "print( count_word(\"How aresjfhdskfhskd you?\", {\"how\", \"are\", \"you\", \"hello\"}) )\n",
    "print( count_word(\"Bananas, give me bananas!!!\", {\"banana\", \"bananas\"}) )\n",
    "print( count_word(\"Lorem ipsum dolor sit amet, consectetuer adipiscing elit.\", {\"sum\", \"hamlet\", \"infinity\", \"anything\"}) )"
   ]
  },
  {
   "cell_type": "markdown",
   "metadata": {},
   "source": [
    "> <font color = 'yellow'>24.All the same \n",
    "- 주어진 문자 또는 숫자들이 모두 같은 것인지 판단하라. "
   ]
  },
  {
   "cell_type": "code",
   "execution_count": 22,
   "metadata": {},
   "outputs": [],
   "source": [
    "#### Set은 중복이 없는 요소들 (unique elements)로만 구성된 집합 컬렉션\n",
    "#### 중복을 없앤 리스트에 단 한개의 요소만 있어야 한다. \n",
    "def all_same(data) : \n",
    "    return len(set(data)) == 1"
   ]
  },
  {
   "cell_type": "code",
   "execution_count": 23,
   "metadata": {},
   "outputs": [
    {
     "name": "stdout",
     "output_type": "stream",
     "text": [
      "True\n",
      "False\n",
      "True\n",
      "False\n"
     ]
    }
   ],
   "source": [
    "print( all_same([1,1,1]) )\n",
    "print( all_same([1,2,1]) )\n",
    "print( all_same(['a', 'a', 'a']) )\n",
    "print( all_same([]) )"
   ]
  },
  {
   "cell_type": "markdown",
   "metadata": {},
   "source": [
    "> <font color = 'yellow'>25.median \n",
    "- 주어진 리스트에서 중앙값을 찾아라 "
   ]
  },
  {
   "cell_type": "code",
   "execution_count": 24,
   "metadata": {},
   "outputs": [],
   "source": [
    "import numpy as np\n",
    "\n",
    "def cal_medi(data) : \n",
    "    return np.median(data)"
   ]
  },
  {
   "cell_type": "code",
   "execution_count": 25,
   "metadata": {},
   "outputs": [
    {
     "name": "stdout",
     "output_type": "stream",
     "text": [
      "3.0\n",
      "3.0\n",
      "11.0\n",
      "12.5\n"
     ]
    }
   ],
   "source": [
    "print( cal_medi([1,2,3,4,5]) )\n",
    "print( cal_medi([3,1,2,5,3]) )\n",
    "print( cal_medi([1,300,2,200,11]) )\n",
    "print( cal_medi([3,6,20,99,10,15]) )"
   ]
  },
  {
   "cell_type": "markdown",
   "metadata": {},
   "source": [
    "> <font color = 'yellow'>26.I love python!\n",
    "- \"I love Python!\"을 출력하라 "
   ]
  },
  {
   "cell_type": "code",
   "execution_count": 30,
   "metadata": {},
   "outputs": [],
   "source": [
    "def i_love_python() : \n",
    "    return \"I love Python!\" "
   ]
  },
  {
   "cell_type": "code",
   "execution_count": 31,
   "metadata": {},
   "outputs": [
    {
     "data": {
      "text/plain": [
       "'I love Python!'"
      ]
     },
     "execution_count": 31,
     "metadata": {},
     "output_type": "execute_result"
    }
   ],
   "source": [
    "i_love_python()"
   ]
  },
  {
   "cell_type": "markdown",
   "metadata": {},
   "source": [
    "> <font color = 'yellow'>27.Common words\n",
    "- 두 문장에 동시에 들어있는 단어들을 찾아, 알파벳 순서대로 나열하라. (단어는 ,로 구분되어 있다.)"
   ]
  },
  {
   "cell_type": "code",
   "execution_count": 37,
   "metadata": {},
   "outputs": [],
   "source": [
    "def common_words (text1, text2) : \n",
    "    text1_split = set(text1.split(','))    ## 콤마 기준으로 단어들을 쪼개고, 중복된 단어는 제거한다. \n",
    "    text2_split = set(text2.split(','))\n",
    "    \n",
    "    common = text1_split & text2_split     ## 교집합을 구한다. \n",
    "    \n",
    "    #return ','.join(sorted(common))\n",
    "    return sorted(common)"
   ]
  },
  {
   "cell_type": "code",
   "execution_count": 38,
   "metadata": {},
   "outputs": [
    {
     "name": "stdout",
     "output_type": "stream",
     "text": [
      "['hello']\n",
      "[]\n",
      "['one', 'three', 'two']\n"
     ]
    }
   ],
   "source": [
    "print( common_words(\"hello,world\", \"hello,earth\") )\n",
    "print( common_words(\"one,two,three\", \"four,five,six\") )\n",
    "print( common_words(\"one,two,three\", \"four,five,one,two,six,three\") ) "
   ]
  },
  {
   "cell_type": "code",
   "execution_count": 41,
   "metadata": {},
   "outputs": [],
   "source": [
    "#### 참고. \n",
    "def common_words2 (text1, text2) : \n",
    "    text1_split = set(text1.split(','))   \n",
    "    text2_split = set(text2.split(','))\n",
    "    \n",
    "    common = text1_split.intersection(text2_split) ## common = text1_split & text2_split \n",
    "        \n",
    "    return ','.join(sorted(common))                ## 문자열로 출력하기 위해, 공백에 join 하였다. "
   ]
  },
  {
   "cell_type": "code",
   "execution_count": 42,
   "metadata": {},
   "outputs": [
    {
     "name": "stdout",
     "output_type": "stream",
     "text": [
      "hello\n",
      "\n",
      "one,three,two\n"
     ]
    }
   ],
   "source": [
    "print( common_words2(\"hello,world\", \"hello,earth\") )\n",
    "print( common_words2(\"one,two,three\", \"four,five,six\") )\n",
    "print( common_words2(\"one,two,three\", \"four,five,one,two,six,three\") ) "
   ]
  },
  {
   "cell_type": "markdown",
   "metadata": {},
   "source": [
    "> <font color = 'yellow'>28.Verify anagrams \n",
    "- 주어진 문자열들의 순서를 뒤바꾸었을때, 동일한 단어가 될수 있는지 판단하라. (대소문자 및 공백 구별 x) "
   ]
  },
  {
   "cell_type": "code",
   "execution_count": 50,
   "metadata": {},
   "outputs": [],
   "source": [
    "def verify_anagrams(text1, text2) : \n",
    "    text1_1 = sorted(text1.lower().replace(' ', ''))    ## 소문자로 변경, 공백제거 \n",
    "    text2_1 = sorted(text2.lower().replace(' ', ''))\n",
    "    if text1_1 == text2_1 : \n",
    "        return True\n",
    "    else : \n",
    "        return False"
   ]
  },
  {
   "cell_type": "code",
   "execution_count": 51,
   "metadata": {},
   "outputs": [
    {
     "name": "stdout",
     "output_type": "stream",
     "text": [
      "True\n",
      "False\n",
      "True\n"
     ]
    }
   ],
   "source": [
    "print( verify_anagrams('Programming', 'Gram Ring Mop') )\n",
    "print( verify_anagrams('Hello', 'Ole Oh') )\n",
    "print( verify_anagrams('Tyoko', 'Kyoto') )"
   ]
  },
  {
   "cell_type": "markdown",
   "metadata": {},
   "source": [
    "> <font color = 'yellow'>29.Conversion into Camel case \n",
    "- '_'로 연결된 텍스트를 단어의 시작은 대문자이며 공백이나 밑줄이 없는 문자열로 변환하라. "
   ]
  },
  {
   "cell_type": "code",
   "execution_count": 54,
   "metadata": {},
   "outputs": [],
   "source": [
    "#### title()은 단어의 첫글자를 대문자로 바꿔준다. \n",
    "def camelcase(text) : \n",
    "    text = text.title().replace('_', '')\n",
    "    return text    "
   ]
  },
  {
   "cell_type": "code",
   "execution_count": 53,
   "metadata": {},
   "outputs": [
    {
     "name": "stdout",
     "output_type": "stream",
     "text": [
      "MyFunctionName\n",
      "IPhone\n",
      "ThisFunctionIsEmpty\n",
      "Name\n"
     ]
    }
   ],
   "source": [
    "print( camelcase('my_function_name') )\n",
    "print( camelcase('i_phone') )\n",
    "print( camelcase('this_function_is_empty') )\n",
    "print( camelcase('Name') )"
   ]
  },
  {
   "cell_type": "markdown",
   "metadata": {},
   "source": [
    "> <font color = 'yellow'>30.Conversion from Camel case \n",
    "- CamelCase로 주어진 문자열을 변수형태(소문자, _로 연결)로 변환하라. "
   ]
  },
  {
   "cell_type": "code",
   "execution_count": 66,
   "metadata": {},
   "outputs": [],
   "source": [
    "def from_camel_case(text) : \n",
    "    result = \"\"\n",
    "    for i in text : \n",
    "        if i.isupper() :              ## 대문자인 경우 밑줄 추가 & 소문자 변환하여 추가 \n",
    "            result += '_'\n",
    "            result += i.lower()\n",
    "        else : \n",
    "            result += i               ## 소문자인 경우는 그냥 추가 \n",
    "    \n",
    "    return result[1:]"
   ]
  },
  {
   "cell_type": "code",
   "execution_count": 67,
   "metadata": {},
   "outputs": [
    {
     "name": "stdout",
     "output_type": "stream",
     "text": [
      "my_function_name\n",
      "i_phone\n",
      "this_function_is_empty\n",
      "name\n"
     ]
    }
   ],
   "source": [
    "print( from_camel_case('MyFunctionName') )\n",
    "print( from_camel_case('IPhone') )\n",
    "print( from_camel_case('ThisFunctionIsEmpty') )\n",
    "print( from_camel_case('Name') )"
   ]
  },
  {
   "cell_type": "code",
   "execution_count": null,
   "metadata": {},
   "outputs": [],
   "source": []
  },
  {
   "cell_type": "code",
   "execution_count": null,
   "metadata": {},
   "outputs": [],
   "source": []
  }
 ],
 "metadata": {
  "kernelspec": {
   "display_name": "Python 3",
   "language": "python",
   "name": "python3"
  },
  "language_info": {
   "codemirror_mode": {
    "name": "ipython",
    "version": 3
   },
   "file_extension": ".py",
   "mimetype": "text/x-python",
   "name": "python",
   "nbconvert_exporter": "python",
   "pygments_lexer": "ipython3",
   "version": "3.7.3"
  }
 },
 "nbformat": 4,
 "nbformat_minor": 4
}
