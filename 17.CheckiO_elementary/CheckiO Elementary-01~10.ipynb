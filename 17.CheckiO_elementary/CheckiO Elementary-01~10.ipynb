{
 "cells": [
  {
   "cell_type": "markdown",
   "metadata": {},
   "source": [
    "#### CheckiO Elementary (1/3)\n",
    "- CheckiO (https://py.checkio.org/)\n",
    "- 김왼손의 왼손코딩 (https://www.youtube.com/playlist?list=PLGPF8gvWLYyomy0D1-uoQHTWPvjXTjr_a)"
   ]
  },
  {
   "cell_type": "markdown",
   "metadata": {},
   "source": [
    "> <font color = 'yellow'> 01.Say Hi \n",
    "- 이름과 나이를 입력받아, 인사말을 완성하라. "
   ]
  },
  {
   "cell_type": "code",
   "execution_count": 3,
   "metadata": {},
   "outputs": [],
   "source": [
    "def say_hi(name, age) : \n",
    "    return \"Hi, my name is {} , I'm {} years old\".format(name, age)"
   ]
  },
  {
   "cell_type": "code",
   "execution_count": 4,
   "metadata": {},
   "outputs": [
    {
     "name": "stdout",
     "output_type": "stream",
     "text": [
      "Hi, my name is John , I'm 32 years old\n",
      "Hi, my name is Park , I'm 45 years old\n"
     ]
    }
   ],
   "source": [
    "print( say_hi('John', 32) )\n",
    "print( say_hi('Park', 45) )"
   ]
  },
  {
   "cell_type": "markdown",
   "metadata": {},
   "source": [
    "> <font color = 'yellow'> 02.Correct sentence\n",
    "- 문자열의 첫글자를 대문자로 변환하고, 문장의 끝에 마침표를 추가하라. "
   ]
  },
  {
   "cell_type": "code",
   "execution_count": 9,
   "metadata": {},
   "outputs": [],
   "source": [
    "def correct_sentence(text) : \n",
    "    text = text[0].upper() + text[1:]\n",
    "    if not text.endswith('.') : \n",
    "        text += '.'\n",
    "    return text "
   ]
  },
  {
   "cell_type": "code",
   "execution_count": 10,
   "metadata": {},
   "outputs": [
    {
     "name": "stdout",
     "output_type": "stream",
     "text": [
      "Greetings, friends.\n",
      "Greetings, friends.\n",
      "Greetings, friends.\n"
     ]
    }
   ],
   "source": [
    "print( correct_sentence('greetings, friends') )\n",
    "print( correct_sentence('Greetings, friends') )\n",
    "print( correct_sentence('Greetings, friends.') )"
   ]
  },
  {
   "cell_type": "markdown",
   "metadata": {},
   "source": [
    "> <font color = 'yellow'> 03.First word \n",
    "- 문자열의 첫 단어만을 가져오라 "
   ]
  },
  {
   "cell_type": "code",
   "execution_count": 17,
   "metadata": {},
   "outputs": [],
   "source": [
    "def first_word(text) : \n",
    "    text = text.replace('.', '').replace(',', '')   ### 점, 쉼표를 공백으로 변환 \n",
    "    text = text.strip()                             ### 공백 제거 \n",
    "    return text.split()[0]"
   ]
  },
  {
   "cell_type": "code",
   "execution_count": 20,
   "metadata": {},
   "outputs": [
    {
     "name": "stdout",
     "output_type": "stream",
     "text": [
      "Hello\n",
      "Don't\n"
     ]
    }
   ],
   "source": [
    "print( first_word('Hello World') )\n",
    "print( first_word(\"Don't touch it, Mr.Brown.\") )"
   ]
  },
  {
   "cell_type": "markdown",
   "metadata": {},
   "source": [
    "> <font color = 'yellow'> 04.Second index\n",
    "- 문자열에서 특정 문자가 한번이상 포함된 경우, 두번째로 나오는 위치가 몇번째 인덱스에 위치하고 있는지 알아내라"
   ]
  },
  {
   "cell_type": "code",
   "execution_count": 21,
   "metadata": {},
   "outputs": [],
   "source": [
    "def second_index(text, symbol):  \n",
    "    if text.count(symbol) < 2 :    ### symbol이 2개 이상 들어있지 않으면, 답은 None 이다. \n",
    "        return None \n",
    "    \n",
    "    first = text.find(symbol)\n",
    "    return text.find(symbol, first +1)    ### find(symbol, n)은 symbol을 n번째 위치부터 찾기 시작하겠다는 의미 "
   ]
  },
  {
   "cell_type": "code",
   "execution_count": 26,
   "metadata": {},
   "outputs": [
    {
     "name": "stdout",
     "output_type": "stream",
     "text": [
      "3\n",
      "17\n",
      "None\n"
     ]
    }
   ],
   "source": [
    "print( second_index('sims', 's') )\n",
    "print( second_index('Eva, find the river plz', 'e') )\n",
    "print( second_index('Hello', ' ') )"
   ]
  },
  {
   "cell_type": "markdown",
   "metadata": {},
   "source": [
    "> <font color = 'yellow'> 05.Between markers \n",
    "- 특정 marker들의 사이에 위치한 단어(문자)만 추출하라. \n",
    "- 시작 또는 끝의 marker가 없는 경우, 문장의 처음부터 또는 끝까지 가져오면 된다. "
   ]
  },
  {
   "cell_type": "code",
   "execution_count": 27,
   "metadata": {},
   "outputs": [],
   "source": [
    "def between_markers(text, begin, end): \n",
    "    if begin in text : \n",
    "        begin_index = text.find(begin) + len(begin)  ## 주의! 마커자체의 길이를 더해줘야 한다. \n",
    "    else : \n",
    "        begin_index = 0                              ## 마커가 없으므로 문장의 처음부터 시작한다. \n",
    "    \n",
    "    if end in text : \n",
    "        end_index = text.find(end)\n",
    "    else : \n",
    "        end_index = len(text)                        ## 마커가 없으므로 문장 끝까지의 길이로 지정한다. \n",
    "    \n",
    "    return text[begin_index : end_index]"
   ]
  },
  {
   "cell_type": "code",
   "execution_count": 29,
   "metadata": {},
   "outputs": [
    {
     "name": "stdout",
     "output_type": "stream",
     "text": [
      "apple\n",
      "Oh my\n"
     ]
    }
   ],
   "source": [
    "print( between_markers('What is the >apple<?', '>', '<') )\n",
    "print( between_markers('Oh my[/b] gosh, Hi', '[b]', '[/b]') )"
   ]
  },
  {
   "cell_type": "markdown",
   "metadata": {},
   "source": [
    "> <font color = 'yellow'> 06.Best stock\n",
    "- 주어진 가격표에서 가장 가격이 높은 것을 찾아라 "
   ]
  },
  {
   "cell_type": "code",
   "execution_count": 32,
   "metadata": {},
   "outputs": [],
   "source": [
    "def best_stock(data): \n",
    "    max_price = 0 \n",
    "    answer = ''\n",
    "    \n",
    "    for s in data :                ### dictionary로 부터 key값을 가져온다. \n",
    "        if data[s] > max_price :   ### dictionary에서 key = s인 값과 max_price를 비교한다. \n",
    "            max_price = data[s]\n",
    "            answer = s \n",
    "    \n",
    "    return answer"
   ]
  },
  {
   "cell_type": "code",
   "execution_count": 33,
   "metadata": {},
   "outputs": [
    {
     "name": "stdout",
     "output_type": "stream",
     "text": [
      "ATX\n",
      "TASI\n"
     ]
    }
   ],
   "source": [
    "print( best_stock( {'CAC': 10.0, 'ATX': 390.2, 'WIG': 1.2} ) )\n",
    "print( best_stock( {'CAC': 91.1, 'ATX': 1.01, 'TASI': 120} ) )"
   ]
  },
  {
   "cell_type": "markdown",
   "metadata": {},
   "source": [
    "> <font color = 'yellow'> 07.Popular words\n",
    "- 문장에서 특정 단어가 몇번 나왔는지 파악하라. (대소문자 구분하지 않음)"
   ]
  },
  {
   "cell_type": "code",
   "execution_count": 34,
   "metadata": {},
   "outputs": [],
   "source": [
    "def popular_words(text, words) : \n",
    "    text = text.lower()\n",
    "    splitted_words = text.split()\n",
    "    answer = {}\n",
    "    \n",
    "    for word in words : \n",
    "        answer[word] = splitted_words.count(word)\n",
    "        \n",
    "    return answer    ### word를 key, count(word)값을 value로 하는 dictionary가 만들어짐 "
   ]
  },
  {
   "cell_type": "code",
   "execution_count": 35,
   "metadata": {},
   "outputs": [
    {
     "data": {
      "text/plain": [
       "{'i': 4, 'was': 3, 'three': 0, 'near': 0, 'nearly': 1}"
      ]
     },
     "execution_count": 35,
     "metadata": {},
     "output_type": "execute_result"
    }
   ],
   "source": [
    "popular_words(\n",
    "'''\n",
    "When I was One\n",
    "I had just begun, \n",
    "When I was two \n",
    "I was nearly new. \n",
    "'''\n",
    ", ['i', 'was', 'three', 'near', 'nearly'] \n",
    ")"
   ]
  },
  {
   "cell_type": "markdown",
   "metadata": {},
   "source": [
    "> <font color = 'yellow'> 08.Bigger price \n",
    "- 상품명과 가격이 명시된 자료에서, 가장 비싼 순서로 n개의 제품을 찾아 제품명과 가격을 표시하라. "
   ]
  },
  {
   "cell_type": "code",
   "execution_count": 46,
   "metadata": {},
   "outputs": [],
   "source": [
    "#### dictionary 형태의 데이터를, price 기준으로 내림차순 정렬한 후, limit 갯수만큼 출력\n",
    "def bigger_price(limit, data) : \n",
    "    return sorted(data, key = lambda x: x['price'], reverse = True)[:limit]"
   ]
  },
  {
   "cell_type": "code",
   "execution_count": 47,
   "metadata": {},
   "outputs": [
    {
     "data": {
      "text/plain": [
       "[{'name': 'wine', 'price': 138}, {'name': 'bread', 'price': 100}]"
      ]
     },
     "execution_count": 47,
     "metadata": {},
     "output_type": "execute_result"
    }
   ],
   "source": [
    "bigger_price(2, [\n",
    "{'name' : 'bread', 'price': 100}, \n",
    "{'name' : 'wine', 'price': 138}, \n",
    "{'name' : 'meat', 'price': 15}, \n",
    "{'name' : 'water', 'price': 4}, \n",
    "{'name' : 'pen', 'price': 7}, \n",
    "{'name' : 'backboard', 'price': 30}\n",
    "])"
   ]
  },
  {
   "cell_type": "code",
   "execution_count": 48,
   "metadata": {},
   "outputs": [
    {
     "data": {
      "text/plain": [
       "[{'name': 'wine', 'price': 138}]"
      ]
     },
     "execution_count": 48,
     "metadata": {},
     "output_type": "execute_result"
    }
   ],
   "source": [
    "bigger_price(1, [\n",
    "{'name' : 'bread', 'price': 100}, \n",
    "{'name' : 'wine', 'price': 138}, \n",
    "{'name' : 'meat', 'price': 15}, \n",
    "{'name' : 'water', 'price': 4}, \n",
    "{'name' : 'pen', 'price': 7}, \n",
    "{'name' : 'backboard', 'price': 30}\n",
    "])"
   ]
  },
  {
   "cell_type": "markdown",
   "metadata": {},
   "source": [
    "> <font color = 'yellow'> 09.Fizz buzz\n",
    "- 입력받은 숫자를 다음 조건에 해당하는지 판단하여, 각각 다른 값을 돌려주어야 한다. \n",
    "\n",
    "    1) 3과 5로 나누어 지는 경우 -> \"Fizz Buzz\"\n",
    "    2) 3으로만 나누어 지는 경우 -> \"Fizz\"\n",
    "    3) 5으로만 나누어 지는 경우 -> \"Buzz\"\n",
    "    4) 기타의 경우 -> 입력값을 그대로 출력 (단, 문자열 형태로)"
   ]
  },
  {
   "cell_type": "code",
   "execution_count": 60,
   "metadata": {},
   "outputs": [],
   "source": [
    "def fizz_buzz(x) : \n",
    "    if x % 3 == 0 and x % 5 == 0  :      \n",
    "        return \"Fizz Buzz\"\n",
    "    if x % 3 == 0 : \n",
    "        return \"Fizz\"\n",
    "    if x % 5 == 0 : \n",
    "        return \"Buzz\"\n",
    "    else : \n",
    "        return str(x)"
   ]
  },
  {
   "cell_type": "code",
   "execution_count": 61,
   "metadata": {},
   "outputs": [
    {
     "name": "stdout",
     "output_type": "stream",
     "text": [
      "Fizz Buzz\n",
      "Fizz\n",
      "Buzz\n",
      "7\n"
     ]
    }
   ],
   "source": [
    "print( fizz_buzz(15) )\n",
    "print( fizz_buzz(6) )\n",
    "print( fizz_buzz(5) )\n",
    "print( fizz_buzz(7) )"
   ]
  },
  {
   "cell_type": "markdown",
   "metadata": {},
   "source": [
    "> <font color = 'yellow'> 10.The most numbers \n",
    "- 주어진 숫자들에서 가장 큰값과 작은 값을 찾아, 두 값의 차이를 계산하라. (주어진 값이 없으면 0 출력)"
   ]
  },
  {
   "cell_type": "code",
   "execution_count": 58,
   "metadata": {},
   "outputs": [],
   "source": [
    "def most_number(*args) :         #### 입력값 args가 몇개가 될지 모를 경우, *를 쓰면 된다. \n",
    "    if args :                    #### args가 값을 하나라도 가지고 있다면 ... \n",
    "        return max(args) - min(args)\n",
    "    else : \n",
    "        return 0 "
   ]
  },
  {
   "cell_type": "code",
   "execution_count": 59,
   "metadata": {},
   "outputs": [
    {
     "name": "stdout",
     "output_type": "stream",
     "text": [
      "2\n",
      "10\n",
      "12.5\n",
      "0\n"
     ]
    }
   ],
   "source": [
    "print( most_number(1,2,3) )\n",
    "print( most_number(-5, 5) )\n",
    "print( most_number(10.2, -2.3, 0, 1.1, 0.5) )\n",
    "print( most_number( ) ) "
   ]
  },
  {
   "cell_type": "code",
   "execution_count": null,
   "metadata": {},
   "outputs": [],
   "source": []
  }
 ],
 "metadata": {
  "kernelspec": {
   "display_name": "Python 3",
   "language": "python",
   "name": "python3"
  },
  "language_info": {
   "codemirror_mode": {
    "name": "ipython",
    "version": 3
   },
   "file_extension": ".py",
   "mimetype": "text/x-python",
   "name": "python",
   "nbconvert_exporter": "python",
   "pygments_lexer": "ipython3",
   "version": "3.7.3"
  }
 },
 "nbformat": 4,
 "nbformat_minor": 4
}
