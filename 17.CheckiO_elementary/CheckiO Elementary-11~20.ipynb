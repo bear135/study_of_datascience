{
 "cells": [
  {
   "cell_type": "markdown",
   "metadata": {},
   "source": [
    "#### CheckiO Elementary (2/3)\n",
    "- CheckiO (https://py.checkio.org/)\n",
    "- 김왼손의 왼손코딩 (https://www.youtube.com/playlist?list=PLGPF8gvWLYyomy0D1-uoQHTWPvjXTjr_a)"
   ]
  },
  {
   "cell_type": "markdown",
   "metadata": {},
   "source": [
    "> <font color = 'yellow'> 11.Even the last \n",
    "- 주어진 array에서 0과 짝수번째 숫자들을 더한 후, array의 마지막 숫자와 곱하라 "
   ]
  },
  {
   "cell_type": "code",
   "execution_count": 2,
   "metadata": {},
   "outputs": [],
   "source": [
    "def even_last(array) : \n",
    "    if not array :          ## list에 값이 없는 경우 \n",
    "        return 0  \n",
    "    return sum(array[::2]) * array[-1]    \n",
    "\n",
    "#### slicing은 [start : end : step]으로 이루어짐. 따라서 [::2]는 전체에 대해 2칸씩 이동시키게 됨 "
   ]
  },
  {
   "cell_type": "code",
   "execution_count": 4,
   "metadata": {},
   "outputs": [
    {
     "name": "stdout",
     "output_type": "stream",
     "text": [
      "30\n",
      "108\n",
      "36\n",
      "0\n"
     ]
    }
   ],
   "source": [
    "print( even_last([0,1,2,3,4,5]))\n",
    "print( even_last([3,6,9]))\n",
    "print( even_last([6]))\n",
    "print( even_last([ ]))"
   ]
  },
  {
   "cell_type": "markdown",
   "metadata": {},
   "source": [
    "> <font color = 'yellow'> 12.Secret message\n",
    "- 문장의 모든 대문자를 가져와, 새로운 문장을 만들어라 "
   ]
  },
  {
   "cell_type": "code",
   "execution_count": 19,
   "metadata": {},
   "outputs": [],
   "source": [
    "#### isupper()는 대문자인 경우 True, 소문자인 경우 False이다. \n",
    "def find_message(text): \n",
    "    message = ''\n",
    "    if text.islower() == True : \n",
    "        message = ''\n",
    "    else : \n",
    "        for i in range(len(text)) : \n",
    "            if text[i].isupper() == True : \n",
    "                message += text[i]\n",
    "    \n",
    "    return message     "
   ]
  },
  {
   "cell_type": "code",
   "execution_count": 21,
   "metadata": {},
   "outputs": [
    {
     "name": "stdout",
     "output_type": "stream",
     "text": [
      "HELLO\n",
      "HW\n",
      "\n"
     ]
    }
   ],
   "source": [
    "print( find_message(\"How are yopu? Eh, ok, Low or Lower? Ohhh.\"))\n",
    "print( find_message(\"Hello World\"))\n",
    "print( find_message(\"hello world\"))"
   ]
  },
  {
   "cell_type": "markdown",
   "metadata": {},
   "source": [
    "> <font color = 'yellow'> 13.Three words\n",
    "- 문자와 숫자가 혼재된 text로 부터, 문자가 3회이상 연속되는 경우 True를 출력하라. "
   ]
  },
  {
   "cell_type": "code",
   "execution_count": 25,
   "metadata": {},
   "outputs": [],
   "source": [
    "#### isalpha() ~ 알파벳으로만 구성되어 있으면 True \n",
    "def three_words(text) : \n",
    "    count = 0 \n",
    "    \n",
    "    for i in text.split() : \n",
    "        if i.isalpha() : \n",
    "            count += 1\n",
    "        else : \n",
    "            count = 0 \n",
    "        \n",
    "        if count >= 3 : \n",
    "            return True \n",
    "            \n",
    "    return False "
   ]
  },
  {
   "cell_type": "code",
   "execution_count": 26,
   "metadata": {},
   "outputs": [
    {
     "name": "stdout",
     "output_type": "stream",
     "text": [
      "True\n",
      "False\n",
      "True\n",
      "False\n",
      "False\n"
     ]
    }
   ],
   "source": [
    "print( three_words('Hello World from Python') )\n",
    "print( three_words('She is 123 girl') )\n",
    "print( three_words('bla bla bla bla') )\n",
    "print( three_words('Hello') )\n",
    "print( three_words('1 2 3 4 5') )"
   ]
  },
  {
   "cell_type": "markdown",
   "metadata": {},
   "source": [
    "> <font color = 'yellow'> 14.Index power\n",
    "- 주어진 리스트와 또하나의 숫자 N에 대해서, 리스트에서 N번째 숫자를 구해 n승하라. (N번째 숫자가 없으면 -1을 출력)"
   ]
  },
  {
   "cell_type": "code",
   "execution_count": 28,
   "metadata": {},
   "outputs": [],
   "source": [
    "def index_power(array, n) : \n",
    "    if n < len(array) : \n",
    "        result = array[n]**n\n",
    "    else : \n",
    "        result = -1\n",
    "    return result "
   ]
  },
  {
   "cell_type": "code",
   "execution_count": 30,
   "metadata": {},
   "outputs": [
    {
     "name": "stdout",
     "output_type": "stream",
     "text": [
      "9\n",
      "1000000\n",
      "1\n",
      "-1\n"
     ]
    }
   ],
   "source": [
    "#### 참고. 어떤 수의 0제곱은 항상 1이다. \n",
    "\n",
    "print( index_power([1,2,3,4], 2) )\n",
    "print( index_power([1,3,10,100], 3) )\n",
    "print( index_power([0, 1], 0) )\n",
    "print( index_power([1,2], 3) )"
   ]
  },
  {
   "cell_type": "markdown",
   "metadata": {},
   "source": [
    "> <font color = 'yellow'> 15.Right to left \n",
    "- 주어진 텍스트에서 right가 나오면 모두 left로 바꾸어라. (단어들 사이에는 ,가 있어야 한다) "
   ]
  },
  {
   "cell_type": "code",
   "execution_count": 52,
   "metadata": {},
   "outputs": [],
   "source": [
    "def left_join(text) : \n",
    "    result = ''\n",
    "    i = 1\n",
    "    for word in text : \n",
    "        if 'right' in word : \n",
    "            result += word.replace('right', 'left')\n",
    "        else : \n",
    "            result += word\n",
    "        \n",
    "        if i != len(text): \n",
    "            result += ','\n",
    "            i += 1\n",
    "        \n",
    "    return result "
   ]
  },
  {
   "cell_type": "code",
   "execution_count": 53,
   "metadata": {},
   "outputs": [
    {
     "name": "stdout",
     "output_type": "stream",
     "text": [
      "left,left,left,stop\n",
      "bleft alleft,ok\n",
      "bleftness wleft\n",
      "enough,jokes\n"
     ]
    }
   ],
   "source": [
    "print( left_join(('left', 'right', 'left', 'stop')) ) \n",
    "print( left_join(('bright alright', 'ok')) ) \n",
    "print( left_join(('brightness wright',)) ) \n",
    "print( left_join(('enough', 'jokes')) ) "
   ]
  },
  {
   "cell_type": "code",
   "execution_count": 48,
   "metadata": {},
   "outputs": [],
   "source": [
    "#### solution 2 - simple coding \n",
    "#### \"\".join(리스트) ~ 리스트의 문자열들을 합친다. \n",
    "#### \"특정문자열\".join(리스트) ~ 이어줄 문자 사이에 특정 문자를 넣고 싶을때 \n",
    "\n",
    "def left_join2(text) : \n",
    "    return (','.join(text)).replace('right', 'left')"
   ]
  },
  {
   "cell_type": "code",
   "execution_count": 49,
   "metadata": {},
   "outputs": [
    {
     "name": "stdout",
     "output_type": "stream",
     "text": [
      "left,left,left,stop\n",
      "bleft alleft,ok\n",
      "bleftness wleft\n",
      "enough,jokes\n"
     ]
    }
   ],
   "source": [
    "print( left_join2(('left', 'right', 'left', 'stop')) ) \n",
    "print( left_join2(('bright alright', 'ok')) ) \n",
    "print( left_join2(('brightness wright',)) ) \n",
    "print( left_join2(('enough', 'jokes')) ) "
   ]
  },
  {
   "cell_type": "markdown",
   "metadata": {},
   "source": [
    "> <font color = 'yellow'> 16.Digits multiplication \n",
    "- 주어진 숫자들을 모두 곱한 값을 구하라 (0이 포함된 경우 0은 제외)"
   ]
  },
  {
   "cell_type": "code",
   "execution_count": 3,
   "metadata": {},
   "outputs": [],
   "source": [
    "def digit_mul (numbers) : \n",
    "    result = 1\n",
    "    \n",
    "    for i in str(numbers) : \n",
    "        if i != 0 : \n",
    "            result *= int(i)\n",
    "    \n",
    "    return result "
   ]
  },
  {
   "cell_type": "code",
   "execution_count": 4,
   "metadata": {},
   "outputs": [
    {
     "name": "stdout",
     "output_type": "stream",
     "text": [
      "0\n",
      "729\n",
      "0\n"
     ]
    }
   ],
   "source": [
    "print( digit_mul(123405) )\n",
    "print( digit_mul(999) )\n",
    "print( digit_mul(100) )"
   ]
  },
  {
   "cell_type": "markdown",
   "metadata": {},
   "source": [
    "> <font color = 'yellow'> 17.Number base\n",
    "- 주어진 문자열과 진법(radix)을 조합하여, 10진법으로 변환하라. (변환불가 시 -1 출력)"
   ]
  },
  {
   "cell_type": "code",
   "execution_count": 6,
   "metadata": {},
   "outputs": [],
   "source": [
    "def radix_ten (num, a) : \n",
    "    try : \n",
    "        return int(num, a)   ### a진법의 정수로 변환한다. \n",
    "    except ValueError : \n",
    "        return -1 "
   ]
  },
  {
   "cell_type": "code",
   "execution_count": 7,
   "metadata": {},
   "outputs": [
    {
     "name": "stdout",
     "output_type": "stream",
     "text": [
      "175\n",
      "5\n",
      "26\n",
      "35\n",
      "-1\n"
     ]
    }
   ],
   "source": [
    "print( radix_ten('AF', 16) )\n",
    "print( radix_ten('101', 2) )\n",
    "print( radix_ten('101', 5) )\n",
    "print( radix_ten('Z', 36) )\n",
    "print( radix_ten('AB', 10) )"
   ]
  },
  {
   "cell_type": "markdown",
   "metadata": {},
   "source": [
    "> <font color = 'yellow'> 18.Absolute sorting \n",
    "- 주어진 숫자들의 절대값 순서로 정렬하라. "
   ]
  },
  {
   "cell_type": "code",
   "execution_count": 13,
   "metadata": {},
   "outputs": [],
   "source": [
    "def abs_sort(numbers) : \n",
    "    return sorted(numbers, key=abs)"
   ]
  },
  {
   "cell_type": "code",
   "execution_count": 14,
   "metadata": {},
   "outputs": [
    {
     "name": "stdout",
     "output_type": "stream",
     "text": [
      "[-5, 10, 15, -20]\n",
      "[0, 1, 1, 3]\n",
      "[0, -1, -2, -3]\n"
     ]
    }
   ],
   "source": [
    "print( abs_sort((-20, -5, 10, 15)) )\n",
    "print( abs_sort((1, 1, 3, 0)) )\n",
    "print( abs_sort((-1, -2, -3, 0)) )"
   ]
  },
  {
   "cell_type": "markdown",
   "metadata": {},
   "source": [
    "> <font color = 'yellow'> 19.The most frequency \n",
    "- 주어진 문자들에서 가장 많이 나타나는 문자를 찾아라"
   ]
  },
  {
   "cell_type": "code",
   "execution_count": 17,
   "metadata": {},
   "outputs": [],
   "source": [
    "def most_freq(strings) : \n",
    "    return max(strings, key = strings.count)"
   ]
  },
  {
   "cell_type": "code",
   "execution_count": 19,
   "metadata": {},
   "outputs": [
    {
     "name": "stdout",
     "output_type": "stream",
     "text": [
      "a\n",
      "bi\n"
     ]
    }
   ],
   "source": [
    "print( most_freq(['a', 'b', 'c', 'a', 'b', 'a']) ) \n",
    "print( most_freq(['a', 'b', 'bi', 'bi', 'bi']) ) "
   ]
  },
  {
   "cell_type": "markdown",
   "metadata": {},
   "source": [
    "> <font color = 'yellow'> 20.Easy unpack\n",
    "- 주어진 튜플에서 3개의 숫자 ~ 첫번째, 3번째, 마지막에서 두번째를 찾아라. "
   ]
  },
  {
   "cell_type": "code",
   "execution_count": 25,
   "metadata": {},
   "outputs": [],
   "source": [
    "def easy_unpack(num) : \n",
    "    x1 = num[0]\n",
    "    x2 = num[2]\n",
    "    x3 = num[-2]\n",
    "    return (x1, x2, x3)"
   ]
  },
  {
   "cell_type": "code",
   "execution_count": 26,
   "metadata": {},
   "outputs": [
    {
     "name": "stdout",
     "output_type": "stream",
     "text": [
      "(1, 3, 7)\n",
      "(1, 1, 1)\n",
      "(6, 7, 3)\n"
     ]
    }
   ],
   "source": [
    "print( easy_unpack((1,2,3,4,5,6,7,9)) )\n",
    "print( easy_unpack((1,1,1)) )\n",
    "print( easy_unpack((6,3,7)) )"
   ]
  },
  {
   "cell_type": "code",
   "execution_count": null,
   "metadata": {},
   "outputs": [],
   "source": []
  },
  {
   "cell_type": "code",
   "execution_count": null,
   "metadata": {},
   "outputs": [],
   "source": []
  },
  {
   "cell_type": "code",
   "execution_count": null,
   "metadata": {},
   "outputs": [],
   "source": []
  }
 ],
 "metadata": {
  "kernelspec": {
   "display_name": "Python 3",
   "language": "python",
   "name": "python3"
  },
  "language_info": {
   "codemirror_mode": {
    "name": "ipython",
    "version": 3
   },
   "file_extension": ".py",
   "mimetype": "text/x-python",
   "name": "python",
   "nbconvert_exporter": "python",
   "pygments_lexer": "ipython3",
   "version": "3.7.3"
  }
 },
 "nbformat": 4,
 "nbformat_minor": 4
}
