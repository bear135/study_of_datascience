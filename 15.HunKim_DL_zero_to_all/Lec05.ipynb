{
 "cells": [
  {
   "cell_type": "markdown",
   "metadata": {},
   "source": [
    "### Lec 05-1: Logistic Classification"
   ]
  },
  {
   "cell_type": "markdown",
   "metadata": {},
   "source": [
    "##### <font color = 'yellow'> - Logistic Hypothesis </font>\n",
    "##### 시그모이드(sigmoid) 함수는 앞에서 배운 공식(Wx + b )이 만들어 내는 값을 0과 1 사이의 값으로 변환한다. \n",
    "\n",
    "##### - e로 시작하는 계산식이 0일 때, 1/1이 되어서 최대값인 1이 된다.\n",
    "##### - e로 시작하는 계산식이 매우 클 때, (1/큰수)이 되어서 최소값인 0이 된다.\n",
    "##### - WX가 0일 때, 지수가 0이 되어, 분모는 2가 되고, 이때 중간값인 1/2이 된다.\n",
    "<left><img src= 'img/sigmoid.PNG' width=\"50%\"></left>"
   ]
  },
  {
   "cell_type": "markdown",
   "metadata": {},
   "source": [
    "### Lec 05-2: Cost function of Logistic Regression "
   ]
  },
  {
   "cell_type": "markdown",
   "metadata": {},
   "source": [
    "##### <font color = 'yellow'>  - 가설 H(x)가 지수형태이므로, log를 씌워 경사하강법을 사용할 수 있도록 변환한다. </font>\n",
    "<left><img src= 'img/logistic_cost_function.PNG' width=\"50%\"></left>"
   ]
  },
  {
   "cell_type": "markdown",
   "metadata": {},
   "source": [
    "<left><img src= 'img/logistic_gradient_descent_algorithm.PNG' width=\"50%\"></left>"
   ]
  },
  {
   "cell_type": "markdown",
   "metadata": {},
   "source": [
    "### Lab 05: Logistic Classification with tf"
   ]
  },
  {
   "cell_type": "code",
   "execution_count": 2,
   "metadata": {},
   "outputs": [
    {
     "name": "stdout",
     "output_type": "stream",
     "text": [
      "WARNING:tensorflow:From C:\\Users\\youngboo.choi\\AppData\\Local\\Continuum\\anaconda3\\lib\\site-packages\\tensorflow\\python\\compat\\v2_compat.py:96: disable_resource_variables (from tensorflow.python.ops.variable_scope) is deprecated and will be removed in a future version.\n",
      "Instructions for updating:\n",
      "non-resource variables are not supported in the long term\n"
     ]
    }
   ],
   "source": [
    "import tensorflow as tf\n",
    "import tensorflow.compat.v1 as tf\n",
    "tf.disable_v2_behavior()"
   ]
  },
  {
   "cell_type": "markdown",
   "metadata": {},
   "source": [
    "##### <font color = 'yellow'>  - reference code </font>\n",
    "<left><img src= 'img/code_logistic.PNG' width=\"80%\"></left>"
   ]
  },
  {
   "cell_type": "code",
   "execution_count": 26,
   "metadata": {},
   "outputs": [
    {
     "name": "stdout",
     "output_type": "stream",
     "text": [
      "0 1.3695116\n",
      "1000 0.43565235\n",
      "2000 0.3679743\n",
      "3000 0.3157927\n",
      "4000 0.2749644\n",
      "5000 0.24266042\n",
      "6000 0.21673547\n",
      "7000 0.1956126\n",
      "8000 0.178147\n",
      "9000 0.16350637\n",
      "10000 0.15107986\n"
     ]
    }
   ],
   "source": [
    "#### data set \n",
    "x_data = [[1, 2], \n",
    "          [2, 3], \n",
    "          [3, 1], \n",
    "          [4, 3], \n",
    "          [5, 3], \n",
    "          [6,2]]\n",
    "y_data = [[0], \n",
    "          [0], \n",
    "          [0], \n",
    "          [1], \n",
    "          [1], \n",
    "          [1]]\n",
    "\n",
    "X = tf.placeholder(tf.float32, shape = [None, 2])\n",
    "Y = tf.placeholder(tf.float32, shape = [None, 1])\n",
    "W = tf.Variable(tf.random_normal([2, 1]), name = 'weight')\n",
    "b = tf.Variable(tf.random_normal([1]), name = 'bias')\n",
    "\n",
    "hypothesis = tf.sigmoid(tf.matmul(X, W)+b)    #### sigmoid와 matmul은 간단하게 로지스틱 함수를 만들어 준다 \n",
    "cost = -tf.reduce_mean( Y*tf.log(hypothesis) + (1-Y)*tf.log(1-hypothesis))   #### logistic cost 함수 \n",
    "\n",
    "train = tf.train.GradientDescentOptimizer(learning_rate = 0.01).minimize(cost)  #### logistic cost 함수를 최소화 방향으로 학습 \n",
    "\n",
    "#### hypothesis가 0.5 이상이면 pass, 0.5 미만이면 fail \n",
    "#### tf.cast함수 : 텐서를 새로운 형태로 캐스팅하는데 사용한다. Boolean형태인 경우 True이면 1, False이면 0을 출력한다.\n",
    "predicted = tf.cast(hypothesis > 0.5, dtype = tf.float32)\n",
    "accuracy = tf.reduce_mean(tf.cast(tf.equal(predicted, Y), dtype = tf.float32))\n",
    "\n",
    "#### graphing \n",
    "sess = tf.Session()\n",
    "sess.run(tf.global_variables_initializer())\n",
    "    \n",
    "for step in range(10001): \n",
    "    cost_val, _ = sess.run( [cost, train], feed_dict = {X:x_data, Y:y_data}  )\n",
    "    if step % 1000 == 0 : \n",
    "        print(step, cost_val) "
   ]
  },
  {
   "cell_type": "code",
   "execution_count": 33,
   "metadata": {},
   "outputs": [
    {
     "name": "stdout",
     "output_type": "stream",
     "text": [
      "hypothesis : \n",
      " [[0.03140939]\n",
      " [0.1597431 ]\n",
      " [0.30805475]\n",
      " [0.7799301 ]\n",
      " [0.9386564 ]\n",
      " [0.97986126]]\n",
      "predicted : \n",
      " [[0.]\n",
      " [0.]\n",
      " [0.]\n",
      " [1.]\n",
      " [1.]\n",
      " [1.]]\n",
      "accuracy : \n",
      " 1.0\n"
     ]
    }
   ],
   "source": [
    "#### accuracy report \n",
    "h, c, a = sess.run([hypothesis, predicted, accuracy], feed_dict = {X:x_data, Y:y_data} )\n",
    "print('hypothesis :', '\\n', h)\n",
    "print('predicted :', '\\n', c)\n",
    "print('accuracy :', '\\n', a)\n",
    "\n",
    "#### 작업이 끝나면 세션을 수동 종료\n",
    "sess.close()"
   ]
  },
  {
   "cell_type": "markdown",
   "metadata": {},
   "source": [
    "#### <font color = 'yellow'>Practice : 당뇨병 예측하기 </font>"
   ]
  },
  {
   "cell_type": "code",
   "execution_count": 85,
   "metadata": {},
   "outputs": [
    {
     "name": "stdout",
     "output_type": "stream",
     "text": [
      "(759, 9)\n"
     ]
    },
    {
     "data": {
      "text/html": [
       "<div>\n",
       "<style scoped>\n",
       "    .dataframe tbody tr th:only-of-type {\n",
       "        vertical-align: middle;\n",
       "    }\n",
       "\n",
       "    .dataframe tbody tr th {\n",
       "        vertical-align: top;\n",
       "    }\n",
       "\n",
       "    .dataframe thead th {\n",
       "        text-align: right;\n",
       "    }\n",
       "</style>\n",
       "<table border=\"1\" class=\"dataframe\">\n",
       "  <thead>\n",
       "    <tr style=\"text-align: right;\">\n",
       "      <th></th>\n",
       "      <th>0</th>\n",
       "      <th>1</th>\n",
       "      <th>2</th>\n",
       "      <th>3</th>\n",
       "      <th>4</th>\n",
       "      <th>5</th>\n",
       "      <th>6</th>\n",
       "      <th>7</th>\n",
       "      <th>8</th>\n",
       "    </tr>\n",
       "  </thead>\n",
       "  <tbody>\n",
       "    <tr>\n",
       "      <td>0</td>\n",
       "      <td>-0.294118</td>\n",
       "      <td>0.487437</td>\n",
       "      <td>0.180328</td>\n",
       "      <td>-0.292929</td>\n",
       "      <td>0.000000</td>\n",
       "      <td>0.001490</td>\n",
       "      <td>-0.531170</td>\n",
       "      <td>-0.033333</td>\n",
       "      <td>0</td>\n",
       "    </tr>\n",
       "    <tr>\n",
       "      <td>1</td>\n",
       "      <td>-0.882353</td>\n",
       "      <td>-0.145729</td>\n",
       "      <td>0.081967</td>\n",
       "      <td>-0.414141</td>\n",
       "      <td>0.000000</td>\n",
       "      <td>-0.207153</td>\n",
       "      <td>-0.766866</td>\n",
       "      <td>-0.666667</td>\n",
       "      <td>1</td>\n",
       "    </tr>\n",
       "    <tr>\n",
       "      <td>2</td>\n",
       "      <td>-0.058824</td>\n",
       "      <td>0.839196</td>\n",
       "      <td>0.049180</td>\n",
       "      <td>0.000000</td>\n",
       "      <td>0.000000</td>\n",
       "      <td>-0.305514</td>\n",
       "      <td>-0.492741</td>\n",
       "      <td>-0.633333</td>\n",
       "      <td>0</td>\n",
       "    </tr>\n",
       "    <tr>\n",
       "      <td>3</td>\n",
       "      <td>-0.882353</td>\n",
       "      <td>-0.105528</td>\n",
       "      <td>0.081967</td>\n",
       "      <td>-0.535354</td>\n",
       "      <td>-0.777778</td>\n",
       "      <td>-0.162444</td>\n",
       "      <td>-0.923997</td>\n",
       "      <td>0.000000</td>\n",
       "      <td>1</td>\n",
       "    </tr>\n",
       "    <tr>\n",
       "      <td>4</td>\n",
       "      <td>0.000000</td>\n",
       "      <td>0.376884</td>\n",
       "      <td>-0.344262</td>\n",
       "      <td>-0.292929</td>\n",
       "      <td>-0.602837</td>\n",
       "      <td>0.284650</td>\n",
       "      <td>0.887276</td>\n",
       "      <td>-0.600000</td>\n",
       "      <td>0</td>\n",
       "    </tr>\n",
       "  </tbody>\n",
       "</table>\n",
       "</div>"
      ],
      "text/plain": [
       "          0         1         2         3         4         5         6  \\\n",
       "0 -0.294118  0.487437  0.180328 -0.292929  0.000000  0.001490 -0.531170   \n",
       "1 -0.882353 -0.145729  0.081967 -0.414141  0.000000 -0.207153 -0.766866   \n",
       "2 -0.058824  0.839196  0.049180  0.000000  0.000000 -0.305514 -0.492741   \n",
       "3 -0.882353 -0.105528  0.081967 -0.535354 -0.777778 -0.162444 -0.923997   \n",
       "4  0.000000  0.376884 -0.344262 -0.292929 -0.602837  0.284650  0.887276   \n",
       "\n",
       "          7  8  \n",
       "0 -0.033333  0  \n",
       "1 -0.666667  1  \n",
       "2 -0.633333  0  \n",
       "3  0.000000  1  \n",
       "4 -0.600000  0  "
      ]
     },
     "execution_count": 85,
     "metadata": {},
     "output_type": "execute_result"
    }
   ],
   "source": [
    "#### data loading \n",
    "import numpy as np \n",
    "import pandas as pd \n",
    "\n",
    "xy = pd.read_csv('data/data-03-diabetes.csv', header = None)\n",
    "print(xy.shape)\n",
    "xy.head()"
   ]
  },
  {
   "cell_type": "code",
   "execution_count": 88,
   "metadata": {},
   "outputs": [
    {
     "name": "stdout",
     "output_type": "stream",
     "text": [
      "(759, 8)\n",
      "(759, 1)\n"
     ]
    },
    {
     "data": {
      "text/html": [
       "<div>\n",
       "<style scoped>\n",
       "    .dataframe tbody tr th:only-of-type {\n",
       "        vertical-align: middle;\n",
       "    }\n",
       "\n",
       "    .dataframe tbody tr th {\n",
       "        vertical-align: top;\n",
       "    }\n",
       "\n",
       "    .dataframe thead th {\n",
       "        text-align: right;\n",
       "    }\n",
       "</style>\n",
       "<table border=\"1\" class=\"dataframe\">\n",
       "  <thead>\n",
       "    <tr style=\"text-align: right;\">\n",
       "      <th></th>\n",
       "      <th>8</th>\n",
       "    </tr>\n",
       "  </thead>\n",
       "  <tbody>\n",
       "    <tr>\n",
       "      <td>0</td>\n",
       "      <td>0.0</td>\n",
       "    </tr>\n",
       "    <tr>\n",
       "      <td>1</td>\n",
       "      <td>1.0</td>\n",
       "    </tr>\n",
       "    <tr>\n",
       "      <td>2</td>\n",
       "      <td>0.0</td>\n",
       "    </tr>\n",
       "    <tr>\n",
       "      <td>3</td>\n",
       "      <td>1.0</td>\n",
       "    </tr>\n",
       "    <tr>\n",
       "      <td>4</td>\n",
       "      <td>0.0</td>\n",
       "    </tr>\n",
       "  </tbody>\n",
       "</table>\n",
       "</div>"
      ],
      "text/plain": [
       "     8\n",
       "0  0.0\n",
       "1  1.0\n",
       "2  0.0\n",
       "3  1.0\n",
       "4  0.0"
      ]
     },
     "execution_count": 88,
     "metadata": {},
     "output_type": "execute_result"
    }
   ],
   "source": [
    "#### x, y data 구분 \n",
    "x_data = xy.loc[:, 0:7]\n",
    "y_data = xy.loc[:, [8]]\n",
    "\n",
    "print(x_data.shape)\n",
    "print(y_data.shape)\n",
    "\n",
    "x_data = x_data.astype('float32').copy()\n",
    "y_data = y_data.astype('float32').copy()\n",
    "\n",
    "#x_data.head()\n",
    "y_data.head()"
   ]
  },
  {
   "cell_type": "code",
   "execution_count": 103,
   "metadata": {},
   "outputs": [
    {
     "name": "stdout",
     "output_type": "stream",
     "text": [
      "0 1.1100742\n",
      "1000 0.6148637\n",
      "2000 0.55790335\n",
      "3000 0.5280902\n",
      "4000 0.5111319\n",
      "5000 0.5006832\n",
      "6000 0.49380934\n",
      "7000 0.48904964\n",
      "8000 0.48562062\n",
      "9000 0.4830724\n",
      "10000 0.48113146\n",
      "-------------------------------------------------------------\n",
      "hypothesis : \n",
      " [[0.7478162]\n",
      " [0.6914754]\n",
      " [0.8116734]\n",
      " [0.741308 ]\n",
      " [0.8833011]]\n",
      "predicted : \n",
      " [[1.]\n",
      " [1.]\n",
      " [1.]\n",
      " [1.]\n",
      " [1.]]\n",
      "accuracy : \n",
      " 0.76943344\n"
     ]
    }
   ],
   "source": [
    "X = tf.placeholder(tf.float32, shape = [None, 8])\n",
    "Y = tf.placeholder(tf.float32, shape = [None, 1])\n",
    "W = tf.Variable(tf.random_normal([8, 1]), name = 'weight')\n",
    "b = tf.Variable(tf.random_normal([1]), name = 'bias')\n",
    "\n",
    "hypothesis = tf.sigmoid(tf.matmul(X, W) + b)    #### sigmoid와 matmul은 간단하게 로지스틱 함수를 만들어 준다 \n",
    "cost = -tf.reduce_mean( Y*tf.log(hypothesis) + (1-Y)*tf.log(1-hypothesis))   #### logistic cost 함수 \n",
    "\n",
    "train = tf.train.GradientDescentOptimizer(learning_rate = 0.01).minimize(cost)  #### logistic cost 함수를 최소화 방향으로 학습 \n",
    "\n",
    "#### hypothesis가 0.5 이상이면 pass, 0.5 미만이면 fail \n",
    "predicted = tf.cast(hypothesis > 0.5, dtype = tf.float32)\n",
    "accuracy = tf.reduce_mean(tf.cast(tf.equal(predicted, Y), dtype = tf.float32))\n",
    "\n",
    "#### graphing \n",
    "sess = tf.Session()\n",
    "sess.run(tf.global_variables_initializer())\n",
    "feed = {X:x_data, Y:y_data}\n",
    "    \n",
    "for step in range(10001): \n",
    "    sess.run( train, feed_dict = feed  )\n",
    "    if step % 1000 == 0 : \n",
    "        print(step, sess.run(cost, feed_dict = feed) )\n",
    "\n",
    "print('-------------------------------------------------------------')        \n",
    "\n",
    "#### accuracy report \n",
    "h, c, a = sess.run([hypothesis, predicted, accuracy], feed_dict = feed )\n",
    "print('hypothesis :', '\\n', h[-5:] )\n",
    "print('predicted :', '\\n', c[-5:] )\n",
    "print('accuracy :', '\\n', a)\n",
    "\n",
    "#### 작업이 끝나면 세션을 수동 종료\n",
    "sess.close()"
   ]
  },
  {
   "cell_type": "code",
   "execution_count": null,
   "metadata": {},
   "outputs": [],
   "source": []
  },
  {
   "cell_type": "code",
   "execution_count": null,
   "metadata": {},
   "outputs": [],
   "source": []
  },
  {
   "cell_type": "code",
   "execution_count": null,
   "metadata": {},
   "outputs": [],
   "source": []
  }
 ],
 "metadata": {
  "kernelspec": {
   "display_name": "Python 3",
   "language": "python",
   "name": "python3"
  },
  "language_info": {
   "codemirror_mode": {
    "name": "ipython",
    "version": 3
   },
   "file_extension": ".py",
   "mimetype": "text/x-python",
   "name": "python",
   "nbconvert_exporter": "python",
   "pygments_lexer": "ipython3",
   "version": "3.7.3"
  }
 },
 "nbformat": 4,
 "nbformat_minor": 4
}
