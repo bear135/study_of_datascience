{
 "cells": [
  {
   "cell_type": "markdown",
   "metadata": {},
   "source": [
    "### Lec 11-1: CNN introduction "
   ]
  },
  {
   "cell_type": "markdown",
   "metadata": {},
   "source": [
    "##### Convolutional Neural Network\n",
    "<left><img src= 'img/cnn0.PNG' width=\"70%\"></left>"
   ]
  },
  {
   "cell_type": "markdown",
   "metadata": {},
   "source": [
    "#### <font color = 'yellow' > CNN의 기본원리 </font>\n",
    "- 크기가 32 x32 pixels 이고 depth 즉 color가 3인, 32x32x3의 이미지에 대해 \n",
    "- 임의의 크기, 예를 들어 5x5x3의 filter(weight)를 적용하여 하나의 값을 얻어낸다. \n",
    "- 이 과정을 반복하여 전체에 대한 값을 얻는다. \n",
    "\n",
    "<left><img src= 'img/cnn1.PNG' width=\"50%\"></left>"
   ]
  },
  {
   "cell_type": "markdown",
   "metadata": {},
   "source": [
    "- filter를 지정된 칸수(stride)만큼 계속 이동하면서, 전체 이미지에 대한 값들을 수집한다. \n",
    "- 이때 결과물, 즉 출력 크기 = (입력 크기 - 필터 크기) / stride 크기 +1\n",
    "\n",
    "<left><img src= 'img/stride.PNG' width=\"50%\"></left>"
   ]
  },
  {
   "cell_type": "markdown",
   "metadata": {},
   "source": [
    "- 그런데 convolutinal layer를 거칠 때마다 크기가 작아지는 문제가 발생한다. \n",
    "- stride 크기에 상관없이 최소한 (필터 크기-1)만큼 줄어들게 되는데, 원본 이미지의 크기가 줄어들지 않도록 padding을 넣는다. \n",
    "- 보통은 stride를 1로 하기 때문에 padding의 크기 또한 1이 된며, 테두리 전체에 대해 추가되기 때문에 크기는 2만큼 증가한다.\n",
    "\n",
    "<left><img src= 'img/padding.PNG' width=\"50%\"></left>"
   ]
  },
  {
   "cell_type": "markdown",
   "metadata": {},
   "source": [
    "- 아래 그림에서 원본의 사이즈는 32, 필터의 크기는 5, stride = 1 이므로 \n",
    "- 출력결과(activation map)ation map)은, (32-5)/1+1 = 28 이다. (no padding)\n",
    "- 6개의 필터가 사용되었으므로, total activation maps = (28,28,6) \n",
    "\n",
    "<left><img src= 'img/cnn2.PNG' width=\"50%\"></left>"
   ]
  },
  {
   "cell_type": "markdown",
   "metadata": {},
   "source": [
    "### Lec 11-2: CNN의 핵심 - Pooling, max pooling, fully connected "
   ]
  },
  {
   "cell_type": "markdown",
   "metadata": {},
   "source": [
    "- pooling은 sampling, resizing과 같은 의미이다. \n",
    "- 아래 그림에서 4x4의 원본에 대해 2x2의 필터가 stride = 2로 주어졌으므로, output size = 2x2이다. \n",
    "- 이때 예를들어 첫번째 필터링 부분, [1,1,5,6]을 하나의 값으로 바꿔줘야 하는데, 흔히 max값을 사용한다. (max pooling)\n",
    "\n",
    "<left><img src= 'img/pooling.PNG' width=\"50%\"></left>"
   ]
  },
  {
   "cell_type": "markdown",
   "metadata": {},
   "source": [
    "- RNN의 특징은 처음부터 끝까지 layer들이 하나로 연결되어 있다는 것이다. \n",
    "- 이것을 Fully Connected 라고 한다. \n",
    "\n",
    "<left><img src= 'img/cnn0.PNG' width=\"60%\"></left>"
   ]
  },
  {
   "cell_type": "markdown",
   "metadata": {},
   "source": [
    "##### Question. 왜 Max Pooling을 사용할까?\n",
    "- mean, median, min, max 등을 고려할 수 있으나, \n",
    "- 평균은 필터 영역의 특징을 표현하는데 부적합. 평균을 사용하면 여러 번의 pooling을 거치면 전체 값들이 비슷해지는 증상을 보일것이다. (평균의 평균의 평균? 결국 모든 그림이 다 똑같은 그림이라는 결론 도출?)  \n",
    "- min을 사용한다면 LeRU를 거치면서 음수는 0이 되어 버린다. \n",
    "- 실제로 자연계에서도 우리는 보이는 모든 것을 기억하는 것이 아니라 두드러진 특징 몇 가지를 기억하는 것임. CNN에서 두드러진 특징을 찾기 위한 방법이 max pooling이다."
   ]
  },
  {
   "cell_type": "markdown",
   "metadata": {},
   "source": [
    "### Lec 11-3: CNN 발전과정과 사례들"
   ]
  },
  {
   "cell_type": "markdown",
   "metadata": {},
   "source": [
    "#### <font color = 'yellow'> 1. LeNet </font>\n",
    "- 1998년 Prof. LeCun에 의해 만들어진 고전 모델, 6개의 hidden layer 사용 \n",
    "1. Input - 크기 32x32x1. 흑백 이미지. (필터 5x5, stride 1)\n",
    "2. C1 - 크기 28x28x6. feature maps 6개. (필터 2x2, subsampling)\n",
    "3. S2 - 크기 14x14x6. feature maps 6개. (필터 5x5, stride 1)\n",
    "4. C3 - 크기 10x10x16. feature maps 16개\n",
    "5. S4 - 크기 5x5x16. feature maps 16개.\n",
    "6. C5 - FC(Full Connection )120개\n",
    "7. F6 - FC(Full Connection) 84개\n",
    "8. Output - GC(Gaussian Connections) 10개. (최종 분류)\n",
    "\n",
    "<left><img src= 'img/lanet.PNG' width=\"80%\"></left>"
   ]
  },
  {
   "cell_type": "markdown",
   "metadata": {},
   "source": [
    "#### <font color = 'yellow'> 2. AlexNet </font>\n",
    "- 2012년에 Prof.Hint의 lab에서 발표 \n",
    "- 227x227x3의 원본이미지에 대해, Relu/Dropout/Ensemble을 동원하여 정확도를 높임  \n",
    "\n",
    "<left><img src= 'img/alexnet.PNG' width=\"80%\"></left>"
   ]
  },
  {
   "cell_type": "markdown",
   "metadata": {},
   "source": [
    "#### <font color = 'yellow'> 3. GoogLeNet </font>\n",
    "- 2014년 Google이 발표, inception module이라는 새로운 이론을 적용\n",
    "- AlexNet에 비해 Deep 하나 Wide 하지는 않으며, \n",
    "- CNN에서 보통 마지막에만 두는 FC가 중간에 여러개 들어가는 것이 특징 \n",
    "\n",
    "<left><img src= 'img/googlenet.PNG' width=\"80%\"></left>"
   ]
  },
  {
   "cell_type": "markdown",
   "metadata": {},
   "source": [
    "#### <font color = 'yellow'> 4. ResNet </font>\n",
    "- 2015년 He가 발표, AlexNet이 사용했던 layer가 8개였던데 비해 무려 152개 layer를 사용\n",
    "- 단 Fast forward 방식과 유사한 Fast Net을 적용하여 연산속도를 빠르게 구현했다. \n",
    "\n",
    "<left><img src= 'img/resnet.PNG' width=\"80%\"></left>"
   ]
  },
  {
   "cell_type": "markdown",
   "metadata": {},
   "source": [
    "#### <font color = 'yellow'> 참고. ResNet vs. GoogLeNet </font>\n",
    "- ResNet과 GoogLeNet의 공통점을 보여주고 있다. 모양은 다르지만, 목표까지 가기 위해 거치는 layer의 갯수가 적다. \n",
    "- ResNet은 일렬로 배치해서 건너 뛰도록 설계했고, GoogLeNet은 처음부터 길을 여러 개 만들었다.\n",
    "- GoogLeNet의 단점은 경로가 여러 개이긴 하지만, 특정 경로로 진입하면 경로에 포함된 모든 layer를 거쳐야 한다는 점이 아닐까 싶다. \n",
    "- ResNet이 매번 통과할 때마다 거치는 layer의 구성이 달라지는 반면 GoogLeNet은 구성이 같기 때문에 다양한 결과를 만들지 못하는 것이 단점으로 보인다. \n",
    "- ResNet이 GoogLeNet보다 더욱 균형 잡힌 결과를 만들어 낼 수 있는 구조라고 보여진다.\n",
    "\n",
    "<left><img src= 'img/resandgoo.PNG' width=\"80%\"></left>"
   ]
  },
  {
   "cell_type": "markdown",
   "metadata": {},
   "source": [
    "#### <font color = 'yellow'> 5. CNN for sentence classification </font>\n",
    "- 2014년 한국인 윤킴 교수가 만든 모델\n",
    "- Text, Sentence 분석을 위해 많이 사용된다. \n",
    "\n",
    "<left><img src= 'img/yoonkim.PNG' width=\"80%\"></left>"
   ]
  },
  {
   "cell_type": "markdown",
   "metadata": {},
   "source": [
    "#### <font color = 'yellow'> 6. DeepMind AlphaGo </font>\n",
    "- 19x19x48 이미지 사용 : 바둑판의 크기가 19x19이며, 돌의 특징을 48종으로 구분 (흑돌인지 백돌인지, 주변에 흑돌이 있는지 백돌이 있는지, 현재 정세가 어떠한지 등등..)\n",
    "- 이후 이미지 크기에 패딩을 적용하여 23x23으로 변형 \n",
    "\n",
    "<left><img src= 'img/nature.PNG' width=\"80%\"></left>"
   ]
  },
  {
   "cell_type": "markdown",
   "metadata": {},
   "source": [
    "### Lab 11-1: CNN Basics"
   ]
  },
  {
   "cell_type": "code",
   "execution_count": 1,
   "metadata": {},
   "outputs": [
    {
     "data": {
      "text/plain": [
       "'1.15.0'"
      ]
     },
     "execution_count": 1,
     "metadata": {},
     "output_type": "execute_result"
    }
   ],
   "source": [
    "import tensorflow as tf \n",
    "tf.__version__ "
   ]
  },
  {
   "cell_type": "code",
   "execution_count": 2,
   "metadata": {},
   "outputs": [
    {
     "name": "stdout",
     "output_type": "stream",
     "text": [
      "(1, 3, 3, 1)\n"
     ]
    },
    {
     "data": {
      "text/plain": [
       "<matplotlib.image.AxesImage at 0x2102af9c470>"
      ]
     },
     "execution_count": 2,
     "metadata": {},
     "output_type": "execute_result"
    }
   ],
   "source": [
    "#### 간단한 원본 이미지를 하나 만들어 보자 \n",
    "import numpy as np\n",
    "import matplotlib as mpl\n",
    "import matplotlib.pyplot as plt \n",
    "\n",
    "sess = tf.InteractiveSession()\n",
    "image = np.array([[[[1],[2],[3]], \n",
    "                 [[4],[5],[6]],\n",
    "                 [[7],[8],[9]]]], dtype = np.float32 )\n",
    "print(image.shape)\n",
    "plt.imshow(image.reshape(3,3), cmap = 'Greys')\n",
    "## 1개의, 3x3x1인 이미지가 만들어 진다. "
   ]
  },
  {
   "cell_type": "markdown",
   "metadata": {},
   "source": [
    "#### <font color = 'yellow'> 원리 이해 </font>\n",
    "- 1개의 3x3x1 원본 이미지에 대해, \n",
    "- 2x2x1인 필터를 1개 적용(stride는 1) *필터의 값은 all = 1 \n",
    "- 첫번째 필터결과 1+2+4+5 = 12, 두번째 필터결과 2+3+5+6 = 16, 3rd = 24, 4th = 28\n",
    "\n",
    "<left><img src= 'img/simplecnn.PNG' width=\"60%\"></left>"
   ]
  },
  {
   "cell_type": "markdown",
   "metadata": {},
   "source": [
    "- 이때 padding 옵션을 VALID가 아닌 SAME으로 주면, \n",
    "- 원본이미지 크기와 같은 크기의 출력을 만들기 위해 tf가 자동으로 테두리(0값)을 추가한다. \n",
    "- 예를들어 3번째 필터링된 값은, 3+0+6+0 = 9\n",
    "\n",
    "<left><img src= 'img/paddingsame.PNG' width=\"60%\"></left>"
   ]
  },
  {
   "cell_type": "code",
   "execution_count": 3,
   "metadata": {},
   "outputs": [
    {
     "name": "stdout",
     "output_type": "stream",
     "text": [
      "[[[[1.]\n",
      "   [2.]\n",
      "   [3.]]\n",
      "\n",
      "  [[4.]\n",
      "   [5.]\n",
      "   [6.]]\n",
      "\n",
      "  [[7.]\n",
      "   [8.]\n",
      "   [9.]]]]\n"
     ]
    }
   ],
   "source": [
    "print(image)"
   ]
  },
  {
   "cell_type": "code",
   "execution_count": 4,
   "metadata": {},
   "outputs": [
    {
     "name": "stdout",
     "output_type": "stream",
     "text": [
      "image.shape (1, 3, 3, 1)\n",
      "weight.shape (2, 2, 1, 1)\n",
      "conv2d_img (1, 2, 2, 1)\n",
      "---------------------------------------\n",
      "[[12. 16.]\n",
      " [24. 28.]]\n"
     ]
    },
    {
     "data": {
      "image/png": "[encoded data removed]",
      "text/plain": [
       "<Figure size 432x288 with 1 Axes>"
      ]
     },
     "metadata": {
      "needs_background": "light"
     },
     "output_type": "display_data"
    }
   ],
   "source": [
    "#### conv2d 함수로 CNN을 쉽게 구현할 수 있다. (padding = 'VALID')\n",
    "print('image.shape', image.shape)\n",
    "\n",
    "weight = tf.constant([[[ [1.]],[[1.] ]],\n",
    "                      [[ [1.]],[[1.] ]]])\n",
    "print('weight.shape', weight.shape)\n",
    "\n",
    "conv2d = tf.nn.conv2d(image, weight, strides = [1,1,1,1], padding = 'VALID')\n",
    "conv2d_img = conv2d.eval()\n",
    "print(\"conv2d_img\", conv2d_img.shape)\n",
    "\n",
    "#### 시각화를 위한 부분(option)\n",
    "print('---------------------------------------')\n",
    "\n",
    "conv2d_img = np.swapaxes(conv2d_img, 0, 3)\n",
    "for i, one_img in enumerate (conv2d_img): \n",
    "    print(one_img.reshape(2,2)) \n",
    "    plt.subplot(1,2,i+1), plt.imshow(one_img.reshape(2,2), cmap='gray')"
   ]
  },
  {
   "cell_type": "code",
   "execution_count": 5,
   "metadata": {},
   "outputs": [
    {
     "name": "stdout",
     "output_type": "stream",
     "text": [
      "image.shape (1, 3, 3, 1)\n",
      "weight.shape (2, 2, 1, 1)\n",
      "conv2d_img (1, 3, 3, 1)\n",
      "---------------------------------------\n",
      "[[12. 16.  9.]\n",
      " [24. 28. 15.]\n",
      " [15. 17.  9.]]\n"
     ]
    },
    {
     "data": {
      "image/png": "[encoded data removed]",
      "text/plain": [
       "<Figure size 432x288 with 1 Axes>"
      ]
     },
     "metadata": {
      "needs_background": "light"
     },
     "output_type": "display_data"
    }
   ],
   "source": [
    "#### conv2d 함수로 CNN을 쉽게 구현할 수 있다. (padding = 'SAME')\n",
    "print('image.shape', image.shape)\n",
    "\n",
    "weight = tf.constant([[[ [1.]],[[1.] ]],\n",
    "                      [[ [1.]],[[1.] ]]])\n",
    "print('weight.shape', weight.shape)\n",
    "\n",
    "conv2d = tf.nn.conv2d(image, weight, strides = [1,1,1,1], padding = 'SAME')\n",
    "conv2d_img = conv2d.eval()\n",
    "print(\"conv2d_img\", conv2d_img.shape)\n",
    "\n",
    "#### 시각화를 위한 부분(option)\n",
    "print('---------------------------------------')\n",
    "\n",
    "conv2d_img = np.swapaxes(conv2d_img, 0, 3)\n",
    "for i, one_img in enumerate (conv2d_img): \n",
    "    print(one_img.reshape(3,3)) \n",
    "    plt.subplot(1,2,i+1), plt.imshow(one_img.reshape(3,3), cmap='gray')"
   ]
  },
  {
   "cell_type": "code",
   "execution_count": 6,
   "metadata": {},
   "outputs": [
    {
     "name": "stdout",
     "output_type": "stream",
     "text": [
      "image.shape (1, 3, 3, 1)\n",
      "weight.shape (2, 2, 1, 3)\n",
      "conv2d_img (1, 3, 3, 3)\n",
      "---------------------------------------\n",
      "[[12. 16.  9.]\n",
      " [24. 28. 15.]\n",
      " [15. 17.  9.]]\n",
      "[[120. 160.  90.]\n",
      " [240. 280. 150.]\n",
      " [150. 170.  90.]]\n",
      "[[-12. -16.  -9.]\n",
      " [-24. -28. -15.]\n",
      " [-15. -17.  -9.]]\n"
     ]
    },
    {
     "data": {
      "image/png": "[encoded data removed]",
      "text/plain": [
       "<Figure size 432x288 with 3 Axes>"
      ]
     },
     "metadata": {
      "needs_background": "light"
     },
     "output_type": "display_data"
    }
   ],
   "source": [
    "#### 같은 방법으로 filter를 3장 사용하면, 3개의 출력값을 얻게 된다. \n",
    "print('image.shape', image.shape)\n",
    "\n",
    "weight = tf.constant([[[ [1., 10, -1]],[[1., 10, -1] ]],\n",
    "                      [[ [1., 10, -1]],[[1., 10, -1] ]]])\n",
    "print('weight.shape', weight.shape)\n",
    "\n",
    "conv2d = tf.nn.conv2d(image, weight, strides = [1,1,1,1], padding = 'SAME')\n",
    "conv2d_img = conv2d.eval()\n",
    "print(\"conv2d_img\", conv2d_img.shape)\n",
    "\n",
    "#### 시각화를 위한 부분(option)\n",
    "print('---------------------------------------')\n",
    "\n",
    "conv2d_img = np.swapaxes(conv2d_img, 0, 3)\n",
    "for i, one_img in enumerate (conv2d_img): \n",
    "    print(one_img.reshape(3,3)) \n",
    "    plt.subplot(1,3,i+1), plt.imshow(one_img.reshape(3,3), cmap='gray')"
   ]
  },
  {
   "cell_type": "markdown",
   "metadata": {},
   "source": [
    "#### <font color = 'yellow'> Max pooling의 원리 이해 </font>\n",
    "- 2x2의 원본 이미지에 대해, 필터 사이즈 2x2 1개, strides = 1, 동일한 사이즈의 결과물을 얻기 위해 padding = 'SAME' \n",
    "- Max pooling으로 각 필터영역에서 max값들을 추출 \n",
    "- 결과로 4,3,2,1의 2x2 이미지를 얻게되었다. \n",
    "\n",
    "<left><img src= 'img/maxp.PNG' width=\"80%\"></left>"
   ]
  },
  {
   "cell_type": "code",
   "execution_count": 7,
   "metadata": {},
   "outputs": [
    {
     "name": "stdout",
     "output_type": "stream",
     "text": [
      "WARNING:tensorflow:From <ipython-input-7-cf63d80c5ac4>:7: read_data_sets (from tensorflow.contrib.learn.python.learn.datasets.mnist) is deprecated and will be removed in a future version.\n",
      "Instructions for updating:\n",
      "Please use alternatives such as official/mnist/dataset.py from tensorflow/models.\n",
      "WARNING:tensorflow:From C:\\Users\\youngboo.choi\\AppData\\Local\\Continuum\\anaconda3\\lib\\site-packages\\tensorflow_core\\contrib\\learn\\python\\learn\\datasets\\mnist.py:260: maybe_download (from tensorflow.contrib.learn.python.learn.datasets.base) is deprecated and will be removed in a future version.\n",
      "Instructions for updating:\n",
      "Please write your own downloading logic.\n",
      "WARNING:tensorflow:From C:\\Users\\youngboo.choi\\AppData\\Local\\Continuum\\anaconda3\\lib\\site-packages\\tensorflow_core\\contrib\\learn\\python\\learn\\datasets\\mnist.py:262: extract_images (from tensorflow.contrib.learn.python.learn.datasets.mnist) is deprecated and will be removed in a future version.\n",
      "Instructions for updating:\n",
      "Please use tf.data to implement this functionality.\n",
      "Extracting MNIST_data/train-images-idx3-ubyte.gz\n",
      "WARNING:tensorflow:From C:\\Users\\youngboo.choi\\AppData\\Local\\Continuum\\anaconda3\\lib\\site-packages\\tensorflow_core\\contrib\\learn\\python\\learn\\datasets\\mnist.py:267: extract_labels (from tensorflow.contrib.learn.python.learn.datasets.mnist) is deprecated and will be removed in a future version.\n",
      "Instructions for updating:\n",
      "Please use tf.data to implement this functionality.\n",
      "Extracting MNIST_data/train-labels-idx1-ubyte.gz\n",
      "WARNING:tensorflow:From C:\\Users\\youngboo.choi\\AppData\\Local\\Continuum\\anaconda3\\lib\\site-packages\\tensorflow_core\\contrib\\learn\\python\\learn\\datasets\\mnist.py:110: dense_to_one_hot (from tensorflow.contrib.learn.python.learn.datasets.mnist) is deprecated and will be removed in a future version.\n",
      "Instructions for updating:\n",
      "Please use tf.one_hot on tensors.\n",
      "Extracting MNIST_data/t10k-images-idx3-ubyte.gz\n",
      "Extracting MNIST_data/t10k-labels-idx1-ubyte.gz\n",
      "WARNING:tensorflow:From C:\\Users\\youngboo.choi\\AppData\\Local\\Continuum\\anaconda3\\lib\\site-packages\\tensorflow_core\\contrib\\learn\\python\\learn\\datasets\\mnist.py:290: DataSet.__init__ (from tensorflow.contrib.learn.python.learn.datasets.mnist) is deprecated and will be removed in a future version.\n",
      "Instructions for updating:\n",
      "Please use alternatives such as official/mnist/dataset.py from tensorflow/models.\n"
     ]
    },
    {
     "data": {
      "text/plain": [
       "<matplotlib.image.AxesImage at 0x2102e0ae7b8>"
      ]
     },
     "execution_count": 7,
     "metadata": {},
     "output_type": "execute_result"
    },
    {
     "data": {
      "image/png": "[encoded data removed]",
      "text/plain": [
       "<Figure size 432x288 with 1 Axes>"
      ]
     },
     "metadata": {
      "needs_background": "light"
     },
     "output_type": "display_data"
    }
   ],
   "source": [
    "#### MNIST data loading, and check with image \n",
    "#### MNIST image size = 28x28\n",
    "import warnings\n",
    "warnings.filterwarnings('ignore')\n",
    "\n",
    "from tensorflow.examples.tutorials.mnist import input_data\n",
    "mnist = input_data.read_data_sets(\"MNIST_data/\", one_hot=True)\n",
    "\n",
    "img = mnist.train.images[0].reshape(28,28)\n",
    "plt.imshow(img, cmap = 'gray')"
   ]
  },
  {
   "cell_type": "code",
   "execution_count": 8,
   "metadata": {},
   "outputs": [
    {
     "name": "stdout",
     "output_type": "stream",
     "text": [
      "Tensor(\"Conv2D_3:0\", shape=(1, 14, 14, 5), dtype=float32)\n"
     ]
    },
    {
     "data": {
      "image/png": "[encoded data removed]",
      "text/plain": [
       "<Figure size 432x288 with 5 Axes>"
      ]
     },
     "metadata": {
      "needs_background": "light"
     },
     "output_type": "display_data"
    }
   ],
   "source": [
    "import random\n",
    "\n",
    "sess = tf.InteractiveSession()\n",
    "img = img.reshape(-1, 28, 28, 1)  ## -1은 몇개인지 모르니 알아서 하라는 뜻, 즉 28x28x1인 000개의 이미지\n",
    "W1 = tf.Variable(tf.random_normal([3,3,1,5], stddev=0.01))  ## 3x3x1의 필터 5개 사용 \n",
    "conv2d = tf.nn.conv2d(img, W1, strides = [1,2,2,1], padding = 'SAME')  ## strides = 2, Zero padding 사용 \n",
    "print(conv2d)\n",
    "\n",
    "sess.run(tf.global_variables_initializer())\n",
    "conv2d_img = conv2d.eval()\n",
    "\n",
    "#### Zero padding을 사용했지만 strides = 2이므로, 결과이미지 크기는 절반이 된다. \n",
    "conv2d_img = np.swapaxes(conv2d_img, 0, 3)\n",
    "for i, one_img in enumerate (conv2d_img): \n",
    "    plt.subplot(1,5,i+1), plt.imshow(one_img.reshape(14,14), cmap='gray')"
   ]
  },
  {
   "cell_type": "code",
   "execution_count": 9,
   "metadata": {},
   "outputs": [
    {
     "name": "stdout",
     "output_type": "stream",
     "text": [
      "Tensor(\"MaxPool:0\", shape=(1, 7, 7, 5), dtype=float32)\n"
     ]
    },
    {
     "data": {
      "image/png": "[encoded data removed]",
      "text/plain": [
       "<Figure size 432x288 with 5 Axes>"
      ]
     },
     "metadata": {
      "needs_background": "light"
     },
     "output_type": "display_data"
    }
   ],
   "source": [
    "#### 다시!! max pooling을 적용해 보자 \n",
    "pool = tf.nn.max_pool(conv2d, ksize = [1,2,2,1], strides = [1,2,2,1], padding = 'SAME')\n",
    "print(pool)\n",
    "\n",
    "sess.run(tf.global_variables_initializer())\n",
    "pool_img = pool.eval()\n",
    "\n",
    "#### 앞서 CNN을 거치면서 conv2d의 크기가 절반으로 줄어 14x14가 되었다.  \n",
    "#### Zero padding을 사용했지만 strides = 2이므로, 결과이미지 크기는 절반이 된다.(7x7)\n",
    "pool_img = np.swapaxes(pool_img, 0, 3)\n",
    "for i, one_img in enumerate (pool_img): \n",
    "    plt.subplot(1,5,i+1), plt.imshow(one_img.reshape(7,7), cmap='gray')"
   ]
  },
  {
   "cell_type": "markdown",
   "metadata": {},
   "source": [
    "### Lab 11-2: MNIST 99% with CNN"
   ]
  },
  {
   "cell_type": "code",
   "execution_count": 10,
   "metadata": {},
   "outputs": [
    {
     "data": {
      "text/plain": [
       "Datasets(train=<tensorflow.contrib.learn.python.learn.datasets.mnist.DataSet object at 0x000002102B2DA1D0>, validation=<tensorflow.contrib.learn.python.learn.datasets.mnist.DataSet object at 0x000002102B2E2C50>, test=<tensorflow.contrib.learn.python.learn.datasets.mnist.DataSet object at 0x000002102B2DA400>)"
      ]
     },
     "execution_count": 10,
     "metadata": {},
     "output_type": "execute_result"
    }
   ],
   "source": [
    "mnist"
   ]
  },
  {
   "cell_type": "code",
   "execution_count": 11,
   "metadata": {},
   "outputs": [],
   "source": [
    "#### tf.get_variable은 이전에 사용했던 변수명을 기억한다. 아래 코드로 이를 초기화 \n",
    "tf.reset_default_graph()"
   ]
  },
  {
   "cell_type": "code",
   "execution_count": 12,
   "metadata": {},
   "outputs": [
    {
     "name": "stdout",
     "output_type": "stream",
     "text": [
      "WARNING:tensorflow:\n",
      "The TensorFlow contrib module will not be included in TensorFlow 2.0.\n",
      "For more information, please see:\n",
      "  * https://github.com/tensorflow/community/blob/master/rfcs/20180907-contrib-sunset.md\n",
      "  * https://github.com/tensorflow/addons\n",
      "  * https://github.com/tensorflow/io (for I/O related ops)\n",
      "If you depend on functionality not listed there, please file an issue.\n",
      "\n",
      "WARNING:tensorflow:From <ipython-input-12-11a31463af24>:37: softmax_cross_entropy_with_logits (from tensorflow.python.ops.nn_ops) is deprecated and will be removed in a future version.\n",
      "Instructions for updating:\n",
      "\n",
      "Future major versions of TensorFlow will allow gradients to flow\n",
      "into the labels input on backprop by default.\n",
      "\n",
      "See `tf.nn.softmax_cross_entropy_with_logits_v2`.\n",
      "\n",
      "Learning Started, It makes sometimes.\n",
      "Epoch: 1 cost =  0.33304703877392144\n",
      "Epoch: 2 cost =  0.08886961246755985\n",
      "Epoch: 3 cost =  0.06540637931617142\n",
      "Epoch: 4 cost =  0.05338967634576627\n",
      "Epoch: 5 cost =  0.047837416013618086\n",
      "Epoch: 6 cost =  0.04072400415972382\n",
      "Epoch: 7 cost =  0.03607198116411875\n",
      "Epoch: 8 cost =  0.031376901979092514\n",
      "Epoch: 9 cost =  0.02777647290093062\n",
      "Epoch: 10 cost =  0.026408656040068968\n",
      "Epoch: 11 cost =  0.022858931507110925\n",
      "Epoch: 12 cost =  0.019897843296904177\n",
      "Epoch: 13 cost =  0.01686150367329405\n",
      "Epoch: 14 cost =  0.016290754707456067\n",
      "Epoch: 15 cost =  0.014214352335045328\n",
      "Learning Finished\n",
      "Accuracy: 0.9855\n"
     ]
    }
   ],
   "source": [
    "#### 먼저 input image를 적절하게 지정해 준다\n",
    "#### MNIST는 28x28 사이즈의 흑백 이미지 784개로 이루어져 있으므로 ... \n",
    "X = tf.placeholder(tf.float32, [None, 784])\n",
    "X_img = tf.reshape(X, [-1, 28,28,1])            \n",
    "Y = tf.placeholder(tf.float32, [None, 10])\n",
    "\n",
    "#### 1st layer \n",
    "#### 3x3x1의 필터를 32개 사용한 CNN을 거치고, 이를 다시 필터 2x2 & strides = 2로 sampleing(max_pooling)\n",
    "#### 따라서 결과는 절반으로 줄어들어 14x14가 된다. \n",
    "W1 = tf.Variable(tf.random_normal([3,3,1,32], stddev = 0.01))\n",
    "L1 = tf.nn.conv2d(X_img, W1, strides = [1,1,1,1], padding = 'SAME')\n",
    "L1 = tf.nn.relu(L1)\n",
    "L1 = tf.nn.max_pool(L1, ksize = [1,2,2,1], strides = [1,2,2,1], padding = 'SAME')\n",
    "\n",
    "#### 2nd layer \n",
    "#### layer 1의 결과를 다시 cnn에 투입, 필터는 3x3을 64개 사용 \n",
    "#### 이를 다시 필터 2x2 & strides = 2로 sampleing(max_pooling) \n",
    "#### 따라서 결과는 절반으로 줄어들어 7x7이 된다. \n",
    "W2 = tf.Variable(tf.random_normal([3,3,32,64], stddev = 0.01))\n",
    "L2 = tf.nn.conv2d(L1, W2, strides = [1,1,1,1], padding = 'SAME')\n",
    "L2 = tf.nn.relu(L2)\n",
    "L2 = tf.nn.max_pool(L2, ksize = [1,2,2,1], strides = [1,2,2,1], padding = 'SAME')\n",
    "\n",
    "#### Fully Connected에 넣기위해 값들을 펼친다. 7x7 사이즈의 이미지가 64개 생성되었으므로, 7x7x64 = 3136개의 결과 이미지\n",
    "#### 최종 출력값은 0~9이므로 10이 된다. \n",
    "#### hyper parameters, 초기값 설정방법 지정, 가설과 cost 함수 설정, training 방법 설정 \n",
    "L2_flat = tf.reshape(L2, [-1, 7*7*64])\n",
    "\n",
    "learning_rate = 0.001\n",
    "training_epochs = 15\n",
    "batch_size = 100\n",
    "\n",
    "W3 = tf.get_variable('W3', shape = [7*7*64, 10], initializer = tf.contrib.layers.xavier_initializer())\n",
    "b = tf.Variable(tf.random_normal([10]))\n",
    "hypothesis = tf.matmul(L2_flat, W3) + b\n",
    "\n",
    "cost = tf.reduce_mean(tf.nn.softmax_cross_entropy_with_logits(logits = hypothesis, labels = Y))\n",
    "optimizer = tf.train.AdamOptimizer(learning_rate = learning_rate).minimize(cost)\n",
    "\n",
    "#### initialize \n",
    "sess = tf.Session()\n",
    "sess.run(tf.global_variables_initializer())\n",
    "\n",
    "#### training \n",
    "print('Learning Started, It makes sometimes.')\n",
    "\n",
    "for epoch in range(training_epochs) : \n",
    "    avg_cost = 0 \n",
    "    total_batch = int(mnist.train.num_examples / batch_size)\n",
    "    \n",
    "    for i in range(total_batch) : \n",
    "        batch_xs, batch_ys = mnist.train.next_batch(batch_size)\n",
    "        feed_dict = {X: batch_xs, Y: batch_ys}\n",
    "        c, _, = sess.run([cost, optimizer], feed_dict = feed_dict)\n",
    "        avg_cost += c / total_batch\n",
    "    print('Epoch:', epoch+1, 'cost = ', avg_cost)\n",
    "\n",
    "print('Learning Finished')\n",
    "\n",
    "#### test \n",
    "correct_prediction = tf.equal(tf.argmax(hypothesis, 1), tf.argmax(Y, 1))\n",
    "accuracy = tf.reduce_mean(tf.cast(correct_prediction, tf.float32))\n",
    "print('Accuracy:', sess.run(accuracy, feed_dict = {X: mnist.test.images, Y: mnist.test.labels}))"
   ]
  },
  {
   "cell_type": "markdown",
   "metadata": {},
   "source": [
    "- 정확도 향상을 위해 layer를 보다 많이 쌓는 경우도 위와 같은 코드를 반복하는 과정\n",
    "- 단 drop out(keep_prob)의 설정에 주의, 여기서는 training = 0.7 & test = 1.0 "
   ]
  },
  {
   "cell_type": "code",
   "execution_count": 13,
   "metadata": {},
   "outputs": [
    {
     "name": "stdout",
     "output_type": "stream",
     "text": [
      "WARNING:tensorflow:From <ipython-input-13-331f8b9ce4c8>:23: calling dropout (from tensorflow.python.ops.nn_ops) with keep_prob is deprecated and will be removed in a future version.\n",
      "Instructions for updating:\n",
      "Please use `rate` instead of `keep_prob`. Rate should be set to `rate = 1 - keep_prob`.\n",
      "Learning started. It takes sometime.\n",
      "Epoch: 0001 cost = 0.405479272\n",
      "Epoch: 0002 cost = 0.098291552\n",
      "Epoch: 0003 cost = 0.074284309\n",
      "Epoch: 0004 cost = 0.061162627\n",
      "Epoch: 0005 cost = 0.052200512\n",
      "Epoch: 0006 cost = 0.048186214\n",
      "Epoch: 0007 cost = 0.042460790\n",
      "Epoch: 0008 cost = 0.039284753\n",
      "Epoch: 0009 cost = 0.035403663\n",
      "Epoch: 0010 cost = 0.035181244\n",
      "Epoch: 0011 cost = 0.033496085\n",
      "Epoch: 0012 cost = 0.030472410\n",
      "Epoch: 0013 cost = 0.029917258\n",
      "Epoch: 0014 cost = 0.029276439\n",
      "Epoch: 0015 cost = 0.027137286\n",
      "Learning Finished!\n",
      "Accuracy: 0.9939\n"
     ]
    }
   ],
   "source": [
    "tf.reset_default_graph()\n",
    "\n",
    "# hyper parameters\n",
    "learning_rate = 0.001\n",
    "training_epochs = 15\n",
    "batch_size = 100\n",
    "\n",
    "# dropout (keep_prob) rate  0.7~0.5 on training, but should be 1 for testing\n",
    "keep_prob = tf.placeholder(tf.float32)\n",
    "\n",
    "# input place holders\n",
    "X = tf.placeholder(tf.float32, [None, 784])\n",
    "X_img = tf.reshape(X, [-1, 28, 28, 1])   # img 28x28x1 (black/white)\n",
    "Y = tf.placeholder(tf.float32, [None, 10])\n",
    "\n",
    "\n",
    "# L1 ImgIn shape=(?, 28, 28, 1)\n",
    "W1 = tf.Variable(tf.random_normal([3, 3, 1, 32], stddev=0.01))\n",
    "L1 = tf.nn.conv2d(X_img, W1, strides=[1, 1, 1, 1], padding='SAME')\n",
    "L1 = tf.nn.relu(L1)\n",
    "L1 = tf.nn.max_pool(L1, ksize=[1, 2, 2, 1],\n",
    "                    strides=[1, 2, 2, 1], padding='SAME')\n",
    "L1 = tf.nn.dropout(L1, keep_prob=keep_prob)\n",
    "\n",
    "\n",
    "# L2 ImgIn shape=(?, 14, 14, 32)\n",
    "W2 = tf.Variable(tf.random_normal([3, 3, 32, 64], stddev=0.01))\n",
    "L2 = tf.nn.conv2d(L1, W2, strides=[1, 1, 1, 1], padding='SAME')\n",
    "L2 = tf.nn.relu(L2)\n",
    "L2 = tf.nn.max_pool(L2, ksize=[1, 2, 2, 1],\n",
    "                    strides=[1, 2, 2, 1], padding='SAME')\n",
    "L2 = tf.nn.dropout(L2, keep_prob=keep_prob)\n",
    "\n",
    "\n",
    "# L3 ImgIn shape=(?, 7, 7, 64)\n",
    "W3 = tf.Variable(tf.random_normal([3, 3, 64, 128], stddev=0.01))\n",
    "L3 = tf.nn.conv2d(L2, W3, strides=[1, 1, 1, 1], padding='SAME')\n",
    "L3 = tf.nn.relu(L3)\n",
    "L3 = tf.nn.max_pool(L3, ksize=[1, 2, 2, 1], strides=[\n",
    "                    1, 2, 2, 1], padding='SAME')\n",
    "L3 = tf.nn.dropout(L3, keep_prob=keep_prob)\n",
    "L3_flat = tf.reshape(L3, [-1, 128 * 4 * 4])\n",
    "\n",
    "\n",
    "# L4 FC 4x4x128 inputs -> 625 outputs\n",
    "W4 = tf.get_variable(\"W4\", shape=[128 * 4 * 4, 625],\n",
    "                     initializer=tf.contrib.layers.xavier_initializer())\n",
    "b4 = tf.Variable(tf.random_normal([625]))\n",
    "L4 = tf.nn.relu(tf.matmul(L3_flat, W4) + b4)\n",
    "L4 = tf.nn.dropout(L4, keep_prob=keep_prob)\n",
    "\n",
    "\n",
    "# L5 Final FC 625 inputs -> 10 outputs\n",
    "W5 = tf.get_variable(\"W5\", shape=[625, 10],\n",
    "                     initializer=tf.contrib.layers.xavier_initializer())\n",
    "b5 = tf.Variable(tf.random_normal([10]))\n",
    "logits = tf.matmul(L4, W5) + b5\n",
    "\n",
    "\n",
    "# define cost/loss & optimizer\n",
    "cost = tf.reduce_mean(tf.nn.softmax_cross_entropy_with_logits(\n",
    "    logits=logits, labels=Y))\n",
    "optimizer = tf.train.AdamOptimizer(learning_rate=learning_rate).minimize(cost)\n",
    "\n",
    "# initialize\n",
    "sess = tf.Session()\n",
    "sess.run(tf.global_variables_initializer())\n",
    "\n",
    "# train my model\n",
    "print('Learning started. It takes sometime.')\n",
    "for epoch in range(training_epochs):\n",
    "    avg_cost = 0\n",
    "    total_batch = int(mnist.train.num_examples / batch_size)\n",
    "\n",
    "    for i in range(total_batch):\n",
    "        batch_xs, batch_ys = mnist.train.next_batch(batch_size)\n",
    "        feed_dict = {X: batch_xs, Y: batch_ys, keep_prob: 0.7}\n",
    "        c, _ = sess.run([cost, optimizer], feed_dict=feed_dict)\n",
    "        avg_cost += c / total_batch\n",
    "\n",
    "    print('Epoch:', '%04d' % (epoch + 1), 'cost =', '{:.9f}'.format(avg_cost))\n",
    "\n",
    "print('Learning Finished!')\n",
    "\n",
    "# Test model and check accuracy\n",
    "# if you have a OOM error, please refer to lab-11-X-mnist_deep_cnn_low_memory.py\n",
    "\n",
    "correct_prediction = tf.equal(tf.argmax(logits, 1), tf.argmax(Y, 1))\n",
    "accuracy = tf.reduce_mean(tf.cast(correct_prediction, tf.float32))\n",
    "print('Accuracy:', sess.run(accuracy, feed_dict={\n",
    "       X: mnist.test.images, Y: mnist.test.labels, keep_prob: 1}))"
   ]
  },
  {
   "cell_type": "markdown",
   "metadata": {},
   "source": [
    "- 첫번째 2 layers CNN : Epoch 15회, Accuracy 0.9897 \n",
    "- 두번재 4 layers CNN : Epoch 15회, Accuracy 0.9932"
   ]
  },
  {
   "cell_type": "markdown",
   "metadata": {},
   "source": [
    "### Lab 11-3: CNN class, layer, ensemble"
   ]
  },
  {
   "cell_type": "markdown",
   "metadata": {},
   "source": [
    "- Class와 Layer를 사용해서, 복잡한 코드를 단순화 \n",
    "- 7개 모델을 ensemble하여 예측결과를 얻는다. "
   ]
  },
  {
   "cell_type": "code",
   "execution_count": 14,
   "metadata": {},
   "outputs": [
    {
     "name": "stdout",
     "output_type": "stream",
     "text": [
      "WARNING:tensorflow:From <ipython-input-14-98ed9409e9ee>:29: conv2d (from tensorflow.python.layers.convolutional) is deprecated and will be removed in a future version.\n",
      "Instructions for updating:\n",
      "Use `tf.keras.layers.Conv2D` instead.\n",
      "WARNING:tensorflow:From C:\\Users\\youngboo.choi\\AppData\\Local\\Continuum\\anaconda3\\lib\\site-packages\\tensorflow_core\\python\\layers\\convolutional.py:424: Layer.apply (from tensorflow.python.keras.engine.base_layer) is deprecated and will be removed in a future version.\n",
      "Instructions for updating:\n",
      "Please use `layer.__call__` method instead.\n",
      "WARNING:tensorflow:From <ipython-input-14-98ed9409e9ee>:32: max_pooling2d (from tensorflow.python.layers.pooling) is deprecated and will be removed in a future version.\n",
      "Instructions for updating:\n",
      "Use keras.layers.MaxPooling2D instead.\n",
      "WARNING:tensorflow:From <ipython-input-14-98ed9409e9ee>:34: dropout (from tensorflow.python.layers.core) is deprecated and will be removed in a future version.\n",
      "Instructions for updating:\n",
      "Use keras.layers.dropout instead.\n",
      "WARNING:tensorflow:From <ipython-input-14-98ed9409e9ee>:55: dense (from tensorflow.python.layers.core) is deprecated and will be removed in a future version.\n",
      "Instructions for updating:\n",
      "Use keras.layers.Dense instead.\n",
      "Learning Started!\n",
      "Epoch: 0001 cost = [0.27946609 0.29032681]\n",
      "Epoch: 0002 cost = [0.08662839 0.08849391]\n",
      "Epoch: 0003 cost = [0.06624603 0.0659832 ]\n",
      "Epoch: 0004 cost = [0.05688636 0.05652943]\n",
      "Epoch: 0005 cost = [0.04583257 0.04818482]\n",
      "Epoch: 0006 cost = [0.04168963 0.04336172]\n",
      "Epoch: 0007 cost = [0.04026004 0.04128004]\n",
      "Epoch: 0008 cost = [0.03610833 0.03585229]\n",
      "Epoch: 0009 cost = [0.03544369 0.03459216]\n",
      "Epoch: 0010 cost = [0.03054557 0.03273134]\n",
      "Epoch: 0011 cost = [0.03130719 0.03169711]\n",
      "Epoch: 0012 cost = [0.03029879 0.02957265]\n",
      "Epoch: 0013 cost = [0.02816108 0.02877955]\n",
      "Epoch: 0014 cost = [0.0276086  0.02664824]\n",
      "Epoch: 0015 cost = [0.02498096 0.02416962]\n",
      "Epoch: 0016 cost = [0.02686235 0.02667604]\n",
      "Epoch: 0017 cost = [0.02428052 0.02364356]\n",
      "Epoch: 0018 cost = [0.02510866 0.02463901]\n",
      "Epoch: 0019 cost = [0.02148023 0.02564392]\n",
      "Epoch: 0020 cost = [0.02011296 0.02274787]\n",
      "Learning Finished!\n",
      "0 Accuracy: 0.9943\n",
      "1 Accuracy: 0.9947\n",
      "Ensemble accuracy: 0.9951\n"
     ]
    }
   ],
   "source": [
    "# hyper parameters\n",
    "learning_rate = 0.001\n",
    "training_epochs = 20\n",
    "batch_size = 100\n",
    "\n",
    "\n",
    "class Model:\n",
    "\n",
    "    def __init__(self, sess, name):\n",
    "        self.sess = sess\n",
    "        self.name = name\n",
    "        self._build_net()\n",
    "\n",
    "    def _build_net(self):\n",
    "        with tf.variable_scope(self.name):\n",
    "            # dropout (keep_prob) rate  0.7~0.5 on training, but should be 1\n",
    "            # for testing\n",
    "            self.training = tf.placeholder(tf.bool)\n",
    "\n",
    "            # input place holders\n",
    "            self.X = tf.placeholder(tf.float32, [None, 784])\n",
    "\n",
    "            # img 28x28x1 (black/white), Input Layer\n",
    "            X_img = tf.reshape(self.X, [-1, 28, 28, 1])\n",
    "            self.Y = tf.placeholder(tf.float32, [None, 10])\n",
    "\n",
    "            # Convolutional Layer #1\n",
    "            conv1 = tf.layers.conv2d(inputs=X_img, filters=32, kernel_size=[3, 3],\n",
    "                                     padding=\"SAME\", activation=tf.nn.relu)\n",
    "            # Pooling Layer #1\n",
    "            pool1 = tf.layers.max_pooling2d(inputs=conv1, pool_size=[2, 2],\n",
    "                                            padding=\"SAME\", strides=2)\n",
    "            dropout1 = tf.layers.dropout(inputs=pool1,\n",
    "                                         rate=0.3, training=self.training)\n",
    "\n",
    "            # Convolutional Layer #2 and Pooling Layer #2\n",
    "            conv2 = tf.layers.conv2d(inputs=dropout1, filters=64, kernel_size=[3, 3],\n",
    "                                     padding=\"SAME\", activation=tf.nn.relu)\n",
    "            pool2 = tf.layers.max_pooling2d(inputs=conv2, pool_size=[2, 2],\n",
    "                                            padding=\"SAME\", strides=2)\n",
    "            dropout2 = tf.layers.dropout(inputs=pool2,\n",
    "                                         rate=0.3, training=self.training)\n",
    "\n",
    "            # Convolutional Layer #3 and Pooling Layer #3\n",
    "            conv3 = tf.layers.conv2d(inputs=dropout2, filters=128, kernel_size=[3, 3],\n",
    "                                     padding=\"SAME\", activation=tf.nn.relu)\n",
    "            pool3 = tf.layers.max_pooling2d(inputs=conv3, pool_size=[2, 2],\n",
    "                                            padding=\"SAME\", strides=2)\n",
    "            dropout3 = tf.layers.dropout(inputs=pool3,\n",
    "                                         rate=0.3, training=self.training)\n",
    "\n",
    "            # Dense Layer with Relu\n",
    "            flat = tf.reshape(dropout3, [-1, 128 * 4 * 4])\n",
    "            dense4 = tf.layers.dense(inputs=flat,\n",
    "                                     units=625, activation=tf.nn.relu)\n",
    "            dropout4 = tf.layers.dropout(inputs=dense4,\n",
    "                                         rate=0.5, training=self.training)\n",
    "\n",
    "            # Logits (no activation) Layer: L5 Final FC 625 inputs -> 10 outputs\n",
    "            self.logits = tf.layers.dense(inputs=dropout4, units=10)\n",
    "\n",
    "        # define cost/loss & optimizer\n",
    "        self.cost = tf.reduce_mean(tf.nn.softmax_cross_entropy_with_logits(\n",
    "            logits=self.logits, labels=self.Y))\n",
    "        self.optimizer = tf.train.AdamOptimizer(\n",
    "            learning_rate=learning_rate).minimize(self.cost)\n",
    "\n",
    "        correct_prediction = tf.equal(\n",
    "            tf.argmax(self.logits, 1), tf.argmax(self.Y, 1))\n",
    "        self.accuracy = tf.reduce_mean(tf.cast(correct_prediction, tf.float32))\n",
    "\n",
    "    def predict(self, x_test, training=False):\n",
    "        return self.sess.run(self.logits,\n",
    "                             feed_dict={self.X: x_test, self.training: training})\n",
    "\n",
    "    def get_accuracy(self, x_test, y_test, training=False):\n",
    "        return self.sess.run(self.accuracy,\n",
    "                             feed_dict={self.X: x_test,\n",
    "                                        self.Y: y_test, self.training: training})\n",
    "\n",
    "    def train(self, x_data, y_data, training=True):\n",
    "        return self.sess.run([self.cost, self.optimizer], feed_dict={\n",
    "            self.X: x_data, self.Y: y_data, self.training: training})\n",
    "\n",
    "# initialize\n",
    "sess = tf.Session()\n",
    "\n",
    "models = []\n",
    "num_models = 2\n",
    "for m in range(num_models):\n",
    "    models.append(Model(sess, \"model\" + str(m)))\n",
    "\n",
    "sess.run(tf.global_variables_initializer())\n",
    "\n",
    "print('Learning Started!')\n",
    "\n",
    "# train my model\n",
    "for epoch in range(training_epochs):\n",
    "    avg_cost_list = np.zeros(len(models))\n",
    "    total_batch = int(mnist.train.num_examples / batch_size)\n",
    "    for i in range(total_batch):\n",
    "        batch_xs, batch_ys = mnist.train.next_batch(batch_size)\n",
    "\n",
    "        # train each model\n",
    "        for m_idx, m in enumerate(models):\n",
    "            c, _ = m.train(batch_xs, batch_ys)\n",
    "            avg_cost_list[m_idx] += c / total_batch\n",
    "\n",
    "    print('Epoch:', '%04d' % (epoch + 1), 'cost =', avg_cost_list)\n",
    "\n",
    "print('Learning Finished!')\n",
    "\n",
    "# Test model and check accuracy\n",
    "test_size = len(mnist.test.labels)\n",
    "predictions = np.zeros([test_size, 10])\n",
    "for m_idx, m in enumerate(models):\n",
    "    print(m_idx, 'Accuracy:', m.get_accuracy(\n",
    "        mnist.test.images, mnist.test.labels))\n",
    "    p = m.predict(mnist.test.images)\n",
    "    predictions += p\n",
    "\n",
    "ensemble_correct_prediction = tf.equal(\n",
    "    tf.argmax(predictions, 1), tf.argmax(mnist.test.labels, 1))\n",
    "ensemble_accuracy = tf.reduce_mean(\n",
    "    tf.cast(ensemble_correct_prediction, tf.float32))\n",
    "print('Ensemble accuracy:', sess.run(ensemble_accuracy))"
   ]
  },
  {
   "cell_type": "code",
   "execution_count": null,
   "metadata": {},
   "outputs": [],
   "source": []
  },
  {
   "cell_type": "code",
   "execution_count": null,
   "metadata": {},
   "outputs": [],
   "source": []
  },
  {
   "cell_type": "code",
   "execution_count": null,
   "metadata": {},
   "outputs": [],
   "source": []
  }
 ],
 "metadata": {
  "kernelspec": {
   "display_name": "Python 3",
   "language": "python",
   "name": "python3"
  },
  "language_info": {
   "codemirror_mode": {
    "name": "ipython",
    "version": 3
   },
   "file_extension": ".py",
   "mimetype": "text/x-python",
   "name": "python",
   "nbconvert_exporter": "python",
   "pygments_lexer": "ipython3",
   "version": "3.7.3"
  }
 },
 "nbformat": 4,
 "nbformat_minor": 4
}
