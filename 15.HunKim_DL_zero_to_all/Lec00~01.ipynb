{
 "cells": [
  {
   "cell_type": "markdown",
   "metadata": {},
   "source": [
    "### Lec 00: Orientation \n",
    "##### 다음의 것들을 공부하게 될 것이다. \n",
    "##### - Linear regression, Logistic Regression, CNN, RNN, Tensorflow (with python)  "
   ]
  },
  {
   "cell_type": "code",
   "execution_count": 1,
   "metadata": {},
   "outputs": [],
   "source": [
    "#################################################################################################"
   ]
  },
  {
   "cell_type": "markdown",
   "metadata": {},
   "source": [
    "### Lec 01: Basic concept about machine learning \n",
    "##### 1. Supervised learning : labled dataset에 의한 training이 필요하다. \n",
    "##### 2. Un-Supervised learning : unlabled dataset을 사용한다. \n",
    "\n",
    "##### 3. supervised learning을 주로 사용하는 영역\n",
    "######  - Predict(예측)의 문제 : Regression \n",
    "######  - Yes/No의 판별 문제 : Binary Classification \n",
    "######  - A,B,C,F 등 Grade를 매기는 문제 : Multi label Classification "
   ]
  },
  {
   "cell_type": "code",
   "execution_count": 2,
   "metadata": {},
   "outputs": [],
   "source": [
    "#################################################################################################"
   ]
  },
  {
   "cell_type": "markdown",
   "metadata": {},
   "source": [
    "### Lab 01: Tensorflow install "
   ]
  },
  {
   "cell_type": "code",
   "execution_count": 3,
   "metadata": {},
   "outputs": [],
   "source": [
    "#### tf cpu version 설치 \n",
    "# !pip install --upgrade tensorflow \n",
    "#### tf gpu version 설치 \n",
    "# !pip install --upgrade tensorflow -gpu "
   ]
  },
  {
   "cell_type": "code",
   "execution_count": 4,
   "metadata": {},
   "outputs": [
    {
     "data": {
      "text/plain": [
       "'2.2.0'"
      ]
     },
     "execution_count": 4,
     "metadata": {},
     "output_type": "execute_result"
    }
   ],
   "source": [
    "#### tf import & check version \n",
    "import tensorflow as tf \n",
    "tf.__version__"
   ]
  },
  {
   "cell_type": "code",
   "execution_count": 6,
   "metadata": {},
   "outputs": [
    {
     "name": "stdout",
     "output_type": "stream",
     "text": [
      "tf.Tensor(b'Hello, Tensorflow!', shape=(), dtype=string)\n",
      "Hello, Tensorflow!\n"
     ]
    }
   ],
   "source": [
    "#### 문자열을 변수에 할당하고 출력해보기 \n",
    "hello = tf.constant(\"Hello, Tensorflow!\") \n",
    "print(hello)\n",
    "tf.print(hello)"
   ]
  },
  {
   "cell_type": "code",
   "execution_count": 11,
   "metadata": {},
   "outputs": [
    {
     "name": "stdout",
     "output_type": "stream",
     "text": [
      "tf.Tensor(7.0, shape=(), dtype=float32)\n",
      "7\n"
     ]
    }
   ],
   "source": [
    "#### 숫자 또는 행렬을 계산하기 \n",
    "#### type은 주로 int32 또는 float32가 많이 쓰인다. \n",
    "\n",
    "node1 = tf.constant(3.0, tf.float32)\n",
    "node2 = tf.constant(4.0)\n",
    "node3 = node1 + node2\n",
    "\n",
    "print(node3)\n",
    "tf.print(node3)"
   ]
  },
  {
   "cell_type": "code",
   "execution_count": 12,
   "metadata": {},
   "outputs": [
    {
     "name": "stdout",
     "output_type": "stream",
     "text": [
      "tf.Tensor([3 7], shape=(2,), dtype=int32)\n",
      "[3 7]\n"
     ]
    }
   ],
   "source": [
    "a = tf.constant([1, 3])\n",
    "b = tf.constant([2, 4])\n",
    "c = a+b\n",
    "\n",
    "print(c)\n",
    "tf.print(c)"
   ]
  },
  {
   "cell_type": "code",
   "execution_count": 13,
   "metadata": {},
   "outputs": [],
   "source": [
    "#################################################################################################"
   ]
  }
 ],
 "metadata": {
  "kernelspec": {
   "display_name": "Python 3",
   "language": "python",
   "name": "python3"
  },
  "language_info": {
   "codemirror_mode": {
    "name": "ipython",
    "version": 3
   },
   "file_extension": ".py",
   "mimetype": "text/x-python",
   "name": "python",
   "nbconvert_exporter": "python",
   "pygments_lexer": "ipython3",
   "version": "3.7.3"
  }
 },
 "nbformat": 4,
 "nbformat_minor": 4
}
