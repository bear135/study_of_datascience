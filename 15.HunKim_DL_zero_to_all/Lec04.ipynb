{
 "cells": [
  {
   "cell_type": "markdown",
   "metadata": {},
   "source": [
    "### Lec 04: Multivariable Linear Regression"
   ]
  },
  {
   "cell_type": "markdown",
   "metadata": {},
   "source": [
    "##### <font color = 'yellow'> - Hypothesis using Matrix  </font>\n",
    "<left><img src= 'img/matrix.PNG' width=\"32.6%\"></left>\n",
    "<left><img src= 'img/matrix_n.PNG' width=\"50%\"></left>"
   ]
  },
  {
   "cell_type": "markdown",
   "metadata": {},
   "source": [
    "### Lec 04-1: Multivariable Linear Regression with tf"
   ]
  },
  {
   "cell_type": "code",
   "execution_count": 5,
   "metadata": {},
   "outputs": [
    {
     "name": "stdout",
     "output_type": "stream",
     "text": [
      "WARNING:tensorflow:From C:\\Users\\youngboo.choi\\AppData\\Local\\Continuum\\anaconda3\\lib\\site-packages\\tensorflow\\python\\compat\\v2_compat.py:96: disable_resource_variables (from tensorflow.python.ops.variable_scope) is deprecated and will be removed in a future version.\n",
      "Instructions for updating:\n",
      "non-resource variables are not supported in the long term\n"
     ]
    }
   ],
   "source": [
    "import tensorflow as tf\n",
    "import tensorflow.compat.v1 as tf\n",
    "tf.disable_v2_behavior()"
   ]
  },
  {
   "cell_type": "markdown",
   "metadata": {},
   "source": [
    "##### @@ matrix \n",
    "<left><img src= 'img/score.PNG' width=\"20%\"></left>"
   ]
  },
  {
   "cell_type": "code",
   "execution_count": 13,
   "metadata": {},
   "outputs": [
    {
     "name": "stdout",
     "output_type": "stream",
     "text": [
      "0 8179.901 [79.45925 83.16678 88.61679 91.08252 65.13148]\n",
      "200 20.921246 [159.25803 179.7165  183.41571 194.37343 138.88565]\n",
      "400 19.134533 [158.93677 179.9349  183.31491 194.31883 139.1568 ]\n",
      "600 17.527744 [158.632   180.14201 183.2192  194.26787 139.41316]\n",
      "800 16.082844 [158.34294 180.33833 183.12827 194.22026 139.6555 ]\n",
      "1000 14.783037 [158.06871 180.52449 183.04189 194.17586 139.88454]\n",
      "1200 13.613493 [157.80853 180.70099 182.95981 194.13448 140.10098]\n",
      "1400 12.560989 [157.56175 180.8684  182.88191 194.09602 140.30556]\n",
      "1600 11.613227 [157.32753 181.02711 182.80782 194.06029 140.49886]\n",
      "1800 10.759722 [157.10532 181.1777  182.73749 194.02716 140.68149]\n",
      "2000 9.99066 [156.8944  181.32051 182.67053 193.9964  140.85396]\n"
     ]
    }
   ],
   "source": [
    "#### 3회의 중간시험 점수를 바탕으로, 최종 점수를 예측하라 \n",
    "x1_data = [73, 93, 89, 96, 73]\n",
    "x2_data = [80, 88, 91, 98, 66]\n",
    "x3_data = [75, 93, 90, 100, 70]\n",
    "y_data = [152, 185, 180, 196, 142]\n",
    "\n",
    "x1 = tf.placeholder(tf.float32)\n",
    "x2 = tf.placeholder(tf.float32)\n",
    "x3 = tf.placeholder(tf.float32)\n",
    "Y = tf.placeholder(tf.float32)\n",
    "\n",
    "w1 = tf.Variable(tf.random_normal([1]), name = 'wieght1')\n",
    "w2 = tf.Variable(tf.random_normal([1]), name = 'wieght2')\n",
    "w3 = tf.Variable(tf.random_normal([1]), name = 'wieght3')\n",
    "b = tf.Variable(tf.random_normal([1]), name = 'bias')\n",
    "\n",
    "hypothesis = x1*w1 + x2*w2 + x3*w3 + b\n",
    "\n",
    "#### cost function & graphing \n",
    "cost = tf.reduce_mean( tf.square(hypothesis - Y) )\n",
    "optimizer = tf.train.GradientDescentOptimizer(learning_rate= 1e-5)  ### 1e의 -5승(= 0.00001)\n",
    "train = optimizer.minimize(cost)\n",
    "sess = tf.Session()\n",
    "sess.run(tf.global_variables_initializer())\n",
    "\n",
    "for step in range(2001) : \n",
    "    cost_val, hy_val, _ = sess.run([cost, hypothesis, train], \n",
    "                                    feed_dict = {x1: x1_data, x2: x2_data, x3: x3_data, Y: y_data})\n",
    "    if step % 200 == 0 :\n",
    "        #print(step, 'cost: ', cost_val, '\\n prediction: \\n', hy_val)\n",
    "        print(step, cost_val, hy_val)"
   ]
  },
  {
   "cell_type": "markdown",
   "metadata": {},
   "source": [
    "##### <font color = 'yellow'> * 코드가 매우 복잡하다. 매트릭스를 적용해보자!! </font>"
   ]
  },
  {
   "cell_type": "code",
   "execution_count": 20,
   "metadata": {},
   "outputs": [
    {
     "name": "stdout",
     "output_type": "stream",
     "text": [
      "1995 15.775301 [[156.77208]\n",
      " [180.94463]\n",
      " [182.15988]\n",
      " [198.04233]\n",
      " [136.44829]]\n",
      "1996 15.76697 [[156.77057]\n",
      " [180.94568]\n",
      " [182.15944]\n",
      " [198.04199]\n",
      " [136.44968]]\n",
      "1997 15.7586 [[156.76904]\n",
      " [180.94672]\n",
      " [182.15898]\n",
      " [198.04163]\n",
      " [136.45107]]\n",
      "1998 15.7502165 [[156.76752]\n",
      " [180.94775]\n",
      " [182.15851]\n",
      " [198.04126]\n",
      " [136.45245]]\n",
      "1999 15.7419 [[156.766  ]\n",
      " [180.94879]\n",
      " [182.15804]\n",
      " [198.0409 ]\n",
      " [136.45383]]\n",
      "2000 15.733566 [[156.7645 ]\n",
      " [180.94984]\n",
      " [182.15758]\n",
      " [198.04056]\n",
      " [136.45522]]\n"
     ]
    }
   ],
   "source": [
    "#### data를 matrix 형식으로 입력 \n",
    "x_data = [[73, 80, 75], \n",
    "          [93, 88, 93], \n",
    "          [89, 91, 90], \n",
    "          [96, 98, 100], \n",
    "          [73, 66, 70]]\n",
    "\n",
    "y_data = [[152],\n",
    "          [185], \n",
    "          [180], \n",
    "          [196], \n",
    "          [142]] \n",
    "\n",
    "X = tf.placeholder(tf.float32, shape = [None, 3])   ### None는 N개의 row를 의미함 \n",
    "Y = tf.placeholder(tf.float32, shape = [None, 1])   ### row는 그냥 None로 두고, 컬럼수(3, 1)만 지정해 주면 된다. \n",
    "\n",
    "W = tf.Variable(tf.random_normal([3, 1]), name = 'wieght')\n",
    "b = tf.Variable(tf.random_normal([1]), name = 'bias')\n",
    "\n",
    "hypothesis = tf.matmul(X, W) + b\n",
    "\n",
    "#### cost function & graphing \n",
    "cost = tf.reduce_mean( tf.square(hypothesis - Y) )\n",
    "optimizer = tf.train.GradientDescentOptimizer(learning_rate= 1e-5)  ### 1e의 -5승(= 0.00001)\n",
    "train = optimizer.minimize(cost)\n",
    "sess = tf.Session()\n",
    "sess.run(tf.global_variables_initializer())\n",
    "\n",
    "for step in range(2001) : \n",
    "    cost_val, hy_val, _ = sess.run([cost, hypothesis, train], \n",
    "                                    feed_dict = {X: x_data, Y: y_data})\n",
    "    if step >= 1995 :        \n",
    "        print(step, cost_val, hy_val) "
   ]
  },
  {
   "cell_type": "markdown",
   "metadata": {},
   "source": [
    "### Lec 04-2: Reading the data from file "
   ]
  },
  {
   "cell_type": "code",
   "execution_count": 21,
   "metadata": {},
   "outputs": [],
   "source": [
    "import numpy as np"
   ]
  },
  {
   "cell_type": "code",
   "execution_count": 27,
   "metadata": {},
   "outputs": [
    {
     "data": {
      "text/plain": [
       "array([[ 73.,  80.,  75., 152.],\n",
       "       [ 93.,  88.,  93., 185.],\n",
       "       [ 89.,  91.,  90., 180.],\n",
       "       [ 96.,  98., 100., 196.],\n",
       "       [ 73.,  66.,  70., 142.],\n",
       "       [ 53.,  46.,  55., 101.]], dtype=float32)"
      ]
     },
     "execution_count": 27,
     "metadata": {},
     "output_type": "execute_result"
    }
   ],
   "source": [
    "xy = np.loadtxt('data/data-10-test-score.csv', delimiter = ',', dtype = np.float32)\n",
    "xy"
   ]
  },
  {
   "cell_type": "code",
   "execution_count": 30,
   "metadata": {},
   "outputs": [
    {
     "name": "stdout",
     "output_type": "stream",
     "text": [
      "[[ 73.  80.  75.]\n",
      " [ 93.  88.  93.]\n",
      " [ 89.  91.  90.]\n",
      " [ 96.  98. 100.]\n",
      " [ 73.  66.  70.]\n",
      " [ 53.  46.  55.]]\n",
      "----------------------------------------\n",
      "[[152.]\n",
      " [185.]\n",
      " [180.]\n",
      " [196.]\n",
      " [142.]\n",
      " [101.]]\n"
     ]
    }
   ],
   "source": [
    "x_data = xy[ :, 0:-1 ]  ## xy전체에서, 인덱스 0 ~ -1(마지막)의 직전까지 가져와라 \n",
    "y_data = xy[ :, [-1] ]  ## xy전체에서, 마지막 컬럼을 가져와라 \n",
    "\n",
    "print(x_data)\n",
    "print('----------------------------------------')\n",
    "print(y_data)"
   ]
  },
  {
   "cell_type": "code",
   "execution_count": 36,
   "metadata": {},
   "outputs": [
    {
     "name": "stdout",
     "output_type": "stream",
     "text": [
      "(6, 3) (6, 1)\n",
      "----------------------------------------\n",
      "[[ 73.  80.  75.]\n",
      " [ 93.  88.  93.]\n",
      " [ 89.  91.  90.]\n",
      " [ 96.  98. 100.]\n",
      " [ 73.  66.  70.]\n",
      " [ 53.  46.  55.]]\n",
      "----------------------------------------\n",
      "[[152.]\n",
      " [185.]\n",
      " [180.]\n",
      " [196.]\n",
      " [142.]\n",
      " [101.]]\n"
     ]
    }
   ],
   "source": [
    "#import numpy as np\n",
    "#import tensorflow as tf\n",
    "tf.set_random_seed(777)\n",
    "\n",
    "xy = np.loadtxt('data/data-10-test-score.csv', delimiter = ',', dtype = np.float32)\n",
    "x_data = xy[ :, 0:-1 ]  ## xy전체에서, 인덱스 0 ~ -1(마지막)의 직전까지 가져와라 \n",
    "y_data = xy[ :, [-1] ]  ## xy전체에서, 마지막 컬럼을 가져와라 \n",
    "\n",
    "print(x_data.shape, y_data.shape)\n",
    "print('----------------------------------------')\n",
    "print(x_data)\n",
    "print('----------------------------------------')\n",
    "print(y_data)"
   ]
  },
  {
   "cell_type": "code",
   "execution_count": 37,
   "metadata": {},
   "outputs": [
    {
     "name": "stdout",
     "output_type": "stream",
     "text": [
      "1995 1.1806544 [[152.48491]\n",
      " [183.68408]\n",
      " [180.931  ]\n",
      " [196.48694]\n",
      " [140.41037]\n",
      " [102.21916]]\n",
      "1996 1.180503 [[152.48473]\n",
      " [183.68419]\n",
      " [180.93094]\n",
      " [196.48682]\n",
      " [140.41054]\n",
      " [102.21929]]\n",
      "1997 1.1803776 [[152.48453]\n",
      " [183.68425]\n",
      " [180.93086]\n",
      " [196.48672]\n",
      " [140.41069]\n",
      " [102.21942]]\n",
      "1998 1.1802391 [[152.48436]\n",
      " [183.68436]\n",
      " [180.9308 ]\n",
      " [196.48665]\n",
      " [140.41086]\n",
      " [102.21956]]\n",
      "1999 1.1800917 [[152.48418 ]\n",
      " [183.68448 ]\n",
      " [180.93074 ]\n",
      " [196.48657 ]\n",
      " [140.41103 ]\n",
      " [102.219696]]\n",
      "2000 1.1799489 [[152.48401 ]\n",
      " [183.68457 ]\n",
      " [180.93068 ]\n",
      " [196.4865  ]\n",
      " [140.41121 ]\n",
      " [102.219826]]\n"
     ]
    }
   ],
   "source": [
    "X = tf.placeholder(tf.float32, shape = [None, 3])   ### None는 N개의 row를 의미함 \n",
    "Y = tf.placeholder(tf.float32, shape = [None, 1])   ### row는 그냥 None로 두고, 컬럼수(3, 1)만 지정해 주면 된다. \n",
    "\n",
    "W = tf.Variable(tf.random_normal([3, 1]), name = 'wieght')\n",
    "b = tf.Variable(tf.random_normal([1]), name = 'bias')\n",
    "\n",
    "hypothesis = tf.matmul(X, W) + b\n",
    "\n",
    "#### cost function & graphing \n",
    "cost = tf.reduce_mean( tf.square(hypothesis - Y) )\n",
    "optimizer = tf.train.GradientDescentOptimizer(learning_rate= 1e-5)  ### 1e의 -5승(= 0.00001)\n",
    "train = optimizer.minimize(cost)\n",
    "sess = tf.Session()\n",
    "sess.run(tf.global_variables_initializer())\n",
    "\n",
    "for step in range(2001) : \n",
    "    cost_val, hy_val, _ = sess.run([cost, hypothesis, train], \n",
    "                                    feed_dict = {X: x_data, Y: y_data})\n",
    "    if step >= 1995 :        \n",
    "        print(step, cost_val, hy_val) "
   ]
  },
  {
   "cell_type": "code",
   "execution_count": 40,
   "metadata": {},
   "outputs": [
    {
     "name": "stdout",
     "output_type": "stream",
     "text": [
      "Kim's Finall Score will be [[180.87515]]\n",
      "Lee & Park's Final Score will be [[150.37334]\n",
      " [183.4686 ]]\n"
     ]
    }
   ],
   "source": [
    "### cf. ask one's score\n",
    "#### Kim = [100, 70, 101]\n",
    "#### Lee and Park = [[60, 70, 110], [90, 100, 80]]\n",
    "\n",
    "print(\"Kim's Finall Score will be\", sess.run(hypothesis, \n",
    "                                     feed_dict = {X: [[100, 70, 101]] })\n",
    "     )\n",
    "\n",
    "print(\"Lee & Park's Final Score will be\", sess.run(hypothesis, \n",
    "                                          feed_dict = {X: [[60, 70, 110], [90, 100, 80]] })\n",
    "     )"
   ]
  },
  {
   "cell_type": "code",
   "execution_count": null,
   "metadata": {},
   "outputs": [],
   "source": []
  }
 ],
 "metadata": {
  "kernelspec": {
   "display_name": "Python 3",
   "language": "python",
   "name": "python3"
  },
  "language_info": {
   "codemirror_mode": {
    "name": "ipython",
    "version": 3
   },
   "file_extension": ".py",
   "mimetype": "text/x-python",
   "name": "python",
   "nbconvert_exporter": "python",
   "pygments_lexer": "ipython3",
   "version": "3.7.3"
  }
 },
 "nbformat": 4,
 "nbformat_minor": 4
}
