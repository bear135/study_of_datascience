{
 "cells": [
  {
   "cell_type": "markdown",
   "id": "9d080824-05ef-4529-ba5a-c12ccd34549b",
   "metadata": {},
   "source": [
    "### Chapter 04 다양한 분류 알고리즘 ▶️럭키백의 확률을 계산하라!\n",
    "\n",
    "#### 04-1 로지스틱 회귀 ▶️로지스틱 회귀 알고리즘을 배우고 이진 분류 문제에서 클래스 확률 예측하기 "
   ]
  },
  {
   "cell_type": "code",
   "execution_count": 1,
   "id": "94466315-cb92-4e29-8d53-43d89a326df2",
   "metadata": {},
   "outputs": [],
   "source": [
    "import numpy as np \n",
    "import pandas as pd \n",
    "import matplotlib.pyplot as plt "
   ]
  },
  {
   "cell_type": "code",
   "execution_count": 2,
   "id": "068dce60-1144-44a7-8bbd-6eb50847300e",
   "metadata": {},
   "outputs": [
    {
     "name": "stdout",
     "output_type": "stream",
     "text": [
      "(159, 6)\n",
      "  Species  Weight  Length  Diagonal   Height   Width\n",
      "0   Bream   242.0    25.4      30.0  11.5200  4.0200\n",
      "1   Bream   290.0    26.3      31.2  12.4800  4.3056\n",
      "2   Bream   340.0    26.5      31.1  12.3778  4.6961\n",
      "3   Bream   363.0    29.0      33.5  12.7300  4.4555\n",
      "4   Bream   430.0    29.0      34.0  12.4440  5.1340\n"
     ]
    }
   ],
   "source": [
    "## dataset = 7종 생선의 종류와 무게, 길이, 대각선 길이, 높이, 두께 \n",
    "fish = pd.read_csv(\"http://bit.ly/fish_csv_data\")\n",
    "print( fish.shape ) \n",
    "print( fish.head())"
   ]
  },
  {
   "cell_type": "code",
   "execution_count": 3,
   "id": "fa4fb29b-8306-4f8b-b4b6-89fcd99c3616",
   "metadata": {},
   "outputs": [
    {
     "data": {
      "text/plain": [
       "array(['Bream', 'Roach', 'Whitefish', 'Parkki', 'Perch', 'Pike', 'Smelt'],\n",
       "      dtype=object)"
      ]
     },
     "execution_count": 3,
     "metadata": {},
     "output_type": "execute_result"
    }
   ],
   "source": [
    "pd.unique(fish['Species'])"
   ]
  },
  {
   "cell_type": "code",
   "execution_count": 4,
   "id": "93a27579-bcd2-451b-829f-24bd566dd0cc",
   "metadata": {},
   "outputs": [
    {
     "name": "stdout",
     "output_type": "stream",
     "text": [
      "[[242.      25.4     30.      11.52     4.02  ]\n",
      " [290.      26.3     31.2     12.48     4.3056]\n",
      " [340.      26.5     31.1     12.3778   4.6961]\n",
      " [363.      29.      33.5     12.73     4.4555]\n",
      " [430.      29.      34.      12.444    5.134 ]]\n",
      "[['Bream']\n",
      " ['Bream']\n",
      " ['Bream']\n",
      " ['Bream']\n",
      " ['Bream']]\n"
     ]
    }
   ],
   "source": [
    "## input, target 행렬 생성 \n",
    "fish_input = fish[['Weight',  'Length',  'Diagonal',   'Height',   'Width']].to_numpy()\n",
    "fish_target = fish[['Species']].to_numpy()\n",
    "\n",
    "print(fish_input[:5])\n",
    "print(fish_target[:5])"
   ]
  },
  {
   "cell_type": "code",
   "execution_count": 5,
   "id": "ba016dd0-5f92-4a75-aee5-1c16a4520d13",
   "metadata": {},
   "outputs": [
    {
     "name": "stdout",
     "output_type": "stream",
     "text": [
      "(119, 5)\n",
      "(40, 5)\n",
      "(119, 1)\n",
      "(40, 1)\n"
     ]
    }
   ],
   "source": [
    "## train, test 데이터 분리 \n",
    "from sklearn.model_selection import train_test_split\n",
    "train_input, test_input, train_target, test_target = train_test_split(fish_input, fish_target, random_state = 42)\n",
    "\n",
    "print(train_input.shape)\n",
    "print(test_input.shape)\n",
    "print(train_target.shape)\n",
    "print(test_target.shape)"
   ]
  },
  {
   "cell_type": "code",
   "execution_count": 6,
   "id": "b8de58d1-53de-4ada-abe5-e5ef047aae7b",
   "metadata": {},
   "outputs": [
    {
     "name": "stdout",
     "output_type": "stream",
     "text": [
      "[[ 0.91965782  0.60943175  0.81041221  1.85194896  1.00075672]\n",
      " [ 0.30041219  1.54653445  1.45316551 -0.46981663  0.27291745]\n",
      " [-1.0858536  -1.68646987 -1.70848587 -1.70159849 -2.0044758 ]\n",
      " [-0.79734143 -0.60880176 -0.67486907 -0.82480589 -0.27631471]\n",
      " [-0.71289885 -0.73062511 -0.70092664 -0.0802298  -0.7033869 ]]\n",
      "[[-0.88741352 -0.91804565 -1.03098914 -0.90464451 -0.80762518]\n",
      " [-1.06924656 -1.50842035 -1.54345461 -1.58849582 -1.93803151]\n",
      " [-0.54401367  0.35641402  0.30663259 -0.8135697  -0.65388895]\n",
      " [-0.34698097 -0.23396068 -0.22320459 -0.11905019 -0.12233464]\n",
      " [-0.68475132 -0.51509149 -0.58801052 -0.8998784  -0.50124996]]\n"
     ]
    }
   ],
   "source": [
    "## train, test 데이터 표준화 \n",
    "from sklearn.preprocessing import StandardScaler\n",
    "ss = StandardScaler()\n",
    "ss.fit(train_input)\n",
    "\n",
    "train_scaled = ss.transform(train_input)\n",
    "test_scaled = ss.transform(test_input)\n",
    "\n",
    "print(train_scaled[:5])\n",
    "print(test_scaled[:5])"
   ]
  },
  {
   "cell_type": "code",
   "execution_count": 7,
   "id": "eabd6faa-7074-439f-8386-51889037d68c",
   "metadata": {},
   "outputs": [
    {
     "name": "stdout",
     "output_type": "stream",
     "text": [
      "0.8907563025210085\n",
      "0.85\n"
     ]
    },
    {
     "name": "stderr",
     "output_type": "stream",
     "text": [
      "C:\\Users\\Seoyeon\\anaconda3\\lib\\site-packages\\sklearn\\neighbors\\_classification.py:179: DataConversionWarning: A column-vector y was passed when a 1d array was expected. Please change the shape of y to (n_samples,), for example using ravel().\n",
      "  return self._fit(X, y)\n"
     ]
    }
   ],
   "source": [
    "## KNN으로 모델 학습 \n",
    "from sklearn.neighbors import KNeighborsClassifier\n",
    "model = KNeighborsClassifier(n_neighbors = 3)\n",
    "model.fit(train_scaled, train_target)\n",
    "\n",
    "print( model.score(train_scaled, train_target) )\n",
    "print( model.score(test_scaled, test_target) )"
   ]
  },
  {
   "cell_type": "code",
   "execution_count": 8,
   "id": "9d943070-b9a7-4990-9887-77d066adc123",
   "metadata": {},
   "outputs": [
    {
     "name": "stdout",
     "output_type": "stream",
     "text": [
      "['Perch' 'Smelt' 'Pike' 'Perch' 'Perch']\n",
      "[[0.         0.         1.         0.         0.         0.\n",
      "  0.        ]\n",
      " [0.         0.         0.         0.         0.         1.\n",
      "  0.        ]\n",
      " [0.         0.         0.         1.         0.         0.\n",
      "  0.        ]\n",
      " [0.         0.         0.66666667 0.         0.33333333 0.\n",
      "  0.        ]\n",
      " [0.         0.         0.66666667 0.         0.33333333 0.\n",
      "  0.        ]]\n"
     ]
    }
   ],
   "source": [
    "## 학습된 KNN 모형을 통해, test 데이터셋의 생선종류를 예측해보기 \n",
    "print(model.predict(test_scaled[:5]))\n",
    "proba = model.predict_proba(test_scaled[:5])\n",
    "print(proba)"
   ]
  },
  {
   "cell_type": "markdown",
   "id": "ee58e90b-6be8-4e49-b62c-e1f01b4d879a",
   "metadata": {},
   "source": [
    "- 첫행은 Perch일 확률이 100%, 2번째 행은 Smelt일 확률이 100%, 5번째 행은 Perch일 확률이 66.7% 이다. \n",
    "- 생선의 종류(class)를 확인하려면, model.classes_를 사용하면 된다. \n",
    "  > model.classes_  \n",
    "  > array(['Bream', 'Parkki', 'Perch', 'Pike', 'Roach', 'Smelt', 'Whitefish'],dtype=object)"
   ]
  },
  {
   "cell_type": "markdown",
   "id": "23332549-6946-4c80-87fe-9efd23a0a054",
   "metadata": {},
   "source": [
    "-----------------------------------------------------------------------------\n",
    "## Sigmoid function? \n",
    " - 선형회귀모형의 결과값 z를 0~1사이의 값, 즉 확률로 표현하기 위한 방법 \n",
    " - z가 아주 큰 음수일때 0을, 아주 큰 양수일때 1이 되도록 한다. \n",
    " - phi = 1 / (1+e^-z) "
   ]
  },
  {
   "cell_type": "code",
   "execution_count": 9,
   "id": "50f001b9-2088-4bb8-9318-17cf50f09d46",
   "metadata": {},
   "outputs": [
    {
     "data": {
      "image/png": "[encoded data removed]",
      "text/plain": [
       "<Figure size 432x288 with 1 Axes>"
      ]
     },
     "metadata": {
      "needs_background": "light"
     },
     "output_type": "display_data"
    }
   ],
   "source": [
    "## z값이 -5 ~ 5일때 sigmoid function 값을 계산하여 차트로 표현하라 (z값의 간격은 0.1) \n",
    "z = np.arange(-5, 5, 0.1)\n",
    "phi = 1 / (1 + np.exp(-z))\n",
    "\n",
    "plt.plot(z, phi)\n",
    "plt.xlabel('z')\n",
    "plt.ylabel('phi')\n",
    "plt.show()"
   ]
  },
  {
   "cell_type": "markdown",
   "id": "83f88895-0b75-4ced-a450-87e66923ea4c",
   "metadata": {},
   "source": [
    "----------------------------------------------------------------\n",
    "## Binary Classification with Logistic Regression"
   ]
  },
  {
   "cell_type": "code",
   "execution_count": 10,
   "id": "6eff627b-331f-458a-8011-e7911dbdc840",
   "metadata": {},
   "outputs": [
    {
     "data": {
      "text/plain": [
       "array([[ True],\n",
       "       [False],\n",
       "       [ True],\n",
       "       [False],\n",
       "       [False]])"
      ]
     },
     "execution_count": 10,
     "metadata": {},
     "output_type": "execute_result"
    }
   ],
   "source": [
    "## target = Bream or Smelt인 경우를 분류하기 \n",
    "## 먼저 or 연산자 \"|\"를 사용해 train/target dataset을 생성한다. \n",
    "## --> train_target이 \"Bream\", \"Smelt\"인 경우 True값을 갖게 된다.  \n",
    "\n",
    "bream_smelt_indexes = (train_target == 'Bream') | (train_target == 'Smelt')\n",
    "bream_smelt_indexes[:5]"
   ]
  },
  {
   "cell_type": "code",
   "execution_count": 29,
   "id": "9da7ff38-af81-459c-98e8-47d4276821a3",
   "metadata": {},
   "outputs": [
    {
     "ename": "IndexError",
     "evalue": "boolean index did not match indexed array along dimension 1; dimension is 5 but corresponding boolean dimension is 1",
     "output_type": "error",
     "traceback": [
      "\u001b[1;31m---------------------------------------------------------------------------\u001b[0m",
      "\u001b[1;31mIndexError\u001b[0m                                Traceback (most recent call last)",
      "\u001b[1;32m<ipython-input-29-ec8c3f81078c>\u001b[0m in \u001b[0;36m<module>\u001b[1;34m\u001b[0m\n\u001b[1;32m----> 1\u001b[1;33m \u001b[0mtrain_bream_smelt\u001b[0m \u001b[1;33m=\u001b[0m \u001b[0mtrain_scaled\u001b[0m\u001b[1;33m[\u001b[0m\u001b[0mbream_smelt_indexes\u001b[0m\u001b[1;33m]\u001b[0m\u001b[1;33m\u001b[0m\u001b[1;33m\u001b[0m\u001b[0m\n\u001b[0m\u001b[0;32m      2\u001b[0m \u001b[0mtarget_bream_smelt\u001b[0m \u001b[1;33m=\u001b[0m \u001b[0mtrain_target\u001b[0m\u001b[1;33m[\u001b[0m\u001b[0mbream_smelt_indexes\u001b[0m\u001b[1;33m]\u001b[0m\u001b[1;33m\u001b[0m\u001b[1;33m\u001b[0m\u001b[0m\n\u001b[0;32m      3\u001b[0m \u001b[1;31m#### Error 발생하는데 원인을 모르겠음....\u001b[0m\u001b[1;33m\u001b[0m\u001b[1;33m\u001b[0m\u001b[1;33m\u001b[0m\u001b[0m\n",
      "\u001b[1;31mIndexError\u001b[0m: boolean index did not match indexed array along dimension 1; dimension is 5 but corresponding boolean dimension is 1"
     ]
    }
   ],
   "source": [
    "train_bream_smelt = train_scaled[bream_smelt_indexes]\n",
    "target_bream_smelt = train_target[bream_smelt_indexes]\n",
    "#### Error 발생하는데 원인을 모르겠음.... "
   ]
  },
  {
   "cell_type": "code",
   "execution_count": null,
   "id": "426f21e7-a0db-48a5-83ec-5176382c4d64",
   "metadata": {},
   "outputs": [],
   "source": [
    "from sklearn.linear_model import LogisticRegression\n",
    "model_2 = LogisticRegression()\n",
    "model_2.fit(train_bream_smelt, target_bream_smelt)\n",
    "model_2.score(train_bream_smelt, target_bream_smelt)"
   ]
  },
  {
   "cell_type": "code",
   "execution_count": null,
   "id": "4f94ab5c-0e77-49d1-a6aa-3e7834593e1d",
   "metadata": {},
   "outputs": [],
   "source": [
    "print( model_2.predict(train_bream_smelt[:5]) )\n",
    "print( model_2.predict_proba(train_bream_smelt[:5]) )"
   ]
  },
  {
   "cell_type": "markdown",
   "id": "3fcc16c8-2697-446f-b56a-b823297916f7",
   "metadata": {},
   "source": [
    "---------------------------------------------------------------------\n",
    "## Softmax function\n",
    "- sigmoid function은 하나의 선형방정식의 출력값을 0~1 사이 값(확률)로써 만들어 준다. \n",
    "- 반면 softmax function은 다수의 선형방정식의 출력값을 각각 0~1 사이로 만든 후, 이를 다시 전체 합이 1이 되도록 만든다. \n",
    "- 전체 합이 1이 되도록 하기 위해 지수함수를 사용하기 때문에, 정규화된 지수함수라고도 한다. "
   ]
  },
  {
   "cell_type": "code",
   "execution_count": 18,
   "id": "374e93f6-aeb4-45db-935f-d1ba652b9d10",
   "metadata": {},
   "outputs": [
    {
     "name": "stdout",
     "output_type": "stream",
     "text": [
      "0.8067226890756303\n",
      "0.85\n"
     ]
    },
    {
     "name": "stderr",
     "output_type": "stream",
     "text": [
      "C:\\Users\\Seoyeon\\anaconda3\\lib\\site-packages\\sklearn\\utils\\validation.py:63: DataConversionWarning: A column-vector y was passed when a 1d array was expected. Please change the shape of y to (n_samples, ), for example using ravel().\n",
      "  return f(*args, **kwargs)\n"
     ]
    }
   ],
   "source": [
    "## Logistic Regression을 사용해 7개의 생선중 어떤 것인지 분류하기 \n",
    "\n",
    "from sklearn.linear_model import LogisticRegression\n",
    "model_lr = LogisticRegression()\n",
    "model_lr.fit(train_scaled, train_target)\n",
    "\n",
    "print( model_lr.score(train_scaled, train_target) )\n",
    "print( model_lr.score(test_scaled, test_target) )"
   ]
  },
  {
   "cell_type": "code",
   "execution_count": 20,
   "id": "1bc808dd-f7d2-4de7-b677-1a07f91ac650",
   "metadata": {},
   "outputs": [
    {
     "name": "stdout",
     "output_type": "stream",
     "text": [
      "0.9327731092436975\n",
      "0.925\n"
     ]
    },
    {
     "name": "stderr",
     "output_type": "stream",
     "text": [
      "C:\\Users\\Seoyeon\\anaconda3\\lib\\site-packages\\sklearn\\utils\\validation.py:63: DataConversionWarning: A column-vector y was passed when a 1d array was expected. Please change the shape of y to (n_samples, ), for example using ravel().\n",
      "  return f(*args, **kwargs)\n"
     ]
    }
   ],
   "source": [
    "## Logistic Regression의 C값은 릿지회귀의 alpha값과 같이 계수값을 제어한다. (over&under fitting을 방지한다.)\n",
    "## default = 1이며 작을수록 규제가 커진다. \n",
    "model_lr = LogisticRegression(C=20, max_iter=1000)\n",
    "model_lr.fit(train_scaled, train_target)\n",
    "\n",
    "print( model_lr.score(train_scaled, train_target) )\n",
    "print( model_lr.score(test_scaled, test_target) )"
   ]
  },
  {
   "cell_type": "code",
   "execution_count": 26,
   "id": "774bfc69-e849-424e-8790-ef71557ea6f5",
   "metadata": {},
   "outputs": [
    {
     "name": "stdout",
     "output_type": "stream",
     "text": [
      "['Perch' 'Smelt' 'Pike' 'Roach' 'Perch']\n",
      "[[0.    0.014 0.841 0.    0.136 0.007 0.003]\n",
      " [0.    0.003 0.044 0.    0.007 0.946 0.   ]\n",
      " [0.    0.    0.034 0.935 0.015 0.016 0.   ]\n",
      " [0.011 0.034 0.306 0.007 0.567 0.    0.076]\n",
      " [0.    0.    0.904 0.002 0.089 0.002 0.001]]\n"
     ]
    }
   ],
   "source": [
    "print( model_lr.predict(test_scaled[:5]) )\n",
    "print( np.round(model_lr.predict_proba(test_scaled[:5]), 3) )"
   ]
  },
  {
   "cell_type": "code",
   "execution_count": null,
   "id": "9e545edf-0bbd-47fc-a257-06ea016bd056",
   "metadata": {},
   "outputs": [],
   "source": []
  }
 ],
 "metadata": {
  "kernelspec": {
   "display_name": "Python 3",
   "language": "python",
   "name": "python3"
  },
  "language_info": {
   "codemirror_mode": {
    "name": "ipython",
    "version": 3
   },
   "file_extension": ".py",
   "mimetype": "text/x-python",
   "name": "python",
   "nbconvert_exporter": "python",
   "pygments_lexer": "ipython3",
   "version": "3.8.8"
  }
 },
 "nbformat": 4,
 "nbformat_minor": 5
}
