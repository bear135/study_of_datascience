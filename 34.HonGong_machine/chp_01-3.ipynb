{
 "cells": [
  {
   "cell_type": "markdown",
   "id": "04f96b81-d4fa-4e19-8f66-b067ba15a8e5",
   "metadata": {},
   "source": [
    "## Chp01-3. knn으로 도미와 빙어 구분하기 "
   ]
  },
  {
   "cell_type": "code",
   "execution_count": 1,
   "id": "156983cc-1798-4fc9-a86d-8624582d9f57",
   "metadata": {},
   "outputs": [],
   "source": [
    "## 35마리의 도미(bream)와 14마리의 빙어(smelt) 데이터 \n",
    "\n",
    "bream_length = [25.4, 26.3, 26.5, 29.0, 29.0, 29.7, 29.7, 30.0, 30.0, 30.7, 31.0, 31.0, 31.5, 32.0, 32.0, 32.0, 33.0, 33.0, 33.5, 33.5, 34.0, 34.0, 34.5, 35.0, 35.0, 35.0, 35.0, 36.0, 36.0, 37.0, 38.5, 38.5, 39.5, 41.0, 41.0]\n",
    "bream_weight = [242.0, 290.0, 340.0, 363.0, 430.0, 450.0, 500.0, 390.0, 450.0, 500.0, 475.0, 500.0, 500.0, 340.0, 600.0, 600.0, 700.0, 700.0, 610.0, 650.0, 575.0, 685.0, 620.0, 680.0, 700.0, 725.0, 720.0, 714.0, 850.0, 1000.0, 920.0, 955.0, 925.0, 975.0, 950.0]\n",
    "smelt_length = [9.8, 10.5, 10.6, 11.0, 11.2, 11.3, 11.8, 11.8, 12.0, 12.2, 12.4, 13.0, 14.3, 15.0]\n",
    "smelt_weight = [6.7, 7.5, 7.0, 9.7, 9.8, 8.7, 10.0, 9.9, 9.8, 12.2, 13.4, 12.2, 19.7, 19.9]"
   ]
  },
  {
   "cell_type": "code",
   "execution_count": 2,
   "id": "645c72dd-ce0e-4a2c-96b2-7a7daf276fc7",
   "metadata": {},
   "outputs": [
    {
     "data": {
      "image/png": "[encoded data removed]",
      "text/plain": [
       "<Figure size 432x288 with 1 Axes>"
      ]
     },
     "metadata": {
      "needs_background": "light"
     },
     "output_type": "display_data"
    }
   ],
   "source": [
    "import matplotlib.pyplot as plt\n",
    "\n",
    "plt.scatter(bream_length, bream_weight)\n",
    "plt.scatter(smelt_length, smelt_weight)\n",
    "plt.title('Scatter Plots of Bream & Smelt')\n",
    "plt.xlabel('Length')\n",
    "plt.ylabel('Weight')\n",
    "plt.show()"
   ]
  },
  {
   "cell_type": "code",
   "execution_count": 3,
   "id": "03daa9a7-d5eb-4cf3-9063-fe1d0ab395a4",
   "metadata": {},
   "outputs": [
    {
     "data": {
      "text/plain": [
       "[[25.4, 242.0],\n",
       " [26.3, 290.0],\n",
       " [26.5, 340.0],\n",
       " [29.0, 363.0],\n",
       " [29.0, 430.0],\n",
       " [29.7, 450.0],\n",
       " [29.7, 500.0],\n",
       " [30.0, 390.0],\n",
       " [30.0, 450.0],\n",
       " [30.7, 500.0]]"
      ]
     },
     "execution_count": 3,
     "metadata": {},
     "output_type": "execute_result"
    }
   ],
   "source": [
    "## 도미, 방어 데이터를 2컬럼(lenght, weight)을 가진 행렬로 변환 \n",
    "length = bream_length + smelt_length\n",
    "weight = bream_weight + smelt_weight\n",
    "\n",
    "fish_data = [\n",
    "    [l, w] for l, w in zip(length, weight)    \n",
    "]\n",
    "\n",
    "fish_data[:10]"
   ]
  },
  {
   "cell_type": "code",
   "execution_count": 4,
   "id": "1c6a86bf-a2c3-4893-b8fa-83f7ea12d6fd",
   "metadata": {},
   "outputs": [
    {
     "data": {
      "text/plain": [
       "[1, 1, 1, 1, 1, 1, 1, 1, 1, 1]"
      ]
     },
     "execution_count": 4,
     "metadata": {},
     "output_type": "execute_result"
    }
   ],
   "source": [
    "## give the target data \n",
    "## 도미 : 35개 = 1, 빙어 : 14개 = 0 \n",
    "\n",
    "fish_target = [1]*35 + [0]*14\n",
    "fish_target[:10]"
   ]
  },
  {
   "cell_type": "code",
   "execution_count": 5,
   "id": "2a4cd29c-1f52-48d6-8296-59aae8d521f2",
   "metadata": {},
   "outputs": [],
   "source": [
    "## 사이킷런에서 KNN 불러오기 \n",
    "from sklearn.neighbors import KNeighborsClassifier\n",
    "model = KNeighborsClassifier()"
   ]
  },
  {
   "cell_type": "code",
   "execution_count": 6,
   "id": "8528d43b-690e-4765-83fe-c1c5749407c3",
   "metadata": {},
   "outputs": [],
   "source": [
    "## model train : model.fit()\n",
    "## model validation : model.score()\n",
    "## predict the value with model : model.predict()"
   ]
  },
  {
   "cell_type": "code",
   "execution_count": 7,
   "id": "bc1f60c6-7696-4102-97ae-c5d7f6be8279",
   "metadata": {},
   "outputs": [
    {
     "data": {
      "text/plain": [
       "KNeighborsClassifier()"
      ]
     },
     "execution_count": 7,
     "metadata": {},
     "output_type": "execute_result"
    }
   ],
   "source": [
    "model.fit(fish_data, fish_target)"
   ]
  },
  {
   "cell_type": "code",
   "execution_count": 8,
   "id": "9b72fcc3-af9d-47fc-a98f-6180cea32f2c",
   "metadata": {},
   "outputs": [
    {
     "data": {
      "text/plain": [
       "1.0"
      ]
     },
     "execution_count": 8,
     "metadata": {},
     "output_type": "execute_result"
    }
   ],
   "source": [
    "model.score(fish_data, fish_target)"
   ]
  },
  {
   "cell_type": "code",
   "execution_count": 9,
   "id": "dbee2234-b21c-43f3-b26b-16a64746225d",
   "metadata": {},
   "outputs": [
    {
     "data": {
      "text/plain": [
       "array([1])"
      ]
     },
     "execution_count": 9,
     "metadata": {},
     "output_type": "execute_result"
    }
   ],
   "source": [
    "new_fish = [30, 600]\n",
    "model.predict([new_fish])"
   ]
  },
  {
   "cell_type": "code",
   "execution_count": 10,
   "id": "fd65c63e-ee6a-47b9-8fef-b4718f2fae3d",
   "metadata": {},
   "outputs": [],
   "source": [
    "## _fit_X : knn이 훈련한 x값을 모두 저장한 변수 \n",
    "## _y : knn이 훈련한 y값(target)을 모두 저장한 변수 "
   ]
  },
  {
   "cell_type": "code",
   "execution_count": 11,
   "id": "392f50ce-d7a1-44a4-a5ba-5cd12ffd531e",
   "metadata": {},
   "outputs": [
    {
     "data": {
      "text/plain": [
       "array([[ 25.4, 242. ],\n",
       "       [ 26.3, 290. ],\n",
       "       [ 26.5, 340. ],\n",
       "       [ 29. , 363. ],\n",
       "       [ 29. , 430. ],\n",
       "       [ 29.7, 450. ],\n",
       "       [ 29.7, 500. ],\n",
       "       [ 30. , 390. ],\n",
       "       [ 30. , 450. ],\n",
       "       [ 30.7, 500. ]])"
      ]
     },
     "execution_count": 11,
     "metadata": {},
     "output_type": "execute_result"
    }
   ],
   "source": [
    "model._fit_X[:10]"
   ]
  },
  {
   "cell_type": "code",
   "execution_count": 12,
   "id": "0659e798-d113-422a-9afa-d517372eeb1f",
   "metadata": {},
   "outputs": [
    {
     "data": {
      "text/plain": [
       "array([1, 1, 1, 1, 1, 1, 1, 1, 1, 1])"
      ]
     },
     "execution_count": 12,
     "metadata": {},
     "output_type": "execute_result"
    }
   ],
   "source": [
    "model._y[:10]"
   ]
  },
  {
   "cell_type": "code",
   "execution_count": 13,
   "id": "545c2da8-7c4b-4147-b602-7c1ed8665dd0",
   "metadata": {},
   "outputs": [],
   "source": [
    "## knn은 default로 근접한 5개의 값을 분류에 참고한다. \n",
    "## model = KNeighborsClassifier(n) ~ n값을 지정해 주면 근접한 k개의 값을 참고한다. \n",
    "\n",
    "## 총 49개의 값을 가진 데이터셋이므로, n = 5 ~ 49로 변경해 가면서 score 변화를 관찰해보자."
   ]
  },
  {
   "cell_type": "code",
   "execution_count": 21,
   "id": "3f56f267-be25-4bc3-955b-e92b12a6f21f",
   "metadata": {},
   "outputs": [
    {
     "name": "stdout",
     "output_type": "stream",
     "text": [
      "18 0.9795918367346939\n",
      "19 0.9795918367346939\n",
      "20 0.9795918367346939\n",
      "21 0.9795918367346939\n",
      "22 0.9795918367346939\n",
      "23 0.9795918367346939\n",
      "24 0.9795918367346939\n",
      "25 0.9795918367346939\n",
      "26 0.9795918367346939\n",
      "27 0.9795918367346939\n",
      "28 0.9591836734693877\n",
      "29 0.7142857142857143\n",
      "30 0.7142857142857143\n",
      "31 0.7142857142857143\n",
      "32 0.7142857142857143\n",
      "33 0.7142857142857143\n",
      "34 0.7142857142857143\n",
      "35 0.7142857142857143\n",
      "36 0.7142857142857143\n",
      "37 0.7142857142857143\n",
      "38 0.7142857142857143\n",
      "39 0.7142857142857143\n",
      "40 0.7142857142857143\n",
      "41 0.7142857142857143\n",
      "42 0.7142857142857143\n",
      "43 0.7142857142857143\n",
      "44 0.7142857142857143\n",
      "45 0.7142857142857143\n",
      "46 0.7142857142857143\n",
      "47 0.7142857142857143\n",
      "48 0.7142857142857143\n",
      "49 0.7142857142857143\n"
     ]
    }
   ],
   "source": [
    "model = KNeighborsClassifier()\n",
    "model.fit(fish_data, fish_target)\n",
    "\n",
    "for n in range(5,50): \n",
    "    model.n_neighbors = n\n",
    "    score = model.score(fish_data, fish_target)\n",
    "    \n",
    "    if score < 1: \n",
    "        print(n, score)     "
   ]
  },
  {
   "cell_type": "code",
   "execution_count": 17,
   "id": "086c2398-7771-44bf-9f3d-12f46367dc45",
   "metadata": {},
   "outputs": [],
   "source": [
    "## n = 18 이상이면, 100% 분류를 해내지 못했다. "
   ]
  },
  {
   "cell_type": "code",
   "execution_count": null,
   "id": "901bd64c-8d0f-4120-a7df-1818fb55a171",
   "metadata": {},
   "outputs": [],
   "source": []
  }
 ],
 "metadata": {
  "kernelspec": {
   "display_name": "Python 3",
   "language": "python",
   "name": "python3"
  },
  "language_info": {
   "codemirror_mode": {
    "name": "ipython",
    "version": 3
   },
   "file_extension": ".py",
   "mimetype": "text/x-python",
   "name": "python",
   "nbconvert_exporter": "python",
   "pygments_lexer": "ipython3",
   "version": "3.8.8"
  }
 },
 "nbformat": 4,
 "nbformat_minor": 5
}
