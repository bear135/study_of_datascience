{
 "cells": [
  {
   "cell_type": "markdown",
   "id": "d7ad9725-a992-4c36-8dec-0723ced977bb",
   "metadata": {},
   "source": [
    "### Chapter 04 다양한 분류 알고리즘 ▶️럭키백의 확률을 계산하라!\n",
    "\n",
    "#### 04-2 확률적 경사 하강법 ▶️경사 하강법 알고리즘을 이해하고 대량의 데이터에서 분류 모델을 훈련하기"
   ]
  },
  {
   "cell_type": "markdown",
   "id": "96287958-6ea4-4d41-a90a-4537bcf5dcc8",
   "metadata": {},
   "source": [
    "#### [ loss function 의 정의 ] \n",
    "- target = 1일때 손실은 -log(예측확률), 즉 확률이 1에서 멀어질수록 손실은 아주 큰 양수가 된다. \n",
    "- target - 0일때 손실은 -log(1-예측확률), 즉 확률이 0에서 멀어질수록 손실은 아주 큰 양수가 된다. "
   ]
  },
  {
   "cell_type": "code",
   "execution_count": 1,
   "id": "c02651dc-7d04-47c8-8ee6-269190ee20e5",
   "metadata": {},
   "outputs": [],
   "source": [
    "import numpy as np\n",
    "import pandas as pd\n",
    "import matplotlib.pyplot as plt "
   ]
  },
  {
   "cell_type": "code",
   "execution_count": 2,
   "id": "b10dd63c-d2f3-4395-a5a9-98eb3a017e18",
   "metadata": {},
   "outputs": [
    {
     "data": {
      "text/html": [
       "<div>\n",
       "<style scoped>\n",
       "    .dataframe tbody tr th:only-of-type {\n",
       "        vertical-align: middle;\n",
       "    }\n",
       "\n",
       "    .dataframe tbody tr th {\n",
       "        vertical-align: top;\n",
       "    }\n",
       "\n",
       "    .dataframe thead th {\n",
       "        text-align: right;\n",
       "    }\n",
       "</style>\n",
       "<table border=\"1\" class=\"dataframe\">\n",
       "  <thead>\n",
       "    <tr style=\"text-align: right;\">\n",
       "      <th></th>\n",
       "      <th>Species</th>\n",
       "      <th>Weight</th>\n",
       "      <th>Length</th>\n",
       "      <th>Diagonal</th>\n",
       "      <th>Height</th>\n",
       "      <th>Width</th>\n",
       "    </tr>\n",
       "  </thead>\n",
       "  <tbody>\n",
       "    <tr>\n",
       "      <th>0</th>\n",
       "      <td>Bream</td>\n",
       "      <td>242.0</td>\n",
       "      <td>25.4</td>\n",
       "      <td>30.0</td>\n",
       "      <td>11.5200</td>\n",
       "      <td>4.0200</td>\n",
       "    </tr>\n",
       "    <tr>\n",
       "      <th>1</th>\n",
       "      <td>Bream</td>\n",
       "      <td>290.0</td>\n",
       "      <td>26.3</td>\n",
       "      <td>31.2</td>\n",
       "      <td>12.4800</td>\n",
       "      <td>4.3056</td>\n",
       "    </tr>\n",
       "    <tr>\n",
       "      <th>2</th>\n",
       "      <td>Bream</td>\n",
       "      <td>340.0</td>\n",
       "      <td>26.5</td>\n",
       "      <td>31.1</td>\n",
       "      <td>12.3778</td>\n",
       "      <td>4.6961</td>\n",
       "    </tr>\n",
       "    <tr>\n",
       "      <th>3</th>\n",
       "      <td>Bream</td>\n",
       "      <td>363.0</td>\n",
       "      <td>29.0</td>\n",
       "      <td>33.5</td>\n",
       "      <td>12.7300</td>\n",
       "      <td>4.4555</td>\n",
       "    </tr>\n",
       "    <tr>\n",
       "      <th>4</th>\n",
       "      <td>Bream</td>\n",
       "      <td>430.0</td>\n",
       "      <td>29.0</td>\n",
       "      <td>34.0</td>\n",
       "      <td>12.4440</td>\n",
       "      <td>5.1340</td>\n",
       "    </tr>\n",
       "  </tbody>\n",
       "</table>\n",
       "</div>"
      ],
      "text/plain": [
       "  Species  Weight  Length  Diagonal   Height   Width\n",
       "0   Bream   242.0    25.4      30.0  11.5200  4.0200\n",
       "1   Bream   290.0    26.3      31.2  12.4800  4.3056\n",
       "2   Bream   340.0    26.5      31.1  12.3778  4.6961\n",
       "3   Bream   363.0    29.0      33.5  12.7300  4.4555\n",
       "4   Bream   430.0    29.0      34.0  12.4440  5.1340"
      ]
     },
     "execution_count": 2,
     "metadata": {},
     "output_type": "execute_result"
    }
   ],
   "source": [
    "## data를 불러와 input, target을 분리\n",
    "fish = pd.read_csv(\"http://bit.ly/fish_csv_data\")\n",
    "fish.head()"
   ]
  },
  {
   "cell_type": "code",
   "execution_count": 3,
   "id": "94d1aa46-1bd1-421c-9434-2409d73a93c5",
   "metadata": {},
   "outputs": [],
   "source": [
    "fish_input = fish[['Weight', 'Length', 'Diagonal', 'Height', 'Width']].to_numpy()\n",
    "fish_target = fish['Species'].to_numpy()\n",
    "\n",
    "from sklearn.model_selection import train_test_split\n",
    "train_input, test_input, train_target, test_target = train_test_split(fish_input, fish_target, random_state = 42) "
   ]
  },
  {
   "cell_type": "code",
   "execution_count": 4,
   "id": "24d20211-7a10-4491-8591-8ea0e422dd0c",
   "metadata": {},
   "outputs": [
    {
     "name": "stdout",
     "output_type": "stream",
     "text": [
      "(119, 5)\n",
      "(40, 5)\n"
     ]
    }
   ],
   "source": [
    "## data 표준화 \n",
    "from sklearn.preprocessing import StandardScaler \n",
    "ss = StandardScaler()\n",
    "ss.fit(train_input)\n",
    "\n",
    "train_scaled = ss.transform(train_input)\n",
    "test_scaled = ss.transform(test_input)\n",
    "\n",
    "print(train_scaled.shape)\n",
    "print(test_scaled.shape)"
   ]
  },
  {
   "cell_type": "code",
   "execution_count": 5,
   "id": "4a9e8c5f-633e-4ba5-b6d6-d773c851691b",
   "metadata": {},
   "outputs": [
    {
     "name": "stdout",
     "output_type": "stream",
     "text": [
      "0.957983193277311\n",
      "0.925\n"
     ]
    }
   ],
   "source": [
    "## 확률적 경사 하강법(stochastic gradient descent) 사용하기 : 손실함수 = log, 반복 epochs = 100 \n",
    "## 참고. max_iter의 default값은 1000이다. \n",
    "## 참고. tol의 default값은 0.001이다. 즉 epoch동안 loss값이 0.001이상 줄어들지 않으면 훈련을 멈춘다. \n",
    "from sklearn.linear_model import SGDClassifier\n",
    "sc = SGDClassifier(loss = 'log', max_iter = 100, tol = None, random_state = 42)\n",
    "sc.fit(train_scaled, train_target)\n",
    "\n",
    "print( sc.score(train_scaled, train_target) )\n",
    "print( sc.score(test_scaled, test_target) )"
   ]
  },
  {
   "cell_type": "code",
   "execution_count": 6,
   "id": "e3a09297-5d5b-467d-85c7-fab0b8b56804",
   "metadata": {},
   "outputs": [
    {
     "name": "stdout",
     "output_type": "stream",
     "text": [
      "0.9495798319327731\n",
      "0.925\n"
     ]
    }
   ],
   "source": [
    "## 사실 손실함수의 default는 hinge이다. \n",
    "sc = SGDClassifier(loss = 'hinge', max_iter = 100, tol = None, random_state = 42)\n",
    "sc.fit(train_scaled, train_target)\n",
    "\n",
    "print( sc.score(train_scaled, train_target) )\n",
    "print( sc.score(test_scaled, test_target) )"
   ]
  },
  {
   "cell_type": "code",
   "execution_count": 7,
   "id": "d1e1b0af-c7ef-41b5-8c28-1208c04668a5",
   "metadata": {},
   "outputs": [
    {
     "name": "stdout",
     "output_type": "stream",
     "text": [
      "0.907563025210084\n",
      "0.925\n"
     ]
    }
   ],
   "source": [
    "sc_2 = SGDClassifier(random_state = 42)\n",
    "sc_2.fit(train_scaled, train_target)\n",
    "\n",
    "print( sc_2.score(train_scaled, train_target) )\n",
    "print( sc_2.score(test_scaled, test_target) )"
   ]
  },
  {
   "cell_type": "markdown",
   "id": "37cc1e14-a21a-43fb-8886-d78c9fe8366a",
   "metadata": {},
   "source": [
    "-------------------------------------\n",
    "## 참고"
   ]
  },
  {
   "cell_type": "code",
   "execution_count": 8,
   "id": "b5231dd4-7d39-4fc6-b699-c7f572e5faab",
   "metadata": {},
   "outputs": [
    {
     "name": "stdout",
     "output_type": "stream",
     "text": [
      "0.907563025210084\n",
      "0.925\n"
     ]
    }
   ],
   "source": [
    "## partial_fit()은 학습된 모델을 다시 돌리지 않고, 1 epoch만 추가 실행한다.\n",
    "## under or over fitting 여부를 확인하는데 유용하다. \n",
    "sc.partial_fit(train_scaled, train_target)\n",
    "\n",
    "print( sc.score(train_scaled, train_target) )\n",
    "print( sc.score(test_scaled, test_target) )"
   ]
  },
  {
   "cell_type": "code",
   "execution_count": 9,
   "id": "3570d056-20dd-406c-bf47-9629713a1d78",
   "metadata": {},
   "outputs": [
    {
     "data": {
      "image/png": "[encoded data removed]",
      "text/plain": [
       "<Figure size 432x288 with 1 Axes>"
      ]
     },
     "metadata": {
      "needs_background": "light"
     },
     "output_type": "display_data"
    }
   ],
   "source": [
    "## under/over fitting을 최소화히기 위해, 몇번의 epochs(반복횟수, max_iter값)가 적당한지 알아보기 \n",
    "## epoch가 반볼될수록 변화되는 양상을 알기 위해 partial_fit을 사용했으며, 때문에 target값인 7개 생선의 이름을 classes에 전달해주었다. \n",
    "sc = SGDClassifier(loss='log')\n",
    "train_score = []\n",
    "test_score = []\n",
    "classes = np.unique(train_target)\n",
    "\n",
    "for _ in range(0,300): \n",
    "    sc.partial_fit(train_scaled, train_target, classes = classes) \n",
    "    train_score.append(sc.score(train_scaled, train_target))\n",
    "    test_score.append(sc.score(test_scaled, test_target))\n",
    "    \n",
    "plt.plot(train_score)\n",
    "plt.plot(test_score)\n",
    "plt.xlabel('epoch')\n",
    "plt.ylabel('accuracy')\n",
    "plt.show()"
   ]
  },
  {
   "cell_type": "code",
   "execution_count": null,
   "id": "adfa697f-1756-4c12-ae87-802351e5e008",
   "metadata": {},
   "outputs": [],
   "source": []
  }
 ],
 "metadata": {
  "kernelspec": {
   "display_name": "Python 3",
   "language": "python",
   "name": "python3"
  },
  "language_info": {
   "codemirror_mode": {
    "name": "ipython",
    "version": 3
   },
   "file_extension": ".py",
   "mimetype": "text/x-python",
   "name": "python",
   "nbconvert_exporter": "python",
   "pygments_lexer": "ipython3",
   "version": "3.8.8"
  }
 },
 "nbformat": 4,
 "nbformat_minor": 5
}
