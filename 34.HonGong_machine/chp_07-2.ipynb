{
 "cells": [
  {
   "cell_type": "markdown",
   "id": "b95eff41-020b-49e8-a31d-9619398b235b",
   "metadata": {},
   "source": [
    "## Chapter 07 딥러닝을 시작합니다 ▶️패션 럭키백을 판매합니다!\n",
    "#### 07-2 심층 신경망 ▶️인공 신경망에 층을 추가하여 심층 신경망 만들어 보기"
   ]
  },
  {
   "cell_type": "code",
   "execution_count": 1,
   "id": "2e50e0cc-a51c-4a36-bb9f-1cf046553ead",
   "metadata": {},
   "outputs": [
    {
     "name": "stdout",
     "output_type": "stream",
     "text": [
      "(60000, 28, 28) (60000,) (10000, 28, 28) (10000,)\n",
      "(48000, 784) (12000, 784) (48000,) (12000,)\n"
     ]
    }
   ],
   "source": [
    "## 데이터셋 준비 \n",
    "import tensorflow as tf\n",
    "from tensorflow import keras \n",
    "from sklearn.model_selection import train_test_split\n",
    "\n",
    "## fashion minist를 불러와, 표준화(fixel : 0~255 -> 0~1)하고, 1차원 array로 변환(28x28 -> 784)\n",
    "## train, validation set을 구분 \n",
    "\n",
    "(train_input, train_target), (test_input, test_target) = \\\n",
    "    keras.datasets.fashion_mnist.load_data()\n",
    "\n",
    "print(train_input.shape, train_target.shape, test_input.shape, test_target.shape)\n",
    "\n",
    "train_scaled = (train_input / 255).reshape(-1, 28*28)\n",
    "train_scaled, val_scaled, train_target, val_target = train_test_split(train_scaled, train_target, test_size = 0.2, random_state = 42)\n",
    "\n",
    "print(train_scaled.shape, val_scaled.shape, train_target.shape, val_target.shape)"
   ]
  },
  {
   "cell_type": "markdown",
   "id": "601ac937-be41-4aa1-9f07-5d0b3be4be35",
   "metadata": {},
   "source": [
    "---- \n",
    "#### 1. 심층 신경망 구성 \n",
    "- Sequencial 클래스에 새로운 dense 객체를 추가(activation function이 지정된...) "
   ]
  },
  {
   "cell_type": "code",
   "execution_count": 2,
   "id": "36afa920-f5dd-4469-b0d0-e9e756463e22",
   "metadata": {},
   "outputs": [
    {
     "name": "stdout",
     "output_type": "stream",
     "text": [
      "Model: \"fashion_mnist\"\n",
      "_________________________________________________________________\n",
      " Layer (type)                Output Shape              Param #   \n",
      "=================================================================\n",
      " dense (Dense)               (None, 100)               78500     \n",
      "                                                                 \n",
      " dense_1 (Dense)             (None, 10)                1010      \n",
      "                                                                 \n",
      "=================================================================\n",
      "Total params: 79,510\n",
      "Trainable params: 79,510\n",
      "Non-trainable params: 0\n",
      "_________________________________________________________________\n"
     ]
    }
   ],
   "source": [
    "model = keras.Sequential(name = 'fashion_mnist')\n",
    "model.add(keras.layers.Dense(100, activation = 'sigmoid', input_shape = (784,)))\n",
    "model.add(keras.layers.Dense(10, activation = 'softmax'))\n",
    "\n",
    "model.summary()"
   ]
  },
  {
   "cell_type": "markdown",
   "id": "832bf20a-7541-4945-b0db-c10be9481e34",
   "metadata": {},
   "source": [
    "- 1차 은닉층에서 100개의 노드를 지정했으므로, 100x784 + 절편 100 = 총 78500개의 파라미터가 생성되었다. \n",
    "- 출력층에서는 앞서 100개의 노트로 부터 10개의 노드가 값을 받으므로, 100x10 + 절편 10 = 1010개의 파라미터 생성 \n",
    "- 따라서 총 파라미터 갯수는 78500+1010 = 79510 "
   ]
  },
  {
   "cell_type": "code",
   "execution_count": 3,
   "id": "1ace994d-bed9-46cc-bcab-d880f38ff6a4",
   "metadata": {},
   "outputs": [
    {
     "name": "stdout",
     "output_type": "stream",
     "text": [
      "Epoch 1/5\n",
      "1500/1500 [==============================] - 2s 895us/step - loss: 0.5622 - accuracy: 0.8088\n",
      "Epoch 2/5\n",
      "1500/1500 [==============================] - 1s 909us/step - loss: 0.4091 - accuracy: 0.8515\n",
      "Epoch 3/5\n",
      "1500/1500 [==============================] - 1s 914us/step - loss: 0.3742 - accuracy: 0.8645\n",
      "Epoch 4/5\n",
      "1500/1500 [==============================] - 1s 918us/step - loss: 0.3516 - accuracy: 0.8729\n",
      "Epoch 5/5\n",
      "1500/1500 [==============================] - 1s 940us/step - loss: 0.3346 - accuracy: 0.8783\n"
     ]
    },
    {
     "data": {
      "text/plain": [
       "<keras.callbacks.History at 0x17815204700>"
      ]
     },
     "execution_count": 3,
     "metadata": {},
     "output_type": "execute_result"
    }
   ],
   "source": [
    "model.compile(loss = 'sparse_categorical_crossentropy', metrics = 'accuracy')\n",
    "model.fit(train_scaled, train_target, epochs = 5)"
   ]
  },
  {
   "cell_type": "code",
   "execution_count": 4,
   "id": "a7c8c50f-0837-4512-a5e2-b07baf46b91f",
   "metadata": {},
   "outputs": [
    {
     "name": "stdout",
     "output_type": "stream",
     "text": [
      "375/375 [==============================] - 0s 679us/step - loss: 0.3489 - accuracy: 0.8736\n"
     ]
    },
    {
     "data": {
      "text/plain": [
       "[0.34891557693481445, 0.8735833168029785]"
      ]
     },
     "execution_count": 4,
     "metadata": {},
     "output_type": "execute_result"
    }
   ],
   "source": [
    "model.evaluate(val_scaled, val_target)"
   ]
  },
  {
   "cell_type": "markdown",
   "id": "7e8a0276-ea55-4734-9f04-0cdf8f5c73a1",
   "metadata": {},
   "source": [
    "---- \n",
    "#### 2. relu 함수와 flatten layer의 사용 \n",
    "- relu는 sigmoid가 값이 일정수준 이상 커지면(작아지면) 출력값에 변화가 거의 없는 단점을 극복하기 위해 탄생 \n",
    "- relu는 입력값이 양수이면 그대로 출력하고, 음수이면 0으로 출력함 \n",
    "- flatten 층은 2차원 배열의 입력값을 자동으로 reshape하여 1차원 배열로 변환시켜 준다. "
   ]
  },
  {
   "cell_type": "code",
   "execution_count": 5,
   "id": "be294c6c-16ef-4216-8d62-c92914f74a3d",
   "metadata": {},
   "outputs": [
    {
     "name": "stdout",
     "output_type": "stream",
     "text": [
      "(60000, 28, 28) (60000,) (10000, 28, 28) (10000,)\n",
      "(48000, 28, 28) (12000, 28, 28) (48000,) (12000,)\n"
     ]
    }
   ],
   "source": [
    "## 데이터셋 주닙, Flatten을 사용할 것이므로 입력할 값의 행렬을 1차원으로 변환시킬 필요가 없다.\n",
    "(train_input, train_target), (test_input, test_target) = \\\n",
    "    keras.datasets.fashion_mnist.load_data()\n",
    "\n",
    "print(train_input.shape, train_target.shape, test_input.shape, test_target.shape)\n",
    "\n",
    "train_scaled = train_input / 255\n",
    "train_scaled, val_scaled, train_target, val_target = train_test_split(train_scaled, train_target, test_size = 0.2, random_state = 42)\n",
    "\n",
    "print(train_scaled.shape, val_scaled.shape, train_target.shape, val_target.shape)"
   ]
  },
  {
   "cell_type": "code",
   "execution_count": 6,
   "id": "a9e54ab2-c3e9-4325-8a7f-183f4b48f55e",
   "metadata": {},
   "outputs": [
    {
     "name": "stdout",
     "output_type": "stream",
     "text": [
      "Model: \"fashion_mnist_relu\"\n",
      "_________________________________________________________________\n",
      " Layer (type)                Output Shape              Param #   \n",
      "=================================================================\n",
      " flatten (Flatten)           (None, 784)               0         \n",
      "                                                                 \n",
      " dense_2 (Dense)             (None, 100)               78500     \n",
      "                                                                 \n",
      " dense_3 (Dense)             (None, 10)                1010      \n",
      "                                                                 \n",
      "=================================================================\n",
      "Total params: 79,510\n",
      "Trainable params: 79,510\n",
      "Non-trainable params: 0\n",
      "_________________________________________________________________\n"
     ]
    }
   ],
   "source": [
    "model_2 = keras.Sequential(name = 'fashion_mnist_relu')\n",
    "model_2.add(keras.layers.Flatten(input_shape = (28,28)))\n",
    "model_2.add(keras.layers.Dense(100, activation = 'relu'))\n",
    "model_2.add(keras.layers.Dense(10, activation = 'softmax'))\n",
    "model_2.summary()"
   ]
  },
  {
   "cell_type": "code",
   "execution_count": 7,
   "id": "5e968f6c-dc14-4e58-ae7f-b832f4431f2a",
   "metadata": {},
   "outputs": [
    {
     "name": "stdout",
     "output_type": "stream",
     "text": [
      "Epoch 1/5\n",
      "1500/1500 [==============================] - 2s 923us/step - loss: 0.5266 - accuracy: 0.8142\n",
      "Epoch 2/5\n",
      "1500/1500 [==============================] - 1s 902us/step - loss: 0.3917 - accuracy: 0.8591\n",
      "Epoch 3/5\n",
      "1500/1500 [==============================] - 1s 929us/step - loss: 0.3537 - accuracy: 0.8736\n",
      "Epoch 4/5\n",
      "1500/1500 [==============================] - 1s 926us/step - loss: 0.3346 - accuracy: 0.8804\n",
      "Epoch 5/5\n",
      "1500/1500 [==============================] - 1s 913us/step - loss: 0.3190 - accuracy: 0.8867\n"
     ]
    },
    {
     "data": {
      "text/plain": [
       "<keras.callbacks.History at 0x1787a02d130>"
      ]
     },
     "execution_count": 7,
     "metadata": {},
     "output_type": "execute_result"
    }
   ],
   "source": [
    "model_2.compile(loss = 'sparse_categorical_crossentropy', metrics = 'accuracy')\n",
    "model_2.fit(train_scaled, train_target, epochs = 5)"
   ]
  },
  {
   "cell_type": "code",
   "execution_count": 8,
   "id": "765f3886-27ba-4382-90af-f3d40fedd133",
   "metadata": {},
   "outputs": [
    {
     "name": "stdout",
     "output_type": "stream",
     "text": [
      "375/375 [==============================] - 0s 674us/step - loss: 0.3716 - accuracy: 0.8777\n"
     ]
    },
    {
     "data": {
      "text/plain": [
       "[0.3716014325618744, 0.8777499794960022]"
      ]
     },
     "execution_count": 8,
     "metadata": {},
     "output_type": "execute_result"
    }
   ],
   "source": [
    "model_2.evaluate(val_scaled, val_target)"
   ]
  },
  {
   "cell_type": "markdown",
   "id": "4f0c16ac-4de6-4a93-9fa0-c1764437dd90",
   "metadata": {},
   "source": [
    "- sigmoid 적용시에 비해 다소 모형성능이 증가했다. (0.8795 -> 0.8870) \n",
    "---"
   ]
  },
  {
   "cell_type": "markdown",
   "id": "71a8f2cf-f0ab-47e8-a780-cd01716e7413",
   "metadata": {},
   "source": [
    "#### 3. Optimizer 사용 \n",
    "- compile() 메서드에서 매개변수를 원하는 옵티마이저로 지정해 준다. \n",
    "- default optimizer는 32개의 미니배치를 사용하는 미니배치 경사하강법이다. \n",
    "- 그외 다른 경사하강법 사용시에는 SGD를, 적응적 학습률 사용시에는 RMSprop나 Adam을 많이 사용함"
   ]
  },
  {
   "cell_type": "code",
   "execution_count": 10,
   "id": "0c015e26-a329-4361-8588-abc91e6842c5",
   "metadata": {},
   "outputs": [
    {
     "name": "stdout",
     "output_type": "stream",
     "text": [
      "Epoch 1/5\n",
      "1500/1500 [==============================] - 1s 763us/step - loss: 0.2617 - accuracy: 0.9063\n",
      "Epoch 2/5\n",
      "1500/1500 [==============================] - 1s 775us/step - loss: 0.2516 - accuracy: 0.9094\n",
      "Epoch 3/5\n",
      "1500/1500 [==============================] - 1s 782us/step - loss: 0.2480 - accuracy: 0.9102\n",
      "Epoch 4/5\n",
      "1500/1500 [==============================] - 1s 845us/step - loss: 0.2453 - accuracy: 0.9109\n",
      "Epoch 5/5\n",
      "1500/1500 [==============================] - 1s 785us/step - loss: 0.2429 - accuracy: 0.9109\n"
     ]
    },
    {
     "data": {
      "text/plain": [
       "<keras.callbacks.History at 0x1780c1f2400>"
      ]
     },
     "execution_count": 10,
     "metadata": {},
     "output_type": "execute_result"
    }
   ],
   "source": [
    "model_2.compile(optimizer = 'SGD', loss = 'sparse_categorical_crossentropy', metrics = 'accuracy')\n",
    "model_2.fit(train_scaled, train_target, epochs = 5)"
   ]
  },
  {
   "cell_type": "code",
   "execution_count": 11,
   "id": "bf3129bb-e1b7-431a-9477-172b2108bf80",
   "metadata": {},
   "outputs": [
    {
     "name": "stdout",
     "output_type": "stream",
     "text": [
      "375/375 [==============================] - 0s 658us/step - loss: 0.3159 - accuracy: 0.8930\n"
     ]
    },
    {
     "data": {
      "text/plain": [
       "[0.31593915820121765, 0.8930000066757202]"
      ]
     },
     "execution_count": 11,
     "metadata": {},
     "output_type": "execute_result"
    }
   ],
   "source": [
    "model_2.evaluate(val_scaled, val_target)"
   ]
  },
  {
   "cell_type": "code",
   "execution_count": 12,
   "id": "3385ad15-3b50-4a9c-9e8c-7e4851bc7113",
   "metadata": {},
   "outputs": [
    {
     "name": "stdout",
     "output_type": "stream",
     "text": [
      "Epoch 1/5\n",
      "1500/1500 [==============================] - 2s 877us/step - loss: 0.3037 - accuracy: 0.8938\n",
      "Epoch 2/5\n",
      "1500/1500 [==============================] - 1s 901us/step - loss: 0.2933 - accuracy: 0.8964\n",
      "Epoch 3/5\n",
      "1500/1500 [==============================] - 1s 917us/step - loss: 0.2854 - accuracy: 0.8986\n",
      "Epoch 4/5\n",
      "1500/1500 [==============================] - 1s 918us/step - loss: 0.2805 - accuracy: 0.9008\n",
      "Epoch 5/5\n",
      "1500/1500 [==============================] - 1s 909us/step - loss: 0.2726 - accuracy: 0.9038\n"
     ]
    },
    {
     "data": {
      "text/plain": [
       "<keras.callbacks.History at 0x1780b298e20>"
      ]
     },
     "execution_count": 12,
     "metadata": {},
     "output_type": "execute_result"
    }
   ],
   "source": [
    "model_2.compile(optimizer = 'RMSprop', loss = 'sparse_categorical_crossentropy', metrics = 'accuracy')\n",
    "model_2.fit(train_scaled, train_target, epochs = 5)"
   ]
  },
  {
   "cell_type": "code",
   "execution_count": 13,
   "id": "dda170bf-bab0-456b-8a06-9dbb4a38db87",
   "metadata": {},
   "outputs": [
    {
     "name": "stdout",
     "output_type": "stream",
     "text": [
      "375/375 [==============================] - 0s 656us/step - loss: 0.3747 - accuracy: 0.8826\n"
     ]
    },
    {
     "data": {
      "text/plain": [
       "[0.3746594190597534, 0.8825833201408386]"
      ]
     },
     "execution_count": 13,
     "metadata": {},
     "output_type": "execute_result"
    }
   ],
   "source": [
    "model_2.evaluate(val_scaled, val_target)"
   ]
  },
  {
   "cell_type": "code",
   "execution_count": 14,
   "id": "95b20f58-46e6-4065-b692-da481fd4100c",
   "metadata": {},
   "outputs": [
    {
     "name": "stdout",
     "output_type": "stream",
     "text": [
      "Epoch 1/5\n",
      "1500/1500 [==============================] - 1s 795us/step - loss: 0.2655 - accuracy: 0.9047\n",
      "Epoch 2/5\n",
      "1500/1500 [==============================] - 1s 821us/step - loss: 0.2504 - accuracy: 0.9083\n",
      "Epoch 3/5\n",
      "1500/1500 [==============================] - 1s 841us/step - loss: 0.2373 - accuracy: 0.9111\n",
      "Epoch 4/5\n",
      "1500/1500 [==============================] - 1s 830us/step - loss: 0.2308 - accuracy: 0.9139\n",
      "Epoch 5/5\n",
      "1500/1500 [==============================] - 1s 831us/step - loss: 0.2216 - accuracy: 0.9175\n"
     ]
    },
    {
     "data": {
      "text/plain": [
       "<keras.callbacks.History at 0x1780b376f40>"
      ]
     },
     "execution_count": 14,
     "metadata": {},
     "output_type": "execute_result"
    }
   ],
   "source": [
    "model_2.compile(optimizer = 'Adam', loss = 'sparse_categorical_crossentropy', metrics = 'accuracy')\n",
    "model_2.fit(train_scaled, train_target, epochs = 5)"
   ]
  },
  {
   "cell_type": "code",
   "execution_count": 15,
   "id": "a2cad779-da80-4b66-aea3-39bbfde4b305",
   "metadata": {},
   "outputs": [
    {
     "name": "stdout",
     "output_type": "stream",
     "text": [
      "375/375 [==============================] - 0s 642us/step - loss: 0.3560 - accuracy: 0.8853\n"
     ]
    },
    {
     "data": {
      "text/plain": [
       "[0.3559648096561432, 0.8853333592414856]"
      ]
     },
     "execution_count": 15,
     "metadata": {},
     "output_type": "execute_result"
    }
   ],
   "source": [
    "model_2.evaluate(val_scaled, val_target)"
   ]
  },
  {
   "cell_type": "markdown",
   "id": "ed2da1cb-651e-47b7-92bf-a2562683ddf0",
   "metadata": {},
   "source": [
    "- 각 옵티마이저에 따른 모형성능 비교결과, Adam이 가장 우수하였다. \n",
    "- 1) default(32개 미니배치 경사하강법) = 0.8867 / 2) SGD = 0.9109 / 3) RMSprop = 0.9038 / 4) Adam = 0.9175"
   ]
  },
  {
   "cell_type": "code",
   "execution_count": null,
   "id": "0ef02cfd-8dfa-461e-b29d-fe6b1b8d5a3a",
   "metadata": {},
   "outputs": [],
   "source": []
  }
 ],
 "metadata": {
  "kernelspec": {
   "display_name": "Python 3",
   "language": "python",
   "name": "python3"
  },
  "language_info": {
   "codemirror_mode": {
    "name": "ipython",
    "version": 3
   },
   "file_extension": ".py",
   "mimetype": "text/x-python",
   "name": "python",
   "nbconvert_exporter": "python",
   "pygments_lexer": "ipython3",
   "version": "3.8.8"
  }
 },
 "nbformat": 4,
 "nbformat_minor": 5
}
