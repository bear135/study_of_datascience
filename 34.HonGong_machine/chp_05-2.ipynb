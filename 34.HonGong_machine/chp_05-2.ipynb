{
 "cells": [
  {
   "cell_type": "markdown",
   "id": "0ce547c9-81ed-4b58-93ae-9e4a0b8d11cf",
   "metadata": {},
   "source": [
    "### Chapter 05 트리 알고리즘 ▶️화이트 와인을 찾아라!\n",
    "#### 05-2 교차 검증과 그리드 서치 ▶️검증 세트가 필요한 이유를 이해하고 교차 검증해 보기"
   ]
  },
  {
   "cell_type": "markdown",
   "id": "aa505778-2bd4-46c9-ac2c-162a30489674",
   "metadata": {},
   "source": [
    "-------------------\n",
    "#### - train/test set을 기준으로 모델을 개선시키면 결국 test set에 가장 잘 맞는 모델이 만들어 진다. \n",
    "#### - k-fold : train/validation/test set을 구성하고 교차&반복 분석을 통해 최상의 모델을 찾는다. "
   ]
  },
  {
   "cell_type": "code",
   "execution_count": 1,
   "id": "1aac59f1-c320-4c59-9270-482b47c585da",
   "metadata": {},
   "outputs": [],
   "source": [
    "import numpy as np\n",
    "import pandas as pd \n",
    "import matplotlib.pyplot as plt "
   ]
  },
  {
   "cell_type": "code",
   "execution_count": 2,
   "id": "644b060e-2e5d-4cd3-8af6-0af2a99b7257",
   "metadata": {},
   "outputs": [
    {
     "data": {
      "text/html": [
       "<div>\n",
       "<style scoped>\n",
       "    .dataframe tbody tr th:only-of-type {\n",
       "        vertical-align: middle;\n",
       "    }\n",
       "\n",
       "    .dataframe tbody tr th {\n",
       "        vertical-align: top;\n",
       "    }\n",
       "\n",
       "    .dataframe thead th {\n",
       "        text-align: right;\n",
       "    }\n",
       "</style>\n",
       "<table border=\"1\" class=\"dataframe\">\n",
       "  <thead>\n",
       "    <tr style=\"text-align: right;\">\n",
       "      <th></th>\n",
       "      <th>alcohol</th>\n",
       "      <th>sugar</th>\n",
       "      <th>pH</th>\n",
       "      <th>class</th>\n",
       "    </tr>\n",
       "  </thead>\n",
       "  <tbody>\n",
       "    <tr>\n",
       "      <th>count</th>\n",
       "      <td>6497.000000</td>\n",
       "      <td>6497.000000</td>\n",
       "      <td>6497.000000</td>\n",
       "      <td>6497.000000</td>\n",
       "    </tr>\n",
       "    <tr>\n",
       "      <th>mean</th>\n",
       "      <td>10.491801</td>\n",
       "      <td>5.443235</td>\n",
       "      <td>3.218501</td>\n",
       "      <td>0.753886</td>\n",
       "    </tr>\n",
       "    <tr>\n",
       "      <th>std</th>\n",
       "      <td>1.192712</td>\n",
       "      <td>4.757804</td>\n",
       "      <td>0.160787</td>\n",
       "      <td>0.430779</td>\n",
       "    </tr>\n",
       "    <tr>\n",
       "      <th>min</th>\n",
       "      <td>8.000000</td>\n",
       "      <td>0.600000</td>\n",
       "      <td>2.720000</td>\n",
       "      <td>0.000000</td>\n",
       "    </tr>\n",
       "    <tr>\n",
       "      <th>25%</th>\n",
       "      <td>9.500000</td>\n",
       "      <td>1.800000</td>\n",
       "      <td>3.110000</td>\n",
       "      <td>1.000000</td>\n",
       "    </tr>\n",
       "    <tr>\n",
       "      <th>50%</th>\n",
       "      <td>10.300000</td>\n",
       "      <td>3.000000</td>\n",
       "      <td>3.210000</td>\n",
       "      <td>1.000000</td>\n",
       "    </tr>\n",
       "    <tr>\n",
       "      <th>75%</th>\n",
       "      <td>11.300000</td>\n",
       "      <td>8.100000</td>\n",
       "      <td>3.320000</td>\n",
       "      <td>1.000000</td>\n",
       "    </tr>\n",
       "    <tr>\n",
       "      <th>max</th>\n",
       "      <td>14.900000</td>\n",
       "      <td>65.800000</td>\n",
       "      <td>4.010000</td>\n",
       "      <td>1.000000</td>\n",
       "    </tr>\n",
       "  </tbody>\n",
       "</table>\n",
       "</div>"
      ],
      "text/plain": [
       "           alcohol        sugar           pH        class\n",
       "count  6497.000000  6497.000000  6497.000000  6497.000000\n",
       "mean     10.491801     5.443235     3.218501     0.753886\n",
       "std       1.192712     4.757804     0.160787     0.430779\n",
       "min       8.000000     0.600000     2.720000     0.000000\n",
       "25%       9.500000     1.800000     3.110000     1.000000\n",
       "50%      10.300000     3.000000     3.210000     1.000000\n",
       "75%      11.300000     8.100000     3.320000     1.000000\n",
       "max      14.900000    65.800000     4.010000     1.000000"
      ]
     },
     "execution_count": 2,
     "metadata": {},
     "output_type": "execute_result"
    }
   ],
   "source": [
    "wine = pd.read_csv(\"http://bit.ly/wine_csv_data\")\n",
    "wine.describe()"
   ]
  },
  {
   "cell_type": "code",
   "execution_count": 3,
   "id": "823db994-bee9-40b8-bba6-6ce99b20a5e4",
   "metadata": {},
   "outputs": [
    {
     "name": "stdout",
     "output_type": "stream",
     "text": [
      "(4157, 3) (1040, 3) (4157,) (1040,)\n"
     ]
    }
   ],
   "source": [
    "## 데이터를 6:2:2 비율로 구분하여 훈련시키기 \n",
    "data = wine[['alcohol', 'sugar', 'pH']].to_numpy()\n",
    "target = wine['class'].to_numpy()\n",
    "\n",
    "from sklearn.model_selection import train_test_split\n",
    "train_input, test_input, train_target, test_target = train_test_split(data, target, test_size = 0.2, random_state = 42)\n",
    "sub_input, val_input, sub_target, val_target = train_test_split(train_input, train_target, test_size = 0.2, random_state = 42)\n",
    "\n",
    "print( sub_input.shape, val_input.shape, sub_target.shape, val_target.shape )"
   ]
  },
  {
   "cell_type": "code",
   "execution_count": 4,
   "id": "9fcfa67b-674d-4a7d-8c81-d4a445715fe3",
   "metadata": {},
   "outputs": [
    {
     "name": "stdout",
     "output_type": "stream",
     "text": [
      "0.9971133028626413\n",
      "0.864423076923077\n"
     ]
    }
   ],
   "source": [
    "from sklearn.tree import DecisionTreeClassifier\n",
    "dt_1 = DecisionTreeClassifier(random_state = 42)\n",
    "dt_1.fit(sub_input, sub_target)\n",
    "\n",
    "print( dt_1.score(sub_input, sub_target) )\n",
    "print( dt_1.score(val_input, val_target) )"
   ]
  },
  {
   "cell_type": "markdown",
   "id": "593a66c2-6154-450f-8254-09acec83d367",
   "metadata": {},
   "source": [
    "- 위 결과는 sub dataset에 overfitting 되었다. k-fold를 써보자. \n",
    "-------------------------\n",
    "- cross_validate() : 사이킷런의 교차검증 함수. default k = 5 이다. \n",
    "- StratifiedKFold()를 사용하기도 한다. 회귀모델인 경우 cross_validate()는 StratifiedKFold()를 사용하기 때문에 동일한 결과를 낸다. "
   ]
  },
  {
   "cell_type": "code",
   "execution_count": 5,
   "id": "a586d91f-3359-4870-b7f4-58dcab9fca58",
   "metadata": {},
   "outputs": [
    {
     "data": {
      "text/plain": [
       "{'fit_time': array([0.00499916, 0.00500083, 0.00500107, 0.00500059, 0.00500131]),\n",
       " 'score_time': array([0.00099969, 0.        , 0.00100088, 0.        , 0.        ]),\n",
       " 'test_score': array([0.86923077, 0.84615385, 0.87680462, 0.84889317, 0.83541867])}"
      ]
     },
     "execution_count": 5,
     "metadata": {},
     "output_type": "execute_result"
    }
   ],
   "source": [
    "from sklearn.model_selection import cross_validate\n",
    "score = cross_validate(dt_1, train_input, train_target)\n",
    "score"
   ]
  },
  {
   "cell_type": "code",
   "execution_count": 6,
   "id": "66f3c48d-de67-4029-bc2f-c67f08e88bec",
   "metadata": {},
   "outputs": [
    {
     "data": {
      "text/plain": [
       "0.855300214703487"
      ]
     },
     "execution_count": 6,
     "metadata": {},
     "output_type": "execute_result"
    }
   ],
   "source": [
    "## test_score 값들을 평균하여 모형의 성능(accuracy)를 판단할 수 있다. \n",
    "np.mean(score['test_score'])"
   ]
  },
  {
   "cell_type": "code",
   "execution_count": 7,
   "id": "d253ff41-f53d-4d87-bf47-9fa59b940e13",
   "metadata": {},
   "outputs": [
    {
     "name": "stdout",
     "output_type": "stream",
     "text": [
      "{'fit_time': array([0.00600171, 0.006001  , 0.00500059, 0.00500059, 0.00500059,\n",
      "       0.00600123, 0.00500202, 0.00500083, 0.00500059, 0.00500035]), 'score_time': array([0.00099945, 0.0010004 , 0.00100064, 0.00100088, 0.        ,\n",
      "       0.        , 0.00099969, 0.00100064, 0.        , 0.        ]), 'test_score': array([0.83461538, 0.87884615, 0.85384615, 0.85384615, 0.84615385,\n",
      "       0.87307692, 0.85961538, 0.85549133, 0.85163776, 0.86705202])}\n",
      "-------------------------------------\n",
      "0.8574181117533719\n"
     ]
    }
   ],
   "source": [
    "## cross_validate()는 훈련세트를 섞지 않는다. \n",
    "## 따라서 실전에서는 StratifiedKFold()를 쓰며, splitter를 사용하여 데이터를 shuffle 시켜준다. \n",
    "from sklearn.model_selection import StratifiedKFold\n",
    "splitter = StratifiedKFold(n_splits = 10, shuffle = True, random_state = 42)\n",
    "score = cross_validate(dt_1, train_input, train_target, cv = splitter)\n",
    "\n",
    "print(score)\n",
    "print('-------------------------------------')\n",
    "print(np.mean(score['test_score']))"
   ]
  },
  {
   "cell_type": "markdown",
   "id": "1ab58db9-9a40-49aa-ab9c-46632f0cbe29",
   "metadata": {},
   "source": [
    "----------------------------\n",
    "- Hyperparameter tunning : GridSearchCV()는 파라미터의 탐색과 교차검증을 한번에 수행한다. \n",
    "- GridSearchCV()는 default로 5-fold 교차검증을 수행함. 만약 파라미터가 5개라면 5x5 = 25개 모델을 훈련하게 된다. \n",
    "- n_jobs = -1 : 사용될 cpu 코어수를 지정. -1이면 가용한 모든 코어를 사용한다. "
   ]
  },
  {
   "cell_type": "code",
   "execution_count": 8,
   "id": "a6ad9ce7-d1a5-455f-bc9c-ca71383b387a",
   "metadata": {},
   "outputs": [
    {
     "name": "stdout",
     "output_type": "stream",
     "text": [
      "DecisionTreeClassifier(min_impurity_decrease=0.0001, random_state=42)\n",
      "{'min_impurity_decrease': 0.0001}\n"
     ]
    }
   ],
   "source": [
    "## Decision Tree 모델의 최적의 min_impurity_decrease(지니계수 즉 불순도 감소폭이 얼마 이하이면 훈련을 멈춰라)를 찾는 과정 \n",
    "from sklearn.model_selection import GridSearchCV\n",
    "prams = {'min_impurity_decrease': [0.0001, 0.0002, 0.0003, 0.0004, 0.0005]}\n",
    "\n",
    "gs = GridSearchCV(DecisionTreeClassifier(random_state = 42), prams, n_jobs = -1)\n",
    "gs.fit(train_input, train_target)\n",
    "\n",
    "## 훈련된 25개 모델중 best 모델의 결과를 출력하기 \n",
    "print(gs.best_estimator_)\n",
    "print(gs.best_params_)"
   ]
  },
  {
   "cell_type": "code",
   "execution_count": 9,
   "id": "eb4c8b79-9cef-4008-b16a-80216b400275",
   "metadata": {},
   "outputs": [
    {
     "data": {
      "text/plain": [
       "0.9615162593804117"
      ]
     },
     "execution_count": 9,
     "metadata": {},
     "output_type": "execute_result"
    }
   ],
   "source": [
    "dt_best = gs.best_estimator_\n",
    "dt_best.score(train_input, train_target)"
   ]
  },
  {
   "cell_type": "code",
   "execution_count": 10,
   "id": "db752730-3240-485e-8318-76f1dd024aaf",
   "metadata": {},
   "outputs": [
    {
     "data": {
      "text/plain": [
       "array([0.86819297, 0.86453617, 0.86492226, 0.86780891, 0.86761605])"
      ]
     },
     "execution_count": 10,
     "metadata": {},
     "output_type": "execute_result"
    }
   ],
   "source": [
    "## 5개의 파라미터 각각에 대해 5번씩 교차검증한 결과점수의 평균 \n",
    "gs.cv_results_['mean_test_score']"
   ]
  },
  {
   "cell_type": "markdown",
   "id": "65b2c22e-e43f-423e-8a02-c79567a6142b",
   "metadata": {},
   "source": [
    "-------------------------\n",
    "- 하이퍼파라미터(여기서는 min_impurity_decrease)를 직접 지정하지 않고, scypi를 사용하여 확률분포에서 뽑게 하자. "
   ]
  },
  {
   "cell_type": "code",
   "execution_count": 11,
   "id": "23c7557d-8dce-46c9-84ff-b0bd4b1d6004",
   "metadata": {},
   "outputs": [
    {
     "name": "stdout",
     "output_type": "stream",
     "text": [
      "[0.38658695 0.50524161 0.45295286 0.53743945 0.92168684 0.18137424\n",
      " 0.08732816 0.19554629 0.07668446 0.39719227]\n",
      "[5 1 9 3 8 8 6 2 2 8]\n"
     ]
    }
   ],
   "source": [
    "## uniform은 지정된 두 숫자사이의 정규분포에서 실수값을, randint는 정수값을 랜덤하게 뽑는다. \n",
    "from scipy.stats import uniform, randint \n",
    "\n",
    "ugen = uniform(0, 1)\n",
    "rgen = randint(0, 10)\n",
    "\n",
    "print( ugen.rvs(10) )\n",
    "print( rgen.rvs(10) )"
   ]
  },
  {
   "cell_type": "code",
   "execution_count": 12,
   "id": "bb9f0cb4-a211-4889-ada2-33b989066253",
   "metadata": {},
   "outputs": [],
   "source": [
    "## min_impurity_decrease : 0.0001 ~ 0.001 사이의 실수값을 랜덤 샘플링 \n",
    "## max_depth : 20~50 사이의 정수 \n",
    "## min_samples_split : 2~25 사이의 정수 \n",
    "## min_samples_leaf : 1~25 사이의 정수, 샘플수가 이 값 이하인 경우 더이상 트리를 분할하지 않는다. \n",
    "\n",
    "params = {'min_impurity_decrease': uniform(0.0001, 0.001),\n",
    "         'max_depth': randint(20, 50), \n",
    "         'min_samples_split': randint(2, 25), \n",
    "         'min_samples_leaf': randint(1, 25)    \n",
    "         }"
   ]
  },
  {
   "cell_type": "code",
   "execution_count": 13,
   "id": "97ba93c7-a8e9-4234-8335-cba9c5e01833",
   "metadata": {},
   "outputs": [
    {
     "data": {
      "text/plain": [
       "{'max_depth': 39,\n",
       " 'min_impurity_decrease': 0.00034102546602601173,\n",
       " 'min_samples_leaf': 7,\n",
       " 'min_samples_split': 13}"
      ]
     },
     "execution_count": 13,
     "metadata": {},
     "output_type": "execute_result"
    }
   ],
   "source": [
    "from sklearn.model_selection import RandomizedSearchCV\n",
    "gs_2 = RandomizedSearchCV(DecisionTreeClassifier(random_state=42), params, n_iter = 100, n_jobs = -1, random_state = 42)\n",
    "gs_2.fit(train_input, train_target)\n",
    "\n",
    "gs_2.best_params_"
   ]
  },
  {
   "cell_type": "code",
   "execution_count": 14,
   "id": "8da09c3f-bb3e-4792-8a11-d35f6bfec162",
   "metadata": {},
   "outputs": [
    {
     "data": {
      "text/plain": [
       "0.8695428296438884"
      ]
     },
     "execution_count": 14,
     "metadata": {},
     "output_type": "execute_result"
    }
   ],
   "source": [
    "## train 데이터로부터 훈련된 모델중 최고 성능의 점수는?\n",
    "np.max(gs_2.cv_results_['mean_test_score'])"
   ]
  },
  {
   "cell_type": "code",
   "execution_count": 15,
   "id": "3968f346-c685-4930-ab15-04adcfb87485",
   "metadata": {},
   "outputs": [
    {
     "data": {
      "text/plain": [
       "0.8653846153846154"
      ]
     },
     "execution_count": 15,
     "metadata": {},
     "output_type": "execute_result"
    }
   ],
   "source": [
    "## best 모델로써 test 데이터에 적용시켜보면? \n",
    "dt_vf = gs.best_estimator_\n",
    "dt_vf.score(test_input, test_target)"
   ]
  },
  {
   "cell_type": "code",
   "execution_count": null,
   "id": "8a60c302-c5c1-495b-ae8a-e16e0a43c5ca",
   "metadata": {},
   "outputs": [],
   "source": []
  },
  {
   "cell_type": "code",
   "execution_count": null,
   "id": "361e3847-ebd8-44e6-9903-32ce49081576",
   "metadata": {},
   "outputs": [],
   "source": []
  }
 ],
 "metadata": {
  "kernelspec": {
   "display_name": "Python 3",
   "language": "python",
   "name": "python3"
  },
  "language_info": {
   "codemirror_mode": {
    "name": "ipython",
    "version": 3
   },
   "file_extension": ".py",
   "mimetype": "text/x-python",
   "name": "python",
   "nbconvert_exporter": "python",
   "pygments_lexer": "ipython3",
   "version": "3.8.8"
  }
 },
 "nbformat": 4,
 "nbformat_minor": 5
}
