{
 "cells": [
  {
   "cell_type": "markdown",
   "id": "3f999328-2e1e-49da-aeed-931b8ea108c4",
   "metadata": {},
   "source": [
    "## Chapter 02 데이터 다루기 ▶️수상한 생선을 조심하라!"
   ]
  },
  {
   "cell_type": "markdown",
   "id": "f9b1064d-d364-4e2f-9f01-cef33f8eeb8a",
   "metadata": {},
   "source": [
    "### 02-1 훈련 세트와 테스트 세트 ▶️ 모델을 훈련 시키는 훈련 세트와 검증하는 테스트 세트로 나누어 학습하기 "
   ]
  },
  {
   "cell_type": "code",
   "execution_count": 1,
   "id": "c2152219-7be9-44fb-a1fa-69d052a7b45d",
   "metadata": {},
   "outputs": [],
   "source": [
    "import numpy as np\n",
    "from sklearn.neighbors import KNeighborsClassifier"
   ]
  },
  {
   "cell_type": "code",
   "execution_count": 2,
   "id": "63b69ac8-b244-4802-b61a-378a6e1abea0",
   "metadata": {},
   "outputs": [],
   "source": [
    "## data set \n",
    "fish_length = [25.4, 26.3, 26.5, 29.0, 29.0, 29.7, 29.7, 30.0, 30.0, 30.7, 31.0, 31.0, \n",
    "                31.5, 32.0, 32.0, 32.0, 33.0, 33.0, 33.5, 33.5, 34.0, 34.0, 34.5, 35.0, \n",
    "                35.0, 35.0, 35.0, 36.0, 36.0, 37.0, 38.5, 38.5, 39.5, 41.0, 41.0, 9.8, \n",
    "                10.5, 10.6, 11.0, 11.2, 11.3, 11.8, 11.8, 12.0, 12.2, 12.4, 13.0, 14.3, 15.0]\n",
    "\n",
    "fish_weight = [242.0, 290.0, 340.0, 363.0, 430.0, 450.0, 500.0, 390.0, 450.0, 500.0, 475.0, 500.0, \n",
    "                500.0, 340.0, 600.0, 600.0, 700.0, 700.0, 610.0, 650.0, 575.0, 685.0, 620.0, 680.0, \n",
    "                700.0, 725.0, 720.0, 714.0, 850.0, 1000.0, 920.0, 955.0, 925.0, 975.0, 950.0, 6.7, \n",
    "                7.5, 7.0, 9.7, 9.8, 8.7, 10.0, 9.9, 9.8, 12.2, 13.4, 12.2, 19.7, 19.9]"
   ]
  },
  {
   "cell_type": "code",
   "execution_count": 3,
   "id": "59c8fb6b-39e7-4176-881d-a9f3b39dd906",
   "metadata": {},
   "outputs": [],
   "source": [
    "fish_data = [[l,w] for l, w in zip(fish_length, fish_weight)] \n",
    "## 1~35번은 도미(1), 36~49번은 빙어(0)\n",
    "fish_target = [1]*35 + [0]*14"
   ]
  },
  {
   "cell_type": "code",
   "execution_count": 4,
   "id": "413f33cd-7a95-4adb-8a7a-75d070e15bba",
   "metadata": {},
   "outputs": [
    {
     "data": {
      "text/plain": [
       "[[25.4, 242.0], [26.3, 290.0], [26.5, 340.0], [29.0, 363.0], [29.0, 430.0]]"
      ]
     },
     "execution_count": 4,
     "metadata": {},
     "output_type": "execute_result"
    }
   ],
   "source": [
    "fish_data[:5]"
   ]
  },
  {
   "cell_type": "code",
   "execution_count": 5,
   "id": "9c2b1e17-a18e-4e19-9ec3-144f2e3ed61e",
   "metadata": {},
   "outputs": [
    {
     "data": {
      "text/plain": [
       "[1, 1, 1, 1, 1]"
      ]
     },
     "execution_count": 5,
     "metadata": {},
     "output_type": "execute_result"
    }
   ],
   "source": [
    "fish_target[:5]"
   ]
  },
  {
   "cell_type": "code",
   "execution_count": 6,
   "id": "bf9fd4a1-7cfb-457c-a82f-841e1ba23f67",
   "metadata": {},
   "outputs": [],
   "source": [
    "## train, test dataset 구분 \n",
    "train_input = fish_data[:35]\n",
    "train_target = fish_target[:35]\n",
    "test_input = fish_data[35:]\n",
    "test_target = fish_target[35:]"
   ]
  },
  {
   "cell_type": "code",
   "execution_count": 7,
   "id": "b4820ecd-7552-49bd-8bdb-51b480101779",
   "metadata": {},
   "outputs": [
    {
     "data": {
      "text/plain": [
       "1.0"
      ]
     },
     "execution_count": 7,
     "metadata": {},
     "output_type": "execute_result"
    }
   ],
   "source": [
    "model = KNeighborsClassifier()\n",
    "model.fit(train_input, train_target)\n",
    "model.score(train_input, train_target)"
   ]
  },
  {
   "cell_type": "code",
   "execution_count": 8,
   "id": "c225b23e-20c8-4831-b675-dad4fb83caea",
   "metadata": {},
   "outputs": [
    {
     "data": {
      "text/plain": [
       "0.0"
      ]
     },
     "execution_count": 8,
     "metadata": {},
     "output_type": "execute_result"
    }
   ],
   "source": [
    "model.score(test_input, test_target)"
   ]
  },
  {
   "cell_type": "markdown",
   "id": "77565c3b-412e-46e5-9047-755821913923",
   "metadata": {},
   "source": [
    "- train 과정에서 모델 정확도는 100% 였으나, test 과정에서는 정확도 0% \n",
    "- train dataset에 '빙어'에 대한 데이터가 없었기 때문, 샘플링 편향 발생 "
   ]
  },
  {
   "cell_type": "code",
   "execution_count": 9,
   "id": "b3337e9e-068a-4fbd-ba1c-b3cbe02dbb84",
   "metadata": {},
   "outputs": [],
   "source": [
    "## numpy로 데이터셋 생성하고, 랜덤샘플링 \n",
    "input_arr = np.array(fish_data)\n",
    "target_arr = np.array(fish_target)"
   ]
  },
  {
   "cell_type": "code",
   "execution_count": 10,
   "id": "513b40fb-0ff0-4f0d-a898-32e0880d221f",
   "metadata": {},
   "outputs": [
    {
     "name": "stdout",
     "output_type": "stream",
     "text": [
      "(49, 2)\n",
      "(49,)\n"
     ]
    }
   ],
   "source": [
    "print( input_arr.shape )\n",
    "print( target_arr.shape )"
   ]
  },
  {
   "cell_type": "code",
   "execution_count": 11,
   "id": "75900ce0-f85c-4346-92e9-0d4ce9ce1a3b",
   "metadata": {},
   "outputs": [
    {
     "data": {
      "text/plain": [
       "array([40, 46, 10, 45, 21,  3, 11,  2, 12, 27,  4, 23, 43,  8,  1, 22, 34,\n",
       "       16,  7,  5, 13, 18, 15, 47, 39, 26, 29, 35,  6, 19, 33, 17, 24, 14,\n",
       "       20,  0, 25, 41,  9, 48, 38, 42, 28, 30, 44, 36, 32, 37, 31])"
      ]
     },
     "execution_count": 11,
     "metadata": {},
     "output_type": "execute_result"
    }
   ],
   "source": [
    "index = np.arange(49)\n",
    "np.random.shuffle(index)\n",
    "\n",
    "index"
   ]
  },
  {
   "cell_type": "code",
   "execution_count": 12,
   "id": "31004902-1209-413c-bd15-cb388dc70fd8",
   "metadata": {},
   "outputs": [],
   "source": [
    "train_input = input_arr[index[:35]]\n",
    "train_target = target_arr[index[:35]]\n",
    "\n",
    "test_input = input_arr[index[35:]]\n",
    "test_target = target_arr[index[35:]]"
   ]
  },
  {
   "cell_type": "code",
   "execution_count": 13,
   "id": "8029b9b0-10b5-4346-831f-ec674c96a103",
   "metadata": {},
   "outputs": [
    {
     "data": {
      "image/png": "[encoded data removed]",
      "text/plain": [
       "<Figure size 432x288 with 1 Axes>"
      ]
     },
     "metadata": {
      "needs_background": "light"
     },
     "output_type": "display_data"
    }
   ],
   "source": [
    "import matplotlib.pyplot as plt \n",
    "\n",
    "plt.scatter(train_input[:, 0], train_input[:, 1])\n",
    "plt.scatter(test_input[:, 0], test_input[:, 1])\n",
    "plt.xlabel('length')\n",
    "plt.ylabel('weight')\n",
    "plt.show()"
   ]
  },
  {
   "cell_type": "code",
   "execution_count": 14,
   "id": "a6eae2e1-7bfd-45eb-8a6b-5759b9c2d00a",
   "metadata": {},
   "outputs": [
    {
     "data": {
      "text/plain": [
       "1.0"
      ]
     },
     "execution_count": 14,
     "metadata": {},
     "output_type": "execute_result"
    }
   ],
   "source": [
    "## 랜덤샘플링된 데이터셋(도미, 빙어가 골고루 섞인)으로 다시 모델학습 \n",
    "model.fit(train_input, train_target)\n",
    "model.score(test_input, test_target)"
   ]
  },
  {
   "cell_type": "code",
   "execution_count": 15,
   "id": "cbdb2e0e-9ae3-4580-9117-55d683b01226",
   "metadata": {},
   "outputs": [
    {
     "name": "stdout",
     "output_type": "stream",
     "text": [
      "[1 1 0 1 0 0 0 1 1 0 0 1 0 1]\n",
      "-------------------------------------------------------\n",
      "[1 1 0 1 0 0 0 1 1 0 0 1 0 1]\n"
     ]
    }
   ],
   "source": [
    "## 실제 값(test set)과 모형이 예측한 값을 비교해보자 \n",
    "print( test_target ) \n",
    "print ('-------------------------------------------------------')\n",
    "print( model.predict(test_input) )"
   ]
  },
  {
   "cell_type": "code",
   "execution_count": null,
   "id": "429dbf95-4c7c-40f1-b096-f304b91e4218",
   "metadata": {},
   "outputs": [],
   "source": []
  },
  {
   "cell_type": "markdown",
   "id": "b5d254c0-6c81-453f-8e14-949b4e60084a",
   "metadata": {},
   "source": [
    "## 02-2 데이터 전처리 ▶️정교한 결과 도출을 위한 데이터 전처리 알아보기"
   ]
  },
  {
   "cell_type": "code",
   "execution_count": 16,
   "id": "8c8a40b9-4e52-43f0-afb7-c2f57156cf35",
   "metadata": {},
   "outputs": [],
   "source": [
    "## dataset 준비 \n",
    "fish_length = [25.4, 26.3, 26.5, 29.0, 29.0, 29.7, 29.7, 30.0, 30.0, 30.7, 31.0, 31.0, \n",
    "                31.5, 32.0, 32.0, 32.0, 33.0, 33.0, 33.5, 33.5, 34.0, 34.0, 34.5, 35.0, \n",
    "                35.0, 35.0, 35.0, 36.0, 36.0, 37.0, 38.5, 38.5, 39.5, 41.0, 41.0, 9.8, \n",
    "                10.5, 10.6, 11.0, 11.2, 11.3, 11.8, 11.8, 12.0, 12.2, 12.4, 13.0, 14.3, 15.0]\n",
    "\n",
    "fish_weight = [242.0, 290.0, 340.0, 363.0, 430.0, 450.0, 500.0, 390.0, 450.0, 500.0, 475.0, 500.0, \n",
    "                500.0, 340.0, 600.0, 600.0, 700.0, 700.0, 610.0, 650.0, 575.0, 685.0, 620.0, 680.0, \n",
    "                700.0, 725.0, 720.0, 714.0, 850.0, 1000.0, 920.0, 955.0, 925.0, 975.0, 950.0, 6.7, \n",
    "                7.5, 7.0, 9.7, 9.8, 8.7, 10.0, 9.9, 9.8, 12.2, 13.4, 12.2, 19.7, 19.9]"
   ]
  },
  {
   "cell_type": "code",
   "execution_count": 17,
   "id": "10699946-abf7-47a4-b6b2-6ec7b726997e",
   "metadata": {},
   "outputs": [],
   "source": [
    "## numpy - column_stack, concatenate, ones, zeros를 활용하여 데이터셋 만들기 \n",
    "fish_data = np.column_stack((fish_length, fish_weight))\n",
    "fish_target = np.concatenate((np.ones(35), np.zeros(14)))"
   ]
  },
  {
   "cell_type": "code",
   "execution_count": 18,
   "id": "c94638ea-2b74-47b3-9f48-9ceb504061f7",
   "metadata": {},
   "outputs": [],
   "source": [
    "## 사이킷런으로 tain/test datset 분리 (default = 25%를 test set으로 분리함)\n",
    "from sklearn.model_selection import train_test_split \n",
    "\n",
    "train_input, test_input, train_target, test_target = train_test_split(fish_data, fish_target, random_state = 42)"
   ]
  },
  {
   "cell_type": "code",
   "execution_count": 19,
   "id": "1c13b9fe-6819-4ba6-9d41-af20b0378ff5",
   "metadata": {},
   "outputs": [
    {
     "data": {
      "text/plain": [
       "array([1., 0., 0., 0., 1., 1., 1., 1., 1., 1., 1., 1., 1.])"
      ]
     },
     "execution_count": 19,
     "metadata": {},
     "output_type": "execute_result"
    }
   ],
   "source": [
    "test_target"
   ]
  },
  {
   "cell_type": "markdown",
   "id": "54fd2d5b-d1ff-425b-a2f5-70c324629108",
   "metadata": {},
   "source": [
    "- 원래 도미:빙어 = 35:14(2.5:1), 반면 사이킷런에 의해 분리된 샘플에서 도미:빙어 = 10:3(3.3:1) \n",
    "- train_test_split 에서 층화추출(stratify = fish_target) 옵션을 줘야 한다. "
   ]
  },
  {
   "cell_type": "code",
   "execution_count": 20,
   "id": "978db073-5b02-4d57-86d7-69f337de01e2",
   "metadata": {},
   "outputs": [
    {
     "data": {
      "text/plain": [
       "array([0., 0., 1., 0., 1., 0., 1., 1., 1., 1., 1., 1., 1.])"
      ]
     },
     "execution_count": 20,
     "metadata": {},
     "output_type": "execute_result"
    }
   ],
   "source": [
    "train_input, test_input, train_target, test_target = train_test_split(fish_data, fish_target, stratify = fish_target, random_state = 42)\n",
    "test_target"
   ]
  },
  {
   "cell_type": "code",
   "execution_count": 21,
   "id": "187cc1f2-10b3-47aa-8e71-4ca2a5f636aa",
   "metadata": {},
   "outputs": [
    {
     "data": {
      "text/plain": [
       "1.0"
      ]
     },
     "execution_count": 21,
     "metadata": {},
     "output_type": "execute_result"
    }
   ],
   "source": [
    "from sklearn.neighbors import KNeighborsClassifier\n",
    "model = KNeighborsClassifier()\n",
    "model.fit(train_input, train_target)\n",
    "model.score(test_input, test_target)"
   ]
  },
  {
   "cell_type": "markdown",
   "id": "84fad976-10c3-4e55-b2a7-a2ae46403064",
   "metadata": {},
   "source": [
    "- 길이 24, 무게 150인 생선이 도미인지 빙어인지 모델을 사용해 예측해 보자 "
   ]
  },
  {
   "cell_type": "code",
   "execution_count": 22,
   "id": "b26a47ac-6bb8-4186-9fb8-4e72605936d4",
   "metadata": {},
   "outputs": [
    {
     "data": {
      "text/plain": [
       "array([0.])"
      ]
     },
     "execution_count": 22,
     "metadata": {},
     "output_type": "execute_result"
    }
   ],
   "source": [
    "model.predict([[24, 150]])"
   ]
  },
  {
   "cell_type": "code",
   "execution_count": 23,
   "id": "5088f672-9af2-487c-a88e-6edaf46e32fb",
   "metadata": {},
   "outputs": [
    {
     "data": {
      "image/png": "[encoded data removed]",
      "text/plain": [
       "<Figure size 432x288 with 1 Axes>"
      ]
     },
     "metadata": {
      "needs_background": "light"
     },
     "output_type": "display_data"
    }
   ],
   "source": [
    "## 모델은 빙어로 판단했으나, 산점도 상에서 보면 도미에 가까워 보인다. x,y축의 scale이 다르기 때문이다. \n",
    "## 만약 x, y축을 동일 scale로 변환해서 본다면, x축의 점들간 거리는 y축 점들간 거리에 비해 움직임이 매우 미미한 수준으로 판단될 것이다. \n",
    "plt.scatter(train_input[:,0], train_input[:,1])\n",
    "plt.scatter(24, 150, marker = '^')\n",
    "plt.xlabel('length')\n",
    "plt.ylabel('weight')\n",
    "plt.show()"
   ]
  },
  {
   "cell_type": "code",
   "execution_count": 30,
   "id": "d26db634-c048-42cf-a18a-77c1ca9f31a8",
   "metadata": {},
   "outputs": [
    {
     "name": "stdout",
     "output_type": "stream",
     "text": [
      "[ 27.29722222 454.09722222] [  9.98244253 323.29893931]\n"
     ]
    }
   ],
   "source": [
    "## 데이터를 표준화 하라 (z-score : 값과 평균의 차이를 표준편차로 나누어 준다.)\n",
    "mean = np.mean(train_input, axis = 0)\n",
    "std = np.std(train_input, axis = 0)\n",
    "\n",
    "print(mean, std)"
   ]
  },
  {
   "cell_type": "code",
   "execution_count": 25,
   "id": "7219edf1-baf1-4e55-9527-2be8a65bb998",
   "metadata": {},
   "outputs": [
    {
     "data": {
      "text/plain": [
       "(36, 2)"
      ]
     },
     "execution_count": 25,
     "metadata": {},
     "output_type": "execute_result"
    }
   ],
   "source": [
    "train_scaled = (train_input - mean) / std\n",
    "train_scaled.shape"
   ]
  },
  {
   "cell_type": "code",
   "execution_count": 26,
   "id": "8718790e-a1a0-4eb6-b6ff-5a22cc3b29ae",
   "metadata": {},
   "outputs": [
    {
     "data": {
      "text/plain": [
       "(13, 2)"
      ]
     },
     "execution_count": 26,
     "metadata": {},
     "output_type": "execute_result"
    }
   ],
   "source": [
    "test_scaled = (test_input - mean) / std\n",
    "test_scaled.shape"
   ]
  },
  {
   "cell_type": "code",
   "execution_count": 27,
   "id": "d5b55f5a-ce20-4da5-b511-e2b1b41aa34c",
   "metadata": {},
   "outputs": [
    {
     "data": {
      "text/plain": [
       "1.0"
      ]
     },
     "execution_count": 27,
     "metadata": {},
     "output_type": "execute_result"
    }
   ],
   "source": [
    "## train/test에 사용되는 데이터를 모두 표준화된 것으로 사용해야 함 \n",
    "model_2 = KNeighborsClassifier()\n",
    "model_2.fit(train_scaled, train_target)\n",
    "model_2.score(test_scaled, test_target)"
   ]
  },
  {
   "cell_type": "code",
   "execution_count": 28,
   "id": "96ae89e4-bfb2-4b00-a40f-8a49489cfcdd",
   "metadata": {},
   "outputs": [
    {
     "data": {
      "text/plain": [
       "array([-0.33030215, -0.94060693])"
      ]
     },
     "execution_count": 28,
     "metadata": {},
     "output_type": "execute_result"
    }
   ],
   "source": [
    "## 새로운(예측대상) 생선의 길이와 무게도 표준화 해야 함 \n",
    "new_fish_scaled = ([24, 150] - mean) / std \n",
    "new_fish_scaled"
   ]
  },
  {
   "cell_type": "code",
   "execution_count": 29,
   "id": "bd58e09b-8b2c-4727-b417-9722d4e75c0a",
   "metadata": {},
   "outputs": [
    {
     "data": {
      "text/plain": [
       "array([1.])"
      ]
     },
     "execution_count": 29,
     "metadata": {},
     "output_type": "execute_result"
    }
   ],
   "source": [
    "model_2.predict([new_fish_scaled])"
   ]
  },
  {
   "cell_type": "markdown",
   "id": "658e1a8a-37af-456c-a20d-d7041bb0ee9e",
   "metadata": {},
   "source": [
    "- (성공) 모델 정확도 100%, 길이 24 & 무게 150인 생선을 도미로 예측"
   ]
  },
  {
   "cell_type": "code",
   "execution_count": null,
   "id": "ba854127-22e1-45f2-ac25-163fe54786f6",
   "metadata": {},
   "outputs": [],
   "source": []
  }
 ],
 "metadata": {
  "kernelspec": {
   "display_name": "Python 3",
   "language": "python",
   "name": "python3"
  },
  "language_info": {
   "codemirror_mode": {
    "name": "ipython",
    "version": 3
   },
   "file_extension": ".py",
   "mimetype": "text/x-python",
   "name": "python",
   "nbconvert_exporter": "python",
   "pygments_lexer": "ipython3",
   "version": "3.8.8"
  }
 },
 "nbformat": 4,
 "nbformat_minor": 5
}
