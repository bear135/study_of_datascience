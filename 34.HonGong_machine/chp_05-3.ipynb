{
 "cells": [
  {
   "cell_type": "markdown",
   "id": "3edbd7bc-8fed-42b8-81ca-9615cdc14b58",
   "metadata": {},
   "source": [
    "### Chapter 05 트리 알고리즘 ▶️화이트 와인을 찾아라!\n",
    "#### 05-3 트리의 앙상블 ▶️ 앙상블 학습을 알고 실습해 보기"
   ]
  },
  {
   "cell_type": "markdown",
   "id": "39de627d-a332-45d7-aeef-25d715ff6472",
   "metadata": {},
   "source": [
    "------"
   ]
  },
  {
   "cell_type": "markdown",
   "id": "d3c92f81-a0ca-4b1b-bd35-e40b7423ef42",
   "metadata": {},
   "source": [
    "#### - Random Forest : Ensemble 학슨의 대표주자 중 하나, 안정적 성능때문에 널리 사용됨 \n",
    "#### - R/F는 여러개의 결정트리를 랜덤하게 만드는데, 이를 위해 훈련 데이터로 부터 랜덤하게 샘플을 추출한다. \n",
    "#### - 추출된 샘플을 Boostrap sample이라 하며, 보통 훈련세트의 크기와 같은 수의 Bootstrap sample을 추출한다. \n",
    "- ex> train dataset이 1000개라면, bootstrap 샘플은 랜덤하게 100개씩 10번 추출하는 식으로 1000개의 샘플을 만든다. \n",
    "- ex> 샘플 추출시 이때 처음 추출된 100개를 다시 원복시키고, 다음 샘플링을 진행함 (Booststrap의 원래 의미는 중복을 허용하는 데이터 샘플링임) \n",
    "\n",
    "#### - 사이킷런의 랜덤포레스트는 1) RandomForestClassifier와 2) RandomForestRegressor \n",
    "- ex> RandomForestClassifier는 가장 높은 확률을, RandomForestRegressor는 각 트리의 평균을 예측치로 사용함 "
   ]
  },
  {
   "cell_type": "code",
   "execution_count": 2,
   "id": "a26918df-367b-4dc8-b5f0-7332573f3fc8",
   "metadata": {},
   "outputs": [],
   "source": [
    "import numpy as np\n",
    "import pandas as pd\n",
    "from sklearn.model_selection import train_test_split"
   ]
  },
  {
   "cell_type": "code",
   "execution_count": 5,
   "id": "ddafd501-75f2-40b7-8057-a96b7eb6ec8b",
   "metadata": {},
   "outputs": [
    {
     "name": "stdout",
     "output_type": "stream",
     "text": [
      "(6497, 4)\n"
     ]
    },
    {
     "data": {
      "text/html": [
       "<div>\n",
       "<style scoped>\n",
       "    .dataframe tbody tr th:only-of-type {\n",
       "        vertical-align: middle;\n",
       "    }\n",
       "\n",
       "    .dataframe tbody tr th {\n",
       "        vertical-align: top;\n",
       "    }\n",
       "\n",
       "    .dataframe thead th {\n",
       "        text-align: right;\n",
       "    }\n",
       "</style>\n",
       "<table border=\"1\" class=\"dataframe\">\n",
       "  <thead>\n",
       "    <tr style=\"text-align: right;\">\n",
       "      <th></th>\n",
       "      <th>alcohol</th>\n",
       "      <th>sugar</th>\n",
       "      <th>pH</th>\n",
       "      <th>class</th>\n",
       "    </tr>\n",
       "  </thead>\n",
       "  <tbody>\n",
       "    <tr>\n",
       "      <th>0</th>\n",
       "      <td>9.4</td>\n",
       "      <td>1.9</td>\n",
       "      <td>3.51</td>\n",
       "      <td>0.0</td>\n",
       "    </tr>\n",
       "    <tr>\n",
       "      <th>1</th>\n",
       "      <td>9.8</td>\n",
       "      <td>2.6</td>\n",
       "      <td>3.20</td>\n",
       "      <td>0.0</td>\n",
       "    </tr>\n",
       "    <tr>\n",
       "      <th>2</th>\n",
       "      <td>9.8</td>\n",
       "      <td>2.3</td>\n",
       "      <td>3.26</td>\n",
       "      <td>0.0</td>\n",
       "    </tr>\n",
       "    <tr>\n",
       "      <th>3</th>\n",
       "      <td>9.8</td>\n",
       "      <td>1.9</td>\n",
       "      <td>3.16</td>\n",
       "      <td>0.0</td>\n",
       "    </tr>\n",
       "    <tr>\n",
       "      <th>4</th>\n",
       "      <td>9.4</td>\n",
       "      <td>1.9</td>\n",
       "      <td>3.51</td>\n",
       "      <td>0.0</td>\n",
       "    </tr>\n",
       "  </tbody>\n",
       "</table>\n",
       "</div>"
      ],
      "text/plain": [
       "   alcohol  sugar    pH  class\n",
       "0      9.4    1.9  3.51    0.0\n",
       "1      9.8    2.6  3.20    0.0\n",
       "2      9.8    2.3  3.26    0.0\n",
       "3      9.8    1.9  3.16    0.0\n",
       "4      9.4    1.9  3.51    0.0"
      ]
     },
     "execution_count": 5,
     "metadata": {},
     "output_type": "execute_result"
    }
   ],
   "source": [
    "wine = pd.read_csv(\"http://bit.ly/wine_csv_data\")\n",
    "print(wine.shape)\n",
    "wine.head()"
   ]
  },
  {
   "cell_type": "code",
   "execution_count": 11,
   "id": "60fecf51-01c6-4d75-a077-5d19c9044792",
   "metadata": {},
   "outputs": [],
   "source": [
    "## train, test dataset split \n",
    "data = wine[['alcohol','sugar','pH']].to_numpy()\n",
    "target = wine['class'].to_numpy()\n",
    "\n",
    "train_input, test_input, train_target, test_target = train_test_split(\n",
    "    data, target, test_size = 0.2, random_state = 42)"
   ]
  },
  {
   "cell_type": "markdown",
   "id": "6d6c1764-d0af-4a73-ad9a-c1e3221edc79",
   "metadata": {},
   "source": [
    "#### 1. RandomForestClassifier를 실행하고 cross_validate()를 통해 교차검증 해보자 \n",
    "- n_jobs = k : k개의 cpu core를 사용하라는 뜻, -1이면 가용한 모든 코어를 사용 \n",
    "- return_train_score = True : 훈련세트에 대한 점수도 출력하라는 뜻 (검증세트에 대한 점수와 비교하기 위해) "
   ]
  },
  {
   "cell_type": "code",
   "execution_count": 16,
   "id": "b918ee71-994b-41d1-8940-6be244f721bc",
   "metadata": {},
   "outputs": [
    {
     "name": "stdout",
     "output_type": "stream",
     "text": [
      "train_score = 0.9973541965122431\n",
      "test_score = 0.8905151032797809\n"
     ]
    }
   ],
   "source": [
    "from sklearn.model_selection import cross_validate \n",
    "from sklearn.ensemble import RandomForestClassifier\n",
    "\n",
    "rf = RandomForestClassifier(n_jobs = -1, random_state = 42)\n",
    "score = cross_validate(rf, train_input, train_target, return_train_score = True, n_jobs = -1)\n",
    "\n",
    "print('train_score =', np.mean(score['train_score']) )\n",
    "print('test_score =', np.mean(score['test_score']) )"
   ]
  },
  {
   "cell_type": "code",
   "execution_count": 19,
   "id": "232c9018-698a-447b-8cb6-0f08a4c81b37",
   "metadata": {},
   "outputs": [
    {
     "name": "stdout",
     "output_type": "stream",
     "text": [
      "features = alcohol, sugar, pH\n",
      "importances = [0.23167441 0.50039841 0.26792718]\n"
     ]
    }
   ],
   "source": [
    "rf.fit(train_input, train_target)\n",
    "\n",
    "print('features = alcohol, sugar, pH')\n",
    "print('importances =' , rf.feature_importances_)"
   ]
  },
  {
   "cell_type": "markdown",
   "id": "32f67f26-cef8-4893-bed2-0456f079904c",
   "metadata": {},
   "source": [
    "#### - Decision Tree의 feature importances ([0.1234, 0.8686, 0.0079])대비, sugar의 중요도가 감소하고 alcole과 pH 중요도는 증가 \n",
    "#### - 다수의 샘플을 훈련시킨 결과 -> RandomForest는 overfitting을 줄이고 모델일 일반화 시키는데 유용함 \n",
    "------"
   ]
  },
  {
   "cell_type": "markdown",
   "id": "9d26170c-d996-4d90-9b70-29da9c87b921",
   "metadata": {},
   "source": [
    "#### 2. Extra Trees : Random Forest와 유사하나, Bootstrap을 사용하지 않고 전체 훈련세트를 무작위로 분할함 \n",
    "- 사이킷런의 ExtraTreesClasslfier, ExtraTreesRegressor "
   ]
  },
  {
   "cell_type": "code",
   "execution_count": 21,
   "id": "51430648-ec8a-4f67-aa96-cb8d7c3dc8c4",
   "metadata": {},
   "outputs": [
    {
     "name": "stdout",
     "output_type": "stream",
     "text": [
      "train_score = 0.9973541965122431\n",
      "test_score = 0.8905151032797809\n"
     ]
    }
   ],
   "source": [
    "from sklearn.ensemble import ExtraTreesClassifier\n",
    "et = ExtraTreesClassifier(n_jobs = -1, random_state = 42)\n",
    "scores = cross_validate(et, train_input, train_target, return_train_score = True, n_jobs = -1)\n",
    "\n",
    "print('train_score =', np.mean(score['train_score']) )\n",
    "print('test_score =', np.mean(score['test_score']) )"
   ]
  },
  {
   "cell_type": "code",
   "execution_count": 22,
   "id": "cd6c6d1e-c1e5-4c16-9b4f-9ec3fdc51409",
   "metadata": {},
   "outputs": [
    {
     "name": "stdout",
     "output_type": "stream",
     "text": [
      "features = alcohol, sugar, pH\n",
      "importances = [0.20183568 0.52242907 0.27573525]\n"
     ]
    }
   ],
   "source": [
    "et.fit(train_input, train_target)\n",
    "print('features = alcohol, sugar, pH')\n",
    "print('importances =' , et.feature_importances_)"
   ]
  },
  {
   "cell_type": "markdown",
   "id": "36871017-13df-466c-9377-30217d237f7e",
   "metadata": {},
   "source": [
    "----"
   ]
  },
  {
   "cell_type": "markdown",
   "id": "7dfedecf-c63c-4b0f-893e-bdf40180eaf4",
   "metadata": {},
   "source": [
    "#### 3. Gradient Boosting \n",
    "- Overfitting 방지를 위해 깊이가 얕은 결정트리를 사용하여 이전 트리의 오차를 보완 \n",
    "- sklearn의 GradientBoostingClassifier : 깊이 3인 트리 100개를 사용 "
   ]
  },
  {
   "cell_type": "code",
   "execution_count": 38,
   "id": "a6c62015-d503-4ebe-9c5a-f612cd6ceffb",
   "metadata": {},
   "outputs": [
    {
     "name": "stdout",
     "output_type": "stream",
     "text": [
      "train_score = 0.8881086892152563\n",
      "test_score = 0.8720430147331015\n"
     ]
    }
   ],
   "source": [
    "from sklearn.ensemble import GradientBoostingClassifier \n",
    "gb = GradientBoostingClassifier(random_state = 42)\n",
    "\n",
    "score = cross_validate(gb, train_input, train_target, return_train_score = True, n_jobs = -1)\n",
    "\n",
    "print('train_score =', np.mean(score['train_score']) )\n",
    "print('test_score =', np.mean(score['test_score']) )"
   ]
  },
  {
   "cell_type": "code",
   "execution_count": 39,
   "id": "5f74a202-3604-4c55-bbb8-6e7dabbd474f",
   "metadata": {},
   "outputs": [
    {
     "name": "stdout",
     "output_type": "stream",
     "text": [
      "features = alcohol, sugar, pH\n",
      "importances = [0.11949946 0.74871836 0.13178218]\n"
     ]
    }
   ],
   "source": [
    "gb.fit(train_input, train_target)\n",
    "print('features = alcohol, sugar, pH')\n",
    "print('importances =' , gb.feature_importances_)"
   ]
  },
  {
   "cell_type": "markdown",
   "id": "3b7f7bec-874e-4ff5-b71a-c4e7366950bb",
   "metadata": {},
   "source": [
    "- overfitting은 되지 않았으나, 모형의 성능이 만족스럽지 못하다. \n",
    "- 훈련횟수를 좀더 늘여보자 ((tree의 갯수 100 -> 500)\n",
    "- GradientBoost는 훈련횟수를 늘여도 overfitting에 강하다. "
   ]
  },
  {
   "cell_type": "code",
   "execution_count": 40,
   "id": "7a50f250-2f17-492b-a328-9a4f419c0a52",
   "metadata": {},
   "outputs": [
    {
     "name": "stdout",
     "output_type": "stream",
     "text": [
      "train_score = 0.9215896435285418\n",
      "test_score = 0.8749283704745687\n"
     ]
    }
   ],
   "source": [
    "gb2 = GradientBoostingClassifier(n_estimators = 500, random_state = 42)\n",
    "\n",
    "score = cross_validate(gb2, train_input, train_target, return_train_score = True, n_jobs = -1)\n",
    "\n",
    "print('train_score =', np.mean(score['train_score']) )\n",
    "print('test_score =', np.mean(score['test_score']) )"
   ]
  },
  {
   "cell_type": "code",
   "execution_count": 41,
   "id": "875f3d3a-7f27-493e-bf5f-d134865b60b6",
   "metadata": {},
   "outputs": [
    {
     "name": "stdout",
     "output_type": "stream",
     "text": [
      "features = alcohol, sugar, pH\n",
      "importances = [0.14230296 0.70606994 0.1516271 ]\n"
     ]
    }
   ],
   "source": [
    "gb2.fit(train_input, train_target)\n",
    "print('features = alcohol, sugar, pH')\n",
    "print('importances =' , gb2.feature_importances_)"
   ]
  },
  {
   "cell_type": "markdown",
   "id": "4e4b80ca-edb2-49fd-9c96-b1d398426a64",
   "metadata": {},
   "source": [
    "----\n",
    "#### 4. Histogram-based Gradient Boosting\n",
    "- GradientBoosting의 속도와 성능 개선을 위해 사용. 먼저 input값의 특성을 256개 구간으로 구분함 \n",
    "- sklearn : HistGradientBoostingClassifier, HistGradientBoostingRegressor 제공하나...  \n",
    "- XGBoost와 LightGMB을 주로 사용함 "
   ]
  },
  {
   "cell_type": "code",
   "execution_count": 45,
   "id": "9cf84c9b-83c9-4ea1-9f0c-2538409a8e58",
   "metadata": {},
   "outputs": [
    {
     "name": "stdout",
     "output_type": "stream",
     "text": [
      "train_score = 0.9555033709953124\n",
      "test_score = 0.8799326275264677\n"
     ]
    }
   ],
   "source": [
    "#!pip install xgboost\n",
    "from xgboost import XGBClassifier\n",
    "xgb = XGBClassifier(tree_method = 'hist', random_state = 42)\n",
    "score = cross_validate(xgb, train_input, train_target, return_train_score = True)\n",
    "\n",
    "print('train_score =', np.mean(score['train_score']) )\n",
    "print('test_score =', np.mean(score['test_score']) )"
   ]
  },
  {
   "cell_type": "code",
   "execution_count": 46,
   "id": "d01226b6-f81c-4c51-a5c4-7a1ca3101838",
   "metadata": {},
   "outputs": [
    {
     "name": "stdout",
     "output_type": "stream",
     "text": [
      "features = alcohol, sugar, pH\n",
      "importances = [0.19727166 0.61559963 0.18712871]\n"
     ]
    }
   ],
   "source": [
    "xgb.fit(train_input, train_target)\n",
    "print('features = alcohol, sugar, pH')\n",
    "print('importances =' , xgb.feature_importances_)"
   ]
  },
  {
   "cell_type": "code",
   "execution_count": 47,
   "id": "2b8a72fe-1d67-417b-baa4-3f6f5daf2448",
   "metadata": {},
   "outputs": [
    {
     "name": "stdout",
     "output_type": "stream",
     "text": [
      "train_score = 0.935828414851749\n",
      "test_score = 0.8801251203079884\n"
     ]
    }
   ],
   "source": [
    "#!pip install lightgbm\n",
    "from lightgbm import LGBMClassifier\n",
    "lgbm = LGBMClassifier(random_state = 42)\n",
    "score = cross_validate(lgbm, train_input, train_target, return_train_score = True, n_jobs = -1)\n",
    "\n",
    "print('train_score =', np.mean(score['train_score']) )\n",
    "print('test_score =', np.mean(score['test_score']) )"
   ]
  },
  {
   "cell_type": "code",
   "execution_count": 48,
   "id": "ebb5fe30-a291-4197-a2e1-f05256345f9d",
   "metadata": {},
   "outputs": [
    {
     "name": "stdout",
     "output_type": "stream",
     "text": [
      "features = alcohol, sugar, pH\n",
      "importances = [ 909 1011 1080]\n"
     ]
    }
   ],
   "source": [
    "lgbm.fit(train_input, train_target)\n",
    "print('features = alcohol, sugar, pH')\n",
    "print('importances =' , lgbm.feature_importances_)"
   ]
  },
  {
   "cell_type": "markdown",
   "id": "146f10f4-2cdb-420a-9911-25ccad0b0e11",
   "metadata": {},
   "source": [
    "- [참고] LightGBM의 feature_importance 산정방식은 R/F나 XGBoost와 다르다. \n",
    "- https://hongl.tistory.com/344"
   ]
  },
  {
   "cell_type": "code",
   "execution_count": null,
   "id": "660d23df-1a07-43a7-8226-96ecb3eddfe9",
   "metadata": {},
   "outputs": [],
   "source": []
  }
 ],
 "metadata": {
  "kernelspec": {
   "display_name": "Python 3",
   "language": "python",
   "name": "python3"
  },
  "language_info": {
   "codemirror_mode": {
    "name": "ipython",
    "version": 3
   },
   "file_extension": ".py",
   "mimetype": "text/x-python",
   "name": "python",
   "nbconvert_exporter": "python",
   "pygments_lexer": "ipython3",
   "version": "3.8.8"
  }
 },
 "nbformat": 4,
 "nbformat_minor": 5
}
