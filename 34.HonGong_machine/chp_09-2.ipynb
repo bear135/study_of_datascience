{
 "cells": [
  {
   "cell_type": "markdown",
   "id": "16da4238-f1ca-4c58-a71a-15b5a3f31cce",
   "metadata": {},
   "source": [
    "## Chapter 09 텍스트를 위한 인공 신경망 ▶️한빛 마켓의 댓글을 분석하라!\n",
    "#### 09-2 순환 신경망으로 IMDB 리뷰 분류하기 ▶️텐서플로 순환 신경망으로 영화 리뷰 분류하기 \n",
    "--- \n",
    "- 먼저 영화리뷰 텍스트들인 imdb를 가져와, 각 리뷰들의 텍스트 길이를 모두 일정하게 만든다. \n",
    "- 이때 매개변수를 지정하는데, 매개변수=500이라면 자주 등장하는 500개의 word를 가지고 분석하겠다는 뜻이다. \n",
    "- 텍스트를 분석하기 위해서는 단어들을 1) One-hot coding을 통해 0과 1로 바꿔주거나, 2) Embedding을 사용하여 각 단어를 고정된 크기의 실수 벡터로 바꿔주어야 한다. \n",
    "- 자연어 처리에서 보통 embedding이 더 좋은 성능을 낸다. \n",
    "---"
   ]
  },
  {
   "cell_type": "code",
   "execution_count": 1,
   "id": "39417bf8-74f5-41f9-9554-cc7571271796",
   "metadata": {},
   "outputs": [],
   "source": [
    "import numpy as np\n",
    "import pandas as pd\n",
    "import matplotlib.pyplot as plt \n",
    "\n",
    "import tensorflow as tf\n",
    "from tensorflow import keras\n",
    "\n",
    "# 실행마다 동일한 결과를 얻기 위해 케라스에 랜덤 시드를 사용하고 텐서플로 연산을 결정적으로 만듭니다. \n",
    "tf.keras.utils.set_random_seed(42)\n",
    "tf.config.experimental.enable_op_determinism()"
   ]
  },
  {
   "cell_type": "markdown",
   "id": "d8c3727c-60ff-4665-959b-a2538ba0ca03",
   "metadata": {},
   "source": [
    "#### 1. imDB 불러오기 \n",
    "- imdb는 총 50000개의 영화리뷰 텍스트와, 텍스트의 감정상태(0:Negative, 1:Positive)를 담고 있다. \n",
    "- train/test dataset 각 25000개이며, 각 단어(tokken)들은 고유한 정수값으로 매핑되어 있다. \n",
    "- ex. \"He follows the cat. He loves the cat\" --> 10 11 12 13 10 14 12 13 "
   ]
  },
  {
   "cell_type": "code",
   "execution_count": 2,
   "id": "cbf4322a-cdcf-4e07-86f0-39e6eae7afe9",
   "metadata": {},
   "outputs": [
    {
     "name": "stdout",
     "output_type": "stream",
     "text": [
      "1.train input 형태 :  (25000,)\n",
      "2.train target 형태 :  (25000,)\n",
      "3.test input 형태 :  (25000,)\n",
      "4.test target 형태 :  (25000,)\n"
     ]
    }
   ],
   "source": [
    "## num_words = 500 : 전체 텍스트에서 자주 등장하는 500개의 단어(tokken)을 어휘사전으로써 사용하겠다는 뜻 \n",
    "## RNN의 채널차원 갯수로 사용된다. \n",
    "(train_input, train_target), (test_input, test_target) = \\\n",
    "    keras.datasets.imdb.load_data(num_words = 500)\n",
    "'''\n",
    "아래와 같이 해도 동일함 \n",
    "from tensorflow.keras.datasets import imdb \n",
    "(train_input, train_target), (test_input, test_target) = \\\n",
    "    imdb.load_data(num_words = 500)\n",
    "'''\n",
    "\n",
    "print('1.train input 형태 : ', train_input.shape)\n",
    "print('2.train target 형태 : ', train_target.shape)\n",
    "print('3.test input 형태 : ', test_input.shape)\n",
    "print('4.test target 형태 : ', test_target.shape)"
   ]
  },
  {
   "cell_type": "code",
   "execution_count": 3,
   "id": "ad2411fb-d9ad-4e66-9526-a414729a107c",
   "metadata": {},
   "outputs": [
    {
     "name": "stdout",
     "output_type": "stream",
     "text": [
      "첫번째 리뷰의 길이 =  218\n",
      "두번째 리뷰의 길이 =  189\n"
     ]
    }
   ],
   "source": [
    "print('첫번째 리뷰의 길이 = ', len(train_input[0]))\n",
    "print('두번째 리뷰의 길이 = ', len(train_input[1]))"
   ]
  },
  {
   "cell_type": "code",
   "execution_count": 4,
   "id": "8dd0c671-10e3-4d7d-9f18-2c5976dc1174",
   "metadata": {},
   "outputs": [
    {
     "name": "stdout",
     "output_type": "stream",
     "text": [
      "[1, 14, 22, 16, 43, 2, 2, 2, 2, 65, 458, 2, 66, 2, 4, 173, 36, 256, 5, 25, 100, 43, 2, 112, 50, 2, 2, 9, 35, 480, 284, 5, 150, 4, 172, 112, 167, 2, 336, 385, 39, 4, 172, 2, 2, 17, 2, 38, 13, 447, 4, 192, 50, 16, 6, 147, 2, 19, 14, 22, 4, 2, 2, 469, 4, 22, 71, 87, 12, 16, 43, 2, 38, 76, 15, 13, 2, 4, 22, 17, 2, 17, 12, 16, 2, 18, 2, 5, 62, 386, 12, 8, 316, 8, 106, 5, 4, 2, 2, 16, 480, 66, 2, 33, 4, 130, 12, 16, 38, 2, 5, 25, 124, 51, 36, 135, 48, 25, 2, 33, 6, 22, 12, 215, 28, 77, 52, 5, 14, 407, 16, 82, 2, 8, 4, 107, 117, 2, 15, 256, 4, 2, 7, 2, 5, 2, 36, 71, 43, 2, 476, 26, 400, 317, 46, 7, 4, 2, 2, 13, 104, 88, 4, 381, 15, 297, 98, 32, 2, 56, 26, 141, 6, 194, 2, 18, 4, 226, 22, 21, 134, 476, 26, 480, 5, 144, 30, 2, 18, 51, 36, 28, 224, 92, 25, 104, 4, 226, 65, 16, 38, 2, 88, 12, 16, 283, 5, 16, 2, 113, 103, 32, 15, 16, 2, 19, 178, 32]\n"
     ]
    }
   ],
   "source": [
    "## 첫번째 리뷰를 실제 출력해보기 \n",
    "## 단어(tokken)들이 정수로 매핑되어 있다. (*참고: 정수매핑시 보통 0은 패팅, 1은 문장의 시작, 2는 어휘사전에 없는 단어에 매팽시킨다.)\n",
    "print( train_input[0] )"
   ]
  },
  {
   "cell_type": "code",
   "execution_count": 5,
   "id": "53dfe046-6efb-427d-93bf-8d6cd7634f9e",
   "metadata": {},
   "outputs": [
    {
     "data": {
      "text/plain": [
       "array([1, 0, 0, 1, 0, 0, 1, 0, 1, 0], dtype=int64)"
      ]
     },
     "execution_count": 5,
     "metadata": {},
     "output_type": "execute_result"
    }
   ],
   "source": [
    "## target 데이터는 0: negative, 1:positive로 매핑되어 있다. \n",
    "train_target[:10]"
   ]
  },
  {
   "cell_type": "code",
   "execution_count": 6,
   "id": "fcf58e45-d7d0-4816-a8be-8b44cb28bb03",
   "metadata": {},
   "outputs": [
    {
     "name": "stdout",
     "output_type": "stream",
     "text": [
      "빈도수 상위 1등 단어 : {} the\n",
      "빈도수 상위 100등 단어 : {} could\n",
      "<sos> this film was just <unk> <unk> <unk> <unk> story direction <unk> really <unk> the part they played and you could just <unk> being there <unk> <unk> is an amazing actor and now the same being director <unk> father came from the same <unk> <unk> as <unk> so i loved the fact there was a real <unk> with this film the <unk> <unk> throughout the film were great it was just <unk> so much that i <unk> the film as <unk> as it was <unk> for <unk> and would recommend it to everyone to watch and the <unk> <unk> was amazing really <unk> at the end it was so <unk> and you know what they say if you <unk> at a film it must have been good and this definitely was also <unk> to the two little <unk> that played the <unk> of <unk> and <unk> they were just <unk> children are often left out of the <unk> <unk> i think because the stars that play them all <unk> up are such a big <unk> for the whole film but these children are amazing and should be <unk> for what they have done don't you think the whole story was so <unk> because it was true and was <unk> life after all that was <unk> with us all\n"
     ]
    }
   ],
   "source": [
    "## cf. imdb.get_word_index()에 각 단어와 맵핑되는 정수가 저장되어져 있음. \n",
    "## 주의할 점은 imdb.get_word_index()에 저장된 값에 +3을 해야 실제 맵핑되는 정수임(IMDB 리뷰 데이터셋에서 정한 규칙) \n",
    "## index_to_word에 인덱스를 집어넣으면 전처리 전에 어떤 단어였는지 확인할 수 있음. \n",
    "## 0, 1, 2, 3은 특별 토큰으로 취급. 그래서 정수 4부터가 실제 IMDB 리뷰 데이터셋에서 빈도수가 가장 높은 실제 영단어임 \n",
    "## 아래는 정수로 매핑된 데이터를 인덱스와 매칭하여 실제 텍스트로 변환/확인하는 방법임 \n",
    "from tensorflow.keras.datasets import imdb \n",
    "\n",
    "word_to_index = imdb.get_word_index()\n",
    "index_to_word = {}\n",
    "for key, value in word_to_index.items():\n",
    "    index_to_word[value+3] = key\n",
    "    \n",
    "print('빈도수 상위 1등 단어 : {}', index_to_word[4])\n",
    "print('빈도수 상위 100등 단어 : {}', index_to_word[100])\n",
    "\n",
    "for index, token in enumerate((\"<pad>\", \"<sos>\", \"<unk>\")):index_to_word[index] = token\n",
    "\n",
    "print(' '.join([index_to_word[index] for index in train_input[0]]))"
   ]
  },
  {
   "cell_type": "code",
   "execution_count": 7,
   "id": "8dad6091-d837-4806-89a0-663148ff097a",
   "metadata": {},
   "outputs": [
    {
     "name": "stdout",
     "output_type": "stream",
     "text": [
      "(20000,)\n",
      "(5000,)\n",
      "(20000,)\n",
      "(5000,)\n"
     ]
    }
   ],
   "source": [
    "## train set의 20%를 검증용 데이터셋으로 분리 \n",
    "from sklearn.model_selection import train_test_split\n",
    "train_input, val_input, train_target, val_target = train_test_split(\n",
    "    train_input, train_target, test_size = 0.2, random_state = 42 )\n",
    "\n",
    "print( train_input.shape )\n",
    "print( val_input.shape )\n",
    "print( train_target.shape )\n",
    "print( val_target.shape )"
   ]
  },
  {
   "cell_type": "markdown",
   "id": "98038076-0b0d-4deb-8284-c14b3f0dc7e7",
   "metadata": {},
   "source": [
    "--- \n",
    "#### 2. padding을 통해 모든 리뷰들의 길이를 일정하게 만들기 \n",
    "- 몇글자 안되는 짧은 리뷰, 매우 긴 장문의 리뷰 등등 --> 정해진 길이를 기준으로 길면 잘라내고, 모자라면 0으로 채운다. "
   ]
  },
  {
   "cell_type": "code",
   "execution_count": 8,
   "id": "615e4cba-7a23-40f8-bd14-d733a3de9d7f",
   "metadata": {},
   "outputs": [
    {
     "name": "stdout",
     "output_type": "stream",
     "text": [
      "- 전체 리뷰의 갯수는 =  (20000,)\n",
      "- 리뷰길이의 평균은 =  239.00925\n",
      "- 리뷰길이의 표준편차는 =  176.67367592382715\n",
      "- 리뷰길이의 최소값은 =  11\n",
      "- 리뷰길이의 최대값은 =  1854\n"
     ]
    },
    {
     "data": {
      "image/png": "[encoded data removed]",
      "text/plain": [
       "<Figure size 432x288 with 1 Axes>"
      ]
     },
     "metadata": {
      "needs_background": "light"
     },
     "output_type": "display_data"
    }
   ],
   "source": [
    "## 리뷰의 길이들이 어떤지 살펴보기 \n",
    "lengths = [len(x) for x in train_input]\n",
    "\n",
    "print('- 전체 리뷰의 갯수는 = ' , np.array(lengths).shape ) \n",
    "print('- 리뷰길이의 평균은 = ' , np.mean(lengths) )\n",
    "print('- 리뷰길이의 표준편차는 = ' , np.std(lengths) )\n",
    "print('- 리뷰길이의 최소값은 = ' , np.min(lengths) )\n",
    "print('- 리뷰길이의 최대값은 = ' , np.max(lengths) )\n",
    "\n",
    "plt.hist(lengths)\n",
    "plt.xlabel('length')\n",
    "plt.ylabel('frequency')\n",
    "plt.show()"
   ]
  },
  {
   "cell_type": "markdown",
   "id": "7a92b8c3-e40b-487d-b0dc-64646ad9e43b",
   "metadata": {},
   "source": [
    "- 대부분의 리뷰들은 길이가 300개 이하이나, 일부 매우 긴 것들도 존재함 \n",
    "- 분석을 위해 최대 길이를 통일시켜야 할 필요가 있음 "
   ]
  },
  {
   "cell_type": "markdown",
   "id": "9329eb00-d238-4bc0-bd0b-fe2a90f47f53",
   "metadata": {},
   "source": [
    "----\n",
    "#### 2. pad_sequence() 사용하여 길이 맞추기"
   ]
  },
  {
   "cell_type": "code",
   "execution_count": 9,
   "id": "e2a8b78e-ef73-462d-b1d4-fdd95ad9ffc0",
   "metadata": {},
   "outputs": [
    {
     "name": "stdout",
     "output_type": "stream",
     "text": [
      "(20000, 100)\n",
      "(5000, 100)\n"
     ]
    }
   ],
   "source": [
    "## 20000개의 데이터(리뷰)를 최대길이 100으로 맞춰준다. \n",
    "## pad_sequences는 기본적으로 데이터의 앞부분을 제거한다. 텍스트의 뒷부분이 더 중요할 것이라는 전제 ... \n",
    "from tensorflow.keras.preprocessing.sequence import pad_sequences\n",
    "train_seq = pad_sequences(train_input, maxlen = 100)\n",
    "val_seq = pad_sequences(val_input, maxlen = 100)\n",
    "\n",
    "print(train_seq.shape)\n",
    "print(val_seq.shape)"
   ]
  },
  {
   "cell_type": "code",
   "execution_count": 10,
   "id": "d647f5ca-fd97-4dd3-a1b4-974451c7f8ec",
   "metadata": {},
   "outputs": [
    {
     "name": "stdout",
     "output_type": "stream",
     "text": [
      "259\n",
      "[  0   0   0   0   1   2 195  19  49   2   2 190   4   2 352   2 183  10\n",
      "  10  13  82  79   4   2  36  71 269   8   2  25  19  49   7   4   2   2\n",
      "   2   2   2  10  10  48  25  40   2  11   2   2  40   2   2   5   4   2\n",
      "   2  95  14 238  56 129   2  10  10  21   2  94 364 352   2   2  11 190\n",
      "  24 484   2   7  94 205 405  10  10  87   2  34  49   2   7   2   2   2\n",
      "   2   2 290   2  46  48  64  18   4   2]\n"
     ]
    }
   ],
   "source": [
    "print(len(train_input[0]))\n",
    "print(train_seq[5])"
   ]
  },
  {
   "cell_type": "markdown",
   "id": "d0bfaa16-f374-4a35-be67-e18e1e731d93",
   "metadata": {},
   "source": [
    "- 첫번째 텍스트 길이는 100보다 길다, 따라서 앞부분을 잘라내었다. "
   ]
  },
  {
   "cell_type": "code",
   "execution_count": 11,
   "id": "e59b76fb-33e1-4db9-9c43-3acc73c678e2",
   "metadata": {},
   "outputs": [
    {
     "name": "stdout",
     "output_type": "stream",
     "text": [
      "96\n",
      "[  0   0   0   0   1   2 195  19  49   2   2 190   4   2 352   2 183  10\n",
      "  10  13  82  79   4   2  36  71 269   8   2  25  19  49   7   4   2   2\n",
      "   2   2   2  10  10  48  25  40   2  11   2   2  40   2   2   5   4   2\n",
      "   2  95  14 238  56 129   2  10  10  21   2  94 364 352   2   2  11 190\n",
      "  24 484   2   7  94 205 405  10  10  87   2  34  49   2   7   2   2   2\n",
      "   2   2 290   2  46  48  64  18   4   2]\n"
     ]
    }
   ],
   "source": [
    "print(len(train_input[5]))\n",
    "print(train_seq[5])"
   ]
  },
  {
   "cell_type": "markdown",
   "id": "307f47e3-a1bf-49a6-ac41-513ac3b563f7",
   "metadata": {},
   "source": [
    "- 이 경우 텍스트 길이가 100보다 짧아 모자란 앞부분이 4개가 0으로 대체되었다. "
   ]
  },
  {
   "cell_type": "markdown",
   "id": "b82ff765-92f8-4295-8bb6-5101a280661d",
   "metadata": {},
   "source": [
    "--- \n",
    "#### 3. RNN 구성 - 1) one-hot encoding \n",
    "- 임의로 8개의 뉴련을 배치한다. 출력층은 0과 1을 구분하는 것이므로, 1개의 뉴런이고 함수는 sigmoid \n",
    "- 입력값의 형태는 길이가 100개 이고, 라이브러리가 500개이므로 one-hot 인코딩시 500개의 차원이다. \n",
    "- 입력값 train_seq의 tokken들이 정수형태인데, 여기서는 정수의 크기가 의미를 가지면 안되기 때문에 one-hot 인코딩이 필요함"
   ]
  },
  {
   "cell_type": "code",
   "execution_count": 12,
   "id": "55450747-784f-4306-956c-73ad4eea0a7d",
   "metadata": {},
   "outputs": [
    {
     "name": "stdout",
     "output_type": "stream",
     "text": [
      "Model: \"sequential\"\n",
      "_________________________________________________________________\n",
      " Layer (type)                Output Shape              Param #   \n",
      "=================================================================\n",
      " simple_rnn (SimpleRNN)      (None, 8)                 4072      \n",
      "                                                                 \n",
      " dense (Dense)               (None, 1)                 9         \n",
      "                                                                 \n",
      "=================================================================\n",
      "Total params: 4,081\n",
      "Trainable params: 4,081\n",
      "Non-trainable params: 0\n",
      "_________________________________________________________________\n"
     ]
    }
   ],
   "source": [
    "model = keras.Sequential()\n",
    "model.add(keras.layers.SimpleRNN(8, input_shape = (100, 500)))\n",
    "model.add(keras.layers.Dense(1, activation = 'sigmoid'))\n",
    "\n",
    "model.summary()"
   ]
  },
  {
   "cell_type": "markdown",
   "id": "483570f8-a206-4784-9269-3a4fd98200b4",
   "metadata": {},
   "source": [
    "- simple RNN's parameters = (500x8) + (8x8) + 졀편 8 = 4000 + 64 + 8 = 4072 \n",
    "- dense's parameters = (8x1) + 절편 1 = 8 + 1 = 9 "
   ]
  },
  {
   "cell_type": "code",
   "execution_count": 13,
   "id": "58b7bd64-0248-4b65-9623-2412dff1b4ea",
   "metadata": {},
   "outputs": [
    {
     "name": "stdout",
     "output_type": "stream",
     "text": [
      "one-hot 인코딩된 train 데이터셋의 형태 =  (20000, 100, 500)\n",
      "[0. 0. 0. 0. 0. 0. 0. 0. 0. 0. 1. 0. 0. 0. 0. 0. 0. 0. 0. 0. 0. 0. 0. 0.\n",
      " 0. 0. 0. 0. 0. 0. 0. 0. 0. 0. 0. 0. 0. 0. 0. 0. 0. 0. 0. 0. 0. 0. 0. 0.\n",
      " 0. 0. 0. 0. 0. 0. 0. 0. 0. 0. 0. 0. 0. 0. 0. 0. 0. 0. 0. 0. 0. 0. 0. 0.\n",
      " 0. 0. 0. 0. 0. 0. 0. 0. 0. 0. 0. 0. 0. 0. 0. 0. 0. 0. 0. 0. 0. 0. 0. 0.\n",
      " 0. 0. 0. 0. 0. 0. 0. 0. 0. 0. 0. 0. 0. 0. 0. 0. 0. 0. 0. 0. 0. 0. 0. 0.\n",
      " 0. 0. 0. 0. 0. 0. 0. 0. 0. 0. 0. 0. 0. 0. 0. 0. 0. 0. 0. 0. 0. 0. 0. 0.\n",
      " 0. 0. 0. 0. 0. 0. 0. 0. 0. 0. 0. 0. 0. 0. 0. 0. 0. 0. 0. 0. 0. 0. 0. 0.\n",
      " 0. 0. 0. 0. 0. 0. 0. 0. 0. 0. 0. 0. 0. 0. 0. 0. 0. 0. 0. 0. 0. 0. 0. 0.\n",
      " 0. 0. 0. 0. 0. 0. 0. 0. 0. 0. 0. 0. 0. 0. 0. 0. 0. 0. 0. 0. 0. 0. 0. 0.\n",
      " 0. 0. 0. 0. 0. 0. 0. 0. 0. 0. 0. 0. 0. 0. 0. 0. 0. 0. 0. 0. 0. 0. 0. 0.\n",
      " 0. 0. 0. 0. 0. 0. 0. 0. 0. 0. 0. 0. 0. 0. 0. 0. 0. 0. 0. 0. 0. 0. 0. 0.\n",
      " 0. 0. 0. 0. 0. 0. 0. 0. 0. 0. 0. 0. 0. 0. 0. 0. 0. 0. 0. 0. 0. 0. 0. 0.\n",
      " 0. 0. 0. 0. 0. 0. 0. 0. 0. 0. 0. 0. 0. 0. 0. 0. 0. 0. 0. 0. 0. 0. 0. 0.\n",
      " 0. 0. 0. 0. 0. 0. 0. 0. 0. 0. 0. 0. 0. 0. 0. 0. 0. 0. 0. 0. 0. 0. 0. 0.\n",
      " 0. 0. 0. 0. 0. 0. 0. 0. 0. 0. 0. 0. 0. 0. 0. 0. 0. 0. 0. 0. 0. 0. 0. 0.\n",
      " 0. 0. 0. 0. 0. 0. 0. 0. 0. 0. 0. 0. 0. 0. 0. 0. 0. 0. 0. 0. 0. 0. 0. 0.\n",
      " 0. 0. 0. 0. 0. 0. 0. 0. 0. 0. 0. 0. 0. 0. 0. 0. 0. 0. 0. 0. 0. 0. 0. 0.\n",
      " 0. 0. 0. 0. 0. 0. 0. 0. 0. 0. 0. 0. 0. 0. 0. 0. 0. 0. 0. 0. 0. 0. 0. 0.\n",
      " 0. 0. 0. 0. 0. 0. 0. 0. 0. 0. 0. 0. 0. 0. 0. 0. 0. 0. 0. 0. 0. 0. 0. 0.\n",
      " 0. 0. 0. 0. 0. 0. 0. 0. 0. 0. 0. 0. 0. 0. 0. 0. 0. 0. 0. 0. 0. 0. 0. 0.\n",
      " 0. 0. 0. 0. 0. 0. 0. 0. 0. 0. 0. 0. 0. 0. 0. 0. 0. 0. 0. 0.]\n",
      "one-hot 인코딩된 validation 데이터셋의 형태 =  (5000, 100, 500)\n",
      "[0. 0. 0. 0. 0. 0. 0. 0. 0. 0. 0. 0. 0. 0. 0. 0. 0. 0. 0. 0. 0. 0. 0. 0.\n",
      " 0. 0. 0. 0. 0. 0. 0. 0. 1. 0. 0. 0. 0. 0. 0. 0. 0. 0. 0. 0. 0. 0. 0. 0.\n",
      " 0. 0. 0. 0. 0. 0. 0. 0. 0. 0. 0. 0. 0. 0. 0. 0. 0. 0. 0. 0. 0. 0. 0. 0.\n",
      " 0. 0. 0. 0. 0. 0. 0. 0. 0. 0. 0. 0. 0. 0. 0. 0. 0. 0. 0. 0. 0. 0. 0. 0.\n",
      " 0. 0. 0. 0. 0. 0. 0. 0. 0. 0. 0. 0. 0. 0. 0. 0. 0. 0. 0. 0. 0. 0. 0. 0.\n",
      " 0. 0. 0. 0. 0. 0. 0. 0. 0. 0. 0. 0. 0. 0. 0. 0. 0. 0. 0. 0. 0. 0. 0. 0.\n",
      " 0. 0. 0. 0. 0. 0. 0. 0. 0. 0. 0. 0. 0. 0. 0. 0. 0. 0. 0. 0. 0. 0. 0. 0.\n",
      " 0. 0. 0. 0. 0. 0. 0. 0. 0. 0. 0. 0. 0. 0. 0. 0. 0. 0. 0. 0. 0. 0. 0. 0.\n",
      " 0. 0. 0. 0. 0. 0. 0. 0. 0. 0. 0. 0. 0. 0. 0. 0. 0. 0. 0. 0. 0. 0. 0. 0.\n",
      " 0. 0. 0. 0. 0. 0. 0. 0. 0. 0. 0. 0. 0. 0. 0. 0. 0. 0. 0. 0. 0. 0. 0. 0.\n",
      " 0. 0. 0. 0. 0. 0. 0. 0. 0. 0. 0. 0. 0. 0. 0. 0. 0. 0. 0. 0. 0. 0. 0. 0.\n",
      " 0. 0. 0. 0. 0. 0. 0. 0. 0. 0. 0. 0. 0. 0. 0. 0. 0. 0. 0. 0. 0. 0. 0. 0.\n",
      " 0. 0. 0. 0. 0. 0. 0. 0. 0. 0. 0. 0. 0. 0. 0. 0. 0. 0. 0. 0. 0. 0. 0. 0.\n",
      " 0. 0. 0. 0. 0. 0. 0. 0. 0. 0. 0. 0. 0. 0. 0. 0. 0. 0. 0. 0. 0. 0. 0. 0.\n",
      " 0. 0. 0. 0. 0. 0. 0. 0. 0. 0. 0. 0. 0. 0. 0. 0. 0. 0. 0. 0. 0. 0. 0. 0.\n",
      " 0. 0. 0. 0. 0. 0. 0. 0. 0. 0. 0. 0. 0. 0. 0. 0. 0. 0. 0. 0. 0. 0. 0. 0.\n",
      " 0. 0. 0. 0. 0. 0. 0. 0. 0. 0. 0. 0. 0. 0. 0. 0. 0. 0. 0. 0. 0. 0. 0. 0.\n",
      " 0. 0. 0. 0. 0. 0. 0. 0. 0. 0. 0. 0. 0. 0. 0. 0. 0. 0. 0. 0. 0. 0. 0. 0.\n",
      " 0. 0. 0. 0. 0. 0. 0. 0. 0. 0. 0. 0. 0. 0. 0. 0. 0. 0. 0. 0. 0. 0. 0. 0.\n",
      " 0. 0. 0. 0. 0. 0. 0. 0. 0. 0. 0. 0. 0. 0. 0. 0. 0. 0. 0. 0. 0. 0. 0. 0.\n",
      " 0. 0. 0. 0. 0. 0. 0. 0. 0. 0. 0. 0. 0. 0. 0. 0. 0. 0. 0. 0.]\n"
     ]
    }
   ],
   "source": [
    "## one-hot encoding \n",
    "train_oh = keras.utils.to_categorical(train_seq) \n",
    "val_oh = keras.utils.to_categorical(val_seq) \n",
    "\n",
    "print('one-hot 인코딩된 train 데이터셋의 형태 = ', train_oh.shape)\n",
    "print(train_oh[0][0])\n",
    "\n",
    "print('one-hot 인코딩된 validation 데이터셋의 형태 = ', val_oh.shape)\n",
    "print(val_oh[0][0])"
   ]
  },
  {
   "cell_type": "code",
   "execution_count": 14,
   "id": "c4e6818d-bde5-4c65-bee2-f32f0812641f",
   "metadata": {},
   "outputs": [
    {
     "name": "stdout",
     "output_type": "stream",
     "text": [
      "1.0\n",
      "1.0\n"
     ]
    }
   ],
   "source": [
    "## 원핫 인코딩된 값의 총합은 당연히 1이 되어야 함 \n",
    "print( np.sum(train_oh[0][0]) )\n",
    "print( np.sum(val_oh[0][0]) )"
   ]
  },
  {
   "cell_type": "code",
   "execution_count": 15,
   "id": "93dbbf15-df01-4560-81f9-564010209ce6",
   "metadata": {},
   "outputs": [
    {
     "name": "stdout",
     "output_type": "stream",
     "text": [
      "Epoch 1/100\n",
      "313/313 [==============================] - 12s 32ms/step - loss: 0.6968 - accuracy: 0.5075 - val_loss: 0.6923 - val_accuracy: 0.5246\n",
      "Epoch 2/100\n",
      "313/313 [==============================] - 7s 22ms/step - loss: 0.6879 - accuracy: 0.5418 - val_loss: 0.6828 - val_accuracy: 0.5638\n",
      "Epoch 3/100\n",
      "313/313 [==============================] - 7s 22ms/step - loss: 0.6777 - accuracy: 0.5800 - val_loss: 0.6763 - val_accuracy: 0.5840\n",
      "Epoch 4/100\n",
      "313/313 [==============================] - 7s 23ms/step - loss: 0.6702 - accuracy: 0.6000 - val_loss: 0.6692 - val_accuracy: 0.6016\n",
      "Epoch 5/100\n",
      "313/313 [==============================] - 7s 21ms/step - loss: 0.6619 - accuracy: 0.6209 - val_loss: 0.6608 - val_accuracy: 0.6206\n",
      "Epoch 6/100\n",
      "313/313 [==============================] - 7s 22ms/step - loss: 0.6513 - accuracy: 0.6407 - val_loss: 0.6516 - val_accuracy: 0.6380\n",
      "Epoch 7/100\n",
      "313/313 [==============================] - 7s 21ms/step - loss: 0.6395 - accuracy: 0.6613 - val_loss: 0.6388 - val_accuracy: 0.6564\n",
      "Epoch 8/100\n",
      "313/313 [==============================] - 7s 21ms/step - loss: 0.6259 - accuracy: 0.6809 - val_loss: 0.6250 - val_accuracy: 0.6802\n",
      "Epoch 9/100\n",
      "313/313 [==============================] - 7s 21ms/step - loss: 0.6104 - accuracy: 0.7018 - val_loss: 0.6104 - val_accuracy: 0.6958\n",
      "Epoch 10/100\n",
      "313/313 [==============================] - 10s 31ms/step - loss: 0.5943 - accuracy: 0.7169 - val_loss: 0.5949 - val_accuracy: 0.7132\n",
      "Epoch 11/100\n",
      "313/313 [==============================] - 8s 25ms/step - loss: 0.5789 - accuracy: 0.7301 - val_loss: 0.5795 - val_accuracy: 0.7248\n",
      "Epoch 12/100\n",
      "313/313 [==============================] - 7s 22ms/step - loss: 0.5640 - accuracy: 0.7422 - val_loss: 0.5653 - val_accuracy: 0.7348\n",
      "Epoch 13/100\n",
      "313/313 [==============================] - 7s 21ms/step - loss: 0.5499 - accuracy: 0.7510 - val_loss: 0.5518 - val_accuracy: 0.7460\n",
      "Epoch 14/100\n",
      "313/313 [==============================] - 7s 22ms/step - loss: 0.5359 - accuracy: 0.7592 - val_loss: 0.5405 - val_accuracy: 0.7526\n",
      "Epoch 15/100\n",
      "313/313 [==============================] - 7s 22ms/step - loss: 0.5236 - accuracy: 0.7656 - val_loss: 0.5329 - val_accuracy: 0.7528\n",
      "Epoch 16/100\n",
      "313/313 [==============================] - 7s 21ms/step - loss: 0.5115 - accuracy: 0.7719 - val_loss: 0.5190 - val_accuracy: 0.7600\n",
      "Epoch 17/100\n",
      "313/313 [==============================] - 7s 21ms/step - loss: 0.5004 - accuracy: 0.7762 - val_loss: 0.5103 - val_accuracy: 0.7636\n",
      "Epoch 18/100\n",
      "313/313 [==============================] - 7s 21ms/step - loss: 0.4910 - accuracy: 0.7811 - val_loss: 0.5013 - val_accuracy: 0.7746\n",
      "Epoch 19/100\n",
      "313/313 [==============================] - 7s 21ms/step - loss: 0.4830 - accuracy: 0.7869 - val_loss: 0.4962 - val_accuracy: 0.7726\n",
      "Epoch 20/100\n",
      "313/313 [==============================] - 7s 21ms/step - loss: 0.4750 - accuracy: 0.7886 - val_loss: 0.4867 - val_accuracy: 0.7784\n",
      "Epoch 21/100\n",
      "313/313 [==============================] - 7s 21ms/step - loss: 0.4681 - accuracy: 0.7926 - val_loss: 0.4813 - val_accuracy: 0.7790\n",
      "Epoch 22/100\n",
      "313/313 [==============================] - 7s 21ms/step - loss: 0.4613 - accuracy: 0.7947 - val_loss: 0.4810 - val_accuracy: 0.7794\n",
      "Epoch 23/100\n",
      "313/313 [==============================] - 7s 21ms/step - loss: 0.4558 - accuracy: 0.7965 - val_loss: 0.4723 - val_accuracy: 0.7842\n",
      "Epoch 24/100\n",
      "313/313 [==============================] - 7s 21ms/step - loss: 0.4507 - accuracy: 0.8015 - val_loss: 0.4692 - val_accuracy: 0.7856\n",
      "Epoch 25/100\n",
      "313/313 [==============================] - 7s 21ms/step - loss: 0.4465 - accuracy: 0.8029 - val_loss: 0.4662 - val_accuracy: 0.7840\n",
      "Epoch 26/100\n",
      "313/313 [==============================] - 7s 21ms/step - loss: 0.4422 - accuracy: 0.8036 - val_loss: 0.4642 - val_accuracy: 0.7852\n",
      "Epoch 27/100\n",
      "313/313 [==============================] - 7s 21ms/step - loss: 0.4392 - accuracy: 0.8061 - val_loss: 0.4617 - val_accuracy: 0.7876\n",
      "Epoch 28/100\n",
      "313/313 [==============================] - 7s 21ms/step - loss: 0.4362 - accuracy: 0.8073 - val_loss: 0.4596 - val_accuracy: 0.7892\n",
      "Epoch 29/100\n",
      "313/313 [==============================] - 7s 21ms/step - loss: 0.4329 - accuracy: 0.8086 - val_loss: 0.4646 - val_accuracy: 0.7856\n",
      "Epoch 30/100\n",
      "313/313 [==============================] - 7s 21ms/step - loss: 0.4297 - accuracy: 0.8094 - val_loss: 0.4598 - val_accuracy: 0.7894\n",
      "Epoch 31/100\n",
      "313/313 [==============================] - 7s 21ms/step - loss: 0.4281 - accuracy: 0.8092 - val_loss: 0.4589 - val_accuracy: 0.7888\n",
      "Epoch 32/100\n",
      "313/313 [==============================] - 7s 21ms/step - loss: 0.4256 - accuracy: 0.8116 - val_loss: 0.4546 - val_accuracy: 0.7914\n",
      "Epoch 33/100\n",
      "313/313 [==============================] - 7s 22ms/step - loss: 0.4234 - accuracy: 0.8111 - val_loss: 0.4548 - val_accuracy: 0.7880\n",
      "Epoch 34/100\n",
      "313/313 [==============================] - 7s 21ms/step - loss: 0.4217 - accuracy: 0.8129 - val_loss: 0.4552 - val_accuracy: 0.7888\n",
      "Epoch 35/100\n",
      "313/313 [==============================] - 7s 21ms/step - loss: 0.4201 - accuracy: 0.8144 - val_loss: 0.4546 - val_accuracy: 0.7924\n",
      "Epoch 36/100\n",
      "313/313 [==============================] - 7s 21ms/step - loss: 0.4184 - accuracy: 0.8148 - val_loss: 0.4524 - val_accuracy: 0.7896\n",
      "Epoch 37/100\n",
      "313/313 [==============================] - 7s 21ms/step - loss: 0.4167 - accuracy: 0.8168 - val_loss: 0.4546 - val_accuracy: 0.7900\n",
      "Epoch 38/100\n",
      "313/313 [==============================] - 7s 21ms/step - loss: 0.4149 - accuracy: 0.8167 - val_loss: 0.4517 - val_accuracy: 0.7898\n",
      "Epoch 39/100\n",
      "313/313 [==============================] - 7s 21ms/step - loss: 0.4136 - accuracy: 0.8175 - val_loss: 0.4509 - val_accuracy: 0.7914\n",
      "Epoch 40/100\n",
      "313/313 [==============================] - 7s 21ms/step - loss: 0.4126 - accuracy: 0.8176 - val_loss: 0.4525 - val_accuracy: 0.7912\n",
      "Epoch 41/100\n",
      "313/313 [==============================] - 7s 21ms/step - loss: 0.4110 - accuracy: 0.8184 - val_loss: 0.4509 - val_accuracy: 0.7926\n",
      "Epoch 42/100\n",
      "313/313 [==============================] - 7s 21ms/step - loss: 0.4099 - accuracy: 0.8196 - val_loss: 0.4533 - val_accuracy: 0.7880\n"
     ]
    }
   ],
   "source": [
    "'''\n",
    "1) rmsprop의 default learning_rate = 0.001(optimizer = 'rmsprop'), 학습률을 조정하고 싶다면 ... \n",
    "   from tensorflow.keras import optimizers\n",
    "   model.compile(optimizer = optimizers.RMSprop(learning_rate=0.0001),loss='binary_crossentropy',metrics='accuracy')\n",
    "\n",
    "2) 문제 종류에 따른 손실함수\n",
    " - 이진분류 : binary crossentropy\n",
    " - 다중분류 : categorical crossentropy\n",
    " - 회귀 : MSE(Mean Squared Error)\n",
    " - 시퀀스 : CTC(Connection Temporal Classification)\n",
    "'''\n",
    "\n",
    "from tensorflow.keras import optimizers\n",
    "model.compile(optimizer = optimizers.RMSprop(learning_rate=0.0001), loss = 'binary_crossentropy', metrics = 'accuracy')\n",
    "chekpoint_callback = keras.callbacks.ModelCheckpoint('best-simplernn-model.h5')\n",
    "early_stopping_callback = keras.callbacks.EarlyStopping(patience = 3, restore_best_weights = True)\n",
    "history = model.fit(train_oh, train_target, epochs = 100, batch_size = 64, \n",
    "                    validation_data = (val_oh, val_target), \n",
    "                    callbacks = [chekpoint_callback, early_stopping_callback] )"
   ]
  },
  {
   "cell_type": "code",
   "execution_count": 16,
   "id": "7d418968-9dea-4df2-84f6-bb04d60176db",
   "metadata": {},
   "outputs": [
    {
     "data": {
      "image/png": "[encoded data removed]",
      "text/plain": [
       "<Figure size 432x288 with 1 Axes>"
      ]
     },
     "metadata": {
      "needs_background": "light"
     },
     "output_type": "display_data"
    }
   ],
   "source": [
    "plt.plot(history.history['loss'])\n",
    "plt.plot(history.history['val_loss'])\n",
    "plt.xlabel('epochs')\n",
    "plt.ylabel('loss')\n",
    "plt.legend(['train_loss', 'validation_loss'])\n",
    "plt.show()"
   ]
  },
  {
   "cell_type": "markdown",
   "id": "690f4c5d-2abc-474c-b588-b2524f58a614",
   "metadata": {},
   "source": [
    "---\n",
    "#### 3. RNN 구성 - 2) word embedding\n",
    "- 원핫코딩은 메모리 낭비가 심하고, 대부분을 차지하는 0으로 채워진 부분들이 계산에서 전혀 역할을 하지 못하는 단점 존재\n",
    "- 반면 word embedding은 각 단어를 실수값 벡터로 변환하여 계산함으로써, 메모리를 줄이면서 자연어 처리에 보다 좋은 성능을 낸다. \n",
    "- 또한 입력값으로 정수 데이터 그대로 받기 때문에, 앞서와 깉은 원핫코딩 변환 작업(train_seq => train_oh)이 불필요 하다. "
   ]
  },
  {
   "cell_type": "code",
   "execution_count": 17,
   "id": "c258d782-7643-454b-bc71-a91046ebb2bc",
   "metadata": {},
   "outputs": [
    {
     "name": "stdout",
     "output_type": "stream",
     "text": [
      "Model: \"sequential_1\"\n",
      "_________________________________________________________________\n",
      " Layer (type)                Output Shape              Param #   \n",
      "=================================================================\n",
      " embedding (Embedding)       (None, 100, 16)           8000      \n",
      "                                                                 \n",
      " simple_rnn_1 (SimpleRNN)    (None, 8)                 200       \n",
      "                                                                 \n",
      " dense_1 (Dense)             (None, 1)                 9         \n",
      "                                                                 \n",
      "=================================================================\n",
      "Total params: 8,209\n",
      "Trainable params: 8,209\n",
      "Non-trainable params: 0\n",
      "_________________________________________________________________\n"
     ]
    }
   ],
   "source": [
    "## input layer 추가 : 500개의 차원에 대해, 16개의 벡터로써 출력하라, 각 샘플의 길이는 100이다.  \n",
    "## embedding = 16 : 단어(tokken)을 16개의 실수 벡터로 만들라는 뜻, 적절한 값을 사용자가 지정해줘야 함 \n",
    "## 앞서와 마찬가지로 hidden layer의 뉴런은 8개를 배치하고, 출력충은 이진분류이므로 뉴런 1개 & 함수는 시그모이드 사용 \n",
    "model2 = keras.Sequential()\n",
    "model2.add(keras.layers.Embedding(500, 16, input_length = 100))\n",
    "model2.add(keras.layers.SimpleRNN(8))\n",
    "model2.add(keras.layers.Dense(1, activation = 'sigmoid'))\n",
    "\n",
    "model2.summary()"
   ]
  },
  {
   "cell_type": "markdown",
   "id": "6664e86e-ab46-483b-b389-3598765541d5",
   "metadata": {},
   "source": [
    "- 입력층's parameters = 500차원 x 16개 뉴런 = 8000 \n",
    "- simple_rnn_2's parameters = (입력값 16개 x 뉴런 8개) + (자체순환 8x8) + 절편 8 = 128 + 64 + 8 = 200 \n",
    "- dense_2's parameters = 입력 8개 x 뉴런 1개 + 절편 1개 = 9 "
   ]
  },
  {
   "cell_type": "code",
   "execution_count": 18,
   "id": "c0a9a08e-2292-4461-b7e3-2cf975005fc0",
   "metadata": {},
   "outputs": [
    {
     "name": "stdout",
     "output_type": "stream",
     "text": [
      "Epoch 1/100\n",
      "313/313 [==============================] - 4s 9ms/step - loss: 0.6849 - accuracy: 0.5494 - val_loss: 0.6596 - val_accuracy: 0.6102\n",
      "Epoch 2/100\n",
      "313/313 [==============================] - 3s 8ms/step - loss: 0.6227 - accuracy: 0.6683 - val_loss: 0.6018 - val_accuracy: 0.6938\n",
      "Epoch 3/100\n",
      "313/313 [==============================] - 3s 9ms/step - loss: 0.5713 - accuracy: 0.7290 - val_loss: 0.5644 - val_accuracy: 0.7360\n",
      "Epoch 4/100\n",
      "313/313 [==============================] - 3s 8ms/step - loss: 0.5380 - accuracy: 0.7528 - val_loss: 0.5404 - val_accuracy: 0.7384\n",
      "Epoch 5/100\n",
      "313/313 [==============================] - 3s 8ms/step - loss: 0.5177 - accuracy: 0.7641 - val_loss: 0.5229 - val_accuracy: 0.7560\n",
      "Epoch 6/100\n",
      "313/313 [==============================] - 3s 8ms/step - loss: 0.5038 - accuracy: 0.7727 - val_loss: 0.5139 - val_accuracy: 0.7582\n",
      "Epoch 7/100\n",
      "313/313 [==============================] - 3s 9ms/step - loss: 0.4932 - accuracy: 0.7794 - val_loss: 0.5064 - val_accuracy: 0.7668\n",
      "Epoch 8/100\n",
      "313/313 [==============================] - 3s 9ms/step - loss: 0.4844 - accuracy: 0.7825 - val_loss: 0.5037 - val_accuracy: 0.7602\n",
      "Epoch 9/100\n",
      "313/313 [==============================] - 3s 8ms/step - loss: 0.4771 - accuracy: 0.7883 - val_loss: 0.4944 - val_accuracy: 0.7680\n",
      "Epoch 10/100\n",
      "313/313 [==============================] - 3s 9ms/step - loss: 0.4705 - accuracy: 0.7907 - val_loss: 0.4898 - val_accuracy: 0.7680\n",
      "Epoch 11/100\n",
      "313/313 [==============================] - 3s 9ms/step - loss: 0.4658 - accuracy: 0.7929 - val_loss: 0.4853 - val_accuracy: 0.7736\n",
      "Epoch 12/100\n",
      "313/313 [==============================] - 3s 8ms/step - loss: 0.4604 - accuracy: 0.7943 - val_loss: 0.4975 - val_accuracy: 0.7630\n",
      "Epoch 13/100\n",
      "313/313 [==============================] - 3s 8ms/step - loss: 0.4559 - accuracy: 0.7983 - val_loss: 0.4857 - val_accuracy: 0.7746\n",
      "Epoch 14/100\n",
      "313/313 [==============================] - 3s 8ms/step - loss: 0.4524 - accuracy: 0.8002 - val_loss: 0.4791 - val_accuracy: 0.7782\n",
      "Epoch 15/100\n",
      "313/313 [==============================] - 3s 8ms/step - loss: 0.4478 - accuracy: 0.8043 - val_loss: 0.4883 - val_accuracy: 0.7698\n",
      "Epoch 16/100\n",
      "313/313 [==============================] - 3s 8ms/step - loss: 0.4445 - accuracy: 0.8055 - val_loss: 0.4754 - val_accuracy: 0.7850\n",
      "Epoch 17/100\n",
      "313/313 [==============================] - 3s 8ms/step - loss: 0.4410 - accuracy: 0.8080 - val_loss: 0.4965 - val_accuracy: 0.7572\n",
      "Epoch 18/100\n",
      "313/313 [==============================] - 3s 8ms/step - loss: 0.4380 - accuracy: 0.8080 - val_loss: 0.4754 - val_accuracy: 0.7798\n",
      "Epoch 19/100\n",
      "313/313 [==============================] - 3s 8ms/step - loss: 0.4354 - accuracy: 0.8098 - val_loss: 0.4885 - val_accuracy: 0.7720\n",
      "Epoch 20/100\n",
      "313/313 [==============================] - 3s 8ms/step - loss: 0.4322 - accuracy: 0.8113 - val_loss: 0.4711 - val_accuracy: 0.7846\n",
      "Epoch 21/100\n",
      "313/313 [==============================] - 3s 8ms/step - loss: 0.4294 - accuracy: 0.8140 - val_loss: 0.4717 - val_accuracy: 0.7826\n",
      "Epoch 22/100\n",
      "313/313 [==============================] - 3s 8ms/step - loss: 0.4268 - accuracy: 0.8158 - val_loss: 0.4730 - val_accuracy: 0.7786\n",
      "Epoch 23/100\n",
      "313/313 [==============================] - 3s 8ms/step - loss: 0.4241 - accuracy: 0.8163 - val_loss: 0.4783 - val_accuracy: 0.7766\n"
     ]
    }
   ],
   "source": [
    "model2.compile(optimizer = optimizers.RMSprop(learning_rate=0.0001), loss = 'binary_crossentropy', metrics = 'accuracy')\n",
    "chekpoint_callback2 = keras.callbacks.ModelCheckpoint('best-embedding-rnn-model.h5')\n",
    "early_stopping_callback2 = keras.callbacks.EarlyStopping(patience = 3, restore_best_weights = True)\n",
    "\n",
    "## one-hot 코딩 불필요하므로, train_oh & val_oh 대신 train_seq & val_seq를 그대로 사용 \n",
    "history2 = model2.fit(train_seq, train_target, epochs = 100, batch_size = 64, \n",
    "                    validation_data = (val_seq, val_target), \n",
    "                    callbacks = [chekpoint_callback2, early_stopping_callback2] )"
   ]
  },
  {
   "cell_type": "code",
   "execution_count": 19,
   "id": "3bc8cbc1-92df-485b-8c81-949610967578",
   "metadata": {},
   "outputs": [
    {
     "data": {
      "image/png": "[encoded data removed]",
      "text/plain": [
       "<Figure size 432x288 with 1 Axes>"
      ]
     },
     "metadata": {
      "needs_background": "light"
     },
     "output_type": "display_data"
    }
   ],
   "source": [
    "plt.plot(history2.history['loss'])\n",
    "plt.plot(history2.history['val_loss'])\n",
    "plt.xlabel('epochs')\n",
    "plt.ylabel('loss')\n",
    "plt.legend(['train_loss', 'validation_loss'])\n",
    "plt.show()"
   ]
  },
  {
   "cell_type": "markdown",
   "id": "8755ed52-662b-4efe-966d-5a87512c1326",
   "metadata": {},
   "source": [
    "- one-hot 인코딩에 비해 word embedding이 훨씬 빠르게 계산을 완료함 (1 epochs 당 7s -> 3s) \n",
    "- 모델의 성능은 거의 비슷 (accuracy : 0.7880 -> 0.7766) "
   ]
  },
  {
   "cell_type": "code",
   "execution_count": 20,
   "id": "5a707f62-d9c2-4f8f-9757-733314e8cc05",
   "metadata": {},
   "outputs": [
    {
     "name": "stdout",
     "output_type": "stream",
     "text": [
      "782/782 [==============================] - 2s 2ms/step - loss: 0.4743 - accuracy: 0.7780\n"
     ]
    },
    {
     "data": {
      "text/plain": [
       "[0.4743195176124573, 0.7780399918556213]"
      ]
     },
     "execution_count": 20,
     "metadata": {},
     "output_type": "execute_result"
    }
   ],
   "source": [
    "## 모델의 성능 보기 \n",
    "## test_input에도 train_input과 마찬가지로 padding이 적용되어야 한다. \n",
    "\n",
    "test_seq = pad_sequences(test_input, maxlen = 100)\n",
    "word_embedding_rnn_model = keras.models.load_model('best-embedding-rnn-model.h5')\n",
    "word_embedding_rnn_model.evaluate(test_seq, test_target)"
   ]
  },
  {
   "cell_type": "code",
   "execution_count": null,
   "id": "60e382ff-99a6-48dd-833e-6eae9208e20e",
   "metadata": {},
   "outputs": [],
   "source": []
  }
 ],
 "metadata": {
  "kernelspec": {
   "display_name": "Python 3",
   "language": "python",
   "name": "python3"
  },
  "language_info": {
   "codemirror_mode": {
    "name": "ipython",
    "version": 3
   },
   "file_extension": ".py",
   "mimetype": "text/x-python",
   "name": "python",
   "nbconvert_exporter": "python",
   "pygments_lexer": "ipython3",
   "version": "3.8.8"
  }
 },
 "nbformat": 4,
 "nbformat_minor": 5
}
