{
 "cells": [
  {
   "cell_type": "markdown",
   "id": "877ec66f-e21e-4378-bf45-79b057e74d09",
   "metadata": {},
   "source": [
    "## Chapter 09 텍스트를 위한 인공 신경망 ▶️한빛 마켓의 댓글을 분석하라!\n",
    "#### 09-3 LSTM과 GRU 셀 ▶️순환 신경망의 중요 기술을 사용해 모델 만들어 보기\n",
    "--- \n",
    "- simpleRNN은 긴 시퀀스를 학습하기 어려움. layer가 깊어질 수록 정보가 점차 희석되기 때문 (-> LSTM과 GRU 대두)\n",
    "- LSTM(Long short term memory) : 순환되는 상태가 2개. 입력과 은닉층의 계산 외에 셀 상태의 계산이(4개) 추가된다. \n",
    "- GRU(Gated Recurrent Unit) : LSTM의 간소화 버전. LSTM 대비 가중치가 적어 계산이 빠른데도 불구 성능은 비슷한 것으로 알려짐 \n",
    "- 참고문헌 1 : https://dgkim5360.tistory.com/entry/understanding-long-short-term-memory-lstm-kr \n",
    "- 참고문헌 2 : https://blog.naver.com/winddori2002/221992543837"
   ]
  },
  {
   "cell_type": "code",
   "execution_count": 1,
   "id": "df0e0462-9356-41d3-85c3-361446d1db77",
   "metadata": {},
   "outputs": [],
   "source": [
    "import numpy as np \n",
    "import pandas as pd\n",
    "import matplotlib.pyplot as plt\n",
    "from sklearn.model_selection import train_test_split\n",
    "import tensorflow as tf\n",
    "from tensorflow import keras\n",
    "from tensorflow.keras.datasets import imdb \n",
    "\n",
    "# 실행마다 동일한 결과를 얻기 위해 케라스에 랜덤 시드를 사용하고 텐서플로 연산을 결정적으로 만듭니다. \n",
    "tf.keras.utils.set_random_seed(42)\n",
    "tf.config.experimental.enable_op_determinism()"
   ]
  },
  {
   "cell_type": "code",
   "execution_count": 2,
   "id": "681398e0-3fa2-472b-9442-b36b88a9f3de",
   "metadata": {},
   "outputs": [
    {
     "name": "stdout",
     "output_type": "stream",
     "text": [
      "1.train input 형태 :  (25000,)\n",
      "2.train target 형태 :  (25000,)\n",
      "3.test input 형태 :  (25000,)\n",
      "4.test target 형태 :  (25000,)\n"
     ]
    }
   ],
   "source": [
    "## loading the dataset, and split train/test sets \n",
    "(train_input, train_target), (test_input, test_target) = imdb.load_data(num_words = 1000)\n",
    "\n",
    "print('1.train input 형태 : ', train_input.shape)\n",
    "print('2.train target 형태 : ', train_target.shape)\n",
    "print('3.test input 형태 : ', test_input.shape)\n",
    "print('4.test target 형태 : ', test_target.shape)"
   ]
  },
  {
   "cell_type": "code",
   "execution_count": 3,
   "id": "8bc75e5e-d7ec-4edc-ac5e-c41130e7d6e3",
   "metadata": {},
   "outputs": [
    {
     "name": "stdout",
     "output_type": "stream",
     "text": [
      "5.train input 형태 :  (20000,)\n",
      "6.train target 형태 :  (20000,)\n",
      "7.val input 형태 :  (5000,)\n",
      "8.val target 형태 :  (5000,)\n"
     ]
    }
   ],
   "source": [
    "train_input, val_input, train_target, val_target = train_test_split(train_input, train_target, test_size = 0.2)\n",
    "\n",
    "print('5.train input 형태 : ', train_input.shape)\n",
    "print('6.train target 형태 : ', train_target.shape)\n",
    "print('7.val input 형태 : ', val_input.shape)\n",
    "print('8.val target 형태 : ', val_target.shape)"
   ]
  },
  {
   "cell_type": "code",
   "execution_count": 4,
   "id": "60e0e94f-7b56-4a01-ba2f-4453262a573c",
   "metadata": {},
   "outputs": [],
   "source": [
    "## all sample's length = 100 \n",
    "from tensorflow.keras.preprocessing.sequence import pad_sequences \n",
    "train_seq = pad_sequences(train_input, maxlen = 100)\n",
    "val_seq = pad_sequences(val_input, maxlen = 100)"
   ]
  },
  {
   "cell_type": "markdown",
   "id": "d1656433-59ca-4e0c-9b42-d5fe13d468a8",
   "metadata": {},
   "source": [
    "--- \n",
    "#### 1. LTSM \n",
    "- simpleRNN 대신 LSTM 사용. 은닉층의 셀안에 4개의 작은셀이 있으므로 simpleRNN에 비해 파라미터 수가 4배로 증가함"
   ]
  },
  {
   "cell_type": "code",
   "execution_count": 5,
   "id": "d07163a3-c4e4-42c9-a8bb-4cf951b0680c",
   "metadata": {},
   "outputs": [
    {
     "name": "stdout",
     "output_type": "stream",
     "text": [
      "Model: \"sequential\"\n",
      "_________________________________________________________________\n",
      " Layer (type)                Output Shape              Param #   \n",
      "=================================================================\n",
      " embedding (Embedding)       (None, 100, 16)           16000     \n",
      "                                                                 \n",
      " lstm (LSTM)                 (None, 8)                 800       \n",
      "                                                                 \n",
      " dense (Dense)               (None, 1)                 9         \n",
      "                                                                 \n",
      "=================================================================\n",
      "Total params: 16,809\n",
      "Trainable params: 16,809\n",
      "Non-trainable params: 0\n",
      "_________________________________________________________________\n"
     ]
    }
   ],
   "source": [
    "model = keras.Sequential()\n",
    "model.add(keras.layers.Embedding(1000, 16, input_length = 100))\n",
    "model.add(keras.layers.LSTM(8))\n",
    "model.add(keras.layers.Dense(1, activation = 'sigmoid'))\n",
    "\n",
    "model.summary()"
   ]
  },
  {
   "cell_type": "code",
   "execution_count": 6,
   "id": "e0732dcb-5344-4fcd-99d3-2e81790b95b0",
   "metadata": {},
   "outputs": [
    {
     "name": "stdout",
     "output_type": "stream",
     "text": [
      "Epoch 1/100\n",
      "313/313 [==============================] - 7s 17ms/step - loss: 0.6922 - accuracy: 0.5454 - val_loss: 0.6914 - val_accuracy: 0.5634\n",
      "Epoch 2/100\n",
      "313/313 [==============================] - 5s 16ms/step - loss: 0.6892 - accuracy: 0.6074 - val_loss: 0.6872 - val_accuracy: 0.6156\n",
      "Epoch 3/100\n",
      "313/313 [==============================] - 5s 16ms/step - loss: 0.6808 - accuracy: 0.6645 - val_loss: 0.6736 - val_accuracy: 0.6552\n",
      "Epoch 4/100\n",
      "313/313 [==============================] - 5s 16ms/step - loss: 0.6376 - accuracy: 0.7165 - val_loss: 0.6031 - val_accuracy: 0.7358\n",
      "Epoch 5/100\n",
      "313/313 [==============================] - 5s 16ms/step - loss: 0.5761 - accuracy: 0.7511 - val_loss: 0.5662 - val_accuracy: 0.7516\n",
      "Epoch 6/100\n",
      "313/313 [==============================] - 5s 16ms/step - loss: 0.5457 - accuracy: 0.7669 - val_loss: 0.5381 - val_accuracy: 0.7664\n",
      "Epoch 7/100\n",
      "313/313 [==============================] - 5s 16ms/step - loss: 0.5176 - accuracy: 0.7813 - val_loss: 0.5135 - val_accuracy: 0.7802\n",
      "Epoch 8/100\n",
      "313/313 [==============================] - 5s 16ms/step - loss: 0.4926 - accuracy: 0.7952 - val_loss: 0.4930 - val_accuracy: 0.7886\n",
      "Epoch 9/100\n",
      "313/313 [==============================] - 5s 16ms/step - loss: 0.4705 - accuracy: 0.8069 - val_loss: 0.4730 - val_accuracy: 0.8006\n",
      "Epoch 10/100\n",
      "313/313 [==============================] - 5s 16ms/step - loss: 0.4510 - accuracy: 0.8165 - val_loss: 0.4568 - val_accuracy: 0.8068\n",
      "Epoch 11/100\n",
      "313/313 [==============================] - 5s 16ms/step - loss: 0.4338 - accuracy: 0.8235 - val_loss: 0.4436 - val_accuracy: 0.8128\n",
      "Epoch 12/100\n",
      "313/313 [==============================] - 5s 16ms/step - loss: 0.4199 - accuracy: 0.8286 - val_loss: 0.4319 - val_accuracy: 0.8158\n",
      "Epoch 13/100\n",
      "313/313 [==============================] - 5s 16ms/step - loss: 0.4075 - accuracy: 0.8338 - val_loss: 0.4221 - val_accuracy: 0.8180\n",
      "Epoch 14/100\n",
      "313/313 [==============================] - 5s 16ms/step - loss: 0.3972 - accuracy: 0.8367 - val_loss: 0.4156 - val_accuracy: 0.8202\n",
      "Epoch 15/100\n",
      "313/313 [==============================] - 5s 16ms/step - loss: 0.3887 - accuracy: 0.8407 - val_loss: 0.4134 - val_accuracy: 0.8184\n",
      "Epoch 16/100\n",
      "313/313 [==============================] - 5s 16ms/step - loss: 0.3815 - accuracy: 0.8436 - val_loss: 0.4084 - val_accuracy: 0.8182\n",
      "Epoch 17/100\n",
      "313/313 [==============================] - 5s 16ms/step - loss: 0.3757 - accuracy: 0.8441 - val_loss: 0.4050 - val_accuracy: 0.8192\n",
      "Epoch 18/100\n",
      "313/313 [==============================] - 5s 16ms/step - loss: 0.3710 - accuracy: 0.8479 - val_loss: 0.4009 - val_accuracy: 0.8250\n",
      "Epoch 19/100\n",
      "313/313 [==============================] - 5s 16ms/step - loss: 0.3668 - accuracy: 0.8493 - val_loss: 0.4023 - val_accuracy: 0.8212\n",
      "Epoch 20/100\n",
      "313/313 [==============================] - 5s 16ms/step - loss: 0.3633 - accuracy: 0.8507 - val_loss: 0.3987 - val_accuracy: 0.8226\n",
      "Epoch 21/100\n",
      "313/313 [==============================] - 5s 16ms/step - loss: 0.3607 - accuracy: 0.8515 - val_loss: 0.3971 - val_accuracy: 0.8218\n",
      "Epoch 22/100\n",
      "313/313 [==============================] - 5s 16ms/step - loss: 0.3580 - accuracy: 0.8516 - val_loss: 0.3979 - val_accuracy: 0.8224\n",
      "Epoch 23/100\n",
      "313/313 [==============================] - 5s 16ms/step - loss: 0.3559 - accuracy: 0.8512 - val_loss: 0.3943 - val_accuracy: 0.8230\n",
      "Epoch 24/100\n",
      "313/313 [==============================] - 5s 16ms/step - loss: 0.3540 - accuracy: 0.8545 - val_loss: 0.3942 - val_accuracy: 0.8236\n",
      "Epoch 25/100\n",
      "313/313 [==============================] - 5s 16ms/step - loss: 0.3523 - accuracy: 0.8543 - val_loss: 0.3958 - val_accuracy: 0.8240\n",
      "Epoch 26/100\n",
      "313/313 [==============================] - 5s 16ms/step - loss: 0.3506 - accuracy: 0.8558 - val_loss: 0.3944 - val_accuracy: 0.8240\n",
      "Epoch 27/100\n",
      "313/313 [==============================] - 5s 16ms/step - loss: 0.3493 - accuracy: 0.8561 - val_loss: 0.3941 - val_accuracy: 0.8238\n",
      "Epoch 28/100\n",
      "313/313 [==============================] - 5s 16ms/step - loss: 0.3481 - accuracy: 0.8561 - val_loss: 0.3923 - val_accuracy: 0.8238\n",
      "Epoch 29/100\n",
      "313/313 [==============================] - 5s 16ms/step - loss: 0.3465 - accuracy: 0.8563 - val_loss: 0.3964 - val_accuracy: 0.8188\n",
      "Epoch 30/100\n",
      "313/313 [==============================] - 5s 16ms/step - loss: 0.3456 - accuracy: 0.8570 - val_loss: 0.3942 - val_accuracy: 0.8228\n",
      "Epoch 31/100\n",
      "313/313 [==============================] - 5s 16ms/step - loss: 0.3443 - accuracy: 0.8570 - val_loss: 0.3955 - val_accuracy: 0.8272\n"
     ]
    }
   ],
   "source": [
    "model.compile(optimizer = keras.optimizers.RMSprop(learning_rate = 0.0001), loss = 'binary_crossentropy', metrics = 'accuracy')\n",
    "check_point_callback = keras.callbacks.ModelCheckpoint('best-lstm-model.h5', save_best_only=True)\n",
    "early_stopping_callback = keras.callbacks.EarlyStopping(patience = 3, restore_best_weights = True)\n",
    "history = model.fit(train_seq, train_target, epochs = 100, batch_size = 64,\n",
    "                    validation_data = (val_seq, val_target), \n",
    "                    callbacks = [check_point_callback, early_stopping_callback] )"
   ]
  },
  {
   "cell_type": "code",
   "execution_count": 7,
   "id": "160bbf81-d6b2-4b8a-9b1e-e23dcf1660c3",
   "metadata": {},
   "outputs": [
    {
     "data": {
      "image/png": "[encoded data removed]",
      "text/plain": [
       "<Figure size 432x288 with 1 Axes>"
      ]
     },
     "metadata": {
      "needs_background": "light"
     },
     "output_type": "display_data"
    }
   ],
   "source": [
    "plt.plot(history.history['loss'])\n",
    "plt.plot(history.history['val_loss'])\n",
    "plt.title('LSTM only')\n",
    "plt.xlabel('epochs')\n",
    "plt.ylabel('loss')\n",
    "plt.legend(['train_loss', 'val_loss'])\n",
    "plt.show()"
   ]
  },
  {
   "cell_type": "markdown",
   "id": "0d4cc7d7-b4d4-4964-9aed-05d14335c821",
   "metadata": {},
   "source": [
    "- simpleRNN에 비해 LSTM이 효과적으로 overfitting을 제어하고 있다. \n",
    "--- \n",
    "#### 2. LSTM with Dropout "
   ]
  },
  {
   "cell_type": "code",
   "execution_count": 8,
   "id": "995689ef-c210-4ac5-9434-9a6b757a3ec2",
   "metadata": {},
   "outputs": [
    {
     "name": "stdout",
     "output_type": "stream",
     "text": [
      "Model: \"sequential_1\"\n",
      "_________________________________________________________________\n",
      " Layer (type)                Output Shape              Param #   \n",
      "=================================================================\n",
      " embedding_1 (Embedding)     (None, 100, 16)           16000     \n",
      "                                                                 \n",
      " lstm_1 (LSTM)               (None, 100, 8)            800       \n",
      "                                                                 \n",
      " lstm_2 (LSTM)               (None, 8)                 544       \n",
      "                                                                 \n",
      " dense_1 (Dense)             (None, 1)                 9         \n",
      "                                                                 \n",
      "=================================================================\n",
      "Total params: 17,353\n",
      "Trainable params: 17,353\n",
      "Non-trainable params: 0\n",
      "_________________________________________________________________\n"
     ]
    }
   ],
   "source": [
    "## hidden layer add & 30%의 dropout을 적용\n",
    "## 첫번째 은닉층의 계산값을 다음 층으로 전달해줘야 하므로, return_sequences=True\n",
    "model2 = keras.Sequential()\n",
    "model2.add(keras.layers.Embedding(1000, 16, input_length = 100))\n",
    "model2.add(keras.layers.LSTM(8, dropout = 0.3, return_sequences=True))\n",
    "model2.add(keras.layers.LSTM(8, dropout = 0.3))\n",
    "model2.add(keras.layers.Dense(1, activation = 'sigmoid'))\n",
    "\n",
    "model2.summary()"
   ]
  },
  {
   "cell_type": "code",
   "execution_count": 9,
   "id": "52f2216e-501f-4730-abd3-7f9033207b03",
   "metadata": {},
   "outputs": [
    {
     "name": "stdout",
     "output_type": "stream",
     "text": [
      "Epoch 1/100\n",
      "313/313 [==============================] - 13s 33ms/step - loss: 0.6926 - accuracy: 0.5462 - val_loss: 0.6919 - val_accuracy: 0.5926\n",
      "Epoch 2/100\n",
      "313/313 [==============================] - 10s 32ms/step - loss: 0.6887 - accuracy: 0.6302 - val_loss: 0.6834 - val_accuracy: 0.6362\n",
      "Epoch 3/100\n",
      "313/313 [==============================] - 10s 32ms/step - loss: 0.6531 - accuracy: 0.6827 - val_loss: 0.6109 - val_accuracy: 0.7400\n",
      "Epoch 4/100\n",
      "313/313 [==============================] - 10s 32ms/step - loss: 0.5770 - accuracy: 0.7404 - val_loss: 0.5479 - val_accuracy: 0.7554\n",
      "Epoch 5/100\n",
      "313/313 [==============================] - 10s 32ms/step - loss: 0.5351 - accuracy: 0.7598 - val_loss: 0.5149 - val_accuracy: 0.7730\n",
      "Epoch 6/100\n",
      "313/313 [==============================] - 10s 33ms/step - loss: 0.5073 - accuracy: 0.7755 - val_loss: 0.4906 - val_accuracy: 0.7860\n",
      "Epoch 7/100\n",
      "313/313 [==============================] - 10s 32ms/step - loss: 0.4834 - accuracy: 0.7908 - val_loss: 0.4730 - val_accuracy: 0.7914\n",
      "Epoch 8/100\n",
      "313/313 [==============================] - 10s 32ms/step - loss: 0.4674 - accuracy: 0.7976 - val_loss: 0.4655 - val_accuracy: 0.7994\n",
      "Epoch 9/100\n",
      "313/313 [==============================] - 10s 32ms/step - loss: 0.4548 - accuracy: 0.8008 - val_loss: 0.4531 - val_accuracy: 0.7998\n",
      "Epoch 10/100\n",
      "313/313 [==============================] - 10s 32ms/step - loss: 0.4424 - accuracy: 0.8081 - val_loss: 0.4410 - val_accuracy: 0.8070\n",
      "Epoch 11/100\n",
      "313/313 [==============================] - 10s 32ms/step - loss: 0.4359 - accuracy: 0.8116 - val_loss: 0.4351 - val_accuracy: 0.8078\n",
      "Epoch 12/100\n",
      "313/313 [==============================] - 10s 32ms/step - loss: 0.4276 - accuracy: 0.8145 - val_loss: 0.4298 - val_accuracy: 0.8110\n",
      "Epoch 13/100\n",
      "313/313 [==============================] - 10s 32ms/step - loss: 0.4178 - accuracy: 0.8198 - val_loss: 0.4251 - val_accuracy: 0.8116\n",
      "Epoch 14/100\n",
      "313/313 [==============================] - 10s 32ms/step - loss: 0.4174 - accuracy: 0.8177 - val_loss: 0.4216 - val_accuracy: 0.8124\n",
      "Epoch 15/100\n",
      "313/313 [==============================] - 10s 32ms/step - loss: 0.4109 - accuracy: 0.8231 - val_loss: 0.4255 - val_accuracy: 0.8122\n",
      "Epoch 16/100\n",
      "313/313 [==============================] - 10s 32ms/step - loss: 0.4052 - accuracy: 0.8228 - val_loss: 0.4242 - val_accuracy: 0.8108\n",
      "Epoch 17/100\n",
      "313/313 [==============================] - 10s 33ms/step - loss: 0.4023 - accuracy: 0.8248 - val_loss: 0.4146 - val_accuracy: 0.8176\n",
      "Epoch 18/100\n",
      "313/313 [==============================] - 10s 32ms/step - loss: 0.4006 - accuracy: 0.8263 - val_loss: 0.4111 - val_accuracy: 0.8200\n",
      "Epoch 19/100\n",
      "313/313 [==============================] - 10s 32ms/step - loss: 0.3960 - accuracy: 0.8286 - val_loss: 0.4099 - val_accuracy: 0.8192\n",
      "Epoch 20/100\n",
      "313/313 [==============================] - 10s 32ms/step - loss: 0.3910 - accuracy: 0.8310 - val_loss: 0.4078 - val_accuracy: 0.8198\n",
      "Epoch 21/100\n",
      "313/313 [==============================] - 10s 32ms/step - loss: 0.3906 - accuracy: 0.8315 - val_loss: 0.4064 - val_accuracy: 0.8220\n",
      "Epoch 22/100\n",
      "313/313 [==============================] - 10s 32ms/step - loss: 0.3876 - accuracy: 0.8319 - val_loss: 0.4093 - val_accuracy: 0.8156\n",
      "Epoch 23/100\n",
      "313/313 [==============================] - 10s 32ms/step - loss: 0.3850 - accuracy: 0.8348 - val_loss: 0.4031 - val_accuracy: 0.8182\n",
      "Epoch 24/100\n",
      "313/313 [==============================] - 11s 34ms/step - loss: 0.3807 - accuracy: 0.8381 - val_loss: 0.4026 - val_accuracy: 0.8214\n",
      "Epoch 25/100\n",
      "313/313 [==============================] - 11s 35ms/step - loss: 0.3789 - accuracy: 0.8366 - val_loss: 0.4009 - val_accuracy: 0.8196\n",
      "Epoch 26/100\n",
      "313/313 [==============================] - 11s 35ms/step - loss: 0.3773 - accuracy: 0.8353 - val_loss: 0.4007 - val_accuracy: 0.8220\n",
      "Epoch 27/100\n",
      "313/313 [==============================] - 12s 38ms/step - loss: 0.3748 - accuracy: 0.8383 - val_loss: 0.3994 - val_accuracy: 0.8168\n",
      "Epoch 28/100\n",
      "313/313 [==============================] - 12s 39ms/step - loss: 0.3732 - accuracy: 0.8395 - val_loss: 0.3972 - val_accuracy: 0.8178\n",
      "Epoch 29/100\n",
      "313/313 [==============================] - 12s 40ms/step - loss: 0.3739 - accuracy: 0.8385 - val_loss: 0.4069 - val_accuracy: 0.8112\n",
      "Epoch 30/100\n",
      "313/313 [==============================] - 12s 38ms/step - loss: 0.3713 - accuracy: 0.8385 - val_loss: 0.3969 - val_accuracy: 0.8224\n",
      "Epoch 31/100\n",
      "313/313 [==============================] - 11s 37ms/step - loss: 0.3669 - accuracy: 0.8418 - val_loss: 0.3963 - val_accuracy: 0.8214\n",
      "Epoch 32/100\n",
      "313/313 [==============================] - 11s 37ms/step - loss: 0.3649 - accuracy: 0.8443 - val_loss: 0.3961 - val_accuracy: 0.8208\n",
      "Epoch 33/100\n",
      "313/313 [==============================] - 11s 37ms/step - loss: 0.3659 - accuracy: 0.8413 - val_loss: 0.3995 - val_accuracy: 0.8158\n",
      "Epoch 34/100\n",
      "313/313 [==============================] - 11s 36ms/step - loss: 0.3648 - accuracy: 0.8447 - val_loss: 0.3933 - val_accuracy: 0.8202\n",
      "Epoch 35/100\n",
      "313/313 [==============================] - 11s 35ms/step - loss: 0.3626 - accuracy: 0.8432 - val_loss: 0.3930 - val_accuracy: 0.8226\n",
      "Epoch 36/100\n",
      "313/313 [==============================] - 12s 37ms/step - loss: 0.3603 - accuracy: 0.8446 - val_loss: 0.3927 - val_accuracy: 0.8200\n",
      "Epoch 37/100\n",
      "313/313 [==============================] - 11s 36ms/step - loss: 0.3584 - accuracy: 0.8479 - val_loss: 0.3972 - val_accuracy: 0.8178\n",
      "Epoch 38/100\n",
      "313/313 [==============================] - 12s 37ms/step - loss: 0.3589 - accuracy: 0.8459 - val_loss: 0.3909 - val_accuracy: 0.8224\n",
      "Epoch 39/100\n",
      "313/313 [==============================] - 11s 35ms/step - loss: 0.3570 - accuracy: 0.8461 - val_loss: 0.3896 - val_accuracy: 0.8224\n",
      "Epoch 40/100\n",
      "313/313 [==============================] - 11s 36ms/step - loss: 0.3586 - accuracy: 0.8441 - val_loss: 0.4007 - val_accuracy: 0.8200\n",
      "Epoch 41/100\n",
      "313/313 [==============================] - 11s 35ms/step - loss: 0.3576 - accuracy: 0.8475 - val_loss: 0.3892 - val_accuracy: 0.8232\n",
      "Epoch 42/100\n",
      "313/313 [==============================] - 11s 34ms/step - loss: 0.3555 - accuracy: 0.8477 - val_loss: 0.3901 - val_accuracy: 0.8254\n",
      "Epoch 43/100\n",
      "313/313 [==============================] - 11s 37ms/step - loss: 0.3563 - accuracy: 0.8471 - val_loss: 0.3920 - val_accuracy: 0.8210\n",
      "Epoch 44/100\n",
      "313/313 [==============================] - 11s 36ms/step - loss: 0.3534 - accuracy: 0.8483 - val_loss: 0.3899 - val_accuracy: 0.8252\n"
     ]
    }
   ],
   "source": [
    "model2.compile(optimizer = keras.optimizers.RMSprop(learning_rate = 0.0001), loss = 'binary_crossentropy', metrics = 'accuracy')\n",
    "check_point_callback = keras.callbacks.ModelCheckpoint('best-lstm-dropout-model.h5', save_best_only=True)\n",
    "early_stopping_callback = keras.callbacks.EarlyStopping(patience = 3, restore_best_weights = True)\n",
    "history2 = model2.fit(train_seq, train_target, epochs = 100, batch_size = 64,\n",
    "                    validation_data = (val_seq, val_target), \n",
    "                    callbacks = [check_point_callback, early_stopping_callback] )"
   ]
  },
  {
   "cell_type": "code",
   "execution_count": 10,
   "id": "f28c4460-5939-4d79-9bd9-5261a2c6ec35",
   "metadata": {},
   "outputs": [
    {
     "data": {
      "image/png": "[encoded data removed]",
      "text/plain": [
       "<Figure size 432x288 with 1 Axes>"
      ]
     },
     "metadata": {
      "needs_background": "light"
     },
     "output_type": "display_data"
    }
   ],
   "source": [
    "plt.plot(history2.history['loss'])\n",
    "plt.plot(history2.history['val_loss'])\n",
    "plt.title('LSTM with dropout 30%')\n",
    "plt.xlabel('epochs')\n",
    "plt.ylabel('loss')\n",
    "plt.legend(['train_loss', 'val_loss'])\n",
    "plt.show()"
   ]
  },
  {
   "cell_type": "code",
   "execution_count": 11,
   "id": "2f4eb54a-bd75-4d76-ac04-0f51c57e7a04",
   "metadata": {},
   "outputs": [
    {
     "name": "stdout",
     "output_type": "stream",
     "text": [
      "782/782 [==============================] - 3s 4ms/step - loss: 0.3863 - accuracy: 0.8271\n",
      "Model 1 - LSTM Only =  [0.38628751039505005, 0.8270800113677979]\n",
      "782/782 [==============================] - 6s 7ms/step - loss: 0.3810 - accuracy: 0.8275\n",
      "Model 2 - LSTM with 2 layers & dropout 0.3 =  [0.3810323178768158, 0.8275200128555298]\n"
     ]
    }
   ],
   "source": [
    "## 모델의 성능 보기, test_input에도 train_input과 마찬가지로 padding이 적용되어야 한다. \n",
    "test_seq = pad_sequences(test_input, maxlen = 100)\n",
    "eval_model1 = keras.models.load_model('best-lstm-model.h5')\n",
    "eval_model2 = keras.models.load_model('best-lstm-dropout-model.h5')\n",
    "\n",
    "print('Model 1 - LSTM Only = ' , eval_model1.evaluate(test_seq, test_target))\n",
    "print('Model 2 - LSTM with 2 layers & dropout 0.3 = ' , eval_model2.evaluate(test_seq, test_target))"
   ]
  },
  {
   "cell_type": "markdown",
   "id": "56c15183-6369-4ff2-9508-e74c87926c2d",
   "metadata": {},
   "source": [
    "- 보통 layer를 추가하고, dropout을 적용하면 모델 성능은 개선되면서 overfitting은 제어된다. \n",
    "- (본 예제에서는 데이터가 비교적 심플하여 model1, model2의 차이가 크지 않았음)\n",
    "--- \n",
    "#### 3. GRU \n",
    "- LSTM 대신 GRU 사용 "
   ]
  },
  {
   "cell_type": "code",
   "execution_count": 12,
   "id": "2e9705d1-2a83-4634-854a-0c0b93760918",
   "metadata": {},
   "outputs": [
    {
     "name": "stdout",
     "output_type": "stream",
     "text": [
      "Model: \"sequential_2\"\n",
      "_________________________________________________________________\n",
      " Layer (type)                Output Shape              Param #   \n",
      "=================================================================\n",
      " embedding_2 (Embedding)     (None, 100, 16)           16000     \n",
      "                                                                 \n",
      " gru (GRU)                   (None, 100, 8)            624       \n",
      "                                                                 \n",
      " gru_1 (GRU)                 (None, 8)                 432       \n",
      "                                                                 \n",
      " dense_2 (Dense)             (None, 1)                 9         \n",
      "                                                                 \n",
      "=================================================================\n",
      "Total params: 17,065\n",
      "Trainable params: 17,065\n",
      "Non-trainable params: 0\n",
      "_________________________________________________________________\n",
      "None\n",
      "#########################################################################################################################\n",
      "Epoch 1/100\n",
      "313/313 [==============================] - 14s 37ms/step - loss: 0.6927 - accuracy: 0.5171 - val_loss: 0.6918 - val_accuracy: 0.5710\n",
      "Epoch 2/100\n",
      "313/313 [==============================] - 11s 36ms/step - loss: 0.6901 - accuracy: 0.5835 - val_loss: 0.6884 - val_accuracy: 0.6146\n",
      "Epoch 3/100\n",
      "313/313 [==============================] - 11s 36ms/step - loss: 0.6844 - accuracy: 0.6193 - val_loss: 0.6799 - val_accuracy: 0.6372\n",
      "Epoch 4/100\n",
      "313/313 [==============================] - 11s 36ms/step - loss: 0.6700 - accuracy: 0.6494 - val_loss: 0.6603 - val_accuracy: 0.6636\n",
      "Epoch 5/100\n",
      "313/313 [==============================] - 12s 38ms/step - loss: 0.6415 - accuracy: 0.6737 - val_loss: 0.6230 - val_accuracy: 0.6892\n",
      "Epoch 6/100\n",
      "313/313 [==============================] - 12s 39ms/step - loss: 0.5946 - accuracy: 0.7003 - val_loss: 0.5711 - val_accuracy: 0.7188\n",
      "Epoch 7/100\n",
      "313/313 [==============================] - 12s 38ms/step - loss: 0.5451 - accuracy: 0.7274 - val_loss: 0.5311 - val_accuracy: 0.7362\n",
      "Epoch 8/100\n",
      "313/313 [==============================] - 12s 39ms/step - loss: 0.5104 - accuracy: 0.7527 - val_loss: 0.5066 - val_accuracy: 0.7540\n",
      "Epoch 9/100\n",
      "313/313 [==============================] - 12s 37ms/step - loss: 0.4854 - accuracy: 0.7692 - val_loss: 0.4767 - val_accuracy: 0.7752\n",
      "Epoch 10/100\n",
      "313/313 [==============================] - 12s 40ms/step - loss: 0.4609 - accuracy: 0.7877 - val_loss: 0.4612 - val_accuracy: 0.7872\n",
      "Epoch 11/100\n",
      "313/313 [==============================] - 12s 37ms/step - loss: 0.4470 - accuracy: 0.7980 - val_loss: 0.4499 - val_accuracy: 0.7950\n",
      "Epoch 12/100\n",
      "313/313 [==============================] - 12s 37ms/step - loss: 0.4402 - accuracy: 0.8031 - val_loss: 0.4427 - val_accuracy: 0.7972\n",
      "Epoch 13/100\n",
      "313/313 [==============================] - 12s 38ms/step - loss: 0.4291 - accuracy: 0.8102 - val_loss: 0.4376 - val_accuracy: 0.8018\n",
      "Epoch 14/100\n",
      "313/313 [==============================] - 12s 37ms/step - loss: 0.4238 - accuracy: 0.8143 - val_loss: 0.4343 - val_accuracy: 0.8024\n",
      "Epoch 15/100\n",
      "313/313 [==============================] - 13s 41ms/step - loss: 0.4186 - accuracy: 0.8151 - val_loss: 0.4413 - val_accuracy: 0.7962\n",
      "Epoch 16/100\n",
      "313/313 [==============================] - 12s 38ms/step - loss: 0.4138 - accuracy: 0.8194 - val_loss: 0.4312 - val_accuracy: 0.8042\n",
      "Epoch 17/100\n",
      "313/313 [==============================] - 12s 39ms/step - loss: 0.4097 - accuracy: 0.8207 - val_loss: 0.4330 - val_accuracy: 0.8014\n",
      "Epoch 18/100\n",
      "313/313 [==============================] - 12s 38ms/step - loss: 0.4044 - accuracy: 0.8246 - val_loss: 0.4272 - val_accuracy: 0.8066\n",
      "Epoch 19/100\n",
      "313/313 [==============================] - 12s 38ms/step - loss: 0.4005 - accuracy: 0.8270 - val_loss: 0.4218 - val_accuracy: 0.8112\n",
      "Epoch 20/100\n",
      "313/313 [==============================] - 13s 41ms/step - loss: 0.3968 - accuracy: 0.8303 - val_loss: 0.4165 - val_accuracy: 0.8100\n",
      "Epoch 21/100\n",
      "313/313 [==============================] - 12s 38ms/step - loss: 0.3952 - accuracy: 0.8291 - val_loss: 0.4188 - val_accuracy: 0.8118\n",
      "Epoch 22/100\n",
      "313/313 [==============================] - 12s 38ms/step - loss: 0.3914 - accuracy: 0.8323 - val_loss: 0.4151 - val_accuracy: 0.8136\n",
      "Epoch 23/100\n",
      "313/313 [==============================] - 12s 38ms/step - loss: 0.3890 - accuracy: 0.8331 - val_loss: 0.4106 - val_accuracy: 0.8130\n",
      "Epoch 24/100\n",
      "313/313 [==============================] - 12s 38ms/step - loss: 0.3848 - accuracy: 0.8359 - val_loss: 0.4107 - val_accuracy: 0.8148\n",
      "Epoch 25/100\n",
      "313/313 [==============================] - 13s 41ms/step - loss: 0.3870 - accuracy: 0.8339 - val_loss: 0.4102 - val_accuracy: 0.8180\n",
      "Epoch 26/100\n",
      "313/313 [==============================] - 12s 38ms/step - loss: 0.3829 - accuracy: 0.8342 - val_loss: 0.4186 - val_accuracy: 0.8106\n",
      "Epoch 27/100\n",
      "313/313 [==============================] - 12s 38ms/step - loss: 0.3815 - accuracy: 0.8382 - val_loss: 0.4072 - val_accuracy: 0.8178\n",
      "Epoch 28/100\n",
      "313/313 [==============================] - 12s 39ms/step - loss: 0.3785 - accuracy: 0.8375 - val_loss: 0.4064 - val_accuracy: 0.8192\n",
      "Epoch 29/100\n",
      "313/313 [==============================] - 12s 38ms/step - loss: 0.3764 - accuracy: 0.8390 - val_loss: 0.4096 - val_accuracy: 0.8140\n",
      "Epoch 30/100\n",
      "313/313 [==============================] - 13s 40ms/step - loss: 0.3772 - accuracy: 0.8388 - val_loss: 0.4021 - val_accuracy: 0.8180\n",
      "Epoch 31/100\n",
      "313/313 [==============================] - 12s 37ms/step - loss: 0.3744 - accuracy: 0.8404 - val_loss: 0.4022 - val_accuracy: 0.8198\n",
      "Epoch 32/100\n",
      "313/313 [==============================] - 12s 37ms/step - loss: 0.3728 - accuracy: 0.8407 - val_loss: 0.4031 - val_accuracy: 0.8208\n",
      "Epoch 33/100\n",
      "313/313 [==============================] - 11s 35ms/step - loss: 0.3705 - accuracy: 0.8422 - val_loss: 0.4034 - val_accuracy: 0.8158\n",
      "#########################################################################################################################\n"
     ]
    },
    {
     "data": {
      "image/png": "[encoded data removed]",
      "text/plain": [
       "<Figure size 432x288 with 1 Axes>"
      ]
     },
     "metadata": {
      "needs_background": "light"
     },
     "output_type": "display_data"
    },
    {
     "name": "stdout",
     "output_type": "stream",
     "text": [
      "#########################################################################################################################\n",
      "782/782 [==============================] - 3s 3ms/step - loss: 0.3863 - accuracy: 0.8271\n",
      "Model 1 - LSTM Only =  [0.38628751039505005, 0.8270800113677979]\n",
      "782/782 [==============================] - 5s 6ms/step - loss: 0.3810 - accuracy: 0.8275\n",
      "Model 2 - LSTM with 2 layers & dropout 0.3 =  [0.3810323178768158, 0.8275200128555298]\n",
      "782/782 [==============================] - 6s 6ms/step - loss: 0.3965 - accuracy: 0.8231\n",
      "Model 3 - GRU (with 2 layers & dropout 0.3) = [0.39649608731269836, 0.8231199979782104]\n"
     ]
    }
   ],
   "source": [
    "## hidden layer add & 30%의 dropout을 적용\n",
    "## 첫번째 은닉층의 계산값을 다음 층으로 전달해줘야 하므로, return_sequences=True\n",
    "model3 = keras.Sequential()\n",
    "model3.add(keras.layers.Embedding(1000, 16, input_length = 100))\n",
    "model3.add(keras.layers.GRU(8, dropout = 0.3, return_sequences=True))\n",
    "model3.add(keras.layers.GRU(8, dropout = 0.3))\n",
    "model3.add(keras.layers.Dense(1, activation = 'sigmoid'))\n",
    "print( model3.summary() ) \n",
    "print('#########################################################################################################################')\n",
    "\n",
    "model3.compile(optimizer = keras.optimizers.RMSprop(learning_rate = 0.0001), loss = 'binary_crossentropy', metrics = 'accuracy')\n",
    "check_point_callback = keras.callbacks.ModelCheckpoint('best-GRU-model.h5', save_best_only=True)\n",
    "early_stopping_callback = keras.callbacks.EarlyStopping(patience = 3, restore_best_weights = True)\n",
    "history3 = model3.fit(train_seq, train_target, epochs = 100, batch_size = 64,\n",
    "                    validation_data = (val_seq, val_target), \n",
    "                    callbacks = [check_point_callback, early_stopping_callback] )\n",
    "\n",
    "print('#########################################################################################################################')\n",
    "plt.plot(history3.history['loss'])\n",
    "plt.plot(history3.history['val_loss'])\n",
    "plt.title('GRU with dropout 30%')\n",
    "plt.xlabel('epochs')\n",
    "plt.ylabel('loss')\n",
    "plt.legend(['train_loss', 'val_loss'])\n",
    "plt.show()\n",
    "\n",
    "print('#########################################################################################################################')\n",
    "#test_seq = pad_sequences(test_input, maxlen = 100)\n",
    "eval_model3 = keras.models.load_model('best-GRU-model.h5')\n",
    "print('Model 1 - LSTM Only = ' , eval_model1.evaluate(test_seq, test_target))\n",
    "print('Model 2 - LSTM with 2 layers & dropout 0.3 = ' , eval_model2.evaluate(test_seq, test_target))\n",
    "print('Model 3 - GRU (with 2 layers & dropout 0.3) =' , eval_model3.evaluate(test_seq, test_target) )"
   ]
  },
  {
   "cell_type": "markdown",
   "id": "eb980bfe-b568-4503-8e9e-381ab3cde157",
   "metadata": {},
   "source": [
    "- 이중 layer와 dropout을 사용한 model2가 가장 좋은 성능을 나타냈다. \n",
    "- 한편 GRU 또한 상대적으로 적은 계산량에도 불구 model2(LSTM)과 거의 유사한 결과를 보였다. "
   ]
  },
  {
   "cell_type": "code",
   "execution_count": null,
   "id": "e452ecb3-a5da-466c-a9ed-c86da018ad41",
   "metadata": {},
   "outputs": [],
   "source": []
  }
 ],
 "metadata": {
  "kernelspec": {
   "display_name": "Python 3",
   "language": "python",
   "name": "python3"
  },
  "language_info": {
   "codemirror_mode": {
    "name": "ipython",
    "version": 3
   },
   "file_extension": ".py",
   "mimetype": "text/x-python",
   "name": "python",
   "nbconvert_exporter": "python",
   "pygments_lexer": "ipython3",
   "version": "3.8.8"
  }
 },
 "nbformat": 4,
 "nbformat_minor": 5
}
