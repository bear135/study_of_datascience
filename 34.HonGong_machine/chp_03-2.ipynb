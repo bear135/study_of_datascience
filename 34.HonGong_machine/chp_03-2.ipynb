{
 "cells": [
  {
   "cell_type": "markdown",
   "id": "524c35d9-c837-4b1b-9608-c6632dacb618",
   "metadata": {},
   "source": [
    "## Chapter 03 회귀 알고리즘과 모델 규제 ▶️농어의 무게를 예측하라!"
   ]
  },
  {
   "cell_type": "markdown",
   "id": "d983de9c-f8f1-4cd9-a88b-a0eba0d015a8",
   "metadata": {},
   "source": [
    "### 03-2 선형 회귀 ▶️ 사이킷런으로 선형 회귀 모델 만들어 보기"
   ]
  },
  {
   "cell_type": "markdown",
   "id": "8e08ed55-ad72-4e0e-a79d-6632ff45d73b",
   "metadata": {},
   "source": [
    "- KNN은 근접한 이웃들의 값을 참고로 하기 때문에, 기존 데이터에서 상당부분 벗어나는 케이스가 등장할 경우 예측에 한계가 발생함 \n",
    "- 예를 들어 길이가 50cm인 특대형 농어의 무게를 예측하려 할때, 기존 데이터셋에서 최대 길이인 45cm 정도일때의 무게로써 예측할 수 밖에 없음 "
   ]
  },
  {
   "cell_type": "code",
   "execution_count": 1,
   "id": "02d42091-3d7f-4132-9efc-2f4ccd7289ec",
   "metadata": {},
   "outputs": [],
   "source": [
    "import numpy as np \n",
    "import matplotlib.pyplot as plt "
   ]
  },
  {
   "cell_type": "code",
   "execution_count": 2,
   "id": "559eddd1-1265-4d55-b03a-4ca4d137b6f2",
   "metadata": {},
   "outputs": [
    {
     "name": "stdout",
     "output_type": "stream",
     "text": [
      "(56,)\n",
      "(56,)\n"
     ]
    }
   ],
   "source": [
    "perch_length = np.array(\n",
    "    [8.4, 13.7, 15.0, 16.2, 17.4, 18.0, 18.7, 19.0, 19.6, 20.0, \n",
    "     21.0, 21.0, 21.0, 21.3, 22.0, 22.0, 22.0, 22.0, 22.0, 22.5, \n",
    "     22.5, 22.7, 23.0, 23.5, 24.0, 24.0, 24.6, 25.0, 25.6, 26.5, \n",
    "     27.3, 27.5, 27.5, 27.5, 28.0, 28.7, 30.0, 32.8, 34.5, 35.0, \n",
    "     36.5, 36.0, 37.0, 37.0, 39.0, 39.0, 39.0, 40.0, 40.0, 40.0, \n",
    "     40.0, 42.0, 43.0, 43.0, 43.5, 44.0]\n",
    "     )\n",
    "\n",
    "perch_weight = np.array(\n",
    "    [5.9, 32.0, 40.0, 51.5, 70.0, 100.0, 78.0, 80.0, 85.0, 85.0, \n",
    "     110.0, 115.0, 125.0, 130.0, 120.0, 120.0, 130.0, 135.0, 110.0, \n",
    "     130.0, 150.0, 145.0, 150.0, 170.0, 225.0, 145.0, 188.0, 180.0, \n",
    "     197.0, 218.0, 300.0, 260.0, 265.0, 250.0, 250.0, 300.0, 320.0, \n",
    "     514.0, 556.0, 840.0, 685.0, 700.0, 700.0, 690.0, 900.0, 650.0, \n",
    "     820.0, 850.0, 900.0, 1015.0, 820.0, 1100.0, 1000.0, 1100.0, \n",
    "     1000.0, 1000.0]\n",
    "     )\n",
    "\n",
    "print( perch_length.shape )\n",
    "print( perch_weight.shape )"
   ]
  },
  {
   "cell_type": "code",
   "execution_count": 3,
   "id": "04b699ac-e88e-47b2-8250-99768356248d",
   "metadata": {},
   "outputs": [
    {
     "name": "stdout",
     "output_type": "stream",
     "text": [
      "(42,)\n",
      "(14,)\n",
      "(42,)\n",
      "(14,)\n"
     ]
    }
   ],
   "source": [
    "from sklearn.model_selection import train_test_split\n",
    "train_input, test_input, train_target, test_target = train_test_split(\n",
    "    perch_length, perch_weight, random_state = 42\n",
    ")\n",
    "\n",
    "print( train_input.shape )\n",
    "print( test_input.shape )\n",
    "print( train_target.shape )\n",
    "print( test_target.shape )"
   ]
  },
  {
   "cell_type": "code",
   "execution_count": 4,
   "id": "59076cf5-4e08-40d0-b339-4bf319d4d0c4",
   "metadata": {},
   "outputs": [
    {
     "name": "stdout",
     "output_type": "stream",
     "text": [
      "(42, 1)\n",
      "(14, 1)\n"
     ]
    }
   ],
   "source": [
    "## reshape를 사용하여, train_input과 test_input의 형태를 2차원으로 변환 : (42,) -> (42,1) & (14,) -> (14,1)\n",
    "train_input = train_input.reshape(-1, 1)  ## = train_input.reshape(42, 1)\n",
    "test_input = test_input.reshape(-1, 1)\n",
    "\n",
    "print( train_input.shape )\n",
    "print( test_input.shape )"
   ]
  },
  {
   "cell_type": "code",
   "execution_count": 8,
   "id": "d169f074-7440-4884-887d-49dcbb9469dc",
   "metadata": {},
   "outputs": [
    {
     "name": "stdout",
     "output_type": "stream",
     "text": [
      "0.939846333997604\n",
      "0.8247503123313558\n"
     ]
    }
   ],
   "source": [
    "## linear regression 사용 \n",
    "from sklearn.linear_model import LinearRegression\n",
    "model = LinearRegression()\n",
    "model.fit(train_input, train_target)\n",
    "print( model.score(train_input, train_target) )\n",
    "print( model.score(test_input, test_target) )"
   ]
  },
  {
   "cell_type": "code",
   "execution_count": 10,
   "id": "5bd4a702-eb5f-4255-ae9b-6c7b1c05eb8e",
   "metadata": {},
   "outputs": [
    {
     "name": "stdout",
     "output_type": "stream",
     "text": [
      "-709.0186449535477\n",
      "[39.01714496]\n"
     ]
    }
   ],
   "source": [
    "## linear regression model의 계수확인 \n",
    "print( model.intercept_ )\n",
    "print( model.coef_ )"
   ]
  },
  {
   "cell_type": "code",
   "execution_count": 12,
   "id": "b77a3a28-15d1-4e69-b6e0-8de3f52f2a3f",
   "metadata": {},
   "outputs": [
    {
     "data": {
      "image/png": "[encoded data removed]",
      "text/plain": [
       "<Figure size 432x288 with 1 Axes>"
      ]
     },
     "metadata": {
      "needs_background": "light"
     },
     "output_type": "display_data"
    }
   ],
   "source": [
    "plt.scatter(train_input, train_target)\n",
    "## 농어 길이 15와 50일때의 무게를 잇는 직선 \n",
    "plt.plot([15, 50], [model.intercept_ + 15*model.coef_ , model.intercept_ + 50*model.coef_ ])\n",
    "plt.xlabel('length')\n",
    "plt.ylabel('weight')\n",
    "plt.show()"
   ]
  },
  {
   "cell_type": "markdown",
   "id": "19ed25fa-0662-4de3-a74c-a579ff4a03a4",
   "metadata": {},
   "source": [
    "------------------------------------------------------------------------------\n",
    "- 분포를 보니 선형 보다는 2차 방정식을 사용하는 것이 좀더 적합해 보임"
   ]
  },
  {
   "cell_type": "code",
   "execution_count": 14,
   "id": "e59b9071-7fbd-473c-bb98-581a41f9cfba",
   "metadata": {},
   "outputs": [
    {
     "name": "stdout",
     "output_type": "stream",
     "text": [
      "(42, 2)\n",
      "(14, 2)\n"
     ]
    }
   ],
   "source": [
    "## input값을 제곱하여 새로운 컬럼 데이터를 추가한다.(기존의 값도 버릴 필요 없이 같이 학습에 사용한다.)\n",
    "train_square = np.column_stack((train_input**2, train_input))\n",
    "test_square = np.column_stack((test_input**2, test_input))\n",
    "\n",
    "print(train_square.shape)\n",
    "print(test_square.shape)"
   ]
  },
  {
   "cell_type": "code",
   "execution_count": 15,
   "id": "75676bde-db9e-48c8-868b-041518a80db3",
   "metadata": {},
   "outputs": [
    {
     "name": "stdout",
     "output_type": "stream",
     "text": [
      "0.9706807451768623\n",
      "0.9775935108325122\n"
     ]
    }
   ],
   "source": [
    "model_2 = LinearRegression()\n",
    "model_2.fit(train_square, train_target)\n",
    "print( model_2.score(train_square, train_target) )\n",
    "print( model_2.score(test_square, test_target) )"
   ]
  },
  {
   "cell_type": "code",
   "execution_count": 16,
   "id": "8be0e3cb-2fb0-48e4-bcd2-5102a4941a87",
   "metadata": {},
   "outputs": [
    {
     "name": "stdout",
     "output_type": "stream",
     "text": [
      "116.05021078278304\n",
      "[  1.01433211 -21.55792498]\n"
     ]
    }
   ],
   "source": [
    "print( model_2.intercept_ )\n",
    "print( model_2.coef_ )"
   ]
  },
  {
   "cell_type": "markdown",
   "id": "763fdd2e-04cc-4c23-aeb6-d21d53e40d3c",
   "metadata": {},
   "source": [
    "- 방정식 : y = 116.05021078278304 + 1.01433211*x^2 -21.55792498*x "
   ]
  },
  {
   "cell_type": "code",
   "execution_count": 17,
   "id": "61a67faf-9218-416a-9202-f57d02fca9b0",
   "metadata": {},
   "outputs": [
    {
     "data": {
      "image/png": "[encoded data removed]",
      "text/plain": [
       "<Figure size 432x288 with 1 Axes>"
      ]
     },
     "metadata": {
      "needs_background": "light"
     },
     "output_type": "display_data"
    }
   ],
   "source": [
    "plt.scatter(train_input, train_target)\n",
    "## 농어 길이 15와 50까지의 무게를 잇는 곡선 \n",
    "point = np.arange(15, 51)\n",
    "plt.plot(point, model_2.intercept_ + 1.01433211*point**2 - 21.55792498*point)\n",
    "\n",
    "plt.xlabel('length')\n",
    "plt.ylabel('weight')\n",
    "plt.show()"
   ]
  },
  {
   "cell_type": "code",
   "execution_count": null,
   "id": "aad3dd44-b93b-4298-a70b-e41f87526225",
   "metadata": {},
   "outputs": [],
   "source": []
  }
 ],
 "metadata": {
  "kernelspec": {
   "display_name": "Python 3",
   "language": "python",
   "name": "python3"
  },
  "language_info": {
   "codemirror_mode": {
    "name": "ipython",
    "version": 3
   },
   "file_extension": ".py",
   "mimetype": "text/x-python",
   "name": "python",
   "nbconvert_exporter": "python",
   "pygments_lexer": "ipython3",
   "version": "3.8.8"
  }
 },
 "nbformat": 4,
 "nbformat_minor": 5
}
