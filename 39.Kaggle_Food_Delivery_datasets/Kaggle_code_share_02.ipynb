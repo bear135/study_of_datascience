{
 "cells": [
  {
   "cell_type": "code",
   "execution_count": 1,
   "metadata": {},
   "outputs": [],
   "source": [
    "#!pip install imblearn\n",
    "#!pip install eli5\n",
    "#!pip install ast\n",
    "#!pip install collections\n",
    "#!pip install simplefilter"
   ]
  },
  {
   "cell_type": "code",
   "execution_count": 2,
   "metadata": {},
   "outputs": [],
   "source": [
    "import numpy as np\n",
    "import re\n",
    "import pandas as pd\n",
    "from matplotlib import pyplot as plt\n",
    "from sklearn.impute import SimpleImputer\n",
    "from sklearn.model_selection import train_test_split\n",
    "from sklearn.svm import SVC\n",
    "from sklearn.ensemble import RandomForestRegressor\n",
    "from sklearn.ensemble import RandomForestClassifier\n",
    "from __future__ import unicode_literals\n",
    "from collections import Counter\n",
    "from math import *\n",
    "from sklearn.model_selection import cross_validate\n",
    "from sklearn.metrics import roc_curve, roc_auc_score\n",
    "from xgboost import XGBRegressor,XGBClassifier\n",
    "from lightgbm import LGBMClassifier,LGBMRegressor\n",
    "from sklearn.model_selection import cross_val_score\n",
    "from imblearn.over_sampling import SMOTE\n",
    "from imblearn.combine import SMOTEENN\n",
    "from sklearn.linear_model import LinearRegression,Ridge,Lasso,RidgeCV\n",
    "from sklearn.ensemble import BaggingRegressor,GradientBoostingRegressor,AdaBoostRegressor\n",
    "from sklearn.ensemble import BaggingClassifier,GradientBoostingClassifier,AdaBoostClassifier\n",
    "from sklearn.svm import SVR\n",
    "#import eli5\n",
    "from sklearn.neighbors import KNeighborsRegressor,KNeighborsClassifier\n",
    "from sklearn.preprocessing import LabelEncoder\n",
    "from sklearn.linear_model import ElasticNet\n",
    "from sklearn.linear_model import LogisticRegression\n",
    "from sklearn.neighbors import NearestCentroid\n",
    "from sklearn.metrics import classification_report, f1_score,accuracy_score ,confusion_matrix\n",
    "from sklearn.linear_model import LinearRegression\n",
    "from sklearn.metrics import confusion_matrix\n",
    "from collections import Counter\n",
    "from sklearn.metrics import mean_squared_error\n",
    "from sklearn.preprocessing import StandardScaler\n",
    "from sklearn.preprocessing import MinMaxScaler\n",
    "from sklearn.metrics import r2_score\n",
    "from sklearn.tree import DecisionTreeClassifier\n",
    "from sklearn.tree import DecisionTreeRegressor\n",
    "from sklearn.ensemble import IsolationForest\n",
    "import matplotlib.gridspec as gridspec\n",
    "from sklearn.impute import KNNImputer\n",
    "import seaborn as sns\n",
    "import warnings\n",
    "from warnings import simplefilter\n",
    "import ast\n",
    "simplefilter(action='ignore', category=FutureWarning)\n",
    "pd.options.mode.chained_assignment = None  # default='warn'\n",
    "from warnings import simplefilter\n",
    "# ignore all future warnings\n",
    "simplefilter(action='ignore', category=FutureWarning)\n",
    "import warnings\n",
    "warnings.filterwarnings(\"ignore\")\n",
    "pd.set_option('display.max_columns', None)\n",
    "import warnings\n",
    "with warnings.catch_warnings():\n",
    "    warnings.simplefilter(action='ignore', category=pd.errors.PerformanceWarning)"
   ]
  },
  {
   "cell_type": "code",
   "execution_count": 3,
   "metadata": {},
   "outputs": [],
   "source": [
    "train_df = pd.read_csv(\"data/train.csv\")\n",
    "train_df.replace(\"NaN\",np.nan,regex=True,inplace=True)\n",
    "test_df = pd.read_csv(\"data/test.csv\")\n",
    "test_df.replace(\"NaN\",np.nan,regex=True,inplace=True)"
   ]
  },
  {
   "cell_type": "code",
   "execution_count": 4,
   "metadata": {},
   "outputs": [
    {
     "data": {
      "text/html": [
       "<div>\n",
       "<style scoped>\n",
       "    .dataframe tbody tr th:only-of-type {\n",
       "        vertical-align: middle;\n",
       "    }\n",
       "\n",
       "    .dataframe tbody tr th {\n",
       "        vertical-align: top;\n",
       "    }\n",
       "\n",
       "    .dataframe thead th {\n",
       "        text-align: right;\n",
       "    }\n",
       "</style>\n",
       "<table border=\"1\" class=\"dataframe\">\n",
       "  <thead>\n",
       "    <tr style=\"text-align: right;\">\n",
       "      <th></th>\n",
       "      <th>ID</th>\n",
       "      <th>Delivery_person_ID</th>\n",
       "      <th>Delivery_person_Age</th>\n",
       "      <th>Delivery_person_Ratings</th>\n",
       "      <th>Restaurant_latitude</th>\n",
       "      <th>Restaurant_longitude</th>\n",
       "      <th>Delivery_location_latitude</th>\n",
       "      <th>Delivery_location_longitude</th>\n",
       "      <th>Order_Date</th>\n",
       "      <th>Time_Orderd</th>\n",
       "      <th>Time_Order_picked</th>\n",
       "      <th>Weatherconditions</th>\n",
       "      <th>Road_traffic_density</th>\n",
       "      <th>Vehicle_condition</th>\n",
       "      <th>Type_of_order</th>\n",
       "      <th>Type_of_vehicle</th>\n",
       "      <th>multiple_deliveries</th>\n",
       "      <th>Festival</th>\n",
       "      <th>City</th>\n",
       "      <th>Time_taken(min)</th>\n",
       "    </tr>\n",
       "  </thead>\n",
       "  <tbody>\n",
       "    <tr>\n",
       "      <th>39454</th>\n",
       "      <td>0x6ba5</td>\n",
       "      <td>MYSRES03DEL03</td>\n",
       "      <td>20</td>\n",
       "      <td>4.9</td>\n",
       "      <td>12.299524</td>\n",
       "      <td>76.642620</td>\n",
       "      <td>12.389524</td>\n",
       "      <td>76.732620</td>\n",
       "      <td>27-03-2022</td>\n",
       "      <td>18:40:00</td>\n",
       "      <td>18:55:00</td>\n",
       "      <td>conditions Sunny</td>\n",
       "      <td>Medium</td>\n",
       "      <td>2</td>\n",
       "      <td>Buffet</td>\n",
       "      <td>motorcycle</td>\n",
       "      <td>0</td>\n",
       "      <td>No</td>\n",
       "      <td>Urban</td>\n",
       "      <td>(min) 13</td>\n",
       "    </tr>\n",
       "    <tr>\n",
       "      <th>43324</th>\n",
       "      <td>0xd206</td>\n",
       "      <td>AGRRES06DEL03</td>\n",
       "      <td>23</td>\n",
       "      <td>4.9</td>\n",
       "      <td>0.000000</td>\n",
       "      <td>0.000000</td>\n",
       "      <td>0.090000</td>\n",
       "      <td>0.090000</td>\n",
       "      <td>18-02-2022</td>\n",
       "      <td>18:20:00</td>\n",
       "      <td>18:30:00</td>\n",
       "      <td>conditions Cloudy</td>\n",
       "      <td>Medium</td>\n",
       "      <td>2</td>\n",
       "      <td>Snack</td>\n",
       "      <td>electric_scooter</td>\n",
       "      <td>0</td>\n",
       "      <td>No</td>\n",
       "      <td>Metropolitian</td>\n",
       "      <td>(min) 26</td>\n",
       "    </tr>\n",
       "    <tr>\n",
       "      <th>40033</th>\n",
       "      <td>0x6db4</td>\n",
       "      <td>PUNERES09DEL03</td>\n",
       "      <td>21</td>\n",
       "      <td>4.7</td>\n",
       "      <td>18.536562</td>\n",
       "      <td>73.896485</td>\n",
       "      <td>18.626562</td>\n",
       "      <td>73.986485</td>\n",
       "      <td>08-03-2022</td>\n",
       "      <td>18:35:00</td>\n",
       "      <td>18:50:00</td>\n",
       "      <td>conditions Sandstorms</td>\n",
       "      <td>Medium</td>\n",
       "      <td>0</td>\n",
       "      <td>Snack</td>\n",
       "      <td>motorcycle</td>\n",
       "      <td>1</td>\n",
       "      <td>No</td>\n",
       "      <td>Metropolitian</td>\n",
       "      <td>(min) 20</td>\n",
       "    </tr>\n",
       "    <tr>\n",
       "      <th>42639</th>\n",
       "      <td>0x631e</td>\n",
       "      <td>HYDRES18DEL02</td>\n",
       "      <td>30</td>\n",
       "      <td>4.8</td>\n",
       "      <td>17.450851</td>\n",
       "      <td>78.379347</td>\n",
       "      <td>17.470851</td>\n",
       "      <td>78.399347</td>\n",
       "      <td>05-03-2022</td>\n",
       "      <td>08:15:00</td>\n",
       "      <td>08:25:00</td>\n",
       "      <td>conditions Stormy</td>\n",
       "      <td>Low</td>\n",
       "      <td>1</td>\n",
       "      <td>Snack</td>\n",
       "      <td>motorcycle</td>\n",
       "      <td>0</td>\n",
       "      <td>No</td>\n",
       "      <td>Metropolitian</td>\n",
       "      <td>(min) 23</td>\n",
       "    </tr>\n",
       "    <tr>\n",
       "      <th>12478</th>\n",
       "      <td>0x54cc</td>\n",
       "      <td>CHENRES12DEL01</td>\n",
       "      <td>20</td>\n",
       "      <td>4.9</td>\n",
       "      <td>12.972793</td>\n",
       "      <td>80.249982</td>\n",
       "      <td>13.082793</td>\n",
       "      <td>80.359982</td>\n",
       "      <td>02-03-2022</td>\n",
       "      <td>18:55:00</td>\n",
       "      <td>19:05:00</td>\n",
       "      <td>conditions Windy</td>\n",
       "      <td>Medium</td>\n",
       "      <td>1</td>\n",
       "      <td>Buffet</td>\n",
       "      <td>scooter</td>\n",
       "      <td>1</td>\n",
       "      <td>No</td>\n",
       "      <td>NaN</td>\n",
       "      <td>(min) 22</td>\n",
       "    </tr>\n",
       "  </tbody>\n",
       "</table>\n",
       "</div>"
      ],
      "text/plain": [
       "            ID Delivery_person_ID Delivery_person_Age Delivery_person_Ratings  \\\n",
       "39454  0x6ba5      MYSRES03DEL03                   20                     4.9   \n",
       "43324  0xd206      AGRRES06DEL03                   23                     4.9   \n",
       "40033  0x6db4     PUNERES09DEL03                   21                     4.7   \n",
       "42639  0x631e      HYDRES18DEL02                   30                     4.8   \n",
       "12478  0x54cc     CHENRES12DEL01                   20                     4.9   \n",
       "\n",
       "       Restaurant_latitude  Restaurant_longitude  Delivery_location_latitude  \\\n",
       "39454            12.299524             76.642620                   12.389524   \n",
       "43324             0.000000              0.000000                    0.090000   \n",
       "40033            18.536562             73.896485                   18.626562   \n",
       "42639            17.450851             78.379347                   17.470851   \n",
       "12478            12.972793             80.249982                   13.082793   \n",
       "\n",
       "       Delivery_location_longitude  Order_Date Time_Orderd Time_Order_picked  \\\n",
       "39454                    76.732620  27-03-2022    18:40:00          18:55:00   \n",
       "43324                     0.090000  18-02-2022    18:20:00          18:30:00   \n",
       "40033                    73.986485  08-03-2022    18:35:00          18:50:00   \n",
       "42639                    78.399347  05-03-2022    08:15:00          08:25:00   \n",
       "12478                    80.359982  02-03-2022    18:55:00          19:05:00   \n",
       "\n",
       "           Weatherconditions Road_traffic_density  Vehicle_condition  \\\n",
       "39454       conditions Sunny              Medium                   2   \n",
       "43324      conditions Cloudy              Medium                   2   \n",
       "40033  conditions Sandstorms              Medium                   0   \n",
       "42639      conditions Stormy                 Low                   1   \n",
       "12478       conditions Windy              Medium                   1   \n",
       "\n",
       "      Type_of_order    Type_of_vehicle multiple_deliveries Festival  \\\n",
       "39454       Buffet         motorcycle                    0      No    \n",
       "43324        Snack   electric_scooter                    0      No    \n",
       "40033        Snack         motorcycle                    1      No    \n",
       "42639        Snack         motorcycle                    0      No    \n",
       "12478       Buffet            scooter                    1      No    \n",
       "\n",
       "                 City Time_taken(min)  \n",
       "39454          Urban         (min) 13  \n",
       "43324  Metropolitian         (min) 26  \n",
       "40033  Metropolitian         (min) 20  \n",
       "42639  Metropolitian         (min) 23  \n",
       "12478             NaN        (min) 22  "
      ]
     },
     "execution_count": 4,
     "metadata": {},
     "output_type": "execute_result"
    }
   ],
   "source": [
    "train_df.sample(5)"
   ]
  },
  {
   "cell_type": "code",
   "execution_count": 5,
   "metadata": {},
   "outputs": [
    {
     "name": "stdout",
     "output_type": "stream",
     "text": [
      "<class 'pandas.core.frame.DataFrame'>\n",
      "RangeIndex: 45593 entries, 0 to 45592\n",
      "Data columns (total 20 columns):\n",
      " #   Column                       Non-Null Count  Dtype  \n",
      "---  ------                       --------------  -----  \n",
      " 0   ID                           45593 non-null  object \n",
      " 1   Delivery_person_ID           45593 non-null  object \n",
      " 2   Delivery_person_Age          43739 non-null  object \n",
      " 3   Delivery_person_Ratings      43685 non-null  object \n",
      " 4   Restaurant_latitude          45593 non-null  float64\n",
      " 5   Restaurant_longitude         45593 non-null  float64\n",
      " 6   Delivery_location_latitude   45593 non-null  float64\n",
      " 7   Delivery_location_longitude  45593 non-null  float64\n",
      " 8   Order_Date                   45593 non-null  object \n",
      " 9   Time_Orderd                  43862 non-null  object \n",
      " 10  Time_Order_picked            45593 non-null  object \n",
      " 11  Weatherconditions            44977 non-null  object \n",
      " 12  Road_traffic_density         44992 non-null  object \n",
      " 13  Vehicle_condition            45593 non-null  int64  \n",
      " 14  Type_of_order                45593 non-null  object \n",
      " 15  Type_of_vehicle              45593 non-null  object \n",
      " 16  multiple_deliveries          44600 non-null  object \n",
      " 17  Festival                     45365 non-null  object \n",
      " 18  City                         44393 non-null  object \n",
      " 19  Time_taken(min)              45593 non-null  object \n",
      "dtypes: float64(4), int64(1), object(15)\n",
      "memory usage: 7.0+ MB\n"
     ]
    }
   ],
   "source": [
    "train_df.info()"
   ]
  },
  {
   "cell_type": "code",
   "execution_count": 6,
   "metadata": {},
   "outputs": [
    {
     "data": {
      "text/plain": [
       "ID                                0\n",
       "Delivery_person_ID                0\n",
       "Delivery_person_Age            1854\n",
       "Delivery_person_Ratings        1908\n",
       "Restaurant_latitude               0\n",
       "Restaurant_longitude              0\n",
       "Delivery_location_latitude        0\n",
       "Delivery_location_longitude       0\n",
       "Order_Date                        0\n",
       "Time_Orderd                    1731\n",
       "Time_Order_picked                 0\n",
       "Weatherconditions               616\n",
       "Road_traffic_density            601\n",
       "Vehicle_condition                 0\n",
       "Type_of_order                     0\n",
       "Type_of_vehicle                   0\n",
       "multiple_deliveries             993\n",
       "Festival                        228\n",
       "City                           1200\n",
       "Time_taken(min)                   0\n",
       "dtype: int64"
      ]
     },
     "execution_count": 6,
     "metadata": {},
     "output_type": "execute_result"
    }
   ],
   "source": [
    "train_df.isna().sum()"
   ]
  },
  {
   "cell_type": "code",
   "execution_count": 7,
   "metadata": {},
   "outputs": [],
   "source": [
    "train_df[\"Delivery_person_Age\"] = train_df[\"Delivery_person_Age\"].astype(\"float32\")\n",
    "train_df[\"Delivery_person_Ratings\"] = train_df[\"Delivery_person_Ratings\"].astype(\"float32\")\n",
    "test_df[\"Delivery_person_Age\"] = test_df[\"Delivery_person_Age\"].astype(\"float32\")\n",
    "test_df[\"Delivery_person_Ratings\"] = test_df[\"Delivery_person_Ratings\"].astype(\"float32\")"
   ]
  },
  {
   "cell_type": "code",
   "execution_count": 8,
   "metadata": {},
   "outputs": [
    {
     "data": {
      "text/plain": [
       "45593"
      ]
     },
     "execution_count": 8,
     "metadata": {},
     "output_type": "execute_result"
    }
   ],
   "source": [
    "train_df[\"ID\"].nunique()"
   ]
  },
  {
   "cell_type": "code",
   "execution_count": 9,
   "metadata": {},
   "outputs": [
    {
     "data": {
      "text/plain": [
       "1320"
      ]
     },
     "execution_count": 9,
     "metadata": {},
     "output_type": "execute_result"
    }
   ],
   "source": [
    "train_df[\"Delivery_person_ID\"].nunique()"
   ]
  },
  {
   "cell_type": "code",
   "execution_count": 10,
   "metadata": {},
   "outputs": [
    {
     "data": {
      "text/plain": [
       "array([37., 34., 23., 38., 32., 22., 33., 35., 36., 21., 24., 29., 25.,\n",
       "       31., 27., 26., 20., nan, 28., 39., 30., 15., 50.], dtype=float32)"
      ]
     },
     "execution_count": 10,
     "metadata": {},
     "output_type": "execute_result"
    }
   ],
   "source": [
    "train_df[\"Delivery_person_Age\"].unique()"
   ]
  },
  {
   "cell_type": "code",
   "execution_count": 11,
   "metadata": {},
   "outputs": [],
   "source": [
    "train_df[\"Delivery_person_Age\"].fillna(int(train_df[\"Delivery_person_Age\"].mean()),inplace=True)\n",
    "test_df[\"Delivery_person_Age\"].fillna(int(test_df[\"Delivery_person_Age\"].mean()),inplace=True)"
   ]
  },
  {
   "cell_type": "code",
   "execution_count": 12,
   "metadata": {},
   "outputs": [
    {
     "data": {
      "text/plain": [
       "array([4.9, 4.5, 4.4, 4.7, 4.6, 4.8, 4.2, 4.3, 4. , 4.1, 5. , 3.5, nan,\n",
       "       3.8, 3.9, 3.7, 2.6, 2.5, 3.6, 3.1, 2.7, 1. , 3.2, 3.3, 6. , 3.4,\n",
       "       2.8, 2.9, 3. ], dtype=float32)"
      ]
     },
     "execution_count": 12,
     "metadata": {},
     "output_type": "execute_result"
    }
   ],
   "source": [
    "train_df[\"Delivery_person_Ratings\"].unique()"
   ]
  },
  {
   "cell_type": "code",
   "execution_count": 13,
   "metadata": {},
   "outputs": [],
   "source": [
    "train_df[\"Delivery_person_Ratings\"].fillna(round(train_df[\"Delivery_person_Ratings\"].median(),2),inplace=True)\n",
    "test_df[\"Delivery_person_Ratings\"].fillna(round(test_df[\"Delivery_person_Ratings\"].median(),2),inplace=True)"
   ]
  },
  {
   "cell_type": "code",
   "execution_count": 14,
   "metadata": {},
   "outputs": [],
   "source": [
    "train_df[\"Order_Date\"] = pd.to_datetime(train_df[\"Order_Date\"])\n",
    "test_df[\"Order_Date\"] = pd.to_datetime(test_df[\"Order_Date\"])"
   ]
  },
  {
   "cell_type": "code",
   "execution_count": 15,
   "metadata": {},
   "outputs": [],
   "source": [
    "train_df[\"Time_taken(min)\"] = train_df[\"Time_taken(min)\"].apply(lambda x:x.replace(\"(min) \",\"\"))\n",
    "train_df[\"Time_taken(min)\"] = train_df[\"Time_taken(min)\"].astype(\"int\")"
   ]
  },
  {
   "cell_type": "code",
   "execution_count": 16,
   "metadata": {},
   "outputs": [],
   "source": [
    "time_nan = train_df[train_df[\"Time_Orderd\"].isna()]\n"
   ]
  },
  {
   "cell_type": "code",
   "execution_count": 17,
   "metadata": {},
   "outputs": [],
   "source": [
    "train_df[\"Time_Order_picked\"] = pd.to_timedelta(train_df[\"Time_Order_picked\"])\n",
    "test_df[\"Time_Order_picked\"] = pd.to_timedelta(test_df[\"Time_Order_picked\"])"
   ]
  },
  {
   "cell_type": "code",
   "execution_count": 18,
   "metadata": {},
   "outputs": [],
   "source": [
    "for index in (time_nan.index):\n",
    "    train_df.loc[index,[\"Time_Orderd\"]] = train_df.loc[index,\"Time_Order_picked\"] - pd.to_timedelta(train_df.loc[index,\"Time_taken(min)\"],unit=\"m\")"
   ]
  },
  {
   "cell_type": "code",
   "execution_count": 19,
   "metadata": {},
   "outputs": [
    {
     "data": {
      "text/plain": [
       "array(['conditions Sunny', 'conditions Stormy', 'conditions Sandstorms',\n",
       "       'conditions Cloudy', 'conditions Fog', 'conditions Windy', nan],\n",
       "      dtype=object)"
      ]
     },
     "execution_count": 19,
     "metadata": {},
     "output_type": "execute_result"
    }
   ],
   "source": [
    "train_df[\"Weatherconditions\"].unique()"
   ]
  },
  {
   "cell_type": "code",
   "execution_count": 20,
   "metadata": {},
   "outputs": [],
   "source": [
    "train_df[\"Weatherconditions\"].fillna(train_df[\"Weatherconditions\"].mode()[0],inplace=True)\n",
    "test_df[\"Weatherconditions\"].fillna(test_df[\"Weatherconditions\"].mode()[0],inplace=True)"
   ]
  },
  {
   "cell_type": "code",
   "execution_count": 21,
   "metadata": {},
   "outputs": [
    {
     "data": {
      "text/plain": [
       "array(['High ', 'Jam ', 'Low ', 'Medium ', nan], dtype=object)"
      ]
     },
     "execution_count": 21,
     "metadata": {},
     "output_type": "execute_result"
    }
   ],
   "source": [
    "train_df[\"Road_traffic_density\"].unique()"
   ]
  },
  {
   "cell_type": "code",
   "execution_count": 22,
   "metadata": {},
   "outputs": [],
   "source": [
    "train_df[\"Road_traffic_density\"].fillna(train_df[\"Road_traffic_density\"].mode()[0],inplace=True)\n",
    "test_df[\"Road_traffic_density\"].fillna(test_df[\"Road_traffic_density\"].mode()[0],inplace=True)"
   ]
  },
  {
   "cell_type": "code",
   "execution_count": 23,
   "metadata": {},
   "outputs": [
    {
     "data": {
      "text/plain": [
       "array(['0', '1', '3', nan, '2'], dtype=object)"
      ]
     },
     "execution_count": 23,
     "metadata": {},
     "output_type": "execute_result"
    }
   ],
   "source": [
    "train_df[\"multiple_deliveries\"].unique()"
   ]
  },
  {
   "cell_type": "code",
   "execution_count": 24,
   "metadata": {},
   "outputs": [],
   "source": [
    "train_df[\"multiple_deliveries\"].fillna(train_df[\"multiple_deliveries\"].mode()[0],inplace=True)\n",
    "test_df[\"multiple_deliveries\"].fillna(test_df[\"multiple_deliveries\"].mode()[0],inplace=True)"
   ]
  },
  {
   "cell_type": "code",
   "execution_count": 25,
   "metadata": {},
   "outputs": [
    {
     "data": {
      "text/plain": [
       "array(['Urban ', 'Metropolitian ', 'Semi-Urban ', nan], dtype=object)"
      ]
     },
     "execution_count": 25,
     "metadata": {},
     "output_type": "execute_result"
    }
   ],
   "source": [
    "train_df[\"City\"].unique()"
   ]
  },
  {
   "cell_type": "code",
   "execution_count": 26,
   "metadata": {},
   "outputs": [],
   "source": [
    "train_df[\"City\"].fillna(train_df[\"City\"].mode()[0],inplace=True)\n",
    "test_df[\"City\"].fillna(test_df[\"City\"].mode()[0],inplace=True)"
   ]
  },
  {
   "cell_type": "code",
   "execution_count": 27,
   "metadata": {},
   "outputs": [
    {
     "data": {
      "text/plain": [
       "array(['No ', 'Yes ', nan], dtype=object)"
      ]
     },
     "execution_count": 27,
     "metadata": {},
     "output_type": "execute_result"
    }
   ],
   "source": [
    "train_df[\"Festival\"].unique()"
   ]
  },
  {
   "cell_type": "code",
   "execution_count": 28,
   "metadata": {},
   "outputs": [],
   "source": [
    "train_df[\"Festival\"].fillna(train_df[\"Festival\"].mode()[0],inplace=True)\n",
    "test_df[\"Festival\"].fillna(test_df[\"Festival\"].mode()[0],inplace=True)"
   ]
  },
  {
   "cell_type": "code",
   "execution_count": 29,
   "metadata": {},
   "outputs": [
    {
     "data": {
      "text/html": [
       "<div>\n",
       "<style scoped>\n",
       "    .dataframe tbody tr th:only-of-type {\n",
       "        vertical-align: middle;\n",
       "    }\n",
       "\n",
       "    .dataframe tbody tr th {\n",
       "        vertical-align: top;\n",
       "    }\n",
       "\n",
       "    .dataframe thead th {\n",
       "        text-align: right;\n",
       "    }\n",
       "</style>\n",
       "<table border=\"1\" class=\"dataframe\">\n",
       "  <thead>\n",
       "    <tr style=\"text-align: right;\">\n",
       "      <th></th>\n",
       "      <th>ID</th>\n",
       "      <th>Delivery_person_ID</th>\n",
       "      <th>Delivery_person_Age</th>\n",
       "      <th>Delivery_person_Ratings</th>\n",
       "      <th>Restaurant_latitude</th>\n",
       "      <th>Restaurant_longitude</th>\n",
       "      <th>Delivery_location_latitude</th>\n",
       "      <th>Delivery_location_longitude</th>\n",
       "      <th>Order_Date</th>\n",
       "      <th>Time_Orderd</th>\n",
       "      <th>Time_Order_picked</th>\n",
       "      <th>Weatherconditions</th>\n",
       "      <th>Road_traffic_density</th>\n",
       "      <th>Vehicle_condition</th>\n",
       "      <th>Type_of_order</th>\n",
       "      <th>Type_of_vehicle</th>\n",
       "      <th>multiple_deliveries</th>\n",
       "      <th>Festival</th>\n",
       "      <th>City</th>\n",
       "      <th>Time_taken(min)</th>\n",
       "    </tr>\n",
       "  </thead>\n",
       "  <tbody>\n",
       "    <tr>\n",
       "      <th>38096</th>\n",
       "      <td>0x28ce</td>\n",
       "      <td>COIMBRES06DEL02</td>\n",
       "      <td>33.0</td>\n",
       "      <td>4.9</td>\n",
       "      <td>11.021278</td>\n",
       "      <td>76.995017</td>\n",
       "      <td>11.041278</td>\n",
       "      <td>77.015017</td>\n",
       "      <td>2022-07-03</td>\n",
       "      <td>11:20:00</td>\n",
       "      <td>0 days 11:25:00</td>\n",
       "      <td>conditions Cloudy</td>\n",
       "      <td>High</td>\n",
       "      <td>0</td>\n",
       "      <td>Drinks</td>\n",
       "      <td>motorcycle</td>\n",
       "      <td>1</td>\n",
       "      <td>No</td>\n",
       "      <td>Metropolitian</td>\n",
       "      <td>27</td>\n",
       "    </tr>\n",
       "    <tr>\n",
       "      <th>42349</th>\n",
       "      <td>0xc6fc</td>\n",
       "      <td>KOCRES11DEL01</td>\n",
       "      <td>27.0</td>\n",
       "      <td>4.6</td>\n",
       "      <td>10.006881</td>\n",
       "      <td>76.345397</td>\n",
       "      <td>10.116881</td>\n",
       "      <td>76.455397</td>\n",
       "      <td>2022-02-16</td>\n",
       "      <td>21:25:00</td>\n",
       "      <td>0 days 21:40:00</td>\n",
       "      <td>conditions Windy</td>\n",
       "      <td>Jam</td>\n",
       "      <td>2</td>\n",
       "      <td>Buffet</td>\n",
       "      <td>scooter</td>\n",
       "      <td>1</td>\n",
       "      <td>No</td>\n",
       "      <td>Metropolitian</td>\n",
       "      <td>19</td>\n",
       "    </tr>\n",
       "    <tr>\n",
       "      <th>23163</th>\n",
       "      <td>0xcb78</td>\n",
       "      <td>LUDHRES06DEL01</td>\n",
       "      <td>23.0</td>\n",
       "      <td>4.9</td>\n",
       "      <td>30.895204</td>\n",
       "      <td>75.822103</td>\n",
       "      <td>31.005204</td>\n",
       "      <td>75.932103</td>\n",
       "      <td>2022-02-18</td>\n",
       "      <td>20:40:00</td>\n",
       "      <td>0 days 20:55:00</td>\n",
       "      <td>conditions Cloudy</td>\n",
       "      <td>Jam</td>\n",
       "      <td>0</td>\n",
       "      <td>Snack</td>\n",
       "      <td>motorcycle</td>\n",
       "      <td>1</td>\n",
       "      <td>No</td>\n",
       "      <td>Metropolitian</td>\n",
       "      <td>37</td>\n",
       "    </tr>\n",
       "    <tr>\n",
       "      <th>26690</th>\n",
       "      <td>0x3a3c</td>\n",
       "      <td>CHENRES07DEL03</td>\n",
       "      <td>36.0</td>\n",
       "      <td>4.8</td>\n",
       "      <td>13.081878</td>\n",
       "      <td>80.248519</td>\n",
       "      <td>13.141878</td>\n",
       "      <td>80.308519</td>\n",
       "      <td>2022-03-24</td>\n",
       "      <td>22:45:00</td>\n",
       "      <td>0 days 22:50:00</td>\n",
       "      <td>conditions Sunny</td>\n",
       "      <td>Low</td>\n",
       "      <td>2</td>\n",
       "      <td>Buffet</td>\n",
       "      <td>scooter</td>\n",
       "      <td>0</td>\n",
       "      <td>No</td>\n",
       "      <td>Urban</td>\n",
       "      <td>15</td>\n",
       "    </tr>\n",
       "    <tr>\n",
       "      <th>38394</th>\n",
       "      <td>0x57ec</td>\n",
       "      <td>HYDRES12DEL01</td>\n",
       "      <td>25.0</td>\n",
       "      <td>4.8</td>\n",
       "      <td>17.429585</td>\n",
       "      <td>78.392621</td>\n",
       "      <td>17.469585</td>\n",
       "      <td>78.432621</td>\n",
       "      <td>2022-03-15</td>\n",
       "      <td>16:10:00</td>\n",
       "      <td>0 days 16:20:00</td>\n",
       "      <td>conditions Windy</td>\n",
       "      <td>Medium</td>\n",
       "      <td>2</td>\n",
       "      <td>Snack</td>\n",
       "      <td>scooter</td>\n",
       "      <td>1</td>\n",
       "      <td>No</td>\n",
       "      <td>Urban</td>\n",
       "      <td>21</td>\n",
       "    </tr>\n",
       "  </tbody>\n",
       "</table>\n",
       "</div>"
      ],
      "text/plain": [
       "            ID Delivery_person_ID  Delivery_person_Age  \\\n",
       "38096  0x28ce    COIMBRES06DEL02                  33.0   \n",
       "42349  0xc6fc      KOCRES11DEL01                  27.0   \n",
       "23163  0xcb78     LUDHRES06DEL01                  23.0   \n",
       "26690  0x3a3c     CHENRES07DEL03                  36.0   \n",
       "38394  0x57ec      HYDRES12DEL01                  25.0   \n",
       "\n",
       "       Delivery_person_Ratings  Restaurant_latitude  Restaurant_longitude  \\\n",
       "38096                      4.9            11.021278             76.995017   \n",
       "42349                      4.6            10.006881             76.345397   \n",
       "23163                      4.9            30.895204             75.822103   \n",
       "26690                      4.8            13.081878             80.248519   \n",
       "38394                      4.8            17.429585             78.392621   \n",
       "\n",
       "       Delivery_location_latitude  Delivery_location_longitude Order_Date  \\\n",
       "38096                   11.041278                    77.015017 2022-07-03   \n",
       "42349                   10.116881                    76.455397 2022-02-16   \n",
       "23163                   31.005204                    75.932103 2022-02-18   \n",
       "26690                   13.141878                    80.308519 2022-03-24   \n",
       "38394                   17.469585                    78.432621 2022-03-15   \n",
       "\n",
       "      Time_Orderd Time_Order_picked  Weatherconditions Road_traffic_density  \\\n",
       "38096    11:20:00   0 days 11:25:00  conditions Cloudy                High    \n",
       "42349    21:25:00   0 days 21:40:00   conditions Windy                 Jam    \n",
       "23163    20:40:00   0 days 20:55:00  conditions Cloudy                 Jam    \n",
       "26690    22:45:00   0 days 22:50:00   conditions Sunny                 Low    \n",
       "38394    16:10:00   0 days 16:20:00   conditions Windy              Medium    \n",
       "\n",
       "       Vehicle_condition Type_of_order Type_of_vehicle multiple_deliveries  \\\n",
       "38096                  0       Drinks      motorcycle                    1   \n",
       "42349                  2       Buffet         scooter                    1   \n",
       "23163                  0        Snack      motorcycle                    1   \n",
       "26690                  2       Buffet         scooter                    0   \n",
       "38394                  2        Snack         scooter                    1   \n",
       "\n",
       "      Festival            City  Time_taken(min)  \n",
       "38096      No   Metropolitian                27  \n",
       "42349      No   Metropolitian                19  \n",
       "23163      No   Metropolitian                37  \n",
       "26690      No           Urban                15  \n",
       "38394      No           Urban                21  "
      ]
     },
     "execution_count": 29,
     "metadata": {},
     "output_type": "execute_result"
    }
   ],
   "source": [
    "train_df.sample(5)"
   ]
  },
  {
   "cell_type": "code",
   "execution_count": 30,
   "metadata": {},
   "outputs": [],
   "source": [
    "train_df.drop([\"ID\",\"Delivery_person_ID\"],axis=1,inplace=True)"
   ]
  },
  {
   "cell_type": "code",
   "execution_count": 31,
   "metadata": {},
   "outputs": [],
   "source": [
    "train_df[\"Day\"] = train_df[\"Order_Date\"].dt.day\n",
    "train_df[\"Month\"] = train_df[\"Order_Date\"].dt.month\n",
    "train_df[\"Day_Name\"] = train_df[\"Order_Date\"].dt.day_name()\n",
    "test_df[\"Day\"] = test_df[\"Order_Date\"].dt.day\n",
    "test_df[\"Month\"] = test_df[\"Order_Date\"].dt.month\n",
    "test_df[\"Day_Name\"] = test_df[\"Order_Date\"].dt.day_name()"
   ]
  },
  {
   "cell_type": "code",
   "execution_count": 32,
   "metadata": {},
   "outputs": [
    {
     "data": {
      "text/html": [
       "<div>\n",
       "<style scoped>\n",
       "    .dataframe tbody tr th:only-of-type {\n",
       "        vertical-align: middle;\n",
       "    }\n",
       "\n",
       "    .dataframe tbody tr th {\n",
       "        vertical-align: top;\n",
       "    }\n",
       "\n",
       "    .dataframe thead th {\n",
       "        text-align: right;\n",
       "    }\n",
       "</style>\n",
       "<table border=\"1\" class=\"dataframe\">\n",
       "  <thead>\n",
       "    <tr style=\"text-align: right;\">\n",
       "      <th></th>\n",
       "      <th>count</th>\n",
       "      <th>mean</th>\n",
       "      <th>std</th>\n",
       "      <th>min</th>\n",
       "      <th>25%</th>\n",
       "      <th>50%</th>\n",
       "      <th>75%</th>\n",
       "      <th>max</th>\n",
       "    </tr>\n",
       "  </thead>\n",
       "  <tbody>\n",
       "    <tr>\n",
       "      <th>Delivery_person_Age</th>\n",
       "      <td>45593.0</td>\n",
       "      <td>29.544075</td>\n",
       "      <td>5.696721</td>\n",
       "      <td>15.0</td>\n",
       "      <td>25.0</td>\n",
       "      <td>29.0</td>\n",
       "      <td>34.0</td>\n",
       "      <td>50.0</td>\n",
       "    </tr>\n",
       "    <tr>\n",
       "      <th>Delivery_person_Ratings</th>\n",
       "      <td>45593.0</td>\n",
       "      <td>4.636628</td>\n",
       "      <td>0.32787</td>\n",
       "      <td>1.0</td>\n",
       "      <td>4.6</td>\n",
       "      <td>4.7</td>\n",
       "      <td>4.8</td>\n",
       "      <td>6.0</td>\n",
       "    </tr>\n",
       "    <tr>\n",
       "      <th>Restaurant_latitude</th>\n",
       "      <td>45593.0</td>\n",
       "      <td>17.017729</td>\n",
       "      <td>8.185109</td>\n",
       "      <td>-30.905562</td>\n",
       "      <td>12.933284</td>\n",
       "      <td>18.546947</td>\n",
       "      <td>22.728163</td>\n",
       "      <td>30.914057</td>\n",
       "    </tr>\n",
       "    <tr>\n",
       "      <th>Restaurant_longitude</th>\n",
       "      <td>45593.0</td>\n",
       "      <td>70.231332</td>\n",
       "      <td>22.883647</td>\n",
       "      <td>-88.366217</td>\n",
       "      <td>73.17</td>\n",
       "      <td>75.898497</td>\n",
       "      <td>78.044095</td>\n",
       "      <td>88.433452</td>\n",
       "    </tr>\n",
       "    <tr>\n",
       "      <th>Delivery_location_latitude</th>\n",
       "      <td>45593.0</td>\n",
       "      <td>17.465186</td>\n",
       "      <td>7.335122</td>\n",
       "      <td>0.01</td>\n",
       "      <td>12.988453</td>\n",
       "      <td>18.633934</td>\n",
       "      <td>22.785049</td>\n",
       "      <td>31.054057</td>\n",
       "    </tr>\n",
       "    <tr>\n",
       "      <th>Delivery_location_longitude</th>\n",
       "      <td>45593.0</td>\n",
       "      <td>70.845702</td>\n",
       "      <td>21.118812</td>\n",
       "      <td>0.01</td>\n",
       "      <td>73.28</td>\n",
       "      <td>76.002574</td>\n",
       "      <td>78.107044</td>\n",
       "      <td>88.563452</td>\n",
       "    </tr>\n",
       "    <tr>\n",
       "      <th>Time_Order_picked</th>\n",
       "      <td>45593</td>\n",
       "      <td>0 days 17:37:17.389511547</td>\n",
       "      <td>0 days 05:21:57.706870609</td>\n",
       "      <td>0 days 00:00:00</td>\n",
       "      <td>0 days 14:35:00</td>\n",
       "      <td>0 days 19:10:00</td>\n",
       "      <td>0 days 21:35:00</td>\n",
       "      <td>0 days 23:55:00</td>\n",
       "    </tr>\n",
       "    <tr>\n",
       "      <th>Vehicle_condition</th>\n",
       "      <td>45593.0</td>\n",
       "      <td>1.023359</td>\n",
       "      <td>0.839065</td>\n",
       "      <td>0.0</td>\n",
       "      <td>0.0</td>\n",
       "      <td>1.0</td>\n",
       "      <td>2.0</td>\n",
       "      <td>3.0</td>\n",
       "    </tr>\n",
       "    <tr>\n",
       "      <th>Time_taken(min)</th>\n",
       "      <td>45593.0</td>\n",
       "      <td>26.294607</td>\n",
       "      <td>9.383806</td>\n",
       "      <td>10.0</td>\n",
       "      <td>19.0</td>\n",
       "      <td>26.0</td>\n",
       "      <td>32.0</td>\n",
       "      <td>54.0</td>\n",
       "    </tr>\n",
       "    <tr>\n",
       "      <th>Day</th>\n",
       "      <td>45593.0</td>\n",
       "      <td>12.537692</td>\n",
       "      <td>9.587465</td>\n",
       "      <td>2.0</td>\n",
       "      <td>3.0</td>\n",
       "      <td>13.0</td>\n",
       "      <td>20.0</td>\n",
       "      <td>31.0</td>\n",
       "    </tr>\n",
       "    <tr>\n",
       "      <th>Month</th>\n",
       "      <td>45593.0</td>\n",
       "      <td>4.254337</td>\n",
       "      <td>2.925565</td>\n",
       "      <td>1.0</td>\n",
       "      <td>3.0</td>\n",
       "      <td>3.0</td>\n",
       "      <td>5.0</td>\n",
       "      <td>12.0</td>\n",
       "    </tr>\n",
       "  </tbody>\n",
       "</table>\n",
       "</div>"
      ],
      "text/plain": [
       "                               count                       mean  \\\n",
       "Delivery_person_Age          45593.0                  29.544075   \n",
       "Delivery_person_Ratings      45593.0                   4.636628   \n",
       "Restaurant_latitude          45593.0                  17.017729   \n",
       "Restaurant_longitude         45593.0                  70.231332   \n",
       "Delivery_location_latitude   45593.0                  17.465186   \n",
       "Delivery_location_longitude  45593.0                  70.845702   \n",
       "Time_Order_picked              45593  0 days 17:37:17.389511547   \n",
       "Vehicle_condition            45593.0                   1.023359   \n",
       "Time_taken(min)              45593.0                  26.294607   \n",
       "Day                          45593.0                  12.537692   \n",
       "Month                        45593.0                   4.254337   \n",
       "\n",
       "                                                   std              min  \\\n",
       "Delivery_person_Age                           5.696721             15.0   \n",
       "Delivery_person_Ratings                        0.32787              1.0   \n",
       "Restaurant_latitude                           8.185109       -30.905562   \n",
       "Restaurant_longitude                         22.883647       -88.366217   \n",
       "Delivery_location_latitude                    7.335122             0.01   \n",
       "Delivery_location_longitude                  21.118812             0.01   \n",
       "Time_Order_picked            0 days 05:21:57.706870609  0 days 00:00:00   \n",
       "Vehicle_condition                             0.839065              0.0   \n",
       "Time_taken(min)                               9.383806             10.0   \n",
       "Day                                           9.587465              2.0   \n",
       "Month                                         2.925565              1.0   \n",
       "\n",
       "                                         25%              50%  \\\n",
       "Delivery_person_Age                     25.0             29.0   \n",
       "Delivery_person_Ratings                  4.6              4.7   \n",
       "Restaurant_latitude                12.933284        18.546947   \n",
       "Restaurant_longitude                   73.17        75.898497   \n",
       "Delivery_location_latitude         12.988453        18.633934   \n",
       "Delivery_location_longitude            73.28        76.002574   \n",
       "Time_Order_picked            0 days 14:35:00  0 days 19:10:00   \n",
       "Vehicle_condition                        0.0              1.0   \n",
       "Time_taken(min)                         19.0             26.0   \n",
       "Day                                      3.0             13.0   \n",
       "Month                                    3.0              3.0   \n",
       "\n",
       "                                         75%              max  \n",
       "Delivery_person_Age                     34.0             50.0  \n",
       "Delivery_person_Ratings                  4.8              6.0  \n",
       "Restaurant_latitude                22.728163        30.914057  \n",
       "Restaurant_longitude               78.044095        88.433452  \n",
       "Delivery_location_latitude         22.785049        31.054057  \n",
       "Delivery_location_longitude        78.107044        88.563452  \n",
       "Time_Order_picked            0 days 21:35:00  0 days 23:55:00  \n",
       "Vehicle_condition                        2.0              3.0  \n",
       "Time_taken(min)                         32.0             54.0  \n",
       "Day                                     20.0             31.0  \n",
       "Month                                    5.0             12.0  "
      ]
     },
     "execution_count": 32,
     "metadata": {},
     "output_type": "execute_result"
    }
   ],
   "source": [
    "train_df.describe().T"
   ]
  },
  {
   "cell_type": "code",
   "execution_count": 33,
   "metadata": {},
   "outputs": [
    {
     "data": {
      "image/png": "[encoded data removed]",
      "text/plain": [
       "<Figure size 864x432 with 1 Axes>"
      ]
     },
     "metadata": {
      "needs_background": "light"
     },
     "output_type": "display_data"
    }
   ],
   "source": [
    "plt.figure(figsize=(12,6))\n",
    "sns.distplot(x=train_df[\"Delivery_person_Age\"])\n",
    "plt.tight_layout()"
   ]
  },
  {
   "cell_type": "code",
   "execution_count": 34,
   "metadata": {},
   "outputs": [
    {
     "data": {
      "image/png": "[encoded data removed]",
      "text/plain": [
       "<Figure size 864x432 with 1 Axes>"
      ]
     },
     "metadata": {
      "needs_background": "light"
     },
     "output_type": "display_data"
    }
   ],
   "source": [
    "plt.figure(figsize=(12,6))\n",
    "sns.countplot(x=train_df[\"Delivery_person_Ratings\"],palette=\"mako\")\n",
    "plt.tight_layout()"
   ]
  },
  {
   "cell_type": "code",
   "execution_count": 35,
   "metadata": {},
   "outputs": [
    {
     "data": {
      "text/plain": [
       "<Figure size 864x432 with 0 Axes>"
      ]
     },
     "metadata": {},
     "output_type": "display_data"
    },
    {
     "data": {
      "image/png": "[encoded data removed]",
      "text/plain": [
       "<Figure size 1296x864 with 2 Axes>"
      ]
     },
     "metadata": {
      "needs_background": "light"
     },
     "output_type": "display_data"
    }
   ],
   "source": [
    "Day_name_df = train_df.groupby(\"Day_Name\")[\"Time_taken(min)\"].mean().to_frame().reset_index()\n",
    "plt.figure(figsize=(12,6))\n",
    "fig , ax = plt.subplots(2,1,figsize = (18,12))\n",
    "ax1=sns.barplot(x=Day_name_df[\"Day_Name\"],y=Day_name_df[\"Time_taken(min)\"],ax=ax[1])\n",
    "ax1.set_ylabel(\"Mean of Time_taken(min)\")\n",
    "ax2 = sns.countplot(x=train_df[\"Day_Name\"],palette=\"flare\",ax=ax[0])\n",
    "plt.tight_layout()"
   ]
  },
  {
   "cell_type": "code",
   "execution_count": 36,
   "metadata": {},
   "outputs": [
    {
     "data": {
      "text/plain": [
       "<Figure size 864x432 with 0 Axes>"
      ]
     },
     "metadata": {},
     "output_type": "display_data"
    },
    {
     "data": {
      "image/png": "[encoded data removed]",
      "text/plain": [
       "<Figure size 1296x864 with 2 Axes>"
      ]
     },
     "metadata": {
      "needs_background": "light"
     },
     "output_type": "display_data"
    }
   ],
   "source": [
    "Day_df = train_df.groupby(\"Day\")[\"Time_taken(min)\"].mean().to_frame().reset_index()\n",
    "plt.figure(figsize=(12,6))\n",
    "fig , ax = plt.subplots(2,1,figsize = (18,12))\n",
    "ax1=sns.barplot(x=Day_df[\"Day\"],y=Day_df[\"Time_taken(min)\"],ax=ax[1])\n",
    "ax1.set_ylabel(\"Mean of Time_taken(min)\")\n",
    "ax2 = sns.countplot(x=train_df[\"Day\"],palette=\"mako\",ax=ax[0])\n",
    "plt.tight_layout()"
   ]
  },
  {
   "cell_type": "code",
   "execution_count": 37,
   "metadata": {},
   "outputs": [
    {
     "data": {
      "text/plain": [
       "<Figure size 864x432 with 0 Axes>"
      ]
     },
     "metadata": {},
     "output_type": "display_data"
    },
    {
     "data": {
      "image/png": "[encoded data removed]",
      "text/plain": [
       "<Figure size 1296x864 with 2 Axes>"
      ]
     },
     "metadata": {
      "needs_background": "light"
     },
     "output_type": "display_data"
    }
   ],
   "source": [
    "Monthdf = train_df.groupby(\"Month\")[\"Time_taken(min)\"].mean().to_frame().reset_index()\n",
    "plt.figure(figsize=(12,6))\n",
    "fig , ax = plt.subplots(2,1,figsize = (18,12))\n",
    "ax1=sns.barplot(x=Monthdf[\"Month\"],y=Monthdf[\"Time_taken(min)\"],ax=ax[1])\n",
    "ax1.set_ylabel(\"Mean of Time_taken(min)\")\n",
    "ax2 = sns.countplot(x=train_df[\"Month\"],palette=\"viridis\",ax=ax[0])\n",
    "plt.tight_layout()"
   ]
  },
  {
   "cell_type": "code",
   "execution_count": 38,
   "metadata": {},
   "outputs": [
    {
     "data": {
      "text/plain": [
       "<Figure size 864x432 with 0 Axes>"
      ]
     },
     "metadata": {},
     "output_type": "display_data"
    },
    {
     "data": {
      "image/png": "[encoded data removed]",
      "text/plain": [
       "<Figure size 1296x864 with 2 Axes>"
      ]
     },
     "metadata": {
      "needs_background": "light"
     },
     "output_type": "display_data"
    }
   ],
   "source": [
    "Weatherconditionsdf = train_df.groupby(\"Weatherconditions\")[\"Time_taken(min)\"].mean().to_frame().reset_index()\n",
    "plt.figure(figsize=(12,6))\n",
    "fig , ax = plt.subplots(2,1,figsize = (18,12))\n",
    "ax1=sns.barplot(x=Weatherconditionsdf[\"Weatherconditions\"],y=Weatherconditionsdf[\"Time_taken(min)\"],ax=ax[1])\n",
    "ax1.set_ylabel(\"Mean of Time_taken(min)\")\n",
    "ax2 = sns.countplot(x=train_df[\"Weatherconditions\"],palette=\"rocket\",ax=ax[0])\n",
    "plt.tight_layout()"
   ]
  },
  {
   "cell_type": "code",
   "execution_count": 39,
   "metadata": {},
   "outputs": [
    {
     "data": {
      "text/plain": [
       "<Figure size 864x432 with 0 Axes>"
      ]
     },
     "metadata": {},
     "output_type": "display_data"
    },
    {
     "data": {
      "image/png": "[encoded data removed]",
      "text/plain": [
       "<Figure size 1296x864 with 2 Axes>"
      ]
     },
     "metadata": {
      "needs_background": "light"
     },
     "output_type": "display_data"
    }
   ],
   "source": [
    "Road_traffic_densitydf = train_df.groupby(\"Road_traffic_density\")[\"Time_taken(min)\"].mean().to_frame().reset_index()\n",
    "plt.figure(figsize=(12,6))\n",
    "fig , ax = plt.subplots(2,1,figsize = (18,12))\n",
    "ax1=sns.barplot(x=Road_traffic_densitydf[\"Road_traffic_density\"],y=Road_traffic_densitydf[\"Time_taken(min)\"],ax=ax[1])\n",
    "ax1.set_ylabel(\"Mean of Time_taken(min)\")\n",
    "ax2 = sns.countplot(x=train_df[\"Road_traffic_density\"],palette=\"magma\",ax=ax[0])\n",
    "plt.tight_layout()"
   ]
  },
  {
   "cell_type": "code",
   "execution_count": 40,
   "metadata": {},
   "outputs": [
    {
     "data": {
      "text/plain": [
       "<Figure size 864x432 with 0 Axes>"
      ]
     },
     "metadata": {},
     "output_type": "display_data"
    },
    {
     "data": {
      "image/png": "[encoded data removed]",
      "text/plain": [
       "<Figure size 1296x864 with 2 Axes>"
      ]
     },
     "metadata": {
      "needs_background": "light"
     },
     "output_type": "display_data"
    }
   ],
   "source": [
    "Vehicle_conditiondf = train_df.groupby(\"Vehicle_condition\")[\"Time_taken(min)\"].mean().to_frame().reset_index()\n",
    "plt.figure(figsize=(12,6))\n",
    "fig , ax = plt.subplots(2,1,figsize = (18,12))\n",
    "ax1=sns.barplot(x=Vehicle_conditiondf[\"Vehicle_condition\"],y=Vehicle_conditiondf[\"Time_taken(min)\"],ax=ax[1])\n",
    "ax1.set_ylabel(\"Mean of Time_taken(min)\")\n",
    "ax2 = sns.countplot(x=train_df[\"Vehicle_condition\"],palette=\"cividis\",ax=ax[0])\n",
    "plt.tight_layout()"
   ]
  },
  {
   "cell_type": "code",
   "execution_count": 41,
   "metadata": {},
   "outputs": [
    {
     "data": {
      "text/plain": [
       "<Figure size 864x432 with 0 Axes>"
      ]
     },
     "metadata": {},
     "output_type": "display_data"
    },
    {
     "data": {
      "image/png": "[encoded data removed]",
      "text/plain": [
       "<Figure size 1296x864 with 2 Axes>"
      ]
     },
     "metadata": {
      "needs_background": "light"
     },
     "output_type": "display_data"
    }
   ],
   "source": [
    "Type_of_orderdf = train_df.groupby(\"Type_of_order\")[\"Time_taken(min)\"].mean().to_frame().reset_index()\n",
    "plt.figure(figsize=(12,6))\n",
    "fig , ax = plt.subplots(2,1,figsize = (18,12))\n",
    "ax1=sns.barplot(x=Type_of_orderdf[\"Type_of_order\"],y=Type_of_orderdf[\"Time_taken(min)\"],ax=ax[1])\n",
    "ax1.set_ylabel(\"Mean of Time_taken(min)\")\n",
    "ax2 = sns.countplot(x=train_df[\"Type_of_order\"],palette=\"twilight\",ax=ax[0])\n",
    "plt.tight_layout()"
   ]
  },
  {
   "cell_type": "code",
   "execution_count": 42,
   "metadata": {},
   "outputs": [
    {
     "data": {
      "text/plain": [
       "<Figure size 864x432 with 0 Axes>"
      ]
     },
     "metadata": {},
     "output_type": "display_data"
    },
    {
     "data": {
      "image/png": "[encoded data removed]",
      "text/plain": [
       "<Figure size 1296x864 with 2 Axes>"
      ]
     },
     "metadata": {
      "needs_background": "light"
     },
     "output_type": "display_data"
    }
   ],
   "source": [
    "Type_of_vehicledf = train_df.groupby(\"Type_of_vehicle\")[\"Time_taken(min)\"].mean().to_frame().reset_index()\n",
    "plt.figure(figsize=(12,6))\n",
    "fig , ax = plt.subplots(2,1,figsize = (18,12))\n",
    "ax1=sns.barplot(x=Type_of_vehicledf[\"Type_of_vehicle\"],y=Type_of_vehicledf[\"Time_taken(min)\"],ax=ax[1])\n",
    "ax1.set_ylabel(\"Mean of Time_taken(min)\")\n",
    "ax2 = sns.countplot(x=train_df[\"Type_of_vehicle\"],palette=\"flare\",ax=ax[0])\n",
    "plt.tight_layout()"
   ]
  },
  {
   "cell_type": "code",
   "execution_count": 43,
   "metadata": {},
   "outputs": [
    {
     "data": {
      "text/plain": [
       "<Figure size 864x432 with 0 Axes>"
      ]
     },
     "metadata": {},
     "output_type": "display_data"
    },
    {
     "data": {
      "image/png": "[encoded data removed]",
      "text/plain": [
       "<Figure size 1296x864 with 2 Axes>"
      ]
     },
     "metadata": {
      "needs_background": "light"
     },
     "output_type": "display_data"
    }
   ],
   "source": [
    "multiple_deliveriesdf = train_df.groupby(\"multiple_deliveries\")[\"Time_taken(min)\"].mean().to_frame().reset_index()\n",
    "plt.figure(figsize=(12,6))\n",
    "fig , ax = plt.subplots(2,1,figsize = (18,12))\n",
    "ax1=sns.barplot(x=multiple_deliveriesdf[\"multiple_deliveries\"],y=multiple_deliveriesdf[\"Time_taken(min)\"],ax=ax[1])\n",
    "ax1.set_ylabel(\"Mean of Time_taken(min)\")\n",
    "ax2 = sns.countplot(x=train_df[\"multiple_deliveries\"],palette=\"magma\",ax=ax[0])\n",
    "plt.tight_layout()"
   ]
  },
  {
   "cell_type": "code",
   "execution_count": 44,
   "metadata": {},
   "outputs": [
    {
     "data": {
      "text/plain": [
       "<Figure size 864x432 with 0 Axes>"
      ]
     },
     "metadata": {},
     "output_type": "display_data"
    },
    {
     "data": {
      "image/png": "[encoded data removed]",
      "text/plain": [
       "<Figure size 1296x864 with 2 Axes>"
      ]
     },
     "metadata": {
      "needs_background": "light"
     },
     "output_type": "display_data"
    }
   ],
   "source": [
    "Festivaldf = train_df.groupby(\"Festival\")[\"Time_taken(min)\"].mean().to_frame().reset_index()\n",
    "plt.figure(figsize=(12,6))\n",
    "fig , ax = plt.subplots(2,1,figsize = (18,12))\n",
    "ax1=sns.barplot(x=Festivaldf[\"Festival\"],y=Festivaldf[\"Time_taken(min)\"],ax=ax[1])\n",
    "ax1.set_ylabel(\"Mean of Time_taken(min)\")\n",
    "ax2 = sns.countplot(x=train_df[\"Festival\"],palette=\"ocean\",ax=ax[0])\n",
    "plt.tight_layout()"
   ]
  },
  {
   "cell_type": "code",
   "execution_count": 45,
   "metadata": {},
   "outputs": [
    {
     "data": {
      "text/plain": [
       "<Figure size 864x432 with 0 Axes>"
      ]
     },
     "metadata": {},
     "output_type": "display_data"
    },
    {
     "data": {
      "image/png": "[encoded data removed]",
      "text/plain": [
       "<Figure size 1296x864 with 2 Axes>"
      ]
     },
     "metadata": {
      "needs_background": "light"
     },
     "output_type": "display_data"
    }
   ],
   "source": [
    "Citydf = train_df.groupby(\"City\")[\"Time_taken(min)\"].mean().to_frame().reset_index()\n",
    "plt.figure(figsize=(12,6))\n",
    "fig , ax = plt.subplots(2,1,figsize = (18,12))\n",
    "ax1=sns.barplot(x=Citydf[\"City\"],y=Citydf[\"Time_taken(min)\"],ax=ax[1])\n",
    "ax1.set_ylabel(\"Mean of Time_taken(min)\")\n",
    "ax2 = sns.countplot(x=train_df[\"City\"],palette=\"viridis\",ax=ax[0])\n",
    "plt.tight_layout()"
   ]
  },
  {
   "cell_type": "code",
   "execution_count": 46,
   "metadata": {},
   "outputs": [
    {
     "data": {
      "image/png": "[encoded data removed]",
      "text/plain": [
       "<Figure size 864x432 with 1 Axes>"
      ]
     },
     "metadata": {
      "needs_background": "light"
     },
     "output_type": "display_data"
    }
   ],
   "source": [
    "plt.figure(figsize=(12,6))\n",
    "sns.distplot(x=train_df[\"Time_taken(min)\"])\n",
    "plt.tight_layout()"
   ]
  },
  {
   "cell_type": "code",
   "execution_count": 47,
   "metadata": {},
   "outputs": [
    {
     "data": {
      "text/html": [
       "<div>\n",
       "<style scoped>\n",
       "    .dataframe tbody tr th:only-of-type {\n",
       "        vertical-align: middle;\n",
       "    }\n",
       "\n",
       "    .dataframe tbody tr th {\n",
       "        vertical-align: top;\n",
       "    }\n",
       "\n",
       "    .dataframe thead th {\n",
       "        text-align: right;\n",
       "    }\n",
       "</style>\n",
       "<table border=\"1\" class=\"dataframe\">\n",
       "  <thead>\n",
       "    <tr style=\"text-align: right;\">\n",
       "      <th></th>\n",
       "      <th>Delivery_person_Age</th>\n",
       "      <th>Delivery_person_Ratings</th>\n",
       "      <th>Restaurant_latitude</th>\n",
       "      <th>Restaurant_longitude</th>\n",
       "      <th>Delivery_location_latitude</th>\n",
       "      <th>Delivery_location_longitude</th>\n",
       "      <th>Order_Date</th>\n",
       "      <th>Time_Orderd</th>\n",
       "      <th>Time_Order_picked</th>\n",
       "      <th>Weatherconditions</th>\n",
       "      <th>Road_traffic_density</th>\n",
       "      <th>Vehicle_condition</th>\n",
       "      <th>Type_of_order</th>\n",
       "      <th>Type_of_vehicle</th>\n",
       "      <th>multiple_deliveries</th>\n",
       "      <th>Festival</th>\n",
       "      <th>City</th>\n",
       "      <th>Time_taken(min)</th>\n",
       "      <th>Day</th>\n",
       "      <th>Month</th>\n",
       "      <th>Day_Name</th>\n",
       "    </tr>\n",
       "  </thead>\n",
       "  <tbody>\n",
       "    <tr>\n",
       "      <th>0</th>\n",
       "      <td>37.0</td>\n",
       "      <td>4.9</td>\n",
       "      <td>22.745049</td>\n",
       "      <td>75.892471</td>\n",
       "      <td>22.765049</td>\n",
       "      <td>75.912471</td>\n",
       "      <td>2022-03-19</td>\n",
       "      <td>11:30:00</td>\n",
       "      <td>0 days 11:45:00</td>\n",
       "      <td>conditions Sunny</td>\n",
       "      <td>High</td>\n",
       "      <td>2</td>\n",
       "      <td>Snack</td>\n",
       "      <td>motorcycle</td>\n",
       "      <td>0</td>\n",
       "      <td>No</td>\n",
       "      <td>Urban</td>\n",
       "      <td>24</td>\n",
       "      <td>19</td>\n",
       "      <td>3</td>\n",
       "      <td>Saturday</td>\n",
       "    </tr>\n",
       "    <tr>\n",
       "      <th>1</th>\n",
       "      <td>34.0</td>\n",
       "      <td>4.5</td>\n",
       "      <td>12.913041</td>\n",
       "      <td>77.683237</td>\n",
       "      <td>13.043041</td>\n",
       "      <td>77.813237</td>\n",
       "      <td>2022-03-25</td>\n",
       "      <td>19:45:00</td>\n",
       "      <td>0 days 19:50:00</td>\n",
       "      <td>conditions Stormy</td>\n",
       "      <td>Jam</td>\n",
       "      <td>2</td>\n",
       "      <td>Snack</td>\n",
       "      <td>scooter</td>\n",
       "      <td>1</td>\n",
       "      <td>No</td>\n",
       "      <td>Metropolitian</td>\n",
       "      <td>33</td>\n",
       "      <td>25</td>\n",
       "      <td>3</td>\n",
       "      <td>Friday</td>\n",
       "    </tr>\n",
       "    <tr>\n",
       "      <th>2</th>\n",
       "      <td>23.0</td>\n",
       "      <td>4.4</td>\n",
       "      <td>12.914264</td>\n",
       "      <td>77.678400</td>\n",
       "      <td>12.924264</td>\n",
       "      <td>77.688400</td>\n",
       "      <td>2022-03-19</td>\n",
       "      <td>08:30:00</td>\n",
       "      <td>0 days 08:45:00</td>\n",
       "      <td>conditions Sandstorms</td>\n",
       "      <td>Low</td>\n",
       "      <td>0</td>\n",
       "      <td>Drinks</td>\n",
       "      <td>motorcycle</td>\n",
       "      <td>1</td>\n",
       "      <td>No</td>\n",
       "      <td>Urban</td>\n",
       "      <td>26</td>\n",
       "      <td>19</td>\n",
       "      <td>3</td>\n",
       "      <td>Saturday</td>\n",
       "    </tr>\n",
       "    <tr>\n",
       "      <th>3</th>\n",
       "      <td>38.0</td>\n",
       "      <td>4.7</td>\n",
       "      <td>11.003669</td>\n",
       "      <td>76.976494</td>\n",
       "      <td>11.053669</td>\n",
       "      <td>77.026494</td>\n",
       "      <td>2022-05-04</td>\n",
       "      <td>18:00:00</td>\n",
       "      <td>0 days 18:10:00</td>\n",
       "      <td>conditions Sunny</td>\n",
       "      <td>Medium</td>\n",
       "      <td>0</td>\n",
       "      <td>Buffet</td>\n",
       "      <td>motorcycle</td>\n",
       "      <td>1</td>\n",
       "      <td>No</td>\n",
       "      <td>Metropolitian</td>\n",
       "      <td>21</td>\n",
       "      <td>4</td>\n",
       "      <td>5</td>\n",
       "      <td>Wednesday</td>\n",
       "    </tr>\n",
       "    <tr>\n",
       "      <th>4</th>\n",
       "      <td>32.0</td>\n",
       "      <td>4.6</td>\n",
       "      <td>12.972793</td>\n",
       "      <td>80.249982</td>\n",
       "      <td>13.012793</td>\n",
       "      <td>80.289982</td>\n",
       "      <td>2022-03-26</td>\n",
       "      <td>13:30:00</td>\n",
       "      <td>0 days 13:45:00</td>\n",
       "      <td>conditions Cloudy</td>\n",
       "      <td>High</td>\n",
       "      <td>1</td>\n",
       "      <td>Snack</td>\n",
       "      <td>scooter</td>\n",
       "      <td>1</td>\n",
       "      <td>No</td>\n",
       "      <td>Metropolitian</td>\n",
       "      <td>30</td>\n",
       "      <td>26</td>\n",
       "      <td>3</td>\n",
       "      <td>Saturday</td>\n",
       "    </tr>\n",
       "  </tbody>\n",
       "</table>\n",
       "</div>"
      ],
      "text/plain": [
       "   Delivery_person_Age  Delivery_person_Ratings  Restaurant_latitude  \\\n",
       "0                 37.0                      4.9            22.745049   \n",
       "1                 34.0                      4.5            12.913041   \n",
       "2                 23.0                      4.4            12.914264   \n",
       "3                 38.0                      4.7            11.003669   \n",
       "4                 32.0                      4.6            12.972793   \n",
       "\n",
       "   Restaurant_longitude  Delivery_location_latitude  \\\n",
       "0             75.892471                   22.765049   \n",
       "1             77.683237                   13.043041   \n",
       "2             77.678400                   12.924264   \n",
       "3             76.976494                   11.053669   \n",
       "4             80.249982                   13.012793   \n",
       "\n",
       "   Delivery_location_longitude Order_Date Time_Orderd Time_Order_picked  \\\n",
       "0                    75.912471 2022-03-19    11:30:00   0 days 11:45:00   \n",
       "1                    77.813237 2022-03-25    19:45:00   0 days 19:50:00   \n",
       "2                    77.688400 2022-03-19    08:30:00   0 days 08:45:00   \n",
       "3                    77.026494 2022-05-04    18:00:00   0 days 18:10:00   \n",
       "4                    80.289982 2022-03-26    13:30:00   0 days 13:45:00   \n",
       "\n",
       "       Weatherconditions Road_traffic_density  Vehicle_condition  \\\n",
       "0       conditions Sunny                High                   2   \n",
       "1      conditions Stormy                 Jam                   2   \n",
       "2  conditions Sandstorms                 Low                   0   \n",
       "3       conditions Sunny              Medium                   0   \n",
       "4      conditions Cloudy                High                   1   \n",
       "\n",
       "  Type_of_order Type_of_vehicle multiple_deliveries Festival            City  \\\n",
       "0        Snack      motorcycle                    0      No           Urban    \n",
       "1        Snack         scooter                    1      No   Metropolitian    \n",
       "2       Drinks      motorcycle                    1      No           Urban    \n",
       "3       Buffet      motorcycle                    1      No   Metropolitian    \n",
       "4        Snack         scooter                    1      No   Metropolitian    \n",
       "\n",
       "   Time_taken(min)  Day  Month   Day_Name  \n",
       "0               24   19      3   Saturday  \n",
       "1               33   25      3     Friday  \n",
       "2               26   19      3   Saturday  \n",
       "3               21    4      5  Wednesday  \n",
       "4               30   26      3   Saturday  "
      ]
     },
     "execution_count": 47,
     "metadata": {},
     "output_type": "execute_result"
    }
   ],
   "source": [
    "train_df.head()"
   ]
  },
  {
   "cell_type": "code",
   "execution_count": 48,
   "metadata": {},
   "outputs": [
    {
     "name": "stdout",
     "output_type": "stream",
     "text": [
      "<class 'pandas.core.frame.DataFrame'>\n",
      "RangeIndex: 45593 entries, 0 to 45592\n",
      "Data columns (total 21 columns):\n",
      " #   Column                       Non-Null Count  Dtype          \n",
      "---  ------                       --------------  -----          \n",
      " 0   Delivery_person_Age          45593 non-null  float32        \n",
      " 1   Delivery_person_Ratings      45593 non-null  float32        \n",
      " 2   Restaurant_latitude          45593 non-null  float64        \n",
      " 3   Restaurant_longitude         45593 non-null  float64        \n",
      " 4   Delivery_location_latitude   45593 non-null  float64        \n",
      " 5   Delivery_location_longitude  45593 non-null  float64        \n",
      " 6   Order_Date                   45593 non-null  datetime64[ns] \n",
      " 7   Time_Orderd                  45593 non-null  object         \n",
      " 8   Time_Order_picked            45593 non-null  timedelta64[ns]\n",
      " 9   Weatherconditions            45593 non-null  object         \n",
      " 10  Road_traffic_density         45593 non-null  object         \n",
      " 11  Vehicle_condition            45593 non-null  int64          \n",
      " 12  Type_of_order                45593 non-null  object         \n",
      " 13  Type_of_vehicle              45593 non-null  object         \n",
      " 14  multiple_deliveries          45593 non-null  object         \n",
      " 15  Festival                     45593 non-null  object         \n",
      " 16  City                         45593 non-null  object         \n",
      " 17  Time_taken(min)              45593 non-null  int32          \n",
      " 18  Day                          45593 non-null  int64          \n",
      " 19  Month                        45593 non-null  int64          \n",
      " 20  Day_Name                     45593 non-null  object         \n",
      "dtypes: datetime64[ns](1), float32(2), float64(4), int32(1), int64(3), object(9), timedelta64[ns](1)\n",
      "memory usage: 6.8+ MB\n"
     ]
    }
   ],
   "source": [
    "train_df.info()"
   ]
  },
  {
   "cell_type": "code",
   "execution_count": 49,
   "metadata": {},
   "outputs": [],
   "source": [
    "train_df.drop([\"Order_Date\",\"Day_Name\"],axis=1,inplace=True)\n",
    "test_df.drop([\"Order_Date\",\"Day_Name\"],axis=1,inplace=True)"
   ]
  },
  {
   "cell_type": "code",
   "execution_count": 50,
   "metadata": {},
   "outputs": [
    {
     "data": {
      "text/plain": [
       "array(['High ', 'Jam ', 'Low ', 'Medium '], dtype=object)"
      ]
     },
     "execution_count": 50,
     "metadata": {},
     "output_type": "execute_result"
    }
   ],
   "source": [
    "train_df[\"Road_traffic_density\"].unique()"
   ]
  },
  {
   "cell_type": "code",
   "execution_count": 51,
   "metadata": {},
   "outputs": [],
   "source": [
    "train_df[\"Road_traffic_density\"] = train_df[\"Road_traffic_density\"].replace(\"Low \",0).replace(\"Medium \",1).replace(\"High \",2).replace(\"Jam \",3)\n",
    "test_df[\"Road_traffic_density\"] = test_df[\"Road_traffic_density\"].replace(\"Low \",0).replace(\"Medium \",1).replace(\"High \",2).replace(\"Jam \",3)"
   ]
  },
  {
   "cell_type": "code",
   "execution_count": 52,
   "metadata": {},
   "outputs": [
    {
     "data": {
      "text/plain": [
       "array(['No ', 'Yes '], dtype=object)"
      ]
     },
     "execution_count": 52,
     "metadata": {},
     "output_type": "execute_result"
    }
   ],
   "source": [
    "train_df[\"Festival\"].unique()"
   ]
  },
  {
   "cell_type": "code",
   "execution_count": 53,
   "metadata": {},
   "outputs": [],
   "source": [
    "train_df[\"Festival\"] = train_df[\"Festival\"].replace(\"Yes \",1).replace(\"No \",0)\n",
    "test_df[\"Festival\"] = test_df[\"Festival\"].replace(\"Yes \",1).replace(\"No \",0)"
   ]
  },
  {
   "cell_type": "code",
   "execution_count": 54,
   "metadata": {},
   "outputs": [
    {
     "data": {
      "text/html": [
       "<div>\n",
       "<style scoped>\n",
       "    .dataframe tbody tr th:only-of-type {\n",
       "        vertical-align: middle;\n",
       "    }\n",
       "\n",
       "    .dataframe tbody tr th {\n",
       "        vertical-align: top;\n",
       "    }\n",
       "\n",
       "    .dataframe thead th {\n",
       "        text-align: right;\n",
       "    }\n",
       "</style>\n",
       "<table border=\"1\" class=\"dataframe\">\n",
       "  <thead>\n",
       "    <tr style=\"text-align: right;\">\n",
       "      <th></th>\n",
       "      <th>Delivery_person_Age</th>\n",
       "      <th>Delivery_person_Ratings</th>\n",
       "      <th>Restaurant_latitude</th>\n",
       "      <th>Restaurant_longitude</th>\n",
       "      <th>Delivery_location_latitude</th>\n",
       "      <th>Delivery_location_longitude</th>\n",
       "      <th>Road_traffic_density</th>\n",
       "      <th>Vehicle_condition</th>\n",
       "      <th>Festival</th>\n",
       "      <th>Time_taken(min)</th>\n",
       "      <th>Day</th>\n",
       "      <th>Month</th>\n",
       "    </tr>\n",
       "  </thead>\n",
       "  <tbody>\n",
       "    <tr>\n",
       "      <th>Delivery_person_Age</th>\n",
       "      <td>1.000000</td>\n",
       "      <td>-0.068628</td>\n",
       "      <td>-0.001955</td>\n",
       "      <td>-0.006796</td>\n",
       "      <td>0.002359</td>\n",
       "      <td>-0.000593</td>\n",
       "      <td>0.000103</td>\n",
       "      <td>0.001049</td>\n",
       "      <td>0.056933</td>\n",
       "      <td>0.292708</td>\n",
       "      <td>0.003315</td>\n",
       "      <td>-0.002960</td>\n",
       "    </tr>\n",
       "    <tr>\n",
       "      <th>Delivery_person_Ratings</th>\n",
       "      <td>-0.068628</td>\n",
       "      <td>1.000000</td>\n",
       "      <td>-0.011870</td>\n",
       "      <td>-0.016724</td>\n",
       "      <td>-0.009912</td>\n",
       "      <td>-0.013116</td>\n",
       "      <td>-0.060811</td>\n",
       "      <td>0.037386</td>\n",
       "      <td>-0.057901</td>\n",
       "      <td>-0.330729</td>\n",
       "      <td>-0.003693</td>\n",
       "      <td>-0.009003</td>\n",
       "    </tr>\n",
       "    <tr>\n",
       "      <th>Restaurant_latitude</th>\n",
       "      <td>-0.001955</td>\n",
       "      <td>-0.011870</td>\n",
       "      <td>1.000000</td>\n",
       "      <td>0.661784</td>\n",
       "      <td>0.866378</td>\n",
       "      <td>0.602713</td>\n",
       "      <td>0.026594</td>\n",
       "      <td>-0.033551</td>\n",
       "      <td>0.002983</td>\n",
       "      <td>0.013981</td>\n",
       "      <td>-0.000945</td>\n",
       "      <td>-0.002611</td>\n",
       "    </tr>\n",
       "    <tr>\n",
       "      <th>Restaurant_longitude</th>\n",
       "      <td>-0.006796</td>\n",
       "      <td>-0.016724</td>\n",
       "      <td>0.661784</td>\n",
       "      <td>1.000000</td>\n",
       "      <td>0.632293</td>\n",
       "      <td>0.915026</td>\n",
       "      <td>0.025980</td>\n",
       "      <td>-0.038744</td>\n",
       "      <td>-0.005261</td>\n",
       "      <td>0.007821</td>\n",
       "      <td>0.004096</td>\n",
       "      <td>-0.003343</td>\n",
       "    </tr>\n",
       "    <tr>\n",
       "      <th>Delivery_location_latitude</th>\n",
       "      <td>0.002359</td>\n",
       "      <td>-0.009912</td>\n",
       "      <td>0.866378</td>\n",
       "      <td>0.632293</td>\n",
       "      <td>1.000000</td>\n",
       "      <td>0.690515</td>\n",
       "      <td>0.012414</td>\n",
       "      <td>-0.001604</td>\n",
       "      <td>0.004037</td>\n",
       "      <td>0.014243</td>\n",
       "      <td>-0.002649</td>\n",
       "      <td>0.001501</td>\n",
       "    </tr>\n",
       "    <tr>\n",
       "      <th>Delivery_location_longitude</th>\n",
       "      <td>-0.000593</td>\n",
       "      <td>-0.013116</td>\n",
       "      <td>0.602713</td>\n",
       "      <td>0.915026</td>\n",
       "      <td>0.690515</td>\n",
       "      <td>1.000000</td>\n",
       "      <td>0.007420</td>\n",
       "      <td>-0.001960</td>\n",
       "      <td>-0.001035</td>\n",
       "      <td>0.007625</td>\n",
       "      <td>0.002493</td>\n",
       "      <td>-0.001691</td>\n",
       "    </tr>\n",
       "    <tr>\n",
       "      <th>Road_traffic_density</th>\n",
       "      <td>0.000103</td>\n",
       "      <td>-0.060811</td>\n",
       "      <td>0.026594</td>\n",
       "      <td>0.025980</td>\n",
       "      <td>0.012414</td>\n",
       "      <td>0.007420</td>\n",
       "      <td>1.000000</td>\n",
       "      <td>-0.020245</td>\n",
       "      <td>0.118406</td>\n",
       "      <td>0.411936</td>\n",
       "      <td>0.010056</td>\n",
       "      <td>0.012187</td>\n",
       "    </tr>\n",
       "    <tr>\n",
       "      <th>Vehicle_condition</th>\n",
       "      <td>0.001049</td>\n",
       "      <td>0.037386</td>\n",
       "      <td>-0.033551</td>\n",
       "      <td>-0.038744</td>\n",
       "      <td>-0.001604</td>\n",
       "      <td>-0.001960</td>\n",
       "      <td>-0.020245</td>\n",
       "      <td>1.000000</td>\n",
       "      <td>-0.079085</td>\n",
       "      <td>-0.234398</td>\n",
       "      <td>0.002479</td>\n",
       "      <td>-0.004493</td>\n",
       "    </tr>\n",
       "    <tr>\n",
       "      <th>Festival</th>\n",
       "      <td>0.056933</td>\n",
       "      <td>-0.057901</td>\n",
       "      <td>0.002983</td>\n",
       "      <td>-0.005261</td>\n",
       "      <td>0.004037</td>\n",
       "      <td>-0.001035</td>\n",
       "      <td>0.118406</td>\n",
       "      <td>-0.079085</td>\n",
       "      <td>1.000000</td>\n",
       "      <td>0.290046</td>\n",
       "      <td>0.009234</td>\n",
       "      <td>0.010593</td>\n",
       "    </tr>\n",
       "    <tr>\n",
       "      <th>Time_taken(min)</th>\n",
       "      <td>0.292708</td>\n",
       "      <td>-0.330729</td>\n",
       "      <td>0.013981</td>\n",
       "      <td>0.007821</td>\n",
       "      <td>0.014243</td>\n",
       "      <td>0.007625</td>\n",
       "      <td>0.411936</td>\n",
       "      <td>-0.234398</td>\n",
       "      <td>0.290046</td>\n",
       "      <td>1.000000</td>\n",
       "      <td>0.012468</td>\n",
       "      <td>0.028250</td>\n",
       "    </tr>\n",
       "    <tr>\n",
       "      <th>Day</th>\n",
       "      <td>0.003315</td>\n",
       "      <td>-0.003693</td>\n",
       "      <td>-0.000945</td>\n",
       "      <td>0.004096</td>\n",
       "      <td>-0.002649</td>\n",
       "      <td>0.002493</td>\n",
       "      <td>0.010056</td>\n",
       "      <td>0.002479</td>\n",
       "      <td>0.009234</td>\n",
       "      <td>0.012468</td>\n",
       "      <td>1.000000</td>\n",
       "      <td>-0.489164</td>\n",
       "    </tr>\n",
       "    <tr>\n",
       "      <th>Month</th>\n",
       "      <td>-0.002960</td>\n",
       "      <td>-0.009003</td>\n",
       "      <td>-0.002611</td>\n",
       "      <td>-0.003343</td>\n",
       "      <td>0.001501</td>\n",
       "      <td>-0.001691</td>\n",
       "      <td>0.012187</td>\n",
       "      <td>-0.004493</td>\n",
       "      <td>0.010593</td>\n",
       "      <td>0.028250</td>\n",
       "      <td>-0.489164</td>\n",
       "      <td>1.000000</td>\n",
       "    </tr>\n",
       "  </tbody>\n",
       "</table>\n",
       "</div>"
      ],
      "text/plain": [
       "                             Delivery_person_Age  Delivery_person_Ratings  \\\n",
       "Delivery_person_Age                     1.000000                -0.068628   \n",
       "Delivery_person_Ratings                -0.068628                 1.000000   \n",
       "Restaurant_latitude                    -0.001955                -0.011870   \n",
       "Restaurant_longitude                   -0.006796                -0.016724   \n",
       "Delivery_location_latitude              0.002359                -0.009912   \n",
       "Delivery_location_longitude            -0.000593                -0.013116   \n",
       "Road_traffic_density                    0.000103                -0.060811   \n",
       "Vehicle_condition                       0.001049                 0.037386   \n",
       "Festival                                0.056933                -0.057901   \n",
       "Time_taken(min)                         0.292708                -0.330729   \n",
       "Day                                     0.003315                -0.003693   \n",
       "Month                                  -0.002960                -0.009003   \n",
       "\n",
       "                             Restaurant_latitude  Restaurant_longitude  \\\n",
       "Delivery_person_Age                    -0.001955             -0.006796   \n",
       "Delivery_person_Ratings                -0.011870             -0.016724   \n",
       "Restaurant_latitude                     1.000000              0.661784   \n",
       "Restaurant_longitude                    0.661784              1.000000   \n",
       "Delivery_location_latitude              0.866378              0.632293   \n",
       "Delivery_location_longitude             0.602713              0.915026   \n",
       "Road_traffic_density                    0.026594              0.025980   \n",
       "Vehicle_condition                      -0.033551             -0.038744   \n",
       "Festival                                0.002983             -0.005261   \n",
       "Time_taken(min)                         0.013981              0.007821   \n",
       "Day                                    -0.000945              0.004096   \n",
       "Month                                  -0.002611             -0.003343   \n",
       "\n",
       "                             Delivery_location_latitude  \\\n",
       "Delivery_person_Age                            0.002359   \n",
       "Delivery_person_Ratings                       -0.009912   \n",
       "Restaurant_latitude                            0.866378   \n",
       "Restaurant_longitude                           0.632293   \n",
       "Delivery_location_latitude                     1.000000   \n",
       "Delivery_location_longitude                    0.690515   \n",
       "Road_traffic_density                           0.012414   \n",
       "Vehicle_condition                             -0.001604   \n",
       "Festival                                       0.004037   \n",
       "Time_taken(min)                                0.014243   \n",
       "Day                                           -0.002649   \n",
       "Month                                          0.001501   \n",
       "\n",
       "                             Delivery_location_longitude  \\\n",
       "Delivery_person_Age                            -0.000593   \n",
       "Delivery_person_Ratings                        -0.013116   \n",
       "Restaurant_latitude                             0.602713   \n",
       "Restaurant_longitude                            0.915026   \n",
       "Delivery_location_latitude                      0.690515   \n",
       "Delivery_location_longitude                     1.000000   \n",
       "Road_traffic_density                            0.007420   \n",
       "Vehicle_condition                              -0.001960   \n",
       "Festival                                       -0.001035   \n",
       "Time_taken(min)                                 0.007625   \n",
       "Day                                             0.002493   \n",
       "Month                                          -0.001691   \n",
       "\n",
       "                             Road_traffic_density  Vehicle_condition  \\\n",
       "Delivery_person_Age                      0.000103           0.001049   \n",
       "Delivery_person_Ratings                 -0.060811           0.037386   \n",
       "Restaurant_latitude                      0.026594          -0.033551   \n",
       "Restaurant_longitude                     0.025980          -0.038744   \n",
       "Delivery_location_latitude               0.012414          -0.001604   \n",
       "Delivery_location_longitude              0.007420          -0.001960   \n",
       "Road_traffic_density                     1.000000          -0.020245   \n",
       "Vehicle_condition                       -0.020245           1.000000   \n",
       "Festival                                 0.118406          -0.079085   \n",
       "Time_taken(min)                          0.411936          -0.234398   \n",
       "Day                                      0.010056           0.002479   \n",
       "Month                                    0.012187          -0.004493   \n",
       "\n",
       "                             Festival  Time_taken(min)       Day     Month  \n",
       "Delivery_person_Age          0.056933         0.292708  0.003315 -0.002960  \n",
       "Delivery_person_Ratings     -0.057901        -0.330729 -0.003693 -0.009003  \n",
       "Restaurant_latitude          0.002983         0.013981 -0.000945 -0.002611  \n",
       "Restaurant_longitude        -0.005261         0.007821  0.004096 -0.003343  \n",
       "Delivery_location_latitude   0.004037         0.014243 -0.002649  0.001501  \n",
       "Delivery_location_longitude -0.001035         0.007625  0.002493 -0.001691  \n",
       "Road_traffic_density         0.118406         0.411936  0.010056  0.012187  \n",
       "Vehicle_condition           -0.079085        -0.234398  0.002479 -0.004493  \n",
       "Festival                     1.000000         0.290046  0.009234  0.010593  \n",
       "Time_taken(min)              0.290046         1.000000  0.012468  0.028250  \n",
       "Day                          0.009234         0.012468  1.000000 -0.489164  \n",
       "Month                        0.010593         0.028250 -0.489164  1.000000  "
      ]
     },
     "execution_count": 54,
     "metadata": {},
     "output_type": "execute_result"
    }
   ],
   "source": [
    "train_df.corr()"
   ]
  },
  {
   "cell_type": "code",
   "execution_count": 55,
   "metadata": {},
   "outputs": [
    {
     "data": {
      "image/png": "[encoded data removed]",
      "text/plain": [
       "<Figure size 1296x504 with 2 Axes>"
      ]
     },
     "metadata": {
      "needs_background": "light"
     },
     "output_type": "display_data"
    }
   ],
   "source": [
    "plt.figure(figsize=(18,7))\n",
    "sns.heatmap(train_df.corr(),annot=True)\n",
    "plt.tight_layout()"
   ]
  },
  {
   "cell_type": "code",
   "execution_count": 56,
   "metadata": {},
   "outputs": [],
   "source": [
    "dummies = pd.get_dummies(train_df[[\"Weatherconditions\",\"Type_of_order\",\"Type_of_vehicle\",\"City\"]])\n",
    "train_df = pd.concat([train_df,dummies],axis=1)\n",
    "train_df.drop([\"Weatherconditions\",\"Type_of_order\",\"Type_of_vehicle\",\"City\"],axis=1,inplace=True)\n",
    "#####\n",
    "dummies2 = pd.get_dummies(test_df[[\"Weatherconditions\",\"Type_of_order\",\"Type_of_vehicle\",\"City\"]])\n",
    "test_df = pd.concat([test_df,dummies2],axis=1)\n",
    "test_df.drop([\"Weatherconditions\",\"Type_of_order\",\"Type_of_vehicle\",\"City\"],axis=1,inplace=True)"
   ]
  },
  {
   "cell_type": "code",
   "execution_count": 57,
   "metadata": {},
   "outputs": [],
   "source": [
    "train_df[\"multiple_deliveries\"]= train_df[\"multiple_deliveries\"].astype(\"int32\")\n",
    "test_df[\"multiple_deliveries\"]= test_df[\"multiple_deliveries\"].astype(\"int32\")"
   ]
  },
  {
   "cell_type": "code",
   "execution_count": 58,
   "metadata": {},
   "outputs": [],
   "source": [
    "train_df[\"Time_Order_picked\"] = train_df[\"Time_Order_picked\"].apply(lambda x: x.total_seconds())\n",
    "test_df[\"Time_Order_picked\"] = test_df[\"Time_Order_picked\"].apply(lambda x: x.total_seconds())"
   ]
  },
  {
   "cell_type": "code",
   "execution_count": 59,
   "metadata": {},
   "outputs": [],
   "source": [
    "train_df[\"Time_Orderd\"] = pd.to_timedelta(train_df[\"Time_Orderd\"])\n",
    "train_df[\"Time_Orderd\"] = train_df[\"Time_Orderd\"].apply(lambda x: x.total_seconds())\n",
    "test_df[\"Time_Orderd\"] = pd.to_timedelta(test_df[\"Time_Orderd\"])\n",
    "test_df[\"Time_Orderd\"] = test_df[\"Time_Orderd\"].apply(lambda x: x.total_seconds())"
   ]
  },
  {
   "cell_type": "code",
   "execution_count": 60,
   "metadata": {},
   "outputs": [],
   "source": [
    "X = train_df.drop(\"Time_taken(min)\",axis=1)\n",
    "Y = train_df[\"Time_taken(min)\"]"
   ]
  },
  {
   "cell_type": "code",
   "execution_count": 61,
   "metadata": {},
   "outputs": [],
   "source": [
    "X_train, X_test, y_train, y_test = train_test_split(X,Y,test_size=0.3)"
   ]
  },
  {
   "cell_type": "code",
   "execution_count": 62,
   "metadata": {},
   "outputs": [],
   "source": [
    "def RSE(y_true, y_predicted):\n",
    "    y_true = np.array(y_true)\n",
    "    y_predicted = np.array(y_predicted)\n",
    "    RSS = np.sum(np.square(y_true - y_predicted))\n",
    "\n",
    "    rse = sqrt(RSS / (len(y_true) - 2))\n",
    "    return rse"
   ]
  },
  {
   "cell_type": "code",
   "execution_count": 63,
   "metadata": {},
   "outputs": [],
   "source": [
    "models=[LinearRegression(),RandomForestRegressor(n_estimators=42,n_jobs=-1),AdaBoostRegressor(),KNeighborsRegressor(),DecisionTreeRegressor(),GradientBoostingRegressor(),XGBRegressor(),LGBMRegressor()]\n",
    "model_names=[\"LinearRegression\",\"RandomForestRegressor\",\"AdaBoostRegressor\",\"KNeighborsRegressor\",\"DecisionTreeRegressor\",\"GradientBoostingRegressor\",\"XGBRegressor\",\"LGBMRegressor\"]\n",
    "MSE=[]\n",
    "r_2=[]\n",
    "RSE_ = []\n",
    "accuracy = []\n",
    "RMSE = []\n",
    "d={}\n",
    "for model in range (len(models)):\n",
    "    model=models[model]\n",
    "    model.fit(X_train,y_train)\n",
    "    y_pre=model.predict(X_test)\n",
    "    MSE.append(round(mean_squared_error(y_true=y_test,y_pred=y_pre),5))\n",
    "    r_2.append(r2_score(y_true=y_test,y_pred=y_pre))\n",
    "    RSE_.append(round(RSE(y_test,y_pre),5))\n",
    "    accuracy.append((model.score(X_test,y_test))*100)\n",
    "    RMSE.append(sqrt(mean_squared_error(y_true=y_test,y_pred=y_pre)))\n",
    "d=pd.DataFrame({'Modelling Name':model_names,'MSE':MSE,\"R_2\":r_2,\"RSE\":RSE_,\"Accuracy\":accuracy,\"RMSE\":RMSE})\n"
   ]
  },
  {
   "cell_type": "code",
   "execution_count": 64,
   "metadata": {},
   "outputs": [
    {
     "data": {
      "text/html": [
       "<div>\n",
       "<style scoped>\n",
       "    .dataframe tbody tr th:only-of-type {\n",
       "        vertical-align: middle;\n",
       "    }\n",
       "\n",
       "    .dataframe tbody tr th {\n",
       "        vertical-align: top;\n",
       "    }\n",
       "\n",
       "    .dataframe thead th {\n",
       "        text-align: right;\n",
       "    }\n",
       "</style>\n",
       "<table border=\"1\" class=\"dataframe\">\n",
       "  <thead>\n",
       "    <tr style=\"text-align: right;\">\n",
       "      <th></th>\n",
       "      <th>Modelling Name</th>\n",
       "      <th>MSE</th>\n",
       "      <th>R_2</th>\n",
       "      <th>RSE</th>\n",
       "      <th>Accuracy</th>\n",
       "      <th>RMSE</th>\n",
       "    </tr>\n",
       "  </thead>\n",
       "  <tbody>\n",
       "    <tr>\n",
       "      <th>0</th>\n",
       "      <td>LinearRegression</td>\n",
       "      <td>40.54348</td>\n",
       "      <td>0.548319</td>\n",
       "      <td>6.36784</td>\n",
       "      <td>54.831950</td>\n",
       "      <td>6.367376</td>\n",
       "    </tr>\n",
       "    <tr>\n",
       "      <th>1</th>\n",
       "      <td>RandomForestRegressor</td>\n",
       "      <td>23.24220</td>\n",
       "      <td>0.741067</td>\n",
       "      <td>4.82137</td>\n",
       "      <td>74.106691</td>\n",
       "      <td>4.821016</td>\n",
       "    </tr>\n",
       "    <tr>\n",
       "      <th>2</th>\n",
       "      <td>AdaBoostRegressor</td>\n",
       "      <td>43.05581</td>\n",
       "      <td>0.520331</td>\n",
       "      <td>6.56217</td>\n",
       "      <td>52.033052</td>\n",
       "      <td>6.561692</td>\n",
       "    </tr>\n",
       "    <tr>\n",
       "      <th>3</th>\n",
       "      <td>KNeighborsRegressor</td>\n",
       "      <td>74.85074</td>\n",
       "      <td>0.166114</td>\n",
       "      <td>8.65226</td>\n",
       "      <td>16.611440</td>\n",
       "      <td>8.651632</td>\n",
       "    </tr>\n",
       "    <tr>\n",
       "      <th>4</th>\n",
       "      <td>DecisionTreeRegressor</td>\n",
       "      <td>43.80304</td>\n",
       "      <td>0.512006</td>\n",
       "      <td>6.61887</td>\n",
       "      <td>51.200583</td>\n",
       "      <td>6.618387</td>\n",
       "    </tr>\n",
       "    <tr>\n",
       "      <th>5</th>\n",
       "      <td>GradientBoostingRegressor</td>\n",
       "      <td>26.84653</td>\n",
       "      <td>0.700912</td>\n",
       "      <td>5.18174</td>\n",
       "      <td>70.091228</td>\n",
       "      <td>5.181364</td>\n",
       "    </tr>\n",
       "    <tr>\n",
       "      <th>6</th>\n",
       "      <td>XGBRegressor</td>\n",
       "      <td>19.03847</td>\n",
       "      <td>0.787899</td>\n",
       "      <td>4.36363</td>\n",
       "      <td>78.789910</td>\n",
       "      <td>4.363310</td>\n",
       "    </tr>\n",
       "    <tr>\n",
       "      <th>7</th>\n",
       "      <td>LGBMRegressor</td>\n",
       "      <td>19.39913</td>\n",
       "      <td>0.783881</td>\n",
       "      <td>4.40477</td>\n",
       "      <td>78.388114</td>\n",
       "      <td>4.404445</td>\n",
       "    </tr>\n",
       "  </tbody>\n",
       "</table>\n",
       "</div>"
      ],
      "text/plain": [
       "              Modelling Name       MSE       R_2      RSE   Accuracy      RMSE\n",
       "0           LinearRegression  40.54348  0.548319  6.36784  54.831950  6.367376\n",
       "1      RandomForestRegressor  23.24220  0.741067  4.82137  74.106691  4.821016\n",
       "2          AdaBoostRegressor  43.05581  0.520331  6.56217  52.033052  6.561692\n",
       "3        KNeighborsRegressor  74.85074  0.166114  8.65226  16.611440  8.651632\n",
       "4      DecisionTreeRegressor  43.80304  0.512006  6.61887  51.200583  6.618387\n",
       "5  GradientBoostingRegressor  26.84653  0.700912  5.18174  70.091228  5.181364\n",
       "6               XGBRegressor  19.03847  0.787899  4.36363  78.789910  4.363310\n",
       "7              LGBMRegressor  19.39913  0.783881  4.40477  78.388114  4.404445"
      ]
     },
     "execution_count": 64,
     "metadata": {},
     "output_type": "execute_result"
    }
   ],
   "source": [
    "d"
   ]
  },
  {
   "cell_type": "code",
   "execution_count": 65,
   "metadata": {},
   "outputs": [
    {
     "data": {
      "text/html": [
       "<style>#sk-container-id-1 {color: black;}#sk-container-id-1 pre{padding: 0;}#sk-container-id-1 div.sk-toggleable {background-color: white;}#sk-container-id-1 label.sk-toggleable__label {cursor: pointer;display: block;width: 100%;margin-bottom: 0;padding: 0.3em;box-sizing: border-box;text-align: center;}#sk-container-id-1 label.sk-toggleable__label-arrow:before {content: \"▸\";float: left;margin-right: 0.25em;color: #696969;}#sk-container-id-1 label.sk-toggleable__label-arrow:hover:before {color: black;}#sk-container-id-1 div.sk-estimator:hover label.sk-toggleable__label-arrow:before {color: black;}#sk-container-id-1 div.sk-toggleable__content {max-height: 0;max-width: 0;overflow: hidden;text-align: left;background-color: #f0f8ff;}#sk-container-id-1 div.sk-toggleable__content pre {margin: 0.2em;color: black;border-radius: 0.25em;background-color: #f0f8ff;}#sk-container-id-1 input.sk-toggleable__control:checked~div.sk-toggleable__content {max-height: 200px;max-width: 100%;overflow: auto;}#sk-container-id-1 input.sk-toggleable__control:checked~label.sk-toggleable__label-arrow:before {content: \"▾\";}#sk-container-id-1 div.sk-estimator input.sk-toggleable__control:checked~label.sk-toggleable__label {background-color: #d4ebff;}#sk-container-id-1 div.sk-label input.sk-toggleable__control:checked~label.sk-toggleable__label {background-color: #d4ebff;}#sk-container-id-1 input.sk-hidden--visually {border: 0;clip: rect(1px 1px 1px 1px);clip: rect(1px, 1px, 1px, 1px);height: 1px;margin: -1px;overflow: hidden;padding: 0;position: absolute;width: 1px;}#sk-container-id-1 div.sk-estimator {font-family: monospace;background-color: #f0f8ff;border: 1px dotted black;border-radius: 0.25em;box-sizing: border-box;margin-bottom: 0.5em;}#sk-container-id-1 div.sk-estimator:hover {background-color: #d4ebff;}#sk-container-id-1 div.sk-parallel-item::after {content: \"\";width: 100%;border-bottom: 1px solid gray;flex-grow: 1;}#sk-container-id-1 div.sk-label:hover label.sk-toggleable__label {background-color: #d4ebff;}#sk-container-id-1 div.sk-serial::before {content: \"\";position: absolute;border-left: 1px solid gray;box-sizing: border-box;top: 0;bottom: 0;left: 50%;z-index: 0;}#sk-container-id-1 div.sk-serial {display: flex;flex-direction: column;align-items: center;background-color: white;padding-right: 0.2em;padding-left: 0.2em;position: relative;}#sk-container-id-1 div.sk-item {position: relative;z-index: 1;}#sk-container-id-1 div.sk-parallel {display: flex;align-items: stretch;justify-content: center;background-color: white;position: relative;}#sk-container-id-1 div.sk-item::before, #sk-container-id-1 div.sk-parallel-item::before {content: \"\";position: absolute;border-left: 1px solid gray;box-sizing: border-box;top: 0;bottom: 0;left: 50%;z-index: -1;}#sk-container-id-1 div.sk-parallel-item {display: flex;flex-direction: column;z-index: 1;position: relative;background-color: white;}#sk-container-id-1 div.sk-parallel-item:first-child::after {align-self: flex-end;width: 50%;}#sk-container-id-1 div.sk-parallel-item:last-child::after {align-self: flex-start;width: 50%;}#sk-container-id-1 div.sk-parallel-item:only-child::after {width: 0;}#sk-container-id-1 div.sk-dashed-wrapped {border: 1px dashed gray;margin: 0 0.4em 0.5em 0.4em;box-sizing: border-box;padding-bottom: 0.4em;background-color: white;}#sk-container-id-1 div.sk-label label {font-family: monospace;font-weight: bold;display: inline-block;line-height: 1.2em;}#sk-container-id-1 div.sk-label-container {text-align: center;}#sk-container-id-1 div.sk-container {/* jupyter's `normalize.less` sets `[hidden] { display: none; }` but bootstrap.min.css set `[hidden] { display: none !important; }` so we also need the `!important` here to be able to override the default hidden behavior on the sphinx rendered scikit-learn.org. See: https://github.com/scikit-learn/scikit-learn/issues/21755 */display: inline-block !important;position: relative;}#sk-container-id-1 div.sk-text-repr-fallback {display: none;}</style><div id=\"sk-container-id-1\" class=\"sk-top-container\"><div class=\"sk-text-repr-fallback\"><pre>XGBRegressor(base_score=None, booster=None, callbacks=None,\n",
       "             colsample_bylevel=None, colsample_bynode=None,\n",
       "             colsample_bytree=None, early_stopping_rounds=None,\n",
       "             enable_categorical=False, eval_metric=None, feature_types=None,\n",
       "             gamma=None, gpu_id=None, grow_policy=None, importance_type=None,\n",
       "             interaction_constraints=None, learning_rate=None, max_bin=None,\n",
       "             max_cat_threshold=None, max_cat_to_onehot=None,\n",
       "             max_delta_step=None, max_depth=None, max_leaves=None,\n",
       "             min_child_weight=None, missing=nan, monotone_constraints=None,\n",
       "             n_estimators=100, n_jobs=None, num_parallel_tree=None,\n",
       "             predictor=None, random_state=None, ...)</pre><b>In a Jupyter environment, please rerun this cell to show the HTML representation or trust the notebook. <br />On GitHub, the HTML representation is unable to render, please try loading this page with nbviewer.org.</b></div><div class=\"sk-container\" hidden><div class=\"sk-item\"><div class=\"sk-estimator sk-toggleable\"><input class=\"sk-toggleable__control sk-hidden--visually\" id=\"sk-estimator-id-1\" type=\"checkbox\" checked><label for=\"sk-estimator-id-1\" class=\"sk-toggleable__label sk-toggleable__label-arrow\">XGBRegressor</label><div class=\"sk-toggleable__content\"><pre>XGBRegressor(base_score=None, booster=None, callbacks=None,\n",
       "             colsample_bylevel=None, colsample_bynode=None,\n",
       "             colsample_bytree=None, early_stopping_rounds=None,\n",
       "             enable_categorical=False, eval_metric=None, feature_types=None,\n",
       "             gamma=None, gpu_id=None, grow_policy=None, importance_type=None,\n",
       "             interaction_constraints=None, learning_rate=None, max_bin=None,\n",
       "             max_cat_threshold=None, max_cat_to_onehot=None,\n",
       "             max_delta_step=None, max_depth=None, max_leaves=None,\n",
       "             min_child_weight=None, missing=nan, monotone_constraints=None,\n",
       "             n_estimators=100, n_jobs=None, num_parallel_tree=None,\n",
       "             predictor=None, random_state=None, ...)</pre></div></div></div></div></div>"
      ],
      "text/plain": [
       "XGBRegressor(base_score=None, booster=None, callbacks=None,\n",
       "             colsample_bylevel=None, colsample_bynode=None,\n",
       "             colsample_bytree=None, early_stopping_rounds=None,\n",
       "             enable_categorical=False, eval_metric=None, feature_types=None,\n",
       "             gamma=None, gpu_id=None, grow_policy=None, importance_type=None,\n",
       "             interaction_constraints=None, learning_rate=None, max_bin=None,\n",
       "             max_cat_threshold=None, max_cat_to_onehot=None,\n",
       "             max_delta_step=None, max_depth=None, max_leaves=None,\n",
       "             min_child_weight=None, missing=nan, monotone_constraints=None,\n",
       "             n_estimators=100, n_jobs=None, num_parallel_tree=None,\n",
       "             predictor=None, random_state=None, ...)"
      ]
     },
     "execution_count": 65,
     "metadata": {},
     "output_type": "execute_result"
    }
   ],
   "source": [
    "model = XGBRegressor()\n",
    "model.fit(X,Y)"
   ]
  },
  {
   "cell_type": "code",
   "execution_count": 66,
   "metadata": {},
   "outputs": [
    {
     "data": {
      "text/html": [
       "<div>\n",
       "<style scoped>\n",
       "    .dataframe tbody tr th:only-of-type {\n",
       "        vertical-align: middle;\n",
       "    }\n",
       "\n",
       "    .dataframe tbody tr th {\n",
       "        vertical-align: top;\n",
       "    }\n",
       "\n",
       "    .dataframe thead th {\n",
       "        text-align: right;\n",
       "    }\n",
       "</style>\n",
       "<table border=\"1\" class=\"dataframe\">\n",
       "  <thead>\n",
       "    <tr style=\"text-align: right;\">\n",
       "      <th></th>\n",
       "      <th>ID</th>\n",
       "      <th>Delivery_person_ID</th>\n",
       "      <th>Delivery_person_Age</th>\n",
       "      <th>Delivery_person_Ratings</th>\n",
       "      <th>Restaurant_latitude</th>\n",
       "      <th>Restaurant_longitude</th>\n",
       "      <th>Delivery_location_latitude</th>\n",
       "      <th>Delivery_location_longitude</th>\n",
       "      <th>Time_Orderd</th>\n",
       "      <th>Time_Order_picked</th>\n",
       "      <th>Road_traffic_density</th>\n",
       "      <th>Vehicle_condition</th>\n",
       "      <th>multiple_deliveries</th>\n",
       "      <th>Festival</th>\n",
       "      <th>Day</th>\n",
       "      <th>Month</th>\n",
       "      <th>Weatherconditions_conditions Cloudy</th>\n",
       "      <th>Weatherconditions_conditions Fog</th>\n",
       "      <th>Weatherconditions_conditions Sandstorms</th>\n",
       "      <th>Weatherconditions_conditions Stormy</th>\n",
       "      <th>Weatherconditions_conditions Sunny</th>\n",
       "      <th>Weatherconditions_conditions Windy</th>\n",
       "      <th>Type_of_order_Buffet</th>\n",
       "      <th>Type_of_order_Drinks</th>\n",
       "      <th>Type_of_order_Meal</th>\n",
       "      <th>Type_of_order_Snack</th>\n",
       "      <th>Type_of_vehicle_bicycle</th>\n",
       "      <th>Type_of_vehicle_electric_scooter</th>\n",
       "      <th>Type_of_vehicle_motorcycle</th>\n",
       "      <th>Type_of_vehicle_scooter</th>\n",
       "      <th>City_Metropolitian</th>\n",
       "      <th>City_Semi-Urban</th>\n",
       "      <th>City_Urban</th>\n",
       "    </tr>\n",
       "  </thead>\n",
       "  <tbody>\n",
       "    <tr>\n",
       "      <th>0</th>\n",
       "      <td>0x2318</td>\n",
       "      <td>COIMBRES13DEL01</td>\n",
       "      <td>29.0</td>\n",
       "      <td>4.7</td>\n",
       "      <td>11.003669</td>\n",
       "      <td>76.976494</td>\n",
       "      <td>11.043669</td>\n",
       "      <td>77.016494</td>\n",
       "      <td>NaN</td>\n",
       "      <td>54300.0</td>\n",
       "      <td>0</td>\n",
       "      <td>3</td>\n",
       "      <td>1</td>\n",
       "      <td>0</td>\n",
       "      <td>30</td>\n",
       "      <td>3</td>\n",
       "      <td>0</td>\n",
       "      <td>0</td>\n",
       "      <td>0</td>\n",
       "      <td>0</td>\n",
       "      <td>1</td>\n",
       "      <td>0</td>\n",
       "      <td>0</td>\n",
       "      <td>1</td>\n",
       "      <td>0</td>\n",
       "      <td>0</td>\n",
       "      <td>0</td>\n",
       "      <td>1</td>\n",
       "      <td>0</td>\n",
       "      <td>0</td>\n",
       "      <td>1</td>\n",
       "      <td>0</td>\n",
       "      <td>0</td>\n",
       "    </tr>\n",
       "    <tr>\n",
       "      <th>1</th>\n",
       "      <td>0x3474</td>\n",
       "      <td>BANGRES15DEL01</td>\n",
       "      <td>28.0</td>\n",
       "      <td>4.6</td>\n",
       "      <td>12.975377</td>\n",
       "      <td>77.696664</td>\n",
       "      <td>13.085377</td>\n",
       "      <td>77.806664</td>\n",
       "      <td>73800.0</td>\n",
       "      <td>74100.0</td>\n",
       "      <td>3</td>\n",
       "      <td>0</td>\n",
       "      <td>1</td>\n",
       "      <td>0</td>\n",
       "      <td>29</td>\n",
       "      <td>3</td>\n",
       "      <td>0</td>\n",
       "      <td>0</td>\n",
       "      <td>0</td>\n",
       "      <td>0</td>\n",
       "      <td>0</td>\n",
       "      <td>1</td>\n",
       "      <td>0</td>\n",
       "      <td>0</td>\n",
       "      <td>0</td>\n",
       "      <td>1</td>\n",
       "      <td>0</td>\n",
       "      <td>0</td>\n",
       "      <td>1</td>\n",
       "      <td>0</td>\n",
       "      <td>1</td>\n",
       "      <td>0</td>\n",
       "      <td>0</td>\n",
       "    </tr>\n",
       "    <tr>\n",
       "      <th>2</th>\n",
       "      <td>0x9420</td>\n",
       "      <td>JAPRES09DEL03</td>\n",
       "      <td>23.0</td>\n",
       "      <td>4.5</td>\n",
       "      <td>26.911378</td>\n",
       "      <td>75.789034</td>\n",
       "      <td>27.001378</td>\n",
       "      <td>75.879034</td>\n",
       "      <td>70500.0</td>\n",
       "      <td>71100.0</td>\n",
       "      <td>3</td>\n",
       "      <td>0</td>\n",
       "      <td>1</td>\n",
       "      <td>0</td>\n",
       "      <td>3</td>\n",
       "      <td>10</td>\n",
       "      <td>0</td>\n",
       "      <td>0</td>\n",
       "      <td>0</td>\n",
       "      <td>1</td>\n",
       "      <td>0</td>\n",
       "      <td>0</td>\n",
       "      <td>0</td>\n",
       "      <td>1</td>\n",
       "      <td>0</td>\n",
       "      <td>0</td>\n",
       "      <td>0</td>\n",
       "      <td>0</td>\n",
       "      <td>1</td>\n",
       "      <td>0</td>\n",
       "      <td>1</td>\n",
       "      <td>0</td>\n",
       "      <td>0</td>\n",
       "    </tr>\n",
       "    <tr>\n",
       "      <th>3</th>\n",
       "      <td>0x72ee</td>\n",
       "      <td>JAPRES07DEL03</td>\n",
       "      <td>21.0</td>\n",
       "      <td>4.8</td>\n",
       "      <td>26.766536</td>\n",
       "      <td>75.837333</td>\n",
       "      <td>26.856536</td>\n",
       "      <td>75.927333</td>\n",
       "      <td>62100.0</td>\n",
       "      <td>62400.0</td>\n",
       "      <td>1</td>\n",
       "      <td>1</td>\n",
       "      <td>1</td>\n",
       "      <td>0</td>\n",
       "      <td>4</td>\n",
       "      <td>2</td>\n",
       "      <td>0</td>\n",
       "      <td>1</td>\n",
       "      <td>0</td>\n",
       "      <td>0</td>\n",
       "      <td>0</td>\n",
       "      <td>0</td>\n",
       "      <td>0</td>\n",
       "      <td>0</td>\n",
       "      <td>1</td>\n",
       "      <td>0</td>\n",
       "      <td>0</td>\n",
       "      <td>0</td>\n",
       "      <td>0</td>\n",
       "      <td>1</td>\n",
       "      <td>1</td>\n",
       "      <td>0</td>\n",
       "      <td>0</td>\n",
       "    </tr>\n",
       "    <tr>\n",
       "      <th>4</th>\n",
       "      <td>0xa759</td>\n",
       "      <td>CHENRES19DEL01</td>\n",
       "      <td>31.0</td>\n",
       "      <td>4.6</td>\n",
       "      <td>12.986047</td>\n",
       "      <td>80.218114</td>\n",
       "      <td>13.096047</td>\n",
       "      <td>80.328114</td>\n",
       "      <td>66300.0</td>\n",
       "      <td>67200.0</td>\n",
       "      <td>1</td>\n",
       "      <td>2</td>\n",
       "      <td>1</td>\n",
       "      <td>0</td>\n",
       "      <td>27</td>\n",
       "      <td>3</td>\n",
       "      <td>0</td>\n",
       "      <td>0</td>\n",
       "      <td>0</td>\n",
       "      <td>0</td>\n",
       "      <td>1</td>\n",
       "      <td>0</td>\n",
       "      <td>0</td>\n",
       "      <td>1</td>\n",
       "      <td>0</td>\n",
       "      <td>0</td>\n",
       "      <td>0</td>\n",
       "      <td>0</td>\n",
       "      <td>0</td>\n",
       "      <td>1</td>\n",
       "      <td>1</td>\n",
       "      <td>0</td>\n",
       "      <td>0</td>\n",
       "    </tr>\n",
       "  </tbody>\n",
       "</table>\n",
       "</div>"
      ],
      "text/plain": [
       "        ID Delivery_person_ID  Delivery_person_Age  Delivery_person_Ratings  \\\n",
       "0  0x2318    COIMBRES13DEL01                  29.0                      4.7   \n",
       "1  0x3474     BANGRES15DEL01                  28.0                      4.6   \n",
       "2  0x9420      JAPRES09DEL03                  23.0                      4.5   \n",
       "3  0x72ee      JAPRES07DEL03                  21.0                      4.8   \n",
       "4  0xa759     CHENRES19DEL01                  31.0                      4.6   \n",
       "\n",
       "   Restaurant_latitude  Restaurant_longitude  Delivery_location_latitude  \\\n",
       "0            11.003669             76.976494                   11.043669   \n",
       "1            12.975377             77.696664                   13.085377   \n",
       "2            26.911378             75.789034                   27.001378   \n",
       "3            26.766536             75.837333                   26.856536   \n",
       "4            12.986047             80.218114                   13.096047   \n",
       "\n",
       "   Delivery_location_longitude  Time_Orderd  Time_Order_picked  \\\n",
       "0                    77.016494          NaN            54300.0   \n",
       "1                    77.806664      73800.0            74100.0   \n",
       "2                    75.879034      70500.0            71100.0   \n",
       "3                    75.927333      62100.0            62400.0   \n",
       "4                    80.328114      66300.0            67200.0   \n",
       "\n",
       "   Road_traffic_density  Vehicle_condition  multiple_deliveries  Festival  \\\n",
       "0                     0                  3                    1         0   \n",
       "1                     3                  0                    1         0   \n",
       "2                     3                  0                    1         0   \n",
       "3                     1                  1                    1         0   \n",
       "4                     1                  2                    1         0   \n",
       "\n",
       "   Day  Month  Weatherconditions_conditions Cloudy  \\\n",
       "0   30      3                                    0   \n",
       "1   29      3                                    0   \n",
       "2    3     10                                    0   \n",
       "3    4      2                                    0   \n",
       "4   27      3                                    0   \n",
       "\n",
       "   Weatherconditions_conditions Fog  Weatherconditions_conditions Sandstorms  \\\n",
       "0                                 0                                        0   \n",
       "1                                 0                                        0   \n",
       "2                                 0                                        0   \n",
       "3                                 1                                        0   \n",
       "4                                 0                                        0   \n",
       "\n",
       "   Weatherconditions_conditions Stormy  Weatherconditions_conditions Sunny  \\\n",
       "0                                    0                                   1   \n",
       "1                                    0                                   0   \n",
       "2                                    1                                   0   \n",
       "3                                    0                                   0   \n",
       "4                                    0                                   1   \n",
       "\n",
       "   Weatherconditions_conditions Windy  Type_of_order_Buffet   \\\n",
       "0                                   0                      0   \n",
       "1                                   1                      0   \n",
       "2                                   0                      0   \n",
       "3                                   0                      0   \n",
       "4                                   0                      0   \n",
       "\n",
       "   Type_of_order_Drinks   Type_of_order_Meal   Type_of_order_Snack   \\\n",
       "0                      1                    0                     0   \n",
       "1                      0                    0                     1   \n",
       "2                      1                    0                     0   \n",
       "3                      0                    1                     0   \n",
       "4                      1                    0                     0   \n",
       "\n",
       "   Type_of_vehicle_bicycle   Type_of_vehicle_electric_scooter   \\\n",
       "0                         0                                  1   \n",
       "1                         0                                  0   \n",
       "2                         0                                  0   \n",
       "3                         0                                  0   \n",
       "4                         0                                  0   \n",
       "\n",
       "   Type_of_vehicle_motorcycle   Type_of_vehicle_scooter   City_Metropolitian   \\\n",
       "0                            0                         0                    1   \n",
       "1                            1                         0                    1   \n",
       "2                            1                         0                    1   \n",
       "3                            0                         1                    1   \n",
       "4                            0                         1                    1   \n",
       "\n",
       "   City_Semi-Urban   City_Urban   \n",
       "0                 0            0  \n",
       "1                 0            0  \n",
       "2                 0            0  \n",
       "3                 0            0  \n",
       "4                 0            0  "
      ]
     },
     "execution_count": 66,
     "metadata": {},
     "output_type": "execute_result"
    }
   ],
   "source": [
    "test_df.head()"
   ]
  },
  {
   "cell_type": "code",
   "execution_count": 67,
   "metadata": {},
   "outputs": [],
   "source": [
    "ids = test_df[\"ID\"]\n",
    "test_df.drop([\"ID\",\"Delivery_person_ID\"],axis=1,inplace=True)"
   ]
  },
  {
   "cell_type": "code",
   "execution_count": 68,
   "metadata": {},
   "outputs": [
    {
     "data": {
      "text/plain": [
       "Delivery_person_Age                          0\n",
       "Delivery_person_Ratings                      0\n",
       "Restaurant_latitude                          0\n",
       "Restaurant_longitude                         0\n",
       "Delivery_location_latitude                   0\n",
       "Delivery_location_longitude                  0\n",
       "Time_Orderd                                444\n",
       "Time_Order_picked                            0\n",
       "Road_traffic_density                         0\n",
       "Vehicle_condition                            0\n",
       "multiple_deliveries                          0\n",
       "Festival                                     0\n",
       "Day                                          0\n",
       "Month                                        0\n",
       "Weatherconditions_conditions Cloudy          0\n",
       "Weatherconditions_conditions Fog             0\n",
       "Weatherconditions_conditions Sandstorms      0\n",
       "Weatherconditions_conditions Stormy          0\n",
       "Weatherconditions_conditions Sunny           0\n",
       "Weatherconditions_conditions Windy           0\n",
       "Type_of_order_Buffet                         0\n",
       "Type_of_order_Drinks                         0\n",
       "Type_of_order_Meal                           0\n",
       "Type_of_order_Snack                          0\n",
       "Type_of_vehicle_bicycle                      0\n",
       "Type_of_vehicle_electric_scooter             0\n",
       "Type_of_vehicle_motorcycle                   0\n",
       "Type_of_vehicle_scooter                      0\n",
       "City_Metropolitian                           0\n",
       "City_Semi-Urban                              0\n",
       "City_Urban                                   0\n",
       "dtype: int64"
      ]
     },
     "execution_count": 68,
     "metadata": {},
     "output_type": "execute_result"
    }
   ],
   "source": [
    "test_df.isna().sum()"
   ]
  },
  {
   "cell_type": "code",
   "execution_count": 69,
   "metadata": {},
   "outputs": [],
   "source": [
    "test_df[\"Time_Orderd\"].fillna(test_df[\"Time_Orderd\"].mean(),inplace=True)"
   ]
  },
  {
   "cell_type": "code",
   "execution_count": 70,
   "metadata": {},
   "outputs": [
    {
     "data": {
      "text/plain": [
       "array([21.214777, 29.774952, 31.360134, ..., 32.263763, 26.022408,\n",
       "       21.003128], dtype=float32)"
      ]
     },
     "execution_count": 70,
     "metadata": {},
     "output_type": "execute_result"
    }
   ],
   "source": [
    "Predictions = model.predict(test_df)\n",
    "Predictions"
   ]
  },
  {
   "cell_type": "code",
   "execution_count": 71,
   "metadata": {},
   "outputs": [],
   "source": [
    "Prediction = pd.DataFrame({\"ID\":ids,\"Time_taken (min)\":Predictions})"
   ]
  },
  {
   "cell_type": "code",
   "execution_count": 72,
   "metadata": {},
   "outputs": [
    {
     "data": {
      "text/html": [
       "<div>\n",
       "<style scoped>\n",
       "    .dataframe tbody tr th:only-of-type {\n",
       "        vertical-align: middle;\n",
       "    }\n",
       "\n",
       "    .dataframe tbody tr th {\n",
       "        vertical-align: top;\n",
       "    }\n",
       "\n",
       "    .dataframe thead th {\n",
       "        text-align: right;\n",
       "    }\n",
       "</style>\n",
       "<table border=\"1\" class=\"dataframe\">\n",
       "  <thead>\n",
       "    <tr style=\"text-align: right;\">\n",
       "      <th></th>\n",
       "      <th>ID</th>\n",
       "      <th>Time_taken (min)</th>\n",
       "    </tr>\n",
       "  </thead>\n",
       "  <tbody>\n",
       "    <tr>\n",
       "      <th>0</th>\n",
       "      <td>0x2318</td>\n",
       "      <td>21.214777</td>\n",
       "    </tr>\n",
       "    <tr>\n",
       "      <th>1</th>\n",
       "      <td>0x3474</td>\n",
       "      <td>29.774952</td>\n",
       "    </tr>\n",
       "    <tr>\n",
       "      <th>2</th>\n",
       "      <td>0x9420</td>\n",
       "      <td>31.360134</td>\n",
       "    </tr>\n",
       "    <tr>\n",
       "      <th>3</th>\n",
       "      <td>0x72ee</td>\n",
       "      <td>26.823927</td>\n",
       "    </tr>\n",
       "    <tr>\n",
       "      <th>4</th>\n",
       "      <td>0xa759</td>\n",
       "      <td>22.898458</td>\n",
       "    </tr>\n",
       "    <tr>\n",
       "      <th>...</th>\n",
       "      <td>...</td>\n",
       "      <td>...</td>\n",
       "    </tr>\n",
       "    <tr>\n",
       "      <th>11394</th>\n",
       "      <td>0x6909</td>\n",
       "      <td>21.092047</td>\n",
       "    </tr>\n",
       "    <tr>\n",
       "      <th>11395</th>\n",
       "      <td>0x443b</td>\n",
       "      <td>29.555773</td>\n",
       "    </tr>\n",
       "    <tr>\n",
       "      <th>11396</th>\n",
       "      <td>0x1ea5</td>\n",
       "      <td>32.263763</td>\n",
       "    </tr>\n",
       "    <tr>\n",
       "      <th>11397</th>\n",
       "      <td>0x22d4</td>\n",
       "      <td>26.022408</td>\n",
       "    </tr>\n",
       "    <tr>\n",
       "      <th>11398</th>\n",
       "      <td>0xb7be</td>\n",
       "      <td>21.003128</td>\n",
       "    </tr>\n",
       "  </tbody>\n",
       "</table>\n",
       "<p>11399 rows × 2 columns</p>\n",
       "</div>"
      ],
      "text/plain": [
       "            ID  Time_taken (min)\n",
       "0      0x2318          21.214777\n",
       "1      0x3474          29.774952\n",
       "2      0x9420          31.360134\n",
       "3      0x72ee          26.823927\n",
       "4      0xa759          22.898458\n",
       "...        ...               ...\n",
       "11394  0x6909          21.092047\n",
       "11395  0x443b          29.555773\n",
       "11396  0x1ea5          32.263763\n",
       "11397  0x22d4          26.022408\n",
       "11398  0xb7be          21.003128\n",
       "\n",
       "[11399 rows x 2 columns]"
      ]
     },
     "execution_count": 72,
     "metadata": {},
     "output_type": "execute_result"
    }
   ],
   "source": [
    "Prediction"
   ]
  },
  {
   "cell_type": "code",
   "execution_count": 73,
   "metadata": {},
   "outputs": [],
   "source": [
    "Prediction.to_csv(\"data/submissions.csv\",index=False)"
   ]
  },
  {
   "cell_type": "code",
   "execution_count": null,
   "metadata": {},
   "outputs": [],
   "source": []
  }
 ],
 "metadata": {
  "kernelspec": {
   "display_name": "Python 3",
   "language": "python",
   "name": "python3"
  },
  "language_info": {
   "codemirror_mode": {
    "name": "ipython",
    "version": 3
   },
   "file_extension": ".py",
   "mimetype": "text/x-python",
   "name": "python",
   "nbconvert_exporter": "python",
   "pygments_lexer": "ipython3",
   "version": "3.8.8"
  }
 },
 "nbformat": 4,
 "nbformat_minor": 4
}
