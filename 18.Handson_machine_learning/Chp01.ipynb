{
 "cells": [
  {
   "cell_type": "markdown",
   "metadata": {},
   "source": [
    "### Chapter 01. 한눈에 보는 머신러닝"
   ]
  },
  {
   "cell_type": "markdown",
   "metadata": {},
   "source": [
    "- 머신러닝이란? : 명시적인 프로그래밍 없이 컴퓨터가 학습하는 능력을 갖추게 하는 연구분야이다. (Arthur Samuel, 1959) "
   ]
  },
  {
   "cell_type": "markdown",
   "metadata": {},
   "source": [
    "- 머신러닝의 장점 : 매우 복잡한 문제, 계속적으로 변화하는 상황에 자동으로 대응, 불확실한 문제에 대해 인사이트 제공 등 \n",
    "- 대표적인 지도 학습 : 회귀분석, 분류분석 \n",
    "- 대표적인 비지도 학습 : 군집분석, 차원축소, 연관성 분석, 시각화 "
   ]
  },
  {
   "cell_type": "markdown",
   "metadata": {},
   "source": [
    "- 사례기반 학습 vs. 모델기반 학습 \n",
    "\n",
    "  : 사례기반은 예측을 위해 유사도 측정에 의존함, KNN이 대표적 \n",
    "  \n",
    "  : 모델기반 학습은 training data로 부터 만들어진 모델에 의해, 새로운 데이터에 대한 예측값을 만들어냄 "
   ]
  },
  {
   "cell_type": "markdown",
   "metadata": {},
   "source": [
    "- model parameter vs. hyper parameter \n",
    "\n",
    "  : 모형 파라미터는 무엇을 예측할지 결정하는 것인데 반해, \n",
    "  \n",
    "  : 하이퍼 파라미터는 모형 파라미터를 최적화 하는 것이다. (보다 정확한 모델/예측을 위해...) "
   ]
  },
  {
   "cell_type": "markdown",
   "metadata": {},
   "source": [
    "- Overfitting을 극복하는 방법은 무엇인가? \n",
    "\n",
    "  : 데이터 양 증대, 모형을 단순화, 데이터 클린징 "
   ]
  },
  {
   "cell_type": "code",
   "execution_count": null,
   "metadata": {},
   "outputs": [],
   "source": []
  }
 ],
 "metadata": {
  "kernelspec": {
   "display_name": "Python 3",
   "language": "python",
   "name": "python3"
  },
  "language_info": {
   "codemirror_mode": {
    "name": "ipython",
    "version": 3
   },
   "file_extension": ".py",
   "mimetype": "text/x-python",
   "name": "python",
   "nbconvert_exporter": "python",
   "pygments_lexer": "ipython3",
   "version": "3.8.5"
  }
 },
 "nbformat": 4,
 "nbformat_minor": 4
}
