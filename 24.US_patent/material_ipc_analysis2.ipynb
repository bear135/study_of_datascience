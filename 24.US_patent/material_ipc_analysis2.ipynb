<!DOCTYPE html>
<html>
<head><meta charset="utf-8" />

<title>material_ipc_analysis2</title>

<script src="https://cdnjs.cloudflare.com/ajax/libs/require.js/2.1.10/require.min.js"></script>
<script src="https://cdnjs.cloudflare.com/ajax/libs/jquery/2.0.3/jquery.min.js"></script>



<style type="text/css">
    /*!
*
* Twitter Bootstrap
*
*/
/*!
 * Bootstrap v3.3.7 (http://getbootstrap.com)
 * Copyright 2011-2016 Twitter, Inc.
 * Licensed under MIT (https://github.com/twbs/bootstrap/blob/master/LICENSE)
 */
/*! normalize.css v3.0.3 | MIT License | github.com/necolas/normalize.css */
html {
  font-family: sans-serif;
  -ms-text-size-adjust: 100%;
  -webkit-text-size-adjust: 100%;
}
body {
  margin: 0;
}
article,
aside,
details,
figcaption,
figure,
footer,
header,
hgroup,
main,
menu,
nav,
section,
summary {
  display: block;
}
audio,
canvas,
progress,
video {
  display: inline-block;
  vertical-align: baseline;
}
audio:not([controls]) {
  display: none;
  height: 0;
}
[hidden],
template {
  display: none;
}
a {
  background-color: transparent;
}
a:active,
a:hover {
  outline: 0;
}
abbr[title] {
  border-bottom: 1px dotted;
}
b,
strong {
  font-weight: bold;
}
dfn {
  font-style: italic;
}
h1 {
  font-size: 2em;
  margin: 0.67em 0;
}
mark {
  background: #ff0;
  color: #000;
}
small {
  font-size: 80%;
}
sub,
sup {
  font-size: 75%;
  line-height: 0;
  position: relative;
  vertical-align: baseline;
}
sup {
  top: -0.5em;
}
sub {
  bottom: -0.25em;
}
img {
  border: 0;
}
svg:not(:root) {
  overflow: hidden;
}
figure {
  margin: 1em 40px;
}
hr {
  box-sizing: content-box;
  height: 0;
}
pre {
  overflow: auto;
}
code,
kbd,
pre,
samp {
  font-family: monospace, monospace;
  font-size: 1em;
}
button,
input,
optgroup,
select,
textarea {
  color: inherit;
  font: inherit;
  margin: 0;
}
button {
  overflow: visible;
}
button,
select {
  text-transform: none;
}
button,
html input[type="button"],
input[type="reset"],
input[type="submit"] {
  -webkit-appearance: button;
  cursor: pointer;
}
button[disabled],
html input[disabled] {
  cursor: default;
}
button::-moz-focus-inner,
input::-moz-focus-inner {
  border: 0;
  padding: 0;
}
input {
  line-height: normal;
}
input[type="checkbox"],
input[type="radio"] {
  box-sizing: border-box;
  padding: 0;
}
input[type="number"]::-webkit-inner-spin-button,
input[type="number"]::-webkit-outer-spin-button {
  height: auto;
}
input[type="search"] {
  -webkit-appearance: textfield;
  box-sizing: content-box;
}
input[type="search"]::-webkit-search-cancel-button,
input[type="search"]::-webkit-search-decoration {
  -webkit-appearance: none;
}
fieldset {
  border: 1px solid #c0c0c0;
  margin: 0 2px;
  padding: 0.35em 0.625em 0.75em;
}
legend {
  border: 0;
  padding: 0;
}
textarea {
  overflow: auto;
}
optgroup {
  font-weight: bold;
}
table {
  border-collapse: collapse;
  border-spacing: 0;
}
td,
th {
  padding: 0;
}
/*! Source: https://github.com/h5bp/html5-boilerplate/blob/master/src/css/main.css */
@media print {
  *,
  *:before,
  *:after {
    background: transparent !important;
    box-shadow: none !important;
    text-shadow: none !important;
  }
  a,
  a:visited {
    text-decoration: underline;
  }
  a[href]:after {
    content: " (" attr(href) ")";
  }
  abbr[title]:after {
    content: " (" attr(title) ")";
  }
  a[href^="#"]:after,
  a[href^="javascript:"]:after {
    content: "";
  }
  pre,
  blockquote {
    border: 1px solid #999;
    page-break-inside: avoid;
  }
  thead {
    display: table-header-group;
  }
  tr,
  img {
    page-break-inside: avoid;
  }
  img {
    max-width: 100% !important;
  }
  p,
  h2,
  h3 {
    orphans: 3;
    widows: 3;
  }
  h2,
  h3 {
    page-break-after: avoid;
  }
  .navbar {
    display: none;
  }
  .btn > .caret,
  .dropup > .btn > .caret {
    border-top-color: #000 !important;
  }
  .label {
    border: 1px solid #000;
  }
  .table {
    border-collapse: collapse !important;
  }
  .table td,
  .table th {
    background-color: #fff !important;
  }
  .table-bordered th,
  .table-bordered td {
    border: 1px solid #ddd !important;
  }
}
@font-face {
  font-family: 'Glyphicons Halflings';
  src: url('../components/bootstrap/fonts/glyphicons-halflings-regular.eot');
  src: url('../components/bootstrap/fonts/glyphicons-halflings-regular.eot?#iefix') format('embedded-opentype'), url('../components/bootstrap/fonts/glyphicons-halflings-regular.woff2') format('woff2'), url('../components/bootstrap/fonts/glyphicons-halflings-regular.woff') format('woff'), url('../components/bootstrap/fonts/glyphicons-halflings-regular.ttf') format('truetype'), url('../components/bootstrap/fonts/glyphicons-halflings-regular.svg#glyphicons_halflingsregular') format('svg');
}
.glyphicon {
  position: relative;
  top: 1px;
  display: inline-block;
  font-family: 'Glyphicons Halflings';
  font-style: normal;
  font-weight: normal;
  line-height: 1;
  -webkit-font-smoothing: antialiased;
  -moz-osx-font-smoothing: grayscale;
}
.glyphicon-asterisk:before {
  content: "\002a";
}
.glyphicon-plus:before {
  content: "\002b";
}
.glyphicon-euro:before,
.glyphicon-eur:before {
  content: "\20ac";
}
.glyphicon-minus:before {
  content: "\2212";
}
.glyphicon-cloud:before {
  content: "\2601";
}
.glyphicon-envelope:before {
  content: "\2709";
}
.glyphicon-pencil:before {
  content: "\270f";
}
.glyphicon-glass:before {
  content: "\e001";
}
.glyphicon-music:before {
  content: "\e002";
}
.glyphicon-search:before {
  content: "\e003";
}
.glyphicon-heart:before {
  content: "\e005";
}
.glyphicon-star:before {
  content: "\e006";
}
.glyphicon-star-empty:before {
  content: "\e007";
}
.glyphicon-user:before {
  content: "\e008";
}
.glyphicon-film:before {
  content: "\e009";
}
.glyphicon-th-large:before {
  content: "\e010";
}
.glyphicon-th:before {
  content: "\e011";
}
.glyphicon-th-list:before {
  content: "\e012";
}
.glyphicon-ok:before {
  content: "\e013";
}
.glyphicon-remove:before {
  content: "\e014";
}
.glyphicon-zoom-in:before {
  content: "\e015";
}
.glyphicon-zoom-out:before {
  content: "\e016";
}
.glyphicon-off:before {
  content: "\e017";
}
.glyphicon-signal:before {
  content: "\e018";
}
.glyphicon-cog:before {
  content: "\e019";
}
.glyphicon-trash:before {
  content: "\e020";
}
.glyphicon-home:before {
  content: "\e021";
}
.glyphicon-file:before {
  content: "\e022";
}
.glyphicon-time:before {
  content: "\e023";
}
.glyphicon-road:before {
  content: "\e024";
}
.glyphicon-download-alt:before {
  content: "\e025";
}
.glyphicon-download:before {
  content: "\e026";
}
.glyphicon-upload:before {
  content: "\e027";
}
.glyphicon-inbox:before {
  content: "\e028";
}
.glyphicon-play-circle:before {
  content: "\e029";
}
.glyphicon-repeat:before {
  content: "\e030";
}
.glyphicon-refresh:before {
  content: "\e031";
}
.glyphicon-list-alt:before {
  content: "\e032";
}
.glyphicon-lock:before {
  content: "\e033";
}
.glyphicon-flag:before {
  content: "\e034";
}
.glyphicon-headphones:before {
  content: "\e035";
}
.glyphicon-volume-off:before {
  content: "\e036";
}
.glyphicon-volume-down:before {
  content: "\e037";
}
.glyphicon-volume-up:before {
  content: "\e038";
}
.glyphicon-qrcode:before {
  content: "\e039";
}
.glyphicon-barcode:before {
  content: "\e040";
}
.glyphicon-tag:before {
  content: "\e041";
}
.glyphicon-tags:before {
  content: "\e042";
}
.glyphicon-book:before {
  content: "\e043";
}
.glyphicon-bookmark:before {
  content: "\e044";
}
.glyphicon-print:before {
  content: "\e045";
}
.glyphicon-camera:before {
  content: "\e046";
}
.glyphicon-font:before {
  content: "\e047";
}
.glyphicon-bold:before {
  content: "\e048";
}
.glyphicon-italic:before {
  content: "\e049";
}
.glyphicon-text-height:before {
  content: "\e050";
}
.glyphicon-text-width:before {
  content: "\e051";
}
.glyphicon-align-left:before {
  content: "\e052";
}
.glyphicon-align-center:before {
  content: "\e053";
}
.glyphicon-align-right:before {
  content: "\e054";
}
.glyphicon-align-justify:before {
  content: "\e055";
}
.glyphicon-list:before {
  content: "\e056";
}
.glyphicon-indent-left:before {
  content: "\e057";
}
.glyphicon-indent-right:before {
  content: "\e058";
}
.glyphicon-facetime-video:before {
  content: "\e059";
}
.glyphicon-picture:before {
  content: "\e060";
}
.glyphicon-map-marker:before {
  content: "\e062";
}
.glyphicon-adjust:before {
  content: "\e063";
}
.glyphicon-tint:before {
  content: "\e064";
}
.glyphicon-edit:before {
  content: "\e065";
}
.glyphicon-share:before {
  content: "\e066";
}
.glyphicon-check:before {
  content: "\e067";
}
.glyphicon-move:before {
  content: "\e068";
}
.glyphicon-step-backward:before {
  content: "\e069";
}
.glyphicon-fast-backward:before {
  content: "\e070";
}
.glyphicon-backward:before {
  content: "\e071";
}
.glyphicon-play:before {
  content: "\e072";
}
.glyphicon-pause:before {
  content: "\e073";
}
.glyphicon-stop:before {
  content: "\e074";
}
.glyphicon-forward:before {
  content: "\e075";
}
.glyphicon-fast-forward:before {
  content: "\e076";
}
.glyphicon-step-forward:before {
  content: "\e077";
}
.glyphicon-eject:before {
  content: "\e078";
}
.glyphicon-chevron-left:before {
  content: "\e079";
}
.glyphicon-chevron-right:before {
  content: "\e080";
}
.glyphicon-plus-sign:before {
  content: "\e081";
}
.glyphicon-minus-sign:before {
  content: "\e082";
}
.glyphicon-remove-sign:before {
  content: "\e083";
}
.glyphicon-ok-sign:before {
  content: "\e084";
}
.glyphicon-question-sign:before {
  content: "\e085";
}
.glyphicon-info-sign:before {
  content: "\e086";
}
.glyphicon-screenshot:before {
  content: "\e087";
}
.glyphicon-remove-circle:before {
  content: "\e088";
}
.glyphicon-ok-circle:before {
  content: "\e089";
}
.glyphicon-ban-circle:before {
  content: "\e090";
}
.glyphicon-arrow-left:before {
  content: "\e091";
}
.glyphicon-arrow-right:before {
  content: "\e092";
}
.glyphicon-arrow-up:before {
  content: "\e093";
}
.glyphicon-arrow-down:before {
  content: "\e094";
}
.glyphicon-share-alt:before {
  content: "\e095";
}
.glyphicon-resize-full:before {
  content: "\e096";
}
.glyphicon-resize-small:before {
  content: "\e097";
}
.glyphicon-exclamation-sign:before {
  content: "\e101";
}
.glyphicon-gift:before {
  content: "\e102";
}
.glyphicon-leaf:before {
  content: "\e103";
}
.glyphicon-fire:before {
  content: "\e104";
}
.glyphicon-eye-open:before {
  content: "\e105";
}
.glyphicon-eye-close:before {
  content: "\e106";
}
.glyphicon-warning-sign:before {
  content: "\e107";
}
.glyphicon-plane:before {
  content: "\e108";
}
.glyphicon-calendar:before {
  content: "\e109";
}
.glyphicon-random:before {
  content: "\e110";
}
.glyphicon-comment:before {
  content: "\e111";
}
.glyphicon-magnet:before {
  content: "\e112";
}
.glyphicon-chevron-up:before {
  content: "\e113";
}
.glyphicon-chevron-down:before {
  content: "\e114";
}
.glyphicon-retweet:before {
  content: "\e115";
}
.glyphicon-shopping-cart:before {
  content: "\e116";
}
.glyphicon-folder-close:before {
  content: "\e117";
}
.glyphicon-folder-open:before {
  content: "\e118";
}
.glyphicon-resize-vertical:before {
  content: "\e119";
}
.glyphicon-resize-horizontal:before {
  content: "\e120";
}
.glyphicon-hdd:before {
  content: "\e121";
}
.glyphicon-bullhorn:before {
  content: "\e122";
}
.glyphicon-bell:before {
  content: "\e123";
}
.glyphicon-certificate:before {
  content: "\e124";
}
.glyphicon-thumbs-up:before {
  content: "\e125";
}
.glyphicon-thumbs-down:before {
  content: "\e126";
}
.glyphicon-hand-right:before {
  content: "\e127";
}
.glyphicon-hand-left:before {
  content: "\e128";
}
.glyphicon-hand-up:before {
  content: "\e129";
}
.glyphicon-hand-down:before {
  content: "\e130";
}
.glyphicon-circle-arrow-right:before {
  content: "\e131";
}
.glyphicon-circle-arrow-left:before {
  content: "\e132";
}
.glyphicon-circle-arrow-up:before {
  content: "\e133";
}
.glyphicon-circle-arrow-down:before {
  content: "\e134";
}
.glyphicon-globe:before {
  content: "\e135";
}
.glyphicon-wrench:before {
  content: "\e136";
}
.glyphicon-tasks:before {
  content: "\e137";
}
.glyphicon-filter:before {
  content: "\e138";
}
.glyphicon-briefcase:before {
  content: "\e139";
}
.glyphicon-fullscreen:before {
  content: "\e140";
}
.glyphicon-dashboard:before {
  content: "\e141";
}
.glyphicon-paperclip:before {
  content: "\e142";
}
.glyphicon-heart-empty:before {
  content: "\e143";
}
.glyphicon-link:before {
  content: "\e144";
}
.glyphicon-phone:before {
  content: "\e145";
}
.glyphicon-pushpin:before {
  content: "\e146";
}
.glyphicon-usd:before {
  content: "\e148";
}
.glyphicon-gbp:before {
  content: "\e149";
}
.glyphicon-sort:before {
  content: "\e150";
}
.glyphicon-sort-by-alphabet:before {
  content: "\e151";
}
.glyphicon-sort-by-alphabet-alt:before {
  content: "\e152";
}
.glyphicon-sort-by-order:before {
  content: "\e153";
}
.glyphicon-sort-by-order-alt:before {
  content: "\e154";
}
.glyphicon-sort-by-attributes:before {
  content: "\e155";
}
.glyphicon-sort-by-attributes-alt:before {
  content: "\e156";
}
.glyphicon-unchecked:before {
  content: "\e157";
}
.glyphicon-expand:before {
  content: "\e158";
}
.glyphicon-collapse-down:before {
  content: "\e159";
}
.glyphicon-collapse-up:before {
  content: "\e160";
}
.glyphicon-log-in:before {
  content: "\e161";
}
.glyphicon-flash:before {
  content: "\e162";
}
.glyphicon-log-out:before {
  content: "\e163";
}
.glyphicon-new-window:before {
  content: "\e164";
}
.glyphicon-record:before {
  content: "\e165";
}
.glyphicon-save:before {
  content: "\e166";
}
.glyphicon-open:before {
  content: "\e167";
}
.glyphicon-saved:before {
  content: "\e168";
}
.glyphicon-import:before {
  content: "\e169";
}
.glyphicon-export:before {
  content: "\e170";
}
.glyphicon-send:before {
  content: "\e171";
}
.glyphicon-floppy-disk:before {
  content: "\e172";
}
.glyphicon-floppy-saved:before {
  content: "\e173";
}
.glyphicon-floppy-remove:before {
  content: "\e174";
}
.glyphicon-floppy-save:before {
  content: "\e175";
}
.glyphicon-floppy-open:before {
  content: "\e176";
}
.glyphicon-credit-card:before {
  content: "\e177";
}
.glyphicon-transfer:before {
  content: "\e178";
}
.glyphicon-cutlery:before {
  content: "\e179";
}
.glyphicon-header:before {
  content: "\e180";
}
.glyphicon-compressed:before {
  content: "\e181";
}
.glyphicon-earphone:before {
  content: "\e182";
}
.glyphicon-phone-alt:before {
  content: "\e183";
}
.glyphicon-tower:before {
  content: "\e184";
}
.glyphicon-stats:before {
  content: "\e185";
}
.glyphicon-sd-video:before {
  content: "\e186";
}
.glyphicon-hd-video:before {
  content: "\e187";
}
.glyphicon-subtitles:before {
  content: "\e188";
}
.glyphicon-sound-stereo:before {
  content: "\e189";
}
.glyphicon-sound-dolby:before {
  content: "\e190";
}
.glyphicon-sound-5-1:before {
  content: "\e191";
}
.glyphicon-sound-6-1:before {
  content: "\e192";
}
.glyphicon-sound-7-1:before {
  content: "\e193";
}
.glyphicon-copyright-mark:before {
  content: "\e194";
}
.glyphicon-registration-mark:before {
  content: "\e195";
}
.glyphicon-cloud-download:before {
  content: "\e197";
}
.glyphicon-cloud-upload:before {
  content: "\e198";
}
.glyphicon-tree-conifer:before {
  content: "\e199";
}
.glyphicon-tree-deciduous:before {
  content: "\e200";
}
.glyphicon-cd:before {
  content: "\e201";
}
.glyphicon-save-file:before {
  content: "\e202";
}
.glyphicon-open-file:before {
  content: "\e203";
}
.glyphicon-level-up:before {
  content: "\e204";
}
.glyphicon-copy:before {
  content: "\e205";
}
.glyphicon-paste:before {
  content: "\e206";
}
.glyphicon-alert:before {
  content: "\e209";
}
.glyphicon-equalizer:before {
  content: "\e210";
}
.glyphicon-king:before {
  content: "\e211";
}
.glyphicon-queen:before {
  content: "\e212";
}
.glyphicon-pawn:before {
  content: "\e213";
}
.glyphicon-bishop:before {
  content: "\e214";
}
.glyphicon-knight:before {
  content: "\e215";
}
.glyphicon-baby-formula:before {
  content: "\e216";
}
.glyphicon-tent:before {
  content: "\26fa";
}
.glyphicon-blackboard:before {
  content: "\e218";
}
.glyphicon-bed:before {
  content: "\e219";
}
.glyphicon-apple:before {
  content: "\f8ff";
}
.glyphicon-erase:before {
  content: "\e221";
}
.glyphicon-hourglass:before {
  content: "\231b";
}
.glyphicon-lamp:before {
  content: "\e223";
}
.glyphicon-duplicate:before {
  content: "\e224";
}
.glyphicon-piggy-bank:before {
  content: "\e225";
}
.glyphicon-scissors:before {
  content: "\e226";
}
.glyphicon-bitcoin:before {
  content: "\e227";
}
.glyphicon-btc:before {
  content: "\e227";
}
.glyphicon-xbt:before {
  content: "\e227";
}
.glyphicon-yen:before {
  content: "\00a5";
}
.glyphicon-jpy:before {
  content: "\00a5";
}
.glyphicon-ruble:before {
  content: "\20bd";
}
.glyphicon-rub:before {
  content: "\20bd";
}
.glyphicon-scale:before {
  content: "\e230";
}
.glyphicon-ice-lolly:before {
  content: "\e231";
}
.glyphicon-ice-lolly-tasted:before {
  content: "\e232";
}
.glyphicon-education:before {
  content: "\e233";
}
.glyphicon-option-horizontal:before {
  content: "\e234";
}
.glyphicon-option-vertical:before {
  content: "\e235";
}
.glyphicon-menu-hamburger:before {
  content: "\e236";
}
.glyphicon-modal-window:before {
  content: "\e237";
}
.glyphicon-oil:before {
  content: "\e238";
}
.glyphicon-grain:before {
  content: "\e239";
}
.glyphicon-sunglasses:before {
  content: "\e240";
}
.glyphicon-text-size:before {
  content: "\e241";
}
.glyphicon-text-color:before {
  content: "\e242";
}
.glyphicon-text-background:before {
  content: "\e243";
}
.glyphicon-object-align-top:before {
  content: "\e244";
}
.glyphicon-object-align-bottom:before {
  content: "\e245";
}
.glyphicon-object-align-horizontal:before {
  content: "\e246";
}
.glyphicon-object-align-left:before {
  content: "\e247";
}
.glyphicon-object-align-vertical:before {
  content: "\e248";
}
.glyphicon-object-align-right:before {
  content: "\e249";
}
.glyphicon-triangle-right:before {
  content: "\e250";
}
.glyphicon-triangle-left:before {
  content: "\e251";
}
.glyphicon-triangle-bottom:before {
  content: "\e252";
}
.glyphicon-triangle-top:before {
  content: "\e253";
}
.glyphicon-console:before {
  content: "\e254";
}
.glyphicon-superscript:before {
  content: "\e255";
}
.glyphicon-subscript:before {
  content: "\e256";
}
.glyphicon-menu-left:before {
  content: "\e257";
}
.glyphicon-menu-right:before {
  content: "\e258";
}
.glyphicon-menu-down:before {
  content: "\e259";
}
.glyphicon-menu-up:before {
  content: "\e260";
}
* {
  -webkit-box-sizing: border-box;
  -moz-box-sizing: border-box;
  box-sizing: border-box;
}
*:before,
*:after {
  -webkit-box-sizing: border-box;
  -moz-box-sizing: border-box;
  box-sizing: border-box;
}
html {
  font-size: 10px;
  -webkit-tap-highlight-color: rgba(0, 0, 0, 0);
}
body {
  font-family: "Helvetica Neue", Helvetica, Arial, sans-serif;
  font-size: 13px;
  line-height: 1.42857143;
  color: #000;
  background-color: #fff;
}
input,
button,
select,
textarea {
  font-family: inherit;
  font-size: inherit;
  line-height: inherit;
}
a {
  color: #337ab7;
  text-decoration: none;
}
a:hover,
a:focus {
  color: #23527c;
  text-decoration: underline;
}
a:focus {
  outline: 5px auto -webkit-focus-ring-color;
  outline-offset: -2px;
}
figure {
  margin: 0;
}
img {
  vertical-align: middle;
}
.img-responsive,
.thumbnail > img,
.thumbnail a > img,
.carousel-inner > .item > img,
.carousel-inner > .item > a > img {
  display: block;
  max-width: 100%;
  height: auto;
}
.img-rounded {
  border-radius: 3px;
}
.img-thumbnail {
  padding: 4px;
  line-height: 1.42857143;
  background-color: #fff;
  border: 1px solid #ddd;
  border-radius: 2px;
  -webkit-transition: all 0.2s ease-in-out;
  -o-transition: all 0.2s ease-in-out;
  transition: all 0.2s ease-in-out;
  display: inline-block;
  max-width: 100%;
  height: auto;
}
.img-circle {
  border-radius: 50%;
}
hr {
  margin-top: 18px;
  margin-bottom: 18px;
  border: 0;
  border-top: 1px solid #eeeeee;
}
.sr-only {
  position: absolute;
  width: 1px;
  height: 1px;
  margin: -1px;
  padding: 0;
  overflow: hidden;
  clip: rect(0, 0, 0, 0);
  border: 0;
}
.sr-only-focusable:active,
.sr-only-focusable:focus {
  position: static;
  width: auto;
  height: auto;
  margin: 0;
  overflow: visible;
  clip: auto;
}
[role="button"] {
  cursor: pointer;
}
h1,
h2,
h3,
h4,
h5,
h6,
.h1,
.h2,
.h3,
.h4,
.h5,
.h6 {
  font-family: inherit;
  font-weight: 500;
  line-height: 1.1;
  color: inherit;
}
h1 small,
h2 small,
h3 small,
h4 small,
h5 small,
h6 small,
.h1 small,
.h2 small,
.h3 small,
.h4 small,
.h5 small,
.h6 small,
h1 .small,
h2 .small,
h3 .small,
h4 .small,
h5 .small,
h6 .small,
.h1 .small,
.h2 .small,
.h3 .small,
.h4 .small,
.h5 .small,
.h6 .small {
  font-weight: normal;
  line-height: 1;
  color: #777777;
}
h1,
.h1,
h2,
.h2,
h3,
.h3 {
  margin-top: 18px;
  margin-bottom: 9px;
}
h1 small,
.h1 small,
h2 small,
.h2 small,
h3 small,
.h3 small,
h1 .small,
.h1 .small,
h2 .small,
.h2 .small,
h3 .small,
.h3 .small {
  font-size: 65%;
}
h4,
.h4,
h5,
.h5,
h6,
.h6 {
  margin-top: 9px;
  margin-bottom: 9px;
}
h4 small,
.h4 small,
h5 small,
.h5 small,
h6 small,
.h6 small,
h4 .small,
.h4 .small,
h5 .small,
.h5 .small,
h6 .small,
.h6 .small {
  font-size: 75%;
}
h1,
.h1 {
  font-size: 33px;
}
h2,
.h2 {
  font-size: 27px;
}
h3,
.h3 {
  font-size: 23px;
}
h4,
.h4 {
  font-size: 17px;
}
h5,
.h5 {
  font-size: 13px;
}
h6,
.h6 {
  font-size: 12px;
}
p {
  margin: 0 0 9px;
}
.lead {
  margin-bottom: 18px;
  font-size: 14px;
  font-weight: 300;
  line-height: 1.4;
}
@media (min-width: 768px) {
  .lead {
    font-size: 19.5px;
  }
}
small,
.small {
  font-size: 92%;
}
mark,
.mark {
  background-color: #fcf8e3;
  padding: .2em;
}
.text-left {
  text-align: left;
}
.text-right {
  text-align: right;
}
.text-center {
  text-align: center;
}
.text-justify {
  text-align: justify;
}
.text-nowrap {
  white-space: nowrap;
}
.text-lowercase {
  text-transform: lowercase;
}
.text-uppercase {
  text-transform: uppercase;
}
.text-capitalize {
  text-transform: capitalize;
}
.text-muted {
  color: #777777;
}
.text-primary {
  color: #337ab7;
}
a.text-primary:hover,
a.text-primary:focus {
  color: #286090;
}
.text-success {
  color: #3c763d;
}
a.text-success:hover,
a.text-success:focus {
  color: #2b542c;
}
.text-info {
  color: #31708f;
}
a.text-info:hover,
a.text-info:focus {
  color: #245269;
}
.text-warning {
  color: #8a6d3b;
}
a.text-warning:hover,
a.text-warning:focus {
  color: #66512c;
}
.text-danger {
  color: #a94442;
}
a.text-danger:hover,
a.text-danger:focus {
  color: #843534;
}
.bg-primary {
  color: #fff;
  background-color: #337ab7;
}
a.bg-primary:hover,
a.bg-primary:focus {
  background-color: #286090;
}
.bg-success {
  background-color: #dff0d8;
}
a.bg-success:hover,
a.bg-success:focus {
  background-color: #c1e2b3;
}
.bg-info {
  background-color: #d9edf7;
}
a.bg-info:hover,
a.bg-info:focus {
  background-color: #afd9ee;
}
.bg-warning {
  background-color: #fcf8e3;
}
a.bg-warning:hover,
a.bg-warning:focus {
  background-color: #f7ecb5;
}
.bg-danger {
  background-color: #f2dede;
}
a.bg-danger:hover,
a.bg-danger:focus {
  background-color: #e4b9b9;
}
.page-header {
  padding-bottom: 8px;
  margin: 36px 0 18px;
  border-bottom: 1px solid #eeeeee;
}
ul,
ol {
  margin-top: 0;
  margin-bottom: 9px;
}
ul ul,
ol ul,
ul ol,
ol ol {
  margin-bottom: 0;
}
.list-unstyled {
  padding-left: 0;
  list-style: none;
}
.list-inline {
  padding-left: 0;
  list-style: none;
  margin-left: -5px;
}
.list-inline > li {
  display: inline-block;
  padding-left: 5px;
  padding-right: 5px;
}
dl {
  margin-top: 0;
  margin-bottom: 18px;
}
dt,
dd {
  line-height: 1.42857143;
}
dt {
  font-weight: bold;
}
dd {
  margin-left: 0;
}
@media (min-width: 541px) {
  .dl-horizontal dt {
    float: left;
    width: 160px;
    clear: left;
    text-align: right;
    overflow: hidden;
    text-overflow: ellipsis;
    white-space: nowrap;
  }
  .dl-horizontal dd {
    margin-left: 180px;
  }
}
abbr[title],
abbr[data-original-title] {
  cursor: help;
  border-bottom: 1px dotted #777777;
}
.initialism {
  font-size: 90%;
  text-transform: uppercase;
}
blockquote {
  padding: 9px 18px;
  margin: 0 0 18px;
  font-size: inherit;
  border-left: 5px solid #eeeeee;
}
blockquote p:last-child,
blockquote ul:last-child,
blockquote ol:last-child {
  margin-bottom: 0;
}
blockquote footer,
blockquote small,
blockquote .small {
  display: block;
  font-size: 80%;
  line-height: 1.42857143;
  color: #777777;
}
blockquote footer:before,
blockquote small:before,
blockquote .small:before {
  content: '\2014 \00A0';
}
.blockquote-reverse,
blockquote.pull-right {
  padding-right: 15px;
  padding-left: 0;
  border-right: 5px solid #eeeeee;
  border-left: 0;
  text-align: right;
}
.blockquote-reverse footer:before,
blockquote.pull-right footer:before,
.blockquote-reverse small:before,
blockquote.pull-right small:before,
.blockquote-reverse .small:before,
blockquote.pull-right .small:before {
  content: '';
}
.blockquote-reverse footer:after,
blockquote.pull-right footer:after,
.blockquote-reverse small:after,
blockquote.pull-right small:after,
.blockquote-reverse .small:after,
blockquote.pull-right .small:after {
  content: '\00A0 \2014';
}
address {
  margin-bottom: 18px;
  font-style: normal;
  line-height: 1.42857143;
}
code,
kbd,
pre,
samp {
  font-family: monospace;
}
code {
  padding: 2px 4px;
  font-size: 90%;
  color: #c7254e;
  background-color: #f9f2f4;
  border-radius: 2px;
}
kbd {
  padding: 2px 4px;
  font-size: 90%;
  color: #888;
  background-color: transparent;
  border-radius: 1px;
  box-shadow: inset 0 -1px 0 rgba(0, 0, 0, 0.25);
}
kbd kbd {
  padding: 0;
  font-size: 100%;
  font-weight: bold;
  box-shadow: none;
}
pre {
  display: block;
  padding: 8.5px;
  margin: 0 0 9px;
  font-size: 12px;
  line-height: 1.42857143;
  word-break: break-all;
  word-wrap: break-word;
  color: #333333;
  background-color: #f5f5f5;
  border: 1px solid #ccc;
  border-radius: 2px;
}
pre code {
  padding: 0;
  font-size: inherit;
  color: inherit;
  white-space: pre-wrap;
  background-color: transparent;
  border-radius: 0;
}
.pre-scrollable {
  max-height: 340px;
  overflow-y: scroll;
}
.container {
  margin-right: auto;
  margin-left: auto;
  padding-left: 0px;
  padding-right: 0px;
}
@media (min-width: 768px) {
  .container {
    width: 768px;
  }
}
@media (min-width: 992px) {
  .container {
    width: 940px;
  }
}
@media (min-width: 1200px) {
  .container {
    width: 1140px;
  }
}
.container-fluid {
  margin-right: auto;
  margin-left: auto;
  padding-left: 0px;
  padding-right: 0px;
}
.row {
  margin-left: 0px;
  margin-right: 0px;
}
.col-xs-1, .col-sm-1, .col-md-1, .col-lg-1, .col-xs-2, .col-sm-2, .col-md-2, .col-lg-2, .col-xs-3, .col-sm-3, .col-md-3, .col-lg-3, .col-xs-4, .col-sm-4, .col-md-4, .col-lg-4, .col-xs-5, .col-sm-5, .col-md-5, .col-lg-5, .col-xs-6, .col-sm-6, .col-md-6, .col-lg-6, .col-xs-7, .col-sm-7, .col-md-7, .col-lg-7, .col-xs-8, .col-sm-8, .col-md-8, .col-lg-8, .col-xs-9, .col-sm-9, .col-md-9, .col-lg-9, .col-xs-10, .col-sm-10, .col-md-10, .col-lg-10, .col-xs-11, .col-sm-11, .col-md-11, .col-lg-11, .col-xs-12, .col-sm-12, .col-md-12, .col-lg-12 {
  position: relative;
  min-height: 1px;
  padding-left: 0px;
  padding-right: 0px;
}
.col-xs-1, .col-xs-2, .col-xs-3, .col-xs-4, .col-xs-5, .col-xs-6, .col-xs-7, .col-xs-8, .col-xs-9, .col-xs-10, .col-xs-11, .col-xs-12 {
  float: left;
}
.col-xs-12 {
  width: 100%;
}
.col-xs-11 {
  width: 91.66666667%;
}
.col-xs-10 {
  width: 83.33333333%;
}
.col-xs-9 {
  width: 75%;
}
.col-xs-8 {
  width: 66.66666667%;
}
.col-xs-7 {
  width: 58.33333333%;
}
.col-xs-6 {
  width: 50%;
}
.col-xs-5 {
  width: 41.66666667%;
}
.col-xs-4 {
  width: 33.33333333%;
}
.col-xs-3 {
  width: 25%;
}
.col-xs-2 {
  width: 16.66666667%;
}
.col-xs-1 {
  width: 8.33333333%;
}
.col-xs-pull-12 {
  right: 100%;
}
.col-xs-pull-11 {
  right: 91.66666667%;
}
.col-xs-pull-10 {
  right: 83.33333333%;
}
.col-xs-pull-9 {
  right: 75%;
}
.col-xs-pull-8 {
  right: 66.66666667%;
}
.col-xs-pull-7 {
  right: 58.33333333%;
}
.col-xs-pull-6 {
  right: 50%;
}
.col-xs-pull-5 {
  right: 41.66666667%;
}
.col-xs-pull-4 {
  right: 33.33333333%;
}
.col-xs-pull-3 {
  right: 25%;
}
.col-xs-pull-2 {
  right: 16.66666667%;
}
.col-xs-pull-1 {
  right: 8.33333333%;
}
.col-xs-pull-0 {
  right: auto;
}
.col-xs-push-12 {
  left: 100%;
}
.col-xs-push-11 {
  left: 91.66666667%;
}
.col-xs-push-10 {
  left: 83.33333333%;
}
.col-xs-push-9 {
  left: 75%;
}
.col-xs-push-8 {
  left: 66.66666667%;
}
.col-xs-push-7 {
  left: 58.33333333%;
}
.col-xs-push-6 {
  left: 50%;
}
.col-xs-push-5 {
  left: 41.66666667%;
}
.col-xs-push-4 {
  left: 33.33333333%;
}
.col-xs-push-3 {
  left: 25%;
}
.col-xs-push-2 {
  left: 16.66666667%;
}
.col-xs-push-1 {
  left: 8.33333333%;
}
.col-xs-push-0 {
  left: auto;
}
.col-xs-offset-12 {
  margin-left: 100%;
}
.col-xs-offset-11 {
  margin-left: 91.66666667%;
}
.col-xs-offset-10 {
  margin-left: 83.33333333%;
}
.col-xs-offset-9 {
  margin-left: 75%;
}
.col-xs-offset-8 {
  margin-left: 66.66666667%;
}
.col-xs-offset-7 {
  margin-left: 58.33333333%;
}
.col-xs-offset-6 {
  margin-left: 50%;
}
.col-xs-offset-5 {
  margin-left: 41.66666667%;
}
.col-xs-offset-4 {
  margin-left: 33.33333333%;
}
.col-xs-offset-3 {
  margin-left: 25%;
}
.col-xs-offset-2 {
  margin-left: 16.66666667%;
}
.col-xs-offset-1 {
  margin-left: 8.33333333%;
}
.col-xs-offset-0 {
  margin-left: 0%;
}
@media (min-width: 768px) {
  .col-sm-1, .col-sm-2, .col-sm-3, .col-sm-4, .col-sm-5, .col-sm-6, .col-sm-7, .col-sm-8, .col-sm-9, .col-sm-10, .col-sm-11, .col-sm-12 {
    float: left;
  }
  .col-sm-12 {
    width: 100%;
  }
  .col-sm-11 {
    width: 91.66666667%;
  }
  .col-sm-10 {
    width: 83.33333333%;
  }
  .col-sm-9 {
    width: 75%;
  }
  .col-sm-8 {
    width: 66.66666667%;
  }
  .col-sm-7 {
    width: 58.33333333%;
  }
  .col-sm-6 {
    width: 50%;
  }
  .col-sm-5 {
    width: 41.66666667%;
  }
  .col-sm-4 {
    width: 33.33333333%;
  }
  .col-sm-3 {
    width: 25%;
  }
  .col-sm-2 {
    width: 16.66666667%;
  }
  .col-sm-1 {
    width: 8.33333333%;
  }
  .col-sm-pull-12 {
    right: 100%;
  }
  .col-sm-pull-11 {
    right: 91.66666667%;
  }
  .col-sm-pull-10 {
    right: 83.33333333%;
  }
  .col-sm-pull-9 {
    right: 75%;
  }
  .col-sm-pull-8 {
    right: 66.66666667%;
  }
  .col-sm-pull-7 {
    right: 58.33333333%;
  }
  .col-sm-pull-6 {
    right: 50%;
  }
  .col-sm-pull-5 {
    right: 41.66666667%;
  }
  .col-sm-pull-4 {
    right: 33.33333333%;
  }
  .col-sm-pull-3 {
    right: 25%;
  }
  .col-sm-pull-2 {
    right: 16.66666667%;
  }
  .col-sm-pull-1 {
    right: 8.33333333%;
  }
  .col-sm-pull-0 {
    right: auto;
  }
  .col-sm-push-12 {
    left: 100%;
  }
  .col-sm-push-11 {
    left: 91.66666667%;
  }
  .col-sm-push-10 {
    left: 83.33333333%;
  }
  .col-sm-push-9 {
    left: 75%;
  }
  .col-sm-push-8 {
    left: 66.66666667%;
  }
  .col-sm-push-7 {
    left: 58.33333333%;
  }
  .col-sm-push-6 {
    left: 50%;
  }
  .col-sm-push-5 {
    left: 41.66666667%;
  }
  .col-sm-push-4 {
    left: 33.33333333%;
  }
  .col-sm-push-3 {
    left: 25%;
  }
  .col-sm-push-2 {
    left: 16.66666667%;
  }
  .col-sm-push-1 {
    left: 8.33333333%;
  }
  .col-sm-push-0 {
    left: auto;
  }
  .col-sm-offset-12 {
    margin-left: 100%;
  }
  .col-sm-offset-11 {
    margin-left: 91.66666667%;
  }
  .col-sm-offset-10 {
    margin-left: 83.33333333%;
  }
  .col-sm-offset-9 {
    margin-left: 75%;
  }
  .col-sm-offset-8 {
    margin-left: 66.66666667%;
  }
  .col-sm-offset-7 {
    margin-left: 58.33333333%;
  }
  .col-sm-offset-6 {
    margin-left: 50%;
  }
  .col-sm-offset-5 {
    margin-left: 41.66666667%;
  }
  .col-sm-offset-4 {
    margin-left: 33.33333333%;
  }
  .col-sm-offset-3 {
    margin-left: 25%;
  }
  .col-sm-offset-2 {
    margin-left: 16.66666667%;
  }
  .col-sm-offset-1 {
    margin-left: 8.33333333%;
  }
  .col-sm-offset-0 {
    margin-left: 0%;
  }
}
@media (min-width: 992px) {
  .col-md-1, .col-md-2, .col-md-3, .col-md-4, .col-md-5, .col-md-6, .col-md-7, .col-md-8, .col-md-9, .col-md-10, .col-md-11, .col-md-12 {
    float: left;
  }
  .col-md-12 {
    width: 100%;
  }
  .col-md-11 {
    width: 91.66666667%;
  }
  .col-md-10 {
    width: 83.33333333%;
  }
  .col-md-9 {
    width: 75%;
  }
  .col-md-8 {
    width: 66.66666667%;
  }
  .col-md-7 {
    width: 58.33333333%;
  }
  .col-md-6 {
    width: 50%;
  }
  .col-md-5 {
    width: 41.66666667%;
  }
  .col-md-4 {
    width: 33.33333333%;
  }
  .col-md-3 {
    width: 25%;
  }
  .col-md-2 {
    width: 16.66666667%;
  }
  .col-md-1 {
    width: 8.33333333%;
  }
  .col-md-pull-12 {
    right: 100%;
  }
  .col-md-pull-11 {
    right: 91.66666667%;
  }
  .col-md-pull-10 {
    right: 83.33333333%;
  }
  .col-md-pull-9 {
    right: 75%;
  }
  .col-md-pull-8 {
    right: 66.66666667%;
  }
  .col-md-pull-7 {
    right: 58.33333333%;
  }
  .col-md-pull-6 {
    right: 50%;
  }
  .col-md-pull-5 {
    right: 41.66666667%;
  }
  .col-md-pull-4 {
    right: 33.33333333%;
  }
  .col-md-pull-3 {
    right: 25%;
  }
  .col-md-pull-2 {
    right: 16.66666667%;
  }
  .col-md-pull-1 {
    right: 8.33333333%;
  }
  .col-md-pull-0 {
    right: auto;
  }
  .col-md-push-12 {
    left: 100%;
  }
  .col-md-push-11 {
    left: 91.66666667%;
  }
  .col-md-push-10 {
    left: 83.33333333%;
  }
  .col-md-push-9 {
    left: 75%;
  }
  .col-md-push-8 {
    left: 66.66666667%;
  }
  .col-md-push-7 {
    left: 58.33333333%;
  }
  .col-md-push-6 {
    left: 50%;
  }
  .col-md-push-5 {
    left: 41.66666667%;
  }
  .col-md-push-4 {
    left: 33.33333333%;
  }
  .col-md-push-3 {
    left: 25%;
  }
  .col-md-push-2 {
    left: 16.66666667%;
  }
  .col-md-push-1 {
    left: 8.33333333%;
  }
  .col-md-push-0 {
    left: auto;
  }
  .col-md-offset-12 {
    margin-left: 100%;
  }
  .col-md-offset-11 {
    margin-left: 91.66666667%;
  }
  .col-md-offset-10 {
    margin-left: 83.33333333%;
  }
  .col-md-offset-9 {
    margin-left: 75%;
  }
  .col-md-offset-8 {
    margin-left: 66.66666667%;
  }
  .col-md-offset-7 {
    margin-left: 58.33333333%;
  }
  .col-md-offset-6 {
    margin-left: 50%;
  }
  .col-md-offset-5 {
    margin-left: 41.66666667%;
  }
  .col-md-offset-4 {
    margin-left: 33.33333333%;
  }
  .col-md-offset-3 {
    margin-left: 25%;
  }
  .col-md-offset-2 {
    margin-left: 16.66666667%;
  }
  .col-md-offset-1 {
    margin-left: 8.33333333%;
  }
  .col-md-offset-0 {
    margin-left: 0%;
  }
}
@media (min-width: 1200px) {
  .col-lg-1, .col-lg-2, .col-lg-3, .col-lg-4, .col-lg-5, .col-lg-6, .col-lg-7, .col-lg-8, .col-lg-9, .col-lg-10, .col-lg-11, .col-lg-12 {
    float: left;
  }
  .col-lg-12 {
    width: 100%;
  }
  .col-lg-11 {
    width: 91.66666667%;
  }
  .col-lg-10 {
    width: 83.33333333%;
  }
  .col-lg-9 {
    width: 75%;
  }
  .col-lg-8 {
    width: 66.66666667%;
  }
  .col-lg-7 {
    width: 58.33333333%;
  }
  .col-lg-6 {
    width: 50%;
  }
  .col-lg-5 {
    width: 41.66666667%;
  }
  .col-lg-4 {
    width: 33.33333333%;
  }
  .col-lg-3 {
    width: 25%;
  }
  .col-lg-2 {
    width: 16.66666667%;
  }
  .col-lg-1 {
    width: 8.33333333%;
  }
  .col-lg-pull-12 {
    right: 100%;
  }
  .col-lg-pull-11 {
    right: 91.66666667%;
  }
  .col-lg-pull-10 {
    right: 83.33333333%;
  }
  .col-lg-pull-9 {
    right: 75%;
  }
  .col-lg-pull-8 {
    right: 66.66666667%;
  }
  .col-lg-pull-7 {
    right: 58.33333333%;
  }
  .col-lg-pull-6 {
    right: 50%;
  }
  .col-lg-pull-5 {
    right: 41.66666667%;
  }
  .col-lg-pull-4 {
    right: 33.33333333%;
  }
  .col-lg-pull-3 {
    right: 25%;
  }
  .col-lg-pull-2 {
    right: 16.66666667%;
  }
  .col-lg-pull-1 {
    right: 8.33333333%;
  }
  .col-lg-pull-0 {
    right: auto;
  }
  .col-lg-push-12 {
    left: 100%;
  }
  .col-lg-push-11 {
    left: 91.66666667%;
  }
  .col-lg-push-10 {
    left: 83.33333333%;
  }
  .col-lg-push-9 {
    left: 75%;
  }
  .col-lg-push-8 {
    left: 66.66666667%;
  }
  .col-lg-push-7 {
    left: 58.33333333%;
  }
  .col-lg-push-6 {
    left: 50%;
  }
  .col-lg-push-5 {
    left: 41.66666667%;
  }
  .col-lg-push-4 {
    left: 33.33333333%;
  }
  .col-lg-push-3 {
    left: 25%;
  }
  .col-lg-push-2 {
    left: 16.66666667%;
  }
  .col-lg-push-1 {
    left: 8.33333333%;
  }
  .col-lg-push-0 {
    left: auto;
  }
  .col-lg-offset-12 {
    margin-left: 100%;
  }
  .col-lg-offset-11 {
    margin-left: 91.66666667%;
  }
  .col-lg-offset-10 {
    margin-left: 83.33333333%;
  }
  .col-lg-offset-9 {
    margin-left: 75%;
  }
  .col-lg-offset-8 {
    margin-left: 66.66666667%;
  }
  .col-lg-offset-7 {
    margin-left: 58.33333333%;
  }
  .col-lg-offset-6 {
    margin-left: 50%;
  }
  .col-lg-offset-5 {
    margin-left: 41.66666667%;
  }
  .col-lg-offset-4 {
    margin-left: 33.33333333%;
  }
  .col-lg-offset-3 {
    margin-left: 25%;
  }
  .col-lg-offset-2 {
    margin-left: 16.66666667%;
  }
  .col-lg-offset-1 {
    margin-left: 8.33333333%;
  }
  .col-lg-offset-0 {
    margin-left: 0%;
  }
}
table {
  background-color: transparent;
}
caption {
  padding-top: 8px;
  padding-bottom: 8px;
  color: #777777;
  text-align: left;
}
th {
  text-align: left;
}
.table {
  width: 100%;
  max-width: 100%;
  margin-bottom: 18px;
}
.table > thead > tr > th,
.table > tbody > tr > th,
.table > tfoot > tr > th,
.table > thead > tr > td,
.table > tbody > tr > td,
.table > tfoot > tr > td {
  padding: 8px;
  line-height: 1.42857143;
  vertical-align: top;
  border-top: 1px solid #ddd;
}
.table > thead > tr > th {
  vertical-align: bottom;
  border-bottom: 2px solid #ddd;
}
.table > caption + thead > tr:first-child > th,
.table > colgroup + thead > tr:first-child > th,
.table > thead:first-child > tr:first-child > th,
.table > caption + thead > tr:first-child > td,
.table > colgroup + thead > tr:first-child > td,
.table > thead:first-child > tr:first-child > td {
  border-top: 0;
}
.table > tbody + tbody {
  border-top: 2px solid #ddd;
}
.table .table {
  background-color: #fff;
}
.table-condensed > thead > tr > th,
.table-condensed > tbody > tr > th,
.table-condensed > tfoot > tr > th,
.table-condensed > thead > tr > td,
.table-condensed > tbody > tr > td,
.table-condensed > tfoot > tr > td {
  padding: 5px;
}
.table-bordered {
  border: 1px solid #ddd;
}
.table-bordered > thead > tr > th,
.table-bordered > tbody > tr > th,
.table-bordered > tfoot > tr > th,
.table-bordered > thead > tr > td,
.table-bordered > tbody > tr > td,
.table-bordered > tfoot > tr > td {
  border: 1px solid #ddd;
}
.table-bordered > thead > tr > th,
.table-bordered > thead > tr > td {
  border-bottom-width: 2px;
}
.table-striped > tbody > tr:nth-of-type(odd) {
  background-color: #f9f9f9;
}
.table-hover > tbody > tr:hover {
  background-color: #f5f5f5;
}
table col[class*="col-"] {
  position: static;
  float: none;
  display: table-column;
}
table td[class*="col-"],
table th[class*="col-"] {
  position: static;
  float: none;
  display: table-cell;
}
.table > thead > tr > td.active,
.table > tbody > tr > td.active,
.table > tfoot > tr > td.active,
.table > thead > tr > th.active,
.table > tbody > tr > th.active,
.table > tfoot > tr > th.active,
.table > thead > tr.active > td,
.table > tbody > tr.active > td,
.table > tfoot > tr.active > td,
.table > thead > tr.active > th,
.table > tbody > tr.active > th,
.table > tfoot > tr.active > th {
  background-color: #f5f5f5;
}
.table-hover > tbody > tr > td.active:hover,
.table-hover > tbody > tr > th.active:hover,
.table-hover > tbody > tr.active:hover > td,
.table-hover > tbody > tr:hover > .active,
.table-hover > tbody > tr.active:hover > th {
  background-color: #e8e8e8;
}
.table > thead > tr > td.success,
.table > tbody > tr > td.success,
.table > tfoot > tr > td.success,
.table > thead > tr > th.success,
.table > tbody > tr > th.success,
.table > tfoot > tr > th.success,
.table > thead > tr.success > td,
.table > tbody > tr.success > td,
.table > tfoot > tr.success > td,
.table > thead > tr.success > th,
.table > tbody > tr.success > th,
.table > tfoot > tr.success > th {
  background-color: #dff0d8;
}
.table-hover > tbody > tr > td.success:hover,
.table-hover > tbody > tr > th.success:hover,
.table-hover > tbody > tr.success:hover > td,
.table-hover > tbody > tr:hover > .success,
.table-hover > tbody > tr.success:hover > th {
  background-color: #d0e9c6;
}
.table > thead > tr > td.info,
.table > tbody > tr > td.info,
.table > tfoot > tr > td.info,
.table > thead > tr > th.info,
.table > tbody > tr > th.info,
.table > tfoot > tr > th.info,
.table > thead > tr.info > td,
.table > tbody > tr.info > td,
.table > tfoot > tr.info > td,
.table > thead > tr.info > th,
.table > tbody > tr.info > th,
.table > tfoot > tr.info > th {
  background-color: #d9edf7;
}
.table-hover > tbody > tr > td.info:hover,
.table-hover > tbody > tr > th.info:hover,
.table-hover > tbody > tr.info:hover > td,
.table-hover > tbody > tr:hover > .info,
.table-hover > tbody > tr.info:hover > th {
  background-color: #c4e3f3;
}
.table > thead > tr > td.warning,
.table > tbody > tr > td.warning,
.table > tfoot > tr > td.warning,
.table > thead > tr > th.warning,
.table > tbody > tr > th.warning,
.table > tfoot > tr > th.warning,
.table > thead > tr.warning > td,
.table > tbody > tr.warning > td,
.table > tfoot > tr.warning > td,
.table > thead > tr.warning > th,
.table > tbody > tr.warning > th,
.table > tfoot > tr.warning > th {
  background-color: #fcf8e3;
}
.table-hover > tbody > tr > td.warning:hover,
.table-hover > tbody > tr > th.warning:hover,
.table-hover > tbody > tr.warning:hover > td,
.table-hover > tbody > tr:hover > .warning,
.table-hover > tbody > tr.warning:hover > th {
  background-color: #faf2cc;
}
.table > thead > tr > td.danger,
.table > tbody > tr > td.danger,
.table > tfoot > tr > td.danger,
.table > thead > tr > th.danger,
.table > tbody > tr > th.danger,
.table > tfoot > tr > th.danger,
.table > thead > tr.danger > td,
.table > tbody > tr.danger > td,
.table > tfoot > tr.danger > td,
.table > thead > tr.danger > th,
.table > tbody > tr.danger > th,
.table > tfoot > tr.danger > th {
  background-color: #f2dede;
}
.table-hover > tbody > tr > td.danger:hover,
.table-hover > tbody > tr > th.danger:hover,
.table-hover > tbody > tr.danger:hover > td,
.table-hover > tbody > tr:hover > .danger,
.table-hover > tbody > tr.danger:hover > th {
  background-color: #ebcccc;
}
.table-responsive {
  overflow-x: auto;
  min-height: 0.01%;
}
@media screen and (max-width: 767px) {
  .table-responsive {
    width: 100%;
    margin-bottom: 13.5px;
    overflow-y: hidden;
    -ms-overflow-style: -ms-autohiding-scrollbar;
    border: 1px solid #ddd;
  }
  .table-responsive > .table {
    margin-bottom: 0;
  }
  .table-responsive > .table > thead > tr > th,
  .table-responsive > .table > tbody > tr > th,
  .table-responsive > .table > tfoot > tr > th,
  .table-responsive > .table > thead > tr > td,
  .table-responsive > .table > tbody > tr > td,
  .table-responsive > .table > tfoot > tr > td {
    white-space: nowrap;
  }
  .table-responsive > .table-bordered {
    border: 0;
  }
  .table-responsive > .table-bordered > thead > tr > th:first-child,
  .table-responsive > .table-bordered > tbody > tr > th:first-child,
  .table-responsive > .table-bordered > tfoot > tr > th:first-child,
  .table-responsive > .table-bordered > thead > tr > td:first-child,
  .table-responsive > .table-bordered > tbody > tr > td:first-child,
  .table-responsive > .table-bordered > tfoot > tr > td:first-child {
    border-left: 0;
  }
  .table-responsive > .table-bordered > thead > tr > th:last-child,
  .table-responsive > .table-bordered > tbody > tr > th:last-child,
  .table-responsive > .table-bordered > tfoot > tr > th:last-child,
  .table-responsive > .table-bordered > thead > tr > td:last-child,
  .table-responsive > .table-bordered > tbody > tr > td:last-child,
  .table-responsive > .table-bordered > tfoot > tr > td:last-child {
    border-right: 0;
  }
  .table-responsive > .table-bordered > tbody > tr:last-child > th,
  .table-responsive > .table-bordered > tfoot > tr:last-child > th,
  .table-responsive > .table-bordered > tbody > tr:last-child > td,
  .table-responsive > .table-bordered > tfoot > tr:last-child > td {
    border-bottom: 0;
  }
}
fieldset {
  padding: 0;
  margin: 0;
  border: 0;
  min-width: 0;
}
legend {
  display: block;
  width: 100%;
  padding: 0;
  margin-bottom: 18px;
  font-size: 19.5px;
  line-height: inherit;
  color: #333333;
  border: 0;
  border-bottom: 1px solid #e5e5e5;
}
label {
  display: inline-block;
  max-width: 100%;
  margin-bottom: 5px;
  font-weight: bold;
}
input[type="search"] {
  -webkit-box-sizing: border-box;
  -moz-box-sizing: border-box;
  box-sizing: border-box;
}
input[type="radio"],
input[type="checkbox"] {
  margin: 4px 0 0;
  margin-top: 1px \9;
  line-height: normal;
}
input[type="file"] {
  display: block;
}
input[type="range"] {
  display: block;
  width: 100%;
}
select[multiple],
select[size] {
  height: auto;
}
input[type="file"]:focus,
input[type="radio"]:focus,
input[type="checkbox"]:focus {
  outline: 5px auto -webkit-focus-ring-color;
  outline-offset: -2px;
}
output {
  display: block;
  padding-top: 7px;
  font-size: 13px;
  line-height: 1.42857143;
  color: #555555;
}
.form-control {
  display: block;
  width: 100%;
  height: 32px;
  padding: 6px 12px;
  font-size: 13px;
  line-height: 1.42857143;
  color: #555555;
  background-color: #fff;
  background-image: none;
  border: 1px solid #ccc;
  border-radius: 2px;
  -webkit-box-shadow: inset 0 1px 1px rgba(0, 0, 0, 0.075);
  box-shadow: inset 0 1px 1px rgba(0, 0, 0, 0.075);
  -webkit-transition: border-color ease-in-out .15s, box-shadow ease-in-out .15s;
  -o-transition: border-color ease-in-out .15s, box-shadow ease-in-out .15s;
  transition: border-color ease-in-out .15s, box-shadow ease-in-out .15s;
}
.form-control:focus {
  border-color: #66afe9;
  outline: 0;
  -webkit-box-shadow: inset 0 1px 1px rgba(0,0,0,.075), 0 0 8px rgba(102, 175, 233, 0.6);
  box-shadow: inset 0 1px 1px rgba(0,0,0,.075), 0 0 8px rgba(102, 175, 233, 0.6);
}
.form-control::-moz-placeholder {
  color: #999;
  opacity: 1;
}
.form-control:-ms-input-placeholder {
  color: #999;
}
.form-control::-webkit-input-placeholder {
  color: #999;
}
.form-control::-ms-expand {
  border: 0;
  background-color: transparent;
}
.form-control[disabled],
.form-control[readonly],
fieldset[disabled] .form-control {
  background-color: #eeeeee;
  opacity: 1;
}
.form-control[disabled],
fieldset[disabled] .form-control {
  cursor: not-allowed;
}
textarea.form-control {
  height: auto;
}
input[type="search"] {
  -webkit-appearance: none;
}
@media screen and (-webkit-min-device-pixel-ratio: 0) {
  input[type="date"].form-control,
  input[type="time"].form-control,
  input[type="datetime-local"].form-control,
  input[type="month"].form-control {
    line-height: 32px;
  }
  input[type="date"].input-sm,
  input[type="time"].input-sm,
  input[type="datetime-local"].input-sm,
  input[type="month"].input-sm,
  .input-group-sm input[type="date"],
  .input-group-sm input[type="time"],
  .input-group-sm input[type="datetime-local"],
  .input-group-sm input[type="month"] {
    line-height: 30px;
  }
  input[type="date"].input-lg,
  input[type="time"].input-lg,
  input[type="datetime-local"].input-lg,
  input[type="month"].input-lg,
  .input-group-lg input[type="date"],
  .input-group-lg input[type="time"],
  .input-group-lg input[type="datetime-local"],
  .input-group-lg input[type="month"] {
    line-height: 45px;
  }
}
.form-group {
  margin-bottom: 15px;
}
.radio,
.checkbox {
  position: relative;
  display: block;
  margin-top: 10px;
  margin-bottom: 10px;
}
.radio label,
.checkbox label {
  min-height: 18px;
  padding-left: 20px;
  margin-bottom: 0;
  font-weight: normal;
  cursor: pointer;
}
.radio input[type="radio"],
.radio-inline input[type="radio"],
.checkbox input[type="checkbox"],
.checkbox-inline input[type="checkbox"] {
  position: absolute;
  margin-left: -20px;
  margin-top: 4px \9;
}
.radio + .radio,
.checkbox + .checkbox {
  margin-top: -5px;
}
.radio-inline,
.checkbox-inline {
  position: relative;
  display: inline-block;
  padding-left: 20px;
  margin-bottom: 0;
  vertical-align: middle;
  font-weight: normal;
  cursor: pointer;
}
.radio-inline + .radio-inline,
.checkbox-inline + .checkbox-inline {
  margin-top: 0;
  margin-left: 10px;
}
input[type="radio"][disabled],
input[type="checkbox"][disabled],
input[type="radio"].disabled,
input[type="checkbox"].disabled,
fieldset[disabled] input[type="radio"],
fieldset[disabled] input[type="checkbox"] {
  cursor: not-allowed;
}
.radio-inline.disabled,
.checkbox-inline.disabled,
fieldset[disabled] .radio-inline,
fieldset[disabled] .checkbox-inline {
  cursor: not-allowed;
}
.radio.disabled label,
.checkbox.disabled label,
fieldset[disabled] .radio label,
fieldset[disabled] .checkbox label {
  cursor: not-allowed;
}
.form-control-static {
  padding-top: 7px;
  padding-bottom: 7px;
  margin-bottom: 0;
  min-height: 31px;
}
.form-control-static.input-lg,
.form-control-static.input-sm {
  padding-left: 0;
  padding-right: 0;
}
.input-sm {
  height: 30px;
  padding: 5px 10px;
  font-size: 12px;
  line-height: 1.5;
  border-radius: 1px;
}
select.input-sm {
  height: 30px;
  line-height: 30px;
}
textarea.input-sm,
select[multiple].input-sm {
  height: auto;
}
.form-group-sm .form-control {
  height: 30px;
  padding: 5px 10px;
  font-size: 12px;
  line-height: 1.5;
  border-radius: 1px;
}
.form-group-sm select.form-control {
  height: 30px;
  line-height: 30px;
}
.form-group-sm textarea.form-control,
.form-group-sm select[multiple].form-control {
  height: auto;
}
.form-group-sm .form-control-static {
  height: 30px;
  min-height: 30px;
  padding: 6px 10px;
  font-size: 12px;
  line-height: 1.5;
}
.input-lg {
  height: 45px;
  padding: 10px 16px;
  font-size: 17px;
  line-height: 1.3333333;
  border-radius: 3px;
}
select.input-lg {
  height: 45px;
  line-height: 45px;
}
textarea.input-lg,
select[multiple].input-lg {
  height: auto;
}
.form-group-lg .form-control {
  height: 45px;
  padding: 10px 16px;
  font-size: 17px;
  line-height: 1.3333333;
  border-radius: 3px;
}
.form-group-lg select.form-control {
  height: 45px;
  line-height: 45px;
}
.form-group-lg textarea.form-control,
.form-group-lg select[multiple].form-control {
  height: auto;
}
.form-group-lg .form-control-static {
  height: 45px;
  min-height: 35px;
  padding: 11px 16px;
  font-size: 17px;
  line-height: 1.3333333;
}
.has-feedback {
  position: relative;
}
.has-feedback .form-control {
  padding-right: 40px;
}
.form-control-feedback {
  position: absolute;
  top: 0;
  right: 0;
  z-index: 2;
  display: block;
  width: 32px;
  height: 32px;
  line-height: 32px;
  text-align: center;
  pointer-events: none;
}
.input-lg + .form-control-feedback,
.input-group-lg + .form-control-feedback,
.form-group-lg .form-control + .form-control-feedback {
  width: 45px;
  height: 45px;
  line-height: 45px;
}
.input-sm + .form-control-feedback,
.input-group-sm + .form-control-feedback,
.form-group-sm .form-control + .form-control-feedback {
  width: 30px;
  height: 30px;
  line-height: 30px;
}
.has-success .help-block,
.has-success .control-label,
.has-success .radio,
.has-success .checkbox,
.has-success .radio-inline,
.has-success .checkbox-inline,
.has-success.radio label,
.has-success.checkbox label,
.has-success.radio-inline label,
.has-success.checkbox-inline label {
  color: #3c763d;
}
.has-success .form-control {
  border-color: #3c763d;
  -webkit-box-shadow: inset 0 1px 1px rgba(0, 0, 0, 0.075);
  box-shadow: inset 0 1px 1px rgba(0, 0, 0, 0.075);
}
.has-success .form-control:focus {
  border-color: #2b542c;
  -webkit-box-shadow: inset 0 1px 1px rgba(0, 0, 0, 0.075), 0 0 6px #67b168;
  box-shadow: inset 0 1px 1px rgba(0, 0, 0, 0.075), 0 0 6px #67b168;
}
.has-success .input-group-addon {
  color: #3c763d;
  border-color: #3c763d;
  background-color: #dff0d8;
}
.has-success .form-control-feedback {
  color: #3c763d;
}
.has-warning .help-block,
.has-warning .control-label,
.has-warning .radio,
.has-warning .checkbox,
.has-warning .radio-inline,
.has-warning .checkbox-inline,
.has-warning.radio label,
.has-warning.checkbox label,
.has-warning.radio-inline label,
.has-warning.checkbox-inline label {
  color: #8a6d3b;
}
.has-warning .form-control {
  border-color: #8a6d3b;
  -webkit-box-shadow: inset 0 1px 1px rgba(0, 0, 0, 0.075);
  box-shadow: inset 0 1px 1px rgba(0, 0, 0, 0.075);
}
.has-warning .form-control:focus {
  border-color: #66512c;
  -webkit-box-shadow: inset 0 1px 1px rgba(0, 0, 0, 0.075), 0 0 6px #c0a16b;
  box-shadow: inset 0 1px 1px rgba(0, 0, 0, 0.075), 0 0 6px #c0a16b;
}
.has-warning .input-group-addon {
  color: #8a6d3b;
  border-color: #8a6d3b;
  background-color: #fcf8e3;
}
.has-warning .form-control-feedback {
  color: #8a6d3b;
}
.has-error .help-block,
.has-error .control-label,
.has-error .radio,
.has-error .checkbox,
.has-error .radio-inline,
.has-error .checkbox-inline,
.has-error.radio label,
.has-error.checkbox label,
.has-error.radio-inline label,
.has-error.checkbox-inline label {
  color: #a94442;
}
.has-error .form-control {
  border-color: #a94442;
  -webkit-box-shadow: inset 0 1px 1px rgba(0, 0, 0, 0.075);
  box-shadow: inset 0 1px 1px rgba(0, 0, 0, 0.075);
}
.has-error .form-control:focus {
  border-color: #843534;
  -webkit-box-shadow: inset 0 1px 1px rgba(0, 0, 0, 0.075), 0 0 6px #ce8483;
  box-shadow: inset 0 1px 1px rgba(0, 0, 0, 0.075), 0 0 6px #ce8483;
}
.has-error .input-group-addon {
  color: #a94442;
  border-color: #a94442;
  background-color: #f2dede;
}
.has-error .form-control-feedback {
  color: #a94442;
}
.has-feedback label ~ .form-control-feedback {
  top: 23px;
}
.has-feedback label.sr-only ~ .form-control-feedback {
  top: 0;
}
.help-block {
  display: block;
  margin-top: 5px;
  margin-bottom: 10px;
  color: #404040;
}
@media (min-width: 768px) {
  .form-inline .form-group {
    display: inline-block;
    margin-bottom: 0;
    vertical-align: middle;
  }
  .form-inline .form-control {
    display: inline-block;
    width: auto;
    vertical-align: middle;
  }
  .form-inline .form-control-static {
    display: inline-block;
  }
  .form-inline .input-group {
    display: inline-table;
    vertical-align: middle;
  }
  .form-inline .input-group .input-group-addon,
  .form-inline .input-group .input-group-btn,
  .form-inline .input-group .form-control {
    width: auto;
  }
  .form-inline .input-group > .form-control {
    width: 100%;
  }
  .form-inline .control-label {
    margin-bottom: 0;
    vertical-align: middle;
  }
  .form-inline .radio,
  .form-inline .checkbox {
    display: inline-block;
    margin-top: 0;
    margin-bottom: 0;
    vertical-align: middle;
  }
  .form-inline .radio label,
  .form-inline .checkbox label {
    padding-left: 0;
  }
  .form-inline .radio input[type="radio"],
  .form-inline .checkbox input[type="checkbox"] {
    position: relative;
    margin-left: 0;
  }
  .form-inline .has-feedback .form-control-feedback {
    top: 0;
  }
}
.form-horizontal .radio,
.form-horizontal .checkbox,
.form-horizontal .radio-inline,
.form-horizontal .checkbox-inline {
  margin-top: 0;
  margin-bottom: 0;
  padding-top: 7px;
}
.form-horizontal .radio,
.form-horizontal .checkbox {
  min-height: 25px;
}
.form-horizontal .form-group {
  margin-left: 0px;
  margin-right: 0px;
}
@media (min-width: 768px) {
  .form-horizontal .control-label {
    text-align: right;
    margin-bottom: 0;
    padding-top: 7px;
  }
}
.form-horizontal .has-feedback .form-control-feedback {
  right: 0px;
}
@media (min-width: 768px) {
  .form-horizontal .form-group-lg .control-label {
    padding-top: 11px;
    font-size: 17px;
  }
}
@media (min-width: 768px) {
  .form-horizontal .form-group-sm .control-label {
    padding-top: 6px;
    font-size: 12px;
  }
}
.btn {
  display: inline-block;
  margin-bottom: 0;
  font-weight: normal;
  text-align: center;
  vertical-align: middle;
  touch-action: manipulation;
  cursor: pointer;
  background-image: none;
  border: 1px solid transparent;
  white-space: nowrap;
  padding: 6px 12px;
  font-size: 13px;
  line-height: 1.42857143;
  border-radius: 2px;
  -webkit-user-select: none;
  -moz-user-select: none;
  -ms-user-select: none;
  user-select: none;
}
.btn:focus,
.btn:active:focus,
.btn.active:focus,
.btn.focus,
.btn:active.focus,
.btn.active.focus {
  outline: 5px auto -webkit-focus-ring-color;
  outline-offset: -2px;
}
.btn:hover,
.btn:focus,
.btn.focus {
  color: #333;
  text-decoration: none;
}
.btn:active,
.btn.active {
  outline: 0;
  background-image: none;
  -webkit-box-shadow: inset 0 3px 5px rgba(0, 0, 0, 0.125);
  box-shadow: inset 0 3px 5px rgba(0, 0, 0, 0.125);
}
.btn.disabled,
.btn[disabled],
fieldset[disabled] .btn {
  cursor: not-allowed;
  opacity: 0.65;
  filter: alpha(opacity=65);
  -webkit-box-shadow: none;
  box-shadow: none;
}
a.btn.disabled,
fieldset[disabled] a.btn {
  pointer-events: none;
}
.btn-default {
  color: #333;
  background-color: #fff;
  border-color: #ccc;
}
.btn-default:focus,
.btn-default.focus {
  color: #333;
  background-color: #e6e6e6;
  border-color: #8c8c8c;
}
.btn-default:hover {
  color: #333;
  background-color: #e6e6e6;
  border-color: #adadad;
}
.btn-default:active,
.btn-default.active,
.open > .dropdown-toggle.btn-default {
  color: #333;
  background-color: #e6e6e6;
  border-color: #adadad;
}
.btn-default:active:hover,
.btn-default.active:hover,
.open > .dropdown-toggle.btn-default:hover,
.btn-default:active:focus,
.btn-default.active:focus,
.open > .dropdown-toggle.btn-default:focus,
.btn-default:active.focus,
.btn-default.active.focus,
.open > .dropdown-toggle.btn-default.focus {
  color: #333;
  background-color: #d4d4d4;
  border-color: #8c8c8c;
}
.btn-default:active,
.btn-default.active,
.open > .dropdown-toggle.btn-default {
  background-image: none;
}
.btn-default.disabled:hover,
.btn-default[disabled]:hover,
fieldset[disabled] .btn-default:hover,
.btn-default.disabled:focus,
.btn-default[disabled]:focus,
fieldset[disabled] .btn-default:focus,
.btn-default.disabled.focus,
.btn-default[disabled].focus,
fieldset[disabled] .btn-default.focus {
  background-color: #fff;
  border-color: #ccc;
}
.btn-default .badge {
  color: #fff;
  background-color: #333;
}
.btn-primary {
  color: #fff;
  background-color: #337ab7;
  border-color: #2e6da4;
}
.btn-primary:focus,
.btn-primary.focus {
  color: #fff;
  background-color: #286090;
  border-color: #122b40;
}
.btn-primary:hover {
  color: #fff;
  background-color: #286090;
  border-color: #204d74;
}
.btn-primary:active,
.btn-primary.active,
.open > .dropdown-toggle.btn-primary {
  color: #fff;
  background-color: #286090;
  border-color: #204d74;
}
.btn-primary:active:hover,
.btn-primary.active:hover,
.open > .dropdown-toggle.btn-primary:hover,
.btn-primary:active:focus,
.btn-primary.active:focus,
.open > .dropdown-toggle.btn-primary:focus,
.btn-primary:active.focus,
.btn-primary.active.focus,
.open > .dropdown-toggle.btn-primary.focus {
  color: #fff;
  background-color: #204d74;
  border-color: #122b40;
}
.btn-primary:active,
.btn-primary.active,
.open > .dropdown-toggle.btn-primary {
  background-image: none;
}
.btn-primary.disabled:hover,
.btn-primary[disabled]:hover,
fieldset[disabled] .btn-primary:hover,
.btn-primary.disabled:focus,
.btn-primary[disabled]:focus,
fieldset[disabled] .btn-primary:focus,
.btn-primary.disabled.focus,
.btn-primary[disabled].focus,
fieldset[disabled] .btn-primary.focus {
  background-color: #337ab7;
  border-color: #2e6da4;
}
.btn-primary .badge {
  color: #337ab7;
  background-color: #fff;
}
.btn-success {
  color: #fff;
  background-color: #5cb85c;
  border-color: #4cae4c;
}
.btn-success:focus,
.btn-success.focus {
  color: #fff;
  background-color: #449d44;
  border-color: #255625;
}
.btn-success:hover {
  color: #fff;
  background-color: #449d44;
  border-color: #398439;
}
.btn-success:active,
.btn-success.active,
.open > .dropdown-toggle.btn-success {
  color: #fff;
  background-color: #449d44;
  border-color: #398439;
}
.btn-success:active:hover,
.btn-success.active:hover,
.open > .dropdown-toggle.btn-success:hover,
.btn-success:active:focus,
.btn-success.active:focus,
.open > .dropdown-toggle.btn-success:focus,
.btn-success:active.focus,
.btn-success.active.focus,
.open > .dropdown-toggle.btn-success.focus {
  color: #fff;
  background-color: #398439;
  border-color: #255625;
}
.btn-success:active,
.btn-success.active,
.open > .dropdown-toggle.btn-success {
  background-image: none;
}
.btn-success.disabled:hover,
.btn-success[disabled]:hover,
fieldset[disabled] .btn-success:hover,
.btn-success.disabled:focus,
.btn-success[disabled]:focus,
fieldset[disabled] .btn-success:focus,
.btn-success.disabled.focus,
.btn-success[disabled].focus,
fieldset[disabled] .btn-success.focus {
  background-color: #5cb85c;
  border-color: #4cae4c;
}
.btn-success .badge {
  color: #5cb85c;
  background-color: #fff;
}
.btn-info {
  color: #fff;
  background-color: #5bc0de;
  border-color: #46b8da;
}
.btn-info:focus,
.btn-info.focus {
  color: #fff;
  background-color: #31b0d5;
  border-color: #1b6d85;
}
.btn-info:hover {
  color: #fff;
  background-color: #31b0d5;
  border-color: #269abc;
}
.btn-info:active,
.btn-info.active,
.open > .dropdown-toggle.btn-info {
  color: #fff;
  background-color: #31b0d5;
  border-color: #269abc;
}
.btn-info:active:hover,
.btn-info.active:hover,
.open > .dropdown-toggle.btn-info:hover,
.btn-info:active:focus,
.btn-info.active:focus,
.open > .dropdown-toggle.btn-info:focus,
.btn-info:active.focus,
.btn-info.active.focus,
.open > .dropdown-toggle.btn-info.focus {
  color: #fff;
  background-color: #269abc;
  border-color: #1b6d85;
}
.btn-info:active,
.btn-info.active,
.open > .dropdown-toggle.btn-info {
  background-image: none;
}
.btn-info.disabled:hover,
.btn-info[disabled]:hover,
fieldset[disabled] .btn-info:hover,
.btn-info.disabled:focus,
.btn-info[disabled]:focus,
fieldset[disabled] .btn-info:focus,
.btn-info.disabled.focus,
.btn-info[disabled].focus,
fieldset[disabled] .btn-info.focus {
  background-color: #5bc0de;
  border-color: #46b8da;
}
.btn-info .badge {
  color: #5bc0de;
  background-color: #fff;
}
.btn-warning {
  color: #fff;
  background-color: #f0ad4e;
  border-color: #eea236;
}
.btn-warning:focus,
.btn-warning.focus {
  color: #fff;
  background-color: #ec971f;
  border-color: #985f0d;
}
.btn-warning:hover {
  color: #fff;
  background-color: #ec971f;
  border-color: #d58512;
}
.btn-warning:active,
.btn-warning.active,
.open > .dropdown-toggle.btn-warning {
  color: #fff;
  background-color: #ec971f;
  border-color: #d58512;
}
.btn-warning:active:hover,
.btn-warning.active:hover,
.open > .dropdown-toggle.btn-warning:hover,
.btn-warning:active:focus,
.btn-warning.active:focus,
.open > .dropdown-toggle.btn-warning:focus,
.btn-warning:active.focus,
.btn-warning.active.focus,
.open > .dropdown-toggle.btn-warning.focus {
  color: #fff;
  background-color: #d58512;
  border-color: #985f0d;
}
.btn-warning:active,
.btn-warning.active,
.open > .dropdown-toggle.btn-warning {
  background-image: none;
}
.btn-warning.disabled:hover,
.btn-warning[disabled]:hover,
fieldset[disabled] .btn-warning:hover,
.btn-warning.disabled:focus,
.btn-warning[disabled]:focus,
fieldset[disabled] .btn-warning:focus,
.btn-warning.disabled.focus,
.btn-warning[disabled].focus,
fieldset[disabled] .btn-warning.focus {
  background-color: #f0ad4e;
  border-color: #eea236;
}
.btn-warning .badge {
  color: #f0ad4e;
  background-color: #fff;
}
.btn-danger {
  color: #fff;
  background-color: #d9534f;
  border-color: #d43f3a;
}
.btn-danger:focus,
.btn-danger.focus {
  color: #fff;
  background-color: #c9302c;
  border-color: #761c19;
}
.btn-danger:hover {
  color: #fff;
  background-color: #c9302c;
  border-color: #ac2925;
}
.btn-danger:active,
.btn-danger.active,
.open > .dropdown-toggle.btn-danger {
  color: #fff;
  background-color: #c9302c;
  border-color: #ac2925;
}
.btn-danger:active:hover,
.btn-danger.active:hover,
.open > .dropdown-toggle.btn-danger:hover,
.btn-danger:active:focus,
.btn-danger.active:focus,
.open > .dropdown-toggle.btn-danger:focus,
.btn-danger:active.focus,
.btn-danger.active.focus,
.open > .dropdown-toggle.btn-danger.focus {
  color: #fff;
  background-color: #ac2925;
  border-color: #761c19;
}
.btn-danger:active,
.btn-danger.active,
.open > .dropdown-toggle.btn-danger {
  background-image: none;
}
.btn-danger.disabled:hover,
.btn-danger[disabled]:hover,
fieldset[disabled] .btn-danger:hover,
.btn-danger.disabled:focus,
.btn-danger[disabled]:focus,
fieldset[disabled] .btn-danger:focus,
.btn-danger.disabled.focus,
.btn-danger[disabled].focus,
fieldset[disabled] .btn-danger.focus {
  background-color: #d9534f;
  border-color: #d43f3a;
}
.btn-danger .badge {
  color: #d9534f;
  background-color: #fff;
}
.btn-link {
  color: #337ab7;
  font-weight: normal;
  border-radius: 0;
}
.btn-link,
.btn-link:active,
.btn-link.active,
.btn-link[disabled],
fieldset[disabled] .btn-link {
  background-color: transparent;
  -webkit-box-shadow: none;
  box-shadow: none;
}
.btn-link,
.btn-link:hover,
.btn-link:focus,
.btn-link:active {
  border-color: transparent;
}
.btn-link:hover,
.btn-link:focus {
  color: #23527c;
  text-decoration: underline;
  background-color: transparent;
}
.btn-link[disabled]:hover,
fieldset[disabled] .btn-link:hover,
.btn-link[disabled]:focus,
fieldset[disabled] .btn-link:focus {
  color: #777777;
  text-decoration: none;
}
.btn-lg,
.btn-group-lg > .btn {
  padding: 10px 16px;
  font-size: 17px;
  line-height: 1.3333333;
  border-radius: 3px;
}
.btn-sm,
.btn-group-sm > .btn {
  padding: 5px 10px;
  font-size: 12px;
  line-height: 1.5;
  border-radius: 1px;
}
.btn-xs,
.btn-group-xs > .btn {
  padding: 1px 5px;
  font-size: 12px;
  line-height: 1.5;
  border-radius: 1px;
}
.btn-block {
  display: block;
  width: 100%;
}
.btn-block + .btn-block {
  margin-top: 5px;
}
input[type="submit"].btn-block,
input[type="reset"].btn-block,
input[type="button"].btn-block {
  width: 100%;
}
.fade {
  opacity: 0;
  -webkit-transition: opacity 0.15s linear;
  -o-transition: opacity 0.15s linear;
  transition: opacity 0.15s linear;
}
.fade.in {
  opacity: 1;
}
.collapse {
  display: none;
}
.collapse.in {
  display: block;
}
tr.collapse.in {
  display: table-row;
}
tbody.collapse.in {
  display: table-row-group;
}
.collapsing {
  position: relative;
  height: 0;
  overflow: hidden;
  -webkit-transition-property: height, visibility;
  transition-property: height, visibility;
  -webkit-transition-duration: 0.35s;
  transition-duration: 0.35s;
  -webkit-transition-timing-function: ease;
  transition-timing-function: ease;
}
.caret {
  display: inline-block;
  width: 0;
  height: 0;
  margin-left: 2px;
  vertical-align: middle;
  border-top: 4px dashed;
  border-top: 4px solid \9;
  border-right: 4px solid transparent;
  border-left: 4px solid transparent;
}
.dropup,
.dropdown {
  position: relative;
}
.dropdown-toggle:focus {
  outline: 0;
}
.dropdown-menu {
  position: absolute;
  top: 100%;
  left: 0;
  z-index: 1000;
  display: none;
  float: left;
  min-width: 160px;
  padding: 5px 0;
  margin: 2px 0 0;
  list-style: none;
  font-size: 13px;
  text-align: left;
  background-color: #fff;
  border: 1px solid #ccc;
  border: 1px solid rgba(0, 0, 0, 0.15);
  border-radius: 2px;
  -webkit-box-shadow: 0 6px 12px rgba(0, 0, 0, 0.175);
  box-shadow: 0 6px 12px rgba(0, 0, 0, 0.175);
  background-clip: padding-box;
}
.dropdown-menu.pull-right {
  right: 0;
  left: auto;
}
.dropdown-menu .divider {
  height: 1px;
  margin: 8px 0;
  overflow: hidden;
  background-color: #e5e5e5;
}
.dropdown-menu > li > a {
  display: block;
  padding: 3px 20px;
  clear: both;
  font-weight: normal;
  line-height: 1.42857143;
  color: #333333;
  white-space: nowrap;
}
.dropdown-menu > li > a:hover,
.dropdown-menu > li > a:focus {
  text-decoration: none;
  color: #262626;
  background-color: #f5f5f5;
}
.dropdown-menu > .active > a,
.dropdown-menu > .active > a:hover,
.dropdown-menu > .active > a:focus {
  color: #fff;
  text-decoration: none;
  outline: 0;
  background-color: #337ab7;
}
.dropdown-menu > .disabled > a,
.dropdown-menu > .disabled > a:hover,
.dropdown-menu > .disabled > a:focus {
  color: #777777;
}
.dropdown-menu > .disabled > a:hover,
.dropdown-menu > .disabled > a:focus {
  text-decoration: none;
  background-color: transparent;
  background-image: none;
  filter: progid:DXImageTransform.Microsoft.gradient(enabled = false);
  cursor: not-allowed;
}
.open > .dropdown-menu {
  display: block;
}
.open > a {
  outline: 0;
}
.dropdown-menu-right {
  left: auto;
  right: 0;
}
.dropdown-menu-left {
  left: 0;
  right: auto;
}
.dropdown-header {
  display: block;
  padding: 3px 20px;
  font-size: 12px;
  line-height: 1.42857143;
  color: #777777;
  white-space: nowrap;
}
.dropdown-backdrop {
  position: fixed;
  left: 0;
  right: 0;
  bottom: 0;
  top: 0;
  z-index: 990;
}
.pull-right > .dropdown-menu {
  right: 0;
  left: auto;
}
.dropup .caret,
.navbar-fixed-bottom .dropdown .caret {
  border-top: 0;
  border-bottom: 4px dashed;
  border-bottom: 4px solid \9;
  content: "";
}
.dropup .dropdown-menu,
.navbar-fixed-bottom .dropdown .dropdown-menu {
  top: auto;
  bottom: 100%;
  margin-bottom: 2px;
}
@media (min-width: 541px) {
  .navbar-right .dropdown-menu {
    left: auto;
    right: 0;
  }
  .navbar-right .dropdown-menu-left {
    left: 0;
    right: auto;
  }
}
.btn-group,
.btn-group-vertical {
  position: relative;
  display: inline-block;
  vertical-align: middle;
}
.btn-group > .btn,
.btn-group-vertical > .btn {
  position: relative;
  float: left;
}
.btn-group > .btn:hover,
.btn-group-vertical > .btn:hover,
.btn-group > .btn:focus,
.btn-group-vertical > .btn:focus,
.btn-group > .btn:active,
.btn-group-vertical > .btn:active,
.btn-group > .btn.active,
.btn-group-vertical > .btn.active {
  z-index: 2;
}
.btn-group .btn + .btn,
.btn-group .btn + .btn-group,
.btn-group .btn-group + .btn,
.btn-group .btn-group + .btn-group {
  margin-left: -1px;
}
.btn-toolbar {
  margin-left: -5px;
}
.btn-toolbar .btn,
.btn-toolbar .btn-group,
.btn-toolbar .input-group {
  float: left;
}
.btn-toolbar > .btn,
.btn-toolbar > .btn-group,
.btn-toolbar > .input-group {
  margin-left: 5px;
}
.btn-group > .btn:not(:first-child):not(:last-child):not(.dropdown-toggle) {
  border-radius: 0;
}
.btn-group > .btn:first-child {
  margin-left: 0;
}
.btn-group > .btn:first-child:not(:last-child):not(.dropdown-toggle) {
  border-bottom-right-radius: 0;
  border-top-right-radius: 0;
}
.btn-group > .btn:last-child:not(:first-child),
.btn-group > .dropdown-toggle:not(:first-child) {
  border-bottom-left-radius: 0;
  border-top-left-radius: 0;
}
.btn-group > .btn-group {
  float: left;
}
.btn-group > .btn-group:not(:first-child):not(:last-child) > .btn {
  border-radius: 0;
}
.btn-group > .btn-group:first-child:not(:last-child) > .btn:last-child,
.btn-group > .btn-group:first-child:not(:last-child) > .dropdown-toggle {
  border-bottom-right-radius: 0;
  border-top-right-radius: 0;
}
.btn-group > .btn-group:last-child:not(:first-child) > .btn:first-child {
  border-bottom-left-radius: 0;
  border-top-left-radius: 0;
}
.btn-group .dropdown-toggle:active,
.btn-group.open .dropdown-toggle {
  outline: 0;
}
.btn-group > .btn + .dropdown-toggle {
  padding-left: 8px;
  padding-right: 8px;
}
.btn-group > .btn-lg + .dropdown-toggle {
  padding-left: 12px;
  padding-right: 12px;
}
.btn-group.open .dropdown-toggle {
  -webkit-box-shadow: inset 0 3px 5px rgba(0, 0, 0, 0.125);
  box-shadow: inset 0 3px 5px rgba(0, 0, 0, 0.125);
}
.btn-group.open .dropdown-toggle.btn-link {
  -webkit-box-shadow: none;
  box-shadow: none;
}
.btn .caret {
  margin-left: 0;
}
.btn-lg .caret {
  border-width: 5px 5px 0;
  border-bottom-width: 0;
}
.dropup .btn-lg .caret {
  border-width: 0 5px 5px;
}
.btn-group-vertical > .btn,
.btn-group-vertical > .btn-group,
.btn-group-vertical > .btn-group > .btn {
  display: block;
  float: none;
  width: 100%;
  max-width: 100%;
}
.btn-group-vertical > .btn-group > .btn {
  float: none;
}
.btn-group-vertical > .btn + .btn,
.btn-group-vertical > .btn + .btn-group,
.btn-group-vertical > .btn-group + .btn,
.btn-group-vertical > .btn-group + .btn-group {
  margin-top: -1px;
  margin-left: 0;
}
.btn-group-vertical > .btn:not(:first-child):not(:last-child) {
  border-radius: 0;
}
.btn-group-vertical > .btn:first-child:not(:last-child) {
  border-top-right-radius: 2px;
  border-top-left-radius: 2px;
  border-bottom-right-radius: 0;
  border-bottom-left-radius: 0;
}
.btn-group-vertical > .btn:last-child:not(:first-child) {
  border-top-right-radius: 0;
  border-top-left-radius: 0;
  border-bottom-right-radius: 2px;
  border-bottom-left-radius: 2px;
}
.btn-group-vertical > .btn-group:not(:first-child):not(:last-child) > .btn {
  border-radius: 0;
}
.btn-group-vertical > .btn-group:first-child:not(:last-child) > .btn:last-child,
.btn-group-vertical > .btn-group:first-child:not(:last-child) > .dropdown-toggle {
  border-bottom-right-radius: 0;
  border-bottom-left-radius: 0;
}
.btn-group-vertical > .btn-group:last-child:not(:first-child) > .btn:first-child {
  border-top-right-radius: 0;
  border-top-left-radius: 0;
}
.btn-group-justified {
  display: table;
  width: 100%;
  table-layout: fixed;
  border-collapse: separate;
}
.btn-group-justified > .btn,
.btn-group-justified > .btn-group {
  float: none;
  display: table-cell;
  width: 1%;
}
.btn-group-justified > .btn-group .btn {
  width: 100%;
}
.btn-group-justified > .btn-group .dropdown-menu {
  left: auto;
}
[data-toggle="buttons"] > .btn input[type="radio"],
[data-toggle="buttons"] > .btn-group > .btn input[type="radio"],
[data-toggle="buttons"] > .btn input[type="checkbox"],
[data-toggle="buttons"] > .btn-group > .btn input[type="checkbox"] {
  position: absolute;
  clip: rect(0, 0, 0, 0);
  pointer-events: none;
}
.input-group {
  position: relative;
  display: table;
  border-collapse: separate;
}
.input-group[class*="col-"] {
  float: none;
  padding-left: 0;
  padding-right: 0;
}
.input-group .form-control {
  position: relative;
  z-index: 2;
  float: left;
  width: 100%;
  margin-bottom: 0;
}
.input-group .form-control:focus {
  z-index: 3;
}
.input-group-lg > .form-control,
.input-group-lg > .input-group-addon,
.input-group-lg > .input-group-btn > .btn {
  height: 45px;
  padding: 10px 16px;
  font-size: 17px;
  line-height: 1.3333333;
  border-radius: 3px;
}
select.input-group-lg > .form-control,
select.input-group-lg > .input-group-addon,
select.input-group-lg > .input-group-btn > .btn {
  height: 45px;
  line-height: 45px;
}
textarea.input-group-lg > .form-control,
textarea.input-group-lg > .input-group-addon,
textarea.input-group-lg > .input-group-btn > .btn,
select[multiple].input-group-lg > .form-control,
select[multiple].input-group-lg > .input-group-addon,
select[multiple].input-group-lg > .input-group-btn > .btn {
  height: auto;
}
.input-group-sm > .form-control,
.input-group-sm > .input-group-addon,
.input-group-sm > .input-group-btn > .btn {
  height: 30px;
  padding: 5px 10px;
  font-size: 12px;
  line-height: 1.5;
  border-radius: 1px;
}
select.input-group-sm > .form-control,
select.input-group-sm > .input-group-addon,
select.input-group-sm > .input-group-btn > .btn {
  height: 30px;
  line-height: 30px;
}
textarea.input-group-sm > .form-control,
textarea.input-group-sm > .input-group-addon,
textarea.input-group-sm > .input-group-btn > .btn,
select[multiple].input-group-sm > .form-control,
select[multiple].input-group-sm > .input-group-addon,
select[multiple].input-group-sm > .input-group-btn > .btn {
  height: auto;
}
.input-group-addon,
.input-group-btn,
.input-group .form-control {
  display: table-cell;
}
.input-group-addon:not(:first-child):not(:last-child),
.input-group-btn:not(:first-child):not(:last-child),
.input-group .form-control:not(:first-child):not(:last-child) {
  border-radius: 0;
}
.input-group-addon,
.input-group-btn {
  width: 1%;
  white-space: nowrap;
  vertical-align: middle;
}
.input-group-addon {
  padding: 6px 12px;
  font-size: 13px;
  font-weight: normal;
  line-height: 1;
  color: #555555;
  text-align: center;
  background-color: #eeeeee;
  border: 1px solid #ccc;
  border-radius: 2px;
}
.input-group-addon.input-sm {
  padding: 5px 10px;
  font-size: 12px;
  border-radius: 1px;
}
.input-group-addon.input-lg {
  padding: 10px 16px;
  font-size: 17px;
  border-radius: 3px;
}
.input-group-addon input[type="radio"],
.input-group-addon input[type="checkbox"] {
  margin-top: 0;
}
.input-group .form-control:first-child,
.input-group-addon:first-child,
.input-group-btn:first-child > .btn,
.input-group-btn:first-child > .btn-group > .btn,
.input-group-btn:first-child > .dropdown-toggle,
.input-group-btn:last-child > .btn:not(:last-child):not(.dropdown-toggle),
.input-group-btn:last-child > .btn-group:not(:last-child) > .btn {
  border-bottom-right-radius: 0;
  border-top-right-radius: 0;
}
.input-group-addon:first-child {
  border-right: 0;
}
.input-group .form-control:last-child,
.input-group-addon:last-child,
.input-group-btn:last-child > .btn,
.input-group-btn:last-child > .btn-group > .btn,
.input-group-btn:last-child > .dropdown-toggle,
.input-group-btn:first-child > .btn:not(:first-child),
.input-group-btn:first-child > .btn-group:not(:first-child) > .btn {
  border-bottom-left-radius: 0;
  border-top-left-radius: 0;
}
.input-group-addon:last-child {
  border-left: 0;
}
.input-group-btn {
  position: relative;
  font-size: 0;
  white-space: nowrap;
}
.input-group-btn > .btn {
  position: relative;
}
.input-group-btn > .btn + .btn {
  margin-left: -1px;
}
.input-group-btn > .btn:hover,
.input-group-btn > .btn:focus,
.input-group-btn > .btn:active {
  z-index: 2;
}
.input-group-btn:first-child > .btn,
.input-group-btn:first-child > .btn-group {
  margin-right: -1px;
}
.input-group-btn:last-child > .btn,
.input-group-btn:last-child > .btn-group {
  z-index: 2;
  margin-left: -1px;
}
.nav {
  margin-bottom: 0;
  padding-left: 0;
  list-style: none;
}
.nav > li {
  position: relative;
  display: block;
}
.nav > li > a {
  position: relative;
  display: block;
  padding: 10px 15px;
}
.nav > li > a:hover,
.nav > li > a:focus {
  text-decoration: none;
  background-color: #eeeeee;
}
.nav > li.disabled > a {
  color: #777777;
}
.nav > li.disabled > a:hover,
.nav > li.disabled > a:focus {
  color: #777777;
  text-decoration: none;
  background-color: transparent;
  cursor: not-allowed;
}
.nav .open > a,
.nav .open > a:hover,
.nav .open > a:focus {
  background-color: #eeeeee;
  border-color: #337ab7;
}
.nav .nav-divider {
  height: 1px;
  margin: 8px 0;
  overflow: hidden;
  background-color: #e5e5e5;
}
.nav > li > a > img {
  max-width: none;
}
.nav-tabs {
  border-bottom: 1px solid #ddd;
}
.nav-tabs > li {
  float: left;
  margin-bottom: -1px;
}
.nav-tabs > li > a {
  margin-right: 2px;
  line-height: 1.42857143;
  border: 1px solid transparent;
  border-radius: 2px 2px 0 0;
}
.nav-tabs > li > a:hover {
  border-color: #eeeeee #eeeeee #ddd;
}
.nav-tabs > li.active > a,
.nav-tabs > li.active > a:hover,
.nav-tabs > li.active > a:focus {
  color: #555555;
  background-color: #fff;
  border: 1px solid #ddd;
  border-bottom-color: transparent;
  cursor: default;
}
.nav-tabs.nav-justified {
  width: 100%;
  border-bottom: 0;
}
.nav-tabs.nav-justified > li {
  float: none;
}
.nav-tabs.nav-justified > li > a {
  text-align: center;
  margin-bottom: 5px;
}
.nav-tabs.nav-justified > .dropdown .dropdown-menu {
  top: auto;
  left: auto;
}
@media (min-width: 768px) {
  .nav-tabs.nav-justified > li {
    display: table-cell;
    width: 1%;
  }
  .nav-tabs.nav-justified > li > a {
    margin-bottom: 0;
  }
}
.nav-tabs.nav-justified > li > a {
  margin-right: 0;
  border-radius: 2px;
}
.nav-tabs.nav-justified > .active > a,
.nav-tabs.nav-justified > .active > a:hover,
.nav-tabs.nav-justified > .active > a:focus {
  border: 1px solid #ddd;
}
@media (min-width: 768px) {
  .nav-tabs.nav-justified > li > a {
    border-bottom: 1px solid #ddd;
    border-radius: 2px 2px 0 0;
  }
  .nav-tabs.nav-justified > .active > a,
  .nav-tabs.nav-justified > .active > a:hover,
  .nav-tabs.nav-justified > .active > a:focus {
    border-bottom-color: #fff;
  }
}
.nav-pills > li {
  float: left;
}
.nav-pills > li > a {
  border-radius: 2px;
}
.nav-pills > li + li {
  margin-left: 2px;
}
.nav-pills > li.active > a,
.nav-pills > li.active > a:hover,
.nav-pills > li.active > a:focus {
  color: #fff;
  background-color: #337ab7;
}
.nav-stacked > li {
  float: none;
}
.nav-stacked > li + li {
  margin-top: 2px;
  margin-left: 0;
}
.nav-justified {
  width: 100%;
}
.nav-justified > li {
  float: none;
}
.nav-justified > li > a {
  text-align: center;
  margin-bottom: 5px;
}
.nav-justified > .dropdown .dropdown-menu {
  top: auto;
  left: auto;
}
@media (min-width: 768px) {
  .nav-justified > li {
    display: table-cell;
    width: 1%;
  }
  .nav-justified > li > a {
    margin-bottom: 0;
  }
}
.nav-tabs-justified {
  border-bottom: 0;
}
.nav-tabs-justified > li > a {
  margin-right: 0;
  border-radius: 2px;
}
.nav-tabs-justified > .active > a,
.nav-tabs-justified > .active > a:hover,
.nav-tabs-justified > .active > a:focus {
  border: 1px solid #ddd;
}
@media (min-width: 768px) {
  .nav-tabs-justified > li > a {
    border-bottom: 1px solid #ddd;
    border-radius: 2px 2px 0 0;
  }
  .nav-tabs-justified > .active > a,
  .nav-tabs-justified > .active > a:hover,
  .nav-tabs-justified > .active > a:focus {
    border-bottom-color: #fff;
  }
}
.tab-content > .tab-pane {
  display: none;
}
.tab-content > .active {
  display: block;
}
.nav-tabs .dropdown-menu {
  margin-top: -1px;
  border-top-right-radius: 0;
  border-top-left-radius: 0;
}
.navbar {
  position: relative;
  min-height: 30px;
  margin-bottom: 18px;
  border: 1px solid transparent;
}
@media (min-width: 541px) {
  .navbar {
    border-radius: 2px;
  }
}
@media (min-width: 541px) {
  .navbar-header {
    float: left;
  }
}
.navbar-collapse {
  overflow-x: visible;
  padding-right: 0px;
  padding-left: 0px;
  border-top: 1px solid transparent;
  box-shadow: inset 0 1px 0 rgba(255, 255, 255, 0.1);
  -webkit-overflow-scrolling: touch;
}
.navbar-collapse.in {
  overflow-y: auto;
}
@media (min-width: 541px) {
  .navbar-collapse {
    width: auto;
    border-top: 0;
    box-shadow: none;
  }
  .navbar-collapse.collapse {
    display: block !important;
    height: auto !important;
    padding-bottom: 0;
    overflow: visible !important;
  }
  .navbar-collapse.in {
    overflow-y: visible;
  }
  .navbar-fixed-top .navbar-collapse,
  .navbar-static-top .navbar-collapse,
  .navbar-fixed-bottom .navbar-collapse {
    padding-left: 0;
    padding-right: 0;
  }
}
.navbar-fixed-top .navbar-collapse,
.navbar-fixed-bottom .navbar-collapse {
  max-height: 340px;
}
@media (max-device-width: 540px) and (orientation: landscape) {
  .navbar-fixed-top .navbar-collapse,
  .navbar-fixed-bottom .navbar-collapse {
    max-height: 200px;
  }
}
.container > .navbar-header,
.container-fluid > .navbar-header,
.container > .navbar-collapse,
.container-fluid > .navbar-collapse {
  margin-right: 0px;
  margin-left: 0px;
}
@media (min-width: 541px) {
  .container > .navbar-header,
  .container-fluid > .navbar-header,
  .container > .navbar-collapse,
  .container-fluid > .navbar-collapse {
    margin-right: 0;
    margin-left: 0;
  }
}
.navbar-static-top {
  z-index: 1000;
  border-width: 0 0 1px;
}
@media (min-width: 541px) {
  .navbar-static-top {
    border-radius: 0;
  }
}
.navbar-fixed-top,
.navbar-fixed-bottom {
  position: fixed;
  right: 0;
  left: 0;
  z-index: 1030;
}
@media (min-width: 541px) {
  .navbar-fixed-top,
  .navbar-fixed-bottom {
    border-radius: 0;
  }
}
.navbar-fixed-top {
  top: 0;
  border-width: 0 0 1px;
}
.navbar-fixed-bottom {
  bottom: 0;
  margin-bottom: 0;
  border-width: 1px 0 0;
}
.navbar-brand {
  float: left;
  padding: 6px 0px;
  font-size: 17px;
  line-height: 18px;
  height: 30px;
}
.navbar-brand:hover,
.navbar-brand:focus {
  text-decoration: none;
}
.navbar-brand > img {
  display: block;
}
@media (min-width: 541px) {
  .navbar > .container .navbar-brand,
  .navbar > .container-fluid .navbar-brand {
    margin-left: 0px;
  }
}
.navbar-toggle {
  position: relative;
  float: right;
  margin-right: 0px;
  padding: 9px 10px;
  margin-top: -2px;
  margin-bottom: -2px;
  background-color: transparent;
  background-image: none;
  border: 1px solid transparent;
  border-radius: 2px;
}
.navbar-toggle:focus {
  outline: 0;
}
.navbar-toggle .icon-bar {
  display: block;
  width: 22px;
  height: 2px;
  border-radius: 1px;
}
.navbar-toggle .icon-bar + .icon-bar {
  margin-top: 4px;
}
@media (min-width: 541px) {
  .navbar-toggle {
    display: none;
  }
}
.navbar-nav {
  margin: 3px 0px;
}
.navbar-nav > li > a {
  padding-top: 10px;
  padding-bottom: 10px;
  line-height: 18px;
}
@media (max-width: 540px) {
  .navbar-nav .open .dropdown-menu {
    position: static;
    float: none;
    width: auto;
    margin-top: 0;
    background-color: transparent;
    border: 0;
    box-shadow: none;
  }
  .navbar-nav .open .dropdown-menu > li > a,
  .navbar-nav .open .dropdown-menu .dropdown-header {
    padding: 5px 15px 5px 25px;
  }
  .navbar-nav .open .dropdown-menu > li > a {
    line-height: 18px;
  }
  .navbar-nav .open .dropdown-menu > li > a:hover,
  .navbar-nav .open .dropdown-menu > li > a:focus {
    background-image: none;
  }
}
@media (min-width: 541px) {
  .navbar-nav {
    float: left;
    margin: 0;
  }
  .navbar-nav > li {
    float: left;
  }
  .navbar-nav > li > a {
    padding-top: 6px;
    padding-bottom: 6px;
  }
}
.navbar-form {
  margin-left: 0px;
  margin-right: 0px;
  padding: 10px 0px;
  border-top: 1px solid transparent;
  border-bottom: 1px solid transparent;
  -webkit-box-shadow: inset 0 1px 0 rgba(255, 255, 255, 0.1), 0 1px 0 rgba(255, 255, 255, 0.1);
  box-shadow: inset 0 1px 0 rgba(255, 255, 255, 0.1), 0 1px 0 rgba(255, 255, 255, 0.1);
  margin-top: -1px;
  margin-bottom: -1px;
}
@media (min-width: 768px) {
  .navbar-form .form-group {
    display: inline-block;
    margin-bottom: 0;
    vertical-align: middle;
  }
  .navbar-form .form-control {
    display: inline-block;
    width: auto;
    vertical-align: middle;
  }
  .navbar-form .form-control-static {
    display: inline-block;
  }
  .navbar-form .input-group {
    display: inline-table;
    vertical-align: middle;
  }
  .navbar-form .input-group .input-group-addon,
  .navbar-form .input-group .input-group-btn,
  .navbar-form .input-group .form-control {
    width: auto;
  }
  .navbar-form .input-group > .form-control {
    width: 100%;
  }
  .navbar-form .control-label {
    margin-bottom: 0;
    vertical-align: middle;
  }
  .navbar-form .radio,
  .navbar-form .checkbox {
    display: inline-block;
    margin-top: 0;
    margin-bottom: 0;
    vertical-align: middle;
  }
  .navbar-form .radio label,
  .navbar-form .checkbox label {
    padding-left: 0;
  }
  .navbar-form .radio input[type="radio"],
  .navbar-form .checkbox input[type="checkbox"] {
    position: relative;
    margin-left: 0;
  }
  .navbar-form .has-feedback .form-control-feedback {
    top: 0;
  }
}
@media (max-width: 540px) {
  .navbar-form .form-group {
    margin-bottom: 5px;
  }
  .navbar-form .form-group:last-child {
    margin-bottom: 0;
  }
}
@media (min-width: 541px) {
  .navbar-form {
    width: auto;
    border: 0;
    margin-left: 0;
    margin-right: 0;
    padding-top: 0;
    padding-bottom: 0;
    -webkit-box-shadow: none;
    box-shadow: none;
  }
}
.navbar-nav > li > .dropdown-menu {
  margin-top: 0;
  border-top-right-radius: 0;
  border-top-left-radius: 0;
}
.navbar-fixed-bottom .navbar-nav > li > .dropdown-menu {
  margin-bottom: 0;
  border-top-right-radius: 2px;
  border-top-left-radius: 2px;
  border-bottom-right-radius: 0;
  border-bottom-left-radius: 0;
}
.navbar-btn {
  margin-top: -1px;
  margin-bottom: -1px;
}
.navbar-btn.btn-sm {
  margin-top: 0px;
  margin-bottom: 0px;
}
.navbar-btn.btn-xs {
  margin-top: 4px;
  margin-bottom: 4px;
}
.navbar-text {
  margin-top: 6px;
  margin-bottom: 6px;
}
@media (min-width: 541px) {
  .navbar-text {
    float: left;
    margin-left: 0px;
    margin-right: 0px;
  }
}
@media (min-width: 541px) {
  .navbar-left {
    float: left !important;
    float: left;
  }
  .navbar-right {
    float: right !important;
    float: right;
    margin-right: 0px;
  }
  .navbar-right ~ .navbar-right {
    margin-right: 0;
  }
}
.navbar-default {
  background-color: #f8f8f8;
  border-color: #e7e7e7;
}
.navbar-default .navbar-brand {
  color: #777;
}
.navbar-default .navbar-brand:hover,
.navbar-default .navbar-brand:focus {
  color: #5e5e5e;
  background-color: transparent;
}
.navbar-default .navbar-text {
  color: #777;
}
.navbar-default .navbar-nav > li > a {
  color: #777;
}
.navbar-default .navbar-nav > li > a:hover,
.navbar-default .navbar-nav > li > a:focus {
  color: #333;
  background-color: transparent;
}
.navbar-default .navbar-nav > .active > a,
.navbar-default .navbar-nav > .active > a:hover,
.navbar-default .navbar-nav > .active > a:focus {
  color: #555;
  background-color: #e7e7e7;
}
.navbar-default .navbar-nav > .disabled > a,
.navbar-default .navbar-nav > .disabled > a:hover,
.navbar-default .navbar-nav > .disabled > a:focus {
  color: #ccc;
  background-color: transparent;
}
.navbar-default .navbar-toggle {
  border-color: #ddd;
}
.navbar-default .navbar-toggle:hover,
.navbar-default .navbar-toggle:focus {
  background-color: #ddd;
}
.navbar-default .navbar-toggle .icon-bar {
  background-color: #888;
}
.navbar-default .navbar-collapse,
.navbar-default .navbar-form {
  border-color: #e7e7e7;
}
.navbar-default .navbar-nav > .open > a,
.navbar-default .navbar-nav > .open > a:hover,
.navbar-default .navbar-nav > .open > a:focus {
  background-color: #e7e7e7;
  color: #555;
}
@media (max-width: 540px) {
  .navbar-default .navbar-nav .open .dropdown-menu > li > a {
    color: #777;
  }
  .navbar-default .navbar-nav .open .dropdown-menu > li > a:hover,
  .navbar-default .navbar-nav .open .dropdown-menu > li > a:focus {
    color: #333;
    background-color: transparent;
  }
  .navbar-default .navbar-nav .open .dropdown-menu > .active > a,
  .navbar-default .navbar-nav .open .dropdown-menu > .active > a:hover,
  .navbar-default .navbar-nav .open .dropdown-menu > .active > a:focus {
    color: #555;
    background-color: #e7e7e7;
  }
  .navbar-default .navbar-nav .open .dropdown-menu > .disabled > a,
  .navbar-default .navbar-nav .open .dropdown-menu > .disabled > a:hover,
  .navbar-default .navbar-nav .open .dropdown-menu > .disabled > a:focus {
    color: #ccc;
    background-color: transparent;
  }
}
.navbar-default .navbar-link {
  color: #777;
}
.navbar-default .navbar-link:hover {
  color: #333;
}
.navbar-default .btn-link {
  color: #777;
}
.navbar-default .btn-link:hover,
.navbar-default .btn-link:focus {
  color: #333;
}
.navbar-default .btn-link[disabled]:hover,
fieldset[disabled] .navbar-default .btn-link:hover,
.navbar-default .btn-link[disabled]:focus,
fieldset[disabled] .navbar-default .btn-link:focus {
  color: #ccc;
}
.navbar-inverse {
  background-color: #222;
  border-color: #080808;
}
.navbar-inverse .navbar-brand {
  color: #9d9d9d;
}
.navbar-inverse .navbar-brand:hover,
.navbar-inverse .navbar-brand:focus {
  color: #fff;
  background-color: transparent;
}
.navbar-inverse .navbar-text {
  color: #9d9d9d;
}
.navbar-inverse .navbar-nav > li > a {
  color: #9d9d9d;
}
.navbar-inverse .navbar-nav > li > a:hover,
.navbar-inverse .navbar-nav > li > a:focus {
  color: #fff;
  background-color: transparent;
}
.navbar-inverse .navbar-nav > .active > a,
.navbar-inverse .navbar-nav > .active > a:hover,
.navbar-inverse .navbar-nav > .active > a:focus {
  color: #fff;
  background-color: #080808;
}
.navbar-inverse .navbar-nav > .disabled > a,
.navbar-inverse .navbar-nav > .disabled > a:hover,
.navbar-inverse .navbar-nav > .disabled > a:focus {
  color: #444;
  background-color: transparent;
}
.navbar-inverse .navbar-toggle {
  border-color: #333;
}
.navbar-inverse .navbar-toggle:hover,
.navbar-inverse .navbar-toggle:focus {
  background-color: #333;
}
.navbar-inverse .navbar-toggle .icon-bar {
  background-color: #fff;
}
.navbar-inverse .navbar-collapse,
.navbar-inverse .navbar-form {
  border-color: #101010;
}
.navbar-inverse .navbar-nav > .open > a,
.navbar-inverse .navbar-nav > .open > a:hover,
.navbar-inverse .navbar-nav > .open > a:focus {
  background-color: #080808;
  color: #fff;
}
@media (max-width: 540px) {
  .navbar-inverse .navbar-nav .open .dropdown-menu > .dropdown-header {
    border-color: #080808;
  }
  .navbar-inverse .navbar-nav .open .dropdown-menu .divider {
    background-color: #080808;
  }
  .navbar-inverse .navbar-nav .open .dropdown-menu > li > a {
    color: #9d9d9d;
  }
  .navbar-inverse .navbar-nav .open .dropdown-menu > li > a:hover,
  .navbar-inverse .navbar-nav .open .dropdown-menu > li > a:focus {
    color: #fff;
    background-color: transparent;
  }
  .navbar-inverse .navbar-nav .open .dropdown-menu > .active > a,
  .navbar-inverse .navbar-nav .open .dropdown-menu > .active > a:hover,
  .navbar-inverse .navbar-nav .open .dropdown-menu > .active > a:focus {
    color: #fff;
    background-color: #080808;
  }
  .navbar-inverse .navbar-nav .open .dropdown-menu > .disabled > a,
  .navbar-inverse .navbar-nav .open .dropdown-menu > .disabled > a:hover,
  .navbar-inverse .navbar-nav .open .dropdown-menu > .disabled > a:focus {
    color: #444;
    background-color: transparent;
  }
}
.navbar-inverse .navbar-link {
  color: #9d9d9d;
}
.navbar-inverse .navbar-link:hover {
  color: #fff;
}
.navbar-inverse .btn-link {
  color: #9d9d9d;
}
.navbar-inverse .btn-link:hover,
.navbar-inverse .btn-link:focus {
  color: #fff;
}
.navbar-inverse .btn-link[disabled]:hover,
fieldset[disabled] .navbar-inverse .btn-link:hover,
.navbar-inverse .btn-link[disabled]:focus,
fieldset[disabled] .navbar-inverse .btn-link:focus {
  color: #444;
}
.breadcrumb {
  padding: 8px 15px;
  margin-bottom: 18px;
  list-style: none;
  background-color: #f5f5f5;
  border-radius: 2px;
}
.breadcrumb > li {
  display: inline-block;
}
.breadcrumb > li + li:before {
  content: "/\00a0";
  padding: 0 5px;
  color: #5e5e5e;
}
.breadcrumb > .active {
  color: #777777;
}
.pagination {
  display: inline-block;
  padding-left: 0;
  margin: 18px 0;
  border-radius: 2px;
}
.pagination > li {
  display: inline;
}
.pagination > li > a,
.pagination > li > span {
  position: relative;
  float: left;
  padding: 6px 12px;
  line-height: 1.42857143;
  text-decoration: none;
  color: #337ab7;
  background-color: #fff;
  border: 1px solid #ddd;
  margin-left: -1px;
}
.pagination > li:first-child > a,
.pagination > li:first-child > span {
  margin-left: 0;
  border-bottom-left-radius: 2px;
  border-top-left-radius: 2px;
}
.pagination > li:last-child > a,
.pagination > li:last-child > span {
  border-bottom-right-radius: 2px;
  border-top-right-radius: 2px;
}
.pagination > li > a:hover,
.pagination > li > span:hover,
.pagination > li > a:focus,
.pagination > li > span:focus {
  z-index: 2;
  color: #23527c;
  background-color: #eeeeee;
  border-color: #ddd;
}
.pagination > .active > a,
.pagination > .active > span,
.pagination > .active > a:hover,
.pagination > .active > span:hover,
.pagination > .active > a:focus,
.pagination > .active > span:focus {
  z-index: 3;
  color: #fff;
  background-color: #337ab7;
  border-color: #337ab7;
  cursor: default;
}
.pagination > .disabled > span,
.pagination > .disabled > span:hover,
.pagination > .disabled > span:focus,
.pagination > .disabled > a,
.pagination > .disabled > a:hover,
.pagination > .disabled > a:focus {
  color: #777777;
  background-color: #fff;
  border-color: #ddd;
  cursor: not-allowed;
}
.pagination-lg > li > a,
.pagination-lg > li > span {
  padding: 10px 16px;
  font-size: 17px;
  line-height: 1.3333333;
}
.pagination-lg > li:first-child > a,
.pagination-lg > li:first-child > span {
  border-bottom-left-radius: 3px;
  border-top-left-radius: 3px;
}
.pagination-lg > li:last-child > a,
.pagination-lg > li:last-child > span {
  border-bottom-right-radius: 3px;
  border-top-right-radius: 3px;
}
.pagination-sm > li > a,
.pagination-sm > li > span {
  padding: 5px 10px;
  font-size: 12px;
  line-height: 1.5;
}
.pagination-sm > li:first-child > a,
.pagination-sm > li:first-child > span {
  border-bottom-left-radius: 1px;
  border-top-left-radius: 1px;
}
.pagination-sm > li:last-child > a,
.pagination-sm > li:last-child > span {
  border-bottom-right-radius: 1px;
  border-top-right-radius: 1px;
}
.pager {
  padding-left: 0;
  margin: 18px 0;
  list-style: none;
  text-align: center;
}
.pager li {
  display: inline;
}
.pager li > a,
.pager li > span {
  display: inline-block;
  padding: 5px 14px;
  background-color: #fff;
  border: 1px solid #ddd;
  border-radius: 15px;
}
.pager li > a:hover,
.pager li > a:focus {
  text-decoration: none;
  background-color: #eeeeee;
}
.pager .next > a,
.pager .next > span {
  float: right;
}
.pager .previous > a,
.pager .previous > span {
  float: left;
}
.pager .disabled > a,
.pager .disabled > a:hover,
.pager .disabled > a:focus,
.pager .disabled > span {
  color: #777777;
  background-color: #fff;
  cursor: not-allowed;
}
.label {
  display: inline;
  padding: .2em .6em .3em;
  font-size: 75%;
  font-weight: bold;
  line-height: 1;
  color: #fff;
  text-align: center;
  white-space: nowrap;
  vertical-align: baseline;
  border-radius: .25em;
}
a.label:hover,
a.label:focus {
  color: #fff;
  text-decoration: none;
  cursor: pointer;
}
.label:empty {
  display: none;
}
.btn .label {
  position: relative;
  top: -1px;
}
.label-default {
  background-color: #777777;
}
.label-default[href]:hover,
.label-default[href]:focus {
  background-color: #5e5e5e;
}
.label-primary {
  background-color: #337ab7;
}
.label-primary[href]:hover,
.label-primary[href]:focus {
  background-color: #286090;
}
.label-success {
  background-color: #5cb85c;
}
.label-success[href]:hover,
.label-success[href]:focus {
  background-color: #449d44;
}
.label-info {
  background-color: #5bc0de;
}
.label-info[href]:hover,
.label-info[href]:focus {
  background-color: #31b0d5;
}
.label-warning {
  background-color: #f0ad4e;
}
.label-warning[href]:hover,
.label-warning[href]:focus {
  background-color: #ec971f;
}
.label-danger {
  background-color: #d9534f;
}
.label-danger[href]:hover,
.label-danger[href]:focus {
  background-color: #c9302c;
}
.badge {
  display: inline-block;
  min-width: 10px;
  padding: 3px 7px;
  font-size: 12px;
  font-weight: bold;
  color: #fff;
  line-height: 1;
  vertical-align: middle;
  white-space: nowrap;
  text-align: center;
  background-color: #777777;
  border-radius: 10px;
}
.badge:empty {
  display: none;
}
.btn .badge {
  position: relative;
  top: -1px;
}
.btn-xs .badge,
.btn-group-xs > .btn .badge {
  top: 0;
  padding: 1px 5px;
}
a.badge:hover,
a.badge:focus {
  color: #fff;
  text-decoration: none;
  cursor: pointer;
}
.list-group-item.active > .badge,
.nav-pills > .active > a > .badge {
  color: #337ab7;
  background-color: #fff;
}
.list-group-item > .badge {
  float: right;
}
.list-group-item > .badge + .badge {
  margin-right: 5px;
}
.nav-pills > li > a > .badge {
  margin-left: 3px;
}
.jumbotron {
  padding-top: 30px;
  padding-bottom: 30px;
  margin-bottom: 30px;
  color: inherit;
  background-color: #eeeeee;
}
.jumbotron h1,
.jumbotron .h1 {
  color: inherit;
}
.jumbotron p {
  margin-bottom: 15px;
  font-size: 20px;
  font-weight: 200;
}
.jumbotron > hr {
  border-top-color: #d5d5d5;
}
.container .jumbotron,
.container-fluid .jumbotron {
  border-radius: 3px;
  padding-left: 0px;
  padding-right: 0px;
}
.jumbotron .container {
  max-width: 100%;
}
@media screen and (min-width: 768px) {
  .jumbotron {
    padding-top: 48px;
    padding-bottom: 48px;
  }
  .container .jumbotron,
  .container-fluid .jumbotron {
    padding-left: 60px;
    padding-right: 60px;
  }
  .jumbotron h1,
  .jumbotron .h1 {
    font-size: 59px;
  }
}
.thumbnail {
  display: block;
  padding: 4px;
  margin-bottom: 18px;
  line-height: 1.42857143;
  background-color: #fff;
  border: 1px solid #ddd;
  border-radius: 2px;
  -webkit-transition: border 0.2s ease-in-out;
  -o-transition: border 0.2s ease-in-out;
  transition: border 0.2s ease-in-out;
}
.thumbnail > img,
.thumbnail a > img {
  margin-left: auto;
  margin-right: auto;
}
a.thumbnail:hover,
a.thumbnail:focus,
a.thumbnail.active {
  border-color: #337ab7;
}
.thumbnail .caption {
  padding: 9px;
  color: #000;
}
.alert {
  padding: 15px;
  margin-bottom: 18px;
  border: 1px solid transparent;
  border-radius: 2px;
}
.alert h4 {
  margin-top: 0;
  color: inherit;
}
.alert .alert-link {
  font-weight: bold;
}
.alert > p,
.alert > ul {
  margin-bottom: 0;
}
.alert > p + p {
  margin-top: 5px;
}
.alert-dismissable,
.alert-dismissible {
  padding-right: 35px;
}
.alert-dismissable .close,
.alert-dismissible .close {
  position: relative;
  top: -2px;
  right: -21px;
  color: inherit;
}
.alert-success {
  background-color: #dff0d8;
  border-color: #d6e9c6;
  color: #3c763d;
}
.alert-success hr {
  border-top-color: #c9e2b3;
}
.alert-success .alert-link {
  color: #2b542c;
}
.alert-info {
  background-color: #d9edf7;
  border-color: #bce8f1;
  color: #31708f;
}
.alert-info hr {
  border-top-color: #a6e1ec;
}
.alert-info .alert-link {
  color: #245269;
}
.alert-warning {
  background-color: #fcf8e3;
  border-color: #faebcc;
  color: #8a6d3b;
}
.alert-warning hr {
  border-top-color: #f7e1b5;
}
.alert-warning .alert-link {
  color: #66512c;
}
.alert-danger {
  background-color: #f2dede;
  border-color: #ebccd1;
  color: #a94442;
}
.alert-danger hr {
  border-top-color: #e4b9c0;
}
.alert-danger .alert-link {
  color: #843534;
}
@-webkit-keyframes progress-bar-stripes {
  from {
    background-position: 40px 0;
  }
  to {
    background-position: 0 0;
  }
}
@keyframes progress-bar-stripes {
  from {
    background-position: 40px 0;
  }
  to {
    background-position: 0 0;
  }
}
.progress {
  overflow: hidden;
  height: 18px;
  margin-bottom: 18px;
  background-color: #f5f5f5;
  border-radius: 2px;
  -webkit-box-shadow: inset 0 1px 2px rgba(0, 0, 0, 0.1);
  box-shadow: inset 0 1px 2px rgba(0, 0, 0, 0.1);
}
.progress-bar {
  float: left;
  width: 0%;
  height: 100%;
  font-size: 12px;
  line-height: 18px;
  color: #fff;
  text-align: center;
  background-color: #337ab7;
  -webkit-box-shadow: inset 0 -1px 0 rgba(0, 0, 0, 0.15);
  box-shadow: inset 0 -1px 0 rgba(0, 0, 0, 0.15);
  -webkit-transition: width 0.6s ease;
  -o-transition: width 0.6s ease;
  transition: width 0.6s ease;
}
.progress-striped .progress-bar,
.progress-bar-striped {
  background-image: -webkit-linear-gradient(45deg, rgba(255, 255, 255, 0.15) 25%, transparent 25%, transparent 50%, rgba(255, 255, 255, 0.15) 50%, rgba(255, 255, 255, 0.15) 75%, transparent 75%, transparent);
  background-image: -o-linear-gradient(45deg, rgba(255, 255, 255, 0.15) 25%, transparent 25%, transparent 50%, rgba(255, 255, 255, 0.15) 50%, rgba(255, 255, 255, 0.15) 75%, transparent 75%, transparent);
  background-image: linear-gradient(45deg, rgba(255, 255, 255, 0.15) 25%, transparent 25%, transparent 50%, rgba(255, 255, 255, 0.15) 50%, rgba(255, 255, 255, 0.15) 75%, transparent 75%, transparent);
  background-size: 40px 40px;
}
.progress.active .progress-bar,
.progress-bar.active {
  -webkit-animation: progress-bar-stripes 2s linear infinite;
  -o-animation: progress-bar-stripes 2s linear infinite;
  animation: progress-bar-stripes 2s linear infinite;
}
.progress-bar-success {
  background-color: #5cb85c;
}
.progress-striped .progress-bar-success {
  background-image: -webkit-linear-gradient(45deg, rgba(255, 255, 255, 0.15) 25%, transparent 25%, transparent 50%, rgba(255, 255, 255, 0.15) 50%, rgba(255, 255, 255, 0.15) 75%, transparent 75%, transparent);
  background-image: -o-linear-gradient(45deg, rgba(255, 255, 255, 0.15) 25%, transparent 25%, transparent 50%, rgba(255, 255, 255, 0.15) 50%, rgba(255, 255, 255, 0.15) 75%, transparent 75%, transparent);
  background-image: linear-gradient(45deg, rgba(255, 255, 255, 0.15) 25%, transparent 25%, transparent 50%, rgba(255, 255, 255, 0.15) 50%, rgba(255, 255, 255, 0.15) 75%, transparent 75%, transparent);
}
.progress-bar-info {
  background-color: #5bc0de;
}
.progress-striped .progress-bar-info {
  background-image: -webkit-linear-gradient(45deg, rgba(255, 255, 255, 0.15) 25%, transparent 25%, transparent 50%, rgba(255, 255, 255, 0.15) 50%, rgba(255, 255, 255, 0.15) 75%, transparent 75%, transparent);
  background-image: -o-linear-gradient(45deg, rgba(255, 255, 255, 0.15) 25%, transparent 25%, transparent 50%, rgba(255, 255, 255, 0.15) 50%, rgba(255, 255, 255, 0.15) 75%, transparent 75%, transparent);
  background-image: linear-gradient(45deg, rgba(255, 255, 255, 0.15) 25%, transparent 25%, transparent 50%, rgba(255, 255, 255, 0.15) 50%, rgba(255, 255, 255, 0.15) 75%, transparent 75%, transparent);
}
.progress-bar-warning {
  background-color: #f0ad4e;
}
.progress-striped .progress-bar-warning {
  background-image: -webkit-linear-gradient(45deg, rgba(255, 255, 255, 0.15) 25%, transparent 25%, transparent 50%, rgba(255, 255, 255, 0.15) 50%, rgba(255, 255, 255, 0.15) 75%, transparent 75%, transparent);
  background-image: -o-linear-gradient(45deg, rgba(255, 255, 255, 0.15) 25%, transparent 25%, transparent 50%, rgba(255, 255, 255, 0.15) 50%, rgba(255, 255, 255, 0.15) 75%, transparent 75%, transparent);
  background-image: linear-gradient(45deg, rgba(255, 255, 255, 0.15) 25%, transparent 25%, transparent 50%, rgba(255, 255, 255, 0.15) 50%, rgba(255, 255, 255, 0.15) 75%, transparent 75%, transparent);
}
.progress-bar-danger {
  background-color: #d9534f;
}
.progress-striped .progress-bar-danger {
  background-image: -webkit-linear-gradient(45deg, rgba(255, 255, 255, 0.15) 25%, transparent 25%, transparent 50%, rgba(255, 255, 255, 0.15) 50%, rgba(255, 255, 255, 0.15) 75%, transparent 75%, transparent);
  background-image: -o-linear-gradient(45deg, rgba(255, 255, 255, 0.15) 25%, transparent 25%, transparent 50%, rgba(255, 255, 255, 0.15) 50%, rgba(255, 255, 255, 0.15) 75%, transparent 75%, transparent);
  background-image: linear-gradient(45deg, rgba(255, 255, 255, 0.15) 25%, transparent 25%, transparent 50%, rgba(255, 255, 255, 0.15) 50%, rgba(255, 255, 255, 0.15) 75%, transparent 75%, transparent);
}
.media {
  margin-top: 15px;
}
.media:first-child {
  margin-top: 0;
}
.media,
.media-body {
  zoom: 1;
  overflow: hidden;
}
.media-body {
  width: 10000px;
}
.media-object {
  display: block;
}
.media-object.img-thumbnail {
  max-width: none;
}
.media-right,
.media > .pull-right {
  padding-left: 10px;
}
.media-left,
.media > .pull-left {
  padding-right: 10px;
}
.media-left,
.media-right,
.media-body {
  display: table-cell;
  vertical-align: top;
}
.media-middle {
  vertical-align: middle;
}
.media-bottom {
  vertical-align: bottom;
}
.media-heading {
  margin-top: 0;
  margin-bottom: 5px;
}
.media-list {
  padding-left: 0;
  list-style: none;
}
.list-group {
  margin-bottom: 20px;
  padding-left: 0;
}
.list-group-item {
  position: relative;
  display: block;
  padding: 10px 15px;
  margin-bottom: -1px;
  background-color: #fff;
  border: 1px solid #ddd;
}
.list-group-item:first-child {
  border-top-right-radius: 2px;
  border-top-left-radius: 2px;
}
.list-group-item:last-child {
  margin-bottom: 0;
  border-bottom-right-radius: 2px;
  border-bottom-left-radius: 2px;
}
a.list-group-item,
button.list-group-item {
  color: #555;
}
a.list-group-item .list-group-item-heading,
button.list-group-item .list-group-item-heading {
  color: #333;
}
a.list-group-item:hover,
button.list-group-item:hover,
a.list-group-item:focus,
button.list-group-item:focus {
  text-decoration: none;
  color: #555;
  background-color: #f5f5f5;
}
button.list-group-item {
  width: 100%;
  text-align: left;
}
.list-group-item.disabled,
.list-group-item.disabled:hover,
.list-group-item.disabled:focus {
  background-color: #eeeeee;
  color: #777777;
  cursor: not-allowed;
}
.list-group-item.disabled .list-group-item-heading,
.list-group-item.disabled:hover .list-group-item-heading,
.list-group-item.disabled:focus .list-group-item-heading {
  color: inherit;
}
.list-group-item.disabled .list-group-item-text,
.list-group-item.disabled:hover .list-group-item-text,
.list-group-item.disabled:focus .list-group-item-text {
  color: #777777;
}
.list-group-item.active,
.list-group-item.active:hover,
.list-group-item.active:focus {
  z-index: 2;
  color: #fff;
  background-color: #337ab7;
  border-color: #337ab7;
}
.list-group-item.active .list-group-item-heading,
.list-group-item.active:hover .list-group-item-heading,
.list-group-item.active:focus .list-group-item-heading,
.list-group-item.active .list-group-item-heading > small,
.list-group-item.active:hover .list-group-item-heading > small,
.list-group-item.active:focus .list-group-item-heading > small,
.list-group-item.active .list-group-item-heading > .small,
.list-group-item.active:hover .list-group-item-heading > .small,
.list-group-item.active:focus .list-group-item-heading > .small {
  color: inherit;
}
.list-group-item.active .list-group-item-text,
.list-group-item.active:hover .list-group-item-text,
.list-group-item.active:focus .list-group-item-text {
  color: #c7ddef;
}
.list-group-item-success {
  color: #3c763d;
  background-color: #dff0d8;
}
a.list-group-item-success,
button.list-group-item-success {
  color: #3c763d;
}
a.list-group-item-success .list-group-item-heading,
button.list-group-item-success .list-group-item-heading {
  color: inherit;
}
a.list-group-item-success:hover,
button.list-group-item-success:hover,
a.list-group-item-success:focus,
button.list-group-item-success:focus {
  color: #3c763d;
  background-color: #d0e9c6;
}
a.list-group-item-success.active,
button.list-group-item-success.active,
a.list-group-item-success.active:hover,
button.list-group-item-success.active:hover,
a.list-group-item-success.active:focus,
button.list-group-item-success.active:focus {
  color: #fff;
  background-color: #3c763d;
  border-color: #3c763d;
}
.list-group-item-info {
  color: #31708f;
  background-color: #d9edf7;
}
a.list-group-item-info,
button.list-group-item-info {
  color: #31708f;
}
a.list-group-item-info .list-group-item-heading,
button.list-group-item-info .list-group-item-heading {
  color: inherit;
}
a.list-group-item-info:hover,
button.list-group-item-info:hover,
a.list-group-item-info:focus,
button.list-group-item-info:focus {
  color: #31708f;
  background-color: #c4e3f3;
}
a.list-group-item-info.active,
button.list-group-item-info.active,
a.list-group-item-info.active:hover,
button.list-group-item-info.active:hover,
a.list-group-item-info.active:focus,
button.list-group-item-info.active:focus {
  color: #fff;
  background-color: #31708f;
  border-color: #31708f;
}
.list-group-item-warning {
  color: #8a6d3b;
  background-color: #fcf8e3;
}
a.list-group-item-warning,
button.list-group-item-warning {
  color: #8a6d3b;
}
a.list-group-item-warning .list-group-item-heading,
button.list-group-item-warning .list-group-item-heading {
  color: inherit;
}
a.list-group-item-warning:hover,
button.list-group-item-warning:hover,
a.list-group-item-warning:focus,
button.list-group-item-warning:focus {
  color: #8a6d3b;
  background-color: #faf2cc;
}
a.list-group-item-warning.active,
button.list-group-item-warning.active,
a.list-group-item-warning.active:hover,
button.list-group-item-warning.active:hover,
a.list-group-item-warning.active:focus,
button.list-group-item-warning.active:focus {
  color: #fff;
  background-color: #8a6d3b;
  border-color: #8a6d3b;
}
.list-group-item-danger {
  color: #a94442;
  background-color: #f2dede;
}
a.list-group-item-danger,
button.list-group-item-danger {
  color: #a94442;
}
a.list-group-item-danger .list-group-item-heading,
button.list-group-item-danger .list-group-item-heading {
  color: inherit;
}
a.list-group-item-danger:hover,
button.list-group-item-danger:hover,
a.list-group-item-danger:focus,
button.list-group-item-danger:focus {
  color: #a94442;
  background-color: #ebcccc;
}
a.list-group-item-danger.active,
button.list-group-item-danger.active,
a.list-group-item-danger.active:hover,
button.list-group-item-danger.active:hover,
a.list-group-item-danger.active:focus,
button.list-group-item-danger.active:focus {
  color: #fff;
  background-color: #a94442;
  border-color: #a94442;
}
.list-group-item-heading {
  margin-top: 0;
  margin-bottom: 5px;
}
.list-group-item-text {
  margin-bottom: 0;
  line-height: 1.3;
}
.panel {
  margin-bottom: 18px;
  background-color: #fff;
  border: 1px solid transparent;
  border-radius: 2px;
  -webkit-box-shadow: 0 1px 1px rgba(0, 0, 0, 0.05);
  box-shadow: 0 1px 1px rgba(0, 0, 0, 0.05);
}
.panel-body {
  padding: 15px;
}
.panel-heading {
  padding: 10px 15px;
  border-bottom: 1px solid transparent;
  border-top-right-radius: 1px;
  border-top-left-radius: 1px;
}
.panel-heading > .dropdown .dropdown-toggle {
  color: inherit;
}
.panel-title {
  margin-top: 0;
  margin-bottom: 0;
  font-size: 15px;
  color: inherit;
}
.panel-title > a,
.panel-title > small,
.panel-title > .small,
.panel-title > small > a,
.panel-title > .small > a {
  color: inherit;
}
.panel-footer {
  padding: 10px 15px;
  background-color: #f5f5f5;
  border-top: 1px solid #ddd;
  border-bottom-right-radius: 1px;
  border-bottom-left-radius: 1px;
}
.panel > .list-group,
.panel > .panel-collapse > .list-group {
  margin-bottom: 0;
}
.panel > .list-group .list-group-item,
.panel > .panel-collapse > .list-group .list-group-item {
  border-width: 1px 0;
  border-radius: 0;
}
.panel > .list-group:first-child .list-group-item:first-child,
.panel > .panel-collapse > .list-group:first-child .list-group-item:first-child {
  border-top: 0;
  border-top-right-radius: 1px;
  border-top-left-radius: 1px;
}
.panel > .list-group:last-child .list-group-item:last-child,
.panel > .panel-collapse > .list-group:last-child .list-group-item:last-child {
  border-bottom: 0;
  border-bottom-right-radius: 1px;
  border-bottom-left-radius: 1px;
}
.panel > .panel-heading + .panel-collapse > .list-group .list-group-item:first-child {
  border-top-right-radius: 0;
  border-top-left-radius: 0;
}
.panel-heading + .list-group .list-group-item:first-child {
  border-top-width: 0;
}
.list-group + .panel-footer {
  border-top-width: 0;
}
.panel > .table,
.panel > .table-responsive > .table,
.panel > .panel-collapse > .table {
  margin-bottom: 0;
}
.panel > .table caption,
.panel > .table-responsive > .table caption,
.panel > .panel-collapse > .table caption {
  padding-left: 15px;
  padding-right: 15px;
}
.panel > .table:first-child,
.panel > .table-responsive:first-child > .table:first-child {
  border-top-right-radius: 1px;
  border-top-left-radius: 1px;
}
.panel > .table:first-child > thead:first-child > tr:first-child,
.panel > .table-responsive:first-child > .table:first-child > thead:first-child > tr:first-child,
.panel > .table:first-child > tbody:first-child > tr:first-child,
.panel > .table-responsive:first-child > .table:first-child > tbody:first-child > tr:first-child {
  border-top-left-radius: 1px;
  border-top-right-radius: 1px;
}
.panel > .table:first-child > thead:first-child > tr:first-child td:first-child,
.panel > .table-responsive:first-child > .table:first-child > thead:first-child > tr:first-child td:first-child,
.panel > .table:first-child > tbody:first-child > tr:first-child td:first-child,
.panel > .table-responsive:first-child > .table:first-child > tbody:first-child > tr:first-child td:first-child,
.panel > .table:first-child > thead:first-child > tr:first-child th:first-child,
.panel > .table-responsive:first-child > .table:first-child > thead:first-child > tr:first-child th:first-child,
.panel > .table:first-child > tbody:first-child > tr:first-child th:first-child,
.panel > .table-responsive:first-child > .table:first-child > tbody:first-child > tr:first-child th:first-child {
  border-top-left-radius: 1px;
}
.panel > .table:first-child > thead:first-child > tr:first-child td:last-child,
.panel > .table-responsive:first-child > .table:first-child > thead:first-child > tr:first-child td:last-child,
.panel > .table:first-child > tbody:first-child > tr:first-child td:last-child,
.panel > .table-responsive:first-child > .table:first-child > tbody:first-child > tr:first-child td:last-child,
.panel > .table:first-child > thead:first-child > tr:first-child th:last-child,
.panel > .table-responsive:first-child > .table:first-child > thead:first-child > tr:first-child th:last-child,
.panel > .table:first-child > tbody:first-child > tr:first-child th:last-child,
.panel > .table-responsive:first-child > .table:first-child > tbody:first-child > tr:first-child th:last-child {
  border-top-right-radius: 1px;
}
.panel > .table:last-child,
.panel > .table-responsive:last-child > .table:last-child {
  border-bottom-right-radius: 1px;
  border-bottom-left-radius: 1px;
}
.panel > .table:last-child > tbody:last-child > tr:last-child,
.panel > .table-responsive:last-child > .table:last-child > tbody:last-child > tr:last-child,
.panel > .table:last-child > tfoot:last-child > tr:last-child,
.panel > .table-responsive:last-child > .table:last-child > tfoot:last-child > tr:last-child {
  border-bottom-left-radius: 1px;
  border-bottom-right-radius: 1px;
}
.panel > .table:last-child > tbody:last-child > tr:last-child td:first-child,
.panel > .table-responsive:last-child > .table:last-child > tbody:last-child > tr:last-child td:first-child,
.panel > .table:last-child > tfoot:last-child > tr:last-child td:first-child,
.panel > .table-responsive:last-child > .table:last-child > tfoot:last-child > tr:last-child td:first-child,
.panel > .table:last-child > tbody:last-child > tr:last-child th:first-child,
.panel > .table-responsive:last-child > .table:last-child > tbody:last-child > tr:last-child th:first-child,
.panel > .table:last-child > tfoot:last-child > tr:last-child th:first-child,
.panel > .table-responsive:last-child > .table:last-child > tfoot:last-child > tr:last-child th:first-child {
  border-bottom-left-radius: 1px;
}
.panel > .table:last-child > tbody:last-child > tr:last-child td:last-child,
.panel > .table-responsive:last-child > .table:last-child > tbody:last-child > tr:last-child td:last-child,
.panel > .table:last-child > tfoot:last-child > tr:last-child td:last-child,
.panel > .table-responsive:last-child > .table:last-child > tfoot:last-child > tr:last-child td:last-child,
.panel > .table:last-child > tbody:last-child > tr:last-child th:last-child,
.panel > .table-responsive:last-child > .table:last-child > tbody:last-child > tr:last-child th:last-child,
.panel > .table:last-child > tfoot:last-child > tr:last-child th:last-child,
.panel > .table-responsive:last-child > .table:last-child > tfoot:last-child > tr:last-child th:last-child {
  border-bottom-right-radius: 1px;
}
.panel > .panel-body + .table,
.panel > .panel-body + .table-responsive,
.panel > .table + .panel-body,
.panel > .table-responsive + .panel-body {
  border-top: 1px solid #ddd;
}
.panel > .table > tbody:first-child > tr:first-child th,
.panel > .table > tbody:first-child > tr:first-child td {
  border-top: 0;
}
.panel > .table-bordered,
.panel > .table-responsive > .table-bordered {
  border: 0;
}
.panel > .table-bordered > thead > tr > th:first-child,
.panel > .table-responsive > .table-bordered > thead > tr > th:first-child,
.panel > .table-bordered > tbody > tr > th:first-child,
.panel > .table-responsive > .table-bordered > tbody > tr > th:first-child,
.panel > .table-bordered > tfoot > tr > th:first-child,
.panel > .table-responsive > .table-bordered > tfoot > tr > th:first-child,
.panel > .table-bordered > thead > tr > td:first-child,
.panel > .table-responsive > .table-bordered > thead > tr > td:first-child,
.panel > .table-bordered > tbody > tr > td:first-child,
.panel > .table-responsive > .table-bordered > tbody > tr > td:first-child,
.panel > .table-bordered > tfoot > tr > td:first-child,
.panel > .table-responsive > .table-bordered > tfoot > tr > td:first-child {
  border-left: 0;
}
.panel > .table-bordered > thead > tr > th:last-child,
.panel > .table-responsive > .table-bordered > thead > tr > th:last-child,
.panel > .table-bordered > tbody > tr > th:last-child,
.panel > .table-responsive > .table-bordered > tbody > tr > th:last-child,
.panel > .table-bordered > tfoot > tr > th:last-child,
.panel > .table-responsive > .table-bordered > tfoot > tr > th:last-child,
.panel > .table-bordered > thead > tr > td:last-child,
.panel > .table-responsive > .table-bordered > thead > tr > td:last-child,
.panel > .table-bordered > tbody > tr > td:last-child,
.panel > .table-responsive > .table-bordered > tbody > tr > td:last-child,
.panel > .table-bordered > tfoot > tr > td:last-child,
.panel > .table-responsive > .table-bordered > tfoot > tr > td:last-child {
  border-right: 0;
}
.panel > .table-bordered > thead > tr:first-child > td,
.panel > .table-responsive > .table-bordered > thead > tr:first-child > td,
.panel > .table-bordered > tbody > tr:first-child > td,
.panel > .table-responsive > .table-bordered > tbody > tr:first-child > td,
.panel > .table-bordered > thead > tr:first-child > th,
.panel > .table-responsive > .table-bordered > thead > tr:first-child > th,
.panel > .table-bordered > tbody > tr:first-child > th,
.panel > .table-responsive > .table-bordered > tbody > tr:first-child > th {
  border-bottom: 0;
}
.panel > .table-bordered > tbody > tr:last-child > td,
.panel > .table-responsive > .table-bordered > tbody > tr:last-child > td,
.panel > .table-bordered > tfoot > tr:last-child > td,
.panel > .table-responsive > .table-bordered > tfoot > tr:last-child > td,
.panel > .table-bordered > tbody > tr:last-child > th,
.panel > .table-responsive > .table-bordered > tbody > tr:last-child > th,
.panel > .table-bordered > tfoot > tr:last-child > th,
.panel > .table-responsive > .table-bordered > tfoot > tr:last-child > th {
  border-bottom: 0;
}
.panel > .table-responsive {
  border: 0;
  margin-bottom: 0;
}
.panel-group {
  margin-bottom: 18px;
}
.panel-group .panel {
  margin-bottom: 0;
  border-radius: 2px;
}
.panel-group .panel + .panel {
  margin-top: 5px;
}
.panel-group .panel-heading {
  border-bottom: 0;
}
.panel-group .panel-heading + .panel-collapse > .panel-body,
.panel-group .panel-heading + .panel-collapse > .list-group {
  border-top: 1px solid #ddd;
}
.panel-group .panel-footer {
  border-top: 0;
}
.panel-group .panel-footer + .panel-collapse .panel-body {
  border-bottom: 1px solid #ddd;
}
.panel-default {
  border-color: #ddd;
}
.panel-default > .panel-heading {
  color: #333333;
  background-color: #f5f5f5;
  border-color: #ddd;
}
.panel-default > .panel-heading + .panel-collapse > .panel-body {
  border-top-color: #ddd;
}
.panel-default > .panel-heading .badge {
  color: #f5f5f5;
  background-color: #333333;
}
.panel-default > .panel-footer + .panel-collapse > .panel-body {
  border-bottom-color: #ddd;
}
.panel-primary {
  border-color: #337ab7;
}
.panel-primary > .panel-heading {
  color: #fff;
  background-color: #337ab7;
  border-color: #337ab7;
}
.panel-primary > .panel-heading + .panel-collapse > .panel-body {
  border-top-color: #337ab7;
}
.panel-primary > .panel-heading .badge {
  color: #337ab7;
  background-color: #fff;
}
.panel-primary > .panel-footer + .panel-collapse > .panel-body {
  border-bottom-color: #337ab7;
}
.panel-success {
  border-color: #d6e9c6;
}
.panel-success > .panel-heading {
  color: #3c763d;
  background-color: #dff0d8;
  border-color: #d6e9c6;
}
.panel-success > .panel-heading + .panel-collapse > .panel-body {
  border-top-color: #d6e9c6;
}
.panel-success > .panel-heading .badge {
  color: #dff0d8;
  background-color: #3c763d;
}
.panel-success > .panel-footer + .panel-collapse > .panel-body {
  border-bottom-color: #d6e9c6;
}
.panel-info {
  border-color: #bce8f1;
}
.panel-info > .panel-heading {
  color: #31708f;
  background-color: #d9edf7;
  border-color: #bce8f1;
}
.panel-info > .panel-heading + .panel-collapse > .panel-body {
  border-top-color: #bce8f1;
}
.panel-info > .panel-heading .badge {
  color: #d9edf7;
  background-color: #31708f;
}
.panel-info > .panel-footer + .panel-collapse > .panel-body {
  border-bottom-color: #bce8f1;
}
.panel-warning {
  border-color: #faebcc;
}
.panel-warning > .panel-heading {
  color: #8a6d3b;
  background-color: #fcf8e3;
  border-color: #faebcc;
}
.panel-warning > .panel-heading + .panel-collapse > .panel-body {
  border-top-color: #faebcc;
}
.panel-warning > .panel-heading .badge {
  color: #fcf8e3;
  background-color: #8a6d3b;
}
.panel-warning > .panel-footer + .panel-collapse > .panel-body {
  border-bottom-color: #faebcc;
}
.panel-danger {
  border-color: #ebccd1;
}
.panel-danger > .panel-heading {
  color: #a94442;
  background-color: #f2dede;
  border-color: #ebccd1;
}
.panel-danger > .panel-heading + .panel-collapse > .panel-body {
  border-top-color: #ebccd1;
}
.panel-danger > .panel-heading .badge {
  color: #f2dede;
  background-color: #a94442;
}
.panel-danger > .panel-footer + .panel-collapse > .panel-body {
  border-bottom-color: #ebccd1;
}
.embed-responsive {
  position: relative;
  display: block;
  height: 0;
  padding: 0;
  overflow: hidden;
}
.embed-responsive .embed-responsive-item,
.embed-responsive iframe,
.embed-responsive embed,
.embed-responsive object,
.embed-responsive video {
  position: absolute;
  top: 0;
  left: 0;
  bottom: 0;
  height: 100%;
  width: 100%;
  border: 0;
}
.embed-responsive-16by9 {
  padding-bottom: 56.25%;
}
.embed-responsive-4by3 {
  padding-bottom: 75%;
}
.well {
  min-height: 20px;
  padding: 19px;
  margin-bottom: 20px;
  background-color: #f5f5f5;
  border: 1px solid #e3e3e3;
  border-radius: 2px;
  -webkit-box-shadow: inset 0 1px 1px rgba(0, 0, 0, 0.05);
  box-shadow: inset 0 1px 1px rgba(0, 0, 0, 0.05);
}
.well blockquote {
  border-color: #ddd;
  border-color: rgba(0, 0, 0, 0.15);
}
.well-lg {
  padding: 24px;
  border-radius: 3px;
}
.well-sm {
  padding: 9px;
  border-radius: 1px;
}
.close {
  float: right;
  font-size: 19.5px;
  font-weight: bold;
  line-height: 1;
  color: #000;
  text-shadow: 0 1px 0 #fff;
  opacity: 0.2;
  filter: alpha(opacity=20);
}
.close:hover,
.close:focus {
  color: #000;
  text-decoration: none;
  cursor: pointer;
  opacity: 0.5;
  filter: alpha(opacity=50);
}
button.close {
  padding: 0;
  cursor: pointer;
  background: transparent;
  border: 0;
  -webkit-appearance: none;
}
.modal-open {
  overflow: hidden;
}
.modal {
  display: none;
  overflow: hidden;
  position: fixed;
  top: 0;
  right: 0;
  bottom: 0;
  left: 0;
  z-index: 1050;
  -webkit-overflow-scrolling: touch;
  outline: 0;
}
.modal.fade .modal-dialog {
  -webkit-transform: translate(0, -25%);
  -ms-transform: translate(0, -25%);
  -o-transform: translate(0, -25%);
  transform: translate(0, -25%);
  -webkit-transition: -webkit-transform 0.3s ease-out;
  -moz-transition: -moz-transform 0.3s ease-out;
  -o-transition: -o-transform 0.3s ease-out;
  transition: transform 0.3s ease-out;
}
.modal.in .modal-dialog {
  -webkit-transform: translate(0, 0);
  -ms-transform: translate(0, 0);
  -o-transform: translate(0, 0);
  transform: translate(0, 0);
}
.modal-open .modal {
  overflow-x: hidden;
  overflow-y: auto;
}
.modal-dialog {
  position: relative;
  width: auto;
  margin: 10px;
}
.modal-content {
  position: relative;
  background-color: #fff;
  border: 1px solid #999;
  border: 1px solid rgba(0, 0, 0, 0.2);
  border-radius: 3px;
  -webkit-box-shadow: 0 3px 9px rgba(0, 0, 0, 0.5);
  box-shadow: 0 3px 9px rgba(0, 0, 0, 0.5);
  background-clip: padding-box;
  outline: 0;
}
.modal-backdrop {
  position: fixed;
  top: 0;
  right: 0;
  bottom: 0;
  left: 0;
  z-index: 1040;
  background-color: #000;
}
.modal-backdrop.fade {
  opacity: 0;
  filter: alpha(opacity=0);
}
.modal-backdrop.in {
  opacity: 0.5;
  filter: alpha(opacity=50);
}
.modal-header {
  padding: 15px;
  border-bottom: 1px solid #e5e5e5;
}
.modal-header .close {
  margin-top: -2px;
}
.modal-title {
  margin: 0;
  line-height: 1.42857143;
}
.modal-body {
  position: relative;
  padding: 15px;
}
.modal-footer {
  padding: 15px;
  text-align: right;
  border-top: 1px solid #e5e5e5;
}
.modal-footer .btn + .btn {
  margin-left: 5px;
  margin-bottom: 0;
}
.modal-footer .btn-group .btn + .btn {
  margin-left: -1px;
}
.modal-footer .btn-block + .btn-block {
  margin-left: 0;
}
.modal-scrollbar-measure {
  position: absolute;
  top: -9999px;
  width: 50px;
  height: 50px;
  overflow: scroll;
}
@media (min-width: 768px) {
  .modal-dialog {
    width: 600px;
    margin: 30px auto;
  }
  .modal-content {
    -webkit-box-shadow: 0 5px 15px rgba(0, 0, 0, 0.5);
    box-shadow: 0 5px 15px rgba(0, 0, 0, 0.5);
  }
  .modal-sm {
    width: 300px;
  }
}
@media (min-width: 992px) {
  .modal-lg {
    width: 900px;
  }
}
.tooltip {
  position: absolute;
  z-index: 1070;
  display: block;
  font-family: "Helvetica Neue", Helvetica, Arial, sans-serif;
  font-style: normal;
  font-weight: normal;
  letter-spacing: normal;
  line-break: auto;
  line-height: 1.42857143;
  text-align: left;
  text-align: start;
  text-decoration: none;
  text-shadow: none;
  text-transform: none;
  white-space: normal;
  word-break: normal;
  word-spacing: normal;
  word-wrap: normal;
  font-size: 12px;
  opacity: 0;
  filter: alpha(opacity=0);
}
.tooltip.in {
  opacity: 0.9;
  filter: alpha(opacity=90);
}
.tooltip.top {
  margin-top: -3px;
  padding: 5px 0;
}
.tooltip.right {
  margin-left: 3px;
  padding: 0 5px;
}
.tooltip.bottom {
  margin-top: 3px;
  padding: 5px 0;
}
.tooltip.left {
  margin-left: -3px;
  padding: 0 5px;
}
.tooltip-inner {
  max-width: 200px;
  padding: 3px 8px;
  color: #fff;
  text-align: center;
  background-color: #000;
  border-radius: 2px;
}
.tooltip-arrow {
  position: absolute;
  width: 0;
  height: 0;
  border-color: transparent;
  border-style: solid;
}
.tooltip.top .tooltip-arrow {
  bottom: 0;
  left: 50%;
  margin-left: -5px;
  border-width: 5px 5px 0;
  border-top-color: #000;
}
.tooltip.top-left .tooltip-arrow {
  bottom: 0;
  right: 5px;
  margin-bottom: -5px;
  border-width: 5px 5px 0;
  border-top-color: #000;
}
.tooltip.top-right .tooltip-arrow {
  bottom: 0;
  left: 5px;
  margin-bottom: -5px;
  border-width: 5px 5px 0;
  border-top-color: #000;
}
.tooltip.right .tooltip-arrow {
  top: 50%;
  left: 0;
  margin-top: -5px;
  border-width: 5px 5px 5px 0;
  border-right-color: #000;
}
.tooltip.left .tooltip-arrow {
  top: 50%;
  right: 0;
  margin-top: -5px;
  border-width: 5px 0 5px 5px;
  border-left-color: #000;
}
.tooltip.bottom .tooltip-arrow {
  top: 0;
  left: 50%;
  margin-left: -5px;
  border-width: 0 5px 5px;
  border-bottom-color: #000;
}
.tooltip.bottom-left .tooltip-arrow {
  top: 0;
  right: 5px;
  margin-top: -5px;
  border-width: 0 5px 5px;
  border-bottom-color: #000;
}
.tooltip.bottom-right .tooltip-arrow {
  top: 0;
  left: 5px;
  margin-top: -5px;
  border-width: 0 5px 5px;
  border-bottom-color: #000;
}
.popover {
  position: absolute;
  top: 0;
  left: 0;
  z-index: 1060;
  display: none;
  max-width: 276px;
  padding: 1px;
  font-family: "Helvetica Neue", Helvetica, Arial, sans-serif;
  font-style: normal;
  font-weight: normal;
  letter-spacing: normal;
  line-break: auto;
  line-height: 1.42857143;
  text-align: left;
  text-align: start;
  text-decoration: none;
  text-shadow: none;
  text-transform: none;
  white-space: normal;
  word-break: normal;
  word-spacing: normal;
  word-wrap: normal;
  font-size: 13px;
  background-color: #fff;
  background-clip: padding-box;
  border: 1px solid #ccc;
  border: 1px solid rgba(0, 0, 0, 0.2);
  border-radius: 3px;
  -webkit-box-shadow: 0 5px 10px rgba(0, 0, 0, 0.2);
  box-shadow: 0 5px 10px rgba(0, 0, 0, 0.2);
}
.popover.top {
  margin-top: -10px;
}
.popover.right {
  margin-left: 10px;
}
.popover.bottom {
  margin-top: 10px;
}
.popover.left {
  margin-left: -10px;
}
.popover-title {
  margin: 0;
  padding: 8px 14px;
  font-size: 13px;
  background-color: #f7f7f7;
  border-bottom: 1px solid #ebebeb;
  border-radius: 2px 2px 0 0;
}
.popover-content {
  padding: 9px 14px;
}
.popover > .arrow,
.popover > .arrow:after {
  position: absolute;
  display: block;
  width: 0;
  height: 0;
  border-color: transparent;
  border-style: solid;
}
.popover > .arrow {
  border-width: 11px;
}
.popover > .arrow:after {
  border-width: 10px;
  content: "";
}
.popover.top > .arrow {
  left: 50%;
  margin-left: -11px;
  border-bottom-width: 0;
  border-top-color: #999999;
  border-top-color: rgba(0, 0, 0, 0.25);
  bottom: -11px;
}
.popover.top > .arrow:after {
  content: " ";
  bottom: 1px;
  margin-left: -10px;
  border-bottom-width: 0;
  border-top-color: #fff;
}
.popover.right > .arrow {
  top: 50%;
  left: -11px;
  margin-top: -11px;
  border-left-width: 0;
  border-right-color: #999999;
  border-right-color: rgba(0, 0, 0, 0.25);
}
.popover.right > .arrow:after {
  content: " ";
  left: 1px;
  bottom: -10px;
  border-left-width: 0;
  border-right-color: #fff;
}
.popover.bottom > .arrow {
  left: 50%;
  margin-left: -11px;
  border-top-width: 0;
  border-bottom-color: #999999;
  border-bottom-color: rgba(0, 0, 0, 0.25);
  top: -11px;
}
.popover.bottom > .arrow:after {
  content: " ";
  top: 1px;
  margin-left: -10px;
  border-top-width: 0;
  border-bottom-color: #fff;
}
.popover.left > .arrow {
  top: 50%;
  right: -11px;
  margin-top: -11px;
  border-right-width: 0;
  border-left-color: #999999;
  border-left-color: rgba(0, 0, 0, 0.25);
}
.popover.left > .arrow:after {
  content: " ";
  right: 1px;
  border-right-width: 0;
  border-left-color: #fff;
  bottom: -10px;
}
.carousel {
  position: relative;
}
.carousel-inner {
  position: relative;
  overflow: hidden;
  width: 100%;
}
.carousel-inner > .item {
  display: none;
  position: relative;
  -webkit-transition: 0.6s ease-in-out left;
  -o-transition: 0.6s ease-in-out left;
  transition: 0.6s ease-in-out left;
}
.carousel-inner > .item > img,
.carousel-inner > .item > a > img {
  line-height: 1;
}
@media all and (transform-3d), (-webkit-transform-3d) {
  .carousel-inner > .item {
    -webkit-transition: -webkit-transform 0.6s ease-in-out;
    -moz-transition: -moz-transform 0.6s ease-in-out;
    -o-transition: -o-transform 0.6s ease-in-out;
    transition: transform 0.6s ease-in-out;
    -webkit-backface-visibility: hidden;
    -moz-backface-visibility: hidden;
    backface-visibility: hidden;
    -webkit-perspective: 1000px;
    -moz-perspective: 1000px;
    perspective: 1000px;
  }
  .carousel-inner > .item.next,
  .carousel-inner > .item.active.right {
    -webkit-transform: translate3d(100%, 0, 0);
    transform: translate3d(100%, 0, 0);
    left: 0;
  }
  .carousel-inner > .item.prev,
  .carousel-inner > .item.active.left {
    -webkit-transform: translate3d(-100%, 0, 0);
    transform: translate3d(-100%, 0, 0);
    left: 0;
  }
  .carousel-inner > .item.next.left,
  .carousel-inner > .item.prev.right,
  .carousel-inner > .item.active {
    -webkit-transform: translate3d(0, 0, 0);
    transform: translate3d(0, 0, 0);
    left: 0;
  }
}
.carousel-inner > .active,
.carousel-inner > .next,
.carousel-inner > .prev {
  display: block;
}
.carousel-inner > .active {
  left: 0;
}
.carousel-inner > .next,
.carousel-inner > .prev {
  position: absolute;
  top: 0;
  width: 100%;
}
.carousel-inner > .next {
  left: 100%;
}
.carousel-inner > .prev {
  left: -100%;
}
.carousel-inner > .next.left,
.carousel-inner > .prev.right {
  left: 0;
}
.carousel-inner > .active.left {
  left: -100%;
}
.carousel-inner > .active.right {
  left: 100%;
}
.carousel-control {
  position: absolute;
  top: 0;
  left: 0;
  bottom: 0;
  width: 15%;
  opacity: 0.5;
  filter: alpha(opacity=50);
  font-size: 20px;
  color: #fff;
  text-align: center;
  text-shadow: 0 1px 2px rgba(0, 0, 0, 0.6);
  background-color: rgba(0, 0, 0, 0);
}
.carousel-control.left {
  background-image: -webkit-linear-gradient(left, rgba(0, 0, 0, 0.5) 0%, rgba(0, 0, 0, 0.0001) 100%);
  background-image: -o-linear-gradient(left, rgba(0, 0, 0, 0.5) 0%, rgba(0, 0, 0, 0.0001) 100%);
  background-image: linear-gradient(to right, rgba(0, 0, 0, 0.5) 0%, rgba(0, 0, 0, 0.0001) 100%);
  background-repeat: repeat-x;
  filter: progid:DXImageTransform.Microsoft.gradient(startColorstr='#80000000', endColorstr='#00000000', GradientType=1);
}
.carousel-control.right {
  left: auto;
  right: 0;
  background-image: -webkit-linear-gradient(left, rgba(0, 0, 0, 0.0001) 0%, rgba(0, 0, 0, 0.5) 100%);
  background-image: -o-linear-gradient(left, rgba(0, 0, 0, 0.0001) 0%, rgba(0, 0, 0, 0.5) 100%);
  background-image: linear-gradient(to right, rgba(0, 0, 0, 0.0001) 0%, rgba(0, 0, 0, 0.5) 100%);
  background-repeat: repeat-x;
  filter: progid:DXImageTransform.Microsoft.gradient(startColorstr='#00000000', endColorstr='#80000000', GradientType=1);
}
.carousel-control:hover,
.carousel-control:focus {
  outline: 0;
  color: #fff;
  text-decoration: none;
  opacity: 0.9;
  filter: alpha(opacity=90);
}
.carousel-control .icon-prev,
.carousel-control .icon-next,
.carousel-control .glyphicon-chevron-left,
.carousel-control .glyphicon-chevron-right {
  position: absolute;
  top: 50%;
  margin-top: -10px;
  z-index: 5;
  display: inline-block;
}
.carousel-control .icon-prev,
.carousel-control .glyphicon-chevron-left {
  left: 50%;
  margin-left: -10px;
}
.carousel-control .icon-next,
.carousel-control .glyphicon-chevron-right {
  right: 50%;
  margin-right: -10px;
}
.carousel-control .icon-prev,
.carousel-control .icon-next {
  width: 20px;
  height: 20px;
  line-height: 1;
  font-family: serif;
}
.carousel-control .icon-prev:before {
  content: '\2039';
}
.carousel-control .icon-next:before {
  content: '\203a';
}
.carousel-indicators {
  position: absolute;
  bottom: 10px;
  left: 50%;
  z-index: 15;
  width: 60%;
  margin-left: -30%;
  padding-left: 0;
  list-style: none;
  text-align: center;
}
.carousel-indicators li {
  display: inline-block;
  width: 10px;
  height: 10px;
  margin: 1px;
  text-indent: -999px;
  border: 1px solid #fff;
  border-radius: 10px;
  cursor: pointer;
  background-color: #000 \9;
  background-color: rgba(0, 0, 0, 0);
}
.carousel-indicators .active {
  margin: 0;
  width: 12px;
  height: 12px;
  background-color: #fff;
}
.carousel-caption {
  position: absolute;
  left: 15%;
  right: 15%;
  bottom: 20px;
  z-index: 10;
  padding-top: 20px;
  padding-bottom: 20px;
  color: #fff;
  text-align: center;
  text-shadow: 0 1px 2px rgba(0, 0, 0, 0.6);
}
.carousel-caption .btn {
  text-shadow: none;
}
@media screen and (min-width: 768px) {
  .carousel-control .glyphicon-chevron-left,
  .carousel-control .glyphicon-chevron-right,
  .carousel-control .icon-prev,
  .carousel-control .icon-next {
    width: 30px;
    height: 30px;
    margin-top: -10px;
    font-size: 30px;
  }
  .carousel-control .glyphicon-chevron-left,
  .carousel-control .icon-prev {
    margin-left: -10px;
  }
  .carousel-control .glyphicon-chevron-right,
  .carousel-control .icon-next {
    margin-right: -10px;
  }
  .carousel-caption {
    left: 20%;
    right: 20%;
    padding-bottom: 30px;
  }
  .carousel-indicators {
    bottom: 20px;
  }
}
.clearfix:before,
.clearfix:after,
.dl-horizontal dd:before,
.dl-horizontal dd:after,
.container:before,
.container:after,
.container-fluid:before,
.container-fluid:after,
.row:before,
.row:after,
.form-horizontal .form-group:before,
.form-horizontal .form-group:after,
.btn-toolbar:before,
.btn-toolbar:after,
.btn-group-vertical > .btn-group:before,
.btn-group-vertical > .btn-group:after,
.nav:before,
.nav:after,
.navbar:before,
.navbar:after,
.navbar-header:before,
.navbar-header:after,
.navbar-collapse:before,
.navbar-collapse:after,
.pager:before,
.pager:after,
.panel-body:before,
.panel-body:after,
.modal-header:before,
.modal-header:after,
.modal-footer:before,
.modal-footer:after,
.item_buttons:before,
.item_buttons:after {
  content: " ";
  display: table;
}
.clearfix:after,
.dl-horizontal dd:after,
.container:after,
.container-fluid:after,
.row:after,
.form-horizontal .form-group:after,
.btn-toolbar:after,
.btn-group-vertical > .btn-group:after,
.nav:after,
.navbar:after,
.navbar-header:after,
.navbar-collapse:after,
.pager:after,
.panel-body:after,
.modal-header:after,
.modal-footer:after,
.item_buttons:after {
  clear: both;
}
.center-block {
  display: block;
  margin-left: auto;
  margin-right: auto;
}
.pull-right {
  float: right !important;
}
.pull-left {
  float: left !important;
}
.hide {
  display: none !important;
}
.show {
  display: block !important;
}
.invisible {
  visibility: hidden;
}
.text-hide {
  font: 0/0 a;
  color: transparent;
  text-shadow: none;
  background-color: transparent;
  border: 0;
}
.hidden {
  display: none !important;
}
.affix {
  position: fixed;
}
@-ms-viewport {
  width: device-width;
}
.visible-xs,
.visible-sm,
.visible-md,
.visible-lg {
  display: none !important;
}
.visible-xs-block,
.visible-xs-inline,
.visible-xs-inline-block,
.visible-sm-block,
.visible-sm-inline,
.visible-sm-inline-block,
.visible-md-block,
.visible-md-inline,
.visible-md-inline-block,
.visible-lg-block,
.visible-lg-inline,
.visible-lg-inline-block {
  display: none !important;
}
@media (max-width: 767px) {
  .visible-xs {
    display: block !important;
  }
  table.visible-xs {
    display: table !important;
  }
  tr.visible-xs {
    display: table-row !important;
  }
  th.visible-xs,
  td.visible-xs {
    display: table-cell !important;
  }
}
@media (max-width: 767px) {
  .visible-xs-block {
    display: block !important;
  }
}
@media (max-width: 767px) {
  .visible-xs-inline {
    display: inline !important;
  }
}
@media (max-width: 767px) {
  .visible-xs-inline-block {
    display: inline-block !important;
  }
}
@media (min-width: 768px) and (max-width: 991px) {
  .visible-sm {
    display: block !important;
  }
  table.visible-sm {
    display: table !important;
  }
  tr.visible-sm {
    display: table-row !important;
  }
  th.visible-sm,
  td.visible-sm {
    display: table-cell !important;
  }
}
@media (min-width: 768px) and (max-width: 991px) {
  .visible-sm-block {
    display: block !important;
  }
}
@media (min-width: 768px) and (max-width: 991px) {
  .visible-sm-inline {
    display: inline !important;
  }
}
@media (min-width: 768px) and (max-width: 991px) {
  .visible-sm-inline-block {
    display: inline-block !important;
  }
}
@media (min-width: 992px) and (max-width: 1199px) {
  .visible-md {
    display: block !important;
  }
  table.visible-md {
    display: table !important;
  }
  tr.visible-md {
    display: table-row !important;
  }
  th.visible-md,
  td.visible-md {
    display: table-cell !important;
  }
}
@media (min-width: 992px) and (max-width: 1199px) {
  .visible-md-block {
    display: block !important;
  }
}
@media (min-width: 992px) and (max-width: 1199px) {
  .visible-md-inline {
    display: inline !important;
  }
}
@media (min-width: 992px) and (max-width: 1199px) {
  .visible-md-inline-block {
    display: inline-block !important;
  }
}
@media (min-width: 1200px) {
  .visible-lg {
    display: block !important;
  }
  table.visible-lg {
    display: table !important;
  }
  tr.visible-lg {
    display: table-row !important;
  }
  th.visible-lg,
  td.visible-lg {
    display: table-cell !important;
  }
}
@media (min-width: 1200px) {
  .visible-lg-block {
    display: block !important;
  }
}
@media (min-width: 1200px) {
  .visible-lg-inline {
    display: inline !important;
  }
}
@media (min-width: 1200px) {
  .visible-lg-inline-block {
    display: inline-block !important;
  }
}
@media (max-width: 767px) {
  .hidden-xs {
    display: none !important;
  }
}
@media (min-width: 768px) and (max-width: 991px) {
  .hidden-sm {
    display: none !important;
  }
}
@media (min-width: 992px) and (max-width: 1199px) {
  .hidden-md {
    display: none !important;
  }
}
@media (min-width: 1200px) {
  .hidden-lg {
    display: none !important;
  }
}
.visible-print {
  display: none !important;
}
@media print {
  .visible-print {
    display: block !important;
  }
  table.visible-print {
    display: table !important;
  }
  tr.visible-print {
    display: table-row !important;
  }
  th.visible-print,
  td.visible-print {
    display: table-cell !important;
  }
}
.visible-print-block {
  display: none !important;
}
@media print {
  .visible-print-block {
    display: block !important;
  }
}
.visible-print-inline {
  display: none !important;
}
@media print {
  .visible-print-inline {
    display: inline !important;
  }
}
.visible-print-inline-block {
  display: none !important;
}
@media print {
  .visible-print-inline-block {
    display: inline-block !important;
  }
}
@media print {
  .hidden-print {
    display: none !important;
  }
}
/*!
*
* Font Awesome
*
*/
/*!
 *  Font Awesome 4.7.0 by @davegandy - http://fontawesome.io - @fontawesome
 *  License - http://fontawesome.io/license (Font: SIL OFL 1.1, CSS: MIT License)
 */
/* FONT PATH
 * -------------------------- */
@font-face {
  font-family: 'FontAwesome';
  src: url('../components/font-awesome/fonts/fontawesome-webfont.eot?v=4.7.0');
  src: url('../components/font-awesome/fonts/fontawesome-webfont.eot?#iefix&v=4.7.0') format('embedded-opentype'), url('../components/font-awesome/fonts/fontawesome-webfont.woff2?v=4.7.0') format('woff2'), url('../components/font-awesome/fonts/fontawesome-webfont.woff?v=4.7.0') format('woff'), url('../components/font-awesome/fonts/fontawesome-webfont.ttf?v=4.7.0') format('truetype'), url('../components/font-awesome/fonts/fontawesome-webfont.svg?v=4.7.0#fontawesomeregular') format('svg');
  font-weight: normal;
  font-style: normal;
}
.fa {
  display: inline-block;
  font: normal normal normal 14px/1 FontAwesome;
  font-size: inherit;
  text-rendering: auto;
  -webkit-font-smoothing: antialiased;
  -moz-osx-font-smoothing: grayscale;
}
/* makes the font 33% larger relative to the icon container */
.fa-lg {
  font-size: 1.33333333em;
  line-height: 0.75em;
  vertical-align: -15%;
}
.fa-2x {
  font-size: 2em;
}
.fa-3x {
  font-size: 3em;
}
.fa-4x {
  font-size: 4em;
}
.fa-5x {
  font-size: 5em;
}
.fa-fw {
  width: 1.28571429em;
  text-align: center;
}
.fa-ul {
  padding-left: 0;
  margin-left: 2.14285714em;
  list-style-type: none;
}
.fa-ul > li {
  position: relative;
}
.fa-li {
  position: absolute;
  left: -2.14285714em;
  width: 2.14285714em;
  top: 0.14285714em;
  text-align: center;
}
.fa-li.fa-lg {
  left: -1.85714286em;
}
.fa-border {
  padding: .2em .25em .15em;
  border: solid 0.08em #eee;
  border-radius: .1em;
}
.fa-pull-left {
  float: left;
}
.fa-pull-right {
  float: right;
}
.fa.fa-pull-left {
  margin-right: .3em;
}
.fa.fa-pull-right {
  margin-left: .3em;
}
/* Deprecated as of 4.4.0 */
.pull-right {
  float: right;
}
.pull-left {
  float: left;
}
.fa.pull-left {
  margin-right: .3em;
}
.fa.pull-right {
  margin-left: .3em;
}
.fa-spin {
  -webkit-animation: fa-spin 2s infinite linear;
  animation: fa-spin 2s infinite linear;
}
.fa-pulse {
  -webkit-animation: fa-spin 1s infinite steps(8);
  animation: fa-spin 1s infinite steps(8);
}
@-webkit-keyframes fa-spin {
  0% {
    -webkit-transform: rotate(0deg);
    transform: rotate(0deg);
  }
  100% {
    -webkit-transform: rotate(359deg);
    transform: rotate(359deg);
  }
}
@keyframes fa-spin {
  0% {
    -webkit-transform: rotate(0deg);
    transform: rotate(0deg);
  }
  100% {
    -webkit-transform: rotate(359deg);
    transform: rotate(359deg);
  }
}
.fa-rotate-90 {
  -ms-filter: "progid:DXImageTransform.Microsoft.BasicImage(rotation=1)";
  -webkit-transform: rotate(90deg);
  -ms-transform: rotate(90deg);
  transform: rotate(90deg);
}
.fa-rotate-180 {
  -ms-filter: "progid:DXImageTransform.Microsoft.BasicImage(rotation=2)";
  -webkit-transform: rotate(180deg);
  -ms-transform: rotate(180deg);
  transform: rotate(180deg);
}
.fa-rotate-270 {
  -ms-filter: "progid:DXImageTransform.Microsoft.BasicImage(rotation=3)";
  -webkit-transform: rotate(270deg);
  -ms-transform: rotate(270deg);
  transform: rotate(270deg);
}
.fa-flip-horizontal {
  -ms-filter: "progid:DXImageTransform.Microsoft.BasicImage(rotation=0, mirror=1)";
  -webkit-transform: scale(-1, 1);
  -ms-transform: scale(-1, 1);
  transform: scale(-1, 1);
}
.fa-flip-vertical {
  -ms-filter: "progid:DXImageTransform.Microsoft.BasicImage(rotation=2, mirror=1)";
  -webkit-transform: scale(1, -1);
  -ms-transform: scale(1, -1);
  transform: scale(1, -1);
}
:root .fa-rotate-90,
:root .fa-rotate-180,
:root .fa-rotate-270,
:root .fa-flip-horizontal,
:root .fa-flip-vertical {
  filter: none;
}
.fa-stack {
  position: relative;
  display: inline-block;
  width: 2em;
  height: 2em;
  line-height: 2em;
  vertical-align: middle;
}
.fa-stack-1x,
.fa-stack-2x {
  position: absolute;
  left: 0;
  width: 100%;
  text-align: center;
}
.fa-stack-1x {
  line-height: inherit;
}
.fa-stack-2x {
  font-size: 2em;
}
.fa-inverse {
  color: #fff;
}
/* Font Awesome uses the Unicode Private Use Area (PUA) to ensure screen
   readers do not read off random characters that represent icons */
.fa-glass:before {
  content: "\f000";
}
.fa-music:before {
  content: "\f001";
}
.fa-search:before {
  content: "\f002";
}
.fa-envelope-o:before {
  content: "\f003";
}
.fa-heart:before {
  content: "\f004";
}
.fa-star:before {
  content: "\f005";
}
.fa-star-o:before {
  content: "\f006";
}
.fa-user:before {
  content: "\f007";
}
.fa-film:before {
  content: "\f008";
}
.fa-th-large:before {
  content: "\f009";
}
.fa-th:before {
  content: "\f00a";
}
.fa-th-list:before {
  content: "\f00b";
}
.fa-check:before {
  content: "\f00c";
}
.fa-remove:before,
.fa-close:before,
.fa-times:before {
  content: "\f00d";
}
.fa-search-plus:before {
  content: "\f00e";
}
.fa-search-minus:before {
  content: "\f010";
}
.fa-power-off:before {
  content: "\f011";
}
.fa-signal:before {
  content: "\f012";
}
.fa-gear:before,
.fa-cog:before {
  content: "\f013";
}
.fa-trash-o:before {
  content: "\f014";
}
.fa-home:before {
  content: "\f015";
}
.fa-file-o:before {
  content: "\f016";
}
.fa-clock-o:before {
  content: "\f017";
}
.fa-road:before {
  content: "\f018";
}
.fa-download:before {
  content: "\f019";
}
.fa-arrow-circle-o-down:before {
  content: "\f01a";
}
.fa-arrow-circle-o-up:before {
  content: "\f01b";
}
.fa-inbox:before {
  content: "\f01c";
}
.fa-play-circle-o:before {
  content: "\f01d";
}
.fa-rotate-right:before,
.fa-repeat:before {
  content: "\f01e";
}
.fa-refresh:before {
  content: "\f021";
}
.fa-list-alt:before {
  content: "\f022";
}
.fa-lock:before {
  content: "\f023";
}
.fa-flag:before {
  content: "\f024";
}
.fa-headphones:before {
  content: "\f025";
}
.fa-volume-off:before {
  content: "\f026";
}
.fa-volume-down:before {
  content: "\f027";
}
.fa-volume-up:before {
  content: "\f028";
}
.fa-qrcode:before {
  content: "\f029";
}
.fa-barcode:before {
  content: "\f02a";
}
.fa-tag:before {
  content: "\f02b";
}
.fa-tags:before {
  content: "\f02c";
}
.fa-book:before {
  content: "\f02d";
}
.fa-bookmark:before {
  content: "\f02e";
}
.fa-print:before {
  content: "\f02f";
}
.fa-camera:before {
  content: "\f030";
}
.fa-font:before {
  content: "\f031";
}
.fa-bold:before {
  content: "\f032";
}
.fa-italic:before {
  content: "\f033";
}
.fa-text-height:before {
  content: "\f034";
}
.fa-text-width:before {
  content: "\f035";
}
.fa-align-left:before {
  content: "\f036";
}
.fa-align-center:before {
  content: "\f037";
}
.fa-align-right:before {
  content: "\f038";
}
.fa-align-justify:before {
  content: "\f039";
}
.fa-list:before {
  content: "\f03a";
}
.fa-dedent:before,
.fa-outdent:before {
  content: "\f03b";
}
.fa-indent:before {
  content: "\f03c";
}
.fa-video-camera:before {
  content: "\f03d";
}
.fa-photo:before,
.fa-image:before,
.fa-picture-o:before {
  content: "\f03e";
}
.fa-pencil:before {
  content: "\f040";
}
.fa-map-marker:before {
  content: "\f041";
}
.fa-adjust:before {
  content: "\f042";
}
.fa-tint:before {
  content: "\f043";
}
.fa-edit:before,
.fa-pencil-square-o:before {
  content: "\f044";
}
.fa-share-square-o:before {
  content: "\f045";
}
.fa-check-square-o:before {
  content: "\f046";
}
.fa-arrows:before {
  content: "\f047";
}
.fa-step-backward:before {
  content: "\f048";
}
.fa-fast-backward:before {
  content: "\f049";
}
.fa-backward:before {
  content: "\f04a";
}
.fa-play:before {
  content: "\f04b";
}
.fa-pause:before {
  content: "\f04c";
}
.fa-stop:before {
  content: "\f04d";
}
.fa-forward:before {
  content: "\f04e";
}
.fa-fast-forward:before {
  content: "\f050";
}
.fa-step-forward:before {
  content: "\f051";
}
.fa-eject:before {
  content: "\f052";
}
.fa-chevron-left:before {
  content: "\f053";
}
.fa-chevron-right:before {
  content: "\f054";
}
.fa-plus-circle:before {
  content: "\f055";
}
.fa-minus-circle:before {
  content: "\f056";
}
.fa-times-circle:before {
  content: "\f057";
}
.fa-check-circle:before {
  content: "\f058";
}
.fa-question-circle:before {
  content: "\f059";
}
.fa-info-circle:before {
  content: "\f05a";
}
.fa-crosshairs:before {
  content: "\f05b";
}
.fa-times-circle-o:before {
  content: "\f05c";
}
.fa-check-circle-o:before {
  content: "\f05d";
}
.fa-ban:before {
  content: "\f05e";
}
.fa-arrow-left:before {
  content: "\f060";
}
.fa-arrow-right:before {
  content: "\f061";
}
.fa-arrow-up:before {
  content: "\f062";
}
.fa-arrow-down:before {
  content: "\f063";
}
.fa-mail-forward:before,
.fa-share:before {
  content: "\f064";
}
.fa-expand:before {
  content: "\f065";
}
.fa-compress:before {
  content: "\f066";
}
.fa-plus:before {
  content: "\f067";
}
.fa-minus:before {
  content: "\f068";
}
.fa-asterisk:before {
  content: "\f069";
}
.fa-exclamation-circle:before {
  content: "\f06a";
}
.fa-gift:before {
  content: "\f06b";
}
.fa-leaf:before {
  content: "\f06c";
}
.fa-fire:before {
  content: "\f06d";
}
.fa-eye:before {
  content: "\f06e";
}
.fa-eye-slash:before {
  content: "\f070";
}
.fa-warning:before,
.fa-exclamation-triangle:before {
  content: "\f071";
}
.fa-plane:before {
  content: "\f072";
}
.fa-calendar:before {
  content: "\f073";
}
.fa-random:before {
  content: "\f074";
}
.fa-comment:before {
  content: "\f075";
}
.fa-magnet:before {
  content: "\f076";
}
.fa-chevron-up:before {
  content: "\f077";
}
.fa-chevron-down:before {
  content: "\f078";
}
.fa-retweet:before {
  content: "\f079";
}
.fa-shopping-cart:before {
  content: "\f07a";
}
.fa-folder:before {
  content: "\f07b";
}
.fa-folder-open:before {
  content: "\f07c";
}
.fa-arrows-v:before {
  content: "\f07d";
}
.fa-arrows-h:before {
  content: "\f07e";
}
.fa-bar-chart-o:before,
.fa-bar-chart:before {
  content: "\f080";
}
.fa-twitter-square:before {
  content: "\f081";
}
.fa-facebook-square:before {
  content: "\f082";
}
.fa-camera-retro:before {
  content: "\f083";
}
.fa-key:before {
  content: "\f084";
}
.fa-gears:before,
.fa-cogs:before {
  content: "\f085";
}
.fa-comments:before {
  content: "\f086";
}
.fa-thumbs-o-up:before {
  content: "\f087";
}
.fa-thumbs-o-down:before {
  content: "\f088";
}
.fa-star-half:before {
  content: "\f089";
}
.fa-heart-o:before {
  content: "\f08a";
}
.fa-sign-out:before {
  content: "\f08b";
}
.fa-linkedin-square:before {
  content: "\f08c";
}
.fa-thumb-tack:before {
  content: "\f08d";
}
.fa-external-link:before {
  content: "\f08e";
}
.fa-sign-in:before {
  content: "\f090";
}
.fa-trophy:before {
  content: "\f091";
}
.fa-github-square:before {
  content: "\f092";
}
.fa-upload:before {
  content: "\f093";
}
.fa-lemon-o:before {
  content: "\f094";
}
.fa-phone:before {
  content: "\f095";
}
.fa-square-o:before {
  content: "\f096";
}
.fa-bookmark-o:before {
  content: "\f097";
}
.fa-phone-square:before {
  content: "\f098";
}
.fa-twitter:before {
  content: "\f099";
}
.fa-facebook-f:before,
.fa-facebook:before {
  content: "\f09a";
}
.fa-github:before {
  content: "\f09b";
}
.fa-unlock:before {
  content: "\f09c";
}
.fa-credit-card:before {
  content: "\f09d";
}
.fa-feed:before,
.fa-rss:before {
  content: "\f09e";
}
.fa-hdd-o:before {
  content: "\f0a0";
}
.fa-bullhorn:before {
  content: "\f0a1";
}
.fa-bell:before {
  content: "\f0f3";
}
.fa-certificate:before {
  content: "\f0a3";
}
.fa-hand-o-right:before {
  content: "\f0a4";
}
.fa-hand-o-left:before {
  content: "\f0a5";
}
.fa-hand-o-up:before {
  content: "\f0a6";
}
.fa-hand-o-down:before {
  content: "\f0a7";
}
.fa-arrow-circle-left:before {
  content: "\f0a8";
}
.fa-arrow-circle-right:before {
  content: "\f0a9";
}
.fa-arrow-circle-up:before {
  content: "\f0aa";
}
.fa-arrow-circle-down:before {
  content: "\f0ab";
}
.fa-globe:before {
  content: "\f0ac";
}
.fa-wrench:before {
  content: "\f0ad";
}
.fa-tasks:before {
  content: "\f0ae";
}
.fa-filter:before {
  content: "\f0b0";
}
.fa-briefcase:before {
  content: "\f0b1";
}
.fa-arrows-alt:before {
  content: "\f0b2";
}
.fa-group:before,
.fa-users:before {
  content: "\f0c0";
}
.fa-chain:before,
.fa-link:before {
  content: "\f0c1";
}
.fa-cloud:before {
  content: "\f0c2";
}
.fa-flask:before {
  content: "\f0c3";
}
.fa-cut:before,
.fa-scissors:before {
  content: "\f0c4";
}
.fa-copy:before,
.fa-files-o:before {
  content: "\f0c5";
}
.fa-paperclip:before {
  content: "\f0c6";
}
.fa-save:before,
.fa-floppy-o:before {
  content: "\f0c7";
}
.fa-square:before {
  content: "\f0c8";
}
.fa-navicon:before,
.fa-reorder:before,
.fa-bars:before {
  content: "\f0c9";
}
.fa-list-ul:before {
  content: "\f0ca";
}
.fa-list-ol:before {
  content: "\f0cb";
}
.fa-strikethrough:before {
  content: "\f0cc";
}
.fa-underline:before {
  content: "\f0cd";
}
.fa-table:before {
  content: "\f0ce";
}
.fa-magic:before {
  content: "\f0d0";
}
.fa-truck:before {
  content: "\f0d1";
}
.fa-pinterest:before {
  content: "\f0d2";
}
.fa-pinterest-square:before {
  content: "\f0d3";
}
.fa-google-plus-square:before {
  content: "\f0d4";
}
.fa-google-plus:before {
  content: "\f0d5";
}
.fa-money:before {
  content: "\f0d6";
}
.fa-caret-down:before {
  content: "\f0d7";
}
.fa-caret-up:before {
  content: "\f0d8";
}
.fa-caret-left:before {
  content: "\f0d9";
}
.fa-caret-right:before {
  content: "\f0da";
}
.fa-columns:before {
  content: "\f0db";
}
.fa-unsorted:before,
.fa-sort:before {
  content: "\f0dc";
}
.fa-sort-down:before,
.fa-sort-desc:before {
  content: "\f0dd";
}
.fa-sort-up:before,
.fa-sort-asc:before {
  content: "\f0de";
}
.fa-envelope:before {
  content: "\f0e0";
}
.fa-linkedin:before {
  content: "\f0e1";
}
.fa-rotate-left:before,
.fa-undo:before {
  content: "\f0e2";
}
.fa-legal:before,
.fa-gavel:before {
  content: "\f0e3";
}
.fa-dashboard:before,
.fa-tachometer:before {
  content: "\f0e4";
}
.fa-comment-o:before {
  content: "\f0e5";
}
.fa-comments-o:before {
  content: "\f0e6";
}
.fa-flash:before,
.fa-bolt:before {
  content: "\f0e7";
}
.fa-sitemap:before {
  content: "\f0e8";
}
.fa-umbrella:before {
  content: "\f0e9";
}
.fa-paste:before,
.fa-clipboard:before {
  content: "\f0ea";
}
.fa-lightbulb-o:before {
  content: "\f0eb";
}
.fa-exchange:before {
  content: "\f0ec";
}
.fa-cloud-download:before {
  content: "\f0ed";
}
.fa-cloud-upload:before {
  content: "\f0ee";
}
.fa-user-md:before {
  content: "\f0f0";
}
.fa-stethoscope:before {
  content: "\f0f1";
}
.fa-suitcase:before {
  content: "\f0f2";
}
.fa-bell-o:before {
  content: "\f0a2";
}
.fa-coffee:before {
  content: "\f0f4";
}
.fa-cutlery:before {
  content: "\f0f5";
}
.fa-file-text-o:before {
  content: "\f0f6";
}
.fa-building-o:before {
  content: "\f0f7";
}
.fa-hospital-o:before {
  content: "\f0f8";
}
.fa-ambulance:before {
  content: "\f0f9";
}
.fa-medkit:before {
  content: "\f0fa";
}
.fa-fighter-jet:before {
  content: "\f0fb";
}
.fa-beer:before {
  content: "\f0fc";
}
.fa-h-square:before {
  content: "\f0fd";
}
.fa-plus-square:before {
  content: "\f0fe";
}
.fa-angle-double-left:before {
  content: "\f100";
}
.fa-angle-double-right:before {
  content: "\f101";
}
.fa-angle-double-up:before {
  content: "\f102";
}
.fa-angle-double-down:before {
  content: "\f103";
}
.fa-angle-left:before {
  content: "\f104";
}
.fa-angle-right:before {
  content: "\f105";
}
.fa-angle-up:before {
  content: "\f106";
}
.fa-angle-down:before {
  content: "\f107";
}
.fa-desktop:before {
  content: "\f108";
}
.fa-laptop:before {
  content: "\f109";
}
.fa-tablet:before {
  content: "\f10a";
}
.fa-mobile-phone:before,
.fa-mobile:before {
  content: "\f10b";
}
.fa-circle-o:before {
  content: "\f10c";
}
.fa-quote-left:before {
  content: "\f10d";
}
.fa-quote-right:before {
  content: "\f10e";
}
.fa-spinner:before {
  content: "\f110";
}
.fa-circle:before {
  content: "\f111";
}
.fa-mail-reply:before,
.fa-reply:before {
  content: "\f112";
}
.fa-github-alt:before {
  content: "\f113";
}
.fa-folder-o:before {
  content: "\f114";
}
.fa-folder-open-o:before {
  content: "\f115";
}
.fa-smile-o:before {
  content: "\f118";
}
.fa-frown-o:before {
  content: "\f119";
}
.fa-meh-o:before {
  content: "\f11a";
}
.fa-gamepad:before {
  content: "\f11b";
}
.fa-keyboard-o:before {
  content: "\f11c";
}
.fa-flag-o:before {
  content: "\f11d";
}
.fa-flag-checkered:before {
  content: "\f11e";
}
.fa-terminal:before {
  content: "\f120";
}
.fa-code:before {
  content: "\f121";
}
.fa-mail-reply-all:before,
.fa-reply-all:before {
  content: "\f122";
}
.fa-star-half-empty:before,
.fa-star-half-full:before,
.fa-star-half-o:before {
  content: "\f123";
}
.fa-location-arrow:before {
  content: "\f124";
}
.fa-crop:before {
  content: "\f125";
}
.fa-code-fork:before {
  content: "\f126";
}
.fa-unlink:before,
.fa-chain-broken:before {
  content: "\f127";
}
.fa-question:before {
  content: "\f128";
}
.fa-info:before {
  content: "\f129";
}
.fa-exclamation:before {
  content: "\f12a";
}
.fa-superscript:before {
  content: "\f12b";
}
.fa-subscript:before {
  content: "\f12c";
}
.fa-eraser:before {
  content: "\f12d";
}
.fa-puzzle-piece:before {
  content: "\f12e";
}
.fa-microphone:before {
  content: "\f130";
}
.fa-microphone-slash:before {
  content: "\f131";
}
.fa-shield:before {
  content: "\f132";
}
.fa-calendar-o:before {
  content: "\f133";
}
.fa-fire-extinguisher:before {
  content: "\f134";
}
.fa-rocket:before {
  content: "\f135";
}
.fa-maxcdn:before {
  content: "\f136";
}
.fa-chevron-circle-left:before {
  content: "\f137";
}
.fa-chevron-circle-right:before {
  content: "\f138";
}
.fa-chevron-circle-up:before {
  content: "\f139";
}
.fa-chevron-circle-down:before {
  content: "\f13a";
}
.fa-html5:before {
  content: "\f13b";
}
.fa-css3:before {
  content: "\f13c";
}
.fa-anchor:before {
  content: "\f13d";
}
.fa-unlock-alt:before {
  content: "\f13e";
}
.fa-bullseye:before {
  content: "\f140";
}
.fa-ellipsis-h:before {
  content: "\f141";
}
.fa-ellipsis-v:before {
  content: "\f142";
}
.fa-rss-square:before {
  content: "\f143";
}
.fa-play-circle:before {
  content: "\f144";
}
.fa-ticket:before {
  content: "\f145";
}
.fa-minus-square:before {
  content: "\f146";
}
.fa-minus-square-o:before {
  content: "\f147";
}
.fa-level-up:before {
  content: "\f148";
}
.fa-level-down:before {
  content: "\f149";
}
.fa-check-square:before {
  content: "\f14a";
}
.fa-pencil-square:before {
  content: "\f14b";
}
.fa-external-link-square:before {
  content: "\f14c";
}
.fa-share-square:before {
  content: "\f14d";
}
.fa-compass:before {
  content: "\f14e";
}
.fa-toggle-down:before,
.fa-caret-square-o-down:before {
  content: "\f150";
}
.fa-toggle-up:before,
.fa-caret-square-o-up:before {
  content: "\f151";
}
.fa-toggle-right:before,
.fa-caret-square-o-right:before {
  content: "\f152";
}
.fa-euro:before,
.fa-eur:before {
  content: "\f153";
}
.fa-gbp:before {
  content: "\f154";
}
.fa-dollar:before,
.fa-usd:before {
  content: "\f155";
}
.fa-rupee:before,
.fa-inr:before {
  content: "\f156";
}
.fa-cny:before,
.fa-rmb:before,
.fa-yen:before,
.fa-jpy:before {
  content: "\f157";
}
.fa-ruble:before,
.fa-rouble:before,
.fa-rub:before {
  content: "\f158";
}
.fa-won:before,
.fa-krw:before {
  content: "\f159";
}
.fa-bitcoin:before,
.fa-btc:before {
  content: "\f15a";
}
.fa-file:before {
  content: "\f15b";
}
.fa-file-text:before {
  content: "\f15c";
}
.fa-sort-alpha-asc:before {
  content: "\f15d";
}
.fa-sort-alpha-desc:before {
  content: "\f15e";
}
.fa-sort-amount-asc:before {
  content: "\f160";
}
.fa-sort-amount-desc:before {
  content: "\f161";
}
.fa-sort-numeric-asc:before {
  content: "\f162";
}
.fa-sort-numeric-desc:before {
  content: "\f163";
}
.fa-thumbs-up:before {
  content: "\f164";
}
.fa-thumbs-down:before {
  content: "\f165";
}
.fa-youtube-square:before {
  content: "\f166";
}
.fa-youtube:before {
  content: "\f167";
}
.fa-xing:before {
  content: "\f168";
}
.fa-xing-square:before {
  content: "\f169";
}
.fa-youtube-play:before {
  content: "\f16a";
}
.fa-dropbox:before {
  content: "\f16b";
}
.fa-stack-overflow:before {
  content: "\f16c";
}
.fa-instagram:before {
  content: "\f16d";
}
.fa-flickr:before {
  content: "\f16e";
}
.fa-adn:before {
  content: "\f170";
}
.fa-bitbucket:before {
  content: "\f171";
}
.fa-bitbucket-square:before {
  content: "\f172";
}
.fa-tumblr:before {
  content: "\f173";
}
.fa-tumblr-square:before {
  content: "\f174";
}
.fa-long-arrow-down:before {
  content: "\f175";
}
.fa-long-arrow-up:before {
  content: "\f176";
}
.fa-long-arrow-left:before {
  content: "\f177";
}
.fa-long-arrow-right:before {
  content: "\f178";
}
.fa-apple:before {
  content: "\f179";
}
.fa-windows:before {
  content: "\f17a";
}
.fa-android:before {
  content: "\f17b";
}
.fa-linux:before {
  content: "\f17c";
}
.fa-dribbble:before {
  content: "\f17d";
}
.fa-skype:before {
  content: "\f17e";
}
.fa-foursquare:before {
  content: "\f180";
}
.fa-trello:before {
  content: "\f181";
}
.fa-female:before {
  content: "\f182";
}
.fa-male:before {
  content: "\f183";
}
.fa-gittip:before,
.fa-gratipay:before {
  content: "\f184";
}
.fa-sun-o:before {
  content: "\f185";
}
.fa-moon-o:before {
  content: "\f186";
}
.fa-archive:before {
  content: "\f187";
}
.fa-bug:before {
  content: "\f188";
}
.fa-vk:before {
  content: "\f189";
}
.fa-weibo:before {
  content: "\f18a";
}
.fa-renren:before {
  content: "\f18b";
}
.fa-pagelines:before {
  content: "\f18c";
}
.fa-stack-exchange:before {
  content: "\f18d";
}
.fa-arrow-circle-o-right:before {
  content: "\f18e";
}
.fa-arrow-circle-o-left:before {
  content: "\f190";
}
.fa-toggle-left:before,
.fa-caret-square-o-left:before {
  content: "\f191";
}
.fa-dot-circle-o:before {
  content: "\f192";
}
.fa-wheelchair:before {
  content: "\f193";
}
.fa-vimeo-square:before {
  content: "\f194";
}
.fa-turkish-lira:before,
.fa-try:before {
  content: "\f195";
}
.fa-plus-square-o:before {
  content: "\f196";
}
.fa-space-shuttle:before {
  content: "\f197";
}
.fa-slack:before {
  content: "\f198";
}
.fa-envelope-square:before {
  content: "\f199";
}
.fa-wordpress:before {
  content: "\f19a";
}
.fa-openid:before {
  content: "\f19b";
}
.fa-institution:before,
.fa-bank:before,
.fa-university:before {
  content: "\f19c";
}
.fa-mortar-board:before,
.fa-graduation-cap:before {
  content: "\f19d";
}
.fa-yahoo:before {
  content: "\f19e";
}
.fa-google:before {
  content: "\f1a0";
}
.fa-reddit:before {
  content: "\f1a1";
}
.fa-reddit-square:before {
  content: "\f1a2";
}
.fa-stumbleupon-circle:before {
  content: "\f1a3";
}
.fa-stumbleupon:before {
  content: "\f1a4";
}
.fa-delicious:before {
  content: "\f1a5";
}
.fa-digg:before {
  content: "\f1a6";
}
.fa-pied-piper-pp:before {
  content: "\f1a7";
}
.fa-pied-piper-alt:before {
  content: "\f1a8";
}
.fa-drupal:before {
  content: "\f1a9";
}
.fa-joomla:before {
  content: "\f1aa";
}
.fa-language:before {
  content: "\f1ab";
}
.fa-fax:before {
  content: "\f1ac";
}
.fa-building:before {
  content: "\f1ad";
}
.fa-child:before {
  content: "\f1ae";
}
.fa-paw:before {
  content: "\f1b0";
}
.fa-spoon:before {
  content: "\f1b1";
}
.fa-cube:before {
  content: "\f1b2";
}
.fa-cubes:before {
  content: "\f1b3";
}
.fa-behance:before {
  content: "\f1b4";
}
.fa-behance-square:before {
  content: "\f1b5";
}
.fa-steam:before {
  content: "\f1b6";
}
.fa-steam-square:before {
  content: "\f1b7";
}
.fa-recycle:before {
  content: "\f1b8";
}
.fa-automobile:before,
.fa-car:before {
  content: "\f1b9";
}
.fa-cab:before,
.fa-taxi:before {
  content: "\f1ba";
}
.fa-tree:before {
  content: "\f1bb";
}
.fa-spotify:before {
  content: "\f1bc";
}
.fa-deviantart:before {
  content: "\f1bd";
}
.fa-soundcloud:before {
  content: "\f1be";
}
.fa-database:before {
  content: "\f1c0";
}
.fa-file-pdf-o:before {
  content: "\f1c1";
}
.fa-file-word-o:before {
  content: "\f1c2";
}
.fa-file-excel-o:before {
  content: "\f1c3";
}
.fa-file-powerpoint-o:before {
  content: "\f1c4";
}
.fa-file-photo-o:before,
.fa-file-picture-o:before,
.fa-file-image-o:before {
  content: "\f1c5";
}
.fa-file-zip-o:before,
.fa-file-archive-o:before {
  content: "\f1c6";
}
.fa-file-sound-o:before,
.fa-file-audio-o:before {
  content: "\f1c7";
}
.fa-file-movie-o:before,
.fa-file-video-o:before {
  content: "\f1c8";
}
.fa-file-code-o:before {
  content: "\f1c9";
}
.fa-vine:before {
  content: "\f1ca";
}
.fa-codepen:before {
  content: "\f1cb";
}
.fa-jsfiddle:before {
  content: "\f1cc";
}
.fa-life-bouy:before,
.fa-life-buoy:before,
.fa-life-saver:before,
.fa-support:before,
.fa-life-ring:before {
  content: "\f1cd";
}
.fa-circle-o-notch:before {
  content: "\f1ce";
}
.fa-ra:before,
.fa-resistance:before,
.fa-rebel:before {
  content: "\f1d0";
}
.fa-ge:before,
.fa-empire:before {
  content: "\f1d1";
}
.fa-git-square:before {
  content: "\f1d2";
}
.fa-git:before {
  content: "\f1d3";
}
.fa-y-combinator-square:before,
.fa-yc-square:before,
.fa-hacker-news:before {
  content: "\f1d4";
}
.fa-tencent-weibo:before {
  content: "\f1d5";
}
.fa-qq:before {
  content: "\f1d6";
}
.fa-wechat:before,
.fa-weixin:before {
  content: "\f1d7";
}
.fa-send:before,
.fa-paper-plane:before {
  content: "\f1d8";
}
.fa-send-o:before,
.fa-paper-plane-o:before {
  content: "\f1d9";
}
.fa-history:before {
  content: "\f1da";
}
.fa-circle-thin:before {
  content: "\f1db";
}
.fa-header:before {
  content: "\f1dc";
}
.fa-paragraph:before {
  content: "\f1dd";
}
.fa-sliders:before {
  content: "\f1de";
}
.fa-share-alt:before {
  content: "\f1e0";
}
.fa-share-alt-square:before {
  content: "\f1e1";
}
.fa-bomb:before {
  content: "\f1e2";
}
.fa-soccer-ball-o:before,
.fa-futbol-o:before {
  content: "\f1e3";
}
.fa-tty:before {
  content: "\f1e4";
}
.fa-binoculars:before {
  content: "\f1e5";
}
.fa-plug:before {
  content: "\f1e6";
}
.fa-slideshare:before {
  content: "\f1e7";
}
.fa-twitch:before {
  content: "\f1e8";
}
.fa-yelp:before {
  content: "\f1e9";
}
.fa-newspaper-o:before {
  content: "\f1ea";
}
.fa-wifi:before {
  content: "\f1eb";
}
.fa-calculator:before {
  content: "\f1ec";
}
.fa-paypal:before {
  content: "\f1ed";
}
.fa-google-wallet:before {
  content: "\f1ee";
}
.fa-cc-visa:before {
  content: "\f1f0";
}
.fa-cc-mastercard:before {
  content: "\f1f1";
}
.fa-cc-discover:before {
  content: "\f1f2";
}
.fa-cc-amex:before {
  content: "\f1f3";
}
.fa-cc-paypal:before {
  content: "\f1f4";
}
.fa-cc-stripe:before {
  content: "\f1f5";
}
.fa-bell-slash:before {
  content: "\f1f6";
}
.fa-bell-slash-o:before {
  content: "\f1f7";
}
.fa-trash:before {
  content: "\f1f8";
}
.fa-copyright:before {
  content: "\f1f9";
}
.fa-at:before {
  content: "\f1fa";
}
.fa-eyedropper:before {
  content: "\f1fb";
}
.fa-paint-brush:before {
  content: "\f1fc";
}
.fa-birthday-cake:before {
  content: "\f1fd";
}
.fa-area-chart:before {
  content: "\f1fe";
}
.fa-pie-chart:before {
  content: "\f200";
}
.fa-line-chart:before {
  content: "\f201";
}
.fa-lastfm:before {
  content: "\f202";
}
.fa-lastfm-square:before {
  content: "\f203";
}
.fa-toggle-off:before {
  content: "\f204";
}
.fa-toggle-on:before {
  content: "\f205";
}
.fa-bicycle:before {
  content: "\f206";
}
.fa-bus:before {
  content: "\f207";
}
.fa-ioxhost:before {
  content: "\f208";
}
.fa-angellist:before {
  content: "\f209";
}
.fa-cc:before {
  content: "\f20a";
}
.fa-shekel:before,
.fa-sheqel:before,
.fa-ils:before {
  content: "\f20b";
}
.fa-meanpath:before {
  content: "\f20c";
}
.fa-buysellads:before {
  content: "\f20d";
}
.fa-connectdevelop:before {
  content: "\f20e";
}
.fa-dashcube:before {
  content: "\f210";
}
.fa-forumbee:before {
  content: "\f211";
}
.fa-leanpub:before {
  content: "\f212";
}
.fa-sellsy:before {
  content: "\f213";
}
.fa-shirtsinbulk:before {
  content: "\f214";
}
.fa-simplybuilt:before {
  content: "\f215";
}
.fa-skyatlas:before {
  content: "\f216";
}
.fa-cart-plus:before {
  content: "\f217";
}
.fa-cart-arrow-down:before {
  content: "\f218";
}
.fa-diamond:before {
  content: "\f219";
}
.fa-ship:before {
  content: "\f21a";
}
.fa-user-secret:before {
  content: "\f21b";
}
.fa-motorcycle:before {
  content: "\f21c";
}
.fa-street-view:before {
  content: "\f21d";
}
.fa-heartbeat:before {
  content: "\f21e";
}
.fa-venus:before {
  content: "\f221";
}
.fa-mars:before {
  content: "\f222";
}
.fa-mercury:before {
  content: "\f223";
}
.fa-intersex:before,
.fa-transgender:before {
  content: "\f224";
}
.fa-transgender-alt:before {
  content: "\f225";
}
.fa-venus-double:before {
  content: "\f226";
}
.fa-mars-double:before {
  content: "\f227";
}
.fa-venus-mars:before {
  content: "\f228";
}
.fa-mars-stroke:before {
  content: "\f229";
}
.fa-mars-stroke-v:before {
  content: "\f22a";
}
.fa-mars-stroke-h:before {
  content: "\f22b";
}
.fa-neuter:before {
  content: "\f22c";
}
.fa-genderless:before {
  content: "\f22d";
}
.fa-facebook-official:before {
  content: "\f230";
}
.fa-pinterest-p:before {
  content: "\f231";
}
.fa-whatsapp:before {
  content: "\f232";
}
.fa-server:before {
  content: "\f233";
}
.fa-user-plus:before {
  content: "\f234";
}
.fa-user-times:before {
  content: "\f235";
}
.fa-hotel:before,
.fa-bed:before {
  content: "\f236";
}
.fa-viacoin:before {
  content: "\f237";
}
.fa-train:before {
  content: "\f238";
}
.fa-subway:before {
  content: "\f239";
}
.fa-medium:before {
  content: "\f23a";
}
.fa-yc:before,
.fa-y-combinator:before {
  content: "\f23b";
}
.fa-optin-monster:before {
  content: "\f23c";
}
.fa-opencart:before {
  content: "\f23d";
}
.fa-expeditedssl:before {
  content: "\f23e";
}
.fa-battery-4:before,
.fa-battery:before,
.fa-battery-full:before {
  content: "\f240";
}
.fa-battery-3:before,
.fa-battery-three-quarters:before {
  content: "\f241";
}
.fa-battery-2:before,
.fa-battery-half:before {
  content: "\f242";
}
.fa-battery-1:before,
.fa-battery-quarter:before {
  content: "\f243";
}
.fa-battery-0:before,
.fa-battery-empty:before {
  content: "\f244";
}
.fa-mouse-pointer:before {
  content: "\f245";
}
.fa-i-cursor:before {
  content: "\f246";
}
.fa-object-group:before {
  content: "\f247";
}
.fa-object-ungroup:before {
  content: "\f248";
}
.fa-sticky-note:before {
  content: "\f249";
}
.fa-sticky-note-o:before {
  content: "\f24a";
}
.fa-cc-jcb:before {
  content: "\f24b";
}
.fa-cc-diners-club:before {
  content: "\f24c";
}
.fa-clone:before {
  content: "\f24d";
}
.fa-balance-scale:before {
  content: "\f24e";
}
.fa-hourglass-o:before {
  content: "\f250";
}
.fa-hourglass-1:before,
.fa-hourglass-start:before {
  content: "\f251";
}
.fa-hourglass-2:before,
.fa-hourglass-half:before {
  content: "\f252";
}
.fa-hourglass-3:before,
.fa-hourglass-end:before {
  content: "\f253";
}
.fa-hourglass:before {
  content: "\f254";
}
.fa-hand-grab-o:before,
.fa-hand-rock-o:before {
  content: "\f255";
}
.fa-hand-stop-o:before,
.fa-hand-paper-o:before {
  content: "\f256";
}
.fa-hand-scissors-o:before {
  content: "\f257";
}
.fa-hand-lizard-o:before {
  content: "\f258";
}
.fa-hand-spock-o:before {
  content: "\f259";
}
.fa-hand-pointer-o:before {
  content: "\f25a";
}
.fa-hand-peace-o:before {
  content: "\f25b";
}
.fa-trademark:before {
  content: "\f25c";
}
.fa-registered:before {
  content: "\f25d";
}
.fa-creative-commons:before {
  content: "\f25e";
}
.fa-gg:before {
  content: "\f260";
}
.fa-gg-circle:before {
  content: "\f261";
}
.fa-tripadvisor:before {
  content: "\f262";
}
.fa-odnoklassniki:before {
  content: "\f263";
}
.fa-odnoklassniki-square:before {
  content: "\f264";
}
.fa-get-pocket:before {
  content: "\f265";
}
.fa-wikipedia-w:before {
  content: "\f266";
}
.fa-safari:before {
  content: "\f267";
}
.fa-chrome:before {
  content: "\f268";
}
.fa-firefox:before {
  content: "\f269";
}
.fa-opera:before {
  content: "\f26a";
}
.fa-internet-explorer:before {
  content: "\f26b";
}
.fa-tv:before,
.fa-television:before {
  content: "\f26c";
}
.fa-contao:before {
  content: "\f26d";
}
.fa-500px:before {
  content: "\f26e";
}
.fa-amazon:before {
  content: "\f270";
}
.fa-calendar-plus-o:before {
  content: "\f271";
}
.fa-calendar-minus-o:before {
  content: "\f272";
}
.fa-calendar-times-o:before {
  content: "\f273";
}
.fa-calendar-check-o:before {
  content: "\f274";
}
.fa-industry:before {
  content: "\f275";
}
.fa-map-pin:before {
  content: "\f276";
}
.fa-map-signs:before {
  content: "\f277";
}
.fa-map-o:before {
  content: "\f278";
}
.fa-map:before {
  content: "\f279";
}
.fa-commenting:before {
  content: "\f27a";
}
.fa-commenting-o:before {
  content: "\f27b";
}
.fa-houzz:before {
  content: "\f27c";
}
.fa-vimeo:before {
  content: "\f27d";
}
.fa-black-tie:before {
  content: "\f27e";
}
.fa-fonticons:before {
  content: "\f280";
}
.fa-reddit-alien:before {
  content: "\f281";
}
.fa-edge:before {
  content: "\f282";
}
.fa-credit-card-alt:before {
  content: "\f283";
}
.fa-codiepie:before {
  content: "\f284";
}
.fa-modx:before {
  content: "\f285";
}
.fa-fort-awesome:before {
  content: "\f286";
}
.fa-usb:before {
  content: "\f287";
}
.fa-product-hunt:before {
  content: "\f288";
}
.fa-mixcloud:before {
  content: "\f289";
}
.fa-scribd:before {
  content: "\f28a";
}
.fa-pause-circle:before {
  content: "\f28b";
}
.fa-pause-circle-o:before {
  content: "\f28c";
}
.fa-stop-circle:before {
  content: "\f28d";
}
.fa-stop-circle-o:before {
  content: "\f28e";
}
.fa-shopping-bag:before {
  content: "\f290";
}
.fa-shopping-basket:before {
  content: "\f291";
}
.fa-hashtag:before {
  content: "\f292";
}
.fa-bluetooth:before {
  content: "\f293";
}
.fa-bluetooth-b:before {
  content: "\f294";
}
.fa-percent:before {
  content: "\f295";
}
.fa-gitlab:before {
  content: "\f296";
}
.fa-wpbeginner:before {
  content: "\f297";
}
.fa-wpforms:before {
  content: "\f298";
}
.fa-envira:before {
  content: "\f299";
}
.fa-universal-access:before {
  content: "\f29a";
}
.fa-wheelchair-alt:before {
  content: "\f29b";
}
.fa-question-circle-o:before {
  content: "\f29c";
}
.fa-blind:before {
  content: "\f29d";
}
.fa-audio-description:before {
  content: "\f29e";
}
.fa-volume-control-phone:before {
  content: "\f2a0";
}
.fa-braille:before {
  content: "\f2a1";
}
.fa-assistive-listening-systems:before {
  content: "\f2a2";
}
.fa-asl-interpreting:before,
.fa-american-sign-language-interpreting:before {
  content: "\f2a3";
}
.fa-deafness:before,
.fa-hard-of-hearing:before,
.fa-deaf:before {
  content: "\f2a4";
}
.fa-glide:before {
  content: "\f2a5";
}
.fa-glide-g:before {
  content: "\f2a6";
}
.fa-signing:before,
.fa-sign-language:before {
  content: "\f2a7";
}
.fa-low-vision:before {
  content: "\f2a8";
}
.fa-viadeo:before {
  content: "\f2a9";
}
.fa-viadeo-square:before {
  content: "\f2aa";
}
.fa-snapchat:before {
  content: "\f2ab";
}
.fa-snapchat-ghost:before {
  content: "\f2ac";
}
.fa-snapchat-square:before {
  content: "\f2ad";
}
.fa-pied-piper:before {
  content: "\f2ae";
}
.fa-first-order:before {
  content: "\f2b0";
}
.fa-yoast:before {
  content: "\f2b1";
}
.fa-themeisle:before {
  content: "\f2b2";
}
.fa-google-plus-circle:before,
.fa-google-plus-official:before {
  content: "\f2b3";
}
.fa-fa:before,
.fa-font-awesome:before {
  content: "\f2b4";
}
.fa-handshake-o:before {
  content: "\f2b5";
}
.fa-envelope-open:before {
  content: "\f2b6";
}
.fa-envelope-open-o:before {
  content: "\f2b7";
}
.fa-linode:before {
  content: "\f2b8";
}
.fa-address-book:before {
  content: "\f2b9";
}
.fa-address-book-o:before {
  content: "\f2ba";
}
.fa-vcard:before,
.fa-address-card:before {
  content: "\f2bb";
}
.fa-vcard-o:before,
.fa-address-card-o:before {
  content: "\f2bc";
}
.fa-user-circle:before {
  content: "\f2bd";
}
.fa-user-circle-o:before {
  content: "\f2be";
}
.fa-user-o:before {
  content: "\f2c0";
}
.fa-id-badge:before {
  content: "\f2c1";
}
.fa-drivers-license:before,
.fa-id-card:before {
  content: "\f2c2";
}
.fa-drivers-license-o:before,
.fa-id-card-o:before {
  content: "\f2c3";
}
.fa-quora:before {
  content: "\f2c4";
}
.fa-free-code-camp:before {
  content: "\f2c5";
}
.fa-telegram:before {
  content: "\f2c6";
}
.fa-thermometer-4:before,
.fa-thermometer:before,
.fa-thermometer-full:before {
  content: "\f2c7";
}
.fa-thermometer-3:before,
.fa-thermometer-three-quarters:before {
  content: "\f2c8";
}
.fa-thermometer-2:before,
.fa-thermometer-half:before {
  content: "\f2c9";
}
.fa-thermometer-1:before,
.fa-thermometer-quarter:before {
  content: "\f2ca";
}
.fa-thermometer-0:before,
.fa-thermometer-empty:before {
  content: "\f2cb";
}
.fa-shower:before {
  content: "\f2cc";
}
.fa-bathtub:before,
.fa-s15:before,
.fa-bath:before {
  content: "\f2cd";
}
.fa-podcast:before {
  content: "\f2ce";
}
.fa-window-maximize:before {
  content: "\f2d0";
}
.fa-window-minimize:before {
  content: "\f2d1";
}
.fa-window-restore:before {
  content: "\f2d2";
}
.fa-times-rectangle:before,
.fa-window-close:before {
  content: "\f2d3";
}
.fa-times-rectangle-o:before,
.fa-window-close-o:before {
  content: "\f2d4";
}
.fa-bandcamp:before {
  content: "\f2d5";
}
.fa-grav:before {
  content: "\f2d6";
}
.fa-etsy:before {
  content: "\f2d7";
}
.fa-imdb:before {
  content: "\f2d8";
}
.fa-ravelry:before {
  content: "\f2d9";
}
.fa-eercast:before {
  content: "\f2da";
}
.fa-microchip:before {
  content: "\f2db";
}
.fa-snowflake-o:before {
  content: "\f2dc";
}
.fa-superpowers:before {
  content: "\f2dd";
}
.fa-wpexplorer:before {
  content: "\f2de";
}
.fa-meetup:before {
  content: "\f2e0";
}
.sr-only {
  position: absolute;
  width: 1px;
  height: 1px;
  padding: 0;
  margin: -1px;
  overflow: hidden;
  clip: rect(0, 0, 0, 0);
  border: 0;
}
.sr-only-focusable:active,
.sr-only-focusable:focus {
  position: static;
  width: auto;
  height: auto;
  margin: 0;
  overflow: visible;
  clip: auto;
}
.sr-only-focusable:active,
.sr-only-focusable:focus {
  position: static;
  width: auto;
  height: auto;
  margin: 0;
  overflow: visible;
  clip: auto;
}
/*!
*
* IPython base
*
*/
.modal.fade .modal-dialog {
  -webkit-transform: translate(0, 0);
  -ms-transform: translate(0, 0);
  -o-transform: translate(0, 0);
  transform: translate(0, 0);
}
code {
  color: #000;
}
pre {
  font-size: inherit;
  line-height: inherit;
}
label {
  font-weight: normal;
}
/* Make the page background atleast 100% the height of the view port */
/* Make the page itself atleast 70% the height of the view port */
.border-box-sizing {
  box-sizing: border-box;
  -moz-box-sizing: border-box;
  -webkit-box-sizing: border-box;
}
.corner-all {
  border-radius: 2px;
}
.no-padding {
  padding: 0px;
}
/* Flexible box model classes */
/* Taken from Alex Russell http://infrequently.org/2009/08/css-3-progress/ */
/* This file is a compatability layer.  It allows the usage of flexible box 
model layouts accross multiple browsers, including older browsers.  The newest,
universal implementation of the flexible box model is used when available (see
`Modern browsers` comments below).  Browsers that are known to implement this 
new spec completely include:

    Firefox 28.0+
    Chrome 29.0+
    Internet Explorer 11+ 
    Opera 17.0+

Browsers not listed, including Safari, are supported via the styling under the
`Old browsers` comments below.
*/
.hbox {
  /* Old browsers */
  display: -webkit-box;
  -webkit-box-orient: horizontal;
  -webkit-box-align: stretch;
  display: -moz-box;
  -moz-box-orient: horizontal;
  -moz-box-align: stretch;
  display: box;
  box-orient: horizontal;
  box-align: stretch;
  /* Modern browsers */
  display: flex;
  flex-direction: row;
  align-items: stretch;
}
.hbox > * {
  /* Old browsers */
  -webkit-box-flex: 0;
  -moz-box-flex: 0;
  box-flex: 0;
  /* Modern browsers */
  flex: none;
}
.vbox {
  /* Old browsers */
  display: -webkit-box;
  -webkit-box-orient: vertical;
  -webkit-box-align: stretch;
  display: -moz-box;
  -moz-box-orient: vertical;
  -moz-box-align: stretch;
  display: box;
  box-orient: vertical;
  box-align: stretch;
  /* Modern browsers */
  display: flex;
  flex-direction: column;
  align-items: stretch;
}
.vbox > * {
  /* Old browsers */
  -webkit-box-flex: 0;
  -moz-box-flex: 0;
  box-flex: 0;
  /* Modern browsers */
  flex: none;
}
.hbox.reverse,
.vbox.reverse,
.reverse {
  /* Old browsers */
  -webkit-box-direction: reverse;
  -moz-box-direction: reverse;
  box-direction: reverse;
  /* Modern browsers */
  flex-direction: row-reverse;
}
.hbox.box-flex0,
.vbox.box-flex0,
.box-flex0 {
  /* Old browsers */
  -webkit-box-flex: 0;
  -moz-box-flex: 0;
  box-flex: 0;
  /* Modern browsers */
  flex: none;
  width: auto;
}
.hbox.box-flex1,
.vbox.box-flex1,
.box-flex1 {
  /* Old browsers */
  -webkit-box-flex: 1;
  -moz-box-flex: 1;
  box-flex: 1;
  /* Modern browsers */
  flex: 1;
}
.hbox.box-flex,
.vbox.box-flex,
.box-flex {
  /* Old browsers */
  /* Old browsers */
  -webkit-box-flex: 1;
  -moz-box-flex: 1;
  box-flex: 1;
  /* Modern browsers */
  flex: 1;
}
.hbox.box-flex2,
.vbox.box-flex2,
.box-flex2 {
  /* Old browsers */
  -webkit-box-flex: 2;
  -moz-box-flex: 2;
  box-flex: 2;
  /* Modern browsers */
  flex: 2;
}
.box-group1 {
  /*  Deprecated */
  -webkit-box-flex-group: 1;
  -moz-box-flex-group: 1;
  box-flex-group: 1;
}
.box-group2 {
  /* Deprecated */
  -webkit-box-flex-group: 2;
  -moz-box-flex-group: 2;
  box-flex-group: 2;
}
.hbox.start,
.vbox.start,
.start {
  /* Old browsers */
  -webkit-box-pack: start;
  -moz-box-pack: start;
  box-pack: start;
  /* Modern browsers */
  justify-content: flex-start;
}
.hbox.end,
.vbox.end,
.end {
  /* Old browsers */
  -webkit-box-pack: end;
  -moz-box-pack: end;
  box-pack: end;
  /* Modern browsers */
  justify-content: flex-end;
}
.hbox.center,
.vbox.center,
.center {
  /* Old browsers */
  -webkit-box-pack: center;
  -moz-box-pack: center;
  box-pack: center;
  /* Modern browsers */
  justify-content: center;
}
.hbox.baseline,
.vbox.baseline,
.baseline {
  /* Old browsers */
  -webkit-box-pack: baseline;
  -moz-box-pack: baseline;
  box-pack: baseline;
  /* Modern browsers */
  justify-content: baseline;
}
.hbox.stretch,
.vbox.stretch,
.stretch {
  /* Old browsers */
  -webkit-box-pack: stretch;
  -moz-box-pack: stretch;
  box-pack: stretch;
  /* Modern browsers */
  justify-content: stretch;
}
.hbox.align-start,
.vbox.align-start,
.align-start {
  /* Old browsers */
  -webkit-box-align: start;
  -moz-box-align: start;
  box-align: start;
  /* Modern browsers */
  align-items: flex-start;
}
.hbox.align-end,
.vbox.align-end,
.align-end {
  /* Old browsers */
  -webkit-box-align: end;
  -moz-box-align: end;
  box-align: end;
  /* Modern browsers */
  align-items: flex-end;
}
.hbox.align-center,
.vbox.align-center,
.align-center {
  /* Old browsers */
  -webkit-box-align: center;
  -moz-box-align: center;
  box-align: center;
  /* Modern browsers */
  align-items: center;
}
.hbox.align-baseline,
.vbox.align-baseline,
.align-baseline {
  /* Old browsers */
  -webkit-box-align: baseline;
  -moz-box-align: baseline;
  box-align: baseline;
  /* Modern browsers */
  align-items: baseline;
}
.hbox.align-stretch,
.vbox.align-stretch,
.align-stretch {
  /* Old browsers */
  -webkit-box-align: stretch;
  -moz-box-align: stretch;
  box-align: stretch;
  /* Modern browsers */
  align-items: stretch;
}
div.error {
  margin: 2em;
  text-align: center;
}
div.error > h1 {
  font-size: 500%;
  line-height: normal;
}
div.error > p {
  font-size: 200%;
  line-height: normal;
}
div.traceback-wrapper {
  text-align: left;
  max-width: 800px;
  margin: auto;
}
div.traceback-wrapper pre.traceback {
  max-height: 600px;
  overflow: auto;
}
/**
 * Primary styles
 *
 * Author: Jupyter Development Team
 */
body {
  background-color: #fff;
  /* This makes sure that the body covers the entire window and needs to
       be in a different element than the display: box in wrapper below */
  position: absolute;
  left: 0px;
  right: 0px;
  top: 0px;
  bottom: 0px;
  overflow: visible;
}
body > #header {
  /* Initially hidden to prevent FLOUC */
  display: none;
  background-color: #fff;
  /* Display over codemirror */
  position: relative;
  z-index: 100;
}
body > #header #header-container {
  display: flex;
  flex-direction: row;
  justify-content: space-between;
  padding: 5px;
  padding-bottom: 5px;
  padding-top: 5px;
  box-sizing: border-box;
  -moz-box-sizing: border-box;
  -webkit-box-sizing: border-box;
}
body > #header .header-bar {
  width: 100%;
  height: 1px;
  background: #e7e7e7;
  margin-bottom: -1px;
}
@media print {
  body > #header {
    display: none !important;
  }
}
#header-spacer {
  width: 100%;
  visibility: hidden;
}
@media print {
  #header-spacer {
    display: none;
  }
}
#ipython_notebook {
  padding-left: 0px;
  padding-top: 1px;
  padding-bottom: 1px;
}
[dir="rtl"] #ipython_notebook {
  margin-right: 10px;
  margin-left: 0;
}
[dir="rtl"] #ipython_notebook.pull-left {
  float: right !important;
  float: right;
}
.flex-spacer {
  flex: 1;
}
#noscript {
  width: auto;
  padding-top: 16px;
  padding-bottom: 16px;
  text-align: center;
  font-size: 22px;
  color: red;
  font-weight: bold;
}
#ipython_notebook img {
  height: 28px;
}
#site {
  width: 100%;
  display: none;
  box-sizing: border-box;
  -moz-box-sizing: border-box;
  -webkit-box-sizing: border-box;
  overflow: auto;
}
@media print {
  #site {
    height: auto !important;
  }
}
/* Smaller buttons */
.ui-button .ui-button-text {
  padding: 0.2em 0.8em;
  font-size: 77%;
}
input.ui-button {
  padding: 0.3em 0.9em;
}
span#kernel_logo_widget {
  margin: 0 10px;
}
span#login_widget {
  float: right;
}
[dir="rtl"] span#login_widget {
  float: left;
}
span#login_widget > .button,
#logout {
  color: #333;
  background-color: #fff;
  border-color: #ccc;
}
span#login_widget > .button:focus,
#logout:focus,
span#login_widget > .button.focus,
#logout.focus {
  color: #333;
  background-color: #e6e6e6;
  border-color: #8c8c8c;
}
span#login_widget > .button:hover,
#logout:hover {
  color: #333;
  background-color: #e6e6e6;
  border-color: #adadad;
}
span#login_widget > .button:active,
#logout:active,
span#login_widget > .button.active,
#logout.active,
.open > .dropdown-togglespan#login_widget > .button,
.open > .dropdown-toggle#logout {
  color: #333;
  background-color: #e6e6e6;
  border-color: #adadad;
}
span#login_widget > .button:active:hover,
#logout:active:hover,
span#login_widget > .button.active:hover,
#logout.active:hover,
.open > .dropdown-togglespan#login_widget > .button:hover,
.open > .dropdown-toggle#logout:hover,
span#login_widget > .button:active:focus,
#logout:active:focus,
span#login_widget > .button.active:focus,
#logout.active:focus,
.open > .dropdown-togglespan#login_widget > .button:focus,
.open > .dropdown-toggle#logout:focus,
span#login_widget > .button:active.focus,
#logout:active.focus,
span#login_widget > .button.active.focus,
#logout.active.focus,
.open > .dropdown-togglespan#login_widget > .button.focus,
.open > .dropdown-toggle#logout.focus {
  color: #333;
  background-color: #d4d4d4;
  border-color: #8c8c8c;
}
span#login_widget > .button:active,
#logout:active,
span#login_widget > .button.active,
#logout.active,
.open > .dropdown-togglespan#login_widget > .button,
.open > .dropdown-toggle#logout {
  background-image: none;
}
span#login_widget > .button.disabled:hover,
#logout.disabled:hover,
span#login_widget > .button[disabled]:hover,
#logout[disabled]:hover,
fieldset[disabled] span#login_widget > .button:hover,
fieldset[disabled] #logout:hover,
span#login_widget > .button.disabled:focus,
#logout.disabled:focus,
span#login_widget > .button[disabled]:focus,
#logout[disabled]:focus,
fieldset[disabled] span#login_widget > .button:focus,
fieldset[disabled] #logout:focus,
span#login_widget > .button.disabled.focus,
#logout.disabled.focus,
span#login_widget > .button[disabled].focus,
#logout[disabled].focus,
fieldset[disabled] span#login_widget > .button.focus,
fieldset[disabled] #logout.focus {
  background-color: #fff;
  border-color: #ccc;
}
span#login_widget > .button .badge,
#logout .badge {
  color: #fff;
  background-color: #333;
}
.nav-header {
  text-transform: none;
}
#header > span {
  margin-top: 10px;
}
.modal_stretch .modal-dialog {
  /* Old browsers */
  display: -webkit-box;
  -webkit-box-orient: vertical;
  -webkit-box-align: stretch;
  display: -moz-box;
  -moz-box-orient: vertical;
  -moz-box-align: stretch;
  display: box;
  box-orient: vertical;
  box-align: stretch;
  /* Modern browsers */
  display: flex;
  flex-direction: column;
  align-items: stretch;
  min-height: 80vh;
}
.modal_stretch .modal-dialog .modal-body {
  max-height: calc(100vh - 200px);
  overflow: auto;
  flex: 1;
}
.modal-header {
  cursor: move;
}
@media (min-width: 768px) {
  .modal .modal-dialog {
    width: 700px;
  }
}
@media (min-width: 768px) {
  select.form-control {
    margin-left: 12px;
    margin-right: 12px;
  }
}
/*!
*
* IPython auth
*
*/
.center-nav {
  display: inline-block;
  margin-bottom: -4px;
}
[dir="rtl"] .center-nav form.pull-left {
  float: right !important;
  float: right;
}
[dir="rtl"] .center-nav .navbar-text {
  float: right;
}
[dir="rtl"] .navbar-inner {
  text-align: right;
}
[dir="rtl"] div.text-left {
  text-align: right;
}
/*!
*
* IPython tree view
*
*/
/* We need an invisible input field on top of the sentense*/
/* "Drag file onto the list ..." */
.alternate_upload {
  background-color: none;
  display: inline;
}
.alternate_upload.form {
  padding: 0;
  margin: 0;
}
.alternate_upload input.fileinput {
  position: absolute;
  display: block;
  width: 100%;
  height: 100%;
  overflow: hidden;
  cursor: pointer;
  opacity: 0;
  z-index: 2;
}
.alternate_upload .btn-xs > input.fileinput {
  margin: -1px -5px;
}
.alternate_upload .btn-upload {
  position: relative;
  height: 22px;
}
::-webkit-file-upload-button {
  cursor: pointer;
}
/**
 * Primary styles
 *
 * Author: Jupyter Development Team
 */
ul#tabs {
  margin-bottom: 4px;
}
ul#tabs a {
  padding-top: 6px;
  padding-bottom: 4px;
}
[dir="rtl"] ul#tabs.nav-tabs > li {
  float: right;
}
[dir="rtl"] ul#tabs.nav.nav-tabs {
  padding-right: 0;
}
ul.breadcrumb a:focus,
ul.breadcrumb a:hover {
  text-decoration: none;
}
ul.breadcrumb i.icon-home {
  font-size: 16px;
  margin-right: 4px;
}
ul.breadcrumb span {
  color: #5e5e5e;
}
.list_toolbar {
  padding: 4px 0 4px 0;
  vertical-align: middle;
}
.list_toolbar .tree-buttons {
  padding-top: 1px;
}
[dir="rtl"] .list_toolbar .tree-buttons .pull-right {
  float: left !important;
  float: left;
}
[dir="rtl"] .list_toolbar .col-sm-4,
[dir="rtl"] .list_toolbar .col-sm-8 {
  float: right;
}
.dynamic-buttons {
  padding-top: 3px;
  display: inline-block;
}
.list_toolbar [class*="span"] {
  min-height: 24px;
}
.list_header {
  font-weight: bold;
  background-color: #EEE;
}
.list_placeholder {
  font-weight: bold;
  padding-top: 4px;
  padding-bottom: 4px;
  padding-left: 7px;
  padding-right: 7px;
}
.list_container {
  margin-top: 4px;
  margin-bottom: 20px;
  border: 1px solid #ddd;
  border-radius: 2px;
}
.list_container > div {
  border-bottom: 1px solid #ddd;
}
.list_container > div:hover .list-item {
  background-color: red;
}
.list_container > div:last-child {
  border: none;
}
.list_item:hover .list_item {
  background-color: #ddd;
}
.list_item a {
  text-decoration: none;
}
.list_item:hover {
  background-color: #fafafa;
}
.list_header > div,
.list_item > div {
  padding-top: 4px;
  padding-bottom: 4px;
  padding-left: 7px;
  padding-right: 7px;
  line-height: 22px;
}
.list_header > div input,
.list_item > div input {
  margin-right: 7px;
  margin-left: 14px;
  vertical-align: text-bottom;
  line-height: 22px;
  position: relative;
  top: -1px;
}
.list_header > div .item_link,
.list_item > div .item_link {
  margin-left: -1px;
  vertical-align: baseline;
  line-height: 22px;
}
[dir="rtl"] .list_item > div input {
  margin-right: 0;
}
.new-file input[type=checkbox] {
  visibility: hidden;
}
.item_name {
  line-height: 22px;
  height: 24px;
}
.item_icon {
  font-size: 14px;
  color: #5e5e5e;
  margin-right: 7px;
  margin-left: 7px;
  line-height: 22px;
  vertical-align: baseline;
}
.item_modified {
  margin-right: 7px;
  margin-left: 7px;
}
[dir="rtl"] .item_modified.pull-right {
  float: left !important;
  float: left;
}
.item_buttons {
  line-height: 1em;
  margin-left: -5px;
}
.item_buttons .btn,
.item_buttons .btn-group,
.item_buttons .input-group {
  float: left;
}
.item_buttons > .btn,
.item_buttons > .btn-group,
.item_buttons > .input-group {
  margin-left: 5px;
}
.item_buttons .btn {
  min-width: 13ex;
}
.item_buttons .running-indicator {
  padding-top: 4px;
  color: #5cb85c;
}
.item_buttons .kernel-name {
  padding-top: 4px;
  color: #5bc0de;
  margin-right: 7px;
  float: left;
}
[dir="rtl"] .item_buttons.pull-right {
  float: left !important;
  float: left;
}
[dir="rtl"] .item_buttons .kernel-name {
  margin-left: 7px;
  float: right;
}
.toolbar_info {
  height: 24px;
  line-height: 24px;
}
.list_item input:not([type=checkbox]) {
  padding-top: 3px;
  padding-bottom: 3px;
  height: 22px;
  line-height: 14px;
  margin: 0px;
}
.highlight_text {
  color: blue;
}
#project_name {
  display: inline-block;
  padding-left: 7px;
  margin-left: -2px;
}
#project_name > .breadcrumb {
  padding: 0px;
  margin-bottom: 0px;
  background-color: transparent;
  font-weight: bold;
}
.sort_button {
  display: inline-block;
  padding-left: 7px;
}
[dir="rtl"] .sort_button.pull-right {
  float: left !important;
  float: left;
}
#tree-selector {
  padding-right: 0px;
}
#button-select-all {
  min-width: 50px;
}
[dir="rtl"] #button-select-all.btn {
  float: right ;
}
#select-all {
  margin-left: 7px;
  margin-right: 2px;
  margin-top: 2px;
  height: 16px;
}
[dir="rtl"] #select-all.pull-left {
  float: right !important;
  float: right;
}
.menu_icon {
  margin-right: 2px;
}
.tab-content .row {
  margin-left: 0px;
  margin-right: 0px;
}
.folder_icon:before {
  display: inline-block;
  font: normal normal normal 14px/1 FontAwesome;
  font-size: inherit;
  text-rendering: auto;
  -webkit-font-smoothing: antialiased;
  -moz-osx-font-smoothing: grayscale;
  content: "\f114";
}
.folder_icon:before.fa-pull-left {
  margin-right: .3em;
}
.folder_icon:before.fa-pull-right {
  margin-left: .3em;
}
.folder_icon:before.pull-left {
  margin-right: .3em;
}
.folder_icon:before.pull-right {
  margin-left: .3em;
}
.notebook_icon:before {
  display: inline-block;
  font: normal normal normal 14px/1 FontAwesome;
  font-size: inherit;
  text-rendering: auto;
  -webkit-font-smoothing: antialiased;
  -moz-osx-font-smoothing: grayscale;
  content: "\f02d";
  position: relative;
  top: -1px;
}
.notebook_icon:before.fa-pull-left {
  margin-right: .3em;
}
.notebook_icon:before.fa-pull-right {
  margin-left: .3em;
}
.notebook_icon:before.pull-left {
  margin-right: .3em;
}
.notebook_icon:before.pull-right {
  margin-left: .3em;
}
.running_notebook_icon:before {
  display: inline-block;
  font: normal normal normal 14px/1 FontAwesome;
  font-size: inherit;
  text-rendering: auto;
  -webkit-font-smoothing: antialiased;
  -moz-osx-font-smoothing: grayscale;
  content: "\f02d";
  position: relative;
  top: -1px;
  color: #5cb85c;
}
.running_notebook_icon:before.fa-pull-left {
  margin-right: .3em;
}
.running_notebook_icon:before.fa-pull-right {
  margin-left: .3em;
}
.running_notebook_icon:before.pull-left {
  margin-right: .3em;
}
.running_notebook_icon:before.pull-right {
  margin-left: .3em;
}
.file_icon:before {
  display: inline-block;
  font: normal normal normal 14px/1 FontAwesome;
  font-size: inherit;
  text-rendering: auto;
  -webkit-font-smoothing: antialiased;
  -moz-osx-font-smoothing: grayscale;
  content: "\f016";
  position: relative;
  top: -2px;
}
.file_icon:before.fa-pull-left {
  margin-right: .3em;
}
.file_icon:before.fa-pull-right {
  margin-left: .3em;
}
.file_icon:before.pull-left {
  margin-right: .3em;
}
.file_icon:before.pull-right {
  margin-left: .3em;
}
#notebook_toolbar .pull-right {
  padding-top: 0px;
  margin-right: -1px;
}
ul#new-menu {
  left: auto;
  right: 0;
}
#new-menu .dropdown-header {
  font-size: 10px;
  border-bottom: 1px solid #e5e5e5;
  padding: 0 0 3px;
  margin: -3px 20px 0;
}
.kernel-menu-icon {
  padding-right: 12px;
  width: 24px;
  content: "\f096";
}
.kernel-menu-icon:before {
  content: "\f096";
}
.kernel-menu-icon-current:before {
  content: "\f00c";
}
#tab_content {
  padding-top: 20px;
}
#running .panel-group .panel {
  margin-top: 3px;
  margin-bottom: 1em;
}
#running .panel-group .panel .panel-heading {
  background-color: #EEE;
  padding-top: 4px;
  padding-bottom: 4px;
  padding-left: 7px;
  padding-right: 7px;
  line-height: 22px;
}
#running .panel-group .panel .panel-heading a:focus,
#running .panel-group .panel .panel-heading a:hover {
  text-decoration: none;
}
#running .panel-group .panel .panel-body {
  padding: 0px;
}
#running .panel-group .panel .panel-body .list_container {
  margin-top: 0px;
  margin-bottom: 0px;
  border: 0px;
  border-radius: 0px;
}
#running .panel-group .panel .panel-body .list_container .list_item {
  border-bottom: 1px solid #ddd;
}
#running .panel-group .panel .panel-body .list_container .list_item:last-child {
  border-bottom: 0px;
}
.delete-button {
  display: none;
}
.duplicate-button {
  display: none;
}
.rename-button {
  display: none;
}
.move-button {
  display: none;
}
.download-button {
  display: none;
}
.shutdown-button {
  display: none;
}
.dynamic-instructions {
  display: inline-block;
  padding-top: 4px;
}
/*!
*
* IPython text editor webapp
*
*/
.selected-keymap i.fa {
  padding: 0px 5px;
}
.selected-keymap i.fa:before {
  content: "\f00c";
}
#mode-menu {
  overflow: auto;
  max-height: 20em;
}
.edit_app #header {
  -webkit-box-shadow: 0px 0px 12px 1px rgba(87, 87, 87, 0.2);
  box-shadow: 0px 0px 12px 1px rgba(87, 87, 87, 0.2);
}
.edit_app #menubar .navbar {
  /* Use a negative 1 bottom margin, so the border overlaps the border of the
    header */
  margin-bottom: -1px;
}
.dirty-indicator {
  display: inline-block;
  font: normal normal normal 14px/1 FontAwesome;
  font-size: inherit;
  text-rendering: auto;
  -webkit-font-smoothing: antialiased;
  -moz-osx-font-smoothing: grayscale;
  width: 20px;
}
.dirty-indicator.fa-pull-left {
  margin-right: .3em;
}
.dirty-indicator.fa-pull-right {
  margin-left: .3em;
}
.dirty-indicator.pull-left {
  margin-right: .3em;
}
.dirty-indicator.pull-right {
  margin-left: .3em;
}
.dirty-indicator-dirty {
  display: inline-block;
  font: normal normal normal 14px/1 FontAwesome;
  font-size: inherit;
  text-rendering: auto;
  -webkit-font-smoothing: antialiased;
  -moz-osx-font-smoothing: grayscale;
  width: 20px;
}
.dirty-indicator-dirty.fa-pull-left {
  margin-right: .3em;
}
.dirty-indicator-dirty.fa-pull-right {
  margin-left: .3em;
}
.dirty-indicator-dirty.pull-left {
  margin-right: .3em;
}
.dirty-indicator-dirty.pull-right {
  margin-left: .3em;
}
.dirty-indicator-clean {
  display: inline-block;
  font: normal normal normal 14px/1 FontAwesome;
  font-size: inherit;
  text-rendering: auto;
  -webkit-font-smoothing: antialiased;
  -moz-osx-font-smoothing: grayscale;
  width: 20px;
}
.dirty-indicator-clean.fa-pull-left {
  margin-right: .3em;
}
.dirty-indicator-clean.fa-pull-right {
  margin-left: .3em;
}
.dirty-indicator-clean.pull-left {
  margin-right: .3em;
}
.dirty-indicator-clean.pull-right {
  margin-left: .3em;
}
.dirty-indicator-clean:before {
  display: inline-block;
  font: normal normal normal 14px/1 FontAwesome;
  font-size: inherit;
  text-rendering: auto;
  -webkit-font-smoothing: antialiased;
  -moz-osx-font-smoothing: grayscale;
  content: "\f00c";
}
.dirty-indicator-clean:before.fa-pull-left {
  margin-right: .3em;
}
.dirty-indicator-clean:before.fa-pull-right {
  margin-left: .3em;
}
.dirty-indicator-clean:before.pull-left {
  margin-right: .3em;
}
.dirty-indicator-clean:before.pull-right {
  margin-left: .3em;
}
#filename {
  font-size: 16pt;
  display: table;
  padding: 0px 5px;
}
#current-mode {
  padding-left: 5px;
  padding-right: 5px;
}
#texteditor-backdrop {
  padding-top: 20px;
  padding-bottom: 20px;
}
@media not print {
  #texteditor-backdrop {
    background-color: #EEE;
  }
}
@media print {
  #texteditor-backdrop #texteditor-container .CodeMirror-gutter,
  #texteditor-backdrop #texteditor-container .CodeMirror-gutters {
    background-color: #fff;
  }
}
@media not print {
  #texteditor-backdrop #texteditor-container .CodeMirror-gutter,
  #texteditor-backdrop #texteditor-container .CodeMirror-gutters {
    background-color: #fff;
  }
}
@media not print {
  #texteditor-backdrop #texteditor-container {
    padding: 0px;
    background-color: #fff;
    -webkit-box-shadow: 0px 0px 12px 1px rgba(87, 87, 87, 0.2);
    box-shadow: 0px 0px 12px 1px rgba(87, 87, 87, 0.2);
  }
}
.CodeMirror-dialog {
  background-color: #fff;
}
/*!
*
* IPython notebook
*
*/
/* CSS font colors for translated ANSI escape sequences */
/* The color values are a mix of
   http://www.xcolors.net/dl/baskerville-ivorylight and
   http://www.xcolors.net/dl/euphrasia */
.ansi-black-fg {
  color: #3E424D;
}
.ansi-black-bg {
  background-color: #3E424D;
}
.ansi-black-intense-fg {
  color: #282C36;
}
.ansi-black-intense-bg {
  background-color: #282C36;
}
.ansi-red-fg {
  color: #E75C58;
}
.ansi-red-bg {
  background-color: #E75C58;
}
.ansi-red-intense-fg {
  color: #B22B31;
}
.ansi-red-intense-bg {
  background-color: #B22B31;
}
.ansi-green-fg {
  color: #00A250;
}
.ansi-green-bg {
  background-color: #00A250;
}
.ansi-green-intense-fg {
  color: #007427;
}
.ansi-green-intense-bg {
  background-color: #007427;
}
.ansi-yellow-fg {
  color: #DDB62B;
}
.ansi-yellow-bg {
  background-color: #DDB62B;
}
.ansi-yellow-intense-fg {
  color: #B27D12;
}
.ansi-yellow-intense-bg {
  background-color: #B27D12;
}
.ansi-blue-fg {
  color: #208FFB;
}
.ansi-blue-bg {
  background-color: #208FFB;
}
.ansi-blue-intense-fg {
  color: #0065CA;
}
.ansi-blue-intense-bg {
  background-color: #0065CA;
}
.ansi-magenta-fg {
  color: #D160C4;
}
.ansi-magenta-bg {
  background-color: #D160C4;
}
.ansi-magenta-intense-fg {
  color: #A03196;
}
.ansi-magenta-intense-bg {
  background-color: #A03196;
}
.ansi-cyan-fg {
  color: #60C6C8;
}
.ansi-cyan-bg {
  background-color: #60C6C8;
}
.ansi-cyan-intense-fg {
  color: #258F8F;
}
.ansi-cyan-intense-bg {
  background-color: #258F8F;
}
.ansi-white-fg {
  color: #C5C1B4;
}
.ansi-white-bg {
  background-color: #C5C1B4;
}
.ansi-white-intense-fg {
  color: #A1A6B2;
}
.ansi-white-intense-bg {
  background-color: #A1A6B2;
}
.ansi-default-inverse-fg {
  color: #FFFFFF;
}
.ansi-default-inverse-bg {
  background-color: #000000;
}
.ansi-bold {
  font-weight: bold;
}
.ansi-underline {
  text-decoration: underline;
}
/* The following styles are deprecated an will be removed in a future version */
.ansibold {
  font-weight: bold;
}
.ansi-inverse {
  outline: 0.5px dotted;
}
/* use dark versions for foreground, to improve visibility */
.ansiblack {
  color: black;
}
.ansired {
  color: darkred;
}
.ansigreen {
  color: darkgreen;
}
.ansiyellow {
  color: #c4a000;
}
.ansiblue {
  color: darkblue;
}
.ansipurple {
  color: darkviolet;
}
.ansicyan {
  color: steelblue;
}
.ansigray {
  color: gray;
}
/* and light for background, for the same reason */
.ansibgblack {
  background-color: black;
}
.ansibgred {
  background-color: red;
}
.ansibggreen {
  background-color: green;
}
.ansibgyellow {
  background-color: yellow;
}
.ansibgblue {
  background-color: blue;
}
.ansibgpurple {
  background-color: magenta;
}
.ansibgcyan {
  background-color: cyan;
}
.ansibggray {
  background-color: gray;
}
div.cell {
  /* Old browsers */
  display: -webkit-box;
  -webkit-box-orient: vertical;
  -webkit-box-align: stretch;
  display: -moz-box;
  -moz-box-orient: vertical;
  -moz-box-align: stretch;
  display: box;
  box-orient: vertical;
  box-align: stretch;
  /* Modern browsers */
  display: flex;
  flex-direction: column;
  align-items: stretch;
  border-radius: 2px;
  box-sizing: border-box;
  -moz-box-sizing: border-box;
  -webkit-box-sizing: border-box;
  border-width: 1px;
  border-style: solid;
  border-color: transparent;
  width: 100%;
  padding: 5px;
  /* This acts as a spacer between cells, that is outside the border */
  margin: 0px;
  outline: none;
  position: relative;
  overflow: visible;
}
div.cell:before {
  position: absolute;
  display: block;
  top: -1px;
  left: -1px;
  width: 5px;
  height: calc(100% +  2px);
  content: '';
  background: transparent;
}
div.cell.jupyter-soft-selected {
  border-left-color: #E3F2FD;
  border-left-width: 1px;
  padding-left: 5px;
  border-right-color: #E3F2FD;
  border-right-width: 1px;
  background: #E3F2FD;
}
@media print {
  div.cell.jupyter-soft-selected {
    border-color: transparent;
  }
}
div.cell.selected,
div.cell.selected.jupyter-soft-selected {
  border-color: #ababab;
}
div.cell.selected:before,
div.cell.selected.jupyter-soft-selected:before {
  position: absolute;
  display: block;
  top: -1px;
  left: -1px;
  width: 5px;
  height: calc(100% +  2px);
  content: '';
  background: #42A5F5;
}
@media print {
  div.cell.selected,
  div.cell.selected.jupyter-soft-selected {
    border-color: transparent;
  }
}
.edit_mode div.cell.selected {
  border-color: #66BB6A;
}
.edit_mode div.cell.selected:before {
  position: absolute;
  display: block;
  top: -1px;
  left: -1px;
  width: 5px;
  height: calc(100% +  2px);
  content: '';
  background: #66BB6A;
}
@media print {
  .edit_mode div.cell.selected {
    border-color: transparent;
  }
}
.prompt {
  /* This needs to be wide enough for 3 digit prompt numbers: In[100]: */
  min-width: 14ex;
  /* This padding is tuned to match the padding on the CodeMirror editor. */
  padding: 0.4em;
  margin: 0px;
  font-family: monospace;
  text-align: right;
  /* This has to match that of the the CodeMirror class line-height below */
  line-height: 1.21429em;
  /* Don't highlight prompt number selection */
  -webkit-touch-callout: none;
  -webkit-user-select: none;
  -khtml-user-select: none;
  -moz-user-select: none;
  -ms-user-select: none;
  user-select: none;
  /* Use default cursor */
  cursor: default;
}
@media (max-width: 540px) {
  .prompt {
    text-align: left;
  }
}
div.inner_cell {
  min-width: 0;
  /* Old browsers */
  display: -webkit-box;
  -webkit-box-orient: vertical;
  -webkit-box-align: stretch;
  display: -moz-box;
  -moz-box-orient: vertical;
  -moz-box-align: stretch;
  display: box;
  box-orient: vertical;
  box-align: stretch;
  /* Modern browsers */
  display: flex;
  flex-direction: column;
  align-items: stretch;
  /* Old browsers */
  -webkit-box-flex: 1;
  -moz-box-flex: 1;
  box-flex: 1;
  /* Modern browsers */
  flex: 1;
}
/* input_area and input_prompt must match in top border and margin for alignment */
div.input_area {
  border: 1px solid #cfcfcf;
  border-radius: 2px;
  background: #f7f7f7;
  line-height: 1.21429em;
}
/* This is needed so that empty prompt areas can collapse to zero height when there
   is no content in the output_subarea and the prompt. The main purpose of this is
   to make sure that empty JavaScript output_subareas have no height. */
div.prompt:empty {
  padding-top: 0;
  padding-bottom: 0;
}
div.unrecognized_cell {
  padding: 5px 5px 5px 0px;
  /* Old browsers */
  display: -webkit-box;
  -webkit-box-orient: horizontal;
  -webkit-box-align: stretch;
  display: -moz-box;
  -moz-box-orient: horizontal;
  -moz-box-align: stretch;
  display: box;
  box-orient: horizontal;
  box-align: stretch;
  /* Modern browsers */
  display: flex;
  flex-direction: row;
  align-items: stretch;
}
div.unrecognized_cell .inner_cell {
  border-radius: 2px;
  padding: 5px;
  font-weight: bold;
  color: red;
  border: 1px solid #cfcfcf;
  background: #eaeaea;
}
div.unrecognized_cell .inner_cell a {
  color: inherit;
  text-decoration: none;
}
div.unrecognized_cell .inner_cell a:hover {
  color: inherit;
  text-decoration: none;
}
@media (max-width: 540px) {
  div.unrecognized_cell > div.prompt {
    display: none;
  }
}
div.code_cell {
  /* avoid page breaking on code cells when printing */
}
@media print {
  div.code_cell {
    page-break-inside: avoid;
  }
}
/* any special styling for code cells that are currently running goes here */
div.input {
  page-break-inside: avoid;
  /* Old browsers */
  display: -webkit-box;
  -webkit-box-orient: horizontal;
  -webkit-box-align: stretch;
  display: -moz-box;
  -moz-box-orient: horizontal;
  -moz-box-align: stretch;
  display: box;
  box-orient: horizontal;
  box-align: stretch;
  /* Modern browsers */
  display: flex;
  flex-direction: row;
  align-items: stretch;
}
@media (max-width: 540px) {
  div.input {
    /* Old browsers */
    display: -webkit-box;
    -webkit-box-orient: vertical;
    -webkit-box-align: stretch;
    display: -moz-box;
    -moz-box-orient: vertical;
    -moz-box-align: stretch;
    display: box;
    box-orient: vertical;
    box-align: stretch;
    /* Modern browsers */
    display: flex;
    flex-direction: column;
    align-items: stretch;
  }
}
/* input_area and input_prompt must match in top border and margin for alignment */
div.input_prompt {
  color: #303F9F;
  border-top: 1px solid transparent;
}
div.input_area > div.highlight {
  margin: 0.4em;
  border: none;
  padding: 0px;
  background-color: transparent;
}
div.input_area > div.highlight > pre {
  margin: 0px;
  border: none;
  padding: 0px;
  background-color: transparent;
}
/* The following gets added to the <head> if it is detected that the user has a
 * monospace font with inconsistent normal/bold/italic height.  See
 * notebookmain.js.  Such fonts will have keywords vertically offset with
 * respect to the rest of the text.  The user should select a better font.
 * See: https://github.com/ipython/ipython/issues/1503
 *
 * .CodeMirror span {
 *      vertical-align: bottom;
 * }
 */
.CodeMirror {
  line-height: 1.21429em;
  /* Changed from 1em to our global default */
  font-size: 14px;
  height: auto;
  /* Changed to auto to autogrow */
  background: none;
  /* Changed from white to allow our bg to show through */
}
.CodeMirror-scroll {
  /*  The CodeMirror docs are a bit fuzzy on if overflow-y should be hidden or visible.*/
  /*  We have found that if it is visible, vertical scrollbars appear with font size changes.*/
  overflow-y: hidden;
  overflow-x: auto;
}
.CodeMirror-lines {
  /* In CM2, this used to be 0.4em, but in CM3 it went to 4px. We need the em value because */
  /* we have set a different line-height and want this to scale with that. */
  /* Note that this should set vertical padding only, since CodeMirror assumes
       that horizontal padding will be set on CodeMirror pre */
  padding: 0.4em 0;
}
.CodeMirror-linenumber {
  padding: 0 8px 0 4px;
}
.CodeMirror-gutters {
  border-bottom-left-radius: 2px;
  border-top-left-radius: 2px;
}
.CodeMirror pre {
  /* In CM3 this went to 4px from 0 in CM2. This sets horizontal padding only,
    use .CodeMirror-lines for vertical */
  padding: 0 0.4em;
  border: 0;
  border-radius: 0;
}
.CodeMirror-cursor {
  border-left: 1.4px solid black;
}
@media screen and (min-width: 2138px) and (max-width: 4319px) {
  .CodeMirror-cursor {
    border-left: 2px solid black;
  }
}
@media screen and (min-width: 4320px) {
  .CodeMirror-cursor {
    border-left: 4px solid black;
  }
}
/*

Original style from softwaremaniacs.org (c) Ivan Sagalaev <Maniac@SoftwareManiacs.Org>
Adapted from GitHub theme

*/
.highlight-base {
  color: #000;
}
.highlight-variable {
  color: #000;
}
.highlight-variable-2 {
  color: #1a1a1a;
}
.highlight-variable-3 {
  color: #333333;
}
.highlight-string {
  color: #BA2121;
}
.highlight-comment {
  color: #408080;
  font-style: italic;
}
.highlight-number {
  color: #080;
}
.highlight-atom {
  color: #88F;
}
.highlight-keyword {
  color: #008000;
  font-weight: bold;
}
.highlight-builtin {
  color: #008000;
}
.highlight-error {
  color: #f00;
}
.highlight-operator {
  color: #AA22FF;
  font-weight: bold;
}
.highlight-meta {
  color: #AA22FF;
}
/* previously not defined, copying from default codemirror */
.highlight-def {
  color: #00f;
}
.highlight-string-2 {
  color: #f50;
}
.highlight-qualifier {
  color: #555;
}
.highlight-bracket {
  color: #997;
}
.highlight-tag {
  color: #170;
}
.highlight-attribute {
  color: #00c;
}
.highlight-header {
  color: blue;
}
.highlight-quote {
  color: #090;
}
.highlight-link {
  color: #00c;
}
/* apply the same style to codemirror */
.cm-s-ipython span.cm-keyword {
  color: #008000;
  font-weight: bold;
}
.cm-s-ipython span.cm-atom {
  color: #88F;
}
.cm-s-ipython span.cm-number {
  color: #080;
}
.cm-s-ipython span.cm-def {
  color: #00f;
}
.cm-s-ipython span.cm-variable {
  color: #000;
}
.cm-s-ipython span.cm-operator {
  color: #AA22FF;
  font-weight: bold;
}
.cm-s-ipython span.cm-variable-2 {
  color: #1a1a1a;
}
.cm-s-ipython span.cm-variable-3 {
  color: #333333;
}
.cm-s-ipython span.cm-comment {
  color: #408080;
  font-style: italic;
}
.cm-s-ipython span.cm-string {
  color: #BA2121;
}
.cm-s-ipython span.cm-string-2 {
  color: #f50;
}
.cm-s-ipython span.cm-meta {
  color: #AA22FF;
}
.cm-s-ipython span.cm-qualifier {
  color: #555;
}
.cm-s-ipython span.cm-builtin {
  color: #008000;
}
.cm-s-ipython span.cm-bracket {
  color: #997;
}
.cm-s-ipython span.cm-tag {
  color: #170;
}
.cm-s-ipython span.cm-attribute {
  color: #00c;
}
.cm-s-ipython span.cm-header {
  color: blue;
}
.cm-s-ipython span.cm-quote {
  color: #090;
}
.cm-s-ipython span.cm-link {
  color: #00c;
}
.cm-s-ipython span.cm-error {
  color: #f00;
}
.cm-s-ipython span.cm-tab {
  background: url(data:image/png;base64,iVBORw0KGgoAAAANSUhEUgAAADAAAAAMCAYAAAAkuj5RAAAAAXNSR0IArs4c6QAAAGFJREFUSMft1LsRQFAQheHPowAKoACx3IgEKtaEHujDjORSgWTH/ZOdnZOcM/sgk/kFFWY0qV8foQwS4MKBCS3qR6ixBJvElOobYAtivseIE120FaowJPN75GMu8j/LfMwNjh4HUpwg4LUAAAAASUVORK5CYII=);
  background-position: right;
  background-repeat: no-repeat;
}
div.output_wrapper {
  /* this position must be relative to enable descendents to be absolute within it */
  position: relative;
  /* Old browsers */
  display: -webkit-box;
  -webkit-box-orient: vertical;
  -webkit-box-align: stretch;
  display: -moz-box;
  -moz-box-orient: vertical;
  -moz-box-align: stretch;
  display: box;
  box-orient: vertical;
  box-align: stretch;
  /* Modern browsers */
  display: flex;
  flex-direction: column;
  align-items: stretch;
  z-index: 1;
}
/* class for the output area when it should be height-limited */
div.output_scroll {
  /* ideally, this would be max-height, but FF barfs all over that */
  height: 24em;
  /* FF needs this *and the wrapper* to specify full width, or it will shrinkwrap */
  width: 100%;
  overflow: auto;
  border-radius: 2px;
  -webkit-box-shadow: inset 0 2px 8px rgba(0, 0, 0, 0.8);
  box-shadow: inset 0 2px 8px rgba(0, 0, 0, 0.8);
  display: block;
}
/* output div while it is collapsed */
div.output_collapsed {
  margin: 0px;
  padding: 0px;
  /* Old browsers */
  display: -webkit-box;
  -webkit-box-orient: vertical;
  -webkit-box-align: stretch;
  display: -moz-box;
  -moz-box-orient: vertical;
  -moz-box-align: stretch;
  display: box;
  box-orient: vertical;
  box-align: stretch;
  /* Modern browsers */
  display: flex;
  flex-direction: column;
  align-items: stretch;
}
div.out_prompt_overlay {
  height: 100%;
  padding: 0px 0.4em;
  position: absolute;
  border-radius: 2px;
}
div.out_prompt_overlay:hover {
  /* use inner shadow to get border that is computed the same on WebKit/FF */
  -webkit-box-shadow: inset 0 0 1px #000;
  box-shadow: inset 0 0 1px #000;
  background: rgba(240, 240, 240, 0.5);
}
div.output_prompt {
  color: #D84315;
}
/* This class is the outer container of all output sections. */
div.output_area {
  padding: 0px;
  page-break-inside: avoid;
  /* Old browsers */
  display: -webkit-box;
  -webkit-box-orient: horizontal;
  -webkit-box-align: stretch;
  display: -moz-box;
  -moz-box-orient: horizontal;
  -moz-box-align: stretch;
  display: box;
  box-orient: horizontal;
  box-align: stretch;
  /* Modern browsers */
  display: flex;
  flex-direction: row;
  align-items: stretch;
}
div.output_area .MathJax_Display {
  text-align: left !important;
}
div.output_area .rendered_html table {
  margin-left: 0;
  margin-right: 0;
}
div.output_area .rendered_html img {
  margin-left: 0;
  margin-right: 0;
}
div.output_area img,
div.output_area svg {
  max-width: 100%;
  height: auto;
}
div.output_area img.unconfined,
div.output_area svg.unconfined {
  max-width: none;
}
div.output_area .mglyph > img {
  max-width: none;
}
/* This is needed to protect the pre formating from global settings such
   as that of bootstrap */
.output {
  /* Old browsers */
  display: -webkit-box;
  -webkit-box-orient: vertical;
  -webkit-box-align: stretch;
  display: -moz-box;
  -moz-box-orient: vertical;
  -moz-box-align: stretch;
  display: box;
  box-orient: vertical;
  box-align: stretch;
  /* Modern browsers */
  display: flex;
  flex-direction: column;
  align-items: stretch;
}
@media (max-width: 540px) {
  div.output_area {
    /* Old browsers */
    display: -webkit-box;
    -webkit-box-orient: vertical;
    -webkit-box-align: stretch;
    display: -moz-box;
    -moz-box-orient: vertical;
    -moz-box-align: stretch;
    display: box;
    box-orient: vertical;
    box-align: stretch;
    /* Modern browsers */
    display: flex;
    flex-direction: column;
    align-items: stretch;
  }
}
div.output_area pre {
  margin: 0;
  padding: 1px 0 1px 0;
  border: 0;
  vertical-align: baseline;
  color: black;
  background-color: transparent;
  border-radius: 0;
}
/* This class is for the output subarea inside the output_area and after
   the prompt div. */
div.output_subarea {
  overflow-x: auto;
  padding: 0.4em;
  /* Old browsers */
  -webkit-box-flex: 1;
  -moz-box-flex: 1;
  box-flex: 1;
  /* Modern browsers */
  flex: 1;
  max-width: calc(100% - 14ex);
}
div.output_scroll div.output_subarea {
  overflow-x: visible;
}
/* The rest of the output_* classes are for special styling of the different
   output types */
/* all text output has this class: */
div.output_text {
  text-align: left;
  color: #000;
  /* This has to match that of the the CodeMirror class line-height below */
  line-height: 1.21429em;
}
/* stdout/stderr are 'text' as well as 'stream', but execute_result/error are *not* streams */
div.output_stderr {
  background: #fdd;
  /* very light red background for stderr */
}
div.output_latex {
  text-align: left;
}
/* Empty output_javascript divs should have no height */
div.output_javascript:empty {
  padding: 0;
}
.js-error {
  color: darkred;
}
/* raw_input styles */
div.raw_input_container {
  line-height: 1.21429em;
  padding-top: 5px;
}
pre.raw_input_prompt {
  /* nothing needed here. */
}
input.raw_input {
  font-family: monospace;
  font-size: inherit;
  color: inherit;
  width: auto;
  /* make sure input baseline aligns with prompt */
  vertical-align: baseline;
  /* padding + margin = 0.5em between prompt and cursor */
  padding: 0em 0.25em;
  margin: 0em 0.25em;
}
input.raw_input:focus {
  box-shadow: none;
}
p.p-space {
  margin-bottom: 10px;
}
div.output_unrecognized {
  padding: 5px;
  font-weight: bold;
  color: red;
}
div.output_unrecognized a {
  color: inherit;
  text-decoration: none;
}
div.output_unrecognized a:hover {
  color: inherit;
  text-decoration: none;
}
.rendered_html {
  color: #000;
  /* any extras will just be numbers: */
}
.rendered_html em {
  font-style: italic;
}
.rendered_html strong {
  font-weight: bold;
}
.rendered_html u {
  text-decoration: underline;
}
.rendered_html :link {
  text-decoration: underline;
}
.rendered_html :visited {
  text-decoration: underline;
}
.rendered_html h1 {
  font-size: 185.7%;
  margin: 1.08em 0 0 0;
  font-weight: bold;
  line-height: 1.0;
}
.rendered_html h2 {
  font-size: 157.1%;
  margin: 1.27em 0 0 0;
  font-weight: bold;
  line-height: 1.0;
}
.rendered_html h3 {
  font-size: 128.6%;
  margin: 1.55em 0 0 0;
  font-weight: bold;
  line-height: 1.0;
}
.rendered_html h4 {
  font-size: 100%;
  margin: 2em 0 0 0;
  font-weight: bold;
  line-height: 1.0;
}
.rendered_html h5 {
  font-size: 100%;
  margin: 2em 0 0 0;
  font-weight: bold;
  line-height: 1.0;
  font-style: italic;
}
.rendered_html h6 {
  font-size: 100%;
  margin: 2em 0 0 0;
  font-weight: bold;
  line-height: 1.0;
  font-style: italic;
}
.rendered_html h1:first-child {
  margin-top: 0.538em;
}
.rendered_html h2:first-child {
  margin-top: 0.636em;
}
.rendered_html h3:first-child {
  margin-top: 0.777em;
}
.rendered_html h4:first-child {
  margin-top: 1em;
}
.rendered_html h5:first-child {
  margin-top: 1em;
}
.rendered_html h6:first-child {
  margin-top: 1em;
}
.rendered_html ul:not(.list-inline),
.rendered_html ol:not(.list-inline) {
  padding-left: 2em;
}
.rendered_html ul {
  list-style: disc;
}
.rendered_html ul ul {
  list-style: square;
  margin-top: 0;
}
.rendered_html ul ul ul {
  list-style: circle;
}
.rendered_html ol {
  list-style: decimal;
}
.rendered_html ol ol {
  list-style: upper-alpha;
  margin-top: 0;
}
.rendered_html ol ol ol {
  list-style: lower-alpha;
}
.rendered_html ol ol ol ol {
  list-style: lower-roman;
}
.rendered_html ol ol ol ol ol {
  list-style: decimal;
}
.rendered_html * + ul {
  margin-top: 1em;
}
.rendered_html * + ol {
  margin-top: 1em;
}
.rendered_html hr {
  color: black;
  background-color: black;
}
.rendered_html pre {
  margin: 1em 2em;
  padding: 0px;
  background-color: #fff;
}
.rendered_html code {
  background-color: #eff0f1;
}
.rendered_html p code {
  padding: 1px 5px;
}
.rendered_html pre code {
  background-color: #fff;
}
.rendered_html pre,
.rendered_html code {
  border: 0;
  color: #000;
  font-size: 100%;
}
.rendered_html blockquote {
  margin: 1em 2em;
}
.rendered_html table {
  margin-left: auto;
  margin-right: auto;
  border: none;
  border-collapse: collapse;
  border-spacing: 0;
  color: black;
  font-size: 12px;
  table-layout: fixed;
}
.rendered_html thead {
  border-bottom: 1px solid black;
  vertical-align: bottom;
}
.rendered_html tr,
.rendered_html th,
.rendered_html td {
  text-align: right;
  vertical-align: middle;
  padding: 0.5em 0.5em;
  line-height: normal;
  white-space: normal;
  max-width: none;
  border: none;
}
.rendered_html th {
  font-weight: bold;
}
.rendered_html tbody tr:nth-child(odd) {
  background: #f5f5f5;
}
.rendered_html tbody tr:hover {
  background: rgba(66, 165, 245, 0.2);
}
.rendered_html * + table {
  margin-top: 1em;
}
.rendered_html p {
  text-align: left;
}
.rendered_html * + p {
  margin-top: 1em;
}
.rendered_html img {
  display: block;
  margin-left: auto;
  margin-right: auto;
}
.rendered_html * + img {
  margin-top: 1em;
}
.rendered_html img,
.rendered_html svg {
  max-width: 100%;
  height: auto;
}
.rendered_html img.unconfined,
.rendered_html svg.unconfined {
  max-width: none;
}
.rendered_html .alert {
  margin-bottom: initial;
}
.rendered_html * + .alert {
  margin-top: 1em;
}
[dir="rtl"] .rendered_html p {
  text-align: right;
}
div.text_cell {
  /* Old browsers */
  display: -webkit-box;
  -webkit-box-orient: horizontal;
  -webkit-box-align: stretch;
  display: -moz-box;
  -moz-box-orient: horizontal;
  -moz-box-align: stretch;
  display: box;
  box-orient: horizontal;
  box-align: stretch;
  /* Modern browsers */
  display: flex;
  flex-direction: row;
  align-items: stretch;
}
@media (max-width: 540px) {
  div.text_cell > div.prompt {
    display: none;
  }
}
div.text_cell_render {
  /*font-family: "Helvetica Neue", Arial, Helvetica, Geneva, sans-serif;*/
  outline: none;
  resize: none;
  width: inherit;
  border-style: none;
  padding: 0.5em 0.5em 0.5em 0.4em;
  color: #000;
  box-sizing: border-box;
  -moz-box-sizing: border-box;
  -webkit-box-sizing: border-box;
}
a.anchor-link:link {
  text-decoration: none;
  padding: 0px 20px;
  visibility: hidden;
}
h1:hover .anchor-link,
h2:hover .anchor-link,
h3:hover .anchor-link,
h4:hover .anchor-link,
h5:hover .anchor-link,
h6:hover .anchor-link {
  visibility: visible;
}
.text_cell.rendered .input_area {
  display: none;
}
.text_cell.rendered .rendered_html {
  overflow-x: auto;
  overflow-y: hidden;
}
.text_cell.rendered .rendered_html tr,
.text_cell.rendered .rendered_html th,
.text_cell.rendered .rendered_html td {
  max-width: none;
}
.text_cell.unrendered .text_cell_render {
  display: none;
}
.text_cell .dropzone .input_area {
  border: 2px dashed #bababa;
  margin: -1px;
}
.cm-header-1,
.cm-header-2,
.cm-header-3,
.cm-header-4,
.cm-header-5,
.cm-header-6 {
  font-weight: bold;
  font-family: "Helvetica Neue", Helvetica, Arial, sans-serif;
}
.cm-header-1 {
  font-size: 185.7%;
}
.cm-header-2 {
  font-size: 157.1%;
}
.cm-header-3 {
  font-size: 128.6%;
}
.cm-header-4 {
  font-size: 110%;
}
.cm-header-5 {
  font-size: 100%;
  font-style: italic;
}
.cm-header-6 {
  font-size: 100%;
  font-style: italic;
}
/*!
*
* IPython notebook webapp
*
*/
@media (max-width: 767px) {
  .notebook_app {
    padding-left: 0px;
    padding-right: 0px;
  }
}
#ipython-main-app {
  box-sizing: border-box;
  -moz-box-sizing: border-box;
  -webkit-box-sizing: border-box;
  height: 100%;
}
div#notebook_panel {
  margin: 0px;
  padding: 0px;
  box-sizing: border-box;
  -moz-box-sizing: border-box;
  -webkit-box-sizing: border-box;
  height: 100%;
}
div#notebook {
  font-size: 14px;
  line-height: 20px;
  overflow-y: hidden;
  overflow-x: auto;
  width: 100%;
  /* This spaces the page away from the edge of the notebook area */
  padding-top: 20px;
  margin: 0px;
  outline: none;
  box-sizing: border-box;
  -moz-box-sizing: border-box;
  -webkit-box-sizing: border-box;
  min-height: 100%;
}
@media not print {
  #notebook-container {
    padding: 15px;
    background-color: #fff;
    min-height: 0;
    -webkit-box-shadow: 0px 0px 12px 1px rgba(87, 87, 87, 0.2);
    box-shadow: 0px 0px 12px 1px rgba(87, 87, 87, 0.2);
  }
}
@media print {
  #notebook-container {
    width: 100%;
  }
}
div.ui-widget-content {
  border: 1px solid #ababab;
  outline: none;
}
pre.dialog {
  background-color: #f7f7f7;
  border: 1px solid #ddd;
  border-radius: 2px;
  padding: 0.4em;
  padding-left: 2em;
}
p.dialog {
  padding: 0.2em;
}
/* Word-wrap output correctly.  This is the CSS3 spelling, though Firefox seems
   to not honor it correctly.  Webkit browsers (Chrome, rekonq, Safari) do.
 */
pre,
code,
kbd,
samp {
  white-space: pre-wrap;
}
#fonttest {
  font-family: monospace;
}
p {
  margin-bottom: 0;
}
.end_space {
  min-height: 100px;
  transition: height .2s ease;
}
.notebook_app > #header {
  -webkit-box-shadow: 0px 0px 12px 1px rgba(87, 87, 87, 0.2);
  box-shadow: 0px 0px 12px 1px rgba(87, 87, 87, 0.2);
}
@media not print {
  .notebook_app {
    background-color: #EEE;
  }
}
kbd {
  border-style: solid;
  border-width: 1px;
  box-shadow: none;
  margin: 2px;
  padding-left: 2px;
  padding-right: 2px;
  padding-top: 1px;
  padding-bottom: 1px;
}
.jupyter-keybindings {
  padding: 1px;
  line-height: 24px;
  border-bottom: 1px solid gray;
}
.jupyter-keybindings input {
  margin: 0;
  padding: 0;
  border: none;
}
.jupyter-keybindings i {
  padding: 6px;
}
.well code {
  background-color: #ffffff;
  border-color: #ababab;
  border-width: 1px;
  border-style: solid;
  padding: 2px;
  padding-top: 1px;
  padding-bottom: 1px;
}
/* CSS for the cell toolbar */
.celltoolbar {
  border: thin solid #CFCFCF;
  border-bottom: none;
  background: #EEE;
  border-radius: 2px 2px 0px 0px;
  width: 100%;
  height: 29px;
  padding-right: 4px;
  /* Old browsers */
  display: -webkit-box;
  -webkit-box-orient: horizontal;
  -webkit-box-align: stretch;
  display: -moz-box;
  -moz-box-orient: horizontal;
  -moz-box-align: stretch;
  display: box;
  box-orient: horizontal;
  box-align: stretch;
  /* Modern browsers */
  display: flex;
  flex-direction: row;
  align-items: stretch;
  /* Old browsers */
  -webkit-box-pack: end;
  -moz-box-pack: end;
  box-pack: end;
  /* Modern browsers */
  justify-content: flex-end;
  display: -webkit-flex;
}
@media print {
  .celltoolbar {
    display: none;
  }
}
.ctb_hideshow {
  display: none;
  vertical-align: bottom;
}
/* ctb_show is added to the ctb_hideshow div to show the cell toolbar.
   Cell toolbars are only shown when the ctb_global_show class is also set.
*/
.ctb_global_show .ctb_show.ctb_hideshow {
  display: block;
}
.ctb_global_show .ctb_show + .input_area,
.ctb_global_show .ctb_show + div.text_cell_input,
.ctb_global_show .ctb_show ~ div.text_cell_render {
  border-top-right-radius: 0px;
  border-top-left-radius: 0px;
}
.ctb_global_show .ctb_show ~ div.text_cell_render {
  border: 1px solid #cfcfcf;
}
.celltoolbar {
  font-size: 87%;
  padding-top: 3px;
}
.celltoolbar select {
  display: block;
  width: 100%;
  height: 32px;
  padding: 6px 12px;
  font-size: 13px;
  line-height: 1.42857143;
  color: #555555;
  background-color: #fff;
  background-image: none;
  border: 1px solid #ccc;
  border-radius: 2px;
  -webkit-box-shadow: inset 0 1px 1px rgba(0, 0, 0, 0.075);
  box-shadow: inset 0 1px 1px rgba(0, 0, 0, 0.075);
  -webkit-transition: border-color ease-in-out .15s, box-shadow ease-in-out .15s;
  -o-transition: border-color ease-in-out .15s, box-shadow ease-in-out .15s;
  transition: border-color ease-in-out .15s, box-shadow ease-in-out .15s;
  height: 30px;
  padding: 5px 10px;
  font-size: 12px;
  line-height: 1.5;
  border-radius: 1px;
  width: inherit;
  font-size: inherit;
  height: 22px;
  padding: 0px;
  display: inline-block;
}
.celltoolbar select:focus {
  border-color: #66afe9;
  outline: 0;
  -webkit-box-shadow: inset 0 1px 1px rgba(0,0,0,.075), 0 0 8px rgba(102, 175, 233, 0.6);
  box-shadow: inset 0 1px 1px rgba(0,0,0,.075), 0 0 8px rgba(102, 175, 233, 0.6);
}
.celltoolbar select::-moz-placeholder {
  color: #999;
  opacity: 1;
}
.celltoolbar select:-ms-input-placeholder {
  color: #999;
}
.celltoolbar select::-webkit-input-placeholder {
  color: #999;
}
.celltoolbar select::-ms-expand {
  border: 0;
  background-color: transparent;
}
.celltoolbar select[disabled],
.celltoolbar select[readonly],
fieldset[disabled] .celltoolbar select {
  background-color: #eeeeee;
  opacity: 1;
}
.celltoolbar select[disabled],
fieldset[disabled] .celltoolbar select {
  cursor: not-allowed;
}
textarea.celltoolbar select {
  height: auto;
}
select.celltoolbar select {
  height: 30px;
  line-height: 30px;
}
textarea.celltoolbar select,
select[multiple].celltoolbar select {
  height: auto;
}
.celltoolbar label {
  margin-left: 5px;
  margin-right: 5px;
}
.tags_button_container {
  width: 100%;
  display: flex;
}
.tag-container {
  display: flex;
  flex-direction: row;
  flex-grow: 1;
  overflow: hidden;
  position: relative;
}
.tag-container > * {
  margin: 0 4px;
}
.remove-tag-btn {
  margin-left: 4px;
}
.tags-input {
  display: flex;
}
.cell-tag:last-child:after {
  content: "";
  position: absolute;
  right: 0;
  width: 40px;
  height: 100%;
  /* Fade to background color of cell toolbar */
  background: linear-gradient(to right, rgba(0, 0, 0, 0), #EEE);
}
.tags-input > * {
  margin-left: 4px;
}
.cell-tag,
.tags-input input,
.tags-input button {
  display: block;
  width: 100%;
  height: 32px;
  padding: 6px 12px;
  font-size: 13px;
  line-height: 1.42857143;
  color: #555555;
  background-color: #fff;
  background-image: none;
  border: 1px solid #ccc;
  border-radius: 2px;
  -webkit-box-shadow: inset 0 1px 1px rgba(0, 0, 0, 0.075);
  box-shadow: inset 0 1px 1px rgba(0, 0, 0, 0.075);
  -webkit-transition: border-color ease-in-out .15s, box-shadow ease-in-out .15s;
  -o-transition: border-color ease-in-out .15s, box-shadow ease-in-out .15s;
  transition: border-color ease-in-out .15s, box-shadow ease-in-out .15s;
  height: 30px;
  padding: 5px 10px;
  font-size: 12px;
  line-height: 1.5;
  border-radius: 1px;
  box-shadow: none;
  width: inherit;
  font-size: inherit;
  height: 22px;
  line-height: 22px;
  padding: 0px 4px;
  display: inline-block;
}
.cell-tag:focus,
.tags-input input:focus,
.tags-input button:focus {
  border-color: #66afe9;
  outline: 0;
  -webkit-box-shadow: inset 0 1px 1px rgba(0,0,0,.075), 0 0 8px rgba(102, 175, 233, 0.6);
  box-shadow: inset 0 1px 1px rgba(0,0,0,.075), 0 0 8px rgba(102, 175, 233, 0.6);
}
.cell-tag::-moz-placeholder,
.tags-input input::-moz-placeholder,
.tags-input button::-moz-placeholder {
  color: #999;
  opacity: 1;
}
.cell-tag:-ms-input-placeholder,
.tags-input input:-ms-input-placeholder,
.tags-input button:-ms-input-placeholder {
  color: #999;
}
.cell-tag::-webkit-input-placeholder,
.tags-input input::-webkit-input-placeholder,
.tags-input button::-webkit-input-placeholder {
  color: #999;
}
.cell-tag::-ms-expand,
.tags-input input::-ms-expand,
.tags-input button::-ms-expand {
  border: 0;
  background-color: transparent;
}
.cell-tag[disabled],
.tags-input input[disabled],
.tags-input button[disabled],
.cell-tag[readonly],
.tags-input input[readonly],
.tags-input button[readonly],
fieldset[disabled] .cell-tag,
fieldset[disabled] .tags-input input,
fieldset[disabled] .tags-input button {
  background-color: #eeeeee;
  opacity: 1;
}
.cell-tag[disabled],
.tags-input input[disabled],
.tags-input button[disabled],
fieldset[disabled] .cell-tag,
fieldset[disabled] .tags-input input,
fieldset[disabled] .tags-input button {
  cursor: not-allowed;
}
textarea.cell-tag,
textarea.tags-input input,
textarea.tags-input button {
  height: auto;
}
select.cell-tag,
select.tags-input input,
select.tags-input button {
  height: 30px;
  line-height: 30px;
}
textarea.cell-tag,
textarea.tags-input input,
textarea.tags-input button,
select[multiple].cell-tag,
select[multiple].tags-input input,
select[multiple].tags-input button {
  height: auto;
}
.cell-tag,
.tags-input button {
  padding: 0px 4px;
}
.cell-tag {
  background-color: #fff;
  white-space: nowrap;
}
.tags-input input[type=text]:focus {
  outline: none;
  box-shadow: none;
  border-color: #ccc;
}
.completions {
  position: absolute;
  z-index: 110;
  overflow: hidden;
  border: 1px solid #ababab;
  border-radius: 2px;
  -webkit-box-shadow: 0px 6px 10px -1px #adadad;
  box-shadow: 0px 6px 10px -1px #adadad;
  line-height: 1;
}
.completions select {
  background: white;
  outline: none;
  border: none;
  padding: 0px;
  margin: 0px;
  overflow: auto;
  font-family: monospace;
  font-size: 110%;
  color: #000;
  width: auto;
}
.completions select option.context {
  color: #286090;
}
#kernel_logo_widget .current_kernel_logo {
  display: none;
  margin-top: -1px;
  margin-bottom: -1px;
  width: 32px;
  height: 32px;
}
[dir="rtl"] #kernel_logo_widget {
  float: left !important;
  float: left;
}
.modal .modal-body .move-path {
  display: flex;
  flex-direction: row;
  justify-content: space;
  align-items: center;
}
.modal .modal-body .move-path .server-root {
  padding-right: 20px;
}
.modal .modal-body .move-path .path-input {
  flex: 1;
}
#menubar {
  box-sizing: border-box;
  -moz-box-sizing: border-box;
  -webkit-box-sizing: border-box;
  margin-top: 1px;
}
#menubar .navbar {
  border-top: 1px;
  border-radius: 0px 0px 2px 2px;
  margin-bottom: 0px;
}
#menubar .navbar-toggle {
  float: left;
  padding-top: 7px;
  padding-bottom: 7px;
  border: none;
}
#menubar .navbar-collapse {
  clear: left;
}
[dir="rtl"] #menubar .navbar-toggle {
  float: right;
}
[dir="rtl"] #menubar .navbar-collapse {
  clear: right;
}
[dir="rtl"] #menubar .navbar-nav {
  float: right;
}
[dir="rtl"] #menubar .nav {
  padding-right: 0px;
}
[dir="rtl"] #menubar .navbar-nav > li {
  float: right;
}
[dir="rtl"] #menubar .navbar-right {
  float: left !important;
}
[dir="rtl"] ul.dropdown-menu {
  text-align: right;
  left: auto;
}
[dir="rtl"] ul#new-menu.dropdown-menu {
  right: auto;
  left: 0;
}
.nav-wrapper {
  border-bottom: 1px solid #e7e7e7;
}
i.menu-icon {
  padding-top: 4px;
}
[dir="rtl"] i.menu-icon.pull-right {
  float: left !important;
  float: left;
}
ul#help_menu li a {
  overflow: hidden;
  padding-right: 2.2em;
}
ul#help_menu li a i {
  margin-right: -1.2em;
}
[dir="rtl"] ul#help_menu li a {
  padding-left: 2.2em;
}
[dir="rtl"] ul#help_menu li a i {
  margin-right: 0;
  margin-left: -1.2em;
}
[dir="rtl"] ul#help_menu li a i.pull-right {
  float: left !important;
  float: left;
}
.dropdown-submenu {
  position: relative;
}
.dropdown-submenu > .dropdown-menu {
  top: 0;
  left: 100%;
  margin-top: -6px;
  margin-left: -1px;
}
[dir="rtl"] .dropdown-submenu > .dropdown-menu {
  right: 100%;
  margin-right: -1px;
}
.dropdown-submenu:hover > .dropdown-menu {
  display: block;
}
.dropdown-submenu > a:after {
  display: inline-block;
  font: normal normal normal 14px/1 FontAwesome;
  font-size: inherit;
  text-rendering: auto;
  -webkit-font-smoothing: antialiased;
  -moz-osx-font-smoothing: grayscale;
  display: block;
  content: "\f0da";
  float: right;
  color: #333333;
  margin-top: 2px;
  margin-right: -10px;
}
.dropdown-submenu > a:after.fa-pull-left {
  margin-right: .3em;
}
.dropdown-submenu > a:after.fa-pull-right {
  margin-left: .3em;
}
.dropdown-submenu > a:after.pull-left {
  margin-right: .3em;
}
.dropdown-submenu > a:after.pull-right {
  margin-left: .3em;
}
[dir="rtl"] .dropdown-submenu > a:after {
  float: left;
  content: "\f0d9";
  margin-right: 0;
  margin-left: -10px;
}
.dropdown-submenu:hover > a:after {
  color: #262626;
}
.dropdown-submenu.pull-left {
  float: none;
}
.dropdown-submenu.pull-left > .dropdown-menu {
  left: -100%;
  margin-left: 10px;
}
#notification_area {
  float: right !important;
  float: right;
  z-index: 10;
}
[dir="rtl"] #notification_area {
  float: left !important;
  float: left;
}
.indicator_area {
  float: right !important;
  float: right;
  color: #777;
  margin-left: 5px;
  margin-right: 5px;
  width: 11px;
  z-index: 10;
  text-align: center;
  width: auto;
}
[dir="rtl"] .indicator_area {
  float: left !important;
  float: left;
}
#kernel_indicator {
  float: right !important;
  float: right;
  color: #777;
  margin-left: 5px;
  margin-right: 5px;
  width: 11px;
  z-index: 10;
  text-align: center;
  width: auto;
  border-left: 1px solid;
}
#kernel_indicator .kernel_indicator_name {
  padding-left: 5px;
  padding-right: 5px;
}
[dir="rtl"] #kernel_indicator {
  float: left !important;
  float: left;
  border-left: 0;
  border-right: 1px solid;
}
#modal_indicator {
  float: right !important;
  float: right;
  color: #777;
  margin-left: 5px;
  margin-right: 5px;
  width: 11px;
  z-index: 10;
  text-align: center;
  width: auto;
}
[dir="rtl"] #modal_indicator {
  float: left !important;
  float: left;
}
#readonly-indicator {
  float: right !important;
  float: right;
  color: #777;
  margin-left: 5px;
  margin-right: 5px;
  width: 11px;
  z-index: 10;
  text-align: center;
  width: auto;
  margin-top: 2px;
  margin-bottom: 0px;
  margin-left: 0px;
  margin-right: 0px;
  display: none;
}
.modal_indicator:before {
  width: 1.28571429em;
  text-align: center;
}
.edit_mode .modal_indicator:before {
  display: inline-block;
  font: normal normal normal 14px/1 FontAwesome;
  font-size: inherit;
  text-rendering: auto;
  -webkit-font-smoothing: antialiased;
  -moz-osx-font-smoothing: grayscale;
  content: "\f040";
}
.edit_mode .modal_indicator:before.fa-pull-left {
  margin-right: .3em;
}
.edit_mode .modal_indicator:before.fa-pull-right {
  margin-left: .3em;
}
.edit_mode .modal_indicator:before.pull-left {
  margin-right: .3em;
}
.edit_mode .modal_indicator:before.pull-right {
  margin-left: .3em;
}
.command_mode .modal_indicator:before {
  display: inline-block;
  font: normal normal normal 14px/1 FontAwesome;
  font-size: inherit;
  text-rendering: auto;
  -webkit-font-smoothing: antialiased;
  -moz-osx-font-smoothing: grayscale;
  content: ' ';
}
.command_mode .modal_indicator:before.fa-pull-left {
  margin-right: .3em;
}
.command_mode .modal_indicator:before.fa-pull-right {
  margin-left: .3em;
}
.command_mode .modal_indicator:before.pull-left {
  margin-right: .3em;
}
.command_mode .modal_indicator:before.pull-right {
  margin-left: .3em;
}
.kernel_idle_icon:before {
  display: inline-block;
  font: normal normal normal 14px/1 FontAwesome;
  font-size: inherit;
  text-rendering: auto;
  -webkit-font-smoothing: antialiased;
  -moz-osx-font-smoothing: grayscale;
  content: "\f10c";
}
.kernel_idle_icon:before.fa-pull-left {
  margin-right: .3em;
}
.kernel_idle_icon:before.fa-pull-right {
  margin-left: .3em;
}
.kernel_idle_icon:before.pull-left {
  margin-right: .3em;
}
.kernel_idle_icon:before.pull-right {
  margin-left: .3em;
}
.kernel_busy_icon:before {
  display: inline-block;
  font: normal normal normal 14px/1 FontAwesome;
  font-size: inherit;
  text-rendering: auto;
  -webkit-font-smoothing: antialiased;
  -moz-osx-font-smoothing: grayscale;
  content: "\f111";
}
.kernel_busy_icon:before.fa-pull-left {
  margin-right: .3em;
}
.kernel_busy_icon:before.fa-pull-right {
  margin-left: .3em;
}
.kernel_busy_icon:before.pull-left {
  margin-right: .3em;
}
.kernel_busy_icon:before.pull-right {
  margin-left: .3em;
}
.kernel_dead_icon:before {
  display: inline-block;
  font: normal normal normal 14px/1 FontAwesome;
  font-size: inherit;
  text-rendering: auto;
  -webkit-font-smoothing: antialiased;
  -moz-osx-font-smoothing: grayscale;
  content: "\f1e2";
}
.kernel_dead_icon:before.fa-pull-left {
  margin-right: .3em;
}
.kernel_dead_icon:before.fa-pull-right {
  margin-left: .3em;
}
.kernel_dead_icon:before.pull-left {
  margin-right: .3em;
}
.kernel_dead_icon:before.pull-right {
  margin-left: .3em;
}
.kernel_disconnected_icon:before {
  display: inline-block;
  font: normal normal normal 14px/1 FontAwesome;
  font-size: inherit;
  text-rendering: auto;
  -webkit-font-smoothing: antialiased;
  -moz-osx-font-smoothing: grayscale;
  content: "\f127";
}
.kernel_disconnected_icon:before.fa-pull-left {
  margin-right: .3em;
}
.kernel_disconnected_icon:before.fa-pull-right {
  margin-left: .3em;
}
.kernel_disconnected_icon:before.pull-left {
  margin-right: .3em;
}
.kernel_disconnected_icon:before.pull-right {
  margin-left: .3em;
}
.notification_widget {
  color: #777;
  z-index: 10;
  background: rgba(240, 240, 240, 0.5);
  margin-right: 4px;
  color: #333;
  background-color: #fff;
  border-color: #ccc;
}
.notification_widget:focus,
.notification_widget.focus {
  color: #333;
  background-color: #e6e6e6;
  border-color: #8c8c8c;
}
.notification_widget:hover {
  color: #333;
  background-color: #e6e6e6;
  border-color: #adadad;
}
.notification_widget:active,
.notification_widget.active,
.open > .dropdown-toggle.notification_widget {
  color: #333;
  background-color: #e6e6e6;
  border-color: #adadad;
}
.notification_widget:active:hover,
.notification_widget.active:hover,
.open > .dropdown-toggle.notification_widget:hover,
.notification_widget:active:focus,
.notification_widget.active:focus,
.open > .dropdown-toggle.notification_widget:focus,
.notification_widget:active.focus,
.notification_widget.active.focus,
.open > .dropdown-toggle.notification_widget.focus {
  color: #333;
  background-color: #d4d4d4;
  border-color: #8c8c8c;
}
.notification_widget:active,
.notification_widget.active,
.open > .dropdown-toggle.notification_widget {
  background-image: none;
}
.notification_widget.disabled:hover,
.notification_widget[disabled]:hover,
fieldset[disabled] .notification_widget:hover,
.notification_widget.disabled:focus,
.notification_widget[disabled]:focus,
fieldset[disabled] .notification_widget:focus,
.notification_widget.disabled.focus,
.notification_widget[disabled].focus,
fieldset[disabled] .notification_widget.focus {
  background-color: #fff;
  border-color: #ccc;
}
.notification_widget .badge {
  color: #fff;
  background-color: #333;
}
.notification_widget.warning {
  color: #fff;
  background-color: #f0ad4e;
  border-color: #eea236;
}
.notification_widget.warning:focus,
.notification_widget.warning.focus {
  color: #fff;
  background-color: #ec971f;
  border-color: #985f0d;
}
.notification_widget.warning:hover {
  color: #fff;
  background-color: #ec971f;
  border-color: #d58512;
}
.notification_widget.warning:active,
.notification_widget.warning.active,
.open > .dropdown-toggle.notification_widget.warning {
  color: #fff;
  background-color: #ec971f;
  border-color: #d58512;
}
.notification_widget.warning:active:hover,
.notification_widget.warning.active:hover,
.open > .dropdown-toggle.notification_widget.warning:hover,
.notification_widget.warning:active:focus,
.notification_widget.warning.active:focus,
.open > .dropdown-toggle.notification_widget.warning:focus,
.notification_widget.warning:active.focus,
.notification_widget.warning.active.focus,
.open > .dropdown-toggle.notification_widget.warning.focus {
  color: #fff;
  background-color: #d58512;
  border-color: #985f0d;
}
.notification_widget.warning:active,
.notification_widget.warning.active,
.open > .dropdown-toggle.notification_widget.warning {
  background-image: none;
}
.notification_widget.warning.disabled:hover,
.notification_widget.warning[disabled]:hover,
fieldset[disabled] .notification_widget.warning:hover,
.notification_widget.warning.disabled:focus,
.notification_widget.warning[disabled]:focus,
fieldset[disabled] .notification_widget.warning:focus,
.notification_widget.warning.disabled.focus,
.notification_widget.warning[disabled].focus,
fieldset[disabled] .notification_widget.warning.focus {
  background-color: #f0ad4e;
  border-color: #eea236;
}
.notification_widget.warning .badge {
  color: #f0ad4e;
  background-color: #fff;
}
.notification_widget.success {
  color: #fff;
  background-color: #5cb85c;
  border-color: #4cae4c;
}
.notification_widget.success:focus,
.notification_widget.success.focus {
  color: #fff;
  background-color: #449d44;
  border-color: #255625;
}
.notification_widget.success:hover {
  color: #fff;
  background-color: #449d44;
  border-color: #398439;
}
.notification_widget.success:active,
.notification_widget.success.active,
.open > .dropdown-toggle.notification_widget.success {
  color: #fff;
  background-color: #449d44;
  border-color: #398439;
}
.notification_widget.success:active:hover,
.notification_widget.success.active:hover,
.open > .dropdown-toggle.notification_widget.success:hover,
.notification_widget.success:active:focus,
.notification_widget.success.active:focus,
.open > .dropdown-toggle.notification_widget.success:focus,
.notification_widget.success:active.focus,
.notification_widget.success.active.focus,
.open > .dropdown-toggle.notification_widget.success.focus {
  color: #fff;
  background-color: #398439;
  border-color: #255625;
}
.notification_widget.success:active,
.notification_widget.success.active,
.open > .dropdown-toggle.notification_widget.success {
  background-image: none;
}
.notification_widget.success.disabled:hover,
.notification_widget.success[disabled]:hover,
fieldset[disabled] .notification_widget.success:hover,
.notification_widget.success.disabled:focus,
.notification_widget.success[disabled]:focus,
fieldset[disabled] .notification_widget.success:focus,
.notification_widget.success.disabled.focus,
.notification_widget.success[disabled].focus,
fieldset[disabled] .notification_widget.success.focus {
  background-color: #5cb85c;
  border-color: #4cae4c;
}
.notification_widget.success .badge {
  color: #5cb85c;
  background-color: #fff;
}
.notification_widget.info {
  color: #fff;
  background-color: #5bc0de;
  border-color: #46b8da;
}
.notification_widget.info:focus,
.notification_widget.info.focus {
  color: #fff;
  background-color: #31b0d5;
  border-color: #1b6d85;
}
.notification_widget.info:hover {
  color: #fff;
  background-color: #31b0d5;
  border-color: #269abc;
}
.notification_widget.info:active,
.notification_widget.info.active,
.open > .dropdown-toggle.notification_widget.info {
  color: #fff;
  background-color: #31b0d5;
  border-color: #269abc;
}
.notification_widget.info:active:hover,
.notification_widget.info.active:hover,
.open > .dropdown-toggle.notification_widget.info:hover,
.notification_widget.info:active:focus,
.notification_widget.info.active:focus,
.open > .dropdown-toggle.notification_widget.info:focus,
.notification_widget.info:active.focus,
.notification_widget.info.active.focus,
.open > .dropdown-toggle.notification_widget.info.focus {
  color: #fff;
  background-color: #269abc;
  border-color: #1b6d85;
}
.notification_widget.info:active,
.notification_widget.info.active,
.open > .dropdown-toggle.notification_widget.info {
  background-image: none;
}
.notification_widget.info.disabled:hover,
.notification_widget.info[disabled]:hover,
fieldset[disabled] .notification_widget.info:hover,
.notification_widget.info.disabled:focus,
.notification_widget.info[disabled]:focus,
fieldset[disabled] .notification_widget.info:focus,
.notification_widget.info.disabled.focus,
.notification_widget.info[disabled].focus,
fieldset[disabled] .notification_widget.info.focus {
  background-color: #5bc0de;
  border-color: #46b8da;
}
.notification_widget.info .badge {
  color: #5bc0de;
  background-color: #fff;
}
.notification_widget.danger {
  color: #fff;
  background-color: #d9534f;
  border-color: #d43f3a;
}
.notification_widget.danger:focus,
.notification_widget.danger.focus {
  color: #fff;
  background-color: #c9302c;
  border-color: #761c19;
}
.notification_widget.danger:hover {
  color: #fff;
  background-color: #c9302c;
  border-color: #ac2925;
}
.notification_widget.danger:active,
.notification_widget.danger.active,
.open > .dropdown-toggle.notification_widget.danger {
  color: #fff;
  background-color: #c9302c;
  border-color: #ac2925;
}
.notification_widget.danger:active:hover,
.notification_widget.danger.active:hover,
.open > .dropdown-toggle.notification_widget.danger:hover,
.notification_widget.danger:active:focus,
.notification_widget.danger.active:focus,
.open > .dropdown-toggle.notification_widget.danger:focus,
.notification_widget.danger:active.focus,
.notification_widget.danger.active.focus,
.open > .dropdown-toggle.notification_widget.danger.focus {
  color: #fff;
  background-color: #ac2925;
  border-color: #761c19;
}
.notification_widget.danger:active,
.notification_widget.danger.active,
.open > .dropdown-toggle.notification_widget.danger {
  background-image: none;
}
.notification_widget.danger.disabled:hover,
.notification_widget.danger[disabled]:hover,
fieldset[disabled] .notification_widget.danger:hover,
.notification_widget.danger.disabled:focus,
.notification_widget.danger[disabled]:focus,
fieldset[disabled] .notification_widget.danger:focus,
.notification_widget.danger.disabled.focus,
.notification_widget.danger[disabled].focus,
fieldset[disabled] .notification_widget.danger.focus {
  background-color: #d9534f;
  border-color: #d43f3a;
}
.notification_widget.danger .badge {
  color: #d9534f;
  background-color: #fff;
}
div#pager {
  background-color: #fff;
  font-size: 14px;
  line-height: 20px;
  overflow: hidden;
  display: none;
  position: fixed;
  bottom: 0px;
  width: 100%;
  max-height: 50%;
  padding-top: 8px;
  -webkit-box-shadow: 0px 0px 12px 1px rgba(87, 87, 87, 0.2);
  box-shadow: 0px 0px 12px 1px rgba(87, 87, 87, 0.2);
  /* Display over codemirror */
  z-index: 100;
  /* Hack which prevents jquery ui resizable from changing top. */
  top: auto !important;
}
div#pager pre {
  line-height: 1.21429em;
  color: #000;
  background-color: #f7f7f7;
  padding: 0.4em;
}
div#pager #pager-button-area {
  position: absolute;
  top: 8px;
  right: 20px;
}
div#pager #pager-contents {
  position: relative;
  overflow: auto;
  width: 100%;
  height: 100%;
}
div#pager #pager-contents #pager-container {
  position: relative;
  padding: 15px 0px;
  box-sizing: border-box;
  -moz-box-sizing: border-box;
  -webkit-box-sizing: border-box;
}
div#pager .ui-resizable-handle {
  top: 0px;
  height: 8px;
  background: #f7f7f7;
  border-top: 1px solid #cfcfcf;
  border-bottom: 1px solid #cfcfcf;
  /* This injects handle bars (a short, wide = symbol) for 
        the resize handle. */
}
div#pager .ui-resizable-handle::after {
  content: '';
  top: 2px;
  left: 50%;
  height: 3px;
  width: 30px;
  margin-left: -15px;
  position: absolute;
  border-top: 1px solid #cfcfcf;
}
.quickhelp {
  /* Old browsers */
  display: -webkit-box;
  -webkit-box-orient: horizontal;
  -webkit-box-align: stretch;
  display: -moz-box;
  -moz-box-orient: horizontal;
  -moz-box-align: stretch;
  display: box;
  box-orient: horizontal;
  box-align: stretch;
  /* Modern browsers */
  display: flex;
  flex-direction: row;
  align-items: stretch;
  line-height: 1.8em;
}
.shortcut_key {
  display: inline-block;
  width: 21ex;
  text-align: right;
  font-family: monospace;
}
.shortcut_descr {
  display: inline-block;
  /* Old browsers */
  -webkit-box-flex: 1;
  -moz-box-flex: 1;
  box-flex: 1;
  /* Modern browsers */
  flex: 1;
}
span.save_widget {
  height: 30px;
  margin-top: 4px;
  display: flex;
  justify-content: flex-start;
  align-items: baseline;
  width: 50%;
  flex: 1;
}
span.save_widget span.filename {
  height: 100%;
  line-height: 1em;
  margin-left: 16px;
  border: none;
  font-size: 146.5%;
  text-overflow: ellipsis;
  overflow: hidden;
  white-space: nowrap;
  border-radius: 2px;
}
span.save_widget span.filename:hover {
  background-color: #e6e6e6;
}
[dir="rtl"] span.save_widget.pull-left {
  float: right !important;
  float: right;
}
[dir="rtl"] span.save_widget span.filename {
  margin-left: 0;
  margin-right: 16px;
}
span.checkpoint_status,
span.autosave_status {
  font-size: small;
  white-space: nowrap;
  padding: 0 5px;
}
@media (max-width: 767px) {
  span.save_widget {
    font-size: small;
    padding: 0 0 0 5px;
  }
  span.checkpoint_status,
  span.autosave_status {
    display: none;
  }
}
@media (min-width: 768px) and (max-width: 991px) {
  span.checkpoint_status {
    display: none;
  }
  span.autosave_status {
    font-size: x-small;
  }
}
.toolbar {
  padding: 0px;
  margin-left: -5px;
  margin-top: 2px;
  margin-bottom: 5px;
  box-sizing: border-box;
  -moz-box-sizing: border-box;
  -webkit-box-sizing: border-box;
}
.toolbar select,
.toolbar label {
  width: auto;
  vertical-align: middle;
  margin-right: 2px;
  margin-bottom: 0px;
  display: inline;
  font-size: 92%;
  margin-left: 0.3em;
  margin-right: 0.3em;
  padding: 0px;
  padding-top: 3px;
}
.toolbar .btn {
  padding: 2px 8px;
}
.toolbar .btn-group {
  margin-top: 0px;
  margin-left: 5px;
}
.toolbar-btn-label {
  margin-left: 6px;
}
#maintoolbar {
  margin-bottom: -3px;
  margin-top: -8px;
  border: 0px;
  min-height: 27px;
  margin-left: 0px;
  padding-top: 11px;
  padding-bottom: 3px;
}
#maintoolbar .navbar-text {
  float: none;
  vertical-align: middle;
  text-align: right;
  margin-left: 5px;
  margin-right: 0px;
  margin-top: 0px;
}
.select-xs {
  height: 24px;
}
[dir="rtl"] .btn-group > .btn,
.btn-group-vertical > .btn {
  float: right;
}
.pulse,
.dropdown-menu > li > a.pulse,
li.pulse > a.dropdown-toggle,
li.pulse.open > a.dropdown-toggle {
  background-color: #F37626;
  color: white;
}
/**
 * Primary styles
 *
 * Author: Jupyter Development Team
 */
/** WARNING IF YOU ARE EDITTING THIS FILE, if this is a .css file, It has a lot
 * of chance of beeing generated from the ../less/[samename].less file, you can
 * try to get back the less file by reverting somme commit in history
 **/
/*
 * We'll try to get something pretty, so we
 * have some strange css to have the scroll bar on
 * the left with fix button on the top right of the tooltip
 */
@-moz-keyframes fadeOut {
  from {
    opacity: 1;
  }
  to {
    opacity: 0;
  }
}
@-webkit-keyframes fadeOut {
  from {
    opacity: 1;
  }
  to {
    opacity: 0;
  }
}
@-moz-keyframes fadeIn {
  from {
    opacity: 0;
  }
  to {
    opacity: 1;
  }
}
@-webkit-keyframes fadeIn {
  from {
    opacity: 0;
  }
  to {
    opacity: 1;
  }
}
/*properties of tooltip after "expand"*/
.bigtooltip {
  overflow: auto;
  height: 200px;
  -webkit-transition-property: height;
  -webkit-transition-duration: 500ms;
  -moz-transition-property: height;
  -moz-transition-duration: 500ms;
  transition-property: height;
  transition-duration: 500ms;
}
/*properties of tooltip before "expand"*/
.smalltooltip {
  -webkit-transition-property: height;
  -webkit-transition-duration: 500ms;
  -moz-transition-property: height;
  -moz-transition-duration: 500ms;
  transition-property: height;
  transition-duration: 500ms;
  text-overflow: ellipsis;
  overflow: hidden;
  height: 80px;
}
.tooltipbuttons {
  position: absolute;
  padding-right: 15px;
  top: 0px;
  right: 0px;
}
.tooltiptext {
  /*avoid the button to overlap on some docstring*/
  padding-right: 30px;
}
.ipython_tooltip {
  max-width: 700px;
  /*fade-in animation when inserted*/
  -webkit-animation: fadeOut 400ms;
  -moz-animation: fadeOut 400ms;
  animation: fadeOut 400ms;
  -webkit-animation: fadeIn 400ms;
  -moz-animation: fadeIn 400ms;
  animation: fadeIn 400ms;
  vertical-align: middle;
  background-color: #f7f7f7;
  overflow: visible;
  border: #ababab 1px solid;
  outline: none;
  padding: 3px;
  margin: 0px;
  padding-left: 7px;
  font-family: monospace;
  min-height: 50px;
  -moz-box-shadow: 0px 6px 10px -1px #adadad;
  -webkit-box-shadow: 0px 6px 10px -1px #adadad;
  box-shadow: 0px 6px 10px -1px #adadad;
  border-radius: 2px;
  position: absolute;
  z-index: 1000;
}
.ipython_tooltip a {
  float: right;
}
.ipython_tooltip .tooltiptext pre {
  border: 0;
  border-radius: 0;
  font-size: 100%;
  background-color: #f7f7f7;
}
.pretooltiparrow {
  left: 0px;
  margin: 0px;
  top: -16px;
  width: 40px;
  height: 16px;
  overflow: hidden;
  position: absolute;
}
.pretooltiparrow:before {
  background-color: #f7f7f7;
  border: 1px #ababab solid;
  z-index: 11;
  content: "";
  position: absolute;
  left: 15px;
  top: 10px;
  width: 25px;
  height: 25px;
  -webkit-transform: rotate(45deg);
  -moz-transform: rotate(45deg);
  -ms-transform: rotate(45deg);
  -o-transform: rotate(45deg);
}
ul.typeahead-list i {
  margin-left: -10px;
  width: 18px;
}
[dir="rtl"] ul.typeahead-list i {
  margin-left: 0;
  margin-right: -10px;
}
ul.typeahead-list {
  max-height: 80vh;
  overflow: auto;
}
ul.typeahead-list > li > a {
  /** Firefox bug **/
  /* see https://github.com/jupyter/notebook/issues/559 */
  white-space: normal;
}
ul.typeahead-list  > li > a.pull-right {
  float: left !important;
  float: left;
}
[dir="rtl"] .typeahead-list {
  text-align: right;
}
.cmd-palette .modal-body {
  padding: 7px;
}
.cmd-palette form {
  background: white;
}
.cmd-palette input {
  outline: none;
}
.no-shortcut {
  min-width: 20px;
  color: transparent;
}
[dir="rtl"] .no-shortcut.pull-right {
  float: left !important;
  float: left;
}
[dir="rtl"] .command-shortcut.pull-right {
  float: left !important;
  float: left;
}
.command-shortcut:before {
  content: "(command mode)";
  padding-right: 3px;
  color: #777777;
}
.edit-shortcut:before {
  content: "(edit)";
  padding-right: 3px;
  color: #777777;
}
[dir="rtl"] .edit-shortcut.pull-right {
  float: left !important;
  float: left;
}
#find-and-replace #replace-preview .match,
#find-and-replace #replace-preview .insert {
  background-color: #BBDEFB;
  border-color: #90CAF9;
  border-style: solid;
  border-width: 1px;
  border-radius: 0px;
}
[dir="ltr"] #find-and-replace .input-group-btn + .form-control {
  border-left: none;
}
[dir="rtl"] #find-and-replace .input-group-btn + .form-control {
  border-right: none;
}
#find-and-replace #replace-preview .replace .match {
  background-color: #FFCDD2;
  border-color: #EF9A9A;
  border-radius: 0px;
}
#find-and-replace #replace-preview .replace .insert {
  background-color: #C8E6C9;
  border-color: #A5D6A7;
  border-radius: 0px;
}
#find-and-replace #replace-preview {
  max-height: 60vh;
  overflow: auto;
}
#find-and-replace #replace-preview pre {
  padding: 5px 10px;
}
.terminal-app {
  background: #EEE;
}
.terminal-app #header {
  background: #fff;
  -webkit-box-shadow: 0px 0px 12px 1px rgba(87, 87, 87, 0.2);
  box-shadow: 0px 0px 12px 1px rgba(87, 87, 87, 0.2);
}
.terminal-app .terminal {
  width: 100%;
  float: left;
  font-family: monospace;
  color: white;
  background: black;
  padding: 0.4em;
  border-radius: 2px;
  -webkit-box-shadow: 0px 0px 12px 1px rgba(87, 87, 87, 0.4);
  box-shadow: 0px 0px 12px 1px rgba(87, 87, 87, 0.4);
}
.terminal-app .terminal,
.terminal-app .terminal dummy-screen {
  line-height: 1em;
  font-size: 14px;
}
.terminal-app .terminal .xterm-rows {
  padding: 10px;
}
.terminal-app .terminal-cursor {
  color: black;
  background: white;
}
.terminal-app #terminado-container {
  margin-top: 20px;
}
/*# sourceMappingURL=style.min.css.map */
    </style>
<style type="text/css">
    pre { line-height: 125%; }
td.linenos .normal { color: inherit; background-color: transparent; padding-left: 5px; padding-right: 5px; }
span.linenos { color: inherit; background-color: transparent; padding-left: 5px; padding-right: 5px; }
td.linenos .special { color: #000000; background-color: #ffffc0; padding-left: 5px; padding-right: 5px; }
span.linenos.special { color: #000000; background-color: #ffffc0; padding-left: 5px; padding-right: 5px; }
.highlight .hll { background-color: #ffffcc }
.highlight { background: #f8f8f8; }
.highlight .c { color: #408080; font-style: italic } /* Comment */
.highlight .err { border: 1px solid #FF0000 } /* Error */
.highlight .k { color: #008000; font-weight: bold } /* Keyword */
.highlight .o { color: #666666 } /* Operator */
.highlight .ch { color: #408080; font-style: italic } /* Comment.Hashbang */
.highlight .cm { color: #408080; font-style: italic } /* Comment.Multiline */
.highlight .cp { color: #BC7A00 } /* Comment.Preproc */
.highlight .cpf { color: #408080; font-style: italic } /* Comment.PreprocFile */
.highlight .c1 { color: #408080; font-style: italic } /* Comment.Single */
.highlight .cs { color: #408080; font-style: italic } /* Comment.Special */
.highlight .gd { color: #A00000 } /* Generic.Deleted */
.highlight .ge { font-style: italic } /* Generic.Emph */
.highlight .gr { color: #FF0000 } /* Generic.Error */
.highlight .gh { color: #000080; font-weight: bold } /* Generic.Heading */
.highlight .gi { color: #00A000 } /* Generic.Inserted */
.highlight .go { color: #888888 } /* Generic.Output */
.highlight .gp { color: #000080; font-weight: bold } /* Generic.Prompt */
.highlight .gs { font-weight: bold } /* Generic.Strong */
.highlight .gu { color: #800080; font-weight: bold } /* Generic.Subheading */
.highlight .gt { color: #0044DD } /* Generic.Traceback */
.highlight .kc { color: #008000; font-weight: bold } /* Keyword.Constant */
.highlight .kd { color: #008000; font-weight: bold } /* Keyword.Declaration */
.highlight .kn { color: #008000; font-weight: bold } /* Keyword.Namespace */
.highlight .kp { color: #008000 } /* Keyword.Pseudo */
.highlight .kr { color: #008000; font-weight: bold } /* Keyword.Reserved */
.highlight .kt { color: #B00040 } /* Keyword.Type */
.highlight .m { color: #666666 } /* Literal.Number */
.highlight .s { color: #BA2121 } /* Literal.String */
.highlight .na { color: #7D9029 } /* Name.Attribute */
.highlight .nb { color: #008000 } /* Name.Builtin */
.highlight .nc { color: #0000FF; font-weight: bold } /* Name.Class */
.highlight .no { color: #880000 } /* Name.Constant */
.highlight .nd { color: #AA22FF } /* Name.Decorator */
.highlight .ni { color: #999999; font-weight: bold } /* Name.Entity */
.highlight .ne { color: #D2413A; font-weight: bold } /* Name.Exception */
.highlight .nf { color: #0000FF } /* Name.Function */
.highlight .nl { color: #A0A000 } /* Name.Label */
.highlight .nn { color: #0000FF; font-weight: bold } /* Name.Namespace */
.highlight .nt { color: #008000; font-weight: bold } /* Name.Tag */
.highlight .nv { color: #19177C } /* Name.Variable */
.highlight .ow { color: #AA22FF; font-weight: bold } /* Operator.Word */
.highlight .w { color: #bbbbbb } /* Text.Whitespace */
.highlight .mb { color: #666666 } /* Literal.Number.Bin */
.highlight .mf { color: #666666 } /* Literal.Number.Float */
.highlight .mh { color: #666666 } /* Literal.Number.Hex */
.highlight .mi { color: #666666 } /* Literal.Number.Integer */
.highlight .mo { color: #666666 } /* Literal.Number.Oct */
.highlight .sa { color: #BA2121 } /* Literal.String.Affix */
.highlight .sb { color: #BA2121 } /* Literal.String.Backtick */
.highlight .sc { color: #BA2121 } /* Literal.String.Char */
.highlight .dl { color: #BA2121 } /* Literal.String.Delimiter */
.highlight .sd { color: #BA2121; font-style: italic } /* Literal.String.Doc */
.highlight .s2 { color: #BA2121 } /* Literal.String.Double */
.highlight .se { color: #BB6622; font-weight: bold } /* Literal.String.Escape */
.highlight .sh { color: #BA2121 } /* Literal.String.Heredoc */
.highlight .si { color: #BB6688; font-weight: bold } /* Literal.String.Interpol */
.highlight .sx { color: #008000 } /* Literal.String.Other */
.highlight .sr { color: #BB6688 } /* Literal.String.Regex */
.highlight .s1 { color: #BA2121 } /* Literal.String.Single */
.highlight .ss { color: #19177C } /* Literal.String.Symbol */
.highlight .bp { color: #008000 } /* Name.Builtin.Pseudo */
.highlight .fm { color: #0000FF } /* Name.Function.Magic */
.highlight .vc { color: #19177C } /* Name.Variable.Class */
.highlight .vg { color: #19177C } /* Name.Variable.Global */
.highlight .vi { color: #19177C } /* Name.Variable.Instance */
.highlight .vm { color: #19177C } /* Name.Variable.Magic */
.highlight .il { color: #666666 } /* Literal.Number.Integer.Long */
    </style>


<style type="text/css">
/* Overrides of notebook CSS for static HTML export */
body {
  overflow: visible;
  padding: 8px;
}

div#notebook {
  overflow: visible;
  border-top: none;
}@media print {
  div.cell {
    display: block;
    page-break-inside: avoid;
  } 
  div.output_wrapper { 
    display: block;
    page-break-inside: avoid; 
  }
  div.output { 
    display: block;
    page-break-inside: avoid; 
  }
}
</style>

<!-- Custom stylesheet, it must be in the same directory as the html file -->
<link rel="stylesheet" href="custom.css">

<!-- Loading mathjax macro -->
<!-- Load mathjax -->
    <script src="https://cdnjs.cloudflare.com/ajax/libs/mathjax/2.7.5/latest.js?config=TeX-AMS_HTML"></script>
    <!-- MathJax configuration -->
    <script type="text/x-mathjax-config">
    MathJax.Hub.Config({
        tex2jax: {
            inlineMath: [ ['$','$'], ["\\(","\\)"] ],
            displayMath: [ ['$$','$$'], ["\\[","\\]"] ],
            processEscapes: true,
            processEnvironments: true
        },
        // Center justify equations in code and markdown cells. Elsewhere
        // we use CSS to left justify single line equations in code cells.
        displayAlign: 'center',
        "HTML-CSS": {
            styles: {'.MathJax_Display': {"margin": 0}},
            linebreaks: { automatic: true }
        }
    });
    </script>
    <!-- End of mathjax configuration --></head>
<body>
  <div tabindex="-1" id="notebook" class="border-box-sizing">
    <div class="container" id="notebook-container">

<div class="cell border-box-sizing code_cell rendered">
<div class="input">
<div class="prompt input_prompt">In&nbsp;[1]:</div>
<div class="inner_cell">
    <div class="input_area">
<div class=" highlight hl-ipython3"><pre><span></span><span class="o">!</span> pip install PyAthena

<span class="kn">import</span> <span class="nn">io</span> 
<span class="kn">import</span> <span class="nn">boto3</span>
<span class="kn">import</span> <span class="nn">pandas</span> <span class="k">as</span> <span class="nn">pd</span> 
<span class="kn">import</span> <span class="nn">os</span>
<span class="kn">from</span> <span class="nn">pyathena</span> <span class="kn">import</span> <span class="n">connect</span>
<span class="kn">from</span> <span class="nn">pyathena.pandas.util</span> <span class="kn">import</span> <span class="n">as_pandas</span>
<span class="kn">from</span> <span class="nn">pyathena.pandas.cursor</span> <span class="kn">import</span> <span class="n">PandasCursor</span>

<span class="c1">## connect Athena with s3 &amp; test </span>
<span class="n">cursor</span> <span class="o">=</span> <span class="n">connect</span><span class="p">(</span><span class="n">s3_staging_dir</span><span class="o">=</span><span class="s1">&#39;s3://query-results-bucket-athena-2021/&#39;</span><span class="p">,</span><span class="n">region_name</span><span class="o">=</span><span class="s1">&#39;ap-northeast-2&#39;</span><span class="p">,</span><span class="n">cursor_class</span><span class="o">=</span><span class="n">PandasCursor</span><span class="p">)</span><span class="o">.</span><span class="n">cursor</span><span class="p">()</span>
</pre></div>

    </div>
</div>
</div>

<div class="output_wrapper">
<div class="output">


<div class="output_area">

    <div class="prompt"></div>


<div class="output_subarea output_stream output_stdout output_text">
<pre>Requirement already satisfied: PyAthena in /home/ec2-user/anaconda3/envs/python3/lib/python3.6/site-packages (2.3.0)
Requirement already satisfied: boto3&gt;=1.4.4 in /home/ec2-user/anaconda3/envs/python3/lib/python3.6/site-packages (from PyAthena) (1.17.83)
Requirement already satisfied: botocore&gt;=1.5.52 in /home/ec2-user/anaconda3/envs/python3/lib/python3.6/site-packages (from PyAthena) (1.20.83)
Requirement already satisfied: tenacity&gt;=4.1.0 in /home/ec2-user/anaconda3/envs/python3/lib/python3.6/site-packages (from PyAthena) (7.0.0)
Requirement already satisfied: jmespath&lt;1.0.0,&gt;=0.7.1 in /home/ec2-user/anaconda3/envs/python3/lib/python3.6/site-packages (from boto3&gt;=1.4.4-&gt;PyAthena) (0.10.0)
Requirement already satisfied: s3transfer&lt;0.5.0,&gt;=0.4.0 in /home/ec2-user/anaconda3/envs/python3/lib/python3.6/site-packages (from boto3&gt;=1.4.4-&gt;PyAthena) (0.4.2)
Requirement already satisfied: python-dateutil&lt;3.0.0,&gt;=2.1 in /home/ec2-user/anaconda3/envs/python3/lib/python3.6/site-packages (from botocore&gt;=1.5.52-&gt;PyAthena) (2.8.1)
Requirement already satisfied: urllib3&lt;1.27,&gt;=1.25.4 in /home/ec2-user/anaconda3/envs/python3/lib/python3.6/site-packages (from botocore&gt;=1.5.52-&gt;PyAthena) (1.26.5)
Requirement already satisfied: six&gt;=1.5 in /home/ec2-user/anaconda3/envs/python3/lib/python3.6/site-packages (from python-dateutil&lt;3.0.0,&gt;=2.1-&gt;botocore&gt;=1.5.52-&gt;PyAthena) (1.15.0)
</pre>
</div>
</div>

</div>
</div>

</div>
<div class="cell border-box-sizing code_cell rendered">
<div class="input">
<div class="prompt input_prompt">In&nbsp;[2]:</div>
<div class="inner_cell">
    <div class="input_area">
<div class=" highlight hl-ipython3"><pre><span></span><span class="c1">################################ prameters지정 : 사용자 입력 필요 ###################################</span>

<span class="n">start_yr</span> <span class="o">=</span> <span class="s1">&#39;2005&#39;</span>
<span class="n">end_yr</span> <span class="o">=</span> <span class="s1">&#39;2018&#39;</span>

<span class="n">start_date</span> <span class="o">=</span> <span class="n">start_yr</span> <span class="o">+</span> <span class="s1">&#39;-01-01&#39;</span>
<span class="n">end_date</span> <span class="o">=</span> <span class="n">end_yr</span> <span class="o">+</span> <span class="s1">&#39;-12-31&#39;</span>

<span class="c1">#ipc_n = &#39;500&#39;</span>
<span class="c1">#ranking = int(ipc_n)</span>
<span class="c1"># 2nd Filter (confusion) parameter</span>
<span class="c1">#top_rank_m = 100</span>
<span class="c1"># 3rd Filter (assignment) paramenter</span>
<span class="c1">#top_rank_n = 100 </span>

<span class="n">top_rank</span> <span class="o">=</span> <span class="mi">500</span>
<span class="n">material_ipc_data</span> <span class="o">=</span> <span class="n">pd</span><span class="o">.</span><span class="n">read_csv</span><span class="p">(</span><span class="s1">&#39;data/material_ipc.csv&#39;</span><span class="p">)</span>

<span class="n">sub_class_ipc</span> <span class="o">=</span> <span class="nb">set</span><span class="p">(</span><span class="nb">list</span><span class="p">(</span><span class="n">material_ipc_data</span><span class="p">[</span><span class="s1">&#39;Sub_class IPC&#39;</span><span class="p">]))</span>
</pre></div>

    </div>
</div>
</div>

</div>
<div class="cell border-box-sizing code_cell rendered">
<div class="input">
<div class="prompt input_prompt">In&nbsp;[3]:</div>
<div class="inner_cell">
    <div class="input_area">
<div class=" highlight hl-ipython3"><pre><span></span><span class="c1">### 임시: 코드 실행시간 측정 </span>
<span class="kn">import</span> <span class="nn">time</span> 
<span class="n">start</span> <span class="o">=</span> <span class="n">time</span><span class="o">.</span><span class="n">time</span><span class="p">()</span>
</pre></div>

    </div>
</div>
</div>

</div>
<div class="cell border-box-sizing code_cell rendered">
<div class="input">
<div class="prompt input_prompt">In&nbsp;[4]:</div>
<div class="inner_cell">
    <div class="input_area">
<div class=" highlight hl-ipython3"><pre><span></span><span class="c1">############################################## step 01. 특정 IPC 별 data gathering #########################################\n&quot;,</span>

<span class="k">def</span> <span class="nf">raw_data_ipc</span><span class="p">(</span><span class="n">start_yr</span><span class="p">,</span> <span class="n">end_yr</span><span class="p">,</span> <span class="n">sub_class_ipc</span><span class="p">)</span> <span class="p">:</span>    
    <span class="n">query1_1</span> <span class="o">=</span> <span class="s2">&quot;SELECT dataset1.new_ipc_code AS IPC, dataset1.app_year AS application_year, dataset1.app_no AS application_num, </span><span class="se">\</span>
<span class="s2">                dataset1.applicant1 AS applicant1, dataset1.applicant2 AS applicant2, dataset1.neo_company_univ1 AS neo_company_univ1, dataset1.neo_company_univ2 AS neo_company_univ2 </span><span class="se">\</span>
<span class="s2">                FROM tm_database.df_us_datamart_assignee_parquet AS dataset1 </span><span class="se">\</span>
<span class="s2">                WHERE dataset1.app_year &gt;= &#39;&quot;</span><span class="o">+</span><span class="n">start_yr</span><span class="o">+</span><span class="s2">&quot;&#39; and dataset1.app_year &lt;= &#39;&quot;</span><span class="o">+</span><span class="n">end_yr</span><span class="o">+</span><span class="s2">&quot;&#39; and dataset1.new_ipc_code LIKE &#39;%&quot;</span><span class="o">+</span><span class="n">sub_class_ipc</span><span class="o">+</span><span class="s2">&quot;%&#39; &quot;</span>
    
    <span class="k">return</span> <span class="n">cursor</span><span class="o">.</span><span class="n">execute</span><span class="p">(</span><span class="n">query1_1</span><span class="p">)</span><span class="o">.</span><span class="n">as_pandas</span><span class="p">()</span>

<span class="c1">## pivoting한 결과를 파일로 저장</span>

<span class="n">saved_file_name1</span><span class="o">=</span><span class="s2">&quot;data/&quot;</span> <span class="o">+</span> <span class="n">start_yr</span> <span class="o">+</span> <span class="s2">&quot;_to_&quot;</span> <span class="o">+</span> <span class="n">end_yr</span> <span class="o">+</span> <span class="s2">&quot;_sub_class_ipc_no_&quot;</span><span class="o">+</span> <span class="nb">str</span><span class="p">(</span><span class="nb">len</span><span class="p">(</span><span class="n">sub_class_ipc</span><span class="p">))</span> <span class="o">+</span> <span class="s2">&quot;_raw_data_of_new_dataset_20210608.csv&quot;</span>

<span class="n">agg_raw_data</span> <span class="o">=</span> <span class="n">pd</span><span class="o">.</span><span class="n">DataFrame</span><span class="p">([],</span> <span class="n">columns</span> <span class="o">=</span><span class="p">[</span><span class="s1">&#39;IPC&#39;</span><span class="p">,</span> <span class="s1">&#39;application_year&#39;</span><span class="p">,</span> <span class="s1">&#39;application_num&#39;</span><span class="p">,</span> <span class="s1">&#39;applicant1&#39;</span><span class="p">,</span> <span class="s1">&#39;applicant2&#39;</span><span class="p">,</span> <span class="s1">&#39;neo_company_univ1&#39;</span><span class="p">,</span> <span class="s1">&#39;neo_company_univ2&#39;</span><span class="p">])</span>

<span class="k">if</span> <span class="n">os</span><span class="o">.</span><span class="n">path</span><span class="o">.</span><span class="n">isfile</span><span class="p">(</span><span class="n">saved_file_name1</span><span class="p">)</span> <span class="o">==</span> <span class="kc">False</span><span class="p">:</span>
    
    <span class="n">i</span> <span class="o">=</span> <span class="mi">0</span>

    <span class="k">for</span> <span class="n">sci</span> <span class="ow">in</span> <span class="n">sub_class_ipc</span><span class="p">:</span>

        <span class="k">if</span> <span class="nb">len</span><span class="p">(</span><span class="n">sci</span><span class="p">)</span> <span class="o">&gt;=</span> <span class="mi">4</span><span class="p">:</span>
            <span class="n">raw_data</span> <span class="o">=</span> <span class="n">raw_data_ipc</span><span class="p">(</span><span class="n">start_yr</span><span class="p">,</span> <span class="n">end_yr</span><span class="p">,</span> <span class="n">sci</span><span class="p">)</span>
            <span class="n">agg_raw_data</span> <span class="o">=</span> <span class="n">pd</span><span class="o">.</span><span class="n">concat</span><span class="p">([</span><span class="n">agg_raw_data</span><span class="p">,</span> <span class="n">raw_data</span><span class="p">])</span>

        <span class="nb">print</span><span class="p">(</span><span class="s2">&quot;</span><span class="si">%d</span><span class="s2"> th sub_class_ipc data gathering completed&quot;</span> <span class="o">%</span><span class="p">(</span><span class="n">i</span><span class="o">+</span><span class="mi">1</span><span class="p">))</span>

        <span class="n">i</span> <span class="o">=</span> <span class="n">i</span> <span class="o">+</span> <span class="mi">1</span>

    <span class="n">agg_raw_data</span><span class="o">.</span><span class="n">to_csv</span><span class="p">(</span><span class="n">saved_file_name1</span><span class="p">)</span>

<span class="k">else</span><span class="p">:</span>
 
    <span class="n">agg_raw_data</span> <span class="o">=</span> <span class="n">pd</span><span class="o">.</span><span class="n">read_csv</span><span class="p">(</span><span class="n">saved_file_name1</span><span class="p">,</span><span class="n">index_col</span><span class="o">=</span><span class="mi">0</span><span class="p">)</span>
</pre></div>

    </div>
</div>
</div>

<div class="output_wrapper">
<div class="output">


<div class="output_area">

    <div class="prompt"></div>


<div class="output_subarea output_stream output_stderr output_text">
<pre>/home/ec2-user/anaconda3/envs/python3/lib/python3.6/site-packages/numpy/lib/arraysetops.py:580: FutureWarning: elementwise comparison failed; returning scalar instead, but in the future will perform elementwise comparison
  mask |= (ar1 == a)
</pre>
</div>
</div>

</div>
</div>

</div>
<div class="cell border-box-sizing code_cell rendered">
<div class="input">
<div class="prompt input_prompt">In&nbsp;[5]:</div>
<div class="inner_cell">
    <div class="input_area">
<div class=" highlight hl-ipython3"><pre><span></span><span class="n">top_rank_ipc</span> <span class="o">=</span> <span class="n">agg_raw_data</span><span class="p">[</span><span class="s1">&#39;IPC&#39;</span><span class="p">]</span><span class="o">.</span><span class="n">value_counts</span><span class="p">()</span>
<span class="n">top_ipc</span> <span class="o">=</span> <span class="nb">list</span><span class="p">(</span><span class="n">top_rank_ipc</span><span class="o">.</span><span class="n">index</span><span class="p">)[</span><span class="mi">0</span><span class="p">:</span><span class="n">top_rank</span><span class="p">]</span>
<span class="n">year</span><span class="o">=</span><span class="nb">list</span><span class="p">(</span><span class="nb">range</span><span class="p">(</span><span class="nb">int</span><span class="p">(</span><span class="n">start_yr</span><span class="p">),</span> <span class="nb">int</span><span class="p">(</span><span class="n">end_yr</span><span class="p">)</span><span class="o">+</span><span class="mi">1</span><span class="p">))</span>
</pre></div>

    </div>
</div>
</div>

</div>
<div class="cell border-box-sizing code_cell rendered">
<div class="input">
<div class="prompt input_prompt">In&nbsp;[6]:</div>
<div class="inner_cell">
    <div class="input_area">
<div class=" highlight hl-ipython3"><pre><span></span><span class="n">agg_raw_data</span><span class="o">.</span><span class="n">head</span><span class="p">()</span>
</pre></div>

    </div>
</div>
</div>

<div class="output_wrapper">
<div class="output">


<div class="output_area">

    <div class="prompt output_prompt">Out[6]:</div>



<div class="output_html rendered_html output_subarea output_execute_result">
<div>
<style scoped>
    .dataframe tbody tr th:only-of-type {
        vertical-align: middle;
    }

    .dataframe tbody tr th {
        vertical-align: top;
    }

    .dataframe thead th {
        text-align: right;
    }
</style>
<table border="1" class="dataframe">
  <thead>
    <tr style="text-align: right;">
      <th></th>
      <th>IPC</th>
      <th>application_year</th>
      <th>application_num</th>
      <th>applicant1</th>
      <th>applicant2</th>
      <th>neo_company_univ1</th>
      <th>neo_company_univ2</th>
    </tr>
  </thead>
  <tbody>
    <tr>
      <th>0</th>
      <td>H01B7/00</td>
      <td>2018</td>
      <td>16611284</td>
      <td>AUTONETWORKS TECHNOLOGIES, LTD.</td>
      <td>SUMITOMO WIRING SYSTEMS, LTD.</td>
      <td>AUTONETWORKS TECHNOLOGIES, LTD.</td>
      <td>SUMITOMO WIRING SYSTEMS, LTD.</td>
    </tr>
    <tr>
      <th>1</th>
      <td>H01B7/18</td>
      <td>2018</td>
      <td>16611284</td>
      <td>AUTONETWORKS TECHNOLOGIES, LTD.</td>
      <td>SUMITOMO WIRING SYSTEMS, LTD.</td>
      <td>AUTONETWORKS TECHNOLOGIES, LTD.</td>
      <td>SUMITOMO WIRING SYSTEMS, LTD.</td>
    </tr>
    <tr>
      <th>2</th>
      <td>H01B3/30</td>
      <td>2018</td>
      <td>16611284</td>
      <td>AUTONETWORKS TECHNOLOGIES, LTD.</td>
      <td>SUMITOMO WIRING SYSTEMS, LTD.</td>
      <td>AUTONETWORKS TECHNOLOGIES, LTD.</td>
      <td>SUMITOMO WIRING SYSTEMS, LTD.</td>
    </tr>
    <tr>
      <th>3</th>
      <td>H01B13/02</td>
      <td>2018</td>
      <td>16611284</td>
      <td>AUTONETWORKS TECHNOLOGIES, LTD.</td>
      <td>SUMITOMO WIRING SYSTEMS, LTD.</td>
      <td>AUTONETWORKS TECHNOLOGIES, LTD.</td>
      <td>SUMITOMO WIRING SYSTEMS, LTD.</td>
    </tr>
    <tr>
      <th>4</th>
      <td>H01B11/04</td>
      <td>2018</td>
      <td>16611284</td>
      <td>AUTONETWORKS TECHNOLOGIES, LTD.</td>
      <td>SUMITOMO WIRING SYSTEMS, LTD.</td>
      <td>AUTONETWORKS TECHNOLOGIES, LTD.</td>
      <td>SUMITOMO WIRING SYSTEMS, LTD.</td>
    </tr>
  </tbody>
</table>
</div>
</div>

</div>

</div>
</div>

</div>
<div class="cell border-box-sizing code_cell rendered">
<div class="input">
<div class="prompt input_prompt">In&nbsp;[7]:</div>
<div class="inner_cell">
    <div class="input_area">
<div class=" highlight hl-ipython3"><pre><span></span><span class="c1">###################################################### yearly patents per ipc ########################################</span>
<span class="n">yearly_patents_per_ipc</span> <span class="o">=</span> <span class="n">pd</span><span class="o">.</span><span class="n">DataFrame</span><span class="p">([],</span><span class="n">index</span><span class="o">=</span><span class="n">top_ipc</span><span class="p">,</span> <span class="n">columns</span><span class="o">=</span><span class="n">year</span><span class="p">)</span>

<span class="k">for</span> <span class="n">ipca</span> <span class="ow">in</span> <span class="n">top_ipc</span><span class="p">:</span>
    <span class="n">temp_data</span> <span class="o">=</span> <span class="n">agg_raw_data</span><span class="o">.</span><span class="n">loc</span><span class="p">[</span><span class="n">agg_raw_data</span><span class="p">[</span><span class="s1">&#39;IPC&#39;</span><span class="p">]</span><span class="o">==</span><span class="n">ipca</span><span class="p">,</span> <span class="p">[</span><span class="s1">&#39;application_num&#39;</span><span class="p">,</span> <span class="s1">&#39;application_year&#39;</span><span class="p">]]</span><span class="o">.</span><span class="n">drop_duplicates</span><span class="p">(</span><span class="n">subset</span><span class="o">=</span><span class="p">[</span><span class="s1">&#39;application_num&#39;</span><span class="p">])</span>
    <span class="n">temp_data</span> <span class="o">=</span> <span class="n">temp_data</span> <span class="p">[</span><span class="s1">&#39;application_year&#39;</span><span class="p">]</span><span class="o">.</span><span class="n">value_counts</span><span class="p">()</span>
    
    <span class="n">year_list</span> <span class="o">=</span> <span class="nb">list</span><span class="p">(</span><span class="n">temp_data</span><span class="o">.</span><span class="n">index</span><span class="p">)</span>
    
    <span class="k">for</span> <span class="n">yeara</span> <span class="ow">in</span> <span class="n">year</span><span class="p">:</span>
        <span class="k">if</span> <span class="n">yeara</span> <span class="ow">in</span> <span class="n">year_list</span><span class="p">:</span>
            <span class="n">yearly_patents_per_ipc</span><span class="o">.</span><span class="n">loc</span><span class="p">[</span><span class="n">ipca</span><span class="p">,</span> <span class="n">yeara</span><span class="p">]</span> <span class="o">=</span> <span class="n">temp_data</span><span class="p">[</span><span class="n">yeara</span><span class="p">]</span>
        <span class="k">else</span><span class="p">:</span>
            <span class="n">yearly_patents_per_ipc</span><span class="o">.</span><span class="n">loc</span><span class="p">[</span><span class="n">ipca</span><span class="p">,</span> <span class="n">yeara</span><span class="p">]</span> <span class="o">=</span> <span class="mi">0</span>
</pre></div>

    </div>
</div>
</div>

</div>
<div class="cell border-box-sizing code_cell rendered">
<div class="input">
<div class="prompt input_prompt">In&nbsp;[8]:</div>
<div class="inner_cell">
    <div class="input_area">
<div class=" highlight hl-ipython3"><pre><span></span><span class="n">yearly_patents_per_ipc</span><span class="o">.</span><span class="n">head</span><span class="p">()</span>
</pre></div>

    </div>
</div>
</div>

<div class="output_wrapper">
<div class="output">


<div class="output_area">

    <div class="prompt output_prompt">Out[8]:</div>



<div class="output_html rendered_html output_subarea output_execute_result">
<div>
<style scoped>
    .dataframe tbody tr th:only-of-type {
        vertical-align: middle;
    }

    .dataframe tbody tr th {
        vertical-align: top;
    }

    .dataframe thead th {
        text-align: right;
    }
</style>
<table border="1" class="dataframe">
  <thead>
    <tr style="text-align: right;">
      <th></th>
      <th>2005</th>
      <th>2006</th>
      <th>2007</th>
      <th>2008</th>
      <th>2009</th>
      <th>2010</th>
      <th>2011</th>
      <th>2012</th>
      <th>2013</th>
      <th>2014</th>
      <th>2015</th>
      <th>2016</th>
      <th>2017</th>
      <th>2018</th>
    </tr>
  </thead>
  <tbody>
    <tr>
      <th>A61K9/00</th>
      <td>193</td>
      <td>254</td>
      <td>439</td>
      <td>457</td>
      <td>591</td>
      <td>645</td>
      <td>704</td>
      <td>724</td>
      <td>1062</td>
      <td>1759</td>
      <td>2962</td>
      <td>4334</td>
      <td>4557</td>
      <td>4189</td>
    </tr>
    <tr>
      <th>A61K39/395</th>
      <td>1348</td>
      <td>1828</td>
      <td>1910</td>
      <td>1996</td>
      <td>1942</td>
      <td>1979</td>
      <td>1746</td>
      <td>1379</td>
      <td>904</td>
      <td>774</td>
      <td>949</td>
      <td>1009</td>
      <td>1064</td>
      <td>1021</td>
    </tr>
    <tr>
      <th>A61K45/06</th>
      <td>3</td>
      <td>0</td>
      <td>4</td>
      <td>4</td>
      <td>6</td>
      <td>63</td>
      <td>621</td>
      <td>1287</td>
      <td>2689</td>
      <td>2714</td>
      <td>2679</td>
      <td>2579</td>
      <td>2691</td>
      <td>2777</td>
    </tr>
    <tr>
      <th>C12N15/82</th>
      <td>694</td>
      <td>727</td>
      <td>731</td>
      <td>495</td>
      <td>792</td>
      <td>1018</td>
      <td>740</td>
      <td>963</td>
      <td>1274</td>
      <td>1345</td>
      <td>1342</td>
      <td>1372</td>
      <td>1314</td>
      <td>701</td>
    </tr>
    <tr>
      <th>C07H21/04</th>
      <td>2444</td>
      <td>2696</td>
      <td>1875</td>
      <td>1378</td>
      <td>1484</td>
      <td>1446</td>
      <td>836</td>
      <td>421</td>
      <td>42</td>
      <td>37</td>
      <td>53</td>
      <td>64</td>
      <td>110</td>
      <td>123</td>
    </tr>
  </tbody>
</table>
</div>
</div>

</div>

</div>
</div>

</div>
<div class="cell border-box-sizing code_cell rendered">
<div class="input">
<div class="prompt input_prompt">In&nbsp;[9]:</div>
<div class="inner_cell">
    <div class="input_area">
<div class=" highlight hl-ipython3"><pre><span></span><span class="c1">#출원인 이름 전처리 (\&quot;주식회사\&quot; 와 같이 통상 회사명에 사용되는 단어들 삭제)</span>
<span class="c1">#저장된 파일이 있으면 해당 되는 파일을 불러오고 데이터 (yearly applicants per ipc) 생성은 하지 않음 </span>

<span class="n">modi_ipc_yr_applicant_filename</span> <span class="o">=</span> <span class="s2">&quot;data/&quot;</span> <span class="o">+</span> <span class="n">start_yr</span> <span class="o">+</span> <span class="s2">&quot;_to_&quot;</span> <span class="o">+</span> <span class="n">end_yr</span> <span class="o">+</span> <span class="s2">&quot;_sub_class_ipc_no_&quot;</span><span class="o">+</span> <span class="nb">str</span><span class="p">(</span><span class="nb">len</span><span class="p">(</span><span class="n">sub_class_ipc</span><span class="p">))</span> <span class="o">+</span> <span class="s2">&quot;_modi_ipc_yr_applicant_name.csv&quot;</span>

<span class="n">garbage_company_name</span><span class="o">=</span><span class="p">[</span><span class="s2">&quot;incorporation&quot;</span><span class="p">,</span> <span class="s2">&quot;incorporated&quot;</span><span class="p">,</span> <span class="s2">&quot;inc.&quot;</span><span class="p">,</span> <span class="s2">&quot;corporation&quot;</span><span class="p">,</span> <span class="s2">&quot;corp.&quot;</span><span class="p">,</span> <span class="s2">&quot;company&quot;</span><span class="p">,</span> <span class="s2">&quot;co.&quot;</span><span class="p">,</span> <span class="s2">&quot;limited&quot;</span><span class="p">,</span> <span class="s2">&quot;ltd&quot;</span><span class="p">,</span> <span class="s2">&quot;ltd.&quot;</span><span class="p">,</span> <span class="s2">&quot;plc&quot;</span><span class="p">,</span> <span class="s2">&quot;plc.&quot;</span><span class="p">,</span> \
                      <span class="s2">&quot;llc&quot;</span><span class="p">,</span> <span class="s2">&quot;llc.&quot;</span><span class="p">,</span> <span class="s2">&quot;unlimited partnership&quot;</span><span class="p">,</span> <span class="s2">&quot;ul&quot;</span><span class="p">,</span> <span class="s2">&quot;ul.&quot;</span><span class="p">,</span> <span class="s2">&quot;u.l.&quot;</span><span class="p">,</span> <span class="s2">&quot;u. l.&quot;</span><span class="p">,</span> <span class="s2">&quot;limited partnership&quot;</span><span class="p">,</span> <span class="s2">&quot;lp.&quot;</span><span class="p">,</span> <span class="s2">&quot;l.p.&quot;</span><span class="p">,</span> <span class="s2">&quot;l. p.&quot;</span><span class="p">,</span> <span class="s2">&quot;n. v.&quot;</span><span class="p">,</span> \
                       <span class="s2">&quot;n.v.&quot;</span><span class="p">,</span> <span class="s2">&quot;l.l.c.&quot;</span><span class="p">,</span> <span class="s2">&quot;societe&quot;</span><span class="p">,</span> <span class="s2">&quot;s.a.&quot;</span><span class="p">,</span> <span class="s2">&quot;sa.&quot;</span><span class="p">,</span> <span class="s2">&quot;s. a.&quot;</span><span class="p">,</span> <span class="s2">&quot;s a.&quot;</span><span class="p">,</span> <span class="s2">&quot;responsabilite&quot;</span><span class="p">,</span> <span class="s2">&quot;collectif limite&quot;</span><span class="p">,</span> \
                       <span class="s2">&quot;commandite&quot;</span><span class="p">,</span> <span class="s2">&quot;corporacion&quot;</span><span class="p">,</span> <span class="s2">&quot;sociedad&quot;</span><span class="p">,</span> <span class="s2">&quot;sdrl.&quot;</span><span class="p">,</span> <span class="s2">&quot;s.d.r.l.&quot;</span><span class="p">,</span> <span class="s2">&quot;s.l.&quot;</span><span class="p">,</span> <span class="s2">&quot;s.l&quot;</span><span class="p">,</span> <span class="s2">&quot;s. l.&quot;</span><span class="p">,</span> <span class="s2">&quot;sl.&quot;</span><span class="p">,</span> <span class="s2">&quot;compania en comandita&quot;</span><span class="p">,</span> \
                       <span class="s2">&quot;societa&quot;</span><span class="p">,</span> <span class="s2">&quot;s.p.a.&quot;</span><span class="p">,</span> <span class="s2">&quot;s. p. a.&quot;</span><span class="p">,</span> <span class="s2">&quot;s.r.l.&quot;</span><span class="p">,</span> <span class="s2">&quot;dionicko drustvo&quot;</span><span class="p">,</span> <span class="s2">&quot;sdn bhd&quot;</span><span class="p">,</span>\
                       <span class="s2">&quot;s. r. l.&quot;</span><span class="p">,</span> <span class="s2">&quot;accomandita&quot;</span><span class="p">,</span><span class="s2">&quot;osakeyhtio&quot;</span><span class="p">,</span> <span class="s2">&quot;o.y.&quot;</span><span class="p">,</span> <span class="s2">&quot;o. y.&quot;</span><span class="p">,</span> <span class="s2">&quot;o y.&quot;</span><span class="p">,</span> <span class="s2">&quot;o. y&quot;</span><span class="p">,</span> <span class="s2">&quot;aktiebolag&quot;</span><span class="p">,</span> <span class="s2">&quot;a.b.&quot;</span><span class="p">,</span> <span class="s2">&quot;ab.&quot;</span><span class="p">,</span> \
                       <span class="s2">&quot;kommanditbolag&quot;</span><span class="p">,</span> <span class="s2">&quot;aktiengesellschaft&quot;</span><span class="p">,</span> <span class="s2">&quot;ag.&quot;</span><span class="p">,</span> <span class="s2">&quot;a.g.&quot;</span><span class="p">,</span> <span class="s2">&quot;gmbh&quot;</span><span class="p">,</span> <span class="s2">&quot;egmbh&quot;</span><span class="p">,</span> <span class="s2">&quot;partnerschaft&quot;</span><span class="p">,</span> <span class="s2">&quot;kommanditgesellschaft&quot;</span><span class="p">,</span> \
                       <span class="s2">&quot;k.g.&quot;</span><span class="p">,</span> <span class="s2">&quot;kg.&quot;</span><span class="p">,</span> <span class="s2">&quot;kabushiki kaisha&quot;</span><span class="p">,</span> <span class="s2">&quot;kabushikikaisha&quot;</span><span class="p">,</span> <span class="s2">&quot;k.k.&quot;</span><span class="p">,</span> <span class="s2">&quot;k. k.&quot;</span><span class="p">,</span> <span class="s2">&quot;kk.&quot;</span><span class="p">,</span> <span class="s2">&quot;k. k&quot;</span><span class="p">,</span> <span class="s2">&quot;kabushiki&quot;</span><span class="p">,</span> <span class="s2">&quot;kaisha&quot;</span><span class="p">,</span> <span class="s2">&quot;l. p.&quot;</span><span class="p">,</span> <span class="s2">&quot;a/s&quot;</span><span class="p">]</span>
    
<span class="n">acronym_company_name</span><span class="o">=</span><span class="p">[</span><span class="s2">&quot;ab&quot;</span><span class="p">,</span> <span class="s2">&quot;oy&quot;</span><span class="p">,</span> <span class="s2">&quot;o y&quot;</span><span class="p">,</span> <span class="s2">&quot;ag&quot;</span><span class="p">,</span> <span class="s2">&quot;ohg&quot;</span><span class="p">,</span> <span class="s2">&quot;kg&quot;</span><span class="p">,</span> <span class="s2">&quot;kk&quot;</span><span class="p">,</span> <span class="s2">&quot;snc&quot;</span><span class="p">,</span> <span class="s2">&quot;spa&quot;</span><span class="p">,</span> <span class="s2">&quot;n v&quot;</span><span class="p">,</span> <span class="s2">&quot;sa&quot;</span><span class="p">,</span> <span class="s2">&quot;inc&quot;</span><span class="p">,</span> <span class="s2">&quot;corp&quot;</span><span class="p">,</span> <span class="s2">&quot;lp&quot;</span><span class="p">,</span> <span class="s2">&quot;sdrl&quot;</span><span class="p">,</span> <span class="s2">&quot;co&quot;</span><span class="p">]</span>
    
<span class="n">garbage_univ_institute_name</span><span class="o">=</span><span class="p">[</span><span class="s2">&quot;university&quot;</span><span class="p">,</span> <span class="s2">&quot;college&quot;</span><span class="p">,</span> <span class="s2">&quot;school&quot;</span><span class="p">,</span> <span class="s2">&quot;foundation&quot;</span><span class="p">,</span> <span class="s2">&quot;academy&quot;</span><span class="p">,</span> <span class="s2">&quot;academies&quot;</span><span class="p">,</span> <span class="s2">&quot;center&quot;</span><span class="p">,</span> <span class="s2">&quot;laboratory&quot;</span><span class="p">,</span> <span class="s2">&quot;laboratories&quot;</span><span class="p">,</span> <span class="s2">&quot;lab.&quot;</span> <span class="s2">&quot;association&quot;</span><span class="p">,</span>\
                             <span class="s2">&quot;universite&quot;</span><span class="p">,</span> <span class="s2">&quot;faculte&quot;</span><span class="p">,</span> <span class="s2">&quot;institute&quot;</span><span class="p">,</span> <span class="s2">&quot;centre&quot;</span><span class="p">,</span> <span class="s2">&quot;universidad&quot;</span><span class="p">,</span> <span class="s2">&quot;facultad&quot;</span><span class="p">,</span> <span class="s2">&quot;instituto&quot;</span><span class="p">,</span> <span class="s2">&quot;centro&quot;</span><span class="p">,</span> <span class="s2">&quot;stazione&quot;</span><span class="p">,</span> <span class="s2">&quot;istituto&quot;</span><span class="p">,</span> <span class="s2">&quot;istituti&quot;</span><span class="p">,</span>\
                             <span class="s2">&quot;yliopisto&quot;</span><span class="p">,</span> <span class="s2">&quot;opisto&quot;</span><span class="p">,</span>  <span class="s2">&quot;korkeakoulu&quot;</span><span class="p">,</span> <span class="s2">&quot;instituutti&quot;</span><span class="p">,</span> <span class="s2">&quot;station&quot;</span><span class="p">,</span> <span class="s2">&quot;seminar&quot;</span><span class="p">,</span> <span class="s2">&quot;anstalt&quot;</span><span class="p">,</span> <span class="s1">&#39;e.v.&#39;</span><span class="p">,</span> <span class="s1">&#39;e.v&#39;</span><span class="p">]</span>


<span class="k">if</span> <span class="n">os</span><span class="o">.</span><span class="n">path</span><span class="o">.</span><span class="n">isfile</span><span class="p">(</span><span class="n">modi_ipc_yr_applicant_filename</span><span class="p">)</span> <span class="o">==</span> <span class="kc">False</span><span class="p">:</span>

    <span class="n">ipc_yr_applicant</span> <span class="o">=</span> <span class="n">agg_raw_data</span><span class="o">.</span><span class="n">fillna</span><span class="p">(</span><span class="o">-</span><span class="mi">1</span><span class="p">)</span>


    <span class="n">ind_ipc</span> <span class="o">=</span> <span class="nb">list</span><span class="p">(</span><span class="nb">set</span><span class="p">(</span><span class="nb">list</span><span class="p">(</span><span class="n">ipc_yr_applicant</span><span class="p">[</span><span class="s1">&#39;IPC&#39;</span><span class="p">])))</span>

    <span class="n">com_univ1</span> <span class="o">=</span> <span class="nb">list</span><span class="p">(</span><span class="n">ipc_yr_applicant</span><span class="p">[</span><span class="s1">&#39;neo_company_univ1&#39;</span><span class="p">])</span>
    <span class="n">com_univ2</span> <span class="o">=</span> <span class="nb">list</span><span class="p">(</span><span class="n">ipc_yr_applicant</span><span class="p">[</span><span class="s1">&#39;neo_company_univ2&#39;</span><span class="p">])</span>

    <span class="n">new_com_univ1_list</span><span class="o">=</span><span class="p">[]</span>
    <span class="n">new_com_univ2_list</span><span class="o">=</span><span class="p">[]</span>

    <span class="n">new_splt_com1</span><span class="o">=</span><span class="p">[]</span>
    <span class="n">new_splt_com2</span><span class="o">=</span><span class="p">[]</span>

    <span class="n">com1_type</span><span class="o">=</span><span class="p">[]</span>
    <span class="n">com2_type</span><span class="o">=</span><span class="p">[]</span>

    <span class="n">i</span><span class="o">=</span><span class="mi">0</span>

    <span class="n">company_count</span> <span class="o">=</span> <span class="mi">0</span>
    <span class="n">university_count</span> <span class="o">=</span> <span class="mi">0</span>
    <span class="n">individual_count</span> <span class="o">=</span> <span class="mi">0</span>

    <span class="k">while</span> <span class="n">i</span> <span class="o">&lt;</span> <span class="nb">len</span><span class="p">(</span><span class="n">com_univ1</span><span class="p">):</span>
        <span class="n">k</span> <span class="o">=</span> <span class="mi">0</span>
        <span class="n">j</span> <span class="o">=</span> <span class="mi">0</span>
        <span class="n">std_com</span> <span class="o">=</span><span class="p">[]</span>
    
        <span class="k">if</span> <span class="n">com_univ1</span><span class="p">[</span><span class="n">i</span><span class="p">]</span> <span class="o">!=</span> <span class="o">-</span><span class="mi">1</span><span class="p">:</span>
            <span class="n">new_com1</span> <span class="o">=</span> <span class="n">com_univ1</span><span class="p">[</span><span class="n">i</span><span class="p">]</span><span class="o">.</span><span class="n">lower</span><span class="p">()</span>
    
            <span class="k">for</span> <span class="n">garbage</span> <span class="ow">in</span> <span class="n">garbage_company_name</span><span class="p">:</span>
                <span class="n">garbage_word</span> <span class="o">=</span> <span class="n">garbage</span><span class="o">.</span><span class="n">lower</span><span class="p">()</span>
            
                <span class="k">if</span> <span class="n">garbage_word</span> <span class="ow">in</span> <span class="n">new_com1</span><span class="p">:</span>
                    <span class="n">new_com1</span> <span class="o">=</span> <span class="n">new_com1</span><span class="o">.</span><span class="n">replace</span><span class="p">(</span><span class="n">garbage_word</span><span class="p">,</span><span class="s1">&#39;&#39;</span><span class="p">)</span><span class="o">.</span><span class="n">strip</span><span class="p">()</span>
                    <span class="n">new_com1</span> <span class="o">=</span> <span class="n">new_com1</span><span class="o">.</span><span class="n">replace</span><span class="p">(</span><span class="s1">&#39;,&#39;</span><span class="p">,</span><span class="s1">&#39;&#39;</span><span class="p">)</span><span class="o">.</span><span class="n">strip</span><span class="p">()</span>
                    <span class="n">k</span> <span class="o">=</span> <span class="n">k</span> <span class="o">+</span> <span class="mi">1</span>
                
            <span class="k">for</span> <span class="n">garbage</span> <span class="ow">in</span> <span class="n">acronym_company_name</span><span class="p">:</span>
                <span class="n">garbage_word</span> <span class="o">=</span> <span class="s2">&quot; &quot;</span> <span class="o">+</span> <span class="n">garbage</span><span class="o">.</span><span class="n">lower</span><span class="p">()</span>

                <span class="k">if</span> <span class="n">garbage_word</span> <span class="ow">in</span> <span class="n">new_com1</span> <span class="ow">and</span> <span class="n">k</span> <span class="o">==</span> <span class="mi">0</span><span class="p">:</span>
                    <span class="n">new_com1</span> <span class="o">=</span> <span class="n">new_com1</span><span class="o">.</span><span class="n">replace</span><span class="p">(</span><span class="n">garbage_word</span><span class="p">,</span><span class="s1">&#39;&#39;</span><span class="p">)</span><span class="o">.</span><span class="n">strip</span><span class="p">()</span>
                    <span class="n">new_com1</span> <span class="o">=</span> <span class="n">new_com1</span><span class="o">.</span><span class="n">replace</span><span class="p">(</span><span class="s1">&#39;,&#39;</span><span class="p">,</span><span class="s1">&#39;&#39;</span><span class="p">)</span><span class="o">.</span><span class="n">strip</span><span class="p">()</span>
                    <span class="n">k</span> <span class="o">=</span> <span class="n">k</span> <span class="o">+</span> <span class="mi">1</span>
   
            <span class="k">if</span> <span class="n">k</span> <span class="o">==</span> <span class="mi">0</span> <span class="p">:</span>
                <span class="k">for</span> <span class="n">garbage</span> <span class="ow">in</span> <span class="n">garbage_univ_institute_name</span><span class="p">:</span>
                    <span class="n">garbage_word</span> <span class="o">=</span> <span class="s2">&quot; &quot;</span> <span class="o">+</span> <span class="n">garbage</span><span class="o">.</span><span class="n">lower</span><span class="p">()</span>
            
                    <span class="k">if</span> <span class="n">garbage_word</span> <span class="ow">in</span> <span class="n">new_com1</span><span class="p">:</span>
                    <span class="c1">#  don&#39;t delete the words &quot;university&quot;, and etc.   </span>
                        <span class="n">new_com1</span> <span class="o">=</span> <span class="n">new_com1</span><span class="o">.</span><span class="n">strip</span><span class="p">()</span>
                        <span class="n">new_com1</span> <span class="o">=</span> <span class="n">new_com1</span><span class="o">.</span><span class="n">replace</span><span class="p">(</span><span class="s1">&#39;,&#39;</span><span class="p">,</span><span class="s1">&#39;&#39;</span><span class="p">)</span><span class="o">.</span><span class="n">strip</span><span class="p">()</span>
                        <span class="n">j</span> <span class="o">=</span> <span class="n">j</span> <span class="o">+</span> <span class="mi">1</span>
                
            <span class="n">new_com1</span> <span class="o">=</span> <span class="n">new_com1</span><span class="o">.</span><span class="n">replace</span><span class="p">(</span><span class="s1">&#39;.&#39;</span><span class="p">,</span><span class="s1">&#39;&#39;</span><span class="p">)</span><span class="o">.</span><span class="n">strip</span><span class="p">()</span>
            <span class="n">new_split_com1</span> <span class="o">=</span> <span class="n">new_com1</span><span class="o">.</span><span class="n">strip</span><span class="p">()</span><span class="o">.</span><span class="n">split</span><span class="p">()</span>
                
            <span class="k">for</span> <span class="n">split_com</span> <span class="ow">in</span> <span class="n">new_split_com1</span><span class="p">:</span>
                <span class="n">split_com</span> <span class="o">=</span> <span class="n">split_com</span><span class="o">.</span><span class="n">strip</span><span class="p">()</span>
                <span class="n">std_com</span><span class="o">.</span><span class="n">append</span><span class="p">(</span><span class="n">split_com</span><span class="p">)</span>
            
            <span class="n">normalized_company</span> <span class="o">=</span><span class="s2">&quot; &quot;</span><span class="o">.</span><span class="n">join</span><span class="p">(</span><span class="n">std_com</span><span class="p">)</span>
            <span class="n">new_com_univ1_list</span><span class="o">.</span><span class="n">append</span><span class="p">(</span><span class="n">normalized_company</span><span class="o">.</span><span class="n">upper</span><span class="p">()</span><span class="o">.</span><span class="n">strip</span><span class="p">())</span>   
           
        <span class="k">else</span><span class="p">:</span>
            <span class="n">new_com_univ1_list</span><span class="o">.</span><span class="n">append</span><span class="p">(</span><span class="s2">&quot;&quot;</span><span class="p">)</span>
        
        <span class="k">if</span> <span class="n">k</span> <span class="o">&gt;</span> <span class="mi">0</span><span class="p">:</span>
            <span class="n">com1_type</span><span class="o">.</span><span class="n">append</span><span class="p">(</span><span class="s1">&#39;company&#39;</span><span class="p">)</span>
            <span class="n">company_count</span> <span class="o">=</span> <span class="n">company_count</span> <span class="o">+</span> <span class="mi">1</span>
        <span class="k">elif</span> <span class="n">j</span> <span class="o">&gt;</span> <span class="mi">0</span><span class="p">:</span>
            <span class="n">com1_type</span><span class="o">.</span><span class="n">append</span><span class="p">(</span><span class="s1">&#39;university&#39;</span><span class="p">)</span>
            <span class="n">university_count</span> <span class="o">=</span> <span class="n">university_count</span> <span class="o">+</span> <span class="mi">1</span>
        <span class="k">else</span><span class="p">:</span>
            <span class="n">com1_type</span><span class="o">.</span><span class="n">append</span><span class="p">(</span><span class="s1">&#39;individual&#39;</span><span class="p">)</span>
        
        <span class="n">std_com</span> <span class="o">=</span><span class="p">[]</span>
        <span class="n">k</span> <span class="o">=</span> <span class="mi">0</span>
        <span class="n">j</span> <span class="o">=</span> <span class="mi">0</span>
    
        <span class="k">if</span> <span class="n">com_univ2</span><span class="p">[</span><span class="n">i</span><span class="p">]</span> <span class="o">!=</span> <span class="o">-</span><span class="mi">1</span><span class="p">:</span>
            <span class="n">new_com2</span> <span class="o">=</span> <span class="n">com_univ2</span><span class="p">[</span><span class="n">i</span><span class="p">]</span><span class="o">.</span><span class="n">lower</span><span class="p">()</span>
    
            <span class="k">for</span> <span class="n">garbage</span> <span class="ow">in</span> <span class="n">garbage_company_name</span><span class="p">:</span>
                <span class="n">garbage_word</span> <span class="o">=</span> <span class="n">garbage</span><span class="o">.</span><span class="n">lower</span><span class="p">()</span>
            
                <span class="k">if</span> <span class="n">garbage_word</span> <span class="ow">in</span> <span class="n">new_com2</span><span class="p">:</span>
                    <span class="n">new_com2</span> <span class="o">=</span> <span class="n">new_com2</span><span class="o">.</span><span class="n">replace</span><span class="p">(</span><span class="n">garbage_word</span><span class="p">,</span><span class="s1">&#39;&#39;</span><span class="p">)</span><span class="o">.</span><span class="n">strip</span><span class="p">()</span>
                    <span class="n">new_com2</span> <span class="o">=</span> <span class="n">new_com2</span><span class="o">.</span><span class="n">replace</span><span class="p">(</span><span class="s1">&#39;,&#39;</span><span class="p">,</span><span class="s1">&#39;&#39;</span><span class="p">)</span><span class="o">.</span><span class="n">strip</span><span class="p">()</span>
                    <span class="n">k</span> <span class="o">=</span> <span class="n">k</span> <span class="o">+</span> <span class="mi">1</span>
                
            <span class="k">for</span> <span class="n">garbage</span> <span class="ow">in</span> <span class="n">acronym_company_name</span><span class="p">:</span>
                <span class="n">garbage_word</span> <span class="o">=</span> <span class="s2">&quot; &quot;</span> <span class="o">+</span> <span class="n">garbage</span><span class="o">.</span><span class="n">lower</span><span class="p">()</span>
            
                <span class="c1"># &quot;co&quot; is included in acronym, but it could be skipped when garbage data first deleted                 </span>
                <span class="k">if</span> <span class="n">garbage_word</span> <span class="ow">in</span> <span class="n">new_com1</span> <span class="ow">and</span> <span class="n">k</span> <span class="o">==</span> <span class="mi">0</span><span class="p">:</span>
                    <span class="n">new_com2</span> <span class="o">=</span> <span class="n">new_com2</span><span class="o">.</span><span class="n">replace</span><span class="p">(</span><span class="n">garbage_word</span><span class="p">,</span><span class="s1">&#39;&#39;</span><span class="p">)</span><span class="o">.</span><span class="n">strip</span><span class="p">()</span>
                    <span class="n">new_com2</span> <span class="o">=</span> <span class="n">new_com2</span><span class="o">.</span><span class="n">replace</span><span class="p">(</span><span class="s1">&#39;,&#39;</span><span class="p">,</span><span class="s1">&#39;&#39;</span><span class="p">)</span><span class="o">.</span><span class="n">strip</span><span class="p">()</span>
                    <span class="n">k</span> <span class="o">=</span> <span class="n">k</span> <span class="o">+</span> <span class="mi">1</span>

            <span class="k">if</span> <span class="n">k</span> <span class="o">==</span> <span class="mi">0</span><span class="p">:</span>
                <span class="k">for</span> <span class="n">garbage</span> <span class="ow">in</span> <span class="n">garbage_univ_institute_name</span><span class="p">:</span>
                    <span class="n">garbage_word</span> <span class="o">=</span> <span class="s2">&quot; &quot;</span> <span class="o">+</span> <span class="n">garbage</span><span class="o">.</span><span class="n">lower</span><span class="p">()</span>
            
                    <span class="k">if</span> <span class="n">garbage_word</span> <span class="ow">in</span> <span class="n">new_com2</span><span class="p">:</span>
                    <span class="c1">#  don&#39;t delete the words &quot;university&quot;, and etc.                     </span>
                        <span class="n">new_com2</span> <span class="o">=</span> <span class="n">new_com2</span><span class="o">.</span><span class="n">strip</span><span class="p">()</span>
                        <span class="n">new_com2</span> <span class="o">=</span> <span class="n">new_com2</span><span class="o">.</span><span class="n">replace</span><span class="p">(</span><span class="s1">&#39;,&#39;</span><span class="p">,</span><span class="s1">&#39;&#39;</span><span class="p">)</span><span class="o">.</span><span class="n">strip</span><span class="p">()</span>
                        <span class="n">j</span> <span class="o">=</span> <span class="n">j</span> <span class="o">+</span> <span class="mi">1</span>
                
            <span class="n">new_com2</span> <span class="o">=</span> <span class="n">new_com2</span><span class="o">.</span><span class="n">replace</span><span class="p">(</span><span class="s1">&#39;.&#39;</span><span class="p">,</span><span class="s1">&#39;&#39;</span><span class="p">)</span><span class="o">.</span><span class="n">strip</span><span class="p">()</span>
            <span class="n">new_split_com2</span> <span class="o">=</span> <span class="n">new_com2</span><span class="o">.</span><span class="n">strip</span><span class="p">()</span><span class="o">.</span><span class="n">split</span><span class="p">()</span>
                
            <span class="k">for</span> <span class="n">split_com</span> <span class="ow">in</span> <span class="n">new_split_com2</span><span class="p">:</span>
                <span class="n">split_com</span> <span class="o">=</span> <span class="n">split_com</span><span class="o">.</span><span class="n">strip</span><span class="p">()</span>
                <span class="n">std_com</span><span class="o">.</span><span class="n">append</span><span class="p">(</span><span class="n">split_com</span><span class="p">)</span>
            
            <span class="n">normalized_company</span> <span class="o">=</span><span class="s2">&quot; &quot;</span><span class="o">.</span><span class="n">join</span><span class="p">(</span><span class="n">std_com</span><span class="p">)</span>
            <span class="n">new_com_univ2_list</span><span class="o">.</span><span class="n">append</span><span class="p">(</span><span class="n">normalized_company</span><span class="o">.</span><span class="n">upper</span><span class="p">()</span><span class="o">.</span><span class="n">strip</span><span class="p">())</span>   

        <span class="k">else</span><span class="p">:</span>
            <span class="n">new_com_univ2_list</span><span class="o">.</span><span class="n">append</span><span class="p">(</span><span class="s2">&quot;&quot;</span><span class="p">)</span>
        
        <span class="k">if</span> <span class="n">k</span> <span class="o">&gt;</span> <span class="mi">0</span><span class="p">:</span>
            <span class="n">com2_type</span><span class="o">.</span><span class="n">append</span><span class="p">(</span><span class="s1">&#39;company&#39;</span><span class="p">)</span>
            <span class="n">company_count</span> <span class="o">=</span> <span class="n">company_count</span> <span class="o">+</span> <span class="mi">1</span>
        <span class="k">elif</span> <span class="n">j</span> <span class="o">&gt;</span> <span class="mi">0</span><span class="p">:</span>
            <span class="n">com2_type</span><span class="o">.</span><span class="n">append</span><span class="p">(</span><span class="s1">&#39;university&#39;</span><span class="p">)</span>
            <span class="n">university_count</span> <span class="o">=</span> <span class="n">university_count</span> <span class="o">+</span> <span class="mi">1</span>
        <span class="k">else</span><span class="p">:</span>
            <span class="n">com2_type</span><span class="o">.</span><span class="n">append</span><span class="p">(</span><span class="s1">&#39;individual&#39;</span><span class="p">)</span>

        <span class="n">i</span> <span class="o">=</span> <span class="n">i</span> <span class="o">+</span> <span class="mi">1</span>
    
    <span class="n">ipc_yr_applicant</span><span class="p">[</span><span class="s1">&#39;new_company_univ1&#39;</span><span class="p">]</span> <span class="o">=</span> <span class="n">new_com_univ1_list</span>
    <span class="n">ipc_yr_applicant</span><span class="p">[</span><span class="s1">&#39;type_of_new_company_univ1&#39;</span><span class="p">]</span> <span class="o">=</span> <span class="n">com1_type</span>
    <span class="n">ipc_yr_applicant</span><span class="p">[</span><span class="s1">&#39;new_company_univ2&#39;</span><span class="p">]</span> <span class="o">=</span> <span class="n">new_com_univ2_list</span>
    <span class="n">ipc_yr_applicant</span><span class="p">[</span><span class="s1">&#39;type_of_new_company_univ2&#39;</span><span class="p">]</span> <span class="o">=</span> <span class="n">com2_type</span>

    <span class="c1"># calculating yearly applicants per ipc</span>

    <span class="n">modi_ipc_yr_applicant</span> <span class="o">=</span> <span class="n">ipc_yr_applicant</span>

    <span class="n">pat_data</span> <span class="o">=</span> <span class="n">modi_ipc_yr_applicant</span><span class="o">.</span><span class="n">fillna</span><span class="p">(</span><span class="o">-</span><span class="mi">1</span><span class="p">)</span>
    
    <span class="n">pat_data</span><span class="o">.</span><span class="n">to_csv</span><span class="p">(</span><span class="n">modi_ipc_yr_applicant_filename</span><span class="p">)</span>
    
<span class="k">else</span><span class="p">:</span>
    
    <span class="n">pat_data</span> <span class="o">=</span> <span class="n">pd</span><span class="o">.</span><span class="n">read_csv</span><span class="p">(</span><span class="n">modi_ipc_yr_applicant_filename</span><span class="p">)</span>
    

<span class="c1">#IPC = list(set(list(pat_data[&#39;IPC&#39;])))</span>
<span class="n">IPC</span> <span class="o">=</span> <span class="n">top_ipc</span>
    
<span class="n">saved_file_name2</span><span class="o">=</span><span class="s2">&quot;data/&quot;</span> <span class="o">+</span> <span class="n">start_yr</span> <span class="o">+</span> <span class="s2">&quot;_to_&quot;</span> <span class="o">+</span> <span class="n">end_yr</span> <span class="o">+</span> <span class="s2">&quot;_sub_class_ipc_no_&quot;</span><span class="o">+</span> <span class="nb">str</span><span class="p">(</span><span class="nb">len</span><span class="p">(</span><span class="n">sub_class_ipc</span><span class="p">))</span> <span class="o">+</span> <span class="s2">&quot;_top_&quot;</span><span class="o">+</span><span class="nb">str</span><span class="p">(</span><span class="n">top_rank</span><span class="p">)</span><span class="o">+</span><span class="s2">&quot;_yearly_applicants_per_ipc.csv&quot;</span>    

<span class="n">temp_modi</span> <span class="o">=</span> <span class="n">pd</span><span class="o">.</span><span class="n">DataFrame</span><span class="p">([])</span>

<span class="k">for</span> <span class="n">ipca</span> <span class="ow">in</span> <span class="n">IPC</span><span class="p">:</span>
    <span class="n">modi_top_ipc_data</span> <span class="o">=</span> <span class="n">pat_data</span><span class="o">.</span><span class="n">loc</span><span class="p">[</span><span class="n">pat_data</span><span class="p">[</span><span class="s1">&#39;IPC&#39;</span><span class="p">]</span><span class="o">==</span><span class="n">ipca</span><span class="p">]</span>
    <span class="n">temp_modi</span> <span class="o">=</span> <span class="n">pd</span><span class="o">.</span><span class="n">concat</span><span class="p">([</span><span class="n">temp_modi</span><span class="p">,</span><span class="n">modi_top_ipc_data</span><span class="p">])</span>

<span class="n">pat_data</span> <span class="o">=</span> <span class="n">temp_modi</span>
    
<span class="k">if</span> <span class="n">os</span><span class="o">.</span><span class="n">path</span><span class="o">.</span><span class="n">isfile</span><span class="p">(</span><span class="n">saved_file_name2</span><span class="p">)</span> <span class="o">==</span> <span class="kc">False</span><span class="p">:</span>
    
    <span class="n">yearly_applicants_per_ipc</span><span class="o">=</span><span class="n">pd</span><span class="o">.</span><span class="n">DataFrame</span><span class="p">([],</span><span class="n">index</span><span class="o">=</span><span class="n">IPC</span><span class="p">)</span>
    
    <span class="n">temp_data</span> <span class="o">=</span> <span class="n">pd</span><span class="o">.</span><span class="n">DataFrame</span><span class="p">([])</span>
    <span class="n">target_data</span> <span class="o">=</span> <span class="n">pd</span><span class="o">.</span><span class="n">DataFrame</span><span class="p">([])</span>
    <span class="n">pat_data_temp</span><span class="o">=</span> <span class="n">pd</span><span class="o">.</span><span class="n">DataFrame</span><span class="p">([])</span>

    <span class="n">pat_data_temp</span> <span class="o">=</span> <span class="n">pat_data_temp</span><span class="o">.</span><span class="n">append</span><span class="p">(</span><span class="n">pat_data</span><span class="o">.</span><span class="n">loc</span><span class="p">[</span><span class="n">pat_data</span><span class="p">[</span><span class="s1">&#39;type_of_new_company_univ1&#39;</span><span class="p">]</span> <span class="o">==</span> <span class="s1">&#39;company&#39;</span><span class="p">]</span>\
                                         <span class="o">.</span><span class="n">rename</span><span class="p">(</span> <span class="n">columns</span><span class="o">=</span><span class="p">{</span><span class="s2">&quot;new_company_univ1&quot;</span><span class="p">:</span><span class="s2">&quot;new_company_univ&quot;</span><span class="p">}))</span>
    <span class="n">pat_data_temp</span> <span class="o">=</span> <span class="n">pat_data_temp</span><span class="o">.</span><span class="n">append</span><span class="p">(</span><span class="n">pat_data</span><span class="o">.</span><span class="n">loc</span><span class="p">[</span><span class="n">pat_data</span><span class="p">[</span><span class="s1">&#39;type_of_new_company_univ1&#39;</span><span class="p">]</span> <span class="o">==</span> <span class="s1">&#39;university&#39;</span><span class="p">]</span>\
                                         <span class="o">.</span><span class="n">rename</span><span class="p">(</span> <span class="n">columns</span><span class="o">=</span><span class="p">{</span><span class="s2">&quot;new_company_univ1&quot;</span><span class="p">:</span><span class="s2">&quot;new_company_univ&quot;</span><span class="p">}))</span>

    <span class="n">pat_data_temp</span> <span class="o">=</span> <span class="n">pat_data_temp</span><span class="o">.</span><span class="n">append</span><span class="p">(</span><span class="n">pat_data</span><span class="o">.</span><span class="n">loc</span><span class="p">[</span><span class="n">pat_data</span><span class="p">[</span><span class="s1">&#39;type_of_new_company_univ2&#39;</span><span class="p">]</span> <span class="o">==</span> <span class="s1">&#39;company&#39;</span><span class="p">]</span>\
                                         <span class="o">.</span><span class="n">rename</span><span class="p">(</span> <span class="n">columns</span><span class="o">=</span><span class="p">{</span><span class="s2">&quot;new_company_univ2&quot;</span><span class="p">:</span><span class="s2">&quot;new_company_univ&quot;</span><span class="p">}))</span>

    <span class="n">pat_data_temp</span> <span class="o">=</span> <span class="n">pat_data_temp</span><span class="o">.</span><span class="n">append</span><span class="p">(</span><span class="n">pat_data</span><span class="o">.</span><span class="n">loc</span><span class="p">[</span><span class="n">pat_data</span><span class="p">[</span><span class="s1">&#39;type_of_new_company_univ2&#39;</span><span class="p">]</span> <span class="o">==</span> <span class="s1">&#39;university&#39;</span><span class="p">]</span>\
                                         <span class="o">.</span><span class="n">rename</span><span class="p">(</span> <span class="n">columns</span><span class="o">=</span><span class="p">{</span><span class="s2">&quot;new_company_univ2&quot;</span><span class="p">:</span><span class="s2">&quot;new_company_univ&quot;</span><span class="p">}))</span>

    <span class="n">temp_data</span> <span class="o">=</span> <span class="n">pat_data_temp</span><span class="p">[[</span><span class="s1">&#39;IPC&#39;</span><span class="p">,</span><span class="s1">&#39;application_year&#39;</span><span class="p">,</span> <span class="s1">&#39;new_company_univ&#39;</span><span class="p">]]</span><span class="o">.</span><span class="n">reset_index</span><span class="p">(</span><span class="n">drop</span><span class="o">=</span><span class="kc">True</span><span class="p">)</span>
    <span class="n">temp_data</span> <span class="o">=</span> <span class="n">temp_data</span><span class="o">.</span><span class="n">drop_duplicates</span><span class="p">()</span>

    <span class="n">yearly_applicants_list</span> <span class="o">=</span> <span class="n">temp_data</span><span class="o">.</span><span class="n">groupby</span><span class="p">([</span><span class="s1">&#39;IPC&#39;</span><span class="p">,</span> <span class="s1">&#39;application_year&#39;</span><span class="p">])[</span><span class="s1">&#39;new_company_univ&#39;</span><span class="p">]</span><span class="o">.</span><span class="n">apply</span><span class="p">(</span><span class="nb">list</span><span class="p">)</span> \
                            <span class="o">.</span><span class="n">reset_index</span><span class="p">(</span><span class="n">name</span><span class="o">=</span><span class="s1">&#39;company_univ_list&#39;</span><span class="p">)</span>

    <span class="k">for</span> <span class="n">idx</span><span class="p">,</span> <span class="n">ipca</span> <span class="ow">in</span> <span class="n">yearly_applicants_list</span><span class="o">.</span><span class="n">iterrows</span><span class="p">():</span>
        <span class="n">yearly_applicants_per_ipc</span><span class="o">.</span><span class="n">loc</span><span class="p">[</span><span class="n">ipca</span><span class="p">[</span><span class="mi">0</span><span class="p">],</span><span class="n">ipca</span><span class="p">[</span><span class="mi">1</span><span class="p">]]</span><span class="o">=</span> <span class="nb">len</span><span class="p">(</span><span class="n">ipca</span><span class="p">[</span><span class="mi">2</span><span class="p">])</span> 


    <span class="n">yearly_applicants_per_ipc</span><span class="o">.</span><span class="n">to_csv</span><span class="p">(</span><span class="n">saved_file_name2</span><span class="p">)</span>

<span class="k">else</span><span class="p">:</span>
    
    <span class="n">yearly_applicants_per_ipc</span><span class="o">=</span><span class="n">pd</span><span class="o">.</span><span class="n">read_csv</span><span class="p">(</span><span class="n">saved_file_name2</span><span class="p">,</span> <span class="n">index_col</span><span class="o">=</span><span class="mi">0</span><span class="p">)</span>
</pre></div>

    </div>
</div>
</div>

</div>
<div class="cell border-box-sizing code_cell rendered">
<div class="input">
<div class="prompt input_prompt">In&nbsp;[10]:</div>
<div class="inner_cell">
    <div class="input_area">
<div class=" highlight hl-ipython3"><pre><span></span><span class="c1">#### 성장성 지표 </span>
<span class="n">yearly_patents_per_ipc</span> <span class="o">=</span> <span class="n">yearly_patents_per_ipc</span><span class="o">.</span><span class="n">fillna</span><span class="p">(</span><span class="mi">0</span><span class="p">)</span>
<span class="n">yearly_applicants_per_ipc</span> <span class="o">=</span> <span class="n">yearly_applicants_per_ipc</span><span class="o">.</span><span class="n">fillna</span><span class="p">(</span><span class="mi">0</span><span class="p">)</span>

<span class="n">yearly_patents</span> <span class="o">=</span> <span class="n">yearly_patents_per_ipc</span>
<span class="n">yearly_applicants</span> <span class="o">=</span> <span class="n">yearly_applicants_per_ipc</span>

<span class="n">sorted_yearly_patents</span> <span class="o">=</span> <span class="n">yearly_patents</span><span class="o">.</span><span class="n">sum</span><span class="p">(</span><span class="n">axis</span><span class="o">=</span><span class="mi">1</span><span class="p">)</span><span class="o">.</span><span class="n">sort_values</span><span class="p">(</span><span class="n">ascending</span><span class="o">=</span><span class="kc">False</span><span class="p">)</span>
<span class="n">sorted_ipc</span> <span class="o">=</span> <span class="nb">list</span> <span class="p">(</span><span class="n">sorted_yearly_patents</span><span class="o">.</span><span class="n">index</span><span class="p">)[</span><span class="mi">0</span><span class="p">:</span><span class="n">top_rank</span><span class="p">]</span>
</pre></div>

    </div>
</div>
</div>

</div>
<div class="cell border-box-sizing code_cell rendered">
<div class="input">
<div class="prompt input_prompt">In&nbsp;[11]:</div>
<div class="inner_cell">
    <div class="input_area">
<div class=" highlight hl-ipython3"><pre><span></span><span class="c1"># yearly_applicants와 yearly_patents의 ipc가 다른 지 확인  (Query에서 order by에서 알파벳 순으로 소팅하지 않으면 동일 건수의 서로 다른 IPC가 선택될 수도 있음)</span>
<span class="nb">set</span><span class="p">(</span><span class="n">yearly_applicants</span><span class="o">.</span><span class="n">index</span><span class="p">)</span><span class="o">.</span><span class="n">difference</span><span class="p">(</span><span class="nb">set</span><span class="p">(</span><span class="n">yearly_patents</span><span class="o">.</span><span class="n">index</span><span class="p">))</span>
</pre></div>

    </div>
</div>
</div>

<div class="output_wrapper">
<div class="output">


<div class="output_area">

    <div class="prompt output_prompt">Out[11]:</div>




<div class="output_text output_subarea output_execute_result">
<pre>set()</pre>
</div>

</div>

</div>
</div>

</div>
<div class="cell border-box-sizing code_cell rendered">
<div class="input">
<div class="prompt input_prompt">In&nbsp;[12]:</div>
<div class="inner_cell">
    <div class="input_area">
<div class=" highlight hl-ipython3"><pre><span></span><span class="c1"># yearly_applicants와 yearly_patents의 ipc가 다른 지 확인</span>
<span class="nb">set</span><span class="p">(</span><span class="n">yearly_patents</span><span class="o">.</span><span class="n">index</span><span class="p">)</span><span class="o">.</span><span class="n">difference</span><span class="p">(</span><span class="nb">set</span><span class="p">(</span><span class="n">yearly_applicants</span><span class="o">.</span><span class="n">index</span><span class="p">))</span>
</pre></div>

    </div>
</div>
</div>

<div class="output_wrapper">
<div class="output">


<div class="output_area">

    <div class="prompt output_prompt">Out[12]:</div>




<div class="output_text output_subarea output_execute_result">
<pre>set()</pre>
</div>

</div>

</div>
</div>

</div>
<div class="cell border-box-sizing code_cell rendered">
<div class="input">
<div class="prompt input_prompt">In&nbsp;[13]:</div>
<div class="inner_cell">
    <div class="input_area">
<div class=" highlight hl-ipython3"><pre><span></span><span class="c1">#### Calculating accumulated Pantets and Applicants for Growth index</span>

<span class="n">period</span> <span class="o">=</span> <span class="nb">int</span><span class="p">(</span><span class="n">end_yr</span><span class="p">)</span> <span class="o">-</span> <span class="nb">int</span><span class="p">(</span><span class="n">start_yr</span><span class="p">)</span> <span class="o">+</span><span class="mi">1</span>
<span class="n">averaged_patents</span> <span class="o">=</span> <span class="n">sorted_yearly_patents</span><span class="o">.</span><span class="n">iloc</span><span class="p">[</span><span class="mi">0</span><span class="p">:</span><span class="n">top_rank</span><span class="p">]</span><span class="o">.</span><span class="n">sum</span><span class="p">()</span> <span class="o">/</span> <span class="nb">len</span><span class="p">(</span><span class="n">sorted_ipc</span><span class="p">)</span> <span class="o">/</span> <span class="n">period</span>
<span class="n">displayed_applicants</span><span class="o">=</span><span class="n">pd</span><span class="o">.</span><span class="n">DataFrame</span><span class="p">([],</span> <span class="n">index</span><span class="o">=</span><span class="n">sorted_ipc</span><span class="p">,</span> <span class="n">columns</span><span class="o">=</span><span class="n">yearly_applicants</span><span class="o">.</span><span class="n">columns</span><span class="p">)</span>
<span class="n">displayed_patents</span><span class="o">=</span><span class="n">pd</span><span class="o">.</span><span class="n">DataFrame</span><span class="p">([],</span> <span class="n">index</span><span class="o">=</span><span class="n">sorted_ipc</span><span class="p">,</span> <span class="n">columns</span><span class="o">=</span><span class="n">yearly_patents</span><span class="o">.</span><span class="n">columns</span><span class="p">)</span>

<span class="k">for</span> <span class="n">ipc</span> <span class="ow">in</span> <span class="n">sorted_ipc</span><span class="p">:</span>
    <span class="n">displayed_applicants</span><span class="o">.</span><span class="n">loc</span><span class="p">[</span><span class="n">ipc</span><span class="p">,:]</span><span class="o">=</span><span class="n">yearly_applicants</span><span class="o">.</span><span class="n">loc</span><span class="p">[</span><span class="n">ipc</span><span class="p">]</span>
    <span class="n">displayed_patents</span><span class="o">.</span><span class="n">loc</span><span class="p">[</span><span class="n">ipc</span><span class="p">,:]</span><span class="o">=</span><span class="n">yearly_patents</span><span class="o">.</span><span class="n">loc</span><span class="p">[</span><span class="n">ipc</span><span class="p">]</span>

<span class="n">ipc</span> <span class="o">=</span> <span class="n">sorted_ipc</span>


<span class="n">ipc_statistics</span> <span class="o">=</span> <span class="p">[</span><span class="s1">&#39;accumulated patents&#39;</span><span class="p">,</span> <span class="s1">&#39;accumulated applicants&#39;</span><span class="p">,</span> <span class="s1">&#39;averaged patents&#39;</span><span class="p">,</span> \
                    <span class="s1">&#39;averaged applicants&#39;</span><span class="p">,</span> <span class="s1">&#39;averaged weighted CAGR of patents&#39;</span><span class="p">,</span> \
                    <span class="s1">&#39;averaged weighted CAGR of applicants&#39;</span><span class="p">]</span>

<span class="n">ipc_analysis_data</span><span class="o">=</span><span class="n">pd</span><span class="o">.</span><span class="n">DataFrame</span><span class="p">([],</span><span class="n">index</span><span class="o">=</span><span class="n">sorted_ipc</span><span class="p">,</span> <span class="n">columns</span><span class="o">=</span><span class="n">ipc_statistics</span><span class="p">)</span>

<span class="n">ipc_analysis_data</span><span class="p">[</span><span class="s1">&#39;accumulated patents&#39;</span><span class="p">]</span><span class="o">=</span><span class="nb">list</span><span class="p">(</span><span class="nb">round</span><span class="p">(</span><span class="n">displayed_patents</span><span class="o">.</span><span class="n">sum</span><span class="p">(</span><span class="n">axis</span><span class="o">=</span><span class="mi">1</span><span class="p">),</span><span class="mi">2</span><span class="p">))</span>
<span class="n">ipc_analysis_data</span><span class="p">[</span><span class="s1">&#39;accumulated applicants&#39;</span><span class="p">]</span><span class="o">=</span><span class="nb">list</span><span class="p">(</span><span class="nb">round</span><span class="p">(</span><span class="n">displayed_applicants</span><span class="o">.</span><span class="n">sum</span><span class="p">(</span><span class="n">axis</span><span class="o">=</span><span class="mi">1</span><span class="p">),</span><span class="mi">2</span><span class="p">))</span>
<span class="n">ipc_analysis_data</span><span class="p">[</span><span class="s1">&#39;averaged patents&#39;</span><span class="p">]</span><span class="o">=</span><span class="nb">list</span><span class="p">(</span><span class="nb">round</span><span class="p">(</span><span class="n">displayed_patents</span><span class="o">.</span><span class="n">mean</span><span class="p">(</span><span class="n">axis</span><span class="o">=</span><span class="mi">1</span><span class="p">),</span><span class="mi">2</span><span class="p">))</span>
<span class="n">ipc_analysis_data</span><span class="p">[</span><span class="s1">&#39;averaged applicants&#39;</span><span class="p">]</span><span class="o">=</span><span class="nb">list</span><span class="p">(</span><span class="nb">round</span><span class="p">(</span><span class="n">displayed_applicants</span><span class="o">.</span><span class="n">mean</span><span class="p">(</span><span class="n">axis</span><span class="o">=</span><span class="mi">1</span><span class="p">),</span><span class="mi">2</span><span class="p">))</span>

<span class="n">weight</span> <span class="o">=</span> <span class="nb">list</span><span class="p">(</span><span class="nb">range</span><span class="p">(</span><span class="mi">1</span><span class="p">,</span> <span class="nb">len</span><span class="p">(</span><span class="n">year</span><span class="p">)))</span>
</pre></div>

    </div>
</div>
</div>

</div>
<div class="cell border-box-sizing code_cell rendered">
<div class="input">
<div class="prompt input_prompt">In&nbsp;[14]:</div>
<div class="inner_cell">
    <div class="input_area">
<div class=" highlight hl-ipython3"><pre><span></span><span class="c1">#### CAGR function </span>

<span class="k">def</span> <span class="nf">CAGR</span> <span class="p">(</span><span class="n">initial</span><span class="p">,</span> <span class="n">final</span><span class="p">,</span> <span class="n">period</span><span class="p">):</span>
    <span class="n">cagr</span> <span class="o">=</span> <span class="nb">pow</span><span class="p">((</span><span class="n">final</span><span class="o">/</span><span class="n">initial</span><span class="p">),(</span><span class="mi">1</span><span class="o">/</span><span class="n">period</span><span class="p">))</span> <span class="o">-</span> <span class="mi">1</span>   
    <span class="k">return</span> <span class="nb">round</span><span class="p">(</span><span class="n">cagr</span><span class="p">,</span><span class="mi">3</span><span class="p">)</span>
</pre></div>

    </div>
</div>
</div>

</div>
<div class="cell border-box-sizing code_cell rendered">
<div class="input">
<div class="prompt input_prompt">In&nbsp;[15]:</div>
<div class="inner_cell">
    <div class="input_area">
<div class=" highlight hl-ipython3"><pre><span></span><span class="nb">len</span><span class="p">(</span><span class="n">sorted_ipc</span><span class="p">)</span>
</pre></div>

    </div>
</div>
</div>

<div class="output_wrapper">
<div class="output">


<div class="output_area">

    <div class="prompt output_prompt">Out[15]:</div>




<div class="output_text output_subarea output_execute_result">
<pre>500</pre>
</div>

</div>

</div>
</div>

</div>
<div class="cell border-box-sizing code_cell rendered">
<div class="input">
<div class="prompt input_prompt">In&nbsp;[16]:</div>
<div class="inner_cell">
    <div class="input_area">
<div class=" highlight hl-ipython3"><pre><span></span><span class="c1">#### Calculating weighted CAGR of pantets and applicants for Growth index</span>

<span class="n">i</span> <span class="o">=</span> <span class="mi">0</span>
<span class="k">while</span> <span class="n">i</span> <span class="o">&lt;</span> <span class="nb">len</span><span class="p">(</span><span class="n">ipc</span><span class="p">):</span>
    <span class="n">ipc_patents</span> <span class="o">=</span> <span class="nb">list</span><span class="p">(</span><span class="n">yearly_patents</span><span class="o">.</span><span class="n">loc</span><span class="p">[</span><span class="n">ipc</span><span class="p">[</span><span class="n">i</span><span class="p">]])</span>
    <span class="n">ipc_applicants</span> <span class="o">=</span> <span class="nb">list</span><span class="p">(</span><span class="n">yearly_applicants</span><span class="o">.</span><span class="n">loc</span><span class="p">[</span><span class="n">ipc</span><span class="p">[</span><span class="n">i</span><span class="p">]])</span>
    
    <span class="n">j</span> <span class="o">=</span> <span class="mi">1</span>
    
    <span class="n">weight_accum_cagr1</span> <span class="o">=</span> <span class="mi">0</span>
    <span class="n">weight_accum_cagr2</span> <span class="o">=</span> <span class="mi">0</span>
    
    <span class="k">while</span> <span class="n">j</span> <span class="o">&lt;</span> <span class="nb">len</span> <span class="p">(</span><span class="n">ipc_patents</span><span class="p">):</span>
        <span class="k">if</span> <span class="n">ipc_patents</span><span class="p">[</span><span class="mi">0</span><span class="p">]</span><span class="o">==</span><span class="mi">0</span><span class="p">:</span> <span class="n">ipc_patents</span><span class="p">[</span><span class="mi">0</span><span class="p">]</span><span class="o">=</span><span class="mi">1</span>        <span class="c1">### 해당연도의 값이 0인경우, 그 다음해 부터 계산 실행하도록 수정 검토</span>
        <span class="k">if</span> <span class="n">ipc_applicants</span><span class="p">[</span><span class="mi">0</span><span class="p">]</span><span class="o">==</span><span class="mi">0</span><span class="p">:</span> <span class="n">ipc_applicants</span><span class="p">[</span><span class="mi">0</span><span class="p">]</span><span class="o">=</span><span class="mi">1</span>  <span class="c1">### 해당연도의 값이 0인경우, 그 다음해 부터 계산 실행하도록 수정 검토</span>
        
        <span class="n">cagr1</span> <span class="o">=</span> <span class="n">CAGR</span><span class="p">(</span><span class="n">ipc_patents</span><span class="p">[</span><span class="mi">0</span><span class="p">],</span> <span class="n">ipc_patents</span><span class="p">[</span><span class="n">j</span><span class="p">],</span> <span class="n">j</span><span class="p">)</span>
        <span class="n">cagr2</span> <span class="o">=</span> <span class="n">CAGR</span><span class="p">(</span><span class="n">ipc_applicants</span><span class="p">[</span><span class="mi">0</span><span class="p">],</span> <span class="n">ipc_applicants</span><span class="p">[</span><span class="n">j</span><span class="p">],</span> <span class="n">j</span><span class="p">)</span>
     
        <span class="n">weight_accum_cagr1</span> <span class="o">=</span> <span class="n">weight</span><span class="p">[</span><span class="n">j</span><span class="o">-</span><span class="mi">1</span><span class="p">]</span><span class="o">*</span><span class="n">cagr1</span> <span class="o">+</span> <span class="n">weight_accum_cagr1</span>
        <span class="n">weight_accum_cagr2</span> <span class="o">=</span> <span class="n">weight</span><span class="p">[</span><span class="n">j</span><span class="o">-</span><span class="mi">1</span><span class="p">]</span><span class="o">*</span><span class="n">cagr2</span> <span class="o">+</span> <span class="n">weight_accum_cagr2</span>
        
        <span class="n">j</span> <span class="o">=</span> <span class="n">j</span> <span class="o">+</span> <span class="mi">1</span>
        
    <span class="n">weight_accum_cagr1</span> <span class="o">=</span> <span class="n">weight_accum_cagr1</span><span class="o">/</span><span class="nb">sum</span><span class="p">(</span><span class="n">weight</span><span class="p">)</span>
    <span class="n">weight_accum_cagr2</span> <span class="o">=</span> <span class="n">weight_accum_cagr2</span><span class="o">/</span><span class="nb">sum</span><span class="p">(</span><span class="n">weight</span><span class="p">)</span>
    <span class="n">ipc_analysis_data</span><span class="o">.</span><span class="n">loc</span><span class="p">[</span><span class="n">ipc</span><span class="p">[</span><span class="n">i</span><span class="p">],</span><span class="s1">&#39;averaged weighted CAGR of patents&#39;</span><span class="p">]</span> <span class="o">=</span> <span class="nb">round</span><span class="p">(</span><span class="n">weight_accum_cagr1</span><span class="p">,</span><span class="mi">2</span><span class="p">)</span>
    <span class="n">ipc_analysis_data</span><span class="o">.</span><span class="n">loc</span><span class="p">[</span><span class="n">ipc</span><span class="p">[</span><span class="n">i</span><span class="p">],</span><span class="s1">&#39;averaged weighted CAGR of applicants&#39;</span><span class="p">]</span> <span class="o">=</span> <span class="nb">round</span><span class="p">(</span><span class="n">weight_accum_cagr2</span><span class="p">,</span><span class="mi">2</span><span class="p">)</span>
    
    <span class="n">i</span> <span class="o">=</span> <span class="n">i</span> <span class="o">+</span> <span class="mi">1</span>
</pre></div>

    </div>
</div>
</div>

</div>
<div class="cell border-box-sizing code_cell rendered">
<div class="input">
<div class="prompt input_prompt">In&nbsp;[17]:</div>
<div class="inner_cell">
    <div class="input_area">
<div class=" highlight hl-ipython3"><pre><span></span><span class="n">saved_file_name_3</span> <span class="o">=</span><span class="s2">&quot;data/&quot;</span> <span class="o">+</span> <span class="n">start_yr</span> <span class="o">+</span> <span class="s2">&quot;_to_&quot;</span> <span class="o">+</span> <span class="n">end_yr</span> <span class="o">+</span> <span class="s2">&quot;_sub_class_ipc_no_&quot;</span><span class="o">+</span> <span class="nb">str</span><span class="p">(</span><span class="nb">len</span><span class="p">(</span><span class="n">sub_class_ipc</span><span class="p">))</span> <span class="o">+</span> <span class="s2">&quot;_top_&quot;</span> <span class="o">+</span> <span class="nb">str</span><span class="p">(</span><span class="n">top_rank</span><span class="p">)</span> <span class="o">+</span> <span class="s2">&quot;_ipc_analysis.csv&quot;</span>
<span class="n">ipc_analysis_data</span><span class="o">.</span><span class="n">to_csv</span><span class="p">(</span><span class="n">saved_file_name_3</span><span class="p">)</span>
</pre></div>

    </div>
</div>
</div>

</div>
<div class="cell border-box-sizing code_cell rendered">
<div class="input">
<div class="prompt input_prompt">In&nbsp;[18]:</div>
<div class="inner_cell">
    <div class="input_area">
<div class=" highlight hl-ipython3"><pre><span></span><span class="n">ipc_analysis_data</span><span class="o">.</span><span class="n">head</span><span class="p">()</span>
</pre></div>

    </div>
</div>
</div>

<div class="output_wrapper">
<div class="output">


<div class="output_area">

    <div class="prompt output_prompt">Out[18]:</div>



<div class="output_html rendered_html output_subarea output_execute_result">
<div>
<style scoped>
    .dataframe tbody tr th:only-of-type {
        vertical-align: middle;
    }

    .dataframe tbody tr th {
        vertical-align: top;
    }

    .dataframe thead th {
        text-align: right;
    }
</style>
<table border="1" class="dataframe">
  <thead>
    <tr style="text-align: right;">
      <th></th>
      <th>accumulated patents</th>
      <th>accumulated applicants</th>
      <th>averaged patents</th>
      <th>averaged applicants</th>
      <th>averaged weighted CAGR of patents</th>
      <th>averaged weighted CAGR of applicants</th>
    </tr>
  </thead>
  <tbody>
    <tr>
      <th>A61K9/00</th>
      <td>22870.0</td>
      <td>12187.0</td>
      <td>1633.57</td>
      <td>870.50</td>
      <td>0.29</td>
      <td>0.25</td>
    </tr>
    <tr>
      <th>A61K39/395</th>
      <td>19849.0</td>
      <td>7791.0</td>
      <td>1417.79</td>
      <td>556.50</td>
      <td>0</td>
      <td>-0</td>
    </tr>
    <tr>
      <th>A61K45/06</th>
      <td>18117.0</td>
      <td>8468.0</td>
      <td>1294.07</td>
      <td>604.86</td>
      <td>0.89</td>
      <td>0.83</td>
    </tr>
    <tr>
      <th>C12N15/82</th>
      <td>13508.0</td>
      <td>2898.0</td>
      <td>964.86</td>
      <td>207.00</td>
      <td>0.04</td>
      <td>-0.01</td>
    </tr>
    <tr>
      <th>C07H21/04</th>
      <td>13009.0</td>
      <td>5170.0</td>
      <td>929.21</td>
      <td>369.29</td>
      <td>-0.25</td>
      <td>-0.2</td>
    </tr>
  </tbody>
</table>
</div>
</div>

</div>

</div>
</div>

</div>
<div class="cell border-box-sizing code_cell rendered">
<div class="input">
<div class="prompt input_prompt">In&nbsp;[19]:</div>
<div class="inner_cell">
    <div class="input_area">
<div class=" highlight hl-ipython3"><pre><span></span><span class="c1">################################# ipc picking from material top 100 ipc #################################</span>

<span class="n">x_minus_range</span> <span class="o">=</span> <span class="mi">500</span>
<span class="n">x_plus_range</span> <span class="o">=</span> <span class="mi">4000</span>
<span class="n">y_minus_range</span> <span class="o">=</span> <span class="mi">100</span>
<span class="n">y_plus_range</span> <span class="o">=</span> <span class="mi">500</span>

<span class="n">min_patent_cagr</span> <span class="o">=</span> <span class="mf">0.3</span>
<span class="n">min_applicant_cagr</span> <span class="o">=</span> <span class="mf">0.3</span>

<span class="n">max_patent_cagr</span> <span class="o">=</span> <span class="mf">0.5</span>
<span class="n">max_applicant_cagr</span> <span class="o">=</span> <span class="mf">0.5</span>

<span class="n">mask1</span> <span class="o">=</span> <span class="p">(</span><span class="n">ipc_analysis_data</span><span class="p">[</span><span class="s1">&#39;averaged applicants&#39;</span><span class="p">]</span> <span class="o">&gt;=</span> <span class="n">x_minus_range</span><span class="p">)</span> <span class="o">&amp;</span> <span class="p">(</span><span class="n">ipc_analysis_data</span><span class="p">[</span><span class="s1">&#39;averaged applicants&#39;</span><span class="p">]</span> <span class="o">&lt;=</span> <span class="n">x_plus_range</span><span class="p">)</span>

<span class="n">mask2</span> <span class="o">=</span> <span class="p">(</span><span class="n">ipc_analysis_data</span><span class="p">[</span><span class="s1">&#39;averaged patents&#39;</span><span class="p">]</span> <span class="o">&gt;=</span> <span class="n">y_minus_range</span><span class="p">)</span> <span class="o">&amp;</span> <span class="p">(</span><span class="n">ipc_analysis_data</span><span class="p">[</span><span class="s1">&#39;averaged patents&#39;</span><span class="p">]</span> <span class="o">&lt;=</span> <span class="n">y_plus_range</span><span class="p">)</span> 

<span class="n">mask3</span> <span class="o">=</span> <span class="p">(</span><span class="n">ipc_analysis_data</span><span class="p">[</span><span class="s1">&#39;averaged weighted CAGR of patents&#39;</span><span class="p">]</span> <span class="o">&gt;=</span> <span class="n">min_patent_cagr</span><span class="p">)</span> <span class="o">&amp;</span> <span class="p">(</span><span class="n">ipc_analysis_data</span><span class="p">[</span><span class="s1">&#39;averaged weighted CAGR of patents&#39;</span><span class="p">]</span> <span class="o">&lt;</span> <span class="n">max_patent_cagr</span><span class="p">)</span>

<span class="n">mask4</span> <span class="o">=</span> <span class="p">(</span><span class="n">ipc_analysis_data</span><span class="p">[</span><span class="s1">&#39;averaged weighted CAGR of applicants&#39;</span><span class="p">]</span> <span class="o">&gt;=</span> <span class="n">min_applicant_cagr</span><span class="p">)</span> <span class="o">&amp;</span> <span class="p">(</span><span class="n">ipc_analysis_data</span><span class="p">[</span><span class="s1">&#39;averaged weighted CAGR of applicants&#39;</span><span class="p">]</span> <span class="o">&lt;</span> <span class="n">max_applicant_cagr</span><span class="p">)</span>

<span class="n">ipc_set1</span> <span class="o">=</span> <span class="nb">set</span><span class="p">(</span><span class="nb">list</span><span class="p">(</span><span class="n">ipc_analysis_data</span><span class="o">.</span><span class="n">loc</span><span class="p">[</span><span class="n">mask1</span><span class="p">]</span><span class="o">.</span><span class="n">index</span><span class="p">))</span>
<span class="n">ipc_set2</span> <span class="o">=</span> <span class="nb">set</span><span class="p">(</span><span class="nb">list</span><span class="p">(</span><span class="n">ipc_analysis_data</span><span class="o">.</span><span class="n">loc</span><span class="p">[</span><span class="n">mask2</span><span class="p">]</span><span class="o">.</span><span class="n">index</span><span class="p">))</span>
<span class="n">ipc_set3</span> <span class="o">=</span> <span class="nb">set</span><span class="p">(</span><span class="nb">list</span><span class="p">(</span><span class="n">ipc_analysis_data</span><span class="o">.</span><span class="n">loc</span><span class="p">[</span><span class="n">mask3</span><span class="p">]</span><span class="o">.</span><span class="n">index</span><span class="p">))</span>
<span class="n">ipc_set4</span> <span class="o">=</span> <span class="nb">set</span><span class="p">(</span><span class="nb">list</span><span class="p">(</span><span class="n">ipc_analysis_data</span><span class="o">.</span><span class="n">loc</span><span class="p">[</span><span class="n">mask4</span><span class="p">]</span><span class="o">.</span><span class="n">index</span><span class="p">))</span>

<span class="c1">###  patent cagr &gt;= 20% and applicant cagr &gt;= 20%</span>

<span class="n">target_ipc</span> <span class="o">=</span> <span class="n">ipc_set3</span><span class="o">.</span><span class="n">intersection</span><span class="p">(</span><span class="n">ipc_set4</span><span class="p">)</span>
<span class="n">target_ipc</span>
</pre></div>

    </div>
</div>
</div>

<div class="output_wrapper">
<div class="output">


<div class="output_area">

    <div class="prompt output_prompt">Out[19]:</div>




<div class="output_text output_subarea output_execute_result">
<pre>{&#39;A61K31/167&#39;,
 &#39;A61K31/713&#39;,
 &#39;A61K35/28&#39;,
 &#39;A61K39/39&#39;,
 &#39;A61K47/02&#39;,
 &#39;A61K47/10&#39;,
 &#39;A61K47/18&#39;,
 &#39;A61K47/22&#39;,
 &#39;A61K47/26&#39;,
 &#39;A61K8/04&#39;,
 &#39;A61K8/92&#39;,
 &#39;A61K9/51&#39;,
 &#39;A61L27/18&#39;,
 &#39;A61L27/36&#39;,
 &#39;A61L27/54&#39;,
 &#39;A61L27/56&#39;,
 &#39;A61Q19/02&#39;,
 &#39;A61Q19/08&#39;,
 &#39;A61Q19/10&#39;,
 &#39;A61Q5/12&#39;,
 &#39;B01J20/30&#39;,
 &#39;B01J21/06&#39;,
 &#39;B01J35/10&#39;,
 &#39;C07D405/06&#39;,
 &#39;C07K14/725&#39;,
 &#39;C08L9/06&#39;,
 &#39;C09K8/80&#39;,
 &#39;C12N15/10&#39;,
 &#39;C12N15/62&#39;,
 &#39;C12N15/90&#39;,
 &#39;C12P19/14&#39;,
 &#39;C22C38/02&#39;,
 &#39;C22C38/46&#39;,
 &#39;H01F27/29&#39;}</pre>
</div>

</div>

</div>
</div>

</div>
<div class="cell border-box-sizing code_cell rendered">
<div class="input">
<div class="prompt input_prompt">In&nbsp;[20]:</div>
<div class="inner_cell">
    <div class="input_area">
<div class=" highlight hl-ipython3"><pre><span></span><span class="kn">import</span> <span class="nn">matplotlib</span> <span class="k">as</span> <span class="nn">mpl</span>
<span class="kn">import</span> <span class="nn">matplotlib.pyplot</span> <span class="k">as</span> <span class="nn">plt</span>
<span class="kn">import</span> <span class="nn">matplotlib.patches</span> <span class="k">as</span> <span class="nn">patches</span>

<span class="n">i</span> <span class="o">=</span> <span class="mi">0</span>

<span class="n">plt</span><span class="o">.</span><span class="n">figure</span><span class="p">()</span>
<span class="n">plt</span><span class="o">.</span><span class="n">title</span><span class="p">(</span><span class="s1">&#39;Patents trend per ipc&#39;</span><span class="p">)</span>

<span class="n">sorted_ipc1</span> <span class="o">=</span> <span class="nb">list</span><span class="p">(</span><span class="n">target_ipc</span><span class="p">)</span>

<span class="n">target_ipc_analysis_data</span> <span class="o">=</span> <span class="n">pd</span><span class="o">.</span><span class="n">DataFrame</span><span class="p">([],</span> <span class="n">index</span> <span class="o">=</span> <span class="n">sorted_ipc1</span><span class="p">,</span> <span class="n">columns</span> <span class="o">=</span> <span class="n">ipc_analysis_data</span><span class="o">.</span><span class="n">columns</span><span class="p">)</span>

<span class="k">for</span> <span class="n">ipc</span> <span class="ow">in</span> <span class="n">sorted_ipc1</span><span class="p">:</span>
    <span class="n">target_ipc_analysis_data</span><span class="o">.</span><span class="n">loc</span><span class="p">[</span><span class="n">ipc</span><span class="p">,:]</span> <span class="o">=</span><span class="n">ipc_analysis_data</span><span class="o">.</span><span class="n">loc</span><span class="p">[</span><span class="n">ipc</span><span class="p">]</span>
    
<span class="n">Sorted_Common_Trd_picked_ipc</span> <span class="o">=</span> <span class="nb">list</span><span class="p">(</span><span class="n">target_ipc_analysis_data</span><span class="p">[</span><span class="s1">&#39;accumulated patents&#39;</span><span class="p">]</span><span class="o">.</span><span class="n">sort_values</span><span class="p">(</span><span class="n">ascending</span><span class="o">=</span><span class="kc">False</span><span class="p">)</span><span class="o">.</span><span class="n">index</span><span class="p">)</span>

<span class="n">target_ipc_analysis_data</span> <span class="o">=</span> <span class="n">pd</span><span class="o">.</span><span class="n">DataFrame</span><span class="p">([],</span> <span class="n">index</span> <span class="o">=</span> <span class="n">Sorted_Common_Trd_picked_ipc</span><span class="p">,</span> <span class="n">columns</span> <span class="o">=</span> <span class="n">ipc_analysis_data</span><span class="o">.</span><span class="n">columns</span><span class="p">)</span>

<span class="k">for</span> <span class="n">ipc</span> <span class="ow">in</span> <span class="n">Sorted_Common_Trd_picked_ipc</span><span class="p">:</span>
    <span class="n">target_ipc_analysis_data</span><span class="o">.</span><span class="n">loc</span><span class="p">[</span><span class="n">ipc</span><span class="p">,:]</span> <span class="o">=</span><span class="n">ipc_analysis_data</span><span class="o">.</span><span class="n">loc</span><span class="p">[</span><span class="n">ipc</span><span class="p">]</span>


<span class="k">for</span> <span class="n">common_ipc</span> <span class="ow">in</span> <span class="n">Sorted_Common_Trd_picked_ipc</span><span class="p">[</span><span class="mi">0</span><span class="p">:</span><span class="mi">10</span><span class="p">]:</span>
    <span class="n">yearly_trend</span> <span class="o">=</span> <span class="nb">list</span> <span class="p">(</span><span class="n">yearly_patents</span><span class="o">.</span><span class="n">loc</span><span class="p">[</span><span class="n">common_ipc</span><span class="p">])</span>
    <span class="n">plt</span><span class="o">.</span><span class="n">plot</span><span class="p">(</span><span class="n">year</span><span class="p">,</span><span class="n">yearly_trend</span><span class="p">,</span> <span class="n">label</span><span class="o">=</span><span class="n">common_ipc</span><span class="p">)</span>

<span class="n">plt</span><span class="o">.</span><span class="n">legend</span><span class="p">()</span>
<span class="c1">#plt.xticks([&#39;2005&#39;, &#39;2007&#39;, &#39;2009&#39;, &#39;2011&#39;, &#39;2013&#39;, &#39;2015&#39;, &#39;2017&#39;])</span>
<span class="n">plt</span><span class="o">.</span><span class="n">xlabel</span><span class="p">(</span><span class="s1">&#39;year&#39;</span><span class="p">)</span>
<span class="n">plt</span><span class="o">.</span><span class="n">ylabel</span><span class="p">(</span><span class="s1">&#39;Patents&#39;</span><span class="p">)</span>
<span class="n">plt</span><span class="o">.</span><span class="n">show</span><span class="p">()</span>


<span class="n">plt</span><span class="o">.</span><span class="n">figure</span><span class="p">()</span>
<span class="n">plt</span><span class="o">.</span><span class="n">title</span><span class="p">(</span><span class="s1">&#39;Patents trend per ipc&#39;</span><span class="p">)</span>
<span class="k">for</span> <span class="n">common_ipc</span> <span class="ow">in</span> <span class="n">Sorted_Common_Trd_picked_ipc</span><span class="p">[</span><span class="mi">10</span><span class="p">:</span><span class="nb">len</span><span class="p">(</span><span class="n">Sorted_Common_Trd_picked_ipc</span><span class="p">)]:</span>
    <span class="n">yearly_trend</span> <span class="o">=</span> <span class="nb">list</span> <span class="p">(</span><span class="n">yearly_patents</span><span class="o">.</span><span class="n">loc</span><span class="p">[</span><span class="n">common_ipc</span><span class="p">])</span>
    <span class="n">plt</span><span class="o">.</span><span class="n">plot</span><span class="p">(</span><span class="n">year</span><span class="p">,</span><span class="n">yearly_trend</span><span class="p">,</span> <span class="n">label</span><span class="o">=</span><span class="n">common_ipc</span><span class="p">)</span>

<span class="n">plt</span><span class="o">.</span><span class="n">legend</span><span class="p">()</span>
<span class="c1">#plt.xticks([&#39;2005&#39;, &#39;2007&#39;, &#39;2009&#39;, &#39;2011&#39;, &#39;2013&#39;, &#39;2015&#39;, &#39;2017&#39;])</span>
<span class="n">plt</span><span class="o">.</span><span class="n">xlabel</span><span class="p">(</span><span class="s1">&#39;year&#39;</span><span class="p">)</span>
<span class="n">plt</span><span class="o">.</span><span class="n">ylabel</span><span class="p">(</span><span class="s1">&#39;Patents&#39;</span><span class="p">)</span>
<span class="n">plt</span><span class="o">.</span><span class="n">show</span><span class="p">()</span>
</pre></div>

    </div>
</div>
</div>

<div class="output_wrapper">
<div class="output">


<div class="output_area">

    <div class="prompt"></div>




<div class="output_png output_subarea ">
<img src="data:image/png;base64,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
"
>
</div>

</div>

<div class="output_area">

    <div class="prompt"></div>




<div class="output_png output_subarea ">
<img src="data:image/png;base64,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
"
>
</div>

</div>

</div>
</div>

</div>
<div class="cell border-box-sizing code_cell rendered">
<div class="input">
<div class="prompt input_prompt">In&nbsp;[21]:</div>
<div class="inner_cell">
    <div class="input_area">
<div class=" highlight hl-ipython3"><pre><span></span><span class="n">plt</span><span class="o">.</span><span class="n">figure</span><span class="p">()</span>
<span class="n">plt</span><span class="o">.</span><span class="n">title</span><span class="p">(</span><span class="s1">&#39;Applicants trend per ipc&#39;</span><span class="p">)</span>

<span class="k">for</span> <span class="n">common_ipc</span> <span class="ow">in</span> <span class="n">Sorted_Common_Trd_picked_ipc</span><span class="p">[</span><span class="mi">0</span><span class="p">:</span><span class="mi">10</span><span class="p">]:</span>
    <span class="n">yearly_trend</span> <span class="o">=</span> <span class="nb">list</span> <span class="p">(</span><span class="n">yearly_applicants</span><span class="o">.</span><span class="n">loc</span><span class="p">[</span><span class="n">common_ipc</span><span class="p">])</span>
    <span class="n">plt</span><span class="o">.</span><span class="n">plot</span><span class="p">(</span><span class="n">year</span><span class="p">,</span><span class="n">yearly_trend</span><span class="p">,</span> <span class="n">label</span><span class="o">=</span><span class="n">common_ipc</span><span class="p">)</span>

<span class="n">plt</span><span class="o">.</span><span class="n">legend</span><span class="p">()</span>
<span class="c1">#plt.xticks([&#39;2005&#39;, &#39;2007&#39;, &#39;2009&#39;, &#39;2011&#39;, &#39;2013&#39;, &#39;2015&#39;, &#39;2017&#39;])</span>
<span class="n">plt</span><span class="o">.</span><span class="n">xlabel</span><span class="p">(</span><span class="s1">&#39;year&#39;</span><span class="p">)</span>
<span class="n">plt</span><span class="o">.</span><span class="n">ylabel</span><span class="p">(</span><span class="s1">&#39;Applicants&#39;</span><span class="p">)</span>
<span class="n">plt</span><span class="o">.</span><span class="n">show</span><span class="p">()</span>


<span class="n">plt</span><span class="o">.</span><span class="n">figure</span><span class="p">()</span>
<span class="n">plt</span><span class="o">.</span><span class="n">title</span><span class="p">(</span><span class="s1">&#39;Applicants trend per ipc&#39;</span><span class="p">)</span>
<span class="k">for</span> <span class="n">common_ipc</span> <span class="ow">in</span> <span class="n">Sorted_Common_Trd_picked_ipc</span><span class="p">[</span><span class="mi">10</span><span class="p">:</span><span class="o">-</span><span class="mi">1</span><span class="p">]:</span>
    <span class="n">yearly_trend</span> <span class="o">=</span> <span class="nb">list</span> <span class="p">(</span><span class="n">yearly_applicants</span><span class="o">.</span><span class="n">loc</span><span class="p">[</span><span class="n">common_ipc</span><span class="p">])</span>
    <span class="n">plt</span><span class="o">.</span><span class="n">plot</span><span class="p">(</span><span class="n">year</span><span class="p">,</span><span class="n">yearly_trend</span><span class="p">,</span> <span class="n">label</span><span class="o">=</span><span class="n">common_ipc</span><span class="p">)</span>

<span class="n">plt</span><span class="o">.</span><span class="n">legend</span><span class="p">()</span>
<span class="c1">#plt.xticks([&#39;2005&#39;, &#39;2007&#39;, &#39;2009&#39;, &#39;2011&#39;, &#39;2013&#39;, &#39;2015&#39;, &#39;2017&#39;])</span>
<span class="n">plt</span><span class="o">.</span><span class="n">xlabel</span><span class="p">(</span><span class="s1">&#39;year&#39;</span><span class="p">)</span>
<span class="n">plt</span><span class="o">.</span><span class="n">ylabel</span><span class="p">(</span><span class="s1">&#39;Applicants&#39;</span><span class="p">)</span>
<span class="n">plt</span><span class="o">.</span><span class="n">show</span><span class="p">()</span>
</pre></div>

    </div>
</div>
</div>

<div class="output_wrapper">
<div class="output">


<div class="output_area">

    <div class="prompt"></div>




<div class="output_png output_subarea ">
<img src="data:image/png;base64,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
"
>
</div>

</div>

<div class="output_area">

    <div class="prompt"></div>




<div class="output_png output_subarea ">
<img src="data:image/png;base64,iVBORw0KGgoAAAANSUhEUgAAAYUAAAF/CAYAAACmKtU3AAAAOXRFWHRTb2Z0d2FyZQBNYXRwbG90bGliIHZlcnNpb24zLjMuNCwgaHR0cHM6Ly9tYXRwbG90bGliLm9yZy8QVMy6AAAACXBIWXMAAAsTAAALEwEAmpwYAAEAAElEQVR4nOydd3gVxfrHP7N7enonJCEJvVfFhoIgCBZEsHCt1/bT61Wx917xyrVd+xXFBti7CCqiiAUBQRBQWhqE9Hb6lvn9cQ4hIQkEJVjufp5nn5zdnZ19zx6Yd2fmne8rpJRYWFhYWFgAKL+3ARYWFhYWfxwsp2BhYWFh0YjlFCwsLCwsGrGcgoWFhYVFI5ZTsLCwsLBoxHIKFhYWFhaNWE7B4g+LEOLvQoivmux7hRBdf0+b/kgIIUYJIUp+p3t3if4e6u9xf4uOw3IKFvsEIcQiIUSNEMLZUfeQUsZKKTd3VP0AQggphOi+v6/9syGlLIr+HsbvbYvFvsVyCha/GSFEHnA4IIGJv681f1yEELbf24Zfw5/Vbotfh+UULPYFZwHfArOAs5ueEELMEkI8JYT4RAjRIIT4QgiR2+S8FEJcJoTYLISoFEI8IIRo9d9l0zdxIYRbCPFvIUShEKJOCPGVEMIdPfe6EGJ79PiXQoh+u9jzuBDiw6g93wkhukXPfRkttio6NHKqECJVCPGBEKJWCFEthFjcmn1tXDtKCFEihLhOCLEdeF4IoQghrhdCbBJCVAkhXhNCJEfryIt+x7OFEEXR53FTk3u4o/bXCCHWAgfu7kfZ07MVQpwrhFgXrW9+K7/LP4UQG4ANrdS9w1ZbdH+REOI+IcTS6HN/d8f3ip4fIYT4Ovoci4UQf9+d7Ra/I1JKa7O237QBG4GLgWGABmQ0OTcLaACOAJzAI8BXTc5L4HMgGegC/AKcHz3391bKdo9+fhxYBGQBKnAo4IyeOxeIi97vYWDlLvZUA8MBG/AKMLe1e0T37wOeAuzR7XBAtPEcdr12FKAD90dtcQOXE3Gg2dFjTwNzouXzonX8N1p2EBAC+kTPTwcWR59VDrAGKNnN77K7Zzsp+rv1iT6Hm4Gvd7n2k+i17lbq3mGrLbq/CNgK9AdigDeBl6PnukT/Dfwt+gxTgMG/979ba2vj383vbYC1/bk3YAQRR5Aa3V8PXNHk/KxdGt1YwAByovsSGN/k/MXAZ9HPf6cVp0CkhxsABrXDvsTodQlN7Hm2yfljgPW73qPJ/p3Au02P7eZerTmFMOBqcmwdMKbJfmb0+dmaNLTZTc4vBaZGP2/e5Vn9XzucQlvPdh5wXpNzCuAHcptcO3o3dbfmFKY3Od83+t1V4Abg7d/736q1tW+zho8sfitnAwuklJXR/dnsMoQEFO/4IKX0EnlT79zaeaBwl3OtkQq4gE27nhBCqEKI6dHhmXqgoMk1O9je5LOfiKNqiweIvFEviA7DXL8H23alQkoZbLKfC7wdHUapJeIkDCCjHfZ1puWz2hNtPdtc4JEmdlQDgkjPq7Vr28Ou97ITee45tPJbWfwxsZyCxa8mOoZ/CjAyOoa/HbgCGCSEGNSkaE6Ta2KJDElsa+08kaGGpudaoxIIAt1aOXcacAJwFJBA5I0WIg3eXiOlbJBSXiWl7AocD1wphBizN1Xssl8MTJBSJjbZXFLKre2oq5SWz2pPtPVsi4ELd7HDLaX8eje27+29NCK/VTGt/1YWf0Asp2DxW5hE5C23LzA4uvUhMu59VpNyx0QnGh3AXcB3Usqmb5XXCCGShBA5wDTg1d3dVEppAs8BDwohOkd7B4eISDhsHJFx+CrAA9y7l9+pDGhcCyGEOE4I0V0IIYD66PdtKwyz2bVt8BRwz45JXSFEmhDihHba9hpwQ/RZZQOXtuOatp7tU9G6+kXtSBBCnNxOO9riDCFEXyGEh8iw2xsyErL6CnCUEOIUIYRNCJEihBj8G+9l0UFYTsHit3A28LyMxKxv37EBjwGni52hjLOB24gMUQwDTt+lnneB5cBK4ENgZjvufTWwGvg+Wu/9RP49v0hk6GIrsJbIpO7ecDvwQnRY5RSgB/Ap4AW+AZ6QUi5q57Wt8QjwHpHhqIaofQe107Y7iHy3LcAC4KV2XNPqs5VSvk3kmc2NDrOtASa00462eInInM12IsN7l0XvVURk7uYqIr/VSiKT6BZ/QISUVpIdi45DCDGLyGTozW2cl0APKeXG/WrY/wD789kKIRYRiTZ6tqPvZdGxWD0FCwsLC4tGLKdgYWFhYdGINXxkYWFhYdGI1VOwsLCwsGjEcgoWFhYWFo38qdUPU1NTZV5e3u9thoWFhcWfiuXLl1dKKdNaO/endgp5eXksW7bs9zbDwsLC4k+FEKJNiRRr+MjCwsLCohHLKVhYWFhYNGI5BQsLCwuLRv7UcwoWFhZ/XDRNo6SkhGAwuOfCFh2Cy+UiOzsbu93e7mssp2BhYdEhlJSUEBcXR15eHhGRWYv9iZSSqqoqSkpKyM/Pb/d11vCRhYVFhxAMBklJSbEcwu+EEIKUlJS97qlZTsHCwqLD+J92CKYJv7OM0K95/pZTsLCw+Evz9ttvI4Rg/fr1jceKiooYN24cffr0oW/fvhQUFADw2GOP0b17d4QQVFZWNpafNWsWl1xyCQCmaXL22Wdz7rnnIqVk/PjxDBo0iH79+nHRhf+HUV8GlRsoXDaPMYcfzMC+vRh12EGUrPkW6reBrwKCdYwfN5atRQWcd+65DBo0iIEDB3LSSSfh9XoBqKmp4cQTT2TgwIEMHz6cNWvW7JfnZTkFCwuLvzRz5sxhxIgRzJ07t/HYWWedxTXXXMO6detYunQp6enpABx22GF8+umn5ObmtlqXlJKLLroITdN49tlnEULw2quvsuq7xaz58gMqSjbx+ivPg6Fx9b1Pctbpf+PHrz7m1qsu5oY77gFvGdSVENi6luqKUrJsNTx03bmsWjCbHxe+SZf0RB6bcQ94K7j3zlsZPKAfP/6wnBdfeIFp06btl+dlOQULC4u/LF6vlyVLljBz5sxGp7B27Vp0XWfs2LEAxMbG4vF4ABgyZAi7k86ZNm0aVVVVvPjiiyhGEOq2Eh8ogupN6L5qwoZAxGdCeh/WbtjCmONPguR8jjzxLN6d/wVkDoaM/iz6aTujjhwN8VnEd8oHewxSmgR8DQjND/UlrP1xJWOGdoWyNfROCFGw6RfK1n4N1QVQtxUCtR3yzKzoIwsLiw7njvd/Yu22+n1aZ9/O8dx2fL/dlnnnnXcYP348PXv2JDk5mRUrVlBUVERiYiKTJ09my5YtHHXUUUyfPh1VVXdb1+zZs+nTuzeLPnwNW/VG0AOAAFc8R596AUuXrWDChAmcNPUMEIJBgwbx5ptvMm3aNN5++20aGhqoqq4mJSWFeZ9+zqRJkyA20kM555xz+Oijj+jbty//fuI5cDkYdMDBvLVwOSOOOp6l339HYUkpJaVlZKQkQFADUwd34r55mE2wegoWFhZ/WebMmcPUqVMBmDp1KnPmzEHXdRYvXsyMGTP4/vvv2bx5M7NmzWq7EtOAkJehA/pQuGUTS7/8BISAhGzI6A/JXZn/yWeUlpYSCoVYuHAhADNmzOCLL75gyJAhfPHFF2RlZWGzRd7DlyxZwogRIxpv8fzzz7Nt2zb69OnDq6+9Bqqd62+6hZoGP4NHjOU/z73KkCFDsKV2hYx+kDkIEnI65JlZPQULC4sOZ09v9B1BVVUVCxcuZM2aNQghMAwDIQSTJ09myJAhdO3aFYBJkybx7bffct555zWvIOSFWl9kmMZfRe9uudx587Wccs7FzJ+/gH79mouMulwuJk6cyLvvvsvYsWPp3Lkzb731FhAZxnrzzTdJSEhg8+bN5OTk4HA4ml2vqiqnnnoqDzzwAOeccw7x8fE8//zzQGQuIz8/f+d6AyEiWwdg9RQsLCz+krzxxhucddZZFBYWUlBQQHFxMfn5+YTDYWpqaqioqABg4cKF9O3bN3KRFoxECBka1GyOOARXIsRmgDuJQ8eewFNPPc2xxx5LUVERXq+X0tJSAHRd56OPPqJ3794AVFZWYpomAPfddx/nnnsuAPPmzWP8+PFApLHfuHFj4+f333+/8fra2lrC4TAAzz77LEcccQTx8fEd/twsp2BhYfGXZM6cOZx44onNjk2ZMoW5c+cyY8YMxowZw4ABA5CmwQWnTYKKn3l0+q1k9xpCSWkZA8eexvk3PwpJuWB3Nb6ZH3fccdx2222MHz8en8/HxIkTGThwIIMGDSI9PZ2LLroIgEWLFtGrVy969uxJWVkZN910EwAff/xxM6dw9tlnM2DAAAYMGEBpaSm33norAOvWraNfv3707t2befPm8cgjj+yX5/anztF8wAEHSCufgoXFH5N169bRp0+f39uMttEC0FAKwXpAgs0FnmRwJ4Hq2OPlv4ZQKMRhhx22X/PAtPY7CCGWSykPaK28NadgYWHxv4eUUFMQGSaKSQV3MtjdHTZOvwOn0/mHTwxmOQULC4v/PUINoAchMTfSO7BoxJpTsLCw+N/DVw6KrUPi/P/sWE7BwsLifwstEOkpxKSBsJrAXbGeiIWFxf8WvgpAgCfl97bkD4nlFCwsLP53MHTwV0fmEdT2ZyP7X8JyChYWFn9pmkln+ysBSVFVcJ9JZ+9g4sSJ9O/fv3H/iiuuYPDgwQwePJiePXuSmJjYzK7x48ezdevWNu9ZV1fH8ccf3yjLvWN1c0djOQULC4u/NI3S2XPmgK8SHHGcdd7/7TPpbIC33nqL2NjYxnKaqXHlnVfy2TefsWzFMi699FImT57ceD4QCFBdXU1WVlab93z88cfp27cvq1atYtGiRVx11VWNK5w7EsspWFhY/GVpLp09G0yNtcVV+0Y6W1Ea7/Hggw9y8803N5arDlRTH6pnu287v9T8wqyXZzFxykRMGZG9WLRoEaNGjdrtPYUQNDQ0IKXE6/WSnJzcKKjXkVjrFCwsLDqeedfD9tX7ts5OA2DC9N0WaZTO7tGD5PhYVvy0iSKv+uuls/v0YdGiRc0a51tuuYWrrrqq0bGY0qQmVEOcI450TzqrN6ymuLCYrgd05ZeaX4h3xPP+h+8z5cQpu73fJZdcwsSJE+ncuTMNDQ28+uqrjY6oI7F6ChYWFn9ZGqWzwz6mThzLnA8/RzeMvZPOjjJ06FAKCwtZunRp47GVK1eycePGZhpLDeEGDNMg2ZWMy+Zi4XsLOeWkU8hPyifWHkttqJYvFn9Bp/6dqPBXEDZaHxKaP38+gwcPZtu2baxcuZJLLrmE+vp9m5OiNayegoWFRcezhzf6jqCZdLY0MHQdYXMw+dQz2iedvQu9e/fmzjvv5JRTTmH+/Pn069ePb775huXLl5OXl4eu65SXl3P0mKN56f2XiLHHADB37lwef/xx4hxxxDni2LBxA3ld8vC4PJT7yyn3l+OxezCliWEajfd7/vnnue6660BCt7yu5OflsXbVGg4cdiCYEqEqKO5934RbPQULC4u/JI3S2Zt+oeDb9ylev3zP0tl74NBDD+Wpp55qlM7+xz/+wbZt2ygoKOCrr76iR88ezHxnJkmuJIQQ/Pzzz9TU1HDIIYcgpUQaJvM/+phjjz6GXEc2PZxdyRGZxAbdYErqy6vxbq8htL2BrNRMPnlnHto2LyWrt/Dzup/pktAZozqIURvC9Gsd8twsp2BhYfGXpFE62xcN8/SktS6dLSUXXHABAI8++ijZ2dmUlJQwcOBAzj///Bb1NpXOrqqqanbOMCOJfBJtCehVAV7+74ucfNwUtG0+tK1etFIf897/iKOGjUSvCkKdzrOPP8uQwcPYVlrKEUeN5uIrL8Un/Vx2xaUs+eFbhh59MBNOn8h9995Lp17Z2DI82DNjUJNdHfLcOkw6WwiRA7wIdAJM4Bkp5SNCiGTgVSAPKABOkVLWRK+5ATgPMIDLpJTzd3cPSzrbwuKPyx9COts0oOwncMZDcl6H3sowjcaJ5Aw9BdOnIVw2hCJAAaEIQlqYI8aOYunX34EioucECBrDW01p4g17qQ3V4g17kUhcNhcJzgQSnAnYlb1bdPdHks7WgauklCuEEHHAciHEJ8Dfgc+klNOFENcD1wPXCSH6AlOBfkBn4FMhRE8ppdFG/RYWFha7x18F0oDYtD2X/Y3UheowpUmyPQmzXkOJsWNLav4278HJshXLd1uPIhTinfHEO+PRTZ26UB11oTrKfGWU+cqIdcSS6EwkzhGH0gHaTR02fCSlLJVSroh+bgDWAVnACcAL0WIvAJOin08A5kopQ1LKLcBGYHhH2WdhYfEXR8qIzpE9BhwxHXwrSXWoGpfNhT0QaVbVuN+eqMem2Ehxp9A1sSvdE7uT6k4lqAcpaSihuKH4N9ff6j07pNZdEELkAUOA74AMKWUpRByHECI9WiwL+LbJZSXRY7vW9X/A/wF06dKlA622sLD4UxOsAyMM8Z07/FZ+3U9ID5Hl7oxZE+klCNu+fed22pxk2DJI96Tj03yNw037mg6faBZCxAJvApdLKXcXZNvaN2wx4SGlfEZKeYCU8oC0tI7vElpYWPxJ8VVE0mq6Ejv8VjXBGhShEBNygdg3vYS2EEIQ64htDHnd13SoUxBC2Ik4hFeklG9FD5cJITKj5zOB8ujxEiCnyeXZwLaOtM/CwuIvStgPYW8k1WYHp9jUTI36cD0p9mSkX++QXsL+pMMsF5G+zUxgnZTywSan3gPOjn4+G3i3yfGpQginECIf6AEsxcLCwmJv8VVEEujsh5wJtcFapJQkaLEd3kvYH3SkOzsMOBMYLYRYGd2OAaYDY4UQG4Cx0X2klD8BrwFrgY+Bf1qRRxYWFnuNoUGgJpIzQbE1l86OUlRUtE+ks03TZPLxkzl51MkMOfQALrn5SszoqPesWbNIS0trlM9+9tlnm5m5Qzr79NNPp1evXvTv359zzz0XTYssSvvLSWdLKb+SUgop5UAp5eDo9pGUskpKOUZK2SP6t7rJNfdIKbtJKXtJKed1lG0WFhZ/YXyRnAnEROYcG6Wz585tLHLWWWftE+lsn+5jxrMzWL7oW374bClVdVW8/vrrjeVPPfVUVq5cycqVK5sthGsqnX366aezfv16Vq9eTSAQaHQelnS2hYWFxW/FNCOJdJzxYHPtIp0dcQpr167dZ9LZ1cFq0uJSUYMC0ykIa1q7ooKaSmcfc8wxCCEQQjB8+HBKSkoASzrbwsLiL8z9S+9nffX6PRfcC3on9+a64dc1PxioAVOH2Mibf6N0ds+eJCcns2LFCoqKivaJdHbYCOMNe8k1szj2jBNZtmo5EyZM4KSTTmq85s033+TLL7+kZ8+ePPTQQ+TkRGJp5s2bx6RJk5rVr2kaL730Eo888ghgSWdbWFhY/DakBF852NzgiGRBa5TOBqZOncqcOXPQdZ3Fixdz61338vq8RaxZ9wsz/vM0BZW+xk03JUVVO/crG0L0HTCIzVsKeHfBF5HjNeXYpR17WOXVue/w7eqN1NT7mP32RxRU+hh82GiW/LCWT79ayqGHj+KMM88ipBmYpmTJkiWMGDGimfkXX3wxRxxxBIcffjhgSWdbWFj8hWnxRt8RhL2gByGxCwjRXDpbCAwjIlY3efJkBg4ajJrQCU0Kjhx/LKuWf8+JfztzZ10SwoYkbEQypemmJK9bDy655iYuueBsZs55i7x+8XTS0pBADRJhdzBq3ATmf/Q+Bx0+Ck9cEgHTxFsf5MhJf+O2W27k57IGSgoLSEzrREFNCIeqYVMFjzxwH1u3lzH31dcJagZ2VeH555/n+uuvRwhB9+7dyc/PZ/369Qwf3rFCD5ZTsLCw+GvgLQfFBq4kYKd09tNPP91YZOTIkXj9Acorq/DV1XBgnzzWLf+GQw84gJ4ZcY3lbKqge3osqamRY50SXJR4HEw97ihin3maf5x1Mi++8wKZnkQq8NKtVySfwooln3P44YfTMyOO0tJSMjtnYpqSN958i969+5CT5OGjVxcxdtzROFQFzTB5cdYsPlkwn2fmvEtBdaDRhtiUTrz27kdk9xlKbVU569avJykjm4aghl1VsKsKqrLv12BYw0cWFhZ/frQghOrBkwrRcfdG6ewmTJo8medenM01t97NBVNPYPCggb9KOvuSay/hwlMvwhcIMPmMkxk4cCCDBg0iPT2diy66qLGufv36MWTIYJ584jFeevEFkmIcLFn0GVMnTyQvNYYeGXHcef0VNNRUccFJEzjj2JHMefohOiW4uPaGG1m5fCnjDx/OKSccy6XX30ZA9bCl0scvZQ2U1Pg75FF2mHT2/sCSzraw+OOyX6Wza4sjiqgZ/UBtXVpaSklBlR9vSKdragwxzl83UBLQA5TUFJMbykSJc2BLcLb72lAoxGGHHcavabdMKdENE82QaIaJTRHEuvYso/1Hks62sLCw6HhMHQLV4E5q0yEAlNYFaQhqZCe5f7VDgIjOUbKeAEKgxu5dbgOn0/mrHAKAIgQOm4qjg1tta/jIwsLiz42vCqS525wJ1b4wld4QqbFOkmPa/2a/K4ZpEAj4iDM8KLF2hPrXa0L/et/IwsLifwdpRnSOHLFg97RaxBfS2VobINZpIzPht6WwrA3VkqjHRzSO9rKX8GfBcgoWFhZ/XoJ1YGoQk97q6bBuUFjlx6EqdEn2/KYcBFJKvP6GaC/B8ZfsJYDlFCwsLP7MeMujORPiW5wyzMjEskSSm+LB9hsbcb/uJy7sRrajlyClxDBC/BkDeSynYGFh8eck7APNH+kl7NIDkFJSUuMnpBl0Sfbgsu9ewqI91PvqiDU8qO2YSwiFy/H5fiEQKMI09d987/2J5RQsLCz+nHjLQagRiexdKKsPURfQ6JTg5tN5H/xm6WzN0Pj0rQUMG3sI/Q8aTP/+/XnjjTcaz99+++1kZWUxePBgBg3qzwfvv4mqetD1Bvz+jQwdOoRwOMxNN91ETk4OsbGxzex98MEH6du3LwMHDmTMmDEUFhbu44fVfiynYGFh8edDD0OwNpJER2neC6j1hylvCJLscZAa69gn0tlff7uE2++8k9fnvsb69et5//33ue6661i+fHljmSuuuILvv1/E4sVzOOaYY/F4uuKJ6Uph4VY6dUpAylqOO+44li5tmTtsyJAhLFu2jB9//JGTTjqJa6+9dh8+rL3DcgoWFhZ/PvwVkb8xqc0Ph3VKagLEOGx0TnLj8/n2KJ0dExODy+1GNyX9Bg0iM6cLEvDpBl7doE7TefThJ7j08qtJ7d2DirCGp3M2F19zLXf/6wFKgmHqNJ3qcJiCgMZ2kc1WmcFGf4gyzcbHn69j7LixhEJlDByUQUZGc5sBjjzyyEb57oMPPrhRPvv3wFq8ZmFh0eFsv/deQuv2lXS2hLAfZ68edLpzeuNRzTAprPJjUwRdUjwoQuxWOnvCCZPYUrCFg0YeybQ77momna1JyZZAiFp/CIC1v/zCqZdfydaQ1lgmZ8Ag1j3xOLWaTsiUvPb0U7w5+xUGDB3GjffdT3xiElWazgfzPubqe++nVMnFqdfj9u2+wZ85cyYTJkzYR89q77F6ChYWFn8uTB2QYHfvPGRKCqv8GKYkNyUGu7pT/6g16ewvFy/mkjvv4YOvvqayuJAvXp1DZ5edLJedHLcDmxDkup109TjpHAxhN0zy3U76xLroF+tmQJybHh4nLkWhj0flqvPHs/bHefy0cgW9cnJ47Jab6B7joqdDpba0lGG9e6AKG/Uike0yAxP4xVtPaTBMg25gRqOUXn75ZZYtW8Y111yzv59qI1ZPwcLCosPpdOON+6YiKaF8XWQeIbVn9JBka20Af1gnNyUGtyPyxt+WdPa4iRPpOXAQ/Xt2p4vLwdTJk/n2229Jc+wMM1WAOJuKQ9Nwhm306dOb1St/4MChQxrL/PDDDwwbNpRAoID09BQ8nm6oqpMLLriA4447DoAlX33FEYePoJPTAU4wpMSnGwjANHXKwxrlYR0hYOUXi7j77ruZv/Bz7A7HvnlevwKrp2BhYfHnIVQPRiiSfzkahlrhDVHjD5MR7yLBvbNh3yGdXVhYSEFBAcXFxeTm5VPi9eOtrcXZUIcQgoULF9K3b99Wb6fXBzGEydXXXcN9993XGKVUUFDAww8/zD8vORUpdWrrnKhqRD7j7bffpn///gB8/PHHzYaCVCGIt9sQQDe3Sp4oIkOUsXX1Cm6+7BJmzHmN+tgEfvIG2OwPUh7S8BvGfl3vYDkFCwuLPw/eClDs4E4EoD6gsb0uSKLbQXpcc02jXaWzdVNy+PET+fjNN3hwxgOMO+ooBgwYsFvp7Esvn0bAGebAAw7k/vvv5/jjj6dnz5707NmTBx+8me7dsnC7u3DjDbczYMAABg4cyOeff85DDz0ERHIxjxw5stGGa6+9luzsbPx+P/n5/XhwxmziFJP7b7yakK+BW845izMOP4Qr/3YKYVNSGtLY4AvxkzfAFn+IirBGwDA71ElY0tkWFhYdwj6XztYCULEe4jIhrhNBzWBjuRenTaFbWizKbhLOmFKyORDCb5h0czuJse15MVugrB50iZlqI8YZ03hcSsnVV1/M998vZ968D4hpQ2KjpKSECy64gHnz5u32PlKahELlhMMVKIoTt7sLqhrRaNJME69h4tUNvIZJ2Iy01zYhSHaoZDr3PMxkSWdbWFj8NfFVAAp4UtENk4IqH4oiyEuJ2a1DANgW0vDpJjluR7scghkyUDVBrcNHmqNT43EpJcHQNm677WKcrkycjpbhpTvIzs7eo0MAEELB5eqEzRZDIFCCz78RlzMTuz0Zu6KQpCgk2SNNdcg08eomPsNAYd9nXQPLKVhYWPwZMDTwV4MnBVNRKaz0oRmSbqkx2G27HwWvDGtUhXXSHDaS7e1r8rS6AIYwsMU6m4nohcPlaOFqHI603TqEX4PNFkdMTHeCwRKCwW3oug+XKwulyeI8p6LgdCikdGDTbc0pWFhY/PHxVwESYtIorQ3gC+lkJ7nx7CFZToNusDWkEWdTyXS2T+raDOmIsKTW1kCCK6HxeDhcRShUjt2ehNOZ8Vu+TZsoih23Ow+nsxO6XoffvwFd75i0m23asF/vZmFhYbG37MiZ4IynKiSo8oVJi3OS5Nn9eHrIMCkMhHAqgly3o92y2Xp9GF0YCI+KGn1L17Q6gsFt2GxxuFxZv0mCe08IIXA60/B4ugLg928mFKrYbxFIllOwsLD4YxOoAVMn4EhmW22QeJedTvG7T5ZjRFckA+S7najtbMTNkA4hgxpbPUnuiNCernsJBIpRVQ9ud5cOdQhNsdli8Hh6YLPFEwptJxAowDS1PV/4G7GcgoWFxR8XKcFbgak62dyg4LQr5OwhWY6UksJAmJCU5LmdOJX2N3NGfRhDmGhOA5fNhWEECAQKURQHbncuQuzfJlNRVNzuHFyuzuiGD59vI7re0LH37NDaLSwsLH4LYS/oAcrNeASQm+JB3UOkUWlIo0E3yHLaibWpvP322+2SzjaDOo8//QR9RgwiP6krZWVb8fsLQKh4PHm8994HDBw4kN69e7eQzn799dfp168fiqKwI0xeSkk4HOacc85hwIABDBo0iEWLFjWz9b777uOVV17hyy+/ZOjQodhstmb1Arz44ov063cww4ZOYvbs9/D7CwgGtyOl+ZsebZtIKf+027Bhw6SFhcUfk7Vr1/7mOszKTVLfukquLq6WDQFtj+WrQppcWeeTxYFQ47GTTz5ZjhgxQt52222Nx0aOHCkXLFggpZSyoaFBer1eGS73ya8//kJ+uuJTmZubK7ds+UbW1/8kdT0gV65cKbt16yY3b94spZRy8+bNsmvXrnLZsmWN33X9+vVy5MiR8vvvv5c1YU2urvfJfz3yiPz73/8upZSyrKxMDh06VBqG0WjHqFGjZHl5udyyZYtctWqVPPPMM+Xrr7++8/tUVcn8/HxZVVUlq6urZX5+vty6dbWsq/tR+nwF7XqGrf0OwDLZRrtq9RQsLCz+eEiJWbcNEaqjUsaRmegh1rX7SCOfblASChNrU+gcjTTyer17lM6OjY3FrTqRIYMug/Po37MfUupINNzuPFTVxYwZM7jxxhvJz88HID8/nxtvvJF///vfAPTp04devXoBEDAMioJhTGDZ6p84eOQoANLT00lMTGzsSdTX1xMOh0lLSyMvL4+BAwei7DLUNX/+fMaOHUtycjJJSUmMHTuWL75Yjdudg8OR8tufcytY6xQsLCw6nMWv/UJlsXeP5UwpMU0TxQihYKKjYio6DltNi7KpObEcfkpEFC9smhQEw9iFINflRInOOexOOnvy5Mls2bKFMWPGcPdVt4EiqVe95OAEJC5nNjZbJMfBTz/9xNVXX93s/gcccAD/+c9/mh2TRBbKpQpBV4+T/gMH8sa773LSqadSv72U5cuXU1xczPDhw/n0008ZM2bMbp/H1q1bycnJadzPzs5m69at2O2Je3yWvxarp2BhYfG7YpiSsG7iDxuEw2FUI4DARBcODFVFUSSR5raN66WkIBDGlJJ8txNbkzmHtqSzFy9ezIwZM/j+++/ZvHEzL7zyItW2OtIcCqbhRwgVuz2usR4pZYvJbblLiKghZVSXKBLx5FQUrr3o/8jOyuKwg4ZzybRpHHroodhskXfxXcXyWmPXe0AkZLW14/sKq6dgYWHR4ex4o4dIMpyGoE5DUMMb1DGkRBWQrdaQYNZi2pIQSXmUhqqpCUZ6CIpQiHfGk+hMxGPbGX0kpaQ4GCZgmOR7nLjUne+5bUlnT548mSFDhtC1a1eklBw/9hi++/47jrePxIHE6ezEru/L/fr1Y9myZQwcOLDx2IoVKzjggAMa7SgMhDCBTKe90Q6n3c5/H32UzYEQQdPkgnFj6NGjBwBLly7lySef3O1zy87ObjY5XVJSwsiRI6mvDGJzKMQkONu++FfSYT0FIcRzQohyIcSaJsduF0JsFUKsjG7HNDl3gxBioxDiZyHE0R1ll4WFxf5FSok/rFNWH2RjeQPrSuspqfHjDxskeOzkJ9roa99OglkLMekoaT2p1n3UBGtIdaeSl5BHvDOe+lA9BXUFbKjZQJmvjJAeoiysU6cZZDrtxO+iadSadHZ+fj7hcJiamhoqKiqQIYNFXyyia78sYlWJw5GK05nW4jtcffXVrUpn70iGszWk0aCbOBXRTFvJ7/cTCvjp6naybNFCdEWlS89e/PTTT/Tu3btZtrfWOProo1mwYAE1NTXU1NSwYMECDh12BCF/B65XaGsG+rduwBHAUGBNk2O3A1e3UrYvsApwAvnAJkDd0z2s6CMLiz8mDUFNLl+5WhZX+eRP2+rkquIauaq4Rm4oa5Db6wLSH9KkaZpS+iql3LZSym2rpAzURq4NNcg1FWtkYV1hpEwUwzRkbbBWFtQVyDUVa+SPVVvkyjqf/KWhXmpGy8ikkSNHynnz5jU79sgjj8iLLrpILliwQA4YMED2691Xnn7qybKiYrmsadggH374YZmVlSVVVZWZmZnyvPPOa7z2zTfflP3795c9evSQdrtdfvXVV1JKKctDYfngy3Nkp85Z0uFwyPT0dDlu3DgppZRbtmyRPXv2lL1795ajx4yRn/60Xv5Y75P33H+/fP755xvrXrp0qczKypIej0cmJyfLvn37Np6bOXOm7Natm+zWrZt87KEnZVlBnfTV7Yyu2hN7G33UodLZQog84AMpZf/o/u2AV0o5Y5dyN0Qd1H3R/fnA7VLKb3ZXvyWdbWHxx2FLpY+F68tZuL6MpVuqeeLYTnTO60as00a8y06cy4Ztx/COaUBdcWS1siMWknJBdRDSQ2yu24xdtZMfn98oM7ErDVqYLQENgYYS3oYQEGuPJdGZSKwjFqUdi8zMoE6otgrNU05QCpJje2FT26ePdP311/Pdd9/x+gcfstWAeJtKXjukNDTTZKM/xLkTj+XlF1+kW3Z2u+5nmpK6cj9ayCAuxYU7tv2Z2f4M0tmXCCHOApYBV0kpa4As4NsmZUqix1oghPg/4P8AunTp0sGmWlhY7I6y+iBPf7GZz38uZ0ulD4Ae6bGce1g+aXEGfTLjGyOBGgn7oaYgkkEtLhNiM0AIDNOgqKEIIQRd4rq06RA006Q4ZGBTFHp44jFMF7WhWupCdTSEG1AVlXhHZP7BbXO32lBLwyRcX4vmqSAsBWElod0OAWD69OkEDJON/iBuVaFLO7WV7IpCN4+T5977kICU+A0Dzx6GkEzDpLY8gB42iE9144ppv52/hv3tFJ4E7iISSnAX8G/gXGhVGLzVLoyU8hngGYj0FDrGTAsLiz1hmJJ/vLycNVvrOaRbCn8/NI/RvdPJSY6Eca5bt665Q5AyImxXvw0UG6T0AGds9JSkxFuCZmjkJuTiUFt/EzajkUa6lHT3OLErCnbFRSdbJzI8GXg1L3WhOmpDtdQEa3CoDhKdiSQ4ExrrlKYkWFuO5qoAbFToJrnxexfzr5kmWwIhVCHIdztaaCuFQyHCdWWRlk2xIRQVodoQig3FZifPoVIQMtjsD9HN48Kttt6zMQyTurIAum6QkObG6elYhwD72SlIKct2fBZC/Bf4ILpbAuQ0KZoNbNuPpllYWOwlzy/ZwoqiWh46dRAnDtnDMIihQ21hJMeyMwESu4C6s/kp85fhDXvpHNuZGHtMq1VIKSkJhvEbJrluR4s3bCEEcY444hxxGKZBfbie2lAt5f5yyv3lxNhjSHDG4ww2oNvrUUUMZYaJQxW4be52f++I2F4Yo4lj2oEpJdV1DcT5ColBRwJtqXL0AXQUDK9KAAWJihQqUrGBogI2zKBEkQox8W6EqmPoAkVVO1SUb786BSFEppSyNLp7IrAjMuk9YLYQ4kGgM9ADWLo/bbOwsGg/myu8PDD/Z47qk8Gkwa2O9O4k1AA1hWDqEJ8NManQpFGrCdZQFagi2Z1MkiupzWoqwjo1mkGG00biHpLlqIpKkiuJJFcSYSNMXaiO+lANBMvQFR3TiEFzxRMIlZEZm9nuRlZKSXEgEgKb53bgbuKYfCGdippasoxtKAKM5B6ozhgMw8AwNExdxzR1pBHZMHWkNNDRsUkDu2mgmGFU00Qlqmu0w9/4oxtgSjCEStAWR2x6frvs3hs6zCkIIeYAo4BUIUQJcBswSggxmMjQUAFwIYCU8ichxGvAWkAH/imlNDrKNgsLi1+PYUqufeNHnDaFe0/s33aDKiXUl4J3O6hOSO0JDk+zIj7NR6mvlBh7DJ08nVqvB6jXDUpDGgl2lQzH3g2hOFQHyc4YXHolEgO0JLbjxfCVoQiFBEfCniuJUhrSqNMNOrvsJEQdk26YbK8LEvLXk6eUIRQVJbUb2CO9D9VmQ7XZIrGVrRA0IpPPioBuHifSkFSW+RHSwJNoA2EgdzgTU49M0ps62HYvH/5r6TCnIKX8WyuHZ+6m/D3APR1lj4WFxb5h1tcFLCus4cFTBpHeVl6Duq2R+QNvCNzJkJAdHRLZSdgIU9xQjF2xkx2X3aZzCUaT5bhUhRxX+5Pl7EDTagkEShCmilPPwpGSSE8k3rAXVahtTmjvSlVYpyKsk+KwkWq3IaWk1q9RWhfEI73kK+UI1YFI6Q629kcHudTI5PMmf5BNvhDJ9To2CfEZcdgd7bNtX2LJXFhYWLSbLZU+Hpi/njG90zlxSBvDRj/Pg6cOAyMcmTtIym3hEHZEGkkp6RLXBZvS+vupbkaS5Si0PqG7O6SUxMbGEAgUoxhOnKEsZr/3NpdeeimKUHDi5Nwzz6V79+4cdNBBjQvTAMaPH09iYiLHHXccEEnrWRIK83/HjWfMoAEMHjyEfgMG8dzLcwiW/sw5J59Av1FT6D/6JB55fOcq5VNPPZXBgwczePBg8vLyGDx4cDMbhw0bRn19PSdNPJ7JBwzh+OHDuOmB24nJcGN3qBQWFjJmzBgGDhzIqFGjKCkpaff3/7XssacghDgZ+FhK2SCEuJnIgrS7pZQrOtw6CwuLPwymKbn2jVU4VIV7Jw9o+cauh+CT2+C7J6HTgEioqadlVI+Ukq3erYT0ELnxuThtrY+r6KakIBhCk5JubieOvUiWY5o6wWAxILHp8diCydjTYxBN6pg5cyZJSUls3LiRuXPnct111/Hqq68CcM011+D3+3n66acJGiYF0bSeLkXh0aefo3OP/igC8pw+6ovW8O+7bmLokcfT4PMzbNgwxo4dS9++fRvrA7jqqqtISNg5VFVQUEBWVhY2m41pl13BkD4H4UfjxKnH89IHH3DOpIlcffXVnHXWWZx99tksXLiQG264gZdeeqndz+HX0J6nfEvUIYwAjgZeIBJaamFh8T/EC98U8H1BDbce34+MXYeNqjbBs0dFHMJBF8H5n0Ebcf8VgQoawg10iulErCO2xXkpJdWaznpfEJ9hku1yNJOO2BOGEcTv34Su+wCBLZCMLcWNsDVv7t59913OPvtsAE466SQ+++yzRqG5MWPGEBcXh5Q09lQ6qTYCYYNqX5gEl43eHi8xoTIyc3swdPREUFTi4uLo06cPW7dubfGdXnvtNf72t52j6vPmzWP8+PGowsGQPgeh2ATZnRM5eNgwtm7dyiZ/iJ/Wrm1UUj3yyCN599132/0cfi3tmVPYMeF7LPCklPLd6MpkCwuL/xEKKn3c//F6juyVxpShuwwbrXoVPrwy4gSmzoHex7S4/vNZz1BeuBndNAgZIWyKDafiaLFCyZQQMk0MCaoAp6Kwvo0Ro/Tcrhz59/9rdkzT6ggGSwAFl5FNIBBk+IQRjXGh1dXVTJw4EWguS22z2UhISKCqqorU1NSoLRK/aaJJSZwORXWRxXm3XnEhMU47mDqfvf8aKZl5jdFUBQUF/PDDDxxwwCB8vs04nRnYbDEsXryYjIyMRjE8iKikTr/3X9RV+LHZVBIy3DQ01PPxhx/wzqWXEpaSrv3689obb3Dl5Zfz9ttv09DQQFVVFSkpHZNLAdrnFLYKIZ4GjgLuF0I4seYiLCz+ZzBNybVv/ohdVbhv8sDmw0bfPAHzb4Auh8KU/0YmlNuqR5qEjRCqUFo6BAlhKdHMyJu6UxHYhWh9WWsrSCkJhcsJh8pRVTcOozPSZ+B2u1n546rGcrNmzWqWLnNXmqqvloc1DClRAgbesElanBOPXeGJJ//FAX1yI8NjcZmNDsHr9TJlyhQeeughHA4vhuHDHyjA485lzpw5zXoJ4XCY4qJiUmIzsdlVEtPdmNLkb3/7G5dddhkDe/agQTe4/O57+dfVV/LiCy8w8ogjGoebOpL21H4KMB6YIaWsFUJkAtd0qFUWFhZ/GF76tpClW6r510kD6ZTQZNioYTt8fg/0GBfpIahtNycjzjyHzXWbEQi6JnZtNrHs1Q1KgmFCpiTBrpLltDdbELYnpDQIBIrR9Qbs9iQcMh2jPoTi3n3zlp2dTXFxMdnZ2ei6Tl1dHcnJyQBsC4bx6iaYEheC7IxYXCqgByHsg/gsiE1vrEvTNKZMmcLpp5/O8RNHEwyU4HRmoGm11Dds5K233mT58p3TsJ8uWMiwwQdhd6okpHtQFMH5555Pjx49uPzyywGIs6kMz89lxitzcCsK6abGm2++2WxeoiNoz5N/Wkr5lpRyA0B08dmZHWqVhYXFH4LCKh/T561nVK80Th62Sy/g0zsiEUbjp+/WIZjSpLihGFOadInfGWmkm5KiQIhN/kgegnyPkzy3c68cgmGE8Pk2oesNuFyZOJVMjJowwqGiJu0+jn/ixIm88MILQERme/To0ZEFVPUBKjUDoUtcikK3tBhciglVG0AaENepmUOQUnLeeefRp08fLr98GqHg9khvxZGGx9OVL79YQY8eXcjIiCTt8deH+fD9jzh63NGNDuHmm2+mrq6Ohx9+uJmN4bpachw2/KbJDXfezd/POafdz+bX0p6n36/pjhBCBYZ1jDkWFhZ/FMzoIjWbIrhv12ijkuWwajYcfDGkdGuzDikl27zbCOgBsmKzcNlcTSaSA9ToBmkOG71iXC3yIewJTavH79+IlDoeTz52JRm9KgCqwJbiQrSlLxHlvPPOo6qqiu7du/Pggw9yyx138XOFlzok544fy/Xnn8XiLz4nJyeH+a8/D1oIbG5wNX9TX7JkCS+99BILFy5kyJCBHHbYiSxc+CNCCBTFxjvvfMHJJ59AIFCEt64Cb02Qb5Yu4ZiJ41AUQUlJCffccw9r165l6NChDB48mGeffRaARYsWMbx/P6YMHcz2sjJOu/JqzA5Utgbals6OylnfCLhpXGCNAMLAM1LKGzrUsnZgSWdbWHQcL35TwK3v/sS/pgzklAObSJOZJswcG5G+vnQ5OONavX7dunWk5aVR5isjzZNGuiedoGFSEgrj0008qkK2y9GmGFxbSCkJhysIhcpQVBcedy4CO3qFH2lIbGluFHv7HYxumJTWBakJasgYGzZF0CvGHUnrqQUikVXShOSujQJ+rWEYAXy+jdgdybhdzSfjpTRoqC8A4WdrocaV197EvHnz9up7V2s6xYEwcTaFPLezpfpsG+wz6exoboP7hBD3/REcgIWFxf6jqMrP9HnrOaJnGicfsMuw0erXYOsymPRkmw4BIKgHKfOVEe+MJ9WdxvaQRnlYQwBZLjspdtter06W0iAQ3Iqu1WG3J+ByZQMCvSqI1Exsqe13CFJKavwapXUBTAlKnB0EdPO4Ig4h5IXqzSAUSO3RKFvRVl3B4DaEUHE6Mlqc89ZoBBtScSVWkZXr4513Xtyr7w2QbLchJZQEwxQEwuS5He12DHvDHieapZQ3CCGygNym5aWUX+5zaywsLH53ItFGq1CEYPquw0ahhsgCtc5DYeDUNuvYWLORmlANubZcElyZ/OILEjIliXaVzns5kbzTrjD+QCGmEcTp7ITDEQkdNWpDmEEdkeBEswmMsI5uSozo1vjZkOim2XjcMCWGlHgcNmSMjYBp0tUdzfMcrIPqgkiYbUo3aGOB3Q40rQbD8ONyZaM0mUSXUtJQHSTo1XDHOYmNzyMQLCEU2g6YOBzpe+UYUxw2JJKtQY3iYJhc977P0dyeFc3TgalExOp2rFmQgOUULCz+gryytIhvN1czffIAOifu8na8+MGIwN2pL0MbDXtNsIZLF17KtbnXozo6syUQxqEI8j3OvZ43CGoGQc1A04MEw3WY0o1Q0jHDNnTTh6Gb6KbERCLr/FDXej2qIrApAlVRsKkKLrtAVQRuu4pXkVRrBjkuB7E2FfzVUFsEdhckd2tzEd4OTFMnFNqOqnqw2xMbj0spqa8MEvJreBIcxCQ4EULgduUQRCEUKkdKE6ez0145hlSHHQm4foVjbQ/tCUk9EeglpQx1iAUWFhZ/GIqr/dz30ToO75HKqU3nEQCqt8A3j0V6CDkHtnq9Zmpc+cVVbKEHhppInSFJd9hId9r3SrcIwBvU2BzN5hYhDkVEGnNVMVEBhynxqAp2jw1VUZo0/qLZ57Ya3fKQRnVIJ91pI9lhA2851G+NpAhN7tpCs6k1QqEypDRwubIa72MaJjWVDehBiE10EZOw841eCBEtqxAOVyIxcTk775VjSNtLpdi9oT1OYTNgByynYGHxF0ZKyXVv/hgZNpoysGUjteBmUOxw1O1t1nHdN4/xqTkWLbkPdkXQczdZxXaHYZqU1ASwqyZprnIcdg8xns6o0aEZM2ygVwQQdju2NPceI41ao1bTG+W4OznskYxw3rJIdFFiXps9oabohh9Nq8bhSEVVIyGw4bBGVWUVEhPsAkMIDMOG2iT3ghACpzMTUAiHK0CauFxtK8XuT9rjFPzASiHEZzRxDFLKyzrMKgsLi/3O7KVFfL2pintPHEDWrsNGmz6H9R/AmFshPrPFtUHD5MIVC5kfGoHTBTN65ZBWV/6rHIKUJiXVtYQNhcyYSuI8Sc3G3qVhRkJPFbCl7jn0tDXqNJ2iYBiPqtDFaUfUFYO/KiLgl5DTLAlQ23ZKQsGtCGHD6UxHSonf56euvg6kwOOOxUTH6/Xi9XqJiYkhJiamcUVyxDFkIIQS7W2YuN05CPH7Cka05+7vEcmn/DWwvMlmYWHxF6Gkxs+9H65jRPdU/jZ8l2EjQ4ePb4DEXDj4ny2u/aqmgUO/Wcl8bypdKOS7QwZwRueU9ipUNCKlJKzVUFFbSF1QIckVJDm+S7ThjDoEU6JXBsEkInLXDqfz9ttvI4Rg/fr1QMQhfLNhExdPmsjEA4bQv08vCn5eDbEZPPbSu3Tv0QMhBJWVlY11zJo1i0suuQQA0zQ5++yzOeecM9D1AO+99w2DBg2hT58+XHPtNQhTJTE+mcTkeEKhEGeffTYej4fk5GQGDRrEgAEDGiW5hRD897+vMWTIRGJi8iguXomU5l4+uX1Le6KPXtgfhlhYWPw+SCm5/s3VAC0XqQEsew4q1kUml+3NVwn/t7iCWzZuxaZX0Sf0Me+Pu4NYx95nBNN1L6FQKZoepiKQidMmyErJaBZyKaVErwkiNQNbihulnQlo5syZw4gRI5g7dy6X33QzhcEwt114AXfcdCPjD+iGt6YcJSEL4jtz2IgRHHf88YwaNarVuqSUXHTRRYTDIZ566mbq6kPccMPtzJs3j6SkJC6/7ApWrlrJhGOPBiKidztyM7jdbr7++mt8vsg8SXV1NbGxsRx22GEcd9xxjBp1BIbhxe8vwOPJJbJOeP+zRzcrhOghhHhDCLFWCLF5x7Y/jLOwsOh45n5fzFcbK7nhmD7kJDdPl4m/OqJvlD8Seh/X7NQ6b4A7N20lUfuZLlX38uLIy1uVwt4dEZnrAvz+LUhpUKtlYUqVLskxLWLwjfowMqCjJjj3qGu0A6/Xy5IlS5g5cyaz58ylMBhm288/Y5Mm4w/qDWEvsVm98aTnATBkyBDy8vLarG/atGlUVVXxzDP3IQRs3lRDbm4uSYnJqIaHCRMm8P6HO+WtP/74YyZMmNC4n5CQQEZGBrGxsYRCISorK+nSpQuZmZH5Baerc0RIz1+Aaf4+GYnb82SfJ5Jf+SHgSOAc2q1daGFh8Udma22Aez5cx6HdUjj9oC4tC3x+T2RtwvjpzcbZNVNy8U+bwfThKH+ch8fMICcup+X1UWrf30R4W9NIIhPT1JBSAwSKYseQBlLbTLJNoUFVaGhagWkiNRNUBWETgMDROYbE49uW2AB45513GD9+POn5XXEnJrLlx1WY5dtJSkhg8unnsaWkjKOOnsD06dObTQS3xuzZs+nTpw+ffvohmlaMacaSnt6ZTRs3sa2wkr4De/DBR+8TDocBMAyDn3/+mb59+wIQDAY54IADsNlsXH/99UycOBGfz4fP56OqqgrTNDENF253GoFAMf7AZjzu/GbrHvYH7ZlTcEspPyMiiVEopbwdGN2xZllYWHQ0kWGjHzGl5P7Woo3KfooMHR14HmT0bXbq9p/Xs86vEV89i0eOuIPhmcPbe1ekDGMYAaTUEcKOqnpA2AnrJqoCdrVlkgWpmaCIRofQXubMmcOxJ51MYTDMxJNOZvHbb2IaBou/WsyMWy7n+2++YvPmzcyaNWuPdQ0dOpTCwkK++moeUioEAg5SEjrxr3se5uLLz2PM2CPJy8trnEj+7rvvOOiggxqvLyoqYtmyZcyePZvLL7+cLVu2EBcXR3p6OvHx8ZGcz7W11NaGUW2dMM0Qfv9mTFNr9/fdF7THBQVFZDp8gxDiEmArkL6HaywsLP7gvPp9MYs3VHLXpP4th42khHnXRcIzRzVXuXmtcCUzSw3ig8uZO/IyBqQN2OO9Eo7riqZVRxdsKdjs6TgdGaiqEyklhVV+vCGd7umxuJrIVJhaNPRUFdjSPHsVaVRVVcXChQv5YfVqFCEQpokQgpOmTGFI/z50zc8HTwKTJk3i22+/5bzzztttfb169eK66y7h73+/kFfnvkLP/GwUqXDqGVM449xTAHjmmWcaexw7MqvtoHPnzgB07dqVUaNG8cMPP9CtWzcURSE2NhZVjWRuM02TuloDhyMRh6MWv38zHk8+iuJo93f/LbSnp3A54AEuI6KOegZwdgfaZGFh0cFsrQ1w94frOKRrCqcPb2XYaN37ULAYjrwJPMmNhz/a8ilX/rwNu/TyzsFH79EhSCnRtHp8vg0Eg9tQFAceTzc87i6oamRBV41foz6okRHvanQIUkoMvxaJNCIaabSXoacvvPoqx049jS/X/0JhQQHFxcXk5+cTDgSoqamhwmeCECxcuLBxiKctDMMgGAwwfHh3HnzwLk477Ty2bd1GYicPNbVVke9RU8MTTzzB+eefD8Bnn33WmEqzpqaGUCgS0V9ZWcmSJUtavWdMTAzp6ekkJSVhmg78/jgMQ8Pr3YSuB/fq+/9a9ugUpJTfSym9UsoSKeU5UsopUspv94dxFhYW+x4pJTe8tRpTSv510kCUXRtbLQgLboL0vjBsp37/K+te4Z8/LkW3d+aJft3pm5y72/uYZhi/fwuBQCEgcbu74PF0xWbb2SsJ6waltQFinDZSYx0RZ+DT0Mv8GNVBhABbasv8ynuiWtOZPWcux5xwAvluZ+Nq6ilTpjB39kvMuPUKxkw6jQEDBiCl5IILLgDg0UcfJTs7m5KSEgYOHMj5559PIBCgoaEBIcIIAWMOO4lrrrie0/4+hbr6WqZNm0bfvn057LDDuP766+nZsycVFRW4XC7i4+OBiFLpAQccwKBBgzjyyCO5/vrrG53Crve84IILcLvdpKWlkZiYgaalIKWBz7eJhoZqTLNjQ1bblM5uLCDEJ8DJUsra6H4SMFdKeXSHWtYOLOlsC4u957Xvi7n2zR+584R+nHVIXssCX86AhXfBWe9B15GY0uTfy/7Ns5u+pS79Zk7PTOTfffLbrD8QKGHT5hlo4ePo3r0zTmcGdntSi0VZUkq2VPrwhw16pMdiCxkYDRoYJsKuoMQ5UNx7r6RaHdYpDoaJjUpMt5DXqNwAhgbpfXa7SM00Terr6/H7/TgcJg5HDXowAaknk5juQd2No3r55ZcpKSnh+uuv3yvbW0NKSSjkJRQuAikJBhNwuxOIiYnZ4+Q47EPp7Cak7nAIUQNrhBDWnIKFxZ+Q0roAd32wloPykznjoFbe9Ou3RUTv+hwPXUcSMkLc9NVNfFy4CNnlEXKdTu7s0cpwE6BpdRQUPE5xyUsIoZCS/DdiY3u1GW9f5QvjDel0djkQFQEMU0YzprkRTvVXST5UhXVKog4hv7WcA4YGYW8kv/Ju6tc0jZqaGnRdJybGg6KUYRo2MJJIzPCg7mHR3BlnnLHXtrdFRCspDru9O37/FtzuOvx+E03TSElJ2Wf32UF7nIIphOgipSyKGphLRCXVwsLiT8SOYSPdbGPYCODT28HUYdzd1IXquGzhZawoX0G3ng+xNBjDi326ELOL0qlphigpeZktBY+j6/VkZk6ha/7lbNlS26ZDCIZ0ttcGiUEQHzQQLhtqnB3F+evDL/foEAACtZG/7qRW65BSEggEqKurQwhBcnIyhlaLIcOY4U4kpseg/Arpjn2BqjqJiemK378Fj6cBh6NjcjW35xe4CfhKCPFFdP8I4P86xBoLC4sO443lJSz6uYLbj+9LbkpMywLFS+HHV+Hwq9lqt/OPeWdS0lDCmQc+zINlKVyUk8bBic0Xp9XXr2b1mksJBotJTj6c7t2vJy62d/RsbYtbSN3E8IYp9oYQSDq7HNjine1endwWVWGNkqC256xkgRqwucDuJhgMEggEUBQFRVEQQhAMBgmHw9jtdhISEtCDGoasRJoeElJTW3ek+5HIRH3X6GK/eiBxn9+jPTIXHwshhgIHEwkQvkJKWbmHyywsLP5AbK8LcucHaxmen9z6PIJpwrxrIS6TtX2P4Z8fnUHICPHv0U9zZaGHHh6F6/ObC+FJKfnllzswzSCDB79ASvKINu9vaiZmQxgzoFElJQEkOQlu3HG/PUlMZVhja1AjzqbuPhuZHgLNB3GZaJpGdXX1Tk2lXeZWNU2jqqwOl7se1Q7BsJtQZUWjA9l1i+RjbnmsI1AUOx5P1w4TzmvTKQgheksp10cdAsC26N8u0eGkFR1ikYWFxT5FSsmNb69GM0weaGvYaNUc2PYDX425jisX/oNEZyLPjnuWh7bZKA/X8PzQnpGMZE2orf2Ouvof6Nnz9jYdghk2os5ABwGay0ZlMEyCy05i7G+Pu2+3Q4DGoSPTlUB1dTWKopCWlkYgEKC+vh5FUYiPj0dVVYINOlrYi+rwI2UiTqcHwzAi+ku6Hll9vIcoIEVRcLvdzZRR9xUducp5dzVfBVwA/LuVcxJrVbOFxZ+CN1dsZeH6cm5ra9goWA+f3s5bOf25c8tr9EjqweNjHmeZz8EbZQVcmZfB4HhPi8sKCp7E4Uilc+bJLc6FCusxvBp6uR+EiEQSxdgprPKhCkFWovs3v0lXhDW2BTXibSq57clXHKgBu4c6bxDDMEhMTKK2ppZQOITT6SQxMRFFUfDVhgj5dFyJNSiKg5iYrFbfyqWUSCkbHUTTLbI+Q2uUsXC5XMTExOBwOP4QORN2R5v9DynlBdG/R7ayWQ7BwuJPQHlDkDvf/4kD85I4u7VhI0B++QBP2EPcZqvnoMyDmDV+FootmWt+LmFArJvLczNaXFNf/yPVNV/RJefcxuQyUkqCG2qoeOZHKp5cBbqJGu/A3smDLcFJuS9MQDPISnJj+42TtXvjEHZKZ68lbIslEAhQVVnFhAnjOfiQgxl95OjGnsK///UwA4b0JSMvkarq8sYMaa1JZ5933nkIIXj99dcZNmwYw4cPZ/LkyQSDQeLi4khOTsY0Tc444wxCoRBPPvkk3bp1o3v37q3Kalx66aXExu6doGBHsLvho8m7u1BK+da+N8fCwmJfcuf7awnqJtOntD5spFX8zJ0bZvNOUgKTuk/i1kNuxSZsXPZTAQ26waODu+FoJQNZQcET2GzxZGWdjjQlwXVV1H9ejFbiRYl3kHBsV+oT6lDjI3MG/rBORUOIJI+DBPdvSyW5wyEk2FS6tKOHMGfOHEYcMpw5787n4u7DUVUbF154IZdddhlHjTqGhhovbtVJQ1WQIf0P4P133uPYE45GtcVjszVvpHdIZ2uaxvPPP49hGEybNo21a9eSmprKtddey2OPPcbtt98OwCeffMKxxx6L3W7nkUce4eOPP8YwDCZMmMDo0aPJyspCVVWWLVtGbW3tb3ou+4rdDR8dv5tzErCcgoXFH5iF68v44MdSrhrbk25pLd9AfZqPq+b9nSWxHv7R+0z+MfwahBC8ub2aDyvquLlrJn1i3S2u83p/oaLyE/LzLsUslVS+vgK93I+a7CJxcndihmYgbApiXT0Apikprg5gUwWZiXufa6Ep5SGtMYVmF9eeHcIO6eyFr/+XiWddwoVX3cYva9ehGzonTpqMw2XH5XLgrw8T9GkcePAB2NxlALicLXtIO6SzX331VRRFaZxn8Pl8pKSkUF9fT/fu3RvLf/zxx9x222188sknjBs3jp49exIKhRg1ahQffPABkyZNwul0cvXVVzNnzhzefvvt3/R89gVtOgUp5TltnbOwsPhj4wvp3PLOT/RIj+XCkS3lpcv95fzzo7PYYDZwR/rhTD7oWgBKQ2Fu3LCVA+Nj+EeX1teoFhY+hap66Jz0NyqfXBuJ55/aC/eANMSuCqfA9vogSxd/Rqi+mm9/Q0inJiVhU6IKgUsRdOrUqVmugtZ45513GD/uKHrlZZKQmMjq1avZWlJKWmoafzt9Klu2bOHwQ0dyw1W3YbPZ0ML1YG8AVBSleY9mh3T2okWLGieO7XY7Tz75JAMGDCAmJoYePXrw+OOPA82lsz/66CNycnKiC9FcdO/enYaGBjweD48++iijRo3C4YhMvEspf9d5h/Yk2UkRQjwqhFghhFguhHhECLHHZXRCiOeEEOVCiDVNjiULIT4RQmyI/k1qcu4GIcRGIcTPQojfXULDwuLPzIOf/MLW2gDTpwzAsYscw6baTZzx0ekUerfymF9l8riHgUhjdOX6YsKm5NE+XVrKQwCBQBHby96nc+bfaHizHNOvkXJ2XzyD01t1CN6QTqU3hNuuou4Dh2CLOoT2MmfOHE46biwSmHjCJN59+31iYjx8teQr/vWvB/jkgy/YvHkz73z0Gsmd3dg91UjDjpQC02geXbRDOnvp0qU77dI0nnzySX744Qe2bdvGwIEDue+++4Dm0tmtyQnZbDb8fj/z589n2rRpaJqGlJKKigp8Pl+Haxy1RXvimuYCXwJTovunA68CR+3hulnAY8CLTY5dD3wmpZwuhLg+un+dEKIvMBXoB3QGPhVC9JRS/j6phyws/sSsKq7l+SVbOOPgLgzLTW527vvt3zPt82k4DYNZ20rpO+UlsEXG/V8ureLz6gbu7ZFFvqf19QOFhc8ghI3koqMJbqwlaXIPHJ1bnxw1paSkxo/DpnDixON+tVMoC2lsD2kkRoeM2vsWvUM6e82qH0AIdANUm8qZZ5/OkCFDSIvPJBTQOXHyiaxYuQxNrwShY1NzwISaMj+JCToOV6SZ7N27N3feeSennHIK8+fPp1+/fqxcuRKAbt0ivbFTTjmF6dOnA82ls7Ozs1m0aFGjbSUlJY3y2Zs2bWLIkCEABAIBDjroIJYsWdLYk2ivxtG+oj0hAMlSyruklFui2920YxmdlPJLoHqXwycAO3I+vwBManJ8rpQyJKXcAmwE2pu1w8LCIopmmFz/1mpSY51cO753s3Mfb/mYCz+5kDRnMi9v207fnCOgZ6TRKgyEuG3jNg5PiuXvWamt1h0KlbGt9E3SY44j+Jkfz5B0PAe2HHffQV1AI6yb5CR5fpVDkFL+aocAkV7CyVNOpHDph6z+7luKiqLS2eEw1VXVbC3ZTkyik6++/pLevXsSDlditycSE5+IogqEgNoyP766UOOb/qGHHspTTz3FscceS1FREVlZWaxdu5aKigogMrG8Q3yuqXT20UcfzYIFC6ipqaGmpoYFCxZw9NFHc+yxx7J9+3YKCgooKCjA4/GwefNmUlJSsNvteL1eysrKqKmpaczo1tG0p6fwuRBiKvBadP8k4MNfeb8MKWUpgJSytImwXhbQVI67JHqsBUKI/yMqs9GlS+vCXBYW/6s899UW1pXW89QZQ4l3RcbEpZS88NML/Hv5vxmaPpRHw7EkBL6G8feBEJhSMm1dESrwUO8ubU7eFhXNREqD2C8Ox5bmJvHE7m020l/8UkE4ZJAf5yTmV+gZGVKyNRimRjNIsqvk7KVD8Pv9zJ49m2v+eS4SQWx6JopNYcqUKcyZM4dbr7+Lk8+YiKIKhg0bxplnjkcInWeeeYMHHvg327dvZ9TRh3LU6HHMuOdR/PVhpBlxDMcddxwVFRWMHz+exYsXc9ttt3HEEUdgt9vJzc1l1qxZLaSzk5OTueWWWzjwwAMBuPXWW0lOTm7VdiEETqcTp9OJruv4fD78fj+BQACHw0FMTAwul6vD5h3aI53dAMQAOwa4FGBHslUppYzfzbV5wAdSyv7R/VopZWKT8zVSyiQhxOPAN1LKl6PHZwIfSSnf3J1tlnS2hcVOiqr8jHv4C47okcYzZ0VUkaWUPLDsAV5a+xJH5x3NPd2m4nz2KDjoIpgQGeZ4uric2zZu4+HeOUzNbH26UNNq+GrJ4cTXDqfT8vNIv2Qw9oxWFsIBdX6NcQ9/wf1jUjjiwMF7rRcUNEwKgyGChiTDaSfD0X75bCklDQ0NeL1ekJIMUYXijEWkdG0sU18ZIOjTSMqMwe5Q0bRaAoFiXK5MHI7UFvUFfRre6hBCQFyqG6d7z05uX0pnQ2RthN/vx+fzYRgGqqoSGxtLTEzrv0FT9rl0tpQyrr2Gt4MyIURmtJeQCZRHj5cATbN+Z7NTVsPCwmIPSCm56Z3V2BSFO07o13h81k+zeGntS5ze53SuPeAalBcmRjKpjboOgF98Qe7dXMq4lHhO7dT6mytAcfELmGaAxNXjSDyxe5sOAeD293+iyhsmyePYa4dQq0VyIQigq8dJnK39Y+mmaVJbW0swGAQJTqGjYoBnpyJqKKAT9Gl4EpzYHSpSGgSDpaiqC7u9pUMUQuCOdWB3qNRXBqgr9+OJdxCT6Nyto9qX0tlAY8rOmJgYgsEgXq8XXdf36T0a79WeQkKIyUKIB4UQ/xZCTPoN93uPnak8zwbebXJ8qhDCKYTIB3oAS1u53sLCohXeWbmVxRsquXZ8LzITImsLPi38lIeWP8T4vPFce+C1KOveg8KvYPTN4E5CNyWXrSsiRlWY0SunzUZO1xsoKpxFbNkwkvoMJWZo2/MIH68p5e0ftnLJ6O4top52hxkdLioMhHEpCj1jXHvlEAzDoKqqKuoQBAhIdEkQCjgjgxmmKWmoCqLaFWLiI+GfkZzROk5n1m4beZtDJalTDO7YyJqGmu1+dG3/RwcJIRqzsu0YmtrXtCck9QngImA1sAa4KDrcs6fr5gDfAL2EECVCiPOA6cBYIcQGYGx0HynlT0TmLNYCHwP/tCKPLCzaR7UvzF0frGNIl0ROjybO+anyJ25YfAMD0gZw12F3oeghWHALZAyAoZH3sv8UlbGywc/0njmkO9teZVy08SUM2UB6/UkkndByzcMOKr0hbnp7Df2z4vnnkd3bLLcrYdNkkz9EZVgn1WGjm8fZ6irqNq8Ph6moqEDTNIRpAyFJiI9HDdWDMwGUiHPx1YQwDZP4FBdCERhGMDq5nNQsRWhbCEUQl+IiPs2NoZvUlPoI+rR227mv6ag5hfbMAI0E+svo5IMQ4gUiDmK3SCn/1sapMW2Uvwe4px32WFhYNOGeD9dRH9C4b/IAVEWw3bedSxZeQoo7hUeOfASXzQWL7oe6YjjxKVBUVjf4+XfBdialJzIxPbHNuvWwn+KimXjq+5M9+TiEvfW3dyklN761moaQzpxTBmNvp7ZRg25QFAhjIunidpBk37tJ6UAgEJWHECi6E9MWwuVy4bEZII3GZDrhoE7AG8Yd58DutGGaYQKBIoRQcTo77dU9XR5743BSfWWAcFAnNsn1u+da2Fe055f7GWga5pMD/Ngx5lhYWOwNSzZW8uaKEi4c2ZXeneLxaT7++dk/CepBHhv9GKnuVKgrga8egr6TIG8EIdPk0nVFJNtt3Ncze7f1b174NLqtlry8i7Gntf02/fYPW1mwtoyrx/WkZ8aepyF3hJtu9odQBfTwuPbKIUgp8Xq91NTUIFBQwi6kXUNVVRITExGBWhAquOKQ0WEjxaYQk+jEMIL4/JuRUsPtzv1VMtSqTSExw4Mn3kHQq1Gz3Yce/msMbrTnaaQA64QQO8b4DwS+EUK8ByClnNhRxllYWLRNUDO48e3V5KfGcOnoHuimzjVfXMOm2k08MeYJuidFh3A+uQ2QMO4uAGZs2c56X5CXBuTvtiH2rSmj1JhDjN6XTsPGtVmutC7Abe/9xAG5SZw3omub5Xagm5LiYJh63SDRrpLtcrS6erotpJTU1dXh9/tRFTuEHAiXhjRMkpJSI2+6wVpwJ4JQ8NUGMXSTxHQPpgwQ8BcAAo+nK6raUtupvQghiE1y4XDZqK8KUL3dT1ySE1es/TcP7UgpMaQR2cxd/kY/O21Okl1tBwf8WtrTU7gVmADcBtwO3AdkEsmz0FquBQsLi/3Ao59toLDKzz0n9sdlV5mxbAaLty7mxoNu5NCsQyOFtq2ENW/AoZdCYhe+r/PxeFE5p2UmMza17Ry/enWQwsWz0N1VdBt0eZuNnJSSa9/4Ed2QzDh50B4XqfkNgw3+IA2GQWeXnS576RB2TCj7/X7sigsRcmKPAd0IExcXF9EPCtWDNMGVhBYyeOO1N8nIS+CXTasI+LcghEpVlY0JE06gT58+9O3bl4KCAgAee+wxunePrL+orNyZYLKpdHbjd/H7OfbYYxk4pD8jjz6Yex+4nYbqIPWVAS6fdjmDBw9m8ODB9OzZk8TERIJ6EG/YS12ojjHjxvDjxh857ezT6DugL33692HCCRNYWbyS9dXrWVu1lpfef4lBgwYxcMBARo8azVbvVrb7tlPhr6AuVEdQD7b7ue0N7QlJ/UIIMRg4DTgF2AI8JaX8YrcXWlhYdBjrSut55svNnDwsm0O7pTJ73WxeWfcKZ/U9i1N6nbKz4MK7IuPqh16GzzC4bF0hnV127uje6tpQIJJHuXL2Gqry3ifG1YuYxJFsrvCyvS5IaV2Q0roApXVBttcFKa7x80uZl7sm9Scvdfcx81Vhna2hMDYh6OZ2ErMX0UUAuq5TVVWFYRg4FA9mSMGdYKPBX4vT6dyZiyBQA4oN6YiloSzA2x+8yWGHHswrr8zkppuvwOPO4+9/H8tNN93E2LFj8Xq9KNGJ7cMOO4zjjjuOUaNGtcumq6++miOPPJJwOMyYMWNY8v0iDhl+OJffcDUX33YxutR5+ZmXWbd6HZtqNwEQDAQpryxHTVS54o4rSIhPQFVU7rvpPuY+N5fLrroMb52X6ddP54133yAvL4+qiioyEzNRFRVVqB0qmLe7fAo9iegR/Q2oIqJ3JKSUR3aYNRYWe4lmaHy19Sve3/w+X239imsOvIaTe7bMBPZXwjAl17+1mgS3nRuP6cOXJV9y//f3MypnFFcOu3JnwYIlsPFTGHsXuOK595cStgTCvDG4W2O4py+kNzbwOxr7wlVlFNVupbT2LOq1LOrfm9/ChiSPncwENzlJHiYO6swZB7WtLmBKSUl0dXKsTaGLy4l9LydlQ6EQ1dXVgMCpxGKEIDbJiTdYh6IokXkEIcA0IFgHnhT8DRp1NXV8v/wbPvjgGaZOvZx77vkP69f/jK7rjB07FqBZYpsdGkTtwePxcOSRkebQ4XAwcPBANpSup6cnEqHl0Fx4hJsFby/gupuuJzs2G5tq49NvP2Xc6HH0SemDkhpxRlJK7KadJFcSnWM788SLT3DylJMZ0HMAAHFZ+3K52O7ZXU9hPbAYOF5KuRFACHHFfrHKwmI3SClZW7WW9za9x7wt86gJ1ZDsSiY3Ppe7v72bNHcao3JG/d5mdhgvfVPAquJaHpk6mPLQFq754hp6JvXk/sPvR42GXyJlpJcQl8mGvNN4ddEGZm0opb9q579b1nFXXZBtdQEagi0XQCUhSIjzkxETZFReFzIT3HROdNEp3k1mgotOCS5cbUQh7UrIMCkIhqjcMh0l+DO6Iqhl7xyCYRgYuh59O1bABNWu4KrvTkrKxSQnJ+8UjAvWARLDkYCvMsQnX77BmDGH0Lv3AFJTM1i5chVFRUUkJiYyefJktmzZwlFHHcX06dN/leiclJKGcANbtm/hvfffY+abM0l2J5PkSMbwwaYNmykuKGHEgDGEygSmEz5+fwGTTpyEiK6nOOecc/joo4/o27cv//53ZET+l19+QdM0Ro0aRUNDA9OmTeOss87aa/t+DbtzClOI9BQ+F0J8TEQt9a8Rc2Xxp2S7bzsfbP6A9ze9z+a6zTgUB0d2OZKJ3SZySOdD0AyNc+efy7VfXstzRz9H/9T+v7fJ+5xttQEemP8zR/RM49CeDk776BJi7bH8Z/R/8NibRAdt/BSKvmHpQf/h9CeWohkSO1Ab68ST6CI3xcPBXZPJTIw29PEuUk2BeHEdstvPFOTcQ5/e99O584BfbWvAMPnFH0QACXaVUHhvU3BKdN3ANAyEooBUwJSodgWQaLpObGwsLleTxD2BGqRip75ewe6u5M233+DSSy/E7c5l6tSpzJkzh4MOOojFixfzww8/0KVLF0499VRmzZrFeeed127LDNOgNlRLVbCKQCjApeddyoX/vJAxQ8agCAU9HMIUId77+HVOOmkyyZ1i0UIG4aDB118v4aar76CixIvDqfLYw0+hPg5XXHU5r776Kueccw66rrN8+XI+++wzAoEAhxxyCAcffDA9e/bcy2e49+wuyc7bwNtCiBgiaqZXABlCiCeBt6WUCzrcOov/efyan0+LPuW9Te+xtHQpEsnQ9KHcdshtjMsbR7xj56pOu2LnsTGPccZHZ/DPz/7Jy8e8TE5czm5q/3MhpeTWd9dgSrjluO5M+/wS6kJ1zBo/i04xTWLtTRM+u5ONsQdywdIMnDEKvoGJvHVobw5Obn0YQmoG5U+swrApbO09D6eeSadOvy6wUDcl920p5SBNJ09RyHU7cPa6da/qCIfD1NbWous6brcHM2DD0CUJqS5Uh6CiogKbzUZcXJPvY+gQakC3J4Moo867jS+//J716wu55JKbMAwDIQSTJ09myJAhdO0aiZSaNGkS3377bbucQtgIUx2spiZYgylNPHYPd113F4P6DOLqiy/HW1VJ2O/HiEpQvDpnLvfecRs1pQWodjsl27aRnZ1JfKLANA0M3SRcGyk7/siJPPHfRzl1ymlkdurM0UcfTUxMDDExMRxxxBGsWrVqvziFPbpuKaVPSvmKlPI4IppEK4nkQbCw6BAM0+Cbbd9w4+IbGfXaKG766ia2NmzlH4P+wUcnfsQLE17gpJ4nNXMIO0h1p/LkUU9iSIOLP72Y2mDt/v8CHcTHa7bz6bpyrjiqO0+uvZs1lWuYfvh0+qb0bV5w3buUlxZydmAaYaBqUBLT+ma36RAAat/fjFbqQz3BT71vBbm5/4eiOPbaxvKQximrNvF4UTmxqkJ3jxPnXqxOllJSX19PZWUlpmmSkJCI6bdh6pLEdDcOt42amhoAkpKSmk+4BmsBSVAEUB1+PvjgO8466ywKCwspKCiguHindHZNTU2j3PXChQvp27dvS2Oa2BQyQnjDXjbUbKA6UE2cI47c2C48effj1FZWceO0S6ndXkrQ68XudOFKTWJ9TQn1Ph9jjh5PbFIydqeLTz79jJGHHYq/vppAQzm/rP8eaZSDrGL+p+/QLT+Xhqpajjh4FJ9/uoiqbfVUbq/lu2+/o3fv3m3auC/Zq1UbUspq4OnoZmGxT9lUu4n3Nr3HB5s/oNxfTpw9jmO7HsvEbhMZnDa43REX+Qn5/Gf0fzh//vlcuvBS/jvuv5FVvX9i6gIat773E/06x+OL+YBPfvqEqw+4mtFdRjcvaOj4Pn2Ac81bKQ/Z8B6QxNRu6Vyb3/aqXd8P5fiWbiduVDab5R3Y7Sl0zjylzfJt8W2tlwt/KqBeN/hPny4k1ZTtMYfyDqSUhIJh6uprMQwDm+rAjht/dWRBWGKGG7vTRl1dHZqmkZSU1JgSs7GOQA2mEEhHGIejM2+88UELldIpU6Ywd+5cZsyYwZgxY5BSMmzYMC644AIAHn30Uf71r3+xfft2Bg4cyFFHH8VtD91Gpb+S12e/zvwP50fmAqTkg9df44EZ/6ZH924cPWkyQlH45yWXMPnMyZT7y3nttdcZN2kcwu0g1h4J/1383VIeffRR0nJy0EIhJp9xFvX19ZimSb8+vZl++21Is54e+WmMOvxgDjliKIqicvqpU8mIS6V6WyV2lxNXjAvbXqjH7g17lM7+I2NJZ//5qQ5WM2/LPN7b9B5rq9aiCpURWSM4vtvxjMoZhVNtPQNYe1hQsICrv7iao3KP4oEjHtg5Cfsn5Ma3VzN3aRFXnFjHM+vu4+SeJ3PLwbe0aBT05S9zwZsFLDKHEBqawrF9O/FUv9w21wJoZT7KH1uJPSsW51SFZSsm0a3rNeTlXdRu26SUPFVcwd2bt5HrcjKzfx59Yt0tJJullJimxNBMDN2M/NVMdN1EM4OYIgwIFMOJih3VpqDaFTwJEZXSYDBIdXU1MTExJCQ0X2Nhan5Exc+E7Qq6M5uY+D1mDG4T3dSpCdZQHaxGN3XswkaM4UT1G2CYCCGwu904PTE4PR5sdkfjdVu9W/GGvcQ54khzp1HsLcYwDXLicrBLO4cddhi7a7OklJi6jq5pGFoYXdPQw5G/pt5cZ0m1u0nrsvsV6dAB0tkWFvuakBHii+IveH9TJIxUlzp9kvtw3YHXMSF/AinuX/8fuinj8sZxte9qHlj2ADOWzeC64dftk3r3N98XVDP7uyKOP8jHc+sf4JDMQ7jhoBtaOASpBbnlg1/43DwIrW8iI3ul8Xjf1nMtA5hhg6pX1iMcKimn9eanwiux2eLIzj693bY16AaXry/iw4o6jk1L4OHeXXCETcq21KOFDLy1oWZOYNeXUGGX6ASQionD7iQuJh6bQ41mPttpt67r1NTUtJxHAAwjhFa/GRcQMtOJi/t1q3xDeoiqYBW1oVqklDhMlfigDbumoNgkzphYnJ4YHG5P47qGHXjDXrZ6t2JIg8yYTJJckaGt/Ph8ChsKKWooIis2a7cOASKrpFW7HdVuB5rLikgpMTSNcDBEOBBCtbUtYvhbsJyCRYcS1IOU+8sp85ex3bedH8p/4OOCj2kIN5DuTufMfmdyfNfj6ZHUo0Puf1a/syj1lfLyupfpHNuZM/ue2SH36ShCusENb62mU0o9K4KPkRufy4xRM7ArLRuEx+e8xZzAQZhdYzmgfzoz++e3qTYqpaT2nY3oFX5Sz+1PUC2momI+eXkXY7O1LyZeSsklPxbwSW0Dp9eoHPJ9Na/NKiHojbzRHnhGEv66UOSN36Zgj9359q+qAl/Ai8/nQ1EUkhKTm0cR7WprbS0QmUdo2iAbhh+/vwC3pqNLO56k9L0aUpFS4g03UOmrxG8GAHCGFdxhGy67G2ecB6cnBpuj9fwJUkrKA+VU+itxqA5y43ObDVXaVTt58XkUNxRT0lCCIY1fLU0hhMDmcGBzOPDEd9y6BcspWPxqAnqAMl8ZZf6yxka/6X6Zr4yaUE2za9w2N2O6jOH4bsdzUKeD9suQztUHXM1233Ye+P4BOsV0Ymzu2A6/577iqUWb2VRVRt6AWZjCxmNjHmt1gv2tpZuYsTYBMp30GpzBSwO74tmNUql/WRn+FeXEjemCq0cSP629B0VxkZP993bb9sx3RcwPNDD6Rz8DSk1sGR66Dk4jMd1DQrqbgK2ctJw4xC4L1UKhEFU1kbkDj8dDfHx8izdvAGma+OpqCYbDhA0Tp6oSqKslsKOACIG9FmEIbKbEL2LQ63dNC98WEh9B6qUPXZgICR7NRrwahycuFofbg2rbffMYNsJs9W7Fr/lJdCXSydOp1X/PNsVGbnwuxQ3FlHpLMUyDVHdqh65K/i1YTsGiVfyan+2+7Wz3t2zodxyrD9e3uC7RmUinmE5keDIYmDqQjJgMMjwZZMRk0MnTiczYzN80T9AWgYYw37yziT6HZJLZPbHZOVVRue/w+7hgwQVc/+X1pB6dypD09q9c/b3YWO7l8UXryer1GvVaJTOPnkl2XMsx5CUbK7nm7XWIJDtZQ5KZM7g78buRkAiX+qh5dxPO7onEj+lCIFBCWdl7ZGefjcOx57dYPWzw4VsbuD/BT64u+M9pg0hJbylxsW5dZTOHYJomDQ0N+Hw+VFUlObnt3oFpGNRsLyUcDiMdToRpYoQD7NAhVRwGjtgQpqFg83lACRMI6xit/JvclZDNwOfQMRSJTSoki3iSY5JxuD3tbqjrQ/Vs825DIsmKyyLRmbjb8opQyInLodRbSrm/HF3qdPJ0+kM6BsspWDSy3bedW5bcwk+VP9GgNbQ4n+xKJsOTQVZsFkPThzY2/jv+pnvSf5con5Bf471HV1JZ7OXnb7dz+Kk96X9Ec20fl83Fo6Mf5cx5Z3Lpwkt5acJL5Cfk73db24tpSm5460ecmW9SJ3/m/hH3Mzh9cIty67fXc8GLyzA9KkmDnLw2vD+pjrb/W5shnepX1qG4VZJP7YVQBIVFzwAKXbrsOU6/epuP+c+u4ZlcCDudzDq0JykJe05QEwqFqK3d2TvYkVs4FAphmmazzdB1QsEAUkqE04WqqqSlpTX2JsLhKoLBbaiqB7ROOEUhps1NSue2hyB3rDwuD5QT0jWcNied3enEOeL2qmE2pUmZr4zqYDUum4vsuOx2v+QoQqFzbGdURaUqUIVhGnSO7Ywi9nZRX8diOQULIJKp69KFl+LX/Rzf9XgyYzMjb/jRRj/dk45D3fu49Y5GCxt8+PiPVG/zMe68fqz/tpQvZv9MZXEDh5/aE7VJSsgkVxJPjnmSM+adwT8+/QcvH/NyJN/AH5BXlxWzquENnOnL+efgf3JM12NalCmtC3DmzKUEhEnMAAdv9k2hs6vt30hKSc1bG9GrAqRdMAA1zkEoVE5p6etkZk7GtZtkM1JK1i0pZfGrv7A+z8m6Lm5u6ppJrzgXlZWV+P1+/H4/gUCg8W9SUhJVVVVomoZp7kxduaPsbm4GEuwOJza7ndjYWBRFQUpJOFxBKFSGzRaHKjoT9DYQbw+Bp3WBPyklXs1Lub+coB7EoTrIjssm3hG/12/pIT1EibeEoB4kxZ1Cuid9rxt0IQQZngxUoVLuL8eQBtmx2X+oyDjLKViwoGABN311EynuFJ4e+3SHTfruawzd5OOnVrN9cx3jzu9P92HpdBuWznfvbmLF/CKqS32M/78BeOJ3NpQ58Tk8Nvoxzp1/Lpd8dgnPHf1cc3mIPwDl9UHu/WI2zvRPOK7rcVw48MIWZeqDGmc+t5TKQBj7UA+vM4/8Lve3Wl9xfTGxjljsKwMEVlUQf3Qezq6JABQVP4dp6uR2aXmPHYQCOoteWc/GZeUk9Eti/mAbg1wODqnaxuPvvUZVVVWLaxRFYdy4cYRCIQBUVcXhcKAoSpubFgxQV16GoqokdeqMzbHzd5NSEgqVEg5XYbcn4nRmUVPqx23zIQHhTmxhgzfspTxQzvvvvM/lf7+cb1d+y/CBwxFCUFRUxPnnnUdxcRFCUfnoo4/Iy8vjscce4+GHH2bTpk1UVFSQmpqKlJInn32SJd8t4ZZ/3UJ2bDaXXXgZqqoyc+bMRucyceJENm/ezJo1awC44oor+Pzzz4GIIywvL6e2thYhBGmeNKZOmspN/76Jy+66jPWr1mO32xk+fDhPP/00drudV155hfvvj/ymsbGxPPnkkwwaNKjN32lfYTmF/2GklMxcM5NHVjzCoLRBPHLkI/ssHLSjMQ2TT577iaK11Rx5Zm+6D02DDZ+g5AznkBO7k5odx8IX1/Havd9zzD8GkJ67c3J2QNoAHhj5ANM+n8a1X17Lw0c+jO1XZN/qKK567z1k6qv0SxrEHYfe0eKNNqybnP/iMjaWe1GGJjK34Br6nP1Sq3V9XvQ5V31xFTZhY2L5SE7vNYW4kZF5CU2rZevW2WRkHIfHk9vq9WUF9Sx4dg0N1SEOntSVpzqb1FfVMWzZN3xQto1OnTpx/PHHk5CQgNvtxu12o6oqX375JVLKxkxoTufuh1j89XXUV5ZjdzhJ7NS52SSvlCbB4FY0rRaHIxWnsxPemhCGbuJyehG2WGjSi/Vrfsr95fg0HzbFxufvfc6IESOY9/Y8Dhp0EABnnXEaN118JmOPGI7X50cxyqAixGED8jnunTmMOnYKhP0Yhkapv4yaYA2qotI1viuXXHwJmqbx/PPPN/42b731VjO1VYCHHnqo8fN//vMffvjhh8b9QCBAQ20DB/Q8gAmTJzDj6RnkxuVy9pln8+yzz/KPf/yD/Px8vvjiC5KSkpg3bx7/93//x3fffbfb57gv+GMNZlnsN8JGmJuX3MwjKx7hmPxjmHn0zD+NQ5Cm5PNXfmbTigoOO6k7fQ/rDL/Mh1dOgv+Ohoqf6XFgBpOvGYZQ4K0HVvDzt6XN6hiVM4obh9/IFyVfMH3p9Bbx878Xr61cyYrQgyQ4Unlq3H9aDNlJKbn6jVUs3VyN7J/Ii9tuZWiPAyGlW4u65m2ZxxWLrqBnYk+G+wbwasrHnOa8gqdWP4U37KW45EUMw0debsuFatKU/LCgiLf+tRzTlBxzaT8Wukt5v6qeoVvW0c2hcvrpp3PhhRcybNgwunfvTlZWFtXV1cycOZMVK1bgdDpJS0vbrUOQUuKtrqK+ohyn20NS56xdHIJBIFCEptXidGbgdHZCDxsEGsLExJgoZiiSYQ0IaAEK6wvZUreFkBGiU0wnMu2ZfP/t98ycOZO5c+eCqbP2m0/Qgz7GjhkFSXnEZvbAk9IZhMKQXrnkJdvA1AlUb2Jz9c/UheqIQyFOCq6+5GKqyrfz4synGxtPr9fLgw8+yM0339zm95wzZw5/+9vOtPWLFi1i1KhRxDvjOXPymeimTkF9AUOHDaWkpASAQw89lKSkSI7pgw8+uPF4R/PHeT2y2G/UBGu4/PPLWVG+gosHX8xFAy/6Q0ZBtIaUkiVvbGT916UccGweg4+K6vgveRhiO0Wkk/87Bqb8l7ReEzjlhgOZ/981fDprHRXFXg6d3A0lGqp5au9T2ebbxnNrniMzJpPzBrRfJbMjKG2o4Z5lV6OqJs9PeJokV1KLMvfP/5n3Vm7D6B7HzISvGLF5NRzxYotyb294m9u+vo0h6UO4q/JSlMIgF53+T/5b9gJPrHyCV9a+zKgYL8fnHElsbK9m1/rrw3z2wlqKfqomZ2A8rq41PPfBi7w0cATZ+Hlo9KF0y8trdk0gEGDBggX88MMPpKamcu655zZLXnPLhhLWeAPNrkGCoWkYho6q2lDtfti+ucl5iWmGkNJAUZwIpQ5kHXrYQAKDYwV3J0PQ7qa8voiGcAOqopIRk0GSMwlVUXn55ZcZP348PXv2JDkpgRWfvkVRSQmJyamceO5VbNlSwJjRo7l/xozG4SppGpiKSpHdTqqikiecxCOY88Y79Omez6I3nsFWszFio+rglttmcNVFZ+OR/kjGNz0IqhOi/6cKCwvZsmULo0fvlCSZN28ekyZNAiDGEUNeQh4bqzby/EvP8+gjj7b4PWfOnMmECRNaHO8IrJ7C/xibazdz2oensaZyDf864l/8Y9A//jQOAeD7DwtYtbCYgaOzGX5cNHqo6Dso+gZGXAH/tyjy1jznb/DFA7hjbBw/bTADjsxm1WfFvP+fVY2LqwCmDZ3GhPwJPLziYT7c/OHv86UAzdQ4471/YtgquHbIffRMbpnr+OXvCnlq0SaMLA8PH5HCuOXTYfgFkNB8knX2utnc+vWtHNL5EB5KvwvlpwAJR+fSv99QHhn9CHOPnUv32CTerTG55ud1vLT2JUJGZOy/ZH01r96zlKIN20k4oIofqz/m62+XsKz/cDSHi5cOG9LCIfzyyy888cQTrFy5khEjRnDhhReSk7MHdVoJejgccQi26Arepv8MpcQwg1GH4EJEh/dMQyIl2GwK6EECqp1N9YX4NB9pnjR6JPYg1Z3aOHE7Z84cpp5yCtRtZeoxI5nzzsfonnQWf/0d91z8Txa//Aqb1q3jv9OnE9q8mWBZKUW1hRjSxKO6yLdn4lJTMNR4hgwcTOHWcr5etQ3NTEbT4/h+2QZ++WULxw4/mPD2CmQ4TGjjBkLr1xBa/xNaaQlzZs/mpJNOapavYcmSJYwYMaJx321z89CND3HgIQeSNSALX9jXeO7zzz9n5syZjfMLHY3VU/gf4uttX3P1oqtxqA6eG/8cg9I6ftJqX7Lqs2K+/2ALvQ/pxIiTeux0Zl8/Gkk5OfRMcMTAuR/D+9Pg87th+yrUSU9xxKk9ScuJZdHsn3l9+vcc84+BpGTFogiFuw+7m8pAJTcvuZl0TzoHdjpwv34vKSVXf3YH5fpqhnou5IzBY1qU+Wx9Gbe8swYjxckdJ/RjyrfXgN0DI65sVm7m6pk8vOJhjsw5kvuH3kv1I6tx5NiJHb5TK6h3UnfOS6pkQlIPPvEl86/v/8Wsn2YxVp6Ic3EOMqUCb8w2KrdKBg4cSHDAMJ4qrua6/E70iW2e6P7rr79mwYIFpKWlMXXqVLKyWo8CuqvHzvUVhq5Rs70UIyyIT03HHd98MV5klXIhYMPtzsVmi4Sv6mGD6lIfdo+KZq8g3e9jm1BJdaeS4k5pMS9UVVXFwoULWfPjDwjAMEGoNiae+DcG9epF19xcpGly/OjRLF21Cr/up4wApgGKCamlAYxgCQZgVFfTo3Nnbr7gAk674ELee/pp+vbsyTdLf2DFmrX0GD0BQ9cpr65m7Nnn8+nsF5G6hl5Vy5wXX+TR6dMxQyEUp5PNmzeTk5MTyScd5Y477qC6qppXX3+VYl8xhQ2FZMdmU/BzAeeffz7z5s0jJWX/DO9aPYX/EV5d/yoXf3oxnWI7MfvY2X86h7B2yTa+en0D3YakceQZvXcuiqr4BdZ/iDzwfIJbSjC8XrC74cSnYdzdsP5DmDkWqjfT59DOnHjlUHTN5I1/LWfTinIAHKqDh498mNy4XKYtnMbGHUMD+4n//jiThdvexdYwmscmtowCWl1Sy4Uvr8CItXP5pL6ca9sGa9+BQy6BmEhDIaXkPz/8h4dXPMyE/AnMGDkD37tb8OjvklZ3EuL+HLgvBx4/CO25kXRbvZmJDZ14NvVwHs+/AHetjVcCTzN30L2sif+awUMHc9lllzHyuOO5Z3s9A2LdXNIlo5ldJSUlfPrpp/Tp04cLL7ywTYfQFC0conprCYamkdgps4VD0LR6fP4tCCHweLo2OgQpJXVVAaSQbKcYNVSPBNKTe5ARk9EyUEBK3njlOc6aciyF38+nYMN6igqLyOvcmUBJCbX19VTU12NLTePLH38kb0hftiULFFUlR4tDQdDYdVEUhMuF4vEw8uSTeeq//2XK5ZdTERvLZXfcQWl5OYUlJXz17bf07NmTL7/7Dke3Xjh79KGgbht1DfUc2LUroQ0bCBcW8uE773D00Uc3mvrss88yf/585syZg9PuJC8+D5fNxdJ1S5l04iReeuml/ZJHYQeWU/iLY5gG9y+9n7u/u5vDsg7jpQkv0Tm28+9t1l6xcXk5i15eT07fZMae269xTgBAfv0oUtgofOIbtpwwiV8OOZTCc86h6oUX+H/2zju8ijJ9/5+ZOb2m9x5C7x2pKgjYu7h2RVdd1+6666qra111rdixYMeCYqEpTQXphJpAAuk9J8npbcrvjxMDEVB0cXV/X+7rmmsmOTPvlDPnvd/3KfcTTj8ZLvwIPPXw0rGwZxlpBU7OvWMEiRlWFr20nTXz96CpGg6Dg+cnP49JZ+KapdfQHGj+1e8rFFW4bdFsnil+iqh7EA9MvB2HqbumUU2bn3NfWUtUJ3Dxqb24pSgjVmbTHA9j/hR7BprGI+sf4aWtL3Fm0Zk8NO4hlG9W49hzOfHS8whZw2DyvTD4D2iJhUS9VSR1aJjWvgOfXc+EZXfxWd0anm9sJld1sz5xPS+57mH1l1fy968X0hGN8pSlFn3zDgi0gaYRDof56KOPsFksHBcfjxAMHuwWuyESDNBeV4sGJGRkYrR0z4KORNoIBquQRAMWSyGSFEuEjCpRmlwulIiKz9BOnNlJgiYgmJzodAdxYsthcJXz7ntzOeO0k1CdBURcPkK7dnHascfyweLFPPKvf3HSVVcxZMrx+IUo0y86FafRyYK3F9Fn5DHUNTYy6rxzue6RR5CcTohGUQMBwmVlnNCvH3fedBPTpk6ltbX10DcsSsxdsooZ556BOV5GZxVRAwEWfvopx/Xug9zejqaqXH311TQ1NTFmzBgGDx7Mg/c/SJ4jj9mPz8blcnHV1VcxePBghg8/qKjpEcdR6ez/j+GL+PjL13/hm7pvuKjvRdwy7JbfVZLM4aBqh4sFz20lNc/BKdcPRm+MXb8WieCZ9yaOnbfQvsdMe9sQ4i+8ALmhAd/KlYTLYqN9fW4OzgkDSTQuQfBXI0z5J4y5DkXWWPneLkpWNZA3IJHJl/fDaNZR4irh0kWXkuPI4fVpr2PVHyjf8J/CG4ry1ppqXtrwGdGk17CqvXjwmCc5vnd3snYHohz7zNe4vGFOPKUnz40sRKhaDa+fCFPug7HXo6gK9625j4/KPuKCPhfwl4HXwpcPIWx8AU1wIpz+CMLAc7qcng0NH7Oz5FaSEu9l5aJ2lGAFcQQZWphG3xw7ukAzyzt2MitcQ5kgI+szmRyO46mqhftGkDozn4gnsiWczbFfryC5oRlBr8M6dhz2aVOxH3ccksPRTbI56PPiaW5C0uuJT8voVAGNIZaD0EQk0oJOZ8NszkEQJGRVpjXYijvgIS6QiqZXSEi1Yejs9InPi5HjvoYg2AbuOjQ0VH0ysi+C4vOhiSIaoOoltOQEIppMRI3g0QJogkaaOZV4c8Ih/WuapqGFQiheL6rXi9pJgoJOh2i3I9lsiDYbwqHqPAc7oKOKUFhm7OmXs/qDj1DDIQSdDik+AV1CPIK++4BA1VTqffW4w24SzYmkWlJ/kf/v50pnHyWF/09R56vjuqXXUeGu4I5Rd3Bur59fNOW3Rn15B589VUxcmoXTbxqC0aJHDQbp+OBDXK++SnzKbhL7+PANeRrbKRd2+0FGauvwrVyBb+VKAmvWghoi8xgv9gw/EedohPNeRpeezfaVdXz7fhmOZDMnXjOA+DQrq+pW8aelf2JU+ihmHT/roIqkvwRt/givrapgzupK/EI51txXyLUX8N6pcw4gn7CsMOW5VVQ1eDlmSj5vH9sn1im/Nh3aK+H6zciSnjtX3ckXe7/gygFX8mdLESy8FcFdi0+dinHmE+hz9pl0FEXm21WT8ftCrFs3FVExUpjZnzMvPgGzpbs8iSsSYdKyOUjtH6FE6uhjy+FPaROYINjYtL6cz9qd9N2+g9Ge7STkteFvMuCpdyJ7FdDpsI49Bu9VV9F30CACPg9elwuD2Uxcajrift/T/jkIen08JlMGGrE6Gy2BFlRNJTGSjiTriU+3IAgqgrsOIewm7MhHVTVURUFTZNSQB1WOoqgSUQFkUUORNBRx36L+wDaiUwRsQR2SEjMdxVRIjbFsaqMBnd4Qqw/9A2iyjOLzxQjC50NTFBAERIsFyW5HMNvQIiBa9YiGzvuNBqGtApQImjMLVTOhuFwoXi8IApLTiS4pCXE/PShN02gMNNIWbCPOGEe6Lf1nZ1EfJYWjoLi5mBuW30BUifLvSf9mTMaY3/qSfjZaqr188vgmLE4jZ9wyFKMQpv2dd2mbMwelrQ3LiIHk9Pwaek9FOOf1H21LDQbxr1mDb+UK9BVzScpvINimp6VpFOaxU/EWjWX50gCqrDLlin7kDUji47KPuXv13Zze43T+ecw//6MIrUZ3iJe/2cs7a6sJRhUm9FXYJT1ElpTDHVkP4K6I4qr1YbIZsMUbscQZuHtPHbsaPPQcmcbH0wZiteih7MtYLsZJjxMZehF/+fovLK1eyvV9L+XKvcVQ8imqvYjW1isxTzsR+8RYBJCiKGzfvp3iLa+RlfUZu3YcR7TueE6ecSyFg1MPes3X7azik+Z2Fg7rQWXzcp4rfo5aXy1F4UQym4vo2WrloqnTcE6biuCph23vo21+h9DuCjy1NrwNTgIPPE5RaiqyKILVgjUjE7HbDCGWgyDLPozGFAyGFNwRN83+ZhQlil01YwhLqFEZQdBiWkhAsslPWJVol437OvtunX/3exE00CsCBoMJo86EQTJi1Bkx6U0ImhArYhMJE42EY9vh8L68FQF0+k6iMMbWOoPxB7kUGmoggOr1xjp4jIimuK7ZmWjTIzmMMT+YKsdIPewFSxI4M1EjURSXC7mjA1QV0WpFl5iIaI/pMmmaRmuwNVaN0GAny56FKMRkPw7nvTxKCv/HsWDvAu5adRep1lRmHT+LAueBoY2/d7Q3+pn32CZ0BpHTZhYSmf8e7W+/jerzYR0/nqQ/XoUlvBq+vAuuXA6ZQw+7bU3TiC5/Bd03d6BFNWq+dhJs1hNJK2BbvytxK3ZGTsti+Gk9eW7Lc7yw5QWuHXQt1wy+5mffR2Wrnxe/3sOHG2tRNTijXxrHJUp8tX4xye25OALJABgtOpKy7USCMr72EG+bQuyJRrClW7lyl4pOBYNZwqbVY5Pa0A8cwxz9U2yPbuLPppHMLF+EoMmoo2+hadVopCQHKVcPQpAEgsEgr7/+Ok1NjQwduhgdKuGyWUy5fBC2+IMnlS1udXPJtgpuzUvj1vy0mGbSkkW8++G9vDVCxmcMMzCuPzeNuoXhafv1K5oGDcWw5T3ULR9QOv4FeqSkoUQlUDVAQLRZkRwOBLuFYKQGVQljMmUQFYw0+hpRQxEssg4pChqgiRLoJASTiCKoyESQ1TARQURjX98V6/jBgA6jyYrRZMWABDUNiLKKMT+/2wj8p94RJRrdRxThGGkosty1jyhJ6IydM4rO2YUk6lA6wmhhBSQVLdgOmgHBaAcBpHgTkkUfe07eevA1g8GKFp+PhogajSJ3dCB73KhKbMaFxQIGA5qq4iWAWwqiV0UcAQNmixVnyqH1qr7HUVL4PwpN03hhyws8t+U5hqYM5cljnzxo8tPvHZ7WIPMe24QalRnv2Ijy8Zto4TD2E04g8aorMffrB3IEnhoISUVwyWe/7EQtu+Dd89E6qghlXUTbDgn3qnXsTD+ZptQRpMuVjBkl8Ex2MZ81LeOfx/yTM4rOOKymSxs9PL9iD4uL68lVdRwf7yA9IuBpDIAGUTFMWg8HPftnkdUrnsRUI3JNNYbCQv6xrIw3vionLt/BBxP7oHlkfO1hfHt24tu1mTZnP95Om0OtpYybmyQuC1ZQHR7MSs9V9LFkkyIJlCZZkFIsWJx6Nlctp7W9gVyHnqxBszFFbmHMCdcgigcfYbZHZSauKyXZoGPhsJ4IjY003nc/vuXLKZ04gU3pKTjHO/nC9QWtwVbGpI/h/N7nI4kSITlESAnh8bWzccmnnD3uTxT2SAdVRtVA0URUFVRBQzWCCqBJyGjdMsq1Qwx+BUFAj4BRVdCLFiRfEF1Yw6AIGJxx6BKTEDuzpzVZJlJRiRqNYMjLQ7L85/pWqqJ0Iwm5c2ahaRoGyYxVF4ukiuoiCCYJnd6AEgygegLodHZEUY9ClIgUQVFlVDmCqshomsCP9cICMS0pUacjrNdo1/nRoyPDkILN8dO/8aPlOP8PIqyEuWvVXSysWMiphafyjzH/+F0qmv4U/O4w8x9bT8QdZMimx5H99ThPOYXEK2diLNhvxrPtffA2wGnP/vKTJfeCK5chzLsSc9lrZE68hIwHFpG7vYRNn5SwtSWHxSsbOH3nBqrPMXDvqn8glVdx4riZ6Oy2gza5fo+Ldz4vo3WvmzxF4jrFjKCBFAhjybexvedGthq+497T/8bIzBFEamvpeP8V9sybh9LaSjAlnWDSENJHTOCzS0eTZOw0tSgy7D4Ld0+Ja3O20NBWzsMtLqYLFtrGPUPYcQLDdrXj2NFKY7wJt6zh29FKk7aDkKURu7snyf3fQielMuaEmYckBIC7yupoi8q83S8X7+tzaJk1K5ZIdv31bG1pZnD//px1/Fn8Sf4T7+96n1e2vcL1y68/sKEUOFmn4RJURJ2EgICoqQhoaEKsoxNkAU3V0CEgaAI6UUJvNCHpjUT8MpoKVrsJo8GAUTKi0wSE5h2oEZGIL4Aggi4hDikpDWF/c46iEKmqQo2EMeTmHhFCgNjswGi2YDTva09VVOS2IIRVVFElRIBIKIjqV7ofHHVhkqyYdTZMio6IFkQxSgiChhjxIGoKojUBwWRHFCVESYr5MsJhFFcbiscNCNidDuzWNGojzbjwYOPID/yOzhT+x9EabOWG5TewtWUrNwy9gSv6X/E/laH8PdzFO/n0xd34ZSNDdjxP7rQRJF5xOfofxr6rKjw3OiaAdvU3XXbbXwxVgWX3w7ePQ/YoOPcNsKdRvcPF4pe3gSzTV13Kw/mfU5kCGS6Y3pzOyenHkzJ8Am5nAes2tbJraws2n4KEgCZAcq6dvL6JZPaKJzHPws3f3Mjq+tU8Pv5RRu4RaX9vLv5Vq0AQsE2aRHmP/jTP+4KBrXtAp8M+ZTLx583AMmokQvHbuD77M3/s0Y+9kQ4ea27luD4zYPI/wByP4ovQ9MRGpHgTKdcMRpCErqSykcPH0KvQSGXDFfQsuovs7EsP+SiWtLq5eFsF15thxr/+SbikBNvEicT99XZemT8fgKuvvrpbYZxANMBO106MkhFvXQMrZ7+IpIqcdt1fULDSp0+frvcxHG4jHK5DVQTCbgOaIiBIKhZNQB/R0KJRQCBgS0MR9DgTjRhtRtRIBKWtDc3bisEaJeqXEC1mxLQ8BKl7EICmqjFC8Acw5GQjOQ6sUnekoIZk5PYQqBqSw4ho03fdqyLLKNEoQqcCrCBJCIKA0u5B8UYRJCOoMqJDh2Q3IbRXQsQH1hRwZBzwXquRSIwc2tvQVJWozYQhPgGT86eLIh01H/0fwu723Vy39DraQ+08NP4hJudO/q0v6WcjsHkzTS++yreeIXhtWYzPrqDP1WeiS04++AG7FsK7M+DM2TDwnCN3Idvnwfw/gckJ570NWcPoaA6w4PltdDQFGHZKGpUs4P2aRew2NiIpEoWuQfRpHk+aJw9F8WLPtjD2pAHk90/BYOqUZdBU/v7t3/lu82fc6xpPxvKdyM3N6FJTiTvnHBxnnsl7TTL3fLwdQSfyyUmZpC75nI5PPkF1uzHk5RLNruQvI0UadAJPRiyMnT4LckZ1Xbrr7RKCO12kXj8EfaqVkpIS5s6dS9++fTnrrLPYuu0KvN4djD3mayTJfNDb74jKTFxbgqOjnWf/+ifMCQmk/v3v2E+Ywrx589i+fTuXX375IeUryjes5YunHsEaH8+Zf72XhIxMSkpK6N27N+GAn3CoCUEfQI2KBHw6NJOBRKsDk+yHYEdMbwgDHjmVKAZMwVbCgkbAZEWQFXSqTKLJi16UiTpy0FvjD5jxaKpKtKYWxetBn5WFLi4OSZIYMGBAl2LrrFmzOOaYYwCYM2cO999/PwB33nknl1xyCcBB5bMBXn/9dTZs2MAzTz/DYw89wqtzXkOn05GSmsKrr79Gbm7uj7YLMdmNPXv20CengHseegBRlNBJIo8/9ggTR/UBfyuLvtnMDXf/C0VRmDlzJn/961/33aOioHR0ILtciFYrhsNIGDxKCv9H8HXt19y28jZsehtPH/80/RL7/daXdNjQNA3/6tW4XnwJ74ZNbBtyPe32Ak64uAc9jjm4hHMXXp0G7jq4fhNIRyZUtAuN2+C9P4C3CU55Egb/gUhI5qvXdlKxpRWdXkSOqrgsdRSnr6YiYR2yLkJmh4Gp60KM365ikyxYhg3DOnoU5uEj+HDNy4ifLWXonpjJxDp+HPEzZmAaO44FJS08vrSMqhY/gkXHq5eO4Nic2MhPDYXwLlpI6ev38/dJYdwWuG9HOhMuuA/ziFFdI9LA1hba3inFMTUPx7HZ1NfX89prr5GSksKll15KY+Pb7C67j6KiO8nJvuygt61pGtcuXcOnGHjukbsYNWEsyTfegGSzsWXLFj7++GOOPfZYJk6ceNDjixd/wbLXXiS1sAdn/OVuzA4nTXvLaWhrJzM5CZ05hM6sEI6KBDCR7EjvXsNCVdFCbjztUdyKCVkMEUCPioCkaSCAhkZfoZo27NRrsSxunSiilwT0Umwt+n2IAR+m+DhMcU70kojDYcfn8wGwePFiHnzwQVauXElbWxvDhw9nw4YNCILAsGHD2LhxI/Hx8WzevJn4+HgmTZrEhg0bupHC+rXrefIfj7D86xWMHjcGe1o8L7z4AitWrGDu3Lk/2i7AJZdcwvXXX0+vXr2wmEworX62btvJH665hK1fLUe0qfQefgxfvv8yWf3GMOKYCbz77rv07dv3gO8MVT10XsR++J/wKQiCUAl4AQWQNU0bLghCAjAXyAMqgXM1TWs/VBv/V6FpGu+UvsMj6x+hV3wvnjnuGVKtBw8r/CVQFTUWb/0jdudfCk1V8S1bRuuLLxHatg0xJY3y0x6ird3C5Mv60mPUT0RSfC98N+1fByUENRJB0Ot/ufksbQBcuQI+vBQ+uQYatmA44X6m/3EAm5ZWs3lHC1+3edgcSiBTmsFfB92CYCtmXvmHvBq3g7dPMHKsL5MpX5eT9eg3CMAIQNGJWMeMJuGyS9GPHsPHm+t54elVVLkCYNPhGJrMvBMH0GM/XSGxrYS2pkf5+ykBgoLEo3XHkL5qM1WLL8PQo5D4c8/DNnk6HfP3oM+0YZ+Qhdvt5p133sFisTBjxgz8/i2UlT9EYtxEstIuOOgtR2rr+Gj2HD6eeCKXrvuaE/79L8wDBgDQ1tbGF198QU5ODuPHjz/gWE1V+ea9N1g//0MKho1k4gWXs235l+z8ehltdTWMu+42dI4QOp2CX9NhtWWS9IPyl4qq4Q3JuDw6ApqAJqroBANxQoA4zY1VCCEIAqopDjGkYXEkkSWYiSoqUUVFVjQiioo/pKBgAEsChIGmWDlZVYPdTV70kkhFfQsWu4M2f4RPPvuC446fjN0ZB8Dxkyfz+YIFzJhxPv0H7pOA+f48aBANRFGCUWRVY9LJJyAYJWRNY9iIkbz55ltEFZUvFi7k+MmxdgVg8uTJLFq0iPPPPx9N0yguLmbo0KFdz0BMcxIqlREEAUHnYPXKrynIySc/OxPBU8mMs05j/vz5B5CCIAhwGITwS/BbOpqP1TRt/xzxvwJLNU17WBCEv3b+fftvc2m/X7y09SVmFc/iuOzjeGj8Q0e0alhLtZfPnikmGlJIyLSRlBVbErNsJGXaMJh/2euiyTKeBQtofeklIuV70Gdnk3rvvWzw9qFuQwsTZvSk108RAsCqp/YJ3+3fvqbR/uabND/6GILZjKlnT4y9e2Pq3Qtjr94Yi3ocdjgi1kS48GNYciesfR6adhA8/RX+ubuWLY0dDMpy8sSxfZnSJ7WTOHtwbu+z2dGyjW8+noV1yWoydssIQFk66OMT6OGx0LZ2A283SXzUsw6X0U6mFZTBCfTIj+O9wT1I/d6pHPbC8gfZtekVrkpLBgReHX0vvfqehXxdO+6PP8b98Sc0PfggTf96FF3mcCzDC6n91yI+CQUJAydWVVN/2VnUX1iBGNbQ37ya3coIjEVFGHv3wtSrN4YehQQ3baby7Xd44Pb7KYoEueemqzF1irQpisK8efMQBIEzzzyzSwL7e8jRKIuff5LSVSvJ7jeQaCjEa7dcA5pGUlEPQpOTEK1RdDoFRXLy4lIPJQ079h2vaiiqiqzGSm8CSIKAXicifT8g0dRYXL+oA6Ut5k8yhLra6Jvh4B+n9CPa1ITc0YKYlASJyZ0duUZUUQmHgpx+/FhC4RAtTU28/N58atsD7CirxBSXQkmDBwCDI5nikr0M6vwbYoSwu8lLSzT2TBpDUTrQKFNlaNsXnvr4rBcYOvZYSho8FJfsxejc167ekczGnXsY0uChdPsWCnr1o6YtiCQJLP7iUx66925aW1v4YN58IlYdNa0uMjPziPid6E1usuL0rN2+OxbG+l/yFf6eoo9OAyZ1bs8BVnCUFLphfvl8ZhXP4pSCU7h/3P1HtOB3c5WHT58qxmDS0XNEGq11XvZsbmbnt/Vd+ziSTCR2kYWdxCwbjkTTPnG6H0ANh3F//DGu2a8Qra3FWFRExqOPYp82lW8+2EvZhjpGn17AgElZBz2+G1p2w64vYOLtMSXUTig+Pw133Yl34SKsE8ajT88gXFpKx7x5aN/XARZFDPn5mHr16kYWupTkg88qJB1MfxjSB6J9diP+WROIBm7g6fNP55SB6d2OkVtb6Zj3McYPPmBiTQ1ifDwl09OZlb2LpgQBs04m1ziAst396PCkMVTr4BhlBx+OOZ4Be3fz8N1voAweRNuggejaNmB1fcBOfYg/pqVhCGn8c5Eecc4zlLrvRwvt6xCl5N6I1hSiVavwVH+Hz2olvncvhgDxBj3153agWQUKGs/D9udC5OZmQrtK8S1bjvujeV3tPHfpNbTbnTyzZzORZR7E3r3Q5+SwcuVKamtrOfvss4mLi+v2eEJ+H58+9gA1O7fhSEqhZsdWnKlpDD39DDYl1vNWywfMTAogCRdiNGVjNMQB25FVDVlRUTprMAuCgE4QQAOdKCDpf5h1JnZWVNNiAQEHmR3KLS3ILS1I8fHoU2MyEEb9vhG02Wxm5/atAHz33XfMnDmTjcVbiLcaCEoqmXGx2ZnDrMNsNnT9DSCJAqkmPfGdv7M4gw6bUddtn/ffe4fyHVt5fNGXGI1G7CYdRlEhM86MBthMOoxGHVajjm9XLGXCcVMIRmXksMbwiVP5aNlUNq5ZxZ133cVL735Co6biAXabHIg4qFcT8UQrqWxoQTJZ0Ykx0pREAZNewmo88l34b0UKGrBEEAQNeFHTtJeAVE3TGgA0TWsQBCHlYAcKgnAVcBVATk7Of+t6f3Osrl/NPavvYXT6aO495t4jSghNlR4+e7oYg1nH6TcNwZEUe+k1TcPfEaa11kdrrQ9X57pia2vX6E5vkkjK7JxNdM4q4p0Cvo8/xPX6aygtrZgGDST1jjuwTZqIIIp898ketn9dx5ATchg69Sd8CF0P4GnQmWDkVV3/CpeVUXv9DUSqqki+5WYSr7iiS5JAU1Wi1dWESncR2lVKuHQXgeLNeBYs6Dpeio/H2KtXd7IoLET4vtjKoPN5fofEGbv/yqeme9FFjBA9H01vJrB2Le1z5+L9ailEo1hGjiT5xhuoGJTCAyuuJdM0hP7SGXxV9xkl1hUImV8ysHdvUtJP4oPABCbbjDzqkFD69kLeuhi96zXsWSG+i1q4ITMNR0Dg/i+CZGaMQeqfgxQXh+R0IsXFIVji8G8wI9p0xJ9xO+tffxVp6VKGbdyEYLEQGp+JHGijz4THSJ9yetf9Kl4vzY8/Qcd77yE5nRSfeS4LR0zg4jUrSHvzZepUFYCWrCy+GXsMPRHI3LaNQCSKsWdPJJsVT2sL8x76B231ddgTk/B3tHHCn25kU0Idd21/mfjWdm5O0zDrHOj1yQSiFho8fs4als2ZQzX0kojTrMdp1qNTNdzNQfQmibhkyyEHF/hbwV0DSb3AsG9mLLe1Ea2vR3I60Wdk/KTZcMyYMbS2tuJpb6MwL4cVK1aQaIvlNbQ1NzJp0qSuvzVFRdTAEVJJiNehizdhtxkw6aWufb766iue/vcjrFy5kpTEWJRTr8K8bu12tMTazU6wsGHVCv720Uckdu6raRqKqtHztGnce+t12LUgA3oW8MUHb5NkNhANybQ2NpGSkkFEBSUQQhGkWB4gEGc2/Cqk8Js4mgVByNA0rb6z4/8S+DPwqaZpcfvt065p2o8G4f5fcTTvatvFJYsuIcOWwZxpc7Ab7Ees7aYKD58+XYzJquO0m4bgSDx4dMr+iEYU2ur8tNZ6Y0RRFyOMSKgzNltTsQRbcBqDpA0vIn1Mb5Ky7NjijWxeUs13H++h3/gMJv6h1+HZ/z0NsWS1oRfDSf8GwP3Z5zTcfTeixULmv/+NdfSon2gkBsXtJrRrF+H9yCJcVoYWicR20OkwFhRg7N2LjbokXmvUM21yL/4Yehqqv0MVzHjq43BtlpGFJOJOP524887FWFDAno49/GH+dURcEwi0DSKiaJw0IJ2Lx6aw27+SZ7e/gy9YjSRZODv7OM6LChSVLAZXOZrOzOqhM7ix7VvSzCm8XLaFtKLpcNbsA+7B9W4pwe2tpFw3hC21O/niiy8YNXIkk7KyaHj9cYJfrkGMCpj69yfuvHNxnngivm++ofGBB1BcbcRfeAHGa6/juJ01OHQSS4b3RB+JEC4rx71zB2+VlCBEo0xdthypfZ9bL5Cfw9o4E1FAbzQSVWSs547hw8hS6nx1nJXRg2FaNdvbx1DqO4eL+tpJyS7oRgQWQyw0MxpW6GgKIOlF4lItP+7Dai0DJQopfbpMKHJHB9HaWiS7HX129kH1iSBW8P57R3NpaSnjxo2jqakJt9vNsGHD2LRpEwBDhw5l48aNJCQkoAZjoaY9R/Vj7TffkZIbmx1+H300a9YsNm/ezNlnn82iRYsoKirqOl9bW9tB25UkiZNOOolvv/0WgPLycgoLCxEEgU2bNnHKKadQW1uLoij07NmTpUuXkpGewYjhI3jjqdn07dULiWZEfESFOEjMQNDr0Us/PTj8n3A0a5pW37luFgThY2Ak0CQIQnrnLCEd+PW1i/8H0Ohv5NqvrsWqt/Lc8c8dUUJo3Ovms6eLMdn0nH7zUOwJh2d31xskUvMdpOZ3ZnA2N+N6bQ4NHy/Gq0skMmA8oX6DafeKbN4cYvPmbUBMziEckCkakcqE8w+TEADWvhCzLY+5DjUSofnhf9H+zjuYhw0j8/HH0acedFJ5UEhOJ9aRI7GOHNn1P02WiVRVESot7SIL1zerKWp38SDAatidnIhRl0pcngdnTiNxJ2poWYUIIwsgO4M1VZVc+f5HeF3XoBN1nDU0iz9OLKAg2UZEVXmtZCwtcbn82byQRtdXfLz3M+aKAoPtBs7tew2G7NH8be0/yXfm85KYRWJkLUz62wHXH9zeSnBLC44puVT7G1iwYAFFRUVMnTaNYLCC6tM2YT2tNwXVZ+B+/yMa77qbpvvuR4tEMPXtS/Zzz2Me0J+bS6tpjkR5rX8+RlEEkwlT/358XlpCQBS5/JpryLz/fuSGBkKlu6j47hu+3baekBRCkkWCkQiLRjXjaisjvyOB06WT2bglgTddl6FoEplxCjajjsJkWxcRfA85qtDRHECUBJzJ5h8nBCUai9+3pXYRguLxEK2tQ7RYf5QQIFYmdPDgwbHvWdOYM2cOkiSRkJDAXXfdxYgRsYJKd999N/Fx8cjtIZ5+5mkef+EpGpubGHLMcE488URmz56NLMtd9aZvu+02fD4f55wTC4vOycnh008/PWi7CQkJfPjhh0yevC9k/KOPPuKNN95Ar9djNpuZO3duzJym0zFr1iymTp2KoihcfvnlDBw/DKU9hBJNQyWIjiaU2l2xZ5J25IJMvsd/faYgCIIVEDVN83Zufwn8EzgecO3naE7QNO0vP9bW/+8zBU/EwyULL6HR38ic6XPoGX/kCm007nXz6dPFmO0Gzrh5CLb4w3TE7odIbS2u2bNxz/sYTZZxnHQSiVfOxLRfQZBIUMZVFzM7tdb5MFl0jDy1AOkwRjhArObyE/2hx2SiYx+g9sabCG3dSsJll5Fy800HyA0fCawub+WS19YxLkXHE8OsKGVlhEtLEZ0O4s4+G1NmAhS/DRtfh7a9eEUH70bG8a46kUFD+vOXKcPI6LQ7+6Nhnl7+Pj3LP+FU17folRAkFNLR/wzmO+y8X/0l1d5qABwGB5cXnsmkpY9S0O88hFOf6nZdij8aS1JzGOCcDF59/TXi4uK4/PLLkSSZ9RvOJBptY+SITzGZ0tE0jeDmYtyffYqxsAfxM85D0OlY5vLwh617uT4nhTsK98l1b968mfnz53P88cd3izZa/tX7vLnsWfx2jcHbbQR1sHl4JtZIfzrakihT7ChIJIsuJlTsZIpDYdiwnrSMGkmfgQO7RxvJKu2NAdA04tIs6PQ/EUHjawFPLST3Br0ZxecjUlWFaDJhyMs7rJDMw4EaVlDaQ2iyimg3IDkMBwxabrrpJoqKirj22mt/dvszZ85k5syZjB49+hddn6ZpqL4oiicCmookuBCkKGLaT/cJv/s8BUEQCoCPO//UAe9omvaAIAiJwPtADlANnKNpWtuPtfX/MylElShXf3U1m5o38fzk5xmd/stepoOhobyDz57ZgsVp4PSbhh5SGO1QCJeX0/rSS3i+WIAgijjPOIPEmVdg+DV8PKuegi/vJjDiSWrvewktGiX9wQdxTD3hyJ8L2NXo5eznV5MeZ+KDq4/BaT446ayraOO5ZbuJ7lnBBbovmSJuQo8K+RNg2GUQn09o6wf4i+eSGG4lbHRiHHA2DDofsoYTVWXe3/0+L255kfZwO9n2bGRVpsHfAECiMZ6R6aMZmT6SUWmjyLJn0TZ3F8GtrViu6MmcT99GURSuvPJKHA4H23fcQHPzQoYMnkNCwjGHvD+PrDBpXSk2SeLLET1jswRipStfeOEFMjMzufjii6nz1bGkagkfF79HpdJMcl0BKdUDqLfn0GTMIKJoiAIUxLXQM24z03olMzE6guDaDQTWriVcVkb02Vn0TE9HtFoRrVawWHF3KKiyRlyqpas2xo+iZTdoCqT0QQ0EiFRWgl6PMT+/m7TFL4WmaSieCKo3ApKILsGIeBA7/fTp04lEIsybNw+n03mQlv470GQVuSOMFpIRDBr6lJ/O2P7dm480TdsLHFALUtM0F7HZwv95aJrG3avvZl3jOh4c9+ARJYT68g4+f2YL1jgjp980BGvc4RNCcNs2XC+9hPfLrxDMZhIuuigWe5965KewAMhhtDXPE9UXUnXroxh79CDz6acw5uf/KqdrdIe49LV1WIwSr1028gBC0DSNlbtbeHZ5Oesr20mw6kkuMHC76ME65kUm1u2EDa/Dh7EkMQMC6+KHYTv2foYOPxN0RjRN46vqr3hy45NUe6sZmTaSm4ffHEs+bNlN7UvHsL7vdNYmZbKuYR0LKxcCkGZIZUBzPsNHjqJx2TqCgSCXXXYZTqeT6prXaG7+gsKC236UEADuLa+jMRzl82F5XYQgyzIfffQRgigQ6hPivM9nsKPBjeIvRHRPRw7nU4GBinjolWLl7ByNHOMCMg0Libc5Kci/ifT0sxAEAeeUWJlJubWVXdXViE4nqt+P4vURsKSgiAZsoh/BF0HFhmA4cETehWAHRP1gT0cNhYhUVYFOF5sh/AeEoGkaKBpaVEXxRtAiCqJFjxRnPKSze+HChb/4fEcSgk5En2RGDUZ/tRDV31NI6lF04pnNz/D53s+5bvB1nFJ4yhFrt76snc9mbcUWZ+T0m4dgdf40IWiaRmDdelwvvoh/9WpEh4Oka68h/qKL0MX/uiqsyprXkbwNNK5IwHnquaT94x+IR0jc7IfwhqJc+to6PMEo7189plvYIcC3Za08tLCEHfUeMpwm/nFKX0rlV1m6dx4vZU5nzMb3Yc8y0BQi8QVURgUKfRVMaN8AZQ5w2iiOT+ffm56iuKWYQmchzx7/LOMzx+/rFJffT5ZgJOuEJznDmoimaVR6Kllb/R1ff7uEtY7tfOleAwZIL0xHqVLo356E1PAUeSmTyc09sL7z/ljR5uHthjauy0lhqCMW1lvhruCDzz+kvlZhtbWdtq8kCM5AlmPvRpIQJM1TxtBUA5dcOgZP+/O0tX2DwZBMXu5tZGTMQJIOfI90SUmILS0YMjNj9ZWbAihhBasYRAx4iXpiRgBBp0O02hBtsdmE+H0x+4gf2qtAb0HVO2MzBEHAkJfXrSbDoRDL+NXQZLVziZEAsorWmYwGgCggJXRKWv8PQTzEDPZI4Cgp/M7wwe4PeHnby5xVdBZXDbzqpw84TNTtbufzWVuwJ5g47aafJgRN0/CtWIHrxZcIFhcjJSWRcustxM2YgWQ7uErokURwSzHi/LuJRvXY//gQcTPO+9WE/qKKyrVvb6K82cerl46gX0Z388Cba6r4x/ztZCdYeOSsgZw+OJ2Pl9/CyK0f8M+QjLHqZXBkwtgbKCk8jbPqYqqgHxaY6LP7Q6qK3+Cp5TfypdVCkmjiH4Ou5/SBl3UvNl+/GXbOh4l/jSXQEYvjz3fm49wZYVxNDttHeli840viB8fTYmphQcUCPoj6AQM9fI2MCv2LkWkjGZ42HIehu1nBKyvcUlpDkcXImXEBHvz2ZRbu3ENbUxKKvwchDBCBFLuOLLmKxOZSRufH0bF9HX2O70fGqDYq9zyDXp9Ajx5/IyvzgkPqKO0PTdPwukJEwgq2BBMWuwNNS0GLRFD9/s7Fh+LuiN2zXo9kM6ETOkDUoTlyiFRWg6ZhyM/fRxrft690dvidnT/7kQD7m8aF2CgbvYho1iHoRASdgKCXDh0K+38UR0nhd4Sva7/m/jX3My5zHHeOvvOIdYK1u9r54tkt2BPNnH7TECyOQ8tqa4qCd/FiWl98ifCuXegzMki9+y7izjzz8LOC/wNomkb7u+/if/1uso8JERl5D/EnzvhVz/fXj7bxTVkrj549kAk99wnxqarGo0t28fyKPRzXO4Vnpzkw73wD7xOzOS/QRljSYxhwDgycAXnj+abDz6XbK0jQS8wdVEi8GOAhs8b7CUb0gplrcXDJ3mIse/8CO76E4ZdD0RQQpZhSqzkexvyp2/UFd7oIbG6mekCYNcXrOHbosZxy4ilomsyGzRexs3UbwaSLKG6r4KPdH/F2yduIgkjvhN6MShvFyPSRDE0Zyp827qaxwk9C03ZO+syKJmcAGZiFKLmmIBdPHcyAOJU1zz5IwN1ORs8+NNd+w+AL9WD9ELfbQUHBzWRnXYJOd/iDAn9HmJA/isVpxGKPvXeCICAYjbHaBwkJsfrH4XAnQXiR1HYQNMIdKlpbRayOQlYumiqheMLdSUDt7hMVdCLoRESj0NnxxxYk4X9SPfi3wFFS+J1gR+sObl15K73ie/Hvif/uPor8D1BT2saCZ7fiSDZz2o0/TgiBTZtpuOsuInv2YMjPJ/2hh3CefNKvEuFzMKiBAA3/uAfPZ5+Rf4aGZs/EMPXPv+o5n/iqjI821XLj5CLOGb5PATQiq/zlwy18UlzP9QNVbog+iPD8KlSibLUYqOgzkfNPewvBFBuRf9bcwZ92VlFgMTKnXyZf7nmTV7a9QkAOcFbRWVw7+FqSzEnQUQ2b3ogt754H9gyIy4aatTDlPjDtG+GrgSjtH5fRkhTkqz1ryM/P56STTkIQBMrLH8XrXs+0QY+TlnYaEAtO2Nq6lXWN61jXsI43d7zHi99uJ9JRiRaKRw8Edcn0yxSZ3jcHpaKE9qpSrrxyJpqng08evQ9BFMnom44Qv4A+x3iRdBays68jJ/sK9PqfJ0MdCckEPBFMNj1W56HfO0EQEEwmRIMe1Fa0KKjGbERJB4oAiChuhZhUGiDFRvn7Rvwi6DpJ4GjH/x/jKCn8DlDrreXapdcSb4znucnPHTE9o5qSNr54bitxKTFCMNsP/sNUAwFannqKtjfeRJ+eTuaTT2KfMvmIhfsdDsJ7K6i74XrC5XtIu/oUTB0vwrhHYpITvxLmrq/m6aVlnDs8ixuOL4qZzNpd1FTVcvuSOirbA7ximsP40t00R+5A4WYAMkNRMjugetsGBJ2AV69DJ4rM1kNDwjdcVvIhLbg4RhrONY5LyHfnIawO4NXXIuh1CI4rESbMQNryJLq6T5G8a9EEEcHZXZa64/O9tPvdLBY3k5CQwLnnnoskSTQ1L6C65hWyMi/qIgQAvaRnWOowss39CDQdR3FVFeFAFOw6jHkGXhifz8T8XERRYOPGjXxWuZMpU6bgq6lgwTOPEZdpJbF/Heb0NQiCntzcK8nJuRKD4ac1+3+I3esbCYdljJk67AmmH+2sNUVFDcsInmoENYCspqEFjSAKiGYJQS/t6/R14s8y9zQ2NnLjjTeyfv16jEYjeXl5PPnkk1x//fWsWbOGcePG8fnnn3ftf8EFF7Bhwwb0ej0jR47kxRdfRK/X8/rrr3PbbbeRmZlJJBLhpptu4sorr6S0tJTLLruMTZs28cADD3Drrbd2tfXUU0/x8ssvo2kaV155JTfeeGPXZ9999x2vvvoqDz/8MGeffTbr16/n0ksvZdasWQfcw6mnnsrevXvZvn37Yd/3f4KjpPAbwx12c81X1yCrMs9PfT42mjwCqN7pYsHz24hLsXDajYMPSQj+detouPMuotXVxP/hfJJvvgXJZj3ovr8WPIsW03DHHQgGA9mzX8ZW/SyE42HIhUf8XJqmEfR6WLZ2B3Pmr+Fce4Sx1Vt58/bZdDQ20CZLfJ42neNN23hb/zYGpQdN0adRBANfC8uwqiYyDWloIRnFH8XlTMXjSKNV2ciX1o+pkZopDGTy55arGRzsjSiAR6tGOGiNyfOA85CEBhL0j2H4cCZqWI807GSCJS7aNtXxZdwORFHkD3/4A2azGb+/nJKSv+JwDKGo6I5ure2od/PKtxV8tqUeWdGwpluJ9HMyLC+eJ/rk0MMSM/+1tLSwcOFCCgoKMLa3sHDeCxRMiWLJ3IamgU0/hSGj78NoPERNi59A9U4XS18vYeTFCTiSzAcQQowEFLTvF1lFEloQBS+KlILoSEQwSv/xyF/TNM444wwuueQS3nvvPQCKi4tpamritttuIxAI8OKLL3Y75oILLuCtt94C4A9/+AOzZ8/mmmti9bnPO+88Zs2aRXNzM/369ePUU08lISGBp59+mk8++aRbO9u3b+fll19m3bp1GAwGpk2bxkknndSV/bxo0SKmTZuGyWTivvvuY/v27Qft9OfNm4ftv+DD2x9HSeE3RFgJc/2y66nz1fHyCS9TEFfw0wcdBqp2uFj4/Dbi0y2cesNgzLYDCUH1+2n+9+O0v/MO+uxscubMwTpq5EFa+/WgRaM0P/YYbXPewDxoEJlPPoFe54UvDxS++7mIBAO0N9TT3lBHe2N913ZHQz0hf0z24HhAcIm4gmnEpWWgFQxhfX0Hr/IUA4S9VOlmIPrPp9bQzL3ZLyAmGHnzxDdJMiehahr/KK/j1b2byfc9h9tXTLKUwEzdafQKJePXN/O1ZyfetlbCfj8CIpKgiy2iDqtBjz0hHXtiBhZbPG7hLxS0Poj+00vx7Xqa9r15LLVuxxv1c8kll5CQkIAs+9m67U+IopEB/Z9BFA0oqsbSkiZe+baCtRVtmA0SWUXxlCbpccabmdUjgzNS4ro61+/DT/V6PSlKC2Xlz9DvfDcIKu27Exky+n56DJ3yi597U6WHhS9uJz7NitmmRxBjJTe1sNJJBHIsCghAEBCMEjq9GzHsRrMmIzl/umjM4WL58uXo9Xquvvrqrv99n90MsGLFigOOOfHEE7u2R44cSW1t7QH7pKSkUFhYSFVVFSNHjiQlJYUvvvii2z4lJSWMHj0aS2e03MSJE/n444/5y19i+bhLly7l5ptvxmq1Mm7cOMrLyw84j8/n4/HHH+ell17i3HPP/Vn3/p/gKCn8Rvi+Item5k08OuFRhqUOOyLtVm5rZeGL20hIt3LaDUMw2Q70B/i/+y42O6ivJ/7ii0i58cZfLdTzUIg2NVF3080EN20i/sILSf3LbTEhuvkPgM7cTfjupxAOBKjauomqbcW01dXS3lCHv6N7KQ57UjLxaRlkDjuGD8pCBC02rjg9lw5LO2Wecr7a3cgZe9bxprSKJsHCUuF2evvHsze1kcqJAf6Rej+DUwZj0VuIqhrXbt3E8vJXSfB/i2qwcuvwWzm/9/kH1saWw0TWvIp3+bP4PF68cYPwZUzEKxvxulqpd+3Gu8dFyOclTp/HjLwAll030hG5E5NOx/HHjSc7KwtN0ygp/SuBwF6GDJ6DLCTz2qoKXl9dSZUrQEaciUnHZPONVaVcErguO5kbclOx6bqbAJcuXUpraxX980sQk7aTnAOeiiRat2Zwyp8fIr2o1y/+TjuaAnw+awtWq45pp+RRF24i2hxAiyhI3/0DsW1nLApIFECMFWoWVBnkEIg6BJ2JWCmiw0TagJia7SGwfft2hg37Zb+raDTKm2++yVNPPXXAZ3v37mXv3r306NHjkMf379+fv//977hcLsxmMwsWLGD48FiuWGtrK3q9/ieT4O666y5uueWWLmL5b+EoKfxGeHzD4yyuXMwtw25hWv60I9Lm94SQmGHj1BsGY7J2JwTF56P50cfomDsXQ24uuW+9ieUX/mj+E/jXrKHulltRg0Ey/v0YzpNOin3gaYCtc2HoJWA9tBlN0zTaG+rYu2k927Z8w5aWrTQ5gnTEK5hTrDizncRb0kl2pJKSkIHRZsen+NnibWBh6TdE+jeCvoO/loBO07iwNYkXvKWYpQjb887F3n4pvZtU7MfnMP74cUzYz4bdEvIyY8WTNDV/ghWNC/teyFUDr8Jp/MEPXInClndh5SMY3DUk5hxD4kV3Qt7Yg95TyOejsXwXe9Zuo7DuYdIN9zM9cj+1n9Tx5jvXkTCmBXPeJmTtUp752sqHxUvxhmSG5sRx0tgc5gthFoUiTE508M8emRRYDgw5LivbSl39C4wcWYIoRcHfm70LdGjReM6+4z4Ssw5eavOnoMkq7p0utr2zixESJKDhe28X6qkxs4doNyCadWAQEfbv9DUF5DAIUkwB9+cQwq+Ma6+9lgkTJnST+5g7dy7ffvstRqORF198kYSEQ/ta+vTpw+23386UKVOw2WwMGjQIXWfC3ZIlSzjhhB/PyC8uLqa8vJwnnniCysrKI3JPh4ujpPAb4O2St5mzcw7n9z6fS/pd8tMHHAYqtray6MVtJGXZOOX6AwnB9823NNx9N3JTEwmXXUby9X9GNO+LM1dVlZ07d7Ju3TrS0tI47rjjuhVoPxLQVBXXy7NpeeopDPn55L4xB2Nh4b4d1j7fKXz3pwOOlaNRKnYUs6p4IRtq1lGta6ElLowvS4Es0AkSBXGFhOQQu8NN+KN7UVoVaP1BQ50DeZ2gwyEZiQv62Wmr40ZbFukZY7FUmbCrX5E+rZDkQoW41nacRicOg4NPKxbz5KbnUBU3fVKP44mxt5Fl/0EtCFWBbR/AioehvQIyh8OpT0PBsT+agWqy2cjpNYjVn9fwvHgyfzR8SpLuHlTdP0kyn8ea9nW8XDeKrb5eQDX91AbG5OrY0DuRx8Ne8s0G3hyQz5SkA0efsuxnb8UrVFS8QG5uGHelgwTLpWz5fB325BTO/uc/cSQdvqggxIg5UuHGt7aR4A4XyCp5moaYYsHaNxFTYRweuQF9Suco9+RHujcQDUHr7lgBnaSev0pAQb9+/fjwww9/9nH33nsvLS0tB/gbvvcpHC6uuOIKrrjiCgDuuOMOsrJi78rChQu5+eabf/TY7777jo0bN5KXl4csyzQ3NzNp0qSDmryONI6Swn8ZS6uW8q91/+K47OO4fcTtRySEbm9xC4tf3k5SVmyGYNwvO1PxeGj6179wfzQPQ0EBee+8jXk/u6qmaezatYvly5fT1NREXFwcNTU17Ny5k+nTp9O3b9//2NkXLi3Fs2gx3kWLiFRV4TjxRNLv+2dMD+d7hNyw4TXoezokxGQs9taVsHTTZ2ysXUt5pJoWewhVAnIgQXQyImU4w7JG0juhN9/Vf8dbJW8RVsIA2PQ2esT1INeRS7olnaU7gmytCTFjVCp59g7ady3A015JvWimxpyHwaRnd8s6vPYAqqBCFbHlB5CNvbl+5KNc03NM9w9UFXZ+EiOD1l0x08b5c6Hn1MOWIyh9fx3Lo1tJT+uJ6dwvEd46lQTvPdwg3MTClr7YEZiRYWZ4ciufqU6eSytElBUmbFzMmLLNdOQX8m1Rb9KLepFe1AuTzUp9w/tUVDxFJNKK251J28Yk+g08jfXzPyI1v5Az/noPFsfha/mogSj+jc341zUgtwQRTBJNOpEqT5QRl/cjc/A+57RQ0njwRpQotO2JPZfEwl8twuy4447jjjvu4OWXX+bKK68EYP369QQCgUPWm549ezaLFy9m6dKlB1Sb+7lobm4mJSWF6upq5s2bx3fffYemaWzdurWbb+NguOaaa7oc3JWVlZx88sn/FUKAo6TwX0VxczG3f3M7A5IH8PCEh5HE/zzkc+/mGCEk59o55frBGPcrmeldsYLGf9yD3NJC4pVXknTdn2IJQ8Q66z179rBs2TLq6+tJSEjgzDPPpH///jQ2NvLZZ5/xwQcf0KNHD0466aSuwuOHA03TCO3YiXfxYjxLFhOtqgZJwjpqJEnX/QnHyScfQDTh9bMpIcQqaxLr3jyb3eFKfPpYBy+ZBHJMqZySPJBxvY9ncPpQ0qxpaJrG4qrF3LnqThr9jUzPn860vGn0SuhFhnVf0ZWHFpawacde/j4llyuF+WiLnyKsCjwVOZ3+Y67lMdmKf00DxqI4Es7pRUAfpiPcgTvsptLXyicNtXzT2oCqT+PVkacxPsGx/83CroWw/AFo2h5T8zz3Deh9CvyMTqVxYyWf7l2OzWTlxHPOZfY2F0v8t/NM9C4eEv/NcUMfY4SrN8vCYf6Z2IMmg8BZqfFcbxdRzCOpT3HQUFbKuvkfoKkKjlwf2WPb0NsDRIKZ7CydhtigY+jgwayb/wE5AwZz2i13YDD/tL1a0zQiVR78axsJbGsBWcOQY8c0LY+VqxtorPZxwhX9yB58GNFKqhIjBFWGxB6g+3lijD8HgiDw8ccfc+ONN/Lwww9jMpm6QlLHjx9PaWkpPp+PrKwsXnnlFaZOncrVV19Nbm4uY8bESP/MM8/k7rvvPuQ5GhsbGT58OB6PB1EUefLJJ9m5cycOh4OzzjoLl8uFXq/n2WefJT4+ng0bNjBkyJBu739eXh4ej4dIJMInn3zCkiVLDqjJ/N/Eb1Jk50jhf0kltcpTxYULLsRhcPDmiW+SYPr5sd8/xJ7NzSx5eccBhKB0dND00MO458/HWFRE+oMPYh7Qv+u4iooKli1bRk1NDU6nk0mTJjFw4ECk/fISFEVh/fr1LFu2DFVVmTRpEmPGjOm2z/7QNI3Q9u14Fi3Cu3gJ0draGBGMHo192lTskyd3aSVpmka9v54tzVvY3LCRDTVrqAxVIXf+UGwBHTlKMoOSBzK+7wmM6jMJg667A3d3+24eXvcw6xvX0zuhN38b+TeGpg494Lre+K6Su+dv56Hee5jR9hKCp5YVxkn8zXM2N04by7ElXiKVHmwTsnBOy+uKga8OhnmupoV3G1xEVY3TUuK4OS+NIqvp+xuGPUth2QNQvwkSCmDSHdD/zFiG8k9Aiyoo7gihNj+1VTUsWb2UWkVD7T2JL0pcBKMKQzK8nBz/Cpc2lqFpEjeOeoEP1WR6+1Vu3R7imLwEnNPzkfaTLHG1rmNXyf0EozuIBB3s2T2QVnceZiXKsLwstixZQM/R45h+3S3ofiIpUQ3KBDY341vbgNwUQDBKWIakYB2VTlWdjxVvlSKIAsde1JvCIQeanw5Q59Q0aNsLYU/seZl+O7XR3wr3338/PXr0YMaMXy9L/4f43UtnH0n8r5CCK+jiooUX4Yv4eOvEt8hx/OcS0+Ubm1nyyg5S8xyc8udBGDoJwbt0KQ333IPS1k7iVVeSdM01XXox1dXVLF++nIqKCux2OxMmTGDIkCFdDjB32M07Je/QHNxX3ygSiVBTXUNHRwdms5nc3Fys3+cxaKC0uYjU1BKtqUENBEAU0aWkYMjORp+ZgWDsPhJ0BV0UNxXTHolFB+lkgRw/HKt1YBJHM2jAhQweNgmz/eDZs+6wm2eLn2XurrnYDXauH3I9ZxWdddBZ15c7m3j8rXk84XiX3qEthJP6cZP3DywLFPLyCX3p8W0Tij9KwtlFWAbHOrXd/hDPVDcxr6kdEYHz0hI4w2Jkwcod1HujxMXFY4q2Q90m8DeDwQbpg2NmkO9LpKoqakRFiyidS2xbjcTCMoORIH41hF8IEySCJmj4VSN1mhODJHLa4AxO61NLuPl6HBlX8LVvPBctvhgEgVWnz+XkwiEEVtTi/boWQRKwH5eDbpjKnqrHaW7+HFW1UVkxgPr6AjIysunXqyfu7ZvYuXIpg6ZM57jLr0Y8BHFpmka01odvbQPBLS1oURV9lg3byHTMg5JRBPh27m52rmogrcDBlMv7dZVv/SG6dUaaFiupGXCBM/tHAwmO4sjiKCn8zhCUg1yx+ArK2suYPXU2g5IPUA3/2Sjb0MSXr+4kLd/ByX8ehMGkQ25vp+n+B/B88QXG3r3JePABTJ1T0Pr6epYtW0Z5eXlXXPTw4cPRd44Uw0qYd0ve5aVtL+GL+Eg0Jx5wTlmWCYfDaKqKXpTQaSpaOBIzByAgGPQxPRtDLBN1f6iKgirLKIqMLqyR0CqR3GGkpymfEb3GMbb5aXRmB8LV3xzS/q6oCvPK5/H0pqfxRDyc2/Ncrhty3YFRP53YWlbJljdv5w/iEkSzk+rBt3Dmmh4g6nhrTA/sK+qRbHoSL+qLIdPGFm+Ap6uaWNDixiSKzEiOI6vJx+frKihp1wABE1EENEQ0dIKGJBkQRQNoGppKrOP7gRaPBmhoKKiogoYS2xEAURSRRAlJkrBZDJw1LJsLRuViEWtYu/5MVhlm8I5yCm5Z4TZrBzesuBxRZ4LLFkB8HrIrSOuCrdREX8OdswwNgdqaPjQ1DaaooA9Z8U7k9laqthXTsLuU0WedzzHn/OGgPiI1LBMobsG/poFogx/BIGIZnIJ1ZBqGrFi1P1edj8Wzd9De6Gfo1FxGnpL/o8WSunVG3kbwNsSqhTkyDnnMURx5/O7rKfxfgqIq3P717Wxv3c4Txz7xHxGCHFWo2dlG+aZmdq9rIr3QycnXxQjBs2gxjffdh+J2k/Tn60i68koEg4GmpiaWL19OaWkpZrOZyZMnM3LkSAydMwdVU1lYsZCnNz1Nvb+ecZnjuGnYTQdUeNNUleDmzbQvWEDb51+gc7tRRBFx6BAyzjob+/HHITliI/ugz0tj2S7qy3bRUFZKQ9kuIsEAACarjYxefcgfMYKCocNjES+lC+C9KpjyyiEJobi5mAfXPkhJWwnDUofxt5F/o1fCIeLpVQXXN7PJWX4f/UQ/kcGXsDrnj1w7r5JMh4nXCzIQv6rFkO8g8YI+rJMjPL1lD8vbvNglgbMlM/6yZj5aXE1EFbAJYSYnyJwX8pMbSGSv5KNSaqZR6AAB4lQrBbo0ejhySE5IQnIacOtD1IaaqXE3UNNUSzAcAiAxMZH8/Hzy8/PJy8vDaj0wOU+WfcxZ+wgva/dTGc5hTJyJB4qy6GszQ858eP1kmHMKysWfsLP+E5ozXgNCNDUW4qkYS3owFblxA5WbN1AJCIJIfHoGk2f+iUFTph9wvkidD//aBgLFLWgRBX26lbjTe2AZnIxoinUPmqax45t6vv2gDINZx6nXDya7z88wfwbaYoRgjgd7+uEfdxS/CY6Swq8ETdN4eN3DLK9Zzt9G/o3jc35+/SA5olC9s43yjc1UbmslEgyhRb8lGtyGqzKRT/+VgqGyGv3ucuLTMij49yMkjhyFq62dFStWsH37doxGI5MmTWL06NHdQkzXN67nsQ2PsdO1k94Jvbl37L3divloikJw06ZY1NCSJcgtLQgGA3Hjx6OMGslXHR3UtrWR3dJMn5VL8dRUUl+2i/b6WAaoIIgk5ebRZ9xE0ot6k17Um/j0jANHqauegricWNTRD9AcaOaJjU/w+d7PSbGk8MiER5iWN+3g0VCqCtXfIS/8K4lNW9lIH1LPe4ov21L45wc7OSbDyaMGO+qGZqyj09l0TDJP765irdtPQkhjglthz+5WPgso6JHpYfBwYm4cJzZLGNuSEQU35pwQ6b1GMSHRTkAfpay5ktKK3Wyq3sMm9x6MISNqrUo0GgXA6XTSq0/vLiJwOH5cUK4+FOG2TYtYGrmWNL3KC0W5nNaZjaxpGl4pldbB95C97jYiL47EM9hOuy+Lmq0FKNUR+tt09LEXISX3ITxCxjopk6SCPPSG7iY8NaIQ3NKCb20D0Vofgl7EPDAZ66g0DNn2bs83HIiy/K1S9mxqIbtvApMv7fujoooHIOyNiQAabLHv+ahg3e8eR81HvxJe2/4aj298nEv7Xcotw2857OOiEYXq7S72bGqmcpuLaFjBZNWTmhugrvQDAi31DM4tQm5pwVNbS1gSUTrNNapOh+xMQjHbEARIslnIy8wkLikZW0ICRpudymgjz3V8yqrQDlKleK5ynsRUy3DETnu4JkcJrFmD58svUVpaEYxGbBPGY586DWnoYJoaaqnfXUr97l1UtbQSiI8VVLd62+iRnkJGUW8yevYmtbAIg+kn9Par18CrU2H6ozBqXwZzRInwVslbvLjlRaJqlEv7XcrMATO7CwUG26FuI9RugJp1ULcBQm5cYiL3Ry/gD5ffwOIdzcz+toILCpL5UzuonghVx2XwD0eU7W0+ElojOBuDNLQEEdDIFN0Mjotwdo9ceuyRwCUi0Yw9vQTLHy5ETM4DwO12U1lZSUVFBRUVFbjdbgAkSUJRYkqecXFxDBgwgL59+5KWlvajYb1hVeWlmhYer6hFVhUucDbzR0dPfDWVtFRV0FJVQUNDPVJmhOyBe8ikiSFbPfgFOzsL/0pyz+Gk5OZjT0pG9UZxL6ogsKkZ0WEgbno+5sHJCIJAtNGPb20DgU3NaGEFXYoF66g0rENSEA9SZKZxr5sls3fg7wgz6rQChkzJ+VlidCXbt9InEZD0kFQUy0k4iv86jvoUfmOomsq8snnc+929TM2byiMTHunqcA+FaFiharuL8o3NVG1vRY6omGx6CoYkUzAokdqSL1n70bsUBGV61bvA6/3Z19VhhffHiywdJGCKwBnfqZy4QcMgH7ivYDJhnTAebchgXAkOGqorqS8rxd0UizsXJYnk3AIyevbGmZ1LSV0T5RUVJCcnc8opp5Dzg1rNnlCUylY/Fa1+Wrzhrv9P2XIjqe4tvDd2AXJnwZbKwEZWumbTEa2nwDKS8YmXE69LIc6/lxT3NlLcW0lxbyU+UBF73oi02wppdgzkm1A+Tzb05eHzRrN4ZxNfbG3gHz3TmVIZJKwXuXeIha98ARyNISJNAVQNEsUABWIrxxbYmJDWi8TtGkpbBJ1Qi936JZbTTiNcNLVL2qCiogKXywWA2WwmLy+vayaQlJSE3++ntLSUHTt2UFlZiaZpJCQk0LdvX/r27Ut6ejqCIKDIUXxtbSysb+bR9gh1SPRp3sqUjcsxVbvQNBVNENESUtDnWsgoKCYxsQ5FdpCachUD4gYivn02xOXCpZ8f4LgNV3vo+HQP0VofhtzYDCVS5QGdgKV/EtbR6RhyHQclK03V2PxlNWvm78UWb+SEK/qRVvAzI4XcdZSUltInNzWWnKb7GbOLoziiOEoKvxFkVWZx5WJmb5tNeUc5w1OH88KUFzAepFQhxLTmq7a72LOxmartLuSoitmup2BICj2GJpNe6KBlw1qWzHkJraqGAfUuzOFI7GCdjvjzZ6A77jiKt26lpKQUDY0+vfswZMhgrNaYvICmKbjam3iz/lPmhVYRRWaMK4ORpXbUZjfafk5Ro8WCPTEZW2Ii7WqUhqpK5GjsfLb4BNJ79u40A/UitaDHASaJbTtKWLhwAQGfF1N6D1zOXlR2RKlo9dPqixxw/4VCHUuNt/GkfCZPymcj6FsxpX6Ozl6KIxBH75Z+DI4EGSKUMUjci10IAuDS7GxWe7BZLWKTVsRWtQA/MUKRRIFbpvRkxa4W1le2Mbswg557vCy0wyN2BbUlhBpVselUcrUmeho6mDSoiEGWQoybAigdYfS6auzCOwQG96MseTq7K6qpqqpCVVUMBkMXCeTl5ZGamnrQBCc5EsHX3kZzXS27d++msq6eVm9MhE+nKRh8HtrDIVYOP5a9ub1JaG/huFVf0NtTRmaP4VgycnHJGvWtFaRlbCAtrRxBMJGT/UcKCq5EkjrNgHtXwjvnQmIRXPIpWLrb+TVVI7CxCfeSSkSjDuuoNCxDU5Gshw5F9bvDLH19JzUl7RQOTeHYC3t1S4Y8LIQ88Np0SobcQ59hY+EIScH/EkiSxIABA9A0DUmSmDVrFsccE6tjPWfOHO6//34A7rzzTi65JKYuMGvWLJ588kn27NlDS0sLSUkxwn399dfZsGEDs2bN4vHHH2f27NnodDqSk5N59dVXyc3NBWDatGkHleUGePfdd9m7dy933HEHN9xwAwsWLMBisfD6668zdGgspLqjo4OZM2eyfft2BEHg1Vdf7cqb+CU4Sgr/ZUSUCPP3zOfVba9S66ulR1wPZg6YydS8qQcUyomEZCq3tbJnYwtVO1woURWLw0DhkGTyepqJ8+wlvG0rgc2b2VW1hxqznl6NbST6QwgmE/bjjsV51lmoRUWsKS5m3bp1KIrCkCFDmDBhAnFxcV3nklWZT8o/4dniZ2kNtjIldwo3Dr2xKxxWkaO4m5tjyqGNnWqiDXV0NDVijU8go6gX6UV9SC/qhT0xKWZ+UFRq2gJUdI76K1r9VLr8VLT4qXeH0KEwWFdHX6mJqKCnJa4PiZmF5KfYyE+ykp9kJdVuQhDBtOAG9Dvn0XzF1yzc/jINu+YxKBxhrGrA6Y9pU2iChJrSDyVzOErGcOTM4Whx+Ye0Sze5Q1z91kZaXQHudMaxqz3AR1KUdkVFL0IPk4+saB1FDpWRQ4fRW8lEXdeG6osimWtplz+gyh5Hma4PbR4/AMnJyfTs2ZOioiKys7NR5Si+NhdelwtfWyteV+fS1orP5cLb1krQ4z7g2vR2B2JSOh6rk29yerMlqwc6VWFyewnHh18jJcWPM/4+tm+vo7Z2D9k5pWRn70QQFLKyLiQ/77qD1zUo/wrePR9S+8HF8w8Z+69p2k9mplfvdPHVazuJhBTGn1tE33EH8QH9FOQIvHMOVH5Lyelf0WfgkJ93/BGGzWbD54sR8uLFi3nwwQdZuXIlbW1tDB8+nA0bNiAIAsOGDWPjxo3Ex8ezefNm4uPjmTRpEhs2bDgoKSxfvpxRo0ZhsVh4/vnnWbFiBXPnzgViooPfy3L/kBQuueQSrr/+epqamnjmmWdYsGABa9eu5YYbbmDt2rVd+4wfP56ZM2cSiUQIBALdfts/F0ejj/5LCEQDfLD7A97Y8QbNwWYGJA3gthG3MSl7UjdzUTgoU7m1lT2bmqne0YYiq1idBnr1NZEh1GHbu57QnC34KyvxA2GDjl35mcSHwoypb0GzWAicP4OWYcPwBAJ4SkpoWrGCaDTKwIEDmThxIomJ+0JINU3jm7pveHzD4+xx72Fw8mCemPQEg1MGd7t+SacnISOThIzuUsWKotLgCVHR6mddq5+93zVT2VpBRaufmvYgyn6zC6dZT36SlVEFiV2dfn7SRMyyl6WLF2Cp205/c4SxySMw7PET+baJoCeIjjrs/vcICEORZr3ImYIHkREIJpBSc4j0LUTM7YeYNxjJZuPHUsGaPSG+2+tidbmLhTsaMERUMjSR29pjeRB5NhgcrSVdaSInJYWRQyaS2x5H6JsmPKFqGpy11JnWU6k5iUgD0UV05GWkM3pcjAiMokDZuu9Y/9ZsvqjcS8jrOeAaTDY79oREbIlJpBUWYU9MwpaYhD0hCVtiIvbEJPRGE/Oa2pm9p4HGSJRJgptBZV8QaTJSpk1kT4WIqq6isLCRseM2AG5SkqdTWHgrFkveoR9Aj8lw7psw90J46yy46GMw2g/Y7cc6d0VRWffpXjYtriY+3cppN/YjMfMXaPhrGnx2PexdAac9B/pfv3zrz4HH4+nKzF+8eDFTpkzpErWbMmUKixYt4vzzz2fIkJ8msmOPPbZre/To0V01GACOP/74g0pSaJpGcXExQ4cO5eqrr+biiy9GEARGjx5NR0cHDQ0NWK1Wvv76a15//XUADAZDV7TgfwtHSeFnwh12807pO7xd8jbusJtRaaN4YPwDjEob1fXDCweiVGxtZc+mFqp3ulBlDYtZo8DWSmLjerRtawmsgkqLmVBSEpGBAwlNmognEiZ94yb6lu9B0DRKe/empG8fopqGfssWHA4HDoeDosJCxvQbSYojCa1dIdjkQpNVStylPNP4IhsDW8jWZfBA3B2Ml0fAKo226C60qBpbIrHCJl1/RxWiIQUlqiCpGqWoLCLCUmQiepH8JCv9MpycPDCDvM7OvyDJSrw19rJqmobqjRBp8BMt8xBt8HOqdyjRcAChQiBSUU9EiGCQqtGrjZilVSCqdITPRqYHIa3TFOXrXPYA32jA5li9XYsO1SzRqIcqTWV3KMLeYIS6cJQ2RcGPRgiIdn5HegGOTQyR7C/DEg7Rq1cvRg48jvhyqPq8jG+1bdSaXbTghTA4dHEM7DOAov5DyM/PJxrwU7buO7585hNqd25H01Ti0zPoOeoYHEkp2BJiHb0tIQl7YiJ64493ftu8Af6+s5x1bj8DbXrusH5BYturmAflkZd7N01NDpqav8JiWUQ0WonTOZSiHn/D6TwwQ/ug6DUNznkN3r8E3j4XLvzwsGtReFqDLHllB00VHvqOy2DcuUXoDb9QfmX5gzFl2El3wJALoKSk66N/rfsXpW2lv6zdQ6B3Qm9uH3n7j+4TDAYZPHgwoVCIhoYGli1bBkBdXR3Z2ftUYbOysqirq/tF1/HKK68wffqB4b4/xObNmxk0aBCCIBzy/N+boy677DK2bNnCsGHDeOqppw4avvxr4SgpHCZag628sfMN5pbOJSAHmJQ9iZkDZjIoeVCnlHOAyu2tVG1rpaaigajOhyT5MIj1CLTikaHJYCaUa4W87uGpRkmkcPt2xm7dijESxTtkMLpLLmVAYQFjO4lAp9OxfuUKpNVeMgPJUFxHC7GXuEnvYk7ypyx3rsch27i29Tymt49DJ0oE9M0IenG/RYqtjRJhg0itN8xeb4jWsIwiQk6ylf4RuNktcbMoYCqKxzo0FVPvBASdiCarRJsDREvb6WjwE230E633ogaUrvuRdO3otXLMUjl6sQKdUEWbEKHVmEZjgoMxTd/xtSWephMTOLP3JIJhlR11Hexu9FHT6qehPYjLG6YjEKUjFMXrU/B7NH5o6DQDyQikIRCPigMZp6kJQWvAENEzZOQQBuT1pWFNOWvmLqNGaCUkxRLQsqL1HG9w0fPYGaSMOhu/u4Oytav4+L3XqC3ZAZpGQkYWo848l56jxpKUk/ezTSmuiMy/Khp4s95Fgl7irtQG+rb8HU0NkJf3Z7Kzr6C19Uui0X+j1+9Ap8ujd6/nSE4+4eebbfqcAme9DB/NhHdnwB/eB/2PR3+Vb2xm+VuloGmcMLMfRcNTf94598fGOfD1IzDkIpj4l1/ezhGG2WymuLgYiCmPXnzxxWzfvp2Dmc1/ifDjW2+9xYYNG1i5cuVP7rto0aIu8jjU+WVZZtOmTTzzzDOMGjWKG264gYcffpj77rvvZ1/bL8VRUvgJ1PnqeG37a3xc9jGyJjM1bypX9L+CQnsP6nZ18PVXu6jc1oq7w0vI1ELUWEskaV+EjUFVsRlTiYuPJy89HWd8fNeI32634/10Pp7nn8ccCBHJyyXnkX9hHbgvyS0SDrP2q6VY1kfJCSXQaPJTMqKFdr2bilA134bWUqXWAGBVzIgIvJe+mGW9tpAdl02eI48cR07XWqfZWLS9iY821bK2og2A0QUJnDm0gOn907CbYk7FSIMf/9p6AltaCe1sA0lANEqoIRk6C2chyOilWkzaLgy6CvRiBYqxmWaHlV1mG6UGHcVClI2qHpuvAEvgJKa7NnCcpvJk5Ba2zLPzl+gSiBzsB6KhFxQMmowJmXgxSpxeJkkfJVEfwaEFUUN++AFVOB0O+vU/Bl1EYM+2MtavXY8maJj0BgpTbPRq+4Ie4W1YRl2Cd/CdlBVvYfm9f6VuVwloGolZOYw5awY9R48jMSvnF3UUsqrxRn0rj1Q04lUULknVMS3wL5TG1TjiRlFYcCvt7atZs3YKkUgLVmsRvXs9QHr6WYjiz3Tq7o/+Z8UUSD++OmZOmvHOQQXn5IjCtx+UseObelLyHJxwRT+cyT8RPvxjKPsSPr8JCo+Hk584qM/np0b0/w2MGTOG1tZWWlpayMrK6mbiqa2tZdKkST+rva+++ooHHniAlStXYjT+tLDfkiVL+Oijj4DYzKCmpqbb+TMyYj6crKwsRo0aBcDZZ5/Nww8fupDQr4GjpHAI7O3YyyvbX+GLvV8gCAKnFZ7GedkXoFRYKH/PxYqSr4lGFWRjM7KuAl9yBASBJFmmX3oOvcePI6Gw8JAvi2/9evZefTX62jpUqxnznX+j9wUXdXVCgYCPtYuWklAskR9xUmNtpvaECCMmnoKCwnul7/HZti/xaB5O6XEq5/U6j4AcoMpdRZW3iipPFWXtZSyvXo6s7Ys71RQzaiQRi5DGpFGFTO7RjyFpdrLCJqTSdtwN/pgZqMGL6t13nKB2oA/uxSCWo9dXIAkVtBg62GRU2WXQsctgYJdBT4tkwqw3kmxKQpQH4fL2weNy0tKhYdCivGr8im+1/pQHM0kRPNgIY9WFY2shgqVzMQhq17lVLVZ+RRAAuXMRRYzGmL3VZDJhNpsxGo00NzSxevVqABI0G8My+tFvaCY5ux5HKl+CJ34wJbl/Z/fqKupfj9VtSMrJ45hz/kDPUeN+caGZ77G63cedZbXs9IcYG2fhj6al6BqfRNTZyS24iWCwjs3FF6KqYRITJpCd/QgJCeOPiIQ6AINmgBKBT/8cMyed+0a3cFBXvY8ls3fQVu9nyJQcRp1WgKT7GRLRYS946sFTB+46cNfC6mdiju5z58RyEn6nKC0tRVEUEhMTmTp1KnfccQftnb6nJUuW8NBDDx12W5s3b+aPf/wjixYtIiXlp2tRuN1uZFnu8v+deuqpzJo1ixkzZrB27VqcTifp6bFs7+zsbHbt2kWvXr1YunTpf10x9Sgp/AA7XDuYvXU2S6uXYpSMnJZ+NqO8U/B8Bcvqa9DQkMR6ZKEcd6KKrJewAqPyCxg2eTIpmT9eYzZSWUnt/Q8Q/vZbFJ2E57gJDH/4UUyd2a4eTwcbvlhG6g4zRXIClc5GAidYcfTqze6mjTz2+UUsd++iToswxprDLX2voVfupJh8gCh2y0ouafDw4cZKPtmxg45IPVZbO32ToxTqReI8IomlejK2+DGFm/BqsR+Hhowg1mJmb2z0L+wlpKuk3Bhij86MRG9yQxNJ990AESPpZh+WQoXBPW00d5j4rkJmfbWPkjYZvRYlT2jgGLGY/rpqBovlpAodLJWO51xhJ0FVwhWR8GoGfIIZgzOJpPQE+uUkMygvBafVFBNoi0YJBAIEg0GCwWDXdiAQwO/2EfT68TR3EI6ESYraGaDrS+/h/cmYmI9Y/CKez25msyeB3dopNJR0AItIzs1n7HkX0XP0WBIysg78on4m6kIR7ttTzyfNHWQa9TyRGyCn4SZC7dXExY9F0xT27n0CUTSSlnYG2dmXYrMW/cfnPSiGXhyraLbgVvjoCjj7NTRRomRVA9/M3Y3eJHHynweR228/jStNi6mX7t/hf7+9/zp8oKOd1AExc9VBHNy/Nb73KUDMZDNnzhwkSSIhIYG77rqLESNGAHD33Xd3OZ2ffvppHnnkERobGxk4cCAnnngis2fPRpblrkHebbfdhs/n45xzzgEgJyeHTz/9FOCgstxer5fJkyd3XdeJJ57IggUL6NGjBxaLhddee63rs2eeeYYLLriASCRCQUFBt8/+GzgakkrsZdnYtJGXt73M6vrVWEQrY+UTyN85EtFrQUDFHCpHEffSligQsJrRCwK9CwoYMnYseXkxe7PcEiRU2kZoVxtqSEFyGpGcBiSnEUGK4v3qc9xffIQcaqc6I4miO++i54RYFIPL1czmz1diKxdoMrhYn7CTlswAzTRT4a5E6bTZmFWVvorIVe0dHOPf7weqM0NiISFHHqWRFJY1OyjriMcgZDIqPpPBJhNxviiqe1/OgKALo9NVY5B3YBD2oBcq6DC4qLTF02bOJGDNQbHmYtClYJH1GKMiSjBMyOvB1+Zmr0umLGoiZBQwG2VypFbyhQaKhDryxUZShI5uz9mrmCj1pfJlQyFGLcoPYXHGdTpxk7EnJnY6cmOL1RqHMWJCa40S7ZzNyI3+fUXgRdCnWLAMS8U6Mh1vyVfsnvsvdtcrNIZinVVKfiE9R4+j56hjiE8/MgXiQ4rKCzXNPFXVjIbG1Rk2Joeexd0yH70+EVE0Eg7XYzCkkJ11ERkZMw4eWvpr4LvnYPHfUPqcycqOmTRt201eboiho3UYo837dfadHX7E94MGBLClxATsHJmdS8a+tTMzNhg5RE2Eg4VC/i/jpptuoqioiGuvvfZnHztz5kxmzpzJ6NGjf3rnI4yjeQo/A5qm8U3tNzy/8UW2u7diVR0MqJ1I38Zx2KIaTtcWZF0NbelmWuNiI/n8nBwGDR1Knz59MIh6fHvaad7egra7A5Mn1tHtsYu0m0QyI5AYUDBED3zGigXqE9ooM1axM7ybOqGRSlM9Hbp92cppgpFeQR89QwF6STZ6FU4ne+jlSKn9Ylo/3npwlROp303DzmK05nKckRqcQhOisM/xq2pWZCENTXSiqCrhiB9f1E+7LOE25eITE/HKJnxBBW97B3Ik/IOr1bDrwugsOvQOI1ajTILkIVdoIltoQbefqSeoGXGRQKuQzB4yWRPKYie5VJFGps7LUEo4xlzDUEsrJp0Rr2bDq5jxRfR4wyLeoIrXE8bnCRCOhA54bkbRjNngwGaLx5aQiCM1FUdWGnH56Zjsdqo2fcfupZ/Q1Ba7h9SMZHpOOomeo8cRl5r2i9+VH0LTNJa4PNxdVkdVKMJJSU7+aN9AoOo+FCWIKBpQ1RB2ez+ysy8nNeXEmKLqfwGaptHRFKC2tB3Dxmfo5X3hwJ0EEWxpnZ38Dzr677dtaf9RJvL/T6Qwffp0IpEI8+bNw+n836oDcZQUDgPhUIT3183n7Yo3qKMSWziOwfXHM7wqj5TGHWhSHa6eadQ6HChAUlISgwYNIrNPP+r9Gu6dLix7POQ0BDEqEBJhXaLE2hQ9Lbk20lKsKLKMdclipn3wFqaoj6Vj+rNqYDaKoY2oUE+rWocixGz2elVHbjidwnACvaMe+kd20Uduxq4aCBsmEok/CTV1FFKcJTbrMIhEGwM07Wkn0uAjLrzvO4yIChg7ELQdqKEtqJG9CEI7JimCQx/Grgt38wP6ZT1ezYFfl0TEnI7qzMVsFLCp7QihZkRfPfZQAwb2zTACmpEaIZU24vBrVryCnQYpk01yHlsiabRqNhwI9EPHADwMF9czwvQlcQUFscpkITcE21F9XqIeI9GAk2gohaiSQ1TLRyOWARtVQ0SVPYSVvYRpJoiHABH8ioAvLOENaYTC+8jve6SZvPTsX0TP8+/AmVXws9+Pn0J5IMRdZXUsb/NSZDFyZ5ZGXO2t+Py7+L74fHLyFLKzLyfOOfzI+Qt+BJ7WILW72qktbaduVzsBz/fZ6EaGZBWTlxvCkV+wX4ef+qvb//9/IoX/ZRwlhcPAZyvnc0flncQFkpmwuzfjtwYxSy6ah/Vjr9WKX1YIJSRh6tWXSHI6WptGUqWHgY0BcgIRImKEBmOYGmeEQFwYvT1MvBTFrIWIRIKEwj4qdq5hj+SiMl2i3brvGUuSk6gum5AhF9mQg1lI5Hx3KX9o+Yqi9q1oCHjjRhF0nohPHIvqBcEbQQoo6PezuGiaRrviwy03E4g20B5opD3cTEDZN9OQRLBZjdgSEzGm5mFMzMBgt2PXB7FrbizRFsyBWoyeCkzeKkyhlq5jo+ioUlOo0NKpENOp1ycT0OyYZRVB0KEgUac4qFWdNKhx5NiiDBHKGBpcwxBhN9lSlJDjAgKhMUTcdhDAWBSPIduO3Bwg2uBHdgW7goc0g4iWaER1gGKMokhBoqqPcCBM2BchFFAIBTVCIZFQRE9INhKSLSgaaKoPTfWCFkTUpSNKDhxJZuJSLThTzMSlWLq27fGmnyXqtj+8ssLjlY28XNuCWRS5JTeBkR0P0u5aDIAoGsnIOJ+c7Eswm//zQko/Bl97mLrd7dTuipGA1xWbVZkdBrJ6xpHZK56s3vE4ksz/FVI6GI6Swu8DR0nhMFC6+ENmfXk/OkEgYDXi00FYVInqNBRRQ5Y0FL2ErBeJ6iAsRokIUTTh8J+VpECiV8LmN+HQ52Iw92GCK45h7hy8Whs1lm/JkUoZJuxGLyjUqQmslXuwNZBJOCRgDgYwhWOdpk9nxSfZCOgdhPQJBHVWgpoMooomiWiihKIzoegtKHorEZ2ZiGAgJGuEZIVwVP3pCwZsBMgRmvHrrTSZE0kkQO9oE1lKG4IAXtVIjerEq4sjy64yVCthiG8lA7XdWCQFModB/oTYkjUS9CbkqIJrVzst65tw7W7H75eJ6sXYAkRUjXBYJXqQEf/3EHUCJqv+B4sOo1WPySJhMkQx6YLoxQh+MYOOlhAdTUHcLQE6mgLIkX33L+lFnMnfE4UZZ4qFuJQYYVgchm4dqF9W2BsMszcYpswf5o36VloiMuel2jlXe5tQ81tomoIkWcjN/SPZWZeg0/06ztagN0Ld7g7qdsWIoKMpVqPCaNGR2TM+RgK94olPt/xmJPBDHCWF3weOylwcBr7xdbC2l4JeBp2ioFdE9JoBk2DDJtqwCDaMqhF9QEAK+xFCHUihNoxKFKOqolc1dJoAqoigiqDqQBVBkdBUHZqiQwmZMGgg6URkJYSqrUc0+Yg4mxnkaGGMLopf1rPem813wZ6UCzkEDA78Ogs+qxmf3YJbsOIVD5QbMBPGICqIkoCi1xPRm5AlCVUUUEUBRQRNEmIV0KTYookCiHxfCgxBVTHKEczRCJZoCIscxiaHcCgCA5VaTOFKVE2gWbNRb84l064xXt3BsI63yFJqEbwCpA+Cgcei5t6D2zaYjnaBjuYA7jUBOppL6GgO4m0LdUslMJh1mC16TDY9dqseo1XXvbO37dv+/jO9UfrFHZ2maQTcETqaAnQ0B+hoDtLRFKC90R+rUaFptNtE2mwSHQk6fElG2hwizUaBNrH7IGCYTce99q9wNr1MUJMRRRN5eX8mL/caxCMsCx0OytSXdVBXGiMBV13MCaw3SmQUxdF3XAZZveJJzLIh/sKZz1EcxcHwf5IU2r0WPLX/4hhFY7wsMkwzkijE7KtNspfqSBO1oVrawo1IqoCkGhDVOEQtgqDJCOzr5w6YOwgioiQiWezIujgMeoGelnIGmktIF9uIahKr1X58GBnPQnUUslkH++UNOfGRLrTTQ2ol3VBNmlnFaTehxCXSHp/OHkcme3RW9ApIsooU1RCiKkRViKgoEQU1LCMEAgghHzpfADESRCeHMKqxXACrEMFM9IAcIxmRiGhCsyaQYBcYKe5ksGsOprALLSTgjx9FR97F7DANokPNxN2m0bEqgGd+EFXZ2tWOwSQRl2ohrcBJ79FpxKV+b76xYDT/uq+cpqmoaghFCaKqYRQlRFQM0BYfZq8xSkWyQmWhRmVEpDpspVHWo7LvQdjVIKnRNnoFWklVWkhVm0jTmkiX6rGplaAJ+Fp6EXVNxaKfwN4KPVWGcvR6CckgotOL6AzSvvUh/ifpRXT6zs8NEkpUpWFP50ygtJ2Wai+aFpvZpBc6GXVaAVm94knOtf9oCcyjOIr/FL87UhAEYRrwFCABszVNO+LpfH0ad7CN5wlLBkKSgaBmIICBEAYUvYFEswGr00BIMxDEQBg9Qc1IGDMhYvuHiX0W0gyEBQMhTR/7DCNh9AwS9nKm9A1jxR2IgsZ6tScvRU9mjTwQDQNmTWWE1oZBk9CpOnSaDp1mQK9ZkLCg0zIRNHAh0KGBDgFJg0KtiR6CiiyFkaUIihRGFcOoUhjEMEgRRPHAcE8QEBFQRImwyYDXYCFq0hE26gmY9HiMFlpNTpqMcehVFVs0zIfRnpgTz8EQNqDzgzGkYm7SMEc07IqbZJuB9BwLvQcnkZpiJj7VijPFgtmuP+ImjFi+gotQuJFwqJFwuJFQuJFgsAFPuAVfuA132EujFkcT6TSQTiMZNJJOE6kogh46pfXMmp906smlgdHUk0YDaTSRKbRh00cRDCJoAqoiokQF5IgOOaLHWzOUYPNEDAxGlQ20R0PIET9yNEbGckRFVf8zc6woCqQWOBh2Yh5ZveJJzXeg0/9CLaKjAODjjz/mzDPPpKSkhN69ewNQXV3NzJkzqampQRAEFixYQF5e3iFlswE++eQT7r77biKRCDqdjnvuuYezzz4bgA8++IB77rmHkpIS1q1bx/DhMctMJBLhj3/8Ixs2bEAURZ566qlumdMPPfQQOTk5nH322Vx88cVs3LiRxMRE5s6dS15eHsXFxVxzzTV4PB4kSeLvf/8755133q/6vH5XpCAIggQ8C0wBaoH1giB8qmnaziN5HkvvPnyw5XiMRDEQxUQEoxbFSAQjEWx4O7ej+61jy89BIwl8LB7HJrE/QSyYNJkRSj3igfOLH4VGTOztUGcXNQkDemTJTNCYgF9vw2ew4DGY8RhNeEx6PCYdXotIVNe9sxY0DXtIxhGO4vSFGdjmRkUkoDMQ0OtpNRkIOXT400RCBx2gqoAPo+wnvqmDuDaJeL1Egl5HvE5HvF4iTh9bJ+h0mCWRkKoSVFSCqkpI1QgpCt6ID3/Uiz8awB8NEpBDBJQoQUUhpKiENIhoesIYiWAgQi4RoSdRfhAy2Xl7RkElWx+lj1FhmiFAli5ApuQmU3BhVVuQ5Tai0TYi4RZC4WYUxQMayPsVHdLrEzBb0zAZ0zCa0oiPG01Kyok/qTiqRFTkqIrcSRRy9BDrzm0lqqJpkJbvIL1HHHrjURI4knj33XcZN24c7733Hvfccw8AF198MX//+9+ZMmUKPp+vqy7G2LFjOfnkkw+QvNiyZQu33norX375Jfn5+VRUVDB58mTy8/MZNmwY/fv3Z968efzxj3/sdtzLL78MwLZt22hubmb69OmsX7++63xLlizh/fff55VXXiE+Pp7y8nLee+89br/9dubOnYvFYuGNN96gqKiI+vp6hg0bxtSpU/8jKe2fwu+KFICRQLmmaXsBBEF4DzgNOKKk0J6Wxi3Ov//s4wRNxaRGMKshTEoEkxru3A5jVmOLSQ1jVsJUmDNZ7+h/UB0YUVMwaBEMRNETxaBFMSBjIIqBWI1gIzIGFAwoGL9fCyoGFEQBPJKVdsGCCxsuzUqraiNC9xBDEYUE3CQITfSkjQStlQRaSNBaSKCVBFw46UBnUuAwVI6jmg6/4MRPfGwtxOETHPhw4MOOV7HhU6x4glbqsODVLHg0E8qPil/vg6RFMaBhQMQg6DAiYBRkTIKGQwKzCCZRxiypmCUZkxTGLIBRVDEJGkZRIUVrIUWrxh7dQzTSSMjfgOLZl5Tl7lz0+kRMpjTMljzi48dg7Oz4TcY0jMZ0jMbUfcVsfgYkSUQyixj+Aymhozhy8Pl8rFq1iuXLl3Pqqadyzz33sHPnTmRZZsqUKUCs5sL3OJRs9mOPPcYdd9xBfn4+APn5+dxxxx38+9//5p133jmkQ33nzp0cf3xMADMlJYW4uDg2bNjAyJEj8Xg8RCIRkpOTmT9/fhdhnX322Vx33XVomkbPnj272srIyCAlJYWWlpb/U6SQCdTs93ctMGr/HQRBuAq4Cjig7OPhYmi2mTt33fXLrlDsXH7iyRWiYwKfE9YMnfMPw36LkYiw3//32w5hxIupa0QcJWaqigrds0YlRSaeNhJwkUslQ3CRsN+SSCtO3IioB3F8/DLokYnTXMThOuw2NSCECR92fNiJYOh8CuH9nkhsW0LtfuD+60MHJ/0AApIhGdWYhsWST3z8mH0dvSm9czsFUfxpAbOjOHJofPBBwiVHVjrb2Kc3aXfc8aP7fPLJJ0ybNo2ePXuSkJDApk2bqK6uJi4ujjPPPLNrxP/www8jSYcevOzYsYNbb7212/+GDx/OM88886PnHzRoEPPnz2fGjBnU1NSwceNGampqGDlyJF999VUXYewvpa3T6XA6nbhcrm7mq//X3p3HRVXufwD/PDMDAyggKAz7ALIMw5aiXa8kJi7hTZRwQSlNq2tG+nO37N7bYv4yM0kl7XrtZunV0ojQXFJKL5oSKpmA7LLILvs++/n9ATM/JEBRRo2+79eLV8yZc57znUnmmecsn+fSpUtQKBQYPnx4r/u8X49ap9DduPy2jx+O4/4F4F9A+yWp97ITZ9vReGnYnnvZ9KHRaNRoUynRqpZBqVZgmNAMAr41GOv/4/f9jePU0GgU0GhkAHgQCLqfG/h+MTAYGFg8sDuHyaPvyy+/xIoVKwAAc+fOxZdffok//elPOH/+PK5evQonJydERETg888/x4svvthjO93NXHc3l/O/8MILyMzMxKhRoyAWizF27FgIBO0fu99//z0WLVrUY1ud91deXo758+fjiy++6HYK2P70qHUKJQA6x1Q6ACjr753weIYwEvZf5MGDYgJg6B3XIuTRc6dv9PpQU1ODM2fO6OY6VqvVYIwhPDwcI0aMgKtr+93uYWFh+Pnnn3vtFLy9vXHlyhX4+fnplv3yyy+6E8o9EQgE+Oijj3SPx44dC3f39iDES5cu4ZNPPgHw/1HaDg4OUKlUaGho0AX0NTY24umnn8bGjRsfSHbSo3Zt22UA7owxF8aYIYC5AI4+5JoIIb9DsbGxWLBgAYqKilBYWIji4mK4uLhAoVCgrq4OVVXtd/CfOXPmjvHUa9aswaZNm1BYWAgAKCwsxLZt27B27dpet2ttbUVLS/t83wkJCRAIBJBKpbh+/TokEonukNX06dPxxRdf6OoODg4GYwwKhQLPPPMMFixYoEtk1TuO4x6pHwB/AZCD9kkZ/9bbugEBARwh5NGUkZHxUPc/fvx47uTJk7ct2759O7dkyRLu9OnTnK+vL+fj48M9//zznFwu1z1vb2/P8fl8ztbWlnvxxRd1237zzTecj48P5+7uzhkYGHA//fST7rm4uDjO3t6eMzQ05KytrbkpU6ZwHMdxBQUFnIeHByeRSLiJEydyhYWFHMdx3JYtW7i9e/fqtm9ra+NmzZrFDR8+nBs9ejR348YNjuM4bv/+/ZxAIOD8/f11P1evXu3T+9Dd/wcAV7gePlf/kDEXhBD9G8gxF6+//jqSk5Nx6tQpGBr2/RzW5MmTsW/fPt3EOvpEMReEEKJn9ztFZkJCQj9V0v8etXMKhBBCHiLqFAghhOhQp0AIIUTnd31OISUlpZoxVvSw6+jBMADVD7uIe0S1P3i/17qBHmpPSEjwVavVqm7Wf2So1WoBn89/pGvsyd3WXlFRIZBKpWldFot7Wv933SlwHGf1sGvoCWPsSk9n9x91VPuD93utG+i59mvXrhX6+Pg80h1denq6l4+PT+bDruNe3G3tarV6WF/+bdHhI0LIgHXz5k3BtGnTXB0dHX2GDx/uPX78eLfU1FRhTEzMULFY7POXv/zFOCYmRhcUEBAQ4CmRSKQSiURqbW3tN2nSpOEAsGPHjqELFixwAgC1Wo3w8HDn2bNnO2s0GixbtszexsbGz8TEpNs0vb1791owxgLOnTtn0nn5uHHj3AsKCgx62ucnn3xi6eHhIfXw8JCOGDFCkpSUpItZtLe39w0LCzOWSCRSHx+ffr3u93c9UiCEkJ5oNBpMnz7dLTIysubYsWP5AHDx4kXj4uJig82bN9ulpKRk5OXleURERNjNnTu33srKSp2SkpKt3f6pp54aHhoaWt+1zeeee06sVCrZ119/XcDj8RAWFla/Zs2aW15eXj5da6irq+Pt3LnT2s/Pr6Xz8ubmZlZfXy9wcXFR9rRPNzc3+YULF7KtrKzUhw8fNnv55ZfFqampulTBzz77rC0oKKjfRzk0UtCffz3sAu4D1f7g/V7rBh7R2o8dO2YqEAi4devWVWmXjR07tq2kpMQwKCioUSQSqYcPH14VFBTUGBcXZ95527q6Ol5SUpJpZGRkXeflL7zwgmNtba0gLi6uQBtRMXHixBaxWNztdCerV6+2X716dYVQKLztLuETJ06YBgYGNvW2z8mTJ7dYWVmpAWDChAktFRUVt90lZ2FhUdPnN+Uu0EhBT7j2NNffJar9wfu91g3cXe0/7st0rC1tNrnTen1haT+4deICr+Kenk9NTTX29/dv7bq8tLTUwMHBQQEANjY21fb29galpaW3TUZy4MABi7FjxzZaWlrq8tyPHDliOXz4cFlSUlK2gYFB12Z/48KFC8alpaWG8+bNa/joo49uS+A8ceKEeXh4eP2d9qkVExMzbMKECQ2dl0VERAxljA1dtGhR1Zo1a/rt3A2NFAghfyjdRft0jcU+fPiw5dy5c2s7L/P29m4tLS01TExMvGPnplarsXLlSqcdO3Z022ldvnx58JQpU5o7L+tunwDw3Xffmf7nP/8Ztn379hLtsgsXLmRlZGRknj59OnfPnj3WJ0+eHNx1u3tFIwVCiN719o1eX3x9fdvi4+Mtui53cHBQJiYmmmofl5aWGo4fP153KKeiooKfmpo6aM6cOXmdt3Nzc5O98847pc8999zw48eP54waNUrW077r6+v5ubm5RsHBwZ4AUF1dbTBr1iy32NjYvGHDhqlsbW0VRkZGut6pp30mJycbR0VFiY8fP55rY2Ojm2rK2dlZCQD29vaqp59+uj4pKWnQ1KlTb+tk7hWNFO4SY8yRMXaWMZbJGLvOGFvesdySMZbAGMvt+K9Fp23WM8byGGPZjLGnOi03ZIz9izGWwxjLYozN/B3VPo8xlsYYS2WMfc8YG9bdPh9W7YyxoR3rNzPGPu7SVkBH7XmMsR1Mj7MT9VfdjDETxtjxjn8n1xlj9xe68wBr7yw7O9stLS3NW9+1y2Qyg8zMTI+0tDRvFxcXJ7lcbrh169ZhSqWSn5mZ6X7gwAFfQ0ND68TERLOqqip+WVmZYWJi4lAPDw9xQUGBEwDs27fPMjg4uN7IyAj5+fni1NRUn7q6Onu1Wm04efLklm3bthXNmDHDPTc3t8ckvKFDh6rr6uqulZaWppWWlqb5+/u3xMbG5gUFBbUeOXLEfMqUKY2d19+3b5/lhAkTGouKitzT0tK809LSvH/++Wfb2bNnD9+zZ89NAwMDp9TUVJ/MzEz3mpoag7q6Op5SqeSnpKR4/Pjjj7ZOTk6mndurqqqyTEtLk6alpUlrampEffk7pU7h7qkArOY4zgvAGACvMsakAF4H8CPHce4Afux4jI7n5gLwBhACYBdjTDvf398A3OI4zgOAFEDi76F2xpgAwHYAEziO8wOQCmDpo1Q7ABmAfwBY001bn6B9Klf3jp+Q30ndH3IcJwEwAkAgY2yqHuvu79pRXV09hMfj3fWEqveDMQYHB4cSX1/f61KpNPOjjz7ifvjhBwtXV1ffadOmmezZs6fN2dm5OSoqqi0gIMBrzJgxHitXrqz08vLSHZqJjY21jIyMrC0pKbEVCARKPz+/9CFDhpTy+XwlAMybN69h3bp1ZSEhIe4VFRX8JUuWOIhEIj+ZTMYTiUR+q1atsuutxoSEBPMZM2bcdn4gNjbWMiIiol5bu5eXV+bmzZtF9fX1BsuXL3cJCwszjoyMVJuamjalpaXZjhkzRuLj4+M5Z84cYXBwcP3EiRMV2rY0Gg1KSkocJRJJjq+vb4aBgYECffg7pcNHd4njuHIA5R2/NzHGMtE+p/QMAE92rPYFgP8CeK1j+Vccx8kBFDDG8gA8DiAJwAsAJB1taaDnO1n7sfYraJ8ydRBjrAaAGYDbhrsPu3aO41oA/MQYc+vcDmPMFoAZx3FJHY/3AQgDcPJRrpvjuFYAZzt+VzDGfkH7jIR601+1A4BKpeLdunVLJBaLi/Lz8/U7uTAAoVCoFAqFSgAQCAQaR0fHtoMHD1YVFxc7eXp6ZguFQqVcLjcYOnSo59/+9rd07XaVlZW6exUuXbqUDQC//vqrs6+vbzoALF++vAaA7mqf5cuX13Qswz//+c+Sf/7zn7pOpTvaNtva2titW7cMPD09Fd09ryUQCDTvv/9+k7W19W9qr62t9czOzr6t9tbW1kGdNmcAoFareQKBABqNhoc+zGBJncI9YIw5o/1bWzIAUccfETiOK2eMWXesZg/g506blQCwZ4wN6Xj8LmPsSbRPJrSU47hK/Vd+f7VzHJfEGHsFQBqAFgC5AF59EHX3ofae2KP9dWiVdCzTu/usu3M7QwCEon209kDcb+0lJSX21tbWlXw+/zdX1OibTCYzlMlkJqamps0qlUqg7SyEQqFSpVL1+tmnUqn4AFBcXGzX3NxsamhoKHd2dr5paGh4X5EYxsbGXHp6+h3vLbif2nk8Hufo6HgzIyPDm8fjqVUqlQbAv++2Rjp81EeMscEAvgGwguO4xt5W7WYZh/aO2AHABY7jRqJ95PBhvxfaXUH3WTtjzADAK2j/kLBD++Gj9f1eaHcF3X3tPTbRzTK9zzDVD3Vr2xEA+BLADo7j8vurvjvs875qVyqVhnK5XDhs2LD6fi/uDlQqFS8vL2+4vb19sUAg6HOHxHEcU6lUBoMHD2728fHJHDx4cMvNmzcd77zl/bvf2jUaDauqqrLy8vLK8Pf3T+04fHTXf6fUKfRBx4fiNwAOcBwX17G4suPQhPYQxa2O5SUAOv8jckD7EK4GQCuAbzuWfw1gpJ5L76/aHwMAjuNudEzpdxjA2Ees9p6U4PbDLtrXpDf9VLfWvwDkchy3rd8L7UZ/1K5QKIRtbW0m165d883KypIoFAphZmamp34rb/9QzMvLG25paVmr7ZAEAoFKLpcbAIBcLjcQCAS9fuMXCAQqxphm6NCh9QBgaWlZ29bW1q/3Weir9paWFmMAMDY2ljPGYGRk1Io+/J1Sp3CXOq5U+TeATI7jojs9dRTA8x2/Pw/gSKflcxljQsaYC9pPbF7q+DD9Dv9/bHYigIzfQ+0ASgFIGWPaIMLJAPQaJnYPtXer47BHE2NsTEebC+60zf3or7o72toIwBzAin4us6f99UvtgwYNanrsscdS/f390yQSSZahoaHcy8sru7dt7hfHccjPzxcbGRnJ7OzsdIdkzczM6quqqoYCQFVV1VBzc/P63tphjMHMzKyhoaHBFAAaGhrMhEJh2++hdkNDQ6VcLjdSKBQCAJDL5Ubow9/p73qO5geJMfYEgPNoP56uHdK9gfZjrYcBOAG4CWA2x3G1Hdv8De0nlVVoH4Kf7FguBrAfwBAAVQAWcRx383dS+xIAywEoARQBWMhxnF5ut7+P2gvRfhLcEEA9gCkcx2UwxkYB+ByAMdpPMC/j9PQH0F91A2gEUAwgC4C8o52POY77VB9192ftv/766wl/f/9qoP0YeW5urruvr+91fdUNAA0NDYNzc3M9hUJhG+u44tjOzq7U1NS0OS8vb7hSqTQ0MDBQuLm53TAwMFADwLVr13w1Gg2f4zjG4/HU7u7uOYMGDZLJZDLD/Px8F7VazRcIBCoXF5dCIyMjRa8FPCK1V1RUWFVVVVkD4KqrqxEcHOx4t3+n1CkQQvTi2rVrhdpOgTw8165dG+bv7+98t+vT4SNCyIB1p+hssVjs0zk6++jRo6ZSqdTL3d3dOzw83FmpbM+56y06e/fu3bqI63HjxrmXl5frrg4qKioyCAwMdAeAJUuWOLi5uXm7urp6L1y40FGjaR+EZWVlGfr5+UnEYrHP008/7SqTyfR2U+XdoE6BEDIgaaOzg4KCmoqLi9Nv3LhxfdOmTaXa6OxLly5lXrlyJXPz5s12VVVVfLVajcWLF7t89dVX+bm5udednJwUH3/88bCubWqjs7/66qtCtVqN9evXOyYmJubk5ORkeHt7t23ZskV3qW58fLzZpEmTGhMSEgZdunRpcFZW1vWcnJzrv/7666ATJ06YAsCqVascli5dWllUVJRubm6u2r59u15TAu6EOgVCyIB0N9HZVlZWam10dmVlpcDQ0FDj5+cnB4CQkJDG+Pj4IZ3b7BqdrdFoGMdxaGpq4mk0GjQ2NvLs7Ox05x1Onz5tPn369AbGGORyOZPJZKytrY2nUqmYnZ2dUqPRICkpyXTRokV1He3XfPfdd7ft80Gjm9cIIXp36pNtjtXFRf16SecwR3HrU6+suK/obACwt7dXlJaWGtjY2KhUKhU7d+6cSVBQUOuhQ4csysvLdflG3UVnC4VCLjo6+ubIkSO9jY2N1WKxWL5v376bAKBSqXDjxg2jgIAAGQAEBgY22dra+gPAwoULq0aOHCkrLy8XmJqaqrXtOTs7KyorK3vMVHoQaKRACPlD6Sk6m8fjYd++ffkrV6509PX19TI1NVVrJ9IBuo/Olsvl7F//+pdVcnJyRmVlZapUKm174403bAHg7Nmzg0aOHNkCAOnp6cKcnByjkpKS1JKSktTz58+bnjx5cnAPtTzUq39opEAI0bvevtHry71EZ0+aNKlFOz1mXFycWV5enpF2ve6is3/++WdjAPD29pYDwLx582rff/99GwA4duyYeUhISAMAHDp0aMjo0aNbzM3NNR37abhw4cKgp556qrmpqYmvVCphYGCAwsJCQ2tr625ncXtQaKRAyEPWKT2X9KPQ0NAmhULBtm7dqjtxm5iYaOLg4KDQRmdXVVXxExMTzcLCwhoAoLS0VAC0B9dt2bLFZsmSJVWd2+wanS0Wi5V5eXlGZWVlAgD4/vvvzTw8PGQAcO7cObNp06Y1AoCTk5PiwoULpkqlEnK5nF24cMFUKpXKeDwexowZ07R3714LAPjss8+GTps2rf6BvEE9oJECIX3AGHsXQDXHcds7Hv8vgEoAQgBzOv77Lcdxb3U8H4/2yBAjANu1U1cyxpoBRAN4CsBqAD892Fcy8PF4PBw9evRGVFSU47Zt22yEQiHn4OAgj4mJKV67dm1ZQECAFwCsW7euTCQSqQFgw4YNNgkJCeYajYa98MILt6ZPn97Utd158+Y13Lp1qywkJMT9woULWWvXri1/4oknPAUCAefg4KA4ePBgQVlZmUAoFGq0U2suWrSo7uzZs2aenp7ejDFMmDChITIysgEAtm7dWhIRETF848aN9t7e3q3Lly9/qPd20M1rhPRBR2poHMdxIxljPLQnxb6B9riSl9EevHcUwAccx51jjFlyHFfLGDMGcBnAeI7jajqOG0dwHHf44bwS/fsj37y2a9cuy5KSEsP33nuv4mHX0teb12ikQEgfcBxXyBirYYyNACACcBXAaLRHUlztWG0w2vOizgH4H8bYMx3LHTuW1wBQoz1wjgxAUVFRv5lr+feCOgVC+u5TAAsB2AD4DO2jhE0cx+3uvFLHfBmTAPyZ47hWxth/0X4YCQBkHMc9kNnICOkLOtFMSN99i/apPEcDONXx80LH/ANgjNl3TEBjDqCuo0OQoH1qS0IeaTRSIKSPOqbFPAugvuPb/mnGmBeApI50y2YAzwH4HsASxlgqgGzcPpsdIY8k6hQI6aOOE8xjAMzWLuu4Gqm7aTKndtcGx3GD9VMdIfeHDh8R0geMMSmAPAA/chyX+7DrIaS/UadASB9wHJfBcZwrx3GrH3Yt5M76Gp195MgRU6lU6iWRSKQBAQGe6enpQuD26OzO9uzZY+Hh4SF1c3PzXrJkSefpXm+Lze5pfxqNBsuWLbN3dnb2cXV19d64caN11308aHT4iBAyIGmjsyMjI2uOHTuWDwAXL1401kZnp6SkZPB4PIwYMUI6d+7ceisrK/Xy5cvFcXFxeSNHjpS9//77Vm+99ZbtN998U9hd+xUVFfw333zTISUlJdPOzk4VHh7ufOTIEdMZM2Y0Af8fm11ZWcnvaX8xMTFDS0pKDG7cuJHO5/N1d1Q/TDRSIIQMSH2NztauU19fzweAhoYGvq2tbY85RNnZ2UIXFxe5nZ2dCgAmTpzY+PXXX+uylrSx2fHx8eY97e/TTz+1fvfdd8u1wXv29vaqfn8j+uih90qEkIGvNjbHUVnR0q/R2QY2g1otZ3n0W3Q2APzzn/8sDA8PdxcKhZrBgwerL1++3OOE91KpVH7jxg2j7OxsQ1dXV8XRo0ctlEolA26PzT5y5Ih5T/srLi4W7t+/3+L48eMWlpaWqp07d9709fWV97TPB4FGCoSQP5SeorMBIDo6WhQXF5dbWVmZGhkZWf3KK6849tSOlZWV+qOPPiqaPXu26+jRoyVOTk5yPp/PAbfHZve2BWZoYwAAHd5JREFUP4VCwYyMjLj09PTMF198sWrhwoXO/fAS7wuNFAghetfbN3p96Wt0dllZmSAzM9M4ODi4BQAWLFhQFxIS4t7bPiIjI3XBdh9++OEw7WGgzrHZvUV1i0QiRWRkZB0AzJ8/v37p0qXO9/u67xeNFAghA1Jfo7OtrKxUzc3N/NTUVCEAHDt2zMzNzU3W2z60J4arqqr4n376qXVUVFQVcHtsdlhYWENPUd1Tp06tP3nypCkAnDhxwlQsFj/UQ0cAjRQIIQPUvURnb9++vWjWrFnDGWMwNzdXf/755wXa9mJjY4eeOnVqiPbxxYsXM1esWOGQkZFhAgCvvfZamZ+fn7xrbLZIJFL3EtVdMWvWLJddu3aJTExMNHv27Cl8UO9PTyg6mxCiF3/U6OxHKTYboOhsQgh5qH7PsdkAnVMghBDSCXUKhBBCdKhTIIQQokOdAiGEEB3qFAghhOhQp0AIGbD4fH6ARCKRenp6SqVSqVdCQsIg7XM9xVm/9957Vk5OTj6MsYDy8nLdFZqd47M/+OADKw8PD6k2YjslJcWo6z4lEok0ODjYrXM9u3fvtnzttddsrl69avTYY49JDA0NR7755puizuvExsaaOTs7+zg5Ofm88cYbNvp4X3pDl6QSQgYsoVCoycrKygCAb775xuyNN95wmDx5cnZvcdbjx49vnjlzZkNwcLBnT+2+9NJLNdr01QMHDpivWLHC8fz587ld99nVqVOnzFauXHnL2tpatX379puxsbG3xXCoVCqsXLnS6dSpUzmurq5Kf39/r5kzZ9YHBAT0emd1f6KRAiHkD6GhoYFvbm6uAoDe4qwDAwPbPD09Fb21pb1bGQCam5v52oC73mg0Gly/ft0kMDCw1d7eXjV+/PhWAwOD2+4e/u9//ztILBbLpVKpwsjIiAsPD6+NjY0dci+v917RSIEQonfx8fGOt27d6tfobGtr69awsLBeg/bkcjlPIpFI5XI5q66uNjhx4kQO0Ht89t3atGmT1a5du0RKpZKXkJCQrV2uUCh4Pj4+Xnw+n1uzZk3F/Pnz6wHg4sWLJlKptJXH6/m7eHFxsaG9vb2uLgcHB0VycvIDnc+bRgqEkAFLeyinoKDg+rfffpu7aNEiF41G02uc9d1av359VXFxcfrbb79d8tZbb9lql+fl5aWmp6dnfvnll/mvv/664/Xr13UBeyEhIY29tdlDXQ80i4hGCoQQvbvTN/oHYdKkSS11dXWC8vJyQW9x1n3117/+tXbt2rW6+ZudnZ2VACCVShVjxoxpunTpkom3t7f8zJkz5kePHs3rrS0nJydFaWmpofZxSUmJoZ2dXY+zv+kDjRQIIX8IV69eNdJoNBCJRKre4qzvRlpamlD7+6FDh8y1kddVVVX8trY2BgDl5eWCK1euDPbz82urqanhq9Vq2NjYqHtrd/z48S2FhYVGWVlZhjKZjMXFxVnOnDmz/h5f8j2hkQIhZMDSnlMA2g/NfPLJJ4UCgaDXOOuNGzdax8TE2NTU1Bj4+/tLJ0yY0HDo0KEilUrFhEKhBgCio6Otz58/byYQCDhzc3OVNmL7119/NXr11VfFjDFwHIcVK1ZUBAQEyPbu3WvReSRy8+ZNwejRo6UtLS18xhi3e/duUWZmZrqlpaVm69atN0NCQjzUajUiIyOrR40a9cCuPAIoOpsQoicDLTr7xRdfdHR3d5e9/vrrVX3dNiIiQrx48eLqiRMntuijtt5QdDYhhPSzoKAgd6VSyT744IOye9n+0KFDRf1dk75Qp0AIIXdw7ty53Iddw4NCJ5oJIYToUKdACCFEhzoFQgghOtQpEEII0aFOgRAyYN28eVMwbdo0V0dHR5/hw4d7jx8/3i01NVU4btw4d1NT08cmTJhwW7T19OnTXZydnX3c3d29Z8+e7SyXyxnQHpvN4/ECkpOTjbXruru7e2dnZxsCwLJly+xtbGz8TExMRnRub8eOHUMtLCz8tVHa0dHRwzo/P27cOPeCggKDo0ePmkqlUi93d3fv8PBwZ6Wy/SZmjUaDhQsXOjo5Ofl4eHhIf/rpp37Nj+oOdQqEkAFJo9Fg+vTpbkFBQU3FxcXpN27cuL5p06bSsrIygzVr1lTs3r27oOs2zz77bG1+fn56dnb2dZlMxrZt26b7EBeJRIoNGzbYdt0GAMLCwuqTk5Mzu3suNDS0LisrKyMrKytj1apVuvs2mpubWX19vcDJyUm5ePFil6+++io/Nzf3upOTk+Ljjz8eBgBff/21eX5+vlFhYWH6J598UhQVFeXU3T76E3UKhJAB6dixY6YCgYDTznsAAGPHjm0LCQlpnjFjRpOZmZmm6zYRERENPB4PPB4Po0aNaikpKdHlEE2cOLEhJyfH+Nq1a8Ku202cOLFFLBb3KaPoxIkTpoGBgU2VlZUCQ0NDjZ+fnxwAQkJCGuPj44cAwJEjR4Y8++yzNTweDxMnTmxpbGwUFBUV9SnNta/oPgVCiN5lZL7m2NKc06+HPgYN9miVem3uMWgvNTXV2N/fv/Ve2pbL5ezQoUNDo6Ojde3zeDwsX7684p133rGNi4srvNu2Tp48OcTDw2Owq6ur7OOPPy52c3NTAsCJEyfMw8PD621sbFQqlYqdO3fOJCgoqPXQoUMW5eXlhgBQXl5u4OzsrIvStrW1VRQVFRn0tQPqCxopEEJIF88//7zTmDFjmkNCQpo7L3/55Zdrfvnll8FZWVmGPW3b2Zw5c+pv3ryZlpOTkxEcHNz03HPPuWifu3z58uApU6Y083g87Nu3L3/lypWOvr6+Xqampmo+nw+gxyjt+3txd0AjBUKI3vX2jV5ffH192+Lj4y3uvObtVq9ebVtdXS04derUja7PGRgYYOnSpRUbNmy4q7mTO6eirlq1qurdd9+1B4CMjAxDW1tbhZGREQe0x3qnpKRkA0BcXJxZXl6eEQDY2dkpCwsLdR1QeXm5oZOTk16jtGmkQAgZkEJDQ5sUCgXbunWr7mRxYmKiyfHjx3ucySw6OnrYmTNnzOPj4/O139a7Wrp0ac1PP/1kVltbe8cv1Z2P/x88eHCIq6urDACOHDliPmXKFN2EO6WlpQIAaGtrY1u2bLFZsmRJFQBMnz69/sCBA0M1Gg1+/PHHQaampmp9HjoCqFMghAxQPB4PR48evfHjjz+aOTo6+ri5uXm/9dZbdk5OTsqAgADP+fPnuyYlJZmJRCK/b775xgwA1q1bJ66urhaMGjXKSyKRSNesWfObq42MjIy4xYsX3+rcKSxZssRBJBL5yWQynkgk8lu1apUdAHzwwQfWbm5u3p6entKdO3daf/7554UAkJCQYD5jxgzd/A0bNmywcXV19fby8vKeOnVq/fTp05sAYM6cOQ1isVguFot9XnnlFfHOnTv1HqxH0dmEEL0YaNHZ/aWtrY2NHj1akp6e3u0lrP2tr9HZNFIghJAHyNjYmHtQHcK9oE6BEEKIDnUKhBBCdKhTIIQQokOdAiGEEB3qFAghhOhQp0AIGdD27ds3hDEWcPXqVSPtstzcXMPAwEB3V1dX7+HDh+sisN977z0rJycnH8ZYQHl5ue4+hB07dgxdsGDBbQmlTU1NvCeffNLNxcXF283NzTsqKspe+9yLL77oqI3LdnZ29jE1NX2s87bayOyZM2c629vb+2rXvXjxoi6a+9ixY6YSiUTq5ubmPXr0aE89vDXdopgLQsiA9tVXX1mOHDmyef/+/ZYjRowoA4Bnn33WZf369eXPPPNMY0NDA4/Ha/9+PH78+OaZM2c2BAcH39WH8OrVqytDQ0ObZDIZCwwM9Dh8+LDZnDlzGv/973/rYj3+93//1/rXX3/VhQFqI7NdXFyUALBx48aSRYsW1XVut7q6mr98+XKn77//Ptfd3V2hveP5QaCRAiFkwGpoaOBduXJl8N69ewu//fZbCwBISUkxUqvVeOaZZxoBwNzcXGNqaqoBgMDAwDZPT09Fb21qmZqaakJDQ5uA9ruc/fz8WouLi38TlBcbG2sZGRlZq32sjczure1PP/3U8umnn65zd3dXAIC9vb3qbl/z/aKRAiFE71Zk3nTMapH1a3S2ZJBR6zYvp16D9g4cODDkySefbPDz85MPGTJE/dNPP5kUFBQYmpmZqadMmTK8uLhYGBQU1Lhz584SgeDePw6rq6v5CQkJQ9auXVvZeXlOTo5hSUmJYWhoqC7nSBuZrX38zjvv2G/atMl23LhxTR9//HGJsbExl5OTY6RUKtnjjz/u2dLSwnvllVduLV26tOaeC+wDGikQQgasw4cPW86bN68OAGbOnFm7f/9+S5VKxa5cuTJ427ZtxampqRmFhYXCmJiYYXdqqydKpRLh4eGuixcvrpRKpbeNMr744gvLv/zlL3WdOxxtZDYAREdHl+bn56dfu3Yts66ujv+Pf/zDBgBUKhVLTU01+eGHH3J/+OGH3C1bttimpqb+ZnIffaCRAiFE7+70jV4fKioq+D///LNZTk6O8dKlS6FWqxljjJs9e3adl5dXm/YDfPr06XU///xzj8mpdxIZGens6uoqe/PNN291fS4uLs5yx44duhC7rpHZ2sRTY2Nj7oUXXqjZunWrCAAcHBwUw4YNU5mZmWnMzMw0f/rTn5quXLliop2dTZ9opEAIGZD2799vER4eXlNWVpZWWlqaVlFRkerg4KCQy+WsoaGBX1ZWJgCAs2fPmkml0rZ72cf//M//2DU2NvI7n1jWunbtmrCxsZE/ceLEFu2yrpHZ2mhtjUaDuLi4IV5eXm0AMGvWrPqkpKTBSqUSTU1NvKtXrw729fW9pxr7ijoFQsiA9PXXXw8NDw+/7aqeGTNm1B08eNDy/fffL3nyySc9PDw8pBzHYeXKldUAsHHjRmuRSORXWVlp6O/vL42IiBBrt42NjR0qEon8tD83btwwiImJsc3NzTXy9vaWSiQSaXR0tO4w1BdffDF0xowZtdorm4DfRmZHRES4eHh4SD09Pb1ramoEmzZtKgeAkSNHyiZNmtQgkUi8R44c6TV//vyq0aNHy/T4dulQdDYhRC8oOvt2DzoyW4uiswkh5BH0qEdma1GnQAghRIc6BUIIITrUKRBCCNGhToEQQogOdQqEEEJ0qFMghAxYN2/eFEybNs3V0dHRZ/jw4d7jx493O3v2rMljjz0mcXNz8/bw8JDu2bPHQrv+9OnTXZydnX3c3d29Z8+e7SyXy5n2ucOHD5v5+Ph4ubq6eru4uHgvXrzYAQA++OADKw8PD6lEIpEGBAR4pqSk6CK6lyxZ4uDm5ubt6urqvXDhQkeNRqOrbffu3ZavvfaajfZxYmKiCZ/PD9i7d6+unurqan5ISIiri4uLt6urq/cPP/wwSI9vFwDqFAghA5RGo8H06dPdgoKCmoqLi9Nv3LhxfdOmTaWtra28/fv3F+Tl5V0/ffp07htvvOFYXV3NB4Bnn322Nj8/Pz07O/u6TCZj27ZtGwYAly9fNlq9erXT/v37C/Lz86/n5ORcd3V1lQPASy+9VJOTk5ORlZWVsWrVqooVK1Y4AkBCQsKgS5cuDc7Kyrqek5Nz/ddffx104sQJU219p06dMps2bVojAKhUKrz22msOTzzxREPn17B48WLHKVOmNBYUFFzPyMjIeOyxx/R+AxtlHxFCBqRjx46ZCgQCbt26dVXaZWPHjr0tKsLZ2VlpaWmpKi8vFwwbNkwdERGh+1AeNWpUS0lJiXbyHZvVq1eXjxgxQgYABgYGeP3116sAwNLSUvf1v7m5mc9Y++CCMQa5XM5kMhnjOI6pVCpmZ2enBNo7rOvXr5sEBga2drRvPWPGjLorV67oRgK1tbW85ORk09jY2EKgPZ7byMhI3d/vU1fUKRBC9G5t7DXHnIqmfo3O9rAxbd0yy7/HoL3U1FRjf3//1t7aOHv2rIlSqWRSqfS2oDm5XM4OHTo0NDo6uhgAsrOzjdetW1fZfSvApk2brHbt2iVSKpW8hISEbACYNGlSS2BgYJOtra0/ACxcuLBq5MiRMgC4ePGiiVQqbeXxeCgoKDD47rvvLJKSkrIjIiJ0nUJWVpbQ0tJSNXv2bOeMjAwTPz+/lj179hSbmZlpuq+if9DhI0LIH1JRUZHBokWLXPfs2VPI5/Nve+755593GjNmTHNISEjz3bS1fv36quLi4vS333675K233rIFgPT0dGFOTo5RSUlJaklJSer58+dNT548ORgAjh07ZhYSEtIIAFFRUY7vv//+b+ZzUKlULDMz0+TVV1+tyszMzDAxMdFoo7X1iUYKhBC96+0bvb74+vq2xcfHW3T3XG1tLW/q1Klub775ZmnnFFMAWL16tW11dbXg1KlTN7TLPDw8ZMnJySZ//vOfe00q/etf/1q7du1aJwA4dOjQkNGjR7eYm5trAGDSpEkNFy5cGDR16tTmM2fOmB89ejQPAFJTUwctWLDAFQDq6uoEZ8+eNRcIBNz48eObRSKRIjg4uAUAIiIi6t5//329dwo0UiCEDEihoaFNCoWCbd26VZdcmpiYaHL8+PHBTz/9tNvcuXNrXnjhhdtSVKOjo4edOXPGPD4+Pr/z6GH9+vUV0dHRuolu1Go13n77bREApKWl6Sa/OXTokLlYLJYDgJOTk+LChQumSqUScrmcXbhwwVQqlcpqamr4arUaNjY2agAoLS1N0/5MnTq1buvWrTfnz59f7+TkpLKxsVFcu3ZNCACnT5828/T0pBPNhBByL3g8Ho4ePXojKirKcdu2bTZCoZBzcHCQjx49uuXy5cuD6+rqBAcPHhwGAJ999lnB2LFj29atWye2tbWVjxo1ygsApk2bVvfhhx+W/+lPf2rbvHlz8bx581zb2tp4jDFMmjSpAQCio6Otz58/byYQCDhzc3PV559/XgAAixYtqjt79qyZp6enN2MMEyZMaIiMjGzYu3evxfjx43udo1krJibm5rPPPuuqUCiYk5OT/MsvvyzU09ulQ9HZhBC9oOjs7kVERIgXL15c3fWwlb70NTqbRgqEEPIAHTp0qOjOaz08dE6BEEKIDnUKhBBCdKhTIIQQokOdAiGEEB3qFAghhOhQp0AIGbC6i85OTU0Vjhs3zt3U1PSxCRMmuHVev6fo7B07dgzl8XgBycnJxtp13d3dvbOzsw0BYNmyZfY2NjZ+JiYmIzq3t2PHjqEWFhb+EolEKpFIpNHR0cM6Pz9u3Dj3goICA41Gg2XLltk7Ozv7uLq6em/cuNEaAD755BNLDw8PqYeHh3TEiBGSpKQkY+gZdQqEkAGpp+jssrIygzVr1lTs3r27oOs2PUVnA4BIJFJs2LDBtrt9hYWF1ScnJ2d291xoaGhdVlaWNlpbd99Gc3Mzq6+vF7i4uChjYmKGlpSUGNy4cSM9Pz//+qJFi2oBwM3NTX7hwoXsnJycjPXr15e9/PLL4vt/Z3pH9ykQQgakO0VnHzt2zLTrNj1FZwPAxIkTG5KTk02vXbsm9Pf3vy1V9V5uRDtx4oRpYGBgEwB8+umn1l9++aUuWsPe3l4FAJMnT9a1O2HChJalS5cadttYP6JOgRCif/GvOuJWRr9GZ8Na2oqwnfcVnd2TrtHZQHtsxvLlyyveeecd27i4uMK7bevkyZNDPDw8Bru6uso+/vjjYjc3NyUAnDhxwjw8PLweAIqLi4X79++3OH78uIWlpaVq586dN319fW/reGJiYoZNmDChoZtd9Cs6fEQIIV30FJ398ssv1/zyyy+Ds7Ky7uob+5w5c+pv3ryZlpOTkxEcHNz03HPPuWifu3z58uApU6Y0A4BCoWBGRkZcenp65osvvli1cOFC587tfPfdd6b/+c9/hm3fvr2kH15er2ikQAjRv16+0etLb9HZvekuOlvLwMAAS5curdiwYcNdRVhrk1ABYNWqVVXvvvuuPQBkZGQY2traKoyMjDig/XxFZGRkHQDMnz+/funSpc7a7ZKTk42joqLEx48fz+3cnr7QSIEQMiD1Fp3d0zY9RWd3tnTp0pqffvrJrLa29o5fqouKigy0vx88eHCIq6urDACOHDliPmXKlEbtc1OnTq0/efKkKdB+rkEbv52bm2s4e/bs4Z999lmBn5+fvGv7+kCdAiFkQNJGZ//4449mjo6OPm5ubt5vvfWWnZOTkzIgIMBz/vz5rklJSWYikcjvm2++MQOAdevWiaurqwWjRo3ykkgk0jVr1vzmaiMjIyNu8eLFtzp3CkuWLHEQiUR+MpmMJxKJ/FatWmUHAB988IG1m5ubt6enp3Tnzp3Wn3/+eSEAJCQkmM+YMUN3fmDDhg0V8fHxFh4eHtK///3v9nv27CkEgL///e+29fX1gmXLloklEonUx8fHS7/vGkVnE0L0hKKzu9fW1sZGjx4tSU9P7/YS1v7W1+hsGikQQsgDZGxszD2oDuFeUKdACCFEhzoFQgghOtQpEEII0aFOgRBCiA51CoQQQnSoUyCEDFg9RWfHxMQMFYvFPmKx2CcmJmaodv2AgABPbcy1tbW136RJk4YD/x+B7eXlJRWLxT5PPPGEe0JCwqCu+3vzzTdFjLGA8vJy3T0M69evt3FycvJxdnb20d4PAQCPP/64p7Ozs492f6WlpbptioqKDAIDA90BoKdae4rbvl8Uc0EIGZC00dmRkZE1x44dyweAixcvGhcXFxts3rzZLiUlJYPH42HEiBHSuXPn1ltZWalTUlKytds/9dRTw0NDQ+u1j0NDQ+v27dt3E2jPIpo3b57b6dOns0eOHCkDgLy8PIMzZ86Y2draKrTbpKSkGMXFxVlmZ2dfLyoqMpg8ebLHjBkz0gWC9o/effv25QcFBf0mtC8+Pt5s0qRJjZWVlfyeau0ct83n89G5U7kfNFIghAxIPUVnl5SUGAYFBTWKRCK1lZWVOigoqDEuLs6887Z1dXW8pKQkU20eUVehoaFNzz33XNXOnTuttMuWLl3quGXLlhLGmG692NjYIeHh4bXGxsacRCJRiMVi+X//+9/fjDC6On36tPn06dMb4uPjzXuq9dNPP7V+9913y7vGbd8vGikQQvTuHxf+4ZhXl9ev0dluFm6t7wa+2+fo7NLSUgMHBwfdt3l7e3tFaWmpQed1Dhw4YDF27NhGS0tLTU/tBwQEtO7Zs8eqY31zW1tb5Z///Oe2zuuUlpYajhkzRpe0amdnpyguLjYE0AIAL730kjOPx0NoaGjd5s2by3k8HlQqFW7cuGEUEBAgO3LkiHlPtd5N3Pa9oJECIeQPpbton87f7gHg8OHDlnPnzq29m3aampp4mzdvtv3www/L7nJfHAAcOnQoPycnJyMpKSnr4sWLg3ft2jUUAM6ePTto5MiRLXeq9U5x2/eKRgqEEL3r7Ru9vvQUne3g4KBMTEzUzbpWWlpqOH78+Cbt44qKCn5qauqgOXPm5PXW/i+//GLi4eHRlpmZKSwpKRH6+flJAaCystJw5MiRXsnJyZkODg7akQEAoKyszNDBwUEJAC4uLkoAsLCw0ERERNReunRpEICaY8eOmYeEhDTcqdbe4rbvB40UCCEDUk/R2Q4ODorExESzqqoqflVVFT8xMdEsLCxMl1i6b98+y+Dg4HoTE5Me00KPHz8++D//+Y9VVFRU9eOPP95WW1t7rbS0NK20tDRNJBIpfvnll0wnJyfVzJkz6+Pi4izb2tpYVlaWYWFhodGTTz7ZolQqob1CSS6XsxMnTpj7+Pi0AcC5c+fMpk2b1ggAYWFhDT3V2lPc9v2ikQIhZEDSRmdHRUU5btu2zUYoFHIODg7ymJiY4rVr15YFBAR4AcC6devKRCKRbvKa2NhYy3Xr1pV3be+7776zkEgkg2UyGc/BwUF+8ODBPO2VRz0ZNWqULCwsrNbDw8Obz+cjOjq6SCAQoLGxkTdp0iR3pVLJNBoNGzduXOOqVauqysrKBEKhUKM9lyESidQ91bphw4aKWbNmuezatUtkYmKi0cZt3y+KziaE6AVFZ/fdrl27LEtKSgzfe++9iv5qs6/R2TRSIISQR0RUVFSvJ7cfBDqnQAghRIc6BUIIITrUKRBC9EWj0WjYnVcj+tLx/vd4A153qFMghOhLelVVlTl1DA+HRqNhVVVV5gDS+7IdnWgmhOiFSqV6qaKi4tOKigof0BfQh0EDIF2lUr3Ul43oklRCCCE61HsTQgjRoU6BEEKIDnUKhBBCdKhTIIQQokOdAiGEEJ3/A2ZvQ+ueJO1aAAAAAElFTkSuQmCC
"
>
</div>

</div>

</div>
</div>

</div>
<div class="cell border-box-sizing code_cell rendered">
<div class="input">
<div class="prompt input_prompt">In&nbsp;[22]:</div>
<div class="inner_cell">
    <div class="input_area">
<div class=" highlight hl-ipython3"><pre><span></span><span class="n">saved_file_name_4</span> <span class="o">=</span><span class="s2">&quot;data/&quot;</span> <span class="o">+</span> <span class="n">start_yr</span> <span class="o">+</span> <span class="s2">&quot;_to_&quot;</span> <span class="o">+</span> <span class="n">end_yr</span> <span class="o">+</span> <span class="s2">&quot;_sub_class_ipc_no_&quot;</span><span class="o">+</span> <span class="nb">str</span><span class="p">(</span><span class="nb">len</span><span class="p">(</span><span class="n">sub_class_ipc</span><span class="p">))</span> <span class="o">+</span> <span class="s2">&quot;_top_&quot;</span> <span class="o">+</span> <span class="nb">str</span><span class="p">(</span><span class="n">top_rank</span><span class="p">)</span> <span class="o">+</span> <span class="s2">&quot;_pat_cagr_min&quot;</span> <span class="o">+</span> <span class="nb">str</span><span class="p">(</span><span class="n">min_patent_cagr</span><span class="p">)</span><span class="o">+</span> \
                    <span class="s2">&quot;_max&quot;</span> <span class="o">+</span> <span class="nb">str</span><span class="p">(</span><span class="n">max_patent_cagr</span><span class="p">)</span> <span class="o">+</span> <span class="s2">&quot;_applicant_cagr_min&quot;</span> <span class="o">+</span> <span class="nb">str</span><span class="p">(</span><span class="n">min_applicant_cagr</span><span class="p">)</span> <span class="o">+</span> <span class="s2">&quot;_max&quot;</span> <span class="o">+</span> <span class="nb">str</span><span class="p">(</span><span class="n">max_applicant_cagr</span><span class="p">)</span> <span class="o">+</span> <span class="s2">&quot;_analysis_data.csv&quot;</span>
<span class="n">target_ipc_analysis_data</span><span class="o">.</span><span class="n">to_csv</span><span class="p">(</span><span class="n">saved_file_name_4</span><span class="p">)</span>
</pre></div>

    </div>
</div>
</div>

</div>
<div class="cell border-box-sizing code_cell rendered">
<div class="input">
<div class="prompt input_prompt">In&nbsp;[23]:</div>
<div class="inner_cell">
    <div class="input_area">
<div class=" highlight hl-ipython3"><pre><span></span><span class="n">original_pat_data</span> <span class="o">=</span> <span class="n">pd</span><span class="o">.</span><span class="n">read_csv</span><span class="p">(</span><span class="n">modi_ipc_yr_applicant_filename</span><span class="p">)</span>

<span class="n">original_pat_data</span> <span class="o">=</span> <span class="n">original_pat_data</span><span class="o">.</span><span class="n">fillna</span><span class="p">(</span><span class="o">-</span><span class="mi">1</span><span class="p">)</span>

<span class="n">target_ipc1</span> <span class="o">=</span> <span class="nb">list</span><span class="p">(</span><span class="n">target_ipc_analysis_data</span><span class="p">[</span><span class="s1">&#39;accumulated patents&#39;</span><span class="p">]</span><span class="o">.</span><span class="n">sort_values</span><span class="p">(</span><span class="n">ascending</span><span class="o">=</span><span class="kc">False</span><span class="p">)</span><span class="o">.</span><span class="n">index</span><span class="p">)</span>

<span class="n">top_applicants_per_ipc</span> <span class="o">=</span> <span class="n">pd</span><span class="o">.</span><span class="n">DataFrame</span><span class="p">([],</span><span class="n">columns</span><span class="o">=</span><span class="n">target_ipc1</span><span class="p">)</span>

<span class="n">top_app_rank</span> <span class="o">=</span> <span class="mi">40</span>

<span class="n">top_applicant_list</span> <span class="o">=</span> <span class="p">[]</span>



<span class="k">for</span> <span class="n">tg_ipc</span> <span class="ow">in</span> <span class="n">target_ipc1</span><span class="p">:</span>
    <span class="n">target_ipc_applicants</span> <span class="o">=</span> <span class="n">original_pat_data</span><span class="o">.</span><span class="n">loc</span><span class="p">[(</span><span class="n">original_pat_data</span><span class="p">[</span><span class="s1">&#39;IPC&#39;</span><span class="p">]</span><span class="o">==</span><span class="n">tg_ipc</span><span class="p">)</span> <span class="o">&amp;</span> <span class="p">(</span><span class="n">original_pat_data</span><span class="p">[</span><span class="s2">&quot;new_company_univ1&quot;</span><span class="p">]</span><span class="o">!=-</span><span class="mi">1</span><span class="p">)</span> <span class="p">,[</span><span class="s2">&quot;new_company_univ1&quot;</span><span class="p">,</span> <span class="s2">&quot;new_company_univ2&quot;</span><span class="p">]]</span>
    <span class="n">top_applicants</span> <span class="o">=</span> <span class="n">target_ipc_applicants</span><span class="p">[</span><span class="s2">&quot;new_company_univ1&quot;</span><span class="p">]</span><span class="o">.</span><span class="n">value_counts</span><span class="p">()</span>
    <span class="n">top_applicants_list</span> <span class="o">=</span> <span class="n">top_applicants</span><span class="o">.</span><span class="n">index</span><span class="p">[</span><span class="mi">0</span><span class="p">:</span><span class="n">top_app_rank</span><span class="p">]</span>
    <span class="n">top_applicants_per_ipc</span><span class="p">[</span><span class="n">tg_ipc</span><span class="p">]</span><span class="o">=</span><span class="n">top_applicants_list</span>
</pre></div>

    </div>
</div>
</div>

</div>
<div class="cell border-box-sizing code_cell rendered">
<div class="input">
<div class="prompt input_prompt">In&nbsp;[24]:</div>
<div class="inner_cell">
    <div class="input_area">
<div class=" highlight hl-ipython3"><pre><span></span><span class="n">target_ipc_analysis_data</span>
</pre></div>

    </div>
</div>
</div>

<div class="output_wrapper">
<div class="output">


<div class="output_area">

    <div class="prompt output_prompt">Out[24]:</div>



<div class="output_html rendered_html output_subarea output_execute_result">
<div>
<style scoped>
    .dataframe tbody tr th:only-of-type {
        vertical-align: middle;
    }

    .dataframe tbody tr th {
        vertical-align: top;
    }

    .dataframe thead th {
        text-align: right;
    }
</style>
<table border="1" class="dataframe">
  <thead>
    <tr style="text-align: right;">
      <th></th>
      <th>accumulated patents</th>
      <th>accumulated applicants</th>
      <th>averaged patents</th>
      <th>averaged applicants</th>
      <th>averaged weighted CAGR of patents</th>
      <th>averaged weighted CAGR of applicants</th>
    </tr>
  </thead>
  <tbody>
    <tr>
      <th>A61K47/10</th>
      <td>3437</td>
      <td>2290</td>
      <td>245.5</td>
      <td>163.57</td>
      <td>0.38</td>
      <td>0.31</td>
    </tr>
    <tr>
      <th>C22C38/02</th>
      <td>3316</td>
      <td>905</td>
      <td>236.86</td>
      <td>64.64</td>
      <td>0.46</td>
      <td>0.34</td>
    </tr>
    <tr>
      <th>C12N15/10</th>
      <td>3310</td>
      <td>1939</td>
      <td>236.43</td>
      <td>138.5</td>
      <td>0.45</td>
      <td>0.4</td>
    </tr>
    <tr>
      <th>A61K31/713</th>
      <td>3129</td>
      <td>1740</td>
      <td>223.5</td>
      <td>124.29</td>
      <td>0.44</td>
      <td>0.42</td>
    </tr>
    <tr>
      <th>A61K47/26</th>
      <td>2666</td>
      <td>1831</td>
      <td>190.43</td>
      <td>130.79</td>
      <td>0.38</td>
      <td>0.37</td>
    </tr>
    <tr>
      <th>A61Q19/08</th>
      <td>2557</td>
      <td>1317</td>
      <td>182.64</td>
      <td>94.07</td>
      <td>0.35</td>
      <td>0.3</td>
    </tr>
    <tr>
      <th>A61K47/02</th>
      <td>2333</td>
      <td>1650</td>
      <td>166.64</td>
      <td>117.86</td>
      <td>0.36</td>
      <td>0.33</td>
    </tr>
    <tr>
      <th>A61K8/92</th>
      <td>2054</td>
      <td>875</td>
      <td>146.71</td>
      <td>62.5</td>
      <td>0.39</td>
      <td>0.32</td>
    </tr>
    <tr>
      <th>A61K31/167</th>
      <td>1966</td>
      <td>1311</td>
      <td>140.43</td>
      <td>93.64</td>
      <td>0.41</td>
      <td>0.37</td>
    </tr>
    <tr>
      <th>A61L27/54</th>
      <td>1953</td>
      <td>1287</td>
      <td>139.5</td>
      <td>91.93</td>
      <td>0.47</td>
      <td>0.44</td>
    </tr>
    <tr>
      <th>A61K39/39</th>
      <td>1738</td>
      <td>1175</td>
      <td>124.14</td>
      <td>83.93</td>
      <td>0.48</td>
      <td>0.4</td>
    </tr>
    <tr>
      <th>A61K47/18</th>
      <td>1697</td>
      <td>1162</td>
      <td>121.21</td>
      <td>83</td>
      <td>0.39</td>
      <td>0.37</td>
    </tr>
    <tr>
      <th>A61K35/28</th>
      <td>1661</td>
      <td>1115</td>
      <td>118.64</td>
      <td>79.64</td>
      <td>0.47</td>
      <td>0.43</td>
    </tr>
    <tr>
      <th>A61Q5/12</th>
      <td>1648</td>
      <td>622</td>
      <td>117.71</td>
      <td>44.43</td>
      <td>0.31</td>
      <td>0.31</td>
    </tr>
    <tr>
      <th>A61Q19/10</th>
      <td>1643</td>
      <td>834</td>
      <td>117.36</td>
      <td>59.57</td>
      <td>0.44</td>
      <td>0.33</td>
    </tr>
    <tr>
      <th>H01F27/29</th>
      <td>1541</td>
      <td>588</td>
      <td>110.07</td>
      <td>42</td>
      <td>0.47</td>
      <td>0.38</td>
    </tr>
    <tr>
      <th>A61K9/51</th>
      <td>1530</td>
      <td>964</td>
      <td>109.29</td>
      <td>68.86</td>
      <td>0.41</td>
      <td>0.38</td>
    </tr>
    <tr>
      <th>A61K8/04</th>
      <td>1412</td>
      <td>675</td>
      <td>100.86</td>
      <td>48.21</td>
      <td>0.39</td>
      <td>0.35</td>
    </tr>
    <tr>
      <th>A61L27/36</th>
      <td>1384</td>
      <td>806</td>
      <td>98.86</td>
      <td>57.57</td>
      <td>0.42</td>
      <td>0.3</td>
    </tr>
    <tr>
      <th>A61K47/22</th>
      <td>1323</td>
      <td>1008</td>
      <td>94.5</td>
      <td>72</td>
      <td>0.37</td>
      <td>0.35</td>
    </tr>
    <tr>
      <th>B01J20/30</th>
      <td>1298</td>
      <td>870</td>
      <td>92.71</td>
      <td>62.14</td>
      <td>0.38</td>
      <td>0.36</td>
    </tr>
    <tr>
      <th>C12P19/14</th>
      <td>1245</td>
      <td>520</td>
      <td>88.93</td>
      <td>37.14</td>
      <td>0.47</td>
      <td>0.38</td>
    </tr>
    <tr>
      <th>B01J21/06</th>
      <td>1223</td>
      <td>832</td>
      <td>87.36</td>
      <td>59.43</td>
      <td>0.31</td>
      <td>0.36</td>
    </tr>
    <tr>
      <th>A61Q19/02</th>
      <td>1080</td>
      <td>602</td>
      <td>77.14</td>
      <td>43</td>
      <td>0.39</td>
      <td>0.32</td>
    </tr>
    <tr>
      <th>C07K14/725</th>
      <td>1049</td>
      <td>513</td>
      <td>74.93</td>
      <td>36.64</td>
      <td>0.41</td>
      <td>0.45</td>
    </tr>
    <tr>
      <th>C09K8/80</th>
      <td>1013</td>
      <td>404</td>
      <td>72.36</td>
      <td>28.86</td>
      <td>0.48</td>
      <td>0.33</td>
    </tr>
    <tr>
      <th>C08L9/06</th>
      <td>991</td>
      <td>386</td>
      <td>70.79</td>
      <td>27.57</td>
      <td>0.33</td>
      <td>0.37</td>
    </tr>
    <tr>
      <th>B01J35/10</th>
      <td>975</td>
      <td>616</td>
      <td>69.64</td>
      <td>44</td>
      <td>0.48</td>
      <td>0.42</td>
    </tr>
    <tr>
      <th>C12N15/90</th>
      <td>962</td>
      <td>515</td>
      <td>68.71</td>
      <td>36.79</td>
      <td>0.46</td>
      <td>0.34</td>
    </tr>
    <tr>
      <th>A61L27/56</th>
      <td>922</td>
      <td>670</td>
      <td>65.86</td>
      <td>47.86</td>
      <td>0.37</td>
      <td>0.44</td>
    </tr>
    <tr>
      <th>C22C38/46</th>
      <td>919</td>
      <td>398</td>
      <td>65.64</td>
      <td>28.43</td>
      <td>0.47</td>
      <td>0.33</td>
    </tr>
    <tr>
      <th>C12N15/62</th>
      <td>913</td>
      <td>679</td>
      <td>65.21</td>
      <td>48.5</td>
      <td>0.4</td>
      <td>0.39</td>
    </tr>
    <tr>
      <th>C07D405/06</th>
      <td>833</td>
      <td>582</td>
      <td>59.5</td>
      <td>41.57</td>
      <td>0.38</td>
      <td>0.3</td>
    </tr>
    <tr>
      <th>A61L27/18</th>
      <td>798</td>
      <td>579</td>
      <td>57</td>
      <td>41.36</td>
      <td>0.48</td>
      <td>0.37</td>
    </tr>
  </tbody>
</table>
</div>
</div>

</div>

</div>
</div>

</div>
<div class="cell border-box-sizing code_cell rendered">
<div class="input">
<div class="prompt input_prompt">In&nbsp;[25]:</div>
<div class="inner_cell">
    <div class="input_area">
<div class=" highlight hl-ipython3"><pre><span></span><span class="c1">###### 임시 : 코드 실행시간 계산결과 </span>
<span class="n">r_time</span> <span class="o">=</span> <span class="nb">round</span><span class="p">((</span><span class="n">time</span><span class="o">.</span><span class="n">time</span><span class="p">()</span><span class="o">-</span><span class="n">start</span><span class="p">)</span><span class="o">/</span><span class="mi">60</span><span class="p">,</span> <span class="mi">2</span><span class="p">)</span>
<span class="nb">print</span><span class="p">(</span><span class="s1">&#39;Running time :&#39;</span><span class="p">,</span> <span class="n">r_time</span><span class="p">,</span> <span class="s1">&#39;minutes&#39;</span><span class="p">)</span>
</pre></div>

    </div>
</div>
</div>

<div class="output_wrapper">
<div class="output">


<div class="output_area">

    <div class="prompt"></div>


<div class="output_subarea output_stream output_stdout output_text">
<pre>Running time : 5.75 minutes
</pre>
</div>
</div>

</div>
</div>

</div>
<div class="cell border-box-sizing code_cell rendered">
<div class="input">
<div class="prompt input_prompt">In&nbsp;[26]:</div>
<div class="inner_cell">
    <div class="input_area">
<div class=" highlight hl-ipython3"><pre><span></span><span class="n">top_applicants_per_ipc</span>
<span class="n">saved_file_name_5</span> <span class="o">=</span><span class="s2">&quot;data/&quot;</span> <span class="o">+</span> <span class="n">start_yr</span> <span class="o">+</span> <span class="s2">&quot;_to_&quot;</span> <span class="o">+</span> <span class="n">end_yr</span> <span class="o">+</span> <span class="s2">&quot;_sub_class_ipc_no_&quot;</span><span class="o">+</span> <span class="nb">str</span><span class="p">(</span><span class="nb">len</span><span class="p">(</span><span class="n">sub_class_ipc</span><span class="p">))</span> <span class="o">+</span> <span class="s2">&quot;_top_&quot;</span> <span class="o">+</span> <span class="nb">str</span><span class="p">(</span><span class="n">top_rank</span><span class="p">)</span> <span class="o">+</span> <span class="s2">&quot;_pat_cagr_min&quot;</span> <span class="o">+</span> <span class="nb">str</span><span class="p">(</span><span class="n">min_patent_cagr</span><span class="p">)</span><span class="o">+</span> \
                    <span class="s2">&quot;_max&quot;</span> <span class="o">+</span> <span class="nb">str</span><span class="p">(</span><span class="n">max_patent_cagr</span><span class="p">)</span> <span class="o">+</span> <span class="s2">&quot;_applicant_cagr_min&quot;</span> <span class="o">+</span> <span class="nb">str</span><span class="p">(</span><span class="n">min_applicant_cagr</span><span class="p">)</span> <span class="o">+</span> <span class="s2">&quot;_max&quot;</span> <span class="o">+</span> <span class="nb">str</span><span class="p">(</span><span class="n">max_applicant_cagr</span><span class="p">)</span> <span class="o">+</span> <span class="s2">&quot;_top_applicants_data.csv&quot;</span>
<span class="n">top_applicants_per_ipc</span><span class="o">.</span><span class="n">to_csv</span><span class="p">(</span><span class="n">saved_file_name_5</span><span class="p">)</span>
</pre></div>

    </div>
</div>
</div>

</div>
<div class="cell border-box-sizing code_cell rendered">
<div class="input">
<div class="prompt input_prompt">In&nbsp;[27]:</div>
<div class="inner_cell">
    <div class="input_area">
<div class=" highlight hl-ipython3"><pre><span></span><span class="nb">len</span><span class="p">(</span><span class="n">target_ipc_analysis_data</span><span class="o">.</span><span class="n">index</span><span class="p">)</span>
</pre></div>

    </div>
</div>
</div>

<div class="output_wrapper">
<div class="output">


<div class="output_area">

    <div class="prompt output_prompt">Out[27]:</div>




<div class="output_text output_subarea output_execute_result">
<pre>34</pre>
</div>

</div>

</div>
</div>

</div>
<div class="cell border-box-sizing code_cell rendered">
<div class="input">
<div class="prompt input_prompt">In&nbsp;[&nbsp;]:</div>
<div class="inner_cell">
    <div class="input_area">
<div class=" highlight hl-ipython3"><pre><span></span> 
</pre></div>

    </div>
</div>
</div>

</div>
    </div>
  </div>
</body>

 


</html>
