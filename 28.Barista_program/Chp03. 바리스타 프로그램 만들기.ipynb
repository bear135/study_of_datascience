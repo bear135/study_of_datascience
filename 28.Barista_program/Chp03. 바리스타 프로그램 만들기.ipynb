{
 "cells": [
  {
   "cell_type": "markdown",
   "id": "6c606360-53e9-4a86-b396-ad3745fd202e",
   "metadata": {},
   "source": [
    "## Chp03. 바리스타 프로그램 만들기"
   ]
  },
  {
   "cell_type": "markdown",
   "id": "644b7065-e03c-4efc-846b-b1c42e037739",
   "metadata": {},
   "source": [
    "- 01-4. 예외처리(try~except)"
   ]
  },
  {
   "cell_type": "code",
   "execution_count": 15,
   "id": "b08e64ba-9281-47af-b165-17cc11edbcd5",
   "metadata": {},
   "outputs": [
    {
     "name": "stdout",
     "output_type": "stream",
     "text": [
      "100.0\n",
      "111.11111111111111\n",
      "125.0\n",
      "142.85714285714286\n",
      "166.66666666666666\n",
      "200.0\n",
      "250.0\n",
      "333.3333333333333\n",
      "500.0\n",
      "1000.0\n"
     ]
    }
   ],
   "source": [
    "a = 1000\n",
    "b = 10\n",
    "\n",
    "try:\n",
    "    while b > 0 : \n",
    "        print(a / b)\n",
    "        b = b-1\n",
    "        \n",
    "except:\n",
    "    print(\"not divide with Zero\")"
   ]
  },
  {
   "cell_type": "code",
   "execution_count": 18,
   "id": "33fb1e97-93e4-4d74-ae26-b7f74d298697",
   "metadata": {},
   "outputs": [
    {
     "name": "stdout",
     "output_type": "stream",
     "text": [
      "--- 메뉴 --- \n",
      "1.아메리카노\n",
      "2.라떼\n",
      "3.카푸치노\n",
      "------------\n"
     ]
    },
    {
     "name": "stdin",
     "output_type": "stream",
     "text": [
      "무엇을 주문하시겠습니까? 아이스아메리카노\n"
     ]
    },
    {
     "name": "stdout",
     "output_type": "stream",
     "text": [
      "아이스아메리카노  를 주문하셨습니다\n"
     ]
    }
   ],
   "source": [
    "while True: \n",
    "    print(\"--- 메뉴 --- \")\n",
    "    print(\"1.아메리카노\")\n",
    "    print(\"2.라떼\")\n",
    "    print(\"3.카푸치노\")\n",
    "    print(\"------------\")\n",
    "    \n",
    "    order = input(\"무엇을 주문하시겠습니까?\")\n",
    "    print(order, \" 를 주문하셨습니다\")\n",
    "    break "
   ]
  },
  {
   "cell_type": "markdown",
   "id": "8e67e5fe-0e7a-4f4b-af54-fd79f6bcbc8a",
   "metadata": {},
   "source": [
    "- 01-10. 커피 주문 프로그램 "
   ]
  },
  {
   "cell_type": "code",
   "execution_count": 22,
   "id": "a9df656f-13b7-4621-8978-78086a91f9b9",
   "metadata": {},
   "outputs": [
    {
     "name": "stdout",
     "output_type": "stream",
     "text": [
      "--- 메뉴 --- \n",
      "1.아메리카노\n",
      "2.라떼\n",
      "3.카푸치노\n",
      "4.녹차라떼\n",
      "5.망고주스\n",
      "------------\n"
     ]
    },
    {
     "name": "stdin",
     "output_type": "stream",
     "text": [
      "주문하려는 메뉴 번호를 눌러주세요 (q는 종료) 1\n"
     ]
    },
    {
     "name": "stdout",
     "output_type": "stream",
     "text": [
      "1  번을 주문하셨습니다.\n",
      "아메리카노를 만들고 있습니다.\n",
      "--- 메뉴 --- \n",
      "1.아메리카노\n",
      "2.라떼\n",
      "3.카푸치노\n",
      "4.녹차라떼\n",
      "5.망고주스\n",
      "------------\n"
     ]
    },
    {
     "name": "stdin",
     "output_type": "stream",
     "text": [
      "주문하려는 메뉴 번호를 눌러주세요 (q는 종료) 4\n"
     ]
    },
    {
     "name": "stdout",
     "output_type": "stream",
     "text": [
      "4  번을 주문하셨습니다.\n",
      "녹차라떼를 만들고 있습니다.\n",
      "--- 메뉴 --- \n",
      "1.아메리카노\n",
      "2.라떼\n",
      "3.카푸치노\n",
      "4.녹차라떼\n",
      "5.망고주스\n",
      "------------\n"
     ]
    },
    {
     "name": "stdin",
     "output_type": "stream",
     "text": [
      "주문하려는 메뉴 번호를 눌러주세요 (q는 종료) q\n"
     ]
    },
    {
     "name": "stdout",
     "output_type": "stream",
     "text": [
      "Bye\n"
     ]
    }
   ],
   "source": [
    "while True: \n",
    "    ## 메뉴판 \n",
    "    print(\"--- 메뉴 --- \")\n",
    "    print(\"1.아메리카노\")\n",
    "    print(\"2.라떼\")\n",
    "    print(\"3.카푸치노\")\n",
    "    print(\"4.녹차라떼\")\n",
    "    print(\"5.망고주스\")\n",
    "    print(\"------------\")\n",
    "    \n",
    "    ## 주문 \n",
    "    order = input('주문하려는 메뉴 번호를 눌러주세요 (q는 종료)')\n",
    "    if order == \"q\" : \n",
    "        print (\"Bye\")\n",
    "        break \n",
    "    print(order, \" 번을 주문하셨습니다.\")\n",
    "    \n",
    "    ## 주문처리 \n",
    "    if order == \"1\" : \n",
    "        print (\"아메리카노를 만들고 있습니다.\")\n",
    "    elif order == \"2\" : \n",
    "        print (\"라떼를 만들고 있습니다.\")\n",
    "    elif order == \"3\" : \n",
    "        print (\"카푸치노를 만들고 있습니다.\")\n",
    "    elif order == \"4\" : \n",
    "        print (\"녹차라떼를 만들고 있습니다.\")\n",
    "    elif order == \"5\" : \n",
    "        print (\"망고주스를 만들고 있습니다.\")\n",
    "    else : \n",
    "        print (\"잘못된 주문입니다. 다시 주문해 주세요.\")"
   ]
  },
  {
   "cell_type": "code",
   "execution_count": 28,
   "id": "a86a9292-fed6-4082-8ccb-dac79c8d2fc6",
   "metadata": {},
   "outputs": [
    {
     "name": "stdout",
     "output_type": "stream",
     "text": [
      "0\n",
      "1\n",
      "2\n",
      "3\n",
      "4\n",
      "5\n",
      "6\n",
      "7\n",
      "8\n",
      "9\n"
     ]
    }
   ],
   "source": [
    "## 다음 차례의 연산에 대해 특정 시간만큼 지연시키려고 할때, time.sleep을 사용 \n",
    "\n",
    "import time \n",
    "n = 0 \n",
    "\n",
    "while True : \n",
    "    print(n)\n",
    "    time.sleep(0.5)\n",
    "    \n",
    "    n +=1\n",
    "    if n >= 10 : \n",
    "        break "
   ]
  },
  {
   "cell_type": "code",
   "execution_count": null,
   "id": "85f20f34-61b3-4775-bbf2-95ba88fcc514",
   "metadata": {},
   "outputs": [],
   "source": []
  },
  {
   "cell_type": "code",
   "execution_count": null,
   "id": "3f3fe395-409c-4d2d-9be7-ae4023c0b7b9",
   "metadata": {},
   "outputs": [],
   "source": []
  }
 ],
 "metadata": {
  "kernelspec": {
   "display_name": "Python 3 (ipykernel)",
   "language": "python",
   "name": "python3"
  },
  "language_info": {
   "codemirror_mode": {
    "name": "ipython",
    "version": 3
   },
   "file_extension": ".py",
   "mimetype": "text/x-python",
   "name": "python",
   "nbconvert_exporter": "python",
   "pygments_lexer": "ipython3",
   "version": "3.9.6"
  }
 },
 "nbformat": 4,
 "nbformat_minor": 5
}
