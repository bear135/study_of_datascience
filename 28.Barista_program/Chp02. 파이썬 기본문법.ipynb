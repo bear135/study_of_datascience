{
 "cells": [
  {
   "cell_type": "markdown",
   "id": "372fb63f-57a2-4a7f-bd9e-26a6706702dc",
   "metadata": {},
   "source": [
    "## Chp02. 파이썬 기본문법"
   ]
  },
  {
   "cell_type": "markdown",
   "id": "453566af-eb07-4746-bf7d-26955f8d0302",
   "metadata": {},
   "source": [
    "#### 01-5. 형식문자열 \n",
    "- C언어와 같이, %를 사용하여 형식을 지정한다. \n",
    "- 또는 format 함수를 사용할 수도 있다 (파이썬3 이후부터)"
   ]
  },
  {
   "cell_type": "code",
   "execution_count": 8,
   "id": "4b08ccc2-a388-4c6c-a106-5d718105816e",
   "metadata": {},
   "outputs": [
    {
     "name": "stdout",
     "output_type": "stream",
     "text": [
      "1\n",
      "1.234500 3.456700\n",
      "1 3.46\n"
     ]
    }
   ],
   "source": [
    "x = 1.2345\n",
    "y = 3.4567\n",
    "\n",
    "print('%d' %x)\n",
    "print('%f %f' %(x, y))\n",
    "print('%.0f %.2f' %(x, y))"
   ]
  },
  {
   "cell_type": "code",
   "execution_count": 10,
   "id": "28313d37-5c02-4285-bfd1-a0a2c6c6c537",
   "metadata": {},
   "outputs": [
    {
     "name": "stdout",
     "output_type": "stream",
     "text": [
      "1.23 3.4567\n"
     ]
    }
   ],
   "source": [
    "print('{:.2f} {:.4f}'.format(x, y))"
   ]
  },
  {
   "cell_type": "markdown",
   "id": "622724b0-e486-4039-9323-338e7783cf5c",
   "metadata": {},
   "source": [
    "#### 02-5. 코드 수행속도 측정 "
   ]
  },
  {
   "cell_type": "code",
   "execution_count": 19,
   "id": "595a02f8-99e6-4242-82c7-90749edfc229",
   "metadata": {},
   "outputs": [
    {
     "name": "stdout",
     "output_type": "stream",
     "text": [
      "10000000\n",
      "0.6951508522033691\n"
     ]
    }
   ],
   "source": [
    "import time \n",
    "start = time.time()  ## 현재시간을 start로 \n",
    "\n",
    "cnt = 0 \n",
    "while True : \n",
    "    cnt = cnt +1\n",
    "    if cnt >= 10000000 : \n",
    "        break \n",
    "\n",
    "end = time.time() \n",
    "\n",
    "print(cnt)\n",
    "print(end - start)"
   ]
  },
  {
   "cell_type": "code",
   "execution_count": null,
   "id": "d0045e92-5713-42c3-ae79-a4c493622be3",
   "metadata": {},
   "outputs": [],
   "source": []
  },
  {
   "cell_type": "code",
   "execution_count": null,
   "id": "84384d63-b99c-445d-a53c-f585ce09cce8",
   "metadata": {},
   "outputs": [],
   "source": []
  }
 ],
 "metadata": {
  "kernelspec": {
   "display_name": "Python 3 (ipykernel)",
   "language": "python",
   "name": "python3"
  },
  "language_info": {
   "codemirror_mode": {
    "name": "ipython",
    "version": 3
   },
   "file_extension": ".py",
   "mimetype": "text/x-python",
   "name": "python",
   "nbconvert_exporter": "python",
   "pygments_lexer": "ipython3",
   "version": "3.9.6"
  }
 },
 "nbformat": 4,
 "nbformat_minor": 5
}
