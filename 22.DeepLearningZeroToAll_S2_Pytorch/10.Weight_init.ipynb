{
 "cells": [
  {
   "cell_type": "markdown",
   "id": "level-final",
   "metadata": {},
   "source": [
    "### 10. Weight Initialization"
   ]
  },
  {
   "cell_type": "markdown",
   "id": "buried-hotel",
   "metadata": {},
   "source": [
    "- weight의 초기화 여부에 따라 모형의 성능이 매우 달라진다. \n",
    "- 모든 초기값을 0으로 하는것은 매우 않좋은 방법이다. (학습 자체가 불가능) \n",
    "- 많이 사용되는 초기화 방법 (weight의 정규분포 또는 uniform 분포를 사용하여 초기화) \n",
    "\n",
    "<img src = 'img/xavier_n_he.png'>"
   ]
  },
  {
   "cell_type": "markdown",
   "id": "fifth-battle",
   "metadata": {},
   "source": [
    "- xavier_uniform을 통해 초기화한 코드 \n",
    "    - ex> torch.nn.init.normal_(linear1.weight) --> torch.nn.init.xavier_uniform_(linear1.weight)\n",
    "    - 기존 정규분포 초기화 방식에 비해 정확도 향상 확인!! "
   ]
  },
  {
   "cell_type": "code",
   "execution_count": 1,
   "id": "marked-frederick",
   "metadata": {},
   "outputs": [
    {
     "name": "stdout",
     "output_type": "stream",
     "text": [
      "epoch: 1 cost= tensor(0.2802, grad_fn=<AddBackward0>)\n",
      "epoch: 2 cost= tensor(0.0926, grad_fn=<AddBackward0>)\n",
      "epoch: 3 cost= tensor(0.0600, grad_fn=<AddBackward0>)\n",
      "epoch: 4 cost= tensor(0.0432, grad_fn=<AddBackward0>)\n",
      "epoch: 5 cost= tensor(0.0316, grad_fn=<AddBackward0>)\n",
      "epoch: 6 cost= tensor(0.0240, grad_fn=<AddBackward0>)\n",
      "epoch: 7 cost= tensor(0.0230, grad_fn=<AddBackward0>)\n",
      "epoch: 8 cost= tensor(0.0196, grad_fn=<AddBackward0>)\n",
      "epoch: 9 cost= tensor(0.0155, grad_fn=<AddBackward0>)\n",
      "epoch: 10 cost= tensor(0.0146, grad_fn=<AddBackward0>)\n",
      "epoch: 11 cost= tensor(0.0119, grad_fn=<AddBackward0>)\n",
      "epoch: 12 cost= tensor(0.0134, grad_fn=<AddBackward0>)\n",
      "epoch: 13 cost= tensor(0.0119, grad_fn=<AddBackward0>)\n",
      "epoch: 14 cost= tensor(0.0116, grad_fn=<AddBackward0>)\n",
      "epoch: 15 cost= tensor(0.0087, grad_fn=<AddBackward0>)\n",
      "Running time : 199.91294390000002\n"
     ]
    }
   ],
   "source": [
    "import torch \n",
    "import torchvision.datasets as dsets \n",
    "import torchvision.transforms as transforms \n",
    "import timeit\n",
    "device = 'cpu'\n",
    "#device = 'cuda' if torch.cuda.is_available() else 'cpu'\n",
    "\n",
    "## parameters\n",
    "training_epoch = 15 \n",
    "batch_size = 100\n",
    "learning_rate = 0.001\n",
    "\n",
    "## dataset \n",
    "mnist_train = dsets.MNIST(root = 'MNIST_data/', \n",
    "                          train = True, \n",
    "                          transform = transforms.ToTensor(), \n",
    "                          download = True )\n",
    "\n",
    "mnist_test = dsets.MNIST(root = 'MNIST_data/', \n",
    "                          train = False, \n",
    "                          transform = transforms.ToTensor(), \n",
    "                          download = True )\n",
    "\n",
    "data_loader = torch.utils.data.DataLoader(dataset = mnist_train, \n",
    "                                         batch_size = batch_size, \n",
    "                                         shuffle = True, \n",
    "                                         drop_last = True )\n",
    "\n",
    "## use 3 layers\n",
    "linear1 = torch.nn.Linear(28*28, 256, bias = True)\n",
    "linear2 = torch.nn.Linear(256, 256, bias = True)\n",
    "linear3 = torch.nn.Linear(256, 10, bias = True)\n",
    "\n",
    "## 모형들의 weight를 xavier_uniform 분포로 초기화 \n",
    "torch.nn.init.xavier_uniform_(linear1.weight)\n",
    "torch.nn.init.xavier_uniform_(linear2.weight)\n",
    "torch.nn.init.xavier_uniform_(linear3.weight)\n",
    "\n",
    "## model, cost function, optimizer \n",
    "## softmax 대신 relu & SGD 대신 Adam 사용 \n",
    "relu = torch.nn.ReLU()\n",
    "\n",
    "model = torch.nn.Sequential(linear1, relu, \n",
    "                            linear2, relu, \n",
    "                            linear3, relu).to(device)\n",
    "\n",
    "criterion = torch.nn.CrossEntropyLoss().to(device)\n",
    "optimizer = torch.optim.Adam(model.parameters(), lr = learning_rate)\n",
    "#optimizer = torch.optim.SGD(model.parameters(), lr = learning_rate)\n",
    "\n",
    "total_batch = len(data_loader)\n",
    "\n",
    "start_time = timeit.default_timer()  ## start time check \n",
    "\n",
    "for epoch in range(training_epoch) : \n",
    "    avg_cost = 0 \n",
    "    for X, Y in data_loader : \n",
    "        X = X.view(-1, 28*28).to(device)\n",
    "        Y = Y.to(device)\n",
    "        hypothesis = model(X)\n",
    "        cost = criterion(hypothesis, Y)\n",
    "        \n",
    "        optimizer.zero_grad()\n",
    "        cost.backward()\n",
    "        optimizer.step()\n",
    "        \n",
    "        avg_cost += cost / total_batch\n",
    "        \n",
    "    print('epoch:', epoch+1, 'cost=', avg_cost)\n",
    "    \n",
    "terminate_time = timeit.default_timer()  ## end time check\n",
    "print('Running time :', terminate_time - start_time)"
   ]
  },
  {
   "cell_type": "code",
   "execution_count": 2,
   "id": "naked-conservation",
   "metadata": {},
   "outputs": [
    {
     "name": "stderr",
     "output_type": "stream",
     "text": [
      "c:\\python\\lib\\site-packages\\torchvision\\datasets\\mnist.py:58: UserWarning: test_data has been renamed data\n",
      "  warnings.warn(\"test_data has been renamed data\")\n",
      "c:\\python\\lib\\site-packages\\torchvision\\datasets\\mnist.py:48: UserWarning: test_labels has been renamed targets\n",
      "  warnings.warn(\"test_labels has been renamed targets\")\n"
     ]
    },
    {
     "name": "stdout",
     "output_type": "stream",
     "text": [
      "Accuracy: 0.9807999730110168\n",
      "Label:  3\n",
      "Prediction:  3\n"
     ]
    },
    {
     "data": {
      "image/png": "[encoded data removed]",
      "text/plain": [
       "<Figure size 432x288 with 1 Axes>"
      ]
     },
     "metadata": {
      "needs_background": "light"
     },
     "output_type": "display_data"
    }
   ],
   "source": [
    "# Test the model using test sets\n",
    "import random \n",
    "import matplotlib.pyplot as plt\n",
    "\n",
    "with torch.no_grad():\n",
    "    X_test = mnist_test.test_data.view(-1, 28 * 28).float().to(device)\n",
    "    Y_test = mnist_test.test_labels.to(device)\n",
    "\n",
    "    prediction = model(X_test)\n",
    "    correct_prediction = torch.argmax(prediction, 1) == Y_test\n",
    "    accuracy = correct_prediction.float().mean()\n",
    "    print('Accuracy:', accuracy.item())\n",
    "\n",
    "    # Get one and predict\n",
    "    r = random.randint(0, len(mnist_test) - 1)\n",
    "    X_single_data = mnist_test.test_data[r:r + 1].view(-1, 28 * 28).float().to(device)\n",
    "    Y_single_data = mnist_test.test_labels[r:r + 1].to(device)\n",
    "\n",
    "    single_prediction = model(X_single_data)\n",
    "    print('Label: ', Y_single_data.item())\n",
    "    print('Prediction: ', torch.argmax(single_prediction, 1).item())\n",
    "    \n",
    "    plt.imshow(mnist_test.test_data[r:r + 1].view(28, 28), cmap='Greys', interpolation='nearest')\n",
    "    plt.show()"
   ]
  },
  {
   "cell_type": "markdown",
   "id": "cloudy-patio",
   "metadata": {},
   "source": [
    "- cf. layer를 5개로 늘여서 좀더 deep하게 해보자 \n",
    "    - cost 감소 & accuracy 개선 확인!!"
   ]
  },
  {
   "cell_type": "code",
   "execution_count": 3,
   "id": "dirty-collect",
   "metadata": {},
   "outputs": [
    {
     "name": "stdout",
     "output_type": "stream",
     "text": [
      "epoch: 1 cost= tensor(0.8149, grad_fn=<AddBackward0>)\n",
      "epoch: 2 cost= tensor(0.5345, grad_fn=<AddBackward0>)\n",
      "epoch: 3 cost= tensor(0.5090, grad_fn=<AddBackward0>)\n",
      "epoch: 4 cost= tensor(0.4953, grad_fn=<AddBackward0>)\n",
      "epoch: 5 cost= tensor(0.4883, grad_fn=<AddBackward0>)\n",
      "epoch: 6 cost= tensor(0.4836, grad_fn=<AddBackward0>)\n",
      "epoch: 7 cost= tensor(0.4770, grad_fn=<AddBackward0>)\n",
      "epoch: 8 cost= tensor(0.4798, grad_fn=<AddBackward0>)\n",
      "epoch: 9 cost= tensor(0.4702, grad_fn=<AddBackward0>)\n",
      "epoch: 10 cost= tensor(0.4667, grad_fn=<AddBackward0>)\n",
      "epoch: 11 cost= tensor(0.4696, grad_fn=<AddBackward0>)\n",
      "epoch: 12 cost= tensor(0.4681, grad_fn=<AddBackward0>)\n",
      "epoch: 13 cost= tensor(0.4652, grad_fn=<AddBackward0>)\n",
      "epoch: 14 cost= tensor(0.4669, grad_fn=<AddBackward0>)\n",
      "epoch: 15 cost= tensor(0.4651, grad_fn=<AddBackward0>)\n",
      "Running time : 433.0705700000001\n"
     ]
    }
   ],
   "source": [
    "import torch \n",
    "import torchvision.datasets as dsets \n",
    "import torchvision.transforms as transforms \n",
    "\n",
    "device = 'cpu'\n",
    "#device = 'cuda' if torch.cuda.is_available() else 'cpu'\n",
    "\n",
    "## parameters\n",
    "training_epoch = 15 \n",
    "batch_size = 100\n",
    "learning_rate = 0.001\n",
    "\n",
    "## dataset \n",
    "mnist_train = dsets.MNIST(root = 'MNIST_data/', \n",
    "                          train = True, \n",
    "                          transform = transforms.ToTensor(), \n",
    "                          download = True )\n",
    "\n",
    "mnist_test = dsets.MNIST(root = 'MNIST_data/', \n",
    "                          train = False, \n",
    "                          transform = transforms.ToTensor(), \n",
    "                          download = True )\n",
    "\n",
    "data_loader = torch.utils.data.DataLoader(dataset = mnist_train, \n",
    "                                         batch_size = batch_size, \n",
    "                                         shuffle = True, \n",
    "                                         drop_last = True )\n",
    "\n",
    "## use 5 layers & 256 --> 512\n",
    "linear1 = torch.nn.Linear(28*28, 512, bias = True)\n",
    "linear2 = torch.nn.Linear(512, 512, bias = True)\n",
    "linear3 = torch.nn.Linear(512, 512, bias = True)\n",
    "linear4 = torch.nn.Linear(512, 512, bias = True)\n",
    "linear5 = torch.nn.Linear(512, 10, bias = True)\n",
    "\n",
    "## 모형들의 weight를 xavier_uniform 분포로 초기화 \n",
    "torch.nn.init.xavier_uniform_(linear1.weight)\n",
    "torch.nn.init.xavier_uniform_(linear2.weight)\n",
    "torch.nn.init.xavier_uniform_(linear3.weight)\n",
    "torch.nn.init.xavier_uniform_(linear4.weight)\n",
    "torch.nn.init.xavier_uniform_(linear5.weight)\n",
    "\n",
    "## model, cost function, optimizer \n",
    "## softmax 대신 relu & SGD 대신 Adam 사용 \n",
    "relu = torch.nn.ReLU()\n",
    "\n",
    "model = torch.nn.Sequential(linear1, relu, \n",
    "                            linear2, relu, \n",
    "                            linear3, relu, \n",
    "                            linear4, relu, \n",
    "                            linear5, relu).to(device)\n",
    "\n",
    "criterion = torch.nn.CrossEntropyLoss().to(device)\n",
    "optimizer = torch.optim.Adam(model.parameters(), lr = learning_rate)\n",
    "#optimizer = torch.optim.SGD(model.parameters(), lr = learning_rate)\n",
    "\n",
    "total_batch = len(data_loader)\n",
    "\n",
    "start_time = timeit.default_timer()  ## start time check \n",
    "\n",
    "for epoch in range(training_epoch) : \n",
    "    avg_cost = 0 \n",
    "    for X, Y in data_loader : \n",
    "        X = X.view(-1, 28*28).to(device)\n",
    "        Y = Y.to(device)\n",
    "        hypothesis = model(X)\n",
    "        cost = criterion(hypothesis, Y)\n",
    "        \n",
    "        optimizer.zero_grad()\n",
    "        cost.backward()\n",
    "        optimizer.step()\n",
    "        \n",
    "        avg_cost += cost / total_batch\n",
    "        \n",
    "    print('epoch:', epoch+1, 'cost=', avg_cost)\n",
    "    \n",
    "terminate_time = timeit.default_timer()  ## end time check\n",
    "print('Running time :', terminate_time - start_time)"
   ]
  },
  {
   "cell_type": "code",
   "execution_count": 4,
   "id": "valued-terminal",
   "metadata": {},
   "outputs": [
    {
     "name": "stdout",
     "output_type": "stream",
     "text": [
      "Accuracy: 0.7930999994277954\n",
      "Label:  5\n",
      "Prediction:  0\n"
     ]
    },
    {
     "data": {
      "image/png": "[encoded data removed]",
      "text/plain": [
       "<Figure size 432x288 with 1 Axes>"
      ]
     },
     "metadata": {
      "needs_background": "light"
     },
     "output_type": "display_data"
    }
   ],
   "source": [
    "# Test the model using test sets\n",
    "import random \n",
    "import matplotlib.pyplot as plt\n",
    "\n",
    "with torch.no_grad():\n",
    "    X_test = mnist_test.test_data.view(-1, 28 * 28).float().to(device)\n",
    "    Y_test = mnist_test.test_labels.to(device)\n",
    "\n",
    "    prediction = model(X_test)\n",
    "    correct_prediction = torch.argmax(prediction, 1) == Y_test\n",
    "    accuracy = correct_prediction.float().mean()\n",
    "    print('Accuracy:', accuracy.item())\n",
    "\n",
    "    # Get one and predict\n",
    "    r = random.randint(0, len(mnist_test) - 1)\n",
    "    X_single_data = mnist_test.test_data[r:r + 1].view(-1, 28 * 28).float().to(device)\n",
    "    Y_single_data = mnist_test.test_labels[r:r + 1].to(device)\n",
    "\n",
    "    single_prediction = model(X_single_data)\n",
    "    print('Label: ', Y_single_data.item())\n",
    "    print('Prediction: ', torch.argmax(single_prediction, 1).item())\n",
    "    \n",
    "    plt.imshow(mnist_test.test_data[r:r + 1].view(28, 28), cmap='Greys', interpolation='nearest')\n",
    "    plt.show()"
   ]
  },
  {
   "cell_type": "code",
   "execution_count": null,
   "id": "educational-environment",
   "metadata": {},
   "outputs": [],
   "source": []
  }
 ],
 "metadata": {
  "kernelspec": {
   "display_name": "Python 3",
   "language": "python",
   "name": "python3"
  },
  "language_info": {
   "codemirror_mode": {
    "name": "ipython",
    "version": 3
   },
   "file_extension": ".py",
   "mimetype": "text/x-python",
   "name": "python",
   "nbconvert_exporter": "python",
   "pygments_lexer": "ipython3",
   "version": "3.8.7"
  }
 },
 "nbformat": 4,
 "nbformat_minor": 5
}
