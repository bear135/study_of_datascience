{
 "cells": [
  {
   "cell_type": "markdown",
   "id": "operating-colors",
   "metadata": {},
   "source": [
    "### 01. Tensor Manipulation (텐서 다루기)"
   ]
  },
  {
   "cell_type": "code",
   "execution_count": 1,
   "id": "brilliant-preview",
   "metadata": {},
   "outputs": [],
   "source": [
    "import numpy as np \n",
    "import torch "
   ]
  },
  {
   "cell_type": "code",
   "execution_count": 30,
   "id": "expensive-lithuania",
   "metadata": {},
   "outputs": [
    {
     "output_type": "stream",
     "name": "stdout",
     "text": [
      "[0. 1. 2. 3. 4. 5. 6.]\n"
     ]
    }
   ],
   "source": [
    "### pytorch는 numpy와 매우 유사하다. \n",
    "### 1D array with numpy --> 7개의 elements를 가진 1차원 벡터이다. \n",
    "\n",
    "t = np.array([0., 1., 2., 3., 4., 5., 6.])\n",
    "print(t)"
   ]
  },
  {
   "cell_type": "code",
   "execution_count": 3,
   "id": "interpreted-force",
   "metadata": {},
   "outputs": [
    {
     "output_type": "stream",
     "name": "stdout",
     "text": [
      "Rank = 1\nSahpe = (7,)\n"
     ]
    }
   ],
   "source": [
    "print('Rank =', t.ndim)\n",
    "print('Sahpe =', t.shape)"
   ]
  },
  {
   "cell_type": "code",
   "execution_count": 4,
   "id": "central-columbus",
   "metadata": {},
   "outputs": [
    {
     "output_type": "stream",
     "name": "stdout",
     "text": [
      "0.0 1.0 6.0\n[2. 3. 4.] [4. 5.]\n[0. 1.] [3. 4. 5. 6.]\n"
     ]
    }
   ],
   "source": [
    "### 기본적인 위치값, 슬라이싱 동일함 \n",
    "print(t[0], t[1], t[-1])\n",
    "print(t[2:5], t[4:-1])\n",
    "print(t[:2], t[3:])"
   ]
  },
  {
   "cell_type": "code",
   "execution_count": 5,
   "id": "worth-branch",
   "metadata": {},
   "outputs": [
    {
     "output_type": "stream",
     "name": "stdout",
     "text": [
      "[[ 1.  2.  3.]\n",
      " [ 4.  5.  6.]\n",
      " [ 7.  8.  9.]\n",
      " [10. 11. 12.]]\n",
      "2\n",
      "(4, 3)\n"
     ]
    }
   ],
   "source": [
    "### 2D array with numpy \n",
    "t = np.array([[1., 2., 3.], [4., 5., 6.], \n",
    "              [7., 8., 9.], [10., 11., 12.]])\n",
    "print(t)\n",
    "print(t.ndim)\n",
    "print(t.shape)"
   ]
  },
  {
   "cell_type": "code",
   "execution_count": 6,
   "id": "inappropriate-pickup",
   "metadata": {},
   "outputs": [
    {
     "output_type": "stream",
     "name": "stdout",
     "text": [
      "tensor([0., 1., 2., 3., 4., 5., 6.])\n",
      "1\n",
      "torch.Size([7])\n",
      "tensor(0.) tensor(1.) tensor(6.)\n",
      "tensor([2., 3., 4.]) tensor([4., 5.])\n",
      "tensor([0., 1.]) tensor([3., 4., 5., 6.])\n"
     ]
    }
   ],
   "source": [
    "### torch는 numpy와 거의 유사한 방법으로 매트랙스를 만든다 \n",
    "t = torch.FloatTensor([0., 1., 2., 3., 4., 5., 6.])\n",
    "\n",
    "print(t)\n",
    "print(t.ndim)\n",
    "print(t.shape)\n",
    "print(t[0], t[1], t[-1])\n",
    "print(t[2:5], t[4:-1])\n",
    "print(t[:2], t[3:])"
   ]
  },
  {
   "cell_type": "code",
   "execution_count": 7,
   "metadata": {},
   "outputs": [
    {
     "output_type": "stream",
     "name": "stdout",
     "text": [
      "tensor([[ 1.,  2.,  3.],\n        [ 4.,  5.,  6.],\n        [ 7.,  8.,  9.],\n        [10., 11., 12.]])\n<built-in method dim of Tensor object at 0x00000116FCB67E40>\ntorch.Size([4, 3])\ntensor([ 2.,  5.,  8., 11.])\ntensor([[ 1.,  2.],\n        [ 4.,  5.],\n        [ 7.,  8.],\n        [10., 11.]])\n"
     ]
    }
   ],
   "source": [
    "### 2D array with torch \n",
    "t = torch.FloatTensor([[1., 2., 3.], \n",
    "                       [4., 5., 6.], \n",
    "                       [7., 8., 9.], \n",
    "                       [10., 11., 12.]])\n",
    "\n",
    "print(t)\n",
    "print(t.dim)\n",
    "print(t.size())\n",
    "print(t[:, 1])\n",
    "print(t[:, :-1])"
   ]
  },
  {
   "source": [
    "- Pytorch는 Broadcasting 기능을 제공한다. \n",
    "- 서로 형태가 다른 텐서들간의 연산이 가능하다. "
   ],
   "cell_type": "markdown",
   "metadata": {}
  },
  {
   "cell_type": "code",
   "execution_count": 8,
   "metadata": {},
   "outputs": [
    {
     "output_type": "stream",
     "name": "stdout",
     "text": [
      "tensor([[5., 5.]])\n"
     ]
    }
   ],
   "source": [
    "## if same shape \n",
    "m1 = torch.FloatTensor([[3, 3]])\n",
    "m2 = torch.FloatTensor([[2, 2]])\n",
    "print(m1 + m2)"
   ]
  },
  {
   "cell_type": "code",
   "execution_count": 9,
   "metadata": {},
   "outputs": [
    {
     "output_type": "execute_result",
     "data": {
      "text/plain": [
       "tensor([[4., 5.]])"
      ]
     },
     "metadata": {},
     "execution_count": 9
    }
   ],
   "source": [
    "## vector + scalar \n",
    "m3 = torch.FloatTensor([[1, 2]])\n",
    "m4 = torch.FloatTensor([[3]])   ## auto transfer 3 to [[3,3]]\n",
    "m3 + m4"
   ]
  },
  {
   "cell_type": "code",
   "execution_count": 10,
   "metadata": {},
   "outputs": [
    {
     "output_type": "execute_result",
     "data": {
      "text/plain": [
       "tensor([[4., 5.],\n",
       "        [5., 6.]])"
      ]
     },
     "metadata": {},
     "execution_count": 10
    }
   ],
   "source": [
    "## 2x1 vector + 1x2 vecter \n",
    "m5 = torch.FloatTensor([[1, 2]])\n",
    "m6 = torch.FloatTensor([[3], \n",
    "                        [4]])\n",
    "m5 + m6"
   ]
  },
  {
   "source": [
    "- 주의!. 매트릭스의 곱(matmul)과 Manipulation(mul)은 다르다. \n",
    "- mul은 broadcating이 적용되어, 각 행렬의 배열을 자동으로 같은 shape로 변경한 후 계산한다. "
   ],
   "cell_type": "markdown",
   "metadata": {}
  },
  {
   "cell_type": "code",
   "execution_count": 11,
   "metadata": {},
   "outputs": [
    {
     "output_type": "stream",
     "name": "stdout",
     "text": [
      "----- 1. matmul -----\ntensor([[ 5.],\n        [11.]])\n"
     ]
    }
   ],
   "source": [
    "print('----- 1. matmul -----')\n",
    "\n",
    "a1 = torch.FloatTensor([\n",
    "    [1,2],\n",
    "    [3,4]\n",
    "])\n",
    "\n",
    "a2 = torch.FloatTensor([\n",
    "    [1], \n",
    "    [2]\n",
    "])\n",
    "\n",
    "print(a1.matmul(a2))"
   ]
  },
  {
   "cell_type": "code",
   "execution_count": 12,
   "metadata": {},
   "outputs": [
    {
     "output_type": "stream",
     "name": "stdout",
     "text": [
      "----- 2. mul -----\ntensor([[1., 2.],\n        [6., 8.]])\n"
     ]
    }
   ],
   "source": [
    "print('----- 2. mul -----')\n",
    "a3 = torch.FloatTensor([\n",
    "    [1,2],\n",
    "    [3,4]\n",
    "])\n",
    "\n",
    "a4 = torch.FloatTensor([\n",
    "    [1], \n",
    "    [2]\n",
    "])\n",
    "\n",
    "print(a1.mul(a2))\n",
    "## broadcating에 의해 a4: [[1], [2]]  ==>  [[1, 2], [1, 2]]"
   ]
  },
  {
   "source": [
    "- troch의 평균/합계 구하는 방법은 numpy와 거의 동일하다.  \n",
    "  - 다만 output의 형태(shape)를 dim을 사용하여 지정한다. (axis = 0 or 1과 비슷하다.)"
   ],
   "cell_type": "markdown",
   "metadata": {}
  },
  {
   "cell_type": "code",
   "execution_count": 13,
   "metadata": {},
   "outputs": [
    {
     "output_type": "execute_result",
     "data": {
      "text/plain": [
       "tensor(1.5000)"
      ]
     },
     "metadata": {},
     "execution_count": 13
    }
   ],
   "source": [
    "tm = torch.FloatTensor([1, 2])\n",
    "tm.mean()"
   ]
  },
  {
   "cell_type": "code",
   "execution_count": 14,
   "metadata": {},
   "outputs": [
    {
     "output_type": "stream",
     "name": "stdout",
     "text": [
      "tensor(2.5000)\ntensor([2., 3.])\ntensor([1.5000, 3.5000])\n"
     ]
    }
   ],
   "source": [
    "tm2 = torch.FloatTensor([\n",
    "    [1,2], \n",
    "    [3,4]\n",
    "])\n",
    "\n",
    "print(tm2.mean())\n",
    "print(tm2.mean(dim=0))\n",
    "print(tm2.mean(dim=1))"
   ]
  },
  {
   "cell_type": "code",
   "execution_count": 15,
   "metadata": {},
   "outputs": [
    {
     "output_type": "execute_result",
     "data": {
      "image/png": "[encoded data removed]",
      "text/plain": [
       "<IPython.core.display.Image object>"
      ]
     },
     "metadata": {},
     "execution_count": 15
    }
   ],
   "source": [
    "## 계산결과 설명 \n",
    "from IPython.display import Image\n",
    "Image(\"img/aaaa.png\")"
   ]
  },
  {
   "cell_type": "code",
   "execution_count": 16,
   "metadata": {},
   "outputs": [
    {
     "output_type": "stream",
     "name": "stdout",
     "text": [
      "tensor(10.)\ntensor([4., 6.])\ntensor([3., 7.])\n"
     ]
    }
   ],
   "source": [
    "tm3 = torch.FloatTensor([\n",
    "    [1,2], \n",
    "    [3,4]\n",
    "])\n",
    "\n",
    "print(tm3.sum())\n",
    "print(tm3.sum(dim=0))\n",
    "print(tm3.sum(dim=1))"
   ]
  },
  {
   "cell_type": "code",
   "execution_count": 17,
   "metadata": {},
   "outputs": [
    {
     "output_type": "stream",
     "name": "stdout",
     "text": [
      "tensor(4.)\ntorch.return_types.max(\nvalues=tensor([3., 4.]),\nindices=tensor([1, 1]))\ntorch.return_types.max(\nvalues=tensor([2., 4.]),\nindices=tensor([1, 1]))\n"
     ]
    }
   ],
   "source": [
    "tm3 = torch.FloatTensor([\n",
    "    [1,2], \n",
    "    [3,4]\n",
    "])\n",
    "\n",
    "print(tm3.max())\n",
    "print(tm3.max(dim=0))  ## max값을 가로방향으로 찾는다 (index값도 돌려준다)\n",
    "print(tm3.max(dim=1))  ## max값을 세로방향으로 찾는다 (index값도 돌려준다)"
   ]
  },
  {
   "source": [
    "- view는 numpy의 reshape와 비슷하다. "
   ],
   "cell_type": "markdown",
   "metadata": {}
  },
  {
   "cell_type": "code",
   "execution_count": 18,
   "metadata": {},
   "outputs": [
    {
     "output_type": "execute_result",
     "data": {
      "text/plain": [
       "torch.Size([2, 2, 3])"
      ]
     },
     "metadata": {},
     "execution_count": 18
    }
   ],
   "source": [
    "### 2x2x3 텐서를 만든다. \n",
    "t = np.array([\n",
    "    [[0,1,2], \n",
    "    [3,4,5]], \n",
    "\n",
    "    [[6,7,8], \n",
    "    [9,10,11]]\n",
    "])\n",
    "\n",
    "ft = torch.FloatTensor(t)\n",
    "ft.shape"
   ]
  },
  {
   "cell_type": "code",
   "execution_count": 19,
   "metadata": {},
   "outputs": [
    {
     "output_type": "stream",
     "name": "stdout",
     "text": [
      "tensor([[ 0.,  1.,  2.],\n        [ 3.,  4.,  5.],\n        [ 6.,  7.,  8.],\n        [ 9., 10., 11.]])\ntorch.Size([4, 3])\n"
     ]
    }
   ],
   "source": [
    "## view함수로 텐서를 원하는 형태로 변경 \n",
    "## -1은 모른다, 상관없다는 뜻 \n",
    "print(ft.view([-1, 3]))   \n",
    "print(ft.view([-1, 3]).shape)   "
   ]
  },
  {
   "cell_type": "code",
   "execution_count": 20,
   "metadata": {},
   "outputs": [
    {
     "output_type": "stream",
     "name": "stdout",
     "text": [
      "tensor([[[ 0.,  1.,  2.]],\n\n        [[ 3.,  4.,  5.]],\n\n        [[ 6.,  7.,  8.]],\n\n        [[ 9., 10., 11.]]])\ntorch.Size([4, 1, 3])\n"
     ]
    }
   ],
   "source": [
    "### 4x1x3 형태로 변경하는 경우 \n",
    "print(ft.view([-1, 1, 3]))   \n",
    "print(ft.view([-1, 1, 3]).shape)   "
   ]
  },
  {
   "source": [
    "- squeeze는 dimension 1인 것을 없애준다. "
   ],
   "cell_type": "markdown",
   "metadata": {}
  },
  {
   "cell_type": "code",
   "execution_count": 21,
   "metadata": {},
   "outputs": [
    {
     "output_type": "execute_result",
     "data": {
      "text/plain": [
       "tensor([[0.],\n",
       "        [1.],\n",
       "        [2.]])"
      ]
     },
     "metadata": {},
     "execution_count": 21
    }
   ],
   "source": [
    "### 3x1의 텐서 \n",
    "ft2 = torch.FloatTensor([\n",
    "    [0], \n",
    "    [1],\n",
    "    [2]\n",
    "])\n",
    "\n",
    "ft2"
   ]
  },
  {
   "cell_type": "code",
   "execution_count": 22,
   "metadata": {},
   "outputs": [
    {
     "output_type": "execute_result",
     "data": {
      "text/plain": [
       "tensor([0., 1., 2.])"
      ]
     },
     "metadata": {},
     "execution_count": 22
    }
   ],
   "source": [
    "## 3x1에서 squeeze로 1을 없애고 3만 남는다. \n",
    "ft2.squeeze()"
   ]
  },
  {
   "cell_type": "code",
   "execution_count": 23,
   "metadata": {},
   "outputs": [
    {
     "output_type": "stream",
     "name": "stdout",
     "text": [
      "tensor([[[0.]],\n\n        [[1.]],\n\n        [[2.]]])\n----------------------------\ntensor([[[0.]],\n\n        [[1.]],\n\n        [[2.]]])\n"
     ]
    }
   ],
   "source": [
    "## unsqueeze는 squeeze의 반대, dim 값 지정 필요 \n",
    "## 보통 dim = -1을 지정해서, 알아서 변경되게 한다. \n",
    "print(ft2.unsqueeze(1))\n",
    "print('----------------------------')\n",
    "print(ft2.unsqueeze(-1))"
   ]
  },
  {
   "source": [
    "- 텐서의 형식 변경 하기 "
   ],
   "cell_type": "markdown",
   "metadata": {}
  },
  {
   "cell_type": "code",
   "execution_count": 24,
   "metadata": {},
   "outputs": [
    {
     "output_type": "stream",
     "name": "stdout",
     "text": [
      "tensor([0., 1., 0., 1., 0., 1.])\ntensor([0, 1, 0, 1, 0, 1])\ntensor([0, 1, 0, 1, 0, 1], dtype=torch.uint8)\n"
     ]
    }
   ],
   "source": [
    "lt = torch.FloatTensor([0,1,0,1,0,1])\n",
    "\n",
    "print(lt)\n",
    "print(lt.long())   ## long tensor : 정수\n",
    "print(lt.byte())   ## byte tensor: 0 = False, 1 = True"
   ]
  },
  {
   "source": [
    "- 텐서 합치기 (cat)"
   ],
   "cell_type": "markdown",
   "metadata": {}
  },
  {
   "cell_type": "code",
   "execution_count": 25,
   "metadata": {},
   "outputs": [
    {
     "output_type": "execute_result",
     "data": {
      "text/plain": [
       "tensor([[1., 2.],\n",
       "        [3., 4.],\n",
       "        [5., 6.],\n",
       "        [7., 8.]])"
      ]
     },
     "metadata": {},
     "execution_count": 25
    }
   ],
   "source": [
    "x = torch.FloatTensor([\n",
    "    [1,2], \n",
    "    [3,4]\n",
    "])\n",
    "\n",
    "y = torch.FloatTensor([\n",
    "    [5,6], \n",
    "    [7,8]\n",
    "])\n",
    "\n",
    "torch.cat([x,y])"
   ]
  },
  {
   "cell_type": "code",
   "execution_count": 26,
   "metadata": {},
   "outputs": [
    {
     "output_type": "stream",
     "name": "stdout",
     "text": [
      "tensor([[1., 2.],\n        [3., 4.],\n        [5., 6.],\n        [7., 8.]])\n-----------------------------\ntensor([[1., 2., 5., 6.],\n        [3., 4., 7., 8.]])\n"
     ]
    }
   ],
   "source": [
    "print(torch.cat([x,y], dim = 0))   ## row(axis=0) 합치기 \n",
    "print('-----------------------------')\n",
    "print(torch.cat([x,y], dim = 1))   ## col(axis=1) 합치기 "
   ]
  },
  {
   "source": [
    "- stack은 cat을 좀더 간단하게 실행할 수 있다. "
   ],
   "cell_type": "markdown",
   "metadata": {}
  },
  {
   "cell_type": "code",
   "execution_count": 27,
   "metadata": {},
   "outputs": [
    {
     "output_type": "execute_result",
     "data": {
      "text/plain": [
       "tensor([[1., 4.],\n",
       "        [2., 5.],\n",
       "        [3., 6.]])"
      ]
     },
     "metadata": {},
     "execution_count": 27
    }
   ],
   "source": [
    "x1 = torch.FloatTensor([1,4])\n",
    "y1 = torch.FloatTensor([2,5])\n",
    "z1 = torch.FloatTensor([3,6])\n",
    "\n",
    "torch.stack([x1,y1,z1])"
   ]
  },
  {
   "cell_type": "code",
   "execution_count": 28,
   "metadata": {},
   "outputs": [
    {
     "output_type": "execute_result",
     "data": {
      "text/plain": [
       "tensor([[1., 2., 3.],\n",
       "        [4., 5., 6.]])"
      ]
     },
     "metadata": {},
     "execution_count": 28
    }
   ],
   "source": [
    "torch.stack([x1,y1,z1], dim=1)  ## col 방향으로 쌓기"
   ]
  },
  {
   "source": [
    "- zeros_like(x), ones_like(x) : x와 형태가 동일한 0 / 1로 구성된 행렬을 만들어 준다. "
   ],
   "cell_type": "markdown",
   "metadata": {}
  },
  {
   "cell_type": "code",
   "execution_count": 31,
   "metadata": {},
   "outputs": [
    {
     "output_type": "execute_result",
     "data": {
      "text/plain": [
       "tensor([[0., 1., 2.],\n",
       "        [2., 1., 0.]])"
      ]
     },
     "metadata": {},
     "execution_count": 31
    }
   ],
   "source": [
    "k = torch.Tensor([\n",
    "    [0,1,2], \n",
    "    [2,1,0]\n",
    "])\n",
    "\n",
    "k"
   ]
  },
  {
   "cell_type": "code",
   "execution_count": 32,
   "metadata": {},
   "outputs": [
    {
     "output_type": "execute_result",
     "data": {
      "text/plain": [
       "tensor([[0., 0., 0.],\n",
       "        [0., 0., 0.]])"
      ]
     },
     "metadata": {},
     "execution_count": 32
    }
   ],
   "source": [
    "torch.zeros_like(k)"
   ]
  },
  {
   "cell_type": "code",
   "execution_count": 33,
   "metadata": {},
   "outputs": [
    {
     "output_type": "execute_result",
     "data": {
      "text/plain": [
       "tensor([[1., 1., 1.],\n",
       "        [1., 1., 1.]])"
      ]
     },
     "metadata": {},
     "execution_count": 33
    }
   ],
   "source": [
    "torch.ones_like(k)"
   ]
  },
  {
   "source": [
    "- mul과 mul_은 다르다. \n",
    "    - mul은 원래의 값을 변경하지 않지만, mul_는 연산결과를 원래 값에 덮어 씌운다. (메모리 절감)"
   ],
   "cell_type": "markdown",
   "metadata": {}
  },
  {
   "cell_type": "code",
   "execution_count": 38,
   "metadata": {},
   "outputs": [
    {
     "output_type": "execute_result",
     "data": {
      "text/plain": [
       "tensor([[1., 2.],\n",
       "        [3., 4.]])"
      ]
     },
     "metadata": {},
     "execution_count": 38
    }
   ],
   "source": [
    "j1 = torch.Tensor([\n",
    "    [1,2], \n",
    "    [3,4]\n",
    "])\n",
    "\n",
    "j1"
   ]
  },
  {
   "cell_type": "code",
   "execution_count": 39,
   "metadata": {},
   "outputs": [
    {
     "output_type": "stream",
     "name": "stdout",
     "text": [
      "tensor([[2., 4.],\n        [6., 8.]])\ntensor([[1., 2.],\n        [3., 4.]])\n"
     ]
    }
   ],
   "source": [
    "j2 = j1.mul(2)\n",
    "print(j2)\n",
    "print(j1)"
   ]
  },
  {
   "cell_type": "code",
   "execution_count": 40,
   "metadata": {},
   "outputs": [
    {
     "output_type": "stream",
     "name": "stdout",
     "text": [
      "tensor([[2., 4.],\n        [6., 8.]])\ntensor([[2., 4.],\n        [6., 8.]])\n"
     ]
    }
   ],
   "source": [
    "j3 = j1.mul_(2)\n",
    "print(j3)\n",
    "print(j1)"
   ]
  },
  {
   "cell_type": "code",
   "execution_count": null,
   "metadata": {},
   "outputs": [],
   "source": []
  }
 ],
 "metadata": {
  "kernelspec": {
   "display_name": "Python 3",
   "language": "python",
   "name": "python3"
  },
  "language_info": {
   "codemirror_mode": {
    "name": "ipython",
    "version": 3
   },
   "file_extension": ".py",
   "mimetype": "text/x-python",
   "name": "python",
   "nbconvert_exporter": "python",
   "pygments_lexer": "ipython3",
   "version": "3.8.7-final"
  }
 },
 "nbformat": 4,
 "nbformat_minor": 5
}