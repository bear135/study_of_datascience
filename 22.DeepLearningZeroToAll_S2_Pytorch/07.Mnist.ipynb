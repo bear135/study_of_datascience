{
 "cells": [
  {
   "cell_type": "markdown",
   "metadata": {},
   "source": [
    "### 07. MNIST "
   ]
  },
  {
   "cell_type": "markdown",
   "metadata": {},
   "source": [
    "- cf. torchvision\n",
    "    - MNIST등 다양한 데이터셋과, Alexnet/GoogLeNet 등 유명한 알고리즘을 포함 \n",
    "    - torchvision.utils, torchvision.transform을 통해 다양한 이미지 변환 기능 제공 \n",
    "    - url : https://pytorch.org/docs/stable/torchvision/index.html "
   ]
  },
  {
   "cell_type": "code",
   "execution_count": 10,
   "metadata": {},
   "outputs": [],
   "source": [
    "#!pip install torchvision\n",
    "\n",
    "import torch \n",
    "import torch.nn as nn\n",
    "import torch.nn.functional as F\n",
    "import torch.optim as optim\n",
    "\n",
    "import torchvision.datasets as dsets\n",
    "import torchvision.transforms as transforms\n",
    "\n",
    "import matplotlib.pyplot as plt\n",
    "import random "
   ]
  },
  {
   "cell_type": "code",
   "execution_count": 2,
   "metadata": {},
   "outputs": [],
   "source": [
    "#!pip install ipywidgets"
   ]
  },
  {
   "cell_type": "code",
   "execution_count": 3,
   "metadata": {},
   "outputs": [],
   "source": [
    "## load datasets \n",
    "## MNIST는 28 x 28 = 784 pixel로 이루어진 이미지, 즉 784개의 input값으로 부터 0~9까지의 9개의 output을 예측하는 문제다. \n",
    "\n",
    "mnist_train = dsets.MNIST(root = 'MNIST_data/',   ## 데이터의 위치 \n",
    "                         train = True,           ## train data를 가져온다 (False이면 test data를 가져옴)\n",
    "                         transform = transforms.ToTensor(),  ## 파이토치 텐서 형태로 변환 \n",
    "                         download = True )       ## 다운로드 하라 (단 먼저 받아놓았으면 스킵)\n",
    "\n",
    "mnist_test  = dsets.MNIST(root = 'MNIST_data/',   \n",
    "                         train = False,           \n",
    "                         transform = transforms.ToTensor(),  \n",
    "                         download = True ) "
   ]
  },
  {
   "cell_type": "code",
   "execution_count": 4,
   "metadata": {},
   "outputs": [],
   "source": [
    "## data loader : 원하는 형태로 데이터를 정제하여 가져온다. \n",
    "## mnist_train을, 100개씩, 섞어서, 배치사이즈로 자르고 남는 것(짜투리)은 버리고 가져오라 \n",
    "data_loader = torch.utils.data.DataLoader(dataset = mnist_train, \n",
    "                                         batch_size = 100, \n",
    "                                         shuffle = True, \n",
    "                                         drop_last = True) "
   ]
  },
  {
   "cell_type": "code",
   "execution_count": 5,
   "metadata": {},
   "outputs": [],
   "source": [
    "device = 'cuda' if torch.cuda.is_available() else 'cpu'\n",
    "\n",
    "## model, Loss function, Optimizer 세팅 \n",
    "## 모델은 입력크기 784 & 출력 10인 선형 함수.(굳이 Softmax를 구현하지 않은 이유: 이후 CrossEntropyLoss 함수에 Softmax가 포함)\n",
    "linear = nn.Linear(784, 10, bias = True).to(device)\n",
    "criterion = nn.CrossEntropyLoss().to(device)\n",
    "optimizer = optim.SGD(linear.parameters(), lr = 0.1)"
   ]
  },
  {
   "cell_type": "markdown",
   "metadata": {},
   "source": [
    "- 모든설정 완료. 훈련 시작 "
   ]
  },
  {
   "cell_type": "code",
   "execution_count": 6,
   "metadata": {},
   "outputs": [
    {
     "name": "stdout",
     "output_type": "stream",
     "text": [
      "epoch:1  cost= 0.5340\n",
      "epoch:2  cost= 0.3590\n",
      "epoch:3  cost= 0.3307\n",
      "epoch:4  cost= 0.3163\n",
      "epoch:5  cost= 0.3068\n",
      "epoch:6  cost= 0.2999\n",
      "epoch:7  cost= 0.2947\n",
      "epoch:8  cost= 0.2906\n",
      "epoch:9  cost= 0.2871\n",
      "epoch:10  cost= 0.2844\n"
     ]
    }
   ],
   "source": [
    "## batch size 만큼 training 반복 \n",
    "## view(-1)은 reshape를 파이토치가 알아서 하라는 뜻 (*즉 [?, 784]로 변경하라는 의미)\n",
    "\n",
    "for epoch in range(10) : \n",
    "    avg_cost = 0 \n",
    "    total_batch = len(data_loader)\n",
    "    \n",
    "    for X, Y in data_loader : \n",
    "        X = X.view(-1, 28*28).to(device)\n",
    "        Y = Y.to(device)\n",
    "        \n",
    "        hypothesis = linear(X)\n",
    "        cost = criterion(hypothesis, Y)\n",
    "        \n",
    "        optimizer.zero_grad()\n",
    "        cost.backward()\n",
    "        optimizer.step()\n",
    "        \n",
    "        avg_cost += cost / total_batch     \n",
    "        \n",
    "    print('epoch:{}  cost= {:.4f}'.format(epoch+1, avg_cost))"
   ]
  },
  {
   "cell_type": "markdown",
   "metadata": {},
   "source": [
    "- test set을 사용한 validation "
   ]
  },
  {
   "cell_type": "code",
   "execution_count": 19,
   "metadata": {},
   "outputs": [
    {
     "name": "stdout",
     "output_type": "stream",
     "text": [
      "Accuracy: 88.8500%\n"
     ]
    }
   ],
   "source": [
    "with torch.no_grad():\n",
    "    X_test = mnist_test.test_data.view(-1, 28 * 28).float().to(device)\n",
    "    Y_test = mnist_test.test_labels.to(device)\n",
    "\n",
    "    prediction = linear(X_test)\n",
    "    correct_prediction = torch.argmax(prediction, 1) == Y_test\n",
    "    accuracy = correct_prediction.float().mean()\n",
    "    \n",
    "    #print('Accuracy:', accuracy.item())\n",
    "    print('Accuracy: {:.4f}%'.format(accuracy.item()*100))"
   ]
  },
  {
   "cell_type": "markdown",
   "metadata": {},
   "source": [
    "- 참고) matplotlib를 사용한 시각화 "
   ]
  },
  {
   "cell_type": "code",
   "execution_count": 14,
   "metadata": {},
   "outputs": [
    {
     "name": "stdout",
     "output_type": "stream",
     "text": [
      "Label:  9\n",
      "Prediction:  9\n"
     ]
    },
    {
     "data": {
      "image/png": "[encoded data removed]",
      "text/plain": [
       "<Figure size 432x288 with 1 Axes>"
      ]
     },
     "metadata": {
      "needs_background": "light"
     },
     "output_type": "display_data"
    }
   ],
   "source": [
    "# Get one and predict\n",
    "r = random.randint(0, len(mnist_test) - 1)\n",
    "X_single_data = mnist_test.test_data[r:r + 1].view(-1, 28 * 28).float().to(device)\n",
    "Y_single_data = mnist_test.test_labels[r:r + 1].to(device)\n",
    "\n",
    "single_prediction = linear(X_single_data)\n",
    "print('Label: ', Y_single_data.item())\n",
    "print('Prediction: ', torch.argmax(single_prediction, 1).item())\n",
    "\n",
    "plt.imshow(mnist_test.test_data[r:r + 1].view(28, 28), cmap='Greys', interpolation='nearest')\n",
    "plt.show()"
   ]
  },
  {
   "cell_type": "code",
   "execution_count": null,
   "metadata": {},
   "outputs": [],
   "source": []
  }
 ],
 "metadata": {
  "kernelspec": {
   "display_name": "Python 3",
   "language": "python",
   "name": "python3"
  },
  "language_info": {
   "codemirror_mode": {
    "name": "ipython",
    "version": 3
   },
   "file_extension": ".py",
   "mimetype": "text/x-python",
   "name": "python",
   "nbconvert_exporter": "python",
   "pygments_lexer": "ipython3",
   "version": "3.8.7"
  }
 },
 "nbformat": 4,
 "nbformat_minor": 4
}
