{
 "cells": [
  {
   "cell_type": "markdown",
   "id": "conventional-snapshot",
   "metadata": {},
   "source": [
    "### 11. Dropout"
   ]
  },
  {
   "cell_type": "markdown",
   "id": "angry-hindu",
   "metadata": {},
   "source": [
    "- overfitting을 방지하기 위해, training과정에서 layer의 일부 node들을 무작위로 drop(비활성화) 하고, \n",
    "- 다수의 그 결과들을 종합한다. \n",
    "- Network Ensemble : dropout이 무작위로 이뤄짐 --> 서로다른 다수의 network들의 학습결과를 종합 --> 성능향상 \n",
    "- 단 dropout은 training에만 적용된다. test단계에 적용되어서는 안된다. "
   ]
  },
  {
   "cell_type": "markdown",
   "id": "increasing-bloom",
   "metadata": {},
   "source": [
    "- dropout이 적용된 코드 \n",
    "    1) layer 설정시 dropout할 Prob. 세팅 \n",
    "    2) model 설정시 dropout 사용할 것임을 명시 \n",
    "    3) 학습할때는 model.train, 검증할때는 model.eval() "
   ]
  },
  {
   "cell_type": "code",
   "execution_count": 2,
   "id": "accepting-spice",
   "metadata": {},
   "outputs": [
    {
     "name": "stdout",
     "output_type": "stream",
     "text": [
      "epoch: 1 cost= tensor(2.2862, grad_fn=<AddBackward0>)\n",
      "epoch: 2 cost= tensor(2.0607, grad_fn=<AddBackward0>)\n",
      "epoch: 3 cost= tensor(2.0084, grad_fn=<AddBackward0>)\n",
      "epoch: 4 cost= tensor(1.9764, grad_fn=<AddBackward0>)\n",
      "epoch: 5 cost= tensor(1.9443, grad_fn=<AddBackward0>)\n",
      "epoch: 6 cost= tensor(1.9353, grad_fn=<AddBackward0>)\n",
      "epoch: 7 cost= tensor(1.9405, grad_fn=<AddBackward0>)\n",
      "epoch: 8 cost= tensor(1.9559, grad_fn=<AddBackward0>)\n",
      "epoch: 9 cost= tensor(1.9173, grad_fn=<AddBackward0>)\n",
      "epoch: 10 cost= tensor(1.9301, grad_fn=<AddBackward0>)\n",
      "epoch: 11 cost= tensor(1.9367, grad_fn=<AddBackward0>)\n",
      "epoch: 12 cost= tensor(1.9281, grad_fn=<AddBackward0>)\n",
      "epoch: 13 cost= tensor(1.9184, grad_fn=<AddBackward0>)\n",
      "epoch: 14 cost= tensor(1.8884, grad_fn=<AddBackward0>)\n",
      "epoch: 15 cost= tensor(1.9333, grad_fn=<AddBackward0>)\n",
      "Running time : 304.1500180000003\n"
     ]
    }
   ],
   "source": [
    "import torch \n",
    "import torchvision.datasets as dsets \n",
    "import torchvision.transforms as transforms \n",
    "import random \n",
    "import timeit\n",
    "device = 'cpu'\n",
    "#device = 'cuda' if torch.cuda.is_available() else 'cpu'\n",
    "\n",
    "## parameters\n",
    "training_epoch = 15 \n",
    "batch_size = 100\n",
    "learning_rate = 0.001\n",
    "\n",
    "## dataset \n",
    "mnist_train = dsets.MNIST(root = 'MNIST_data/', \n",
    "                          train = True, \n",
    "                          transform = transforms.ToTensor(), \n",
    "                          download = True )\n",
    "\n",
    "mnist_test = dsets.MNIST(root = 'MNIST_data/', \n",
    "                          train = False, \n",
    "                          transform = transforms.ToTensor(), \n",
    "                          download = True )\n",
    "\n",
    "data_loader = torch.utils.data.DataLoader(dataset = mnist_train, \n",
    "                                          batch_size = batch_size, \n",
    "                                          shuffle = True, \n",
    "                                          drop_last = True )\n",
    "\n",
    "## use 5 layers\n",
    "linear1 = torch.nn.Linear(28*28, 512, bias = True)\n",
    "linear2 = torch.nn.Linear(512, 512, bias = True)\n",
    "linear3 = torch.nn.Linear(512, 512, bias = True)\n",
    "linear4 = torch.nn.Linear(512, 512, bias = True)\n",
    "linear5 = torch.nn.Linear(512, 10, bias = True)\n",
    "relu = torch.nn.ReLU()\n",
    "dropout = torch.nn.Dropout(p=0.3) ## set the prob. for dropout \n",
    "\n",
    "## 모형들의 weight를 xavier_uniform 분포로 초기화 \n",
    "torch.nn.init.xavier_uniform_(linear1.weight)\n",
    "torch.nn.init.xavier_uniform_(linear2.weight)\n",
    "torch.nn.init.xavier_uniform_(linear3.weight)\n",
    "torch.nn.init.xavier_uniform_(linear4.weight)\n",
    "torch.nn.init.xavier_uniform_(linear5.weight)\n",
    "\n",
    "## model, cost function, optimizer \n",
    "## softmax 대신 relu & SGD 대신 Adam 사용 \n",
    "## model에서 dropout을 사용할 것임을 정의 \n",
    "model = torch.nn.Sequential(linear1, relu, dropout,\n",
    "                            linear2, relu, dropout,\n",
    "                            linear3, relu, dropout).to(device)\n",
    "\n",
    "criterion = torch.nn.CrossEntropyLoss().to(device)\n",
    "optimizer = torch.optim.Adam(model.parameters(), lr = learning_rate)\n",
    "#optimizer = torch.optim.SGD(model.parameters(), lr = learning_rate)\n",
    "\n",
    "total_batch = len(data_loader)\n",
    "model.train()  ## model is train mode (dropout=True)\n",
    "\n",
    "start_time = timeit.default_timer()  ## start time check \n",
    "\n",
    "for epoch in range(training_epoch) : \n",
    "    avg_cost = 0 \n",
    "    for X, Y in data_loader : \n",
    "        X = X.view(-1, 28*28).to(device)\n",
    "        Y = Y.to(device)\n",
    "        hypothesis = model(X)\n",
    "        cost = criterion(hypothesis, Y)\n",
    "        \n",
    "        optimizer.zero_grad()\n",
    "        cost.backward()\n",
    "        optimizer.step()\n",
    "        \n",
    "        avg_cost += cost / total_batch\n",
    "        \n",
    "    print('epoch:', epoch+1, 'cost=', avg_cost)\n",
    "    \n",
    "end_time = timeit.default_timer()  ## end time check\n",
    "print('Running time :', end_time - start_time)"
   ]
  },
  {
   "cell_type": "code",
   "execution_count": 3,
   "id": "adaptive-preliminary",
   "metadata": {},
   "outputs": [
    {
     "name": "stderr",
     "output_type": "stream",
     "text": [
      "c:\\python\\lib\\site-packages\\torchvision\\datasets\\mnist.py:58: UserWarning: test_data has been renamed data\n",
      "  warnings.warn(\"test_data has been renamed data\")\n",
      "c:\\python\\lib\\site-packages\\torchvision\\datasets\\mnist.py:48: UserWarning: test_labels has been renamed targets\n",
      "  warnings.warn(\"test_labels has been renamed targets\")\n"
     ]
    },
    {
     "name": "stdout",
     "output_type": "stream",
     "text": [
      "Accuracy: 0.982200026512146\n",
      "Label:  3\n",
      "Prediction:  3\n"
     ]
    },
    {
     "data": {
      "image/png": "[encoded data removed]",
      "text/plain": [
       "<Figure size 432x288 with 1 Axes>"
      ]
     },
     "metadata": {
      "needs_background": "light"
     },
     "output_type": "display_data"
    }
   ],
   "source": [
    "# Test the model using test sets\n",
    "import matplotlib.pyplot as plt\n",
    "\n",
    "with torch.no_grad():\n",
    "    model.eval()  ## No dropout!! \n",
    "    \n",
    "    X_test = mnist_test.test_data.view(-1, 28 * 28).float().to(device)\n",
    "    Y_test = mnist_test.test_labels.to(device)\n",
    "\n",
    "    prediction = model(X_test)\n",
    "    correct_prediction = torch.argmax(prediction, 1) == Y_test\n",
    "    accuracy = correct_prediction.float().mean()\n",
    "    print('Accuracy:', accuracy.item())\n",
    "\n",
    "    # Get one and predict\n",
    "    r = random.randint(0, len(mnist_test) - 1)\n",
    "    X_single_data = mnist_test.test_data[r:r + 1].view(-1, 28 * 28).float().to(device)\n",
    "    Y_single_data = mnist_test.test_labels[r:r + 1].to(device)\n",
    "\n",
    "    single_prediction = model(X_single_data)\n",
    "    print('Label: ', Y_single_data.item())\n",
    "    print('Prediction: ', torch.argmax(single_prediction, 1).item())\n",
    "    \n",
    "    plt.imshow(mnist_test.test_data[r:r + 1].view(28, 28), cmap='Greys', interpolation='nearest')\n",
    "    plt.show()"
   ]
  },
  {
   "cell_type": "code",
   "execution_count": null,
   "id": "brutal-frame",
   "metadata": {},
   "outputs": [],
   "source": []
  }
 ],
 "metadata": {
  "kernelspec": {
   "display_name": "Python 3",
   "language": "python",
   "name": "python3"
  },
  "language_info": {
   "codemirror_mode": {
    "name": "ipython",
    "version": 3
   },
   "file_extension": ".py",
   "mimetype": "text/x-python",
   "name": "python",
   "nbconvert_exporter": "python",
   "pygments_lexer": "ipython3",
   "version": "3.8.7"
  }
 },
 "nbformat": 4,
 "nbformat_minor": 5
}
