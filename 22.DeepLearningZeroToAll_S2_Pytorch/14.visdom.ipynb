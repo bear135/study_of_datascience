{
 "cells": [
  {
   "cell_type": "markdown",
   "id": "superb-vintage",
   "metadata": {},
   "source": [
    "### 14. visdom"
   ]
  },
  {
   "cell_type": "markdown",
   "id": "romance-cooking",
   "metadata": {},
   "source": [
    "- pip install visdom \n",
    "- -> cmd : python -m visdom.server \n",
    "    - or Jupyter Notebook > Terminal 를 새로 켜서 python -m visdom.server 입력\n",
    "- -> web browser : http://localhost:8097"
   ]
  },
  {
   "cell_type": "code",
   "execution_count": 1,
   "id": "tutorial-lyric",
   "metadata": {},
   "outputs": [],
   "source": [
    "import torch \n",
    "import torch.nn as nn \n",
    "import torchvision \n",
    "import torchvision.datasets as dsets\n",
    "import torchvision.transforms as transforms "
   ]
  },
  {
   "cell_type": "code",
   "execution_count": 2,
   "id": "naughty-liability",
   "metadata": {},
   "outputs": [
    {
     "name": "stderr",
     "output_type": "stream",
     "text": [
      "Setting up a new session...\n"
     ]
    }
   ],
   "source": [
    "import visdom \n",
    "vis = visdom.Visdom()"
   ]
  },
  {
   "cell_type": "code",
   "execution_count": 3,
   "id": "sensitive-hypothesis",
   "metadata": {},
   "outputs": [
    {
     "data": {
      "text/plain": [
       "'window_39493a7666581c'"
      ]
     },
     "execution_count": 3,
     "metadata": {},
     "output_type": "execute_result"
    }
   ],
   "source": [
    "## text \n",
    "vis.text('Hello World!', env = 'main')"
   ]
  },
  {
   "cell_type": "code",
   "execution_count": 4,
   "id": "peaceful-findings",
   "metadata": {},
   "outputs": [
    {
     "data": {
      "text/plain": [
       "'window_39493a76739ea6'"
      ]
     },
     "execution_count": 4,
     "metadata": {},
     "output_type": "execute_result"
    }
   ],
   "source": [
    "## image ~ RGB 200x200의 랜덤이미지 생성 \n",
    "## vis.image() 함수를 사용하고, 인자로 (C,H,W) 형태의 텐서를 입력\n",
    "a = torch.randn(3, 200, 200)\n",
    "vis.image(a)"
   ]
  },
  {
   "cell_type": "code",
   "execution_count": 5,
   "id": "aging-configuration",
   "metadata": {},
   "outputs": [
    {
     "data": {
      "text/plain": [
       "'window_39493a768fd94e'"
      ]
     },
     "execution_count": 5,
     "metadata": {},
     "output_type": "execute_result"
    }
   ],
   "source": [
    "# vis.images를 쓰면 복수의 이미지가 생성된\n",
    "# (batch_size, C, H, W) 형태의 텐서를 입력\n",
    "vis.images(torch.Tensor(3,3,28,28))"
   ]
  },
  {
   "cell_type": "markdown",
   "id": "light-parade",
   "metadata": {},
   "source": [
    "- MNIST와 CIFAR10 데이터를 가져와 시각화 해보자 "
   ]
  },
  {
   "cell_type": "code",
   "execution_count": 6,
   "id": "organic-bicycle",
   "metadata": {},
   "outputs": [
    {
     "name": "stdout",
     "output_type": "stream",
     "text": [
      "Files already downloaded and verified\n"
     ]
    }
   ],
   "source": [
    "## load the datasets \n",
    "MNIST = dsets.MNIST(root = 'MNIST_data/',\n",
    "                    train = True, \n",
    "                    transform = transforms.ToTensor(), \n",
    "                    download = True)\n",
    "\n",
    "cifar10 = dsets.CIFAR10(root = 'CIFAR10_data/',\n",
    "                        train = True, \n",
    "                        transform = transforms.ToTensor(), \n",
    "                        download = True)"
   ]
  },
  {
   "cell_type": "code",
   "execution_count": 7,
   "id": "compliant-strengthening",
   "metadata": {},
   "outputs": [
    {
     "name": "stdout",
     "output_type": "stream",
     "text": [
      "torch.Size([1, 28, 28])\n",
      "torch.Size([3, 32, 32])\n"
     ]
    },
    {
     "data": {
      "text/plain": [
       "'window_39493a7751549c'"
      ]
     },
     "execution_count": 7,
     "metadata": {},
     "output_type": "execute_result"
    }
   ],
   "source": [
    "##__getitem__함수로 0번째 이미지를 가져와서 이미지를 표시\n",
    "data1 = MNIST.__getitem__(0)\n",
    "print(data1[0].shape)\n",
    "vis.images(data1[0], env=\"main\")\n",
    "\n",
    "data2 = cifar10.__getitem__(0)\n",
    "print(data2[0].shape)\n",
    "vis.images(data2[0], env=\"main\")"
   ]
  },
  {
   "cell_type": "code",
   "execution_count": 8,
   "id": "sought-brain",
   "metadata": {},
   "outputs": [
    {
     "name": "stdout",
     "output_type": "stream",
     "text": [
      "torch.Size([32, 1, 28, 28])\n"
     ]
    }
   ],
   "source": [
    "### 32개의 데이터(이미지)를 한번에 확인하기 \n",
    "data_loader = torch.utils.data.DataLoader(dataset = MNIST, \n",
    "                                         batch_size = 32, \n",
    "                                         shuffle = False)\n",
    "\n",
    "for num, value in enumerate(data_loader) : \n",
    "    value = value[0]\n",
    "    print(value.shape)\n",
    "    vis.images(value)\n",
    "    break "
   ]
  },
  {
   "cell_type": "code",
   "execution_count": 9,
   "id": "baking-reader",
   "metadata": {},
   "outputs": [
    {
     "data": {
      "text/plain": [
       "''"
      ]
     },
     "execution_count": 9,
     "metadata": {},
     "output_type": "execute_result"
    }
   ],
   "source": [
    "### clean the window \n",
    "vis.close(env = 'main')"
   ]
  },
  {
   "cell_type": "markdown",
   "id": "upper-advocacy",
   "metadata": {},
   "source": [
    "- Line plot을 그려보자 "
   ]
  },
  {
   "cell_type": "code",
   "execution_count": 10,
   "id": "dirty-norfolk",
   "metadata": {},
   "outputs": [],
   "source": [
    "## X와 Y의 shape가 일치해야 한다. \n",
    "## if X를 지정하지 않으면 자동으로 0~1로 X축이 만들어진다. \n",
    "## cf. rand()는 0~1 사이의 난수 생성, randn()은 normal distribution(0, 1)에 따른 난수 생성 \n",
    "\n",
    "X_data = torch.Tensor([1,2,3,4,5])\n",
    "Y_data = torch.randn(5)\n",
    "plt = vis.line(X=X_data, Y= Y_data)"
   ]
  },
  {
   "cell_type": "code",
   "execution_count": 11,
   "id": "basic-interface",
   "metadata": {},
   "outputs": [
    {
     "data": {
      "text/plain": [
       "'window_39493a77818c3a'"
      ]
     },
     "execution_count": 11,
     "metadata": {},
     "output_type": "execute_result"
    }
   ],
   "source": [
    "## append 함수로 기존 차트에 값을 추가 \n",
    "X_append = torch.Tensor([6])\n",
    "Y_append = torch.randn(1)\n",
    "\n",
    "## updata 대상 창을 지정해 줘야 한다. (win= plt)\n",
    "vis.line(X= X_append, Y= Y_append, update= 'append', win= plt)"
   ]
  },
  {
   "cell_type": "code",
   "execution_count": 12,
   "id": "covered-underwear",
   "metadata": {},
   "outputs": [],
   "source": [
    "### 다수의 라인 그리고, legend 붙이기 \n",
    "num = torch.Tensor(list(range(0,10)))\n",
    "num = num.view(-1,1)\n",
    "num = torch.cat((num,num),dim=1)\n",
    "plt = vis.line(Y=torch.randn(10,2), X = num)\n",
    "\n",
    "## opts 함수에 딕셔너리 값을 주어 legend 생성 \n",
    "plt = vis.line(Y=Y_data, X=X_data, opts = dict(title='Test', showlegend=True))\n",
    "plt = vis.line(Y=Y_data, X=X_data, opts = dict(title='Test', legend = ['1번'],showlegend=True))\n",
    "plt = vis.line(Y=torch.randn(10,2), X = num, opts=dict(title='Test', legend=['1번','2번'],showlegend=True))"
   ]
  },
  {
   "cell_type": "markdown",
   "id": "union-estate",
   "metadata": {},
   "source": [
    "- 학습의 loss를 나타내는 그래프를 그리는 loss_tracker를 만들어보자. loss가 나올때마다 epoch와 loss 값을 각각 X, Y값으로 받아 그래프에 갱신한다. 이를 통해 loss가 어떻게 변하는지 시각적으로 살펴볼 수 있다. "
   ]
  },
  {
   "cell_type": "code",
   "execution_count": 13,
   "id": "metallic-earthquake",
   "metadata": {},
   "outputs": [],
   "source": [
    "## 함수 \n",
    "def loss_tracker(loss_plot, loss_value, num):\n",
    "    '''num, loss_value, are Tensor'''\n",
    "    vis.line(X=num,\n",
    "             Y=loss_value,\n",
    "             win = loss_plot,\n",
    "             update='append'\n",
    "             )"
   ]
  },
  {
   "cell_type": "code",
   "execution_count": 14,
   "id": "continued-lodging",
   "metadata": {},
   "outputs": [],
   "source": [
    "plt = vis.line(Y=torch.Tensor(1).zero_())\n",
    "\n",
    "for i in range(500):\n",
    "    loss = torch.randn(1) + i\n",
    "    loss_tracker(plt, loss, torch.Tensor([i]))"
   ]
  },
  {
   "cell_type": "code",
   "execution_count": 15,
   "id": "supreme-company",
   "metadata": {},
   "outputs": [
    {
     "data": {
      "text/plain": [
       "''"
      ]
     },
     "execution_count": 15,
     "metadata": {},
     "output_type": "execute_result"
    }
   ],
   "source": [
    "vis.close(env='main')"
   ]
  },
  {
   "cell_type": "markdown",
   "id": "separate-heart",
   "metadata": {},
   "source": [
    "- MNIST CNN에 visdom 적용하기 code\n",
    "    - loss_tracker함수 정의 > blank window 생상 > training 코드에 loss_tracker 추가 "
   ]
  },
  {
   "cell_type": "code",
   "execution_count": 16,
   "id": "surprised-trinity",
   "metadata": {},
   "outputs": [
    {
     "name": "stderr",
     "output_type": "stream",
     "text": [
      "Setting up a new session...\n"
     ]
    }
   ],
   "source": [
    "import torch \n",
    "import torch.nn.init\n",
    "import torchvision.datasets as dsets\n",
    "import torchvision.transforms as transforms \n",
    "import random \n",
    "import matplotlib.pyplot as plt \n",
    "import timeit \n",
    "device = 'cpu'\n",
    "import visdom \n",
    "vis = visdom.Visdom()\n",
    "vis.close(env=\"main\")  ##기존 윈도우가 있으면 모두 비운다 \n",
    "\n",
    "## parameters \n",
    "training_epochs = 20 \n",
    "batch_size = 100 \n",
    "learning_rate = 0.001 \n",
    "\n",
    "## dataset and DataLoader\n",
    "mnist_train = dsets.MNIST(root = 'MNIST_data/', \n",
    "                          train = True, \n",
    "                          transform = transforms.ToTensor(), \n",
    "                          download = True)\n",
    "\n",
    "mnist_test = dsets.MNIST(root = 'MNIST_data/', \n",
    "                          train = False, \n",
    "                          transform = transforms.ToTensor(), \n",
    "                          download = True)\n",
    "\n",
    "data_loader = torch.utils.data.DataLoader(dataset = mnist_train, \n",
    "                                           batch_size = batch_size, \n",
    "                                           shuffle = True, \n",
    "                                           drop_last = True ) "
   ]
  },
  {
   "cell_type": "code",
   "execution_count": 17,
   "id": "criminal-fault",
   "metadata": {},
   "outputs": [],
   "source": [
    "## loss tracker \n",
    "def loss_tracker(loss_plot, loss_value, num):\n",
    "    '''num, loss_value, are Tensor'''\n",
    "    vis.line(X=num,\n",
    "             Y=loss_value,\n",
    "             win = loss_plot,\n",
    "             update='append'\n",
    "             )"
   ]
  },
  {
   "cell_type": "code",
   "execution_count": 18,
   "id": "solar-square",
   "metadata": {},
   "outputs": [],
   "source": [
    "### CNN 3 layers \n",
    "\n",
    "class CNN(torch.nn.Module):\n",
    "    \n",
    "    def __init__(self):\n",
    "        super(CNN, self).__init__()\n",
    "        self.layer1 = nn.Sequential(\n",
    "            nn.Conv2d(1,32,kernel_size=3, stride=1, padding=1),\n",
    "            nn.ReLU(),\n",
    "            nn.MaxPool2d(2)\n",
    "        )\n",
    "        \n",
    "        self.layer2 = nn.Sequential(\n",
    "            nn.Conv2d(32,64, kernel_size=3, stride=1, padding=1),\n",
    "            nn.ReLU(),\n",
    "            nn.MaxPool2d(2)\n",
    "        )\n",
    "        \n",
    "        self.layer3 = nn.Sequential(\n",
    "            nn.Conv2d(64,128, kernel_size=3, stride=1, padding=1),\n",
    "            nn.ReLU(),\n",
    "            nn.MaxPool2d(2)\n",
    "        )\n",
    "        \n",
    "        self.fc1 = nn.Linear(3*3*128, 625)\n",
    "        self.relu = nn.ReLU()\n",
    "        self.fc2 = nn.Linear(625, 10, bias =True)\n",
    "        torch.nn.init.xavier_uniform_(self.fc1.weight)\n",
    "        torch.nn.init.xavier_uniform_(self.fc2.weight)\n",
    "    \n",
    "    def forward(self, x):\n",
    "        out = self.layer1(x)\n",
    "        out = self.layer2(out)\n",
    "        out = self.layer3(out)\n",
    "        \n",
    "        out = out.view(out.size(0), -1)\n",
    "        out = self.fc1(out)\n",
    "        out = self.relu(out)\n",
    "        out = self.fc2(out)\n",
    "        return out"
   ]
  },
  {
   "cell_type": "code",
   "execution_count": 19,
   "id": "catholic-michigan",
   "metadata": {},
   "outputs": [
    {
     "name": "stdout",
     "output_type": "stream",
     "text": [
      "torch.Size([1, 10])\n"
     ]
    }
   ],
   "source": [
    "## model, loss F, optimizer \n",
    "model = CNN().to(device)\n",
    "\n",
    "value = (torch.Tensor(1,1,28,28)).to(device)\n",
    "print( (model(value)).shape )\n",
    "\n",
    "criterion = nn.CrossEntropyLoss().to(device)\n",
    "optimizer = torch.optim.Adam(model.parameters(), lr = learning_rate)"
   ]
  },
  {
   "cell_type": "code",
   "execution_count": 20,
   "id": "raised-williams",
   "metadata": {},
   "outputs": [],
   "source": [
    "## make blank plot !!\n",
    "loss_plt = vis.line(Y=torch.Tensor(1).zero_(),\n",
    "                    opts=dict(title='loss_tracker', legend=['loss'], showlegend=True))"
   ]
  },
  {
   "cell_type": "code",
   "execution_count": 21,
   "id": "collected-celebrity",
   "metadata": {},
   "outputs": [
    {
     "name": "stdout",
     "output_type": "stream",
     "text": [
      "[Epoch:1] cost = 0.16122494637966156\n",
      "[Epoch:2] cost = 0.04343816265463829\n",
      "[Epoch:3] cost = 0.02823657914996147\n",
      "[Epoch:4] cost = 0.02178046479821205\n",
      "[Epoch:5] cost = 0.017979910597205162\n",
      "[Epoch:6] cost = 0.014513688161969185\n",
      "[Epoch:7] cost = 0.013352546840906143\n",
      "[Epoch:8] cost = 0.011301113292574883\n",
      "[Epoch:9] cost = 0.009277759119868279\n",
      "[Epoch:10] cost = 0.008520971983671188\n",
      "[Epoch:11] cost = 0.009094811044633389\n",
      "[Epoch:12] cost = 0.006747728679329157\n",
      "[Epoch:13] cost = 0.006259240210056305\n",
      "[Epoch:14] cost = 0.005833561532199383\n",
      "[Epoch:15] cost = 0.0046035172417759895\n",
      "[Epoch:16] cost = 0.00483482563868165\n",
      "[Epoch:17] cost = 0.004873053636401892\n",
      "[Epoch:18] cost = 0.005344661884009838\n",
      "[Epoch:19] cost = 0.004065488465130329\n",
      "[Epoch:20] cost = 0.00503891333937645\n",
      "Running time : 1982.1961023\n"
     ]
    }
   ],
   "source": [
    "total_batch = len(data_loader)\n",
    "start_time = timeit.default_timer()  ## start time check \n",
    "\n",
    "for epoch in range(training_epochs):\n",
    "    avg_cost = 0\n",
    "    \n",
    "    for X, Y in data_loader:\n",
    "        X = X.to(device)\n",
    "        Y = Y.to(device)\n",
    "        \n",
    "        optimizer.zero_grad()\n",
    "        hypothesis = model(X)\n",
    "        \n",
    "        cost = criterion(hypothesis, Y)\n",
    "        cost.backward()\n",
    "        optimizer.step()\n",
    "        \n",
    "        avg_cost += cost / total_batch\n",
    "    \n",
    "    print('[Epoch:{}] cost = {}'.format(epoch+1, avg_cost))\n",
    "    loss_tracker(loss_plt, torch.Tensor([avg_cost]), torch.Tensor([epoch]))\n",
    "    \n",
    "end_time = timeit.default_timer()  ## end time check \n",
    "print('Running time :', end_time - start_time)"
   ]
  },
  {
   "cell_type": "code",
   "execution_count": 24,
   "id": "warming-mapping",
   "metadata": {},
   "outputs": [
    {
     "name": "stdout",
     "output_type": "stream",
     "text": [
      "Accuracy: 0.9853000044822693\n"
     ]
    }
   ],
   "source": [
    "with torch.no_grad():\n",
    "    X_test = mnist_test.test_data.view(len(mnist_test), 1, 28, 28).float().to(device)\n",
    "    Y_test = mnist_test.test_labels.to(device)\n",
    "    \n",
    "    prediction = model(X_test)\n",
    "    correct_prediction = torch.argmax(prediction, 1) == Y_test\n",
    "    accuracy = correct_prediction.float().mean() \n",
    "    print('Accuracy:', accuracy.item())"
   ]
  },
  {
   "cell_type": "code",
   "execution_count": null,
   "id": "matched-above",
   "metadata": {},
   "outputs": [],
   "source": []
  }
 ],
 "metadata": {
  "kernelspec": {
   "display_name": "Python 3",
   "language": "python",
   "name": "python3"
  },
  "language_info": {
   "codemirror_mode": {
    "name": "ipython",
    "version": 3
   },
   "file_extension": ".py",
   "mimetype": "text/x-python",
   "name": "python",
   "nbconvert_exporter": "python",
   "pygments_lexer": "ipython3",
   "version": "3.8.7"
  }
 },
 "nbformat": 4,
 "nbformat_minor": 5
}
