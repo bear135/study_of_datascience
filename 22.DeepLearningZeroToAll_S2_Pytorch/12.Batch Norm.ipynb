{
 "cells": [
  {
   "cell_type": "markdown",
   "id": "close-arrival",
   "metadata": {},
   "source": [
    "### 12. Batch Normalization"
   ]
  },
  {
   "cell_type": "markdown",
   "id": "amino-treasury",
   "metadata": {},
   "source": [
    "- 신경망 학습 과정에서 부딪히는 문제(Gradient Vanishing, Gradient Exploding)와 해결방법 \n",
    "    1) activation function 변경 (ex. sigmoid --> ReLU) \n",
    "    2) Weight initialization (ex. xavier, He) \n",
    "    3) small running rate \n",
    "    4) Batch normalization : mini-batch mean/variance를 구해서 데이터들을 정규화 한다. "
   ]
  },
  {
   "cell_type": "markdown",
   "id": "chicken-apartment",
   "metadata": {},
   "source": [
    "- 실전 코드 "
   ]
  },
  {
   "cell_type": "code",
   "execution_count": 1,
   "id": "guided-prague",
   "metadata": {},
   "outputs": [],
   "source": [
    "import torch \n",
    "import torchvision.datasets as dsets\n",
    "import torchvision.transforms as transforms \n",
    "import random \n",
    "import matplotlib.pyplot as plt \n",
    "import timeit \n",
    "device = 'cpu'"
   ]
  },
  {
   "cell_type": "code",
   "execution_count": 2,
   "id": "immediate-execution",
   "metadata": {},
   "outputs": [],
   "source": [
    "## parameters \n",
    "training_epochs = 20 \n",
    "batch_size = 32 \n",
    "learning_rate = 0.01 "
   ]
  },
  {
   "cell_type": "code",
   "execution_count": 3,
   "id": "found-worthy",
   "metadata": {},
   "outputs": [],
   "source": [
    "## dataset and DataLoader\n",
    "mnist_train = dsets.MNIST(root = 'MNIST_data/', \n",
    "                          train = True, \n",
    "                          transform = transforms.ToTensor(), \n",
    "                          download = True)\n",
    "\n",
    "mnist_test = dsets.MNIST(root = 'MNIST_data/', \n",
    "                          train = False, \n",
    "                          transform = transforms.ToTensor(), \n",
    "                          download = True)\n",
    "\n",
    "data_loader = torch.utils.data.DataLoader(dataset = mnist_train, \n",
    "                                           batch_size = batch_size, \n",
    "                                           shuffle = True, \n",
    "                                           drop_last = True ) "
   ]
  },
  {
   "cell_type": "code",
   "execution_count": 8,
   "id": "bottom-sheriff",
   "metadata": {},
   "outputs": [],
   "source": [
    "## nn layers \n",
    "linear1 = torch.nn.Linear(28*28, 32, bias = True)\n",
    "linear2 = torch.nn.Linear(32, 32, bias = True)\n",
    "linear3 = torch.nn.Linear(32, 10, bias = True)\n",
    "\n",
    "relu = torch.nn.ReLU()\n",
    "\n",
    "## Batch Normalization layers \n",
    "bn1 = torch.nn.BatchNorm1d(32)\n",
    "bn2 = torch.nn.BatchNorm1d(32)"
   ]
  },
  {
   "cell_type": "code",
   "execution_count": 9,
   "id": "south-publisher",
   "metadata": {},
   "outputs": [],
   "source": [
    "## model <-- insert bn layers \n",
    "model = torch.nn.Sequential(linear1, bn1, relu, \n",
    "                            linear2, bn2, relu, \n",
    "                            linear3).to(device)\n",
    "\n",
    "## cost, optimizer \n",
    "criterion = torch.nn.CrossEntropyLoss().to(device)\n",
    "optimizer = torch.optim.Adam(model.parameters(), lr = learning_rate)"
   ]
  },
  {
   "cell_type": "code",
   "execution_count": 10,
   "id": "defensive-wichita",
   "metadata": {},
   "outputs": [
    {
     "name": "stdout",
     "output_type": "stream",
     "text": [
      "epoch: 1 cost= tensor(0.2750, grad_fn=<AddBackward0>)\n",
      "epoch: 2 cost= tensor(0.1692, grad_fn=<AddBackward0>)\n",
      "epoch: 3 cost= tensor(0.1430, grad_fn=<AddBackward0>)\n",
      "epoch: 4 cost= tensor(0.1311, grad_fn=<AddBackward0>)\n",
      "epoch: 5 cost= tensor(0.1189, grad_fn=<AddBackward0>)\n",
      "epoch: 6 cost= tensor(0.1117, grad_fn=<AddBackward0>)\n",
      "epoch: 7 cost= tensor(0.1047, grad_fn=<AddBackward0>)\n",
      "epoch: 8 cost= tensor(0.1009, grad_fn=<AddBackward0>)\n",
      "epoch: 9 cost= tensor(0.0974, grad_fn=<AddBackward0>)\n",
      "epoch: 10 cost= tensor(0.0907, grad_fn=<AddBackward0>)\n",
      "epoch: 11 cost= tensor(0.0891, grad_fn=<AddBackward0>)\n",
      "epoch: 12 cost= tensor(0.0873, grad_fn=<AddBackward0>)\n",
      "epoch: 13 cost= tensor(0.0837, grad_fn=<AddBackward0>)\n",
      "epoch: 14 cost= tensor(0.0798, grad_fn=<AddBackward0>)\n",
      "epoch: 15 cost= tensor(0.0792, grad_fn=<AddBackward0>)\n",
      "epoch: 16 cost= tensor(0.0754, grad_fn=<AddBackward0>)\n",
      "epoch: 17 cost= tensor(0.0747, grad_fn=<AddBackward0>)\n",
      "epoch: 18 cost= tensor(0.0727, grad_fn=<AddBackward0>)\n",
      "epoch: 19 cost= tensor(0.0713, grad_fn=<AddBackward0>)\n",
      "epoch: 20 cost= tensor(0.0704, grad_fn=<AddBackward0>)\n",
      "Running time : 293.0537977\n"
     ]
    }
   ],
   "source": [
    "total_batch = len(data_loader)\n",
    "model.train()\n",
    "\n",
    "start_time = timeit.default_timer()  ## start time check \n",
    "\n",
    "for epoch in range(training_epochs) : \n",
    "    avg_cost = 0 \n",
    "    for X, Y in data_loader : \n",
    "        X = X.view(-1, 28*28).to(device)\n",
    "        Y = Y.to(device)\n",
    "        hypothesis = model(X)\n",
    "        cost = criterion(hypothesis, Y)\n",
    "        \n",
    "        optimizer.zero_grad()\n",
    "        cost.backward()\n",
    "        optimizer.step()\n",
    "        \n",
    "        avg_cost += cost / total_batch\n",
    "        \n",
    "    print('epoch:', epoch+1, 'cost=', avg_cost)\n",
    "\n",
    "\n",
    "end_time = timeit.default_timer()  ## end time check \n",
    "print('Running time :', end_time - start_time)"
   ]
  },
  {
   "cell_type": "code",
   "execution_count": 11,
   "id": "handy-region",
   "metadata": {},
   "outputs": [
    {
     "name": "stdout",
     "output_type": "stream",
     "text": [
      "Accuracy: 0.7868000268936157\n",
      "Label:  7\n",
      "Prediction:  7\n"
     ]
    },
    {
     "data": {
      "image/png": "[encoded data removed]",
      "text/plain": [
       "<Figure size 432x288 with 1 Axes>"
      ]
     },
     "metadata": {
      "needs_background": "light"
     },
     "output_type": "display_data"
    }
   ],
   "source": [
    "# Test the model using test sets\n",
    "\n",
    "with torch.no_grad():\n",
    "    model.eval()  \n",
    "    \n",
    "    X_test = mnist_test.test_data.view(-1, 28 * 28).float().to(device)\n",
    "    Y_test = mnist_test.test_labels.to(device)\n",
    "\n",
    "    prediction = model(X_test)\n",
    "    correct_prediction = torch.argmax(prediction, 1) == Y_test\n",
    "    accuracy = correct_prediction.float().mean()\n",
    "    print('Accuracy:', accuracy.item())\n",
    "\n",
    "    # Get one and predict\n",
    "    r = random.randint(0, len(mnist_test) - 1)\n",
    "    X_single_data = mnist_test.test_data[r:r + 1].view(-1, 28 * 28).float().to(device)\n",
    "    Y_single_data = mnist_test.test_labels[r:r + 1].to(device)\n",
    "\n",
    "    single_prediction = model(X_single_data)\n",
    "    print('Label: ', Y_single_data.item())\n",
    "    print('Prediction: ', torch.argmax(single_prediction, 1).item())\n",
    "    \n",
    "    plt.imshow(mnist_test.test_data[r:r + 1].view(28, 28), cmap='Greys', interpolation='nearest')\n",
    "    plt.show()"
   ]
  },
  {
   "cell_type": "code",
   "execution_count": null,
   "id": "norman-confirmation",
   "metadata": {},
   "outputs": [],
   "source": []
  }
 ],
 "metadata": {
  "kernelspec": {
   "display_name": "Python 3",
   "language": "python",
   "name": "python3"
  },
  "language_info": {
   "codemirror_mode": {
    "name": "ipython",
    "version": 3
   },
   "file_extension": ".py",
   "mimetype": "text/x-python",
   "name": "python",
   "nbconvert_exporter": "python",
   "pygments_lexer": "ipython3",
   "version": "3.8.7"
  }
 },
 "nbformat": 4,
 "nbformat_minor": 5
}
