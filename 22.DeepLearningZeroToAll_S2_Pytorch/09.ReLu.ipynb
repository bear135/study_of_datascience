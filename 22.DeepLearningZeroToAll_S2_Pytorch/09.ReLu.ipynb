{
 "cells": [
  {
   "cell_type": "markdown",
   "id": "accompanied-netherlands",
   "metadata": {},
   "source": [
    "### 09. ReLu"
   ]
  },
  {
   "cell_type": "markdown",
   "id": "naughty-trigger",
   "metadata": {},
   "source": [
    "- sigmoid는 양 끝쪽의 미분값(gradient) 값이 너무 작아, 역전파시 사라지게 된다. \n",
    "- ReLu는 f(x) = (0, 1) 즉 기울기가 존재하면 무조건 1을 출력한다. \n",
    "\n",
    "<img src = 'img/ReLu.png'>"
   ]
  },
  {
   "cell_type": "markdown",
   "id": "prerequisite-jefferson",
   "metadata": {},
   "source": [
    "- torch.optim 모듈은 아래와 같이 다양한 최적화 알고리즘들을 지원한다. \n",
    "- https://pytorch.org/docs/master/optim.html#torch-optim\n",
    "\n",
    "<img src = 'img/optim.png'>"
   ]
  },
  {
   "cell_type": "markdown",
   "id": "corrected-intention",
   "metadata": {},
   "source": [
    "- function = ReLu & optimizer = Adam 알고리즘을 사용한 코드 "
   ]
  },
  {
   "cell_type": "code",
   "execution_count": 1,
   "id": "postal-bandwidth",
   "metadata": {},
   "outputs": [
    {
     "name": "stdout",
     "output_type": "stream",
     "text": [
      "epoch: 1 cost= tensor(79.4762, grad_fn=<AddBackward0>)\n",
      "epoch: 2 cost= tensor(2.3860, grad_fn=<AddBackward0>)\n",
      "epoch: 3 cost= tensor(2.2885, grad_fn=<AddBackward0>)\n",
      "epoch: 4 cost= tensor(2.2383, grad_fn=<AddBackward0>)\n",
      "epoch: 5 cost= tensor(2.2185, grad_fn=<AddBackward0>)\n",
      "epoch: 6 cost= tensor(2.1947, grad_fn=<AddBackward0>)\n",
      "epoch: 7 cost= tensor(2.1617, grad_fn=<AddBackward0>)\n",
      "epoch: 8 cost= tensor(2.1095, grad_fn=<AddBackward0>)\n",
      "epoch: 9 cost= tensor(2.0654, grad_fn=<AddBackward0>)\n",
      "epoch: 10 cost= tensor(2.0377, grad_fn=<AddBackward0>)\n",
      "epoch: 11 cost= tensor(2.0339, grad_fn=<AddBackward0>)\n",
      "epoch: 12 cost= tensor(2.0506, grad_fn=<AddBackward0>)\n",
      "epoch: 13 cost= tensor(2.0072, grad_fn=<AddBackward0>)\n",
      "epoch: 14 cost= tensor(2.0092, grad_fn=<AddBackward0>)\n",
      "epoch: 15 cost= tensor(2.0068, grad_fn=<AddBackward0>)\n"
     ]
    }
   ],
   "source": [
    "import torch \n",
    "import torchvision.datasets as dsets \n",
    "import torchvision.transforms as transforms \n",
    "\n",
    "device = 'cpu'\n",
    "#device = 'cuda' if torch.cuda.is_available() else 'cpu'\n",
    "\n",
    "## parameters\n",
    "training_epoch = 15 \n",
    "batch_size = 100\n",
    "learning_rate = 0.001\n",
    "\n",
    "## dataset \n",
    "mnist_train = dsets.MNIST(root = 'MNIST_data/', \n",
    "                          train = True, \n",
    "                          transform = transforms.ToTensor(), \n",
    "                          download = True )\n",
    "\n",
    "mnist_test = dsets.MNIST(root = 'MNIST_data/', \n",
    "                          train = False, \n",
    "                          transform = transforms.ToTensor(), \n",
    "                          download = True )\n",
    "\n",
    "data_loader = torch.utils.data.DataLoader(dataset = mnist_train, \n",
    "                                         batch_size = batch_size, \n",
    "                                         shuffle = True, \n",
    "                                         drop_last = True )\n",
    "\n",
    "## use 3 layers\n",
    "linear1 = torch.nn.Linear(28*28, 256, bias = True)\n",
    "linear2 = torch.nn.Linear(256, 256, bias = True)\n",
    "linear3 = torch.nn.Linear(256, 10, bias = True)\n",
    "\n",
    "## 모형들의 weight를 정규분포로 초기화 \n",
    "torch.nn.init.normal_(linear1.weight)\n",
    "torch.nn.init.normal_(linear2.weight)\n",
    "torch.nn.init.normal_(linear3.weight)\n",
    "\n",
    "## model, cost function, optimizer \n",
    "## softmax 대신 relu & SGD 대신 Adam 사용 \n",
    "relu = torch.nn.ReLU()\n",
    "\n",
    "model = torch.nn.Sequential(linear1, relu, \n",
    "                            linear2, relu, \n",
    "                            linear3, relu).to(device)\n",
    "\n",
    "criterion = torch.nn.CrossEntropyLoss().to(device)\n",
    "optimizer = torch.optim.Adam(model.parameters(), lr = learning_rate)\n",
    "#optimizer = torch.optim.SGD(model.parameters(), lr = learning_rate)\n",
    "\n",
    "total_batch = len(data_loader)\n",
    "\n",
    "for epoch in range(training_epoch) : \n",
    "    avg_cost = 0 \n",
    "    for X, Y in data_loader : \n",
    "        X = X.view(-1, 28*28).to(device)\n",
    "        Y = Y.to(device)\n",
    "        hypothesis = model(X)\n",
    "        cost = criterion(hypothesis, Y)\n",
    "        \n",
    "        optimizer.zero_grad()\n",
    "        cost.backward()\n",
    "        optimizer.step()\n",
    "        \n",
    "        avg_cost += cost / total_batch\n",
    "        \n",
    "    print('epoch:', epoch+1, 'cost=', avg_cost)"
   ]
  },
  {
   "cell_type": "code",
   "execution_count": 2,
   "id": "oriental-friendly",
   "metadata": {},
   "outputs": [
    {
     "name": "stderr",
     "output_type": "stream",
     "text": [
      "c:\\python\\lib\\site-packages\\torchvision\\datasets\\mnist.py:58: UserWarning: test_data has been renamed data\n",
      "  warnings.warn(\"test_data has been renamed data\")\n",
      "c:\\python\\lib\\site-packages\\torchvision\\datasets\\mnist.py:48: UserWarning: test_labels has been renamed targets\n",
      "  warnings.warn(\"test_labels has been renamed targets\")\n"
     ]
    },
    {
     "name": "stdout",
     "output_type": "stream",
     "text": [
      "Accuracy: 0.249099999666214\n",
      "Label:  1\n",
      "Prediction:  1\n"
     ]
    },
    {
     "data": {
      "image/png": "[encoded data removed]",
      "text/plain": [
       "<Figure size 432x288 with 1 Axes>"
      ]
     },
     "metadata": {
      "needs_background": "light"
     },
     "output_type": "display_data"
    }
   ],
   "source": [
    "# Test the model using test sets\n",
    "import random \n",
    "import matplotlib.pyplot as plt\n",
    "\n",
    "with torch.no_grad():\n",
    "    X_test = mnist_test.test_data.view(-1, 28 * 28).float().to(device)\n",
    "    Y_test = mnist_test.test_labels.to(device)\n",
    "\n",
    "    prediction = model(X_test)\n",
    "    correct_prediction = torch.argmax(prediction, 1) == Y_test\n",
    "    accuracy = correct_prediction.float().mean()\n",
    "    print('Accuracy:', accuracy.item())\n",
    "\n",
    "    # Get one and predict\n",
    "    r = random.randint(0, len(mnist_test) - 1)\n",
    "    X_single_data = mnist_test.test_data[r:r + 1].view(-1, 28 * 28).float().to(device)\n",
    "    Y_single_data = mnist_test.test_labels[r:r + 1].to(device)\n",
    "\n",
    "    single_prediction = model(X_single_data)\n",
    "    print('Label: ', Y_single_data.item())\n",
    "    print('Prediction: ', torch.argmax(single_prediction, 1).item())\n",
    "    \n",
    "    plt.imshow(mnist_test.test_data[r:r + 1].view(28, 28), cmap='Greys', interpolation='nearest')\n",
    "    plt.show()"
   ]
  },
  {
   "cell_type": "code",
   "execution_count": null,
   "id": "talented-craft",
   "metadata": {},
   "outputs": [],
   "source": []
  },
  {
   "cell_type": "code",
   "execution_count": null,
   "id": "aging-study",
   "metadata": {},
   "outputs": [],
   "source": []
  }
 ],
 "metadata": {
  "kernelspec": {
   "display_name": "Python 3",
   "language": "python",
   "name": "python3"
  },
  "language_info": {
   "codemirror_mode": {
    "name": "ipython",
    "version": 3
   },
   "file_extension": ".py",
   "mimetype": "text/x-python",
   "name": "python",
   "nbconvert_exporter": "python",
   "pygments_lexer": "ipython3",
   "version": "3.8.7"
  }
 },
 "nbformat": 4,
 "nbformat_minor": 5
}
