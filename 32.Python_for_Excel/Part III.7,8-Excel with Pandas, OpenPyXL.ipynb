{
 "cells": [
  {
   "cell_type": "markdown",
   "id": "7713f402-00a2-4acf-acb8-579920cd420f",
   "metadata": {},
   "source": [
    "### Part III.7 판다스를 사용한 엑셀 파일 조작"
   ]
  },
  {
   "cell_type": "code",
   "execution_count": 6,
   "id": "bc4778dc-a9e8-43c8-92ed-5d5b49db8a0b",
   "metadata": {},
   "outputs": [],
   "source": [
    "import numpy as np\n",
    "import pandas as pd"
   ]
  },
  {
   "cell_type": "markdown",
   "id": "2c1f2361-3f62-492b-842d-4e0ed5dd5117",
   "metadata": {},
   "source": [
    "### <u> 1. 엑셀파일 읽어오기 </u>\n",
    "- read_excel"
   ]
  },
  {
   "cell_type": "code",
   "execution_count": 9,
   "id": "29c7a7fe-5f49-420e-9e93-6c0ddfa001c7",
   "metadata": {},
   "outputs": [
    {
     "data": {
      "text/html": [
       "<div>\n",
       "<style scoped>\n",
       "    .dataframe tbody tr th:only-of-type {\n",
       "        vertical-align: middle;\n",
       "    }\n",
       "\n",
       "    .dataframe tbody tr th {\n",
       "        vertical-align: top;\n",
       "    }\n",
       "\n",
       "    .dataframe thead th {\n",
       "        text-align: right;\n",
       "    }\n",
       "</style>\n",
       "<table border=\"1\" class=\"dataframe\">\n",
       "  <thead>\n",
       "    <tr style=\"text-align: right;\">\n",
       "      <th></th>\n",
       "      <th>Store</th>\n",
       "      <th>Employees</th>\n",
       "      <th>Manager</th>\n",
       "      <th>Since</th>\n",
       "      <th>Flagship</th>\n",
       "    </tr>\n",
       "  </thead>\n",
       "  <tbody>\n",
       "    <tr>\n",
       "      <th>0</th>\n",
       "      <td>New York</td>\n",
       "      <td>10</td>\n",
       "      <td>Sarah</td>\n",
       "      <td>2018-07-20</td>\n",
       "      <td>False</td>\n",
       "    </tr>\n",
       "    <tr>\n",
       "      <th>1</th>\n",
       "      <td>San Francisco</td>\n",
       "      <td>12</td>\n",
       "      <td>Neriah</td>\n",
       "      <td>2019-11-02</td>\n",
       "      <td>MISSING</td>\n",
       "    </tr>\n",
       "    <tr>\n",
       "      <th>2</th>\n",
       "      <td>Chicago</td>\n",
       "      <td>4</td>\n",
       "      <td>Katelin</td>\n",
       "      <td>2020-01-31</td>\n",
       "      <td>NaN</td>\n",
       "    </tr>\n",
       "    <tr>\n",
       "      <th>3</th>\n",
       "      <td>Boston</td>\n",
       "      <td>5</td>\n",
       "      <td>Georgiana</td>\n",
       "      <td>2017-04-01</td>\n",
       "      <td>True</td>\n",
       "    </tr>\n",
       "    <tr>\n",
       "      <th>4</th>\n",
       "      <td>Washington DC</td>\n",
       "      <td>3</td>\n",
       "      <td>Evan</td>\n",
       "      <td>NaT</td>\n",
       "      <td>False</td>\n",
       "    </tr>\n",
       "    <tr>\n",
       "      <th>5</th>\n",
       "      <td>Las Vegas</td>\n",
       "      <td>11</td>\n",
       "      <td>Paul</td>\n",
       "      <td>2020-01-06</td>\n",
       "      <td>False</td>\n",
       "    </tr>\n",
       "  </tbody>\n",
       "</table>\n",
       "</div>"
      ],
      "text/plain": [
       "           Store  Employees    Manager      Since Flagship\n",
       "0       New York         10      Sarah 2018-07-20    False\n",
       "1  San Francisco         12     Neriah 2019-11-02  MISSING\n",
       "2        Chicago          4    Katelin 2020-01-31      NaN\n",
       "3         Boston          5  Georgiana 2017-04-01     True\n",
       "4  Washington DC          3       Evan        NaT    False\n",
       "5      Las Vegas         11       Paul 2020-01-06    False"
      ]
     },
     "execution_count": 9,
     "metadata": {},
     "output_type": "execute_result"
    }
   ],
   "source": [
    "## 읽어올 대상 시트와 범위를지정한다 \n",
    "df = pd.read_excel('python-for-excel-1st-edition/xl/stores.xls', \n",
    "                   sheet_name = '2019', skiprows = 1, usecols = 'B:F')\n",
    "df"
   ]
  },
  {
   "cell_type": "code",
   "execution_count": 13,
   "id": "f7311f05-ca4d-4cb3-a23f-5b18be9f520c",
   "metadata": {},
   "outputs": [
    {
     "data": {
      "text/html": [
       "<div>\n",
       "<style scoped>\n",
       "    .dataframe tbody tr th:only-of-type {\n",
       "        vertical-align: middle;\n",
       "    }\n",
       "\n",
       "    .dataframe tbody tr th {\n",
       "        vertical-align: top;\n",
       "    }\n",
       "\n",
       "    .dataframe thead th {\n",
       "        text-align: right;\n",
       "    }\n",
       "</style>\n",
       "<table border=\"1\" class=\"dataframe\">\n",
       "  <thead>\n",
       "    <tr style=\"text-align: right;\">\n",
       "      <th></th>\n",
       "      <th>Store</th>\n",
       "      <th>Employees</th>\n",
       "      <th>Manager</th>\n",
       "      <th>Since</th>\n",
       "    </tr>\n",
       "  </thead>\n",
       "  <tbody>\n",
       "    <tr>\n",
       "      <th>0</th>\n",
       "      <td>New York</td>\n",
       "      <td>10</td>\n",
       "      <td>Sarah</td>\n",
       "      <td>2018-07-20</td>\n",
       "    </tr>\n",
       "    <tr>\n",
       "      <th>1</th>\n",
       "      <td>San Francisco</td>\n",
       "      <td>12</td>\n",
       "      <td>Neriah</td>\n",
       "      <td>2019-11-02</td>\n",
       "    </tr>\n",
       "    <tr>\n",
       "      <th>2</th>\n",
       "      <td>Chicago</td>\n",
       "      <td>4</td>\n",
       "      <td>Katelin</td>\n",
       "      <td>2020-01-31</td>\n",
       "    </tr>\n",
       "    <tr>\n",
       "      <th>3</th>\n",
       "      <td>Boston</td>\n",
       "      <td>5</td>\n",
       "      <td>Georgiana</td>\n",
       "      <td>2017-04-01</td>\n",
       "    </tr>\n",
       "    <tr>\n",
       "      <th>4</th>\n",
       "      <td>Washington DC</td>\n",
       "      <td>3</td>\n",
       "      <td>Evan</td>\n",
       "      <td>NaT</td>\n",
       "    </tr>\n",
       "    <tr>\n",
       "      <th>5</th>\n",
       "      <td>Las Vegas</td>\n",
       "      <td>11</td>\n",
       "      <td>Paul</td>\n",
       "      <td>2020-01-06</td>\n",
       "    </tr>\n",
       "  </tbody>\n",
       "</table>\n",
       "</div>"
      ],
      "text/plain": [
       "           Store  Employees    Manager      Since\n",
       "0       New York         10      Sarah 2018-07-20\n",
       "1  San Francisco         12     Neriah 2019-11-02\n",
       "2        Chicago          4    Katelin 2020-01-31\n",
       "3         Boston          5  Georgiana 2017-04-01\n",
       "4  Washington DC          3       Evan        NaT\n",
       "5      Las Vegas         11       Paul 2020-01-06"
      ]
     },
     "execution_count": 13,
     "metadata": {},
     "output_type": "execute_result"
    }
   ],
   "source": [
    "## url로 부터 파일 읽어오기 \n",
    "url = \"https://raw.githubusercontent.com/fzumstein/python-for-excel/1st-edition/xl/stores.xlsx\" \n",
    "\n",
    "df_url = pd.read_excel(url, skiprows = 1, usecols = 'B:E', nrows = 10)\n",
    "df_url"
   ]
  },
  {
   "cell_type": "markdown",
   "id": "0791c07e-f9da-47e3-bf36-9dd96b9b4d78",
   "metadata": {},
   "source": [
    "### <u> 2. 엑셀파일 쓰기 </u>\n",
    "- to_excel"
   ]
  },
  {
   "cell_type": "code",
   "execution_count": 15,
   "id": "60ad3004-1ad0-458c-98fc-35946db84089",
   "metadata": {},
   "outputs": [],
   "source": [
    "import datetime as dt"
   ]
  },
  {
   "cell_type": "code",
   "execution_count": 16,
   "id": "849f6e7b-faf8-4771-a1d8-e7136a230108",
   "metadata": {},
   "outputs": [
    {
     "data": {
      "text/plain": [
       "[[datetime.datetime(2020, 1, 1, 10, 13), 2.2222, 1, True],\n",
       " [datetime.datetime(2020, 1, 2, 0, 0), nan, 2, False],\n",
       " [datetime.datetime(2020, 1, 2, 0, 0), inf, 3, True]]"
      ]
     },
     "execution_count": 16,
     "metadata": {},
     "output_type": "execute_result"
    }
   ],
   "source": [
    "data = [ [dt.datetime(2020, 1, 1, 10, 13), 2.2222, 1, True],\n",
    "         [dt.datetime(2020, 1, 2), np.nan, 2, False],\n",
    "         [dt.datetime(2020, 1, 2), np.inf, 3, True]  ]\n",
    "\n",
    "data"
   ]
  },
  {
   "cell_type": "code",
   "execution_count": 17,
   "id": "6c64ff2b-3953-4196-8403-6de58518c683",
   "metadata": {},
   "outputs": [
    {
     "data": {
      "text/html": [
       "<div>\n",
       "<style scoped>\n",
       "    .dataframe tbody tr th:only-of-type {\n",
       "        vertical-align: middle;\n",
       "    }\n",
       "\n",
       "    .dataframe tbody tr th {\n",
       "        vertical-align: top;\n",
       "    }\n",
       "\n",
       "    .dataframe thead th {\n",
       "        text-align: right;\n",
       "    }\n",
       "</style>\n",
       "<table border=\"1\" class=\"dataframe\">\n",
       "  <thead>\n",
       "    <tr style=\"text-align: right;\">\n",
       "      <th></th>\n",
       "      <th>Dates</th>\n",
       "      <th>Floats</th>\n",
       "      <th>Intergers</th>\n",
       "      <th>Boolean</th>\n",
       "    </tr>\n",
       "    <tr>\n",
       "      <th>Index</th>\n",
       "      <th></th>\n",
       "      <th></th>\n",
       "      <th></th>\n",
       "      <th></th>\n",
       "    </tr>\n",
       "  </thead>\n",
       "  <tbody>\n",
       "    <tr>\n",
       "      <th>0</th>\n",
       "      <td>2020-01-01 10:13:00</td>\n",
       "      <td>2.2222</td>\n",
       "      <td>1</td>\n",
       "      <td>True</td>\n",
       "    </tr>\n",
       "    <tr>\n",
       "      <th>1</th>\n",
       "      <td>2020-01-02 00:00:00</td>\n",
       "      <td>NaN</td>\n",
       "      <td>2</td>\n",
       "      <td>False</td>\n",
       "    </tr>\n",
       "    <tr>\n",
       "      <th>2</th>\n",
       "      <td>2020-01-02 00:00:00</td>\n",
       "      <td>inf</td>\n",
       "      <td>3</td>\n",
       "      <td>True</td>\n",
       "    </tr>\n",
       "  </tbody>\n",
       "</table>\n",
       "</div>"
      ],
      "text/plain": [
       "                    Dates  Floats  Intergers  Boolean\n",
       "Index                                                \n",
       "0     2020-01-01 10:13:00  2.2222          1     True\n",
       "1     2020-01-02 00:00:00     NaN          2    False\n",
       "2     2020-01-02 00:00:00     inf          3     True"
      ]
     },
     "execution_count": 17,
     "metadata": {},
     "output_type": "execute_result"
    }
   ],
   "source": [
    "df = pd.DataFrame(data = data, columns = ['Dates', 'Floats', \"Intergers\", 'Boolean'])\n",
    "df.index.name = 'Index'\n",
    "df"
   ]
  },
  {
   "cell_type": "code",
   "execution_count": 23,
   "id": "8c2b6913-ca31-402a-b967-3bc8ba499a36",
   "metadata": {},
   "outputs": [],
   "source": [
    "## 데이터 프레임을 엑셀파일로 내보내기, 시트이름과 시작 셀 위치 및 인덱스, 헤더 유무 지정 \n",
    "df.to_excel('written_with_pandas.xlsx', \n",
    "            sheet_name = 'output', startrow = 1, startcol = 1, index = True, header = True)             "
   ]
  },
  {
   "cell_type": "code",
   "execution_count": 26,
   "id": "9c659520-3e5c-446f-9c39-1a95d485ceac",
   "metadata": {},
   "outputs": [],
   "source": [
    "## 여러개의 데이터 프레임을 엑셀파일로 내보내기 \n",
    "with pd.ExcelWriter('written_with_pandas2.xlsx') as writer : \n",
    "    df.to_excel(writer,sheet_name = 'One', startrow = 1, startcol = 1)\n",
    "    df.to_excel(writer,sheet_name = 'One', startrow = 10, startcol = 1)\n",
    "    df.to_excel(writer,sheet_name = 'Two')"
   ]
  },
  {
   "cell_type": "code",
   "execution_count": 27,
   "id": "bf8b8b89-054e-4a0c-8bff-3b23cc05bfeb",
   "metadata": {},
   "outputs": [],
   "source": [
    "############################################################################################################"
   ]
  },
  {
   "cell_type": "markdown",
   "id": "72bcfe8d-2846-43f9-968d-9349ea8883ea",
   "metadata": {},
   "source": [
    "### Part III.8 리더와 라이터 패키지를 이용한 엑셀파일 조작 \n",
    "- 판다스의 기본 엔진은 XlsxWriter이다. \n",
    "- OpenPyXL은 읽기, 쓰기 모두 지원한다. 사용하려면 엔진옵션에 지정해 준다. \n",
    "- <i> ex> df.to_excel('data.xlsx', engien = 'openpyxl') </i>"
   ]
  },
  {
   "cell_type": "markdown",
   "id": "cd8c2039-61ed-4440-ad92-01f1007dba48",
   "metadata": {},
   "source": [
    "#### <u> 1. OpenPyXL로 읽기 </u>"
   ]
  },
  {
   "cell_type": "code",
   "execution_count": 45,
   "id": "4913ffcf-37fb-476d-ab52-9dfb56cd8c60",
   "metadata": {},
   "outputs": [],
   "source": [
    "# !pip install excel\n",
    "import excel \n",
    "import openpyxl"
   ]
  },
  {
   "cell_type": "code",
   "execution_count": 73,
   "id": "b865d8f4-4cd4-4168-b5cd-4ee2e032076a",
   "metadata": {},
   "outputs": [
    {
     "name": "stdout",
     "output_type": "stream",
     "text": [
      "<openpyxl.workbook.workbook.Workbook object at 0x00000234D10F2B20>\n"
     ]
    }
   ],
   "source": [
    "df_book = openpyxl.load_workbook('python-for-excel-1st-edition/xl/stores.xlsx', data_only = True)\n",
    "print(df_book)\n",
    "df_book.save('temp.xlsx')"
   ]
  },
  {
   "cell_type": "markdown",
   "id": "f3c53a23-99d6-429b-a07d-5ad991c48761",
   "metadata": {},
   "source": [
    "#### <u> 2. OpenPyXL로 쓰기 </u>"
   ]
  },
  {
   "cell_type": "code",
   "execution_count": 57,
   "id": "b8ce9bf6-1c98-4b87-a114-22e4cafa9855",
   "metadata": {},
   "outputs": [],
   "source": [
    "import excel\n",
    "import openpyxl\n",
    "from openpyxl.drawing.image import Image\n",
    "from openpyxl.chart import BarChart, Reference\n",
    "from openpyxl.styles import Font, colors\n",
    "from openpyxl.styles.borders import Border, Side\n",
    "from openpyxl.styles.alignment import Alignment\n",
    "from openpyxl.styles.fills import PatternFill"
   ]
  },
  {
   "cell_type": "code",
   "execution_count": 76,
   "id": "56a55b1c-38e5-4594-a244-d6ceff5a4d37",
   "metadata": {},
   "outputs": [],
   "source": [
    "# Instantiate a workbook\n",
    "book = openpyxl.Workbook()\n",
    "\n",
    "# Get the first sheet and give it a name\n",
    "sheet = book.active\n",
    "sheet.title = \"Sheet1\"\n",
    "\n",
    "# Writing individual cells using A1 notation\n",
    "# and cell indices (1-based)\n",
    "sheet[\"A1\"].value = \"Hello 1\"\n",
    "sheet.cell(row=2, column=1, value=\"Hello 2\")\n",
    "\n",
    "# Formatting: fill color, alignment, border and font\n",
    "font_format = Font(color=\"FF0000\", bold=True)\n",
    "thin = Side(border_style=\"thin\", color=\"FF0000\")\n",
    "sheet[\"A3\"].value = \"Hello 3\"\n",
    "sheet[\"A3\"].font = font_format\n",
    "sheet[\"A3\"].border = Border(top=thin, left=thin,\n",
    "                            right=thin, bottom=thin)\n",
    "sheet[\"A3\"].alignment = Alignment(horizontal=\"center\")\n",
    "sheet[\"A3\"].fill = PatternFill(fgColor=\"FFFF00\", fill_type=\"solid\")\n",
    "\n",
    "# Number formatting (using Excel's formatting strings)\n",
    "sheet[\"A4\"].value = 3.3333\n",
    "sheet[\"A4\"].number_format = \"0.00\"\n",
    "\n",
    "# Date formatting (using Excel's formatting strings)\n",
    "sheet[\"A5\"].value = dt.date(2016, 10, 13)\n",
    "sheet[\"A5\"].number_format = \"mm/dd/yy\"\n",
    "\n",
    "# Formula: you must use the English name of the formula\n",
    "# with commas as delimiters\n",
    "sheet[\"A6\"].value = \"=SUM(A4, 2)\"\n",
    "\n",
    "# Image\n",
    "sheet.add_image(Image(\"python-for-excel-1st-edition/images/python.png\"), \"C1\")\n",
    "\n",
    "# Two-dimensional list (we're using our excel module)\n",
    "data = [[None, \"North\", \"South\"],\n",
    "        [\"Last Year\", 2, 5],\n",
    "        [\"This Year\", 3, 6]]\n",
    "\n",
    "##### excel.write(sheet, data, \"A10\")\n",
    "sheet['B10'].value = 'North'\n",
    "sheet['C10'].value = 'South'\n",
    "sheet['A11'].value = 'Last Year'\n",
    "sheet['A12'].value = 'This Year'\n",
    "sheet['B11'].value = 2\n",
    "sheet['C11'].value = 5\n",
    "sheet['B12'].value = 3\n",
    "sheet['C12'].value = 6\n",
    "\n",
    "\n",
    "\n",
    "\n",
    "# Chart\n",
    "chart = BarChart()\n",
    "chart.type = \"col\"\n",
    "chart.title = \"Sales Per Region\"\n",
    "chart.x_axis.title = \"Regions\"\n",
    "chart.y_axis.title = \"Sales\"\n",
    "chart_data = Reference(sheet, min_row=11, min_col=1,\n",
    "                       max_row=12, max_col=3)\n",
    "chart_categories = Reference(sheet, min_row=10, min_col=2,\n",
    "                             max_row=10, max_col=3)\n",
    "# from_rows interprets the data in the same way\n",
    "# as if you would add a chart manually in Excel\n",
    "chart.add_data(chart_data, titles_from_data=True, from_rows=True)\n",
    "chart.set_categories(chart_categories)\n",
    "sheet.add_chart(chart, \"A15\")\n",
    "\n",
    "# Saving the workbook creates the file on disk\n",
    "book.save(\"openpyxl.xlsx\")"
   ]
  },
  {
   "cell_type": "code",
   "execution_count": 77,
   "id": "6810bb58-5d0b-4fe3-a040-21fdbf5a7c86",
   "metadata": {},
   "outputs": [],
   "source": [
    "book = openpyxl.Workbook()\n",
    "sheet = book.active\n",
    "sheet[\"A1\"].value = \"This is a template\"\n",
    "book.template = True\n",
    "book.save(\"template.xltx\")"
   ]
  },
  {
   "cell_type": "code",
   "execution_count": null,
   "id": "c9861db6-b00a-489b-b2be-bf64e4fc739b",
   "metadata": {},
   "outputs": [],
   "source": []
  },
  {
   "cell_type": "code",
   "execution_count": null,
   "id": "fdb43e9e-bb4d-4a5a-ac58-4f67c8b30288",
   "metadata": {},
   "outputs": [],
   "source": []
  },
  {
   "cell_type": "code",
   "execution_count": null,
   "id": "deb0f00d-b811-43c6-ba38-02120df6ffd5",
   "metadata": {},
   "outputs": [],
   "source": []
  },
  {
   "cell_type": "code",
   "execution_count": null,
   "id": "8a03f2e0-d517-4940-a5ac-16f8a1c47f52",
   "metadata": {},
   "outputs": [],
   "source": []
  }
 ],
 "metadata": {
  "kernelspec": {
   "display_name": "Python 3",
   "language": "python",
   "name": "python3"
  },
  "language_info": {
   "codemirror_mode": {
    "name": "ipython",
    "version": 3
   },
   "file_extension": ".py",
   "mimetype": "text/x-python",
   "name": "python",
   "nbconvert_exporter": "python",
   "pygments_lexer": "ipython3",
   "version": "3.8.8"
  }
 },
 "nbformat": 4,
 "nbformat_minor": 5
}
