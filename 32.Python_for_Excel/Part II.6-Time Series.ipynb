{
 "cells": [
  {
   "cell_type": "markdown",
   "id": "5d4839ac-4f14-4787-9809-5fdb43d67b2d",
   "metadata": {},
   "source": [
    "### Part II.6 Pandas와 시계열 분석 "
   ]
  },
  {
   "cell_type": "code",
   "execution_count": 1,
   "id": "93bb77f4-c9f0-4bb3-b9ba-088e947782cc",
   "metadata": {},
   "outputs": [],
   "source": [
    "import numpy as np \n",
    "import pandas as pd "
   ]
  },
  {
   "cell_type": "markdown",
   "id": "9ad4f3fd-aaaf-4a69-807e-e681dd9500d7",
   "metadata": {},
   "source": [
    "### <u> 1. date_range를 사용하여 DatetimeIndex 생성하기 </u>\n",
    "- date_range(\"start_day\", \"end_day\", freq = \"D\") \n",
    "- date_range(\"start_day\", periods = , freq = \"D\") "
   ]
  },
  {
   "cell_type": "code",
   "execution_count": 2,
   "id": "52335421-5c6c-4e49-9610-2fd7273f4c80",
   "metadata": {},
   "outputs": [
    {
     "data": {
      "text/plain": [
       "DatetimeIndex(['2022-01-01', '2022-01-02', '2022-01-03', '2022-01-04',\n",
       "               '2022-01-05', '2022-01-06', '2022-01-07', '2022-01-08',\n",
       "               '2022-01-09', '2022-01-10', '2022-01-11', '2022-01-12',\n",
       "               '2022-01-13', '2022-01-14', '2022-01-15', '2022-01-16',\n",
       "               '2022-01-17', '2022-01-18', '2022-01-19', '2022-01-20',\n",
       "               '2022-01-21', '2022-01-22', '2022-01-23', '2022-01-24',\n",
       "               '2022-01-25', '2022-01-26', '2022-01-27', '2022-01-28',\n",
       "               '2022-01-29', '2022-01-30', '2022-01-31'],\n",
       "              dtype='datetime64[ns]', freq='D')"
      ]
     },
     "execution_count": 2,
     "metadata": {},
     "output_type": "execute_result"
    }
   ],
   "source": [
    "daily_index_1 = pd.date_range('2022-01-01', '2022-01-31', freq = 'D')\n",
    "daily_index_1"
   ]
  },
  {
   "cell_type": "code",
   "execution_count": 3,
   "id": "ebe07ef9-0834-4258-8d3f-05effc7703c9",
   "metadata": {},
   "outputs": [
    {
     "data": {
      "text/plain": [
       "DatetimeIndex(['2022-01-01', '2022-01-02', '2022-01-03', '2022-01-04',\n",
       "               '2022-01-05', '2022-01-06', '2022-01-07', '2022-01-08',\n",
       "               '2022-01-09', '2022-01-10'],\n",
       "              dtype='datetime64[ns]', freq='D')"
      ]
     },
     "execution_count": 3,
     "metadata": {},
     "output_type": "execute_result"
    }
   ],
   "source": [
    "daily_index_2 = pd.date_range('2022-01-01', periods = 10, freq = 'D')  ## 시작날짜로 부터 10개 만들기 \n",
    "daily_index_2"
   ]
  },
  {
   "cell_type": "code",
   "execution_count": 4,
   "id": "5604e9c6-0119-4fee-afa8-8af521684a9b",
   "metadata": {},
   "outputs": [
    {
     "data": {
      "text/plain": [
       "DatetimeIndex(['2022-01-02', '2022-01-09', '2022-01-16', '2022-01-23',\n",
       "               '2022-01-30'],\n",
       "              dtype='datetime64[ns]', freq='W-SUN')"
      ]
     },
     "execution_count": 4,
     "metadata": {},
     "output_type": "execute_result"
    }
   ],
   "source": [
    "weekly_index = pd.date_range('2022-01-01', '2022-01-31', freq = 'W-SUN')  ## 매주 일요일 인덱스 만들기\n",
    "weekly_index"
   ]
  },
  {
   "cell_type": "code",
   "execution_count": 5,
   "id": "11efb1d9-44c7-47df-8e3e-62dfe7662427",
   "metadata": {},
   "outputs": [
    {
     "data": {
      "text/plain": [
       "DatetimeIndex(['2022-01-01 00:00:00', '2022-01-01 01:00:00',\n",
       "               '2022-01-01 02:00:00', '2022-01-01 03:00:00',\n",
       "               '2022-01-01 04:00:00', '2022-01-01 05:00:00',\n",
       "               '2022-01-01 06:00:00', '2022-01-01 07:00:00',\n",
       "               '2022-01-01 08:00:00', '2022-01-01 09:00:00',\n",
       "               '2022-01-01 10:00:00', '2022-01-01 11:00:00',\n",
       "               '2022-01-01 12:00:00', '2022-01-01 13:00:00',\n",
       "               '2022-01-01 14:00:00', '2022-01-01 15:00:00',\n",
       "               '2022-01-01 16:00:00', '2022-01-01 17:00:00',\n",
       "               '2022-01-01 18:00:00', '2022-01-01 19:00:00',\n",
       "               '2022-01-01 20:00:00', '2022-01-01 21:00:00',\n",
       "               '2022-01-01 22:00:00', '2022-01-01 23:00:00'],\n",
       "              dtype='datetime64[ns]', freq='H')"
      ]
     },
     "execution_count": 5,
     "metadata": {},
     "output_type": "execute_result"
    }
   ],
   "source": [
    "hour_index = pd.date_range('2022-01-01', periods = 24, freq = 'H')  ## hour 인덱스 만들기\n",
    "hour_index"
   ]
  },
  {
   "cell_type": "markdown",
   "id": "79c9b186-f475-47ca-af5d-659df8c3542d",
   "metadata": {},
   "source": [
    "### <u> 2. 문자열을 timestamp로 변환하기 </u>\n",
    "1) 해당컬럼에 대해 to_datetime 함수를 실행한다. \n",
    "2) 데이터를 읽어올때 parse_dates 인자를 사용한다. "
   ]
  },
  {
   "cell_type": "code",
   "execution_count": 6,
   "id": "0ee69476-cc05-4a81-9044-e66898825c9a",
   "metadata": {},
   "outputs": [
    {
     "name": "stdout",
     "output_type": "stream",
     "text": [
      "<class 'pandas.core.frame.DataFrame'>\n",
      "RangeIndex: 8622 entries, 0 to 8621\n",
      "Data columns (total 7 columns):\n",
      " #   Column     Non-Null Count  Dtype  \n",
      "---  ------     --------------  -----  \n",
      " 0   Date       8622 non-null   object \n",
      " 1   Open       8622 non-null   float64\n",
      " 2   High       8622 non-null   float64\n",
      " 3   Low        8622 non-null   float64\n",
      " 4   Close      8622 non-null   float64\n",
      " 5   Adj Close  8622 non-null   float64\n",
      " 6   Volume     8622 non-null   int64  \n",
      "dtypes: float64(5), int64(1), object(1)\n",
      "memory usage: 471.6+ KB\n"
     ]
    }
   ],
   "source": [
    "msft = pd.read_csv('python-for-excel-1st-edition/csv/MSFT.csv')\n",
    "msft.info()"
   ]
  },
  {
   "cell_type": "code",
   "execution_count": 7,
   "id": "9837641a-0ea0-4213-8718-7439635a3b0f",
   "metadata": {},
   "outputs": [
    {
     "name": "stdout",
     "output_type": "stream",
     "text": [
      "<class 'pandas.core.frame.DataFrame'>\n",
      "RangeIndex: 8622 entries, 0 to 8621\n",
      "Data columns (total 7 columns):\n",
      " #   Column     Non-Null Count  Dtype         \n",
      "---  ------     --------------  -----         \n",
      " 0   Date       8622 non-null   datetime64[ns]\n",
      " 1   Open       8622 non-null   float64       \n",
      " 2   High       8622 non-null   float64       \n",
      " 3   Low        8622 non-null   float64       \n",
      " 4   Close      8622 non-null   float64       \n",
      " 5   Adj Close  8622 non-null   float64       \n",
      " 6   Volume     8622 non-null   int64         \n",
      "dtypes: datetime64[ns](1), float64(5), int64(1)\n",
      "memory usage: 471.6 KB\n"
     ]
    }
   ],
   "source": [
    "## to_datetime \n",
    "msft.loc[:, 'Date'] = pd.to_datetime(msft['Date'])\n",
    "\n",
    "msft.info()"
   ]
  },
  {
   "cell_type": "code",
   "execution_count": 8,
   "id": "936325ba-f724-43d4-b64a-7bbe51a0abcc",
   "metadata": {},
   "outputs": [
    {
     "name": "stdout",
     "output_type": "stream",
     "text": [
      "<class 'pandas.core.frame.DataFrame'>\n",
      "DatetimeIndex: 8622 entries, 1986-03-13 to 2020-05-27\n",
      "Data columns (total 6 columns):\n",
      " #   Column     Non-Null Count  Dtype  \n",
      "---  ------     --------------  -----  \n",
      " 0   Open       8622 non-null   float64\n",
      " 1   High       8622 non-null   float64\n",
      " 2   Low        8622 non-null   float64\n",
      " 3   Close      8622 non-null   float64\n",
      " 4   Adj Close  8622 non-null   float64\n",
      " 5   Volume     8622 non-null   int64  \n",
      "dtypes: float64(5), int64(1)\n",
      "memory usage: 471.5 KB\n"
     ]
    }
   ],
   "source": [
    "## parse_dates\n",
    "msft_2 = pd.read_csv('python-for-excel-1st-edition/csv/MSFT.csv', index_col = 'Date', parse_dates = ['Date'])\n",
    "msft_2.info()"
   ]
  },
  {
   "cell_type": "code",
   "execution_count": 9,
   "id": "30b7bee8-6653-4f2d-907e-3666ad017bbf",
   "metadata": {},
   "outputs": [
    {
     "data": {
      "text/html": [
       "<div>\n",
       "<style scoped>\n",
       "    .dataframe tbody tr th:only-of-type {\n",
       "        vertical-align: middle;\n",
       "    }\n",
       "\n",
       "    .dataframe tbody tr th {\n",
       "        vertical-align: top;\n",
       "    }\n",
       "\n",
       "    .dataframe thead th {\n",
       "        text-align: right;\n",
       "    }\n",
       "</style>\n",
       "<table border=\"1\" class=\"dataframe\">\n",
       "  <thead>\n",
       "    <tr style=\"text-align: right;\">\n",
       "      <th></th>\n",
       "      <th>Open</th>\n",
       "      <th>High</th>\n",
       "      <th>Low</th>\n",
       "      <th>Close</th>\n",
       "      <th>Adj Close</th>\n",
       "      <th>Volume</th>\n",
       "    </tr>\n",
       "    <tr>\n",
       "      <th>Date</th>\n",
       "      <th></th>\n",
       "      <th></th>\n",
       "      <th></th>\n",
       "      <th></th>\n",
       "      <th></th>\n",
       "      <th></th>\n",
       "    </tr>\n",
       "  </thead>\n",
       "  <tbody>\n",
       "    <tr>\n",
       "      <th>1986-03-13</th>\n",
       "      <td>0.088542</td>\n",
       "      <td>0.101563</td>\n",
       "      <td>0.088542</td>\n",
       "      <td>0.097222</td>\n",
       "      <td>0.062205</td>\n",
       "      <td>1031788800</td>\n",
       "    </tr>\n",
       "    <tr>\n",
       "      <th>1986-03-14</th>\n",
       "      <td>0.097222</td>\n",
       "      <td>0.102431</td>\n",
       "      <td>0.097222</td>\n",
       "      <td>0.100694</td>\n",
       "      <td>0.064427</td>\n",
       "      <td>308160000</td>\n",
       "    </tr>\n",
       "    <tr>\n",
       "      <th>1986-03-17</th>\n",
       "      <td>0.100694</td>\n",
       "      <td>0.103299</td>\n",
       "      <td>0.100694</td>\n",
       "      <td>0.102431</td>\n",
       "      <td>0.065537</td>\n",
       "      <td>133171200</td>\n",
       "    </tr>\n",
       "    <tr>\n",
       "      <th>1986-03-18</th>\n",
       "      <td>0.102431</td>\n",
       "      <td>0.103299</td>\n",
       "      <td>0.098958</td>\n",
       "      <td>0.099826</td>\n",
       "      <td>0.063871</td>\n",
       "      <td>67766400</td>\n",
       "    </tr>\n",
       "    <tr>\n",
       "      <th>1986-03-19</th>\n",
       "      <td>0.099826</td>\n",
       "      <td>0.100694</td>\n",
       "      <td>0.097222</td>\n",
       "      <td>0.098090</td>\n",
       "      <td>0.062760</td>\n",
       "      <td>47894400</td>\n",
       "    </tr>\n",
       "  </tbody>\n",
       "</table>\n",
       "</div>"
      ],
      "text/plain": [
       "                Open      High       Low     Close  Adj Close      Volume\n",
       "Date                                                                     \n",
       "1986-03-13  0.088542  0.101563  0.088542  0.097222   0.062205  1031788800\n",
       "1986-03-14  0.097222  0.102431  0.097222  0.100694   0.064427   308160000\n",
       "1986-03-17  0.100694  0.103299  0.100694  0.102431   0.065537   133171200\n",
       "1986-03-18  0.102431  0.103299  0.098958  0.099826   0.063871    67766400\n",
       "1986-03-19  0.099826  0.100694  0.097222  0.098090   0.062760    47894400"
      ]
     },
     "execution_count": 9,
     "metadata": {},
     "output_type": "execute_result"
    }
   ],
   "source": [
    "msft_2.head()"
   ]
  },
  {
   "cell_type": "markdown",
   "id": "7ab34203-2fee-449d-ab80-9f611515a4c2",
   "metadata": {},
   "source": [
    "### <i> tips </i>\n",
    "- int64 타입인 Volume 변수는 타입을 변경해 주는 것이 좋겠다. \n",
    "- 시계열 분석 전에 먼저 인덱스를 정렬해 주는 것이 좋다. "
   ]
  },
  {
   "cell_type": "code",
   "execution_count": 10,
   "id": "67af7ec3-db0d-4314-bc18-fd61dccabdc2",
   "metadata": {},
   "outputs": [
    {
     "name": "stdout",
     "output_type": "stream",
     "text": [
      "<class 'pandas.core.frame.DataFrame'>\n",
      "DatetimeIndex: 8622 entries, 1986-03-13 to 2020-05-27\n",
      "Data columns (total 6 columns):\n",
      " #   Column     Non-Null Count  Dtype  \n",
      "---  ------     --------------  -----  \n",
      " 0   Open       8622 non-null   float64\n",
      " 1   High       8622 non-null   float64\n",
      " 2   Low        8622 non-null   float64\n",
      " 3   Close      8622 non-null   float64\n",
      " 4   Adj Close  8622 non-null   float64\n",
      " 5   Volume     8622 non-null   float64\n",
      "dtypes: float64(6)\n",
      "memory usage: 471.5 KB\n"
     ]
    }
   ],
   "source": [
    "msft_2.loc[:, 'Volume'] = msft_2['Volume'].astype('float64')\n",
    "\n",
    "msft_2 = msft_2.sort_index()\n",
    "\n",
    "msft_2.info()"
   ]
  },
  {
   "cell_type": "markdown",
   "id": "0c6d90f8-9cc0-4982-a6ae-e733da03b9b1",
   "metadata": {},
   "source": [
    "### <u> 3. Datetime_Index에서 특정 기간 추출하기 </u>\n",
    "- 연도 또는 연월 등을 기입하면, 판다스가 알아서 슬라이스로 바꿔 찾아내 준다(매우 편리)"
   ]
  },
  {
   "cell_type": "code",
   "execution_count": 11,
   "id": "9f09dd3e-b97e-4668-81f9-3b8731c7c960",
   "metadata": {},
   "outputs": [
    {
     "data": {
      "text/plain": [
       "<AxesSubplot:xlabel='Date'>"
      ]
     },
     "execution_count": 11,
     "metadata": {},
     "output_type": "execute_result"
    },
    {
     "data": {
      "image/png": "[encoded data removed]",
      "text/plain": [
       "<Figure size 432x288 with 1 Axes>"
      ]
     },
     "metadata": {
      "needs_background": "light"
     },
     "output_type": "display_data"
    }
   ],
   "source": [
    "msft_2.loc['2020', 'Adj Close'].plot()"
   ]
  },
  {
   "cell_type": "code",
   "execution_count": 12,
   "id": "30f4d5e7-9501-429f-b67d-d6dd7bc6c718",
   "metadata": {},
   "outputs": [
    {
     "data": {
      "text/plain": [
       "<AxesSubplot:xlabel='Date'>"
      ]
     },
     "execution_count": 12,
     "metadata": {},
     "output_type": "execute_result"
    },
    {
     "data": {
      "image/png": "[encoded data removed]",
      "text/plain": [
       "<Figure size 432x288 with 1 Axes>"
      ]
     },
     "metadata": {
      "needs_background": "light"
     },
     "output_type": "display_data"
    }
   ],
   "source": [
    "msft_2.loc['2020-01-01':'2020-01-31', 'Adj Close'].plot()"
   ]
  },
  {
   "cell_type": "markdown",
   "id": "df11a33a-65b1-47df-be7a-2b927388b2fb",
   "metadata": {},
   "source": [
    "### <u> 4. pct_change() 사용하여 일자별 변화율 구하기 </u>"
   ]
  },
  {
   "cell_type": "code",
   "execution_count": 29,
   "id": "cf961ab1-c517-4dba-8a82-21ccbf389dd5",
   "metadata": {},
   "outputs": [
    {
     "data": {
      "text/html": [
       "<div>\n",
       "<style scoped>\n",
       "    .dataframe tbody tr th:only-of-type {\n",
       "        vertical-align: middle;\n",
       "    }\n",
       "\n",
       "    .dataframe tbody tr th {\n",
       "        vertical-align: top;\n",
       "    }\n",
       "\n",
       "    .dataframe thead th {\n",
       "        text-align: right;\n",
       "    }\n",
       "</style>\n",
       "<table border=\"1\" class=\"dataframe\">\n",
       "  <thead>\n",
       "    <tr style=\"text-align: right;\">\n",
       "      <th></th>\n",
       "      <th>Date</th>\n",
       "      <th>Open</th>\n",
       "      <th>High</th>\n",
       "      <th>Low</th>\n",
       "      <th>Close</th>\n",
       "      <th>Adj Close</th>\n",
       "      <th>Volume</th>\n",
       "    </tr>\n",
       "  </thead>\n",
       "  <tbody>\n",
       "    <tr>\n",
       "      <th>0</th>\n",
       "      <td>1986-03-13</td>\n",
       "      <td>0.088542</td>\n",
       "      <td>0.101563</td>\n",
       "      <td>0.088542</td>\n",
       "      <td>0.097222</td>\n",
       "      <td>0.062205</td>\n",
       "      <td>1031788800</td>\n",
       "    </tr>\n",
       "    <tr>\n",
       "      <th>1</th>\n",
       "      <td>1986-03-14</td>\n",
       "      <td>0.097222</td>\n",
       "      <td>0.102431</td>\n",
       "      <td>0.097222</td>\n",
       "      <td>0.100694</td>\n",
       "      <td>0.064427</td>\n",
       "      <td>308160000</td>\n",
       "    </tr>\n",
       "    <tr>\n",
       "      <th>2</th>\n",
       "      <td>1986-03-17</td>\n",
       "      <td>0.100694</td>\n",
       "      <td>0.103299</td>\n",
       "      <td>0.100694</td>\n",
       "      <td>0.102431</td>\n",
       "      <td>0.065537</td>\n",
       "      <td>133171200</td>\n",
       "    </tr>\n",
       "    <tr>\n",
       "      <th>3</th>\n",
       "      <td>1986-03-18</td>\n",
       "      <td>0.102431</td>\n",
       "      <td>0.103299</td>\n",
       "      <td>0.098958</td>\n",
       "      <td>0.099826</td>\n",
       "      <td>0.063871</td>\n",
       "      <td>67766400</td>\n",
       "    </tr>\n",
       "    <tr>\n",
       "      <th>4</th>\n",
       "      <td>1986-03-19</td>\n",
       "      <td>0.099826</td>\n",
       "      <td>0.100694</td>\n",
       "      <td>0.097222</td>\n",
       "      <td>0.098090</td>\n",
       "      <td>0.062760</td>\n",
       "      <td>47894400</td>\n",
       "    </tr>\n",
       "    <tr>\n",
       "      <th>5</th>\n",
       "      <td>1986-03-20</td>\n",
       "      <td>0.098090</td>\n",
       "      <td>0.098090</td>\n",
       "      <td>0.094618</td>\n",
       "      <td>0.095486</td>\n",
       "      <td>0.061094</td>\n",
       "      <td>58435200</td>\n",
       "    </tr>\n",
       "    <tr>\n",
       "      <th>6</th>\n",
       "      <td>1986-03-21</td>\n",
       "      <td>0.095486</td>\n",
       "      <td>0.097222</td>\n",
       "      <td>0.091146</td>\n",
       "      <td>0.092882</td>\n",
       "      <td>0.059428</td>\n",
       "      <td>59990400</td>\n",
       "    </tr>\n",
       "    <tr>\n",
       "      <th>7</th>\n",
       "      <td>1986-03-24</td>\n",
       "      <td>0.092882</td>\n",
       "      <td>0.092882</td>\n",
       "      <td>0.089410</td>\n",
       "      <td>0.090278</td>\n",
       "      <td>0.057762</td>\n",
       "      <td>65289600</td>\n",
       "    </tr>\n",
       "    <tr>\n",
       "      <th>8</th>\n",
       "      <td>1986-03-25</td>\n",
       "      <td>0.090278</td>\n",
       "      <td>0.092014</td>\n",
       "      <td>0.089410</td>\n",
       "      <td>0.092014</td>\n",
       "      <td>0.058873</td>\n",
       "      <td>32083200</td>\n",
       "    </tr>\n",
       "    <tr>\n",
       "      <th>9</th>\n",
       "      <td>1986-03-26</td>\n",
       "      <td>0.092014</td>\n",
       "      <td>0.095486</td>\n",
       "      <td>0.091146</td>\n",
       "      <td>0.094618</td>\n",
       "      <td>0.060539</td>\n",
       "      <td>22752000</td>\n",
       "    </tr>\n",
       "  </tbody>\n",
       "</table>\n",
       "</div>"
      ],
      "text/plain": [
       "        Date      Open      High       Low     Close  Adj Close      Volume\n",
       "0 1986-03-13  0.088542  0.101563  0.088542  0.097222   0.062205  1031788800\n",
       "1 1986-03-14  0.097222  0.102431  0.097222  0.100694   0.064427   308160000\n",
       "2 1986-03-17  0.100694  0.103299  0.100694  0.102431   0.065537   133171200\n",
       "3 1986-03-18  0.102431  0.103299  0.098958  0.099826   0.063871    67766400\n",
       "4 1986-03-19  0.099826  0.100694  0.097222  0.098090   0.062760    47894400\n",
       "5 1986-03-20  0.098090  0.098090  0.094618  0.095486   0.061094    58435200\n",
       "6 1986-03-21  0.095486  0.097222  0.091146  0.092882   0.059428    59990400\n",
       "7 1986-03-24  0.092882  0.092882  0.089410  0.090278   0.057762    65289600\n",
       "8 1986-03-25  0.090278  0.092014  0.089410  0.092014   0.058873    32083200\n",
       "9 1986-03-26  0.092014  0.095486  0.091146  0.094618   0.060539    22752000"
      ]
     },
     "execution_count": 29,
     "metadata": {},
     "output_type": "execute_result"
    }
   ],
   "source": [
    "msft.head(10)"
   ]
  },
  {
   "cell_type": "code",
   "execution_count": 28,
   "id": "1d5063d9-6818-4a31-a6fb-77270a4c4f47",
   "metadata": {},
   "outputs": [
    {
     "data": {
      "text/plain": [
       "0            NaN\n",
       "1       0.035721\n",
       "2       0.017229\n",
       "3      -0.025421\n",
       "4      -0.017394\n",
       "          ...   \n",
       "8617    0.013871\n",
       "8618   -0.012011\n",
       "8619    0.000436\n",
       "8620   -0.010572\n",
       "8621    0.001322\n",
       "Name: Adj Close, Length: 8622, dtype: float64"
      ]
     },
     "execution_count": 28,
     "metadata": {},
     "output_type": "execute_result"
    }
   ],
   "source": [
    "msft['Adj Close'].pct_change()"
   ]
  },
  {
   "cell_type": "markdown",
   "id": "3374fd6a-03a3-4fc3-acd3-1097de384083",
   "metadata": {},
   "source": [
    "### 5. <u> 애플, 아마존, 구글, MS의 주가추이를 다운받아 합치기 </u>\n",
    "- usecols = [] 을 사용하여 특정 컬럼만 가져올 수 있다."
   ]
  },
  {
   "cell_type": "code",
   "execution_count": 33,
   "id": "4f084aa9-b655-4cf9-9659-1ba53f7a9fa9",
   "metadata": {},
   "outputs": [],
   "source": [
    "parts = []\n",
    "\n",
    "for i in ['AAPL', 'AMZN', 'GOOGL', 'MSFT'] : \n",
    "    ## Date와 Adj Close(조정종가) 컬럼만 불러온다. \n",
    "    adj_close = pd.read_csv(f'python-for-excel-1st-edition/csv/{i}.csv', \n",
    "                            index_col = 'Date', parse_dates = ['Date'], \n",
    "                            usecols = ['Date', 'Adj Close'] ) \n",
    "    \n",
    "    ## 컬럼명(Adj_Close)를 회사명으로 변경 \n",
    "    adj_close = adj_close.rename(columns = {'Adj Close' : i})\n",
    "    \n",
    "    ## parts 리스트에 4회사의 데이터 프레임을 이어 붙인다. \n",
    "    parts.append(adj_close)   "
   ]
  },
  {
   "cell_type": "code",
   "execution_count": 34,
   "id": "0e0ccd9d-fcad-4060-b62f-b8db59f8842e",
   "metadata": {},
   "outputs": [
    {
     "data": {
      "text/plain": [
       "[                  AAPL\n",
       " Date                  \n",
       " 1980-12-12    0.405683\n",
       " 1980-12-15    0.384517\n",
       " 1980-12-16    0.356296\n",
       " 1980-12-17    0.365115\n",
       " 1980-12-18    0.375698\n",
       " ...                ...\n",
       " 2020-05-22  318.890015\n",
       " 2020-05-26  316.730011\n",
       " 2020-05-27  318.109985\n",
       " 2020-05-28  318.250000\n",
       " 2020-05-29  317.940002\n",
       " \n",
       " [9950 rows x 1 columns],\n",
       "                    AMZN\n",
       " Date                   \n",
       " 1997-05-15     1.958333\n",
       " 1997-05-16     1.729167\n",
       " 1997-05-19     1.708333\n",
       " 1997-05-20     1.635417\n",
       " 1997-05-21     1.427083\n",
       " ...                 ...\n",
       " 2020-05-22  2436.879883\n",
       " 2020-05-26  2421.860107\n",
       " 2020-05-27  2410.389893\n",
       " 2020-05-28  2401.100098\n",
       " 2020-05-29  2442.370117\n",
       " \n",
       " [5798 rows x 1 columns],\n",
       "                   GOOGL\n",
       " Date                   \n",
       " 2004-08-19    50.220219\n",
       " 2004-08-20    54.209209\n",
       " 2004-08-23    54.754753\n",
       " 2004-08-24    52.487488\n",
       " 2004-08-25    53.053055\n",
       " ...                 ...\n",
       " 2020-05-22  1413.239990\n",
       " 2020-05-26  1421.369995\n",
       " 2020-05-27  1420.280029\n",
       " 2020-05-28  1418.239990\n",
       " 2020-05-29  1433.520020\n",
       " \n",
       " [3972 rows x 1 columns],\n",
       "                   MSFT\n",
       " Date                  \n",
       " 1986-03-13    0.062205\n",
       " 1986-03-14    0.064427\n",
       " 1986-03-17    0.065537\n",
       " 1986-03-18    0.063871\n",
       " 1986-03-19    0.062760\n",
       " ...                ...\n",
       " 2020-05-20  185.660004\n",
       " 2020-05-21  183.429993\n",
       " 2020-05-22  183.509995\n",
       " 2020-05-26  181.570007\n",
       " 2020-05-27  181.809998\n",
       " \n",
       " [8622 rows x 1 columns]]"
      ]
     },
     "execution_count": 34,
     "metadata": {},
     "output_type": "execute_result"
    }
   ],
   "source": [
    "parts"
   ]
  },
  {
   "cell_type": "code",
   "execution_count": 35,
   "id": "02087982-50a6-4f26-868e-2b3313c8b467",
   "metadata": {},
   "outputs": [
    {
     "data": {
      "text/html": [
       "<div>\n",
       "<style scoped>\n",
       "    .dataframe tbody tr th:only-of-type {\n",
       "        vertical-align: middle;\n",
       "    }\n",
       "\n",
       "    .dataframe tbody tr th {\n",
       "        vertical-align: top;\n",
       "    }\n",
       "\n",
       "    .dataframe thead th {\n",
       "        text-align: right;\n",
       "    }\n",
       "</style>\n",
       "<table border=\"1\" class=\"dataframe\">\n",
       "  <thead>\n",
       "    <tr style=\"text-align: right;\">\n",
       "      <th></th>\n",
       "      <th>AAPL</th>\n",
       "      <th>AMZN</th>\n",
       "      <th>GOOGL</th>\n",
       "      <th>MSFT</th>\n",
       "    </tr>\n",
       "    <tr>\n",
       "      <th>Date</th>\n",
       "      <th></th>\n",
       "      <th></th>\n",
       "      <th></th>\n",
       "      <th></th>\n",
       "    </tr>\n",
       "  </thead>\n",
       "  <tbody>\n",
       "    <tr>\n",
       "      <th>1980-12-12</th>\n",
       "      <td>0.405683</td>\n",
       "      <td>NaN</td>\n",
       "      <td>NaN</td>\n",
       "      <td>NaN</td>\n",
       "    </tr>\n",
       "    <tr>\n",
       "      <th>1980-12-15</th>\n",
       "      <td>0.384517</td>\n",
       "      <td>NaN</td>\n",
       "      <td>NaN</td>\n",
       "      <td>NaN</td>\n",
       "    </tr>\n",
       "    <tr>\n",
       "      <th>1980-12-16</th>\n",
       "      <td>0.356296</td>\n",
       "      <td>NaN</td>\n",
       "      <td>NaN</td>\n",
       "      <td>NaN</td>\n",
       "    </tr>\n",
       "    <tr>\n",
       "      <th>1980-12-17</th>\n",
       "      <td>0.365115</td>\n",
       "      <td>NaN</td>\n",
       "      <td>NaN</td>\n",
       "      <td>NaN</td>\n",
       "    </tr>\n",
       "    <tr>\n",
       "      <th>1980-12-18</th>\n",
       "      <td>0.375698</td>\n",
       "      <td>NaN</td>\n",
       "      <td>NaN</td>\n",
       "      <td>NaN</td>\n",
       "    </tr>\n",
       "    <tr>\n",
       "      <th>...</th>\n",
       "      <td>...</td>\n",
       "      <td>...</td>\n",
       "      <td>...</td>\n",
       "      <td>...</td>\n",
       "    </tr>\n",
       "    <tr>\n",
       "      <th>2020-05-22</th>\n",
       "      <td>318.890015</td>\n",
       "      <td>2436.879883</td>\n",
       "      <td>1413.239990</td>\n",
       "      <td>183.509995</td>\n",
       "    </tr>\n",
       "    <tr>\n",
       "      <th>2020-05-26</th>\n",
       "      <td>316.730011</td>\n",
       "      <td>2421.860107</td>\n",
       "      <td>1421.369995</td>\n",
       "      <td>181.570007</td>\n",
       "    </tr>\n",
       "    <tr>\n",
       "      <th>2020-05-27</th>\n",
       "      <td>318.109985</td>\n",
       "      <td>2410.389893</td>\n",
       "      <td>1420.280029</td>\n",
       "      <td>181.809998</td>\n",
       "    </tr>\n",
       "    <tr>\n",
       "      <th>2020-05-28</th>\n",
       "      <td>318.250000</td>\n",
       "      <td>2401.100098</td>\n",
       "      <td>1418.239990</td>\n",
       "      <td>NaN</td>\n",
       "    </tr>\n",
       "    <tr>\n",
       "      <th>2020-05-29</th>\n",
       "      <td>317.940002</td>\n",
       "      <td>2442.370117</td>\n",
       "      <td>1433.520020</td>\n",
       "      <td>NaN</td>\n",
       "    </tr>\n",
       "  </tbody>\n",
       "</table>\n",
       "<p>9950 rows × 4 columns</p>\n",
       "</div>"
      ],
      "text/plain": [
       "                  AAPL         AMZN        GOOGL        MSFT\n",
       "Date                                                        \n",
       "1980-12-12    0.405683          NaN          NaN         NaN\n",
       "1980-12-15    0.384517          NaN          NaN         NaN\n",
       "1980-12-16    0.356296          NaN          NaN         NaN\n",
       "1980-12-17    0.365115          NaN          NaN         NaN\n",
       "1980-12-18    0.375698          NaN          NaN         NaN\n",
       "...                ...          ...          ...         ...\n",
       "2020-05-22  318.890015  2436.879883  1413.239990  183.509995\n",
       "2020-05-26  316.730011  2421.860107  1421.369995  181.570007\n",
       "2020-05-27  318.109985  2410.389893  1420.280029  181.809998\n",
       "2020-05-28  318.250000  2401.100098  1418.239990         NaN\n",
       "2020-05-29  317.940002  2442.370117  1433.520020         NaN\n",
       "\n",
       "[9950 rows x 4 columns]"
      ]
     },
     "execution_count": 35,
     "metadata": {},
     "output_type": "execute_result"
    }
   ],
   "source": [
    "## 4개의 데이터 프레임을 하나로 조합 \n",
    "adj_close = pd.concat(parts, axis = 1)\n",
    "adj_close"
   ]
  },
  {
   "cell_type": "code",
   "execution_count": 36,
   "id": "69db92d0-88d9-4421-97b3-8f84d4f00abb",
   "metadata": {},
   "outputs": [
    {
     "data": {
      "text/plain": [
       "<AxesSubplot:xlabel='Date'>"
      ]
     },
     "execution_count": 36,
     "metadata": {},
     "output_type": "execute_result"
    },
    {
     "data": {
      "image/png": "[encoded data removed]",
      "text/plain": [
       "<Figure size 432x288 with 1 Axes>"
      ]
     },
     "metadata": {
      "needs_background": "light"
     },
     "output_type": "display_data"
    }
   ],
   "source": [
    "## missing_value를 제거하고, charting한다. \n",
    "adj_close = adj_close.dropna()\n",
    "adj_close.plot()"
   ]
  },
  {
   "cell_type": "code",
   "execution_count": 45,
   "id": "3ea1b5e8-a7f4-4f77-b060-fa82343d541d",
   "metadata": {},
   "outputs": [
    {
     "name": "stdout",
     "output_type": "stream",
     "text": [
      "                AAPL      AMZN     GOOGL      MSFT\n",
      "Date                                              \n",
      "2004-08-19       NaN       NaN       NaN       NaN\n",
      "2004-08-20  0.002931  0.022780  0.079430  0.002950\n",
      "2004-08-23  0.009091 -0.001519  0.010064  0.004424\n",
      "2004-08-24  0.027992 -0.010139 -0.041408  0.000000\n",
      "2004-08-25  0.034429  0.032010  0.010775  0.011380\n",
      "2004-08-26  0.048714 -0.002730  0.018019 -0.003993\n",
      "2004-08-27 -0.008944 -0.007216 -0.016310  0.000729\n",
      "2004-08-30 -0.006696 -0.039850 -0.039001 -0.005826\n",
      "2004-08-31  0.010844 -0.004438  0.003529  0.000000\n",
      "2004-09-01  0.039722  0.002622 -0.020709  0.003297\n"
     ]
    }
   ],
   "source": [
    "## 전일대비 주가 변화율 추이 비교 \n",
    "returns = adj_close.pct_change()\n",
    "print(returns.head(10))"
   ]
  },
  {
   "cell_type": "code",
   "execution_count": 49,
   "id": "cd01b56c-8940-4f57-946d-fc701aa215b1",
   "metadata": {},
   "outputs": [
    {
     "data": {
      "text/plain": [
       "[Text(0.5, 1.0, 'MSFT')]"
      ]
     },
     "execution_count": 49,
     "metadata": {},
     "output_type": "execute_result"
    },
    {
     "data": {
      "image/png": "[encoded data removed]",
      "text/plain": [
       "<Figure size 1440x360 with 4 Axes>"
      ]
     },
     "metadata": {
      "needs_background": "light"
     },
     "output_type": "display_data"
    }
   ],
   "source": [
    "import matplotlib.pyplot as plt\n",
    "import seaborn as sns\n",
    "\n",
    "figure, (ax1,ax2,ax3,ax4) = plt.subplots(ncols=4)\n",
    "figure.set_size_inches(20,5)\n",
    "\n",
    "sns.lineplot(data = returns, x='Date', y='AAPL', ax=ax1)\n",
    "sns.lineplot(data = returns, x='Date', y='AMZN', ax=ax2)\n",
    "sns.lineplot(data = returns, x='Date', y='GOOGL', ax=ax3)\n",
    "sns.lineplot(data = returns, x='Date', y='MSFT', ax=ax4)\n",
    "\n",
    "ax1.set(title = 'AAPL')\n",
    "ax2.set(title = 'AMZN')\n",
    "ax3.set(title = 'GOOGL')\n",
    "ax4.set(title = 'MSFT')"
   ]
  },
  {
   "cell_type": "code",
   "execution_count": 56,
   "id": "c93fc96c-5b63-4017-a870-80ebb8b81fad",
   "metadata": {},
   "outputs": [
    {
     "data": {
      "text/html": [
       "<div>\n",
       "<style scoped>\n",
       "    .dataframe tbody tr th:only-of-type {\n",
       "        vertical-align: middle;\n",
       "    }\n",
       "\n",
       "    .dataframe tbody tr th {\n",
       "        vertical-align: top;\n",
       "    }\n",
       "\n",
       "    .dataframe thead th {\n",
       "        text-align: right;\n",
       "    }\n",
       "</style>\n",
       "<table border=\"1\" class=\"dataframe\">\n",
       "  <thead>\n",
       "    <tr style=\"text-align: right;\">\n",
       "      <th></th>\n",
       "      <th>AAPL</th>\n",
       "      <th>AMZN</th>\n",
       "      <th>GOOGL</th>\n",
       "      <th>MSFT</th>\n",
       "    </tr>\n",
       "  </thead>\n",
       "  <tbody>\n",
       "    <tr>\n",
       "      <th>AAPL</th>\n",
       "      <td>1.000000</td>\n",
       "      <td>0.420464</td>\n",
       "      <td>0.497796</td>\n",
       "      <td>0.484678</td>\n",
       "    </tr>\n",
       "    <tr>\n",
       "      <th>AMZN</th>\n",
       "      <td>0.420464</td>\n",
       "      <td>1.000000</td>\n",
       "      <td>0.480418</td>\n",
       "      <td>0.484218</td>\n",
       "    </tr>\n",
       "    <tr>\n",
       "      <th>GOOGL</th>\n",
       "      <td>0.497796</td>\n",
       "      <td>0.480418</td>\n",
       "      <td>1.000000</td>\n",
       "      <td>0.521593</td>\n",
       "    </tr>\n",
       "    <tr>\n",
       "      <th>MSFT</th>\n",
       "      <td>0.484678</td>\n",
       "      <td>0.484218</td>\n",
       "      <td>0.521593</td>\n",
       "      <td>1.000000</td>\n",
       "    </tr>\n",
       "  </tbody>\n",
       "</table>\n",
       "</div>"
      ],
      "text/plain": [
       "           AAPL      AMZN     GOOGL      MSFT\n",
       "AAPL   1.000000  0.420464  0.497796  0.484678\n",
       "AMZN   0.420464  1.000000  0.480418  0.484218\n",
       "GOOGL  0.497796  0.480418  1.000000  0.521593\n",
       "MSFT   0.484678  0.484218  0.521593  1.000000"
      ]
     },
     "execution_count": 56,
     "metadata": {},
     "output_type": "execute_result"
    }
   ],
   "source": [
    "returns.corr()"
   ]
  },
  {
   "cell_type": "markdown",
   "id": "0f3691ae-c6a0-4810-aac6-ae330594b9ae",
   "metadata": {},
   "source": [
    "### 6. <u> 시계열의 resample </u>\n",
    "- 일별 데이터에서 월별, 분기별, 연도별 데이터를 추출할 때 "
   ]
  },
  {
   "cell_type": "code",
   "execution_count": 58,
   "id": "4f9dc5d9-f0d9-4a8e-9196-d6329447eb24",
   "metadata": {},
   "outputs": [
    {
     "data": {
      "text/html": [
       "<div>\n",
       "<style scoped>\n",
       "    .dataframe tbody tr th:only-of-type {\n",
       "        vertical-align: middle;\n",
       "    }\n",
       "\n",
       "    .dataframe tbody tr th {\n",
       "        vertical-align: top;\n",
       "    }\n",
       "\n",
       "    .dataframe thead th {\n",
       "        text-align: right;\n",
       "    }\n",
       "</style>\n",
       "<table border=\"1\" class=\"dataframe\">\n",
       "  <thead>\n",
       "    <tr style=\"text-align: right;\">\n",
       "      <th></th>\n",
       "      <th>AAPL</th>\n",
       "      <th>AMZN</th>\n",
       "      <th>GOOGL</th>\n",
       "      <th>MSFT</th>\n",
       "    </tr>\n",
       "    <tr>\n",
       "      <th>Date</th>\n",
       "      <th></th>\n",
       "      <th></th>\n",
       "      <th></th>\n",
       "      <th></th>\n",
       "    </tr>\n",
       "  </thead>\n",
       "  <tbody>\n",
       "    <tr>\n",
       "      <th>2004-08-19</th>\n",
       "      <td>1.898969</td>\n",
       "      <td>38.630001</td>\n",
       "      <td>50.220219</td>\n",
       "      <td>17.505459</td>\n",
       "    </tr>\n",
       "    <tr>\n",
       "      <th>2004-08-20</th>\n",
       "      <td>1.904534</td>\n",
       "      <td>39.509998</td>\n",
       "      <td>54.209209</td>\n",
       "      <td>17.557100</td>\n",
       "    </tr>\n",
       "    <tr>\n",
       "      <th>2004-08-23</th>\n",
       "      <td>1.921849</td>\n",
       "      <td>39.450001</td>\n",
       "      <td>54.754753</td>\n",
       "      <td>17.634779</td>\n",
       "    </tr>\n",
       "    <tr>\n",
       "      <th>2004-08-24</th>\n",
       "      <td>1.975645</td>\n",
       "      <td>39.049999</td>\n",
       "      <td>52.487488</td>\n",
       "      <td>17.634779</td>\n",
       "    </tr>\n",
       "    <tr>\n",
       "      <th>2004-08-25</th>\n",
       "      <td>2.043664</td>\n",
       "      <td>40.299999</td>\n",
       "      <td>53.053055</td>\n",
       "      <td>17.835468</td>\n",
       "    </tr>\n",
       "    <tr>\n",
       "      <th>2004-08-26</th>\n",
       "      <td>2.143219</td>\n",
       "      <td>40.189999</td>\n",
       "      <td>54.009010</td>\n",
       "      <td>17.764256</td>\n",
       "    </tr>\n",
       "    <tr>\n",
       "      <th>2004-08-27</th>\n",
       "      <td>2.124051</td>\n",
       "      <td>39.900002</td>\n",
       "      <td>53.128128</td>\n",
       "      <td>17.777203</td>\n",
       "    </tr>\n",
       "    <tr>\n",
       "      <th>2004-08-30</th>\n",
       "      <td>2.109828</td>\n",
       "      <td>38.310001</td>\n",
       "      <td>51.056057</td>\n",
       "      <td>17.673630</td>\n",
       "    </tr>\n",
       "    <tr>\n",
       "      <th>2004-08-31</th>\n",
       "      <td>2.132708</td>\n",
       "      <td>38.139999</td>\n",
       "      <td>51.236237</td>\n",
       "      <td>17.673630</td>\n",
       "    </tr>\n",
       "    <tr>\n",
       "      <th>2004-09-01</th>\n",
       "      <td>2.217423</td>\n",
       "      <td>38.240002</td>\n",
       "      <td>50.175175</td>\n",
       "      <td>17.731894</td>\n",
       "    </tr>\n",
       "  </tbody>\n",
       "</table>\n",
       "</div>"
      ],
      "text/plain": [
       "                AAPL       AMZN      GOOGL       MSFT\n",
       "Date                                                 \n",
       "2004-08-19  1.898969  38.630001  50.220219  17.505459\n",
       "2004-08-20  1.904534  39.509998  54.209209  17.557100\n",
       "2004-08-23  1.921849  39.450001  54.754753  17.634779\n",
       "2004-08-24  1.975645  39.049999  52.487488  17.634779\n",
       "2004-08-25  2.043664  40.299999  53.053055  17.835468\n",
       "2004-08-26  2.143219  40.189999  54.009010  17.764256\n",
       "2004-08-27  2.124051  39.900002  53.128128  17.777203\n",
       "2004-08-30  2.109828  38.310001  51.056057  17.673630\n",
       "2004-08-31  2.132708  38.139999  51.236237  17.673630\n",
       "2004-09-01  2.217423  38.240002  50.175175  17.731894"
      ]
     },
     "execution_count": 58,
     "metadata": {},
     "output_type": "execute_result"
    }
   ],
   "source": [
    "adj_close.head(10)"
   ]
  },
  {
   "cell_type": "code",
   "execution_count": 59,
   "id": "d851534c-76b2-4663-a011-956728b761bd",
   "metadata": {},
   "outputs": [
    {
     "data": {
      "text/html": [
       "<div>\n",
       "<style scoped>\n",
       "    .dataframe tbody tr th:only-of-type {\n",
       "        vertical-align: middle;\n",
       "    }\n",
       "\n",
       "    .dataframe tbody tr th {\n",
       "        vertical-align: top;\n",
       "    }\n",
       "\n",
       "    .dataframe thead th {\n",
       "        text-align: right;\n",
       "    }\n",
       "</style>\n",
       "<table border=\"1\" class=\"dataframe\">\n",
       "  <thead>\n",
       "    <tr style=\"text-align: right;\">\n",
       "      <th></th>\n",
       "      <th>AAPL</th>\n",
       "      <th>AMZN</th>\n",
       "      <th>GOOGL</th>\n",
       "      <th>MSFT</th>\n",
       "    </tr>\n",
       "    <tr>\n",
       "      <th>Date</th>\n",
       "      <th></th>\n",
       "      <th></th>\n",
       "      <th></th>\n",
       "      <th></th>\n",
       "    </tr>\n",
       "  </thead>\n",
       "  <tbody>\n",
       "    <tr>\n",
       "      <th>2004-08-31</th>\n",
       "      <td>2.132708</td>\n",
       "      <td>38.139999</td>\n",
       "      <td>51.236237</td>\n",
       "      <td>17.673630</td>\n",
       "    </tr>\n",
       "    <tr>\n",
       "      <th>2004-09-30</th>\n",
       "      <td>2.396127</td>\n",
       "      <td>40.860001</td>\n",
       "      <td>64.864868</td>\n",
       "      <td>17.900215</td>\n",
       "    </tr>\n",
       "    <tr>\n",
       "      <th>2004-10-31</th>\n",
       "      <td>3.240182</td>\n",
       "      <td>34.130001</td>\n",
       "      <td>95.415413</td>\n",
       "      <td>18.107374</td>\n",
       "    </tr>\n",
       "    <tr>\n",
       "      <th>2004-11-30</th>\n",
       "      <td>4.146072</td>\n",
       "      <td>39.680000</td>\n",
       "      <td>91.081078</td>\n",
       "      <td>19.344421</td>\n",
       "    </tr>\n",
       "    <tr>\n",
       "      <th>2004-12-31</th>\n",
       "      <td>3.982207</td>\n",
       "      <td>44.290001</td>\n",
       "      <td>96.491493</td>\n",
       "      <td>19.279480</td>\n",
       "    </tr>\n",
       "    <tr>\n",
       "      <th>...</th>\n",
       "      <td>...</td>\n",
       "      <td>...</td>\n",
       "      <td>...</td>\n",
       "      <td>...</td>\n",
       "    </tr>\n",
       "    <tr>\n",
       "      <th>2020-01-31</th>\n",
       "      <td>307.943604</td>\n",
       "      <td>2008.719971</td>\n",
       "      <td>1432.780029</td>\n",
       "      <td>169.294800</td>\n",
       "    </tr>\n",
       "    <tr>\n",
       "      <th>2020-02-29</th>\n",
       "      <td>272.622009</td>\n",
       "      <td>1883.750000</td>\n",
       "      <td>1339.250000</td>\n",
       "      <td>161.560043</td>\n",
       "    </tr>\n",
       "    <tr>\n",
       "      <th>2020-03-31</th>\n",
       "      <td>253.603500</td>\n",
       "      <td>1949.719971</td>\n",
       "      <td>1161.949951</td>\n",
       "      <td>157.271988</td>\n",
       "    </tr>\n",
       "    <tr>\n",
       "      <th>2020-04-30</th>\n",
       "      <td>293.006836</td>\n",
       "      <td>2474.000000</td>\n",
       "      <td>1346.699951</td>\n",
       "      <td>178.712280</td>\n",
       "    </tr>\n",
       "    <tr>\n",
       "      <th>2020-05-31</th>\n",
       "      <td>318.109985</td>\n",
       "      <td>2410.389893</td>\n",
       "      <td>1420.280029</td>\n",
       "      <td>181.809998</td>\n",
       "    </tr>\n",
       "  </tbody>\n",
       "</table>\n",
       "<p>190 rows × 4 columns</p>\n",
       "</div>"
      ],
      "text/plain": [
       "                  AAPL         AMZN        GOOGL        MSFT\n",
       "Date                                                        \n",
       "2004-08-31    2.132708    38.139999    51.236237   17.673630\n",
       "2004-09-30    2.396127    40.860001    64.864868   17.900215\n",
       "2004-10-31    3.240182    34.130001    95.415413   18.107374\n",
       "2004-11-30    4.146072    39.680000    91.081078   19.344421\n",
       "2004-12-31    3.982207    44.290001    96.491493   19.279480\n",
       "...                ...          ...          ...         ...\n",
       "2020-01-31  307.943604  2008.719971  1432.780029  169.294800\n",
       "2020-02-29  272.622009  1883.750000  1339.250000  161.560043\n",
       "2020-03-31  253.603500  1949.719971  1161.949951  157.271988\n",
       "2020-04-30  293.006836  2474.000000  1346.699951  178.712280\n",
       "2020-05-31  318.109985  2410.389893  1420.280029  181.809998\n",
       "\n",
       "[190 rows x 4 columns]"
      ]
     },
     "execution_count": 59,
     "metadata": {},
     "output_type": "execute_result"
    }
   ],
   "source": [
    "end_of_month = adj_close.resample('M').last()    ## last() : 월말 기준 \n",
    "end_of_month"
   ]
  },
  {
   "cell_type": "code",
   "execution_count": 73,
   "id": "0db98591-90f4-4418-b58d-80f943212b2d",
   "metadata": {},
   "outputs": [
    {
     "name": "stdout",
     "output_type": "stream",
     "text": [
      "                AAPL       AMZN      GOOGL       MSFT\n",
      "Date                                                 \n",
      "2004-08-22  1.904534  39.509998  54.209209  17.557100\n",
      "2004-08-29  2.124051  39.900002  53.128128  17.777203\n",
      "2004-09-05  2.178466  38.740002  50.055054  17.550623\n",
      "2004-09-12  2.218040  38.570000  52.717716  17.796631\n",
      "2004-09-19  2.296572  42.959999  58.803802  17.809576\n",
      "2004-09-26  2.305847  40.939999  59.974976  17.667152\n",
      "2004-10-03  2.391179  40.470001  66.356354  18.288649\n",
      "2004-10-10  2.415296  40.000000  68.933937  18.120325\n",
      "2004-10-17  2.813517  38.549999  72.127129  18.120325\n",
      "2004-10-24  2.931623  34.599998  86.301300  17.958473\n",
      "---------------------------------------------------------------------\n",
      "                 AAPL       AMZN       GOOGL       MSFT\n",
      "Date                                                   \n",
      "2004-09-30   2.396127  40.860001   64.864868  17.900215\n",
      "2004-12-31   3.982207  44.290001   96.491493  19.279480\n",
      "2005-03-31   5.153373  34.270000   90.345345  17.493368\n",
      "2005-06-30   4.552333  33.090000  147.222229  18.035316\n",
      "2005-09-30   6.630004  45.299999  158.388382  18.736923\n",
      "2005-12-31   8.890713  47.150002  207.637634  19.098595\n",
      "2006-03-31   7.756649  36.529999  195.195190  19.940111\n",
      "2006-06-30   7.082642  38.680000  209.874878  17.141356\n",
      "2006-09-30   9.520202  32.119999  201.151154  20.194958\n",
      "2006-12-31  10.492254  39.459999  230.470474  22.123693\n",
      "---------------------------------------------------------------------\n",
      "                 AAPL        AMZN       GOOGL       MSFT\n",
      "Date                                                    \n",
      "2004-12-31   3.982207   44.290001   96.491493  19.279480\n",
      "2005-12-31   8.890713   47.150002  207.637634  19.098595\n",
      "2006-12-31  10.492254   39.459999  230.470474  22.123693\n",
      "2007-12-31  24.496765   92.639999  346.086090  26.734909\n",
      "2008-12-31  10.555326   51.279999  153.978973  14.868458\n",
      "2009-12-31  26.061205  134.520004  310.300293  23.858992\n",
      "2010-12-31  39.891342  180.000000  297.282288  22.302277\n",
      "2011-12-31  50.086784  173.100006  323.273285  21.295179\n",
      "2012-12-31  66.398476  250.869995  354.044037  22.530056\n",
      "2013-12-31  71.756508  398.790009  560.915894  32.510414\n"
     ]
    }
   ],
   "source": [
    "end_of_week = adj_close.resample('W').last() \n",
    "end_of_quarter = adj_close.resample('Q').last() \n",
    "end_of_year = adj_close.resample('Y').last() \n",
    "\n",
    "print(end_of_week.head(10))\n",
    "print('---------------------------------------------------------------------')\n",
    "print(end_of_quarter.head(10))\n",
    "print('---------------------------------------------------------------------')\n",
    "print(end_of_year.head(10))"
   ]
  },
  {
   "cell_type": "markdown",
   "id": "24a2f724-0fe0-4aa6-a7c1-9da446a5502b",
   "metadata": {},
   "source": [
    "### 7. <u> 이동평균 구하기 </u>\n",
    "- rolling().mean() 사용  "
   ]
  },
  {
   "cell_type": "code",
   "execution_count": 78,
   "id": "e8dcc086-7b61-401a-a95f-999a1b9f68c0",
   "metadata": {},
   "outputs": [
    {
     "data": {
      "text/html": [
       "<div>\n",
       "<style scoped>\n",
       "    .dataframe tbody tr th:only-of-type {\n",
       "        vertical-align: middle;\n",
       "    }\n",
       "\n",
       "    .dataframe tbody tr th {\n",
       "        vertical-align: top;\n",
       "    }\n",
       "\n",
       "    .dataframe thead th {\n",
       "        text-align: right;\n",
       "    }\n",
       "</style>\n",
       "<table border=\"1\" class=\"dataframe\">\n",
       "  <thead>\n",
       "    <tr style=\"text-align: right;\">\n",
       "      <th></th>\n",
       "      <th>Date</th>\n",
       "      <th>Open</th>\n",
       "      <th>High</th>\n",
       "      <th>Low</th>\n",
       "      <th>Close</th>\n",
       "      <th>Adj Close</th>\n",
       "      <th>Volume</th>\n",
       "    </tr>\n",
       "  </thead>\n",
       "  <tbody>\n",
       "    <tr>\n",
       "      <th>0</th>\n",
       "      <td>1986-03-13</td>\n",
       "      <td>0.088542</td>\n",
       "      <td>0.101563</td>\n",
       "      <td>0.088542</td>\n",
       "      <td>0.097222</td>\n",
       "      <td>0.062205</td>\n",
       "      <td>1031788800</td>\n",
       "    </tr>\n",
       "    <tr>\n",
       "      <th>1</th>\n",
       "      <td>1986-03-14</td>\n",
       "      <td>0.097222</td>\n",
       "      <td>0.102431</td>\n",
       "      <td>0.097222</td>\n",
       "      <td>0.100694</td>\n",
       "      <td>0.064427</td>\n",
       "      <td>308160000</td>\n",
       "    </tr>\n",
       "    <tr>\n",
       "      <th>2</th>\n",
       "      <td>1986-03-17</td>\n",
       "      <td>0.100694</td>\n",
       "      <td>0.103299</td>\n",
       "      <td>0.100694</td>\n",
       "      <td>0.102431</td>\n",
       "      <td>0.065537</td>\n",
       "      <td>133171200</td>\n",
       "    </tr>\n",
       "    <tr>\n",
       "      <th>3</th>\n",
       "      <td>1986-03-18</td>\n",
       "      <td>0.102431</td>\n",
       "      <td>0.103299</td>\n",
       "      <td>0.098958</td>\n",
       "      <td>0.099826</td>\n",
       "      <td>0.063871</td>\n",
       "      <td>67766400</td>\n",
       "    </tr>\n",
       "    <tr>\n",
       "      <th>4</th>\n",
       "      <td>1986-03-19</td>\n",
       "      <td>0.099826</td>\n",
       "      <td>0.100694</td>\n",
       "      <td>0.097222</td>\n",
       "      <td>0.098090</td>\n",
       "      <td>0.062760</td>\n",
       "      <td>47894400</td>\n",
       "    </tr>\n",
       "  </tbody>\n",
       "</table>\n",
       "</div>"
      ],
      "text/plain": [
       "        Date      Open      High       Low     Close  Adj Close      Volume\n",
       "0 1986-03-13  0.088542  0.101563  0.088542  0.097222   0.062205  1031788800\n",
       "1 1986-03-14  0.097222  0.102431  0.097222  0.100694   0.064427   308160000\n",
       "2 1986-03-17  0.100694  0.103299  0.100694  0.102431   0.065537   133171200\n",
       "3 1986-03-18  0.102431  0.103299  0.098958  0.099826   0.063871    67766400\n",
       "4 1986-03-19  0.099826  0.100694  0.097222  0.098090   0.062760    47894400"
      ]
     },
     "execution_count": 78,
     "metadata": {},
     "output_type": "execute_result"
    }
   ],
   "source": [
    "msft.head()"
   ]
  },
  {
   "cell_type": "code",
   "execution_count": 83,
   "id": "dd998473-1e34-4dce-a72f-af7a50dade19",
   "metadata": {},
   "outputs": [
    {
     "data": {
      "text/html": [
       "<div>\n",
       "<style scoped>\n",
       "    .dataframe tbody tr th:only-of-type {\n",
       "        vertical-align: middle;\n",
       "    }\n",
       "\n",
       "    .dataframe tbody tr th {\n",
       "        vertical-align: top;\n",
       "    }\n",
       "\n",
       "    .dataframe thead th {\n",
       "        text-align: right;\n",
       "    }\n",
       "</style>\n",
       "<table border=\"1\" class=\"dataframe\">\n",
       "  <thead>\n",
       "    <tr style=\"text-align: right;\">\n",
       "      <th></th>\n",
       "      <th>index</th>\n",
       "      <th>Open</th>\n",
       "      <th>High</th>\n",
       "      <th>Low</th>\n",
       "      <th>Close</th>\n",
       "      <th>Adj Close</th>\n",
       "      <th>Volume</th>\n",
       "    </tr>\n",
       "    <tr>\n",
       "      <th>Date</th>\n",
       "      <th></th>\n",
       "      <th></th>\n",
       "      <th></th>\n",
       "      <th></th>\n",
       "      <th></th>\n",
       "      <th></th>\n",
       "      <th></th>\n",
       "    </tr>\n",
       "  </thead>\n",
       "  <tbody>\n",
       "    <tr>\n",
       "      <th>1986-03-13</th>\n",
       "      <td>0</td>\n",
       "      <td>0.088542</td>\n",
       "      <td>0.101563</td>\n",
       "      <td>0.088542</td>\n",
       "      <td>0.097222</td>\n",
       "      <td>0.062205</td>\n",
       "      <td>1031788800</td>\n",
       "    </tr>\n",
       "    <tr>\n",
       "      <th>1986-03-14</th>\n",
       "      <td>1</td>\n",
       "      <td>0.097222</td>\n",
       "      <td>0.102431</td>\n",
       "      <td>0.097222</td>\n",
       "      <td>0.100694</td>\n",
       "      <td>0.064427</td>\n",
       "      <td>308160000</td>\n",
       "    </tr>\n",
       "    <tr>\n",
       "      <th>1986-03-17</th>\n",
       "      <td>2</td>\n",
       "      <td>0.100694</td>\n",
       "      <td>0.103299</td>\n",
       "      <td>0.100694</td>\n",
       "      <td>0.102431</td>\n",
       "      <td>0.065537</td>\n",
       "      <td>133171200</td>\n",
       "    </tr>\n",
       "    <tr>\n",
       "      <th>1986-03-18</th>\n",
       "      <td>3</td>\n",
       "      <td>0.102431</td>\n",
       "      <td>0.103299</td>\n",
       "      <td>0.098958</td>\n",
       "      <td>0.099826</td>\n",
       "      <td>0.063871</td>\n",
       "      <td>67766400</td>\n",
       "    </tr>\n",
       "    <tr>\n",
       "      <th>1986-03-19</th>\n",
       "      <td>4</td>\n",
       "      <td>0.099826</td>\n",
       "      <td>0.100694</td>\n",
       "      <td>0.097222</td>\n",
       "      <td>0.098090</td>\n",
       "      <td>0.062760</td>\n",
       "      <td>47894400</td>\n",
       "    </tr>\n",
       "    <tr>\n",
       "      <th>...</th>\n",
       "      <td>...</td>\n",
       "      <td>...</td>\n",
       "      <td>...</td>\n",
       "      <td>...</td>\n",
       "      <td>...</td>\n",
       "      <td>...</td>\n",
       "      <td>...</td>\n",
       "    </tr>\n",
       "    <tr>\n",
       "      <th>2020-05-20</th>\n",
       "      <td>8617</td>\n",
       "      <td>184.809998</td>\n",
       "      <td>185.850006</td>\n",
       "      <td>183.940002</td>\n",
       "      <td>185.660004</td>\n",
       "      <td>185.660004</td>\n",
       "      <td>31261300</td>\n",
       "    </tr>\n",
       "    <tr>\n",
       "      <th>2020-05-21</th>\n",
       "      <td>8618</td>\n",
       "      <td>185.399994</td>\n",
       "      <td>186.669998</td>\n",
       "      <td>183.289993</td>\n",
       "      <td>183.429993</td>\n",
       "      <td>183.429993</td>\n",
       "      <td>29119500</td>\n",
       "    </tr>\n",
       "    <tr>\n",
       "      <th>2020-05-22</th>\n",
       "      <td>8619</td>\n",
       "      <td>183.190002</td>\n",
       "      <td>184.460007</td>\n",
       "      <td>182.539993</td>\n",
       "      <td>183.509995</td>\n",
       "      <td>183.509995</td>\n",
       "      <td>20826900</td>\n",
       "    </tr>\n",
       "    <tr>\n",
       "      <th>2020-05-26</th>\n",
       "      <td>8620</td>\n",
       "      <td>186.339996</td>\n",
       "      <td>186.500000</td>\n",
       "      <td>181.100006</td>\n",
       "      <td>181.570007</td>\n",
       "      <td>181.570007</td>\n",
       "      <td>36073600</td>\n",
       "    </tr>\n",
       "    <tr>\n",
       "      <th>2020-05-27</th>\n",
       "      <td>8621</td>\n",
       "      <td>180.199997</td>\n",
       "      <td>181.990005</td>\n",
       "      <td>176.600006</td>\n",
       "      <td>181.809998</td>\n",
       "      <td>181.809998</td>\n",
       "      <td>39492600</td>\n",
       "    </tr>\n",
       "  </tbody>\n",
       "</table>\n",
       "<p>8622 rows × 7 columns</p>\n",
       "</div>"
      ],
      "text/plain": [
       "            index        Open        High         Low       Close   Adj Close  \\\n",
       "Date                                                                            \n",
       "1986-03-13      0    0.088542    0.101563    0.088542    0.097222    0.062205   \n",
       "1986-03-14      1    0.097222    0.102431    0.097222    0.100694    0.064427   \n",
       "1986-03-17      2    0.100694    0.103299    0.100694    0.102431    0.065537   \n",
       "1986-03-18      3    0.102431    0.103299    0.098958    0.099826    0.063871   \n",
       "1986-03-19      4    0.099826    0.100694    0.097222    0.098090    0.062760   \n",
       "...           ...         ...         ...         ...         ...         ...   \n",
       "2020-05-20   8617  184.809998  185.850006  183.940002  185.660004  185.660004   \n",
       "2020-05-21   8618  185.399994  186.669998  183.289993  183.429993  183.429993   \n",
       "2020-05-22   8619  183.190002  184.460007  182.539993  183.509995  183.509995   \n",
       "2020-05-26   8620  186.339996  186.500000  181.100006  181.570007  181.570007   \n",
       "2020-05-27   8621  180.199997  181.990005  176.600006  181.809998  181.809998   \n",
       "\n",
       "                Volume  \n",
       "Date                    \n",
       "1986-03-13  1031788800  \n",
       "1986-03-14   308160000  \n",
       "1986-03-17   133171200  \n",
       "1986-03-18    67766400  \n",
       "1986-03-19    47894400  \n",
       "...                ...  \n",
       "2020-05-20    31261300  \n",
       "2020-05-21    29119500  \n",
       "2020-05-22    20826900  \n",
       "2020-05-26    36073600  \n",
       "2020-05-27    39492600  \n",
       "\n",
       "[8622 rows x 7 columns]"
      ]
     },
     "execution_count": 83,
     "metadata": {},
     "output_type": "execute_result"
    }
   ],
   "source": [
    "## 기존의 인덱스를 리셋하고, Date 컬럼을 인덱스로 지정한다. \n",
    "df = msft.reset_index().set_index('Date')\n",
    "df"
   ]
  },
  {
   "cell_type": "code",
   "execution_count": 92,
   "id": "c73c85f9-2632-49b9-90fe-ff224edcb2f7",
   "metadata": {},
   "outputs": [
    {
     "name": "stdout",
     "output_type": "stream",
     "text": [
      "             Adj Close  7days Moving Avg\n",
      "Date                                    \n",
      "2020-01-02  159.737595               NaN\n",
      "2020-01-03  157.748581               NaN\n",
      "2020-01-06  158.156342               NaN\n",
      "2020-01-07  156.714310               NaN\n",
      "2020-01-08  159.210495               NaN\n",
      "2020-01-09  161.199509               NaN\n",
      "2020-01-10  160.453644        159.031497\n",
      "2020-01-13  162.382980        159.409409\n",
      "2020-01-14  161.239304        159.908083\n",
      "2020-01-15  162.283539        160.497683\n"
     ]
    },
    {
     "data": {
      "text/plain": [
       "<AxesSubplot:xlabel='Date'>"
      ]
     },
     "execution_count": 92,
     "metadata": {},
     "output_type": "execute_result"
    },
    {
     "data": {
      "image/png": "[encoded data removed]",
      "text/plain": [
       "<Figure size 432x288 with 1 Axes>"
      ]
     },
     "metadata": {
      "needs_background": "light"
     },
     "output_type": "display_data"
    }
   ],
   "source": [
    "## 일주일 단위 이동평균을 구하고 차트를 만든다. \n",
    "msft_2020 = df.loc['2020', ['Adj Close']] \n",
    "msft_2020.loc[:, '7days Moving Avg'] = msft_2020['Adj Close'].rolling(7).mean()\n",
    "print(msft_2020.head(10)) \n",
    "\n",
    "msft_2020.plot()"
   ]
  },
  {
   "cell_type": "code",
   "execution_count": null,
   "id": "69bf4d1c-48e5-4790-8773-17633df9fde4",
   "metadata": {},
   "outputs": [],
   "source": []
  },
  {
   "cell_type": "code",
   "execution_count": null,
   "id": "066b0505-7593-4663-8de0-88dfc4563644",
   "metadata": {},
   "outputs": [],
   "source": []
  }
 ],
 "metadata": {
  "kernelspec": {
   "display_name": "Python 3",
   "language": "python",
   "name": "python3"
  },
  "language_info": {
   "codemirror_mode": {
    "name": "ipython",
    "version": 3
   },
   "file_extension": ".py",
   "mimetype": "text/x-python",
   "name": "python",
   "nbconvert_exporter": "python",
   "pygments_lexer": "ipython3",
   "version": "3.8.8"
  }
 },
 "nbformat": 4,
 "nbformat_minor": 5
}
