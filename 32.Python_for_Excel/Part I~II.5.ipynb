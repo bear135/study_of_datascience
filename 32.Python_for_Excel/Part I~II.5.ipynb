{
 "cells": [
  {
   "cell_type": "markdown",
   "id": "175db154-a42d-4200-8d71-b5a19f38ec40",
   "metadata": {},
   "source": [
    "## Part I. 파이썬 소개 "
   ]
  },
  {
   "cell_type": "markdown",
   "id": "b90201a5-dbb2-4d25-9958-ce9f63a39d71",
   "metadata": {},
   "source": [
    "### <u> 1. 파이썬을 쓰는 이유 (엑셀 프로그래밍의 한계) </u>\n",
    "- Excel도 프로그래밍이 가능하지만, SW 개발규칙을 준수하는 경우가 거의 없다. \n",
    "1) 동일 시트안에 입력/계산/출력 혼재\n",
    "2) 정상 작동위한 조건이 불명확 \n",
    "3) 코드(중요 요소) 수정시 안전조치 부재 \n",
    "4) 매뉴얼, 테스트 부재 다수 \n",
    "5) 기타 : 버전관리 어려움, 리눅스 등 서버환경 지원 미흡 등 \n",
    "\n",
    "- ex> '20년 영국 코로나 검사 결과 지연 사고 : 최대 65,000행망 지원하는 구형버전 엑셀 사용으로, 약 16천건의 검사 데이터가 소실되었음을 뒤늦게 알아차림 \n",
    "- ex> 미국 모 유전자 연구소 사고 : 엑셀로 실험결과를 주고받는 과정에서, 유전자 이름 \"March-1\" 을 엑셀이 날짜로 인식하여 \"1-Mar\"로 변경함 "
   ]
  },
  {
   "cell_type": "markdown",
   "id": "23eaa78d-f6ea-4d30-8b71-d012e789b8ed",
   "metadata": {},
   "source": [
    "### <u> 2. text와 변수를 함께 사용하려면, f_를 사용한다. </u>\n",
    "- text 앞에 f, 변수는 중괄호로"
   ]
  },
  {
   "cell_type": "code",
   "execution_count": 9,
   "id": "d4ed5e90-5095-45f6-86ff-3b736d8068f4",
   "metadata": {},
   "outputs": [
    {
     "data": {
      "text/plain": [
       "'Python is free and open_source.'"
      ]
     },
     "execution_count": 9,
     "metadata": {},
     "output_type": "execute_result"
    }
   ],
   "source": [
    "x1, x2 = 'free', 'open_source'\n",
    "\n",
    "f\"Python is {x1} and {x2}.\""
   ]
  },
  {
   "cell_type": "markdown",
   "id": "fffd246f-4958-4e5a-8369-8af605b1ed5b",
   "metadata": {},
   "source": [
    "### <u> 3. Index에서 slice를 활용하여 문자열의 특정부분만 추출하기 </u> "
   ]
  },
  {
   "cell_type": "code",
   "execution_count": 14,
   "id": "034c8fd8-6474-43e4-849a-373fa098ca5f",
   "metadata": {},
   "outputs": [
    {
     "name": "stdout",
     "output_type": "stream",
     "text": [
      "hon\n",
      "o\n",
      "on\n"
     ]
    }
   ],
   "source": [
    "txt = \"Python\"\n",
    "\n",
    "t1 = txt[-3:]\n",
    "t2 = txt[-3:][1]\n",
    "t3 = txt[-3:][1:]\n",
    "\n",
    "print(t1)\n",
    "print(t2)\n",
    "print(t3)"
   ]
  },
  {
   "cell_type": "markdown",
   "id": "00c615f3-d2bd-4a4b-8998-fef1ac5e1c76",
   "metadata": {},
   "source": [
    "### <u> 4. 리스트에서 slice 사용하여 특정값 추출하기 </u>"
   ]
  },
  {
   "cell_type": "code",
   "execution_count": 16,
   "id": "5210e601-9b67-4235-950b-9f91ae9ced38",
   "metadata": {},
   "outputs": [],
   "source": [
    "cell = [[1,2,3], \n",
    "        [4,5,6], \n",
    "        [7,8,9]] "
   ]
  },
  {
   "cell_type": "code",
   "execution_count": 17,
   "id": "d095bcb8-d04f-459b-9037-57e8c881400b",
   "metadata": {},
   "outputs": [
    {
     "data": {
      "text/plain": [
       "[4, 5, 6]"
      ]
     },
     "execution_count": 17,
     "metadata": {},
     "output_type": "execute_result"
    }
   ],
   "source": [
    "cell[1]"
   ]
  },
  {
   "cell_type": "code",
   "execution_count": 18,
   "id": "bf39dd0c-7b95-4652-b420-240efee778f3",
   "metadata": {},
   "outputs": [
    {
     "data": {
      "text/plain": [
       "[5, 6]"
      ]
     },
     "execution_count": 18,
     "metadata": {},
     "output_type": "execute_result"
    }
   ],
   "source": [
    "cell[1][1:]"
   ]
  },
  {
   "cell_type": "markdown",
   "id": "33ed11a7-0535-423d-a6d4-42117aa8501b",
   "metadata": {},
   "source": [
    " ### <u> 5. 리스트에 요소 추가 및 제거 </u>"
   ]
  },
  {
   "cell_type": "code",
   "execution_count": 31,
   "id": "ae14e2e5-63fa-4db1-a3be-20bfed797236",
   "metadata": {},
   "outputs": [],
   "source": [
    "users = ['Linda', 'Brian']"
   ]
  },
  {
   "cell_type": "code",
   "execution_count": 34,
   "id": "e18680d3-a4c2-424c-a1ba-74a6600583e2",
   "metadata": {},
   "outputs": [
    {
     "data": {
      "text/plain": [
       "['Linda', 'Brian', 'Jennifer', 'Jennifer']"
      ]
     },
     "execution_count": 34,
     "metadata": {},
     "output_type": "execute_result"
    }
   ],
   "source": [
    "users.append('Jennifer')  ## 맨뒤 추가 \n",
    "users"
   ]
  },
  {
   "cell_type": "code",
   "execution_count": 35,
   "id": "ae289e1c-8bfc-4173-9013-14664559fbc0",
   "metadata": {},
   "outputs": [
    {
     "data": {
      "text/plain": [
       "['Kim', 'Linda', 'Brian', 'Jennifer', 'Jennifer']"
      ]
     },
     "execution_count": 35,
     "metadata": {},
     "output_type": "execute_result"
    }
   ],
   "source": [
    "users.insert(0, 'Kim')  ## 지정위치 삽입 \n",
    "users"
   ]
  },
  {
   "cell_type": "code",
   "execution_count": 36,
   "id": "dd9a7563-b440-4c6d-96cc-7398b4c7fddf",
   "metadata": {},
   "outputs": [
    {
     "data": {
      "text/plain": [
       "['Linda', 'Brian', 'Jennifer', 'Jennifer']"
      ]
     },
     "execution_count": 36,
     "metadata": {},
     "output_type": "execute_result"
    }
   ],
   "source": [
    "del users[0]  ## 지정위치 삭제  \n",
    "users"
   ]
  },
  {
   "cell_type": "markdown",
   "id": "3524de79-3bf8-42a7-bbec-3bfe11b72a0f",
   "metadata": {},
   "source": [
    "### <u> 6. 딕셔너리를 병합할때는   |   를 사용한다. </u>"
   ]
  },
  {
   "cell_type": "code",
   "execution_count": 37,
   "id": "1d791219-818c-493f-b85d-b8c707118a33",
   "metadata": {},
   "outputs": [],
   "source": [
    "ex_rate_1 = {'EUR : 1.1152', \n",
    "             'GBP : 1.2454', \n",
    "             'AUD : 0.6161'     \n",
    "}\n",
    "\n",
    "\n",
    "ex_rate_2 = {'SGD : 0.7004', \n",
    "             'GBP : 1.2222'     \n",
    "}"
   ]
  },
  {
   "cell_type": "code",
   "execution_count": 38,
   "id": "5e5a9612-4d74-4004-8861-8320fe9cb031",
   "metadata": {},
   "outputs": [
    {
     "data": {
      "text/plain": [
       "{'AUD : 0.6161',\n",
       " 'EUR : 1.1152',\n",
       " 'GBP : 1.2222',\n",
       " 'GBP : 1.2454',\n",
       " 'SGD : 0.7004'}"
      ]
     },
     "execution_count": 38,
     "metadata": {},
     "output_type": "execute_result"
    }
   ],
   "source": [
    "ex_rate_1 | ex_rate_2    ## GBP : 1.2454  ---> GBP : 1.2222 로 업데이트 되었다. "
   ]
  },
  {
   "cell_type": "markdown",
   "id": "14ed2fe5-bebd-436b-814f-098341e13752",
   "metadata": {},
   "source": [
    "### <u> 7. 파이썬 코드 스타일 </u>\n",
    "- 단순한 if문에는 괄호를 쓰지 않는다. \n",
    "- 값이 True인지는 명시적 확인이 불필요 하다. "
   ]
  },
  {
   "cell_type": "code",
   "execution_count": 42,
   "id": "daedadc7-5804-45a7-9117-fb5ec5b4b2de",
   "metadata": {},
   "outputs": [
    {
     "name": "stdout",
     "output_type": "stream",
     "text": [
      "This is important.\n"
     ]
    }
   ],
   "source": [
    "x1 = True \n",
    "\n",
    "if x1 :  ## if x1 == True \n",
    "    print ('This is important.')\n",
    "else :\n",
    "    print ('This is not important.')    "
   ]
  },
  {
   "cell_type": "code",
   "execution_count": 47,
   "id": "c5cf7689-1e5c-4521-8bce-109335e87924",
   "metadata": {},
   "outputs": [
    {
     "name": "stdout",
     "output_type": "stream",
     "text": [
      "There are no values.\n"
     ]
    }
   ],
   "source": [
    "x2 = []\n",
    "\n",
    "if x2 :   ## if len(x) > 0 \n",
    "    print (f'The values are {x2}.')\n",
    "else : \n",
    "    print (f'There are no values.')"
   ]
  },
  {
   "cell_type": "markdown",
   "id": "5d9a1755-85ba-4932-b98b-644a1910e0c5",
   "metadata": {},
   "source": [
    "### <u> 8. 화씨, 켈빈 온도를 섭씨온도로 변환하는 함수 만들어 사용하기  </u>"
   ]
  },
  {
   "cell_type": "code",
   "execution_count": 48,
   "id": "de639a92-2b22-4bba-927c-b4019bd190ac",
   "metadata": {},
   "outputs": [],
   "source": [
    "def convert_to_cel (degrees, source) : \n",
    "    if source.lower() == 'farenheit': \n",
    "        return (degrees - 32)*(5/9)\n",
    "    elif source.lower() == 'kelvin' : \n",
    "        return (degrees - 273.15) \n",
    "    else : \n",
    "        return f'Dont know how to convert from {soruce}.' "
   ]
  },
  {
   "cell_type": "code",
   "execution_count": 49,
   "id": "fc4443a0-766a-4d5f-9b11-ace101bedef2",
   "metadata": {},
   "outputs": [
    {
     "data": {
      "text/plain": [
       "37.77777777777778"
      ]
     },
     "execution_count": 49,
     "metadata": {},
     "output_type": "execute_result"
    }
   ],
   "source": [
    "convert_to_cel(100, 'Farenheit')"
   ]
  },
  {
   "cell_type": "code",
   "execution_count": 50,
   "id": "bacddb97-d0ba-4c91-b741-193d4b8a24f3",
   "metadata": {},
   "outputs": [
    {
     "data": {
      "text/plain": [
       "-273.15"
      ]
     },
     "execution_count": 50,
     "metadata": {},
     "output_type": "execute_result"
    }
   ],
   "source": [
    "convert_to_cel(0, 'kelvin')"
   ]
  },
  {
   "cell_type": "code",
   "execution_count": 51,
   "id": "7c0182d0-0b52-4a73-a19d-e6f572bb8d92",
   "metadata": {},
   "outputs": [],
   "source": [
    "##########################################################################################################################"
   ]
  },
  {
   "cell_type": "markdown",
   "id": "7e059411-e169-4f7d-8fc2-0e84c062545d",
   "metadata": {},
   "source": [
    "## Part II. Numpy, Pandas 소개 "
   ]
  },
  {
   "cell_type": "code",
   "execution_count": 52,
   "id": "7e092f27-c98b-4324-b482-ce836467eb3a",
   "metadata": {},
   "outputs": [],
   "source": [
    "import math \n",
    "import numpy as np \n",
    "import pandas as pd"
   ]
  },
  {
   "cell_type": "code",
   "execution_count": 54,
   "id": "54893cd4-dc46-4a8d-9014-94ef046c4bdf",
   "metadata": {},
   "outputs": [
    {
     "data": {
      "text/plain": [
       "array([[1, 2, 3],\n",
       "       [4, 5, 6]])"
      ]
     },
     "execution_count": 54,
     "metadata": {},
     "output_type": "execute_result"
    }
   ],
   "source": [
    "arrary_1 = np.array([[1,2,3], \n",
    "                     [4,5,6]])\n",
    "\n",
    "arrary_1"
   ]
  },
  {
   "cell_type": "markdown",
   "id": "f5bd86ff-be96-422e-9a60-f7be00ec485c",
   "metadata": {},
   "source": [
    "### <u> 1. 일반적인(math의) 수학연산자는 행렬에 적용하기 어렵다. </u>\n",
    "- ex. > math.sqrt(array_1) => error "
   ]
  },
  {
   "cell_type": "code",
   "execution_count": 55,
   "id": "7e29e5d2-f43e-43b0-a820-8973e631b8d6",
   "metadata": {},
   "outputs": [
    {
     "data": {
      "text/plain": [
       "array([[1.        , 1.41421356, 1.73205081],\n",
       "       [2.        , 2.23606798, 2.44948974]])"
      ]
     },
     "execution_count": 55,
     "metadata": {},
     "output_type": "execute_result"
    }
   ],
   "source": [
    "np.sqrt(arrary_1)"
   ]
  },
  {
   "cell_type": "markdown",
   "id": "b8443b88-50e2-4b80-b33b-614f6dc42e7c",
   "metadata": {},
   "source": [
    "### <u> 2. dataframe의 정렬 (sort) </u>"
   ]
  },
  {
   "cell_type": "code",
   "execution_count": 59,
   "id": "f755a102-8d0d-4a9c-acf0-2cd6fd07f4f5",
   "metadata": {},
   "outputs": [
    {
     "data": {
      "text/html": [
       "<div>\n",
       "<style scoped>\n",
       "    .dataframe tbody tr th:only-of-type {\n",
       "        vertical-align: middle;\n",
       "    }\n",
       "\n",
       "    .dataframe tbody tr th {\n",
       "        vertical-align: top;\n",
       "    }\n",
       "\n",
       "    .dataframe thead th {\n",
       "        text-align: right;\n",
       "    }\n",
       "</style>\n",
       "<table border=\"1\" class=\"dataframe\">\n",
       "  <thead>\n",
       "    <tr style=\"text-align: right;\">\n",
       "      <th></th>\n",
       "      <th>user_id</th>\n",
       "      <th>name</th>\n",
       "      <th>age</th>\n",
       "      <th>country</th>\n",
       "      <th>score</th>\n",
       "      <th>continent</th>\n",
       "    </tr>\n",
       "  </thead>\n",
       "  <tbody>\n",
       "    <tr>\n",
       "      <th>0</th>\n",
       "      <td>1001</td>\n",
       "      <td>Mark</td>\n",
       "      <td>55</td>\n",
       "      <td>Italy</td>\n",
       "      <td>4.5</td>\n",
       "      <td>Europe</td>\n",
       "    </tr>\n",
       "    <tr>\n",
       "      <th>1</th>\n",
       "      <td>1000</td>\n",
       "      <td>John</td>\n",
       "      <td>33</td>\n",
       "      <td>USA</td>\n",
       "      <td>6.7</td>\n",
       "      <td>America</td>\n",
       "    </tr>\n",
       "    <tr>\n",
       "      <th>2</th>\n",
       "      <td>1002</td>\n",
       "      <td>Tim</td>\n",
       "      <td>41</td>\n",
       "      <td>USA</td>\n",
       "      <td>3.9</td>\n",
       "      <td>America</td>\n",
       "    </tr>\n",
       "    <tr>\n",
       "      <th>3</th>\n",
       "      <td>1003</td>\n",
       "      <td>Jenny</td>\n",
       "      <td>12</td>\n",
       "      <td>Germany</td>\n",
       "      <td>9.0</td>\n",
       "      <td>Europe</td>\n",
       "    </tr>\n",
       "  </tbody>\n",
       "</table>\n",
       "</div>"
      ],
      "text/plain": [
       "   user_id   name  age  country  score continent\n",
       "0     1001   Mark   55    Italy    4.5    Europe\n",
       "1     1000   John   33      USA    6.7   America\n",
       "2     1002    Tim   41      USA    3.9   America\n",
       "3     1003  Jenny   12  Germany    9.0    Europe"
      ]
     },
     "execution_count": 59,
     "metadata": {},
     "output_type": "execute_result"
    }
   ],
   "source": [
    "df = pd.read_excel(\"python-for-excel-1st-edition/xl/course_participants.xlsx\")\n",
    "df"
   ]
  },
  {
   "cell_type": "code",
   "execution_count": 60,
   "id": "c949b1d5-40d4-405d-85bd-e319e5559ab4",
   "metadata": {},
   "outputs": [
    {
     "data": {
      "text/html": [
       "<div>\n",
       "<style scoped>\n",
       "    .dataframe tbody tr th:only-of-type {\n",
       "        vertical-align: middle;\n",
       "    }\n",
       "\n",
       "    .dataframe tbody tr th {\n",
       "        vertical-align: top;\n",
       "    }\n",
       "\n",
       "    .dataframe thead th {\n",
       "        text-align: right;\n",
       "    }\n",
       "</style>\n",
       "<table border=\"1\" class=\"dataframe\">\n",
       "  <thead>\n",
       "    <tr style=\"text-align: right;\">\n",
       "      <th></th>\n",
       "      <th>index</th>\n",
       "      <th>name</th>\n",
       "      <th>age</th>\n",
       "      <th>country</th>\n",
       "      <th>score</th>\n",
       "      <th>continent</th>\n",
       "    </tr>\n",
       "    <tr>\n",
       "      <th>user_id</th>\n",
       "      <th></th>\n",
       "      <th></th>\n",
       "      <th></th>\n",
       "      <th></th>\n",
       "      <th></th>\n",
       "      <th></th>\n",
       "    </tr>\n",
       "  </thead>\n",
       "  <tbody>\n",
       "    <tr>\n",
       "      <th>1001</th>\n",
       "      <td>0</td>\n",
       "      <td>Mark</td>\n",
       "      <td>55</td>\n",
       "      <td>Italy</td>\n",
       "      <td>4.5</td>\n",
       "      <td>Europe</td>\n",
       "    </tr>\n",
       "    <tr>\n",
       "      <th>1000</th>\n",
       "      <td>1</td>\n",
       "      <td>John</td>\n",
       "      <td>33</td>\n",
       "      <td>USA</td>\n",
       "      <td>6.7</td>\n",
       "      <td>America</td>\n",
       "    </tr>\n",
       "    <tr>\n",
       "      <th>1002</th>\n",
       "      <td>2</td>\n",
       "      <td>Tim</td>\n",
       "      <td>41</td>\n",
       "      <td>USA</td>\n",
       "      <td>3.9</td>\n",
       "      <td>America</td>\n",
       "    </tr>\n",
       "    <tr>\n",
       "      <th>1003</th>\n",
       "      <td>3</td>\n",
       "      <td>Jenny</td>\n",
       "      <td>12</td>\n",
       "      <td>Germany</td>\n",
       "      <td>9.0</td>\n",
       "      <td>Europe</td>\n",
       "    </tr>\n",
       "  </tbody>\n",
       "</table>\n",
       "</div>"
      ],
      "text/plain": [
       "         index   name  age  country  score continent\n",
       "user_id                                             \n",
       "1001         0   Mark   55    Italy    4.5    Europe\n",
       "1000         1   John   33      USA    6.7   America\n",
       "1002         2    Tim   41      USA    3.9   America\n",
       "1003         3  Jenny   12  Germany    9.0    Europe"
      ]
     },
     "execution_count": 60,
     "metadata": {},
     "output_type": "execute_result"
    }
   ],
   "source": [
    "## default index를 user_id로 변경\n",
    "df.reset_index().set_index('user_id')"
   ]
  },
  {
   "cell_type": "code",
   "execution_count": 61,
   "id": "824e2ea7-9207-45c1-9f94-e0a639e1bed5",
   "metadata": {},
   "outputs": [
    {
     "data": {
      "text/html": [
       "<div>\n",
       "<style scoped>\n",
       "    .dataframe tbody tr th:only-of-type {\n",
       "        vertical-align: middle;\n",
       "    }\n",
       "\n",
       "    .dataframe tbody tr th {\n",
       "        vertical-align: top;\n",
       "    }\n",
       "\n",
       "    .dataframe thead th {\n",
       "        text-align: right;\n",
       "    }\n",
       "</style>\n",
       "<table border=\"1\" class=\"dataframe\">\n",
       "  <thead>\n",
       "    <tr style=\"text-align: right;\">\n",
       "      <th></th>\n",
       "      <th>user_id</th>\n",
       "      <th>name</th>\n",
       "      <th>age</th>\n",
       "      <th>country</th>\n",
       "      <th>score</th>\n",
       "      <th>continent</th>\n",
       "    </tr>\n",
       "  </thead>\n",
       "  <tbody>\n",
       "    <tr>\n",
       "      <th>0</th>\n",
       "      <td>1001</td>\n",
       "      <td>Mark</td>\n",
       "      <td>55</td>\n",
       "      <td>Italy</td>\n",
       "      <td>4.5</td>\n",
       "      <td>Europe</td>\n",
       "    </tr>\n",
       "    <tr>\n",
       "      <th>1</th>\n",
       "      <td>1000</td>\n",
       "      <td>John</td>\n",
       "      <td>33</td>\n",
       "      <td>USA</td>\n",
       "      <td>6.7</td>\n",
       "      <td>America</td>\n",
       "    </tr>\n",
       "    <tr>\n",
       "      <th>2</th>\n",
       "      <td>1002</td>\n",
       "      <td>Tim</td>\n",
       "      <td>41</td>\n",
       "      <td>USA</td>\n",
       "      <td>3.9</td>\n",
       "      <td>America</td>\n",
       "    </tr>\n",
       "    <tr>\n",
       "      <th>3</th>\n",
       "      <td>1003</td>\n",
       "      <td>Jenny</td>\n",
       "      <td>12</td>\n",
       "      <td>Germany</td>\n",
       "      <td>9.0</td>\n",
       "      <td>Europe</td>\n",
       "    </tr>\n",
       "  </tbody>\n",
       "</table>\n",
       "</div>"
      ],
      "text/plain": [
       "   user_id   name  age  country  score continent\n",
       "0     1001   Mark   55    Italy    4.5    Europe\n",
       "1     1000   John   33      USA    6.7   America\n",
       "2     1002    Tim   41      USA    3.9   America\n",
       "3     1003  Jenny   12  Germany    9.0    Europe"
      ]
     },
     "execution_count": 61,
     "metadata": {},
     "output_type": "execute_result"
    }
   ],
   "source": [
    "df.sort_index()  ## 인덱스 기준으로 정렬"
   ]
  },
  {
   "cell_type": "code",
   "execution_count": 63,
   "id": "4204c11f-9519-4165-a327-83348b88509f",
   "metadata": {},
   "outputs": [
    {
     "data": {
      "text/html": [
       "<div>\n",
       "<style scoped>\n",
       "    .dataframe tbody tr th:only-of-type {\n",
       "        vertical-align: middle;\n",
       "    }\n",
       "\n",
       "    .dataframe tbody tr th {\n",
       "        vertical-align: top;\n",
       "    }\n",
       "\n",
       "    .dataframe thead th {\n",
       "        text-align: right;\n",
       "    }\n",
       "</style>\n",
       "<table border=\"1\" class=\"dataframe\">\n",
       "  <thead>\n",
       "    <tr style=\"text-align: right;\">\n",
       "      <th></th>\n",
       "      <th>user_id</th>\n",
       "      <th>name</th>\n",
       "      <th>age</th>\n",
       "      <th>country</th>\n",
       "      <th>score</th>\n",
       "      <th>continent</th>\n",
       "    </tr>\n",
       "  </thead>\n",
       "  <tbody>\n",
       "    <tr>\n",
       "      <th>1</th>\n",
       "      <td>1000</td>\n",
       "      <td>John</td>\n",
       "      <td>33</td>\n",
       "      <td>USA</td>\n",
       "      <td>6.7</td>\n",
       "      <td>America</td>\n",
       "    </tr>\n",
       "    <tr>\n",
       "      <th>2</th>\n",
       "      <td>1002</td>\n",
       "      <td>Tim</td>\n",
       "      <td>41</td>\n",
       "      <td>USA</td>\n",
       "      <td>3.9</td>\n",
       "      <td>America</td>\n",
       "    </tr>\n",
       "    <tr>\n",
       "      <th>0</th>\n",
       "      <td>1001</td>\n",
       "      <td>Mark</td>\n",
       "      <td>55</td>\n",
       "      <td>Italy</td>\n",
       "      <td>4.5</td>\n",
       "      <td>Europe</td>\n",
       "    </tr>\n",
       "    <tr>\n",
       "      <th>3</th>\n",
       "      <td>1003</td>\n",
       "      <td>Jenny</td>\n",
       "      <td>12</td>\n",
       "      <td>Germany</td>\n",
       "      <td>9.0</td>\n",
       "      <td>Europe</td>\n",
       "    </tr>\n",
       "  </tbody>\n",
       "</table>\n",
       "</div>"
      ],
      "text/plain": [
       "   user_id   name  age  country  score continent\n",
       "1     1000   John   33      USA    6.7   America\n",
       "2     1002    Tim   41      USA    3.9   America\n",
       "0     1001   Mark   55    Italy    4.5    Europe\n",
       "3     1003  Jenny   12  Germany    9.0    Europe"
      ]
     },
     "execution_count": 63,
     "metadata": {},
     "output_type": "execute_result"
    }
   ],
   "source": [
    "df.sort_values(\"continent\")   ## 변수 기준으로 정렬 "
   ]
  },
  {
   "cell_type": "code",
   "execution_count": 64,
   "id": "9116833c-a9b9-46cf-b23c-309ec592e3f1",
   "metadata": {},
   "outputs": [
    {
     "data": {
      "text/html": [
       "<div>\n",
       "<style scoped>\n",
       "    .dataframe tbody tr th:only-of-type {\n",
       "        vertical-align: middle;\n",
       "    }\n",
       "\n",
       "    .dataframe tbody tr th {\n",
       "        vertical-align: top;\n",
       "    }\n",
       "\n",
       "    .dataframe thead th {\n",
       "        text-align: right;\n",
       "    }\n",
       "</style>\n",
       "<table border=\"1\" class=\"dataframe\">\n",
       "  <thead>\n",
       "    <tr style=\"text-align: right;\">\n",
       "      <th></th>\n",
       "      <th>user_id</th>\n",
       "      <th>name</th>\n",
       "      <th>age</th>\n",
       "      <th>country</th>\n",
       "      <th>score</th>\n",
       "      <th>continent</th>\n",
       "    </tr>\n",
       "  </thead>\n",
       "  <tbody>\n",
       "    <tr>\n",
       "      <th>1</th>\n",
       "      <td>1000</td>\n",
       "      <td>John</td>\n",
       "      <td>33</td>\n",
       "      <td>USA</td>\n",
       "      <td>6.7</td>\n",
       "      <td>America</td>\n",
       "    </tr>\n",
       "    <tr>\n",
       "      <th>2</th>\n",
       "      <td>1002</td>\n",
       "      <td>Tim</td>\n",
       "      <td>41</td>\n",
       "      <td>USA</td>\n",
       "      <td>3.9</td>\n",
       "      <td>America</td>\n",
       "    </tr>\n",
       "    <tr>\n",
       "      <th>3</th>\n",
       "      <td>1003</td>\n",
       "      <td>Jenny</td>\n",
       "      <td>12</td>\n",
       "      <td>Germany</td>\n",
       "      <td>9.0</td>\n",
       "      <td>Europe</td>\n",
       "    </tr>\n",
       "    <tr>\n",
       "      <th>0</th>\n",
       "      <td>1001</td>\n",
       "      <td>Mark</td>\n",
       "      <td>55</td>\n",
       "      <td>Italy</td>\n",
       "      <td>4.5</td>\n",
       "      <td>Europe</td>\n",
       "    </tr>\n",
       "  </tbody>\n",
       "</table>\n",
       "</div>"
      ],
      "text/plain": [
       "   user_id   name  age  country  score continent\n",
       "1     1000   John   33      USA    6.7   America\n",
       "2     1002    Tim   41      USA    3.9   America\n",
       "3     1003  Jenny   12  Germany    9.0    Europe\n",
       "0     1001   Mark   55    Italy    4.5    Europe"
      ]
     },
     "execution_count": 64,
     "metadata": {},
     "output_type": "execute_result"
    }
   ],
   "source": [
    "df.sort_values([\"continent\", \"country\"])   ## 복수의 변수 기준으로 정렬 "
   ]
  },
  {
   "cell_type": "markdown",
   "id": "cc487d21-2c98-4368-85e9-b58729bac81e",
   "metadata": {},
   "source": [
    "### 3. 데이터 프레임의 일부분을 추출할때 (loc vs. iloc) \n",
    "- loc : 컬럼명을 사용\n",
    "- iloc : 행과 열의 순서(슬라이스)를 사용 "
   ]
  },
  {
   "cell_type": "code",
   "execution_count": 67,
   "id": "1d015457-9934-4b4d-a8c9-97f445498919",
   "metadata": {},
   "outputs": [
    {
     "data": {
      "text/plain": [
       "0      Italy\n",
       "1        USA\n",
       "2        USA\n",
       "3    Germany\n",
       "Name: country, dtype: object"
      ]
     },
     "execution_count": 67,
     "metadata": {},
     "output_type": "execute_result"
    }
   ],
   "source": [
    "df.loc[:, 'country']   ## row는 전체,col은 country열만 추출 "
   ]
  },
  {
   "cell_type": "code",
   "execution_count": 68,
   "id": "fece6cc9-3aca-440d-b5eb-b1ee529a0883",
   "metadata": {},
   "outputs": [
    {
     "data": {
      "text/html": [
       "<div>\n",
       "<style scoped>\n",
       "    .dataframe tbody tr th:only-of-type {\n",
       "        vertical-align: middle;\n",
       "    }\n",
       "\n",
       "    .dataframe tbody tr th {\n",
       "        vertical-align: top;\n",
       "    }\n",
       "\n",
       "    .dataframe thead th {\n",
       "        text-align: right;\n",
       "    }\n",
       "</style>\n",
       "<table border=\"1\" class=\"dataframe\">\n",
       "  <thead>\n",
       "    <tr style=\"text-align: right;\">\n",
       "      <th></th>\n",
       "      <th>country</th>\n",
       "      <th>age</th>\n",
       "    </tr>\n",
       "  </thead>\n",
       "  <tbody>\n",
       "    <tr>\n",
       "      <th>0</th>\n",
       "      <td>Italy</td>\n",
       "      <td>55</td>\n",
       "    </tr>\n",
       "    <tr>\n",
       "      <th>1</th>\n",
       "      <td>USA</td>\n",
       "      <td>33</td>\n",
       "    </tr>\n",
       "    <tr>\n",
       "      <th>2</th>\n",
       "      <td>USA</td>\n",
       "      <td>41</td>\n",
       "    </tr>\n",
       "    <tr>\n",
       "      <th>3</th>\n",
       "      <td>Germany</td>\n",
       "      <td>12</td>\n",
       "    </tr>\n",
       "  </tbody>\n",
       "</table>\n",
       "</div>"
      ],
      "text/plain": [
       "   country  age\n",
       "0    Italy   55\n",
       "1      USA   33\n",
       "2      USA   41\n",
       "3  Germany   12"
      ]
     },
     "execution_count": 68,
     "metadata": {},
     "output_type": "execute_result"
    }
   ],
   "source": [
    "df.loc[:, ['country', 'age']]    "
   ]
  },
  {
   "cell_type": "code",
   "execution_count": 69,
   "id": "f270c61d-44b2-4097-b0a9-68e1efe7d46f",
   "metadata": {},
   "outputs": [
    {
     "data": {
      "text/plain": [
       "0    55\n",
       "1    33\n",
       "2    41\n",
       "3    12\n",
       "Name: age, dtype: int64"
      ]
     },
     "execution_count": 69,
     "metadata": {},
     "output_type": "execute_result"
    }
   ],
   "source": [
    "df.iloc[:, 2]"
   ]
  },
  {
   "cell_type": "code",
   "execution_count": 71,
   "id": "de1a177c-547f-415b-ae09-d9f8867e3aed",
   "metadata": {},
   "outputs": [
    {
     "data": {
      "text/html": [
       "<div>\n",
       "<style scoped>\n",
       "    .dataframe tbody tr th:only-of-type {\n",
       "        vertical-align: middle;\n",
       "    }\n",
       "\n",
       "    .dataframe tbody tr th {\n",
       "        vertical-align: top;\n",
       "    }\n",
       "\n",
       "    .dataframe thead th {\n",
       "        text-align: right;\n",
       "    }\n",
       "</style>\n",
       "<table border=\"1\" class=\"dataframe\">\n",
       "  <thead>\n",
       "    <tr style=\"text-align: right;\">\n",
       "      <th></th>\n",
       "      <th>name</th>\n",
       "      <th>country</th>\n",
       "    </tr>\n",
       "  </thead>\n",
       "  <tbody>\n",
       "    <tr>\n",
       "      <th>0</th>\n",
       "      <td>Mark</td>\n",
       "      <td>Italy</td>\n",
       "    </tr>\n",
       "    <tr>\n",
       "      <th>1</th>\n",
       "      <td>John</td>\n",
       "      <td>USA</td>\n",
       "    </tr>\n",
       "    <tr>\n",
       "      <th>2</th>\n",
       "      <td>Tim</td>\n",
       "      <td>USA</td>\n",
       "    </tr>\n",
       "    <tr>\n",
       "      <th>3</th>\n",
       "      <td>Jenny</td>\n",
       "      <td>Germany</td>\n",
       "    </tr>\n",
       "  </tbody>\n",
       "</table>\n",
       "</div>"
      ],
      "text/plain": [
       "    name  country\n",
       "0   Mark    Italy\n",
       "1   John      USA\n",
       "2    Tim      USA\n",
       "3  Jenny  Germany"
      ]
     },
     "execution_count": 71,
     "metadata": {},
     "output_type": "execute_result"
    }
   ],
   "source": [
    "df.iloc[:, [1,3]]"
   ]
  },
  {
   "cell_type": "code",
   "execution_count": 72,
   "id": "8b0acbcb-5760-4a19-aa58-61ec90cce58a",
   "metadata": {},
   "outputs": [
    {
     "data": {
      "text/html": [
       "<div>\n",
       "<style scoped>\n",
       "    .dataframe tbody tr th:only-of-type {\n",
       "        vertical-align: middle;\n",
       "    }\n",
       "\n",
       "    .dataframe tbody tr th {\n",
       "        vertical-align: top;\n",
       "    }\n",
       "\n",
       "    .dataframe thead th {\n",
       "        text-align: right;\n",
       "    }\n",
       "</style>\n",
       "<table border=\"1\" class=\"dataframe\">\n",
       "  <thead>\n",
       "    <tr style=\"text-align: right;\">\n",
       "      <th></th>\n",
       "      <th>user_id</th>\n",
       "      <th>name</th>\n",
       "      <th>age</th>\n",
       "    </tr>\n",
       "  </thead>\n",
       "  <tbody>\n",
       "    <tr>\n",
       "      <th>0</th>\n",
       "      <td>1001</td>\n",
       "      <td>Mark</td>\n",
       "      <td>55</td>\n",
       "    </tr>\n",
       "    <tr>\n",
       "      <th>1</th>\n",
       "      <td>1000</td>\n",
       "      <td>John</td>\n",
       "      <td>33</td>\n",
       "    </tr>\n",
       "    <tr>\n",
       "      <th>2</th>\n",
       "      <td>1002</td>\n",
       "      <td>Tim</td>\n",
       "      <td>41</td>\n",
       "    </tr>\n",
       "    <tr>\n",
       "      <th>3</th>\n",
       "      <td>1003</td>\n",
       "      <td>Jenny</td>\n",
       "      <td>12</td>\n",
       "    </tr>\n",
       "  </tbody>\n",
       "</table>\n",
       "</div>"
      ],
      "text/plain": [
       "   user_id   name  age\n",
       "0     1001   Mark   55\n",
       "1     1000   John   33\n",
       "2     1002    Tim   41\n",
       "3     1003  Jenny   12"
      ]
     },
     "execution_count": 72,
     "metadata": {},
     "output_type": "execute_result"
    }
   ],
   "source": [
    "df.iloc[:, :3]"
   ]
  },
  {
   "cell_type": "markdown",
   "id": "75038c57-3f28-440f-b4f3-6585a3a1f0b1",
   "metadata": {},
   "source": [
    "### <u> 4. 문자열 다루기 </u>"
   ]
  },
  {
   "cell_type": "code",
   "execution_count": 73,
   "id": "f4cec3b0-308b-4b6d-b86a-190444c12b1e",
   "metadata": {},
   "outputs": [
    {
     "data": {
      "text/html": [
       "<div>\n",
       "<style scoped>\n",
       "    .dataframe tbody tr th:only-of-type {\n",
       "        vertical-align: middle;\n",
       "    }\n",
       "\n",
       "    .dataframe tbody tr th {\n",
       "        vertical-align: top;\n",
       "    }\n",
       "\n",
       "    .dataframe thead th {\n",
       "        text-align: right;\n",
       "    }\n",
       "</style>\n",
       "<table border=\"1\" class=\"dataframe\">\n",
       "  <thead>\n",
       "    <tr style=\"text-align: right;\">\n",
       "      <th></th>\n",
       "      <th>name</th>\n",
       "    </tr>\n",
       "  </thead>\n",
       "  <tbody>\n",
       "    <tr>\n",
       "      <th>0</th>\n",
       "      <td>mArk</td>\n",
       "    </tr>\n",
       "    <tr>\n",
       "      <th>1</th>\n",
       "      <td>JOHN</td>\n",
       "    </tr>\n",
       "    <tr>\n",
       "      <th>2</th>\n",
       "      <td>Tim</td>\n",
       "    </tr>\n",
       "    <tr>\n",
       "      <th>3</th>\n",
       "      <td>jenny</td>\n",
       "    </tr>\n",
       "  </tbody>\n",
       "</table>\n",
       "</div>"
      ],
      "text/plain": [
       "     name\n",
       "0   mArk \n",
       "1  JOHN  \n",
       "2     Tim\n",
       "3   jenny"
      ]
     },
     "execution_count": 73,
     "metadata": {},
     "output_type": "execute_result"
    }
   ],
   "source": [
    "users = pd.DataFrame(data=[\" mArk \", \"JOHN  \", \"Tim\", \" jenny\"],\n",
    "                     columns=[\"name\"])\n",
    "users"
   ]
  },
  {
   "cell_type": "code",
   "execution_count": 77,
   "id": "261f8024-eb46-4b6e-aeb0-ec39e492c7e0",
   "metadata": {},
   "outputs": [
    {
     "data": {
      "text/plain": [
       "0     Mark\n",
       "1     John\n",
       "2      Tim\n",
       "3    Jenny\n",
       "Name: name, dtype: object"
      ]
     },
     "execution_count": 77,
     "metadata": {},
     "output_type": "execute_result"
    }
   ],
   "source": [
    "## 문자열의 공백을 제거하고, 첫글자만 대문자로 변환하라. \n",
    "users.loc[:, 'name'].str.strip().str.capitalize()"
   ]
  },
  {
   "cell_type": "code",
   "execution_count": 86,
   "id": "88f563a7-6015-499a-8fc0-869e52dbf530",
   "metadata": {},
   "outputs": [
    {
     "name": "stdout",
     "output_type": "stream",
     "text": [
      "0     MARK\n",
      "1     JOHN\n",
      "2      TIM\n",
      "3    JENNY\n",
      "Name: name, dtype: object\n",
      "---------------------------------------------\n",
      "0     mark\n",
      "1     john\n",
      "2      tim\n",
      "3    jenny\n",
      "Name: name, dtype: object\n"
     ]
    }
   ],
   "source": [
    "## 대문자 또는 소문자로 변환할때 \n",
    "print(users.loc[:, 'name'].str.strip().str.upper())\n",
    "print('---------------------------------------------')\n",
    "print(users.loc[:, 'name'].str.strip().str.lower())"
   ]
  },
  {
   "cell_type": "markdown",
   "id": "6e4e3458-a893-4715-9da1-b02e0f96efd3",
   "metadata": {},
   "source": [
    "### <u> 5. 데이터프레임 합치기 (concat, join, merge) </u>\n",
    "\n",
    "1) pd.concat([df1, df2, df3])  : 단순히 합칩때는 concat \n",
    "\n",
    "2) df1.join(df2, how = 'inner') \n",
    "   df1.join(df2, how = 'left')  : *inner, outer, left, right 조인  \n",
    "   \n",
    "3) df1.merge(df2, how = 'left', on = ['category'])  \n",
    "*join은 인덱스를 기준으로 병합을 실행하나, merge는 병합기준을 on 옵션에서 지정해 주어야 한다. "
   ]
  },
  {
   "cell_type": "code",
   "execution_count": null,
   "id": "8f625a52-d4b0-45ef-9f5e-028213a4c7bd",
   "metadata": {},
   "outputs": [],
   "source": []
  },
  {
   "cell_type": "code",
   "execution_count": null,
   "id": "9051077a-4ecc-43ae-b6ed-5ff69ad9a4dd",
   "metadata": {},
   "outputs": [],
   "source": []
  },
  {
   "cell_type": "code",
   "execution_count": null,
   "id": "b8d5af37-30da-4b82-ae05-650a870a95e5",
   "metadata": {},
   "outputs": [],
   "source": []
  }
 ],
 "metadata": {
  "kernelspec": {
   "display_name": "Python 3",
   "language": "python",
   "name": "python3"
  },
  "language_info": {
   "codemirror_mode": {
    "name": "ipython",
    "version": 3
   },
   "file_extension": ".py",
   "mimetype": "text/x-python",
   "name": "python",
   "nbconvert_exporter": "python",
   "pygments_lexer": "ipython3",
   "version": "3.8.8"
  }
 },
 "nbformat": 4,
 "nbformat_minor": 5
}
