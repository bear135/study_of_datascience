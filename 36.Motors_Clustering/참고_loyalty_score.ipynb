{
 "cells": [
  {
   "cell_type": "markdown",
   "id": "3d31d548-a5cb-4940-951b-8a4a7fcdb319",
   "metadata": {},
   "source": [
    "--- \n",
    "- total_sales를 100점 만점으로 환산하여 loyalty score 산출하고, 분포 확인 (--> 현업의 등급설계 지원용도)\n",
    "- 보정된 total_sales를 0~1사이의 값의로 변환한 후, x 100 \n",
    "--- "
   ]
  },
  {
   "cell_type": "code",
   "execution_count": 1,
   "id": "2e93e6a0-998d-481c-9317-c9a435e80ca9",
   "metadata": {},
   "outputs": [],
   "source": [
    "import numpy as np\n",
    "import pandas as pd\n",
    "import matplotlib.pyplot as plt \n",
    "import seaborn as sns \n",
    "import warnings \n",
    "warnings.filterwarnings('ignore')\n",
    "plt.rcParams['font.family'] = 'Malgun Gothic'\n",
    "plt.rc('axes',unicode_minus=False)"
   ]
  },
  {
   "cell_type": "code",
   "execution_count": 2,
   "id": "58fa0258-3d9e-410f-b266-94e6bcef538d",
   "metadata": {},
   "outputs": [
    {
     "data": {
      "text/plain": [
       "(8230, 26)"
      ]
     },
     "execution_count": 2,
     "metadata": {},
     "output_type": "execute_result"
    }
   ],
   "source": [
    "df = pd.read_csv('data/output.csv', encoding = 'euc-kr')\n",
    "df.shape"
   ]
  },
  {
   "cell_type": "code",
   "execution_count": 3,
   "id": "90105d97-28f8-4a69-acd2-0bf0c39658e2",
   "metadata": {},
   "outputs": [
    {
     "data": {
      "text/plain": [
       "(8230, 27)"
      ]
     },
     "execution_count": 3,
     "metadata": {},
     "output_type": "execute_result"
    }
   ],
   "source": [
    "## loyalty score 산출\n",
    "df_scored = df.copy()\n",
    "df_scored['loyalty_score'] = (df['tot_sales'] - df['tot_sales'].min()) / (df['tot_sales'].max() - df['tot_sales'].min())\n",
    "df_scored['loyalty_score'] = df_scored['loyalty_score']*100\n",
    "df_scored.shape"
   ]
  },
  {
   "cell_type": "code",
   "execution_count": 4,
   "id": "ea1af40e-c695-4674-b901-344317c17c4f",
   "metadata": {},
   "outputs": [
    {
     "data": {
      "text/plain": [
       "count    8230.000000\n",
       "mean       29.242402\n",
       "std        11.651904\n",
       "min         0.000000\n",
       "25%        22.046310\n",
       "50%        26.007045\n",
       "75%        33.399036\n",
       "max       100.000000\n",
       "Name: loyalty_score, dtype: float64"
      ]
     },
     "execution_count": 4,
     "metadata": {},
     "output_type": "execute_result"
    }
   ],
   "source": [
    "df_scored['loyalty_score'].describe()"
   ]
  },
  {
   "cell_type": "code",
   "execution_count": 5,
   "id": "3ae4eeef-a563-4795-bc9a-211f1ac9b2ce",
   "metadata": {},
   "outputs": [
    {
     "data": {
      "text/plain": [
       "<AxesSubplot:xlabel='loyalty_score', ylabel='Density'>"
      ]
     },
     "execution_count": 5,
     "metadata": {},
     "output_type": "execute_result"
    },
    {
     "data": {
      "image/png": "[encoded data removed]",
      "text/plain": [
       "<Figure size 432x288 with 1 Axes>"
      ]
     },
     "metadata": {
      "needs_background": "light"
     },
     "output_type": "display_data"
    }
   ],
   "source": [
    "sns.distplot(df_scored['loyalty_score'])"
   ]
  },
  {
   "cell_type": "code",
   "execution_count": 6,
   "id": "8735b75b-187a-47f6-9a6d-3849f80588dc",
   "metadata": {},
   "outputs": [],
   "source": [
    "df_scored.to_csv('data/df_scored.csv', index=False, encoding = 'euc-kr')"
   ]
  },
  {
   "cell_type": "markdown",
   "id": "5e0d0a23-2e55-44d9-b6e7-7a6dc5573c94",
   "metadata": {},
   "source": [
    "---\n",
    "#### 옵션 : 로열티 점수변화에 따른 인원 및 비중 "
   ]
  },
  {
   "cell_type": "code",
   "execution_count": 7,
   "id": "9ba9d73e-880d-482b-ad3c-55457ccec919",
   "metadata": {},
   "outputs": [
    {
     "name": "stdout",
     "output_type": "stream",
     "text": [
      "인원수 = 2489 명\n",
      "비중 = 30.24 %\n"
     ]
    }
   ],
   "source": [
    "## 특정 점수(k) 이상일때의 인원수와 비중 구하기 : 원하는 로열티 점수 k를 지정한다. \n",
    "k = 30\n",
    "\n",
    "n = 8230\n",
    "df_k_scored = df_scored[df_scored['loyalty_score'] >= k]\n",
    "x = df_k_scored['hp'].value_counts().sum()\n",
    "\n",
    "print('인원수 =' , x, '명')\n",
    "print('비중 =' , round(x/n*100, 2), '%')"
   ]
  },
  {
   "cell_type": "markdown",
   "id": "b728c2d9-bdee-451a-baf7-89325c6857ed",
   "metadata": {},
   "source": [
    "---"
   ]
  },
  {
   "cell_type": "code",
   "execution_count": 8,
   "id": "55369063-5123-4810-9601-bb5cfcdbf502",
   "metadata": {},
   "outputs": [],
   "source": [
    "k = range(0,105, 5)\n",
    "n_size = []\n",
    "n_per = []\n",
    "\n",
    "for i in k: \n",
    "    df_k_scored = df_scored[df_scored['loyalty_score'] >= i]\n",
    "    x = df_k_scored['hp'].value_counts().sum()\n",
    "    n_size.append(x)\n",
    "\n",
    "    x2 = round(x/n*100, 2)\n",
    "    n_per.append(x2) "
   ]
  },
  {
   "cell_type": "code",
   "execution_count": 9,
   "id": "8be116db-09aa-40fc-b833-c46f751193eb",
   "metadata": {},
   "outputs": [
    {
     "data": {
      "text/html": [
       "<div>\n",
       "<style scoped>\n",
       "    .dataframe tbody tr th:only-of-type {\n",
       "        vertical-align: middle;\n",
       "    }\n",
       "\n",
       "    .dataframe tbody tr th {\n",
       "        vertical-align: top;\n",
       "    }\n",
       "\n",
       "    .dataframe thead th {\n",
       "        text-align: right;\n",
       "    }\n",
       "</style>\n",
       "<table border=\"1\" class=\"dataframe\">\n",
       "  <thead>\n",
       "    <tr style=\"text-align: right;\">\n",
       "      <th></th>\n",
       "      <th>L_score</th>\n",
       "      <th>해당점수 이상 인원수</th>\n",
       "      <th>%</th>\n",
       "    </tr>\n",
       "  </thead>\n",
       "  <tbody>\n",
       "    <tr>\n",
       "      <th>0</th>\n",
       "      <td>0</td>\n",
       "      <td>8230</td>\n",
       "      <td>100.00</td>\n",
       "    </tr>\n",
       "    <tr>\n",
       "      <th>1</th>\n",
       "      <td>5</td>\n",
       "      <td>8228</td>\n",
       "      <td>99.98</td>\n",
       "    </tr>\n",
       "    <tr>\n",
       "      <th>2</th>\n",
       "      <td>10</td>\n",
       "      <td>8206</td>\n",
       "      <td>99.71</td>\n",
       "    </tr>\n",
       "    <tr>\n",
       "      <th>3</th>\n",
       "      <td>15</td>\n",
       "      <td>7764</td>\n",
       "      <td>94.34</td>\n",
       "    </tr>\n",
       "    <tr>\n",
       "      <th>4</th>\n",
       "      <td>20</td>\n",
       "      <td>6753</td>\n",
       "      <td>82.05</td>\n",
       "    </tr>\n",
       "    <tr>\n",
       "      <th>5</th>\n",
       "      <td>25</td>\n",
       "      <td>4690</td>\n",
       "      <td>56.99</td>\n",
       "    </tr>\n",
       "    <tr>\n",
       "      <th>6</th>\n",
       "      <td>30</td>\n",
       "      <td>2489</td>\n",
       "      <td>30.24</td>\n",
       "    </tr>\n",
       "    <tr>\n",
       "      <th>7</th>\n",
       "      <td>35</td>\n",
       "      <td>1942</td>\n",
       "      <td>23.60</td>\n",
       "    </tr>\n",
       "    <tr>\n",
       "      <th>8</th>\n",
       "      <td>40</td>\n",
       "      <td>1735</td>\n",
       "      <td>21.08</td>\n",
       "    </tr>\n",
       "    <tr>\n",
       "      <th>9</th>\n",
       "      <td>45</td>\n",
       "      <td>1171</td>\n",
       "      <td>14.23</td>\n",
       "    </tr>\n",
       "    <tr>\n",
       "      <th>10</th>\n",
       "      <td>50</td>\n",
       "      <td>596</td>\n",
       "      <td>7.24</td>\n",
       "    </tr>\n",
       "    <tr>\n",
       "      <th>11</th>\n",
       "      <td>55</td>\n",
       "      <td>214</td>\n",
       "      <td>2.60</td>\n",
       "    </tr>\n",
       "    <tr>\n",
       "      <th>12</th>\n",
       "      <td>60</td>\n",
       "      <td>97</td>\n",
       "      <td>1.18</td>\n",
       "    </tr>\n",
       "    <tr>\n",
       "      <th>13</th>\n",
       "      <td>65</td>\n",
       "      <td>47</td>\n",
       "      <td>0.57</td>\n",
       "    </tr>\n",
       "    <tr>\n",
       "      <th>14</th>\n",
       "      <td>70</td>\n",
       "      <td>22</td>\n",
       "      <td>0.27</td>\n",
       "    </tr>\n",
       "    <tr>\n",
       "      <th>15</th>\n",
       "      <td>75</td>\n",
       "      <td>10</td>\n",
       "      <td>0.12</td>\n",
       "    </tr>\n",
       "    <tr>\n",
       "      <th>16</th>\n",
       "      <td>80</td>\n",
       "      <td>7</td>\n",
       "      <td>0.09</td>\n",
       "    </tr>\n",
       "    <tr>\n",
       "      <th>17</th>\n",
       "      <td>85</td>\n",
       "      <td>7</td>\n",
       "      <td>0.09</td>\n",
       "    </tr>\n",
       "    <tr>\n",
       "      <th>18</th>\n",
       "      <td>90</td>\n",
       "      <td>4</td>\n",
       "      <td>0.05</td>\n",
       "    </tr>\n",
       "    <tr>\n",
       "      <th>19</th>\n",
       "      <td>95</td>\n",
       "      <td>3</td>\n",
       "      <td>0.04</td>\n",
       "    </tr>\n",
       "    <tr>\n",
       "      <th>20</th>\n",
       "      <td>100</td>\n",
       "      <td>1</td>\n",
       "      <td>0.01</td>\n",
       "    </tr>\n",
       "  </tbody>\n",
       "</table>\n",
       "</div>"
      ],
      "text/plain": [
       "    L_score  해당점수 이상 인원수       %\n",
       "0         0         8230  100.00\n",
       "1         5         8228   99.98\n",
       "2        10         8206   99.71\n",
       "3        15         7764   94.34\n",
       "4        20         6753   82.05\n",
       "5        25         4690   56.99\n",
       "6        30         2489   30.24\n",
       "7        35         1942   23.60\n",
       "8        40         1735   21.08\n",
       "9        45         1171   14.23\n",
       "10       50          596    7.24\n",
       "11       55          214    2.60\n",
       "12       60           97    1.18\n",
       "13       65           47    0.57\n",
       "14       70           22    0.27\n",
       "15       75           10    0.12\n",
       "16       80            7    0.09\n",
       "17       85            7    0.09\n",
       "18       90            4    0.05\n",
       "19       95            3    0.04\n",
       "20      100            1    0.01"
      ]
     },
     "execution_count": 9,
     "metadata": {},
     "output_type": "execute_result"
    }
   ],
   "source": [
    "k_list = list(k)\n",
    "\n",
    "df_xxxx = pd.DataFrame(zip(k_list, n_size, n_per), columns = ['L_score', '해당점수 이상 인원수', '%'])\n",
    "df_xxxx"
   ]
  },
  {
   "cell_type": "code",
   "execution_count": 10,
   "id": "1bb417d4-f881-4d20-9cb1-35859b51f208",
   "metadata": {},
   "outputs": [
    {
     "data": {
      "text/plain": [
       "<AxesSubplot:xlabel='L_score', ylabel='해당점수 이상 인원수'>"
      ]
     },
     "execution_count": 10,
     "metadata": {},
     "output_type": "execute_result"
    },
    {
     "data": {
      "image/png": "[encoded data removed]",
      "text/plain": [
       "<Figure size 432x288 with 1 Axes>"
      ]
     },
     "metadata": {
      "needs_background": "light"
     },
     "output_type": "display_data"
    }
   ],
   "source": [
    "sns.lineplot(data = df_xxxx, x='L_score', y='해당점수 이상 인원수')"
   ]
  },
  {
   "cell_type": "code",
   "execution_count": 11,
   "id": "c4529c9e-b906-4e4f-b6d1-b2e581cfba7a",
   "metadata": {},
   "outputs": [],
   "source": [
    "## 가정. 로열티 점수 각 60점, 30점을 기준으로 expert / core / beginner 군으로 등급구분 했을 경우 \n",
    "## 보정되기 전 원본데이터의 tot_sales가 필요하다. \n",
    "df_scored_w_raw_sales = pd.read_csv('data/df_scored_w_raw_sales.csv', encoding='euc-kr')\n",
    "\n",
    "df_expert = df_scored_w_raw_sales[df_scored_w_raw_sales['loyalty_score'] >= 60] \n",
    "df_core = df_scored_w_raw_sales[(df_scored_w_raw_sales['loyalty_score'] >= 30) & (df_scored['loyalty_score'] < 60)] \n",
    "df_beginner = df_scored_w_raw_sales[df_scored_w_raw_sales['loyalty_score'] < 30] "
   ]
  },
  {
   "cell_type": "code",
   "execution_count": 12,
   "id": "40212042-e53a-4dea-a1b1-1c28289fea9b",
   "metadata": {},
   "outputs": [
    {
     "name": "stdout",
     "output_type": "stream",
     "text": [
      "-Expert의 평균 매출금액 = 147614646.8\n",
      "-Core의 평균 매출금액 = 97368864.0\n",
      "-Beginner의 평균 매출금액 = 54992405.9\n"
     ]
    }
   ],
   "source": [
    "print(\"-Expert의 평균 매출금액 =\", round(np.mean(df_expert['raw_tot_sales']), 1))\n",
    "print(\"-Core의 평균 매출금액 =\", round(np.mean(df_core['raw_tot_sales']), 1))\n",
    "print(\"-Beginner의 평균 매출금액 =\", round(np.mean(df_beginner['raw_tot_sales']), 1))"
   ]
  },
  {
   "cell_type": "code",
   "execution_count": null,
   "id": "d60b4daa-88bc-4e1a-a419-d1cdd038a386",
   "metadata": {},
   "outputs": [],
   "source": []
  },
  {
   "cell_type": "code",
   "execution_count": null,
   "id": "d173ba23-7557-43c0-8c9d-7a8c5a50afd5",
   "metadata": {},
   "outputs": [],
   "source": []
  },
  {
   "cell_type": "code",
   "execution_count": 19,
   "id": "aa57cb04-a537-427a-81e0-8e7d1671bb74",
   "metadata": {},
   "outputs": [
    {
     "data": {
      "text/plain": [
       "X7        30\n",
       "X6        17\n",
       "740Li     11\n",
       "X5         8\n",
       "740i       8\n",
       "iX         4\n",
       "745Le      4\n",
       "M8         3\n",
       "M760Li     3\n",
       "M5         2\n",
       "i7         2\n",
       "840i       1\n",
       "530i       1\n",
       "730d       1\n",
       "740d       1\n",
       "730Ld      1\n",
       "Name: model_category, dtype: int64"
      ]
     },
     "execution_count": 19,
     "metadata": {},
     "output_type": "execute_result"
    }
   ],
   "source": [
    "df_expert['model_category'].value_counts()"
   ]
  },
  {
   "cell_type": "code",
   "execution_count": 18,
   "id": "8e9313fb-c2d9-48d1-944f-4171ba427e70",
   "metadata": {},
   "outputs": [
    {
     "data": {
      "text/plain": [
       "X5         597\n",
       "X6         418\n",
       "X7         355\n",
       "630i       199\n",
       "620d        82\n",
       "X3          77\n",
       "X4          73\n",
       "530e        60\n",
       "iX3         51\n",
       "740Li       37\n",
       "740i        36\n",
       "M340i       32\n",
       "M550i       31\n",
       "530i        30\n",
       "730Ld       30\n",
       "i4          29\n",
       "730d        24\n",
       "M4          23\n",
       "640i        22\n",
       "840i        22\n",
       "M440i       19\n",
       "M3          15\n",
       "745e        14\n",
       "Z4          14\n",
       "M850i       14\n",
       "iX          13\n",
       "540i        10\n",
       "520i         9\n",
       "745Le        9\n",
       "M5           8\n",
       "740d         8\n",
       "120i         5\n",
       "320i         4\n",
       "840d         4\n",
       "430i         2\n",
       "118d         2\n",
       "220i         2\n",
       "320d         2\n",
       "M5(F90)      2\n",
       "630d         2\n",
       "523d         1\n",
       "330e         1\n",
       "M2           1\n",
       "320e         1\n",
       "420d         1\n",
       "X1           1\n",
       "Name: model_category, dtype: int64"
      ]
     },
     "execution_count": 18,
     "metadata": {},
     "output_type": "execute_result"
    }
   ],
   "source": [
    "df_core['model_category'].value_counts()"
   ]
  },
  {
   "cell_type": "code",
   "execution_count": null,
   "id": "f5524ea0-682f-45ae-9b9b-b8098767994d",
   "metadata": {},
   "outputs": [],
   "source": []
  }
 ],
 "metadata": {
  "kernelspec": {
   "display_name": "Python 3 (ipykernel)",
   "language": "python",
   "name": "python3"
  },
  "language_info": {
   "codemirror_mode": {
    "name": "ipython",
    "version": 3
   },
   "file_extension": ".py",
   "mimetype": "text/x-python",
   "name": "python",
   "nbconvert_exporter": "python",
   "pygments_lexer": "ipython3",
   "version": "3.9.6"
  }
 },
 "nbformat": 4,
 "nbformat_minor": 5
}
