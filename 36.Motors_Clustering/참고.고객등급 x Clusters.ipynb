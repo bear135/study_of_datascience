{
 "cells": [
  {
   "cell_type": "code",
   "execution_count": 1,
   "id": "63b19e63-cf28-43fd-868e-2f35b773ab3b",
   "metadata": {},
   "outputs": [],
   "source": [
    "import numpy as np\n",
    "import pandas as pd\n",
    "import matplotlib.pyplot as plt \n",
    "import seaborn as sns \n",
    "import warnings \n",
    "warnings.filterwarnings('ignore')\n",
    "plt.rcParams['font.family'] = 'Malgun Gothic'\n",
    "plt.rc('axes',unicode_minus=False)"
   ]
  },
  {
   "cell_type": "code",
   "execution_count": 7,
   "id": "8703989a-da12-4dd0-afe1-89febd4eb58d",
   "metadata": {},
   "outputs": [
    {
     "data": {
      "text/plain": [
       "(8230, 30)"
      ]
     },
     "execution_count": 7,
     "metadata": {},
     "output_type": "execute_result"
    }
   ],
   "source": [
    "df_scored_w_raw_sales = pd.read_csv('data/df_scored_w_raw_sales.csv', encoding='euc-kr')\n",
    "df_scored_w_raw_sales.shape"
   ]
  },
  {
   "cell_type": "code",
   "execution_count": 8,
   "id": "b228a4f1-8cb8-4927-84a0-814843584a38",
   "metadata": {},
   "outputs": [
    {
     "data": {
      "text/html": [
       "<div>\n",
       "<style scoped>\n",
       "    .dataframe tbody tr th:only-of-type {\n",
       "        vertical-align: middle;\n",
       "    }\n",
       "\n",
       "    .dataframe tbody tr th {\n",
       "        vertical-align: top;\n",
       "    }\n",
       "\n",
       "    .dataframe thead th {\n",
       "        text-align: right;\n",
       "    }\n",
       "</style>\n",
       "<table border=\"1\" class=\"dataframe\">\n",
       "  <thead>\n",
       "    <tr style=\"text-align: right;\">\n",
       "      <th></th>\n",
       "      <th>customer_name</th>\n",
       "      <th>hp</th>\n",
       "      <th>customer_type</th>\n",
       "      <th>gender</th>\n",
       "      <th>birth_day</th>\n",
       "      <th>age_on_2023</th>\n",
       "      <th>show_room</th>\n",
       "      <th>series</th>\n",
       "      <th>model</th>\n",
       "      <th>model_category</th>\n",
       "      <th>...</th>\n",
       "      <th>nps_score</th>\n",
       "      <th>nps_category</th>\n",
       "      <th>log_nc_sales</th>\n",
       "      <th>log_service_sales</th>\n",
       "      <th>log_tot_sales</th>\n",
       "      <th>cluster_label</th>\n",
       "      <th>loyalty_score</th>\n",
       "      <th>raw_nc_sales</th>\n",
       "      <th>raw_service_sales</th>\n",
       "      <th>raw_tot_sales</th>\n",
       "    </tr>\n",
       "  </thead>\n",
       "  <tbody>\n",
       "    <tr>\n",
       "      <th>0</th>\n",
       "      <td>원종영</td>\n",
       "      <td>010-8837-4492</td>\n",
       "      <td>개인</td>\n",
       "      <td>male</td>\n",
       "      <td>1976-12-22</td>\n",
       "      <td>48</td>\n",
       "      <td>천안</td>\n",
       "      <td>5SERIES</td>\n",
       "      <td>520d xDrive</td>\n",
       "      <td>520d</td>\n",
       "      <td>...</td>\n",
       "      <td>9.0</td>\n",
       "      <td>3.promoter</td>\n",
       "      <td>17.883261</td>\n",
       "      <td>0.000000</td>\n",
       "      <td>17.883261</td>\n",
       "      <td>0</td>\n",
       "      <td>24.506772</td>\n",
       "      <td>58425386</td>\n",
       "      <td>-</td>\n",
       "      <td>58425386</td>\n",
       "    </tr>\n",
       "    <tr>\n",
       "      <th>1</th>\n",
       "      <td>김수미</td>\n",
       "      <td>010-9063-7762</td>\n",
       "      <td>개인</td>\n",
       "      <td>female</td>\n",
       "      <td>1993-09-20</td>\n",
       "      <td>31</td>\n",
       "      <td>천안</td>\n",
       "      <td>3SERIES</td>\n",
       "      <td>3GT 20d xDrive LCI</td>\n",
       "      <td>3GT</td>\n",
       "      <td>...</td>\n",
       "      <td>10.0</td>\n",
       "      <td>3.promoter</td>\n",
       "      <td>17.580255</td>\n",
       "      <td>12.868132</td>\n",
       "      <td>17.582050</td>\n",
       "      <td>3</td>\n",
       "      <td>17.212445</td>\n",
       "      <td>43152659</td>\n",
       "      <td>77551</td>\n",
       "      <td>43230210</td>\n",
       "    </tr>\n",
       "  </tbody>\n",
       "</table>\n",
       "<p>2 rows × 30 columns</p>\n",
       "</div>"
      ],
      "text/plain": [
       "  customer_name             hp customer_type  gender   birth_day  age_on_2023  \\\n",
       "0           원종영  010-8837-4492            개인    male  1976-12-22           48   \n",
       "1           김수미  010-9063-7762            개인  female  1993-09-20           31   \n",
       "\n",
       "  show_room   series               model model_category  ...  nps_score  \\\n",
       "0        천안  5SERIES         520d xDrive           520d  ...        9.0   \n",
       "1        천안  3SERIES  3GT 20d xDrive LCI            3GT  ...       10.0   \n",
       "\n",
       "   nps_category  log_nc_sales log_service_sales log_tot_sales cluster_label  \\\n",
       "0    3.promoter     17.883261          0.000000     17.883261             0   \n",
       "1    3.promoter     17.580255         12.868132     17.582050             3   \n",
       "\n",
       "   loyalty_score raw_nc_sales  raw_service_sales  raw_tot_sales  \n",
       "0      24.506772     58425386                 -        58425386  \n",
       "1      17.212445     43152659              77551       43230210  \n",
       "\n",
       "[2 rows x 30 columns]"
      ]
     },
     "execution_count": 8,
     "metadata": {},
     "output_type": "execute_result"
    }
   ],
   "source": [
    "df_scored_w_raw_sales.head(2)"
   ]
  },
  {
   "cell_type": "code",
   "execution_count": 11,
   "id": "1403a241-931a-464c-9f96-f88ef8c14e10",
   "metadata": {},
   "outputs": [
    {
     "name": "stdout",
     "output_type": "stream",
     "text": [
      "(97, 30)\n",
      "(2392, 30)\n",
      "(5741, 30)\n"
     ]
    }
   ],
   "source": [
    "df_expert = df_scored_w_raw_sales[df_scored_w_raw_sales['loyalty_score'] >= 60] \n",
    "df_core = df_scored_w_raw_sales[(df_scored_w_raw_sales['loyalty_score'] >= 30) & (df_scored_w_raw_sales['loyalty_score'] < 60)] \n",
    "df_beginner = df_scored_w_raw_sales[df_scored_w_raw_sales['loyalty_score'] < 30] \n",
    "\n",
    "print(df_expert.shape)\n",
    "print(df_core.shape)\n",
    "print(df_beginner.shape)"
   ]
  },
  {
   "cell_type": "markdown",
   "id": "fcc5bb67-e00d-4ae4-900a-436c0b90851e",
   "metadata": {},
   "source": [
    "#### - expert, core, beginner 등급의 구성인원 및 구성비 = 97명(1.2%), 2392명(29.0%), 5741명(69.7%) \n",
    "---- \n",
    "### - 각 등급별 앞서 분류했던 Clusters의 구성비는 다음과 같다. "
   ]
  },
  {
   "cell_type": "code",
   "execution_count": 20,
   "id": "cb3b4584-71d1-40d2-9d7b-5718cc79e1be",
   "metadata": {},
   "outputs": [
    {
     "name": "stdout",
     "output_type": "stream",
     "text": [
      "2    51\n",
      "1    46\n",
      "Name: cluster_label, dtype: int64\n"
     ]
    },
    {
     "data": {
      "text/plain": [
       "<AxesSubplot:xlabel='cluster_label', ylabel='count'>"
      ]
     },
     "execution_count": 20,
     "metadata": {},
     "output_type": "execute_result"
    },
    {
     "data": {
      "image/png": "[encoded data removed]",
      "text/plain": [
       "<Figure size 432x288 with 1 Axes>"
      ]
     },
     "metadata": {
      "needs_background": "light"
     },
     "output_type": "display_data"
    }
   ],
   "source": [
    "## expert 등급 \n",
    "cnt = df_expert['cluster_label'].value_counts()\n",
    "print(cnt)\n",
    "sns.countplot(data=df_expert, x= 'cluster_label')"
   ]
  },
  {
   "cell_type": "markdown",
   "id": "e88ce346-feb8-47c1-85df-3ce11e3bbc11",
   "metadata": {},
   "source": []
  },
  {
   "cell_type": "code",
   "execution_count": 21,
   "id": "bd0f8ff4-dc64-4fc8-a140-36d2ec96b90f",
   "metadata": {},
   "outputs": [
    {
     "name": "stdout",
     "output_type": "stream",
     "text": [
      "2    1035\n",
      "1     969\n",
      "0     198\n",
      "3     190\n",
      "Name: cluster_label, dtype: int64\n"
     ]
    },
    {
     "data": {
      "text/plain": [
       "<AxesSubplot:xlabel='cluster_label', ylabel='count'>"
      ]
     },
     "execution_count": 21,
     "metadata": {},
     "output_type": "execute_result"
    },
    {
     "data": {
      "image/png": "[encoded data removed]",
      "text/plain": [
       "<Figure size 432x288 with 1 Axes>"
      ]
     },
     "metadata": {
      "needs_background": "light"
     },
     "output_type": "display_data"
    }
   ],
   "source": [
    "## core등급 \n",
    "cnt = df_core['cluster_label'].value_counts()\n",
    "print(cnt)\n",
    "sns.countplot(data=df_core, x= 'cluster_label')"
   ]
  },
  {
   "cell_type": "code",
   "execution_count": 22,
   "id": "99f5c21b-0c37-47cb-bc45-39d89cb7f10f",
   "metadata": {},
   "outputs": [
    {
     "name": "stdout",
     "output_type": "stream",
     "text": [
      "0    3002\n",
      "3    2739\n",
      "Name: cluster_label, dtype: int64\n"
     ]
    },
    {
     "data": {
      "text/plain": [
       "<AxesSubplot:xlabel='cluster_label', ylabel='count'>"
      ]
     },
     "execution_count": 22,
     "metadata": {},
     "output_type": "execute_result"
    },
    {
     "data": {
      "image/png": "[encoded data removed]",
      "text/plain": [
       "<Figure size 432x288 with 1 Axes>"
      ]
     },
     "metadata": {
      "needs_background": "light"
     },
     "output_type": "display_data"
    }
   ],
   "source": [
    "## beginner 등급 \n",
    "cnt = df_beginner['cluster_label'].value_counts()\n",
    "print(cnt)\n",
    "sns.countplot(data=df_beginner, x= 'cluster_label')"
   ]
  },
  {
   "cell_type": "code",
   "execution_count": null,
   "id": "7e4b37d3-2e09-408a-988d-4cb718c4edc1",
   "metadata": {},
   "outputs": [],
   "source": []
  }
 ],
 "metadata": {
  "kernelspec": {
   "display_name": "Python 3 (ipykernel)",
   "language": "python",
   "name": "python3"
  },
  "language_info": {
   "codemirror_mode": {
    "name": "ipython",
    "version": 3
   },
   "file_extension": ".py",
   "mimetype": "text/x-python",
   "name": "python",
   "nbconvert_exporter": "python",
   "pygments_lexer": "ipython3",
   "version": "3.9.6"
  }
 },
 "nbformat": 4,
 "nbformat_minor": 5
}
