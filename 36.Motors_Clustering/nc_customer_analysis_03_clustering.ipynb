{
 "cells": [
  {
   "cell_type": "markdown",
   "id": "786327a8-0fcd-4c8c-a9bb-895689557ebd",
   "metadata": {},
   "source": [
    "### 모터스 고객등급제 개편을 위한 분석 - 3. K-means clustering\n",
    "--- \n",
    "  1) 분석에 필요한 변수들만 추출 \n",
    "  2) 매출금액에 StandardScaler 적용 \n",
    "  3) K-means 실행 \n",
    "--- "
   ]
  },
  {
   "cell_type": "code",
   "execution_count": 1,
   "id": "d2d58695-c941-475f-b688-972ee2a3dfca",
   "metadata": {},
   "outputs": [],
   "source": [
    "import numpy as np\n",
    "import pandas as pd\n",
    "import matplotlib.pyplot as plt \n",
    "import seaborn as sns \n",
    "import warnings \n",
    "warnings.filterwarnings('ignore')\n",
    "plt.rcParams['font.family'] = 'Malgun Gothic'\n",
    "plt.rc('axes',unicode_minus=False)"
   ]
  },
  {
   "cell_type": "code",
   "execution_count": 2,
   "id": "1603073c-4a9b-49b2-99e3-24647ef168d6",
   "metadata": {},
   "outputs": [
    {
     "name": "stdout",
     "output_type": "stream",
     "text": [
      "(8230, 25)\n",
      "Index(['customer_name', 'hp', 'customer_type', 'gender', 'birth_day',\n",
      "       'age_on_2023', 'show_room', 'series', 'model', 'model_category',\n",
      "       'nc_sales', 'service_sales', 'tot_sales', '2023_sf_end', 'sf_due_date',\n",
      "       'sf_real_end_date', 'sf_early_end_months', 'sf_early_end_yn',\n",
      "       'nc_purchase_count', 'service_count', 'nps_score', 'nps_category',\n",
      "       'log_nc_sales', 'log_service_sales', 'log_tot_sales'],\n",
      "      dtype='object')\n"
     ]
    },
    {
     "data": {
      "text/html": [
       "<div>\n",
       "<style scoped>\n",
       "    .dataframe tbody tr th:only-of-type {\n",
       "        vertical-align: middle;\n",
       "    }\n",
       "\n",
       "    .dataframe tbody tr th {\n",
       "        vertical-align: top;\n",
       "    }\n",
       "\n",
       "    .dataframe thead th {\n",
       "        text-align: right;\n",
       "    }\n",
       "</style>\n",
       "<table border=\"1\" class=\"dataframe\">\n",
       "  <thead>\n",
       "    <tr style=\"text-align: right;\">\n",
       "      <th></th>\n",
       "      <th>customer_name</th>\n",
       "      <th>hp</th>\n",
       "      <th>customer_type</th>\n",
       "      <th>gender</th>\n",
       "      <th>birth_day</th>\n",
       "      <th>age_on_2023</th>\n",
       "      <th>show_room</th>\n",
       "      <th>series</th>\n",
       "      <th>model</th>\n",
       "      <th>model_category</th>\n",
       "      <th>...</th>\n",
       "      <th>sf_real_end_date</th>\n",
       "      <th>sf_early_end_months</th>\n",
       "      <th>sf_early_end_yn</th>\n",
       "      <th>nc_purchase_count</th>\n",
       "      <th>service_count</th>\n",
       "      <th>nps_score</th>\n",
       "      <th>nps_category</th>\n",
       "      <th>log_nc_sales</th>\n",
       "      <th>log_service_sales</th>\n",
       "      <th>log_tot_sales</th>\n",
       "    </tr>\n",
       "  </thead>\n",
       "  <tbody>\n",
       "    <tr>\n",
       "      <th>0</th>\n",
       "      <td>원종영</td>\n",
       "      <td>010-8837-4492</td>\n",
       "      <td>개인</td>\n",
       "      <td>male</td>\n",
       "      <td>1976-12-22</td>\n",
       "      <td>48.0</td>\n",
       "      <td>천안</td>\n",
       "      <td>5SERIES</td>\n",
       "      <td>520d xDrive</td>\n",
       "      <td>520d</td>\n",
       "      <td>...</td>\n",
       "      <td>NaN</td>\n",
       "      <td>NaN</td>\n",
       "      <td>NaN</td>\n",
       "      <td>1</td>\n",
       "      <td>0</td>\n",
       "      <td>9.0</td>\n",
       "      <td>3.promoter</td>\n",
       "      <td>17.883261</td>\n",
       "      <td>0.000000</td>\n",
       "      <td>17.883261</td>\n",
       "    </tr>\n",
       "    <tr>\n",
       "      <th>1</th>\n",
       "      <td>김수미</td>\n",
       "      <td>010-9063-7762</td>\n",
       "      <td>개인</td>\n",
       "      <td>female</td>\n",
       "      <td>1993-09-20</td>\n",
       "      <td>31.0</td>\n",
       "      <td>천안</td>\n",
       "      <td>3SERIES</td>\n",
       "      <td>3GT 20d xDrive LCI</td>\n",
       "      <td>3GT</td>\n",
       "      <td>...</td>\n",
       "      <td>NaN</td>\n",
       "      <td>NaN</td>\n",
       "      <td>NaN</td>\n",
       "      <td>1</td>\n",
       "      <td>1</td>\n",
       "      <td>10.0</td>\n",
       "      <td>3.promoter</td>\n",
       "      <td>17.580255</td>\n",
       "      <td>12.868132</td>\n",
       "      <td>17.582050</td>\n",
       "    </tr>\n",
       "  </tbody>\n",
       "</table>\n",
       "<p>2 rows × 25 columns</p>\n",
       "</div>"
      ],
      "text/plain": [
       "  customer_name             hp customer_type  gender   birth_day  age_on_2023  \\\n",
       "0           원종영  010-8837-4492            개인    male  1976-12-22         48.0   \n",
       "1           김수미  010-9063-7762            개인  female  1993-09-20         31.0   \n",
       "\n",
       "  show_room   series               model model_category  ...  \\\n",
       "0        천안  5SERIES         520d xDrive           520d  ...   \n",
       "1        천안  3SERIES  3GT 20d xDrive LCI            3GT  ...   \n",
       "\n",
       "   sf_real_end_date  sf_early_end_months  sf_early_end_yn nc_purchase_count  \\\n",
       "0               NaN                  NaN              NaN                 1   \n",
       "1               NaN                  NaN              NaN                 1   \n",
       "\n",
       "  service_count nps_score  nps_category log_nc_sales  log_service_sales  \\\n",
       "0             0       9.0    3.promoter    17.883261           0.000000   \n",
       "1             1      10.0    3.promoter    17.580255          12.868132   \n",
       "\n",
       "   log_tot_sales  \n",
       "0      17.883261  \n",
       "1      17.582050  \n",
       "\n",
       "[2 rows x 25 columns]"
      ]
     },
     "execution_count": 2,
     "metadata": {},
     "output_type": "execute_result"
    }
   ],
   "source": [
    "## 1. Dataset loading \n",
    "df = pd.read_csv('data/dataset_after_log.csv', encoding = 'euc-kr')\n",
    "print( df.shape )\n",
    "print( df.columns )\n",
    "df.head(2)"
   ]
  },
  {
   "cell_type": "code",
   "execution_count": 3,
   "id": "2cf56050-7292-4f8a-a1d9-961c892e8510",
   "metadata": {},
   "outputs": [
    {
     "data": {
      "text/plain": [
       "(8230, 25)"
      ]
     },
     "execution_count": 3,
     "metadata": {},
     "output_type": "execute_result"
    }
   ],
   "source": [
    "## 혹시 몰라서 카피해 둠 ... \n",
    "df2 = df.copy()\n",
    "df2.shape"
   ]
  },
  {
   "cell_type": "code",
   "execution_count": 4,
   "id": "d2ad3838-2ae9-4e91-9825-67bf289e6d90",
   "metadata": {},
   "outputs": [],
   "source": [
    "## 3. 변수들에 표준화 적용 \n",
    "from sklearn.preprocessing import StandardScaler\n",
    "from sklearn.cluster import KMeans\n",
    "from sklearn.metrics import silhouette_score, silhouette_samples\n",
    "\n",
    "X_features = df2[['log_nc_sales', 'log_service_sales']] \n",
    "X_features_scaled = StandardScaler().fit_transform(X_features) "
   ]
  },
  {
   "cell_type": "markdown",
   "id": "c2c0c805-5d3b-4e0f-a908-1aa06717fc49",
   "metadata": {},
   "source": [
    "--- \n",
    "### K-means 실행 \n",
    "- 실루엣 계수는 -1~1 사이의 값을 가지며 1에 가까울 수록 근처 군집과 멀리 떨어져 있음을, 0에 가까울수록 근처 군집과 가까움을 의미\n",
    "- 각 데이터에 대해 실루엣 계수를 구한 후 평균 ->  일반적으로 이 값이 크면(1에 가까우면) 군집화가 어느정도 잘 되었다고 판단\n",
    "- 참고문헌 1. https://jominseoo.tistory.com/38 \n",
    "- 참고문헌 2. https://deepkerry.tistory.com/2\n",
    "--- "
   ]
  },
  {
   "cell_type": "code",
   "execution_count": 5,
   "id": "5f74b213-b729-425e-9c46-b742fc9a6749",
   "metadata": {},
   "outputs": [
    {
     "name": "stdout",
     "output_type": "stream",
     "text": [
      "- K=2일때 silhouette_score = 0.524\n"
     ]
    }
   ],
   "source": [
    "kmeans = KMeans(n_clusters=2, random_state=0)\n",
    "labels = kmeans.fit_predict(X_features_scaled)\n",
    "df2['cluster_label'] = labels\n",
    "\n",
    "y2 = silhouette_score(X_features_scaled, labels)\n",
    "print('- K=2일때 silhouette_score = {0:.3f}'.format(silhouette_score(X_features_scaled, labels)))"
   ]
  },
  {
   "cell_type": "code",
   "execution_count": 6,
   "id": "e80fd9cd-a9cf-4287-930c-9a376344f7c5",
   "metadata": {},
   "outputs": [
    {
     "name": "stdout",
     "output_type": "stream",
     "text": [
      "- K=3일때 silhouette_score = 0.573\n"
     ]
    }
   ],
   "source": [
    "kmeans = KMeans(n_clusters=3, random_state=0)\n",
    "labels = kmeans.fit_predict(X_features_scaled)\n",
    "df2['cluster_label'] = labels\n",
    "\n",
    "y3 = silhouette_score(X_features_scaled, labels)\n",
    "print('- K=3일때 silhouette_score = {0:.3f}'.format(silhouette_score(X_features_scaled, labels)))"
   ]
  },
  {
   "cell_type": "code",
   "execution_count": 7,
   "id": "984bd280-c835-402b-9bbf-178ef935b961",
   "metadata": {},
   "outputs": [
    {
     "name": "stdout",
     "output_type": "stream",
     "text": [
      "- K=4일때 silhouette_score = 0.609\n"
     ]
    }
   ],
   "source": [
    "kmeans = KMeans(n_clusters=4, random_state=0)\n",
    "labels = kmeans.fit_predict(X_features_scaled)\n",
    "df2['cluster_label'] = labels\n",
    "\n",
    "y4 = silhouette_score(X_features_scaled, labels)\n",
    "print('- K=4일때 silhouette_score = {0:.3f}'.format(silhouette_score(X_features_scaled, labels)))"
   ]
  },
  {
   "cell_type": "code",
   "execution_count": 8,
   "id": "55760994-1fa5-42c5-b60e-e45f92c548b3",
   "metadata": {},
   "outputs": [
    {
     "name": "stdout",
     "output_type": "stream",
     "text": [
      "- K=5일때 silhouette_score = 0.605\n"
     ]
    }
   ],
   "source": [
    "kmeans = KMeans(n_clusters=5, random_state=0)\n",
    "labels = kmeans.fit_predict(X_features_scaled)\n",
    "df2['cluster_label'] = labels\n",
    "\n",
    "y5 = silhouette_score(X_features_scaled, labels)\n",
    "print('- K=5일때 silhouette_score = {0:.3f}'.format(silhouette_score(X_features_scaled, labels)))"
   ]
  },
  {
   "cell_type": "code",
   "execution_count": 9,
   "id": "9958b58d-c39f-4a35-83ed-1bdb662b7d28",
   "metadata": {},
   "outputs": [
    {
     "name": "stdout",
     "output_type": "stream",
     "text": [
      "- K=6일때 silhouette_score = 0.595\n"
     ]
    }
   ],
   "source": [
    "kmeans = KMeans(n_clusters=6, random_state=0)\n",
    "labels = kmeans.fit_predict(X_features_scaled)\n",
    "df2['cluster_label'] = labels\n",
    "\n",
    "y6 = silhouette_score(X_features_scaled, labels)\n",
    "print('- K=6일때 silhouette_score = {0:.3f}'.format(silhouette_score(X_features_scaled, labels)))"
   ]
  },
  {
   "cell_type": "code",
   "execution_count": 10,
   "id": "2ec50632-8f54-4ed3-8d03-3cfe334bf029",
   "metadata": {},
   "outputs": [
    {
     "name": "stdout",
     "output_type": "stream",
     "text": [
      "- K=7일때 silhouette_score = 0.541\n"
     ]
    }
   ],
   "source": [
    "kmeans = KMeans(n_clusters=7, random_state=0)\n",
    "labels = kmeans.fit_predict(X_features_scaled)\n",
    "df2['cluster_label'] = labels\n",
    "\n",
    "y7 = silhouette_score(X_features_scaled, labels)\n",
    "print('- K=7일때 silhouette_score = {0:.3f}'.format(silhouette_score(X_features_scaled, labels)))"
   ]
  },
  {
   "cell_type": "code",
   "execution_count": 11,
   "id": "1c728784-5bc5-44aa-89f1-53acfb1a95ae",
   "metadata": {},
   "outputs": [
    {
     "data": {
      "image/png": "[encoded data removed]",
      "text/plain": [
       "<Figure size 432x288 with 1 Axes>"
      ]
     },
     "metadata": {
      "needs_background": "light"
     },
     "output_type": "display_data"
    }
   ],
   "source": [
    "x = np.arange(2,8)\n",
    "y = [y2, y3, y4, y5, y6, y7]\n",
    "\n",
    "plt.plot(x,y)\n",
    "plt.show()"
   ]
  },
  {
   "cell_type": "markdown",
   "id": "b967bdd4-dfc9-494e-af00-b833bb1ab7c3",
   "metadata": {},
   "source": [
    "- k=4일때의 군집화가 효율적인 것으로 보인다. \n",
    "--- \n",
    "#### K-means 군집화 결과 평가 "
   ]
  },
  {
   "cell_type": "code",
   "execution_count": 12,
   "id": "43c5b786-d256-487e-9adc-ecdcc4570ce8",
   "metadata": {},
   "outputs": [],
   "source": [
    "#군집 개수별로 군집화 구성을 시각화 하는 함수\n",
    "def visualize_kmeans_plot_multi(cluster_lists, X_features):\n",
    "    \n",
    "    from sklearn.cluster import KMeans\n",
    "    from sklearn.decomposition import PCA\n",
    "    import pandas as pd\n",
    "    import numpy as np\n",
    "    \n",
    "    # plt.subplots()으로 리스트에 기재된 클러스터링 만큼의 sub figures를 가지는 axs 생성 \n",
    "    n_cols = len(cluster_lists)\n",
    "    fig, axs = plt.subplots(figsize=(4*n_cols, 4), nrows=1, ncols=n_cols)\n",
    "    \n",
    "    # 입력 데이터의 FEATURE가 여러개일 경우 2차원 데이터 시각화가 어려우므로 PCA 변환하여 2차원 시각화\n",
    "    pca = PCA(n_components=2)\n",
    "    pca_transformed = pca.fit_transform(X_features)\n",
    "    dataframe = pd.DataFrame(pca_transformed, columns=['PCA1','PCA2'])\n",
    "    \n",
    "     # 리스트에 기재된 클러스터링 갯수들을 차례로 iteration 수행하면서 KMeans 클러스터링 수행하고 시각화\n",
    "    for ind, n_cluster in enumerate(cluster_lists):\n",
    "        \n",
    "        # KMeans 클러스터링으로 클러스터링 결과를 dataframe에 저장. \n",
    "        clusterer = KMeans(n_clusters = n_cluster, max_iter=500, random_state=0)\n",
    "        cluster_labels = clusterer.fit_predict(pca_transformed)\n",
    "        dataframe['cluster']=cluster_labels\n",
    "        \n",
    "        unique_labels = np.unique(clusterer.labels_)\n",
    "        markers=['o', 's', '^', 'x', '*']\n",
    "       \n",
    "        # 클러스터링 결과값 별로 scatter plot 으로 시각화\n",
    "        for label in unique_labels:\n",
    "            label_df = dataframe[dataframe['cluster']==label]\n",
    "            if label == -1:\n",
    "                cluster_legend = 'Noise'\n",
    "            else :\n",
    "                cluster_legend = 'Cluster '+str(label)           \n",
    "            axs[ind].scatter(x=label_df['PCA1'], y=label_df['PCA2'], s=70,\\\n",
    "                        edgecolor='k', marker=markers[label], label=cluster_legend)\n",
    "\n",
    "        axs[ind].set_title('Number of Cluster : '+ str(n_cluster))    \n",
    "        axs[ind].legend(loc='upper right')\n",
    "    \n",
    "    plt.show()"
   ]
  },
  {
   "cell_type": "code",
   "execution_count": 13,
   "id": "999ab936-281a-4063-b762-a133c25ef024",
   "metadata": {},
   "outputs": [
    {
     "data": {
      "image/png": "[encoded data removed]",
      "text/plain": [
       "<Figure size 864x288 with 3 Axes>"
      ]
     },
     "metadata": {
      "needs_background": "light"
     },
     "output_type": "display_data"
    }
   ],
   "source": [
    "# 군집 개수를 3~5개까지 변화시켜가며 군집화 구성 시각화\n",
    "visualize_kmeans_plot_multi([3,4,5], X_features_scaled)"
   ]
  },
  {
   "cell_type": "code",
   "execution_count": 14,
   "id": "ac3055f8-714c-4055-8df6-adec1ed03739",
   "metadata": {},
   "outputs": [],
   "source": [
    "### 여러개의 클러스터링 갯수를 List로 입력 받아 각각의 실루엣 계수를 면적으로 시각화한 함수 작성\n",
    "def visualize_silhouette(cluster_lists, X_features):     \n",
    "    from sklearn.datasets import make_blobs\n",
    "    from sklearn.cluster import KMeans\n",
    "    from sklearn.metrics import silhouette_samples, silhouette_score\n",
    "\n",
    "    import matplotlib.pyplot as plt\n",
    "    import matplotlib.cm as cm\n",
    "    import math\n",
    "   \n",
    "    # 입력값으로 클러스터링 갯수들을 리스트로 받아서, 각 갯수별로 클러스터링을 적용하고 실루엣 개수를 구함\n",
    "    n_cols = len(cluster_lists)\n",
    "   \n",
    "    # plt.subplots()으로 리스트에 기재된 클러스터링 수만큼의 sub figures를 가지는 axs 생성 \n",
    "    fig, axs = plt.subplots(figsize=(4*n_cols, 4), nrows=1, ncols=n_cols)\n",
    "   \n",
    "    # 리스트에 기재된 클러스터링 갯수들을 차례로 iteration 수행하면서 실루엣 개수 시각화\n",
    "    for ind, n_cluster in enumerate(cluster_lists):\n",
    "       \n",
    "        # KMeans 클러스터링 수행하고, 실루엣 스코어와 개별 데이터의 실루엣 값 계산. \n",
    "        clusterer = KMeans(n_clusters = n_cluster, max_iter=500, random_state=0)\n",
    "        cluster_labels = clusterer.fit_predict(X_features)\n",
    "       \n",
    "        sil_avg = silhouette_score(X_features, cluster_labels)\n",
    "        sil_values = silhouette_samples(X_features, cluster_labels)\n",
    "       \n",
    "        y_lower = 10\n",
    "        axs[ind].set_title('Number of Cluster : '+ str(n_cluster)+'\\n' \\\n",
    "                          'Silhouette Score :' + str(round(sil_avg,3)) )\n",
    "        axs[ind].set_xlabel(\"The silhouette coefficient values\")\n",
    "        axs[ind].set_ylabel(\"Cluster label\")\n",
    "        axs[ind].set_xlim([-0.1, 1])\n",
    "        axs[ind].set_ylim([0, len(X_features) + (n_cluster + 1) * 10])\n",
    "        axs[ind].set_yticks([])  # Clear the yaxis labels / ticks\n",
    "        axs[ind].set_xticks([0, 0.2, 0.4, 0.6, 0.8, 1])\n",
    "       \n",
    "        # 클러스터링 갯수별로 fill_betweenx( )형태의 막대 그래프 표현. \n",
    "        for i in range(n_cluster):\n",
    "            ith_cluster_sil_values = sil_values[cluster_labels==i]\n",
    "            ith_cluster_sil_values.sort()\n",
    "           \n",
    "            size_cluster_i = ith_cluster_sil_values.shape[0]\n",
    "            y_upper = y_lower + size_cluster_i\n",
    "           \n",
    "            color = cm.nipy_spectral(float(i) / n_cluster)\n",
    "            axs[ind].fill_betweenx(np.arange(y_lower, y_upper), 0, ith_cluster_sil_values, \\\n",
    "                                facecolor=color, edgecolor=color, alpha=0.7)\n",
    "            axs[ind].text(-0.05, y_lower + 0.5 * size_cluster_i, str(i))\n",
    "            y_lower = y_upper + 10\n",
    "\n",
    "        axs[ind].axvline(x=sil_avg, color=\"red\", linestyle=\"--\")"
   ]
  },
  {
   "cell_type": "code",
   "execution_count": 15,
   "id": "80f0bdc4-e282-4699-81fe-d4a6721f3646",
   "metadata": {},
   "outputs": [
    {
     "data": {
      "image/png": "[encoded data removed]",
      "text/plain": [
       "<Figure size 864x288 with 3 Axes>"
      ]
     },
     "metadata": {
      "needs_background": "light"
     },
     "output_type": "display_data"
    }
   ],
   "source": [
    "visualize_silhouette([3,4,5], X_features_scaled)"
   ]
  },
  {
   "cell_type": "markdown",
   "id": "ba600fb9-1bf2-4730-a6ed-bd8d35049045",
   "metadata": {},
   "source": [
    "- 군집별로 비교적 고르게 구분된 k=4이 적당해 보인다. (붉은선 우측의 면적이 집단별로 가장 비슷 함)"
   ]
  },
  {
   "cell_type": "code",
   "execution_count": 16,
   "id": "58cdbf51-d4bb-4a3a-9aae-4caf0269ec69",
   "metadata": {},
   "outputs": [],
   "source": [
    "## k=4로 군집화된 데이터 내보내기 \n",
    "kmeans = KMeans(n_clusters=4, random_state=0)\n",
    "labels = kmeans.fit_predict(X_features_scaled)\n",
    "df2['cluster_label'] = labels\n",
    "\n",
    "df2.to_csv('data/output.csv', index=False, encoding = 'euc-kr')"
   ]
  },
  {
   "cell_type": "markdown",
   "id": "ac0ddc25-505b-4a9e-8c8b-832fd0805e9b",
   "metadata": {},
   "source": [
    "--- \n",
    "#### comments \n",
    "- 만족스럽지는 않지만, nc_sales와 service_sales 만으로도 4개 그룹으로 군집화가 되었다. \n",
    "- 매출금액과는 다른 속성의 변수, 예를 들어 BDC call 응답율 데이터가 추가된다면 보다 나은 군집화가 가능하지 않을까? \n",
    "- 다음 스텝으로는 구분된 4개 그룹별로 성/연령/시리즈/평균 매출액 등을 비교하여, 차별점을 찾아보자. \n",
    "--- "
   ]
  },
  {
   "cell_type": "code",
   "execution_count": null,
   "id": "c52b1589-cfda-4ebb-9bc6-86ac516a8f07",
   "metadata": {},
   "outputs": [],
   "source": []
  }
 ],
 "metadata": {
  "kernelspec": {
   "display_name": "Python 3 (ipykernel)",
   "language": "python",
   "name": "python3"
  },
  "language_info": {
   "codemirror_mode": {
    "name": "ipython",
    "version": 3
   },
   "file_extension": ".py",
   "mimetype": "text/x-python",
   "name": "python",
   "nbconvert_exporter": "python",
   "pygments_lexer": "ipython3",
   "version": "3.9.6"
  }
 },
 "nbformat": 4,
 "nbformat_minor": 5
}
